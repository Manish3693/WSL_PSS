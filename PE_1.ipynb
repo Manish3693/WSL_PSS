{
 "cells": [
  {
   "cell_type": "code",
   "execution_count": 2,
   "metadata": {},
   "outputs": [
    {
     "data": {
      "text/html": [
       "    <style>\n",
       "        .bk-notebook-logo {\n",
       "            display: block;\n",
       "            width: 20px;\n",
       "            height: 20px;\n",
       "            background-image: url(data:image/png;base64,iVBORw0KGgoAAAANSUhEUgAAABQAAAAUCAYAAACNiR0NAAAABHNCSVQICAgIfAhkiAAAAAlwSFlzAAALEgAACxIB0t1+/AAAABx0RVh0U29mdHdhcmUAQWRvYmUgRmlyZXdvcmtzIENTNui8sowAAAOkSURBVDiNjZRtaJVlGMd/1/08zzln5zjP1LWcU9N0NkN8m2CYjpgQYQXqSs0I84OLIC0hkEKoPtiH3gmKoiJDU7QpLgoLjLIQCpEsNJ1vqUOdO7ppbuec5+V+rj4ctwzd8IIbbi6u+8f1539dt3A78eXC7QizUF7gyV1fD1Yqg4JWz84yffhm0qkFqBogB9rM8tZdtwVsPUhWhGcFJngGeWrPzHm5oaMmkfEg1usvLFyc8jLRqDOMru7AyC8saQr7GG7f5fvDeH7Ej8CM66nIF+8yngt6HWaKh7k49Soy9nXurCi1o3qUbS3zWfrYeQDTB/Qj6kX6Ybhw4B+bOYoLKCC9H3Nu/leUTZ1JdRWkkn2ldcCamzrcf47KKXdAJllSlxAOkRgyHsGC/zRday5Qld9DyoM4/q/rUoy/CXh3jzOu3bHUVZeU+DEn8FInkPBFlu3+nW3Nw0mk6vCDiWg8CeJaxEwuHS3+z5RgY+YBR6V1Z1nxSOfoaPa4LASWxxdNp+VWTk7+4vzaou8v8PN+xo+KY2xsw6une2frhw05CTYOmQvsEhjhWjn0bmXPjpE1+kplmmkP3suftwTubK9Vq22qKmrBhpY4jvd5afdRA3wGjFAgcnTK2s4hY0/GPNIb0nErGMCRxWOOX64Z8RAC4oCXdklmEvcL8o0BfkNK4lUg9HTl+oPlQxdNo3Mg4Nv175e/1LDGzZen30MEjRUtmXSfiTVu1kK8W4txyV6BMKlbgk3lMwYCiusNy9fVfvvwMxv8Ynl6vxoByANLTWplvuj/nF9m2+PDtt1eiHPBr1oIfhCChQMBw6Aw0UulqTKZdfVvfG7VcfIqLG9bcldL/+pdWTLxLUy8Qq38heUIjh4XlzZxzQm19lLFlr8vdQ97rjZVOLf8nclzckbcD4wxXMidpX30sFd37Fv/GtwwhzhxGVAprjbg0gCAEeIgwCZyTV2Z1REEW8O4py0wsjeloKoMr6iCY6dP92H6Vw/oTyICIthibxjm/DfN9lVz8IqtqKYLUXfoKVMVQVVJOElGjrnnUt9T9wbgp8AyYKaGlqingHZU/uG2NTZSVqwHQTWkx9hxjkpWDaCg6Ckj5qebgBVbT3V3NNXMSiWSDdGV3hrtzla7J+duwPOToIg42ChPQOQjspnSlp1V+Gjdged7+8UN5CRAV7a5EdFNwCjEaBR27b3W890TE7g24NAP/mMDXRWrGoFPQI9ls/MWO2dWFAar/xcOIImbbpA3zgAAAABJRU5ErkJggg==);\n",
       "        }\n",
       "    </style>\n",
       "    <div>\n",
       "        <a href=\"https://bokeh.org\" target=\"_blank\" class=\"bk-notebook-logo\"></a>\n",
       "        <span id=\"a623263e-29d6-4f33-81f4-2f01036fe92a\">Loading BokehJS ...</span>\n",
       "    </div>\n"
      ]
     },
     "metadata": {},
     "output_type": "display_data"
    },
    {
     "data": {
      "application/javascript": "(function(root) {\n  function now() {\n    return new Date();\n  }\n\n  const force = true;\n\n  if (typeof root._bokeh_onload_callbacks === \"undefined\" || force === true) {\n    root._bokeh_onload_callbacks = [];\n    root._bokeh_is_loading = undefined;\n  }\n\nconst JS_MIME_TYPE = 'application/javascript';\n  const HTML_MIME_TYPE = 'text/html';\n  const EXEC_MIME_TYPE = 'application/vnd.bokehjs_exec.v0+json';\n  const CLASS_NAME = 'output_bokeh rendered_html';\n\n  /**\n   * Render data to the DOM node\n   */\n  function render(props, node) {\n    const script = document.createElement(\"script\");\n    node.appendChild(script);\n  }\n\n  /**\n   * Handle when an output is cleared or removed\n   */\n  function handleClearOutput(event, handle) {\n    function drop(id) {\n      const view = Bokeh.index.get_by_id(id)\n      if (view != null) {\n        view.model.document.clear()\n        Bokeh.index.delete(view)\n      }\n    }\n\n    const cell = handle.cell;\n\n    const id = cell.output_area._bokeh_element_id;\n    const server_id = cell.output_area._bokeh_server_id;\n\n    // Clean up Bokeh references\n    if (id != null) {\n      drop(id)\n    }\n\n    if (server_id !== undefined) {\n      // Clean up Bokeh references\n      const cmd_clean = \"from bokeh.io.state import curstate; print(curstate().uuid_to_server['\" + server_id + \"'].get_sessions()[0].document.roots[0]._id)\";\n      cell.notebook.kernel.execute(cmd_clean, {\n        iopub: {\n          output: function(msg) {\n            const id = msg.content.text.trim()\n            drop(id)\n          }\n        }\n      });\n      // Destroy server and session\n      const cmd_destroy = \"import bokeh.io.notebook as ion; ion.destroy_server('\" + server_id + \"')\";\n      cell.notebook.kernel.execute(cmd_destroy);\n    }\n  }\n\n  /**\n   * Handle when a new output is added\n   */\n  function handleAddOutput(event, handle) {\n    const output_area = handle.output_area;\n    const output = handle.output;\n\n    // limit handleAddOutput to display_data with EXEC_MIME_TYPE content only\n    if ((output.output_type != \"display_data\") || (!Object.prototype.hasOwnProperty.call(output.data, EXEC_MIME_TYPE))) {\n      return\n    }\n\n    const toinsert = output_area.element.find(\".\" + CLASS_NAME.split(' ')[0]);\n\n    if (output.metadata[EXEC_MIME_TYPE][\"id\"] !== undefined) {\n      toinsert[toinsert.length - 1].firstChild.textContent = output.data[JS_MIME_TYPE];\n      // store reference to embed id on output_area\n      output_area._bokeh_element_id = output.metadata[EXEC_MIME_TYPE][\"id\"];\n    }\n    if (output.metadata[EXEC_MIME_TYPE][\"server_id\"] !== undefined) {\n      const bk_div = document.createElement(\"div\");\n      bk_div.innerHTML = output.data[HTML_MIME_TYPE];\n      const script_attrs = bk_div.children[0].attributes;\n      for (let i = 0; i < script_attrs.length; i++) {\n        toinsert[toinsert.length - 1].firstChild.setAttribute(script_attrs[i].name, script_attrs[i].value);\n        toinsert[toinsert.length - 1].firstChild.textContent = bk_div.children[0].textContent\n      }\n      // store reference to server id on output_area\n      output_area._bokeh_server_id = output.metadata[EXEC_MIME_TYPE][\"server_id\"];\n    }\n  }\n\n  function register_renderer(events, OutputArea) {\n\n    function append_mime(data, metadata, element) {\n      // create a DOM node to render to\n      const toinsert = this.create_output_subarea(\n        metadata,\n        CLASS_NAME,\n        EXEC_MIME_TYPE\n      );\n      this.keyboard_manager.register_events(toinsert);\n      // Render to node\n      const props = {data: data, metadata: metadata[EXEC_MIME_TYPE]};\n      render(props, toinsert[toinsert.length - 1]);\n      element.append(toinsert);\n      return toinsert\n    }\n\n    /* Handle when an output is cleared or removed */\n    events.on('clear_output.CodeCell', handleClearOutput);\n    events.on('delete.Cell', handleClearOutput);\n\n    /* Handle when a new output is added */\n    events.on('output_added.OutputArea', handleAddOutput);\n\n    /**\n     * Register the mime type and append_mime function with output_area\n     */\n    OutputArea.prototype.register_mime_type(EXEC_MIME_TYPE, append_mime, {\n      /* Is output safe? */\n      safe: true,\n      /* Index of renderer in `output_area.display_order` */\n      index: 0\n    });\n  }\n\n  // register the mime type if in Jupyter Notebook environment and previously unregistered\n  if (root.Jupyter !== undefined) {\n    const events = require('base/js/events');\n    const OutputArea = require('notebook/js/outputarea').OutputArea;\n\n    if (OutputArea.prototype.mime_types().indexOf(EXEC_MIME_TYPE) == -1) {\n      register_renderer(events, OutputArea);\n    }\n  }\n  if (typeof (root._bokeh_timeout) === \"undefined\" || force === true) {\n    root._bokeh_timeout = Date.now() + 5000;\n    root._bokeh_failed_load = false;\n  }\n\n  const NB_LOAD_WARNING = {'data': {'text/html':\n     \"<div style='background-color: #fdd'>\\n\"+\n     \"<p>\\n\"+\n     \"BokehJS does not appear to have successfully loaded. If loading BokehJS from CDN, this \\n\"+\n     \"may be due to a slow or bad network connection. Possible fixes:\\n\"+\n     \"</p>\\n\"+\n     \"<ul>\\n\"+\n     \"<li>re-rerun `output_notebook()` to attempt to load from CDN again, or</li>\\n\"+\n     \"<li>use INLINE resources instead, as so:</li>\\n\"+\n     \"</ul>\\n\"+\n     \"<code>\\n\"+\n     \"from bokeh.resources import INLINE\\n\"+\n     \"output_notebook(resources=INLINE)\\n\"+\n     \"</code>\\n\"+\n     \"</div>\"}};\n\n  function display_loaded() {\n    const el = document.getElementById(\"a623263e-29d6-4f33-81f4-2f01036fe92a\");\n    if (el != null) {\n      el.textContent = \"BokehJS is loading...\";\n    }\n    if (root.Bokeh !== undefined) {\n      if (el != null) {\n        el.textContent = \"BokehJS \" + root.Bokeh.version + \" successfully loaded.\";\n      }\n    } else if (Date.now() < root._bokeh_timeout) {\n      setTimeout(display_loaded, 100)\n    }\n  }\n\n  function run_callbacks() {\n    try {\n      root._bokeh_onload_callbacks.forEach(function(callback) {\n        if (callback != null)\n          callback();\n      });\n    } finally {\n      delete root._bokeh_onload_callbacks\n    }\n    console.debug(\"Bokeh: all callbacks have finished\");\n  }\n\n  function load_libs(css_urls, js_urls, callback) {\n    if (css_urls == null) css_urls = [];\n    if (js_urls == null) js_urls = [];\n\n    root._bokeh_onload_callbacks.push(callback);\n    if (root._bokeh_is_loading > 0) {\n      console.debug(\"Bokeh: BokehJS is being loaded, scheduling callback at\", now());\n      return null;\n    }\n    if (js_urls == null || js_urls.length === 0) {\n      run_callbacks();\n      return null;\n    }\n    console.debug(\"Bokeh: BokehJS not loaded, scheduling load and callback at\", now());\n    root._bokeh_is_loading = css_urls.length + js_urls.length;\n\n    function on_load() {\n      root._bokeh_is_loading--;\n      if (root._bokeh_is_loading === 0) {\n        console.debug(\"Bokeh: all BokehJS libraries/stylesheets loaded\");\n        run_callbacks()\n      }\n    }\n\n    function on_error(url) {\n      console.error(\"failed to load \" + url);\n    }\n\n    for (let i = 0; i < css_urls.length; i++) {\n      const url = css_urls[i];\n      const element = document.createElement(\"link\");\n      element.onload = on_load;\n      element.onerror = on_error.bind(null, url);\n      element.rel = \"stylesheet\";\n      element.type = \"text/css\";\n      element.href = url;\n      console.debug(\"Bokeh: injecting link tag for BokehJS stylesheet: \", url);\n      document.body.appendChild(element);\n    }\n\n    for (let i = 0; i < js_urls.length; i++) {\n      const url = js_urls[i];\n      const element = document.createElement('script');\n      element.onload = on_load;\n      element.onerror = on_error.bind(null, url);\n      element.async = false;\n      element.src = url;\n      console.debug(\"Bokeh: injecting script tag for BokehJS library: \", url);\n      document.head.appendChild(element);\n    }\n  };\n\n  function inject_raw_css(css) {\n    const element = document.createElement(\"style\");\n    element.appendChild(document.createTextNode(css));\n    document.body.appendChild(element);\n  }\n\n  const js_urls = [\"https://cdn.bokeh.org/bokeh/release/bokeh-3.3.3.min.js\", \"https://cdn.bokeh.org/bokeh/release/bokeh-gl-3.3.3.min.js\", \"https://cdn.bokeh.org/bokeh/release/bokeh-widgets-3.3.3.min.js\", \"https://cdn.bokeh.org/bokeh/release/bokeh-tables-3.3.3.min.js\", \"https://cdn.bokeh.org/bokeh/release/bokeh-mathjax-3.3.3.min.js\"];\n  const css_urls = [];\n\n  const inline_js = [    function(Bokeh) {\n      Bokeh.set_log_level(\"info\");\n    },\nfunction(Bokeh) {\n    }\n  ];\n\n  function run_inline_js() {\n    if (root.Bokeh !== undefined || force === true) {\n          for (let i = 0; i < inline_js.length; i++) {\n      inline_js[i].call(root, root.Bokeh);\n    }\nif (force === true) {\n        display_loaded();\n      }} else if (Date.now() < root._bokeh_timeout) {\n      setTimeout(run_inline_js, 100);\n    } else if (!root._bokeh_failed_load) {\n      console.log(\"Bokeh: BokehJS failed to load within specified timeout.\");\n      root._bokeh_failed_load = true;\n    } else if (force !== true) {\n      const cell = $(document.getElementById(\"a623263e-29d6-4f33-81f4-2f01036fe92a\")).parents('.cell').data().cell;\n      cell.output_area.append_execute_result(NB_LOAD_WARNING)\n    }\n  }\n\n  if (root._bokeh_is_loading === 0) {\n    console.debug(\"Bokeh: BokehJS loaded, going straight to plotting\");\n    run_inline_js();\n  } else {\n    load_libs(css_urls, js_urls, function() {\n      console.debug(\"Bokeh: BokehJS plotting callback run at\", now());\n      run_inline_js();\n    });\n  }\n}(window));",
      "application/vnd.bokehjs_load.v0+json": ""
     },
     "metadata": {},
     "output_type": "display_data"
    }
   ],
   "source": [
    "import pandas as pd\n",
    "import numpy as np\n",
    "import networkx as nx\n",
    "from collections import defaultdict\n",
    "import math\n",
    "import statsmodels.api as sm\n",
    "import seaborn as sns\n",
    "import matplotlib.pyplot as plt\n",
    "from sklearn.preprocessing import MinMaxScaler\n",
    "%matplotlib notebook\n",
    "from bokeh.plotting import figure, show, output_notebook\n",
    "from bokeh.models import HoverTool, ColumnDataSource\n",
    "from bokeh.palettes import Category20\n",
    "output_notebook()"
   ]
  },
  {
   "cell_type": "code",
   "execution_count": 3,
   "metadata": {},
   "outputs": [],
   "source": [
    "def init_graph(G,node_adj_frame):\n",
    "    G.add_nodes_from([i for i in range(len(node_adj_frame))])\n",
    "    labels = {}\n",
    "    labels = node_adj_frame.columns\n",
    "    for i in range(len(node_adj_frame)):\n",
    "        snode = node_adj_frame[labels[0]][i]-1\n",
    "        temp = node_adj_frame[labels[2]][i]\n",
    "        if ',' in str(temp):\n",
    "            sedge_arr = temp.split(',')\n",
    "            for j in range(0, len(sedge_arr)):\n",
    "                k = int(sedge_arr[j])\n",
    "                G.add_edge(snode, k-1)\n",
    "        elif np.isnan(temp):\n",
    "            print(\"ERROR: Not found in the adjacency excel sheet\")\n",
    "        else:\n",
    "            G.add_edge(snode, int(temp)-1)\n",
    "    return"
   ]
  },
  {
   "cell_type": "code",
   "execution_count": 4,
   "metadata": {},
   "outputs": [],
   "source": [
    "def init_graph_attr(G, AdjFile, df, columns):\n",
    "    node_adj_frame = pd.read_excel(AdjFile)\n",
    "    node_list = node_adj_frame[\"District_Name\"].tolist()\n",
    "    nodeAttr = {}\n",
    "    init_graph(G, node_adj_frame)\n",
    "    \n",
    "    capability_vector = list(zip(*(df[col] for col in columns)))\n",
    "    node_attri_dict = dict(zip(df[\"District\"], capability_vector))\n",
    "    node_attri_dict = dict((k, v) for k, v in node_attri_dict.items())\n",
    "\n",
    "    for i in range(len(node_adj_frame)):\n",
    "        temp = {}\n",
    "        temp[\"capabilityvector\"] = node_attri_dict[node_list[i]]\n",
    "        temp[\"nodeStress\"] = 0\n",
    "        temp[\"nodeStability\"] = 0\n",
    "        temp[\"name\"] = node_list[i]\n",
    "        nodeAttr[i] = temp\n",
    "\n",
    "    nx.set_node_attributes(G, nodeAttr)"
   ]
  },
  {
   "cell_type": "code",
   "execution_count": 5,
   "metadata": {},
   "outputs": [],
   "source": [
    "def addList(l1,l2):\n",
    "    for i in range(len(l1)):\n",
    "        l1[i] = l1[i] + l2[i]\n",
    "    return l1\n",
    "\n",
    "def divList(l1,k):\n",
    "    for i in range(len(l1)):\n",
    "        l1[i] = l1[i]/k\n",
    "    return l1\n",
    "def l2_normalization(l1,l2):\n",
    "    k = 0\n",
    "    for i in range(len(l1)):\n",
    "        k+= (l1[i] - l2[i])**2\n",
    "    return math.sqrt(k)"
   ]
  },
  {
   "cell_type": "code",
   "execution_count": 6,
   "metadata": {},
   "outputs": [],
   "source": [
    "def get_node_stress(G,dim):\n",
    "    stress_dict = {}\n",
    "    for n in G.nodes():\n",
    "        centroid = [0]*dim\n",
    "        neighList = list(G.neighbors(n))\n",
    "        for nei in neighList:\n",
    "            try:\n",
    "                centroid = addList(centroid,list(G.nodes[nei][\"capabilityvector\"]))\n",
    "            except(KeyError):\n",
    "                pass\n",
    "        try:\n",
    "            G.nodes[n][\"nodeStress\"] = l2_normalization(divList(centroid,len(neighList)),list(G.nodes[n][\"capabilityvector\"]))\n",
    "        except(KeyError):\n",
    "            pass\n",
    "        try:\n",
    "            stress_dict[G.nodes[n][\"name\"]]=G.nodes[n][\"nodeStress\"]\n",
    "        except(KeyError):\n",
    "            pass\n",
    "    return stress_dict"
   ]
  },
  {
   "cell_type": "code",
   "execution_count": 7,
   "metadata": {},
   "outputs": [],
   "source": [
    "def get_node_stability(G,dim):\n",
    "    stability_dict = {}\n",
    "    for n in G.nodes():\n",
    "        centroid = [0]*dim\n",
    "        neighList = list(G.neighbors(n))\n",
    "        for nei in neighList:\n",
    "            try:\n",
    "                centroid = addList(centroid,list(G.nodes[nei][\"capabilityvector\"]))\n",
    "            except(KeyError):\n",
    "                pass\n",
    "        try:\n",
    "            G.nodes[n][\"nodeStability\"] = 1 - l2_normalization(divList(centroid,len(neighList)),list(G.nodes[n][\"capabilityvector\"]))\n",
    "        except(KeyError):\n",
    "            pass\n",
    "        try:\n",
    "            stability_dict[G.nodes[n][\"name\"]]=G.nodes[n][\"nodeStability\"]\n",
    "        except(KeyError):\n",
    "            pass\n",
    "    return stability_dict"
   ]
  },
  {
   "cell_type": "code",
   "execution_count": 8,
   "metadata": {
    "tags": []
   },
   "outputs": [],
   "source": [
    "G = nx.Graph()\n",
    "df = pd.read_excel('KAG 2016-17/Agriculture/Agriculture_KAG_2016_17.xlsx')\n",
    "adjacency_file = 'Karnataka_District_Adjacency_File.xlsx'\n",
    "\n",
    "# existing_data = pd.DataFrame(df['District'])\n",
    "\n",
    "existing_data = pd.read_csv('result.csv')\n",
    "# adjacency_file = \"KAG 2016-17/Karnataka_District_Adjacency_File.xlsx\""
   ]
  },
  {
   "cell_type": "code",
   "execution_count": 9,
   "metadata": {},
   "outputs": [],
   "source": [
    "def calculate_and_return_initial_stability(df, columns, G, adjacency_file = adjacency_file):\n",
    "    dim = len(columns)\n",
    "    col_to_pass = []\n",
    "\n",
    "    for column in columns:\n",
    "        column_values = df[column].values.reshape(-1, 1)\n",
    "        scaler = MinMaxScaler()\n",
    "        normalized_column_values = scaler.fit_transform(column_values)\n",
    "        df[f\"Normalized_{column}\"] = normalized_column_values\n",
    "        col_to_pass.append(f\"Normalized_{column}\")\n",
    "\n",
    "    init_graph_attr(G, adjacency_file, df, col_to_pass)\n",
    "    initial_stability = get_node_stability(G, dim)\n",
    "    df[\"Initial Stability\"] = df[\"District\"].map(initial_stability)\n",
    "\n",
    "    return df[\"Initial Stability\"]"
   ]
  },
  {
   "cell_type": "code",
   "execution_count": 10,
   "metadata": {},
   "outputs": [],
   "source": [
    "columns_to_normalize = [\"Rice_Production_223\", \"Jowar_Yield_278\"]\n",
    "dim = 1\n",
    "for col in columns_to_normalize:\n",
    "    column_values = df[col].values.reshape(-1, 1)\n",
    "    scaler = MinMaxScaler()\n",
    "    normalized_values = scaler.fit_transform(column_values)\n",
    "    df[f\"Normalized_{col}\"] = normalized_values.flatten()\n",
    "    init_graph_attr(G,adjacency_file , df,[f\"Normalized_{col}\"] )\n",
    "    initial_stability = get_node_stability(G, dim)\n",
    "    df[f\"Initial Stability_{col}\"] = df[\"District\"].map(initial_stability)"
   ]
  },
  {
   "cell_type": "code",
   "execution_count": null,
   "metadata": {},
   "outputs": [],
   "source": []
  },
  {
   "cell_type": "code",
   "execution_count": 11,
   "metadata": {},
   "outputs": [],
   "source": [
    "# df[\"Initial Stability_Rice_Production_223\"]"
   ]
  },
  {
   "cell_type": "code",
   "execution_count": 12,
   "metadata": {},
   "outputs": [],
   "source": [
    "existing_data = pd.DataFrame(existing_data['District'])"
   ]
  },
  {
   "cell_type": "code",
   "execution_count": 13,
   "metadata": {},
   "outputs": [],
   "source": [
    "# def calculate_impact_score(df, base_column, capability_vector, intervention):\n",
    "#     # Perform simple linear regression\n",
    "#     X = sm.add_constant(df[base_column])\n",
    "#     y = df[capability_vector]\n",
    "#     model = sm.OLS(y, X).fit()\n",
    "\n",
    "#     # Get coefficients and intercept\n",
    "#     m, c = model.params[base_column], model.params['const']\n",
    "#     print(c)\n",
    "#     # Predicted change in capability_vector for base_column + change_percentage% and base_column - change_percentage%\n",
    "#     base_column_increase = (1 + intervention/100) * df[base_column]\n",
    "#     base_column_decrease = (1 - intervention/100) * df[base_column]\n",
    "\n",
    "#     rp_new_plus = m * base_column_increase + c \n",
    "#     rp_new_minus = m * base_column_decrease + c \n",
    "\n",
    "#     vector_plus = rp_new_plus - m * df[base_column] - c  \n",
    "#     vector_minus = rp_new_minus - m * df[base_column] - c\n",
    "\n",
    "#     # Generate normalized values using MinMaxScaler\n",
    "#     scaler = MinMaxScaler()\n",
    "\n",
    "#     normalized_vector_plus = scaler.fit_transform(vector_plus.values.reshape(-1, 1))\n",
    "#     normalized_vector_minus = scaler.fit_transform(vector_minus.values.reshape(-1, 1))\n",
    "\n",
    "#     # Create new DataFrame with appropriate column names\n",
    "#     result_df = pd.DataFrame({\n",
    "#         f'{capability_vector} ({base_column} +{intervention}%)': rp_new_plus,\n",
    "#         f'{capability_vector} ({base_column} -{intervention}%)': rp_new_minus,\n",
    "#         f'Normalized {capability_vector} ({base_column} +{intervention}%)': normalized_vector_plus.flatten(),\n",
    "#         f'Normalized {capability_vector} ({base_column} -{intervention}%)': normalized_vector_minus.flatten()\n",
    "#     })\n",
    "\n",
    "#     return result_df"
   ]
  },
  {
   "cell_type": "code",
   "execution_count": 14,
   "metadata": {},
   "outputs": [],
   "source": [
    "# base_Column = \"TotalNPK_315\"\n",
    "# CapabilityVector = \"Jowar_Yield_278\"\n",
    "# change_percentage = 20\n",
    "\n",
    "# result_df = calculate_impact_score(df, base_Column, CapabilityVector, change_percentage)\n",
    "\n",
    "# result_df.head()"
   ]
  },
  {
   "cell_type": "code",
   "execution_count": 15,
   "metadata": {},
   "outputs": [],
   "source": [
    "# def merge_columns_into_dataframe(result_df, existing_data):\n",
    "#     for column in result_df.columns:\n",
    "#         existing_data[column] = result_df[column]\n",
    "#     return existing_data\n",
    "\n",
    "# # Assuming existing_data is already defined\n",
    "# existing_data = merge_columns_into_dataframe(result_df, existing_data)\n",
    "# existing_data.head()"
   ]
  },
  {
   "cell_type": "code",
   "execution_count": 16,
   "metadata": {},
   "outputs": [],
   "source": [
    "# result_df.head()"
   ]
  },
  {
   "cell_type": "code",
   "execution_count": 17,
   "metadata": {},
   "outputs": [
    {
     "data": {
      "text/html": [
       "<div>\n",
       "<style scoped>\n",
       "    .dataframe tbody tr th:only-of-type {\n",
       "        vertical-align: middle;\n",
       "    }\n",
       "\n",
       "    .dataframe tbody tr th {\n",
       "        vertical-align: top;\n",
       "    }\n",
       "\n",
       "    .dataframe thead th {\n",
       "        text-align: right;\n",
       "    }\n",
       "</style>\n",
       "<table border=\"1\" class=\"dataframe\">\n",
       "  <thead>\n",
       "    <tr style=\"text-align: right;\">\n",
       "      <th></th>\n",
       "      <th>District</th>\n",
       "    </tr>\n",
       "  </thead>\n",
       "  <tbody>\n",
       "    <tr>\n",
       "      <th>0</th>\n",
       "      <td>BENGALURU</td>\n",
       "    </tr>\n",
       "    <tr>\n",
       "      <th>1</th>\n",
       "      <td>BENGALURU(R)</td>\n",
       "    </tr>\n",
       "    <tr>\n",
       "      <th>2</th>\n",
       "      <td>RAMANAGARA</td>\n",
       "    </tr>\n",
       "    <tr>\n",
       "      <th>3</th>\n",
       "      <td>CHITRADURGA</td>\n",
       "    </tr>\n",
       "    <tr>\n",
       "      <th>4</th>\n",
       "      <td>DAVANAGERE</td>\n",
       "    </tr>\n",
       "  </tbody>\n",
       "</table>\n",
       "</div>"
      ],
      "text/plain": [
       "       District\n",
       "0     BENGALURU\n",
       "1  BENGALURU(R)\n",
       "2    RAMANAGARA\n",
       "3   CHITRADURGA\n",
       "4    DAVANAGERE"
      ]
     },
     "execution_count": 17,
     "metadata": {},
     "output_type": "execute_result"
    }
   ],
   "source": [
    "existing_data.head()"
   ]
  },
  {
   "cell_type": "code",
   "execution_count": 18,
   "metadata": {},
   "outputs": [],
   "source": [
    "dim = 1"
   ]
  },
  {
   "cell_type": "code",
   "execution_count": 19,
   "metadata": {},
   "outputs": [],
   "source": [
    "def calculate_and_map_stability(G, existing_data, adjacency_file, columns_to_pass, inter, dim):\n",
    "    # Initialize the graph attributes\n",
    "    init_graph_attr(G, adjacency_file, existing_data, columns_to_pass)\n",
    "\n",
    "    # Calculate node stress for the given change percentage\n",
    "    NPK_stability = get_node_stability(G, dim)\n",
    "\n",
    "    # Create a new column in the result DataFrame\n",
    "    stability_column_name = f\"New Stability(NPK {'+' if inter >= 0 else '-'} {abs(inter)}%)\"\n",
    "    stability_column = existing_data[\"District\"].map(NPK_stability)\n",
    "\n",
    "    return stability_column, stability_column_name"
   ]
  },
  {
   "cell_type": "markdown",
   "metadata": {},
   "source": [
    "## 1D Capability Vector"
   ]
  },
  {
   "cell_type": "code",
   "execution_count": 20,
   "metadata": {},
   "outputs": [
    {
     "data": {
      "application/vnd.plotly.v1+json": {
       "config": {
        "plotlyServerURL": "https://plot.ly"
       },
       "data": [
        {
         "hoverinfo": "text+name",
         "hoverlabel": {
          "bgcolor": "grey",
          "font": {
           "color": "white"
          }
         },
         "hovertemplate": "New Stability(NPK + 20%)=%{x}<br>Impact Score Rice_Production_223 (TotalNPK_315 +20%)=%{y}<extra></extra>",
         "hovertext": [
          "District: BENGALURU<br>Impact (Rice_Production_223): 0.09872069211476968 <br>Stability (TotalNPK_315 +20%): 0.9597167575527484",
          "District: BENGALURU(R)<br>Impact (Rice_Production_223): 0.07541819102183575 <br>Stability (TotalNPK_315 +20%): 0.9733301120544856",
          "District: RAMANAGARA<br>Impact (Rice_Production_223): 0.007616023561353845 <br>Stability (TotalNPK_315 +20%): 0.853065967188974",
          "District: CHITRADURGA<br>Impact (Rice_Production_223): 0.17104990681300475 <br>Stability (TotalNPK_315 +20%): 0.7333126251121695",
          "District: DAVANAGERE<br>Impact (Rice_Production_223): 0.5378155127585647 <br>Stability (TotalNPK_315 +20%): 0.827967603138446",
          "District: KOLAR<br>Impact (Rice_Production_223): 0.09227813441936454 <br>Stability (TotalNPK_315 +20%): 0.9916476841305999",
          "District: CHIKKABALLAPURA<br>Impact (Rice_Production_223): 0.12775246772968885 <br>Stability (TotalNPK_315 +20%): 0.9895039997545692",
          "District: SHIVAMOGGA<br>Impact (Rice_Production_223): 0.2902659855962817 <br>Stability (TotalNPK_315 +20%): 0.9665527714502657",
          "District: TUMAKURU<br>Impact (Rice_Production_223): 0.18407307701157377 <br>Stability (TotalNPK_315 +20%): 0.9829173610494795",
          "District: CHIKKAMAGALURU<br>Impact (Rice_Production_223): 0.3550021858677894 <br>Stability (TotalNPK_315 +20%): 0.8754310103968418",
          "District: DAKSHINA KANNADA<br>Impact (Rice_Production_223): 0.07155840868824923 <br>Stability (TotalNPK_315 +20%): 0.8431970617335082",
          "District: UDUPI<br>Impact (Rice_Production_223): 0.0 <br>Stability (TotalNPK_315 +20%): 0.8076091208209659",
          "District: HASSAN<br>Impact (Rice_Production_223): 0.35826948298474487 <br>Stability (TotalNPK_315 +20%): 0.8825882208570136",
          "District: KODAGU<br>Impact (Rice_Production_223): 0.20017371896642977 <br>Stability (TotalNPK_315 +20%): 0.949778728822009",
          "District: MANDYA<br>Impact (Rice_Production_223): 0.3129817537562409 <br>Stability (TotalNPK_315 +20%): 0.8815926922988426",
          "District: MYSURU<br>Impact (Rice_Production_223): 0.3213570787602681 <br>Stability (TotalNPK_315 +20%): 0.9218883021559559",
          "District: CHAMARAJANAGAR<br>Impact (Rice_Production_223): 0.10155656795747912 <br>Stability (TotalNPK_315 +20%): 0.8875716159315248",
          "District: BELAGAVI<br>Impact (Rice_Production_223): 0.9999999999999999 <br>Stability (TotalNPK_315 +20%): 0.21200271507788593",
          "District: VIJAYAPURA<br>Impact (Rice_Production_223): 0.2765697982098893 <br>Stability (TotalNPK_315 +20%): 0.7051528956995927",
          "District: BAGALKOT<br>Impact (Rice_Production_223): 0.45249764156370054 <br>Stability (TotalNPK_315 +20%): 0.9721278847702539",
          "District: DHARAWAD<br>Impact (Rice_Production_223): 0.17966107544695242 <br>Stability (TotalNPK_315 +20%): 0.807205022894089",
          "District: GADAG<br>Impact (Rice_Production_223): 0.09854812360507122 <br>Stability (TotalNPK_315 +20%): 0.5931342659702568",
          "District: HAVERI<br>Impact (Rice_Production_223): 0.3385391500425669 <br>Stability (TotalNPK_315 +20%): 0.9669751808134495",
          "District: UTTARA KANNADA<br>Impact (Rice_Production_223): 0.052736936563815756 <br>Stability (TotalNPK_315 +20%): 0.6910436943466556",
          "District: BALLARI<br>Impact (Rice_Production_223): 0.6740583511654124 <br>Stability (TotalNPK_315 +20%): 0.6880555747298345",
          "District: BIDAR<br>Impact (Rice_Production_223): 0.10647477048388217 <br>Stability (TotalNPK_315 +20%): 0.8312222452313568",
          "District: KALABURAGI<br>Impact (Rice_Production_223): 0.27525252525252514 <br>Stability (TotalNPK_315 +20%): 0.9841275319635229",
          "District: YADGIRI<br>Impact (Rice_Production_223): 0.4903304111732355 <br>Stability (TotalNPK_315 +20%): 0.9066116748349096",
          "District: RAICHUR<br>Impact (Rice_Production_223): 0.6390039345620208 <br>Stability (TotalNPK_315 +20%): 0.8172326913784773",
          "District: KOPPAL<br>Impact (Rice_Production_223): 0.3877269275902533 <br>Stability (TotalNPK_315 +20%): 0.9216999148662018"
         ],
         "legendgroup": "",
         "marker": {
          "color": "#636efa",
          "symbol": "circle"
         },
         "mode": "markers",
         "name": "",
         "orientation": "v",
         "showlegend": false,
         "type": "scatter",
         "x": [
          0.9597167575527484,
          0.9733301120544856,
          0.853065967188974,
          0.7333126251121695,
          0.827967603138446,
          0.9916476841305999,
          0.9895039997545692,
          0.9665527714502657,
          0.9829173610494795,
          0.8754310103968418,
          0.8431970617335082,
          0.8076091208209659,
          0.8825882208570136,
          0.949778728822009,
          0.8815926922988426,
          0.9218883021559559,
          0.8875716159315248,
          0.21200271507788593,
          0.7051528956995927,
          0.9721278847702539,
          0.807205022894089,
          0.5931342659702568,
          0.9669751808134495,
          0.6910436943466556,
          0.6880555747298345,
          0.8312222452313568,
          0.9841275319635229,
          0.9066116748349096,
          0.8172326913784773,
          0.9216999148662018
         ],
         "xaxis": "x",
         "y": [
          0.09872069211476968,
          0.07541819102183575,
          0.007616023561353845,
          0.17104990681300475,
          0.5378155127585647,
          0.09227813441936454,
          0.12775246772968885,
          0.2902659855962817,
          0.18407307701157377,
          0.3550021858677894,
          0.07155840868824923,
          0,
          0.35826948298474487,
          0.20017371896642977,
          0.3129817537562409,
          0.3213570787602681,
          0.10155656795747912,
          0.9999999999999999,
          0.2765697982098893,
          0.45249764156370054,
          0.17966107544695242,
          0.09854812360507122,
          0.3385391500425669,
          0.052736936563815756,
          0.6740583511654124,
          0.10647477048388217,
          0.27525252525252514,
          0.4903304111732355,
          0.6390039345620208,
          0.3877269275902533
         ],
         "yaxis": "y"
        }
       ],
       "layout": {
        "annotations": [
         {
          "arrowcolor": "red",
          "arrowhead": 4,
          "ax": 0,
          "ay": -40,
          "font": {
           "color": "red"
          },
          "showarrow": true,
          "text": "Avg New Stability(NPK + 20%)",
          "x": 0.8474754309008296,
          "y": 0.9999999999999999
         },
         {
          "arrowcolor": "blue",
          "arrowhead": 4,
          "ax": -40,
          "ay": 0,
          "font": {
           "color": "blue"
          },
          "showarrow": true,
          "text": "Avg Normalized Rice_Production_223",
          "x": 0.9916476841305999,
          "y": 0.2759096277888989
         }
        ],
        "height": 500,
        "legend": {
         "tracegroupgap": 0
        },
        "shapes": [
         {
          "line": {
           "color": "red",
           "width": 2
          },
          "type": "line",
          "x0": 0.8474754309008296,
          "x1": 0.8474754309008296,
          "y0": 0,
          "y1": 0.9999999999999999
         },
         {
          "line": {
           "color": "blue",
           "width": 2
          },
          "type": "line",
          "x0": 0.21200271507788593,
          "x1": 0.9916476841305999,
          "y0": 0.2759096277888989,
          "y1": 0.2759096277888989
         }
        ],
        "template": {
         "data": {
          "bar": [
           {
            "error_x": {
             "color": "#2a3f5f"
            },
            "error_y": {
             "color": "#2a3f5f"
            },
            "marker": {
             "line": {
              "color": "#E5ECF6",
              "width": 0.5
             },
             "pattern": {
              "fillmode": "overlay",
              "size": 10,
              "solidity": 0.2
             }
            },
            "type": "bar"
           }
          ],
          "barpolar": [
           {
            "marker": {
             "line": {
              "color": "#E5ECF6",
              "width": 0.5
             },
             "pattern": {
              "fillmode": "overlay",
              "size": 10,
              "solidity": 0.2
             }
            },
            "type": "barpolar"
           }
          ],
          "carpet": [
           {
            "aaxis": {
             "endlinecolor": "#2a3f5f",
             "gridcolor": "white",
             "linecolor": "white",
             "minorgridcolor": "white",
             "startlinecolor": "#2a3f5f"
            },
            "baxis": {
             "endlinecolor": "#2a3f5f",
             "gridcolor": "white",
             "linecolor": "white",
             "minorgridcolor": "white",
             "startlinecolor": "#2a3f5f"
            },
            "type": "carpet"
           }
          ],
          "choropleth": [
           {
            "colorbar": {
             "outlinewidth": 0,
             "ticks": ""
            },
            "type": "choropleth"
           }
          ],
          "contour": [
           {
            "colorbar": {
             "outlinewidth": 0,
             "ticks": ""
            },
            "colorscale": [
             [
              0,
              "#0d0887"
             ],
             [
              0.1111111111111111,
              "#46039f"
             ],
             [
              0.2222222222222222,
              "#7201a8"
             ],
             [
              0.3333333333333333,
              "#9c179e"
             ],
             [
              0.4444444444444444,
              "#bd3786"
             ],
             [
              0.5555555555555556,
              "#d8576b"
             ],
             [
              0.6666666666666666,
              "#ed7953"
             ],
             [
              0.7777777777777778,
              "#fb9f3a"
             ],
             [
              0.8888888888888888,
              "#fdca26"
             ],
             [
              1,
              "#f0f921"
             ]
            ],
            "type": "contour"
           }
          ],
          "contourcarpet": [
           {
            "colorbar": {
             "outlinewidth": 0,
             "ticks": ""
            },
            "type": "contourcarpet"
           }
          ],
          "heatmap": [
           {
            "colorbar": {
             "outlinewidth": 0,
             "ticks": ""
            },
            "colorscale": [
             [
              0,
              "#0d0887"
             ],
             [
              0.1111111111111111,
              "#46039f"
             ],
             [
              0.2222222222222222,
              "#7201a8"
             ],
             [
              0.3333333333333333,
              "#9c179e"
             ],
             [
              0.4444444444444444,
              "#bd3786"
             ],
             [
              0.5555555555555556,
              "#d8576b"
             ],
             [
              0.6666666666666666,
              "#ed7953"
             ],
             [
              0.7777777777777778,
              "#fb9f3a"
             ],
             [
              0.8888888888888888,
              "#fdca26"
             ],
             [
              1,
              "#f0f921"
             ]
            ],
            "type": "heatmap"
           }
          ],
          "heatmapgl": [
           {
            "colorbar": {
             "outlinewidth": 0,
             "ticks": ""
            },
            "colorscale": [
             [
              0,
              "#0d0887"
             ],
             [
              0.1111111111111111,
              "#46039f"
             ],
             [
              0.2222222222222222,
              "#7201a8"
             ],
             [
              0.3333333333333333,
              "#9c179e"
             ],
             [
              0.4444444444444444,
              "#bd3786"
             ],
             [
              0.5555555555555556,
              "#d8576b"
             ],
             [
              0.6666666666666666,
              "#ed7953"
             ],
             [
              0.7777777777777778,
              "#fb9f3a"
             ],
             [
              0.8888888888888888,
              "#fdca26"
             ],
             [
              1,
              "#f0f921"
             ]
            ],
            "type": "heatmapgl"
           }
          ],
          "histogram": [
           {
            "marker": {
             "pattern": {
              "fillmode": "overlay",
              "size": 10,
              "solidity": 0.2
             }
            },
            "type": "histogram"
           }
          ],
          "histogram2d": [
           {
            "colorbar": {
             "outlinewidth": 0,
             "ticks": ""
            },
            "colorscale": [
             [
              0,
              "#0d0887"
             ],
             [
              0.1111111111111111,
              "#46039f"
             ],
             [
              0.2222222222222222,
              "#7201a8"
             ],
             [
              0.3333333333333333,
              "#9c179e"
             ],
             [
              0.4444444444444444,
              "#bd3786"
             ],
             [
              0.5555555555555556,
              "#d8576b"
             ],
             [
              0.6666666666666666,
              "#ed7953"
             ],
             [
              0.7777777777777778,
              "#fb9f3a"
             ],
             [
              0.8888888888888888,
              "#fdca26"
             ],
             [
              1,
              "#f0f921"
             ]
            ],
            "type": "histogram2d"
           }
          ],
          "histogram2dcontour": [
           {
            "colorbar": {
             "outlinewidth": 0,
             "ticks": ""
            },
            "colorscale": [
             [
              0,
              "#0d0887"
             ],
             [
              0.1111111111111111,
              "#46039f"
             ],
             [
              0.2222222222222222,
              "#7201a8"
             ],
             [
              0.3333333333333333,
              "#9c179e"
             ],
             [
              0.4444444444444444,
              "#bd3786"
             ],
             [
              0.5555555555555556,
              "#d8576b"
             ],
             [
              0.6666666666666666,
              "#ed7953"
             ],
             [
              0.7777777777777778,
              "#fb9f3a"
             ],
             [
              0.8888888888888888,
              "#fdca26"
             ],
             [
              1,
              "#f0f921"
             ]
            ],
            "type": "histogram2dcontour"
           }
          ],
          "mesh3d": [
           {
            "colorbar": {
             "outlinewidth": 0,
             "ticks": ""
            },
            "type": "mesh3d"
           }
          ],
          "parcoords": [
           {
            "line": {
             "colorbar": {
              "outlinewidth": 0,
              "ticks": ""
             }
            },
            "type": "parcoords"
           }
          ],
          "pie": [
           {
            "automargin": true,
            "type": "pie"
           }
          ],
          "scatter": [
           {
            "fillpattern": {
             "fillmode": "overlay",
             "size": 10,
             "solidity": 0.2
            },
            "type": "scatter"
           }
          ],
          "scatter3d": [
           {
            "line": {
             "colorbar": {
              "outlinewidth": 0,
              "ticks": ""
             }
            },
            "marker": {
             "colorbar": {
              "outlinewidth": 0,
              "ticks": ""
             }
            },
            "type": "scatter3d"
           }
          ],
          "scattercarpet": [
           {
            "marker": {
             "colorbar": {
              "outlinewidth": 0,
              "ticks": ""
             }
            },
            "type": "scattercarpet"
           }
          ],
          "scattergeo": [
           {
            "marker": {
             "colorbar": {
              "outlinewidth": 0,
              "ticks": ""
             }
            },
            "type": "scattergeo"
           }
          ],
          "scattergl": [
           {
            "marker": {
             "colorbar": {
              "outlinewidth": 0,
              "ticks": ""
             }
            },
            "type": "scattergl"
           }
          ],
          "scattermapbox": [
           {
            "marker": {
             "colorbar": {
              "outlinewidth": 0,
              "ticks": ""
             }
            },
            "type": "scattermapbox"
           }
          ],
          "scatterpolar": [
           {
            "marker": {
             "colorbar": {
              "outlinewidth": 0,
              "ticks": ""
             }
            },
            "type": "scatterpolar"
           }
          ],
          "scatterpolargl": [
           {
            "marker": {
             "colorbar": {
              "outlinewidth": 0,
              "ticks": ""
             }
            },
            "type": "scatterpolargl"
           }
          ],
          "scatterternary": [
           {
            "marker": {
             "colorbar": {
              "outlinewidth": 0,
              "ticks": ""
             }
            },
            "type": "scatterternary"
           }
          ],
          "surface": [
           {
            "colorbar": {
             "outlinewidth": 0,
             "ticks": ""
            },
            "colorscale": [
             [
              0,
              "#0d0887"
             ],
             [
              0.1111111111111111,
              "#46039f"
             ],
             [
              0.2222222222222222,
              "#7201a8"
             ],
             [
              0.3333333333333333,
              "#9c179e"
             ],
             [
              0.4444444444444444,
              "#bd3786"
             ],
             [
              0.5555555555555556,
              "#d8576b"
             ],
             [
              0.6666666666666666,
              "#ed7953"
             ],
             [
              0.7777777777777778,
              "#fb9f3a"
             ],
             [
              0.8888888888888888,
              "#fdca26"
             ],
             [
              1,
              "#f0f921"
             ]
            ],
            "type": "surface"
           }
          ],
          "table": [
           {
            "cells": {
             "fill": {
              "color": "#EBF0F8"
             },
             "line": {
              "color": "white"
             }
            },
            "header": {
             "fill": {
              "color": "#C8D4E3"
             },
             "line": {
              "color": "white"
             }
            },
            "type": "table"
           }
          ]
         },
         "layout": {
          "annotationdefaults": {
           "arrowcolor": "#2a3f5f",
           "arrowhead": 0,
           "arrowwidth": 1
          },
          "autotypenumbers": "strict",
          "coloraxis": {
           "colorbar": {
            "outlinewidth": 0,
            "ticks": ""
           }
          },
          "colorscale": {
           "diverging": [
            [
             0,
             "#8e0152"
            ],
            [
             0.1,
             "#c51b7d"
            ],
            [
             0.2,
             "#de77ae"
            ],
            [
             0.3,
             "#f1b6da"
            ],
            [
             0.4,
             "#fde0ef"
            ],
            [
             0.5,
             "#f7f7f7"
            ],
            [
             0.6,
             "#e6f5d0"
            ],
            [
             0.7,
             "#b8e186"
            ],
            [
             0.8,
             "#7fbc41"
            ],
            [
             0.9,
             "#4d9221"
            ],
            [
             1,
             "#276419"
            ]
           ],
           "sequential": [
            [
             0,
             "#0d0887"
            ],
            [
             0.1111111111111111,
             "#46039f"
            ],
            [
             0.2222222222222222,
             "#7201a8"
            ],
            [
             0.3333333333333333,
             "#9c179e"
            ],
            [
             0.4444444444444444,
             "#bd3786"
            ],
            [
             0.5555555555555556,
             "#d8576b"
            ],
            [
             0.6666666666666666,
             "#ed7953"
            ],
            [
             0.7777777777777778,
             "#fb9f3a"
            ],
            [
             0.8888888888888888,
             "#fdca26"
            ],
            [
             1,
             "#f0f921"
            ]
           ],
           "sequentialminus": [
            [
             0,
             "#0d0887"
            ],
            [
             0.1111111111111111,
             "#46039f"
            ],
            [
             0.2222222222222222,
             "#7201a8"
            ],
            [
             0.3333333333333333,
             "#9c179e"
            ],
            [
             0.4444444444444444,
             "#bd3786"
            ],
            [
             0.5555555555555556,
             "#d8576b"
            ],
            [
             0.6666666666666666,
             "#ed7953"
            ],
            [
             0.7777777777777778,
             "#fb9f3a"
            ],
            [
             0.8888888888888888,
             "#fdca26"
            ],
            [
             1,
             "#f0f921"
            ]
           ]
          },
          "colorway": [
           "#636efa",
           "#EF553B",
           "#00cc96",
           "#ab63fa",
           "#FFA15A",
           "#19d3f3",
           "#FF6692",
           "#B6E880",
           "#FF97FF",
           "#FECB52"
          ],
          "font": {
           "color": "#2a3f5f"
          },
          "geo": {
           "bgcolor": "white",
           "lakecolor": "white",
           "landcolor": "#E5ECF6",
           "showlakes": true,
           "showland": true,
           "subunitcolor": "white"
          },
          "hoverlabel": {
           "align": "left"
          },
          "hovermode": "closest",
          "mapbox": {
           "style": "light"
          },
          "paper_bgcolor": "white",
          "plot_bgcolor": "#E5ECF6",
          "polar": {
           "angularaxis": {
            "gridcolor": "white",
            "linecolor": "white",
            "ticks": ""
           },
           "bgcolor": "#E5ECF6",
           "radialaxis": {
            "gridcolor": "white",
            "linecolor": "white",
            "ticks": ""
           }
          },
          "scene": {
           "xaxis": {
            "backgroundcolor": "#E5ECF6",
            "gridcolor": "white",
            "gridwidth": 2,
            "linecolor": "white",
            "showbackground": true,
            "ticks": "",
            "zerolinecolor": "white"
           },
           "yaxis": {
            "backgroundcolor": "#E5ECF6",
            "gridcolor": "white",
            "gridwidth": 2,
            "linecolor": "white",
            "showbackground": true,
            "ticks": "",
            "zerolinecolor": "white"
           },
           "zaxis": {
            "backgroundcolor": "#E5ECF6",
            "gridcolor": "white",
            "gridwidth": 2,
            "linecolor": "white",
            "showbackground": true,
            "ticks": "",
            "zerolinecolor": "white"
           }
          },
          "shapedefaults": {
           "line": {
            "color": "#2a3f5f"
           }
          },
          "ternary": {
           "aaxis": {
            "gridcolor": "white",
            "linecolor": "white",
            "ticks": ""
           },
           "baxis": {
            "gridcolor": "white",
            "linecolor": "white",
            "ticks": ""
           },
           "bgcolor": "#E5ECF6",
           "caxis": {
            "gridcolor": "white",
            "linecolor": "white",
            "ticks": ""
           }
          },
          "title": {
           "x": 0.05
          },
          "xaxis": {
           "automargin": true,
           "gridcolor": "white",
           "linecolor": "white",
           "ticks": "",
           "title": {
            "standoff": 15
           },
           "zerolinecolor": "white",
           "zerolinewidth": 2
          },
          "yaxis": {
           "automargin": true,
           "gridcolor": "white",
           "linecolor": "white",
           "ticks": "",
           "title": {
            "standoff": 15
           },
           "zerolinecolor": "white",
           "zerolinewidth": 2
          }
         }
        },
        "title": {
         "text": "Impact vs Stability (Rice_Production_223 - TotalNPK_315 +20%)"
        },
        "width": 800,
        "xaxis": {
         "anchor": "y",
         "domain": [
          0,
          1
         ],
         "title": {
          "text": "New Stability(NPK + 20%)"
         }
        },
        "yaxis": {
         "anchor": "x",
         "domain": [
          0,
          1
         ],
         "title": {
          "text": "Impact Score Rice_Production_223 (TotalNPK_315 +20%)"
         }
        }
       }
      }
     },
     "metadata": {},
     "output_type": "display_data"
    },
    {
     "data": {
      "application/vnd.plotly.v1+json": {
       "config": {
        "plotlyServerURL": "https://plot.ly"
       },
       "data": [
        {
         "hoverinfo": "text+name",
         "hovertemplate": "New Stability(NPK - 20%)=%{x}<br>Impact Score Rice_Production_223 (TotalNPK_315 -20%)=%{y}<extra></extra>",
         "hovertext": [
          "District: BENGALURU<br>Impact (Rice_Production_223): 0.9012793078852304 <br>Stability (TotalNPK_315 -20%): 0.9597167575527484",
          "District: BENGALURU(R)<br>Impact (Rice_Production_223): 0.9245818089781642 <br>Stability (TotalNPK_315 -20%): 0.9733301120544856",
          "District: RAMANAGARA<br>Impact (Rice_Production_223): 0.9923839764386461 <br>Stability (TotalNPK_315 -20%): 0.853065967188974",
          "District: CHITRADURGA<br>Impact (Rice_Production_223): 0.8289500931869953 <br>Stability (TotalNPK_315 -20%): 0.7333126251121695",
          "District: DAVANAGERE<br>Impact (Rice_Production_223): 0.4621844872414349 <br>Stability (TotalNPK_315 -20%): 0.827967603138446",
          "District: KOLAR<br>Impact (Rice_Production_223): 0.9077218655806354 <br>Stability (TotalNPK_315 -20%): 0.9916476841305998",
          "District: CHIKKABALLAPURA<br>Impact (Rice_Production_223): 0.8722475322703112 <br>Stability (TotalNPK_315 -20%): 0.9895039997545693",
          "District: SHIVAMOGGA<br>Impact (Rice_Production_223): 0.7097340144037181 <br>Stability (TotalNPK_315 -20%): 0.9665527714502657",
          "District: TUMAKURU<br>Impact (Rice_Production_223): 0.8159269229884264 <br>Stability (TotalNPK_315 -20%): 0.9829173610494796",
          "District: CHIKKAMAGALURU<br>Impact (Rice_Production_223): 0.6449978141322101 <br>Stability (TotalNPK_315 -20%): 0.8754310103968419",
          "District: DAKSHINA KANNADA<br>Impact (Rice_Production_223): 0.9284415913117507 <br>Stability (TotalNPK_315 -20%): 0.8431970617335083",
          "District: UDUPI<br>Impact (Rice_Production_223): 0.9999999999999999 <br>Stability (TotalNPK_315 -20%): 0.8076091208209659",
          "District: HASSAN<br>Impact (Rice_Production_223): 0.6417305170152547 <br>Stability (TotalNPK_315 -20%): 0.8825882208570137",
          "District: KODAGU<br>Impact (Rice_Production_223): 0.7998262810335702 <br>Stability (TotalNPK_315 -20%): 0.9497787288220091",
          "District: MANDYA<br>Impact (Rice_Production_223): 0.6870182462437586 <br>Stability (TotalNPK_315 -20%): 0.8815926922988427",
          "District: MYSURU<br>Impact (Rice_Production_223): 0.6786429212397322 <br>Stability (TotalNPK_315 -20%): 0.9218883021559559",
          "District: CHAMARAJANAGAR<br>Impact (Rice_Production_223): 0.8984434320425209 <br>Stability (TotalNPK_315 -20%): 0.8875716159315248",
          "District: BELAGAVI<br>Impact (Rice_Production_223): 0.0 <br>Stability (TotalNPK_315 -20%): 0.21200271507788604",
          "District: VIJAYAPURA<br>Impact (Rice_Production_223): 0.7234302017901106 <br>Stability (TotalNPK_315 -20%): 0.7051528956995927",
          "District: BAGALKOT<br>Impact (Rice_Production_223): 0.547502358436299 <br>Stability (TotalNPK_315 -20%): 0.9721278847702539",
          "District: DHARAWAD<br>Impact (Rice_Production_223): 0.8203389245530476 <br>Stability (TotalNPK_315 -20%): 0.807205022894089",
          "District: GADAG<br>Impact (Rice_Production_223): 0.9014518763949286 <br>Stability (TotalNPK_315 -20%): 0.593134265970257",
          "District: HAVERI<br>Impact (Rice_Production_223): 0.6614608499574333 <br>Stability (TotalNPK_315 -20%): 0.9669751808134497",
          "District: UTTARA KANNADA<br>Impact (Rice_Production_223): 0.947263063436184 <br>Stability (TotalNPK_315 -20%): 0.6910436943466556",
          "District: BALLARI<br>Impact (Rice_Production_223): 0.32594164883458754 <br>Stability (TotalNPK_315 -20%): 0.6880555747298344",
          "District: BIDAR<br>Impact (Rice_Production_223): 0.8935252295161178 <br>Stability (TotalNPK_315 -20%): 0.8312222452313569",
          "District: KALABURAGI<br>Impact (Rice_Production_223): 0.7247474747474747 <br>Stability (TotalNPK_315 -20%): 0.9841275319635229",
          "District: YADGIRI<br>Impact (Rice_Production_223): 0.509669588826764 <br>Stability (TotalNPK_315 -20%): 0.9066116748349096",
          "District: RAICHUR<br>Impact (Rice_Production_223): 0.36099606543797835 <br>Stability (TotalNPK_315 -20%): 0.8172326913784773",
          "District: KOPPAL<br>Impact (Rice_Production_223): 0.6122730724097466 <br>Stability (TotalNPK_315 -20%): 0.921699914866202"
         ],
         "legendgroup": "",
         "marker": {
          "color": "#636efa",
          "symbol": "circle"
         },
         "mode": "markers",
         "name": "",
         "orientation": "v",
         "showlegend": false,
         "type": "scatter",
         "x": [
          0.9597167575527484,
          0.9733301120544856,
          0.853065967188974,
          0.7333126251121695,
          0.827967603138446,
          0.9916476841305998,
          0.9895039997545693,
          0.9665527714502657,
          0.9829173610494796,
          0.8754310103968419,
          0.8431970617335083,
          0.8076091208209659,
          0.8825882208570137,
          0.9497787288220091,
          0.8815926922988427,
          0.9218883021559559,
          0.8875716159315248,
          0.21200271507788604,
          0.7051528956995927,
          0.9721278847702539,
          0.807205022894089,
          0.593134265970257,
          0.9669751808134497,
          0.6910436943466556,
          0.6880555747298344,
          0.8312222452313569,
          0.9841275319635229,
          0.9066116748349096,
          0.8172326913784773,
          0.921699914866202
         ],
         "xaxis": "x",
         "y": [
          0.9012793078852304,
          0.9245818089781642,
          0.9923839764386461,
          0.8289500931869953,
          0.4621844872414349,
          0.9077218655806354,
          0.8722475322703112,
          0.7097340144037181,
          0.8159269229884264,
          0.6449978141322101,
          0.9284415913117507,
          0.9999999999999999,
          0.6417305170152547,
          0.7998262810335702,
          0.6870182462437586,
          0.6786429212397322,
          0.8984434320425209,
          0,
          0.7234302017901106,
          0.547502358436299,
          0.8203389245530476,
          0.9014518763949286,
          0.6614608499574333,
          0.947263063436184,
          0.32594164883458754,
          0.8935252295161178,
          0.7247474747474747,
          0.509669588826764,
          0.36099606543797835,
          0.6122730724097466
         ],
         "yaxis": "y"
        }
       ],
       "layout": {
        "annotations": [
         {
          "arrowcolor": "red",
          "arrowhead": 4,
          "ax": 0,
          "ay": -40,
          "font": {
           "color": "red"
          },
          "showarrow": true,
          "text": "Avg New Stability(NPK - 20%)",
          "x": 0.8474754309008296,
          "y": 0.9999999999999999
         },
         {
          "arrowcolor": "blue",
          "arrowhead": 4,
          "ax": -40,
          "ay": 0,
          "font": {
           "color": "blue"
          },
          "showarrow": true,
          "text": "Avg Normalized Rice_Production_223",
          "x": 0.9916476841305998,
          "y": 0.2759096277888988
         }
        ],
        "height": 500,
        "legend": {
         "tracegroupgap": 0
        },
        "shapes": [
         {
          "line": {
           "color": "red",
           "width": 2
          },
          "type": "line",
          "x0": 0.8474754309008296,
          "x1": 0.8474754309008296,
          "y0": 0,
          "y1": 0.9999999999999999
         },
         {
          "line": {
           "color": "blue",
           "width": 2
          },
          "type": "line",
          "x0": 0.21200271507788604,
          "x1": 0.9916476841305998,
          "y0": 0.2759096277888988,
          "y1": 0.2759096277888988
         }
        ],
        "template": {
         "data": {
          "bar": [
           {
            "error_x": {
             "color": "#2a3f5f"
            },
            "error_y": {
             "color": "#2a3f5f"
            },
            "marker": {
             "line": {
              "color": "#E5ECF6",
              "width": 0.5
             },
             "pattern": {
              "fillmode": "overlay",
              "size": 10,
              "solidity": 0.2
             }
            },
            "type": "bar"
           }
          ],
          "barpolar": [
           {
            "marker": {
             "line": {
              "color": "#E5ECF6",
              "width": 0.5
             },
             "pattern": {
              "fillmode": "overlay",
              "size": 10,
              "solidity": 0.2
             }
            },
            "type": "barpolar"
           }
          ],
          "carpet": [
           {
            "aaxis": {
             "endlinecolor": "#2a3f5f",
             "gridcolor": "white",
             "linecolor": "white",
             "minorgridcolor": "white",
             "startlinecolor": "#2a3f5f"
            },
            "baxis": {
             "endlinecolor": "#2a3f5f",
             "gridcolor": "white",
             "linecolor": "white",
             "minorgridcolor": "white",
             "startlinecolor": "#2a3f5f"
            },
            "type": "carpet"
           }
          ],
          "choropleth": [
           {
            "colorbar": {
             "outlinewidth": 0,
             "ticks": ""
            },
            "type": "choropleth"
           }
          ],
          "contour": [
           {
            "colorbar": {
             "outlinewidth": 0,
             "ticks": ""
            },
            "colorscale": [
             [
              0,
              "#0d0887"
             ],
             [
              0.1111111111111111,
              "#46039f"
             ],
             [
              0.2222222222222222,
              "#7201a8"
             ],
             [
              0.3333333333333333,
              "#9c179e"
             ],
             [
              0.4444444444444444,
              "#bd3786"
             ],
             [
              0.5555555555555556,
              "#d8576b"
             ],
             [
              0.6666666666666666,
              "#ed7953"
             ],
             [
              0.7777777777777778,
              "#fb9f3a"
             ],
             [
              0.8888888888888888,
              "#fdca26"
             ],
             [
              1,
              "#f0f921"
             ]
            ],
            "type": "contour"
           }
          ],
          "contourcarpet": [
           {
            "colorbar": {
             "outlinewidth": 0,
             "ticks": ""
            },
            "type": "contourcarpet"
           }
          ],
          "heatmap": [
           {
            "colorbar": {
             "outlinewidth": 0,
             "ticks": ""
            },
            "colorscale": [
             [
              0,
              "#0d0887"
             ],
             [
              0.1111111111111111,
              "#46039f"
             ],
             [
              0.2222222222222222,
              "#7201a8"
             ],
             [
              0.3333333333333333,
              "#9c179e"
             ],
             [
              0.4444444444444444,
              "#bd3786"
             ],
             [
              0.5555555555555556,
              "#d8576b"
             ],
             [
              0.6666666666666666,
              "#ed7953"
             ],
             [
              0.7777777777777778,
              "#fb9f3a"
             ],
             [
              0.8888888888888888,
              "#fdca26"
             ],
             [
              1,
              "#f0f921"
             ]
            ],
            "type": "heatmap"
           }
          ],
          "heatmapgl": [
           {
            "colorbar": {
             "outlinewidth": 0,
             "ticks": ""
            },
            "colorscale": [
             [
              0,
              "#0d0887"
             ],
             [
              0.1111111111111111,
              "#46039f"
             ],
             [
              0.2222222222222222,
              "#7201a8"
             ],
             [
              0.3333333333333333,
              "#9c179e"
             ],
             [
              0.4444444444444444,
              "#bd3786"
             ],
             [
              0.5555555555555556,
              "#d8576b"
             ],
             [
              0.6666666666666666,
              "#ed7953"
             ],
             [
              0.7777777777777778,
              "#fb9f3a"
             ],
             [
              0.8888888888888888,
              "#fdca26"
             ],
             [
              1,
              "#f0f921"
             ]
            ],
            "type": "heatmapgl"
           }
          ],
          "histogram": [
           {
            "marker": {
             "pattern": {
              "fillmode": "overlay",
              "size": 10,
              "solidity": 0.2
             }
            },
            "type": "histogram"
           }
          ],
          "histogram2d": [
           {
            "colorbar": {
             "outlinewidth": 0,
             "ticks": ""
            },
            "colorscale": [
             [
              0,
              "#0d0887"
             ],
             [
              0.1111111111111111,
              "#46039f"
             ],
             [
              0.2222222222222222,
              "#7201a8"
             ],
             [
              0.3333333333333333,
              "#9c179e"
             ],
             [
              0.4444444444444444,
              "#bd3786"
             ],
             [
              0.5555555555555556,
              "#d8576b"
             ],
             [
              0.6666666666666666,
              "#ed7953"
             ],
             [
              0.7777777777777778,
              "#fb9f3a"
             ],
             [
              0.8888888888888888,
              "#fdca26"
             ],
             [
              1,
              "#f0f921"
             ]
            ],
            "type": "histogram2d"
           }
          ],
          "histogram2dcontour": [
           {
            "colorbar": {
             "outlinewidth": 0,
             "ticks": ""
            },
            "colorscale": [
             [
              0,
              "#0d0887"
             ],
             [
              0.1111111111111111,
              "#46039f"
             ],
             [
              0.2222222222222222,
              "#7201a8"
             ],
             [
              0.3333333333333333,
              "#9c179e"
             ],
             [
              0.4444444444444444,
              "#bd3786"
             ],
             [
              0.5555555555555556,
              "#d8576b"
             ],
             [
              0.6666666666666666,
              "#ed7953"
             ],
             [
              0.7777777777777778,
              "#fb9f3a"
             ],
             [
              0.8888888888888888,
              "#fdca26"
             ],
             [
              1,
              "#f0f921"
             ]
            ],
            "type": "histogram2dcontour"
           }
          ],
          "mesh3d": [
           {
            "colorbar": {
             "outlinewidth": 0,
             "ticks": ""
            },
            "type": "mesh3d"
           }
          ],
          "parcoords": [
           {
            "line": {
             "colorbar": {
              "outlinewidth": 0,
              "ticks": ""
             }
            },
            "type": "parcoords"
           }
          ],
          "pie": [
           {
            "automargin": true,
            "type": "pie"
           }
          ],
          "scatter": [
           {
            "fillpattern": {
             "fillmode": "overlay",
             "size": 10,
             "solidity": 0.2
            },
            "type": "scatter"
           }
          ],
          "scatter3d": [
           {
            "line": {
             "colorbar": {
              "outlinewidth": 0,
              "ticks": ""
             }
            },
            "marker": {
             "colorbar": {
              "outlinewidth": 0,
              "ticks": ""
             }
            },
            "type": "scatter3d"
           }
          ],
          "scattercarpet": [
           {
            "marker": {
             "colorbar": {
              "outlinewidth": 0,
              "ticks": ""
             }
            },
            "type": "scattercarpet"
           }
          ],
          "scattergeo": [
           {
            "marker": {
             "colorbar": {
              "outlinewidth": 0,
              "ticks": ""
             }
            },
            "type": "scattergeo"
           }
          ],
          "scattergl": [
           {
            "marker": {
             "colorbar": {
              "outlinewidth": 0,
              "ticks": ""
             }
            },
            "type": "scattergl"
           }
          ],
          "scattermapbox": [
           {
            "marker": {
             "colorbar": {
              "outlinewidth": 0,
              "ticks": ""
             }
            },
            "type": "scattermapbox"
           }
          ],
          "scatterpolar": [
           {
            "marker": {
             "colorbar": {
              "outlinewidth": 0,
              "ticks": ""
             }
            },
            "type": "scatterpolar"
           }
          ],
          "scatterpolargl": [
           {
            "marker": {
             "colorbar": {
              "outlinewidth": 0,
              "ticks": ""
             }
            },
            "type": "scatterpolargl"
           }
          ],
          "scatterternary": [
           {
            "marker": {
             "colorbar": {
              "outlinewidth": 0,
              "ticks": ""
             }
            },
            "type": "scatterternary"
           }
          ],
          "surface": [
           {
            "colorbar": {
             "outlinewidth": 0,
             "ticks": ""
            },
            "colorscale": [
             [
              0,
              "#0d0887"
             ],
             [
              0.1111111111111111,
              "#46039f"
             ],
             [
              0.2222222222222222,
              "#7201a8"
             ],
             [
              0.3333333333333333,
              "#9c179e"
             ],
             [
              0.4444444444444444,
              "#bd3786"
             ],
             [
              0.5555555555555556,
              "#d8576b"
             ],
             [
              0.6666666666666666,
              "#ed7953"
             ],
             [
              0.7777777777777778,
              "#fb9f3a"
             ],
             [
              0.8888888888888888,
              "#fdca26"
             ],
             [
              1,
              "#f0f921"
             ]
            ],
            "type": "surface"
           }
          ],
          "table": [
           {
            "cells": {
             "fill": {
              "color": "#EBF0F8"
             },
             "line": {
              "color": "white"
             }
            },
            "header": {
             "fill": {
              "color": "#C8D4E3"
             },
             "line": {
              "color": "white"
             }
            },
            "type": "table"
           }
          ]
         },
         "layout": {
          "annotationdefaults": {
           "arrowcolor": "#2a3f5f",
           "arrowhead": 0,
           "arrowwidth": 1
          },
          "autotypenumbers": "strict",
          "coloraxis": {
           "colorbar": {
            "outlinewidth": 0,
            "ticks": ""
           }
          },
          "colorscale": {
           "diverging": [
            [
             0,
             "#8e0152"
            ],
            [
             0.1,
             "#c51b7d"
            ],
            [
             0.2,
             "#de77ae"
            ],
            [
             0.3,
             "#f1b6da"
            ],
            [
             0.4,
             "#fde0ef"
            ],
            [
             0.5,
             "#f7f7f7"
            ],
            [
             0.6,
             "#e6f5d0"
            ],
            [
             0.7,
             "#b8e186"
            ],
            [
             0.8,
             "#7fbc41"
            ],
            [
             0.9,
             "#4d9221"
            ],
            [
             1,
             "#276419"
            ]
           ],
           "sequential": [
            [
             0,
             "#0d0887"
            ],
            [
             0.1111111111111111,
             "#46039f"
            ],
            [
             0.2222222222222222,
             "#7201a8"
            ],
            [
             0.3333333333333333,
             "#9c179e"
            ],
            [
             0.4444444444444444,
             "#bd3786"
            ],
            [
             0.5555555555555556,
             "#d8576b"
            ],
            [
             0.6666666666666666,
             "#ed7953"
            ],
            [
             0.7777777777777778,
             "#fb9f3a"
            ],
            [
             0.8888888888888888,
             "#fdca26"
            ],
            [
             1,
             "#f0f921"
            ]
           ],
           "sequentialminus": [
            [
             0,
             "#0d0887"
            ],
            [
             0.1111111111111111,
             "#46039f"
            ],
            [
             0.2222222222222222,
             "#7201a8"
            ],
            [
             0.3333333333333333,
             "#9c179e"
            ],
            [
             0.4444444444444444,
             "#bd3786"
            ],
            [
             0.5555555555555556,
             "#d8576b"
            ],
            [
             0.6666666666666666,
             "#ed7953"
            ],
            [
             0.7777777777777778,
             "#fb9f3a"
            ],
            [
             0.8888888888888888,
             "#fdca26"
            ],
            [
             1,
             "#f0f921"
            ]
           ]
          },
          "colorway": [
           "#636efa",
           "#EF553B",
           "#00cc96",
           "#ab63fa",
           "#FFA15A",
           "#19d3f3",
           "#FF6692",
           "#B6E880",
           "#FF97FF",
           "#FECB52"
          ],
          "font": {
           "color": "#2a3f5f"
          },
          "geo": {
           "bgcolor": "white",
           "lakecolor": "white",
           "landcolor": "#E5ECF6",
           "showlakes": true,
           "showland": true,
           "subunitcolor": "white"
          },
          "hoverlabel": {
           "align": "left"
          },
          "hovermode": "closest",
          "mapbox": {
           "style": "light"
          },
          "paper_bgcolor": "white",
          "plot_bgcolor": "#E5ECF6",
          "polar": {
           "angularaxis": {
            "gridcolor": "white",
            "linecolor": "white",
            "ticks": ""
           },
           "bgcolor": "#E5ECF6",
           "radialaxis": {
            "gridcolor": "white",
            "linecolor": "white",
            "ticks": ""
           }
          },
          "scene": {
           "xaxis": {
            "backgroundcolor": "#E5ECF6",
            "gridcolor": "white",
            "gridwidth": 2,
            "linecolor": "white",
            "showbackground": true,
            "ticks": "",
            "zerolinecolor": "white"
           },
           "yaxis": {
            "backgroundcolor": "#E5ECF6",
            "gridcolor": "white",
            "gridwidth": 2,
            "linecolor": "white",
            "showbackground": true,
            "ticks": "",
            "zerolinecolor": "white"
           },
           "zaxis": {
            "backgroundcolor": "#E5ECF6",
            "gridcolor": "white",
            "gridwidth": 2,
            "linecolor": "white",
            "showbackground": true,
            "ticks": "",
            "zerolinecolor": "white"
           }
          },
          "shapedefaults": {
           "line": {
            "color": "#2a3f5f"
           }
          },
          "ternary": {
           "aaxis": {
            "gridcolor": "white",
            "linecolor": "white",
            "ticks": ""
           },
           "baxis": {
            "gridcolor": "white",
            "linecolor": "white",
            "ticks": ""
           },
           "bgcolor": "#E5ECF6",
           "caxis": {
            "gridcolor": "white",
            "linecolor": "white",
            "ticks": ""
           }
          },
          "title": {
           "x": 0.05
          },
          "xaxis": {
           "automargin": true,
           "gridcolor": "white",
           "linecolor": "white",
           "ticks": "",
           "title": {
            "standoff": 15
           },
           "zerolinecolor": "white",
           "zerolinewidth": 2
          },
          "yaxis": {
           "automargin": true,
           "gridcolor": "white",
           "linecolor": "white",
           "ticks": "",
           "title": {
            "standoff": 15
           },
           "zerolinecolor": "white",
           "zerolinewidth": 2
          }
         }
        },
        "title": {
         "text": "Impact vs Stability (Rice_Production_223 - TotalNPK_315 -20%)"
        },
        "width": 800,
        "xaxis": {
         "anchor": "y",
         "domain": [
          0,
          1
         ],
         "title": {
          "text": "New Stability(NPK - 20%)"
         }
        },
        "yaxis": {
         "anchor": "x",
         "domain": [
          0,
          1
         ],
         "title": {
          "text": "Impact Score Rice_Production_223 (TotalNPK_315 -20%)"
         }
        }
       }
      }
     },
     "metadata": {},
     "output_type": "display_data"
    },
    {
     "data": {
      "text/html": [
       "<div>\n",
       "<style scoped>\n",
       "    .dataframe tbody tr th:only-of-type {\n",
       "        vertical-align: middle;\n",
       "    }\n",
       "\n",
       "    .dataframe tbody tr th {\n",
       "        vertical-align: top;\n",
       "    }\n",
       "\n",
       "    .dataframe thead th {\n",
       "        text-align: right;\n",
       "    }\n",
       "</style>\n",
       "<table border=\"1\" class=\"dataframe\">\n",
       "  <thead>\n",
       "    <tr style=\"text-align: right;\">\n",
       "      <th></th>\n",
       "      <th>District</th>\n",
       "      <th>Rice_Production_223 (TotalNPK_315 +20%)</th>\n",
       "      <th>Rice_Production_223 (TotalNPK_315 -20%)</th>\n",
       "      <th>Normalized Rice_Production_223 (TotalNPK_315 +20%)</th>\n",
       "      <th>Normalized Rice_Production_223 (TotalNPK_315 -20%)</th>\n",
       "      <th>Impact Score Rice_Production_223 (TotalNPK_315 +20%)</th>\n",
       "      <th>Impact Score Rice_Production_223 (TotalNPK_315 -20%)</th>\n",
       "      <th>New Stability(NPK + 20%)</th>\n",
       "      <th>New Stability(NPK - 20%)</th>\n",
       "    </tr>\n",
       "  </thead>\n",
       "  <tbody>\n",
       "    <tr>\n",
       "      <th>0</th>\n",
       "      <td>BENGALURU</td>\n",
       "      <td>73964.709483</td>\n",
       "      <td>52021.948395</td>\n",
       "      <td>0.098721</td>\n",
       "      <td>0.098721</td>\n",
       "      <td>0.098721</td>\n",
       "      <td>0.901279</td>\n",
       "      <td>0.959717</td>\n",
       "      <td>0.959717</td>\n",
       "    </tr>\n",
       "    <tr>\n",
       "      <th>1</th>\n",
       "      <td>BENGALURU(R)</td>\n",
       "      <td>62524.538934</td>\n",
       "      <td>44395.168029</td>\n",
       "      <td>0.075418</td>\n",
       "      <td>0.075418</td>\n",
       "      <td>0.075418</td>\n",
       "      <td>0.924582</td>\n",
       "      <td>0.973330</td>\n",
       "      <td>0.973330</td>\n",
       "    </tr>\n",
       "    <tr>\n",
       "      <th>2</th>\n",
       "      <td>RAMANAGARA</td>\n",
       "      <td>29237.624526</td>\n",
       "      <td>22203.891757</td>\n",
       "      <td>0.007616</td>\n",
       "      <td>0.007616</td>\n",
       "      <td>0.007616</td>\n",
       "      <td>0.992384</td>\n",
       "      <td>0.853066</td>\n",
       "      <td>0.853066</td>\n",
       "    </tr>\n",
       "    <tr>\n",
       "      <th>3</th>\n",
       "      <td>CHITRADURGA</td>\n",
       "      <td>109474.140361</td>\n",
       "      <td>75694.902314</td>\n",
       "      <td>0.171050</td>\n",
       "      <td>0.171050</td>\n",
       "      <td>0.171050</td>\n",
       "      <td>0.828950</td>\n",
       "      <td>0.733313</td>\n",
       "      <td>0.733313</td>\n",
       "    </tr>\n",
       "    <tr>\n",
       "      <th>4</th>\n",
       "      <td>DAVANAGERE</td>\n",
       "      <td>289534.686947</td>\n",
       "      <td>195735.266704</td>\n",
       "      <td>0.537816</td>\n",
       "      <td>0.537816</td>\n",
       "      <td>0.537816</td>\n",
       "      <td>0.462184</td>\n",
       "      <td>0.827968</td>\n",
       "      <td>0.827968</td>\n",
       "    </tr>\n",
       "  </tbody>\n",
       "</table>\n",
       "</div>"
      ],
      "text/plain": [
       "       District  Rice_Production_223 (TotalNPK_315 +20%)  \\\n",
       "0     BENGALURU                             73964.709483   \n",
       "1  BENGALURU(R)                             62524.538934   \n",
       "2    RAMANAGARA                             29237.624526   \n",
       "3   CHITRADURGA                            109474.140361   \n",
       "4    DAVANAGERE                            289534.686947   \n",
       "\n",
       "   Rice_Production_223 (TotalNPK_315 -20%)  \\\n",
       "0                             52021.948395   \n",
       "1                             44395.168029   \n",
       "2                             22203.891757   \n",
       "3                             75694.902314   \n",
       "4                            195735.266704   \n",
       "\n",
       "   Normalized Rice_Production_223 (TotalNPK_315 +20%)  \\\n",
       "0                                           0.098721    \n",
       "1                                           0.075418    \n",
       "2                                           0.007616    \n",
       "3                                           0.171050    \n",
       "4                                           0.537816    \n",
       "\n",
       "   Normalized Rice_Production_223 (TotalNPK_315 -20%)  \\\n",
       "0                                           0.098721    \n",
       "1                                           0.075418    \n",
       "2                                           0.007616    \n",
       "3                                           0.171050    \n",
       "4                                           0.537816    \n",
       "\n",
       "   Impact Score Rice_Production_223 (TotalNPK_315 +20%)  \\\n",
       "0                                           0.098721      \n",
       "1                                           0.075418      \n",
       "2                                           0.007616      \n",
       "3                                           0.171050      \n",
       "4                                           0.537816      \n",
       "\n",
       "   Impact Score Rice_Production_223 (TotalNPK_315 -20%)  \\\n",
       "0                                           0.901279      \n",
       "1                                           0.924582      \n",
       "2                                           0.992384      \n",
       "3                                           0.828950      \n",
       "4                                           0.462184      \n",
       "\n",
       "   New Stability(NPK + 20%)  New Stability(NPK - 20%)  \n",
       "0                  0.959717                  0.959717  \n",
       "1                  0.973330                  0.973330  \n",
       "2                  0.853066                  0.853066  \n",
       "3                  0.733313                  0.733313  \n",
       "4                  0.827968                  0.827968  "
      ]
     },
     "execution_count": 20,
     "metadata": {},
     "output_type": "execute_result"
    }
   ],
   "source": [
    "from bokeh.models import Span, Label\n",
    "from bokeh.plotting import figure, show, output_notebook\n",
    "from bokeh.models.sources import ColumnDataSource\n",
    "from bokeh.models.tools import HoverTool\n",
    "import statsmodels.api as sm\n",
    "from sklearn.preprocessing import MinMaxScaler\n",
    "import plotly.express as px\n",
    "\n",
    "# Define the function to calculate and visualize impact stability\n",
    "def calc_and_vis_impact_stability_1D(G, existing_data, adjacency_file, base_column, capability_vector, intervention, dim):\n",
    "    # Calculate Impact Score\n",
    "    X = sm.add_constant(df[base_column])\n",
    "    y = df[capability_vector]\n",
    "    model = sm.OLS(y, X).fit()\n",
    "    \n",
    "    m, c = model.params[base_column], model.params['const']\n",
    "\n",
    "    base_column_increase = (1 + intervention/100) * df[base_column]\n",
    "    base_column_decrease = (1 - intervention/100) * df[base_column]\n",
    "\n",
    "    new_vector_increase = m * base_column_increase + c\n",
    "    new_vector_decrease = m * base_column_decrease + c\n",
    "    \n",
    "    vector_plus = new_vector_increase - m * df[base_column] - c  \n",
    "    vector_minus = new_vector_decrease - m * df[base_column] - c\n",
    "\n",
    "    scaler = MinMaxScaler()\n",
    "    normalized_change_increase_vector = scaler.fit_transform(vector_plus.values.reshape(-1, 1))\n",
    "    normalized_change_decrease_vector = scaler.fit_transform(vector_minus.values.reshape(-1, 1))\n",
    "    normalized_new_increase_vector = scaler.fit_transform(new_vector_increase.values.reshape(-1, 1))\n",
    "    normalized_new_decrease_vector = scaler.fit_transform(new_vector_decrease.values.reshape(-1, 1))\n",
    "\n",
    "    result_df = pd.DataFrame({\n",
    "        f'{capability_vector} ({base_column} +{intervention}%)': new_vector_increase,\n",
    "        f'{capability_vector} ({base_column} -{intervention}%)': new_vector_decrease,\n",
    "        f'Normalized {capability_vector} ({base_column} +{intervention}%)': normalized_new_increase_vector.flatten(),\n",
    "        f'Normalized {capability_vector} ({base_column} -{intervention}%)': normalized_new_decrease_vector.flatten(),\n",
    "        f'Impact Score {capability_vector} ({base_column} +{intervention}%)': normalized_change_increase_vector.flatten(),\n",
    "        f'Impact Score {capability_vector} ({base_column} -{intervention}%)': normalized_change_decrease_vector.flatten(),\n",
    "    })\n",
    "    \n",
    "    # Merge Columns\n",
    "    for column in result_df.columns:\n",
    "        existing_data[column] = result_df[column]\n",
    "\n",
    "    # Calculate Stability and add to DataFrame\n",
    "    columns_to_pass = [f\"Normalized {capability_vector} ({base_column} {'+' if intervention >= 0 else '-'}{abs(intervention)}%)\"]\n",
    "    stability_column, stability_column_name = calculate_and_map_stability(G, existing_data.copy(), adjacency_file, columns_to_pass, intervention, dim)\n",
    "\n",
    "    existing_data[stability_column_name] = stability_column\n",
    "\n",
    "    # Calculate Stability for the opposite intervention and add to DataFrame\n",
    "    opposite_intervention = -intervention\n",
    "    columns_to_pass_opposite = [f\"Normalized {capability_vector} ({base_column} {'+' if opposite_intervention >= 0 else '-'}{abs(opposite_intervention)}%)\"]\n",
    "    stability_column_opposite, stability_column_name_opposite = calculate_and_map_stability(G, existing_data.copy(), adjacency_file, columns_to_pass_opposite, opposite_intervention, dim)\n",
    "\n",
    "    existing_data[stability_column_name_opposite] = stability_column_opposite\n",
    "\n",
    "    columns_to_pass = [f\"Normalized {capability_vector} ({base_column} {'+' if intervention >= 0 else '-'}{abs(intervention)}%)\"]\n",
    "    stability_column, stability_column_name = calculate_and_map_stability(G, existing_data.copy(), adjacency_file, columns_to_pass, intervention, dim)\n",
    "\n",
    "    existing_data[stability_column_name] = stability_column\n",
    "\n",
    "    # Calculate Stability for the opposite intervention and add to DataFrame\n",
    "    opposite_intervention = -intervention\n",
    "    columns_to_pass_opposite = [f\"Normalized {capability_vector} ({base_column} {'+' if opposite_intervention >= 0 else '-'}{abs(opposite_intervention)}%)\"]\n",
    "    stability_column_opposite, stability_column_name_opposite = calculate_and_map_stability(G, existing_data.copy(), adjacency_file, columns_to_pass_opposite, opposite_intervention, dim)\n",
    "\n",
    "    existing_data[stability_column_name_opposite] = stability_column_opposite\n",
    "\n",
    "    # Visualize with Plotly for +intervention\n",
    "    fig_increase = px.scatter(existing_data,\n",
    "                              x=stability_column_name,\n",
    "                              y=f'Impact Score {capability_vector} ({base_column} +{intervention}%)',\n",
    "                              title=f'Impact vs Stability ({capability_vector} - {base_column} +{intervention}%)',\n",
    "                              labels={'x': f'Stability ({base_column} +{intervention}%)', 'y': f'Impact ({capability_vector})'},\n",
    "                              size_max=8,\n",
    "                              width=800,\n",
    "                              height=500)\n",
    "    \n",
    "    fig_increase.update_traces(hoverlabel=dict(bgcolor='grey', font=dict(color='white')))\n",
    "\n",
    "    # Calculate average values from the DataFrame for +intervention\n",
    "    avg_x_increase = existing_data[stability_column_name].mean()\n",
    "    avg_y_increase = existing_data[f'Normalized {capability_vector} ({base_column} +{intervention}%)'].mean()\n",
    "\n",
    "    # Add average lines for +intervention\n",
    "    fig_increase.add_shape(\n",
    "        type='line',\n",
    "        x0=avg_x_increase,\n",
    "        x1=avg_x_increase,\n",
    "        y0=fig_increase.data[0].y.min(),\n",
    "        y1=fig_increase.data[0].y.max(),\n",
    "        line=dict(color='red', width=2)\n",
    "    )\n",
    "    fig_increase.add_shape(\n",
    "        type='line',\n",
    "        x0=fig_increase.data[0].x.min(),\n",
    "        x1=fig_increase.data[0].x.max(),\n",
    "        y0=avg_y_increase,\n",
    "        y1=avg_y_increase,\n",
    "        line=dict(color='blue', width=2)\n",
    "    )\n",
    "\n",
    "    # Add labels for average lines for +intervention\n",
    "    fig_increase.add_annotation(\n",
    "        x=avg_x_increase,\n",
    "        y=fig_increase.data[0].y.max(),\n",
    "        text=f'Avg {stability_column_name}',\n",
    "        showarrow=True,\n",
    "        arrowhead=4,\n",
    "        arrowcolor='red',\n",
    "        ax=0,\n",
    "        ay=-40,\n",
    "        font=dict(color='red')\n",
    "    )\n",
    "    fig_increase.add_annotation(\n",
    "        x=fig_increase.data[0].x.max(),\n",
    "        y=avg_y_increase,\n",
    "        text=f'Avg Normalized {capability_vector}',\n",
    "        showarrow=True,\n",
    "        arrowhead=4,\n",
    "        arrowcolor='blue',\n",
    "        ax=-40,\n",
    "        ay=0,\n",
    "        font=dict(color='blue')\n",
    "    )\n",
    "\n",
    "    # Add tooltips for +intervention\n",
    "    fig_increase.update_traces(hoverinfo='text+name',\n",
    "                               hovertext=[\"District: \" + str(d) +\n",
    "                                          f\"<br>Impact ({capability_vector}): {y} <br>Stability ({base_column} +{intervention}%): {x}\"\n",
    "                                          for x, y, d in zip(fig_increase.data[0].x, fig_increase.data[0].y, existing_data['District'])])\n",
    "\n",
    "    # Visualize with Plotly for -intervention\n",
    "    fig_decrease = px.scatter(existing_data,\n",
    "                              x=stability_column_name_opposite,\n",
    "                              y=f'Impact Score {capability_vector} ({base_column} -{intervention}%)',\n",
    "                              title=f'Impact vs Stability ({capability_vector} - {base_column} -{intervention}%)',\n",
    "                              labels={'x': f'Stability ({base_column} -{intervention}%)', 'y': f'Impact ({capability_vector})'},\n",
    "                              size_max=8,\n",
    "                              width=800,\n",
    "                              height=500)\n",
    "\n",
    "    # Calculate average values from the DataFrame for -intervention\n",
    "    avg_x_decrease = existing_data[stability_column_name_opposite].mean()\n",
    "    avg_y_decrease = existing_data[f'Normalized {capability_vector} ({base_column} -{intervention}%)'].mean()\n",
    "\n",
    "    # Add average lines for -intervention\n",
    "    fig_decrease.add_shape(\n",
    "        type='line',\n",
    "        x0=avg_x_decrease,\n",
    "        x1=avg_x_decrease,\n",
    "        y0=fig_decrease.data[0].y.min(),\n",
    "        y1=fig_decrease.data[0].y.max(),\n",
    "        line=dict(color='red', width=2)\n",
    "    )\n",
    "    fig_decrease.add_shape(\n",
    "        type='line',\n",
    "        x0=fig_decrease.data[0].x.min(),\n",
    "        x1=fig_decrease.data[0].x.max(),\n",
    "        y0=avg_y_decrease,\n",
    "        y1=avg_y_decrease,\n",
    "        line=dict(color='blue', width=2)\n",
    "    )\n",
    "\n",
    "    # Add labels for average lines for -intervention\n",
    "    fig_decrease.add_annotation(\n",
    "        x=avg_x_decrease,\n",
    "        y=fig_decrease.data[0].y.max(),\n",
    "        text=f'Avg {stability_column_name_opposite}',\n",
    "        showarrow=True,\n",
    "        arrowhead=4,\n",
    "        arrowcolor='red',\n",
    "        ax=0,\n",
    "        ay=-40,\n",
    "        font=dict(color='red')\n",
    "    )\n",
    "    fig_decrease.add_annotation(\n",
    "        x=fig_decrease.data[0].x.max(),\n",
    "        y=avg_y_decrease,\n",
    "        text=f'Avg Normalized {capability_vector}',\n",
    "        showarrow=True,\n",
    "        arrowhead=4,\n",
    "        arrowcolor='blue',\n",
    "        ax=-40,\n",
    "        ay=0,\n",
    "        font=dict(color='blue')\n",
    "    )\n",
    "\n",
    "    # Add tooltips for -intervention\n",
    "    fig_decrease.update_traces(hoverinfo='text+name',\n",
    "                               hovertext=[\"District: \" + str(d) +\n",
    "                                          f\"<br>Impact ({capability_vector}): {y} <br>Stability ({base_column} -{intervention}%): {x}\"\n",
    "                                          for x, y, d in zip(fig_decrease.data[0].x, fig_decrease.data[0].y, existing_data['District'])])\n",
    "\n",
    "    # Show the plots\n",
    "    fig_increase.show()\n",
    "    fig_decrease.show()\n",
    "\n",
    "    return existing_data\n",
    "\n",
    "base_Column = \"TotalNPK_315\"\n",
    "CapabilityVector = \"Rice_Production_223\"\n",
    "change_percentage = 20\n",
    "inter = [10,20]\n",
    "dim = 1\n",
    "# Call the function and get the handles for the two plots\n",
    "new_data_20 = calc_and_vis_impact_stability_1D(G, existing_data.copy(), adjacency_file, base_Column, CapabilityVector, change_percentage, dim)\n",
    "\n",
    "# Display the resulting DataFrame\n",
    "new_data_20.head()\n"
   ]
  },
  {
   "cell_type": "code",
   "execution_count": 21,
   "metadata": {},
   "outputs": [],
   "source": [
    "# ref = new_data[[\"District\",\"Impact Score Rice_Production_223 (TotalNPK_315 +10%)\",\"Impact Score Rice_Production_223 (TotalNPK_315 -10%)\"]]"
   ]
  },
  {
   "cell_type": "code",
   "execution_count": 22,
   "metadata": {},
   "outputs": [],
   "source": [
    "# cols_to_concat = ['Impact Score Rice_Production_223 (TotalNPK_315 +20%)', 'Impact Score Rice_Production_223 (TotalNPK_315 -20%)']\n",
    "# res = pd.concat([ref, new_data_20[cols_to_concat]], axis=1)"
   ]
  },
  {
   "cell_type": "code",
   "execution_count": 23,
   "metadata": {},
   "outputs": [],
   "source": [
    "# res.to_csv('res1.csv',index = False)"
   ]
  },
  {
   "cell_type": "code",
   "execution_count": 24,
   "metadata": {},
   "outputs": [
    {
     "data": {
      "application/vnd.plotly.v1+json": {
       "config": {
        "plotlyServerURL": "https://plot.ly"
       },
       "data": [
        {
         "hoverinfo": "text+name",
         "hoverlabel": {
          "bgcolor": "grey",
          "font": {
           "color": "white"
          }
         },
         "hovertemplate": "New Stability(NPK + 10%)=%{x}<br>Impact Score Rice_Production_223 (TotalNPK_315 +10%)=%{y}<extra></extra>",
         "hovertext": [
          "District: BENGALURU<br>Impact (Rice_Production_223): 0.09872069211476955 <br>Stability (TotalNPK_315 +10%): 0.9597167575527484",
          "District: BENGALURU(R)<br>Impact (Rice_Production_223): 0.07541819102183583 <br>Stability (TotalNPK_315 +10%): 0.9733301120544856",
          "District: RAMANAGARA<br>Impact (Rice_Production_223): 0.007616023561353866 <br>Stability (TotalNPK_315 +10%): 0.853065967188974",
          "District: CHITRADURGA<br>Impact (Rice_Production_223): 0.17104990681300486 <br>Stability (TotalNPK_315 +10%): 0.7333126251121695",
          "District: DAVANAGERE<br>Impact (Rice_Production_223): 0.5378155127585645 <br>Stability (TotalNPK_315 +10%): 0.8279676031384461",
          "District: KOLAR<br>Impact (Rice_Production_223): 0.09227813441936453 <br>Stability (TotalNPK_315 +10%): 0.9916476841305998",
          "District: CHIKKABALLAPURA<br>Impact (Rice_Production_223): 0.12775246772968862 <br>Stability (TotalNPK_315 +10%): 0.9895039997545693",
          "District: SHIVAMOGGA<br>Impact (Rice_Production_223): 0.2902659855962816 <br>Stability (TotalNPK_315 +10%): 0.9665527714502657",
          "District: TUMAKURU<br>Impact (Rice_Production_223): 0.1840730770115737 <br>Stability (TotalNPK_315 +10%): 0.9829173610494795",
          "District: CHIKKAMAGALURU<br>Impact (Rice_Production_223): 0.3550021858677897 <br>Stability (TotalNPK_315 +10%): 0.8754310103968418",
          "District: DAKSHINA KANNADA<br>Impact (Rice_Production_223): 0.07155840868824939 <br>Stability (TotalNPK_315 +10%): 0.8431970617335083",
          "District: UDUPI<br>Impact (Rice_Production_223): 0.0 <br>Stability (TotalNPK_315 +10%): 0.8076091208209659",
          "District: HASSAN<br>Impact (Rice_Production_223): 0.3582694829847454 <br>Stability (TotalNPK_315 +10%): 0.8825882208570135",
          "District: KODAGU<br>Impact (Rice_Production_223): 0.20017371896642971 <br>Stability (TotalNPK_315 +10%): 0.949778728822009",
          "District: MANDYA<br>Impact (Rice_Production_223): 0.3129817537562411 <br>Stability (TotalNPK_315 +10%): 0.8815926922988426",
          "District: MYSURU<br>Impact (Rice_Production_223): 0.3213570787602683 <br>Stability (TotalNPK_315 +10%): 0.9218883021559559",
          "District: CHAMARAJANAGAR<br>Impact (Rice_Production_223): 0.10155656795747928 <br>Stability (TotalNPK_315 +10%): 0.8875716159315248",
          "District: BELAGAVI<br>Impact (Rice_Production_223): 0.9999999999999999 <br>Stability (TotalNPK_315 +10%): 0.21200271507788593",
          "District: VIJAYAPURA<br>Impact (Rice_Production_223): 0.27656979820988997 <br>Stability (TotalNPK_315 +10%): 0.7051528956995927",
          "District: BAGALKOT<br>Impact (Rice_Production_223): 0.4524976415637015 <br>Stability (TotalNPK_315 +10%): 0.9721278847702539",
          "District: DHARAWAD<br>Impact (Rice_Production_223): 0.17966107544695273 <br>Stability (TotalNPK_315 +10%): 0.8072050228940889",
          "District: GADAG<br>Impact (Rice_Production_223): 0.09854812360507129 <br>Stability (TotalNPK_315 +10%): 0.5931342659702569",
          "District: HAVERI<br>Impact (Rice_Production_223): 0.3385391500425675 <br>Stability (TotalNPK_315 +10%): 0.9669751808134496",
          "District: UTTARA KANNADA<br>Impact (Rice_Production_223): 0.052736936563815846 <br>Stability (TotalNPK_315 +10%): 0.6910436943466556",
          "District: BALLARI<br>Impact (Rice_Production_223): 0.6740583511654139 <br>Stability (TotalNPK_315 +10%): 0.6880555747298343",
          "District: BIDAR<br>Impact (Rice_Production_223): 0.10647477048388213 <br>Stability (TotalNPK_315 +10%): 0.8312222452313569",
          "District: KALABURAGI<br>Impact (Rice_Production_223): 0.2752525252525254 <br>Stability (TotalNPK_315 +10%): 0.9841275319635229",
          "District: YADGIRI<br>Impact (Rice_Production_223): 0.49033041117323606 <br>Stability (TotalNPK_315 +10%): 0.9066116748349095",
          "District: RAICHUR<br>Impact (Rice_Production_223): 0.639003934562021 <br>Stability (TotalNPK_315 +10%): 0.8172326913784773",
          "District: KOPPAL<br>Impact (Rice_Production_223): 0.38772692759025357 <br>Stability (TotalNPK_315 +10%): 0.9216999148662018"
         ],
         "legendgroup": "",
         "marker": {
          "color": "#636efa",
          "symbol": "circle"
         },
         "mode": "markers",
         "name": "",
         "orientation": "v",
         "showlegend": false,
         "type": "scatter",
         "x": [
          0.9597167575527484,
          0.9733301120544856,
          0.853065967188974,
          0.7333126251121695,
          0.8279676031384461,
          0.9916476841305998,
          0.9895039997545693,
          0.9665527714502657,
          0.9829173610494795,
          0.8754310103968418,
          0.8431970617335083,
          0.8076091208209659,
          0.8825882208570135,
          0.949778728822009,
          0.8815926922988426,
          0.9218883021559559,
          0.8875716159315248,
          0.21200271507788593,
          0.7051528956995927,
          0.9721278847702539,
          0.8072050228940889,
          0.5931342659702569,
          0.9669751808134496,
          0.6910436943466556,
          0.6880555747298343,
          0.8312222452313569,
          0.9841275319635229,
          0.9066116748349095,
          0.8172326913784773,
          0.9216999148662018
         ],
         "xaxis": "x",
         "y": [
          0.09872069211476955,
          0.07541819102183583,
          0.007616023561353866,
          0.17104990681300486,
          0.5378155127585645,
          0.09227813441936453,
          0.12775246772968862,
          0.2902659855962816,
          0.1840730770115737,
          0.3550021858677897,
          0.07155840868824939,
          0,
          0.3582694829847454,
          0.20017371896642971,
          0.3129817537562411,
          0.3213570787602683,
          0.10155656795747928,
          0.9999999999999999,
          0.27656979820988997,
          0.4524976415637015,
          0.17966107544695273,
          0.09854812360507129,
          0.3385391500425675,
          0.052736936563815846,
          0.6740583511654139,
          0.10647477048388213,
          0.2752525252525254,
          0.49033041117323606,
          0.639003934562021,
          0.38772692759025357
         ],
         "yaxis": "y"
        }
       ],
       "layout": {
        "annotations": [
         {
          "arrowcolor": "red",
          "arrowhead": 4,
          "ax": 0,
          "ay": -40,
          "font": {
           "color": "red"
          },
          "showarrow": true,
          "text": "Avg New Stability(NPK + 10%)",
          "x": 0.8474754309008296,
          "y": 0.9999999999999999
         },
         {
          "arrowcolor": "blue",
          "arrowhead": 4,
          "ax": -40,
          "ay": 0,
          "font": {
           "color": "blue"
          },
          "showarrow": true,
          "text": "Avg Normalized Rice_Production_223",
          "x": 0.9916476841305998,
          "y": 0.2759096277888989
         }
        ],
        "height": 500,
        "legend": {
         "tracegroupgap": 0
        },
        "shapes": [
         {
          "line": {
           "color": "red",
           "width": 2
          },
          "type": "line",
          "x0": 0.8474754309008296,
          "x1": 0.8474754309008296,
          "y0": 0,
          "y1": 0.9999999999999999
         },
         {
          "line": {
           "color": "blue",
           "width": 2
          },
          "type": "line",
          "x0": 0.21200271507788593,
          "x1": 0.9916476841305998,
          "y0": 0.2759096277888989,
          "y1": 0.2759096277888989
         }
        ],
        "template": {
         "data": {
          "bar": [
           {
            "error_x": {
             "color": "#2a3f5f"
            },
            "error_y": {
             "color": "#2a3f5f"
            },
            "marker": {
             "line": {
              "color": "#E5ECF6",
              "width": 0.5
             },
             "pattern": {
              "fillmode": "overlay",
              "size": 10,
              "solidity": 0.2
             }
            },
            "type": "bar"
           }
          ],
          "barpolar": [
           {
            "marker": {
             "line": {
              "color": "#E5ECF6",
              "width": 0.5
             },
             "pattern": {
              "fillmode": "overlay",
              "size": 10,
              "solidity": 0.2
             }
            },
            "type": "barpolar"
           }
          ],
          "carpet": [
           {
            "aaxis": {
             "endlinecolor": "#2a3f5f",
             "gridcolor": "white",
             "linecolor": "white",
             "minorgridcolor": "white",
             "startlinecolor": "#2a3f5f"
            },
            "baxis": {
             "endlinecolor": "#2a3f5f",
             "gridcolor": "white",
             "linecolor": "white",
             "minorgridcolor": "white",
             "startlinecolor": "#2a3f5f"
            },
            "type": "carpet"
           }
          ],
          "choropleth": [
           {
            "colorbar": {
             "outlinewidth": 0,
             "ticks": ""
            },
            "type": "choropleth"
           }
          ],
          "contour": [
           {
            "colorbar": {
             "outlinewidth": 0,
             "ticks": ""
            },
            "colorscale": [
             [
              0,
              "#0d0887"
             ],
             [
              0.1111111111111111,
              "#46039f"
             ],
             [
              0.2222222222222222,
              "#7201a8"
             ],
             [
              0.3333333333333333,
              "#9c179e"
             ],
             [
              0.4444444444444444,
              "#bd3786"
             ],
             [
              0.5555555555555556,
              "#d8576b"
             ],
             [
              0.6666666666666666,
              "#ed7953"
             ],
             [
              0.7777777777777778,
              "#fb9f3a"
             ],
             [
              0.8888888888888888,
              "#fdca26"
             ],
             [
              1,
              "#f0f921"
             ]
            ],
            "type": "contour"
           }
          ],
          "contourcarpet": [
           {
            "colorbar": {
             "outlinewidth": 0,
             "ticks": ""
            },
            "type": "contourcarpet"
           }
          ],
          "heatmap": [
           {
            "colorbar": {
             "outlinewidth": 0,
             "ticks": ""
            },
            "colorscale": [
             [
              0,
              "#0d0887"
             ],
             [
              0.1111111111111111,
              "#46039f"
             ],
             [
              0.2222222222222222,
              "#7201a8"
             ],
             [
              0.3333333333333333,
              "#9c179e"
             ],
             [
              0.4444444444444444,
              "#bd3786"
             ],
             [
              0.5555555555555556,
              "#d8576b"
             ],
             [
              0.6666666666666666,
              "#ed7953"
             ],
             [
              0.7777777777777778,
              "#fb9f3a"
             ],
             [
              0.8888888888888888,
              "#fdca26"
             ],
             [
              1,
              "#f0f921"
             ]
            ],
            "type": "heatmap"
           }
          ],
          "heatmapgl": [
           {
            "colorbar": {
             "outlinewidth": 0,
             "ticks": ""
            },
            "colorscale": [
             [
              0,
              "#0d0887"
             ],
             [
              0.1111111111111111,
              "#46039f"
             ],
             [
              0.2222222222222222,
              "#7201a8"
             ],
             [
              0.3333333333333333,
              "#9c179e"
             ],
             [
              0.4444444444444444,
              "#bd3786"
             ],
             [
              0.5555555555555556,
              "#d8576b"
             ],
             [
              0.6666666666666666,
              "#ed7953"
             ],
             [
              0.7777777777777778,
              "#fb9f3a"
             ],
             [
              0.8888888888888888,
              "#fdca26"
             ],
             [
              1,
              "#f0f921"
             ]
            ],
            "type": "heatmapgl"
           }
          ],
          "histogram": [
           {
            "marker": {
             "pattern": {
              "fillmode": "overlay",
              "size": 10,
              "solidity": 0.2
             }
            },
            "type": "histogram"
           }
          ],
          "histogram2d": [
           {
            "colorbar": {
             "outlinewidth": 0,
             "ticks": ""
            },
            "colorscale": [
             [
              0,
              "#0d0887"
             ],
             [
              0.1111111111111111,
              "#46039f"
             ],
             [
              0.2222222222222222,
              "#7201a8"
             ],
             [
              0.3333333333333333,
              "#9c179e"
             ],
             [
              0.4444444444444444,
              "#bd3786"
             ],
             [
              0.5555555555555556,
              "#d8576b"
             ],
             [
              0.6666666666666666,
              "#ed7953"
             ],
             [
              0.7777777777777778,
              "#fb9f3a"
             ],
             [
              0.8888888888888888,
              "#fdca26"
             ],
             [
              1,
              "#f0f921"
             ]
            ],
            "type": "histogram2d"
           }
          ],
          "histogram2dcontour": [
           {
            "colorbar": {
             "outlinewidth": 0,
             "ticks": ""
            },
            "colorscale": [
             [
              0,
              "#0d0887"
             ],
             [
              0.1111111111111111,
              "#46039f"
             ],
             [
              0.2222222222222222,
              "#7201a8"
             ],
             [
              0.3333333333333333,
              "#9c179e"
             ],
             [
              0.4444444444444444,
              "#bd3786"
             ],
             [
              0.5555555555555556,
              "#d8576b"
             ],
             [
              0.6666666666666666,
              "#ed7953"
             ],
             [
              0.7777777777777778,
              "#fb9f3a"
             ],
             [
              0.8888888888888888,
              "#fdca26"
             ],
             [
              1,
              "#f0f921"
             ]
            ],
            "type": "histogram2dcontour"
           }
          ],
          "mesh3d": [
           {
            "colorbar": {
             "outlinewidth": 0,
             "ticks": ""
            },
            "type": "mesh3d"
           }
          ],
          "parcoords": [
           {
            "line": {
             "colorbar": {
              "outlinewidth": 0,
              "ticks": ""
             }
            },
            "type": "parcoords"
           }
          ],
          "pie": [
           {
            "automargin": true,
            "type": "pie"
           }
          ],
          "scatter": [
           {
            "fillpattern": {
             "fillmode": "overlay",
             "size": 10,
             "solidity": 0.2
            },
            "type": "scatter"
           }
          ],
          "scatter3d": [
           {
            "line": {
             "colorbar": {
              "outlinewidth": 0,
              "ticks": ""
             }
            },
            "marker": {
             "colorbar": {
              "outlinewidth": 0,
              "ticks": ""
             }
            },
            "type": "scatter3d"
           }
          ],
          "scattercarpet": [
           {
            "marker": {
             "colorbar": {
              "outlinewidth": 0,
              "ticks": ""
             }
            },
            "type": "scattercarpet"
           }
          ],
          "scattergeo": [
           {
            "marker": {
             "colorbar": {
              "outlinewidth": 0,
              "ticks": ""
             }
            },
            "type": "scattergeo"
           }
          ],
          "scattergl": [
           {
            "marker": {
             "colorbar": {
              "outlinewidth": 0,
              "ticks": ""
             }
            },
            "type": "scattergl"
           }
          ],
          "scattermapbox": [
           {
            "marker": {
             "colorbar": {
              "outlinewidth": 0,
              "ticks": ""
             }
            },
            "type": "scattermapbox"
           }
          ],
          "scatterpolar": [
           {
            "marker": {
             "colorbar": {
              "outlinewidth": 0,
              "ticks": ""
             }
            },
            "type": "scatterpolar"
           }
          ],
          "scatterpolargl": [
           {
            "marker": {
             "colorbar": {
              "outlinewidth": 0,
              "ticks": ""
             }
            },
            "type": "scatterpolargl"
           }
          ],
          "scatterternary": [
           {
            "marker": {
             "colorbar": {
              "outlinewidth": 0,
              "ticks": ""
             }
            },
            "type": "scatterternary"
           }
          ],
          "surface": [
           {
            "colorbar": {
             "outlinewidth": 0,
             "ticks": ""
            },
            "colorscale": [
             [
              0,
              "#0d0887"
             ],
             [
              0.1111111111111111,
              "#46039f"
             ],
             [
              0.2222222222222222,
              "#7201a8"
             ],
             [
              0.3333333333333333,
              "#9c179e"
             ],
             [
              0.4444444444444444,
              "#bd3786"
             ],
             [
              0.5555555555555556,
              "#d8576b"
             ],
             [
              0.6666666666666666,
              "#ed7953"
             ],
             [
              0.7777777777777778,
              "#fb9f3a"
             ],
             [
              0.8888888888888888,
              "#fdca26"
             ],
             [
              1,
              "#f0f921"
             ]
            ],
            "type": "surface"
           }
          ],
          "table": [
           {
            "cells": {
             "fill": {
              "color": "#EBF0F8"
             },
             "line": {
              "color": "white"
             }
            },
            "header": {
             "fill": {
              "color": "#C8D4E3"
             },
             "line": {
              "color": "white"
             }
            },
            "type": "table"
           }
          ]
         },
         "layout": {
          "annotationdefaults": {
           "arrowcolor": "#2a3f5f",
           "arrowhead": 0,
           "arrowwidth": 1
          },
          "autotypenumbers": "strict",
          "coloraxis": {
           "colorbar": {
            "outlinewidth": 0,
            "ticks": ""
           }
          },
          "colorscale": {
           "diverging": [
            [
             0,
             "#8e0152"
            ],
            [
             0.1,
             "#c51b7d"
            ],
            [
             0.2,
             "#de77ae"
            ],
            [
             0.3,
             "#f1b6da"
            ],
            [
             0.4,
             "#fde0ef"
            ],
            [
             0.5,
             "#f7f7f7"
            ],
            [
             0.6,
             "#e6f5d0"
            ],
            [
             0.7,
             "#b8e186"
            ],
            [
             0.8,
             "#7fbc41"
            ],
            [
             0.9,
             "#4d9221"
            ],
            [
             1,
             "#276419"
            ]
           ],
           "sequential": [
            [
             0,
             "#0d0887"
            ],
            [
             0.1111111111111111,
             "#46039f"
            ],
            [
             0.2222222222222222,
             "#7201a8"
            ],
            [
             0.3333333333333333,
             "#9c179e"
            ],
            [
             0.4444444444444444,
             "#bd3786"
            ],
            [
             0.5555555555555556,
             "#d8576b"
            ],
            [
             0.6666666666666666,
             "#ed7953"
            ],
            [
             0.7777777777777778,
             "#fb9f3a"
            ],
            [
             0.8888888888888888,
             "#fdca26"
            ],
            [
             1,
             "#f0f921"
            ]
           ],
           "sequentialminus": [
            [
             0,
             "#0d0887"
            ],
            [
             0.1111111111111111,
             "#46039f"
            ],
            [
             0.2222222222222222,
             "#7201a8"
            ],
            [
             0.3333333333333333,
             "#9c179e"
            ],
            [
             0.4444444444444444,
             "#bd3786"
            ],
            [
             0.5555555555555556,
             "#d8576b"
            ],
            [
             0.6666666666666666,
             "#ed7953"
            ],
            [
             0.7777777777777778,
             "#fb9f3a"
            ],
            [
             0.8888888888888888,
             "#fdca26"
            ],
            [
             1,
             "#f0f921"
            ]
           ]
          },
          "colorway": [
           "#636efa",
           "#EF553B",
           "#00cc96",
           "#ab63fa",
           "#FFA15A",
           "#19d3f3",
           "#FF6692",
           "#B6E880",
           "#FF97FF",
           "#FECB52"
          ],
          "font": {
           "color": "#2a3f5f"
          },
          "geo": {
           "bgcolor": "white",
           "lakecolor": "white",
           "landcolor": "#E5ECF6",
           "showlakes": true,
           "showland": true,
           "subunitcolor": "white"
          },
          "hoverlabel": {
           "align": "left"
          },
          "hovermode": "closest",
          "mapbox": {
           "style": "light"
          },
          "paper_bgcolor": "white",
          "plot_bgcolor": "#E5ECF6",
          "polar": {
           "angularaxis": {
            "gridcolor": "white",
            "linecolor": "white",
            "ticks": ""
           },
           "bgcolor": "#E5ECF6",
           "radialaxis": {
            "gridcolor": "white",
            "linecolor": "white",
            "ticks": ""
           }
          },
          "scene": {
           "xaxis": {
            "backgroundcolor": "#E5ECF6",
            "gridcolor": "white",
            "gridwidth": 2,
            "linecolor": "white",
            "showbackground": true,
            "ticks": "",
            "zerolinecolor": "white"
           },
           "yaxis": {
            "backgroundcolor": "#E5ECF6",
            "gridcolor": "white",
            "gridwidth": 2,
            "linecolor": "white",
            "showbackground": true,
            "ticks": "",
            "zerolinecolor": "white"
           },
           "zaxis": {
            "backgroundcolor": "#E5ECF6",
            "gridcolor": "white",
            "gridwidth": 2,
            "linecolor": "white",
            "showbackground": true,
            "ticks": "",
            "zerolinecolor": "white"
           }
          },
          "shapedefaults": {
           "line": {
            "color": "#2a3f5f"
           }
          },
          "ternary": {
           "aaxis": {
            "gridcolor": "white",
            "linecolor": "white",
            "ticks": ""
           },
           "baxis": {
            "gridcolor": "white",
            "linecolor": "white",
            "ticks": ""
           },
           "bgcolor": "#E5ECF6",
           "caxis": {
            "gridcolor": "white",
            "linecolor": "white",
            "ticks": ""
           }
          },
          "title": {
           "x": 0.05
          },
          "xaxis": {
           "automargin": true,
           "gridcolor": "white",
           "linecolor": "white",
           "ticks": "",
           "title": {
            "standoff": 15
           },
           "zerolinecolor": "white",
           "zerolinewidth": 2
          },
          "yaxis": {
           "automargin": true,
           "gridcolor": "white",
           "linecolor": "white",
           "ticks": "",
           "title": {
            "standoff": 15
           },
           "zerolinecolor": "white",
           "zerolinewidth": 2
          }
         }
        },
        "title": {
         "text": "Impact vs Stability (Rice_Production_223 - TotalNPK_315 +10%)"
        },
        "width": 800,
        "xaxis": {
         "anchor": "y",
         "domain": [
          0,
          1
         ],
         "title": {
          "text": "New Stability(NPK + 10%)"
         }
        },
        "yaxis": {
         "anchor": "x",
         "domain": [
          0,
          1
         ],
         "title": {
          "text": "Impact Score Rice_Production_223 (TotalNPK_315 +10%)"
         }
        }
       }
      }
     },
     "metadata": {},
     "output_type": "display_data"
    },
    {
     "data": {
      "application/vnd.plotly.v1+json": {
       "config": {
        "plotlyServerURL": "https://plot.ly"
       },
       "data": [
        {
         "hoverinfo": "text+name",
         "hovertemplate": "New Stability(NPK - 10%)=%{x}<br>Impact Score Rice_Production_223 (TotalNPK_315 -10%)=%{y}<extra></extra>",
         "hovertext": [
          "District: BENGALURU<br>Impact (Rice_Production_223): 0.9012793078852301 <br>Stability (TotalNPK_315 -10%): 0.9597167575527484",
          "District: BENGALURU(R)<br>Impact (Rice_Production_223): 0.9245818089781647 <br>Stability (TotalNPK_315 -10%): 0.9733301120544857",
          "District: RAMANAGARA<br>Impact (Rice_Production_223): 0.9923839764386462 <br>Stability (TotalNPK_315 -10%): 0.853065967188974",
          "District: CHITRADURGA<br>Impact (Rice_Production_223): 0.8289500931869955 <br>Stability (TotalNPK_315 -10%): 0.7333126251121695",
          "District: DAVANAGERE<br>Impact (Rice_Production_223): 0.46218448724143424 <br>Stability (TotalNPK_315 -10%): 0.827967603138446",
          "District: KOLAR<br>Impact (Rice_Production_223): 0.9077218655806356 <br>Stability (TotalNPK_315 -10%): 0.9916476841305999",
          "District: CHIKKABALLAPURA<br>Impact (Rice_Production_223): 0.872247532270311 <br>Stability (TotalNPK_315 -10%): 0.9895039997545693",
          "District: SHIVAMOGGA<br>Impact (Rice_Production_223): 0.7097340144037179 <br>Stability (TotalNPK_315 -10%): 0.9665527714502657",
          "District: TUMAKURU<br>Impact (Rice_Production_223): 0.8159269229884266 <br>Stability (TotalNPK_315 -10%): 0.9829173610494795",
          "District: CHIKKAMAGALURU<br>Impact (Rice_Production_223): 0.64499781413221 <br>Stability (TotalNPK_315 -10%): 0.8754310103968419",
          "District: DAKSHINA KANNADA<br>Impact (Rice_Production_223): 0.9284415913117507 <br>Stability (TotalNPK_315 -10%): 0.8431970617335083",
          "District: UDUPI<br>Impact (Rice_Production_223): 1.0 <br>Stability (TotalNPK_315 -10%): 0.8076091208209659",
          "District: HASSAN<br>Impact (Rice_Production_223): 0.641730517015255 <br>Stability (TotalNPK_315 -10%): 0.8825882208570136",
          "District: KODAGU<br>Impact (Rice_Production_223): 0.7998262810335702 <br>Stability (TotalNPK_315 -10%): 0.949778728822009",
          "District: MANDYA<br>Impact (Rice_Production_223): 0.6870182462437586 <br>Stability (TotalNPK_315 -10%): 0.8815926922988426",
          "District: MYSURU<br>Impact (Rice_Production_223): 0.6786429212397321 <br>Stability (TotalNPK_315 -10%): 0.921888302155956",
          "District: CHAMARAJANAGAR<br>Impact (Rice_Production_223): 0.8984434320425208 <br>Stability (TotalNPK_315 -10%): 0.8875716159315248",
          "District: BELAGAVI<br>Impact (Rice_Production_223): 0.0 <br>Stability (TotalNPK_315 -10%): 0.21200271507788593",
          "District: VIJAYAPURA<br>Impact (Rice_Production_223): 0.7234302017901109 <br>Stability (TotalNPK_315 -10%): 0.7051528956995927",
          "District: BAGALKOT<br>Impact (Rice_Production_223): 0.5475023584362988 <br>Stability (TotalNPK_315 -10%): 0.9721278847702538",
          "District: DHARAWAD<br>Impact (Rice_Production_223): 0.8203389245530476 <br>Stability (TotalNPK_315 -10%): 0.807205022894089",
          "District: GADAG<br>Impact (Rice_Production_223): 0.9014518763949289 <br>Stability (TotalNPK_315 -10%): 0.593134265970257",
          "District: HAVERI<br>Impact (Rice_Production_223): 0.6614608499574329 <br>Stability (TotalNPK_315 -10%): 0.9669751808134497",
          "District: UTTARA KANNADA<br>Impact (Rice_Production_223): 0.9472630634361842 <br>Stability (TotalNPK_315 -10%): 0.6910436943466556",
          "District: BALLARI<br>Impact (Rice_Production_223): 0.32594164883458676 <br>Stability (TotalNPK_315 -10%): 0.6880555747298345",
          "District: BIDAR<br>Impact (Rice_Production_223): 0.8935252295161179 <br>Stability (TotalNPK_315 -10%): 0.8312222452313569",
          "District: KALABURAGI<br>Impact (Rice_Production_223): 0.7247474747474745 <br>Stability (TotalNPK_315 -10%): 0.9841275319635228",
          "District: YADGIRI<br>Impact (Rice_Production_223): 0.5096695888267642 <br>Stability (TotalNPK_315 -10%): 0.9066116748349095",
          "District: RAICHUR<br>Impact (Rice_Production_223): 0.36099606543797835 <br>Stability (TotalNPK_315 -10%): 0.8172326913784773",
          "District: KOPPAL<br>Impact (Rice_Production_223): 0.612273072409746 <br>Stability (TotalNPK_315 -10%): 0.921699914866202"
         ],
         "legendgroup": "",
         "marker": {
          "color": "#636efa",
          "symbol": "circle"
         },
         "mode": "markers",
         "name": "",
         "orientation": "v",
         "showlegend": false,
         "type": "scatter",
         "x": [
          0.9597167575527484,
          0.9733301120544857,
          0.853065967188974,
          0.7333126251121695,
          0.827967603138446,
          0.9916476841305999,
          0.9895039997545693,
          0.9665527714502657,
          0.9829173610494795,
          0.8754310103968419,
          0.8431970617335083,
          0.8076091208209659,
          0.8825882208570136,
          0.949778728822009,
          0.8815926922988426,
          0.921888302155956,
          0.8875716159315248,
          0.21200271507788593,
          0.7051528956995927,
          0.9721278847702538,
          0.807205022894089,
          0.593134265970257,
          0.9669751808134497,
          0.6910436943466556,
          0.6880555747298345,
          0.8312222452313569,
          0.9841275319635228,
          0.9066116748349095,
          0.8172326913784773,
          0.921699914866202
         ],
         "xaxis": "x",
         "y": [
          0.9012793078852301,
          0.9245818089781647,
          0.9923839764386462,
          0.8289500931869955,
          0.46218448724143424,
          0.9077218655806356,
          0.872247532270311,
          0.7097340144037179,
          0.8159269229884266,
          0.64499781413221,
          0.9284415913117507,
          1,
          0.641730517015255,
          0.7998262810335702,
          0.6870182462437586,
          0.6786429212397321,
          0.8984434320425208,
          0,
          0.7234302017901109,
          0.5475023584362988,
          0.8203389245530476,
          0.9014518763949289,
          0.6614608499574329,
          0.9472630634361842,
          0.32594164883458676,
          0.8935252295161179,
          0.7247474747474745,
          0.5096695888267642,
          0.36099606543797835,
          0.612273072409746
         ],
         "yaxis": "y"
        }
       ],
       "layout": {
        "annotations": [
         {
          "arrowcolor": "red",
          "arrowhead": 4,
          "ax": 0,
          "ay": -40,
          "font": {
           "color": "red"
          },
          "showarrow": true,
          "text": "Avg New Stability(NPK - 10%)",
          "x": 0.8474754309008296,
          "y": 1
         },
         {
          "arrowcolor": "blue",
          "arrowhead": 4,
          "ax": -40,
          "ay": 0,
          "font": {
           "color": "blue"
          },
          "showarrow": true,
          "text": "Avg Normalized Rice_Production_223",
          "x": 0.9916476841305999,
          "y": 0.2759096277888988
         }
        ],
        "height": 500,
        "legend": {
         "tracegroupgap": 0
        },
        "shapes": [
         {
          "line": {
           "color": "red",
           "width": 2
          },
          "type": "line",
          "x0": 0.8474754309008296,
          "x1": 0.8474754309008296,
          "y0": 0,
          "y1": 1
         },
         {
          "line": {
           "color": "blue",
           "width": 2
          },
          "type": "line",
          "x0": 0.21200271507788593,
          "x1": 0.9916476841305999,
          "y0": 0.2759096277888988,
          "y1": 0.2759096277888988
         }
        ],
        "template": {
         "data": {
          "bar": [
           {
            "error_x": {
             "color": "#2a3f5f"
            },
            "error_y": {
             "color": "#2a3f5f"
            },
            "marker": {
             "line": {
              "color": "#E5ECF6",
              "width": 0.5
             },
             "pattern": {
              "fillmode": "overlay",
              "size": 10,
              "solidity": 0.2
             }
            },
            "type": "bar"
           }
          ],
          "barpolar": [
           {
            "marker": {
             "line": {
              "color": "#E5ECF6",
              "width": 0.5
             },
             "pattern": {
              "fillmode": "overlay",
              "size": 10,
              "solidity": 0.2
             }
            },
            "type": "barpolar"
           }
          ],
          "carpet": [
           {
            "aaxis": {
             "endlinecolor": "#2a3f5f",
             "gridcolor": "white",
             "linecolor": "white",
             "minorgridcolor": "white",
             "startlinecolor": "#2a3f5f"
            },
            "baxis": {
             "endlinecolor": "#2a3f5f",
             "gridcolor": "white",
             "linecolor": "white",
             "minorgridcolor": "white",
             "startlinecolor": "#2a3f5f"
            },
            "type": "carpet"
           }
          ],
          "choropleth": [
           {
            "colorbar": {
             "outlinewidth": 0,
             "ticks": ""
            },
            "type": "choropleth"
           }
          ],
          "contour": [
           {
            "colorbar": {
             "outlinewidth": 0,
             "ticks": ""
            },
            "colorscale": [
             [
              0,
              "#0d0887"
             ],
             [
              0.1111111111111111,
              "#46039f"
             ],
             [
              0.2222222222222222,
              "#7201a8"
             ],
             [
              0.3333333333333333,
              "#9c179e"
             ],
             [
              0.4444444444444444,
              "#bd3786"
             ],
             [
              0.5555555555555556,
              "#d8576b"
             ],
             [
              0.6666666666666666,
              "#ed7953"
             ],
             [
              0.7777777777777778,
              "#fb9f3a"
             ],
             [
              0.8888888888888888,
              "#fdca26"
             ],
             [
              1,
              "#f0f921"
             ]
            ],
            "type": "contour"
           }
          ],
          "contourcarpet": [
           {
            "colorbar": {
             "outlinewidth": 0,
             "ticks": ""
            },
            "type": "contourcarpet"
           }
          ],
          "heatmap": [
           {
            "colorbar": {
             "outlinewidth": 0,
             "ticks": ""
            },
            "colorscale": [
             [
              0,
              "#0d0887"
             ],
             [
              0.1111111111111111,
              "#46039f"
             ],
             [
              0.2222222222222222,
              "#7201a8"
             ],
             [
              0.3333333333333333,
              "#9c179e"
             ],
             [
              0.4444444444444444,
              "#bd3786"
             ],
             [
              0.5555555555555556,
              "#d8576b"
             ],
             [
              0.6666666666666666,
              "#ed7953"
             ],
             [
              0.7777777777777778,
              "#fb9f3a"
             ],
             [
              0.8888888888888888,
              "#fdca26"
             ],
             [
              1,
              "#f0f921"
             ]
            ],
            "type": "heatmap"
           }
          ],
          "heatmapgl": [
           {
            "colorbar": {
             "outlinewidth": 0,
             "ticks": ""
            },
            "colorscale": [
             [
              0,
              "#0d0887"
             ],
             [
              0.1111111111111111,
              "#46039f"
             ],
             [
              0.2222222222222222,
              "#7201a8"
             ],
             [
              0.3333333333333333,
              "#9c179e"
             ],
             [
              0.4444444444444444,
              "#bd3786"
             ],
             [
              0.5555555555555556,
              "#d8576b"
             ],
             [
              0.6666666666666666,
              "#ed7953"
             ],
             [
              0.7777777777777778,
              "#fb9f3a"
             ],
             [
              0.8888888888888888,
              "#fdca26"
             ],
             [
              1,
              "#f0f921"
             ]
            ],
            "type": "heatmapgl"
           }
          ],
          "histogram": [
           {
            "marker": {
             "pattern": {
              "fillmode": "overlay",
              "size": 10,
              "solidity": 0.2
             }
            },
            "type": "histogram"
           }
          ],
          "histogram2d": [
           {
            "colorbar": {
             "outlinewidth": 0,
             "ticks": ""
            },
            "colorscale": [
             [
              0,
              "#0d0887"
             ],
             [
              0.1111111111111111,
              "#46039f"
             ],
             [
              0.2222222222222222,
              "#7201a8"
             ],
             [
              0.3333333333333333,
              "#9c179e"
             ],
             [
              0.4444444444444444,
              "#bd3786"
             ],
             [
              0.5555555555555556,
              "#d8576b"
             ],
             [
              0.6666666666666666,
              "#ed7953"
             ],
             [
              0.7777777777777778,
              "#fb9f3a"
             ],
             [
              0.8888888888888888,
              "#fdca26"
             ],
             [
              1,
              "#f0f921"
             ]
            ],
            "type": "histogram2d"
           }
          ],
          "histogram2dcontour": [
           {
            "colorbar": {
             "outlinewidth": 0,
             "ticks": ""
            },
            "colorscale": [
             [
              0,
              "#0d0887"
             ],
             [
              0.1111111111111111,
              "#46039f"
             ],
             [
              0.2222222222222222,
              "#7201a8"
             ],
             [
              0.3333333333333333,
              "#9c179e"
             ],
             [
              0.4444444444444444,
              "#bd3786"
             ],
             [
              0.5555555555555556,
              "#d8576b"
             ],
             [
              0.6666666666666666,
              "#ed7953"
             ],
             [
              0.7777777777777778,
              "#fb9f3a"
             ],
             [
              0.8888888888888888,
              "#fdca26"
             ],
             [
              1,
              "#f0f921"
             ]
            ],
            "type": "histogram2dcontour"
           }
          ],
          "mesh3d": [
           {
            "colorbar": {
             "outlinewidth": 0,
             "ticks": ""
            },
            "type": "mesh3d"
           }
          ],
          "parcoords": [
           {
            "line": {
             "colorbar": {
              "outlinewidth": 0,
              "ticks": ""
             }
            },
            "type": "parcoords"
           }
          ],
          "pie": [
           {
            "automargin": true,
            "type": "pie"
           }
          ],
          "scatter": [
           {
            "fillpattern": {
             "fillmode": "overlay",
             "size": 10,
             "solidity": 0.2
            },
            "type": "scatter"
           }
          ],
          "scatter3d": [
           {
            "line": {
             "colorbar": {
              "outlinewidth": 0,
              "ticks": ""
             }
            },
            "marker": {
             "colorbar": {
              "outlinewidth": 0,
              "ticks": ""
             }
            },
            "type": "scatter3d"
           }
          ],
          "scattercarpet": [
           {
            "marker": {
             "colorbar": {
              "outlinewidth": 0,
              "ticks": ""
             }
            },
            "type": "scattercarpet"
           }
          ],
          "scattergeo": [
           {
            "marker": {
             "colorbar": {
              "outlinewidth": 0,
              "ticks": ""
             }
            },
            "type": "scattergeo"
           }
          ],
          "scattergl": [
           {
            "marker": {
             "colorbar": {
              "outlinewidth": 0,
              "ticks": ""
             }
            },
            "type": "scattergl"
           }
          ],
          "scattermapbox": [
           {
            "marker": {
             "colorbar": {
              "outlinewidth": 0,
              "ticks": ""
             }
            },
            "type": "scattermapbox"
           }
          ],
          "scatterpolar": [
           {
            "marker": {
             "colorbar": {
              "outlinewidth": 0,
              "ticks": ""
             }
            },
            "type": "scatterpolar"
           }
          ],
          "scatterpolargl": [
           {
            "marker": {
             "colorbar": {
              "outlinewidth": 0,
              "ticks": ""
             }
            },
            "type": "scatterpolargl"
           }
          ],
          "scatterternary": [
           {
            "marker": {
             "colorbar": {
              "outlinewidth": 0,
              "ticks": ""
             }
            },
            "type": "scatterternary"
           }
          ],
          "surface": [
           {
            "colorbar": {
             "outlinewidth": 0,
             "ticks": ""
            },
            "colorscale": [
             [
              0,
              "#0d0887"
             ],
             [
              0.1111111111111111,
              "#46039f"
             ],
             [
              0.2222222222222222,
              "#7201a8"
             ],
             [
              0.3333333333333333,
              "#9c179e"
             ],
             [
              0.4444444444444444,
              "#bd3786"
             ],
             [
              0.5555555555555556,
              "#d8576b"
             ],
             [
              0.6666666666666666,
              "#ed7953"
             ],
             [
              0.7777777777777778,
              "#fb9f3a"
             ],
             [
              0.8888888888888888,
              "#fdca26"
             ],
             [
              1,
              "#f0f921"
             ]
            ],
            "type": "surface"
           }
          ],
          "table": [
           {
            "cells": {
             "fill": {
              "color": "#EBF0F8"
             },
             "line": {
              "color": "white"
             }
            },
            "header": {
             "fill": {
              "color": "#C8D4E3"
             },
             "line": {
              "color": "white"
             }
            },
            "type": "table"
           }
          ]
         },
         "layout": {
          "annotationdefaults": {
           "arrowcolor": "#2a3f5f",
           "arrowhead": 0,
           "arrowwidth": 1
          },
          "autotypenumbers": "strict",
          "coloraxis": {
           "colorbar": {
            "outlinewidth": 0,
            "ticks": ""
           }
          },
          "colorscale": {
           "diverging": [
            [
             0,
             "#8e0152"
            ],
            [
             0.1,
             "#c51b7d"
            ],
            [
             0.2,
             "#de77ae"
            ],
            [
             0.3,
             "#f1b6da"
            ],
            [
             0.4,
             "#fde0ef"
            ],
            [
             0.5,
             "#f7f7f7"
            ],
            [
             0.6,
             "#e6f5d0"
            ],
            [
             0.7,
             "#b8e186"
            ],
            [
             0.8,
             "#7fbc41"
            ],
            [
             0.9,
             "#4d9221"
            ],
            [
             1,
             "#276419"
            ]
           ],
           "sequential": [
            [
             0,
             "#0d0887"
            ],
            [
             0.1111111111111111,
             "#46039f"
            ],
            [
             0.2222222222222222,
             "#7201a8"
            ],
            [
             0.3333333333333333,
             "#9c179e"
            ],
            [
             0.4444444444444444,
             "#bd3786"
            ],
            [
             0.5555555555555556,
             "#d8576b"
            ],
            [
             0.6666666666666666,
             "#ed7953"
            ],
            [
             0.7777777777777778,
             "#fb9f3a"
            ],
            [
             0.8888888888888888,
             "#fdca26"
            ],
            [
             1,
             "#f0f921"
            ]
           ],
           "sequentialminus": [
            [
             0,
             "#0d0887"
            ],
            [
             0.1111111111111111,
             "#46039f"
            ],
            [
             0.2222222222222222,
             "#7201a8"
            ],
            [
             0.3333333333333333,
             "#9c179e"
            ],
            [
             0.4444444444444444,
             "#bd3786"
            ],
            [
             0.5555555555555556,
             "#d8576b"
            ],
            [
             0.6666666666666666,
             "#ed7953"
            ],
            [
             0.7777777777777778,
             "#fb9f3a"
            ],
            [
             0.8888888888888888,
             "#fdca26"
            ],
            [
             1,
             "#f0f921"
            ]
           ]
          },
          "colorway": [
           "#636efa",
           "#EF553B",
           "#00cc96",
           "#ab63fa",
           "#FFA15A",
           "#19d3f3",
           "#FF6692",
           "#B6E880",
           "#FF97FF",
           "#FECB52"
          ],
          "font": {
           "color": "#2a3f5f"
          },
          "geo": {
           "bgcolor": "white",
           "lakecolor": "white",
           "landcolor": "#E5ECF6",
           "showlakes": true,
           "showland": true,
           "subunitcolor": "white"
          },
          "hoverlabel": {
           "align": "left"
          },
          "hovermode": "closest",
          "mapbox": {
           "style": "light"
          },
          "paper_bgcolor": "white",
          "plot_bgcolor": "#E5ECF6",
          "polar": {
           "angularaxis": {
            "gridcolor": "white",
            "linecolor": "white",
            "ticks": ""
           },
           "bgcolor": "#E5ECF6",
           "radialaxis": {
            "gridcolor": "white",
            "linecolor": "white",
            "ticks": ""
           }
          },
          "scene": {
           "xaxis": {
            "backgroundcolor": "#E5ECF6",
            "gridcolor": "white",
            "gridwidth": 2,
            "linecolor": "white",
            "showbackground": true,
            "ticks": "",
            "zerolinecolor": "white"
           },
           "yaxis": {
            "backgroundcolor": "#E5ECF6",
            "gridcolor": "white",
            "gridwidth": 2,
            "linecolor": "white",
            "showbackground": true,
            "ticks": "",
            "zerolinecolor": "white"
           },
           "zaxis": {
            "backgroundcolor": "#E5ECF6",
            "gridcolor": "white",
            "gridwidth": 2,
            "linecolor": "white",
            "showbackground": true,
            "ticks": "",
            "zerolinecolor": "white"
           }
          },
          "shapedefaults": {
           "line": {
            "color": "#2a3f5f"
           }
          },
          "ternary": {
           "aaxis": {
            "gridcolor": "white",
            "linecolor": "white",
            "ticks": ""
           },
           "baxis": {
            "gridcolor": "white",
            "linecolor": "white",
            "ticks": ""
           },
           "bgcolor": "#E5ECF6",
           "caxis": {
            "gridcolor": "white",
            "linecolor": "white",
            "ticks": ""
           }
          },
          "title": {
           "x": 0.05
          },
          "xaxis": {
           "automargin": true,
           "gridcolor": "white",
           "linecolor": "white",
           "ticks": "",
           "title": {
            "standoff": 15
           },
           "zerolinecolor": "white",
           "zerolinewidth": 2
          },
          "yaxis": {
           "automargin": true,
           "gridcolor": "white",
           "linecolor": "white",
           "ticks": "",
           "title": {
            "standoff": 15
           },
           "zerolinecolor": "white",
           "zerolinewidth": 2
          }
         }
        },
        "title": {
         "text": "Impact vs Stability (Rice_Production_223 - TotalNPK_315 -10%)"
        },
        "width": 800,
        "xaxis": {
         "anchor": "y",
         "domain": [
          0,
          1
         ],
         "title": {
          "text": "New Stability(NPK - 10%)"
         }
        },
        "yaxis": {
         "anchor": "x",
         "domain": [
          0,
          1
         ],
         "title": {
          "text": "Impact Score Rice_Production_223 (TotalNPK_315 -10%)"
         }
        }
       }
      }
     },
     "metadata": {},
     "output_type": "display_data"
    },
    {
     "data": {
      "text/html": [
       "<div>\n",
       "<style scoped>\n",
       "    .dataframe tbody tr th:only-of-type {\n",
       "        vertical-align: middle;\n",
       "    }\n",
       "\n",
       "    .dataframe tbody tr th {\n",
       "        vertical-align: top;\n",
       "    }\n",
       "\n",
       "    .dataframe thead th {\n",
       "        text-align: right;\n",
       "    }\n",
       "</style>\n",
       "<table border=\"1\" class=\"dataframe\">\n",
       "  <thead>\n",
       "    <tr style=\"text-align: right;\">\n",
       "      <th></th>\n",
       "      <th>District</th>\n",
       "      <th>Rice_Production_223 (TotalNPK_315 +10%)</th>\n",
       "      <th>Rice_Production_223 (TotalNPK_315 -10%)</th>\n",
       "      <th>Normalized Rice_Production_223 (TotalNPK_315 +10%)</th>\n",
       "      <th>Normalized Rice_Production_223 (TotalNPK_315 -10%)</th>\n",
       "      <th>Impact Score Rice_Production_223 (TotalNPK_315 +10%)</th>\n",
       "      <th>Impact Score Rice_Production_223 (TotalNPK_315 -10%)</th>\n",
       "      <th>New Stability(NPK + 10%)</th>\n",
       "      <th>New Stability(NPK - 10%)</th>\n",
       "    </tr>\n",
       "  </thead>\n",
       "  <tbody>\n",
       "    <tr>\n",
       "      <th>0</th>\n",
       "      <td>BENGALURU</td>\n",
       "      <td>68479.019211</td>\n",
       "      <td>57507.638667</td>\n",
       "      <td>0.098721</td>\n",
       "      <td>0.098721</td>\n",
       "      <td>0.098721</td>\n",
       "      <td>0.901279</td>\n",
       "      <td>0.959717</td>\n",
       "      <td>0.959717</td>\n",
       "    </tr>\n",
       "    <tr>\n",
       "      <th>1</th>\n",
       "      <td>BENGALURU(R)</td>\n",
       "      <td>57992.196208</td>\n",
       "      <td>48927.510755</td>\n",
       "      <td>0.075418</td>\n",
       "      <td>0.075418</td>\n",
       "      <td>0.075418</td>\n",
       "      <td>0.924582</td>\n",
       "      <td>0.973330</td>\n",
       "      <td>0.973330</td>\n",
       "    </tr>\n",
       "    <tr>\n",
       "      <th>2</th>\n",
       "      <td>RAMANAGARA</td>\n",
       "      <td>27479.191334</td>\n",
       "      <td>23962.324950</td>\n",
       "      <td>0.007616</td>\n",
       "      <td>0.007616</td>\n",
       "      <td>0.007616</td>\n",
       "      <td>0.992384</td>\n",
       "      <td>0.853066</td>\n",
       "      <td>0.853066</td>\n",
       "    </tr>\n",
       "    <tr>\n",
       "      <th>3</th>\n",
       "      <td>CHITRADURGA</td>\n",
       "      <td>101029.330849</td>\n",
       "      <td>84139.711825</td>\n",
       "      <td>0.171050</td>\n",
       "      <td>0.171050</td>\n",
       "      <td>0.171050</td>\n",
       "      <td>0.828950</td>\n",
       "      <td>0.733313</td>\n",
       "      <td>0.733313</td>\n",
       "    </tr>\n",
       "    <tr>\n",
       "      <th>4</th>\n",
       "      <td>DAVANAGERE</td>\n",
       "      <td>266084.831886</td>\n",
       "      <td>219185.121765</td>\n",
       "      <td>0.537816</td>\n",
       "      <td>0.537816</td>\n",
       "      <td>0.537816</td>\n",
       "      <td>0.462184</td>\n",
       "      <td>0.827968</td>\n",
       "      <td>0.827968</td>\n",
       "    </tr>\n",
       "  </tbody>\n",
       "</table>\n",
       "</div>"
      ],
      "text/plain": [
       "       District  Rice_Production_223 (TotalNPK_315 +10%)  \\\n",
       "0     BENGALURU                             68479.019211   \n",
       "1  BENGALURU(R)                             57992.196208   \n",
       "2    RAMANAGARA                             27479.191334   \n",
       "3   CHITRADURGA                            101029.330849   \n",
       "4    DAVANAGERE                            266084.831886   \n",
       "\n",
       "   Rice_Production_223 (TotalNPK_315 -10%)  \\\n",
       "0                             57507.638667   \n",
       "1                             48927.510755   \n",
       "2                             23962.324950   \n",
       "3                             84139.711825   \n",
       "4                            219185.121765   \n",
       "\n",
       "   Normalized Rice_Production_223 (TotalNPK_315 +10%)  \\\n",
       "0                                           0.098721    \n",
       "1                                           0.075418    \n",
       "2                                           0.007616    \n",
       "3                                           0.171050    \n",
       "4                                           0.537816    \n",
       "\n",
       "   Normalized Rice_Production_223 (TotalNPK_315 -10%)  \\\n",
       "0                                           0.098721    \n",
       "1                                           0.075418    \n",
       "2                                           0.007616    \n",
       "3                                           0.171050    \n",
       "4                                           0.537816    \n",
       "\n",
       "   Impact Score Rice_Production_223 (TotalNPK_315 +10%)  \\\n",
       "0                                           0.098721      \n",
       "1                                           0.075418      \n",
       "2                                           0.007616      \n",
       "3                                           0.171050      \n",
       "4                                           0.537816      \n",
       "\n",
       "   Impact Score Rice_Production_223 (TotalNPK_315 -10%)  \\\n",
       "0                                           0.901279      \n",
       "1                                           0.924582      \n",
       "2                                           0.992384      \n",
       "3                                           0.828950      \n",
       "4                                           0.462184      \n",
       "\n",
       "   New Stability(NPK + 10%)  New Stability(NPK - 10%)  \n",
       "0                  0.959717                  0.959717  \n",
       "1                  0.973330                  0.973330  \n",
       "2                  0.853066                  0.853066  \n",
       "3                  0.733313                  0.733313  \n",
       "4                  0.827968                  0.827968  "
      ]
     },
     "execution_count": 24,
     "metadata": {},
     "output_type": "execute_result"
    }
   ],
   "source": [
    "change_percentage = 10\n",
    "dim = 1\n",
    "\n",
    "# Call the function and get the handles for the two plots\n",
    "new_data = calc_and_vis_impact_stability_1D(G, existing_data.copy(), adjacency_file, base_Column, CapabilityVector, change_percentage, dim)\n",
    "\n",
    "# Display the resulting DataFrame\n",
    "new_data.head()"
   ]
  },
  {
   "cell_type": "code",
   "execution_count": 25,
   "metadata": {},
   "outputs": [],
   "source": [
    "\n",
    "# base_Column = \"TotalNPK_315\"\n",
    "# CapabilityVector = \"Maize_Production_226\"\n",
    "# change_percentage = 20\n",
    "# dim = 1\n",
    "\n",
    "# # Call the function and get the handles for the two plots\n",
    "# new_data = calc_and_vis_impact_stability_1D(G, existing_data.copy(), adjacency_file, base_Column, CapabilityVector, change_percentage, dim)\n",
    "\n",
    "# # Display the resulting DataFrame\n",
    "# new_data.head()"
   ]
  },
  {
   "cell_type": "code",
   "execution_count": 26,
   "metadata": {},
   "outputs": [],
   "source": [
    "# Save the resulting DataFrame to a new CSV file if needed\n",
    "# existing_data.to_csv('result.csv', index=False)"
   ]
  },
  {
   "cell_type": "code",
   "execution_count": 27,
   "metadata": {},
   "outputs": [],
   "source": [
    "# from bokeh.models import Span, Label\n",
    "# from bokeh.plotting import figure, show, output_notebook\n",
    "# from bokeh.models.sources import ColumnDataSource\n",
    "# from bokeh.models.tools import HoverTool\n",
    "# import statsmodels.api as sm\n",
    "# import pandas as pd\n",
    "# import plotly.express as px\n",
    "# import plotly.graph_objects as go\n",
    "\n",
    "# def calc_and_vis_impact_stability_2D(G, existing_data, adjacency_file, base_column, capability_vector, intervention, dim):\n",
    "#     # Calculate min and max values for changes made by each column in capability_vector\n",
    "#     min_value_increase = float('inf')\n",
    "#     max_value_increase = float('-inf')\n",
    "#     min_value_decrease = float('inf')\n",
    "#     max_value_decrease = float('-inf')\n",
    "#     col_pass_plus = []\n",
    "#     col_pass_minus = []\n",
    "    \n",
    "#     for cap_col in capability_vector:\n",
    "#         # Calculate Impact Score\n",
    "#         X = sm.add_constant(df[base_column])\n",
    "#         y = df[cap_col]\n",
    "#         model = sm.OLS(y, X).fit()\n",
    "\n",
    "#         m, c = model.params[base_column], model.params['const']\n",
    "\n",
    "#         base_column_increase = (1 + intervention/100) * df[base_column]\n",
    "#         base_column_decrease = (1 - intervention/100) * df[base_column]\n",
    "\n",
    "#         change_vector_increase = m * base_column_increase + c\n",
    "#         change_vector_decrease = m * base_column_decrease + c\n",
    "        \n",
    "#         vector_plus = change_vector_increase - m * df[base_column] - c  \n",
    "#         vector_minus = change_vector_decrease - m * df[base_column] - c\n",
    "\n",
    "#         # Update min and max values for each column's changes\n",
    "#         min_value_increase = min(min_value_increase, vector_plus.min())\n",
    "#         max_value_increase = max(max_value_increase, vector_plus.max())\n",
    "\n",
    "#         min_value_decrease = min(min_value_decrease, vector_minus.min())\n",
    "#         max_value_decrease = max(max_value_decrease, vector_minus.max())\n",
    "\n",
    "#     for cap_col in capability_vector:\n",
    "#         # Calculate Impact Score\n",
    "#         X = sm.add_constant(df[base_column])\n",
    "#         y = df[cap_col]\n",
    "#         model = sm.OLS(y, X).fit()\n",
    "\n",
    "#         m, c = model.params[base_column], model.params['const']\n",
    "\n",
    "#         base_column_increase = (1 + intervention/100) * df[base_column]\n",
    "#         base_column_decrease = (1 - intervention/100) * df[base_column]\n",
    "\n",
    "#         new_vector_increase = m * base_column_increase + c\n",
    "#         new_vector_decrease = m * base_column_decrease + c\n",
    "        \n",
    "#         vector_plus = change_vector_increase - m * df[base_column] - c  \n",
    "#         vector_minus = change_vector_decrease - m * df[base_column] - c\n",
    "\n",
    "#         # Normalize changes manually using the calculated min and max values\n",
    "#         scaler3 = MinMaxScaler()\n",
    "#         normalized_new_increase_vector = scaler3.fit_transform(new_vector_increase.values.reshape(-1, 1))\n",
    "    \n",
    "#         scaler4 = MinMaxScaler()\n",
    "#         normalized_new_decrease_vector = scaler4.fit_transform(new_vector_decrease.values.reshape(-1, 1))\n",
    "        \n",
    "#         normalized_change_increase_vector = (vector_plus - min_value_increase) / (max_value_increase - min_value_increase)\n",
    "#         normalized_change_decrease_vector = (vector_minus - min_value_decrease) / (max_value_decrease - min_value_decrease)\n",
    "\n",
    "#         result_df = pd.DataFrame({\n",
    "#             f'{cap_col} ({base_column} +{intervention}%)': change_vector_increase,\n",
    "#             f'{cap_col} ({base_column} -{intervention}%)': change_vector_decrease,\n",
    "#             f'Normalized {capability_vector} ({base_column} +{intervention}%)': normalized_new_increase_vector.flatten(),\n",
    "#             f'Normalized {capability_vector} ({base_column} -{intervention}%)': normalized_new_decrease_vector.flatten(),\n",
    "#             f'Impact Score {cap_col} ({base_column} +{intervention}%)': normalized_change_increase_vector,\n",
    "#             f'Impact Score {cap_col} ({base_column} -{intervention}%)': normalized_change_decrease_vector,\n",
    "#         })\n",
    "\n",
    "#         # Merge Columns\n",
    "#         for column in result_df.columns:\n",
    "#             if column in result_df.columns:\n",
    "#                 existing_data[column] = result_df[column]\n",
    "\n",
    "#         # Calculate Stability and add to DataFrame\n",
    "#         columns_to_pass = f\"Normalized {cap_col} ({base_column} {'+' if intervention >= 0 else '-'}{abs(intervention)}%)\"\n",
    "#         col_pass_plus.append(columns_to_pass)\n",
    "\n",
    "#         # Calculate Stability for the opposite intervention and add to DataFrame\n",
    "#         opposite_intervention = -intervention\n",
    "#         columns_to_pass_opposite = f\"Normalized {cap_col} ({base_column} {'+' if opposite_intervention >= 0 else '-'}{abs(opposite_intervention)}%)\"\n",
    "#         col_pass_minus.append(columns_to_pass_opposite)\n",
    "        \n",
    "#     stability_column, stability_column_name = calculate_and_map_stability(G, existing_data.copy(), adjacency_file, col_pass_plus, intervention, dim)\n",
    "\n",
    "#     existing_data[stability_column_name] = stability_column\n",
    "\n",
    "#     stability_column_opposite, stability_column_name_opposite = calculate_and_map_stability(G, existing_data.copy(), adjacency_file, col_pass_minus, opposite_intervention, dim)\n",
    "\n",
    "#     existing_data[stability_column_name_opposite] = stability_column_opposite\n",
    "        \n",
    "\n",
    "# # Visualize with Plotly for +intervention\n",
    "#     fig_increase = go.Figure()\n",
    "#     color_palette = ['red', 'blue', 'green', 'orange', 'purple']  # Add more colors if needed\n",
    "\n",
    "#     for i, cap_col in enumerate(capability_vector):\n",
    "#         # Scatter plot for +intervention\n",
    "#         scatter_increase = go.Scatter(\n",
    "#             x=existing_data[f\"{stability_column_name}\"],\n",
    "#             y=existing_data[f\"Normalized {cap_col} ({base_column} {'+' if intervention >= 0 else '-'}{abs(intervention)}%)\"],\n",
    "#             mode='markers',\n",
    "#             marker=dict(size=8, color=color_palette[i]),\n",
    "#             name=f'{cap_col} +{intervention}%',\n",
    "#             text=existing_data['District'],\n",
    "#             hovertemplate='%{text}' + '<br>Impact: %{y:.2f}' + '<br>Stability: %{x:.2f}'\n",
    "#         )\n",
    "\n",
    "#         fig_increase.add_trace(scatter_increase)\n",
    "\n",
    "#     # Update layout for +intervention plot\n",
    "#     fig_increase.update_layout(\n",
    "#         title=f'Impact vs Stability (+{intervention}%)',\n",
    "#         xaxis=dict(title=f'Stability ({base_column} +{intervention}%)'),\n",
    "#         yaxis=dict(title='Normalized Impact'),\n",
    "#         hovermode='closest'\n",
    "#     )\n",
    "\n",
    "#     # Visualize with Plotly for -intervention\n",
    "#     fig_decrease = go.Figure()\n",
    "\n",
    "#     for i, cap_col in enumerate(capability_vector):\n",
    "#         # Scatter plot for -intervention\n",
    "#         scatter_decrease = go.Scatter(\n",
    "#             x=existing_data[stability_column_name_opposite],\n",
    "#             y=existing_data[f\"Normalized {cap_col} ({base_column} {'+' if intervention >= 0 else '-'}{abs(intervention)}%)\"],\n",
    "#             mode='markers',\n",
    "#             marker=dict(size=8, color=color_palette[i]),\n",
    "#             name=f'{cap_col} -{intervention}%',\n",
    "#             text=existing_data['District'],\n",
    "#             hovertemplate='%{text}' + '<br>Impact: %{y:.2f}' + '<br>Stability: %{x:.2f}'\n",
    "#         )\n",
    "\n",
    "#         fig_decrease.add_trace(scatter_decrease)\n",
    "\n",
    "#     # Update layout for -intervention plot\n",
    "#     fig_decrease.update_layout(\n",
    "#         title=f'Impact vs Stability (-{intervention}%)',\n",
    "#         xaxis=dict(title=f'Stability ({base_column} -{intervention}%)'),\n",
    "#         yaxis=dict(title='Normalized Impact'),\n",
    "#         hovermode='closest'\n",
    "#     )\n",
    "\n",
    "#     # Show plots\n",
    "#     fig_increase.show()\n",
    "#     fig_decrease.show()\n",
    "\n",
    "#     return existing_data, fig_increase, fig_decrease\n",
    "\n",
    "# # Assuming df is your DataFrame\n",
    "# base_column = \"TotalNPK_315\"\n",
    "# capability_vector = [\"Rice_Production_223\", \"Jowar_Yield_278\"]\n",
    "# change_percentage = 20\n",
    "# dim = 1\n",
    "\n",
    "# # Call the function and get the handles for the two plots\n",
    "# new_data, handle_increase, handle_decrease = calc_and_vis_impact_stability_2D(G, existing_data.copy(), adjacency_file, base_column, capability_vector, change_percentage, dim)\n",
    "\n",
    "# # Display the resulting DataFrame\n",
    "# new_data.head()\n"
   ]
  },
  {
   "cell_type": "code",
   "execution_count": 28,
   "metadata": {},
   "outputs": [],
   "source": [
    "# new_data.head()"
   ]
  },
  {
   "cell_type": "code",
   "execution_count": 29,
   "metadata": {},
   "outputs": [],
   "source": [
    "# new_data.to_csv('test.csv', index=False)"
   ]
  },
  {
   "cell_type": "markdown",
   "metadata": {},
   "source": [
    "## 2D Capability vector"
   ]
  },
  {
   "cell_type": "markdown",
   "metadata": {},
   "source": []
  },
  {
   "cell_type": "code",
   "execution_count": 30,
   "metadata": {},
   "outputs": [],
   "source": [
    "res_df = pd.DataFrame()"
   ]
  },
  {
   "cell_type": "code",
   "execution_count": 87,
   "metadata": {},
   "outputs": [
    {
     "name": "stdout",
     "output_type": "stream",
     "text": [
      "min_value: -84717.31990045196\n",
      "max_value: 84717.31990045196\n",
      "changed_min_value: 412.79251570427334\n",
      "changed_max_value: 516440.3456216234\n"
     ]
    },
    {
     "data": {
      "application/vnd.plotly.v1+json": {
       "config": {
        "plotlyServerURL": "https://plot.ly"
       },
       "data": [
        {
         "hovertemplate": "%{text}<br>Impact: %{y:.2f}<br>Stability: %{x:.2f}",
         "marker": {
          "color": "red",
          "size": 5,
          "symbol": "circle"
         },
         "mode": "markers",
         "name": "Rice_Production_223 +10%",
         "text": [
          "BENGALURU",
          "BENGALURU(R)",
          "RAMANAGARA",
          "CHITRADURGA",
          "DAVANAGERE",
          "KOLAR",
          "CHIKKABALLAPURA",
          "SHIVAMOGGA",
          "TUMAKURU",
          "CHIKKAMAGALURU",
          "DAKSHINA KANNADA",
          "UDUPI",
          "HASSAN",
          "KODAGU",
          "MANDYA",
          "MYSURU",
          "CHAMARAJANAGAR",
          "BELAGAVI",
          "VIJAYAPURA",
          "BAGALKOT",
          "DHARAWAD",
          "GADAG",
          "HAVERI",
          "UTTARA KANNADA",
          "BALLARI",
          "BIDAR",
          "KALABURAGI",
          "YADGIRI",
          "RAICHUR",
          "KOPPAL"
         ],
         "type": "scatter",
         "x": [
          0.9590442729122614,
          0.9765052391752486,
          0.8222502261381796,
          0.6686503866852201,
          0.7900581835459942,
          1,
          0.9972504351838052,
          0.9678123842563559,
          0.9888021812136774,
          0.850936415487983,
          0.8095920216384356,
          0.7639456796171661,
          0.8601165048161652,
          0.9462974084736767,
          0.8588396049480361,
          0.9105241683796111,
          0.8665083822377129,
          0,
          0.6325317294369196,
          0.974963220266703,
          0.7634273694337914,
          0.4888527035009976,
          0.9683541813306024,
          0.6144347726001684,
          0.6106021055075407,
          0.7942327017204208,
          0.9903543889006118,
          0.890929830023772,
          0.7762892089664342,
          0.9102825362300663
         ],
         "xaxis": "x",
         "y": [
          0.5323764389528424,
          0.5267497999911108,
          0.510378239032846,
          0.5498411040490688,
          0.6384005955820258,
          0.5308208142584115,
          0.5393864727321214,
          0.57862710564914,
          0.5529856882528112,
          0.5942583559269301,
          0.5258178141250722,
          0.5085392684119294,
          0.5950472798791059,
          0.5568733610382683,
          0.5841120716476288,
          0.5861343837503891,
          0.533061191608516,
          0.7500000000000001,
          0.5753200142228545,
          0.6177996799857773,
          0.5519203631272501,
          0.5323347704342416,
          0.5902831792524114,
          0.5212731676963421,
          0.6712978910173789,
          0.5342487443886395,
          0.5750019445308681,
          0.6269348082136985,
          0.6628336259389306,
          0.6021600960042669
         ],
         "yaxis": "y"
        },
        {
         "hovertemplate": "%{text}<br>Impact: %{y:.2f}<br>Stability: %{x:.2f}",
         "marker": {
          "color": "red",
          "size": 5,
          "symbol": "circle"
         },
         "mode": "markers",
         "name": "Rice_Production_223 -10%",
         "text": [
          "BENGALURU",
          "BENGALURU(R)",
          "RAMANAGARA",
          "CHITRADURGA",
          "DAVANAGERE",
          "KOLAR",
          "CHIKKABALLAPURA",
          "SHIVAMOGGA",
          "TUMAKURU",
          "CHIKKAMAGALURU",
          "DAKSHINA KANNADA",
          "UDUPI",
          "HASSAN",
          "KODAGU",
          "MANDYA",
          "MYSURU",
          "CHAMARAJANAGAR",
          "BELAGAVI",
          "VIJAYAPURA",
          "BAGALKOT",
          "DHARAWAD",
          "GADAG",
          "HAVERI",
          "UTTARA KANNADA",
          "BALLARI",
          "BIDAR",
          "KALABURAGI",
          "YADGIRI",
          "RAICHUR",
          "KOPPAL"
         ],
         "type": "scatter",
         "x": [
          0.9590442729122612,
          0.9765052391752485,
          0.8222502261381794,
          0.66865038668522,
          0.7900581835459941,
          1,
          0.9972504351838052,
          0.967812384256356,
          0.9888021812136774,
          0.8509364154879832,
          0.8095920216384356,
          0.7639456796171662,
          0.8601165048161653,
          0.9462974084736765,
          0.8588396049480361,
          0.9105241683796109,
          0.8665083822377128,
          0,
          0.6325317294369196,
          0.9749632202667027,
          0.7634273694337913,
          0.48885270350099774,
          0.9683541813306024,
          0.6144347726001683,
          0.6106021055075408,
          0.7942327017204209,
          0.9903543889006117,
          0.8909298300237721,
          0.776289208966434,
          0.9102825362300662
         ],
         "xaxis": "x2",
         "y": [
          0.46762356104715763,
          0.4732502000088894,
          0.48962176096715404,
          0.4501588959509312,
          0.36159940441797406,
          0.4691791857415885,
          0.4606135272678785,
          0.42137289435085995,
          0.4470143117471888,
          0.40574164407306984,
          0.4741821858749277,
          0.4914607315880706,
          0.4049527201208943,
          0.4431266389617316,
          0.4158879283523712,
          0.4138656162496111,
          0.46693880839148405,
          0.2500000000000003,
          0.4246799857771457,
          0.3822003200142228,
          0.44807963687274993,
          0.4676652295657585,
          0.4097168207475888,
          0.4787268323036579,
          0.3287021089826214,
          0.4657512556113605,
          0.4249980554691319,
          0.37306519178630165,
          0.33716637406106936,
          0.39783990399573305
         ],
         "yaxis": "y2"
        },
        {
         "hovertemplate": "%{text}<br>Impact: %{y:.2f}<br>Stability: %{x:.2f}",
         "marker": {
          "color": "blue",
          "size": 5,
          "symbol": "circle"
         },
         "mode": "markers",
         "name": "Jowar_Yield_278 +10%",
         "text": [
          "BENGALURU",
          "BENGALURU(R)",
          "RAMANAGARA",
          "CHITRADURGA",
          "DAVANAGERE",
          "KOLAR",
          "CHIKKABALLAPURA",
          "SHIVAMOGGA",
          "TUMAKURU",
          "CHIKKAMAGALURU",
          "DAKSHINA KANNADA",
          "UDUPI",
          "HASSAN",
          "KODAGU",
          "MANDYA",
          "MYSURU",
          "CHAMARAJANAGAR",
          "BELAGAVI",
          "VIJAYAPURA",
          "BAGALKOT",
          "DHARAWAD",
          "GADAG",
          "HAVERI",
          "UTTARA KANNADA",
          "BALLARI",
          "BIDAR",
          "KALABURAGI",
          "YADGIRI",
          "RAICHUR",
          "KOPPAL"
         ],
         "type": "scatter",
         "x": [
          0.9590442729122614,
          0.9765052391752486,
          0.8222502261381796,
          0.6686503866852201,
          0.7900581835459942,
          1,
          0.9972504351838052,
          0.9678123842563559,
          0.9888021812136774,
          0.850936415487983,
          0.8095920216384356,
          0.7639456796171661,
          0.8601165048161652,
          0.9462974084736767,
          0.8588396049480361,
          0.9105241683796111,
          0.8665083822377129,
          0,
          0.6325317294369196,
          0.974963220266703,
          0.7634273694337914,
          0.4888527035009976,
          0.9683541813306024,
          0.6144347726001684,
          0.6106021055075407,
          0.7942327017204208,
          0.9903543889006118,
          0.890929830023772,
          0.7762892089664342,
          0.9102825362300663
         ],
         "xaxis": "x",
         "y": [
          0.5001350189013988,
          0.5001115542265997,
          0.5000432801901009,
          0.5002078514911109,
          0.5005771696015008,
          0.500128531506737,
          0.5001642527235935,
          0.5003278972539376,
          0.5002209652960343,
          0.5003930839856554,
          0.5001076675821193,
          0.50003561116284,
          0.5003963740215196,
          0.5002371779903722,
          0.5003507711124371,
          0.5003592047254974,
          0.5001378745135133,
          0.5010425706606852,
          0.5003141057479645,
          0.5004912579607651,
          0.5002165225891544,
          0.5001348451318989,
          0.5003765063753678,
          0.5000887151220001,
          0.500714360621648,
          0.5001428269442596,
          0.5003127793074489,
          0.5005293540274532,
          0.5006790622439077,
          0.5004260364751473
         ],
         "yaxis": "y"
        },
        {
         "hovertemplate": "%{text}<br>Impact: %{y:.2f}<br>Stability: %{x:.2f}",
         "marker": {
          "color": "blue",
          "size": 5,
          "symbol": "circle"
         },
         "mode": "markers",
         "name": "Jowar_Yield_278 -10%",
         "text": [
          "BENGALURU",
          "BENGALURU(R)",
          "RAMANAGARA",
          "CHITRADURGA",
          "DAVANAGERE",
          "KOLAR",
          "CHIKKABALLAPURA",
          "SHIVAMOGGA",
          "TUMAKURU",
          "CHIKKAMAGALURU",
          "DAKSHINA KANNADA",
          "UDUPI",
          "HASSAN",
          "KODAGU",
          "MANDYA",
          "MYSURU",
          "CHAMARAJANAGAR",
          "BELAGAVI",
          "VIJAYAPURA",
          "BAGALKOT",
          "DHARAWAD",
          "GADAG",
          "HAVERI",
          "UTTARA KANNADA",
          "BALLARI",
          "BIDAR",
          "KALABURAGI",
          "YADGIRI",
          "RAICHUR",
          "KOPPAL"
         ],
         "type": "scatter",
         "x": [
          0.9590442729122612,
          0.9765052391752485,
          0.8222502261381794,
          0.66865038668522,
          0.7900581835459941,
          1,
          0.9972504351838052,
          0.967812384256356,
          0.9888021812136774,
          0.8509364154879832,
          0.8095920216384356,
          0.7639456796171662,
          0.8601165048161653,
          0.9462974084736765,
          0.8588396049480361,
          0.9105241683796109,
          0.8665083822377128,
          0,
          0.6325317294369196,
          0.9749632202667027,
          0.7634273694337913,
          0.48885270350099774,
          0.9683541813306024,
          0.6144347726001683,
          0.6106021055075408,
          0.7942327017204209,
          0.9903543889006117,
          0.8909298300237721,
          0.776289208966434,
          0.9102825362300662
         ],
         "xaxis": "x2",
         "y": [
          0.4998649810986012,
          0.4998884457734003,
          0.4999567198098991,
          0.49979214850888914,
          0.4994228303984992,
          0.499871468493263,
          0.4998357472764064,
          0.49967210274606244,
          0.4997790347039657,
          0.4996069160143446,
          0.49989233241788067,
          0.49996438883716,
          0.4996036259784804,
          0.4997628220096278,
          0.4996492288875629,
          0.4996407952745026,
          0.4998621254864867,
          0.49895742933931475,
          0.49968589425203547,
          0.4995087420392349,
          0.4997834774108456,
          0.49986515486810107,
          0.4996234936246322,
          0.4999112848779998,
          0.4992856393783521,
          0.49985717305574034,
          0.4996872206925511,
          0.49947064597254676,
          0.4993209377560923,
          0.4995739635248527
         ],
         "yaxis": "y2"
        },
        {
         "hovertemplate": "%{text}<br>Impact: %{y:.2f}<br>Stability: %{x:.2f}",
         "marker": {
          "color": "red",
          "size": 5,
          "symbol": "circle"
         },
         "mode": "markers",
         "name": "Rice_Production_223 +20%",
         "text": [
          "BENGALURU",
          "BENGALURU(R)",
          "RAMANAGARA",
          "CHITRADURGA",
          "DAVANAGERE",
          "KOLAR",
          "CHIKKABALLAPURA",
          "SHIVAMOGGA",
          "TUMAKURU",
          "CHIKKAMAGALURU",
          "DAKSHINA KANNADA",
          "UDUPI",
          "HASSAN",
          "KODAGU",
          "MANDYA",
          "MYSURU",
          "CHAMARAJANAGAR",
          "BELAGAVI",
          "VIJAYAPURA",
          "BAGALKOT",
          "DHARAWAD",
          "GADAG",
          "HAVERI",
          "UTTARA KANNADA",
          "BALLARI",
          "BIDAR",
          "KALABURAGI",
          "YADGIRI",
          "RAICHUR",
          "KOPPAL"
         ],
         "type": "scatter",
         "x": [
          0.9590442729122614,
          0.9765052391752486,
          0.8222502261381796,
          0.6686503866852201,
          0.7900581835459942,
          1,
          0.9972504351838052,
          0.9678123842563559,
          0.9888021812136774,
          0.850936415487983,
          0.8095920216384356,
          0.7639456796171661,
          0.8601165048161652,
          0.9462974084736767,
          0.8588396049480361,
          0.9105241683796111,
          0.8665083822377129,
          0,
          0.6325317294369196,
          0.974963220266703,
          0.7634273694337914,
          0.4888527035009976,
          0.9683541813306024,
          0.6144347726001684,
          0.6106021055075407,
          0.7942327017204208,
          0.9903543889006118,
          0.890929830023772,
          0.7762892089664342,
          0.9102825362300663
         ],
         "xaxis": "x3",
         "y": [
          0.5647528779056847,
          0.5534995999822215,
          0.5207564780656918,
          0.5996822080981377,
          0.7768011911640516,
          0.561641628516823,
          0.578772945464243,
          0.6572542112982799,
          0.6059713765056225,
          0.6885167118538601,
          0.5516356282501444,
          0.5170785368238588,
          0.6900945597582114,
          0.6137467220765368,
          0.6682241432952574,
          0.6722687675007779,
          0.5661223832170319,
          1,
          0.6506400284457087,
          0.7355993599715542,
          0.6038407262545001,
          0.5646695408684831,
          0.6805663585048224,
          0.5425463353926842,
          0.8425957820347569,
          0.568497488777279,
          0.650003889061736,
          0.7538696164273967,
          0.825667251877861,
          0.7043201920085337
         ],
         "yaxis": "y3"
        },
        {
         "hovertemplate": "%{text}<br>Impact: %{y:.2f}<br>Stability: %{x:.2f}",
         "marker": {
          "color": "red",
          "size": 5,
          "symbol": "circle"
         },
         "mode": "markers",
         "name": "Rice_Production_223 -20%",
         "text": [
          "BENGALURU",
          "BENGALURU(R)",
          "RAMANAGARA",
          "CHITRADURGA",
          "DAVANAGERE",
          "KOLAR",
          "CHIKKABALLAPURA",
          "SHIVAMOGGA",
          "TUMAKURU",
          "CHIKKAMAGALURU",
          "DAKSHINA KANNADA",
          "UDUPI",
          "HASSAN",
          "KODAGU",
          "MANDYA",
          "MYSURU",
          "CHAMARAJANAGAR",
          "BELAGAVI",
          "VIJAYAPURA",
          "BAGALKOT",
          "DHARAWAD",
          "GADAG",
          "HAVERI",
          "UTTARA KANNADA",
          "BALLARI",
          "BIDAR",
          "KALABURAGI",
          "YADGIRI",
          "RAICHUR",
          "KOPPAL"
         ],
         "type": "scatter",
         "x": [
          0.9590442729122612,
          0.9765052391752485,
          0.8222502261381794,
          0.66865038668522,
          0.7900581835459941,
          1,
          0.9972504351838052,
          0.967812384256356,
          0.9888021812136774,
          0.8509364154879832,
          0.8095920216384356,
          0.7639456796171662,
          0.8601165048161653,
          0.9462974084736765,
          0.8588396049480361,
          0.9105241683796109,
          0.8665083822377128,
          0,
          0.6325317294369196,
          0.9749632202667027,
          0.7634273694337913,
          0.48885270350099774,
          0.9683541813306024,
          0.6144347726001683,
          0.6106021055075408,
          0.7942327017204209,
          0.9903543889006117,
          0.8909298300237721,
          0.776289208966434,
          0.9102825362300662
         ],
         "xaxis": "x4",
         "y": [
          0.4352471220943153,
          0.4465004000177786,
          0.4792435219343082,
          0.40031779190186234,
          0.2231988088359483,
          0.438358371483177,
          0.4212270545357571,
          0.34274578870172,
          0.39402862349437756,
          0.3114832881461397,
          0.44836437174985555,
          0.48292146317614115,
          0.3099054402417884,
          0.38625327792346326,
          0.33177585670474236,
          0.32773123249922226,
          0.43387761678296816,
          0,
          0.3493599715542913,
          0.26440064002844565,
          0.3961592737454998,
          0.4353304591315169,
          0.31943364149517767,
          0.4574536646073159,
          0.15740421796524307,
          0.431502511222721,
          0.3499961109382639,
          0.24613038357260317,
          0.17433274812213856,
          0.2956798079914663
         ],
         "yaxis": "y4"
        },
        {
         "hovertemplate": "%{text}<br>Impact: %{y:.2f}<br>Stability: %{x:.2f}",
         "marker": {
          "color": "blue",
          "size": 5,
          "symbol": "circle"
         },
         "mode": "markers",
         "name": "Jowar_Yield_278 +20%",
         "text": [
          "BENGALURU",
          "BENGALURU(R)",
          "RAMANAGARA",
          "CHITRADURGA",
          "DAVANAGERE",
          "KOLAR",
          "CHIKKABALLAPURA",
          "SHIVAMOGGA",
          "TUMAKURU",
          "CHIKKAMAGALURU",
          "DAKSHINA KANNADA",
          "UDUPI",
          "HASSAN",
          "KODAGU",
          "MANDYA",
          "MYSURU",
          "CHAMARAJANAGAR",
          "BELAGAVI",
          "VIJAYAPURA",
          "BAGALKOT",
          "DHARAWAD",
          "GADAG",
          "HAVERI",
          "UTTARA KANNADA",
          "BALLARI",
          "BIDAR",
          "KALABURAGI",
          "YADGIRI",
          "RAICHUR",
          "KOPPAL"
         ],
         "type": "scatter",
         "x": [
          0.9590442729122614,
          0.9765052391752486,
          0.8222502261381796,
          0.6686503866852201,
          0.7900581835459942,
          1,
          0.9972504351838052,
          0.9678123842563559,
          0.9888021812136774,
          0.850936415487983,
          0.8095920216384356,
          0.7639456796171661,
          0.8601165048161652,
          0.9462974084736767,
          0.8588396049480361,
          0.9105241683796111,
          0.8665083822377129,
          0,
          0.6325317294369196,
          0.974963220266703,
          0.7634273694337914,
          0.4888527035009976,
          0.9683541813306024,
          0.6144347726001684,
          0.6106021055075407,
          0.7942327017204208,
          0.9903543889006118,
          0.890929830023772,
          0.7762892089664342,
          0.9102825362300663
         ],
         "xaxis": "x3",
         "y": [
          0.5002700378027977,
          0.5002231084531994,
          0.5000865603802018,
          0.5004157029822217,
          0.5011543392030015,
          0.5002570630134741,
          0.5003285054471871,
          0.5006557945078751,
          0.5004419305920688,
          0.5007861679713108,
          0.5002153351642387,
          0.5000712223256799,
          0.5007927480430392,
          0.5004743559807444,
          0.5007015422248742,
          0.5007184094509949,
          0.5002757490270267,
          0.5020851413213705,
          0.5006282114959292,
          0.5009825159215303,
          0.5004330451783088,
          0.5002696902637979,
          0.5007530127507356,
          0.5001774302440004,
          0.5014287212432957,
          0.5002856538885193,
          0.5006255586148978,
          0.5010587080549065,
          0.5013581244878155,
          0.5008520729502947
         ],
         "yaxis": "y3"
        },
        {
         "hovertemplate": "%{text}<br>Impact: %{y:.2f}<br>Stability: %{x:.2f}",
         "marker": {
          "color": "blue",
          "size": 5,
          "symbol": "circle"
         },
         "mode": "markers",
         "name": "Jowar_Yield_278 -20%",
         "text": [
          "BENGALURU",
          "BENGALURU(R)",
          "RAMANAGARA",
          "CHITRADURGA",
          "DAVANAGERE",
          "KOLAR",
          "CHIKKABALLAPURA",
          "SHIVAMOGGA",
          "TUMAKURU",
          "CHIKKAMAGALURU",
          "DAKSHINA KANNADA",
          "UDUPI",
          "HASSAN",
          "KODAGU",
          "MANDYA",
          "MYSURU",
          "CHAMARAJANAGAR",
          "BELAGAVI",
          "VIJAYAPURA",
          "BAGALKOT",
          "DHARAWAD",
          "GADAG",
          "HAVERI",
          "UTTARA KANNADA",
          "BALLARI",
          "BIDAR",
          "KALABURAGI",
          "YADGIRI",
          "RAICHUR",
          "KOPPAL"
         ],
         "type": "scatter",
         "x": [
          0.9590442729122612,
          0.9765052391752485,
          0.8222502261381794,
          0.66865038668522,
          0.7900581835459941,
          1,
          0.9972504351838052,
          0.967812384256356,
          0.9888021812136774,
          0.8509364154879832,
          0.8095920216384356,
          0.7639456796171662,
          0.8601165048161653,
          0.9462974084736765,
          0.8588396049480361,
          0.9105241683796109,
          0.8665083822377128,
          0,
          0.6325317294369196,
          0.9749632202667027,
          0.7634273694337913,
          0.48885270350099774,
          0.9683541813306024,
          0.6144347726001683,
          0.6106021055075408,
          0.7942327017204209,
          0.9903543889006117,
          0.8909298300237721,
          0.776289208966434,
          0.9102825362300662
         ],
         "xaxis": "x4",
         "y": [
          0.4997299621972024,
          0.4997768915468006,
          0.49991343961979817,
          0.49958429701777823,
          0.49884566079699855,
          0.499742936986526,
          0.4996714945528129,
          0.4993442054921248,
          0.49955806940793124,
          0.49921383202868924,
          0.4997846648357614,
          0.4999287776743201,
          0.49920725195696086,
          0.49952564401925553,
          0.4992984577751258,
          0.4992815905490051,
          0.4997242509729734,
          0.4979148586786295,
          0.4993717885040708,
          0.49901748407846974,
          0.4995669548216912,
          0.4997303097362021,
          0.4992469872492644,
          0.49982256975599965,
          0.4985712787567042,
          0.49971434611148075,
          0.4993744413851022,
          0.4989412919450935,
          0.4986418755121846,
          0.4991479270497053
         ],
         "yaxis": "y4"
        }
       ],
       "layout": {
        "height": 800,
        "legend": {
         "orientation": "h",
         "title": {
          "text": "Capability"
         },
         "x": 1,
         "xanchor": "right",
         "y": 1.02,
         "yanchor": "bottom"
        },
        "shapes": [
         {
          "line": {
           "color": "black",
           "dash": "dash"
          },
          "name": "Average Stability",
          "type": "line",
          "x0": 0.8150796080875854,
          "x1": 0.8150796080875854,
          "xref": "x",
          "y0": 0,
          "y1": 1,
          "yref": "y"
         },
         {
          "line": {
           "color": "black",
           "dash": "dash"
          },
          "name": "Average Impact",
          "type": "line",
          "x0": 0,
          "x1": 1,
          "xref": "x",
          "y0": 0.5751606089900291,
          "y1": 0.5751606089900291,
          "yref": "y"
         },
         {
          "line": {
           "color": "black",
           "dash": "dash"
          },
          "name": "Average Stability",
          "type": "line",
          "x0": 0.8150796080875854,
          "x1": 0.8150796080875854,
          "xref": "x2",
          "y0": 0,
          "y1": 1,
          "yref": "y2"
         },
         {
          "line": {
           "color": "black",
           "dash": "dash"
          },
          "name": "Average Impact",
          "type": "line",
          "x0": 0,
          "x1": 1,
          "xref": "x2",
          "y0": 0.4248393910099708,
          "y1": 0.4248393910099708,
          "yref": "y2"
         },
         {
          "line": {
           "color": "black",
           "dash": "dash"
          },
          "name": "Average Stability",
          "type": "line",
          "x0": 0.8150796080875854,
          "x1": 0.8150796080875854,
          "xref": "x",
          "y0": 0,
          "y1": 1,
          "yref": "y"
         },
         {
          "line": {
           "color": "black",
           "dash": "dash"
          },
          "name": "Average Impact",
          "type": "line",
          "x0": 0,
          "x1": 1,
          "xref": "x",
          "y0": 0.5751606089900291,
          "y1": 0.5751606089900291,
          "yref": "y"
         },
         {
          "line": {
           "color": "black",
           "dash": "dash"
          },
          "name": "Average Stability",
          "type": "line",
          "x0": 0.8150796080875854,
          "x1": 0.8150796080875854,
          "xref": "x2",
          "y0": 0,
          "y1": 1,
          "yref": "y2"
         },
         {
          "line": {
           "color": "black",
           "dash": "dash"
          },
          "name": "Average Impact",
          "type": "line",
          "x0": 0,
          "x1": 1,
          "xref": "x2",
          "y0": 0.4248393910099708,
          "y1": 0.4248393910099708,
          "yref": "y2"
         },
         {
          "line": {
           "color": "black",
           "dash": "dash"
          },
          "name": "Average Stability",
          "type": "line",
          "x0": 0.8150796080875854,
          "x1": 0.8150796080875854,
          "xref": "x3",
          "y0": 0,
          "y1": 1,
          "yref": "y3"
         },
         {
          "line": {
           "color": "black",
           "dash": "dash"
          },
          "name": "Average Impact",
          "type": "line",
          "x0": 0,
          "x1": 1,
          "xref": "x3",
          "y0": 0.6503212179800584,
          "y1": 0.6503212179800584,
          "yref": "y3"
         },
         {
          "line": {
           "color": "black",
           "dash": "dash"
          },
          "name": "Average Stability",
          "type": "line",
          "x0": 0.8150796080875854,
          "x1": 0.8150796080875854,
          "xref": "x4",
          "y0": 0,
          "y1": 1,
          "yref": "y4"
         },
         {
          "line": {
           "color": "black",
           "dash": "dash"
          },
          "name": "Average Impact",
          "type": "line",
          "x0": 0,
          "x1": 1,
          "xref": "x4",
          "y0": 0.3496787820199417,
          "y1": 0.3496787820199417,
          "yref": "y4"
         },
         {
          "line": {
           "color": "black",
           "dash": "dash"
          },
          "name": "Average Stability",
          "type": "line",
          "x0": 0.8150796080875854,
          "x1": 0.8150796080875854,
          "xref": "x3",
          "y0": 0,
          "y1": 1,
          "yref": "y3"
         },
         {
          "line": {
           "color": "black",
           "dash": "dash"
          },
          "name": "Average Impact",
          "type": "line",
          "x0": 0,
          "x1": 1,
          "xref": "x3",
          "y0": 0.6503212179800584,
          "y1": 0.6503212179800584,
          "yref": "y3"
         },
         {
          "line": {
           "color": "black",
           "dash": "dash"
          },
          "name": "Average Stability",
          "type": "line",
          "x0": 0.8150796080875854,
          "x1": 0.8150796080875854,
          "xref": "x4",
          "y0": 0,
          "y1": 1,
          "yref": "y4"
         },
         {
          "line": {
           "color": "black",
           "dash": "dash"
          },
          "name": "Average Impact",
          "type": "line",
          "x0": 0,
          "x1": 1,
          "xref": "x4",
          "y0": 0.3496787820199417,
          "y1": 0.3496787820199417,
          "yref": "y4"
         }
        ],
        "showlegend": true,
        "template": {
         "data": {
          "bar": [
           {
            "error_x": {
             "color": "#2a3f5f"
            },
            "error_y": {
             "color": "#2a3f5f"
            },
            "marker": {
             "line": {
              "color": "#E5ECF6",
              "width": 0.5
             },
             "pattern": {
              "fillmode": "overlay",
              "size": 10,
              "solidity": 0.2
             }
            },
            "type": "bar"
           }
          ],
          "barpolar": [
           {
            "marker": {
             "line": {
              "color": "#E5ECF6",
              "width": 0.5
             },
             "pattern": {
              "fillmode": "overlay",
              "size": 10,
              "solidity": 0.2
             }
            },
            "type": "barpolar"
           }
          ],
          "carpet": [
           {
            "aaxis": {
             "endlinecolor": "#2a3f5f",
             "gridcolor": "white",
             "linecolor": "white",
             "minorgridcolor": "white",
             "startlinecolor": "#2a3f5f"
            },
            "baxis": {
             "endlinecolor": "#2a3f5f",
             "gridcolor": "white",
             "linecolor": "white",
             "minorgridcolor": "white",
             "startlinecolor": "#2a3f5f"
            },
            "type": "carpet"
           }
          ],
          "choropleth": [
           {
            "colorbar": {
             "outlinewidth": 0,
             "ticks": ""
            },
            "type": "choropleth"
           }
          ],
          "contour": [
           {
            "colorbar": {
             "outlinewidth": 0,
             "ticks": ""
            },
            "colorscale": [
             [
              0,
              "#0d0887"
             ],
             [
              0.1111111111111111,
              "#46039f"
             ],
             [
              0.2222222222222222,
              "#7201a8"
             ],
             [
              0.3333333333333333,
              "#9c179e"
             ],
             [
              0.4444444444444444,
              "#bd3786"
             ],
             [
              0.5555555555555556,
              "#d8576b"
             ],
             [
              0.6666666666666666,
              "#ed7953"
             ],
             [
              0.7777777777777778,
              "#fb9f3a"
             ],
             [
              0.8888888888888888,
              "#fdca26"
             ],
             [
              1,
              "#f0f921"
             ]
            ],
            "type": "contour"
           }
          ],
          "contourcarpet": [
           {
            "colorbar": {
             "outlinewidth": 0,
             "ticks": ""
            },
            "type": "contourcarpet"
           }
          ],
          "heatmap": [
           {
            "colorbar": {
             "outlinewidth": 0,
             "ticks": ""
            },
            "colorscale": [
             [
              0,
              "#0d0887"
             ],
             [
              0.1111111111111111,
              "#46039f"
             ],
             [
              0.2222222222222222,
              "#7201a8"
             ],
             [
              0.3333333333333333,
              "#9c179e"
             ],
             [
              0.4444444444444444,
              "#bd3786"
             ],
             [
              0.5555555555555556,
              "#d8576b"
             ],
             [
              0.6666666666666666,
              "#ed7953"
             ],
             [
              0.7777777777777778,
              "#fb9f3a"
             ],
             [
              0.8888888888888888,
              "#fdca26"
             ],
             [
              1,
              "#f0f921"
             ]
            ],
            "type": "heatmap"
           }
          ],
          "heatmapgl": [
           {
            "colorbar": {
             "outlinewidth": 0,
             "ticks": ""
            },
            "colorscale": [
             [
              0,
              "#0d0887"
             ],
             [
              0.1111111111111111,
              "#46039f"
             ],
             [
              0.2222222222222222,
              "#7201a8"
             ],
             [
              0.3333333333333333,
              "#9c179e"
             ],
             [
              0.4444444444444444,
              "#bd3786"
             ],
             [
              0.5555555555555556,
              "#d8576b"
             ],
             [
              0.6666666666666666,
              "#ed7953"
             ],
             [
              0.7777777777777778,
              "#fb9f3a"
             ],
             [
              0.8888888888888888,
              "#fdca26"
             ],
             [
              1,
              "#f0f921"
             ]
            ],
            "type": "heatmapgl"
           }
          ],
          "histogram": [
           {
            "marker": {
             "pattern": {
              "fillmode": "overlay",
              "size": 10,
              "solidity": 0.2
             }
            },
            "type": "histogram"
           }
          ],
          "histogram2d": [
           {
            "colorbar": {
             "outlinewidth": 0,
             "ticks": ""
            },
            "colorscale": [
             [
              0,
              "#0d0887"
             ],
             [
              0.1111111111111111,
              "#46039f"
             ],
             [
              0.2222222222222222,
              "#7201a8"
             ],
             [
              0.3333333333333333,
              "#9c179e"
             ],
             [
              0.4444444444444444,
              "#bd3786"
             ],
             [
              0.5555555555555556,
              "#d8576b"
             ],
             [
              0.6666666666666666,
              "#ed7953"
             ],
             [
              0.7777777777777778,
              "#fb9f3a"
             ],
             [
              0.8888888888888888,
              "#fdca26"
             ],
             [
              1,
              "#f0f921"
             ]
            ],
            "type": "histogram2d"
           }
          ],
          "histogram2dcontour": [
           {
            "colorbar": {
             "outlinewidth": 0,
             "ticks": ""
            },
            "colorscale": [
             [
              0,
              "#0d0887"
             ],
             [
              0.1111111111111111,
              "#46039f"
             ],
             [
              0.2222222222222222,
              "#7201a8"
             ],
             [
              0.3333333333333333,
              "#9c179e"
             ],
             [
              0.4444444444444444,
              "#bd3786"
             ],
             [
              0.5555555555555556,
              "#d8576b"
             ],
             [
              0.6666666666666666,
              "#ed7953"
             ],
             [
              0.7777777777777778,
              "#fb9f3a"
             ],
             [
              0.8888888888888888,
              "#fdca26"
             ],
             [
              1,
              "#f0f921"
             ]
            ],
            "type": "histogram2dcontour"
           }
          ],
          "mesh3d": [
           {
            "colorbar": {
             "outlinewidth": 0,
             "ticks": ""
            },
            "type": "mesh3d"
           }
          ],
          "parcoords": [
           {
            "line": {
             "colorbar": {
              "outlinewidth": 0,
              "ticks": ""
             }
            },
            "type": "parcoords"
           }
          ],
          "pie": [
           {
            "automargin": true,
            "type": "pie"
           }
          ],
          "scatter": [
           {
            "fillpattern": {
             "fillmode": "overlay",
             "size": 10,
             "solidity": 0.2
            },
            "type": "scatter"
           }
          ],
          "scatter3d": [
           {
            "line": {
             "colorbar": {
              "outlinewidth": 0,
              "ticks": ""
             }
            },
            "marker": {
             "colorbar": {
              "outlinewidth": 0,
              "ticks": ""
             }
            },
            "type": "scatter3d"
           }
          ],
          "scattercarpet": [
           {
            "marker": {
             "colorbar": {
              "outlinewidth": 0,
              "ticks": ""
             }
            },
            "type": "scattercarpet"
           }
          ],
          "scattergeo": [
           {
            "marker": {
             "colorbar": {
              "outlinewidth": 0,
              "ticks": ""
             }
            },
            "type": "scattergeo"
           }
          ],
          "scattergl": [
           {
            "marker": {
             "colorbar": {
              "outlinewidth": 0,
              "ticks": ""
             }
            },
            "type": "scattergl"
           }
          ],
          "scattermapbox": [
           {
            "marker": {
             "colorbar": {
              "outlinewidth": 0,
              "ticks": ""
             }
            },
            "type": "scattermapbox"
           }
          ],
          "scatterpolar": [
           {
            "marker": {
             "colorbar": {
              "outlinewidth": 0,
              "ticks": ""
             }
            },
            "type": "scatterpolar"
           }
          ],
          "scatterpolargl": [
           {
            "marker": {
             "colorbar": {
              "outlinewidth": 0,
              "ticks": ""
             }
            },
            "type": "scatterpolargl"
           }
          ],
          "scatterternary": [
           {
            "marker": {
             "colorbar": {
              "outlinewidth": 0,
              "ticks": ""
             }
            },
            "type": "scatterternary"
           }
          ],
          "surface": [
           {
            "colorbar": {
             "outlinewidth": 0,
             "ticks": ""
            },
            "colorscale": [
             [
              0,
              "#0d0887"
             ],
             [
              0.1111111111111111,
              "#46039f"
             ],
             [
              0.2222222222222222,
              "#7201a8"
             ],
             [
              0.3333333333333333,
              "#9c179e"
             ],
             [
              0.4444444444444444,
              "#bd3786"
             ],
             [
              0.5555555555555556,
              "#d8576b"
             ],
             [
              0.6666666666666666,
              "#ed7953"
             ],
             [
              0.7777777777777778,
              "#fb9f3a"
             ],
             [
              0.8888888888888888,
              "#fdca26"
             ],
             [
              1,
              "#f0f921"
             ]
            ],
            "type": "surface"
           }
          ],
          "table": [
           {
            "cells": {
             "fill": {
              "color": "#EBF0F8"
             },
             "line": {
              "color": "white"
             }
            },
            "header": {
             "fill": {
              "color": "#C8D4E3"
             },
             "line": {
              "color": "white"
             }
            },
            "type": "table"
           }
          ]
         },
         "layout": {
          "annotationdefaults": {
           "arrowcolor": "#2a3f5f",
           "arrowhead": 0,
           "arrowwidth": 1
          },
          "autotypenumbers": "strict",
          "coloraxis": {
           "colorbar": {
            "outlinewidth": 0,
            "ticks": ""
           }
          },
          "colorscale": {
           "diverging": [
            [
             0,
             "#8e0152"
            ],
            [
             0.1,
             "#c51b7d"
            ],
            [
             0.2,
             "#de77ae"
            ],
            [
             0.3,
             "#f1b6da"
            ],
            [
             0.4,
             "#fde0ef"
            ],
            [
             0.5,
             "#f7f7f7"
            ],
            [
             0.6,
             "#e6f5d0"
            ],
            [
             0.7,
             "#b8e186"
            ],
            [
             0.8,
             "#7fbc41"
            ],
            [
             0.9,
             "#4d9221"
            ],
            [
             1,
             "#276419"
            ]
           ],
           "sequential": [
            [
             0,
             "#0d0887"
            ],
            [
             0.1111111111111111,
             "#46039f"
            ],
            [
             0.2222222222222222,
             "#7201a8"
            ],
            [
             0.3333333333333333,
             "#9c179e"
            ],
            [
             0.4444444444444444,
             "#bd3786"
            ],
            [
             0.5555555555555556,
             "#d8576b"
            ],
            [
             0.6666666666666666,
             "#ed7953"
            ],
            [
             0.7777777777777778,
             "#fb9f3a"
            ],
            [
             0.8888888888888888,
             "#fdca26"
            ],
            [
             1,
             "#f0f921"
            ]
           ],
           "sequentialminus": [
            [
             0,
             "#0d0887"
            ],
            [
             0.1111111111111111,
             "#46039f"
            ],
            [
             0.2222222222222222,
             "#7201a8"
            ],
            [
             0.3333333333333333,
             "#9c179e"
            ],
            [
             0.4444444444444444,
             "#bd3786"
            ],
            [
             0.5555555555555556,
             "#d8576b"
            ],
            [
             0.6666666666666666,
             "#ed7953"
            ],
            [
             0.7777777777777778,
             "#fb9f3a"
            ],
            [
             0.8888888888888888,
             "#fdca26"
            ],
            [
             1,
             "#f0f921"
            ]
           ]
          },
          "colorway": [
           "#636efa",
           "#EF553B",
           "#00cc96",
           "#ab63fa",
           "#FFA15A",
           "#19d3f3",
           "#FF6692",
           "#B6E880",
           "#FF97FF",
           "#FECB52"
          ],
          "font": {
           "color": "#2a3f5f"
          },
          "geo": {
           "bgcolor": "white",
           "lakecolor": "white",
           "landcolor": "#E5ECF6",
           "showlakes": true,
           "showland": true,
           "subunitcolor": "white"
          },
          "hoverlabel": {
           "align": "left"
          },
          "hovermode": "closest",
          "mapbox": {
           "style": "light"
          },
          "paper_bgcolor": "white",
          "plot_bgcolor": "#E5ECF6",
          "polar": {
           "angularaxis": {
            "gridcolor": "white",
            "linecolor": "white",
            "ticks": ""
           },
           "bgcolor": "#E5ECF6",
           "radialaxis": {
            "gridcolor": "white",
            "linecolor": "white",
            "ticks": ""
           }
          },
          "scene": {
           "xaxis": {
            "backgroundcolor": "#E5ECF6",
            "gridcolor": "white",
            "gridwidth": 2,
            "linecolor": "white",
            "showbackground": true,
            "ticks": "",
            "zerolinecolor": "white"
           },
           "yaxis": {
            "backgroundcolor": "#E5ECF6",
            "gridcolor": "white",
            "gridwidth": 2,
            "linecolor": "white",
            "showbackground": true,
            "ticks": "",
            "zerolinecolor": "white"
           },
           "zaxis": {
            "backgroundcolor": "#E5ECF6",
            "gridcolor": "white",
            "gridwidth": 2,
            "linecolor": "white",
            "showbackground": true,
            "ticks": "",
            "zerolinecolor": "white"
           }
          },
          "shapedefaults": {
           "line": {
            "color": "#2a3f5f"
           }
          },
          "ternary": {
           "aaxis": {
            "gridcolor": "white",
            "linecolor": "white",
            "ticks": ""
           },
           "baxis": {
            "gridcolor": "white",
            "linecolor": "white",
            "ticks": ""
           },
           "bgcolor": "#E5ECF6",
           "caxis": {
            "gridcolor": "white",
            "linecolor": "white",
            "ticks": ""
           }
          },
          "title": {
           "x": 0.05
          },
          "xaxis": {
           "automargin": true,
           "gridcolor": "white",
           "linecolor": "white",
           "ticks": "",
           "title": {
            "standoff": 15
           },
           "zerolinecolor": "white",
           "zerolinewidth": 2
          },
          "yaxis": {
           "automargin": true,
           "gridcolor": "white",
           "linecolor": "white",
           "ticks": "",
           "title": {
            "standoff": 15
           },
           "zerolinecolor": "white",
           "zerolinewidth": 2
          }
         }
        },
        "xaxis": {
         "anchor": "y",
         "domain": [
          0,
          0.45
         ],
         "matches": "x3",
         "showticklabels": false,
         "title": {
          "text": "Stability (TotalNPK_315 +10%)"
         }
        },
        "xaxis2": {
         "anchor": "y2",
         "domain": [
          0.55,
          1
         ],
         "matches": "x4",
         "showticklabels": false,
         "title": {
          "text": "Stability (TotalNPK_315 -10%)"
         }
        },
        "xaxis3": {
         "anchor": "y3",
         "domain": [
          0,
          0.45
         ],
         "title": {
          "text": "Stability (TotalNPK_315 +20%)"
         }
        },
        "xaxis4": {
         "anchor": "y4",
         "domain": [
          0.55,
          1
         ],
         "title": {
          "text": "Stability (TotalNPK_315 -20%)"
         }
        },
        "yaxis": {
         "anchor": "x",
         "domain": [
          0.55,
          1
         ],
         "title": {
          "text": "Impact"
         }
        },
        "yaxis2": {
         "anchor": "x2",
         "domain": [
          0.55,
          1
         ],
         "matches": "y",
         "showticklabels": false
        },
        "yaxis3": {
         "anchor": "x3",
         "domain": [
          0,
          0.45
         ],
         "title": {
          "text": "Impact"
         }
        },
        "yaxis4": {
         "anchor": "x4",
         "domain": [
          0,
          0.45
         ],
         "matches": "y3",
         "showticklabels": false
        }
       }
      }
     },
     "metadata": {},
     "output_type": "display_data"
    },
    {
     "data": {
      "text/html": [
       "<div>\n",
       "<style scoped>\n",
       "    .dataframe tbody tr th:only-of-type {\n",
       "        vertical-align: middle;\n",
       "    }\n",
       "\n",
       "    .dataframe tbody tr th {\n",
       "        vertical-align: top;\n",
       "    }\n",
       "\n",
       "    .dataframe thead th {\n",
       "        text-align: right;\n",
       "    }\n",
       "</style>\n",
       "<table border=\"1\" class=\"dataframe\">\n",
       "  <thead>\n",
       "    <tr style=\"text-align: right;\">\n",
       "      <th></th>\n",
       "      <th>District</th>\n",
       "      <th>Initial Stability</th>\n",
       "      <th>Rice_Production_223 (TotalNPK_315 +10%)</th>\n",
       "      <th>Rice_Production_223 (TotalNPK_315 -10%)</th>\n",
       "      <th>Normalized Rice_Production_223 (TotalNPK_315 +10%)</th>\n",
       "      <th>Normalized Rice_Production_223 (TotalNPK_315 -10%)</th>\n",
       "      <th>Impact Score Rice_Production_223 (TotalNPK_315 +10%)</th>\n",
       "      <th>Impact Score Rice_Production_223 (TotalNPK_315 -10%)</th>\n",
       "      <th>Jowar_Yield_278 (TotalNPK_315 +10%)</th>\n",
       "      <th>Jowar_Yield_278 (TotalNPK_315 -10%)</th>\n",
       "      <th>...</th>\n",
       "      <th>Impact Score Rice_Production_223 (TotalNPK_315 +20%)</th>\n",
       "      <th>Impact Score Rice_Production_223 (TotalNPK_315 -20%)</th>\n",
       "      <th>Jowar_Yield_278 (TotalNPK_315 +20%)</th>\n",
       "      <th>Jowar_Yield_278 (TotalNPK_315 -20%)</th>\n",
       "      <th>Normalized Jowar_Yield_278 (TotalNPK_315 +20%)</th>\n",
       "      <th>Normalized Jowar_Yield_278 (TotalNPK_315 -20%)</th>\n",
       "      <th>Impact Score Jowar_Yield_278 (TotalNPK_315 +20%)</th>\n",
       "      <th>Impact Score Jowar_Yield_278 (TotalNPK_315 -20%)</th>\n",
       "      <th>New Stability(NPK + 20%)_Rice_Jowar</th>\n",
       "      <th>New Stability(NPK - 20%)_Rice_Jowar</th>\n",
       "    </tr>\n",
       "  </thead>\n",
       "  <tbody>\n",
       "    <tr>\n",
       "      <th>0</th>\n",
       "      <td>BENGALURU</td>\n",
       "      <td>0.313550</td>\n",
       "      <td>68479.019211</td>\n",
       "      <td>57507.638667</td>\n",
       "      <td>0.131904</td>\n",
       "      <td>0.110643</td>\n",
       "      <td>0.532376</td>\n",
       "      <td>0.467624</td>\n",
       "      <td>616.168067</td>\n",
       "      <td>570.414310</td>\n",
       "      <td>...</td>\n",
       "      <td>0.564753</td>\n",
       "      <td>0.435247</td>\n",
       "      <td>639.044946</td>\n",
       "      <td>547.537431</td>\n",
       "      <td>0.000438</td>\n",
       "      <td>0.000261</td>\n",
       "      <td>0.500270</td>\n",
       "      <td>0.499730</td>\n",
       "      <td>0.959044</td>\n",
       "      <td>0.959044</td>\n",
       "    </tr>\n",
       "    <tr>\n",
       "      <th>1</th>\n",
       "      <td>BENGALURU(R)</td>\n",
       "      <td>0.742284</td>\n",
       "      <td>57992.196208</td>\n",
       "      <td>48927.510755</td>\n",
       "      <td>0.111582</td>\n",
       "      <td>0.094016</td>\n",
       "      <td>0.526750</td>\n",
       "      <td>0.473250</td>\n",
       "      <td>572.435052</td>\n",
       "      <td>534.632751</td>\n",
       "      <td>...</td>\n",
       "      <td>0.553500</td>\n",
       "      <td>0.446500</td>\n",
       "      <td>591.336202</td>\n",
       "      <td>515.731601</td>\n",
       "      <td>0.000346</td>\n",
       "      <td>0.000199</td>\n",
       "      <td>0.500223</td>\n",
       "      <td>0.499777</td>\n",
       "      <td>0.976505</td>\n",
       "      <td>0.976505</td>\n",
       "    </tr>\n",
       "    <tr>\n",
       "      <th>2</th>\n",
       "      <td>RAMANAGARA</td>\n",
       "      <td>0.608105</td>\n",
       "      <td>27479.191334</td>\n",
       "      <td>23962.324950</td>\n",
       "      <td>0.052451</td>\n",
       "      <td>0.045636</td>\n",
       "      <td>0.510378</td>\n",
       "      <td>0.489622</td>\n",
       "      <td>445.187197</td>\n",
       "      <td>430.520870</td>\n",
       "      <td>...</td>\n",
       "      <td>0.520756</td>\n",
       "      <td>0.479244</td>\n",
       "      <td>452.520360</td>\n",
       "      <td>423.187707</td>\n",
       "      <td>0.000077</td>\n",
       "      <td>0.000020</td>\n",
       "      <td>0.500087</td>\n",
       "      <td>0.499913</td>\n",
       "      <td>0.822250</td>\n",
       "      <td>0.822250</td>\n",
       "    </tr>\n",
       "    <tr>\n",
       "      <th>3</th>\n",
       "      <td>CHITRADURGA</td>\n",
       "      <td>0.422882</td>\n",
       "      <td>101029.330849</td>\n",
       "      <td>84139.711825</td>\n",
       "      <td>0.194983</td>\n",
       "      <td>0.162253</td>\n",
       "      <td>0.549841</td>\n",
       "      <td>0.450159</td>\n",
       "      <td>751.912067</td>\n",
       "      <td>681.477582</td>\n",
       "      <td>...</td>\n",
       "      <td>0.599682</td>\n",
       "      <td>0.400318</td>\n",
       "      <td>787.129310</td>\n",
       "      <td>646.260340</td>\n",
       "      <td>0.000725</td>\n",
       "      <td>0.000452</td>\n",
       "      <td>0.500416</td>\n",
       "      <td>0.499584</td>\n",
       "      <td>0.668650</td>\n",
       "      <td>0.668650</td>\n",
       "    </tr>\n",
       "    <tr>\n",
       "      <th>4</th>\n",
       "      <td>DAVANAGERE</td>\n",
       "      <td>0.339007</td>\n",
       "      <td>266084.831886</td>\n",
       "      <td>219185.121765</td>\n",
       "      <td>0.514841</td>\n",
       "      <td>0.423955</td>\n",
       "      <td>0.638401</td>\n",
       "      <td>0.361599</td>\n",
       "      <td>1440.240158</td>\n",
       "      <td>1244.655111</td>\n",
       "      <td>...</td>\n",
       "      <td>0.776801</td>\n",
       "      <td>0.223199</td>\n",
       "      <td>1538.032682</td>\n",
       "      <td>1146.862588</td>\n",
       "      <td>0.002181</td>\n",
       "      <td>0.001423</td>\n",
       "      <td>0.501154</td>\n",
       "      <td>0.498846</td>\n",
       "      <td>0.790058</td>\n",
       "      <td>0.790058</td>\n",
       "    </tr>\n",
       "  </tbody>\n",
       "</table>\n",
       "<p>5 rows × 30 columns</p>\n",
       "</div>"
      ],
      "text/plain": [
       "       District  Initial Stability  Rice_Production_223 (TotalNPK_315 +10%)  \\\n",
       "0     BENGALURU           0.313550                             68479.019211   \n",
       "1  BENGALURU(R)           0.742284                             57992.196208   \n",
       "2    RAMANAGARA           0.608105                             27479.191334   \n",
       "3   CHITRADURGA           0.422882                            101029.330849   \n",
       "4    DAVANAGERE           0.339007                            266084.831886   \n",
       "\n",
       "   Rice_Production_223 (TotalNPK_315 -10%)  \\\n",
       "0                             57507.638667   \n",
       "1                             48927.510755   \n",
       "2                             23962.324950   \n",
       "3                             84139.711825   \n",
       "4                            219185.121765   \n",
       "\n",
       "   Normalized Rice_Production_223 (TotalNPK_315 +10%)  \\\n",
       "0                                           0.131904    \n",
       "1                                           0.111582    \n",
       "2                                           0.052451    \n",
       "3                                           0.194983    \n",
       "4                                           0.514841    \n",
       "\n",
       "   Normalized Rice_Production_223 (TotalNPK_315 -10%)  \\\n",
       "0                                           0.110643    \n",
       "1                                           0.094016    \n",
       "2                                           0.045636    \n",
       "3                                           0.162253    \n",
       "4                                           0.423955    \n",
       "\n",
       "   Impact Score Rice_Production_223 (TotalNPK_315 +10%)  \\\n",
       "0                                           0.532376      \n",
       "1                                           0.526750      \n",
       "2                                           0.510378      \n",
       "3                                           0.549841      \n",
       "4                                           0.638401      \n",
       "\n",
       "   Impact Score Rice_Production_223 (TotalNPK_315 -10%)  \\\n",
       "0                                           0.467624      \n",
       "1                                           0.473250      \n",
       "2                                           0.489622      \n",
       "3                                           0.450159      \n",
       "4                                           0.361599      \n",
       "\n",
       "   Jowar_Yield_278 (TotalNPK_315 +10%)  Jowar_Yield_278 (TotalNPK_315 -10%)  \\\n",
       "0                           616.168067                           570.414310   \n",
       "1                           572.435052                           534.632751   \n",
       "2                           445.187197                           430.520870   \n",
       "3                           751.912067                           681.477582   \n",
       "4                          1440.240158                          1244.655111   \n",
       "\n",
       "   ...  Impact Score Rice_Production_223 (TotalNPK_315 +20%)  \\\n",
       "0  ...                                           0.564753      \n",
       "1  ...                                           0.553500      \n",
       "2  ...                                           0.520756      \n",
       "3  ...                                           0.599682      \n",
       "4  ...                                           0.776801      \n",
       "\n",
       "   Impact Score Rice_Production_223 (TotalNPK_315 -20%)  \\\n",
       "0                                           0.435247      \n",
       "1                                           0.446500      \n",
       "2                                           0.479244      \n",
       "3                                           0.400318      \n",
       "4                                           0.223199      \n",
       "\n",
       "   Jowar_Yield_278 (TotalNPK_315 +20%)  Jowar_Yield_278 (TotalNPK_315 -20%)  \\\n",
       "0                           639.044946                           547.537431   \n",
       "1                           591.336202                           515.731601   \n",
       "2                           452.520360                           423.187707   \n",
       "3                           787.129310                           646.260340   \n",
       "4                          1538.032682                          1146.862588   \n",
       "\n",
       "   Normalized Jowar_Yield_278 (TotalNPK_315 +20%)  \\\n",
       "0                                        0.000438   \n",
       "1                                        0.000346   \n",
       "2                                        0.000077   \n",
       "3                                        0.000725   \n",
       "4                                        0.002181   \n",
       "\n",
       "   Normalized Jowar_Yield_278 (TotalNPK_315 -20%)  \\\n",
       "0                                        0.000261   \n",
       "1                                        0.000199   \n",
       "2                                        0.000020   \n",
       "3                                        0.000452   \n",
       "4                                        0.001423   \n",
       "\n",
       "   Impact Score Jowar_Yield_278 (TotalNPK_315 +20%)  \\\n",
       "0                                          0.500270   \n",
       "1                                          0.500223   \n",
       "2                                          0.500087   \n",
       "3                                          0.500416   \n",
       "4                                          0.501154   \n",
       "\n",
       "   Impact Score Jowar_Yield_278 (TotalNPK_315 -20%)  \\\n",
       "0                                          0.499730   \n",
       "1                                          0.499777   \n",
       "2                                          0.499913   \n",
       "3                                          0.499584   \n",
       "4                                          0.498846   \n",
       "\n",
       "   New Stability(NPK + 20%)_Rice_Jowar  New Stability(NPK - 20%)_Rice_Jowar  \n",
       "0                             0.959044                             0.959044  \n",
       "1                             0.976505                             0.976505  \n",
       "2                             0.822250                             0.822250  \n",
       "3                             0.668650                             0.668650  \n",
       "4                             0.790058                             0.790058  \n",
       "\n",
       "[5 rows x 30 columns]"
      ]
     },
     "execution_count": 87,
     "metadata": {},
     "output_type": "execute_result"
    }
   ],
   "source": [
    "import statsmodels.api as sm\n",
    "import pandas as pd\n",
    "import plotly.express as px\n",
    "import plotly.graph_objects as go\n",
    "from plotly.subplots import make_subplots\n",
    "from itertools import cycle\n",
    "\n",
    "def calc_and_vis_impact_stability_2D(G, existing_data, adjacency_file, base_column, capability_vector, change_percentages, dim):\n",
    "    # Calculate min and max values for changes made by each column in capability_vector\n",
    "    min_value = float('inf')\n",
    "    max_value = float('-inf')\n",
    "    \n",
    "    change_min_value = float('inf')\n",
    "    change_max_value = float('-inf')\n",
    "    \n",
    "    initial_stability_column = calculate_and_return_initial_stability(df, capability_vector, G)\n",
    "    existing_data = pd.concat([existing_data, initial_stability_column], axis=1)\n",
    "\n",
    "    for intervention in change_percentages:\n",
    "        for cap_col in capability_vector:\n",
    "                # Calculate Impact Score\n",
    "            X = sm.add_constant(df[base_column])\n",
    "            y = df[cap_col]\n",
    "            model = sm.OLS(y, X).fit()\n",
    "\n",
    "            m, c = model.params[base_column], model.params['const']\n",
    "\n",
    "            base_column_increase = (1 + intervention/100) * df[base_column]\n",
    "            base_column_decrease = (1 - intervention/100) * df[base_column]\n",
    "\n",
    "            change_vector_increase = m * base_column_increase + c\n",
    "            change_vector_decrease = m * base_column_decrease + c\n",
    "            \n",
    "            # Update min and max values for each column's changes (These are the new values for each column after the intervention)\n",
    "            change_min_value = min(change_min_value, change_vector_increase.min(), change_vector_decrease.min())\n",
    "            change_max_value = max(change_max_value, change_vector_increase.max(), change_vector_decrease.max())\n",
    "            \n",
    "            vector_plus = change_vector_increase - m * df[base_column] - c  \n",
    "            vector_minus = change_vector_decrease - m * df[base_column] - c\n",
    "            \n",
    "            # Update min and max values for each column's changes\n",
    "            min_value = min(min_value, vector_plus.min(), vector_minus.min())\n",
    "            max_value = max(max_value, vector_plus.max(), vector_minus.max())\n",
    "\n",
    "\n",
    "    print(f\"min_value: {min_value}\")\n",
    "    print(f\"max_value: {max_value}\")\n",
    "    print(f\"changed_min_value: {change_min_value}\")\n",
    "    print(f\"changed_max_value: {change_max_value}\")    # Normalize changes manually using the calculated min and max values\n",
    "    col_pass_plus = []\n",
    "    col_pass_minus = []\n",
    "    result_df = pd.DataFrame()\n",
    "    \n",
    "    for intervention in change_percentages:\n",
    "        for cap_col in capability_vector:\n",
    "            # Calculate Impact Score\n",
    "            X = sm.add_constant(df[base_column])\n",
    "            y = df[cap_col]\n",
    "            model = sm.OLS(y, X).fit()\n",
    "\n",
    "            m, c = model.params[base_column], model.params['const']\n",
    "            base_column_increase = (1 + intervention/100) * df[base_column]\n",
    "            base_column_decrease = (1 - intervention/100) * df[base_column]\n",
    "\n",
    "            new_vector_increase = m * base_column_increase + c\n",
    "            new_vector_decrease = m * base_column_decrease + c\n",
    "            \n",
    "            normalized_new_increase_vector = (new_vector_increase - change_min_value) / (change_max_value - change_min_value)\n",
    "            normalized_new_decrease_vector = (new_vector_decrease - change_min_value) / (change_max_value - change_min_value)\n",
    "            \n",
    "            vector_plus = new_vector_increase - m * df[base_column] - c  \n",
    "            vector_minus = new_vector_decrease - m * df[base_column] - c\n",
    "            \n",
    "            normalized_change_increase_vector = (vector_plus - min_value) / (max_value - min_value)\n",
    "            normalized_change_decrease_vector = (vector_minus - min_value) / (max_value - min_value)\n",
    "            \n",
    "            # scaler = MinMaxScaler()\n",
    "            # normalized_new_increase_vector = scaler.fit_transform(new_vector_increase.values.reshape(-1, 1))      \n",
    "            # normalized_new_decrease_vector = scaler.fit_transform(new_vector_decrease.values.reshape(-1, 1))  \n",
    "            \n",
    "            # new_vector_increase_val = new_vector_increase.to_numpy().reshape(-1, 1)\n",
    "            # normalized_new_increase_vector = (new_vector_increase_val - new_vector_increase_val.min()) / (new_vector_increase_val.max() - new_vector_increase_val.min())\n",
    "\n",
    "            # # For new_vector_decrease\n",
    "            # new_vector_decrease_val = new_vector_decrease.to_numpy().reshape(-1, 1)\n",
    "            # normalized_new_decrease_vector = (new_vector_decrease_val - new_vector_decrease_val.min()) / (new_vector_decrease_val.max() - new_vector_decrease_val.min())\n",
    "                        \n",
    "            result_df = pd.concat([result_df,\n",
    "                pd.DataFrame({\n",
    "                    f'{cap_col} ({base_column} +{intervention}%)': new_vector_increase,\n",
    "                    f'{cap_col} ({base_column} -{intervention}%)': new_vector_decrease,\n",
    "                    f'Normalized {cap_col} ({base_column} +{intervention}%)': normalized_new_increase_vector,\n",
    "                    f'Normalized {cap_col} ({base_column} -{intervention}%)': normalized_new_decrease_vector,\n",
    "                    f'Impact Score {cap_col} ({base_column} +{intervention}%)': normalized_change_increase_vector,\n",
    "                    f'Impact Score {cap_col} ({base_column} -{intervention}%)': normalized_change_decrease_vector,\n",
    "                })\n",
    "            ], axis=1)\n",
    "\n",
    "            result_df_1 = pd.DataFrame({\n",
    "                f'{cap_col} ({base_column} +{intervention}%)': new_vector_increase,\n",
    "                # f'{cap_col} ({base_column} -{intervention}%)': new_vector_decrease,\n",
    "                f'Normalized {cap_col} ({base_column} +{intervention}%)': normalized_new_increase_vector,\n",
    "                # f'Normalized {cap_col} ({base_column} -{intervention}%)': normalized_new_decrease_vector.flatten(),\n",
    "                # f'Impact Score {cap_col} ({base_column} +{intervention}%)': normalized_change_increase_vector,\n",
    "                # f'Impact Score {cap_col} ({base_column} -{intervention}%)': normalized_change_decrease_vector,\n",
    "            })\n",
    "\n",
    "            # Merge Columns\n",
    "            \n",
    "                \n",
    "            for column in result_df_1.columns:\n",
    "                res_df[column] = result_df_1[column]\n",
    "            # Calculate Stability and add to DataFrame\n",
    "            columns_to_pass = f'Normalized {cap_col} ({base_column} +{intervention}%)'\n",
    "            # columns_to_pass = f\"Normalized {cap_col} ({base_column} {'+' if intervention >= 0 else '-'}{abs(intervention)}%)\"\n",
    "            col_pass_plus.append(columns_to_pass)\n",
    "            \n",
    "            # Calculate Stability for the opposite intervention and add to DataFrame\n",
    "            opposite_intervention = -intervention\n",
    "            columns_to_pass_opposite = f'Normalized {cap_col} ({base_column} -{intervention}%)'\n",
    "            # columns_to_pass_opposite = f\"Normalized {cap_col} ({base_column} {'+' if opposite_intervention >= 0 else '-'}{abs(opposite_intervention)}%)\"\n",
    "            col_pass_minus.append(columns_to_pass_opposite)\n",
    "        \n",
    "        for column in result_df.columns:\n",
    "            existing_data[column] = result_df[column]\n",
    "    # print(existing_data.columns)\n",
    "    \n",
    "    # for intervention in change_percentages:\n",
    "        # Normalize stability values\n",
    "        # print(col_pass_minus)\n",
    "        # print(col_pass_plus)\n",
    "        stability_column, stability_column_name = calculate_and_map_stability(G, existing_data.copy(), adjacency_file, col_pass_plus, intervention, dim)\n",
    "\n",
    "        normalized_stability_vector = (stability_column - stability_column.min()) / (stability_column.max() - stability_column.min())\n",
    "\n",
    "        capability_first_words = [col.split('_')[0] for col in capability_vector]\n",
    "        stability_column_name_modified = stability_column_name + \"_\" + \"_\".join(capability_first_words)\n",
    "        existing_data[stability_column_name_modified] = normalized_stability_vector\n",
    "        \n",
    "        stability_column_opposite, stability_column_name_opposite = calculate_and_map_stability(G, existing_data.copy(), adjacency_file, col_pass_minus, opposite_intervention, dim)\n",
    "\n",
    "        # Normalize stability values for the opposite intervention\n",
    "        normalized_stability_vector_opposite = (stability_column_opposite - stability_column_opposite.min()) / (stability_column_opposite.max() - stability_column_opposite.min())    \n",
    "        stability_column_name_opposite_modified = stability_column_name_opposite + \"_\" + \"_\".join(capability_first_words)\n",
    "        existing_data[stability_column_name_opposite_modified] = normalized_stability_vector_opposite\n",
    "        \n",
    "    # Define a color palette\n",
    "    color_palette = ['red', 'blue', 'green', 'orange', 'purple', 'violet', 'yellow']\n",
    "\n",
    "    # Create a color cycle iterator\n",
    "    color_cycle = cycle(color_palette)\n",
    "\n",
    "    # Create a dictionary to map capability vectors to colors\n",
    "    capability_color_map = {cap_col: next(color_cycle) for cap_col in capability_vector}\n",
    "\n",
    "    fig = make_subplots(rows=len(change_percentages), cols=2, shared_xaxes=True, shared_yaxes=True,vertical_spacing=0.1, horizontal_spacing=0.1, row_heights=[0.5] * len(change_percentages))\n",
    "\n",
    "    for idx, intervention in enumerate(change_percentages):\n",
    "        for cap_col in capability_vector:\n",
    "            color = capability_color_map[cap_col]\n",
    "\n",
    "            fig.update_xaxes(title_text=f'Stability ({base_column} +{intervention}%)', row=idx + 1, col=1)\n",
    "            fig.update_yaxes(title_text='Impact', row=idx + 1, col=1)\n",
    "\n",
    "            # Visualize with Plotly for +intervention\n",
    "            scatter_increase = go.Scatter(\n",
    "                x=existing_data[stability_column_name_modified],\n",
    "                y=existing_data[f\"Impact Score {cap_col} ({base_column} +{abs(intervention)}%)\"],\n",
    "                mode='markers',\n",
    "                marker=dict(size=5, symbol='circle', color=color),\n",
    "                name=f'{cap_col} +{intervention}%',\n",
    "                text=existing_data['District'],\n",
    "                hovertemplate='%{text}' + '<br>Impact: %{y:.2f}' + '<br>Stability: %{x:.2f}'\n",
    "            )\n",
    "\n",
    "            fig.add_trace(scatter_increase, row=idx + 1, col=1)\n",
    "\n",
    "            # Add average lines\n",
    "            avg_stability_increase = existing_data[stability_column_name_modified].mean()\n",
    "            avg_impact_increase = existing_data[\n",
    "                f\"Impact Score {capability_vector[0]} ({base_column} {'+' if intervention >= 0 else '-'}{abs(intervention)}%)\"].mean()\n",
    "\n",
    "            fig.add_shape(\n",
    "                go.layout.Shape(\n",
    "                    type=\"line\",\n",
    "                    x0=avg_stability_increase,\n",
    "                    x1=avg_stability_increase,\n",
    "                    y0=0,\n",
    "                    y1=1,\n",
    "                    line=dict(color=\"black\", dash=\"dash\"),\n",
    "                    name=\"Average Stability\"\n",
    "                ),\n",
    "                row=idx + 1, col=1\n",
    "            )\n",
    "            fig.add_shape(\n",
    "                go.layout.Shape(\n",
    "                    type=\"line\",\n",
    "                    x0=0,\n",
    "                    x1=1,\n",
    "                    y0=avg_impact_increase,\n",
    "                    y1=avg_impact_increase,\n",
    "                    line=dict(color=\"black\", dash=\"dash\"),\n",
    "                    name=\"Average Impact\"\n",
    "                ),\n",
    "                row=idx + 1, col=1\n",
    "            )\n",
    "\n",
    "            # Update layout for -intervention plot\n",
    "            fig.update_xaxes(title_text=f'Stability ({base_column} -{intervention}%)', row=idx + 1, col=2)\n",
    "\n",
    "            # Visualize with Plotly for -intervention\n",
    "            scatter_decrease = go.Scatter(\n",
    "                x=existing_data[stability_column_name_opposite_modified],\n",
    "                y=existing_data[\n",
    "                    f\"Impact Score {cap_col} ({base_column} {'+' if intervention <= 0 else '-'}{abs(intervention)}%)\"],\n",
    "                mode='markers',\n",
    "                marker=dict(size=5, symbol='circle', color=color),\n",
    "                name=f'{cap_col} -{intervention}%',\n",
    "                text=existing_data['District'],\n",
    "                hovertemplate='%{text}' + '<br>Impact: %{y:.2f}' + '<br>Stability: %{x:.2f}'\n",
    "            )\n",
    "\n",
    "            fig.add_trace(scatter_decrease, row=idx + 1, col=2)\n",
    "\n",
    "            # Add average lines for -intervention\n",
    "            avg_stability_decrease = existing_data[stability_column_name_opposite_modified].mean()\n",
    "            avg_impact_decrease = existing_data[\n",
    "                f\"Impact Score {capability_vector[0]} ({base_column} {'+' if intervention <= 0 else '-'}{abs(intervention)}%)\"].mean()\n",
    "\n",
    "            fig.add_shape(\n",
    "                go.layout.Shape(\n",
    "                    type=\"line\",\n",
    "                    x0=avg_stability_decrease,\n",
    "                    x1=avg_stability_decrease,\n",
    "                    y0=0,\n",
    "                    y1=1,\n",
    "                    line=dict(color=\"black\", dash=\"dash\"),\n",
    "                    name=\"Average Stability\"\n",
    "                ),\n",
    "                row=idx + 1, col=2\n",
    "            )\n",
    "            fig.add_shape(\n",
    "                go.layout.Shape(\n",
    "                    type=\"line\",\n",
    "                    x0=0,\n",
    "                    x1=1,\n",
    "                    y0=avg_impact_decrease,\n",
    "                    y1=avg_impact_decrease,\n",
    "                    line=dict(color=\"black\", dash=\"dash\"),\n",
    "                    name=\"Average Impact\"\n",
    "                ),\n",
    "                row=idx + 1, col=2\n",
    "            )\n",
    "\n",
    "    # Update subplot layout\n",
    "    fig.update_layout(\n",
    "        height=800,  \n",
    "        showlegend=True,\n",
    "        legend=dict(title=\"Capability\", orientation=\"h\", yanchor=\"bottom\", y=1.02, xanchor=\"right\", x=1),\n",
    "    )\n",
    "\n",
    "    # Show plots\n",
    "    fig.show()\n",
    "\n",
    "\n",
    "    return existing_data, result_df\n",
    "\n",
    "base_column = \"TotalNPK_315\"\n",
    "capability_vector = [\"Rice_Production_223\", \"Jowar_Yield_278\"]\n",
    "# change_percentage = 20\n",
    "change_percentages = [10,20]\n",
    "dim = len(capability_vector)\n",
    "\n",
    "new_data_1,result_df = calc_and_vis_impact_stability_2D(G, existing_data.copy(), adjacency_file, base_column, capability_vector, change_percentages, dim)\n",
    "new_data_1.head()"
   ]
  },
  {
   "cell_type": "code",
   "execution_count": 73,
   "metadata": {},
   "outputs": [
    {
     "data": {
      "text/html": [
       "<div>\n",
       "<style scoped>\n",
       "    .dataframe tbody tr th:only-of-type {\n",
       "        vertical-align: middle;\n",
       "    }\n",
       "\n",
       "    .dataframe tbody tr th {\n",
       "        vertical-align: top;\n",
       "    }\n",
       "\n",
       "    .dataframe thead th {\n",
       "        text-align: right;\n",
       "    }\n",
       "</style>\n",
       "<table border=\"1\" class=\"dataframe\">\n",
       "  <thead>\n",
       "    <tr style=\"text-align: right;\">\n",
       "      <th></th>\n",
       "      <th>District</th>\n",
       "      <th>Initial Stability</th>\n",
       "      <th>Rice_Production_223 (TotalNPK_315 +10%)</th>\n",
       "      <th>Rice_Production_223 (TotalNPK_315 -10%)</th>\n",
       "      <th>Normalized Rice_Production_223 (TotalNPK_315 +10%)</th>\n",
       "      <th>Normalized Rice_Production_223 (TotalNPK_315 -10%)</th>\n",
       "      <th>Impact Score Rice_Production_223 (TotalNPK_315 +10%)</th>\n",
       "      <th>Impact Score Rice_Production_223 (TotalNPK_315 -10%)</th>\n",
       "      <th>Jowar_Yield_278 (TotalNPK_315 +10%)</th>\n",
       "      <th>Jowar_Yield_278 (TotalNPK_315 -10%)</th>\n",
       "      <th>...</th>\n",
       "      <th>Impact Score Rice_Production_223 (TotalNPK_315 +20%)</th>\n",
       "      <th>Impact Score Rice_Production_223 (TotalNPK_315 -20%)</th>\n",
       "      <th>Jowar_Yield_278 (TotalNPK_315 +20%)</th>\n",
       "      <th>Jowar_Yield_278 (TotalNPK_315 -20%)</th>\n",
       "      <th>Normalized Jowar_Yield_278 (TotalNPK_315 +20%)</th>\n",
       "      <th>Normalized Jowar_Yield_278 (TotalNPK_315 -20%)</th>\n",
       "      <th>Impact Score Jowar_Yield_278 (TotalNPK_315 +20%)</th>\n",
       "      <th>Impact Score Jowar_Yield_278 (TotalNPK_315 -20%)</th>\n",
       "      <th>New Stability(NPK + 20%)_Rice_Jowar</th>\n",
       "      <th>New Stability(NPK - 20%)_Rice_Jowar</th>\n",
       "    </tr>\n",
       "  </thead>\n",
       "  <tbody>\n",
       "    <tr>\n",
       "      <th>0</th>\n",
       "      <td>BENGALURU</td>\n",
       "      <td>0.313550</td>\n",
       "      <td>68479.019211</td>\n",
       "      <td>57507.638667</td>\n",
       "      <td>0.131904</td>\n",
       "      <td>0.110643</td>\n",
       "      <td>0.532376</td>\n",
       "      <td>0.467624</td>\n",
       "      <td>616.168067</td>\n",
       "      <td>570.414310</td>\n",
       "      <td>...</td>\n",
       "      <td>0.564753</td>\n",
       "      <td>0.435247</td>\n",
       "      <td>639.044946</td>\n",
       "      <td>547.537431</td>\n",
       "      <td>0.000438</td>\n",
       "      <td>0.000261</td>\n",
       "      <td>0.500270</td>\n",
       "      <td>0.499730</td>\n",
       "      <td>0.959044</td>\n",
       "      <td>0.959044</td>\n",
       "    </tr>\n",
       "    <tr>\n",
       "      <th>1</th>\n",
       "      <td>BENGALURU(R)</td>\n",
       "      <td>0.742284</td>\n",
       "      <td>57992.196208</td>\n",
       "      <td>48927.510755</td>\n",
       "      <td>0.111582</td>\n",
       "      <td>0.094016</td>\n",
       "      <td>0.526750</td>\n",
       "      <td>0.473250</td>\n",
       "      <td>572.435052</td>\n",
       "      <td>534.632751</td>\n",
       "      <td>...</td>\n",
       "      <td>0.553500</td>\n",
       "      <td>0.446500</td>\n",
       "      <td>591.336202</td>\n",
       "      <td>515.731601</td>\n",
       "      <td>0.000346</td>\n",
       "      <td>0.000199</td>\n",
       "      <td>0.500223</td>\n",
       "      <td>0.499777</td>\n",
       "      <td>0.976505</td>\n",
       "      <td>0.976505</td>\n",
       "    </tr>\n",
       "    <tr>\n",
       "      <th>2</th>\n",
       "      <td>RAMANAGARA</td>\n",
       "      <td>0.608105</td>\n",
       "      <td>27479.191334</td>\n",
       "      <td>23962.324950</td>\n",
       "      <td>0.052451</td>\n",
       "      <td>0.045636</td>\n",
       "      <td>0.510378</td>\n",
       "      <td>0.489622</td>\n",
       "      <td>445.187197</td>\n",
       "      <td>430.520870</td>\n",
       "      <td>...</td>\n",
       "      <td>0.520756</td>\n",
       "      <td>0.479244</td>\n",
       "      <td>452.520360</td>\n",
       "      <td>423.187707</td>\n",
       "      <td>0.000077</td>\n",
       "      <td>0.000020</td>\n",
       "      <td>0.500087</td>\n",
       "      <td>0.499913</td>\n",
       "      <td>0.822250</td>\n",
       "      <td>0.822250</td>\n",
       "    </tr>\n",
       "    <tr>\n",
       "      <th>3</th>\n",
       "      <td>CHITRADURGA</td>\n",
       "      <td>0.422882</td>\n",
       "      <td>101029.330849</td>\n",
       "      <td>84139.711825</td>\n",
       "      <td>0.194983</td>\n",
       "      <td>0.162253</td>\n",
       "      <td>0.549841</td>\n",
       "      <td>0.450159</td>\n",
       "      <td>751.912067</td>\n",
       "      <td>681.477582</td>\n",
       "      <td>...</td>\n",
       "      <td>0.599682</td>\n",
       "      <td>0.400318</td>\n",
       "      <td>787.129310</td>\n",
       "      <td>646.260340</td>\n",
       "      <td>0.000725</td>\n",
       "      <td>0.000452</td>\n",
       "      <td>0.500416</td>\n",
       "      <td>0.499584</td>\n",
       "      <td>0.668650</td>\n",
       "      <td>0.668650</td>\n",
       "    </tr>\n",
       "    <tr>\n",
       "      <th>4</th>\n",
       "      <td>DAVANAGERE</td>\n",
       "      <td>0.339007</td>\n",
       "      <td>266084.831886</td>\n",
       "      <td>219185.121765</td>\n",
       "      <td>0.514841</td>\n",
       "      <td>0.423955</td>\n",
       "      <td>0.638401</td>\n",
       "      <td>0.361599</td>\n",
       "      <td>1440.240158</td>\n",
       "      <td>1244.655111</td>\n",
       "      <td>...</td>\n",
       "      <td>0.776801</td>\n",
       "      <td>0.223199</td>\n",
       "      <td>1538.032682</td>\n",
       "      <td>1146.862588</td>\n",
       "      <td>0.002181</td>\n",
       "      <td>0.001423</td>\n",
       "      <td>0.501154</td>\n",
       "      <td>0.498846</td>\n",
       "      <td>0.790058</td>\n",
       "      <td>0.790058</td>\n",
       "    </tr>\n",
       "    <tr>\n",
       "      <th>5</th>\n",
       "      <td>KOLAR</td>\n",
       "      <td>0.771152</td>\n",
       "      <td>65579.675404</td>\n",
       "      <td>55135.448279</td>\n",
       "      <td>0.126286</td>\n",
       "      <td>0.106046</td>\n",
       "      <td>0.530821</td>\n",
       "      <td>0.469179</td>\n",
       "      <td>604.076984</td>\n",
       "      <td>560.521605</td>\n",
       "      <td>...</td>\n",
       "      <td>0.561642</td>\n",
       "      <td>0.438358</td>\n",
       "      <td>625.854674</td>\n",
       "      <td>538.743916</td>\n",
       "      <td>0.000413</td>\n",
       "      <td>0.000244</td>\n",
       "      <td>0.500257</td>\n",
       "      <td>0.499743</td>\n",
       "      <td>1.000000</td>\n",
       "      <td>1.000000</td>\n",
       "    </tr>\n",
       "    <tr>\n",
       "      <th>6</th>\n",
       "      <td>CHIKKABALLAPURA</td>\n",
       "      <td>0.799368</td>\n",
       "      <td>81544.187243</td>\n",
       "      <td>68197.321602</td>\n",
       "      <td>0.157223</td>\n",
       "      <td>0.131358</td>\n",
       "      <td>0.539386</td>\n",
       "      <td>0.460614</td>\n",
       "      <td>670.653511</td>\n",
       "      <td>614.993309</td>\n",
       "      <td>...</td>\n",
       "      <td>0.578773</td>\n",
       "      <td>0.421227</td>\n",
       "      <td>698.483612</td>\n",
       "      <td>587.163208</td>\n",
       "      <td>0.000554</td>\n",
       "      <td>0.000338</td>\n",
       "      <td>0.500329</td>\n",
       "      <td>0.499671</td>\n",
       "      <td>0.997250</td>\n",
       "      <td>0.997250</td>\n",
       "    </tr>\n",
       "    <tr>\n",
       "      <th>7</th>\n",
       "      <td>SHIVAMOGGA</td>\n",
       "      <td>0.279347</td>\n",
       "      <td>154680.134786</td>\n",
       "      <td>128035.824137</td>\n",
       "      <td>0.298952</td>\n",
       "      <td>0.247318</td>\n",
       "      <td>0.578627</td>\n",
       "      <td>0.421373</td>\n",
       "      <td>975.651084</td>\n",
       "      <td>864.536777</td>\n",
       "      <td>...</td>\n",
       "      <td>0.657254</td>\n",
       "      <td>0.342746</td>\n",
       "      <td>1031.208237</td>\n",
       "      <td>808.979624</td>\n",
       "      <td>0.001198</td>\n",
       "      <td>0.000768</td>\n",
       "      <td>0.500656</td>\n",
       "      <td>0.499344</td>\n",
       "      <td>0.967812</td>\n",
       "      <td>0.967812</td>\n",
       "    </tr>\n",
       "    <tr>\n",
       "      <th>8</th>\n",
       "      <td>TUMAKURU</td>\n",
       "      <td>0.626449</td>\n",
       "      <td>106890.147260</td>\n",
       "      <td>88934.925252</td>\n",
       "      <td>0.206340</td>\n",
       "      <td>0.171545</td>\n",
       "      <td>0.552986</td>\n",
       "      <td>0.447014</td>\n",
       "      <td>776.353328</td>\n",
       "      <td>701.474977</td>\n",
       "      <td>...</td>\n",
       "      <td>0.605971</td>\n",
       "      <td>0.394029</td>\n",
       "      <td>813.792503</td>\n",
       "      <td>664.035802</td>\n",
       "      <td>0.000777</td>\n",
       "      <td>0.000487</td>\n",
       "      <td>0.500442</td>\n",
       "      <td>0.499558</td>\n",
       "      <td>0.988802</td>\n",
       "      <td>0.988802</td>\n",
       "    </tr>\n",
       "    <tr>\n",
       "      <th>9</th>\n",
       "      <td>CHIKKAMAGALURU</td>\n",
       "      <td>0.818925</td>\n",
       "      <td>183813.362651</td>\n",
       "      <td>151872.101481</td>\n",
       "      <td>0.355408</td>\n",
       "      <td>0.293510</td>\n",
       "      <td>0.594258</td>\n",
       "      <td>0.405742</td>\n",
       "      <td>1097.144878</td>\n",
       "      <td>963.940791</td>\n",
       "      <td>...</td>\n",
       "      <td>0.688517</td>\n",
       "      <td>0.311483</td>\n",
       "      <td>1163.746922</td>\n",
       "      <td>897.338747</td>\n",
       "      <td>0.001455</td>\n",
       "      <td>0.000939</td>\n",
       "      <td>0.500786</td>\n",
       "      <td>0.499214</td>\n",
       "      <td>0.850936</td>\n",
       "      <td>0.850936</td>\n",
       "    </tr>\n",
       "    <tr>\n",
       "      <th>10</th>\n",
       "      <td>DAKSHINA KANNADA</td>\n",
       "      <td>0.796031</td>\n",
       "      <td>56255.178623</td>\n",
       "      <td>47506.314549</td>\n",
       "      <td>0.108216</td>\n",
       "      <td>0.091262</td>\n",
       "      <td>0.525818</td>\n",
       "      <td>0.474182</td>\n",
       "      <td>565.191197</td>\n",
       "      <td>528.705961</td>\n",
       "      <td>...</td>\n",
       "      <td>0.551636</td>\n",
       "      <td>0.448364</td>\n",
       "      <td>583.433815</td>\n",
       "      <td>510.463343</td>\n",
       "      <td>0.000331</td>\n",
       "      <td>0.000189</td>\n",
       "      <td>0.500215</td>\n",
       "      <td>0.499785</td>\n",
       "      <td>0.809592</td>\n",
       "      <td>0.809592</td>\n",
       "    </tr>\n",
       "    <tr>\n",
       "      <th>11</th>\n",
       "      <td>UDUPI</td>\n",
       "      <td>0.631250</td>\n",
       "      <td>24051.752762</td>\n",
       "      <td>21158.057027</td>\n",
       "      <td>0.045809</td>\n",
       "      <td>0.040202</td>\n",
       "      <td>0.508539</td>\n",
       "      <td>0.491461</td>\n",
       "      <td>430.893809</td>\n",
       "      <td>418.826280</td>\n",
       "      <td>...</td>\n",
       "      <td>0.517079</td>\n",
       "      <td>0.482921</td>\n",
       "      <td>436.927574</td>\n",
       "      <td>412.792516</td>\n",
       "      <td>0.000047</td>\n",
       "      <td>0.000000</td>\n",
       "      <td>0.500071</td>\n",
       "      <td>0.499929</td>\n",
       "      <td>0.763946</td>\n",
       "      <td>0.763946</td>\n",
       "    </tr>\n",
       "    <tr>\n",
       "      <th>12</th>\n",
       "      <td>HASSAN</td>\n",
       "      <td>0.906335</td>\n",
       "      <td>185283.744153</td>\n",
       "      <td>153075.140892</td>\n",
       "      <td>0.358258</td>\n",
       "      <td>0.295841</td>\n",
       "      <td>0.595047</td>\n",
       "      <td>0.404953</td>\n",
       "      <td>1103.276785</td>\n",
       "      <td>968.957805</td>\n",
       "      <td>...</td>\n",
       "      <td>0.690095</td>\n",
       "      <td>0.309905</td>\n",
       "      <td>1170.436274</td>\n",
       "      <td>901.798316</td>\n",
       "      <td>0.001468</td>\n",
       "      <td>0.000948</td>\n",
       "      <td>0.500793</td>\n",
       "      <td>0.499207</td>\n",
       "      <td>0.860117</td>\n",
       "      <td>0.860117</td>\n",
       "    </tr>\n",
       "    <tr>\n",
       "      <th>13</th>\n",
       "      <td>KODAGU</td>\n",
       "      <td>0.608073</td>\n",
       "      <td>114135.918079</td>\n",
       "      <td>94863.283195</td>\n",
       "      <td>0.220382</td>\n",
       "      <td>0.183034</td>\n",
       "      <td>0.556873</td>\n",
       "      <td>0.443127</td>\n",
       "      <td>806.570240</td>\n",
       "      <td>726.197906</td>\n",
       "      <td>...</td>\n",
       "      <td>0.613747</td>\n",
       "      <td>0.386253</td>\n",
       "      <td>846.756408</td>\n",
       "      <td>686.011738</td>\n",
       "      <td>0.000841</td>\n",
       "      <td>0.000529</td>\n",
       "      <td>0.500474</td>\n",
       "      <td>0.499526</td>\n",
       "      <td>0.946297</td>\n",
       "      <td>0.946297</td>\n",
       "    </tr>\n",
       "    <tr>\n",
       "      <th>14</th>\n",
       "      <td>MANDYA</td>\n",
       "      <td>0.717607</td>\n",
       "      <td>164902.910407</td>\n",
       "      <td>136399.913282</td>\n",
       "      <td>0.318762</td>\n",
       "      <td>0.263527</td>\n",
       "      <td>0.584112</td>\n",
       "      <td>0.415888</td>\n",
       "      <td>1018.282947</td>\n",
       "      <td>899.417393</td>\n",
       "      <td>...</td>\n",
       "      <td>0.668224</td>\n",
       "      <td>0.331776</td>\n",
       "      <td>1077.715724</td>\n",
       "      <td>839.984616</td>\n",
       "      <td>0.001289</td>\n",
       "      <td>0.000828</td>\n",
       "      <td>0.500702</td>\n",
       "      <td>0.499298</td>\n",
       "      <td>0.858840</td>\n",
       "      <td>0.858840</td>\n",
       "    </tr>\n",
       "    <tr>\n",
       "      <th>15</th>\n",
       "      <td>MYSURU</td>\n",
       "      <td>0.485918</td>\n",
       "      <td>168672.057356</td>\n",
       "      <td>139483.760786</td>\n",
       "      <td>0.326066</td>\n",
       "      <td>0.269503</td>\n",
       "      <td>0.586134</td>\n",
       "      <td>0.413866</td>\n",
       "      <td>1034.001355</td>\n",
       "      <td>912.277909</td>\n",
       "      <td>...</td>\n",
       "      <td>0.672269</td>\n",
       "      <td>0.327731</td>\n",
       "      <td>1094.863079</td>\n",
       "      <td>851.416186</td>\n",
       "      <td>0.001322</td>\n",
       "      <td>0.000850</td>\n",
       "      <td>0.500718</td>\n",
       "      <td>0.499282</td>\n",
       "      <td>0.910524</td>\n",
       "      <td>0.910524</td>\n",
       "    </tr>\n",
       "    <tr>\n",
       "      <th>16</th>\n",
       "      <td>CHAMARAJANAGAR</td>\n",
       "      <td>0.647842</td>\n",
       "      <td>69755.248226</td>\n",
       "      <td>58551.826043</td>\n",
       "      <td>0.134377</td>\n",
       "      <td>0.112667</td>\n",
       "      <td>0.533061</td>\n",
       "      <td>0.466939</td>\n",
       "      <td>621.490303</td>\n",
       "      <td>574.768866</td>\n",
       "      <td>...</td>\n",
       "      <td>0.566122</td>\n",
       "      <td>0.433878</td>\n",
       "      <td>644.851022</td>\n",
       "      <td>551.408148</td>\n",
       "      <td>0.000450</td>\n",
       "      <td>0.000269</td>\n",
       "      <td>0.500276</td>\n",
       "      <td>0.499724</td>\n",
       "      <td>0.866508</td>\n",
       "      <td>0.866508</td>\n",
       "    </tr>\n",
       "    <tr>\n",
       "      <th>17</th>\n",
       "      <td>BELAGAVI</td>\n",
       "      <td>0.668708</td>\n",
       "      <td>474081.685671</td>\n",
       "      <td>389364.365771</td>\n",
       "      <td>0.917914</td>\n",
       "      <td>0.753742</td>\n",
       "      <td>0.750000</td>\n",
       "      <td>0.250000</td>\n",
       "      <td>2307.645827</td>\n",
       "      <td>1954.350659</td>\n",
       "      <td>...</td>\n",
       "      <td>1.000000</td>\n",
       "      <td>0.000000</td>\n",
       "      <td>2484.293412</td>\n",
       "      <td>1777.703074</td>\n",
       "      <td>0.004014</td>\n",
       "      <td>0.002645</td>\n",
       "      <td>0.502085</td>\n",
       "      <td>0.497915</td>\n",
       "      <td>0.000000</td>\n",
       "      <td>0.000000</td>\n",
       "    </tr>\n",
       "    <tr>\n",
       "      <th>18</th>\n",
       "      <td>VIJAYAPURA</td>\n",
       "      <td>0.622994</td>\n",
       "      <td>148516.440495</td>\n",
       "      <td>122992.801536</td>\n",
       "      <td>0.287007</td>\n",
       "      <td>0.237545</td>\n",
       "      <td>0.575320</td>\n",
       "      <td>0.424680</td>\n",
       "      <td>949.946736</td>\n",
       "      <td>843.505948</td>\n",
       "      <td>...</td>\n",
       "      <td>0.650640</td>\n",
       "      <td>0.349360</td>\n",
       "      <td>1003.167131</td>\n",
       "      <td>790.285553</td>\n",
       "      <td>0.001144</td>\n",
       "      <td>0.000732</td>\n",
       "      <td>0.500628</td>\n",
       "      <td>0.499372</td>\n",
       "      <td>0.632532</td>\n",
       "      <td>0.632532</td>\n",
       "    </tr>\n",
       "    <tr>\n",
       "      <th>19</th>\n",
       "      <td>BAGALKOT</td>\n",
       "      <td>0.614712</td>\n",
       "      <td>227689.236036</td>\n",
       "      <td>187770.543342</td>\n",
       "      <td>0.440435</td>\n",
       "      <td>0.363077</td>\n",
       "      <td>0.617800</td>\n",
       "      <td>0.382200</td>\n",
       "      <td>1280.119671</td>\n",
       "      <td>1113.647440</td>\n",
       "      <td>...</td>\n",
       "      <td>0.735599</td>\n",
       "      <td>0.264401</td>\n",
       "      <td>1363.355787</td>\n",
       "      <td>1030.411324</td>\n",
       "      <td>0.001842</td>\n",
       "      <td>0.001197</td>\n",
       "      <td>0.500983</td>\n",
       "      <td>0.499017</td>\n",
       "      <td>0.974963</td>\n",
       "      <td>0.974963</td>\n",
       "    </tr>\n",
       "    <tr>\n",
       "      <th>20</th>\n",
       "      <td>DHARAWAD</td>\n",
       "      <td>0.806537</td>\n",
       "      <td>104904.614492</td>\n",
       "      <td>87310.398442</td>\n",
       "      <td>0.202493</td>\n",
       "      <td>0.168397</td>\n",
       "      <td>0.551920</td>\n",
       "      <td>0.448080</td>\n",
       "      <td>768.073095</td>\n",
       "      <td>694.700241</td>\n",
       "      <td>...</td>\n",
       "      <td>0.603841</td>\n",
       "      <td>0.396159</td>\n",
       "      <td>804.759522</td>\n",
       "      <td>658.013815</td>\n",
       "      <td>0.000760</td>\n",
       "      <td>0.000475</td>\n",
       "      <td>0.500433</td>\n",
       "      <td>0.499567</td>\n",
       "      <td>0.763427</td>\n",
       "      <td>0.763427</td>\n",
       "    </tr>\n",
       "    <tr>\n",
       "      <th>21</th>\n",
       "      <td>GADAG</td>\n",
       "      <td>0.661673</td>\n",
       "      <td>68401.358216</td>\n",
       "      <td>57444.097853</td>\n",
       "      <td>0.131754</td>\n",
       "      <td>0.110520</td>\n",
       "      <td>0.532335</td>\n",
       "      <td>0.467665</td>\n",
       "      <td>615.844199</td>\n",
       "      <td>570.149326</td>\n",
       "      <td>...</td>\n",
       "      <td>0.564670</td>\n",
       "      <td>0.435330</td>\n",
       "      <td>638.691636</td>\n",
       "      <td>547.301890</td>\n",
       "      <td>0.000438</td>\n",
       "      <td>0.000261</td>\n",
       "      <td>0.500270</td>\n",
       "      <td>0.499730</td>\n",
       "      <td>0.488853</td>\n",
       "      <td>0.488853</td>\n",
       "    </tr>\n",
       "    <tr>\n",
       "      <th>22</th>\n",
       "      <td>HAVERI</td>\n",
       "      <td>0.740663</td>\n",
       "      <td>176404.503743</td>\n",
       "      <td>145810.307829</td>\n",
       "      <td>0.341051</td>\n",
       "      <td>0.281763</td>\n",
       "      <td>0.590283</td>\n",
       "      <td>0.409717</td>\n",
       "      <td>1066.247842</td>\n",
       "      <td>938.661398</td>\n",
       "      <td>...</td>\n",
       "      <td>0.680566</td>\n",
       "      <td>0.319434</td>\n",
       "      <td>1130.041064</td>\n",
       "      <td>874.868176</td>\n",
       "      <td>0.001390</td>\n",
       "      <td>0.000895</td>\n",
       "      <td>0.500753</td>\n",
       "      <td>0.499247</td>\n",
       "      <td>0.968354</td>\n",
       "      <td>0.968354</td>\n",
       "    </tr>\n",
       "    <tr>\n",
       "      <th>23</th>\n",
       "      <td>UTTARA KANNADA</td>\n",
       "      <td>0.487477</td>\n",
       "      <td>47784.952786</td>\n",
       "      <td>40576.129773</td>\n",
       "      <td>0.091802</td>\n",
       "      <td>0.077832</td>\n",
       "      <td>0.521273</td>\n",
       "      <td>0.478727</td>\n",
       "      <td>529.867961</td>\n",
       "      <td>499.805132</td>\n",
       "      <td>...</td>\n",
       "      <td>0.542546</td>\n",
       "      <td>0.457454</td>\n",
       "      <td>544.899376</td>\n",
       "      <td>484.773717</td>\n",
       "      <td>0.000256</td>\n",
       "      <td>0.000139</td>\n",
       "      <td>0.500177</td>\n",
       "      <td>0.499823</td>\n",
       "      <td>0.614435</td>\n",
       "      <td>0.614435</td>\n",
       "    </tr>\n",
       "    <tr>\n",
       "      <th>24</th>\n",
       "      <td>BALLARI</td>\n",
       "      <td>0.570586</td>\n",
       "      <td>327398.187314</td>\n",
       "      <td>269350.594388</td>\n",
       "      <td>0.633659</td>\n",
       "      <td>0.521169</td>\n",
       "      <td>0.671298</td>\n",
       "      <td>0.328702</td>\n",
       "      <td>1695.934180</td>\n",
       "      <td>1453.859311</td>\n",
       "      <td>...</td>\n",
       "      <td>0.842596</td>\n",
       "      <td>0.157404</td>\n",
       "      <td>1816.971615</td>\n",
       "      <td>1332.821876</td>\n",
       "      <td>0.002721</td>\n",
       "      <td>0.001783</td>\n",
       "      <td>0.501429</td>\n",
       "      <td>0.498571</td>\n",
       "      <td>0.610602</td>\n",
       "      <td>0.610602</td>\n",
       "    </tr>\n",
       "    <tr>\n",
       "      <th>25</th>\n",
       "      <td>BIDAR</td>\n",
       "      <td>0.958989</td>\n",
       "      <td>71968.586579</td>\n",
       "      <td>60362.739241</td>\n",
       "      <td>0.138667</td>\n",
       "      <td>0.116176</td>\n",
       "      <td>0.534249</td>\n",
       "      <td>0.465751</td>\n",
       "      <td>630.720550</td>\n",
       "      <td>582.320886</td>\n",
       "      <td>...</td>\n",
       "      <td>0.568497</td>\n",
       "      <td>0.431503</td>\n",
       "      <td>654.920382</td>\n",
       "      <td>558.121054</td>\n",
       "      <td>0.000469</td>\n",
       "      <td>0.000282</td>\n",
       "      <td>0.500286</td>\n",
       "      <td>0.499714</td>\n",
       "      <td>0.794233</td>\n",
       "      <td>0.794233</td>\n",
       "    </tr>\n",
       "    <tr>\n",
       "      <th>26</th>\n",
       "      <td>KALABURAGI</td>\n",
       "      <td>0.858937</td>\n",
       "      <td>147923.628234</td>\n",
       "      <td>122507.773323</td>\n",
       "      <td>0.285858</td>\n",
       "      <td>0.236606</td>\n",
       "      <td>0.575002</td>\n",
       "      <td>0.424998</td>\n",
       "      <td>947.474542</td>\n",
       "      <td>841.483243</td>\n",
       "      <td>...</td>\n",
       "      <td>0.650004</td>\n",
       "      <td>0.349996</td>\n",
       "      <td>1000.470191</td>\n",
       "      <td>788.487594</td>\n",
       "      <td>0.001139</td>\n",
       "      <td>0.000728</td>\n",
       "      <td>0.500626</td>\n",
       "      <td>0.499374</td>\n",
       "      <td>0.990354</td>\n",
       "      <td>0.990354</td>\n",
       "    </tr>\n",
       "    <tr>\n",
       "      <th>27</th>\n",
       "      <td>YADGIRI</td>\n",
       "      <td>0.881288</td>\n",
       "      <td>244715.114806</td>\n",
       "      <td>201700.807790</td>\n",
       "      <td>0.473429</td>\n",
       "      <td>0.390072</td>\n",
       "      <td>0.626935</td>\n",
       "      <td>0.373065</td>\n",
       "      <td>1351.122398</td>\n",
       "      <td>1171.740580</td>\n",
       "      <td>...</td>\n",
       "      <td>0.753870</td>\n",
       "      <td>0.246130</td>\n",
       "      <td>1440.813307</td>\n",
       "      <td>1082.049671</td>\n",
       "      <td>0.001992</td>\n",
       "      <td>0.001297</td>\n",
       "      <td>0.501059</td>\n",
       "      <td>0.498941</td>\n",
       "      <td>0.890930</td>\n",
       "      <td>0.890930</td>\n",
       "    </tr>\n",
       "    <tr>\n",
       "      <th>28</th>\n",
       "      <td>RAICHUR</td>\n",
       "      <td>0.355831</td>\n",
       "      <td>311622.650562</td>\n",
       "      <td>256443.337045</td>\n",
       "      <td>0.603088</td>\n",
       "      <td>0.496157</td>\n",
       "      <td>0.662834</td>\n",
       "      <td>0.337166</td>\n",
       "      <td>1630.145733</td>\n",
       "      <td>1400.032400</td>\n",
       "      <td>...</td>\n",
       "      <td>0.825667</td>\n",
       "      <td>0.174333</td>\n",
       "      <td>1745.202400</td>\n",
       "      <td>1284.975733</td>\n",
       "      <td>0.002582</td>\n",
       "      <td>0.001690</td>\n",
       "      <td>0.501358</td>\n",
       "      <td>0.498642</td>\n",
       "      <td>0.776289</td>\n",
       "      <td>0.776289</td>\n",
       "    </tr>\n",
       "    <tr>\n",
       "      <th>29</th>\n",
       "      <td>KOPPAL</td>\n",
       "      <td>0.966867</td>\n",
       "      <td>198540.475973</td>\n",
       "      <td>163921.557835</td>\n",
       "      <td>0.383948</td>\n",
       "      <td>0.316861</td>\n",
       "      <td>0.602160</td>\n",
       "      <td>0.397840</td>\n",
       "      <td>1158.561103</td>\n",
       "      <td>1014.190430</td>\n",
       "      <td>...</td>\n",
       "      <td>0.704320</td>\n",
       "      <td>0.295680</td>\n",
       "      <td>1230.746440</td>\n",
       "      <td>942.005093</td>\n",
       "      <td>0.001585</td>\n",
       "      <td>0.001026</td>\n",
       "      <td>0.500852</td>\n",
       "      <td>0.499148</td>\n",
       "      <td>0.910283</td>\n",
       "      <td>0.910283</td>\n",
       "    </tr>\n",
       "  </tbody>\n",
       "</table>\n",
       "<p>30 rows × 30 columns</p>\n",
       "</div>"
      ],
      "text/plain": [
       "            District  Initial Stability  \\\n",
       "0          BENGALURU           0.313550   \n",
       "1       BENGALURU(R)           0.742284   \n",
       "2         RAMANAGARA           0.608105   \n",
       "3        CHITRADURGA           0.422882   \n",
       "4         DAVANAGERE           0.339007   \n",
       "5              KOLAR           0.771152   \n",
       "6    CHIKKABALLAPURA           0.799368   \n",
       "7         SHIVAMOGGA           0.279347   \n",
       "8           TUMAKURU           0.626449   \n",
       "9     CHIKKAMAGALURU           0.818925   \n",
       "10  DAKSHINA KANNADA           0.796031   \n",
       "11             UDUPI           0.631250   \n",
       "12            HASSAN           0.906335   \n",
       "13            KODAGU           0.608073   \n",
       "14            MANDYA           0.717607   \n",
       "15            MYSURU           0.485918   \n",
       "16    CHAMARAJANAGAR           0.647842   \n",
       "17          BELAGAVI           0.668708   \n",
       "18        VIJAYAPURA           0.622994   \n",
       "19          BAGALKOT           0.614712   \n",
       "20          DHARAWAD           0.806537   \n",
       "21             GADAG           0.661673   \n",
       "22            HAVERI           0.740663   \n",
       "23    UTTARA KANNADA           0.487477   \n",
       "24           BALLARI           0.570586   \n",
       "25             BIDAR           0.958989   \n",
       "26        KALABURAGI           0.858937   \n",
       "27           YADGIRI           0.881288   \n",
       "28           RAICHUR           0.355831   \n",
       "29            KOPPAL           0.966867   \n",
       "\n",
       "    Rice_Production_223 (TotalNPK_315 +10%)  \\\n",
       "0                              68479.019211   \n",
       "1                              57992.196208   \n",
       "2                              27479.191334   \n",
       "3                             101029.330849   \n",
       "4                             266084.831886   \n",
       "5                              65579.675404   \n",
       "6                              81544.187243   \n",
       "7                             154680.134786   \n",
       "8                             106890.147260   \n",
       "9                             183813.362651   \n",
       "10                             56255.178623   \n",
       "11                             24051.752762   \n",
       "12                            185283.744153   \n",
       "13                            114135.918079   \n",
       "14                            164902.910407   \n",
       "15                            168672.057356   \n",
       "16                             69755.248226   \n",
       "17                            474081.685671   \n",
       "18                            148516.440495   \n",
       "19                            227689.236036   \n",
       "20                            104904.614492   \n",
       "21                             68401.358216   \n",
       "22                            176404.503743   \n",
       "23                             47784.952786   \n",
       "24                            327398.187314   \n",
       "25                             71968.586579   \n",
       "26                            147923.628234   \n",
       "27                            244715.114806   \n",
       "28                            311622.650562   \n",
       "29                            198540.475973   \n",
       "\n",
       "    Rice_Production_223 (TotalNPK_315 -10%)  \\\n",
       "0                              57507.638667   \n",
       "1                              48927.510755   \n",
       "2                              23962.324950   \n",
       "3                              84139.711825   \n",
       "4                             219185.121765   \n",
       "5                              55135.448279   \n",
       "6                              68197.321602   \n",
       "7                             128035.824137   \n",
       "8                              88934.925252   \n",
       "9                             151872.101481   \n",
       "10                             47506.314549   \n",
       "11                             21158.057027   \n",
       "12                            153075.140892   \n",
       "13                             94863.283195   \n",
       "14                            136399.913282   \n",
       "15                            139483.760786   \n",
       "16                             58551.826043   \n",
       "17                            389364.365771   \n",
       "18                            122992.801536   \n",
       "19                            187770.543342   \n",
       "20                             87310.398442   \n",
       "21                             57444.097853   \n",
       "22                            145810.307829   \n",
       "23                             40576.129773   \n",
       "24                            269350.594388   \n",
       "25                             60362.739241   \n",
       "26                            122507.773323   \n",
       "27                            201700.807790   \n",
       "28                            256443.337045   \n",
       "29                            163921.557835   \n",
       "\n",
       "    Normalized Rice_Production_223 (TotalNPK_315 +10%)  \\\n",
       "0                                            0.131904    \n",
       "1                                            0.111582    \n",
       "2                                            0.052451    \n",
       "3                                            0.194983    \n",
       "4                                            0.514841    \n",
       "5                                            0.126286    \n",
       "6                                            0.157223    \n",
       "7                                            0.298952    \n",
       "8                                            0.206340    \n",
       "9                                            0.355408    \n",
       "10                                           0.108216    \n",
       "11                                           0.045809    \n",
       "12                                           0.358258    \n",
       "13                                           0.220382    \n",
       "14                                           0.318762    \n",
       "15                                           0.326066    \n",
       "16                                           0.134377    \n",
       "17                                           0.917914    \n",
       "18                                           0.287007    \n",
       "19                                           0.440435    \n",
       "20                                           0.202493    \n",
       "21                                           0.131754    \n",
       "22                                           0.341051    \n",
       "23                                           0.091802    \n",
       "24                                           0.633659    \n",
       "25                                           0.138667    \n",
       "26                                           0.285858    \n",
       "27                                           0.473429    \n",
       "28                                           0.603088    \n",
       "29                                           0.383948    \n",
       "\n",
       "    Normalized Rice_Production_223 (TotalNPK_315 -10%)  \\\n",
       "0                                            0.110643    \n",
       "1                                            0.094016    \n",
       "2                                            0.045636    \n",
       "3                                            0.162253    \n",
       "4                                            0.423955    \n",
       "5                                            0.106046    \n",
       "6                                            0.131358    \n",
       "7                                            0.247318    \n",
       "8                                            0.171545    \n",
       "9                                            0.293510    \n",
       "10                                           0.091262    \n",
       "11                                           0.040202    \n",
       "12                                           0.295841    \n",
       "13                                           0.183034    \n",
       "14                                           0.263527    \n",
       "15                                           0.269503    \n",
       "16                                           0.112667    \n",
       "17                                           0.753742    \n",
       "18                                           0.237545    \n",
       "19                                           0.363077    \n",
       "20                                           0.168397    \n",
       "21                                           0.110520    \n",
       "22                                           0.281763    \n",
       "23                                           0.077832    \n",
       "24                                           0.521169    \n",
       "25                                           0.116176    \n",
       "26                                           0.236606    \n",
       "27                                           0.390072    \n",
       "28                                           0.496157    \n",
       "29                                           0.316861    \n",
       "\n",
       "    Impact Score Rice_Production_223 (TotalNPK_315 +10%)  \\\n",
       "0                                            0.532376      \n",
       "1                                            0.526750      \n",
       "2                                            0.510378      \n",
       "3                                            0.549841      \n",
       "4                                            0.638401      \n",
       "5                                            0.530821      \n",
       "6                                            0.539386      \n",
       "7                                            0.578627      \n",
       "8                                            0.552986      \n",
       "9                                            0.594258      \n",
       "10                                           0.525818      \n",
       "11                                           0.508539      \n",
       "12                                           0.595047      \n",
       "13                                           0.556873      \n",
       "14                                           0.584112      \n",
       "15                                           0.586134      \n",
       "16                                           0.533061      \n",
       "17                                           0.750000      \n",
       "18                                           0.575320      \n",
       "19                                           0.617800      \n",
       "20                                           0.551920      \n",
       "21                                           0.532335      \n",
       "22                                           0.590283      \n",
       "23                                           0.521273      \n",
       "24                                           0.671298      \n",
       "25                                           0.534249      \n",
       "26                                           0.575002      \n",
       "27                                           0.626935      \n",
       "28                                           0.662834      \n",
       "29                                           0.602160      \n",
       "\n",
       "    Impact Score Rice_Production_223 (TotalNPK_315 -10%)  \\\n",
       "0                                            0.467624      \n",
       "1                                            0.473250      \n",
       "2                                            0.489622      \n",
       "3                                            0.450159      \n",
       "4                                            0.361599      \n",
       "5                                            0.469179      \n",
       "6                                            0.460614      \n",
       "7                                            0.421373      \n",
       "8                                            0.447014      \n",
       "9                                            0.405742      \n",
       "10                                           0.474182      \n",
       "11                                           0.491461      \n",
       "12                                           0.404953      \n",
       "13                                           0.443127      \n",
       "14                                           0.415888      \n",
       "15                                           0.413866      \n",
       "16                                           0.466939      \n",
       "17                                           0.250000      \n",
       "18                                           0.424680      \n",
       "19                                           0.382200      \n",
       "20                                           0.448080      \n",
       "21                                           0.467665      \n",
       "22                                           0.409717      \n",
       "23                                           0.478727      \n",
       "24                                           0.328702      \n",
       "25                                           0.465751      \n",
       "26                                           0.424998      \n",
       "27                                           0.373065      \n",
       "28                                           0.337166      \n",
       "29                                           0.397840      \n",
       "\n",
       "    Jowar_Yield_278 (TotalNPK_315 +10%)  Jowar_Yield_278 (TotalNPK_315 -10%)  \\\n",
       "0                            616.168067                           570.414310   \n",
       "1                            572.435052                           534.632751   \n",
       "2                            445.187197                           430.520870   \n",
       "3                            751.912067                           681.477582   \n",
       "4                           1440.240158                          1244.655111   \n",
       "5                            604.076984                           560.521605   \n",
       "6                            670.653511                           614.993309   \n",
       "7                            975.651084                           864.536777   \n",
       "8                            776.353328                           701.474977   \n",
       "9                           1097.144878                           963.940791   \n",
       "10                           565.191197                           528.705961   \n",
       "11                           430.893809                           418.826280   \n",
       "12                          1103.276785                           968.957805   \n",
       "13                           806.570240                           726.197906   \n",
       "14                          1018.282947                           899.417393   \n",
       "15                          1034.001355                           912.277909   \n",
       "16                           621.490303                           574.768866   \n",
       "17                          2307.645827                          1954.350659   \n",
       "18                           949.946736                           843.505948   \n",
       "19                          1280.119671                          1113.647440   \n",
       "20                           768.073095                           694.700241   \n",
       "21                           615.844199                           570.149326   \n",
       "22                          1066.247842                           938.661398   \n",
       "23                           529.867961                           499.805132   \n",
       "24                          1695.934180                          1453.859311   \n",
       "25                           630.720550                           582.320886   \n",
       "26                           947.474542                           841.483243   \n",
       "27                          1351.122398                          1171.740580   \n",
       "28                          1630.145733                          1400.032400   \n",
       "29                          1158.561103                          1014.190430   \n",
       "\n",
       "    ...  Impact Score Rice_Production_223 (TotalNPK_315 +20%)  \\\n",
       "0   ...                                           0.564753      \n",
       "1   ...                                           0.553500      \n",
       "2   ...                                           0.520756      \n",
       "3   ...                                           0.599682      \n",
       "4   ...                                           0.776801      \n",
       "5   ...                                           0.561642      \n",
       "6   ...                                           0.578773      \n",
       "7   ...                                           0.657254      \n",
       "8   ...                                           0.605971      \n",
       "9   ...                                           0.688517      \n",
       "10  ...                                           0.551636      \n",
       "11  ...                                           0.517079      \n",
       "12  ...                                           0.690095      \n",
       "13  ...                                           0.613747      \n",
       "14  ...                                           0.668224      \n",
       "15  ...                                           0.672269      \n",
       "16  ...                                           0.566122      \n",
       "17  ...                                           1.000000      \n",
       "18  ...                                           0.650640      \n",
       "19  ...                                           0.735599      \n",
       "20  ...                                           0.603841      \n",
       "21  ...                                           0.564670      \n",
       "22  ...                                           0.680566      \n",
       "23  ...                                           0.542546      \n",
       "24  ...                                           0.842596      \n",
       "25  ...                                           0.568497      \n",
       "26  ...                                           0.650004      \n",
       "27  ...                                           0.753870      \n",
       "28  ...                                           0.825667      \n",
       "29  ...                                           0.704320      \n",
       "\n",
       "    Impact Score Rice_Production_223 (TotalNPK_315 -20%)  \\\n",
       "0                                            0.435247      \n",
       "1                                            0.446500      \n",
       "2                                            0.479244      \n",
       "3                                            0.400318      \n",
       "4                                            0.223199      \n",
       "5                                            0.438358      \n",
       "6                                            0.421227      \n",
       "7                                            0.342746      \n",
       "8                                            0.394029      \n",
       "9                                            0.311483      \n",
       "10                                           0.448364      \n",
       "11                                           0.482921      \n",
       "12                                           0.309905      \n",
       "13                                           0.386253      \n",
       "14                                           0.331776      \n",
       "15                                           0.327731      \n",
       "16                                           0.433878      \n",
       "17                                           0.000000      \n",
       "18                                           0.349360      \n",
       "19                                           0.264401      \n",
       "20                                           0.396159      \n",
       "21                                           0.435330      \n",
       "22                                           0.319434      \n",
       "23                                           0.457454      \n",
       "24                                           0.157404      \n",
       "25                                           0.431503      \n",
       "26                                           0.349996      \n",
       "27                                           0.246130      \n",
       "28                                           0.174333      \n",
       "29                                           0.295680      \n",
       "\n",
       "    Jowar_Yield_278 (TotalNPK_315 +20%)  Jowar_Yield_278 (TotalNPK_315 -20%)  \\\n",
       "0                            639.044946                           547.537431   \n",
       "1                            591.336202                           515.731601   \n",
       "2                            452.520360                           423.187707   \n",
       "3                            787.129310                           646.260340   \n",
       "4                           1538.032682                          1146.862588   \n",
       "5                            625.854674                           538.743916   \n",
       "6                            698.483612                           587.163208   \n",
       "7                           1031.208237                           808.979624   \n",
       "8                            813.792503                           664.035802   \n",
       "9                           1163.746922                           897.338747   \n",
       "10                           583.433815                           510.463343   \n",
       "11                           436.927574                           412.792516   \n",
       "12                          1170.436274                           901.798316   \n",
       "13                           846.756408                           686.011738   \n",
       "14                          1077.715724                           839.984616   \n",
       "15                          1094.863079                           851.416186   \n",
       "16                           644.851022                           551.408148   \n",
       "17                          2484.293412                          1777.703074   \n",
       "18                          1003.167131                           790.285553   \n",
       "19                          1363.355787                          1030.411324   \n",
       "20                           804.759522                           658.013815   \n",
       "21                           638.691636                           547.301890   \n",
       "22                          1130.041064                           874.868176   \n",
       "23                           544.899376                           484.773717   \n",
       "24                          1816.971615                          1332.821876   \n",
       "25                           654.920382                           558.121054   \n",
       "26                          1000.470191                           788.487594   \n",
       "27                          1440.813307                          1082.049671   \n",
       "28                          1745.202400                          1284.975733   \n",
       "29                          1230.746440                           942.005093   \n",
       "\n",
       "    Normalized Jowar_Yield_278 (TotalNPK_315 +20%)  \\\n",
       "0                                         0.000438   \n",
       "1                                         0.000346   \n",
       "2                                         0.000077   \n",
       "3                                         0.000725   \n",
       "4                                         0.002181   \n",
       "5                                         0.000413   \n",
       "6                                         0.000554   \n",
       "7                                         0.001198   \n",
       "8                                         0.000777   \n",
       "9                                         0.001455   \n",
       "10                                        0.000331   \n",
       "11                                        0.000047   \n",
       "12                                        0.001468   \n",
       "13                                        0.000841   \n",
       "14                                        0.001289   \n",
       "15                                        0.001322   \n",
       "16                                        0.000450   \n",
       "17                                        0.004014   \n",
       "18                                        0.001144   \n",
       "19                                        0.001842   \n",
       "20                                        0.000760   \n",
       "21                                        0.000438   \n",
       "22                                        0.001390   \n",
       "23                                        0.000256   \n",
       "24                                        0.002721   \n",
       "25                                        0.000469   \n",
       "26                                        0.001139   \n",
       "27                                        0.001992   \n",
       "28                                        0.002582   \n",
       "29                                        0.001585   \n",
       "\n",
       "    Normalized Jowar_Yield_278 (TotalNPK_315 -20%)  \\\n",
       "0                                         0.000261   \n",
       "1                                         0.000199   \n",
       "2                                         0.000020   \n",
       "3                                         0.000452   \n",
       "4                                         0.001423   \n",
       "5                                         0.000244   \n",
       "6                                         0.000338   \n",
       "7                                         0.000768   \n",
       "8                                         0.000487   \n",
       "9                                         0.000939   \n",
       "10                                        0.000189   \n",
       "11                                        0.000000   \n",
       "12                                        0.000948   \n",
       "13                                        0.000529   \n",
       "14                                        0.000828   \n",
       "15                                        0.000850   \n",
       "16                                        0.000269   \n",
       "17                                        0.002645   \n",
       "18                                        0.000732   \n",
       "19                                        0.001197   \n",
       "20                                        0.000475   \n",
       "21                                        0.000261   \n",
       "22                                        0.000895   \n",
       "23                                        0.000139   \n",
       "24                                        0.001783   \n",
       "25                                        0.000282   \n",
       "26                                        0.000728   \n",
       "27                                        0.001297   \n",
       "28                                        0.001690   \n",
       "29                                        0.001026   \n",
       "\n",
       "    Impact Score Jowar_Yield_278 (TotalNPK_315 +20%)  \\\n",
       "0                                           0.500270   \n",
       "1                                           0.500223   \n",
       "2                                           0.500087   \n",
       "3                                           0.500416   \n",
       "4                                           0.501154   \n",
       "5                                           0.500257   \n",
       "6                                           0.500329   \n",
       "7                                           0.500656   \n",
       "8                                           0.500442   \n",
       "9                                           0.500786   \n",
       "10                                          0.500215   \n",
       "11                                          0.500071   \n",
       "12                                          0.500793   \n",
       "13                                          0.500474   \n",
       "14                                          0.500702   \n",
       "15                                          0.500718   \n",
       "16                                          0.500276   \n",
       "17                                          0.502085   \n",
       "18                                          0.500628   \n",
       "19                                          0.500983   \n",
       "20                                          0.500433   \n",
       "21                                          0.500270   \n",
       "22                                          0.500753   \n",
       "23                                          0.500177   \n",
       "24                                          0.501429   \n",
       "25                                          0.500286   \n",
       "26                                          0.500626   \n",
       "27                                          0.501059   \n",
       "28                                          0.501358   \n",
       "29                                          0.500852   \n",
       "\n",
       "    Impact Score Jowar_Yield_278 (TotalNPK_315 -20%)  \\\n",
       "0                                           0.499730   \n",
       "1                                           0.499777   \n",
       "2                                           0.499913   \n",
       "3                                           0.499584   \n",
       "4                                           0.498846   \n",
       "5                                           0.499743   \n",
       "6                                           0.499671   \n",
       "7                                           0.499344   \n",
       "8                                           0.499558   \n",
       "9                                           0.499214   \n",
       "10                                          0.499785   \n",
       "11                                          0.499929   \n",
       "12                                          0.499207   \n",
       "13                                          0.499526   \n",
       "14                                          0.499298   \n",
       "15                                          0.499282   \n",
       "16                                          0.499724   \n",
       "17                                          0.497915   \n",
       "18                                          0.499372   \n",
       "19                                          0.499017   \n",
       "20                                          0.499567   \n",
       "21                                          0.499730   \n",
       "22                                          0.499247   \n",
       "23                                          0.499823   \n",
       "24                                          0.498571   \n",
       "25                                          0.499714   \n",
       "26                                          0.499374   \n",
       "27                                          0.498941   \n",
       "28                                          0.498642   \n",
       "29                                          0.499148   \n",
       "\n",
       "    New Stability(NPK + 20%)_Rice_Jowar  New Stability(NPK - 20%)_Rice_Jowar  \n",
       "0                              0.959044                             0.959044  \n",
       "1                              0.976505                             0.976505  \n",
       "2                              0.822250                             0.822250  \n",
       "3                              0.668650                             0.668650  \n",
       "4                              0.790058                             0.790058  \n",
       "5                              1.000000                             1.000000  \n",
       "6                              0.997250                             0.997250  \n",
       "7                              0.967812                             0.967812  \n",
       "8                              0.988802                             0.988802  \n",
       "9                              0.850936                             0.850936  \n",
       "10                             0.809592                             0.809592  \n",
       "11                             0.763946                             0.763946  \n",
       "12                             0.860117                             0.860117  \n",
       "13                             0.946297                             0.946297  \n",
       "14                             0.858840                             0.858840  \n",
       "15                             0.910524                             0.910524  \n",
       "16                             0.866508                             0.866508  \n",
       "17                             0.000000                             0.000000  \n",
       "18                             0.632532                             0.632532  \n",
       "19                             0.974963                             0.974963  \n",
       "20                             0.763427                             0.763427  \n",
       "21                             0.488853                             0.488853  \n",
       "22                             0.968354                             0.968354  \n",
       "23                             0.614435                             0.614435  \n",
       "24                             0.610602                             0.610602  \n",
       "25                             0.794233                             0.794233  \n",
       "26                             0.990354                             0.990354  \n",
       "27                             0.890930                             0.890930  \n",
       "28                             0.776289                             0.776289  \n",
       "29                             0.910283                             0.910283  \n",
       "\n",
       "[30 rows x 30 columns]"
      ]
     },
     "execution_count": 73,
     "metadata": {},
     "output_type": "execute_result"
    }
   ],
   "source": [
    "new_data_1"
   ]
  },
  {
   "cell_type": "code",
   "execution_count": 68,
   "metadata": {},
   "outputs": [
    {
     "data": {
      "application/vnd.plotly.v1+json": {
       "config": {
        "plotlyServerURL": "https://plot.ly"
       },
       "data": [
        {
         "hovertemplate": "%{text}<br>Impact: %{y:.2f}<br>Stability: %{x:.2f}",
         "marker": {
          "color": "red",
          "size": 5,
          "symbol": "circle"
         },
         "mode": "markers",
         "name": "Rice_Production_223 +10%",
         "text": [
          "BENGALURU",
          "BENGALURU(R)",
          "RAMANAGARA",
          "CHITRADURGA",
          "DAVANAGERE",
          "KOLAR",
          "CHIKKABALLAPURA",
          "SHIVAMOGGA",
          "TUMAKURU",
          "CHIKKAMAGALURU",
          "DAKSHINA KANNADA",
          "UDUPI",
          "HASSAN",
          "KODAGU",
          "MANDYA",
          "MYSURU",
          "CHAMARAJANAGAR",
          "BELAGAVI",
          "VIJAYAPURA",
          "BAGALKOT",
          "DHARAWAD",
          "GADAG",
          "HAVERI",
          "UTTARA KANNADA",
          "BALLARI",
          "BIDAR",
          "KALABURAGI",
          "YADGIRI",
          "RAICHUR",
          "KOPPAL"
         ],
         "type": "scatter",
         "x": [
          0.9590442729122614,
          0.9765052391752486,
          0.8222502261381796,
          0.66865038668522,
          0.7900581835459943,
          1,
          0.9972504351838053,
          0.9678123842563559,
          0.9888021812136775,
          0.850936415487983,
          0.8095920216384357,
          0.7639456796171662,
          0.8601165048161653,
          0.9462974084736768,
          0.8588396049480361,
          0.9105241683796111,
          0.866508382237713,
          0,
          0.6325317294369196,
          0.974963220266703,
          0.7634273694337914,
          0.48885270350099774,
          0.9683541813306025,
          0.6144347726001685,
          0.6106021055075406,
          0.7942327017204209,
          0.990354388900612,
          0.8909298300237724,
          0.7762892089664342,
          0.9102825362300663
         ],
         "xaxis": "x",
         "y": [
          0.5297082027739151,
          0.5245452714381308,
          0.5095229382722734,
          0.5457335541973045,
          0.6269946013386527,
          0.5282807816196128,
          0.5361405193504893,
          0.5721472179677631,
          0.5486189841020725,
          0.5864902516021536,
          0.523690093228723,
          0.5078355225505803,
          0.5872141580446927,
          0.5521862625046546,
          0.577180152019852,
          0.579035799520445,
          0.5303365229784427,
          0.7293967753617561,
          0.5691126735316976,
          0.6080914669095363,
          0.5476414555080102,
          0.5296699682787105,
          0.5828426807596422,
          0.5195199842850828,
          0.6571807353026249,
          0.5314262060917716,
          0.5688208168849695,
          0.6164737427415414,
          0.6494140348434122,
          0.5937407863761048
         ],
         "yaxis": "y"
        },
        {
         "hovertemplate": "%{text}<br>Impact: %{y:.2f}<br>Stability: %{x:.2f}",
         "marker": {
          "color": "red",
          "size": 5,
          "symbol": "circle"
         },
         "mode": "markers",
         "name": "Rice_Production_223 -10%",
         "text": [
          "BENGALURU",
          "BENGALURU(R)",
          "RAMANAGARA",
          "CHITRADURGA",
          "DAVANAGERE",
          "KOLAR",
          "CHIKKABALLAPURA",
          "SHIVAMOGGA",
          "TUMAKURU",
          "CHIKKAMAGALURU",
          "DAKSHINA KANNADA",
          "UDUPI",
          "HASSAN",
          "KODAGU",
          "MANDYA",
          "MYSURU",
          "CHAMARAJANAGAR",
          "BELAGAVI",
          "VIJAYAPURA",
          "BAGALKOT",
          "DHARAWAD",
          "GADAG",
          "HAVERI",
          "UTTARA KANNADA",
          "BALLARI",
          "BIDAR",
          "KALABURAGI",
          "YADGIRI",
          "RAICHUR",
          "KOPPAL"
         ],
         "type": "scatter",
         "x": [
          0.9590442729122614,
          0.9765052391752486,
          0.8222502261381797,
          0.6686503866852201,
          0.7900581835459942,
          1,
          0.9972504351838053,
          0.9678123842563557,
          0.9888021812136775,
          0.8509364154879833,
          0.8095920216384357,
          0.7639456796171662,
          0.8601165048161653,
          0.9462974084736768,
          0.8588396049480362,
          0.9105241683796111,
          0.866508382237713,
          0,
          0.6325317294369197,
          0.9749632202667028,
          0.7634273694337913,
          0.48885270350099774,
          0.9683541813306025,
          0.6144347726001685,
          0.6106021055075407,
          0.7942327017204209,
          0.9903543889006118,
          0.8909298300237721,
          0.7762892089664342,
          0.9102825362300662
         ],
         "xaxis": "x2",
         "y": [
          0.47029179722608466,
          0.475454728561869,
          0.49047706172772637,
          0.45426644580269526,
          0.3730053986613468,
          0.47171921838038694,
          0.4638594806495102,
          0.4278527820322365,
          0.4513810158979272,
          0.41350974839784604,
          0.47630990677127677,
          0.4921644774494194,
          0.41278584195530715,
          0.44781373749534503,
          0.4228198479801477,
          0.42096420047955485,
          0.469663477021557,
          0.270603224638244,
          0.43088732646830236,
          0.39190853309046353,
          0.4523585444919895,
          0.47033003172128923,
          0.4171573192403577,
          0.48048001571491683,
          0.34281926469737517,
          0.46857379390822806,
          0.43117918311503006,
          0.38352625725845846,
          0.35058596515658746,
          0.4062592136238948
         ],
         "yaxis": "y2"
        },
        {
         "hovertemplate": "%{text}<br>Impact: %{y:.2f}<br>Stability: %{x:.2f}",
         "marker": {
          "color": "blue",
          "size": 5,
          "symbol": "circle"
         },
         "mode": "markers",
         "name": "Maize_Production_226 +10%",
         "text": [
          "BENGALURU",
          "BENGALURU(R)",
          "RAMANAGARA",
          "CHITRADURGA",
          "DAVANAGERE",
          "KOLAR",
          "CHIKKABALLAPURA",
          "SHIVAMOGGA",
          "TUMAKURU",
          "CHIKKAMAGALURU",
          "DAKSHINA KANNADA",
          "UDUPI",
          "HASSAN",
          "KODAGU",
          "MANDYA",
          "MYSURU",
          "CHAMARAJANAGAR",
          "BELAGAVI",
          "VIJAYAPURA",
          "BAGALKOT",
          "DHARAWAD",
          "GADAG",
          "HAVERI",
          "UTTARA KANNADA",
          "BALLARI",
          "BIDAR",
          "KALABURAGI",
          "YADGIRI",
          "RAICHUR",
          "KOPPAL"
         ],
         "type": "scatter",
         "x": [
          0.9590442729122614,
          0.9765052391752486,
          0.8222502261381796,
          0.66865038668522,
          0.7900581835459943,
          1,
          0.9972504351838053,
          0.9678123842563559,
          0.9888021812136775,
          0.850936415487983,
          0.8095920216384357,
          0.7639456796171662,
          0.8601165048161653,
          0.9462974084736768,
          0.8588396049480361,
          0.9105241683796111,
          0.866508382237713,
          0,
          0.6325317294369196,
          0.974963220266703,
          0.7634273694337914,
          0.48885270350099774,
          0.9683541813306025,
          0.6144347726001685,
          0.6106021055075406,
          0.7942327017204209,
          0.990354388900612,
          0.8909298300237724,
          0.7762892089664342,
          0.9102825362300663
         ],
         "xaxis": "x",
         "y": [
          0.5323764389528423,
          0.5267497999911106,
          0.5103782390328457,
          0.5498411040490687,
          0.6384005955820258,
          0.5308208142584114,
          0.5393864727321213,
          0.57862710564914,
          0.5529856882528111,
          0.59425835592693,
          0.5258178141250721,
          0.5085392684119293,
          0.5950472798791057,
          0.5568733610382682,
          0.5841120716476287,
          0.5861343837503888,
          0.5330611916085158,
          0.7500000000000001,
          0.5753200142228542,
          0.6177996799857771,
          0.55192036312725,
          0.5323347704342415,
          0.590283179252411,
          0.521273167696342,
          0.6712978910173786,
          0.5342487443886393,
          0.5750019445308681,
          0.6269348082136984,
          0.6628336259389304,
          0.6021600960042669
         ],
         "yaxis": "y"
        },
        {
         "hovertemplate": "%{text}<br>Impact: %{y:.2f}<br>Stability: %{x:.2f}",
         "marker": {
          "color": "blue",
          "size": 5,
          "symbol": "circle"
         },
         "mode": "markers",
         "name": "Maize_Production_226 -10%",
         "text": [
          "BENGALURU",
          "BENGALURU(R)",
          "RAMANAGARA",
          "CHITRADURGA",
          "DAVANAGERE",
          "KOLAR",
          "CHIKKABALLAPURA",
          "SHIVAMOGGA",
          "TUMAKURU",
          "CHIKKAMAGALURU",
          "DAKSHINA KANNADA",
          "UDUPI",
          "HASSAN",
          "KODAGU",
          "MANDYA",
          "MYSURU",
          "CHAMARAJANAGAR",
          "BELAGAVI",
          "VIJAYAPURA",
          "BAGALKOT",
          "DHARAWAD",
          "GADAG",
          "HAVERI",
          "UTTARA KANNADA",
          "BALLARI",
          "BIDAR",
          "KALABURAGI",
          "YADGIRI",
          "RAICHUR",
          "KOPPAL"
         ],
         "type": "scatter",
         "x": [
          0.9590442729122614,
          0.9765052391752486,
          0.8222502261381797,
          0.6686503866852201,
          0.7900581835459942,
          1,
          0.9972504351838053,
          0.9678123842563557,
          0.9888021812136775,
          0.8509364154879833,
          0.8095920216384357,
          0.7639456796171662,
          0.8601165048161653,
          0.9462974084736768,
          0.8588396049480362,
          0.9105241683796111,
          0.866508382237713,
          0,
          0.6325317294369197,
          0.9749632202667028,
          0.7634273694337913,
          0.48885270350099774,
          0.9683541813306025,
          0.6144347726001685,
          0.6106021055075407,
          0.7942327017204209,
          0.9903543889006118,
          0.8909298300237721,
          0.7762892089664342,
          0.9102825362300662
         ],
         "xaxis": "x2",
         "y": [
          0.46762356104715747,
          0.47325020000888923,
          0.4896217609671539,
          0.450158895950931,
          0.361599404417974,
          0.46917918574158834,
          0.4606135272678784,
          0.42137289435086006,
          0.44701431174718864,
          0.40574164407306984,
          0.47418218587492766,
          0.4914607315880704,
          0.4049527201208942,
          0.44312663896173154,
          0.41588792835237104,
          0.4138656162496109,
          0.4669388083914839,
          0.2500000000000002,
          0.42467998577714555,
          0.3822003200142226,
          0.44807963687274976,
          0.4676652295657583,
          0.40971682074758864,
          0.4787268323036578,
          0.3287021089826214,
          0.4657512556113603,
          0.42499805546913183,
          0.37306519178630154,
          0.337166374061069,
          0.397839903995733
         ],
         "yaxis": "y2"
        },
        {
         "hovertemplate": "%{text}<br>Impact: %{y:.2f}<br>Stability: %{x:.2f}",
         "marker": {
          "color": "red",
          "size": 5,
          "symbol": "circle"
         },
         "mode": "markers",
         "name": "Rice_Production_223 +20%",
         "text": [
          "BENGALURU",
          "BENGALURU(R)",
          "RAMANAGARA",
          "CHITRADURGA",
          "DAVANAGERE",
          "KOLAR",
          "CHIKKABALLAPURA",
          "SHIVAMOGGA",
          "TUMAKURU",
          "CHIKKAMAGALURU",
          "DAKSHINA KANNADA",
          "UDUPI",
          "HASSAN",
          "KODAGU",
          "MANDYA",
          "MYSURU",
          "CHAMARAJANAGAR",
          "BELAGAVI",
          "VIJAYAPURA",
          "BAGALKOT",
          "DHARAWAD",
          "GADAG",
          "HAVERI",
          "UTTARA KANNADA",
          "BALLARI",
          "BIDAR",
          "KALABURAGI",
          "YADGIRI",
          "RAICHUR",
          "KOPPAL"
         ],
         "type": "scatter",
         "x": [
          0.9590442729122614,
          0.9765052391752486,
          0.8222502261381796,
          0.66865038668522,
          0.7900581835459943,
          1,
          0.9972504351838053,
          0.9678123842563559,
          0.9888021812136775,
          0.850936415487983,
          0.8095920216384357,
          0.7639456796171662,
          0.8601165048161653,
          0.9462974084736768,
          0.8588396049480361,
          0.9105241683796111,
          0.866508382237713,
          0,
          0.6325317294369196,
          0.974963220266703,
          0.7634273694337914,
          0.48885270350099774,
          0.9683541813306025,
          0.6144347726001685,
          0.6106021055075406,
          0.7942327017204209,
          0.990354388900612,
          0.8909298300237724,
          0.7762892089664342,
          0.9102825362300663
         ],
         "xaxis": "x3",
         "y": [
          0.5594164055478302,
          0.5490905428762618,
          0.5190458765445467,
          0.5914671083946091,
          0.7539892026773056,
          0.5565615632392257,
          0.572281038700979,
          0.6442944359355264,
          0.5972379682041453,
          0.6729805032043072,
          0.5473801864574459,
          0.5156710451011608,
          0.6744283160893852,
          0.6043725250093095,
          0.6543603040397039,
          0.65807159904089,
          0.5606730459568855,
          0.958793550723512,
          0.638225347063395,
          0.7161829338190724,
          0.5952829110160206,
          0.5593399365574211,
          0.6656853615192841,
          0.5390399685701658,
          0.814361470605249,
          0.5628524121835434,
          0.6376416337699392,
          0.7329474854830826,
          0.7988280696868244,
          0.6874815727522098
         ],
         "yaxis": "y3"
        },
        {
         "hovertemplate": "%{text}<br>Impact: %{y:.2f}<br>Stability: %{x:.2f}",
         "marker": {
          "color": "red",
          "size": 5,
          "symbol": "circle"
         },
         "mode": "markers",
         "name": "Rice_Production_223 -20%",
         "text": [
          "BENGALURU",
          "BENGALURU(R)",
          "RAMANAGARA",
          "CHITRADURGA",
          "DAVANAGERE",
          "KOLAR",
          "CHIKKABALLAPURA",
          "SHIVAMOGGA",
          "TUMAKURU",
          "CHIKKAMAGALURU",
          "DAKSHINA KANNADA",
          "UDUPI",
          "HASSAN",
          "KODAGU",
          "MANDYA",
          "MYSURU",
          "CHAMARAJANAGAR",
          "BELAGAVI",
          "VIJAYAPURA",
          "BAGALKOT",
          "DHARAWAD",
          "GADAG",
          "HAVERI",
          "UTTARA KANNADA",
          "BALLARI",
          "BIDAR",
          "KALABURAGI",
          "YADGIRI",
          "RAICHUR",
          "KOPPAL"
         ],
         "type": "scatter",
         "x": [
          0.9590442729122614,
          0.9765052391752486,
          0.8222502261381797,
          0.6686503866852201,
          0.7900581835459942,
          1,
          0.9972504351838053,
          0.9678123842563557,
          0.9888021812136775,
          0.8509364154879833,
          0.8095920216384357,
          0.7639456796171662,
          0.8601165048161653,
          0.9462974084736768,
          0.8588396049480362,
          0.9105241683796111,
          0.866508382237713,
          0,
          0.6325317294369197,
          0.9749632202667028,
          0.7634273694337913,
          0.48885270350099774,
          0.9683541813306025,
          0.6144347726001685,
          0.6106021055075407,
          0.7942327017204209,
          0.9903543889006118,
          0.8909298300237721,
          0.7762892089664342,
          0.9102825362300662
         ],
         "xaxis": "x4",
         "y": [
          0.44058359445216955,
          0.45090945712373803,
          0.48095412345545296,
          0.4085328916053906,
          0.24601079732269396,
          0.443438436760774,
          0.42771896129902065,
          0.3557055640644732,
          0.40276203179585446,
          0.32701949679569225,
          0.4526198135425537,
          0.4843289548988389,
          0.3255716839106143,
          0.3956274749906902,
          0.3456396959602955,
          0.3419284009591098,
          0.4393269540431142,
          0.04120644927648762,
          0.3617746529366047,
          0.28381706618092717,
          0.40471708898397907,
          0.4406600634425786,
          0.33431463848071563,
          0.4609600314298339,
          0.18563852939475065,
          0.4371475878164563,
          0.3623583662300604,
          0.26705251451691686,
          0.20117193031317493,
          0.3125184272477899
         ],
         "yaxis": "y4"
        },
        {
         "hovertemplate": "%{text}<br>Impact: %{y:.2f}<br>Stability: %{x:.2f}",
         "marker": {
          "color": "blue",
          "size": 5,
          "symbol": "circle"
         },
         "mode": "markers",
         "name": "Maize_Production_226 +20%",
         "text": [
          "BENGALURU",
          "BENGALURU(R)",
          "RAMANAGARA",
          "CHITRADURGA",
          "DAVANAGERE",
          "KOLAR",
          "CHIKKABALLAPURA",
          "SHIVAMOGGA",
          "TUMAKURU",
          "CHIKKAMAGALURU",
          "DAKSHINA KANNADA",
          "UDUPI",
          "HASSAN",
          "KODAGU",
          "MANDYA",
          "MYSURU",
          "CHAMARAJANAGAR",
          "BELAGAVI",
          "VIJAYAPURA",
          "BAGALKOT",
          "DHARAWAD",
          "GADAG",
          "HAVERI",
          "UTTARA KANNADA",
          "BALLARI",
          "BIDAR",
          "KALABURAGI",
          "YADGIRI",
          "RAICHUR",
          "KOPPAL"
         ],
         "type": "scatter",
         "x": [
          0.9590442729122614,
          0.9765052391752486,
          0.8222502261381796,
          0.66865038668522,
          0.7900581835459943,
          1,
          0.9972504351838053,
          0.9678123842563559,
          0.9888021812136775,
          0.850936415487983,
          0.8095920216384357,
          0.7639456796171662,
          0.8601165048161653,
          0.9462974084736768,
          0.8588396049480361,
          0.9105241683796111,
          0.866508382237713,
          0,
          0.6325317294369196,
          0.974963220266703,
          0.7634273694337914,
          0.48885270350099774,
          0.9683541813306025,
          0.6144347726001685,
          0.6106021055075406,
          0.7942327017204209,
          0.990354388900612,
          0.8909298300237724,
          0.7762892089664342,
          0.9102825362300663
         ],
         "xaxis": "x3",
         "y": [
          0.5647528779056845,
          0.5534995999822213,
          0.5207564780656917,
          0.5996822080981374,
          0.7768011911640514,
          0.5616416285168228,
          0.5787729454642426,
          0.6572542112982799,
          0.6059713765056223,
          0.6885167118538599,
          0.5516356282501443,
          0.5170785368238586,
          0.6900945597582113,
          0.6137467220765366,
          0.6682241432952571,
          0.6722687675007776,
          0.5661223832170317,
          1,
          0.6506400284457086,
          0.735599359971554,
          0.6038407262545,
          0.5646695408684829,
          0.6805663585048222,
          0.5425463353926839,
          0.8425957820347567,
          0.5684974887772788,
          0.6500038890617359,
          0.7538696164273967,
          0.8256672518778609,
          0.7043201920085334
         ],
         "yaxis": "y3"
        },
        {
         "hovertemplate": "%{text}<br>Impact: %{y:.2f}<br>Stability: %{x:.2f}",
         "marker": {
          "color": "blue",
          "size": 5,
          "symbol": "circle"
         },
         "mode": "markers",
         "name": "Maize_Production_226 -20%",
         "text": [
          "BENGALURU",
          "BENGALURU(R)",
          "RAMANAGARA",
          "CHITRADURGA",
          "DAVANAGERE",
          "KOLAR",
          "CHIKKABALLAPURA",
          "SHIVAMOGGA",
          "TUMAKURU",
          "CHIKKAMAGALURU",
          "DAKSHINA KANNADA",
          "UDUPI",
          "HASSAN",
          "KODAGU",
          "MANDYA",
          "MYSURU",
          "CHAMARAJANAGAR",
          "BELAGAVI",
          "VIJAYAPURA",
          "BAGALKOT",
          "DHARAWAD",
          "GADAG",
          "HAVERI",
          "UTTARA KANNADA",
          "BALLARI",
          "BIDAR",
          "KALABURAGI",
          "YADGIRI",
          "RAICHUR",
          "KOPPAL"
         ],
         "type": "scatter",
         "x": [
          0.9590442729122614,
          0.9765052391752486,
          0.8222502261381797,
          0.6686503866852201,
          0.7900581835459942,
          1,
          0.9972504351838053,
          0.9678123842563557,
          0.9888021812136775,
          0.8509364154879833,
          0.8095920216384357,
          0.7639456796171662,
          0.8601165048161653,
          0.9462974084736768,
          0.8588396049480362,
          0.9105241683796111,
          0.866508382237713,
          0,
          0.6325317294369197,
          0.9749632202667028,
          0.7634273694337913,
          0.48885270350099774,
          0.9683541813306025,
          0.6144347726001685,
          0.6106021055075407,
          0.7942327017204209,
          0.9903543889006118,
          0.8909298300237721,
          0.7762892089664342,
          0.9102825362300662
         ],
         "xaxis": "x4",
         "y": [
          0.43524712209431515,
          0.44650040001777846,
          0.479243521934308,
          0.4003177919018622,
          0.2231988088359483,
          0.4383583714831769,
          0.42122705453575704,
          0.3427457887017201,
          0.3940286234943774,
          0.31148328814613974,
          0.44836437174985544,
          0.48292146317614104,
          0.3099054402417884,
          0.38625327792346315,
          0.3317758567047422,
          0.32773123249922204,
          0.43387761678296805,
          0,
          0.34935997155429116,
          0.2644006400284455,
          0.3961592737454997,
          0.4353304591315168,
          0.31943364149517733,
          0.45745366460731574,
          0.15740421796524282,
          0.43150251122272093,
          0.3499961109382639,
          0.24613038357260308,
          0.17433274812213842,
          0.2956798079914661
         ],
         "yaxis": "y4"
        }
       ],
       "layout": {
        "height": 800,
        "legend": {
         "orientation": "h",
         "title": {
          "text": "Capability"
         },
         "x": 1,
         "xanchor": "right",
         "y": 1.02,
         "yanchor": "bottom"
        },
        "shapes": [
         {
          "line": {
           "color": "black",
           "dash": "dash"
          },
          "name": "Average Stability",
          "type": "line",
          "x0": 0.8150796080875853,
          "x1": 0.8150796080875853,
          "xref": "x",
          "y0": 0,
          "y1": 1,
          "yref": "y"
         },
         {
          "line": {
           "color": "black",
           "dash": "dash"
          },
          "name": "Average Impact",
          "type": "line",
          "x0": 0,
          "x1": 1,
          "xref": "x",
          "y0": 0.5689664053461541,
          "y1": 0.5689664053461541,
          "yref": "y"
         },
         {
          "line": {
           "color": "black",
           "dash": "dash"
          },
          "name": "Average Stability",
          "type": "line",
          "x0": 0.8150796080875854,
          "x1": 0.8150796080875854,
          "xref": "x2",
          "y0": 0,
          "y1": 1,
          "yref": "y2"
         },
         {
          "line": {
           "color": "black",
           "dash": "dash"
          },
          "name": "Average Impact",
          "type": "line",
          "x0": 0,
          "x1": 1,
          "xref": "x2",
          "y0": 0.4310335946538458,
          "y1": 0.4310335946538458,
          "yref": "y2"
         },
         {
          "line": {
           "color": "black",
           "dash": "dash"
          },
          "name": "Average Stability",
          "type": "line",
          "x0": 0.8150796080875853,
          "x1": 0.8150796080875853,
          "xref": "x",
          "y0": 0,
          "y1": 1,
          "yref": "y"
         },
         {
          "line": {
           "color": "black",
           "dash": "dash"
          },
          "name": "Average Impact",
          "type": "line",
          "x0": 0,
          "x1": 1,
          "xref": "x",
          "y0": 0.5689664053461541,
          "y1": 0.5689664053461541,
          "yref": "y"
         },
         {
          "line": {
           "color": "black",
           "dash": "dash"
          },
          "name": "Average Stability",
          "type": "line",
          "x0": 0.8150796080875854,
          "x1": 0.8150796080875854,
          "xref": "x2",
          "y0": 0,
          "y1": 1,
          "yref": "y2"
         },
         {
          "line": {
           "color": "black",
           "dash": "dash"
          },
          "name": "Average Impact",
          "type": "line",
          "x0": 0,
          "x1": 1,
          "xref": "x2",
          "y0": 0.4310335946538458,
          "y1": 0.4310335946538458,
          "yref": "y2"
         },
         {
          "line": {
           "color": "black",
           "dash": "dash"
          },
          "name": "Average Stability",
          "type": "line",
          "x0": 0.8150796080875853,
          "x1": 0.8150796080875853,
          "xref": "x3",
          "y0": 0,
          "y1": 1,
          "yref": "y3"
         },
         {
          "line": {
           "color": "black",
           "dash": "dash"
          },
          "name": "Average Impact",
          "type": "line",
          "x0": 0,
          "x1": 1,
          "xref": "x3",
          "y0": 0.6379328106923078,
          "y1": 0.6379328106923078,
          "yref": "y3"
         },
         {
          "line": {
           "color": "black",
           "dash": "dash"
          },
          "name": "Average Stability",
          "type": "line",
          "x0": 0.8150796080875854,
          "x1": 0.8150796080875854,
          "xref": "x4",
          "y0": 0,
          "y1": 1,
          "yref": "y4"
         },
         {
          "line": {
           "color": "black",
           "dash": "dash"
          },
          "name": "Average Impact",
          "type": "line",
          "x0": 0,
          "x1": 1,
          "xref": "x4",
          "y0": 0.3620671893076918,
          "y1": 0.3620671893076918,
          "yref": "y4"
         },
         {
          "line": {
           "color": "black",
           "dash": "dash"
          },
          "name": "Average Stability",
          "type": "line",
          "x0": 0.8150796080875853,
          "x1": 0.8150796080875853,
          "xref": "x3",
          "y0": 0,
          "y1": 1,
          "yref": "y3"
         },
         {
          "line": {
           "color": "black",
           "dash": "dash"
          },
          "name": "Average Impact",
          "type": "line",
          "x0": 0,
          "x1": 1,
          "xref": "x3",
          "y0": 0.6379328106923078,
          "y1": 0.6379328106923078,
          "yref": "y3"
         },
         {
          "line": {
           "color": "black",
           "dash": "dash"
          },
          "name": "Average Stability",
          "type": "line",
          "x0": 0.8150796080875854,
          "x1": 0.8150796080875854,
          "xref": "x4",
          "y0": 0,
          "y1": 1,
          "yref": "y4"
         },
         {
          "line": {
           "color": "black",
           "dash": "dash"
          },
          "name": "Average Impact",
          "type": "line",
          "x0": 0,
          "x1": 1,
          "xref": "x4",
          "y0": 0.3620671893076918,
          "y1": 0.3620671893076918,
          "yref": "y4"
         }
        ],
        "showlegend": true,
        "template": {
         "data": {
          "bar": [
           {
            "error_x": {
             "color": "#2a3f5f"
            },
            "error_y": {
             "color": "#2a3f5f"
            },
            "marker": {
             "line": {
              "color": "#E5ECF6",
              "width": 0.5
             },
             "pattern": {
              "fillmode": "overlay",
              "size": 10,
              "solidity": 0.2
             }
            },
            "type": "bar"
           }
          ],
          "barpolar": [
           {
            "marker": {
             "line": {
              "color": "#E5ECF6",
              "width": 0.5
             },
             "pattern": {
              "fillmode": "overlay",
              "size": 10,
              "solidity": 0.2
             }
            },
            "type": "barpolar"
           }
          ],
          "carpet": [
           {
            "aaxis": {
             "endlinecolor": "#2a3f5f",
             "gridcolor": "white",
             "linecolor": "white",
             "minorgridcolor": "white",
             "startlinecolor": "#2a3f5f"
            },
            "baxis": {
             "endlinecolor": "#2a3f5f",
             "gridcolor": "white",
             "linecolor": "white",
             "minorgridcolor": "white",
             "startlinecolor": "#2a3f5f"
            },
            "type": "carpet"
           }
          ],
          "choropleth": [
           {
            "colorbar": {
             "outlinewidth": 0,
             "ticks": ""
            },
            "type": "choropleth"
           }
          ],
          "contour": [
           {
            "colorbar": {
             "outlinewidth": 0,
             "ticks": ""
            },
            "colorscale": [
             [
              0,
              "#0d0887"
             ],
             [
              0.1111111111111111,
              "#46039f"
             ],
             [
              0.2222222222222222,
              "#7201a8"
             ],
             [
              0.3333333333333333,
              "#9c179e"
             ],
             [
              0.4444444444444444,
              "#bd3786"
             ],
             [
              0.5555555555555556,
              "#d8576b"
             ],
             [
              0.6666666666666666,
              "#ed7953"
             ],
             [
              0.7777777777777778,
              "#fb9f3a"
             ],
             [
              0.8888888888888888,
              "#fdca26"
             ],
             [
              1,
              "#f0f921"
             ]
            ],
            "type": "contour"
           }
          ],
          "contourcarpet": [
           {
            "colorbar": {
             "outlinewidth": 0,
             "ticks": ""
            },
            "type": "contourcarpet"
           }
          ],
          "heatmap": [
           {
            "colorbar": {
             "outlinewidth": 0,
             "ticks": ""
            },
            "colorscale": [
             [
              0,
              "#0d0887"
             ],
             [
              0.1111111111111111,
              "#46039f"
             ],
             [
              0.2222222222222222,
              "#7201a8"
             ],
             [
              0.3333333333333333,
              "#9c179e"
             ],
             [
              0.4444444444444444,
              "#bd3786"
             ],
             [
              0.5555555555555556,
              "#d8576b"
             ],
             [
              0.6666666666666666,
              "#ed7953"
             ],
             [
              0.7777777777777778,
              "#fb9f3a"
             ],
             [
              0.8888888888888888,
              "#fdca26"
             ],
             [
              1,
              "#f0f921"
             ]
            ],
            "type": "heatmap"
           }
          ],
          "heatmapgl": [
           {
            "colorbar": {
             "outlinewidth": 0,
             "ticks": ""
            },
            "colorscale": [
             [
              0,
              "#0d0887"
             ],
             [
              0.1111111111111111,
              "#46039f"
             ],
             [
              0.2222222222222222,
              "#7201a8"
             ],
             [
              0.3333333333333333,
              "#9c179e"
             ],
             [
              0.4444444444444444,
              "#bd3786"
             ],
             [
              0.5555555555555556,
              "#d8576b"
             ],
             [
              0.6666666666666666,
              "#ed7953"
             ],
             [
              0.7777777777777778,
              "#fb9f3a"
             ],
             [
              0.8888888888888888,
              "#fdca26"
             ],
             [
              1,
              "#f0f921"
             ]
            ],
            "type": "heatmapgl"
           }
          ],
          "histogram": [
           {
            "marker": {
             "pattern": {
              "fillmode": "overlay",
              "size": 10,
              "solidity": 0.2
             }
            },
            "type": "histogram"
           }
          ],
          "histogram2d": [
           {
            "colorbar": {
             "outlinewidth": 0,
             "ticks": ""
            },
            "colorscale": [
             [
              0,
              "#0d0887"
             ],
             [
              0.1111111111111111,
              "#46039f"
             ],
             [
              0.2222222222222222,
              "#7201a8"
             ],
             [
              0.3333333333333333,
              "#9c179e"
             ],
             [
              0.4444444444444444,
              "#bd3786"
             ],
             [
              0.5555555555555556,
              "#d8576b"
             ],
             [
              0.6666666666666666,
              "#ed7953"
             ],
             [
              0.7777777777777778,
              "#fb9f3a"
             ],
             [
              0.8888888888888888,
              "#fdca26"
             ],
             [
              1,
              "#f0f921"
             ]
            ],
            "type": "histogram2d"
           }
          ],
          "histogram2dcontour": [
           {
            "colorbar": {
             "outlinewidth": 0,
             "ticks": ""
            },
            "colorscale": [
             [
              0,
              "#0d0887"
             ],
             [
              0.1111111111111111,
              "#46039f"
             ],
             [
              0.2222222222222222,
              "#7201a8"
             ],
             [
              0.3333333333333333,
              "#9c179e"
             ],
             [
              0.4444444444444444,
              "#bd3786"
             ],
             [
              0.5555555555555556,
              "#d8576b"
             ],
             [
              0.6666666666666666,
              "#ed7953"
             ],
             [
              0.7777777777777778,
              "#fb9f3a"
             ],
             [
              0.8888888888888888,
              "#fdca26"
             ],
             [
              1,
              "#f0f921"
             ]
            ],
            "type": "histogram2dcontour"
           }
          ],
          "mesh3d": [
           {
            "colorbar": {
             "outlinewidth": 0,
             "ticks": ""
            },
            "type": "mesh3d"
           }
          ],
          "parcoords": [
           {
            "line": {
             "colorbar": {
              "outlinewidth": 0,
              "ticks": ""
             }
            },
            "type": "parcoords"
           }
          ],
          "pie": [
           {
            "automargin": true,
            "type": "pie"
           }
          ],
          "scatter": [
           {
            "fillpattern": {
             "fillmode": "overlay",
             "size": 10,
             "solidity": 0.2
            },
            "type": "scatter"
           }
          ],
          "scatter3d": [
           {
            "line": {
             "colorbar": {
              "outlinewidth": 0,
              "ticks": ""
             }
            },
            "marker": {
             "colorbar": {
              "outlinewidth": 0,
              "ticks": ""
             }
            },
            "type": "scatter3d"
           }
          ],
          "scattercarpet": [
           {
            "marker": {
             "colorbar": {
              "outlinewidth": 0,
              "ticks": ""
             }
            },
            "type": "scattercarpet"
           }
          ],
          "scattergeo": [
           {
            "marker": {
             "colorbar": {
              "outlinewidth": 0,
              "ticks": ""
             }
            },
            "type": "scattergeo"
           }
          ],
          "scattergl": [
           {
            "marker": {
             "colorbar": {
              "outlinewidth": 0,
              "ticks": ""
             }
            },
            "type": "scattergl"
           }
          ],
          "scattermapbox": [
           {
            "marker": {
             "colorbar": {
              "outlinewidth": 0,
              "ticks": ""
             }
            },
            "type": "scattermapbox"
           }
          ],
          "scatterpolar": [
           {
            "marker": {
             "colorbar": {
              "outlinewidth": 0,
              "ticks": ""
             }
            },
            "type": "scatterpolar"
           }
          ],
          "scatterpolargl": [
           {
            "marker": {
             "colorbar": {
              "outlinewidth": 0,
              "ticks": ""
             }
            },
            "type": "scatterpolargl"
           }
          ],
          "scatterternary": [
           {
            "marker": {
             "colorbar": {
              "outlinewidth": 0,
              "ticks": ""
             }
            },
            "type": "scatterternary"
           }
          ],
          "surface": [
           {
            "colorbar": {
             "outlinewidth": 0,
             "ticks": ""
            },
            "colorscale": [
             [
              0,
              "#0d0887"
             ],
             [
              0.1111111111111111,
              "#46039f"
             ],
             [
              0.2222222222222222,
              "#7201a8"
             ],
             [
              0.3333333333333333,
              "#9c179e"
             ],
             [
              0.4444444444444444,
              "#bd3786"
             ],
             [
              0.5555555555555556,
              "#d8576b"
             ],
             [
              0.6666666666666666,
              "#ed7953"
             ],
             [
              0.7777777777777778,
              "#fb9f3a"
             ],
             [
              0.8888888888888888,
              "#fdca26"
             ],
             [
              1,
              "#f0f921"
             ]
            ],
            "type": "surface"
           }
          ],
          "table": [
           {
            "cells": {
             "fill": {
              "color": "#EBF0F8"
             },
             "line": {
              "color": "white"
             }
            },
            "header": {
             "fill": {
              "color": "#C8D4E3"
             },
             "line": {
              "color": "white"
             }
            },
            "type": "table"
           }
          ]
         },
         "layout": {
          "annotationdefaults": {
           "arrowcolor": "#2a3f5f",
           "arrowhead": 0,
           "arrowwidth": 1
          },
          "autotypenumbers": "strict",
          "coloraxis": {
           "colorbar": {
            "outlinewidth": 0,
            "ticks": ""
           }
          },
          "colorscale": {
           "diverging": [
            [
             0,
             "#8e0152"
            ],
            [
             0.1,
             "#c51b7d"
            ],
            [
             0.2,
             "#de77ae"
            ],
            [
             0.3,
             "#f1b6da"
            ],
            [
             0.4,
             "#fde0ef"
            ],
            [
             0.5,
             "#f7f7f7"
            ],
            [
             0.6,
             "#e6f5d0"
            ],
            [
             0.7,
             "#b8e186"
            ],
            [
             0.8,
             "#7fbc41"
            ],
            [
             0.9,
             "#4d9221"
            ],
            [
             1,
             "#276419"
            ]
           ],
           "sequential": [
            [
             0,
             "#0d0887"
            ],
            [
             0.1111111111111111,
             "#46039f"
            ],
            [
             0.2222222222222222,
             "#7201a8"
            ],
            [
             0.3333333333333333,
             "#9c179e"
            ],
            [
             0.4444444444444444,
             "#bd3786"
            ],
            [
             0.5555555555555556,
             "#d8576b"
            ],
            [
             0.6666666666666666,
             "#ed7953"
            ],
            [
             0.7777777777777778,
             "#fb9f3a"
            ],
            [
             0.8888888888888888,
             "#fdca26"
            ],
            [
             1,
             "#f0f921"
            ]
           ],
           "sequentialminus": [
            [
             0,
             "#0d0887"
            ],
            [
             0.1111111111111111,
             "#46039f"
            ],
            [
             0.2222222222222222,
             "#7201a8"
            ],
            [
             0.3333333333333333,
             "#9c179e"
            ],
            [
             0.4444444444444444,
             "#bd3786"
            ],
            [
             0.5555555555555556,
             "#d8576b"
            ],
            [
             0.6666666666666666,
             "#ed7953"
            ],
            [
             0.7777777777777778,
             "#fb9f3a"
            ],
            [
             0.8888888888888888,
             "#fdca26"
            ],
            [
             1,
             "#f0f921"
            ]
           ]
          },
          "colorway": [
           "#636efa",
           "#EF553B",
           "#00cc96",
           "#ab63fa",
           "#FFA15A",
           "#19d3f3",
           "#FF6692",
           "#B6E880",
           "#FF97FF",
           "#FECB52"
          ],
          "font": {
           "color": "#2a3f5f"
          },
          "geo": {
           "bgcolor": "white",
           "lakecolor": "white",
           "landcolor": "#E5ECF6",
           "showlakes": true,
           "showland": true,
           "subunitcolor": "white"
          },
          "hoverlabel": {
           "align": "left"
          },
          "hovermode": "closest",
          "mapbox": {
           "style": "light"
          },
          "paper_bgcolor": "white",
          "plot_bgcolor": "#E5ECF6",
          "polar": {
           "angularaxis": {
            "gridcolor": "white",
            "linecolor": "white",
            "ticks": ""
           },
           "bgcolor": "#E5ECF6",
           "radialaxis": {
            "gridcolor": "white",
            "linecolor": "white",
            "ticks": ""
           }
          },
          "scene": {
           "xaxis": {
            "backgroundcolor": "#E5ECF6",
            "gridcolor": "white",
            "gridwidth": 2,
            "linecolor": "white",
            "showbackground": true,
            "ticks": "",
            "zerolinecolor": "white"
           },
           "yaxis": {
            "backgroundcolor": "#E5ECF6",
            "gridcolor": "white",
            "gridwidth": 2,
            "linecolor": "white",
            "showbackground": true,
            "ticks": "",
            "zerolinecolor": "white"
           },
           "zaxis": {
            "backgroundcolor": "#E5ECF6",
            "gridcolor": "white",
            "gridwidth": 2,
            "linecolor": "white",
            "showbackground": true,
            "ticks": "",
            "zerolinecolor": "white"
           }
          },
          "shapedefaults": {
           "line": {
            "color": "#2a3f5f"
           }
          },
          "ternary": {
           "aaxis": {
            "gridcolor": "white",
            "linecolor": "white",
            "ticks": ""
           },
           "baxis": {
            "gridcolor": "white",
            "linecolor": "white",
            "ticks": ""
           },
           "bgcolor": "#E5ECF6",
           "caxis": {
            "gridcolor": "white",
            "linecolor": "white",
            "ticks": ""
           }
          },
          "title": {
           "x": 0.05
          },
          "xaxis": {
           "automargin": true,
           "gridcolor": "white",
           "linecolor": "white",
           "ticks": "",
           "title": {
            "standoff": 15
           },
           "zerolinecolor": "white",
           "zerolinewidth": 2
          },
          "yaxis": {
           "automargin": true,
           "gridcolor": "white",
           "linecolor": "white",
           "ticks": "",
           "title": {
            "standoff": 15
           },
           "zerolinecolor": "white",
           "zerolinewidth": 2
          }
         }
        },
        "xaxis": {
         "anchor": "y",
         "domain": [
          0,
          0.45
         ],
         "matches": "x3",
         "showticklabels": false,
         "title": {
          "text": "Stability (TotalNPK_315 +10%)"
         }
        },
        "xaxis2": {
         "anchor": "y2",
         "domain": [
          0.55,
          1
         ],
         "matches": "x4",
         "showticklabels": false,
         "title": {
          "text": "Stability (TotalNPK_315 -10%)"
         }
        },
        "xaxis3": {
         "anchor": "y3",
         "domain": [
          0,
          0.45
         ],
         "title": {
          "text": "Stability (TotalNPK_315 +20%)"
         }
        },
        "xaxis4": {
         "anchor": "y4",
         "domain": [
          0.55,
          1
         ],
         "title": {
          "text": "Stability (TotalNPK_315 -20%)"
         }
        },
        "yaxis": {
         "anchor": "x",
         "domain": [
          0.55,
          1
         ],
         "title": {
          "text": "Impact"
         }
        },
        "yaxis2": {
         "anchor": "x2",
         "domain": [
          0.55,
          1
         ],
         "matches": "y",
         "showticklabels": false
        },
        "yaxis3": {
         "anchor": "x3",
         "domain": [
          0,
          0.45
         ],
         "title": {
          "text": "Impact"
         }
        },
        "yaxis4": {
         "anchor": "x4",
         "domain": [
          0,
          0.45
         ],
         "matches": "y3",
         "showticklabels": false
        }
       }
      }
     },
     "metadata": {},
     "output_type": "display_data"
    },
    {
     "data": {
      "text/html": [
       "<div>\n",
       "<style scoped>\n",
       "    .dataframe tbody tr th:only-of-type {\n",
       "        vertical-align: middle;\n",
       "    }\n",
       "\n",
       "    .dataframe tbody tr th {\n",
       "        vertical-align: top;\n",
       "    }\n",
       "\n",
       "    .dataframe thead th {\n",
       "        text-align: right;\n",
       "    }\n",
       "</style>\n",
       "<table border=\"1\" class=\"dataframe\">\n",
       "  <thead>\n",
       "    <tr style=\"text-align: right;\">\n",
       "      <th></th>\n",
       "      <th>District</th>\n",
       "      <th>Initial Stability</th>\n",
       "      <th>Rice_Production_223 (TotalNPK_315 +10%)</th>\n",
       "      <th>Rice_Production_223 (TotalNPK_315 -10%)</th>\n",
       "      <th>Normalized Rice_Production_223 (TotalNPK_315 +10%)</th>\n",
       "      <th>Normalized Rice_Production_223 (TotalNPK_315 -10%)</th>\n",
       "      <th>Impact Score Rice_Production_223 (TotalNPK_315 +10%)</th>\n",
       "      <th>Impact Score Rice_Production_223 (TotalNPK_315 -10%)</th>\n",
       "      <th>Maize_Production_226 (TotalNPK_315 +10%)</th>\n",
       "      <th>Maize_Production_226 (TotalNPK_315 -10%)</th>\n",
       "      <th>...</th>\n",
       "      <th>Impact Score Rice_Production_223 (TotalNPK_315 +20%)</th>\n",
       "      <th>Impact Score Rice_Production_223 (TotalNPK_315 -20%)</th>\n",
       "      <th>Maize_Production_226 (TotalNPK_315 +20%)</th>\n",
       "      <th>Maize_Production_226 (TotalNPK_315 -20%)</th>\n",
       "      <th>Normalized Maize_Production_226 (TotalNPK_315 +20%)</th>\n",
       "      <th>Normalized Maize_Production_226 (TotalNPK_315 -20%)</th>\n",
       "      <th>Impact Score Maize_Production_226 (TotalNPK_315 +20%)</th>\n",
       "      <th>Impact Score Maize_Production_226 (TotalNPK_315 -20%)</th>\n",
       "      <th>New Stability(NPK + 20%)_Rice_Maize</th>\n",
       "      <th>New Stability(NPK - 20%)_Rice_Maize</th>\n",
       "    </tr>\n",
       "  </thead>\n",
       "  <tbody>\n",
       "    <tr>\n",
       "      <th>0</th>\n",
       "      <td>BENGALURU</td>\n",
       "      <td>0.973840</td>\n",
       "      <td>68479.019211</td>\n",
       "      <td>57507.638667</td>\n",
       "      <td>0.127026</td>\n",
       "      <td>0.099468</td>\n",
       "      <td>0.529708</td>\n",
       "      <td>0.470292</td>\n",
       "      <td>66324.632613</td>\n",
       "      <td>54367.859761</td>\n",
       "      <td>...</td>\n",
       "      <td>0.559416</td>\n",
       "      <td>0.440584</td>\n",
       "      <td>72303.019039</td>\n",
       "      <td>48389.473335</td>\n",
       "      <td>0.136631</td>\n",
       "      <td>0.076565</td>\n",
       "      <td>0.564753</td>\n",
       "      <td>0.435247</td>\n",
       "      <td>0.959044</td>\n",
       "      <td>0.959044</td>\n",
       "    </tr>\n",
       "    <tr>\n",
       "      <th>1</th>\n",
       "      <td>BENGALURU(R)</td>\n",
       "      <td>0.983965</td>\n",
       "      <td>57992.196208</td>\n",
       "      <td>48927.510755</td>\n",
       "      <td>0.100685</td>\n",
       "      <td>0.077917</td>\n",
       "      <td>0.524545</td>\n",
       "      <td>0.475455</td>\n",
       "      <td>54895.937738</td>\n",
       "      <td>45017.109409</td>\n",
       "      <td>...</td>\n",
       "      <td>0.549091</td>\n",
       "      <td>0.450909</td>\n",
       "      <td>59835.351903</td>\n",
       "      <td>40077.695244</td>\n",
       "      <td>0.105315</td>\n",
       "      <td>0.055688</td>\n",
       "      <td>0.553500</td>\n",
       "      <td>0.446500</td>\n",
       "      <td>0.976505</td>\n",
       "      <td>0.976505</td>\n",
       "    </tr>\n",
       "    <tr>\n",
       "      <th>2</th>\n",
       "      <td>RAMANAGARA</td>\n",
       "      <td>0.868345</td>\n",
       "      <td>27479.191334</td>\n",
       "      <td>23962.324950</td>\n",
       "      <td>0.024043</td>\n",
       "      <td>0.015209</td>\n",
       "      <td>0.509523</td>\n",
       "      <td>0.490477</td>\n",
       "      <td>21642.413549</td>\n",
       "      <td>17809.680527</td>\n",
       "      <td>...</td>\n",
       "      <td>0.519046</td>\n",
       "      <td>0.480954</td>\n",
       "      <td>23558.780060</td>\n",
       "      <td>15893.314016</td>\n",
       "      <td>0.014196</td>\n",
       "      <td>-0.005058</td>\n",
       "      <td>0.520756</td>\n",
       "      <td>0.479244</td>\n",
       "      <td>0.822250</td>\n",
       "      <td>0.822250</td>\n",
       "    </tr>\n",
       "    <tr>\n",
       "      <th>3</th>\n",
       "      <td>CHITRADURGA</td>\n",
       "      <td>0.477695</td>\n",
       "      <td>101029.330849</td>\n",
       "      <td>84139.711825</td>\n",
       "      <td>0.208785</td>\n",
       "      <td>0.166362</td>\n",
       "      <td>0.545734</td>\n",
       "      <td>0.454266</td>\n",
       "      <td>101798.443858</td>\n",
       "      <td>83391.887143</td>\n",
       "      <td>...</td>\n",
       "      <td>0.591467</td>\n",
       "      <td>0.408533</td>\n",
       "      <td>111001.722216</td>\n",
       "      <td>74188.608786</td>\n",
       "      <td>0.233834</td>\n",
       "      <td>0.141367</td>\n",
       "      <td>0.599682</td>\n",
       "      <td>0.400318</td>\n",
       "      <td>0.668650</td>\n",
       "      <td>0.668650</td>\n",
       "    </tr>\n",
       "    <tr>\n",
       "      <th>4</th>\n",
       "      <td>DAVANAGERE</td>\n",
       "      <td>0.169111</td>\n",
       "      <td>266084.831886</td>\n",
       "      <td>219185.121765</td>\n",
       "      <td>0.623369</td>\n",
       "      <td>0.505567</td>\n",
       "      <td>0.626995</td>\n",
       "      <td>0.373005</td>\n",
       "      <td>281678.371090</td>\n",
       "      <td>230566.373060</td>\n",
       "      <td>...</td>\n",
       "      <td>0.753989</td>\n",
       "      <td>0.246011</td>\n",
       "      <td>307234.370105</td>\n",
       "      <td>205010.374046</td>\n",
       "      <td>0.726728</td>\n",
       "      <td>0.469963</td>\n",
       "      <td>0.776801</td>\n",
       "      <td>0.223199</td>\n",
       "      <td>0.790058</td>\n",
       "      <td>0.790058</td>\n",
       "    </tr>\n",
       "  </tbody>\n",
       "</table>\n",
       "<p>5 rows × 30 columns</p>\n",
       "</div>"
      ],
      "text/plain": [
       "       District  Initial Stability  Rice_Production_223 (TotalNPK_315 +10%)  \\\n",
       "0     BENGALURU           0.973840                             68479.019211   \n",
       "1  BENGALURU(R)           0.983965                             57992.196208   \n",
       "2    RAMANAGARA           0.868345                             27479.191334   \n",
       "3   CHITRADURGA           0.477695                            101029.330849   \n",
       "4    DAVANAGERE           0.169111                            266084.831886   \n",
       "\n",
       "   Rice_Production_223 (TotalNPK_315 -10%)  \\\n",
       "0                             57507.638667   \n",
       "1                             48927.510755   \n",
       "2                             23962.324950   \n",
       "3                             84139.711825   \n",
       "4                            219185.121765   \n",
       "\n",
       "   Normalized Rice_Production_223 (TotalNPK_315 +10%)  \\\n",
       "0                                           0.127026    \n",
       "1                                           0.100685    \n",
       "2                                           0.024043    \n",
       "3                                           0.208785    \n",
       "4                                           0.623369    \n",
       "\n",
       "   Normalized Rice_Production_223 (TotalNPK_315 -10%)  \\\n",
       "0                                           0.099468    \n",
       "1                                           0.077917    \n",
       "2                                           0.015209    \n",
       "3                                           0.166362    \n",
       "4                                           0.505567    \n",
       "\n",
       "   Impact Score Rice_Production_223 (TotalNPK_315 +10%)  \\\n",
       "0                                           0.529708      \n",
       "1                                           0.524545      \n",
       "2                                           0.509523      \n",
       "3                                           0.545734      \n",
       "4                                           0.626995      \n",
       "\n",
       "   Impact Score Rice_Production_223 (TotalNPK_315 -10%)  \\\n",
       "0                                           0.470292      \n",
       "1                                           0.475455      \n",
       "2                                           0.490477      \n",
       "3                                           0.454266      \n",
       "4                                           0.373005      \n",
       "\n",
       "   Maize_Production_226 (TotalNPK_315 +10%)  \\\n",
       "0                              66324.632613   \n",
       "1                              54895.937738   \n",
       "2                              21642.413549   \n",
       "3                             101798.443858   \n",
       "4                             281678.371090   \n",
       "\n",
       "   Maize_Production_226 (TotalNPK_315 -10%)  ...  \\\n",
       "0                              54367.859761  ...   \n",
       "1                              45017.109409  ...   \n",
       "2                              17809.680527  ...   \n",
       "3                              83391.887143  ...   \n",
       "4                             230566.373060  ...   \n",
       "\n",
       "   Impact Score Rice_Production_223 (TotalNPK_315 +20%)  \\\n",
       "0                                           0.559416      \n",
       "1                                           0.549091      \n",
       "2                                           0.519046      \n",
       "3                                           0.591467      \n",
       "4                                           0.753989      \n",
       "\n",
       "   Impact Score Rice_Production_223 (TotalNPK_315 -20%)  \\\n",
       "0                                           0.440584      \n",
       "1                                           0.450909      \n",
       "2                                           0.480954      \n",
       "3                                           0.408533      \n",
       "4                                           0.246011      \n",
       "\n",
       "   Maize_Production_226 (TotalNPK_315 +20%)  \\\n",
       "0                              72303.019039   \n",
       "1                              59835.351903   \n",
       "2                              23558.780060   \n",
       "3                             111001.722216   \n",
       "4                             307234.370105   \n",
       "\n",
       "   Maize_Production_226 (TotalNPK_315 -20%)  \\\n",
       "0                              48389.473335   \n",
       "1                              40077.695244   \n",
       "2                              15893.314016   \n",
       "3                              74188.608786   \n",
       "4                             205010.374046   \n",
       "\n",
       "   Normalized Maize_Production_226 (TotalNPK_315 +20%)  \\\n",
       "0                                           0.136631     \n",
       "1                                           0.105315     \n",
       "2                                           0.014196     \n",
       "3                                           0.233834     \n",
       "4                                           0.726728     \n",
       "\n",
       "   Normalized Maize_Production_226 (TotalNPK_315 -20%)  \\\n",
       "0                                           0.076565     \n",
       "1                                           0.055688     \n",
       "2                                          -0.005058     \n",
       "3                                           0.141367     \n",
       "4                                           0.469963     \n",
       "\n",
       "   Impact Score Maize_Production_226 (TotalNPK_315 +20%)  \\\n",
       "0                                           0.564753       \n",
       "1                                           0.553500       \n",
       "2                                           0.520756       \n",
       "3                                           0.599682       \n",
       "4                                           0.776801       \n",
       "\n",
       "   Impact Score Maize_Production_226 (TotalNPK_315 -20%)  \\\n",
       "0                                           0.435247       \n",
       "1                                           0.446500       \n",
       "2                                           0.479244       \n",
       "3                                           0.400318       \n",
       "4                                           0.223199       \n",
       "\n",
       "   New Stability(NPK + 20%)_Rice_Maize  New Stability(NPK - 20%)_Rice_Maize  \n",
       "0                             0.959044                             0.959044  \n",
       "1                             0.976505                             0.976505  \n",
       "2                             0.822250                             0.822250  \n",
       "3                             0.668650                             0.668650  \n",
       "4                             0.790058                             0.790058  \n",
       "\n",
       "[5 rows x 30 columns]"
      ]
     },
     "execution_count": 68,
     "metadata": {},
     "output_type": "execute_result"
    }
   ],
   "source": [
    "base_column = \"TotalNPK_315\"\n",
    "capability_vector = [\"Rice_Production_223\", \"Maize_Production_226\"]\n",
    "# change_percentage = 20\n",
    "change_percentages = [10,20]\n",
    "dim = len(capability_vector)\n",
    "\n",
    "new_data_1,result_df = calc_and_vis_impact_stability_2D(G, existing_data.copy(), adjacency_file, base_column, capability_vector, change_percentages, dim)\n",
    "new_data_1.head()"
   ]
  },
  {
   "cell_type": "code",
   "execution_count": 84,
   "metadata": {},
   "outputs": [
    {
     "data": {
      "application/vnd.plotly.v1+json": {
       "config": {
        "plotlyServerURL": "https://plot.ly"
       },
       "data": [
        {
         "hovertemplate": "%{text}<br>Impact: %{y:.2f}<br>Stability: %{x:.2f}",
         "marker": {
          "color": "red",
          "size": 7,
          "symbol": "star"
         },
         "mode": "markers",
         "name": "Rice_Production_223 +10%",
         "text": [
          "BENGALURU",
          "BENGALURU(R)",
          "RAMANAGARA",
          "CHITRADURGA",
          "DAVANAGERE",
          "KOLAR",
          "CHIKKABALLAPURA",
          "SHIVAMOGGA",
          "TUMAKURU",
          "CHIKKAMAGALURU",
          "DAKSHINA KANNADA",
          "UDUPI",
          "HASSAN",
          "KODAGU",
          "MANDYA",
          "MYSURU",
          "CHAMARAJANAGAR",
          "BELAGAVI",
          "VIJAYAPURA",
          "BAGALKOT",
          "DHARAWAD",
          "GADAG",
          "HAVERI",
          "UTTARA KANNADA",
          "BALLARI",
          "BIDAR",
          "KALABURAGI",
          "YADGIRI",
          "RAICHUR",
          "KOPPAL"
         ],
         "type": "scatter",
         "x": [
          0.9590442729122614,
          0.9765052391752488,
          0.8222502261381798,
          0.66865038668522,
          0.7900581835459943,
          1,
          0.9972504351838053,
          0.967812384256356,
          0.9888021812136776,
          0.8509364154879832,
          0.8095920216384358,
          0.7639456796171662,
          0.8601165048161653,
          0.9462974084736767,
          0.8588396049480364,
          0.9105241683796111,
          0.866508382237713,
          0,
          0.6325317294369197,
          0.974963220266703,
          0.7634273694337914,
          0.48885270350099785,
          0.9683541813306026,
          0.6144347726001687,
          0.6106021055075406,
          0.7942327017204209,
          0.9903543889006119,
          0.8909298300237724,
          0.7762892089664342,
          0.9102825362300663
         ],
         "y": [
          0.5323764389528424,
          0.5267497999911108,
          0.510378239032846,
          0.5498411040490688,
          0.6384005955820258,
          0.5308208142584115,
          0.5393864727321214,
          0.57862710564914,
          0.5529856882528112,
          0.5942583559269301,
          0.5258178141250722,
          0.5085392684119294,
          0.5950472798791059,
          0.5568733610382683,
          0.5841120716476288,
          0.5861343837503891,
          0.533061191608516,
          0.7500000000000001,
          0.5753200142228545,
          0.6177996799857773,
          0.5519203631272501,
          0.5323347704342416,
          0.5902831792524114,
          0.5212731676963421,
          0.6712978910173789,
          0.5342487443886395,
          0.5750019445308681,
          0.6269348082136985,
          0.6628336259389306,
          0.6021600960042669
         ]
        },
        {
         "hovertemplate": "%{text}<br>Impact: %{y:.2f}<br>Stability: %{x:.2f}",
         "marker": {
          "color": "blue",
          "size": 7,
          "symbol": "circle"
         },
         "mode": "markers",
         "name": "Jowar_Yield_278 +10%",
         "text": [
          "BENGALURU",
          "BENGALURU(R)",
          "RAMANAGARA",
          "CHITRADURGA",
          "DAVANAGERE",
          "KOLAR",
          "CHIKKABALLAPURA",
          "SHIVAMOGGA",
          "TUMAKURU",
          "CHIKKAMAGALURU",
          "DAKSHINA KANNADA",
          "UDUPI",
          "HASSAN",
          "KODAGU",
          "MANDYA",
          "MYSURU",
          "CHAMARAJANAGAR",
          "BELAGAVI",
          "VIJAYAPURA",
          "BAGALKOT",
          "DHARAWAD",
          "GADAG",
          "HAVERI",
          "UTTARA KANNADA",
          "BALLARI",
          "BIDAR",
          "KALABURAGI",
          "YADGIRI",
          "RAICHUR",
          "KOPPAL"
         ],
         "type": "scatter",
         "x": [
          0.9590442729122614,
          0.9765052391752488,
          0.8222502261381798,
          0.66865038668522,
          0.7900581835459943,
          1,
          0.9972504351838053,
          0.967812384256356,
          0.9888021812136776,
          0.8509364154879832,
          0.8095920216384358,
          0.7639456796171662,
          0.8601165048161653,
          0.9462974084736767,
          0.8588396049480364,
          0.9105241683796111,
          0.866508382237713,
          0,
          0.6325317294369197,
          0.974963220266703,
          0.7634273694337914,
          0.48885270350099785,
          0.9683541813306026,
          0.6144347726001687,
          0.6106021055075406,
          0.7942327017204209,
          0.9903543889006119,
          0.8909298300237724,
          0.7762892089664342,
          0.9102825362300663
         ],
         "y": [
          0.5001350189013988,
          0.5001115542265997,
          0.5000432801901009,
          0.5002078514911109,
          0.5005771696015008,
          0.500128531506737,
          0.5001642527235935,
          0.5003278972539376,
          0.5002209652960343,
          0.5003930839856554,
          0.5001076675821193,
          0.50003561116284,
          0.5003963740215196,
          0.5002371779903722,
          0.5003507711124371,
          0.5003592047254974,
          0.5001378745135133,
          0.5010425706606852,
          0.5003141057479645,
          0.5004912579607651,
          0.5002165225891544,
          0.5001348451318989,
          0.5003765063753678,
          0.5000887151220001,
          0.500714360621648,
          0.5001428269442596,
          0.5003127793074489,
          0.5005293540274532,
          0.5006790622439077,
          0.5004260364751473
         ]
        }
       ],
       "layout": {
        "hovermode": "closest",
        "shapes": [
         {
          "line": {
           "color": "black",
           "dash": "dash"
          },
          "name": "Average Stability",
          "type": "line",
          "x0": 0.8150796080875853,
          "x1": 0.8150796080875853,
          "y0": 0,
          "y1": 1
         },
         {
          "line": {
           "color": "black",
           "dash": "dash"
          },
          "name": "Average Impact",
          "type": "line",
          "x0": 0,
          "x1": 1,
          "y0": 0.5751606089900291,
          "y1": 0.5751606089900291
         }
        ],
        "template": {
         "data": {
          "bar": [
           {
            "error_x": {
             "color": "#2a3f5f"
            },
            "error_y": {
             "color": "#2a3f5f"
            },
            "marker": {
             "line": {
              "color": "#E5ECF6",
              "width": 0.5
             },
             "pattern": {
              "fillmode": "overlay",
              "size": 10,
              "solidity": 0.2
             }
            },
            "type": "bar"
           }
          ],
          "barpolar": [
           {
            "marker": {
             "line": {
              "color": "#E5ECF6",
              "width": 0.5
             },
             "pattern": {
              "fillmode": "overlay",
              "size": 10,
              "solidity": 0.2
             }
            },
            "type": "barpolar"
           }
          ],
          "carpet": [
           {
            "aaxis": {
             "endlinecolor": "#2a3f5f",
             "gridcolor": "white",
             "linecolor": "white",
             "minorgridcolor": "white",
             "startlinecolor": "#2a3f5f"
            },
            "baxis": {
             "endlinecolor": "#2a3f5f",
             "gridcolor": "white",
             "linecolor": "white",
             "minorgridcolor": "white",
             "startlinecolor": "#2a3f5f"
            },
            "type": "carpet"
           }
          ],
          "choropleth": [
           {
            "colorbar": {
             "outlinewidth": 0,
             "ticks": ""
            },
            "type": "choropleth"
           }
          ],
          "contour": [
           {
            "colorbar": {
             "outlinewidth": 0,
             "ticks": ""
            },
            "colorscale": [
             [
              0,
              "#0d0887"
             ],
             [
              0.1111111111111111,
              "#46039f"
             ],
             [
              0.2222222222222222,
              "#7201a8"
             ],
             [
              0.3333333333333333,
              "#9c179e"
             ],
             [
              0.4444444444444444,
              "#bd3786"
             ],
             [
              0.5555555555555556,
              "#d8576b"
             ],
             [
              0.6666666666666666,
              "#ed7953"
             ],
             [
              0.7777777777777778,
              "#fb9f3a"
             ],
             [
              0.8888888888888888,
              "#fdca26"
             ],
             [
              1,
              "#f0f921"
             ]
            ],
            "type": "contour"
           }
          ],
          "contourcarpet": [
           {
            "colorbar": {
             "outlinewidth": 0,
             "ticks": ""
            },
            "type": "contourcarpet"
           }
          ],
          "heatmap": [
           {
            "colorbar": {
             "outlinewidth": 0,
             "ticks": ""
            },
            "colorscale": [
             [
              0,
              "#0d0887"
             ],
             [
              0.1111111111111111,
              "#46039f"
             ],
             [
              0.2222222222222222,
              "#7201a8"
             ],
             [
              0.3333333333333333,
              "#9c179e"
             ],
             [
              0.4444444444444444,
              "#bd3786"
             ],
             [
              0.5555555555555556,
              "#d8576b"
             ],
             [
              0.6666666666666666,
              "#ed7953"
             ],
             [
              0.7777777777777778,
              "#fb9f3a"
             ],
             [
              0.8888888888888888,
              "#fdca26"
             ],
             [
              1,
              "#f0f921"
             ]
            ],
            "type": "heatmap"
           }
          ],
          "heatmapgl": [
           {
            "colorbar": {
             "outlinewidth": 0,
             "ticks": ""
            },
            "colorscale": [
             [
              0,
              "#0d0887"
             ],
             [
              0.1111111111111111,
              "#46039f"
             ],
             [
              0.2222222222222222,
              "#7201a8"
             ],
             [
              0.3333333333333333,
              "#9c179e"
             ],
             [
              0.4444444444444444,
              "#bd3786"
             ],
             [
              0.5555555555555556,
              "#d8576b"
             ],
             [
              0.6666666666666666,
              "#ed7953"
             ],
             [
              0.7777777777777778,
              "#fb9f3a"
             ],
             [
              0.8888888888888888,
              "#fdca26"
             ],
             [
              1,
              "#f0f921"
             ]
            ],
            "type": "heatmapgl"
           }
          ],
          "histogram": [
           {
            "marker": {
             "pattern": {
              "fillmode": "overlay",
              "size": 10,
              "solidity": 0.2
             }
            },
            "type": "histogram"
           }
          ],
          "histogram2d": [
           {
            "colorbar": {
             "outlinewidth": 0,
             "ticks": ""
            },
            "colorscale": [
             [
              0,
              "#0d0887"
             ],
             [
              0.1111111111111111,
              "#46039f"
             ],
             [
              0.2222222222222222,
              "#7201a8"
             ],
             [
              0.3333333333333333,
              "#9c179e"
             ],
             [
              0.4444444444444444,
              "#bd3786"
             ],
             [
              0.5555555555555556,
              "#d8576b"
             ],
             [
              0.6666666666666666,
              "#ed7953"
             ],
             [
              0.7777777777777778,
              "#fb9f3a"
             ],
             [
              0.8888888888888888,
              "#fdca26"
             ],
             [
              1,
              "#f0f921"
             ]
            ],
            "type": "histogram2d"
           }
          ],
          "histogram2dcontour": [
           {
            "colorbar": {
             "outlinewidth": 0,
             "ticks": ""
            },
            "colorscale": [
             [
              0,
              "#0d0887"
             ],
             [
              0.1111111111111111,
              "#46039f"
             ],
             [
              0.2222222222222222,
              "#7201a8"
             ],
             [
              0.3333333333333333,
              "#9c179e"
             ],
             [
              0.4444444444444444,
              "#bd3786"
             ],
             [
              0.5555555555555556,
              "#d8576b"
             ],
             [
              0.6666666666666666,
              "#ed7953"
             ],
             [
              0.7777777777777778,
              "#fb9f3a"
             ],
             [
              0.8888888888888888,
              "#fdca26"
             ],
             [
              1,
              "#f0f921"
             ]
            ],
            "type": "histogram2dcontour"
           }
          ],
          "mesh3d": [
           {
            "colorbar": {
             "outlinewidth": 0,
             "ticks": ""
            },
            "type": "mesh3d"
           }
          ],
          "parcoords": [
           {
            "line": {
             "colorbar": {
              "outlinewidth": 0,
              "ticks": ""
             }
            },
            "type": "parcoords"
           }
          ],
          "pie": [
           {
            "automargin": true,
            "type": "pie"
           }
          ],
          "scatter": [
           {
            "fillpattern": {
             "fillmode": "overlay",
             "size": 10,
             "solidity": 0.2
            },
            "type": "scatter"
           }
          ],
          "scatter3d": [
           {
            "line": {
             "colorbar": {
              "outlinewidth": 0,
              "ticks": ""
             }
            },
            "marker": {
             "colorbar": {
              "outlinewidth": 0,
              "ticks": ""
             }
            },
            "type": "scatter3d"
           }
          ],
          "scattercarpet": [
           {
            "marker": {
             "colorbar": {
              "outlinewidth": 0,
              "ticks": ""
             }
            },
            "type": "scattercarpet"
           }
          ],
          "scattergeo": [
           {
            "marker": {
             "colorbar": {
              "outlinewidth": 0,
              "ticks": ""
             }
            },
            "type": "scattergeo"
           }
          ],
          "scattergl": [
           {
            "marker": {
             "colorbar": {
              "outlinewidth": 0,
              "ticks": ""
             }
            },
            "type": "scattergl"
           }
          ],
          "scattermapbox": [
           {
            "marker": {
             "colorbar": {
              "outlinewidth": 0,
              "ticks": ""
             }
            },
            "type": "scattermapbox"
           }
          ],
          "scatterpolar": [
           {
            "marker": {
             "colorbar": {
              "outlinewidth": 0,
              "ticks": ""
             }
            },
            "type": "scatterpolar"
           }
          ],
          "scatterpolargl": [
           {
            "marker": {
             "colorbar": {
              "outlinewidth": 0,
              "ticks": ""
             }
            },
            "type": "scatterpolargl"
           }
          ],
          "scatterternary": [
           {
            "marker": {
             "colorbar": {
              "outlinewidth": 0,
              "ticks": ""
             }
            },
            "type": "scatterternary"
           }
          ],
          "surface": [
           {
            "colorbar": {
             "outlinewidth": 0,
             "ticks": ""
            },
            "colorscale": [
             [
              0,
              "#0d0887"
             ],
             [
              0.1111111111111111,
              "#46039f"
             ],
             [
              0.2222222222222222,
              "#7201a8"
             ],
             [
              0.3333333333333333,
              "#9c179e"
             ],
             [
              0.4444444444444444,
              "#bd3786"
             ],
             [
              0.5555555555555556,
              "#d8576b"
             ],
             [
              0.6666666666666666,
              "#ed7953"
             ],
             [
              0.7777777777777778,
              "#fb9f3a"
             ],
             [
              0.8888888888888888,
              "#fdca26"
             ],
             [
              1,
              "#f0f921"
             ]
            ],
            "type": "surface"
           }
          ],
          "table": [
           {
            "cells": {
             "fill": {
              "color": "#EBF0F8"
             },
             "line": {
              "color": "white"
             }
            },
            "header": {
             "fill": {
              "color": "#C8D4E3"
             },
             "line": {
              "color": "white"
             }
            },
            "type": "table"
           }
          ]
         },
         "layout": {
          "annotationdefaults": {
           "arrowcolor": "#2a3f5f",
           "arrowhead": 0,
           "arrowwidth": 1
          },
          "autotypenumbers": "strict",
          "coloraxis": {
           "colorbar": {
            "outlinewidth": 0,
            "ticks": ""
           }
          },
          "colorscale": {
           "diverging": [
            [
             0,
             "#8e0152"
            ],
            [
             0.1,
             "#c51b7d"
            ],
            [
             0.2,
             "#de77ae"
            ],
            [
             0.3,
             "#f1b6da"
            ],
            [
             0.4,
             "#fde0ef"
            ],
            [
             0.5,
             "#f7f7f7"
            ],
            [
             0.6,
             "#e6f5d0"
            ],
            [
             0.7,
             "#b8e186"
            ],
            [
             0.8,
             "#7fbc41"
            ],
            [
             0.9,
             "#4d9221"
            ],
            [
             1,
             "#276419"
            ]
           ],
           "sequential": [
            [
             0,
             "#0d0887"
            ],
            [
             0.1111111111111111,
             "#46039f"
            ],
            [
             0.2222222222222222,
             "#7201a8"
            ],
            [
             0.3333333333333333,
             "#9c179e"
            ],
            [
             0.4444444444444444,
             "#bd3786"
            ],
            [
             0.5555555555555556,
             "#d8576b"
            ],
            [
             0.6666666666666666,
             "#ed7953"
            ],
            [
             0.7777777777777778,
             "#fb9f3a"
            ],
            [
             0.8888888888888888,
             "#fdca26"
            ],
            [
             1,
             "#f0f921"
            ]
           ],
           "sequentialminus": [
            [
             0,
             "#0d0887"
            ],
            [
             0.1111111111111111,
             "#46039f"
            ],
            [
             0.2222222222222222,
             "#7201a8"
            ],
            [
             0.3333333333333333,
             "#9c179e"
            ],
            [
             0.4444444444444444,
             "#bd3786"
            ],
            [
             0.5555555555555556,
             "#d8576b"
            ],
            [
             0.6666666666666666,
             "#ed7953"
            ],
            [
             0.7777777777777778,
             "#fb9f3a"
            ],
            [
             0.8888888888888888,
             "#fdca26"
            ],
            [
             1,
             "#f0f921"
            ]
           ]
          },
          "colorway": [
           "#636efa",
           "#EF553B",
           "#00cc96",
           "#ab63fa",
           "#FFA15A",
           "#19d3f3",
           "#FF6692",
           "#B6E880",
           "#FF97FF",
           "#FECB52"
          ],
          "font": {
           "color": "#2a3f5f"
          },
          "geo": {
           "bgcolor": "white",
           "lakecolor": "white",
           "landcolor": "#E5ECF6",
           "showlakes": true,
           "showland": true,
           "subunitcolor": "white"
          },
          "hoverlabel": {
           "align": "left"
          },
          "hovermode": "closest",
          "mapbox": {
           "style": "light"
          },
          "paper_bgcolor": "white",
          "plot_bgcolor": "#E5ECF6",
          "polar": {
           "angularaxis": {
            "gridcolor": "white",
            "linecolor": "white",
            "ticks": ""
           },
           "bgcolor": "#E5ECF6",
           "radialaxis": {
            "gridcolor": "white",
            "linecolor": "white",
            "ticks": ""
           }
          },
          "scene": {
           "xaxis": {
            "backgroundcolor": "#E5ECF6",
            "gridcolor": "white",
            "gridwidth": 2,
            "linecolor": "white",
            "showbackground": true,
            "ticks": "",
            "zerolinecolor": "white"
           },
           "yaxis": {
            "backgroundcolor": "#E5ECF6",
            "gridcolor": "white",
            "gridwidth": 2,
            "linecolor": "white",
            "showbackground": true,
            "ticks": "",
            "zerolinecolor": "white"
           },
           "zaxis": {
            "backgroundcolor": "#E5ECF6",
            "gridcolor": "white",
            "gridwidth": 2,
            "linecolor": "white",
            "showbackground": true,
            "ticks": "",
            "zerolinecolor": "white"
           }
          },
          "shapedefaults": {
           "line": {
            "color": "#2a3f5f"
           }
          },
          "ternary": {
           "aaxis": {
            "gridcolor": "white",
            "linecolor": "white",
            "ticks": ""
           },
           "baxis": {
            "gridcolor": "white",
            "linecolor": "white",
            "ticks": ""
           },
           "bgcolor": "#E5ECF6",
           "caxis": {
            "gridcolor": "white",
            "linecolor": "white",
            "ticks": ""
           }
          },
          "title": {
           "x": 0.05
          },
          "xaxis": {
           "automargin": true,
           "gridcolor": "white",
           "linecolor": "white",
           "ticks": "",
           "title": {
            "standoff": 15
           },
           "zerolinecolor": "white",
           "zerolinewidth": 2
          },
          "yaxis": {
           "automargin": true,
           "gridcolor": "white",
           "linecolor": "white",
           "ticks": "",
           "title": {
            "standoff": 15
           },
           "zerolinecolor": "white",
           "zerolinewidth": 2
          }
         }
        },
        "title": {
         "text": "Impact vs Stability (+10%)"
        },
        "xaxis": {
         "title": {
          "text": "Stability (TotalNPK_315 +10%)"
         }
        },
        "yaxis": {
         "title": {
          "text": "Normalized Impact"
         }
        }
       }
      }
     },
     "metadata": {},
     "output_type": "display_data"
    },
    {
     "data": {
      "application/vnd.plotly.v1+json": {
       "config": {
        "plotlyServerURL": "https://plot.ly"
       },
       "data": [
        {
         "hovertemplate": "%{text}<br>Impact: %{y:.2f}<br>Stability: %{x:.2f}",
         "marker": {
          "color": "red",
          "size": 7,
          "symbol": "star"
         },
         "mode": "markers",
         "name": "Rice_Production_223 -10%",
         "text": [
          "BENGALURU",
          "BENGALURU(R)",
          "RAMANAGARA",
          "CHITRADURGA",
          "DAVANAGERE",
          "KOLAR",
          "CHIKKABALLAPURA",
          "SHIVAMOGGA",
          "TUMAKURU",
          "CHIKKAMAGALURU",
          "DAKSHINA KANNADA",
          "UDUPI",
          "HASSAN",
          "KODAGU",
          "MANDYA",
          "MYSURU",
          "CHAMARAJANAGAR",
          "BELAGAVI",
          "VIJAYAPURA",
          "BAGALKOT",
          "DHARAWAD",
          "GADAG",
          "HAVERI",
          "UTTARA KANNADA",
          "BALLARI",
          "BIDAR",
          "KALABURAGI",
          "YADGIRI",
          "RAICHUR",
          "KOPPAL"
         ],
         "type": "scatter",
         "x": [
          0.9590442729122615,
          0.9765052391752487,
          0.8222502261381798,
          0.6686503866852203,
          0.7900581835459942,
          1,
          0.9972504351838053,
          0.967812384256356,
          0.9888021812136775,
          0.8509364154879832,
          0.8095920216384357,
          0.7639456796171663,
          0.8601165048161653,
          0.9462974084736768,
          0.8588396049480362,
          0.9105241683796113,
          0.8665083822377129,
          0,
          0.6325317294369197,
          0.9749632202667029,
          0.7634273694337913,
          0.488852703500998,
          0.9683541813306024,
          0.6144347726001685,
          0.6106021055075408,
          0.7942327017204209,
          0.9903543889006118,
          0.8909298300237722,
          0.7762892089664342,
          0.9102825362300662
         ],
         "y": [
          0.46762356104715763,
          0.4732502000088894,
          0.48962176096715404,
          0.4501588959509312,
          0.36159940441797406,
          0.4691791857415885,
          0.4606135272678785,
          0.42137289435085995,
          0.4470143117471888,
          0.40574164407306984,
          0.4741821858749277,
          0.4914607315880706,
          0.4049527201208943,
          0.4431266389617316,
          0.4158879283523712,
          0.4138656162496111,
          0.46693880839148405,
          0.2500000000000003,
          0.4246799857771457,
          0.3822003200142228,
          0.44807963687274993,
          0.4676652295657585,
          0.4097168207475888,
          0.4787268323036579,
          0.3287021089826214,
          0.4657512556113605,
          0.4249980554691319,
          0.37306519178630165,
          0.33716637406106936,
          0.39783990399573305
         ]
        },
        {
         "hovertemplate": "%{text}<br>Impact: %{y:.2f}<br>Stability: %{x:.2f}",
         "marker": {
          "color": "blue",
          "size": 7,
          "symbol": "circle"
         },
         "mode": "markers",
         "name": "Jowar_Yield_278 -10%",
         "text": [
          "BENGALURU",
          "BENGALURU(R)",
          "RAMANAGARA",
          "CHITRADURGA",
          "DAVANAGERE",
          "KOLAR",
          "CHIKKABALLAPURA",
          "SHIVAMOGGA",
          "TUMAKURU",
          "CHIKKAMAGALURU",
          "DAKSHINA KANNADA",
          "UDUPI",
          "HASSAN",
          "KODAGU",
          "MANDYA",
          "MYSURU",
          "CHAMARAJANAGAR",
          "BELAGAVI",
          "VIJAYAPURA",
          "BAGALKOT",
          "DHARAWAD",
          "GADAG",
          "HAVERI",
          "UTTARA KANNADA",
          "BALLARI",
          "BIDAR",
          "KALABURAGI",
          "YADGIRI",
          "RAICHUR",
          "KOPPAL"
         ],
         "type": "scatter",
         "x": [
          0.9590442729122615,
          0.9765052391752487,
          0.8222502261381798,
          0.6686503866852203,
          0.7900581835459942,
          1,
          0.9972504351838053,
          0.967812384256356,
          0.9888021812136775,
          0.8509364154879832,
          0.8095920216384357,
          0.7639456796171663,
          0.8601165048161653,
          0.9462974084736768,
          0.8588396049480362,
          0.9105241683796113,
          0.8665083822377129,
          0,
          0.6325317294369197,
          0.9749632202667029,
          0.7634273694337913,
          0.488852703500998,
          0.9683541813306024,
          0.6144347726001685,
          0.6106021055075408,
          0.7942327017204209,
          0.9903543889006118,
          0.8909298300237722,
          0.7762892089664342,
          0.9102825362300662
         ],
         "y": [
          0.4998649810986012,
          0.4998884457734003,
          0.4999567198098991,
          0.49979214850888914,
          0.4994228303984992,
          0.499871468493263,
          0.4998357472764064,
          0.49967210274606244,
          0.4997790347039657,
          0.4996069160143446,
          0.49989233241788067,
          0.49996438883716,
          0.4996036259784804,
          0.4997628220096278,
          0.4996492288875629,
          0.4996407952745026,
          0.4998621254864867,
          0.49895742933931475,
          0.49968589425203547,
          0.4995087420392349,
          0.4997834774108456,
          0.49986515486810107,
          0.4996234936246322,
          0.4999112848779998,
          0.4992856393783521,
          0.49985717305574034,
          0.4996872206925511,
          0.49947064597254676,
          0.4993209377560923,
          0.4995739635248527
         ]
        }
       ],
       "layout": {
        "hovermode": "closest",
        "shapes": [
         {
          "line": {
           "color": "black",
           "dash": "dash"
          },
          "name": "Average Stability",
          "type": "line",
          "x0": 0.8150796080875854,
          "x1": 0.8150796080875854,
          "y0": 0,
          "y1": 1
         },
         {
          "line": {
           "color": "black",
           "dash": "dash"
          },
          "name": "Average Impact",
          "type": "line",
          "x0": 0,
          "x1": 1,
          "y0": 0.4248393910099708,
          "y1": 0.4248393910099708
         }
        ],
        "template": {
         "data": {
          "bar": [
           {
            "error_x": {
             "color": "#2a3f5f"
            },
            "error_y": {
             "color": "#2a3f5f"
            },
            "marker": {
             "line": {
              "color": "#E5ECF6",
              "width": 0.5
             },
             "pattern": {
              "fillmode": "overlay",
              "size": 10,
              "solidity": 0.2
             }
            },
            "type": "bar"
           }
          ],
          "barpolar": [
           {
            "marker": {
             "line": {
              "color": "#E5ECF6",
              "width": 0.5
             },
             "pattern": {
              "fillmode": "overlay",
              "size": 10,
              "solidity": 0.2
             }
            },
            "type": "barpolar"
           }
          ],
          "carpet": [
           {
            "aaxis": {
             "endlinecolor": "#2a3f5f",
             "gridcolor": "white",
             "linecolor": "white",
             "minorgridcolor": "white",
             "startlinecolor": "#2a3f5f"
            },
            "baxis": {
             "endlinecolor": "#2a3f5f",
             "gridcolor": "white",
             "linecolor": "white",
             "minorgridcolor": "white",
             "startlinecolor": "#2a3f5f"
            },
            "type": "carpet"
           }
          ],
          "choropleth": [
           {
            "colorbar": {
             "outlinewidth": 0,
             "ticks": ""
            },
            "type": "choropleth"
           }
          ],
          "contour": [
           {
            "colorbar": {
             "outlinewidth": 0,
             "ticks": ""
            },
            "colorscale": [
             [
              0,
              "#0d0887"
             ],
             [
              0.1111111111111111,
              "#46039f"
             ],
             [
              0.2222222222222222,
              "#7201a8"
             ],
             [
              0.3333333333333333,
              "#9c179e"
             ],
             [
              0.4444444444444444,
              "#bd3786"
             ],
             [
              0.5555555555555556,
              "#d8576b"
             ],
             [
              0.6666666666666666,
              "#ed7953"
             ],
             [
              0.7777777777777778,
              "#fb9f3a"
             ],
             [
              0.8888888888888888,
              "#fdca26"
             ],
             [
              1,
              "#f0f921"
             ]
            ],
            "type": "contour"
           }
          ],
          "contourcarpet": [
           {
            "colorbar": {
             "outlinewidth": 0,
             "ticks": ""
            },
            "type": "contourcarpet"
           }
          ],
          "heatmap": [
           {
            "colorbar": {
             "outlinewidth": 0,
             "ticks": ""
            },
            "colorscale": [
             [
              0,
              "#0d0887"
             ],
             [
              0.1111111111111111,
              "#46039f"
             ],
             [
              0.2222222222222222,
              "#7201a8"
             ],
             [
              0.3333333333333333,
              "#9c179e"
             ],
             [
              0.4444444444444444,
              "#bd3786"
             ],
             [
              0.5555555555555556,
              "#d8576b"
             ],
             [
              0.6666666666666666,
              "#ed7953"
             ],
             [
              0.7777777777777778,
              "#fb9f3a"
             ],
             [
              0.8888888888888888,
              "#fdca26"
             ],
             [
              1,
              "#f0f921"
             ]
            ],
            "type": "heatmap"
           }
          ],
          "heatmapgl": [
           {
            "colorbar": {
             "outlinewidth": 0,
             "ticks": ""
            },
            "colorscale": [
             [
              0,
              "#0d0887"
             ],
             [
              0.1111111111111111,
              "#46039f"
             ],
             [
              0.2222222222222222,
              "#7201a8"
             ],
             [
              0.3333333333333333,
              "#9c179e"
             ],
             [
              0.4444444444444444,
              "#bd3786"
             ],
             [
              0.5555555555555556,
              "#d8576b"
             ],
             [
              0.6666666666666666,
              "#ed7953"
             ],
             [
              0.7777777777777778,
              "#fb9f3a"
             ],
             [
              0.8888888888888888,
              "#fdca26"
             ],
             [
              1,
              "#f0f921"
             ]
            ],
            "type": "heatmapgl"
           }
          ],
          "histogram": [
           {
            "marker": {
             "pattern": {
              "fillmode": "overlay",
              "size": 10,
              "solidity": 0.2
             }
            },
            "type": "histogram"
           }
          ],
          "histogram2d": [
           {
            "colorbar": {
             "outlinewidth": 0,
             "ticks": ""
            },
            "colorscale": [
             [
              0,
              "#0d0887"
             ],
             [
              0.1111111111111111,
              "#46039f"
             ],
             [
              0.2222222222222222,
              "#7201a8"
             ],
             [
              0.3333333333333333,
              "#9c179e"
             ],
             [
              0.4444444444444444,
              "#bd3786"
             ],
             [
              0.5555555555555556,
              "#d8576b"
             ],
             [
              0.6666666666666666,
              "#ed7953"
             ],
             [
              0.7777777777777778,
              "#fb9f3a"
             ],
             [
              0.8888888888888888,
              "#fdca26"
             ],
             [
              1,
              "#f0f921"
             ]
            ],
            "type": "histogram2d"
           }
          ],
          "histogram2dcontour": [
           {
            "colorbar": {
             "outlinewidth": 0,
             "ticks": ""
            },
            "colorscale": [
             [
              0,
              "#0d0887"
             ],
             [
              0.1111111111111111,
              "#46039f"
             ],
             [
              0.2222222222222222,
              "#7201a8"
             ],
             [
              0.3333333333333333,
              "#9c179e"
             ],
             [
              0.4444444444444444,
              "#bd3786"
             ],
             [
              0.5555555555555556,
              "#d8576b"
             ],
             [
              0.6666666666666666,
              "#ed7953"
             ],
             [
              0.7777777777777778,
              "#fb9f3a"
             ],
             [
              0.8888888888888888,
              "#fdca26"
             ],
             [
              1,
              "#f0f921"
             ]
            ],
            "type": "histogram2dcontour"
           }
          ],
          "mesh3d": [
           {
            "colorbar": {
             "outlinewidth": 0,
             "ticks": ""
            },
            "type": "mesh3d"
           }
          ],
          "parcoords": [
           {
            "line": {
             "colorbar": {
              "outlinewidth": 0,
              "ticks": ""
             }
            },
            "type": "parcoords"
           }
          ],
          "pie": [
           {
            "automargin": true,
            "type": "pie"
           }
          ],
          "scatter": [
           {
            "fillpattern": {
             "fillmode": "overlay",
             "size": 10,
             "solidity": 0.2
            },
            "type": "scatter"
           }
          ],
          "scatter3d": [
           {
            "line": {
             "colorbar": {
              "outlinewidth": 0,
              "ticks": ""
             }
            },
            "marker": {
             "colorbar": {
              "outlinewidth": 0,
              "ticks": ""
             }
            },
            "type": "scatter3d"
           }
          ],
          "scattercarpet": [
           {
            "marker": {
             "colorbar": {
              "outlinewidth": 0,
              "ticks": ""
             }
            },
            "type": "scattercarpet"
           }
          ],
          "scattergeo": [
           {
            "marker": {
             "colorbar": {
              "outlinewidth": 0,
              "ticks": ""
             }
            },
            "type": "scattergeo"
           }
          ],
          "scattergl": [
           {
            "marker": {
             "colorbar": {
              "outlinewidth": 0,
              "ticks": ""
             }
            },
            "type": "scattergl"
           }
          ],
          "scattermapbox": [
           {
            "marker": {
             "colorbar": {
              "outlinewidth": 0,
              "ticks": ""
             }
            },
            "type": "scattermapbox"
           }
          ],
          "scatterpolar": [
           {
            "marker": {
             "colorbar": {
              "outlinewidth": 0,
              "ticks": ""
             }
            },
            "type": "scatterpolar"
           }
          ],
          "scatterpolargl": [
           {
            "marker": {
             "colorbar": {
              "outlinewidth": 0,
              "ticks": ""
             }
            },
            "type": "scatterpolargl"
           }
          ],
          "scatterternary": [
           {
            "marker": {
             "colorbar": {
              "outlinewidth": 0,
              "ticks": ""
             }
            },
            "type": "scatterternary"
           }
          ],
          "surface": [
           {
            "colorbar": {
             "outlinewidth": 0,
             "ticks": ""
            },
            "colorscale": [
             [
              0,
              "#0d0887"
             ],
             [
              0.1111111111111111,
              "#46039f"
             ],
             [
              0.2222222222222222,
              "#7201a8"
             ],
             [
              0.3333333333333333,
              "#9c179e"
             ],
             [
              0.4444444444444444,
              "#bd3786"
             ],
             [
              0.5555555555555556,
              "#d8576b"
             ],
             [
              0.6666666666666666,
              "#ed7953"
             ],
             [
              0.7777777777777778,
              "#fb9f3a"
             ],
             [
              0.8888888888888888,
              "#fdca26"
             ],
             [
              1,
              "#f0f921"
             ]
            ],
            "type": "surface"
           }
          ],
          "table": [
           {
            "cells": {
             "fill": {
              "color": "#EBF0F8"
             },
             "line": {
              "color": "white"
             }
            },
            "header": {
             "fill": {
              "color": "#C8D4E3"
             },
             "line": {
              "color": "white"
             }
            },
            "type": "table"
           }
          ]
         },
         "layout": {
          "annotationdefaults": {
           "arrowcolor": "#2a3f5f",
           "arrowhead": 0,
           "arrowwidth": 1
          },
          "autotypenumbers": "strict",
          "coloraxis": {
           "colorbar": {
            "outlinewidth": 0,
            "ticks": ""
           }
          },
          "colorscale": {
           "diverging": [
            [
             0,
             "#8e0152"
            ],
            [
             0.1,
             "#c51b7d"
            ],
            [
             0.2,
             "#de77ae"
            ],
            [
             0.3,
             "#f1b6da"
            ],
            [
             0.4,
             "#fde0ef"
            ],
            [
             0.5,
             "#f7f7f7"
            ],
            [
             0.6,
             "#e6f5d0"
            ],
            [
             0.7,
             "#b8e186"
            ],
            [
             0.8,
             "#7fbc41"
            ],
            [
             0.9,
             "#4d9221"
            ],
            [
             1,
             "#276419"
            ]
           ],
           "sequential": [
            [
             0,
             "#0d0887"
            ],
            [
             0.1111111111111111,
             "#46039f"
            ],
            [
             0.2222222222222222,
             "#7201a8"
            ],
            [
             0.3333333333333333,
             "#9c179e"
            ],
            [
             0.4444444444444444,
             "#bd3786"
            ],
            [
             0.5555555555555556,
             "#d8576b"
            ],
            [
             0.6666666666666666,
             "#ed7953"
            ],
            [
             0.7777777777777778,
             "#fb9f3a"
            ],
            [
             0.8888888888888888,
             "#fdca26"
            ],
            [
             1,
             "#f0f921"
            ]
           ],
           "sequentialminus": [
            [
             0,
             "#0d0887"
            ],
            [
             0.1111111111111111,
             "#46039f"
            ],
            [
             0.2222222222222222,
             "#7201a8"
            ],
            [
             0.3333333333333333,
             "#9c179e"
            ],
            [
             0.4444444444444444,
             "#bd3786"
            ],
            [
             0.5555555555555556,
             "#d8576b"
            ],
            [
             0.6666666666666666,
             "#ed7953"
            ],
            [
             0.7777777777777778,
             "#fb9f3a"
            ],
            [
             0.8888888888888888,
             "#fdca26"
            ],
            [
             1,
             "#f0f921"
            ]
           ]
          },
          "colorway": [
           "#636efa",
           "#EF553B",
           "#00cc96",
           "#ab63fa",
           "#FFA15A",
           "#19d3f3",
           "#FF6692",
           "#B6E880",
           "#FF97FF",
           "#FECB52"
          ],
          "font": {
           "color": "#2a3f5f"
          },
          "geo": {
           "bgcolor": "white",
           "lakecolor": "white",
           "landcolor": "#E5ECF6",
           "showlakes": true,
           "showland": true,
           "subunitcolor": "white"
          },
          "hoverlabel": {
           "align": "left"
          },
          "hovermode": "closest",
          "mapbox": {
           "style": "light"
          },
          "paper_bgcolor": "white",
          "plot_bgcolor": "#E5ECF6",
          "polar": {
           "angularaxis": {
            "gridcolor": "white",
            "linecolor": "white",
            "ticks": ""
           },
           "bgcolor": "#E5ECF6",
           "radialaxis": {
            "gridcolor": "white",
            "linecolor": "white",
            "ticks": ""
           }
          },
          "scene": {
           "xaxis": {
            "backgroundcolor": "#E5ECF6",
            "gridcolor": "white",
            "gridwidth": 2,
            "linecolor": "white",
            "showbackground": true,
            "ticks": "",
            "zerolinecolor": "white"
           },
           "yaxis": {
            "backgroundcolor": "#E5ECF6",
            "gridcolor": "white",
            "gridwidth": 2,
            "linecolor": "white",
            "showbackground": true,
            "ticks": "",
            "zerolinecolor": "white"
           },
           "zaxis": {
            "backgroundcolor": "#E5ECF6",
            "gridcolor": "white",
            "gridwidth": 2,
            "linecolor": "white",
            "showbackground": true,
            "ticks": "",
            "zerolinecolor": "white"
           }
          },
          "shapedefaults": {
           "line": {
            "color": "#2a3f5f"
           }
          },
          "ternary": {
           "aaxis": {
            "gridcolor": "white",
            "linecolor": "white",
            "ticks": ""
           },
           "baxis": {
            "gridcolor": "white",
            "linecolor": "white",
            "ticks": ""
           },
           "bgcolor": "#E5ECF6",
           "caxis": {
            "gridcolor": "white",
            "linecolor": "white",
            "ticks": ""
           }
          },
          "title": {
           "x": 0.05
          },
          "xaxis": {
           "automargin": true,
           "gridcolor": "white",
           "linecolor": "white",
           "ticks": "",
           "title": {
            "standoff": 15
           },
           "zerolinecolor": "white",
           "zerolinewidth": 2
          },
          "yaxis": {
           "automargin": true,
           "gridcolor": "white",
           "linecolor": "white",
           "ticks": "",
           "title": {
            "standoff": 15
           },
           "zerolinecolor": "white",
           "zerolinewidth": 2
          }
         }
        },
        "title": {
         "text": "Impact vs Stability (-10%)"
        },
        "xaxis": {
         "title": {
          "text": "Stability (TotalNPK_315 -10%)"
         }
        },
        "yaxis": {
         "title": {
          "text": "Normalized Impact"
         }
        }
       }
      }
     },
     "metadata": {},
     "output_type": "display_data"
    },
    {
     "data": {
      "application/vnd.plotly.v1+json": {
       "config": {
        "plotlyServerURL": "https://plot.ly"
       },
       "data": [
        {
         "hovertemplate": "%{text}<br>Impact: %{y:.2f}<br>Stability: %{x:.2f}",
         "marker": {
          "color": "red",
          "size": 7,
          "symbol": "star"
         },
         "mode": "markers",
         "name": "Rice_Production_223 +20%",
         "text": [
          "BENGALURU",
          "BENGALURU(R)",
          "RAMANAGARA",
          "CHITRADURGA",
          "DAVANAGERE",
          "KOLAR",
          "CHIKKABALLAPURA",
          "SHIVAMOGGA",
          "TUMAKURU",
          "CHIKKAMAGALURU",
          "DAKSHINA KANNADA",
          "UDUPI",
          "HASSAN",
          "KODAGU",
          "MANDYA",
          "MYSURU",
          "CHAMARAJANAGAR",
          "BELAGAVI",
          "VIJAYAPURA",
          "BAGALKOT",
          "DHARAWAD",
          "GADAG",
          "HAVERI",
          "UTTARA KANNADA",
          "BALLARI",
          "BIDAR",
          "KALABURAGI",
          "YADGIRI",
          "RAICHUR",
          "KOPPAL"
         ],
         "type": "scatter",
         "x": [
          0.9590442729122614,
          0.9765052391752488,
          0.8222502261381798,
          0.66865038668522,
          0.7900581835459943,
          1,
          0.9972504351838053,
          0.967812384256356,
          0.9888021812136776,
          0.8509364154879832,
          0.8095920216384358,
          0.7639456796171662,
          0.8601165048161653,
          0.9462974084736767,
          0.8588396049480364,
          0.9105241683796111,
          0.866508382237713,
          0,
          0.6325317294369197,
          0.974963220266703,
          0.7634273694337914,
          0.48885270350099785,
          0.9683541813306026,
          0.6144347726001687,
          0.6106021055075406,
          0.7942327017204209,
          0.9903543889006119,
          0.8909298300237724,
          0.7762892089664342,
          0.9102825362300663
         ],
         "y": [
          0.5647528779056847,
          0.5534995999822215,
          0.5207564780656918,
          0.5996822080981377,
          0.7768011911640516,
          0.561641628516823,
          0.578772945464243,
          0.6572542112982799,
          0.6059713765056225,
          0.6885167118538601,
          0.5516356282501444,
          0.5170785368238588,
          0.6900945597582114,
          0.6137467220765368,
          0.6682241432952574,
          0.6722687675007779,
          0.5661223832170319,
          1,
          0.6506400284457087,
          0.7355993599715542,
          0.6038407262545001,
          0.5646695408684831,
          0.6805663585048224,
          0.5425463353926842,
          0.8425957820347569,
          0.568497488777279,
          0.650003889061736,
          0.7538696164273967,
          0.825667251877861,
          0.7043201920085337
         ]
        },
        {
         "hovertemplate": "%{text}<br>Impact: %{y:.2f}<br>Stability: %{x:.2f}",
         "marker": {
          "color": "blue",
          "size": 7,
          "symbol": "circle"
         },
         "mode": "markers",
         "name": "Jowar_Yield_278 +20%",
         "text": [
          "BENGALURU",
          "BENGALURU(R)",
          "RAMANAGARA",
          "CHITRADURGA",
          "DAVANAGERE",
          "KOLAR",
          "CHIKKABALLAPURA",
          "SHIVAMOGGA",
          "TUMAKURU",
          "CHIKKAMAGALURU",
          "DAKSHINA KANNADA",
          "UDUPI",
          "HASSAN",
          "KODAGU",
          "MANDYA",
          "MYSURU",
          "CHAMARAJANAGAR",
          "BELAGAVI",
          "VIJAYAPURA",
          "BAGALKOT",
          "DHARAWAD",
          "GADAG",
          "HAVERI",
          "UTTARA KANNADA",
          "BALLARI",
          "BIDAR",
          "KALABURAGI",
          "YADGIRI",
          "RAICHUR",
          "KOPPAL"
         ],
         "type": "scatter",
         "x": [
          0.9590442729122614,
          0.9765052391752488,
          0.8222502261381798,
          0.66865038668522,
          0.7900581835459943,
          1,
          0.9972504351838053,
          0.967812384256356,
          0.9888021812136776,
          0.8509364154879832,
          0.8095920216384358,
          0.7639456796171662,
          0.8601165048161653,
          0.9462974084736767,
          0.8588396049480364,
          0.9105241683796111,
          0.866508382237713,
          0,
          0.6325317294369197,
          0.974963220266703,
          0.7634273694337914,
          0.48885270350099785,
          0.9683541813306026,
          0.6144347726001687,
          0.6106021055075406,
          0.7942327017204209,
          0.9903543889006119,
          0.8909298300237724,
          0.7762892089664342,
          0.9102825362300663
         ],
         "y": [
          0.5002700378027977,
          0.5002231084531994,
          0.5000865603802018,
          0.5004157029822217,
          0.5011543392030015,
          0.5002570630134741,
          0.5003285054471871,
          0.5006557945078751,
          0.5004419305920688,
          0.5007861679713108,
          0.5002153351642387,
          0.5000712223256799,
          0.5007927480430392,
          0.5004743559807444,
          0.5007015422248742,
          0.5007184094509949,
          0.5002757490270267,
          0.5020851413213705,
          0.5006282114959292,
          0.5009825159215303,
          0.5004330451783088,
          0.5002696902637979,
          0.5007530127507356,
          0.5001774302440004,
          0.5014287212432957,
          0.5002856538885193,
          0.5006255586148978,
          0.5010587080549065,
          0.5013581244878155,
          0.5008520729502947
         ]
        }
       ],
       "layout": {
        "hovermode": "closest",
        "shapes": [
         {
          "line": {
           "color": "black",
           "dash": "dash"
          },
          "name": "Average Stability",
          "type": "line",
          "x0": 0.8150796080875853,
          "x1": 0.8150796080875853,
          "y0": 0,
          "y1": 1
         },
         {
          "line": {
           "color": "black",
           "dash": "dash"
          },
          "name": "Average Impact",
          "type": "line",
          "x0": 0,
          "x1": 1,
          "y0": 0.6503212179800584,
          "y1": 0.6503212179800584
         }
        ],
        "template": {
         "data": {
          "bar": [
           {
            "error_x": {
             "color": "#2a3f5f"
            },
            "error_y": {
             "color": "#2a3f5f"
            },
            "marker": {
             "line": {
              "color": "#E5ECF6",
              "width": 0.5
             },
             "pattern": {
              "fillmode": "overlay",
              "size": 10,
              "solidity": 0.2
             }
            },
            "type": "bar"
           }
          ],
          "barpolar": [
           {
            "marker": {
             "line": {
              "color": "#E5ECF6",
              "width": 0.5
             },
             "pattern": {
              "fillmode": "overlay",
              "size": 10,
              "solidity": 0.2
             }
            },
            "type": "barpolar"
           }
          ],
          "carpet": [
           {
            "aaxis": {
             "endlinecolor": "#2a3f5f",
             "gridcolor": "white",
             "linecolor": "white",
             "minorgridcolor": "white",
             "startlinecolor": "#2a3f5f"
            },
            "baxis": {
             "endlinecolor": "#2a3f5f",
             "gridcolor": "white",
             "linecolor": "white",
             "minorgridcolor": "white",
             "startlinecolor": "#2a3f5f"
            },
            "type": "carpet"
           }
          ],
          "choropleth": [
           {
            "colorbar": {
             "outlinewidth": 0,
             "ticks": ""
            },
            "type": "choropleth"
           }
          ],
          "contour": [
           {
            "colorbar": {
             "outlinewidth": 0,
             "ticks": ""
            },
            "colorscale": [
             [
              0,
              "#0d0887"
             ],
             [
              0.1111111111111111,
              "#46039f"
             ],
             [
              0.2222222222222222,
              "#7201a8"
             ],
             [
              0.3333333333333333,
              "#9c179e"
             ],
             [
              0.4444444444444444,
              "#bd3786"
             ],
             [
              0.5555555555555556,
              "#d8576b"
             ],
             [
              0.6666666666666666,
              "#ed7953"
             ],
             [
              0.7777777777777778,
              "#fb9f3a"
             ],
             [
              0.8888888888888888,
              "#fdca26"
             ],
             [
              1,
              "#f0f921"
             ]
            ],
            "type": "contour"
           }
          ],
          "contourcarpet": [
           {
            "colorbar": {
             "outlinewidth": 0,
             "ticks": ""
            },
            "type": "contourcarpet"
           }
          ],
          "heatmap": [
           {
            "colorbar": {
             "outlinewidth": 0,
             "ticks": ""
            },
            "colorscale": [
             [
              0,
              "#0d0887"
             ],
             [
              0.1111111111111111,
              "#46039f"
             ],
             [
              0.2222222222222222,
              "#7201a8"
             ],
             [
              0.3333333333333333,
              "#9c179e"
             ],
             [
              0.4444444444444444,
              "#bd3786"
             ],
             [
              0.5555555555555556,
              "#d8576b"
             ],
             [
              0.6666666666666666,
              "#ed7953"
             ],
             [
              0.7777777777777778,
              "#fb9f3a"
             ],
             [
              0.8888888888888888,
              "#fdca26"
             ],
             [
              1,
              "#f0f921"
             ]
            ],
            "type": "heatmap"
           }
          ],
          "heatmapgl": [
           {
            "colorbar": {
             "outlinewidth": 0,
             "ticks": ""
            },
            "colorscale": [
             [
              0,
              "#0d0887"
             ],
             [
              0.1111111111111111,
              "#46039f"
             ],
             [
              0.2222222222222222,
              "#7201a8"
             ],
             [
              0.3333333333333333,
              "#9c179e"
             ],
             [
              0.4444444444444444,
              "#bd3786"
             ],
             [
              0.5555555555555556,
              "#d8576b"
             ],
             [
              0.6666666666666666,
              "#ed7953"
             ],
             [
              0.7777777777777778,
              "#fb9f3a"
             ],
             [
              0.8888888888888888,
              "#fdca26"
             ],
             [
              1,
              "#f0f921"
             ]
            ],
            "type": "heatmapgl"
           }
          ],
          "histogram": [
           {
            "marker": {
             "pattern": {
              "fillmode": "overlay",
              "size": 10,
              "solidity": 0.2
             }
            },
            "type": "histogram"
           }
          ],
          "histogram2d": [
           {
            "colorbar": {
             "outlinewidth": 0,
             "ticks": ""
            },
            "colorscale": [
             [
              0,
              "#0d0887"
             ],
             [
              0.1111111111111111,
              "#46039f"
             ],
             [
              0.2222222222222222,
              "#7201a8"
             ],
             [
              0.3333333333333333,
              "#9c179e"
             ],
             [
              0.4444444444444444,
              "#bd3786"
             ],
             [
              0.5555555555555556,
              "#d8576b"
             ],
             [
              0.6666666666666666,
              "#ed7953"
             ],
             [
              0.7777777777777778,
              "#fb9f3a"
             ],
             [
              0.8888888888888888,
              "#fdca26"
             ],
             [
              1,
              "#f0f921"
             ]
            ],
            "type": "histogram2d"
           }
          ],
          "histogram2dcontour": [
           {
            "colorbar": {
             "outlinewidth": 0,
             "ticks": ""
            },
            "colorscale": [
             [
              0,
              "#0d0887"
             ],
             [
              0.1111111111111111,
              "#46039f"
             ],
             [
              0.2222222222222222,
              "#7201a8"
             ],
             [
              0.3333333333333333,
              "#9c179e"
             ],
             [
              0.4444444444444444,
              "#bd3786"
             ],
             [
              0.5555555555555556,
              "#d8576b"
             ],
             [
              0.6666666666666666,
              "#ed7953"
             ],
             [
              0.7777777777777778,
              "#fb9f3a"
             ],
             [
              0.8888888888888888,
              "#fdca26"
             ],
             [
              1,
              "#f0f921"
             ]
            ],
            "type": "histogram2dcontour"
           }
          ],
          "mesh3d": [
           {
            "colorbar": {
             "outlinewidth": 0,
             "ticks": ""
            },
            "type": "mesh3d"
           }
          ],
          "parcoords": [
           {
            "line": {
             "colorbar": {
              "outlinewidth": 0,
              "ticks": ""
             }
            },
            "type": "parcoords"
           }
          ],
          "pie": [
           {
            "automargin": true,
            "type": "pie"
           }
          ],
          "scatter": [
           {
            "fillpattern": {
             "fillmode": "overlay",
             "size": 10,
             "solidity": 0.2
            },
            "type": "scatter"
           }
          ],
          "scatter3d": [
           {
            "line": {
             "colorbar": {
              "outlinewidth": 0,
              "ticks": ""
             }
            },
            "marker": {
             "colorbar": {
              "outlinewidth": 0,
              "ticks": ""
             }
            },
            "type": "scatter3d"
           }
          ],
          "scattercarpet": [
           {
            "marker": {
             "colorbar": {
              "outlinewidth": 0,
              "ticks": ""
             }
            },
            "type": "scattercarpet"
           }
          ],
          "scattergeo": [
           {
            "marker": {
             "colorbar": {
              "outlinewidth": 0,
              "ticks": ""
             }
            },
            "type": "scattergeo"
           }
          ],
          "scattergl": [
           {
            "marker": {
             "colorbar": {
              "outlinewidth": 0,
              "ticks": ""
             }
            },
            "type": "scattergl"
           }
          ],
          "scattermapbox": [
           {
            "marker": {
             "colorbar": {
              "outlinewidth": 0,
              "ticks": ""
             }
            },
            "type": "scattermapbox"
           }
          ],
          "scatterpolar": [
           {
            "marker": {
             "colorbar": {
              "outlinewidth": 0,
              "ticks": ""
             }
            },
            "type": "scatterpolar"
           }
          ],
          "scatterpolargl": [
           {
            "marker": {
             "colorbar": {
              "outlinewidth": 0,
              "ticks": ""
             }
            },
            "type": "scatterpolargl"
           }
          ],
          "scatterternary": [
           {
            "marker": {
             "colorbar": {
              "outlinewidth": 0,
              "ticks": ""
             }
            },
            "type": "scatterternary"
           }
          ],
          "surface": [
           {
            "colorbar": {
             "outlinewidth": 0,
             "ticks": ""
            },
            "colorscale": [
             [
              0,
              "#0d0887"
             ],
             [
              0.1111111111111111,
              "#46039f"
             ],
             [
              0.2222222222222222,
              "#7201a8"
             ],
             [
              0.3333333333333333,
              "#9c179e"
             ],
             [
              0.4444444444444444,
              "#bd3786"
             ],
             [
              0.5555555555555556,
              "#d8576b"
             ],
             [
              0.6666666666666666,
              "#ed7953"
             ],
             [
              0.7777777777777778,
              "#fb9f3a"
             ],
             [
              0.8888888888888888,
              "#fdca26"
             ],
             [
              1,
              "#f0f921"
             ]
            ],
            "type": "surface"
           }
          ],
          "table": [
           {
            "cells": {
             "fill": {
              "color": "#EBF0F8"
             },
             "line": {
              "color": "white"
             }
            },
            "header": {
             "fill": {
              "color": "#C8D4E3"
             },
             "line": {
              "color": "white"
             }
            },
            "type": "table"
           }
          ]
         },
         "layout": {
          "annotationdefaults": {
           "arrowcolor": "#2a3f5f",
           "arrowhead": 0,
           "arrowwidth": 1
          },
          "autotypenumbers": "strict",
          "coloraxis": {
           "colorbar": {
            "outlinewidth": 0,
            "ticks": ""
           }
          },
          "colorscale": {
           "diverging": [
            [
             0,
             "#8e0152"
            ],
            [
             0.1,
             "#c51b7d"
            ],
            [
             0.2,
             "#de77ae"
            ],
            [
             0.3,
             "#f1b6da"
            ],
            [
             0.4,
             "#fde0ef"
            ],
            [
             0.5,
             "#f7f7f7"
            ],
            [
             0.6,
             "#e6f5d0"
            ],
            [
             0.7,
             "#b8e186"
            ],
            [
             0.8,
             "#7fbc41"
            ],
            [
             0.9,
             "#4d9221"
            ],
            [
             1,
             "#276419"
            ]
           ],
           "sequential": [
            [
             0,
             "#0d0887"
            ],
            [
             0.1111111111111111,
             "#46039f"
            ],
            [
             0.2222222222222222,
             "#7201a8"
            ],
            [
             0.3333333333333333,
             "#9c179e"
            ],
            [
             0.4444444444444444,
             "#bd3786"
            ],
            [
             0.5555555555555556,
             "#d8576b"
            ],
            [
             0.6666666666666666,
             "#ed7953"
            ],
            [
             0.7777777777777778,
             "#fb9f3a"
            ],
            [
             0.8888888888888888,
             "#fdca26"
            ],
            [
             1,
             "#f0f921"
            ]
           ],
           "sequentialminus": [
            [
             0,
             "#0d0887"
            ],
            [
             0.1111111111111111,
             "#46039f"
            ],
            [
             0.2222222222222222,
             "#7201a8"
            ],
            [
             0.3333333333333333,
             "#9c179e"
            ],
            [
             0.4444444444444444,
             "#bd3786"
            ],
            [
             0.5555555555555556,
             "#d8576b"
            ],
            [
             0.6666666666666666,
             "#ed7953"
            ],
            [
             0.7777777777777778,
             "#fb9f3a"
            ],
            [
             0.8888888888888888,
             "#fdca26"
            ],
            [
             1,
             "#f0f921"
            ]
           ]
          },
          "colorway": [
           "#636efa",
           "#EF553B",
           "#00cc96",
           "#ab63fa",
           "#FFA15A",
           "#19d3f3",
           "#FF6692",
           "#B6E880",
           "#FF97FF",
           "#FECB52"
          ],
          "font": {
           "color": "#2a3f5f"
          },
          "geo": {
           "bgcolor": "white",
           "lakecolor": "white",
           "landcolor": "#E5ECF6",
           "showlakes": true,
           "showland": true,
           "subunitcolor": "white"
          },
          "hoverlabel": {
           "align": "left"
          },
          "hovermode": "closest",
          "mapbox": {
           "style": "light"
          },
          "paper_bgcolor": "white",
          "plot_bgcolor": "#E5ECF6",
          "polar": {
           "angularaxis": {
            "gridcolor": "white",
            "linecolor": "white",
            "ticks": ""
           },
           "bgcolor": "#E5ECF6",
           "radialaxis": {
            "gridcolor": "white",
            "linecolor": "white",
            "ticks": ""
           }
          },
          "scene": {
           "xaxis": {
            "backgroundcolor": "#E5ECF6",
            "gridcolor": "white",
            "gridwidth": 2,
            "linecolor": "white",
            "showbackground": true,
            "ticks": "",
            "zerolinecolor": "white"
           },
           "yaxis": {
            "backgroundcolor": "#E5ECF6",
            "gridcolor": "white",
            "gridwidth": 2,
            "linecolor": "white",
            "showbackground": true,
            "ticks": "",
            "zerolinecolor": "white"
           },
           "zaxis": {
            "backgroundcolor": "#E5ECF6",
            "gridcolor": "white",
            "gridwidth": 2,
            "linecolor": "white",
            "showbackground": true,
            "ticks": "",
            "zerolinecolor": "white"
           }
          },
          "shapedefaults": {
           "line": {
            "color": "#2a3f5f"
           }
          },
          "ternary": {
           "aaxis": {
            "gridcolor": "white",
            "linecolor": "white",
            "ticks": ""
           },
           "baxis": {
            "gridcolor": "white",
            "linecolor": "white",
            "ticks": ""
           },
           "bgcolor": "#E5ECF6",
           "caxis": {
            "gridcolor": "white",
            "linecolor": "white",
            "ticks": ""
           }
          },
          "title": {
           "x": 0.05
          },
          "xaxis": {
           "automargin": true,
           "gridcolor": "white",
           "linecolor": "white",
           "ticks": "",
           "title": {
            "standoff": 15
           },
           "zerolinecolor": "white",
           "zerolinewidth": 2
          },
          "yaxis": {
           "automargin": true,
           "gridcolor": "white",
           "linecolor": "white",
           "ticks": "",
           "title": {
            "standoff": 15
           },
           "zerolinecolor": "white",
           "zerolinewidth": 2
          }
         }
        },
        "title": {
         "text": "Impact vs Stability (+20%)"
        },
        "xaxis": {
         "title": {
          "text": "Stability (TotalNPK_315 +20%)"
         }
        },
        "yaxis": {
         "title": {
          "text": "Normalized Impact"
         }
        }
       }
      }
     },
     "metadata": {},
     "output_type": "display_data"
    },
    {
     "data": {
      "application/vnd.plotly.v1+json": {
       "config": {
        "plotlyServerURL": "https://plot.ly"
       },
       "data": [
        {
         "hovertemplate": "%{text}<br>Impact: %{y:.2f}<br>Stability: %{x:.2f}",
         "marker": {
          "color": "red",
          "size": 7,
          "symbol": "star"
         },
         "mode": "markers",
         "name": "Rice_Production_223 -20%",
         "text": [
          "BENGALURU",
          "BENGALURU(R)",
          "RAMANAGARA",
          "CHITRADURGA",
          "DAVANAGERE",
          "KOLAR",
          "CHIKKABALLAPURA",
          "SHIVAMOGGA",
          "TUMAKURU",
          "CHIKKAMAGALURU",
          "DAKSHINA KANNADA",
          "UDUPI",
          "HASSAN",
          "KODAGU",
          "MANDYA",
          "MYSURU",
          "CHAMARAJANAGAR",
          "BELAGAVI",
          "VIJAYAPURA",
          "BAGALKOT",
          "DHARAWAD",
          "GADAG",
          "HAVERI",
          "UTTARA KANNADA",
          "BALLARI",
          "BIDAR",
          "KALABURAGI",
          "YADGIRI",
          "RAICHUR",
          "KOPPAL"
         ],
         "type": "scatter",
         "x": [
          0.9590442729122615,
          0.9765052391752487,
          0.8222502261381798,
          0.6686503866852203,
          0.7900581835459942,
          1,
          0.9972504351838053,
          0.967812384256356,
          0.9888021812136775,
          0.8509364154879832,
          0.8095920216384357,
          0.7639456796171663,
          0.8601165048161653,
          0.9462974084736768,
          0.8588396049480362,
          0.9105241683796113,
          0.8665083822377129,
          0,
          0.6325317294369197,
          0.9749632202667029,
          0.7634273694337913,
          0.488852703500998,
          0.9683541813306024,
          0.6144347726001685,
          0.6106021055075408,
          0.7942327017204209,
          0.9903543889006118,
          0.8909298300237722,
          0.7762892089664342,
          0.9102825362300662
         ],
         "y": [
          0.4352471220943153,
          0.4465004000177786,
          0.4792435219343082,
          0.40031779190186234,
          0.2231988088359483,
          0.438358371483177,
          0.4212270545357571,
          0.34274578870172,
          0.39402862349437756,
          0.3114832881461397,
          0.44836437174985555,
          0.48292146317614115,
          0.3099054402417884,
          0.38625327792346326,
          0.33177585670474236,
          0.32773123249922226,
          0.43387761678296816,
          0,
          0.3493599715542913,
          0.26440064002844565,
          0.3961592737454998,
          0.4353304591315169,
          0.31943364149517767,
          0.4574536646073159,
          0.15740421796524307,
          0.431502511222721,
          0.3499961109382639,
          0.24613038357260317,
          0.17433274812213856,
          0.2956798079914663
         ]
        },
        {
         "hovertemplate": "%{text}<br>Impact: %{y:.2f}<br>Stability: %{x:.2f}",
         "marker": {
          "color": "blue",
          "size": 7,
          "symbol": "circle"
         },
         "mode": "markers",
         "name": "Jowar_Yield_278 -20%",
         "text": [
          "BENGALURU",
          "BENGALURU(R)",
          "RAMANAGARA",
          "CHITRADURGA",
          "DAVANAGERE",
          "KOLAR",
          "CHIKKABALLAPURA",
          "SHIVAMOGGA",
          "TUMAKURU",
          "CHIKKAMAGALURU",
          "DAKSHINA KANNADA",
          "UDUPI",
          "HASSAN",
          "KODAGU",
          "MANDYA",
          "MYSURU",
          "CHAMARAJANAGAR",
          "BELAGAVI",
          "VIJAYAPURA",
          "BAGALKOT",
          "DHARAWAD",
          "GADAG",
          "HAVERI",
          "UTTARA KANNADA",
          "BALLARI",
          "BIDAR",
          "KALABURAGI",
          "YADGIRI",
          "RAICHUR",
          "KOPPAL"
         ],
         "type": "scatter",
         "x": [
          0.9590442729122615,
          0.9765052391752487,
          0.8222502261381798,
          0.6686503866852203,
          0.7900581835459942,
          1,
          0.9972504351838053,
          0.967812384256356,
          0.9888021812136775,
          0.8509364154879832,
          0.8095920216384357,
          0.7639456796171663,
          0.8601165048161653,
          0.9462974084736768,
          0.8588396049480362,
          0.9105241683796113,
          0.8665083822377129,
          0,
          0.6325317294369197,
          0.9749632202667029,
          0.7634273694337913,
          0.488852703500998,
          0.9683541813306024,
          0.6144347726001685,
          0.6106021055075408,
          0.7942327017204209,
          0.9903543889006118,
          0.8909298300237722,
          0.7762892089664342,
          0.9102825362300662
         ],
         "y": [
          0.4997299621972024,
          0.4997768915468006,
          0.49991343961979817,
          0.49958429701777823,
          0.49884566079699855,
          0.499742936986526,
          0.4996714945528129,
          0.4993442054921248,
          0.49955806940793124,
          0.49921383202868924,
          0.4997846648357614,
          0.4999287776743201,
          0.49920725195696086,
          0.49952564401925553,
          0.4992984577751258,
          0.4992815905490051,
          0.4997242509729734,
          0.4979148586786295,
          0.4993717885040708,
          0.49901748407846974,
          0.4995669548216912,
          0.4997303097362021,
          0.4992469872492644,
          0.49982256975599965,
          0.4985712787567042,
          0.49971434611148075,
          0.4993744413851022,
          0.4989412919450935,
          0.4986418755121846,
          0.4991479270497053
         ]
        }
       ],
       "layout": {
        "hovermode": "closest",
        "shapes": [
         {
          "line": {
           "color": "black",
           "dash": "dash"
          },
          "name": "Average Stability",
          "type": "line",
          "x0": 0.8150796080875854,
          "x1": 0.8150796080875854,
          "y0": 0,
          "y1": 1
         },
         {
          "line": {
           "color": "black",
           "dash": "dash"
          },
          "name": "Average Impact",
          "type": "line",
          "x0": 0,
          "x1": 1,
          "y0": 0.3496787820199417,
          "y1": 0.3496787820199417
         }
        ],
        "template": {
         "data": {
          "bar": [
           {
            "error_x": {
             "color": "#2a3f5f"
            },
            "error_y": {
             "color": "#2a3f5f"
            },
            "marker": {
             "line": {
              "color": "#E5ECF6",
              "width": 0.5
             },
             "pattern": {
              "fillmode": "overlay",
              "size": 10,
              "solidity": 0.2
             }
            },
            "type": "bar"
           }
          ],
          "barpolar": [
           {
            "marker": {
             "line": {
              "color": "#E5ECF6",
              "width": 0.5
             },
             "pattern": {
              "fillmode": "overlay",
              "size": 10,
              "solidity": 0.2
             }
            },
            "type": "barpolar"
           }
          ],
          "carpet": [
           {
            "aaxis": {
             "endlinecolor": "#2a3f5f",
             "gridcolor": "white",
             "linecolor": "white",
             "minorgridcolor": "white",
             "startlinecolor": "#2a3f5f"
            },
            "baxis": {
             "endlinecolor": "#2a3f5f",
             "gridcolor": "white",
             "linecolor": "white",
             "minorgridcolor": "white",
             "startlinecolor": "#2a3f5f"
            },
            "type": "carpet"
           }
          ],
          "choropleth": [
           {
            "colorbar": {
             "outlinewidth": 0,
             "ticks": ""
            },
            "type": "choropleth"
           }
          ],
          "contour": [
           {
            "colorbar": {
             "outlinewidth": 0,
             "ticks": ""
            },
            "colorscale": [
             [
              0,
              "#0d0887"
             ],
             [
              0.1111111111111111,
              "#46039f"
             ],
             [
              0.2222222222222222,
              "#7201a8"
             ],
             [
              0.3333333333333333,
              "#9c179e"
             ],
             [
              0.4444444444444444,
              "#bd3786"
             ],
             [
              0.5555555555555556,
              "#d8576b"
             ],
             [
              0.6666666666666666,
              "#ed7953"
             ],
             [
              0.7777777777777778,
              "#fb9f3a"
             ],
             [
              0.8888888888888888,
              "#fdca26"
             ],
             [
              1,
              "#f0f921"
             ]
            ],
            "type": "contour"
           }
          ],
          "contourcarpet": [
           {
            "colorbar": {
             "outlinewidth": 0,
             "ticks": ""
            },
            "type": "contourcarpet"
           }
          ],
          "heatmap": [
           {
            "colorbar": {
             "outlinewidth": 0,
             "ticks": ""
            },
            "colorscale": [
             [
              0,
              "#0d0887"
             ],
             [
              0.1111111111111111,
              "#46039f"
             ],
             [
              0.2222222222222222,
              "#7201a8"
             ],
             [
              0.3333333333333333,
              "#9c179e"
             ],
             [
              0.4444444444444444,
              "#bd3786"
             ],
             [
              0.5555555555555556,
              "#d8576b"
             ],
             [
              0.6666666666666666,
              "#ed7953"
             ],
             [
              0.7777777777777778,
              "#fb9f3a"
             ],
             [
              0.8888888888888888,
              "#fdca26"
             ],
             [
              1,
              "#f0f921"
             ]
            ],
            "type": "heatmap"
           }
          ],
          "heatmapgl": [
           {
            "colorbar": {
             "outlinewidth": 0,
             "ticks": ""
            },
            "colorscale": [
             [
              0,
              "#0d0887"
             ],
             [
              0.1111111111111111,
              "#46039f"
             ],
             [
              0.2222222222222222,
              "#7201a8"
             ],
             [
              0.3333333333333333,
              "#9c179e"
             ],
             [
              0.4444444444444444,
              "#bd3786"
             ],
             [
              0.5555555555555556,
              "#d8576b"
             ],
             [
              0.6666666666666666,
              "#ed7953"
             ],
             [
              0.7777777777777778,
              "#fb9f3a"
             ],
             [
              0.8888888888888888,
              "#fdca26"
             ],
             [
              1,
              "#f0f921"
             ]
            ],
            "type": "heatmapgl"
           }
          ],
          "histogram": [
           {
            "marker": {
             "pattern": {
              "fillmode": "overlay",
              "size": 10,
              "solidity": 0.2
             }
            },
            "type": "histogram"
           }
          ],
          "histogram2d": [
           {
            "colorbar": {
             "outlinewidth": 0,
             "ticks": ""
            },
            "colorscale": [
             [
              0,
              "#0d0887"
             ],
             [
              0.1111111111111111,
              "#46039f"
             ],
             [
              0.2222222222222222,
              "#7201a8"
             ],
             [
              0.3333333333333333,
              "#9c179e"
             ],
             [
              0.4444444444444444,
              "#bd3786"
             ],
             [
              0.5555555555555556,
              "#d8576b"
             ],
             [
              0.6666666666666666,
              "#ed7953"
             ],
             [
              0.7777777777777778,
              "#fb9f3a"
             ],
             [
              0.8888888888888888,
              "#fdca26"
             ],
             [
              1,
              "#f0f921"
             ]
            ],
            "type": "histogram2d"
           }
          ],
          "histogram2dcontour": [
           {
            "colorbar": {
             "outlinewidth": 0,
             "ticks": ""
            },
            "colorscale": [
             [
              0,
              "#0d0887"
             ],
             [
              0.1111111111111111,
              "#46039f"
             ],
             [
              0.2222222222222222,
              "#7201a8"
             ],
             [
              0.3333333333333333,
              "#9c179e"
             ],
             [
              0.4444444444444444,
              "#bd3786"
             ],
             [
              0.5555555555555556,
              "#d8576b"
             ],
             [
              0.6666666666666666,
              "#ed7953"
             ],
             [
              0.7777777777777778,
              "#fb9f3a"
             ],
             [
              0.8888888888888888,
              "#fdca26"
             ],
             [
              1,
              "#f0f921"
             ]
            ],
            "type": "histogram2dcontour"
           }
          ],
          "mesh3d": [
           {
            "colorbar": {
             "outlinewidth": 0,
             "ticks": ""
            },
            "type": "mesh3d"
           }
          ],
          "parcoords": [
           {
            "line": {
             "colorbar": {
              "outlinewidth": 0,
              "ticks": ""
             }
            },
            "type": "parcoords"
           }
          ],
          "pie": [
           {
            "automargin": true,
            "type": "pie"
           }
          ],
          "scatter": [
           {
            "fillpattern": {
             "fillmode": "overlay",
             "size": 10,
             "solidity": 0.2
            },
            "type": "scatter"
           }
          ],
          "scatter3d": [
           {
            "line": {
             "colorbar": {
              "outlinewidth": 0,
              "ticks": ""
             }
            },
            "marker": {
             "colorbar": {
              "outlinewidth": 0,
              "ticks": ""
             }
            },
            "type": "scatter3d"
           }
          ],
          "scattercarpet": [
           {
            "marker": {
             "colorbar": {
              "outlinewidth": 0,
              "ticks": ""
             }
            },
            "type": "scattercarpet"
           }
          ],
          "scattergeo": [
           {
            "marker": {
             "colorbar": {
              "outlinewidth": 0,
              "ticks": ""
             }
            },
            "type": "scattergeo"
           }
          ],
          "scattergl": [
           {
            "marker": {
             "colorbar": {
              "outlinewidth": 0,
              "ticks": ""
             }
            },
            "type": "scattergl"
           }
          ],
          "scattermapbox": [
           {
            "marker": {
             "colorbar": {
              "outlinewidth": 0,
              "ticks": ""
             }
            },
            "type": "scattermapbox"
           }
          ],
          "scatterpolar": [
           {
            "marker": {
             "colorbar": {
              "outlinewidth": 0,
              "ticks": ""
             }
            },
            "type": "scatterpolar"
           }
          ],
          "scatterpolargl": [
           {
            "marker": {
             "colorbar": {
              "outlinewidth": 0,
              "ticks": ""
             }
            },
            "type": "scatterpolargl"
           }
          ],
          "scatterternary": [
           {
            "marker": {
             "colorbar": {
              "outlinewidth": 0,
              "ticks": ""
             }
            },
            "type": "scatterternary"
           }
          ],
          "surface": [
           {
            "colorbar": {
             "outlinewidth": 0,
             "ticks": ""
            },
            "colorscale": [
             [
              0,
              "#0d0887"
             ],
             [
              0.1111111111111111,
              "#46039f"
             ],
             [
              0.2222222222222222,
              "#7201a8"
             ],
             [
              0.3333333333333333,
              "#9c179e"
             ],
             [
              0.4444444444444444,
              "#bd3786"
             ],
             [
              0.5555555555555556,
              "#d8576b"
             ],
             [
              0.6666666666666666,
              "#ed7953"
             ],
             [
              0.7777777777777778,
              "#fb9f3a"
             ],
             [
              0.8888888888888888,
              "#fdca26"
             ],
             [
              1,
              "#f0f921"
             ]
            ],
            "type": "surface"
           }
          ],
          "table": [
           {
            "cells": {
             "fill": {
              "color": "#EBF0F8"
             },
             "line": {
              "color": "white"
             }
            },
            "header": {
             "fill": {
              "color": "#C8D4E3"
             },
             "line": {
              "color": "white"
             }
            },
            "type": "table"
           }
          ]
         },
         "layout": {
          "annotationdefaults": {
           "arrowcolor": "#2a3f5f",
           "arrowhead": 0,
           "arrowwidth": 1
          },
          "autotypenumbers": "strict",
          "coloraxis": {
           "colorbar": {
            "outlinewidth": 0,
            "ticks": ""
           }
          },
          "colorscale": {
           "diverging": [
            [
             0,
             "#8e0152"
            ],
            [
             0.1,
             "#c51b7d"
            ],
            [
             0.2,
             "#de77ae"
            ],
            [
             0.3,
             "#f1b6da"
            ],
            [
             0.4,
             "#fde0ef"
            ],
            [
             0.5,
             "#f7f7f7"
            ],
            [
             0.6,
             "#e6f5d0"
            ],
            [
             0.7,
             "#b8e186"
            ],
            [
             0.8,
             "#7fbc41"
            ],
            [
             0.9,
             "#4d9221"
            ],
            [
             1,
             "#276419"
            ]
           ],
           "sequential": [
            [
             0,
             "#0d0887"
            ],
            [
             0.1111111111111111,
             "#46039f"
            ],
            [
             0.2222222222222222,
             "#7201a8"
            ],
            [
             0.3333333333333333,
             "#9c179e"
            ],
            [
             0.4444444444444444,
             "#bd3786"
            ],
            [
             0.5555555555555556,
             "#d8576b"
            ],
            [
             0.6666666666666666,
             "#ed7953"
            ],
            [
             0.7777777777777778,
             "#fb9f3a"
            ],
            [
             0.8888888888888888,
             "#fdca26"
            ],
            [
             1,
             "#f0f921"
            ]
           ],
           "sequentialminus": [
            [
             0,
             "#0d0887"
            ],
            [
             0.1111111111111111,
             "#46039f"
            ],
            [
             0.2222222222222222,
             "#7201a8"
            ],
            [
             0.3333333333333333,
             "#9c179e"
            ],
            [
             0.4444444444444444,
             "#bd3786"
            ],
            [
             0.5555555555555556,
             "#d8576b"
            ],
            [
             0.6666666666666666,
             "#ed7953"
            ],
            [
             0.7777777777777778,
             "#fb9f3a"
            ],
            [
             0.8888888888888888,
             "#fdca26"
            ],
            [
             1,
             "#f0f921"
            ]
           ]
          },
          "colorway": [
           "#636efa",
           "#EF553B",
           "#00cc96",
           "#ab63fa",
           "#FFA15A",
           "#19d3f3",
           "#FF6692",
           "#B6E880",
           "#FF97FF",
           "#FECB52"
          ],
          "font": {
           "color": "#2a3f5f"
          },
          "geo": {
           "bgcolor": "white",
           "lakecolor": "white",
           "landcolor": "#E5ECF6",
           "showlakes": true,
           "showland": true,
           "subunitcolor": "white"
          },
          "hoverlabel": {
           "align": "left"
          },
          "hovermode": "closest",
          "mapbox": {
           "style": "light"
          },
          "paper_bgcolor": "white",
          "plot_bgcolor": "#E5ECF6",
          "polar": {
           "angularaxis": {
            "gridcolor": "white",
            "linecolor": "white",
            "ticks": ""
           },
           "bgcolor": "#E5ECF6",
           "radialaxis": {
            "gridcolor": "white",
            "linecolor": "white",
            "ticks": ""
           }
          },
          "scene": {
           "xaxis": {
            "backgroundcolor": "#E5ECF6",
            "gridcolor": "white",
            "gridwidth": 2,
            "linecolor": "white",
            "showbackground": true,
            "ticks": "",
            "zerolinecolor": "white"
           },
           "yaxis": {
            "backgroundcolor": "#E5ECF6",
            "gridcolor": "white",
            "gridwidth": 2,
            "linecolor": "white",
            "showbackground": true,
            "ticks": "",
            "zerolinecolor": "white"
           },
           "zaxis": {
            "backgroundcolor": "#E5ECF6",
            "gridcolor": "white",
            "gridwidth": 2,
            "linecolor": "white",
            "showbackground": true,
            "ticks": "",
            "zerolinecolor": "white"
           }
          },
          "shapedefaults": {
           "line": {
            "color": "#2a3f5f"
           }
          },
          "ternary": {
           "aaxis": {
            "gridcolor": "white",
            "linecolor": "white",
            "ticks": ""
           },
           "baxis": {
            "gridcolor": "white",
            "linecolor": "white",
            "ticks": ""
           },
           "bgcolor": "#E5ECF6",
           "caxis": {
            "gridcolor": "white",
            "linecolor": "white",
            "ticks": ""
           }
          },
          "title": {
           "x": 0.05
          },
          "xaxis": {
           "automargin": true,
           "gridcolor": "white",
           "linecolor": "white",
           "ticks": "",
           "title": {
            "standoff": 15
           },
           "zerolinecolor": "white",
           "zerolinewidth": 2
          },
          "yaxis": {
           "automargin": true,
           "gridcolor": "white",
           "linecolor": "white",
           "ticks": "",
           "title": {
            "standoff": 15
           },
           "zerolinecolor": "white",
           "zerolinewidth": 2
          }
         }
        },
        "title": {
         "text": "Impact vs Stability (-20%)"
        },
        "xaxis": {
         "title": {
          "text": "Stability (TotalNPK_315 -20%)"
         }
        },
        "yaxis": {
         "title": {
          "text": "Normalized Impact"
         }
        }
       }
      }
     },
     "metadata": {},
     "output_type": "display_data"
    },
    {
     "data": {
      "text/html": [
       "<div>\n",
       "<style scoped>\n",
       "    .dataframe tbody tr th:only-of-type {\n",
       "        vertical-align: middle;\n",
       "    }\n",
       "\n",
       "    .dataframe tbody tr th {\n",
       "        vertical-align: top;\n",
       "    }\n",
       "\n",
       "    .dataframe thead th {\n",
       "        text-align: right;\n",
       "    }\n",
       "</style>\n",
       "<table border=\"1\" class=\"dataframe\">\n",
       "  <thead>\n",
       "    <tr style=\"text-align: right;\">\n",
       "      <th></th>\n",
       "      <th>District</th>\n",
       "      <th>Initial Stability</th>\n",
       "      <th>Rice_Production_223 (TotalNPK_315 +10%)</th>\n",
       "      <th>Rice_Production_223 (TotalNPK_315 -10%)</th>\n",
       "      <th>Normalized Rice_Production_223 (TotalNPK_315 +10%)</th>\n",
       "      <th>Normalized Rice_Production_223 (TotalNPK_315 -10%)</th>\n",
       "      <th>Impact Score Rice_Production_223 (TotalNPK_315 +10%)</th>\n",
       "      <th>Impact Score Rice_Production_223 (TotalNPK_315 -10%)</th>\n",
       "      <th>Jowar_Yield_278 (TotalNPK_315 +10%)</th>\n",
       "      <th>Jowar_Yield_278 (TotalNPK_315 -10%)</th>\n",
       "      <th>...</th>\n",
       "      <th>Impact Score Rice_Production_223 (TotalNPK_315 +20%)</th>\n",
       "      <th>Impact Score Rice_Production_223 (TotalNPK_315 -20%)</th>\n",
       "      <th>Jowar_Yield_278 (TotalNPK_315 +20%)</th>\n",
       "      <th>Jowar_Yield_278 (TotalNPK_315 -20%)</th>\n",
       "      <th>Normalized Jowar_Yield_278 (TotalNPK_315 +20%)</th>\n",
       "      <th>Normalized Jowar_Yield_278 (TotalNPK_315 -20%)</th>\n",
       "      <th>Impact Score Jowar_Yield_278 (TotalNPK_315 +20%)</th>\n",
       "      <th>Impact Score Jowar_Yield_278 (TotalNPK_315 -20%)</th>\n",
       "      <th>New Stability(NPK + 20%)_Rice_Jowar</th>\n",
       "      <th>New Stability(NPK - 20%)_Rice_Jowar</th>\n",
       "    </tr>\n",
       "  </thead>\n",
       "  <tbody>\n",
       "    <tr>\n",
       "      <th>0</th>\n",
       "      <td>BENGALURU</td>\n",
       "      <td>0.313550</td>\n",
       "      <td>68479.019211</td>\n",
       "      <td>57507.638667</td>\n",
       "      <td>0.174961</td>\n",
       "      <td>0.146752</td>\n",
       "      <td>0.532376</td>\n",
       "      <td>0.467624</td>\n",
       "      <td>616.168067</td>\n",
       "      <td>570.414310</td>\n",
       "      <td>...</td>\n",
       "      <td>0.564753</td>\n",
       "      <td>0.435247</td>\n",
       "      <td>639.044946</td>\n",
       "      <td>547.537431</td>\n",
       "      <td>0.000535</td>\n",
       "      <td>0.000300</td>\n",
       "      <td>0.500270</td>\n",
       "      <td>0.499730</td>\n",
       "      <td>0.959044</td>\n",
       "      <td>0.959044</td>\n",
       "    </tr>\n",
       "    <tr>\n",
       "      <th>1</th>\n",
       "      <td>BENGALURU(R)</td>\n",
       "      <td>0.742284</td>\n",
       "      <td>57992.196208</td>\n",
       "      <td>48927.510755</td>\n",
       "      <td>0.147998</td>\n",
       "      <td>0.124691</td>\n",
       "      <td>0.526750</td>\n",
       "      <td>0.473250</td>\n",
       "      <td>572.435052</td>\n",
       "      <td>534.632751</td>\n",
       "      <td>...</td>\n",
       "      <td>0.553500</td>\n",
       "      <td>0.446500</td>\n",
       "      <td>591.336202</td>\n",
       "      <td>515.731601</td>\n",
       "      <td>0.000413</td>\n",
       "      <td>0.000218</td>\n",
       "      <td>0.500223</td>\n",
       "      <td>0.499777</td>\n",
       "      <td>0.976505</td>\n",
       "      <td>0.976505</td>\n",
       "    </tr>\n",
       "    <tr>\n",
       "      <th>2</th>\n",
       "      <td>RAMANAGARA</td>\n",
       "      <td>0.608105</td>\n",
       "      <td>27479.191334</td>\n",
       "      <td>23962.324950</td>\n",
       "      <td>0.069545</td>\n",
       "      <td>0.060502</td>\n",
       "      <td>0.510378</td>\n",
       "      <td>0.489622</td>\n",
       "      <td>445.187197</td>\n",
       "      <td>430.520870</td>\n",
       "      <td>...</td>\n",
       "      <td>0.520756</td>\n",
       "      <td>0.479244</td>\n",
       "      <td>452.520360</td>\n",
       "      <td>423.187707</td>\n",
       "      <td>0.000056</td>\n",
       "      <td>-0.000020</td>\n",
       "      <td>0.500087</td>\n",
       "      <td>0.499913</td>\n",
       "      <td>0.822250</td>\n",
       "      <td>0.822250</td>\n",
       "    </tr>\n",
       "    <tr>\n",
       "      <th>3</th>\n",
       "      <td>CHITRADURGA</td>\n",
       "      <td>0.422882</td>\n",
       "      <td>101029.330849</td>\n",
       "      <td>84139.711825</td>\n",
       "      <td>0.258652</td>\n",
       "      <td>0.215227</td>\n",
       "      <td>0.549841</td>\n",
       "      <td>0.450159</td>\n",
       "      <td>751.912067</td>\n",
       "      <td>681.477582</td>\n",
       "      <td>...</td>\n",
       "      <td>0.599682</td>\n",
       "      <td>0.400318</td>\n",
       "      <td>787.129310</td>\n",
       "      <td>646.260340</td>\n",
       "      <td>0.000916</td>\n",
       "      <td>0.000554</td>\n",
       "      <td>0.500416</td>\n",
       "      <td>0.499584</td>\n",
       "      <td>0.668650</td>\n",
       "      <td>0.668650</td>\n",
       "    </tr>\n",
       "    <tr>\n",
       "      <th>4</th>\n",
       "      <td>DAVANAGERE</td>\n",
       "      <td>0.339007</td>\n",
       "      <td>266084.831886</td>\n",
       "      <td>219185.121765</td>\n",
       "      <td>0.683032</td>\n",
       "      <td>0.562446</td>\n",
       "      <td>0.638401</td>\n",
       "      <td>0.361599</td>\n",
       "      <td>1440.240158</td>\n",
       "      <td>1244.655111</td>\n",
       "      <td>...</td>\n",
       "      <td>0.776801</td>\n",
       "      <td>0.223199</td>\n",
       "      <td>1538.032682</td>\n",
       "      <td>1146.862588</td>\n",
       "      <td>0.002847</td>\n",
       "      <td>0.001841</td>\n",
       "      <td>0.501154</td>\n",
       "      <td>0.498846</td>\n",
       "      <td>0.790058</td>\n",
       "      <td>0.790058</td>\n",
       "    </tr>\n",
       "  </tbody>\n",
       "</table>\n",
       "<p>5 rows × 30 columns</p>\n",
       "</div>"
      ],
      "text/plain": [
       "       District  Initial Stability  Rice_Production_223 (TotalNPK_315 +10%)  \\\n",
       "0     BENGALURU           0.313550                             68479.019211   \n",
       "1  BENGALURU(R)           0.742284                             57992.196208   \n",
       "2    RAMANAGARA           0.608105                             27479.191334   \n",
       "3   CHITRADURGA           0.422882                            101029.330849   \n",
       "4    DAVANAGERE           0.339007                            266084.831886   \n",
       "\n",
       "   Rice_Production_223 (TotalNPK_315 -10%)  \\\n",
       "0                             57507.638667   \n",
       "1                             48927.510755   \n",
       "2                             23962.324950   \n",
       "3                             84139.711825   \n",
       "4                            219185.121765   \n",
       "\n",
       "   Normalized Rice_Production_223 (TotalNPK_315 +10%)  \\\n",
       "0                                           0.174961    \n",
       "1                                           0.147998    \n",
       "2                                           0.069545    \n",
       "3                                           0.258652    \n",
       "4                                           0.683032    \n",
       "\n",
       "   Normalized Rice_Production_223 (TotalNPK_315 -10%)  \\\n",
       "0                                           0.146752    \n",
       "1                                           0.124691    \n",
       "2                                           0.060502    \n",
       "3                                           0.215227    \n",
       "4                                           0.562446    \n",
       "\n",
       "   Impact Score Rice_Production_223 (TotalNPK_315 +10%)  \\\n",
       "0                                           0.532376      \n",
       "1                                           0.526750      \n",
       "2                                           0.510378      \n",
       "3                                           0.549841      \n",
       "4                                           0.638401      \n",
       "\n",
       "   Impact Score Rice_Production_223 (TotalNPK_315 -10%)  \\\n",
       "0                                           0.467624      \n",
       "1                                           0.473250      \n",
       "2                                           0.489622      \n",
       "3                                           0.450159      \n",
       "4                                           0.361599      \n",
       "\n",
       "   Jowar_Yield_278 (TotalNPK_315 +10%)  Jowar_Yield_278 (TotalNPK_315 -10%)  \\\n",
       "0                           616.168067                           570.414310   \n",
       "1                           572.435052                           534.632751   \n",
       "2                           445.187197                           430.520870   \n",
       "3                           751.912067                           681.477582   \n",
       "4                          1440.240158                          1244.655111   \n",
       "\n",
       "   ...  Impact Score Rice_Production_223 (TotalNPK_315 +20%)  \\\n",
       "0  ...                                           0.564753      \n",
       "1  ...                                           0.553500      \n",
       "2  ...                                           0.520756      \n",
       "3  ...                                           0.599682      \n",
       "4  ...                                           0.776801      \n",
       "\n",
       "   Impact Score Rice_Production_223 (TotalNPK_315 -20%)  \\\n",
       "0                                           0.435247      \n",
       "1                                           0.446500      \n",
       "2                                           0.479244      \n",
       "3                                           0.400318      \n",
       "4                                           0.223199      \n",
       "\n",
       "   Jowar_Yield_278 (TotalNPK_315 +20%)  Jowar_Yield_278 (TotalNPK_315 -20%)  \\\n",
       "0                           639.044946                           547.537431   \n",
       "1                           591.336202                           515.731601   \n",
       "2                           452.520360                           423.187707   \n",
       "3                           787.129310                           646.260340   \n",
       "4                          1538.032682                          1146.862588   \n",
       "\n",
       "   Normalized Jowar_Yield_278 (TotalNPK_315 +20%)  \\\n",
       "0                                        0.000535   \n",
       "1                                        0.000413   \n",
       "2                                        0.000056   \n",
       "3                                        0.000916   \n",
       "4                                        0.002847   \n",
       "\n",
       "   Normalized Jowar_Yield_278 (TotalNPK_315 -20%)  \\\n",
       "0                                        0.000300   \n",
       "1                                        0.000218   \n",
       "2                                       -0.000020   \n",
       "3                                        0.000554   \n",
       "4                                        0.001841   \n",
       "\n",
       "   Impact Score Jowar_Yield_278 (TotalNPK_315 +20%)  \\\n",
       "0                                          0.500270   \n",
       "1                                          0.500223   \n",
       "2                                          0.500087   \n",
       "3                                          0.500416   \n",
       "4                                          0.501154   \n",
       "\n",
       "   Impact Score Jowar_Yield_278 (TotalNPK_315 -20%)  \\\n",
       "0                                          0.499730   \n",
       "1                                          0.499777   \n",
       "2                                          0.499913   \n",
       "3                                          0.499584   \n",
       "4                                          0.498846   \n",
       "\n",
       "   New Stability(NPK + 20%)_Rice_Jowar  New Stability(NPK - 20%)_Rice_Jowar  \n",
       "0                             0.959044                             0.959044  \n",
       "1                             0.976505                             0.976505  \n",
       "2                             0.822250                             0.822250  \n",
       "3                             0.668650                             0.668650  \n",
       "4                             0.790058                             0.790058  \n",
       "\n",
       "[5 rows x 30 columns]"
      ]
     },
     "execution_count": 84,
     "metadata": {},
     "output_type": "execute_result"
    }
   ],
   "source": [
    "import statsmodels.api as sm\n",
    "import pandas as pd\n",
    "import plotly.express as px\n",
    "import plotly.graph_objects as go\n",
    "\n",
    "def calc_and_vis_impact_stability_2D(G, existing_data, adjacency_file, base_column, capability_vector, change_percentages, dim):\n",
    "    # Calculate min and max values for changes made by each column in capability_vector\n",
    "    min_value = float('inf')\n",
    "    max_value = float('-inf')\n",
    "    \n",
    "    change_min_value = float('inf')\n",
    "    change_max_value = float('-inf')\n",
    "    \n",
    "    initial_stability_column = calculate_and_return_initial_stability(df, capability_vector, G)\n",
    "    existing_data = pd.concat([existing_data, initial_stability_column], axis=1)\n",
    "\n",
    "    for intervention in change_percentages:\n",
    "        for cap_col in capability_vector:\n",
    "                # Calculate Impact Score\n",
    "            X = sm.add_constant(df[base_column])\n",
    "            y = df[cap_col]\n",
    "            model = sm.OLS(y, X).fit()\n",
    "\n",
    "            m, c = model.params[base_column], model.params['const']\n",
    "\n",
    "            base_column_increase = (1 + intervention/100) * df[base_column]\n",
    "            base_column_decrease = (1 - intervention/100) * df[base_column]\n",
    "\n",
    "            change_vector_increase = m * base_column_increase + c\n",
    "            change_vector_decrease = m * base_column_decrease + c\n",
    "            \n",
    "            # Update min and max values for each column's changes (These are the new values for each column after the intervention)\n",
    "            change_min_value = min(change_min_value, change_vector_increase.min())\n",
    "            change_max_value = max(change_max_value, change_vector_decrease.max())\n",
    "\n",
    "            change_min_value = min(change_min_value, change_vector_increase.min())\n",
    "            change_max_value = max(change_max_value, change_vector_decrease.max())\n",
    "            \n",
    "            vector_plus = change_vector_increase - m * df[base_column] - c  \n",
    "            vector_minus = change_vector_decrease - m * df[base_column] - c\n",
    "            \n",
    "            # Update min and max values for each column's changes\n",
    "            min_value = min(min_value, vector_plus.min())\n",
    "            max_value = max(max_value, vector_plus.max())\n",
    "\n",
    "            min_value = min(min_value, vector_minus.min())\n",
    "            max_value = max(max_value, vector_minus.max())\n",
    "\n",
    "\n",
    "    # print(f\"min_value: {min_value}\")\n",
    "    # print(f\"max_value: {max_value}\")\n",
    "    # print(f\"change_min_value: {change_min_value}\")\n",
    "    # print(f\"change_max_value: {change_max_value}\")    # Normalize changes manually using the calculated min and max values\n",
    "    col_pass_plus = []\n",
    "    col_pass_minus = []\n",
    "    result_df = pd.DataFrame()\n",
    "    \n",
    "    for intervention in change_percentages:\n",
    "        for cap_col in capability_vector:\n",
    "            # Calculate Impact Score\n",
    "            X = sm.add_constant(df[base_column])\n",
    "            y = df[cap_col]\n",
    "            model = sm.OLS(y, X).fit()\n",
    "\n",
    "            m, c = model.params[base_column], model.params['const']\n",
    "            base_column_increase = (1 + intervention/100) * df[base_column]\n",
    "            base_column_decrease = (1 - intervention/100) * df[base_column]\n",
    "\n",
    "            new_vector_increase = m * base_column_increase + c\n",
    "            new_vector_decrease = m * base_column_decrease + c\n",
    "            \n",
    "            vector_plus = new_vector_increase - m * df[base_column] - c  \n",
    "            vector_minus = new_vector_decrease - m * df[base_column] - c\n",
    "\n",
    "            # Normalize changes manually using the calculated min and max values\n",
    "            normalized_change_increase_vector = (vector_plus - min_value) / (max_value - min_value)\n",
    "            normalized_change_decrease_vector = (vector_minus - min_value) / (max_value - min_value)\n",
    "            \n",
    "            # scaler = MinMaxScaler()\n",
    "            # normalized_new_increase_vector = scaler.fit_transform(new_vector_increase.values.reshape(-1, 1))      \n",
    "            # normalized_new_decrease_vector = scaler.fit_transform(new_vector_decrease.values.reshape(-1, 1))  \n",
    "            \n",
    "            # new_vector_increase_val = new_vector_increase.to_numpy().reshape(-1, 1)\n",
    "            # normalized_new_increase_vector = (new_vector_increase_val - new_vector_increase_val.min()) / (new_vector_increase_val.max() - new_vector_increase_val.min())\n",
    "\n",
    "            # # For new_vector_decrease\n",
    "            # new_vector_decrease_val = new_vector_decrease.to_numpy().reshape(-1, 1)\n",
    "            # normalized_new_decrease_vector = (new_vector_decrease_val - new_vector_decrease_val.min()) / (new_vector_decrease_val.max() - new_vector_decrease_val.min())\n",
    "            \n",
    "            normalized_new_increase_vector = (new_vector_increase - change_min_value) / (change_max_value - change_min_value)\n",
    "            normalized_new_decrease_vector = (new_vector_decrease - change_min_value) / (change_max_value - change_min_value)\n",
    "            \n",
    "            result_df = pd.concat([result_df,\n",
    "                pd.DataFrame({\n",
    "                    f'{cap_col} ({base_column} +{intervention}%)': new_vector_increase,\n",
    "                    f'{cap_col} ({base_column} -{intervention}%)': new_vector_decrease,\n",
    "                    f'Normalized {cap_col} ({base_column} +{intervention}%)': normalized_new_increase_vector,\n",
    "                    f'Normalized {cap_col} ({base_column} -{intervention}%)': normalized_new_decrease_vector,\n",
    "                    f'Impact Score {cap_col} ({base_column} +{intervention}%)': normalized_change_increase_vector,\n",
    "                    f'Impact Score {cap_col} ({base_column} -{intervention}%)': normalized_change_decrease_vector,\n",
    "                })\n",
    "            ], axis=1)\n",
    "\n",
    "            result_df_1 = pd.DataFrame({\n",
    "                f'{cap_col} ({base_column} +{intervention}%)': new_vector_increase,\n",
    "                # f'{cap_col} ({base_column} -{intervention}%)': new_vector_decrease,\n",
    "                f'Normalized {cap_col} ({base_column} +{intervention}%)': normalized_new_increase_vector,\n",
    "                # f'Normalized {cap_col} ({base_column} -{intervention}%)': normalized_new_decrease_vector.flatten(),\n",
    "                # f'Impact Score {cap_col} ({base_column} +{intervention}%)': normalized_change_increase_vector,\n",
    "                # f'Impact Score {cap_col} ({base_column} -{intervention}%)': normalized_change_decrease_vector,\n",
    "            })\n",
    "\n",
    "            # Merge Columns\n",
    "            \n",
    "                \n",
    "            for column in result_df_1.columns:\n",
    "                res_df[column] = result_df_1[column]\n",
    "            # Calculate Stability and add to DataFrame\n",
    "            columns_to_pass = f'Normalized {cap_col} ({base_column} +{intervention}%)'\n",
    "            # columns_to_pass = f\"Normalized {cap_col} ({base_column} {'+' if intervention >= 0 else '-'}{abs(intervention)}%)\"\n",
    "            col_pass_plus.append(columns_to_pass)\n",
    "            \n",
    "            # Calculate Stability for the opposite intervention and add to DataFrame\n",
    "            opposite_intervention = -intervention\n",
    "            columns_to_pass_opposite = f'Normalized {cap_col} ({base_column} -{intervention}%)'\n",
    "            # columns_to_pass_opposite = f\"Normalized {cap_col} ({base_column} {'+' if opposite_intervention >= 0 else '-'}{abs(opposite_intervention)}%)\"\n",
    "            col_pass_minus.append(columns_to_pass_opposite)\n",
    "        \n",
    "        for column in result_df.columns:\n",
    "            existing_data[column] = result_df[column]\n",
    "    # print(existing_data.columns)\n",
    "    \n",
    "    # for intervention in change_percentages:\n",
    "        # Normalize stability values\n",
    "        # print(col_pass_minus)\n",
    "        # print(col_pass_plus)\n",
    "        stability_column, stability_column_name = calculate_and_map_stability(G, existing_data.copy(), adjacency_file, col_pass_plus, intervention, dim)\n",
    "\n",
    "        normalized_stability_vector = (stability_column - stability_column.min()) / (stability_column.max() - stability_column.min())\n",
    "\n",
    "        capability_first_words = [col.split('_')[0] for col in capability_vector]\n",
    "        stability_column_name_modified = stability_column_name + \"_\" + \"_\".join(capability_first_words)\n",
    "        existing_data[stability_column_name_modified] = normalized_stability_vector\n",
    "        \n",
    "        stability_column_opposite, stability_column_name_opposite = calculate_and_map_stability(G, existing_data.copy(), adjacency_file, col_pass_minus, opposite_intervention, dim)\n",
    "\n",
    "        # Normalize stability values for the opposite intervention\n",
    "        normalized_stability_vector_opposite = (stability_column_opposite - stability_column_opposite.min()) / (stability_column_opposite.max() - stability_column_opposite.min())    \n",
    "        stability_column_name_opposite_modified = stability_column_name_opposite + \"_\" + \"_\".join(capability_first_words)\n",
    "        existing_data[stability_column_name_opposite_modified] = normalized_stability_vector_opposite\n",
    "        \n",
    "        # Visualize with Plotly for +intervention\n",
    "        fig_increase = go.Figure()\n",
    "        color_palette = ['red', 'blue', 'green', 'orange', 'purple']  # Add more colors if needed\n",
    "        # print(existing_data.columns)\n",
    "\n",
    "        for i, cap_col in enumerate(capability_vector):\n",
    "            symbol = 'star' if i == 0 else 'circle'  # Use 'star' for the first point, 'circle' for others\n",
    "            scatter_increase = go.Scatter(\n",
    "                x=existing_data[stability_column_name_modified],\n",
    "                y=existing_data[f\"Impact Score {cap_col} ({base_column} +{abs(intervention)}%)\"],\n",
    "                mode='markers',\n",
    "                marker=dict(size=7, symbol=symbol, color=color_palette[i]),  # Adjust the size and add symbol parameter\n",
    "                name=f'{cap_col} +{intervention}%',\n",
    "                text=existing_data['District'],\n",
    "                hovertemplate='%{text}' + '<br>Impact: %{y:.2f}' + '<br>Stability: %{x:.2f}'\n",
    "            )\n",
    "            fig_increase.add_trace(scatter_increase)\n",
    "        \n",
    "        # Add average lines\n",
    "        # print(\"aefawefaw\")\n",
    "        avg_stability_increase = existing_data[stability_column_name_modified].mean()\n",
    "        avg_impact_increase = existing_data[f\"Impact Score {capability_vector[0]} ({base_column} {'+' if intervention >= 0 else '-'}{abs(intervention)}%)\"].mean()\n",
    "\n",
    "        fig_increase.add_shape(\n",
    "            go.layout.Shape(\n",
    "                type=\"line\",\n",
    "                x0=avg_stability_increase,\n",
    "                x1=avg_stability_increase,\n",
    "                y0=0,\n",
    "                y1=1,\n",
    "                line=dict(color=\"black\", dash=\"dash\"),\n",
    "                name=\"Average Stability\"\n",
    "            )\n",
    "        )\n",
    "        fig_increase.add_shape(\n",
    "            go.layout.Shape(\n",
    "                type=\"line\",\n",
    "                x0=0,\n",
    "                x1=1,\n",
    "                y0=avg_impact_increase,\n",
    "                y1=avg_impact_increase,\n",
    "                line=dict(color=\"black\", dash=\"dash\"),\n",
    "                name=\"Average Impact\"\n",
    "            )\n",
    "        )\n",
    "\n",
    "        # Update layout for +intervention plot\n",
    "        fig_increase.update_layout(\n",
    "            title=f'Impact vs Stability (+{intervention}%)',\n",
    "            xaxis=dict(title=f'Stability ({base_column} +{intervention}%)'),\n",
    "            yaxis=dict(title='Normalized Impact'),\n",
    "            hovermode='closest'\n",
    "        )\n",
    "\n",
    "        # Visualize with Plotly for -intervention\n",
    "        fig_decrease = go.Figure()\n",
    "\n",
    "        for i, cap_col in enumerate(capability_vector):\n",
    "            # Scatter plot for -intervention\n",
    "            symbol = 'star' if i == 0 else 'circle'\n",
    "            scatter_decrease = go.Scatter(\n",
    "                x=existing_data[stability_column_name_opposite_modified],\n",
    "                y=existing_data[f\"Impact Score {cap_col} ({base_column} {'+' if intervention <= 0 else '-'}{abs(intervention)}%)\"],\n",
    "                mode='markers',\n",
    "                marker=dict(size=7,symbol=symbol, color=color_palette[i]),\n",
    "                name=f'{cap_col} -{intervention}%',\n",
    "                text=existing_data['District'],\n",
    "                hovertemplate='%{text}' + '<br>Impact: %{y:.2f}' + '<br>Stability: %{x:.2f}'\n",
    "            )\n",
    "\n",
    "            fig_decrease.add_trace(scatter_decrease)\n",
    "\n",
    "        # Add average lines for -intervention\n",
    "        avg_stability_decrease = existing_data[stability_column_name_opposite_modified].mean()\n",
    "        avg_impact_decrease = existing_data[f\"Impact Score {capability_vector[0]} ({base_column} {'+' if intervention <= 0 else '-'}{abs(intervention)}%)\"].mean()\n",
    "\n",
    "        fig_decrease.add_shape(\n",
    "            go.layout.Shape(\n",
    "                type=\"line\",\n",
    "                x0=avg_stability_decrease,\n",
    "                x1=avg_stability_decrease,\n",
    "                y0=0,\n",
    "                y1=1,\n",
    "                line=dict(color=\"black\", dash=\"dash\"),\n",
    "                name=\"Average Stability\"\n",
    "            )\n",
    "        )\n",
    "        fig_decrease.add_shape(\n",
    "            go.layout.Shape(\n",
    "                type=\"line\",\n",
    "                x0=0,\n",
    "                x1=1,\n",
    "                y0=avg_impact_decrease,\n",
    "                y1=avg_impact_decrease,\n",
    "                line=dict(color=\"black\", dash=\"dash\"),\n",
    "                name=\"Average Impact\"\n",
    "            )\n",
    "        )\n",
    "\n",
    "        # Update layout for -intervention plot\n",
    "        fig_decrease.update_layout(\n",
    "            title=f'Impact vs Stability (-{intervention}%)',\n",
    "            xaxis=dict(title=f'Stability ({base_column} -{intervention}%)'),\n",
    "            yaxis=dict(title='Normalized Impact'),\n",
    "            hovermode='closest'\n",
    "        )\n",
    "\n",
    "        # Show plots\n",
    "        fig_increase.show()\n",
    "        fig_decrease.show()\n",
    "\n",
    "    return existing_data, result_df\n",
    "\n",
    "base_column = \"TotalNPK_315\"\n",
    "capability_vector = [\"Rice_Production_223\", \"Jowar_Yield_278\"]\n",
    "# change_percentage = 20\n",
    "change_percentages = [10,20]\n",
    "dim = len(capability_vector)\n",
    "\n",
    "new_data_1,result_df = calc_and_vis_impact_stability_2D(G, existing_data.copy(), adjacency_file, base_column, capability_vector, change_percentages, dim)\n",
    "new_data_1.head()"
   ]
  },
  {
   "cell_type": "code",
   "execution_count": null,
   "metadata": {},
   "outputs": [],
   "source": [
    "        # fig = make_subplots(rows=1, cols=len(capability_vector), subplot_titles=[f'{cap_col} ({base_column} {intervention:+}%)' for cap_col in capability_vector])\n",
    "\n",
    "        # for j, cap_col in enumerate(capability_vector):\n",
    "        #     # Scatter plot for +intervention\n",
    "        #     scatter_increase = go.Scatter(\n",
    "        #         x=existing_data[stability_column_name_modified],\n",
    "        #         y=existing_data[f\"Impact Score {cap_col} ({base_column} +{intervention}%)\"],\n",
    "        #         mode='markers',\n",
    "        #         marker=dict(size=10, color='red'),  # Adjust color if needed\n",
    "        #         name=f'{cap_col} +{intervention}%',\n",
    "        #         text=existing_data['District'],\n",
    "        #         hovertemplate='%{text}' + '<br>Impact: %{y:.2f}' + '<br>Stability: %{x:.2f}'\n",
    "        #     )\n",
    "\n",
    "        #     # Scatter plot for -intervention\n",
    "        #     scatter_decrease = go.Scatter(\n",
    "        #         x=existing_data[stability_column_name_opposite_modified],\n",
    "        #         y=existing_data[f\"Impact Score {cap_col} ({base_column} -{intervention}%)\"],\n",
    "        #         mode='markers',\n",
    "        #         marker=dict(size=10, color='blue'),  # Adjust color if needed\n",
    "        #         name=f'{cap_col} -{intervention}%',\n",
    "        #         text=existing_data['District'],\n",
    "        #         hovertemplate='%{text}' + '<br>Impact: %{y:.2f}' + '<br>Stability: %{x:.2f}'\n",
    "        #     )\n",
    "\n",
    "        #     # Add subplots\n",
    "        #     fig.add_trace(scatter_increase, row=1, col=j+1)\n",
    "        #     fig.add_trace(scatter_decrease, row=1, col=j+1)\n",
    "\n",
    "        # # Update layout for each intervention plot\n",
    "        # fig.update_layout(\n",
    "        #     title=f'Impact vs Stability for {intervention}%',\n",
    "        #     xaxis=dict(title=f'Stability ({base_column} {intervention}%)'),\n",
    "        #     yaxis=dict(title='Impact'),\n",
    "        #     showlegend=False\n",
    "        # )\n",
    "\n",
    "        # # Show the plot\n",
    "        # fig.show()"
   ]
  },
  {
   "cell_type": "code",
   "execution_count": 32,
   "metadata": {},
   "outputs": [
    {
     "name": "stdout",
     "output_type": "stream",
     "text": [
      "['Normalized Rice_Production_223 (TotalNPK_315 -10%)', 'Normalized Jowar_Yield_278 (TotalNPK_315 -10%)']\n",
      "['Normalized Rice_Production_223 (TotalNPK_315 +10%)', 'Normalized Jowar_Yield_278 (TotalNPK_315 +10%)']\n"
     ]
    },
    {
     "data": {
      "application/vnd.plotly.v1+json": {
       "config": {
        "plotlyServerURL": "https://plot.ly"
       },
       "data": [
        {
         "hovertemplate": "%{text}<br>Impact: %{y:.2f}<br>Stability: %{x:.2f}",
         "marker": {
          "color": "red",
          "size": 7,
          "symbol": "star"
         },
         "mode": "markers",
         "name": "Rice_Production_223 +10%",
         "text": [
          "BENGALURU",
          "BENGALURU(R)",
          "RAMANAGARA",
          "CHITRADURGA",
          "DAVANAGERE",
          "KOLAR",
          "CHIKKABALLAPURA",
          "SHIVAMOGGA",
          "TUMAKURU",
          "CHIKKAMAGALURU",
          "DAKSHINA KANNADA",
          "UDUPI",
          "HASSAN",
          "KODAGU",
          "MANDYA",
          "MYSURU",
          "CHAMARAJANAGAR",
          "BELAGAVI",
          "VIJAYAPURA",
          "BAGALKOT",
          "DHARAWAD",
          "GADAG",
          "HAVERI",
          "UTTARA KANNADA",
          "BALLARI",
          "BIDAR",
          "KALABURAGI",
          "YADGIRI",
          "RAICHUR",
          "KOPPAL"
         ],
         "type": "scatter",
         "x": [
          0.9590442729122615,
          0.9765052391752488,
          0.8222502261381797,
          0.66865038668522,
          0.7900581835459942,
          1,
          0.9972504351838053,
          0.967812384256356,
          0.9888021812136775,
          0.850936415487983,
          0.8095920216384358,
          0.7639456796171663,
          0.8601165048161654,
          0.9462974084736768,
          0.8588396049480361,
          0.9105241683796111,
          0.866508382237713,
          0,
          0.6325317294369197,
          0.9749632202667029,
          0.7634273694337913,
          0.48885270350099774,
          0.9683541813306025,
          0.6144347726001685,
          0.6106021055075406,
          0.7942327017204209,
          0.990354388900612,
          0.8909298300237721,
          0.7762892089664342,
          0.9102825362300664
         ],
         "y": [
          0.12938174089698393,
          0.10687197865482277,
          0.04137640532765517,
          0.1992503536920806,
          0.5535387863161739,
          0.12315835563131607,
          0.15742587075039985,
          0.3144107640768726,
          0.21183048247910927,
          0.37694467280886085,
          0.10314350408940923,
          0.03401947488859775,
          0.38010081819359276,
          0.22738338904929176,
          0.3363537537323391,
          0.344444154577708,
          0.1321211417326754,
          1,
          0.3011805137933418,
          0.4711233842979732,
          0.2075685748909244,
          0.1292150430773679,
          0.36104170081748493,
          0.08496232856327929,
          0.6851467149030902,
          0.13687202959173425,
          0.29990805377027174,
          0.5076691029518101,
          0.6512848311450709,
          0.40855613600206153
         ]
        },
        {
         "hovertemplate": "%{text}<br>Impact: %{y:.2f}<br>Stability: %{x:.2f}",
         "marker": {
          "color": "blue",
          "size": 7,
          "symbol": "circle"
         },
         "mode": "markers",
         "name": "Jowar_Yield_278 +10%",
         "text": [
          "BENGALURU",
          "BENGALURU(R)",
          "RAMANAGARA",
          "CHITRADURGA",
          "DAVANAGERE",
          "KOLAR",
          "CHIKKABALLAPURA",
          "SHIVAMOGGA",
          "TUMAKURU",
          "CHIKKAMAGALURU",
          "DAKSHINA KANNADA",
          "UDUPI",
          "HASSAN",
          "KODAGU",
          "MANDYA",
          "MYSURU",
          "CHAMARAJANAGAR",
          "BELAGAVI",
          "VIJAYAPURA",
          "BAGALKOT",
          "DHARAWAD",
          "GADAG",
          "HAVERI",
          "UTTARA KANNADA",
          "BALLARI",
          "BIDAR",
          "KALABURAGI",
          "YADGIRI",
          "RAICHUR",
          "KOPPAL"
         ],
         "type": "scatter",
         "x": [
          0.9590442729122615,
          0.9765052391752488,
          0.8222502261381797,
          0.66865038668522,
          0.7900581835459942,
          1,
          0.9972504351838053,
          0.967812384256356,
          0.9888021812136775,
          0.850936415487983,
          0.8095920216384358,
          0.7639456796171663,
          0.8601165048161654,
          0.9462974084736768,
          0.8588396049480361,
          0.9105241683796111,
          0.866508382237713,
          0,
          0.6325317294369197,
          0.9749632202667029,
          0.7634273694337913,
          0.48885270350099774,
          0.9683541813306025,
          0.6144347726001685,
          0.6106021055075406,
          0.7942327017204209,
          0.990354388900612,
          0.8909298300237721,
          0.7762892089664342,
          0.9102825362300664
         ],
         "y": [
          0.0003976876027072152,
          0.0003038155319365056,
          0.0000306804793138541,
          0.0006890594659189946,
          0.002166542367015145,
          0.0003717343271547119,
          0.0005146395506656886,
          0.0011693109264776173,
          0.0007415221586429873,
          0.0014300950006453745,
          0.00028826673917246013,
          0,
          0.001443257018961288,
          0.000806382174956793,
          0.001260819395367655,
          0.0012945586535859136,
          0.0004091116784638106,
          0.004028411817097863,
          0.0011141370433610889,
          0.001822846846484127,
          0.0007237487994030136,
          0.0003969924256834893,
          0.0013637751125817436,
          0.0002124460984512159,
          0.0027153846272482502,
          0.00042892422364005137,
          0.0011088305254132974,
          0.001975252822652716,
          0.0025741710011616755,
          0.0015619237369116235
         ]
        }
       ],
       "layout": {
        "hovermode": "closest",
        "shapes": [
         {
          "line": {
           "color": "black",
           "dash": "dash"
          },
          "name": "Average Stability",
          "type": "line",
          "x0": 0.8150796080875853,
          "x1": 0.8150796080875853,
          "y0": 0,
          "y1": 1
         },
         {
          "line": {
           "color": "black",
           "dash": "dash"
          },
          "name": "Average Impact",
          "type": "line",
          "x0": 0,
          "x1": 1,
          "y0": 0.30054280202341005,
          "y1": 0.30054280202341005
         }
        ],
        "template": {
         "data": {
          "bar": [
           {
            "error_x": {
             "color": "#2a3f5f"
            },
            "error_y": {
             "color": "#2a3f5f"
            },
            "marker": {
             "line": {
              "color": "#E5ECF6",
              "width": 0.5
             },
             "pattern": {
              "fillmode": "overlay",
              "size": 10,
              "solidity": 0.2
             }
            },
            "type": "bar"
           }
          ],
          "barpolar": [
           {
            "marker": {
             "line": {
              "color": "#E5ECF6",
              "width": 0.5
             },
             "pattern": {
              "fillmode": "overlay",
              "size": 10,
              "solidity": 0.2
             }
            },
            "type": "barpolar"
           }
          ],
          "carpet": [
           {
            "aaxis": {
             "endlinecolor": "#2a3f5f",
             "gridcolor": "white",
             "linecolor": "white",
             "minorgridcolor": "white",
             "startlinecolor": "#2a3f5f"
            },
            "baxis": {
             "endlinecolor": "#2a3f5f",
             "gridcolor": "white",
             "linecolor": "white",
             "minorgridcolor": "white",
             "startlinecolor": "#2a3f5f"
            },
            "type": "carpet"
           }
          ],
          "choropleth": [
           {
            "colorbar": {
             "outlinewidth": 0,
             "ticks": ""
            },
            "type": "choropleth"
           }
          ],
          "contour": [
           {
            "colorbar": {
             "outlinewidth": 0,
             "ticks": ""
            },
            "colorscale": [
             [
              0,
              "#0d0887"
             ],
             [
              0.1111111111111111,
              "#46039f"
             ],
             [
              0.2222222222222222,
              "#7201a8"
             ],
             [
              0.3333333333333333,
              "#9c179e"
             ],
             [
              0.4444444444444444,
              "#bd3786"
             ],
             [
              0.5555555555555556,
              "#d8576b"
             ],
             [
              0.6666666666666666,
              "#ed7953"
             ],
             [
              0.7777777777777778,
              "#fb9f3a"
             ],
             [
              0.8888888888888888,
              "#fdca26"
             ],
             [
              1,
              "#f0f921"
             ]
            ],
            "type": "contour"
           }
          ],
          "contourcarpet": [
           {
            "colorbar": {
             "outlinewidth": 0,
             "ticks": ""
            },
            "type": "contourcarpet"
           }
          ],
          "heatmap": [
           {
            "colorbar": {
             "outlinewidth": 0,
             "ticks": ""
            },
            "colorscale": [
             [
              0,
              "#0d0887"
             ],
             [
              0.1111111111111111,
              "#46039f"
             ],
             [
              0.2222222222222222,
              "#7201a8"
             ],
             [
              0.3333333333333333,
              "#9c179e"
             ],
             [
              0.4444444444444444,
              "#bd3786"
             ],
             [
              0.5555555555555556,
              "#d8576b"
             ],
             [
              0.6666666666666666,
              "#ed7953"
             ],
             [
              0.7777777777777778,
              "#fb9f3a"
             ],
             [
              0.8888888888888888,
              "#fdca26"
             ],
             [
              1,
              "#f0f921"
             ]
            ],
            "type": "heatmap"
           }
          ],
          "heatmapgl": [
           {
            "colorbar": {
             "outlinewidth": 0,
             "ticks": ""
            },
            "colorscale": [
             [
              0,
              "#0d0887"
             ],
             [
              0.1111111111111111,
              "#46039f"
             ],
             [
              0.2222222222222222,
              "#7201a8"
             ],
             [
              0.3333333333333333,
              "#9c179e"
             ],
             [
              0.4444444444444444,
              "#bd3786"
             ],
             [
              0.5555555555555556,
              "#d8576b"
             ],
             [
              0.6666666666666666,
              "#ed7953"
             ],
             [
              0.7777777777777778,
              "#fb9f3a"
             ],
             [
              0.8888888888888888,
              "#fdca26"
             ],
             [
              1,
              "#f0f921"
             ]
            ],
            "type": "heatmapgl"
           }
          ],
          "histogram": [
           {
            "marker": {
             "pattern": {
              "fillmode": "overlay",
              "size": 10,
              "solidity": 0.2
             }
            },
            "type": "histogram"
           }
          ],
          "histogram2d": [
           {
            "colorbar": {
             "outlinewidth": 0,
             "ticks": ""
            },
            "colorscale": [
             [
              0,
              "#0d0887"
             ],
             [
              0.1111111111111111,
              "#46039f"
             ],
             [
              0.2222222222222222,
              "#7201a8"
             ],
             [
              0.3333333333333333,
              "#9c179e"
             ],
             [
              0.4444444444444444,
              "#bd3786"
             ],
             [
              0.5555555555555556,
              "#d8576b"
             ],
             [
              0.6666666666666666,
              "#ed7953"
             ],
             [
              0.7777777777777778,
              "#fb9f3a"
             ],
             [
              0.8888888888888888,
              "#fdca26"
             ],
             [
              1,
              "#f0f921"
             ]
            ],
            "type": "histogram2d"
           }
          ],
          "histogram2dcontour": [
           {
            "colorbar": {
             "outlinewidth": 0,
             "ticks": ""
            },
            "colorscale": [
             [
              0,
              "#0d0887"
             ],
             [
              0.1111111111111111,
              "#46039f"
             ],
             [
              0.2222222222222222,
              "#7201a8"
             ],
             [
              0.3333333333333333,
              "#9c179e"
             ],
             [
              0.4444444444444444,
              "#bd3786"
             ],
             [
              0.5555555555555556,
              "#d8576b"
             ],
             [
              0.6666666666666666,
              "#ed7953"
             ],
             [
              0.7777777777777778,
              "#fb9f3a"
             ],
             [
              0.8888888888888888,
              "#fdca26"
             ],
             [
              1,
              "#f0f921"
             ]
            ],
            "type": "histogram2dcontour"
           }
          ],
          "mesh3d": [
           {
            "colorbar": {
             "outlinewidth": 0,
             "ticks": ""
            },
            "type": "mesh3d"
           }
          ],
          "parcoords": [
           {
            "line": {
             "colorbar": {
              "outlinewidth": 0,
              "ticks": ""
             }
            },
            "type": "parcoords"
           }
          ],
          "pie": [
           {
            "automargin": true,
            "type": "pie"
           }
          ],
          "scatter": [
           {
            "fillpattern": {
             "fillmode": "overlay",
             "size": 10,
             "solidity": 0.2
            },
            "type": "scatter"
           }
          ],
          "scatter3d": [
           {
            "line": {
             "colorbar": {
              "outlinewidth": 0,
              "ticks": ""
             }
            },
            "marker": {
             "colorbar": {
              "outlinewidth": 0,
              "ticks": ""
             }
            },
            "type": "scatter3d"
           }
          ],
          "scattercarpet": [
           {
            "marker": {
             "colorbar": {
              "outlinewidth": 0,
              "ticks": ""
             }
            },
            "type": "scattercarpet"
           }
          ],
          "scattergeo": [
           {
            "marker": {
             "colorbar": {
              "outlinewidth": 0,
              "ticks": ""
             }
            },
            "type": "scattergeo"
           }
          ],
          "scattergl": [
           {
            "marker": {
             "colorbar": {
              "outlinewidth": 0,
              "ticks": ""
             }
            },
            "type": "scattergl"
           }
          ],
          "scattermapbox": [
           {
            "marker": {
             "colorbar": {
              "outlinewidth": 0,
              "ticks": ""
             }
            },
            "type": "scattermapbox"
           }
          ],
          "scatterpolar": [
           {
            "marker": {
             "colorbar": {
              "outlinewidth": 0,
              "ticks": ""
             }
            },
            "type": "scatterpolar"
           }
          ],
          "scatterpolargl": [
           {
            "marker": {
             "colorbar": {
              "outlinewidth": 0,
              "ticks": ""
             }
            },
            "type": "scatterpolargl"
           }
          ],
          "scatterternary": [
           {
            "marker": {
             "colorbar": {
              "outlinewidth": 0,
              "ticks": ""
             }
            },
            "type": "scatterternary"
           }
          ],
          "surface": [
           {
            "colorbar": {
             "outlinewidth": 0,
             "ticks": ""
            },
            "colorscale": [
             [
              0,
              "#0d0887"
             ],
             [
              0.1111111111111111,
              "#46039f"
             ],
             [
              0.2222222222222222,
              "#7201a8"
             ],
             [
              0.3333333333333333,
              "#9c179e"
             ],
             [
              0.4444444444444444,
              "#bd3786"
             ],
             [
              0.5555555555555556,
              "#d8576b"
             ],
             [
              0.6666666666666666,
              "#ed7953"
             ],
             [
              0.7777777777777778,
              "#fb9f3a"
             ],
             [
              0.8888888888888888,
              "#fdca26"
             ],
             [
              1,
              "#f0f921"
             ]
            ],
            "type": "surface"
           }
          ],
          "table": [
           {
            "cells": {
             "fill": {
              "color": "#EBF0F8"
             },
             "line": {
              "color": "white"
             }
            },
            "header": {
             "fill": {
              "color": "#C8D4E3"
             },
             "line": {
              "color": "white"
             }
            },
            "type": "table"
           }
          ]
         },
         "layout": {
          "annotationdefaults": {
           "arrowcolor": "#2a3f5f",
           "arrowhead": 0,
           "arrowwidth": 1
          },
          "autotypenumbers": "strict",
          "coloraxis": {
           "colorbar": {
            "outlinewidth": 0,
            "ticks": ""
           }
          },
          "colorscale": {
           "diverging": [
            [
             0,
             "#8e0152"
            ],
            [
             0.1,
             "#c51b7d"
            ],
            [
             0.2,
             "#de77ae"
            ],
            [
             0.3,
             "#f1b6da"
            ],
            [
             0.4,
             "#fde0ef"
            ],
            [
             0.5,
             "#f7f7f7"
            ],
            [
             0.6,
             "#e6f5d0"
            ],
            [
             0.7,
             "#b8e186"
            ],
            [
             0.8,
             "#7fbc41"
            ],
            [
             0.9,
             "#4d9221"
            ],
            [
             1,
             "#276419"
            ]
           ],
           "sequential": [
            [
             0,
             "#0d0887"
            ],
            [
             0.1111111111111111,
             "#46039f"
            ],
            [
             0.2222222222222222,
             "#7201a8"
            ],
            [
             0.3333333333333333,
             "#9c179e"
            ],
            [
             0.4444444444444444,
             "#bd3786"
            ],
            [
             0.5555555555555556,
             "#d8576b"
            ],
            [
             0.6666666666666666,
             "#ed7953"
            ],
            [
             0.7777777777777778,
             "#fb9f3a"
            ],
            [
             0.8888888888888888,
             "#fdca26"
            ],
            [
             1,
             "#f0f921"
            ]
           ],
           "sequentialminus": [
            [
             0,
             "#0d0887"
            ],
            [
             0.1111111111111111,
             "#46039f"
            ],
            [
             0.2222222222222222,
             "#7201a8"
            ],
            [
             0.3333333333333333,
             "#9c179e"
            ],
            [
             0.4444444444444444,
             "#bd3786"
            ],
            [
             0.5555555555555556,
             "#d8576b"
            ],
            [
             0.6666666666666666,
             "#ed7953"
            ],
            [
             0.7777777777777778,
             "#fb9f3a"
            ],
            [
             0.8888888888888888,
             "#fdca26"
            ],
            [
             1,
             "#f0f921"
            ]
           ]
          },
          "colorway": [
           "#636efa",
           "#EF553B",
           "#00cc96",
           "#ab63fa",
           "#FFA15A",
           "#19d3f3",
           "#FF6692",
           "#B6E880",
           "#FF97FF",
           "#FECB52"
          ],
          "font": {
           "color": "#2a3f5f"
          },
          "geo": {
           "bgcolor": "white",
           "lakecolor": "white",
           "landcolor": "#E5ECF6",
           "showlakes": true,
           "showland": true,
           "subunitcolor": "white"
          },
          "hoverlabel": {
           "align": "left"
          },
          "hovermode": "closest",
          "mapbox": {
           "style": "light"
          },
          "paper_bgcolor": "white",
          "plot_bgcolor": "#E5ECF6",
          "polar": {
           "angularaxis": {
            "gridcolor": "white",
            "linecolor": "white",
            "ticks": ""
           },
           "bgcolor": "#E5ECF6",
           "radialaxis": {
            "gridcolor": "white",
            "linecolor": "white",
            "ticks": ""
           }
          },
          "scene": {
           "xaxis": {
            "backgroundcolor": "#E5ECF6",
            "gridcolor": "white",
            "gridwidth": 2,
            "linecolor": "white",
            "showbackground": true,
            "ticks": "",
            "zerolinecolor": "white"
           },
           "yaxis": {
            "backgroundcolor": "#E5ECF6",
            "gridcolor": "white",
            "gridwidth": 2,
            "linecolor": "white",
            "showbackground": true,
            "ticks": "",
            "zerolinecolor": "white"
           },
           "zaxis": {
            "backgroundcolor": "#E5ECF6",
            "gridcolor": "white",
            "gridwidth": 2,
            "linecolor": "white",
            "showbackground": true,
            "ticks": "",
            "zerolinecolor": "white"
           }
          },
          "shapedefaults": {
           "line": {
            "color": "#2a3f5f"
           }
          },
          "ternary": {
           "aaxis": {
            "gridcolor": "white",
            "linecolor": "white",
            "ticks": ""
           },
           "baxis": {
            "gridcolor": "white",
            "linecolor": "white",
            "ticks": ""
           },
           "bgcolor": "#E5ECF6",
           "caxis": {
            "gridcolor": "white",
            "linecolor": "white",
            "ticks": ""
           }
          },
          "title": {
           "x": 0.05
          },
          "xaxis": {
           "automargin": true,
           "gridcolor": "white",
           "linecolor": "white",
           "ticks": "",
           "title": {
            "standoff": 15
           },
           "zerolinecolor": "white",
           "zerolinewidth": 2
          },
          "yaxis": {
           "automargin": true,
           "gridcolor": "white",
           "linecolor": "white",
           "ticks": "",
           "title": {
            "standoff": 15
           },
           "zerolinecolor": "white",
           "zerolinewidth": 2
          }
         }
        },
        "title": {
         "text": "Impact vs Stability (+10%)"
        },
        "xaxis": {
         "title": {
          "text": "Stability (TotalNPK_315 +10%)"
         }
        },
        "yaxis": {
         "title": {
          "text": "Normalized Impact"
         }
        }
       }
      }
     },
     "metadata": {},
     "output_type": "display_data"
    },
    {
     "data": {
      "application/vnd.plotly.v1+json": {
       "config": {
        "plotlyServerURL": "https://plot.ly"
       },
       "data": [
        {
         "hovertemplate": "%{text}<br>Impact: %{y:.2f}<br>Stability: %{x:.2f}",
         "marker": {
          "color": "red",
          "size": 7,
          "symbol": "star"
         },
         "mode": "markers",
         "name": "Rice_Production_223 -10%",
         "text": [
          "BENGALURU",
          "BENGALURU(R)",
          "RAMANAGARA",
          "CHITRADURGA",
          "DAVANAGERE",
          "KOLAR",
          "CHIKKABALLAPURA",
          "SHIVAMOGGA",
          "TUMAKURU",
          "CHIKKAMAGALURU",
          "DAKSHINA KANNADA",
          "UDUPI",
          "HASSAN",
          "KODAGU",
          "MANDYA",
          "MYSURU",
          "CHAMARAJANAGAR",
          "BELAGAVI",
          "VIJAYAPURA",
          "BAGALKOT",
          "DHARAWAD",
          "GADAG",
          "HAVERI",
          "UTTARA KANNADA",
          "BALLARI",
          "BIDAR",
          "KALABURAGI",
          "YADGIRI",
          "RAICHUR",
          "KOPPAL"
         ],
         "type": "scatter",
         "x": [
          0.9590442729122615,
          0.9765052391752487,
          0.8222502261381797,
          0.66865038668522,
          0.7900581835459942,
          1,
          0.9972504351838052,
          0.9678123842563559,
          0.9888021812136775,
          0.8509364154879833,
          0.8095920216384357,
          0.7639456796171661,
          0.8601165048161652,
          0.9462974084736768,
          0.8588396049480362,
          0.9105241683796111,
          0.8665083822377129,
          0,
          0.6325317294369196,
          0.9749632202667028,
          0.7634273694337914,
          0.48885270350099763,
          0.9683541813306025,
          0.6144347726001685,
          0.6106021055075408,
          0.7942327017204209,
          0.9903543889006119,
          0.8909298300237722,
          0.7762892089664342,
          0.9102825362300663
         ],
         "y": [
          0.8706182591030157,
          0.8931280213451777,
          0.9586235946723446,
          0.8007496463079194,
          0.4464612136838247,
          0.8768416443686838,
          0.8425741292495996,
          0.6855892359231267,
          0.7881695175208908,
          0.6230553271911388,
          0.8968564959105907,
          0.9659805251114022,
          0.6198991818064075,
          0.772616610950708,
          0.6636462462676604,
          0.6555558454222923,
          0.8678788582673245,
          0,
          0.6988194862066589,
          0.5288766157020269,
          0.7924314251090757,
          0.8707849569226321,
          0.6389582991825153,
          0.9150376714367204,
          0.3148532850969103,
          0.8631279704082656,
          0.7000919462297279,
          0.49233089704818994,
          0.3487151688549283,
          0.591443863997938
         ]
        },
        {
         "hovertemplate": "%{text}<br>Impact: %{y:.2f}<br>Stability: %{x:.2f}",
         "marker": {
          "color": "blue",
          "size": 7,
          "symbol": "circle"
         },
         "mode": "markers",
         "name": "Jowar_Yield_278 -10%",
         "text": [
          "BENGALURU",
          "BENGALURU(R)",
          "RAMANAGARA",
          "CHITRADURGA",
          "DAVANAGERE",
          "KOLAR",
          "CHIKKABALLAPURA",
          "SHIVAMOGGA",
          "TUMAKURU",
          "CHIKKAMAGALURU",
          "DAKSHINA KANNADA",
          "UDUPI",
          "HASSAN",
          "KODAGU",
          "MANDYA",
          "MYSURU",
          "CHAMARAJANAGAR",
          "BELAGAVI",
          "VIJAYAPURA",
          "BAGALKOT",
          "DHARAWAD",
          "GADAG",
          "HAVERI",
          "UTTARA KANNADA",
          "BALLARI",
          "BIDAR",
          "KALABURAGI",
          "YADGIRI",
          "RAICHUR",
          "KOPPAL"
         ],
         "type": "scatter",
         "x": [
          0.9590442729122615,
          0.9765052391752487,
          0.8222502261381797,
          0.66865038668522,
          0.7900581835459942,
          1,
          0.9972504351838052,
          0.9678123842563559,
          0.9888021812136775,
          0.8509364154879833,
          0.8095920216384357,
          0.7639456796171661,
          0.8601165048161652,
          0.9462974084736768,
          0.8588396049480362,
          0.9105241683796111,
          0.8665083822377129,
          0,
          0.6325317294369196,
          0.9749632202667028,
          0.7634273694337914,
          0.48885270350099763,
          0.9683541813306025,
          0.6144347726001685,
          0.6106021055075408,
          0.7942327017204209,
          0.9903543889006119,
          0.8909298300237722,
          0.7762892089664342,
          0.9102825362300663
         ],
         "y": [
          0.9996023123972927,
          0.9996961844680635,
          0.999969319520686,
          0.999310940534081,
          0.9978334576329848,
          0.9996282656728451,
          0.9994853604493343,
          0.9988306890735222,
          0.9992584778413569,
          0.9985699049993545,
          0.9997117332608274,
          1,
          0.9985567429810387,
          0.9991936178250431,
          0.9987391806046323,
          0.9987054413464139,
          0.9995908883215362,
          0.995971588182902,
          0.9988858629566388,
          0.9981771531535157,
          0.9992762512005969,
          0.9996030075743164,
          0.9986362248874183,
          0.9997875539015486,
          0.9972846153727517,
          0.9995710757763598,
          0.9988911694745866,
          0.9980247471773472,
          0.9974258289988382,
          0.9984380762630883
         ]
        }
       ],
       "layout": {
        "hovermode": "closest",
        "shapes": [
         {
          "line": {
           "color": "black",
           "dash": "dash"
          },
          "name": "Average Stability",
          "type": "line",
          "x0": 0.8150796080875854,
          "x1": 0.8150796080875854,
          "y0": 0,
          "y1": 1
         },
         {
          "line": {
           "color": "black",
           "dash": "dash"
          },
          "name": "Average Impact",
          "type": "line",
          "x0": 0,
          "x1": 1,
          "y0": 0.6994571979765898,
          "y1": 0.6994571979765898
         }
        ],
        "template": {
         "data": {
          "bar": [
           {
            "error_x": {
             "color": "#2a3f5f"
            },
            "error_y": {
             "color": "#2a3f5f"
            },
            "marker": {
             "line": {
              "color": "#E5ECF6",
              "width": 0.5
             },
             "pattern": {
              "fillmode": "overlay",
              "size": 10,
              "solidity": 0.2
             }
            },
            "type": "bar"
           }
          ],
          "barpolar": [
           {
            "marker": {
             "line": {
              "color": "#E5ECF6",
              "width": 0.5
             },
             "pattern": {
              "fillmode": "overlay",
              "size": 10,
              "solidity": 0.2
             }
            },
            "type": "barpolar"
           }
          ],
          "carpet": [
           {
            "aaxis": {
             "endlinecolor": "#2a3f5f",
             "gridcolor": "white",
             "linecolor": "white",
             "minorgridcolor": "white",
             "startlinecolor": "#2a3f5f"
            },
            "baxis": {
             "endlinecolor": "#2a3f5f",
             "gridcolor": "white",
             "linecolor": "white",
             "minorgridcolor": "white",
             "startlinecolor": "#2a3f5f"
            },
            "type": "carpet"
           }
          ],
          "choropleth": [
           {
            "colorbar": {
             "outlinewidth": 0,
             "ticks": ""
            },
            "type": "choropleth"
           }
          ],
          "contour": [
           {
            "colorbar": {
             "outlinewidth": 0,
             "ticks": ""
            },
            "colorscale": [
             [
              0,
              "#0d0887"
             ],
             [
              0.1111111111111111,
              "#46039f"
             ],
             [
              0.2222222222222222,
              "#7201a8"
             ],
             [
              0.3333333333333333,
              "#9c179e"
             ],
             [
              0.4444444444444444,
              "#bd3786"
             ],
             [
              0.5555555555555556,
              "#d8576b"
             ],
             [
              0.6666666666666666,
              "#ed7953"
             ],
             [
              0.7777777777777778,
              "#fb9f3a"
             ],
             [
              0.8888888888888888,
              "#fdca26"
             ],
             [
              1,
              "#f0f921"
             ]
            ],
            "type": "contour"
           }
          ],
          "contourcarpet": [
           {
            "colorbar": {
             "outlinewidth": 0,
             "ticks": ""
            },
            "type": "contourcarpet"
           }
          ],
          "heatmap": [
           {
            "colorbar": {
             "outlinewidth": 0,
             "ticks": ""
            },
            "colorscale": [
             [
              0,
              "#0d0887"
             ],
             [
              0.1111111111111111,
              "#46039f"
             ],
             [
              0.2222222222222222,
              "#7201a8"
             ],
             [
              0.3333333333333333,
              "#9c179e"
             ],
             [
              0.4444444444444444,
              "#bd3786"
             ],
             [
              0.5555555555555556,
              "#d8576b"
             ],
             [
              0.6666666666666666,
              "#ed7953"
             ],
             [
              0.7777777777777778,
              "#fb9f3a"
             ],
             [
              0.8888888888888888,
              "#fdca26"
             ],
             [
              1,
              "#f0f921"
             ]
            ],
            "type": "heatmap"
           }
          ],
          "heatmapgl": [
           {
            "colorbar": {
             "outlinewidth": 0,
             "ticks": ""
            },
            "colorscale": [
             [
              0,
              "#0d0887"
             ],
             [
              0.1111111111111111,
              "#46039f"
             ],
             [
              0.2222222222222222,
              "#7201a8"
             ],
             [
              0.3333333333333333,
              "#9c179e"
             ],
             [
              0.4444444444444444,
              "#bd3786"
             ],
             [
              0.5555555555555556,
              "#d8576b"
             ],
             [
              0.6666666666666666,
              "#ed7953"
             ],
             [
              0.7777777777777778,
              "#fb9f3a"
             ],
             [
              0.8888888888888888,
              "#fdca26"
             ],
             [
              1,
              "#f0f921"
             ]
            ],
            "type": "heatmapgl"
           }
          ],
          "histogram": [
           {
            "marker": {
             "pattern": {
              "fillmode": "overlay",
              "size": 10,
              "solidity": 0.2
             }
            },
            "type": "histogram"
           }
          ],
          "histogram2d": [
           {
            "colorbar": {
             "outlinewidth": 0,
             "ticks": ""
            },
            "colorscale": [
             [
              0,
              "#0d0887"
             ],
             [
              0.1111111111111111,
              "#46039f"
             ],
             [
              0.2222222222222222,
              "#7201a8"
             ],
             [
              0.3333333333333333,
              "#9c179e"
             ],
             [
              0.4444444444444444,
              "#bd3786"
             ],
             [
              0.5555555555555556,
              "#d8576b"
             ],
             [
              0.6666666666666666,
              "#ed7953"
             ],
             [
              0.7777777777777778,
              "#fb9f3a"
             ],
             [
              0.8888888888888888,
              "#fdca26"
             ],
             [
              1,
              "#f0f921"
             ]
            ],
            "type": "histogram2d"
           }
          ],
          "histogram2dcontour": [
           {
            "colorbar": {
             "outlinewidth": 0,
             "ticks": ""
            },
            "colorscale": [
             [
              0,
              "#0d0887"
             ],
             [
              0.1111111111111111,
              "#46039f"
             ],
             [
              0.2222222222222222,
              "#7201a8"
             ],
             [
              0.3333333333333333,
              "#9c179e"
             ],
             [
              0.4444444444444444,
              "#bd3786"
             ],
             [
              0.5555555555555556,
              "#d8576b"
             ],
             [
              0.6666666666666666,
              "#ed7953"
             ],
             [
              0.7777777777777778,
              "#fb9f3a"
             ],
             [
              0.8888888888888888,
              "#fdca26"
             ],
             [
              1,
              "#f0f921"
             ]
            ],
            "type": "histogram2dcontour"
           }
          ],
          "mesh3d": [
           {
            "colorbar": {
             "outlinewidth": 0,
             "ticks": ""
            },
            "type": "mesh3d"
           }
          ],
          "parcoords": [
           {
            "line": {
             "colorbar": {
              "outlinewidth": 0,
              "ticks": ""
             }
            },
            "type": "parcoords"
           }
          ],
          "pie": [
           {
            "automargin": true,
            "type": "pie"
           }
          ],
          "scatter": [
           {
            "fillpattern": {
             "fillmode": "overlay",
             "size": 10,
             "solidity": 0.2
            },
            "type": "scatter"
           }
          ],
          "scatter3d": [
           {
            "line": {
             "colorbar": {
              "outlinewidth": 0,
              "ticks": ""
             }
            },
            "marker": {
             "colorbar": {
              "outlinewidth": 0,
              "ticks": ""
             }
            },
            "type": "scatter3d"
           }
          ],
          "scattercarpet": [
           {
            "marker": {
             "colorbar": {
              "outlinewidth": 0,
              "ticks": ""
             }
            },
            "type": "scattercarpet"
           }
          ],
          "scattergeo": [
           {
            "marker": {
             "colorbar": {
              "outlinewidth": 0,
              "ticks": ""
             }
            },
            "type": "scattergeo"
           }
          ],
          "scattergl": [
           {
            "marker": {
             "colorbar": {
              "outlinewidth": 0,
              "ticks": ""
             }
            },
            "type": "scattergl"
           }
          ],
          "scattermapbox": [
           {
            "marker": {
             "colorbar": {
              "outlinewidth": 0,
              "ticks": ""
             }
            },
            "type": "scattermapbox"
           }
          ],
          "scatterpolar": [
           {
            "marker": {
             "colorbar": {
              "outlinewidth": 0,
              "ticks": ""
             }
            },
            "type": "scatterpolar"
           }
          ],
          "scatterpolargl": [
           {
            "marker": {
             "colorbar": {
              "outlinewidth": 0,
              "ticks": ""
             }
            },
            "type": "scatterpolargl"
           }
          ],
          "scatterternary": [
           {
            "marker": {
             "colorbar": {
              "outlinewidth": 0,
              "ticks": ""
             }
            },
            "type": "scatterternary"
           }
          ],
          "surface": [
           {
            "colorbar": {
             "outlinewidth": 0,
             "ticks": ""
            },
            "colorscale": [
             [
              0,
              "#0d0887"
             ],
             [
              0.1111111111111111,
              "#46039f"
             ],
             [
              0.2222222222222222,
              "#7201a8"
             ],
             [
              0.3333333333333333,
              "#9c179e"
             ],
             [
              0.4444444444444444,
              "#bd3786"
             ],
             [
              0.5555555555555556,
              "#d8576b"
             ],
             [
              0.6666666666666666,
              "#ed7953"
             ],
             [
              0.7777777777777778,
              "#fb9f3a"
             ],
             [
              0.8888888888888888,
              "#fdca26"
             ],
             [
              1,
              "#f0f921"
             ]
            ],
            "type": "surface"
           }
          ],
          "table": [
           {
            "cells": {
             "fill": {
              "color": "#EBF0F8"
             },
             "line": {
              "color": "white"
             }
            },
            "header": {
             "fill": {
              "color": "#C8D4E3"
             },
             "line": {
              "color": "white"
             }
            },
            "type": "table"
           }
          ]
         },
         "layout": {
          "annotationdefaults": {
           "arrowcolor": "#2a3f5f",
           "arrowhead": 0,
           "arrowwidth": 1
          },
          "autotypenumbers": "strict",
          "coloraxis": {
           "colorbar": {
            "outlinewidth": 0,
            "ticks": ""
           }
          },
          "colorscale": {
           "diverging": [
            [
             0,
             "#8e0152"
            ],
            [
             0.1,
             "#c51b7d"
            ],
            [
             0.2,
             "#de77ae"
            ],
            [
             0.3,
             "#f1b6da"
            ],
            [
             0.4,
             "#fde0ef"
            ],
            [
             0.5,
             "#f7f7f7"
            ],
            [
             0.6,
             "#e6f5d0"
            ],
            [
             0.7,
             "#b8e186"
            ],
            [
             0.8,
             "#7fbc41"
            ],
            [
             0.9,
             "#4d9221"
            ],
            [
             1,
             "#276419"
            ]
           ],
           "sequential": [
            [
             0,
             "#0d0887"
            ],
            [
             0.1111111111111111,
             "#46039f"
            ],
            [
             0.2222222222222222,
             "#7201a8"
            ],
            [
             0.3333333333333333,
             "#9c179e"
            ],
            [
             0.4444444444444444,
             "#bd3786"
            ],
            [
             0.5555555555555556,
             "#d8576b"
            ],
            [
             0.6666666666666666,
             "#ed7953"
            ],
            [
             0.7777777777777778,
             "#fb9f3a"
            ],
            [
             0.8888888888888888,
             "#fdca26"
            ],
            [
             1,
             "#f0f921"
            ]
           ],
           "sequentialminus": [
            [
             0,
             "#0d0887"
            ],
            [
             0.1111111111111111,
             "#46039f"
            ],
            [
             0.2222222222222222,
             "#7201a8"
            ],
            [
             0.3333333333333333,
             "#9c179e"
            ],
            [
             0.4444444444444444,
             "#bd3786"
            ],
            [
             0.5555555555555556,
             "#d8576b"
            ],
            [
             0.6666666666666666,
             "#ed7953"
            ],
            [
             0.7777777777777778,
             "#fb9f3a"
            ],
            [
             0.8888888888888888,
             "#fdca26"
            ],
            [
             1,
             "#f0f921"
            ]
           ]
          },
          "colorway": [
           "#636efa",
           "#EF553B",
           "#00cc96",
           "#ab63fa",
           "#FFA15A",
           "#19d3f3",
           "#FF6692",
           "#B6E880",
           "#FF97FF",
           "#FECB52"
          ],
          "font": {
           "color": "#2a3f5f"
          },
          "geo": {
           "bgcolor": "white",
           "lakecolor": "white",
           "landcolor": "#E5ECF6",
           "showlakes": true,
           "showland": true,
           "subunitcolor": "white"
          },
          "hoverlabel": {
           "align": "left"
          },
          "hovermode": "closest",
          "mapbox": {
           "style": "light"
          },
          "paper_bgcolor": "white",
          "plot_bgcolor": "#E5ECF6",
          "polar": {
           "angularaxis": {
            "gridcolor": "white",
            "linecolor": "white",
            "ticks": ""
           },
           "bgcolor": "#E5ECF6",
           "radialaxis": {
            "gridcolor": "white",
            "linecolor": "white",
            "ticks": ""
           }
          },
          "scene": {
           "xaxis": {
            "backgroundcolor": "#E5ECF6",
            "gridcolor": "white",
            "gridwidth": 2,
            "linecolor": "white",
            "showbackground": true,
            "ticks": "",
            "zerolinecolor": "white"
           },
           "yaxis": {
            "backgroundcolor": "#E5ECF6",
            "gridcolor": "white",
            "gridwidth": 2,
            "linecolor": "white",
            "showbackground": true,
            "ticks": "",
            "zerolinecolor": "white"
           },
           "zaxis": {
            "backgroundcolor": "#E5ECF6",
            "gridcolor": "white",
            "gridwidth": 2,
            "linecolor": "white",
            "showbackground": true,
            "ticks": "",
            "zerolinecolor": "white"
           }
          },
          "shapedefaults": {
           "line": {
            "color": "#2a3f5f"
           }
          },
          "ternary": {
           "aaxis": {
            "gridcolor": "white",
            "linecolor": "white",
            "ticks": ""
           },
           "baxis": {
            "gridcolor": "white",
            "linecolor": "white",
            "ticks": ""
           },
           "bgcolor": "#E5ECF6",
           "caxis": {
            "gridcolor": "white",
            "linecolor": "white",
            "ticks": ""
           }
          },
          "title": {
           "x": 0.05
          },
          "xaxis": {
           "automargin": true,
           "gridcolor": "white",
           "linecolor": "white",
           "ticks": "",
           "title": {
            "standoff": 15
           },
           "zerolinecolor": "white",
           "zerolinewidth": 2
          },
          "yaxis": {
           "automargin": true,
           "gridcolor": "white",
           "linecolor": "white",
           "ticks": "",
           "title": {
            "standoff": 15
           },
           "zerolinecolor": "white",
           "zerolinewidth": 2
          }
         }
        },
        "title": {
         "text": "Impact vs Stability (-10%)"
        },
        "xaxis": {
         "title": {
          "text": "Stability (TotalNPK_315 -10%)"
         }
        },
        "yaxis": {
         "title": {
          "text": "Normalized Impact"
         }
        }
       }
      }
     },
     "metadata": {},
     "output_type": "display_data"
    },
    {
     "data": {
      "text/html": [
       "<div>\n",
       "<style scoped>\n",
       "    .dataframe tbody tr th:only-of-type {\n",
       "        vertical-align: middle;\n",
       "    }\n",
       "\n",
       "    .dataframe tbody tr th {\n",
       "        vertical-align: top;\n",
       "    }\n",
       "\n",
       "    .dataframe thead th {\n",
       "        text-align: right;\n",
       "    }\n",
       "</style>\n",
       "<table border=\"1\" class=\"dataframe\">\n",
       "  <thead>\n",
       "    <tr style=\"text-align: right;\">\n",
       "      <th></th>\n",
       "      <th>District</th>\n",
       "      <th>Initial Stability</th>\n",
       "      <th>Rice_Production_223 (TotalNPK_315 +10%)</th>\n",
       "      <th>Rice_Production_223 (TotalNPK_315 -10%)</th>\n",
       "      <th>Normalized Rice_Production_223 (TotalNPK_315 +10%)</th>\n",
       "      <th>Normalized Rice_Production_223 (TotalNPK_315 -10%)</th>\n",
       "      <th>Impact Score Rice_Production_223 (TotalNPK_315 +10%)</th>\n",
       "      <th>Impact Score Rice_Production_223 (TotalNPK_315 -10%)</th>\n",
       "      <th>Jowar_Yield_278 (TotalNPK_315 +10%)</th>\n",
       "      <th>Jowar_Yield_278 (TotalNPK_315 -10%)</th>\n",
       "      <th>Normalized Jowar_Yield_278 (TotalNPK_315 +10%)</th>\n",
       "      <th>Normalized Jowar_Yield_278 (TotalNPK_315 -10%)</th>\n",
       "      <th>Impact Score Jowar_Yield_278 (TotalNPK_315 +10%)</th>\n",
       "      <th>Impact Score Jowar_Yield_278 (TotalNPK_315 -10%)</th>\n",
       "      <th>New Stability(NPK + 10%)_Rice_Jowar</th>\n",
       "      <th>New Stability(NPK - 10%)_Rice_Jowar</th>\n",
       "    </tr>\n",
       "  </thead>\n",
       "  <tbody>\n",
       "    <tr>\n",
       "      <th>0</th>\n",
       "      <td>BENGALURU</td>\n",
       "      <td>0.313550</td>\n",
       "      <td>68479.019211</td>\n",
       "      <td>57507.638667</td>\n",
       "      <td>0.143667</td>\n",
       "      <td>0.146778</td>\n",
       "      <td>0.129382</td>\n",
       "      <td>0.870618</td>\n",
       "      <td>616.168067</td>\n",
       "      <td>570.414310</td>\n",
       "      <td>0.000391</td>\n",
       "      <td>0.000390</td>\n",
       "      <td>0.000398</td>\n",
       "      <td>0.999602</td>\n",
       "      <td>0.959044</td>\n",
       "      <td>0.959044</td>\n",
       "    </tr>\n",
       "    <tr>\n",
       "      <th>1</th>\n",
       "      <td>BENGALURU(R)</td>\n",
       "      <td>0.742284</td>\n",
       "      <td>57992.196208</td>\n",
       "      <td>48927.510755</td>\n",
       "      <td>0.121527</td>\n",
       "      <td>0.124718</td>\n",
       "      <td>0.106872</td>\n",
       "      <td>0.893128</td>\n",
       "      <td>572.435052</td>\n",
       "      <td>534.632751</td>\n",
       "      <td>0.000299</td>\n",
       "      <td>0.000298</td>\n",
       "      <td>0.000304</td>\n",
       "      <td>0.999696</td>\n",
       "      <td>0.976505</td>\n",
       "      <td>0.976505</td>\n",
       "    </tr>\n",
       "    <tr>\n",
       "      <th>2</th>\n",
       "      <td>RAMANAGARA</td>\n",
       "      <td>0.608105</td>\n",
       "      <td>27479.191334</td>\n",
       "      <td>23962.324950</td>\n",
       "      <td>0.057106</td>\n",
       "      <td>0.060532</td>\n",
       "      <td>0.041376</td>\n",
       "      <td>0.958624</td>\n",
       "      <td>445.187197</td>\n",
       "      <td>430.520870</td>\n",
       "      <td>0.000030</td>\n",
       "      <td>0.000030</td>\n",
       "      <td>0.000031</td>\n",
       "      <td>0.999969</td>\n",
       "      <td>0.822250</td>\n",
       "      <td>0.822250</td>\n",
       "    </tr>\n",
       "    <tr>\n",
       "      <th>3</th>\n",
       "      <td>CHITRADURGA</td>\n",
       "      <td>0.422882</td>\n",
       "      <td>101029.330849</td>\n",
       "      <td>84139.711825</td>\n",
       "      <td>0.212389</td>\n",
       "      <td>0.215251</td>\n",
       "      <td>0.199250</td>\n",
       "      <td>0.800750</td>\n",
       "      <td>751.912067</td>\n",
       "      <td>681.477582</td>\n",
       "      <td>0.000678</td>\n",
       "      <td>0.000675</td>\n",
       "      <td>0.000689</td>\n",
       "      <td>0.999311</td>\n",
       "      <td>0.668650</td>\n",
       "      <td>0.668650</td>\n",
       "    </tr>\n",
       "    <tr>\n",
       "      <th>4</th>\n",
       "      <td>DAVANAGERE</td>\n",
       "      <td>0.339007</td>\n",
       "      <td>266084.831886</td>\n",
       "      <td>219185.121765</td>\n",
       "      <td>0.560865</td>\n",
       "      <td>0.562460</td>\n",
       "      <td>0.553539</td>\n",
       "      <td>0.446461</td>\n",
       "      <td>1440.240158</td>\n",
       "      <td>1244.655111</td>\n",
       "      <td>0.002131</td>\n",
       "      <td>0.002123</td>\n",
       "      <td>0.002167</td>\n",
       "      <td>0.997833</td>\n",
       "      <td>0.790058</td>\n",
       "      <td>0.790058</td>\n",
       "    </tr>\n",
       "  </tbody>\n",
       "</table>\n",
       "</div>"
      ],
      "text/plain": [
       "       District  Initial Stability  Rice_Production_223 (TotalNPK_315 +10%)  \\\n",
       "0     BENGALURU           0.313550                             68479.019211   \n",
       "1  BENGALURU(R)           0.742284                             57992.196208   \n",
       "2    RAMANAGARA           0.608105                             27479.191334   \n",
       "3   CHITRADURGA           0.422882                            101029.330849   \n",
       "4    DAVANAGERE           0.339007                            266084.831886   \n",
       "\n",
       "   Rice_Production_223 (TotalNPK_315 -10%)  \\\n",
       "0                             57507.638667   \n",
       "1                             48927.510755   \n",
       "2                             23962.324950   \n",
       "3                             84139.711825   \n",
       "4                            219185.121765   \n",
       "\n",
       "   Normalized Rice_Production_223 (TotalNPK_315 +10%)  \\\n",
       "0                                           0.143667    \n",
       "1                                           0.121527    \n",
       "2                                           0.057106    \n",
       "3                                           0.212389    \n",
       "4                                           0.560865    \n",
       "\n",
       "   Normalized Rice_Production_223 (TotalNPK_315 -10%)  \\\n",
       "0                                           0.146778    \n",
       "1                                           0.124718    \n",
       "2                                           0.060532    \n",
       "3                                           0.215251    \n",
       "4                                           0.562460    \n",
       "\n",
       "   Impact Score Rice_Production_223 (TotalNPK_315 +10%)  \\\n",
       "0                                           0.129382      \n",
       "1                                           0.106872      \n",
       "2                                           0.041376      \n",
       "3                                           0.199250      \n",
       "4                                           0.553539      \n",
       "\n",
       "   Impact Score Rice_Production_223 (TotalNPK_315 -10%)  \\\n",
       "0                                           0.870618      \n",
       "1                                           0.893128      \n",
       "2                                           0.958624      \n",
       "3                                           0.800750      \n",
       "4                                           0.446461      \n",
       "\n",
       "   Jowar_Yield_278 (TotalNPK_315 +10%)  Jowar_Yield_278 (TotalNPK_315 -10%)  \\\n",
       "0                           616.168067                           570.414310   \n",
       "1                           572.435052                           534.632751   \n",
       "2                           445.187197                           430.520870   \n",
       "3                           751.912067                           681.477582   \n",
       "4                          1440.240158                          1244.655111   \n",
       "\n",
       "   Normalized Jowar_Yield_278 (TotalNPK_315 +10%)  \\\n",
       "0                                        0.000391   \n",
       "1                                        0.000299   \n",
       "2                                        0.000030   \n",
       "3                                        0.000678   \n",
       "4                                        0.002131   \n",
       "\n",
       "   Normalized Jowar_Yield_278 (TotalNPK_315 -10%)  \\\n",
       "0                                        0.000390   \n",
       "1                                        0.000298   \n",
       "2                                        0.000030   \n",
       "3                                        0.000675   \n",
       "4                                        0.002123   \n",
       "\n",
       "   Impact Score Jowar_Yield_278 (TotalNPK_315 +10%)  \\\n",
       "0                                          0.000398   \n",
       "1                                          0.000304   \n",
       "2                                          0.000031   \n",
       "3                                          0.000689   \n",
       "4                                          0.002167   \n",
       "\n",
       "   Impact Score Jowar_Yield_278 (TotalNPK_315 -10%)  \\\n",
       "0                                          0.999602   \n",
       "1                                          0.999696   \n",
       "2                                          0.999969   \n",
       "3                                          0.999311   \n",
       "4                                          0.997833   \n",
       "\n",
       "   New Stability(NPK + 10%)_Rice_Jowar  New Stability(NPK - 10%)_Rice_Jowar  \n",
       "0                             0.959044                             0.959044  \n",
       "1                             0.976505                             0.976505  \n",
       "2                             0.822250                             0.822250  \n",
       "3                             0.668650                             0.668650  \n",
       "4                             0.790058                             0.790058  "
      ]
     },
     "execution_count": 32,
     "metadata": {},
     "output_type": "execute_result"
    }
   ],
   "source": [
    "capability_vector = [\"Rice_Production_223\", \"Jowar_Yield_278\"]\n",
    "change_percentage = 10\n",
    "dim = len(capability_vector)\n",
    "\n",
    "new_data_1, handle_increase, handle_decrease,result_df = calc_and_vis_impact_stability_2D(G, existing_data.copy(), adjacency_file, base_column, capability_vector, change_percentage, dim)\n",
    "new_data_1.head()"
   ]
  },
  {
   "cell_type": "code",
   "execution_count": 28,
   "metadata": {},
   "outputs": [],
   "source": [
    "# import statsmodels.api as sm\n",
    "# import pandas as pd\n",
    "# import plotly.express as px\n",
    "# import plotly.graph_objects as go\n",
    "\n",
    "# def calc_and_vis_impact_stability(G, existing_data, adjacency_file, base_column, capability_vector, intervention, dim):\n",
    "#     # Calculate min and max values for changes made by each column in capability_vector\n",
    "#     min_value_increase = float('inf')\n",
    "#     max_value_increase = float('-inf')\n",
    "#     min_value_decrease = float('inf')\n",
    "#     max_value_decrease = float('-inf')\n",
    "\n",
    "#     for cap_col in capability_vector:\n",
    "#         # Calculate Impact Score\n",
    "#         X = sm.add_constant(df[base_column])\n",
    "#         y = df[cap_col]\n",
    "#         model = sm.OLS(y, X).fit()\n",
    "\n",
    "#         m, c = model.params[base_column], model.params['const']\n",
    "\n",
    "#         base_column_increase = (1 + intervention/100) * df[base_column]\n",
    "#         base_column_decrease = (1 - intervention/100) * df[base_column]\n",
    "\n",
    "#         change_vector_increase = m * base_column_increase + c\n",
    "#         change_vector_decrease = m * base_column_decrease + c\n",
    "        \n",
    "#         vector_plus = change_vector_increase - m * df[base_column] - c  \n",
    "#         vector_minus = change_vector_decrease - m * df[base_column] - c\n",
    "\n",
    "#         # Update min and max values for each column's changes\n",
    "#         min_value_increase = min(min_value_increase, vector_plus.min())\n",
    "#         max_value_increase = max(max_value_increase, vector_plus.max())\n",
    "\n",
    "#         min_value_decrease = min(min_value_decrease, vector_minus.min())\n",
    "#         max_value_decrease = max(max_value_decrease, vector_minus.max())\n",
    "\n",
    "#     # Normalize changes manually using the calculated min and max values\n",
    "#     col_pass_plus = []\n",
    "#     col_pass_minus = []\n",
    "#     for cap_col in capability_vector:\n",
    "#         # Calculate Impact Score\n",
    "#         X = sm.add_constant(df[base_column])\n",
    "#         y = df[cap_col]\n",
    "#         model = sm.OLS(y, X).fit()\n",
    "\n",
    "#         m, c = model.params[base_column], model.params['const']\n",
    "\n",
    "#         base_column_increase = (1 + intervention/100) * df[base_column]\n",
    "#         base_column_decrease = (1 - intervention/100) * df[base_column]\n",
    "\n",
    "#         new_vector_increase = m * base_column_increase + c\n",
    "#         new_vector_decrease = m * base_column_decrease + c\n",
    "        \n",
    "#         vector_plus = new_vector_increase - m * df[base_column] - c  \n",
    "#         vector_minus = new_vector_decrease - m * df[base_column] - c\n",
    "\n",
    "#         # Normalize changes manually using the calculated min and max values\n",
    "#         normalized_change_increase_vector = (vector_plus - min_value_increase) / (max_value_increase - min_value_increase)\n",
    "#         normalized_change_decrease_vector = (vector_minus - min_value_decrease) / (max_value_decrease - min_value_decrease)\n",
    "\n",
    "#         scaler = MinMaxScaler()\n",
    "#         normalized_new_increase_vector = scaler.fit_transform(new_vector_increase.values.reshape(-1, 1))\n",
    "#         normalized_new_decrease_vector = scaler.fit_transform(new_vector_decrease.values.reshape(-1, 1))\n",
    "        \n",
    "#         result_df = pd.DataFrame({\n",
    "#             f'{cap_col} ({base_column} +{intervention}%)': new_vector_increase,\n",
    "#             f'{cap_col} ({base_column} -{intervention}%)': new_vector_decrease,\n",
    "#             f'Normalized {cap_col} ({base_column} +{intervention}%)': normalized_new_increase_vector,\n",
    "#             f'Normalized {cap_col} ({base_column} -{intervention}%)': normalized_new_decrease_vector,\n",
    "#             f'Impact Score {cap_col} ({base_column} +{intervention}%)': normalized_change_increase_vector,\n",
    "#             f'Impact Score {cap_col} ({base_column} -{intervention}%)': normalized_change_decrease_vector,\n",
    "\n",
    "#         })\n",
    "\n",
    "#         # Merge Columns\n",
    "#         for column in result_df.columns:\n",
    "#             if column in result_df.columns:\n",
    "#                 existing_data[column] = result_df[column]\n",
    "\n",
    "#         # Calculate Stability and add to DataFrame\n",
    "#         columns_to_pass = f\"Normalized {cap_col} ({base_column} {'+' if intervention >= 0 else '-'}{abs(intervention)}%)\"\n",
    "#         col_pass_plus.append(columns_to_pass)\n",
    "        \n",
    "#         # Calculate Stability for the opposite intervention and add to DataFrame\n",
    "#         opposite_intervention = -intervention\n",
    "#         columns_to_pass_opposite = f\"Normalized {cap_col} ({base_column} {'+' if opposite_intervention >= 0 else '-'}{abs(opposite_intervention)}%)\"\n",
    "#         col_pass_minus.append(columns_to_pass_opposite)\n",
    "        \n",
    "#     # Normalize stability values\n",
    "#     stability_column, stability_column_name = calculate_and_map_stability(G, existing_data.copy(), adjacency_file, col_pass_plus, intervention, dim)\n",
    "\n",
    "#     normalized_stability_vector = (stability_column - stability_column.min()) / (stability_column.max() - stability_column.min())\n",
    "        \n",
    "#     capability_first_words = [col.split('_')[0] for col in capability_vector]\n",
    "#     stability_column_name_modified = stability_column_name + \"_\" + \"_\".join(capability_first_words)\n",
    "#     existing_data[stability_column_name_modified] = normalized_stability_vector\n",
    "    \n",
    "#     stability_column_opposite, stability_column_name_opposite = calculate_and_map_stability(G, existing_data.copy(), adjacency_file, col_pass_minus, opposite_intervention, dim)\n",
    "        \n",
    "#     # Normalize stability values for the opposite intervention\n",
    "#     normalized_stability_vector_opposite = (stability_column_opposite - stability_column_opposite.min()) / (stability_column_opposite.max() - stability_column_opposite.min())    \n",
    "#     stability_column_name_opposite_modified = stability_column_name_opposite + \"_\" + \"_\".join(capability_first_words)\n",
    "#     existing_data[stability_column_name_opposite_modified] = normalized_stability_vector_opposite\n",
    "    \n",
    "#     # Visualize with Plotly for +intervention\n",
    "#     fig_increase = go.Figure()\n",
    "#     color_palette = ['red', 'blue', 'green', 'orange', 'purple']  # Add more colors if needed\n",
    "\n",
    "#     for i, cap_col in enumerate(capability_vector):\n",
    "#         symbol = 'star' if i == 0 else 'circle'  # Use 'star' for the first point, 'circle' for others\n",
    "#         scatter_increase = go.Scatter(\n",
    "#             x=existing_data[stability_column_name_modified],\n",
    "#             y=existing_data[f\"Normalized {cap_col} ({base_column} {'+' if intervention >= 0 else '-'}{abs(intervention)}%)\"],\n",
    "#             mode='markers',\n",
    "#             marker=dict(size=7, symbol=symbol, color=color_palette[i]),  # Adjust the size and add symbol parameter\n",
    "#             name=f'{cap_col} +{intervention}%',\n",
    "#             text=existing_data['District'],\n",
    "#             hovertemplate='%{text}' + '<br>Impact: %{y:.2f}' + '<br>Stability: %{x:.2f}'\n",
    "#         )\n",
    "#         fig_increase.add_trace(scatter_increase)\n",
    "\n",
    "#     # Add average lines\n",
    "#     avg_stability_increase = existing_data[stability_column_name_modified].mean()\n",
    "#     avg_impact_increase = existing_data[f\"Normalized {capability_vector[0]} ({base_column} {'+' if intervention >= 0 else '-'}{abs(intervention)}%)\"].mean()\n",
    "\n",
    "#     fig_increase.add_shape(\n",
    "#         go.layout.Shape(\n",
    "#             type=\"line\",\n",
    "#             x0=avg_stability_increase,\n",
    "#             x1=avg_stability_increase,\n",
    "#             y0=0,\n",
    "#             y1=1,\n",
    "#             line=dict(color=\"black\", dash=\"dash\"),\n",
    "#             name=\"Average Stability\"\n",
    "#         )\n",
    "#     )\n",
    "#     fig_increase.add_shape(\n",
    "#         go.layout.Shape(\n",
    "#             type=\"line\",\n",
    "#             x0=0,\n",
    "#             x1=1,\n",
    "#             y0=avg_impact_increase,\n",
    "#             y1=avg_impact_increase,\n",
    "#             line=dict(color=\"black\", dash=\"dash\"),\n",
    "#             name=\"Average Impact\"\n",
    "#         )\n",
    "#     )\n",
    "\n",
    "#     # Update layout for +intervention plot\n",
    "#     fig_increase.update_layout(\n",
    "#         title=f'Impact vs Stability (+{intervention}%)',\n",
    "#         xaxis=dict(title=f'Stability ({base_column} +{intervention}%)'),\n",
    "#         yaxis=dict(title='Normalized Impact'),\n",
    "#         hovermode='closest'\n",
    "#     )\n",
    "\n",
    "#     # Visualize with Plotly for -intervention\n",
    "#     fig_decrease = go.Figure()\n",
    "\n",
    "#     for i, cap_col in enumerate(capability_vector):\n",
    "#         # Scatter plot for -intervention\n",
    "#         symbol = 'star' if i == 0 else 'circle'\n",
    "#         scatter_decrease = go.Scatter(\n",
    "#             x=existing_data[stability_column_name_opposite_modified],\n",
    "#             y=existing_data[f\"Normalized {cap_col} ({base_column} {'+' if intervention >= 0 else '-'}{abs(intervention)}%)\"],\n",
    "#             mode='markers',\n",
    "#             marker=dict(size=7,symbol=symbol, color=color_palette[i]),\n",
    "#             name=f'{cap_col} -{intervention}%',\n",
    "#             text=existing_data['District'],\n",
    "#             hovertemplate='%{text}' + '<br>Impact: %{y:.2f}' + '<br>Stability: %{x:.2f}'\n",
    "#         )\n",
    "\n",
    "#         fig_decrease.add_trace(scatter_decrease)\n",
    "\n",
    "#     # Add average lines for -intervention\n",
    "#     avg_stability_decrease = existing_data[stability_column_name_opposite_modified].mean()\n",
    "#     avg_impact_decrease = existing_data[f\"Normalized {capability_vector[0]} ({base_column} {'+' if intervention >= 0 else '-'}{abs(intervention)}%)\"].mean()\n",
    "\n",
    "#     fig_decrease.add_shape(\n",
    "#         go.layout.Shape(\n",
    "#             type=\"line\",\n",
    "#             x0=avg_stability_decrease,\n",
    "#             x1=avg_stability_decrease,\n",
    "#             y0=0,\n",
    "#             y1=1,\n",
    "#             line=dict(color=\"black\", dash=\"dash\"),\n",
    "#             name=\"Average Stability\"\n",
    "#         )\n",
    "#     )\n",
    "#     fig_decrease.add_shape(\n",
    "#         go.layout.Shape(\n",
    "#             type=\"line\",\n",
    "#             x0=0,\n",
    "#             x1=1,\n",
    "#             y0=avg_impact_decrease,\n",
    "#             y1=avg_impact_decrease,\n",
    "#             line=dict(color=\"black\", dash=\"dash\"),\n",
    "#             name=\"Average Impact\"\n",
    "#         )\n",
    "#     )\n",
    "\n",
    "#     # Update layout for -intervention plot\n",
    "#     fig_decrease.update_layout(\n",
    "#         title=f'Impact vs Stability (-{intervention}%)',\n",
    "#         xaxis=dict(title=f'Stability ({base_column} -{intervention}%)'),\n",
    "#         yaxis=dict(title='Normalized Impact'),\n",
    "#         hovermode='closest'\n",
    "#     )\n",
    "\n",
    "#     # Show plots\n",
    "#     fig_increase.show()\n",
    "#     fig_decrease.show()\n",
    "\n",
    "#     return existing_data, fig_increase, fig_decrease\n",
    "\n",
    "# base_column = \"TotalNPK_315\"\n",
    "# capability_vector = [\"Rice_Production_223\", \"Jowar_Yield_278\"]\n",
    "# change_percentage = 20\n",
    "# dim = 2\n",
    "\n",
    "# new_data, handle_increase, handle_decrease = calc_and_vis_impact_stability(G, existing_data.copy(), adjacency_file, base_column, capability_vector, change_percentage, dim)\n",
    "# new_data.head()"
   ]
  },
  {
   "cell_type": "code",
   "execution_count": 29,
   "metadata": {},
   "outputs": [
    {
     "name": "stdout",
     "output_type": "stream",
     "text": [
      "25498.600629373545 516440.3456216234\n"
     ]
    }
   ],
   "source": [
    "print(res_df['Rice_Production_223 (TotalNPK_315 +20%)'].min(), res_df['Rice_Production_223 (TotalNPK_315 +20%)'].max())"
   ]
  },
  {
   "cell_type": "code",
   "execution_count": 30,
   "metadata": {},
   "outputs": [
    {
     "name": "stdout",
     "output_type": "stream",
     "text": [
      "436.9275738990035 2484.293411637132\n"
     ]
    }
   ],
   "source": [
    "print(res_df['Jowar_Yield_278 (TotalNPK_315 +20%)'].min(), res_df['Jowar_Yield_278 (TotalNPK_315 +20%)'].max())"
   ]
  },
  {
   "cell_type": "code",
   "execution_count": 31,
   "metadata": {},
   "outputs": [
    {
     "ename": "NameError",
     "evalue": "name 'calc_and_vis_impact_stability' is not defined",
     "output_type": "error",
     "traceback": [
      "\u001b[1;31m---------------------------------------------------------------------------\u001b[0m",
      "\u001b[1;31mNameError\u001b[0m                                 Traceback (most recent call last)",
      "Input \u001b[1;32mIn [31]\u001b[0m, in \u001b[0;36m<cell line: 6>\u001b[1;34m()\u001b[0m\n\u001b[0;32m      3\u001b[0m change_percentage \u001b[38;5;241m=\u001b[39m \u001b[38;5;241m20\u001b[39m\n\u001b[0;32m      4\u001b[0m dim \u001b[38;5;241m=\u001b[39m \u001b[38;5;241m1\u001b[39m\n\u001b[1;32m----> 6\u001b[0m new_data, handle_increase, handle_decrease,result_df \u001b[38;5;241m=\u001b[39m \u001b[43mcalc_and_vis_impact_stability\u001b[49m(G, existing_data\u001b[38;5;241m.\u001b[39mcopy(), adjacency_file, base_column, capability_vector, change_percentage, dim)\n\u001b[0;32m      7\u001b[0m new_data\u001b[38;5;241m.\u001b[39mhead()\n",
      "\u001b[1;31mNameError\u001b[0m: name 'calc_and_vis_impact_stability' is not defined"
     ]
    }
   ],
   "source": [
    "base_column = \"TotalNPK_315\"\n",
    "capability_vector = [\"Maize_Production_226\", \"Rice_Production_223\"]\n",
    "change_percentage = 20\n",
    "dim = 1\n",
    "\n",
    "new_data, handle_increase, handle_decrease,result_df = calc_and_vis_impact_stability(G, existing_data.copy(), adjacency_file, base_column, capability_vector, change_percentage, dim)\n",
    "new_data.head()"
   ]
  },
  {
   "cell_type": "code",
   "execution_count": null,
   "metadata": {},
   "outputs": [
    {
     "name": "stdout",
     "output_type": "stream",
     "text": [
      "2.564730341506419 562.38192631683\n",
      "2.353363480056113 8136.426218911565\n"
     ]
    },
    {
     "data": {
      "application/vnd.plotly.v1+json": {
       "config": {
        "plotlyServerURL": "https://plot.ly"
       },
       "data": [
        {
         "hovertemplate": "%{text}<br>Impact: %{y:.2f}<br>Stability: %{x:.2f}",
         "marker": {
          "color": "red",
          "size": 7,
          "symbol": "star"
         },
         "mode": "markers",
         "name": "Maize_Production_226 +10%",
         "text": [
          "BENGALURU",
          "BENGALURU(R)",
          "RAMANAGARA",
          "CHITRADURGA",
          "DAVANAGERE",
          "KOLAR",
          "CHIKKABALLAPURA",
          "SHIVAMOGGA",
          "TUMAKURU",
          "CHIKKAMAGALURU",
          "DAKSHINA KANNADA",
          "UDUPI",
          "HASSAN",
          "KODAGU",
          "MANDYA",
          "MYSURU",
          "CHAMARAJANAGAR",
          "BELAGAVI",
          "VIJAYAPURA",
          "BAGALKOT",
          "DHARAWAD",
          "GADAG",
          "HAVERI",
          "UTTARA KANNADA",
          "BALLARI",
          "BIDAR",
          "KALABURAGI",
          "YADGIRI",
          "RAICHUR",
          "KOPPAL"
         ],
         "type": "scatter",
         "x": [
          0.9590442729122614,
          0.9765052391752486,
          0.8222502261381796,
          0.66865038668522,
          0.7900581835459942,
          1,
          0.9972504351838052,
          0.9678123842563557,
          0.9888021812136774,
          0.8509364154879832,
          0.8095920216384356,
          0.7639456796171661,
          0.8601165048161653,
          0.9462974084736767,
          0.8588396049480362,
          0.9105241683796111,
          0.8665083822377129,
          0,
          0.6325317294369196,
          0.9749632202667029,
          0.7634273694337913,
          0.48885270350099763,
          0.9683541813306025,
          0.6144347726001684,
          0.6106021055075406,
          0.7942327017204209,
          0.9903543889006118,
          0.8909298300237721,
          0.7762892089664342,
          0.9102825362300663
         ],
         "y": [
          0.10133986892188879,
          0.07810508642614966,
          0.010499956513219565,
          0.17345889017625202,
          0.5391586512052177,
          0.09491603372188222,
          0.13028727629191997,
          0.2923285192120949,
          0.18644421418769475,
          0.3568765918378785,
          0.0742565208732885,
          0.002906065616068521,
          0.36013439397502467,
          0.20249806662056913,
          0.3149782738592617,
          0.32332925961927084,
          0.10416750352332038,
          1,
          0.2786721338449369,
          0.45408871934226874,
          0.18204503418911894,
          0.10116780190760315,
          0.34046139867500336,
          0.05548974518183963,
          0.6750055589839357,
          0.10907141343046867,
          0.2773586889692216,
          0.4918115444408813,
          0.6400530128153255,
          0.3895062333136281
         ]
        },
        {
         "hovertemplate": "%{text}<br>Impact: %{y:.2f}<br>Stability: %{x:.2f}",
         "marker": {
          "color": "blue",
          "size": 7,
          "symbol": "circle"
         },
         "mode": "markers",
         "name": "Rice_Production_223 +10%",
         "text": [
          "BENGALURU",
          "BENGALURU(R)",
          "RAMANAGARA",
          "CHITRADURGA",
          "DAVANAGERE",
          "KOLAR",
          "CHIKKABALLAPURA",
          "SHIVAMOGGA",
          "TUMAKURU",
          "CHIKKAMAGALURU",
          "DAKSHINA KANNADA",
          "UDUPI",
          "HASSAN",
          "KODAGU",
          "MANDYA",
          "MYSURU",
          "CHAMARAJANAGAR",
          "BELAGAVI",
          "VIJAYAPURA",
          "BAGALKOT",
          "DHARAWAD",
          "GADAG",
          "HAVERI",
          "UTTARA KANNADA",
          "BALLARI",
          "BIDAR",
          "KALABURAGI",
          "YADGIRI",
          "RAICHUR",
          "KOPPAL"
         ],
         "type": "scatter",
         "x": [
          0.9590442729122614,
          0.9765052391752486,
          0.8222502261381796,
          0.66865038668522,
          0.7900581835459942,
          1,
          0.9972504351838052,
          0.9678123842563557,
          0.9888021812136774,
          0.8509364154879832,
          0.8095920216384356,
          0.7639456796171661,
          0.8601165048161653,
          0.9462974084736767,
          0.8588396049480362,
          0.9105241683796111,
          0.8665083822377129,
          0,
          0.6325317294369196,
          0.9749632202667029,
          0.7634273694337913,
          0.48885270350099763,
          0.9683541813306025,
          0.6144347726001684,
          0.6106021055075406,
          0.7942327017204209,
          0.9903543889006118,
          0.8909298300237721,
          0.7762892089664342,
          0.9102825362300663
         ],
         "y": [
          0.09032158825979418,
          0.06900165153677684,
          0.006968056337021767,
          0.15649707193178192,
          0.49205845565421896,
          0.0844271599384465,
          0.11688335588286727,
          0.26557031028886335,
          0.16841223775279193,
          0.3247987891535486,
          0.06547025742639798,
          0,
          0.32778810637366096,
          0.1831430456737314,
          0.2863534330040438,
          0.2940161898217964,
          0.09291618929767327,
          0.9149205331217608,
          0.25303938722357033,
          0.4139993834558012,
          0.16437560692915487,
          0.090163701786901,
          0.3097364196395337,
          0.04825010611617487,
          0.6167098260034355,
          0.09741595377513057,
          0.2518341871471515,
          0.44861336119642936,
          0.584637820476387,
          0.3547393272965372
         ]
        }
       ],
       "layout": {
        "hovermode": "closest",
        "shapes": [
         {
          "line": {
           "color": "black",
           "dash": "dash"
          },
          "name": "Average Stability",
          "type": "line",
          "x0": 0.8150796080875853,
          "x1": 0.8150796080875853,
          "y0": 0,
          "y1": 1
         },
         {
          "line": {
           "color": "black",
           "dash": "dash"
          },
          "name": "Average Impact",
          "type": "line",
          "x0": 0,
          "x1": 1,
          "y0": 0.2780138819225078,
          "y1": 0.2780138819225078
         }
        ],
        "template": {
         "data": {
          "bar": [
           {
            "error_x": {
             "color": "#2a3f5f"
            },
            "error_y": {
             "color": "#2a3f5f"
            },
            "marker": {
             "line": {
              "color": "#E5ECF6",
              "width": 0.5
             },
             "pattern": {
              "fillmode": "overlay",
              "size": 10,
              "solidity": 0.2
             }
            },
            "type": "bar"
           }
          ],
          "barpolar": [
           {
            "marker": {
             "line": {
              "color": "#E5ECF6",
              "width": 0.5
             },
             "pattern": {
              "fillmode": "overlay",
              "size": 10,
              "solidity": 0.2
             }
            },
            "type": "barpolar"
           }
          ],
          "carpet": [
           {
            "aaxis": {
             "endlinecolor": "#2a3f5f",
             "gridcolor": "white",
             "linecolor": "white",
             "minorgridcolor": "white",
             "startlinecolor": "#2a3f5f"
            },
            "baxis": {
             "endlinecolor": "#2a3f5f",
             "gridcolor": "white",
             "linecolor": "white",
             "minorgridcolor": "white",
             "startlinecolor": "#2a3f5f"
            },
            "type": "carpet"
           }
          ],
          "choropleth": [
           {
            "colorbar": {
             "outlinewidth": 0,
             "ticks": ""
            },
            "type": "choropleth"
           }
          ],
          "contour": [
           {
            "colorbar": {
             "outlinewidth": 0,
             "ticks": ""
            },
            "colorscale": [
             [
              0,
              "#0d0887"
             ],
             [
              0.1111111111111111,
              "#46039f"
             ],
             [
              0.2222222222222222,
              "#7201a8"
             ],
             [
              0.3333333333333333,
              "#9c179e"
             ],
             [
              0.4444444444444444,
              "#bd3786"
             ],
             [
              0.5555555555555556,
              "#d8576b"
             ],
             [
              0.6666666666666666,
              "#ed7953"
             ],
             [
              0.7777777777777778,
              "#fb9f3a"
             ],
             [
              0.8888888888888888,
              "#fdca26"
             ],
             [
              1,
              "#f0f921"
             ]
            ],
            "type": "contour"
           }
          ],
          "contourcarpet": [
           {
            "colorbar": {
             "outlinewidth": 0,
             "ticks": ""
            },
            "type": "contourcarpet"
           }
          ],
          "heatmap": [
           {
            "colorbar": {
             "outlinewidth": 0,
             "ticks": ""
            },
            "colorscale": [
             [
              0,
              "#0d0887"
             ],
             [
              0.1111111111111111,
              "#46039f"
             ],
             [
              0.2222222222222222,
              "#7201a8"
             ],
             [
              0.3333333333333333,
              "#9c179e"
             ],
             [
              0.4444444444444444,
              "#bd3786"
             ],
             [
              0.5555555555555556,
              "#d8576b"
             ],
             [
              0.6666666666666666,
              "#ed7953"
             ],
             [
              0.7777777777777778,
              "#fb9f3a"
             ],
             [
              0.8888888888888888,
              "#fdca26"
             ],
             [
              1,
              "#f0f921"
             ]
            ],
            "type": "heatmap"
           }
          ],
          "heatmapgl": [
           {
            "colorbar": {
             "outlinewidth": 0,
             "ticks": ""
            },
            "colorscale": [
             [
              0,
              "#0d0887"
             ],
             [
              0.1111111111111111,
              "#46039f"
             ],
             [
              0.2222222222222222,
              "#7201a8"
             ],
             [
              0.3333333333333333,
              "#9c179e"
             ],
             [
              0.4444444444444444,
              "#bd3786"
             ],
             [
              0.5555555555555556,
              "#d8576b"
             ],
             [
              0.6666666666666666,
              "#ed7953"
             ],
             [
              0.7777777777777778,
              "#fb9f3a"
             ],
             [
              0.8888888888888888,
              "#fdca26"
             ],
             [
              1,
              "#f0f921"
             ]
            ],
            "type": "heatmapgl"
           }
          ],
          "histogram": [
           {
            "marker": {
             "pattern": {
              "fillmode": "overlay",
              "size": 10,
              "solidity": 0.2
             }
            },
            "type": "histogram"
           }
          ],
          "histogram2d": [
           {
            "colorbar": {
             "outlinewidth": 0,
             "ticks": ""
            },
            "colorscale": [
             [
              0,
              "#0d0887"
             ],
             [
              0.1111111111111111,
              "#46039f"
             ],
             [
              0.2222222222222222,
              "#7201a8"
             ],
             [
              0.3333333333333333,
              "#9c179e"
             ],
             [
              0.4444444444444444,
              "#bd3786"
             ],
             [
              0.5555555555555556,
              "#d8576b"
             ],
             [
              0.6666666666666666,
              "#ed7953"
             ],
             [
              0.7777777777777778,
              "#fb9f3a"
             ],
             [
              0.8888888888888888,
              "#fdca26"
             ],
             [
              1,
              "#f0f921"
             ]
            ],
            "type": "histogram2d"
           }
          ],
          "histogram2dcontour": [
           {
            "colorbar": {
             "outlinewidth": 0,
             "ticks": ""
            },
            "colorscale": [
             [
              0,
              "#0d0887"
             ],
             [
              0.1111111111111111,
              "#46039f"
             ],
             [
              0.2222222222222222,
              "#7201a8"
             ],
             [
              0.3333333333333333,
              "#9c179e"
             ],
             [
              0.4444444444444444,
              "#bd3786"
             ],
             [
              0.5555555555555556,
              "#d8576b"
             ],
             [
              0.6666666666666666,
              "#ed7953"
             ],
             [
              0.7777777777777778,
              "#fb9f3a"
             ],
             [
              0.8888888888888888,
              "#fdca26"
             ],
             [
              1,
              "#f0f921"
             ]
            ],
            "type": "histogram2dcontour"
           }
          ],
          "mesh3d": [
           {
            "colorbar": {
             "outlinewidth": 0,
             "ticks": ""
            },
            "type": "mesh3d"
           }
          ],
          "parcoords": [
           {
            "line": {
             "colorbar": {
              "outlinewidth": 0,
              "ticks": ""
             }
            },
            "type": "parcoords"
           }
          ],
          "pie": [
           {
            "automargin": true,
            "type": "pie"
           }
          ],
          "scatter": [
           {
            "fillpattern": {
             "fillmode": "overlay",
             "size": 10,
             "solidity": 0.2
            },
            "type": "scatter"
           }
          ],
          "scatter3d": [
           {
            "line": {
             "colorbar": {
              "outlinewidth": 0,
              "ticks": ""
             }
            },
            "marker": {
             "colorbar": {
              "outlinewidth": 0,
              "ticks": ""
             }
            },
            "type": "scatter3d"
           }
          ],
          "scattercarpet": [
           {
            "marker": {
             "colorbar": {
              "outlinewidth": 0,
              "ticks": ""
             }
            },
            "type": "scattercarpet"
           }
          ],
          "scattergeo": [
           {
            "marker": {
             "colorbar": {
              "outlinewidth": 0,
              "ticks": ""
             }
            },
            "type": "scattergeo"
           }
          ],
          "scattergl": [
           {
            "marker": {
             "colorbar": {
              "outlinewidth": 0,
              "ticks": ""
             }
            },
            "type": "scattergl"
           }
          ],
          "scattermapbox": [
           {
            "marker": {
             "colorbar": {
              "outlinewidth": 0,
              "ticks": ""
             }
            },
            "type": "scattermapbox"
           }
          ],
          "scatterpolar": [
           {
            "marker": {
             "colorbar": {
              "outlinewidth": 0,
              "ticks": ""
             }
            },
            "type": "scatterpolar"
           }
          ],
          "scatterpolargl": [
           {
            "marker": {
             "colorbar": {
              "outlinewidth": 0,
              "ticks": ""
             }
            },
            "type": "scatterpolargl"
           }
          ],
          "scatterternary": [
           {
            "marker": {
             "colorbar": {
              "outlinewidth": 0,
              "ticks": ""
             }
            },
            "type": "scatterternary"
           }
          ],
          "surface": [
           {
            "colorbar": {
             "outlinewidth": 0,
             "ticks": ""
            },
            "colorscale": [
             [
              0,
              "#0d0887"
             ],
             [
              0.1111111111111111,
              "#46039f"
             ],
             [
              0.2222222222222222,
              "#7201a8"
             ],
             [
              0.3333333333333333,
              "#9c179e"
             ],
             [
              0.4444444444444444,
              "#bd3786"
             ],
             [
              0.5555555555555556,
              "#d8576b"
             ],
             [
              0.6666666666666666,
              "#ed7953"
             ],
             [
              0.7777777777777778,
              "#fb9f3a"
             ],
             [
              0.8888888888888888,
              "#fdca26"
             ],
             [
              1,
              "#f0f921"
             ]
            ],
            "type": "surface"
           }
          ],
          "table": [
           {
            "cells": {
             "fill": {
              "color": "#EBF0F8"
             },
             "line": {
              "color": "white"
             }
            },
            "header": {
             "fill": {
              "color": "#C8D4E3"
             },
             "line": {
              "color": "white"
             }
            },
            "type": "table"
           }
          ]
         },
         "layout": {
          "annotationdefaults": {
           "arrowcolor": "#2a3f5f",
           "arrowhead": 0,
           "arrowwidth": 1
          },
          "autotypenumbers": "strict",
          "coloraxis": {
           "colorbar": {
            "outlinewidth": 0,
            "ticks": ""
           }
          },
          "colorscale": {
           "diverging": [
            [
             0,
             "#8e0152"
            ],
            [
             0.1,
             "#c51b7d"
            ],
            [
             0.2,
             "#de77ae"
            ],
            [
             0.3,
             "#f1b6da"
            ],
            [
             0.4,
             "#fde0ef"
            ],
            [
             0.5,
             "#f7f7f7"
            ],
            [
             0.6,
             "#e6f5d0"
            ],
            [
             0.7,
             "#b8e186"
            ],
            [
             0.8,
             "#7fbc41"
            ],
            [
             0.9,
             "#4d9221"
            ],
            [
             1,
             "#276419"
            ]
           ],
           "sequential": [
            [
             0,
             "#0d0887"
            ],
            [
             0.1111111111111111,
             "#46039f"
            ],
            [
             0.2222222222222222,
             "#7201a8"
            ],
            [
             0.3333333333333333,
             "#9c179e"
            ],
            [
             0.4444444444444444,
             "#bd3786"
            ],
            [
             0.5555555555555556,
             "#d8576b"
            ],
            [
             0.6666666666666666,
             "#ed7953"
            ],
            [
             0.7777777777777778,
             "#fb9f3a"
            ],
            [
             0.8888888888888888,
             "#fdca26"
            ],
            [
             1,
             "#f0f921"
            ]
           ],
           "sequentialminus": [
            [
             0,
             "#0d0887"
            ],
            [
             0.1111111111111111,
             "#46039f"
            ],
            [
             0.2222222222222222,
             "#7201a8"
            ],
            [
             0.3333333333333333,
             "#9c179e"
            ],
            [
             0.4444444444444444,
             "#bd3786"
            ],
            [
             0.5555555555555556,
             "#d8576b"
            ],
            [
             0.6666666666666666,
             "#ed7953"
            ],
            [
             0.7777777777777778,
             "#fb9f3a"
            ],
            [
             0.8888888888888888,
             "#fdca26"
            ],
            [
             1,
             "#f0f921"
            ]
           ]
          },
          "colorway": [
           "#636efa",
           "#EF553B",
           "#00cc96",
           "#ab63fa",
           "#FFA15A",
           "#19d3f3",
           "#FF6692",
           "#B6E880",
           "#FF97FF",
           "#FECB52"
          ],
          "font": {
           "color": "#2a3f5f"
          },
          "geo": {
           "bgcolor": "white",
           "lakecolor": "white",
           "landcolor": "#E5ECF6",
           "showlakes": true,
           "showland": true,
           "subunitcolor": "white"
          },
          "hoverlabel": {
           "align": "left"
          },
          "hovermode": "closest",
          "mapbox": {
           "style": "light"
          },
          "paper_bgcolor": "white",
          "plot_bgcolor": "#E5ECF6",
          "polar": {
           "angularaxis": {
            "gridcolor": "white",
            "linecolor": "white",
            "ticks": ""
           },
           "bgcolor": "#E5ECF6",
           "radialaxis": {
            "gridcolor": "white",
            "linecolor": "white",
            "ticks": ""
           }
          },
          "scene": {
           "xaxis": {
            "backgroundcolor": "#E5ECF6",
            "gridcolor": "white",
            "gridwidth": 2,
            "linecolor": "white",
            "showbackground": true,
            "ticks": "",
            "zerolinecolor": "white"
           },
           "yaxis": {
            "backgroundcolor": "#E5ECF6",
            "gridcolor": "white",
            "gridwidth": 2,
            "linecolor": "white",
            "showbackground": true,
            "ticks": "",
            "zerolinecolor": "white"
           },
           "zaxis": {
            "backgroundcolor": "#E5ECF6",
            "gridcolor": "white",
            "gridwidth": 2,
            "linecolor": "white",
            "showbackground": true,
            "ticks": "",
            "zerolinecolor": "white"
           }
          },
          "shapedefaults": {
           "line": {
            "color": "#2a3f5f"
           }
          },
          "ternary": {
           "aaxis": {
            "gridcolor": "white",
            "linecolor": "white",
            "ticks": ""
           },
           "baxis": {
            "gridcolor": "white",
            "linecolor": "white",
            "ticks": ""
           },
           "bgcolor": "#E5ECF6",
           "caxis": {
            "gridcolor": "white",
            "linecolor": "white",
            "ticks": ""
           }
          },
          "title": {
           "x": 0.05
          },
          "xaxis": {
           "automargin": true,
           "gridcolor": "white",
           "linecolor": "white",
           "ticks": "",
           "title": {
            "standoff": 15
           },
           "zerolinecolor": "white",
           "zerolinewidth": 2
          },
          "yaxis": {
           "automargin": true,
           "gridcolor": "white",
           "linecolor": "white",
           "ticks": "",
           "title": {
            "standoff": 15
           },
           "zerolinecolor": "white",
           "zerolinewidth": 2
          }
         }
        },
        "title": {
         "text": "Impact vs Stability (+10%)"
        },
        "xaxis": {
         "title": {
          "text": "Stability (TotalNPK_315 +10%)"
         }
        },
        "yaxis": {
         "title": {
          "text": "Normalized Impact"
         }
        }
       }
      }
     },
     "metadata": {},
     "output_type": "display_data"
    },
    {
     "data": {
      "application/vnd.plotly.v1+json": {
       "config": {
        "plotlyServerURL": "https://plot.ly"
       },
       "data": [
        {
         "hovertemplate": "%{text}<br>Impact: %{y:.2f}<br>Stability: %{x:.2f}",
         "marker": {
          "color": "red",
          "size": 7,
          "symbol": "star"
         },
         "mode": "markers",
         "name": "Maize_Production_226 -10%",
         "text": [
          "BENGALURU",
          "BENGALURU(R)",
          "RAMANAGARA",
          "CHITRADURGA",
          "DAVANAGERE",
          "KOLAR",
          "CHIKKABALLAPURA",
          "SHIVAMOGGA",
          "TUMAKURU",
          "CHIKKAMAGALURU",
          "DAKSHINA KANNADA",
          "UDUPI",
          "HASSAN",
          "KODAGU",
          "MANDYA",
          "MYSURU",
          "CHAMARAJANAGAR",
          "BELAGAVI",
          "VIJAYAPURA",
          "BAGALKOT",
          "DHARAWAD",
          "GADAG",
          "HAVERI",
          "UTTARA KANNADA",
          "BALLARI",
          "BIDAR",
          "KALABURAGI",
          "YADGIRI",
          "RAICHUR",
          "KOPPAL"
         ],
         "type": "scatter",
         "x": [
          0.9590442729122614,
          0.9765052391752486,
          0.8222502261381796,
          0.6686503866852201,
          0.7900581835459943,
          1,
          0.9972504351838052,
          0.9678123842563559,
          0.9888021812136775,
          0.8509364154879832,
          0.8095920216384357,
          0.7639456796171661,
          0.8601165048161654,
          0.9462974084736767,
          0.8588396049480361,
          0.9105241683796111,
          0.8665083822377129,
          0,
          0.6325317294369197,
          0.9749632202667028,
          0.7634273694337913,
          0.4888527035009978,
          0.9683541813306024,
          0.6144347726001685,
          0.6106021055075407,
          0.7942327017204209,
          0.9903543889006118,
          0.8909298300237721,
          0.7762892089664342,
          0.9102825362300663
         ],
         "y": [
          0.898660131078111,
          0.9218949135738506,
          0.9895000434867803,
          0.8265411098237473,
          0.46084134879478156,
          0.905083966278118,
          0.8697127237080795,
          0.7076714807879055,
          0.8135557858123049,
          0.6431234081621211,
          0.9257434791267117,
          0.9970939343839313,
          0.6398656060249749,
          0.7975019333794304,
          0.6850217261407374,
          0.6766707403807283,
          0.8958324964766794,
          0,
          0.7213278661550626,
          0.54591128065773,
          0.817954965810881,
          0.898832198092397,
          0.6595386013249956,
          0.9445102548181603,
          0.3249944410160639,
          0.8909285865695313,
          0.7226413110307782,
          0.5081884555591186,
          0.35994698718467155,
          0.6104937666863715
         ]
        },
        {
         "hovertemplate": "%{text}<br>Impact: %{y:.2f}<br>Stability: %{x:.2f}",
         "marker": {
          "color": "blue",
          "size": 7,
          "symbol": "circle"
         },
         "mode": "markers",
         "name": "Rice_Production_223 -10%",
         "text": [
          "BENGALURU",
          "BENGALURU(R)",
          "RAMANAGARA",
          "CHITRADURGA",
          "DAVANAGERE",
          "KOLAR",
          "CHIKKABALLAPURA",
          "SHIVAMOGGA",
          "TUMAKURU",
          "CHIKKAMAGALURU",
          "DAKSHINA KANNADA",
          "UDUPI",
          "HASSAN",
          "KODAGU",
          "MANDYA",
          "MYSURU",
          "CHAMARAJANAGAR",
          "BELAGAVI",
          "VIJAYAPURA",
          "BAGALKOT",
          "DHARAWAD",
          "GADAG",
          "HAVERI",
          "UTTARA KANNADA",
          "BALLARI",
          "BIDAR",
          "KALABURAGI",
          "YADGIRI",
          "RAICHUR",
          "KOPPAL"
         ],
         "type": "scatter",
         "x": [
          0.9590442729122614,
          0.9765052391752486,
          0.8222502261381796,
          0.6686503866852201,
          0.7900581835459943,
          1,
          0.9972504351838052,
          0.9678123842563559,
          0.9888021812136775,
          0.8509364154879832,
          0.8095920216384357,
          0.7639456796171661,
          0.8601165048161654,
          0.9462974084736767,
          0.8588396049480361,
          0.9105241683796111,
          0.8665083822377129,
          0,
          0.6325317294369197,
          0.9749632202667028,
          0.7634273694337913,
          0.4888527035009978,
          0.9683541813306024,
          0.6144347726001685,
          0.6106021055075407,
          0.7942327017204209,
          0.9903543889006118,
          0.8909298300237721,
          0.7762892089664342,
          0.9102825362300663
         ],
         "y": [
          0.9096784117402054,
          0.9309983484632234,
          0.9930319436629783,
          0.8435029280682182,
          0.5079415443457793,
          0.9155728400615535,
          0.8831166441171323,
          0.734429689711136,
          0.8315877622472082,
          0.6752012108464508,
          0.9345297425736021,
          1,
          0.672211893626339,
          0.8168569543262684,
          0.7136465669959556,
          0.7059838101782037,
          0.9070838107023267,
          0.08507946687823839,
          0.7469606127764302,
          0.5860006165441985,
          0.8356243930708452,
          0.9098362982130989,
          0.6902635803604664,
          0.951749893883825,
          0.38329017399656445,
          0.9025840462248694,
          0.7481658128528481,
          0.5513866388035704,
          0.41536217952361176,
          0.6452606727034621
         ]
        }
       ],
       "layout": {
        "hovermode": "closest",
        "shapes": [
         {
          "line": {
           "color": "black",
           "dash": "dash"
          },
          "name": "Average Stability",
          "type": "line",
          "x0": 0.8150796080875854,
          "x1": 0.8150796080875854,
          "y0": 0,
          "y1": 1
         },
         {
          "line": {
           "color": "black",
           "dash": "dash"
          },
          "name": "Average Impact",
          "type": "line",
          "x0": 0,
          "x1": 1,
          "y0": 0.7219861180774918,
          "y1": 0.7219861180774918
         }
        ],
        "template": {
         "data": {
          "bar": [
           {
            "error_x": {
             "color": "#2a3f5f"
            },
            "error_y": {
             "color": "#2a3f5f"
            },
            "marker": {
             "line": {
              "color": "#E5ECF6",
              "width": 0.5
             },
             "pattern": {
              "fillmode": "overlay",
              "size": 10,
              "solidity": 0.2
             }
            },
            "type": "bar"
           }
          ],
          "barpolar": [
           {
            "marker": {
             "line": {
              "color": "#E5ECF6",
              "width": 0.5
             },
             "pattern": {
              "fillmode": "overlay",
              "size": 10,
              "solidity": 0.2
             }
            },
            "type": "barpolar"
           }
          ],
          "carpet": [
           {
            "aaxis": {
             "endlinecolor": "#2a3f5f",
             "gridcolor": "white",
             "linecolor": "white",
             "minorgridcolor": "white",
             "startlinecolor": "#2a3f5f"
            },
            "baxis": {
             "endlinecolor": "#2a3f5f",
             "gridcolor": "white",
             "linecolor": "white",
             "minorgridcolor": "white",
             "startlinecolor": "#2a3f5f"
            },
            "type": "carpet"
           }
          ],
          "choropleth": [
           {
            "colorbar": {
             "outlinewidth": 0,
             "ticks": ""
            },
            "type": "choropleth"
           }
          ],
          "contour": [
           {
            "colorbar": {
             "outlinewidth": 0,
             "ticks": ""
            },
            "colorscale": [
             [
              0,
              "#0d0887"
             ],
             [
              0.1111111111111111,
              "#46039f"
             ],
             [
              0.2222222222222222,
              "#7201a8"
             ],
             [
              0.3333333333333333,
              "#9c179e"
             ],
             [
              0.4444444444444444,
              "#bd3786"
             ],
             [
              0.5555555555555556,
              "#d8576b"
             ],
             [
              0.6666666666666666,
              "#ed7953"
             ],
             [
              0.7777777777777778,
              "#fb9f3a"
             ],
             [
              0.8888888888888888,
              "#fdca26"
             ],
             [
              1,
              "#f0f921"
             ]
            ],
            "type": "contour"
           }
          ],
          "contourcarpet": [
           {
            "colorbar": {
             "outlinewidth": 0,
             "ticks": ""
            },
            "type": "contourcarpet"
           }
          ],
          "heatmap": [
           {
            "colorbar": {
             "outlinewidth": 0,
             "ticks": ""
            },
            "colorscale": [
             [
              0,
              "#0d0887"
             ],
             [
              0.1111111111111111,
              "#46039f"
             ],
             [
              0.2222222222222222,
              "#7201a8"
             ],
             [
              0.3333333333333333,
              "#9c179e"
             ],
             [
              0.4444444444444444,
              "#bd3786"
             ],
             [
              0.5555555555555556,
              "#d8576b"
             ],
             [
              0.6666666666666666,
              "#ed7953"
             ],
             [
              0.7777777777777778,
              "#fb9f3a"
             ],
             [
              0.8888888888888888,
              "#fdca26"
             ],
             [
              1,
              "#f0f921"
             ]
            ],
            "type": "heatmap"
           }
          ],
          "heatmapgl": [
           {
            "colorbar": {
             "outlinewidth": 0,
             "ticks": ""
            },
            "colorscale": [
             [
              0,
              "#0d0887"
             ],
             [
              0.1111111111111111,
              "#46039f"
             ],
             [
              0.2222222222222222,
              "#7201a8"
             ],
             [
              0.3333333333333333,
              "#9c179e"
             ],
             [
              0.4444444444444444,
              "#bd3786"
             ],
             [
              0.5555555555555556,
              "#d8576b"
             ],
             [
              0.6666666666666666,
              "#ed7953"
             ],
             [
              0.7777777777777778,
              "#fb9f3a"
             ],
             [
              0.8888888888888888,
              "#fdca26"
             ],
             [
              1,
              "#f0f921"
             ]
            ],
            "type": "heatmapgl"
           }
          ],
          "histogram": [
           {
            "marker": {
             "pattern": {
              "fillmode": "overlay",
              "size": 10,
              "solidity": 0.2
             }
            },
            "type": "histogram"
           }
          ],
          "histogram2d": [
           {
            "colorbar": {
             "outlinewidth": 0,
             "ticks": ""
            },
            "colorscale": [
             [
              0,
              "#0d0887"
             ],
             [
              0.1111111111111111,
              "#46039f"
             ],
             [
              0.2222222222222222,
              "#7201a8"
             ],
             [
              0.3333333333333333,
              "#9c179e"
             ],
             [
              0.4444444444444444,
              "#bd3786"
             ],
             [
              0.5555555555555556,
              "#d8576b"
             ],
             [
              0.6666666666666666,
              "#ed7953"
             ],
             [
              0.7777777777777778,
              "#fb9f3a"
             ],
             [
              0.8888888888888888,
              "#fdca26"
             ],
             [
              1,
              "#f0f921"
             ]
            ],
            "type": "histogram2d"
           }
          ],
          "histogram2dcontour": [
           {
            "colorbar": {
             "outlinewidth": 0,
             "ticks": ""
            },
            "colorscale": [
             [
              0,
              "#0d0887"
             ],
             [
              0.1111111111111111,
              "#46039f"
             ],
             [
              0.2222222222222222,
              "#7201a8"
             ],
             [
              0.3333333333333333,
              "#9c179e"
             ],
             [
              0.4444444444444444,
              "#bd3786"
             ],
             [
              0.5555555555555556,
              "#d8576b"
             ],
             [
              0.6666666666666666,
              "#ed7953"
             ],
             [
              0.7777777777777778,
              "#fb9f3a"
             ],
             [
              0.8888888888888888,
              "#fdca26"
             ],
             [
              1,
              "#f0f921"
             ]
            ],
            "type": "histogram2dcontour"
           }
          ],
          "mesh3d": [
           {
            "colorbar": {
             "outlinewidth": 0,
             "ticks": ""
            },
            "type": "mesh3d"
           }
          ],
          "parcoords": [
           {
            "line": {
             "colorbar": {
              "outlinewidth": 0,
              "ticks": ""
             }
            },
            "type": "parcoords"
           }
          ],
          "pie": [
           {
            "automargin": true,
            "type": "pie"
           }
          ],
          "scatter": [
           {
            "fillpattern": {
             "fillmode": "overlay",
             "size": 10,
             "solidity": 0.2
            },
            "type": "scatter"
           }
          ],
          "scatter3d": [
           {
            "line": {
             "colorbar": {
              "outlinewidth": 0,
              "ticks": ""
             }
            },
            "marker": {
             "colorbar": {
              "outlinewidth": 0,
              "ticks": ""
             }
            },
            "type": "scatter3d"
           }
          ],
          "scattercarpet": [
           {
            "marker": {
             "colorbar": {
              "outlinewidth": 0,
              "ticks": ""
             }
            },
            "type": "scattercarpet"
           }
          ],
          "scattergeo": [
           {
            "marker": {
             "colorbar": {
              "outlinewidth": 0,
              "ticks": ""
             }
            },
            "type": "scattergeo"
           }
          ],
          "scattergl": [
           {
            "marker": {
             "colorbar": {
              "outlinewidth": 0,
              "ticks": ""
             }
            },
            "type": "scattergl"
           }
          ],
          "scattermapbox": [
           {
            "marker": {
             "colorbar": {
              "outlinewidth": 0,
              "ticks": ""
             }
            },
            "type": "scattermapbox"
           }
          ],
          "scatterpolar": [
           {
            "marker": {
             "colorbar": {
              "outlinewidth": 0,
              "ticks": ""
             }
            },
            "type": "scatterpolar"
           }
          ],
          "scatterpolargl": [
           {
            "marker": {
             "colorbar": {
              "outlinewidth": 0,
              "ticks": ""
             }
            },
            "type": "scatterpolargl"
           }
          ],
          "scatterternary": [
           {
            "marker": {
             "colorbar": {
              "outlinewidth": 0,
              "ticks": ""
             }
            },
            "type": "scatterternary"
           }
          ],
          "surface": [
           {
            "colorbar": {
             "outlinewidth": 0,
             "ticks": ""
            },
            "colorscale": [
             [
              0,
              "#0d0887"
             ],
             [
              0.1111111111111111,
              "#46039f"
             ],
             [
              0.2222222222222222,
              "#7201a8"
             ],
             [
              0.3333333333333333,
              "#9c179e"
             ],
             [
              0.4444444444444444,
              "#bd3786"
             ],
             [
              0.5555555555555556,
              "#d8576b"
             ],
             [
              0.6666666666666666,
              "#ed7953"
             ],
             [
              0.7777777777777778,
              "#fb9f3a"
             ],
             [
              0.8888888888888888,
              "#fdca26"
             ],
             [
              1,
              "#f0f921"
             ]
            ],
            "type": "surface"
           }
          ],
          "table": [
           {
            "cells": {
             "fill": {
              "color": "#EBF0F8"
             },
             "line": {
              "color": "white"
             }
            },
            "header": {
             "fill": {
              "color": "#C8D4E3"
             },
             "line": {
              "color": "white"
             }
            },
            "type": "table"
           }
          ]
         },
         "layout": {
          "annotationdefaults": {
           "arrowcolor": "#2a3f5f",
           "arrowhead": 0,
           "arrowwidth": 1
          },
          "autotypenumbers": "strict",
          "coloraxis": {
           "colorbar": {
            "outlinewidth": 0,
            "ticks": ""
           }
          },
          "colorscale": {
           "diverging": [
            [
             0,
             "#8e0152"
            ],
            [
             0.1,
             "#c51b7d"
            ],
            [
             0.2,
             "#de77ae"
            ],
            [
             0.3,
             "#f1b6da"
            ],
            [
             0.4,
             "#fde0ef"
            ],
            [
             0.5,
             "#f7f7f7"
            ],
            [
             0.6,
             "#e6f5d0"
            ],
            [
             0.7,
             "#b8e186"
            ],
            [
             0.8,
             "#7fbc41"
            ],
            [
             0.9,
             "#4d9221"
            ],
            [
             1,
             "#276419"
            ]
           ],
           "sequential": [
            [
             0,
             "#0d0887"
            ],
            [
             0.1111111111111111,
             "#46039f"
            ],
            [
             0.2222222222222222,
             "#7201a8"
            ],
            [
             0.3333333333333333,
             "#9c179e"
            ],
            [
             0.4444444444444444,
             "#bd3786"
            ],
            [
             0.5555555555555556,
             "#d8576b"
            ],
            [
             0.6666666666666666,
             "#ed7953"
            ],
            [
             0.7777777777777778,
             "#fb9f3a"
            ],
            [
             0.8888888888888888,
             "#fdca26"
            ],
            [
             1,
             "#f0f921"
            ]
           ],
           "sequentialminus": [
            [
             0,
             "#0d0887"
            ],
            [
             0.1111111111111111,
             "#46039f"
            ],
            [
             0.2222222222222222,
             "#7201a8"
            ],
            [
             0.3333333333333333,
             "#9c179e"
            ],
            [
             0.4444444444444444,
             "#bd3786"
            ],
            [
             0.5555555555555556,
             "#d8576b"
            ],
            [
             0.6666666666666666,
             "#ed7953"
            ],
            [
             0.7777777777777778,
             "#fb9f3a"
            ],
            [
             0.8888888888888888,
             "#fdca26"
            ],
            [
             1,
             "#f0f921"
            ]
           ]
          },
          "colorway": [
           "#636efa",
           "#EF553B",
           "#00cc96",
           "#ab63fa",
           "#FFA15A",
           "#19d3f3",
           "#FF6692",
           "#B6E880",
           "#FF97FF",
           "#FECB52"
          ],
          "font": {
           "color": "#2a3f5f"
          },
          "geo": {
           "bgcolor": "white",
           "lakecolor": "white",
           "landcolor": "#E5ECF6",
           "showlakes": true,
           "showland": true,
           "subunitcolor": "white"
          },
          "hoverlabel": {
           "align": "left"
          },
          "hovermode": "closest",
          "mapbox": {
           "style": "light"
          },
          "paper_bgcolor": "white",
          "plot_bgcolor": "#E5ECF6",
          "polar": {
           "angularaxis": {
            "gridcolor": "white",
            "linecolor": "white",
            "ticks": ""
           },
           "bgcolor": "#E5ECF6",
           "radialaxis": {
            "gridcolor": "white",
            "linecolor": "white",
            "ticks": ""
           }
          },
          "scene": {
           "xaxis": {
            "backgroundcolor": "#E5ECF6",
            "gridcolor": "white",
            "gridwidth": 2,
            "linecolor": "white",
            "showbackground": true,
            "ticks": "",
            "zerolinecolor": "white"
           },
           "yaxis": {
            "backgroundcolor": "#E5ECF6",
            "gridcolor": "white",
            "gridwidth": 2,
            "linecolor": "white",
            "showbackground": true,
            "ticks": "",
            "zerolinecolor": "white"
           },
           "zaxis": {
            "backgroundcolor": "#E5ECF6",
            "gridcolor": "white",
            "gridwidth": 2,
            "linecolor": "white",
            "showbackground": true,
            "ticks": "",
            "zerolinecolor": "white"
           }
          },
          "shapedefaults": {
           "line": {
            "color": "#2a3f5f"
           }
          },
          "ternary": {
           "aaxis": {
            "gridcolor": "white",
            "linecolor": "white",
            "ticks": ""
           },
           "baxis": {
            "gridcolor": "white",
            "linecolor": "white",
            "ticks": ""
           },
           "bgcolor": "#E5ECF6",
           "caxis": {
            "gridcolor": "white",
            "linecolor": "white",
            "ticks": ""
           }
          },
          "title": {
           "x": 0.05
          },
          "xaxis": {
           "automargin": true,
           "gridcolor": "white",
           "linecolor": "white",
           "ticks": "",
           "title": {
            "standoff": 15
           },
           "zerolinecolor": "white",
           "zerolinewidth": 2
          },
          "yaxis": {
           "automargin": true,
           "gridcolor": "white",
           "linecolor": "white",
           "ticks": "",
           "title": {
            "standoff": 15
           },
           "zerolinecolor": "white",
           "zerolinewidth": 2
          }
         }
        },
        "title": {
         "text": "Impact vs Stability (-10%)"
        },
        "xaxis": {
         "title": {
          "text": "Stability (TotalNPK_315 -10%)"
         }
        },
        "yaxis": {
         "title": {
          "text": "Normalized Impact"
         }
        }
       }
      }
     },
     "metadata": {},
     "output_type": "display_data"
    },
    {
     "data": {
      "text/html": [
       "<div>\n",
       "<style scoped>\n",
       "    .dataframe tbody tr th:only-of-type {\n",
       "        vertical-align: middle;\n",
       "    }\n",
       "\n",
       "    .dataframe tbody tr th {\n",
       "        vertical-align: top;\n",
       "    }\n",
       "\n",
       "    .dataframe thead th {\n",
       "        text-align: right;\n",
       "    }\n",
       "</style>\n",
       "<table border=\"1\" class=\"dataframe\">\n",
       "  <thead>\n",
       "    <tr style=\"text-align: right;\">\n",
       "      <th></th>\n",
       "      <th>District</th>\n",
       "      <th>Initial Stability</th>\n",
       "      <th>Maize_Production_226 (TotalNPK_315 +10%)</th>\n",
       "      <th>Maize_Production_226 (TotalNPK_315 -10%)</th>\n",
       "      <th>Normalized Maize_Production_226 (TotalNPK_315 +10%)</th>\n",
       "      <th>Normalized Maize_Production_226 (TotalNPK_315 -10%)</th>\n",
       "      <th>Impact Score Maize_Production_226 (TotalNPK_315 +10%)</th>\n",
       "      <th>Impact Score Maize_Production_226 (TotalNPK_315 -10%)</th>\n",
       "      <th>Rice_Production_223 (TotalNPK_315 +10%)</th>\n",
       "      <th>Rice_Production_223 (TotalNPK_315 -10%)</th>\n",
       "      <th>Normalized Rice_Production_223 (TotalNPK_315 +10%)</th>\n",
       "      <th>Normalized Rice_Production_223 (TotalNPK_315 -10%)</th>\n",
       "      <th>Impact Score Rice_Production_223 (TotalNPK_315 +10%)</th>\n",
       "      <th>Impact Score Rice_Production_223 (TotalNPK_315 -10%)</th>\n",
       "      <th>New Stability(NPK + 10%)_Maize_Rice</th>\n",
       "      <th>New Stability(NPK - 10%)_Maize_Rice</th>\n",
       "    </tr>\n",
       "  </thead>\n",
       "  <tbody>\n",
       "    <tr>\n",
       "      <th>0</th>\n",
       "      <td>BENGALURU</td>\n",
       "      <td>0.973840</td>\n",
       "      <td>66324.632613</td>\n",
       "      <td>54367.859761</td>\n",
       "      <td>0.098721</td>\n",
       "      <td>0.098721</td>\n",
       "      <td>0.101340</td>\n",
       "      <td>0.898660</td>\n",
       "      <td>68479.019211</td>\n",
       "      <td>57507.638667</td>\n",
       "      <td>0.098721</td>\n",
       "      <td>0.098721</td>\n",
       "      <td>0.090322</td>\n",
       "      <td>0.909678</td>\n",
       "      <td>0.959044</td>\n",
       "      <td>0.959044</td>\n",
       "    </tr>\n",
       "    <tr>\n",
       "      <th>1</th>\n",
       "      <td>BENGALURU(R)</td>\n",
       "      <td>0.983965</td>\n",
       "      <td>54895.937738</td>\n",
       "      <td>45017.109409</td>\n",
       "      <td>0.075418</td>\n",
       "      <td>0.075418</td>\n",
       "      <td>0.078105</td>\n",
       "      <td>0.921895</td>\n",
       "      <td>57992.196208</td>\n",
       "      <td>48927.510755</td>\n",
       "      <td>0.075418</td>\n",
       "      <td>0.075418</td>\n",
       "      <td>0.069002</td>\n",
       "      <td>0.930998</td>\n",
       "      <td>0.976505</td>\n",
       "      <td>0.976505</td>\n",
       "    </tr>\n",
       "    <tr>\n",
       "      <th>2</th>\n",
       "      <td>RAMANAGARA</td>\n",
       "      <td>0.868345</td>\n",
       "      <td>21642.413549</td>\n",
       "      <td>17809.680527</td>\n",
       "      <td>0.007616</td>\n",
       "      <td>0.007616</td>\n",
       "      <td>0.010500</td>\n",
       "      <td>0.989500</td>\n",
       "      <td>27479.191334</td>\n",
       "      <td>23962.324950</td>\n",
       "      <td>0.007616</td>\n",
       "      <td>0.007616</td>\n",
       "      <td>0.006968</td>\n",
       "      <td>0.993032</td>\n",
       "      <td>0.822250</td>\n",
       "      <td>0.822250</td>\n",
       "    </tr>\n",
       "    <tr>\n",
       "      <th>3</th>\n",
       "      <td>CHITRADURGA</td>\n",
       "      <td>0.477695</td>\n",
       "      <td>101798.443858</td>\n",
       "      <td>83391.887143</td>\n",
       "      <td>0.171050</td>\n",
       "      <td>0.171050</td>\n",
       "      <td>0.173459</td>\n",
       "      <td>0.826541</td>\n",
       "      <td>101029.330849</td>\n",
       "      <td>84139.711825</td>\n",
       "      <td>0.171050</td>\n",
       "      <td>0.171050</td>\n",
       "      <td>0.156497</td>\n",
       "      <td>0.843503</td>\n",
       "      <td>0.668650</td>\n",
       "      <td>0.668650</td>\n",
       "    </tr>\n",
       "    <tr>\n",
       "      <th>4</th>\n",
       "      <td>DAVANAGERE</td>\n",
       "      <td>0.169111</td>\n",
       "      <td>281678.371090</td>\n",
       "      <td>230566.373060</td>\n",
       "      <td>0.537816</td>\n",
       "      <td>0.537816</td>\n",
       "      <td>0.539159</td>\n",
       "      <td>0.460841</td>\n",
       "      <td>266084.831886</td>\n",
       "      <td>219185.121765</td>\n",
       "      <td>0.537816</td>\n",
       "      <td>0.537816</td>\n",
       "      <td>0.492058</td>\n",
       "      <td>0.507942</td>\n",
       "      <td>0.790058</td>\n",
       "      <td>0.790058</td>\n",
       "    </tr>\n",
       "  </tbody>\n",
       "</table>\n",
       "</div>"
      ],
      "text/plain": [
       "       District  Initial Stability  Maize_Production_226 (TotalNPK_315 +10%)  \\\n",
       "0     BENGALURU           0.973840                              66324.632613   \n",
       "1  BENGALURU(R)           0.983965                              54895.937738   \n",
       "2    RAMANAGARA           0.868345                              21642.413549   \n",
       "3   CHITRADURGA           0.477695                             101798.443858   \n",
       "4    DAVANAGERE           0.169111                             281678.371090   \n",
       "\n",
       "   Maize_Production_226 (TotalNPK_315 -10%)  \\\n",
       "0                              54367.859761   \n",
       "1                              45017.109409   \n",
       "2                              17809.680527   \n",
       "3                              83391.887143   \n",
       "4                             230566.373060   \n",
       "\n",
       "   Normalized Maize_Production_226 (TotalNPK_315 +10%)  \\\n",
       "0                                           0.098721     \n",
       "1                                           0.075418     \n",
       "2                                           0.007616     \n",
       "3                                           0.171050     \n",
       "4                                           0.537816     \n",
       "\n",
       "   Normalized Maize_Production_226 (TotalNPK_315 -10%)  \\\n",
       "0                                           0.098721     \n",
       "1                                           0.075418     \n",
       "2                                           0.007616     \n",
       "3                                           0.171050     \n",
       "4                                           0.537816     \n",
       "\n",
       "   Impact Score Maize_Production_226 (TotalNPK_315 +10%)  \\\n",
       "0                                           0.101340       \n",
       "1                                           0.078105       \n",
       "2                                           0.010500       \n",
       "3                                           0.173459       \n",
       "4                                           0.539159       \n",
       "\n",
       "   Impact Score Maize_Production_226 (TotalNPK_315 -10%)  \\\n",
       "0                                           0.898660       \n",
       "1                                           0.921895       \n",
       "2                                           0.989500       \n",
       "3                                           0.826541       \n",
       "4                                           0.460841       \n",
       "\n",
       "   Rice_Production_223 (TotalNPK_315 +10%)  \\\n",
       "0                             68479.019211   \n",
       "1                             57992.196208   \n",
       "2                             27479.191334   \n",
       "3                            101029.330849   \n",
       "4                            266084.831886   \n",
       "\n",
       "   Rice_Production_223 (TotalNPK_315 -10%)  \\\n",
       "0                             57507.638667   \n",
       "1                             48927.510755   \n",
       "2                             23962.324950   \n",
       "3                             84139.711825   \n",
       "4                            219185.121765   \n",
       "\n",
       "   Normalized Rice_Production_223 (TotalNPK_315 +10%)  \\\n",
       "0                                           0.098721    \n",
       "1                                           0.075418    \n",
       "2                                           0.007616    \n",
       "3                                           0.171050    \n",
       "4                                           0.537816    \n",
       "\n",
       "   Normalized Rice_Production_223 (TotalNPK_315 -10%)  \\\n",
       "0                                           0.098721    \n",
       "1                                           0.075418    \n",
       "2                                           0.007616    \n",
       "3                                           0.171050    \n",
       "4                                           0.537816    \n",
       "\n",
       "   Impact Score Rice_Production_223 (TotalNPK_315 +10%)  \\\n",
       "0                                           0.090322      \n",
       "1                                           0.069002      \n",
       "2                                           0.006968      \n",
       "3                                           0.156497      \n",
       "4                                           0.492058      \n",
       "\n",
       "   Impact Score Rice_Production_223 (TotalNPK_315 -10%)  \\\n",
       "0                                           0.909678      \n",
       "1                                           0.930998      \n",
       "2                                           0.993032      \n",
       "3                                           0.843503      \n",
       "4                                           0.507942      \n",
       "\n",
       "   New Stability(NPK + 10%)_Maize_Rice  New Stability(NPK - 10%)_Maize_Rice  \n",
       "0                             0.959044                             0.959044  \n",
       "1                             0.976505                             0.976505  \n",
       "2                             0.822250                             0.822250  \n",
       "3                             0.668650                             0.668650  \n",
       "4                             0.790058                             0.790058  "
      ]
     },
     "execution_count": 324,
     "metadata": {},
     "output_type": "execute_result"
    }
   ],
   "source": [
    "base_column = \"TotalNPK_315\"\n",
    "capability_vector = [\"Maize_Production_226\", \"Rice_Production_223\"]\n",
    "change_percentage = 10\n",
    "dim = 2\n",
    "\n",
    "new_data, handle_increase, handle_decrease,result_df = calc_and_vis_impact_stability(G, existing_data.copy(), adjacency_file, base_column, capability_vector, change_percentage, dim)\n",
    "new_data.head()"
   ]
  },
  {
   "cell_type": "code",
   "execution_count": null,
   "metadata": {},
   "outputs": [
    {
     "name": "stdout",
     "output_type": "stream",
     "text": [
      "2.564730341506419 562.38192631683\n",
      "2.353363480056113 8136.426218911565\n",
      "0.009814190872938423 364.522399314813\n"
     ]
    },
    {
     "data": {
      "application/vnd.plotly.v1+json": {
       "config": {
        "plotlyServerURL": "https://plot.ly"
       },
       "data": [
        {
         "hovertemplate": "%{text}<br>Impact: %{y:.2f}<br>Stability: %{x:.2f}",
         "marker": {
          "color": "red",
          "size": 7,
          "symbol": "star"
         },
         "mode": "markers",
         "name": "Maize_Production_226 +20%",
         "text": [
          "BENGALURU",
          "BENGALURU(R)",
          "RAMANAGARA",
          "CHITRADURGA",
          "DAVANAGERE",
          "KOLAR",
          "CHIKKABALLAPURA",
          "SHIVAMOGGA",
          "TUMAKURU",
          "CHIKKAMAGALURU",
          "DAKSHINA KANNADA",
          "UDUPI",
          "HASSAN",
          "KODAGU",
          "MANDYA",
          "MYSURU",
          "CHAMARAJANAGAR",
          "BELAGAVI",
          "VIJAYAPURA",
          "BAGALKOT",
          "DHARAWAD",
          "GADAG",
          "HAVERI",
          "UTTARA KANNADA",
          "BALLARI",
          "BIDAR",
          "KALABURAGI",
          "YADGIRI",
          "RAICHUR",
          "KOPPAL"
         ],
         "type": "scatter",
         "x": [
          0.9590442729122614,
          0.9765052391752488,
          0.8222502261381797,
          0.6686503866852201,
          0.7900581835459943,
          1,
          0.9972504351838052,
          0.9678123842563559,
          0.9888021812136775,
          0.8509364154879832,
          0.8095920216384357,
          0.7639456796171662,
          0.8601165048161653,
          0.9462974084736768,
          0.8588396049480364,
          0.9105241683796111,
          0.866508382237713,
          0,
          0.6325317294369197,
          0.9749632202667028,
          0.7634273694337913,
          0.48885270350099774,
          0.9683541813306027,
          0.6144347726001685,
          0.6106021055075409,
          0.7942327017204209,
          0.9903543889006118,
          0.8909298300237722,
          0.7762892089664343,
          0.9102825362300663
         ],
         "y": [
          0.12939196266158162,
          0.10688246470228889,
          0.04138766034628153,
          0.19925975514248717,
          0.5535440281329872,
          0.12316865046350518,
          0.15743576325416403,
          0.314418813450645,
          0.2118397362285992,
          0.37695198798381707,
          0.10315403391219122,
          0.03403081628355533,
          0.38010809631284176,
          0.22739246019504222,
          0.3363615454776123,
          0.34445185133511225,
          0.13213133133448493,
          1,
          0.3011887185009839,
          0.4711295937384592,
          0.20757787867866648,
          0.12922526679913324,
          0.3610492027062322,
          0.08497307184781046,
          0.6851504115360607,
          0.13688216341426662,
          0.299916273417627,
          0.5076748833159145,
          0.6512889253440266,
          0.40856308003279684
         ]
        },
        {
         "hovertemplate": "%{text}<br>Impact: %{y:.2f}<br>Stability: %{x:.2f}",
         "marker": {
          "color": "blue",
          "size": 7,
          "symbol": "circle"
         },
         "mode": "markers",
         "name": "Rice_Production_223 +20%",
         "text": [
          "BENGALURU",
          "BENGALURU(R)",
          "RAMANAGARA",
          "CHITRADURGA",
          "DAVANAGERE",
          "KOLAR",
          "CHIKKABALLAPURA",
          "SHIVAMOGGA",
          "TUMAKURU",
          "CHIKKAMAGALURU",
          "DAKSHINA KANNADA",
          "UDUPI",
          "HASSAN",
          "KODAGU",
          "MANDYA",
          "MYSURU",
          "CHAMARAJANAGAR",
          "BELAGAVI",
          "VIJAYAPURA",
          "BAGALKOT",
          "DHARAWAD",
          "GADAG",
          "HAVERI",
          "UTTARA KANNADA",
          "BALLARI",
          "BIDAR",
          "KALABURAGI",
          "YADGIRI",
          "RAICHUR",
          "KOPPAL"
         ],
         "type": "scatter",
         "x": [
          0.9590442729122614,
          0.9765052391752488,
          0.8222502261381797,
          0.6686503866852201,
          0.7900581835459943,
          1,
          0.9972504351838052,
          0.9678123842563559,
          0.9888021812136775,
          0.8509364154879832,
          0.8095920216384357,
          0.7639456796171662,
          0.8601165048161653,
          0.9462974084736768,
          0.8588396049480364,
          0.9105241683796111,
          0.866508382237713,
          0,
          0.6325317294369197,
          0.9749632202667028,
          0.7634273694337913,
          0.48885270350099774,
          0.9683541813306027,
          0.6144347726001685,
          0.6106021055075409,
          0.7942327017204209,
          0.9903543889006118,
          0.8909298300237722,
          0.7762892089664343,
          0.9102825362300663
         ],
         "y": [
          0.11871762275227489,
          0.09806319776477959,
          0.037966010075910835,
          0.18282740793933122,
          0.5079140870809501,
          0.11300719175104189,
          0.14445025245158097,
          0.2884958744576822,
          0.19437063632039517,
          0.34587550882185697,
          0.09464203776314797,
          0.03121546485659617,
          0.3487715131153394,
          0.20864161522436928,
          0.30863024233613634,
          0.31605380263773974,
          0.12123123211263895,
          0.9175763282301166,
          0.27635610998095395,
          0.4322916651074795,
          0.19046001080437208,
          0.1185646647790275,
          0.33128331817406353,
          0.07795942148097447,
          0.6286744069597026,
          0.12559053435018738,
          0.27518853078516603,
          0.4658251514423984,
          0.5976035439940655,
          0.37488143914865546
         ]
        },
        {
         "hovertemplate": "%{text}<br>Impact: %{y:.2f}<br>Stability: %{x:.2f}",
         "marker": {
          "color": "green",
          "size": 7,
          "symbol": "circle"
         },
         "mode": "markers",
         "name": "Jowar_Yield_278 +20%",
         "text": [
          "BENGALURU",
          "BENGALURU(R)",
          "RAMANAGARA",
          "CHITRADURGA",
          "DAVANAGERE",
          "KOLAR",
          "CHIKKABALLAPURA",
          "SHIVAMOGGA",
          "TUMAKURU",
          "CHIKKAMAGALURU",
          "DAKSHINA KANNADA",
          "UDUPI",
          "HASSAN",
          "KODAGU",
          "MANDYA",
          "MYSURU",
          "CHAMARAJANAGAR",
          "BELAGAVI",
          "VIJAYAPURA",
          "BAGALKOT",
          "DHARAWAD",
          "GADAG",
          "HAVERI",
          "UTTARA KANNADA",
          "BALLARI",
          "BIDAR",
          "KALABURAGI",
          "YADGIRI",
          "RAICHUR",
          "KOPPAL"
         ],
         "type": "scatter",
         "x": [
          0.9590442729122614,
          0.9765052391752488,
          0.8222502261381797,
          0.6686503866852201,
          0.7900581835459943,
          1,
          0.9972504351838052,
          0.9678123842563559,
          0.9888021812136775,
          0.8509364154879832,
          0.8095920216384357,
          0.7639456796171662,
          0.8601165048161653,
          0.9462974084736768,
          0.8588396049480364,
          0.9105241683796111,
          0.866508382237713,
          0,
          0.6325317294369197,
          0.9749632202667028,
          0.7634273694337913,
          0.48885270350099774,
          0.9683541813306027,
          0.6144347726001685,
          0.6106021055075409,
          0.7942327017204209,
          0.9903543889006118,
          0.8909298300237722,
          0.7762892089664343,
          0.9102825362300663
         ],
         "y": [
          0.0003649087302747259,
          0.00027877394025357927,
          0.000028151681557146304,
          0.0006322646546701583,
          0.0019879679900807463,
          0.0003410946189877136,
          0.00047222106926182164,
          0.0010729320264766895,
          0.0006804031796289031,
          0.001312221319712428,
          0.00026450673608073474,
          0,
          0.0013242984761508427,
          0.0007399171952470691,
          0.0011568980313627663,
          0.001187856376035884,
          0.0003753911917608841,
          0.0036963753237314657,
          0.0010223057773924265,
          0.0016726011163227493,
          0.0006640947659171726,
          0.0003642708522938249,
          0.0012513677603343681,
          0.00019493551096368063,
          0.002491572656002949,
          0.0003935707142165931,
          0.001017436642138206,
          0.0018124452323358534,
          0.002361998375482372,
          0.0014331842474908305
         ]
        }
       ],
       "layout": {
        "hovermode": "closest",
        "shapes": [
         {
          "line": {
           "color": "black",
           "dash": "dash"
          },
          "name": "Average Stability",
          "type": "line",
          "x0": 0.8150796080875854,
          "x1": 0.8150796080875854,
          "y0": 0,
          "y1": 1
         },
         {
          "line": {
           "color": "black",
           "dash": "dash"
          },
          "name": "Average Impact",
          "type": "line",
          "x0": 0,
          "x1": 1,
          "y0": 0.3005510142183059,
          "y1": 0.3005510142183059
         }
        ],
        "template": {
         "data": {
          "bar": [
           {
            "error_x": {
             "color": "#2a3f5f"
            },
            "error_y": {
             "color": "#2a3f5f"
            },
            "marker": {
             "line": {
              "color": "#E5ECF6",
              "width": 0.5
             },
             "pattern": {
              "fillmode": "overlay",
              "size": 10,
              "solidity": 0.2
             }
            },
            "type": "bar"
           }
          ],
          "barpolar": [
           {
            "marker": {
             "line": {
              "color": "#E5ECF6",
              "width": 0.5
             },
             "pattern": {
              "fillmode": "overlay",
              "size": 10,
              "solidity": 0.2
             }
            },
            "type": "barpolar"
           }
          ],
          "carpet": [
           {
            "aaxis": {
             "endlinecolor": "#2a3f5f",
             "gridcolor": "white",
             "linecolor": "white",
             "minorgridcolor": "white",
             "startlinecolor": "#2a3f5f"
            },
            "baxis": {
             "endlinecolor": "#2a3f5f",
             "gridcolor": "white",
             "linecolor": "white",
             "minorgridcolor": "white",
             "startlinecolor": "#2a3f5f"
            },
            "type": "carpet"
           }
          ],
          "choropleth": [
           {
            "colorbar": {
             "outlinewidth": 0,
             "ticks": ""
            },
            "type": "choropleth"
           }
          ],
          "contour": [
           {
            "colorbar": {
             "outlinewidth": 0,
             "ticks": ""
            },
            "colorscale": [
             [
              0,
              "#0d0887"
             ],
             [
              0.1111111111111111,
              "#46039f"
             ],
             [
              0.2222222222222222,
              "#7201a8"
             ],
             [
              0.3333333333333333,
              "#9c179e"
             ],
             [
              0.4444444444444444,
              "#bd3786"
             ],
             [
              0.5555555555555556,
              "#d8576b"
             ],
             [
              0.6666666666666666,
              "#ed7953"
             ],
             [
              0.7777777777777778,
              "#fb9f3a"
             ],
             [
              0.8888888888888888,
              "#fdca26"
             ],
             [
              1,
              "#f0f921"
             ]
            ],
            "type": "contour"
           }
          ],
          "contourcarpet": [
           {
            "colorbar": {
             "outlinewidth": 0,
             "ticks": ""
            },
            "type": "contourcarpet"
           }
          ],
          "heatmap": [
           {
            "colorbar": {
             "outlinewidth": 0,
             "ticks": ""
            },
            "colorscale": [
             [
              0,
              "#0d0887"
             ],
             [
              0.1111111111111111,
              "#46039f"
             ],
             [
              0.2222222222222222,
              "#7201a8"
             ],
             [
              0.3333333333333333,
              "#9c179e"
             ],
             [
              0.4444444444444444,
              "#bd3786"
             ],
             [
              0.5555555555555556,
              "#d8576b"
             ],
             [
              0.6666666666666666,
              "#ed7953"
             ],
             [
              0.7777777777777778,
              "#fb9f3a"
             ],
             [
              0.8888888888888888,
              "#fdca26"
             ],
             [
              1,
              "#f0f921"
             ]
            ],
            "type": "heatmap"
           }
          ],
          "heatmapgl": [
           {
            "colorbar": {
             "outlinewidth": 0,
             "ticks": ""
            },
            "colorscale": [
             [
              0,
              "#0d0887"
             ],
             [
              0.1111111111111111,
              "#46039f"
             ],
             [
              0.2222222222222222,
              "#7201a8"
             ],
             [
              0.3333333333333333,
              "#9c179e"
             ],
             [
              0.4444444444444444,
              "#bd3786"
             ],
             [
              0.5555555555555556,
              "#d8576b"
             ],
             [
              0.6666666666666666,
              "#ed7953"
             ],
             [
              0.7777777777777778,
              "#fb9f3a"
             ],
             [
              0.8888888888888888,
              "#fdca26"
             ],
             [
              1,
              "#f0f921"
             ]
            ],
            "type": "heatmapgl"
           }
          ],
          "histogram": [
           {
            "marker": {
             "pattern": {
              "fillmode": "overlay",
              "size": 10,
              "solidity": 0.2
             }
            },
            "type": "histogram"
           }
          ],
          "histogram2d": [
           {
            "colorbar": {
             "outlinewidth": 0,
             "ticks": ""
            },
            "colorscale": [
             [
              0,
              "#0d0887"
             ],
             [
              0.1111111111111111,
              "#46039f"
             ],
             [
              0.2222222222222222,
              "#7201a8"
             ],
             [
              0.3333333333333333,
              "#9c179e"
             ],
             [
              0.4444444444444444,
              "#bd3786"
             ],
             [
              0.5555555555555556,
              "#d8576b"
             ],
             [
              0.6666666666666666,
              "#ed7953"
             ],
             [
              0.7777777777777778,
              "#fb9f3a"
             ],
             [
              0.8888888888888888,
              "#fdca26"
             ],
             [
              1,
              "#f0f921"
             ]
            ],
            "type": "histogram2d"
           }
          ],
          "histogram2dcontour": [
           {
            "colorbar": {
             "outlinewidth": 0,
             "ticks": ""
            },
            "colorscale": [
             [
              0,
              "#0d0887"
             ],
             [
              0.1111111111111111,
              "#46039f"
             ],
             [
              0.2222222222222222,
              "#7201a8"
             ],
             [
              0.3333333333333333,
              "#9c179e"
             ],
             [
              0.4444444444444444,
              "#bd3786"
             ],
             [
              0.5555555555555556,
              "#d8576b"
             ],
             [
              0.6666666666666666,
              "#ed7953"
             ],
             [
              0.7777777777777778,
              "#fb9f3a"
             ],
             [
              0.8888888888888888,
              "#fdca26"
             ],
             [
              1,
              "#f0f921"
             ]
            ],
            "type": "histogram2dcontour"
           }
          ],
          "mesh3d": [
           {
            "colorbar": {
             "outlinewidth": 0,
             "ticks": ""
            },
            "type": "mesh3d"
           }
          ],
          "parcoords": [
           {
            "line": {
             "colorbar": {
              "outlinewidth": 0,
              "ticks": ""
             }
            },
            "type": "parcoords"
           }
          ],
          "pie": [
           {
            "automargin": true,
            "type": "pie"
           }
          ],
          "scatter": [
           {
            "fillpattern": {
             "fillmode": "overlay",
             "size": 10,
             "solidity": 0.2
            },
            "type": "scatter"
           }
          ],
          "scatter3d": [
           {
            "line": {
             "colorbar": {
              "outlinewidth": 0,
              "ticks": ""
             }
            },
            "marker": {
             "colorbar": {
              "outlinewidth": 0,
              "ticks": ""
             }
            },
            "type": "scatter3d"
           }
          ],
          "scattercarpet": [
           {
            "marker": {
             "colorbar": {
              "outlinewidth": 0,
              "ticks": ""
             }
            },
            "type": "scattercarpet"
           }
          ],
          "scattergeo": [
           {
            "marker": {
             "colorbar": {
              "outlinewidth": 0,
              "ticks": ""
             }
            },
            "type": "scattergeo"
           }
          ],
          "scattergl": [
           {
            "marker": {
             "colorbar": {
              "outlinewidth": 0,
              "ticks": ""
             }
            },
            "type": "scattergl"
           }
          ],
          "scattermapbox": [
           {
            "marker": {
             "colorbar": {
              "outlinewidth": 0,
              "ticks": ""
             }
            },
            "type": "scattermapbox"
           }
          ],
          "scatterpolar": [
           {
            "marker": {
             "colorbar": {
              "outlinewidth": 0,
              "ticks": ""
             }
            },
            "type": "scatterpolar"
           }
          ],
          "scatterpolargl": [
           {
            "marker": {
             "colorbar": {
              "outlinewidth": 0,
              "ticks": ""
             }
            },
            "type": "scatterpolargl"
           }
          ],
          "scatterternary": [
           {
            "marker": {
             "colorbar": {
              "outlinewidth": 0,
              "ticks": ""
             }
            },
            "type": "scatterternary"
           }
          ],
          "surface": [
           {
            "colorbar": {
             "outlinewidth": 0,
             "ticks": ""
            },
            "colorscale": [
             [
              0,
              "#0d0887"
             ],
             [
              0.1111111111111111,
              "#46039f"
             ],
             [
              0.2222222222222222,
              "#7201a8"
             ],
             [
              0.3333333333333333,
              "#9c179e"
             ],
             [
              0.4444444444444444,
              "#bd3786"
             ],
             [
              0.5555555555555556,
              "#d8576b"
             ],
             [
              0.6666666666666666,
              "#ed7953"
             ],
             [
              0.7777777777777778,
              "#fb9f3a"
             ],
             [
              0.8888888888888888,
              "#fdca26"
             ],
             [
              1,
              "#f0f921"
             ]
            ],
            "type": "surface"
           }
          ],
          "table": [
           {
            "cells": {
             "fill": {
              "color": "#EBF0F8"
             },
             "line": {
              "color": "white"
             }
            },
            "header": {
             "fill": {
              "color": "#C8D4E3"
             },
             "line": {
              "color": "white"
             }
            },
            "type": "table"
           }
          ]
         },
         "layout": {
          "annotationdefaults": {
           "arrowcolor": "#2a3f5f",
           "arrowhead": 0,
           "arrowwidth": 1
          },
          "autotypenumbers": "strict",
          "coloraxis": {
           "colorbar": {
            "outlinewidth": 0,
            "ticks": ""
           }
          },
          "colorscale": {
           "diverging": [
            [
             0,
             "#8e0152"
            ],
            [
             0.1,
             "#c51b7d"
            ],
            [
             0.2,
             "#de77ae"
            ],
            [
             0.3,
             "#f1b6da"
            ],
            [
             0.4,
             "#fde0ef"
            ],
            [
             0.5,
             "#f7f7f7"
            ],
            [
             0.6,
             "#e6f5d0"
            ],
            [
             0.7,
             "#b8e186"
            ],
            [
             0.8,
             "#7fbc41"
            ],
            [
             0.9,
             "#4d9221"
            ],
            [
             1,
             "#276419"
            ]
           ],
           "sequential": [
            [
             0,
             "#0d0887"
            ],
            [
             0.1111111111111111,
             "#46039f"
            ],
            [
             0.2222222222222222,
             "#7201a8"
            ],
            [
             0.3333333333333333,
             "#9c179e"
            ],
            [
             0.4444444444444444,
             "#bd3786"
            ],
            [
             0.5555555555555556,
             "#d8576b"
            ],
            [
             0.6666666666666666,
             "#ed7953"
            ],
            [
             0.7777777777777778,
             "#fb9f3a"
            ],
            [
             0.8888888888888888,
             "#fdca26"
            ],
            [
             1,
             "#f0f921"
            ]
           ],
           "sequentialminus": [
            [
             0,
             "#0d0887"
            ],
            [
             0.1111111111111111,
             "#46039f"
            ],
            [
             0.2222222222222222,
             "#7201a8"
            ],
            [
             0.3333333333333333,
             "#9c179e"
            ],
            [
             0.4444444444444444,
             "#bd3786"
            ],
            [
             0.5555555555555556,
             "#d8576b"
            ],
            [
             0.6666666666666666,
             "#ed7953"
            ],
            [
             0.7777777777777778,
             "#fb9f3a"
            ],
            [
             0.8888888888888888,
             "#fdca26"
            ],
            [
             1,
             "#f0f921"
            ]
           ]
          },
          "colorway": [
           "#636efa",
           "#EF553B",
           "#00cc96",
           "#ab63fa",
           "#FFA15A",
           "#19d3f3",
           "#FF6692",
           "#B6E880",
           "#FF97FF",
           "#FECB52"
          ],
          "font": {
           "color": "#2a3f5f"
          },
          "geo": {
           "bgcolor": "white",
           "lakecolor": "white",
           "landcolor": "#E5ECF6",
           "showlakes": true,
           "showland": true,
           "subunitcolor": "white"
          },
          "hoverlabel": {
           "align": "left"
          },
          "hovermode": "closest",
          "mapbox": {
           "style": "light"
          },
          "paper_bgcolor": "white",
          "plot_bgcolor": "#E5ECF6",
          "polar": {
           "angularaxis": {
            "gridcolor": "white",
            "linecolor": "white",
            "ticks": ""
           },
           "bgcolor": "#E5ECF6",
           "radialaxis": {
            "gridcolor": "white",
            "linecolor": "white",
            "ticks": ""
           }
          },
          "scene": {
           "xaxis": {
            "backgroundcolor": "#E5ECF6",
            "gridcolor": "white",
            "gridwidth": 2,
            "linecolor": "white",
            "showbackground": true,
            "ticks": "",
            "zerolinecolor": "white"
           },
           "yaxis": {
            "backgroundcolor": "#E5ECF6",
            "gridcolor": "white",
            "gridwidth": 2,
            "linecolor": "white",
            "showbackground": true,
            "ticks": "",
            "zerolinecolor": "white"
           },
           "zaxis": {
            "backgroundcolor": "#E5ECF6",
            "gridcolor": "white",
            "gridwidth": 2,
            "linecolor": "white",
            "showbackground": true,
            "ticks": "",
            "zerolinecolor": "white"
           }
          },
          "shapedefaults": {
           "line": {
            "color": "#2a3f5f"
           }
          },
          "ternary": {
           "aaxis": {
            "gridcolor": "white",
            "linecolor": "white",
            "ticks": ""
           },
           "baxis": {
            "gridcolor": "white",
            "linecolor": "white",
            "ticks": ""
           },
           "bgcolor": "#E5ECF6",
           "caxis": {
            "gridcolor": "white",
            "linecolor": "white",
            "ticks": ""
           }
          },
          "title": {
           "x": 0.05
          },
          "xaxis": {
           "automargin": true,
           "gridcolor": "white",
           "linecolor": "white",
           "ticks": "",
           "title": {
            "standoff": 15
           },
           "zerolinecolor": "white",
           "zerolinewidth": 2
          },
          "yaxis": {
           "automargin": true,
           "gridcolor": "white",
           "linecolor": "white",
           "ticks": "",
           "title": {
            "standoff": 15
           },
           "zerolinecolor": "white",
           "zerolinewidth": 2
          }
         }
        },
        "title": {
         "text": "Impact vs Stability (+20%)"
        },
        "xaxis": {
         "title": {
          "text": "Stability (TotalNPK_315 +20%)"
         }
        },
        "yaxis": {
         "title": {
          "text": "Normalized Impact"
         }
        }
       }
      }
     },
     "metadata": {},
     "output_type": "display_data"
    },
    {
     "data": {
      "application/vnd.plotly.v1+json": {
       "config": {
        "plotlyServerURL": "https://plot.ly"
       },
       "data": [
        {
         "hovertemplate": "%{text}<br>Impact: %{y:.2f}<br>Stability: %{x:.2f}",
         "marker": {
          "color": "red",
          "size": 7,
          "symbol": "star"
         },
         "mode": "markers",
         "name": "Maize_Production_226 -20%",
         "text": [
          "BENGALURU",
          "BENGALURU(R)",
          "RAMANAGARA",
          "CHITRADURGA",
          "DAVANAGERE",
          "KOLAR",
          "CHIKKABALLAPURA",
          "SHIVAMOGGA",
          "TUMAKURU",
          "CHIKKAMAGALURU",
          "DAKSHINA KANNADA",
          "UDUPI",
          "HASSAN",
          "KODAGU",
          "MANDYA",
          "MYSURU",
          "CHAMARAJANAGAR",
          "BELAGAVI",
          "VIJAYAPURA",
          "BAGALKOT",
          "DHARAWAD",
          "GADAG",
          "HAVERI",
          "UTTARA KANNADA",
          "BALLARI",
          "BIDAR",
          "KALABURAGI",
          "YADGIRI",
          "RAICHUR",
          "KOPPAL"
         ],
         "type": "scatter",
         "x": [
          0.9590442729122614,
          0.9765052391752486,
          0.8222502261381796,
          0.66865038668522,
          0.7900581835459941,
          1,
          0.9972504351838051,
          0.9678123842563557,
          0.9888021812136775,
          0.8509364154879832,
          0.8095920216384358,
          0.7639456796171661,
          0.8601165048161653,
          0.9462974084736767,
          0.8588396049480361,
          0.9105241683796111,
          0.8665083822377129,
          0,
          0.6325317294369195,
          0.9749632202667028,
          0.7634273694337912,
          0.48885270350099774,
          0.9683541813306025,
          0.6144347726001685,
          0.6106021055075405,
          0.7942327017204208,
          0.9903543889006119,
          0.8909298300237722,
          0.776289208966434,
          0.9102825362300663
         ],
         "y": [
          0.8706080373384182,
          0.8931175352977111,
          0.9586123396537184,
          0.8007402448575124,
          0.4464559718670125,
          0.8768313495364948,
          0.8425642367458358,
          0.6855811865493553,
          0.7881602637714006,
          0.6230480120161824,
          0.8968459660878088,
          0.9659691837164446,
          0.6198919036871577,
          0.7726075398049576,
          0.6636384545223867,
          0.6555481486648874,
          0.8678686686655149,
          0,
          0.698811281499016,
          0.5288704062615399,
          0.7924221213213335,
          0.8707747332008666,
          0.638950797293767,
          0.9150269281521894,
          0.31484958846393823,
          0.8631178365857333,
          0.7000837265823728,
          0.49232511668408524,
          0.3487110746559721,
          0.5914369199672024
         ]
        },
        {
         "hovertemplate": "%{text}<br>Impact: %{y:.2f}<br>Stability: %{x:.2f}",
         "marker": {
          "color": "blue",
          "size": 7,
          "symbol": "circle"
         },
         "mode": "markers",
         "name": "Rice_Production_223 -20%",
         "text": [
          "BENGALURU",
          "BENGALURU(R)",
          "RAMANAGARA",
          "CHITRADURGA",
          "DAVANAGERE",
          "KOLAR",
          "CHIKKABALLAPURA",
          "SHIVAMOGGA",
          "TUMAKURU",
          "CHIKKAMAGALURU",
          "DAKSHINA KANNADA",
          "UDUPI",
          "HASSAN",
          "KODAGU",
          "MANDYA",
          "MYSURU",
          "CHAMARAJANAGAR",
          "BELAGAVI",
          "VIJAYAPURA",
          "BAGALKOT",
          "DHARAWAD",
          "GADAG",
          "HAVERI",
          "UTTARA KANNADA",
          "BALLARI",
          "BIDAR",
          "KALABURAGI",
          "YADGIRI",
          "RAICHUR",
          "KOPPAL"
         ],
         "type": "scatter",
         "x": [
          0.9590442729122614,
          0.9765052391752486,
          0.8222502261381796,
          0.66865038668522,
          0.7900581835459941,
          1,
          0.9972504351838051,
          0.9678123842563557,
          0.9888021812136775,
          0.8509364154879832,
          0.8095920216384358,
          0.7639456796171661,
          0.8601165048161653,
          0.9462974084736767,
          0.8588396049480361,
          0.9105241683796111,
          0.8665083822377129,
          0,
          0.6325317294369195,
          0.9749632202667028,
          0.7634273694337912,
          0.48885270350099774,
          0.9683541813306025,
          0.6144347726001685,
          0.6106021055075405,
          0.7942327017204208,
          0.9903543889006119,
          0.8909298300237722,
          0.776289208966434,
          0.9102825362300663
         ],
         "y": [
          0.8812823772477251,
          0.9019368022352204,
          0.9620339899240892,
          0.8171725920606686,
          0.49208591291904924,
          0.886992808248958,
          0.855549747548419,
          0.7115041255423173,
          0.8056293636796048,
          0.6541244911781425,
          0.9053579622368519,
          0.9687845351434038,
          0.6512284868846601,
          0.7913583847756306,
          0.691369757663863,
          0.6839461973622604,
          0.8787687678873609,
          0.08242367176988287,
          0.7236438900190458,
          0.5677083348925198,
          0.8095399891956278,
          0.8814353352209723,
          0.6687166818259364,
          0.9220405785190254,
          0.37132559304029694,
          0.8744094656498125,
          0.7248114692148335,
          0.5341748485576009,
          0.4023964560059335,
          0.6251185608513442
         ]
        },
        {
         "hovertemplate": "%{text}<br>Impact: %{y:.2f}<br>Stability: %{x:.2f}",
         "marker": {
          "color": "green",
          "size": 7,
          "symbol": "circle"
         },
         "mode": "markers",
         "name": "Jowar_Yield_278 -20%",
         "text": [
          "BENGALURU",
          "BENGALURU(R)",
          "RAMANAGARA",
          "CHITRADURGA",
          "DAVANAGERE",
          "KOLAR",
          "CHIKKABALLAPURA",
          "SHIVAMOGGA",
          "TUMAKURU",
          "CHIKKAMAGALURU",
          "DAKSHINA KANNADA",
          "UDUPI",
          "HASSAN",
          "KODAGU",
          "MANDYA",
          "MYSURU",
          "CHAMARAJANAGAR",
          "BELAGAVI",
          "VIJAYAPURA",
          "BAGALKOT",
          "DHARAWAD",
          "GADAG",
          "HAVERI",
          "UTTARA KANNADA",
          "BALLARI",
          "BIDAR",
          "KALABURAGI",
          "YADGIRI",
          "RAICHUR",
          "KOPPAL"
         ],
         "type": "scatter",
         "x": [
          0.9590442729122614,
          0.9765052391752486,
          0.8222502261381796,
          0.66865038668522,
          0.7900581835459941,
          1,
          0.9972504351838051,
          0.9678123842563557,
          0.9888021812136775,
          0.8509364154879832,
          0.8095920216384358,
          0.7639456796171661,
          0.8601165048161653,
          0.9462974084736767,
          0.8588396049480361,
          0.9105241683796111,
          0.8665083822377129,
          0,
          0.6325317294369195,
          0.9749632202667028,
          0.7634273694337912,
          0.48885270350099774,
          0.9683541813306025,
          0.6144347726001685,
          0.6106021055075405,
          0.7942327017204208,
          0.9903543889006119,
          0.8909298300237722,
          0.776289208966434,
          0.9102825362300663
         ],
         "y": [
          0.9996350912697252,
          0.9997212260597464,
          0.9999718483184428,
          0.9993677353453297,
          0.9980120320099192,
          0.9996589053810122,
          0.9995277789307382,
          0.9989270679735233,
          0.9993195968203711,
          0.9986877786802875,
          0.9997354932639192,
          1,
          0.9986757015238491,
          0.9992600828047529,
          0.9988431019686372,
          0.998812143623964,
          0.9996246088082391,
          0.9963036246762684,
          0.9989776942226075,
          0.9983273988836772,
          0.9993359052340828,
          0.999635729147706,
          0.9987486322396657,
          0.9998050644890362,
          0.997508427343997,
          0.9996064292857832,
          0.9989825633578617,
          0.9981875547676641,
          0.9976380016245175,
          0.998566815752509
         ]
        }
       ],
       "layout": {
        "hovermode": "closest",
        "shapes": [
         {
          "line": {
           "color": "black",
           "dash": "dash"
          },
          "name": "Average Stability",
          "type": "line",
          "x0": 0.8150796080875853,
          "x1": 0.8150796080875853,
          "y0": 0,
          "y1": 1
         },
         {
          "line": {
           "color": "black",
           "dash": "dash"
          },
          "name": "Average Impact",
          "type": "line",
          "x0": 0,
          "x1": 1,
          "y0": 0.6994489857816938,
          "y1": 0.6994489857816938
         }
        ],
        "template": {
         "data": {
          "bar": [
           {
            "error_x": {
             "color": "#2a3f5f"
            },
            "error_y": {
             "color": "#2a3f5f"
            },
            "marker": {
             "line": {
              "color": "#E5ECF6",
              "width": 0.5
             },
             "pattern": {
              "fillmode": "overlay",
              "size": 10,
              "solidity": 0.2
             }
            },
            "type": "bar"
           }
          ],
          "barpolar": [
           {
            "marker": {
             "line": {
              "color": "#E5ECF6",
              "width": 0.5
             },
             "pattern": {
              "fillmode": "overlay",
              "size": 10,
              "solidity": 0.2
             }
            },
            "type": "barpolar"
           }
          ],
          "carpet": [
           {
            "aaxis": {
             "endlinecolor": "#2a3f5f",
             "gridcolor": "white",
             "linecolor": "white",
             "minorgridcolor": "white",
             "startlinecolor": "#2a3f5f"
            },
            "baxis": {
             "endlinecolor": "#2a3f5f",
             "gridcolor": "white",
             "linecolor": "white",
             "minorgridcolor": "white",
             "startlinecolor": "#2a3f5f"
            },
            "type": "carpet"
           }
          ],
          "choropleth": [
           {
            "colorbar": {
             "outlinewidth": 0,
             "ticks": ""
            },
            "type": "choropleth"
           }
          ],
          "contour": [
           {
            "colorbar": {
             "outlinewidth": 0,
             "ticks": ""
            },
            "colorscale": [
             [
              0,
              "#0d0887"
             ],
             [
              0.1111111111111111,
              "#46039f"
             ],
             [
              0.2222222222222222,
              "#7201a8"
             ],
             [
              0.3333333333333333,
              "#9c179e"
             ],
             [
              0.4444444444444444,
              "#bd3786"
             ],
             [
              0.5555555555555556,
              "#d8576b"
             ],
             [
              0.6666666666666666,
              "#ed7953"
             ],
             [
              0.7777777777777778,
              "#fb9f3a"
             ],
             [
              0.8888888888888888,
              "#fdca26"
             ],
             [
              1,
              "#f0f921"
             ]
            ],
            "type": "contour"
           }
          ],
          "contourcarpet": [
           {
            "colorbar": {
             "outlinewidth": 0,
             "ticks": ""
            },
            "type": "contourcarpet"
           }
          ],
          "heatmap": [
           {
            "colorbar": {
             "outlinewidth": 0,
             "ticks": ""
            },
            "colorscale": [
             [
              0,
              "#0d0887"
             ],
             [
              0.1111111111111111,
              "#46039f"
             ],
             [
              0.2222222222222222,
              "#7201a8"
             ],
             [
              0.3333333333333333,
              "#9c179e"
             ],
             [
              0.4444444444444444,
              "#bd3786"
             ],
             [
              0.5555555555555556,
              "#d8576b"
             ],
             [
              0.6666666666666666,
              "#ed7953"
             ],
             [
              0.7777777777777778,
              "#fb9f3a"
             ],
             [
              0.8888888888888888,
              "#fdca26"
             ],
             [
              1,
              "#f0f921"
             ]
            ],
            "type": "heatmap"
           }
          ],
          "heatmapgl": [
           {
            "colorbar": {
             "outlinewidth": 0,
             "ticks": ""
            },
            "colorscale": [
             [
              0,
              "#0d0887"
             ],
             [
              0.1111111111111111,
              "#46039f"
             ],
             [
              0.2222222222222222,
              "#7201a8"
             ],
             [
              0.3333333333333333,
              "#9c179e"
             ],
             [
              0.4444444444444444,
              "#bd3786"
             ],
             [
              0.5555555555555556,
              "#d8576b"
             ],
             [
              0.6666666666666666,
              "#ed7953"
             ],
             [
              0.7777777777777778,
              "#fb9f3a"
             ],
             [
              0.8888888888888888,
              "#fdca26"
             ],
             [
              1,
              "#f0f921"
             ]
            ],
            "type": "heatmapgl"
           }
          ],
          "histogram": [
           {
            "marker": {
             "pattern": {
              "fillmode": "overlay",
              "size": 10,
              "solidity": 0.2
             }
            },
            "type": "histogram"
           }
          ],
          "histogram2d": [
           {
            "colorbar": {
             "outlinewidth": 0,
             "ticks": ""
            },
            "colorscale": [
             [
              0,
              "#0d0887"
             ],
             [
              0.1111111111111111,
              "#46039f"
             ],
             [
              0.2222222222222222,
              "#7201a8"
             ],
             [
              0.3333333333333333,
              "#9c179e"
             ],
             [
              0.4444444444444444,
              "#bd3786"
             ],
             [
              0.5555555555555556,
              "#d8576b"
             ],
             [
              0.6666666666666666,
              "#ed7953"
             ],
             [
              0.7777777777777778,
              "#fb9f3a"
             ],
             [
              0.8888888888888888,
              "#fdca26"
             ],
             [
              1,
              "#f0f921"
             ]
            ],
            "type": "histogram2d"
           }
          ],
          "histogram2dcontour": [
           {
            "colorbar": {
             "outlinewidth": 0,
             "ticks": ""
            },
            "colorscale": [
             [
              0,
              "#0d0887"
             ],
             [
              0.1111111111111111,
              "#46039f"
             ],
             [
              0.2222222222222222,
              "#7201a8"
             ],
             [
              0.3333333333333333,
              "#9c179e"
             ],
             [
              0.4444444444444444,
              "#bd3786"
             ],
             [
              0.5555555555555556,
              "#d8576b"
             ],
             [
              0.6666666666666666,
              "#ed7953"
             ],
             [
              0.7777777777777778,
              "#fb9f3a"
             ],
             [
              0.8888888888888888,
              "#fdca26"
             ],
             [
              1,
              "#f0f921"
             ]
            ],
            "type": "histogram2dcontour"
           }
          ],
          "mesh3d": [
           {
            "colorbar": {
             "outlinewidth": 0,
             "ticks": ""
            },
            "type": "mesh3d"
           }
          ],
          "parcoords": [
           {
            "line": {
             "colorbar": {
              "outlinewidth": 0,
              "ticks": ""
             }
            },
            "type": "parcoords"
           }
          ],
          "pie": [
           {
            "automargin": true,
            "type": "pie"
           }
          ],
          "scatter": [
           {
            "fillpattern": {
             "fillmode": "overlay",
             "size": 10,
             "solidity": 0.2
            },
            "type": "scatter"
           }
          ],
          "scatter3d": [
           {
            "line": {
             "colorbar": {
              "outlinewidth": 0,
              "ticks": ""
             }
            },
            "marker": {
             "colorbar": {
              "outlinewidth": 0,
              "ticks": ""
             }
            },
            "type": "scatter3d"
           }
          ],
          "scattercarpet": [
           {
            "marker": {
             "colorbar": {
              "outlinewidth": 0,
              "ticks": ""
             }
            },
            "type": "scattercarpet"
           }
          ],
          "scattergeo": [
           {
            "marker": {
             "colorbar": {
              "outlinewidth": 0,
              "ticks": ""
             }
            },
            "type": "scattergeo"
           }
          ],
          "scattergl": [
           {
            "marker": {
             "colorbar": {
              "outlinewidth": 0,
              "ticks": ""
             }
            },
            "type": "scattergl"
           }
          ],
          "scattermapbox": [
           {
            "marker": {
             "colorbar": {
              "outlinewidth": 0,
              "ticks": ""
             }
            },
            "type": "scattermapbox"
           }
          ],
          "scatterpolar": [
           {
            "marker": {
             "colorbar": {
              "outlinewidth": 0,
              "ticks": ""
             }
            },
            "type": "scatterpolar"
           }
          ],
          "scatterpolargl": [
           {
            "marker": {
             "colorbar": {
              "outlinewidth": 0,
              "ticks": ""
             }
            },
            "type": "scatterpolargl"
           }
          ],
          "scatterternary": [
           {
            "marker": {
             "colorbar": {
              "outlinewidth": 0,
              "ticks": ""
             }
            },
            "type": "scatterternary"
           }
          ],
          "surface": [
           {
            "colorbar": {
             "outlinewidth": 0,
             "ticks": ""
            },
            "colorscale": [
             [
              0,
              "#0d0887"
             ],
             [
              0.1111111111111111,
              "#46039f"
             ],
             [
              0.2222222222222222,
              "#7201a8"
             ],
             [
              0.3333333333333333,
              "#9c179e"
             ],
             [
              0.4444444444444444,
              "#bd3786"
             ],
             [
              0.5555555555555556,
              "#d8576b"
             ],
             [
              0.6666666666666666,
              "#ed7953"
             ],
             [
              0.7777777777777778,
              "#fb9f3a"
             ],
             [
              0.8888888888888888,
              "#fdca26"
             ],
             [
              1,
              "#f0f921"
             ]
            ],
            "type": "surface"
           }
          ],
          "table": [
           {
            "cells": {
             "fill": {
              "color": "#EBF0F8"
             },
             "line": {
              "color": "white"
             }
            },
            "header": {
             "fill": {
              "color": "#C8D4E3"
             },
             "line": {
              "color": "white"
             }
            },
            "type": "table"
           }
          ]
         },
         "layout": {
          "annotationdefaults": {
           "arrowcolor": "#2a3f5f",
           "arrowhead": 0,
           "arrowwidth": 1
          },
          "autotypenumbers": "strict",
          "coloraxis": {
           "colorbar": {
            "outlinewidth": 0,
            "ticks": ""
           }
          },
          "colorscale": {
           "diverging": [
            [
             0,
             "#8e0152"
            ],
            [
             0.1,
             "#c51b7d"
            ],
            [
             0.2,
             "#de77ae"
            ],
            [
             0.3,
             "#f1b6da"
            ],
            [
             0.4,
             "#fde0ef"
            ],
            [
             0.5,
             "#f7f7f7"
            ],
            [
             0.6,
             "#e6f5d0"
            ],
            [
             0.7,
             "#b8e186"
            ],
            [
             0.8,
             "#7fbc41"
            ],
            [
             0.9,
             "#4d9221"
            ],
            [
             1,
             "#276419"
            ]
           ],
           "sequential": [
            [
             0,
             "#0d0887"
            ],
            [
             0.1111111111111111,
             "#46039f"
            ],
            [
             0.2222222222222222,
             "#7201a8"
            ],
            [
             0.3333333333333333,
             "#9c179e"
            ],
            [
             0.4444444444444444,
             "#bd3786"
            ],
            [
             0.5555555555555556,
             "#d8576b"
            ],
            [
             0.6666666666666666,
             "#ed7953"
            ],
            [
             0.7777777777777778,
             "#fb9f3a"
            ],
            [
             0.8888888888888888,
             "#fdca26"
            ],
            [
             1,
             "#f0f921"
            ]
           ],
           "sequentialminus": [
            [
             0,
             "#0d0887"
            ],
            [
             0.1111111111111111,
             "#46039f"
            ],
            [
             0.2222222222222222,
             "#7201a8"
            ],
            [
             0.3333333333333333,
             "#9c179e"
            ],
            [
             0.4444444444444444,
             "#bd3786"
            ],
            [
             0.5555555555555556,
             "#d8576b"
            ],
            [
             0.6666666666666666,
             "#ed7953"
            ],
            [
             0.7777777777777778,
             "#fb9f3a"
            ],
            [
             0.8888888888888888,
             "#fdca26"
            ],
            [
             1,
             "#f0f921"
            ]
           ]
          },
          "colorway": [
           "#636efa",
           "#EF553B",
           "#00cc96",
           "#ab63fa",
           "#FFA15A",
           "#19d3f3",
           "#FF6692",
           "#B6E880",
           "#FF97FF",
           "#FECB52"
          ],
          "font": {
           "color": "#2a3f5f"
          },
          "geo": {
           "bgcolor": "white",
           "lakecolor": "white",
           "landcolor": "#E5ECF6",
           "showlakes": true,
           "showland": true,
           "subunitcolor": "white"
          },
          "hoverlabel": {
           "align": "left"
          },
          "hovermode": "closest",
          "mapbox": {
           "style": "light"
          },
          "paper_bgcolor": "white",
          "plot_bgcolor": "#E5ECF6",
          "polar": {
           "angularaxis": {
            "gridcolor": "white",
            "linecolor": "white",
            "ticks": ""
           },
           "bgcolor": "#E5ECF6",
           "radialaxis": {
            "gridcolor": "white",
            "linecolor": "white",
            "ticks": ""
           }
          },
          "scene": {
           "xaxis": {
            "backgroundcolor": "#E5ECF6",
            "gridcolor": "white",
            "gridwidth": 2,
            "linecolor": "white",
            "showbackground": true,
            "ticks": "",
            "zerolinecolor": "white"
           },
           "yaxis": {
            "backgroundcolor": "#E5ECF6",
            "gridcolor": "white",
            "gridwidth": 2,
            "linecolor": "white",
            "showbackground": true,
            "ticks": "",
            "zerolinecolor": "white"
           },
           "zaxis": {
            "backgroundcolor": "#E5ECF6",
            "gridcolor": "white",
            "gridwidth": 2,
            "linecolor": "white",
            "showbackground": true,
            "ticks": "",
            "zerolinecolor": "white"
           }
          },
          "shapedefaults": {
           "line": {
            "color": "#2a3f5f"
           }
          },
          "ternary": {
           "aaxis": {
            "gridcolor": "white",
            "linecolor": "white",
            "ticks": ""
           },
           "baxis": {
            "gridcolor": "white",
            "linecolor": "white",
            "ticks": ""
           },
           "bgcolor": "#E5ECF6",
           "caxis": {
            "gridcolor": "white",
            "linecolor": "white",
            "ticks": ""
           }
          },
          "title": {
           "x": 0.05
          },
          "xaxis": {
           "automargin": true,
           "gridcolor": "white",
           "linecolor": "white",
           "ticks": "",
           "title": {
            "standoff": 15
           },
           "zerolinecolor": "white",
           "zerolinewidth": 2
          },
          "yaxis": {
           "automargin": true,
           "gridcolor": "white",
           "linecolor": "white",
           "ticks": "",
           "title": {
            "standoff": 15
           },
           "zerolinecolor": "white",
           "zerolinewidth": 2
          }
         }
        },
        "title": {
         "text": "Impact vs Stability (-20%)"
        },
        "xaxis": {
         "title": {
          "text": "Stability (TotalNPK_315 -20%)"
         }
        },
        "yaxis": {
         "title": {
          "text": "Normalized Impact"
         }
        }
       }
      }
     },
     "metadata": {},
     "output_type": "display_data"
    },
    {
     "data": {
      "text/html": [
       "<div>\n",
       "<style scoped>\n",
       "    .dataframe tbody tr th:only-of-type {\n",
       "        vertical-align: middle;\n",
       "    }\n",
       "\n",
       "    .dataframe tbody tr th {\n",
       "        vertical-align: top;\n",
       "    }\n",
       "\n",
       "    .dataframe thead th {\n",
       "        text-align: right;\n",
       "    }\n",
       "</style>\n",
       "<table border=\"1\" class=\"dataframe\">\n",
       "  <thead>\n",
       "    <tr style=\"text-align: right;\">\n",
       "      <th></th>\n",
       "      <th>District</th>\n",
       "      <th>Initial Stability</th>\n",
       "      <th>Maize_Production_226 (TotalNPK_315 +20%)</th>\n",
       "      <th>Maize_Production_226 (TotalNPK_315 -20%)</th>\n",
       "      <th>Normalized Maize_Production_226 (TotalNPK_315 +20%)</th>\n",
       "      <th>Normalized Maize_Production_226 (TotalNPK_315 -20%)</th>\n",
       "      <th>Impact Score Maize_Production_226 (TotalNPK_315 +20%)</th>\n",
       "      <th>Impact Score Maize_Production_226 (TotalNPK_315 -20%)</th>\n",
       "      <th>Rice_Production_223 (TotalNPK_315 +20%)</th>\n",
       "      <th>Rice_Production_223 (TotalNPK_315 -20%)</th>\n",
       "      <th>...</th>\n",
       "      <th>Impact Score Rice_Production_223 (TotalNPK_315 +20%)</th>\n",
       "      <th>Impact Score Rice_Production_223 (TotalNPK_315 -20%)</th>\n",
       "      <th>Jowar_Yield_278 (TotalNPK_315 +20%)</th>\n",
       "      <th>Jowar_Yield_278 (TotalNPK_315 -20%)</th>\n",
       "      <th>Normalized Jowar_Yield_278 (TotalNPK_315 +20%)</th>\n",
       "      <th>Normalized Jowar_Yield_278 (TotalNPK_315 -20%)</th>\n",
       "      <th>Impact Score Jowar_Yield_278 (TotalNPK_315 +20%)</th>\n",
       "      <th>Impact Score Jowar_Yield_278 (TotalNPK_315 -20%)</th>\n",
       "      <th>New Stability(NPK + 20%)_Maize_Rice_Jowar</th>\n",
       "      <th>New Stability(NPK - 20%)_Maize_Rice_Jowar</th>\n",
       "    </tr>\n",
       "  </thead>\n",
       "  <tbody>\n",
       "    <tr>\n",
       "      <th>0</th>\n",
       "      <td>BENGALURU</td>\n",
       "      <td>0.313061</td>\n",
       "      <td>72303.019039</td>\n",
       "      <td>48389.473335</td>\n",
       "      <td>0.098721</td>\n",
       "      <td>0.098721</td>\n",
       "      <td>0.129392</td>\n",
       "      <td>0.870608</td>\n",
       "      <td>73964.709483</td>\n",
       "      <td>52021.948395</td>\n",
       "      <td>...</td>\n",
       "      <td>0.118718</td>\n",
       "      <td>0.881282</td>\n",
       "      <td>639.044946</td>\n",
       "      <td>547.537431</td>\n",
       "      <td>0.098721</td>\n",
       "      <td>0.098721</td>\n",
       "      <td>0.000365</td>\n",
       "      <td>0.999635</td>\n",
       "      <td>0.959044</td>\n",
       "      <td>0.959044</td>\n",
       "    </tr>\n",
       "    <tr>\n",
       "      <th>1</th>\n",
       "      <td>BENGALURU(R)</td>\n",
       "      <td>0.742141</td>\n",
       "      <td>59835.351903</td>\n",
       "      <td>40077.695244</td>\n",
       "      <td>0.075418</td>\n",
       "      <td>0.075418</td>\n",
       "      <td>0.106882</td>\n",
       "      <td>0.893118</td>\n",
       "      <td>62524.538934</td>\n",
       "      <td>44395.168029</td>\n",
       "      <td>...</td>\n",
       "      <td>0.098063</td>\n",
       "      <td>0.901937</td>\n",
       "      <td>591.336202</td>\n",
       "      <td>515.731601</td>\n",
       "      <td>0.075418</td>\n",
       "      <td>0.075418</td>\n",
       "      <td>0.000279</td>\n",
       "      <td>0.999721</td>\n",
       "      <td>0.976505</td>\n",
       "      <td>0.976505</td>\n",
       "    </tr>\n",
       "    <tr>\n",
       "      <th>2</th>\n",
       "      <td>RAMANAGARA</td>\n",
       "      <td>0.600687</td>\n",
       "      <td>23558.780060</td>\n",
       "      <td>15893.314016</td>\n",
       "      <td>0.007616</td>\n",
       "      <td>0.007616</td>\n",
       "      <td>0.041388</td>\n",
       "      <td>0.958612</td>\n",
       "      <td>29237.624526</td>\n",
       "      <td>22203.891757</td>\n",
       "      <td>...</td>\n",
       "      <td>0.037966</td>\n",
       "      <td>0.962034</td>\n",
       "      <td>452.520360</td>\n",
       "      <td>423.187707</td>\n",
       "      <td>0.007616</td>\n",
       "      <td>0.007616</td>\n",
       "      <td>0.000028</td>\n",
       "      <td>0.999972</td>\n",
       "      <td>0.822250</td>\n",
       "      <td>0.822250</td>\n",
       "    </tr>\n",
       "    <tr>\n",
       "      <th>3</th>\n",
       "      <td>CHITRADURGA</td>\n",
       "      <td>0.419056</td>\n",
       "      <td>111001.722216</td>\n",
       "      <td>74188.608786</td>\n",
       "      <td>0.171050</td>\n",
       "      <td>0.171050</td>\n",
       "      <td>0.199260</td>\n",
       "      <td>0.800740</td>\n",
       "      <td>109474.140361</td>\n",
       "      <td>75694.902314</td>\n",
       "      <td>...</td>\n",
       "      <td>0.182827</td>\n",
       "      <td>0.817173</td>\n",
       "      <td>787.129310</td>\n",
       "      <td>646.260340</td>\n",
       "      <td>0.171050</td>\n",
       "      <td>0.171050</td>\n",
       "      <td>0.000632</td>\n",
       "      <td>0.999368</td>\n",
       "      <td>0.668650</td>\n",
       "      <td>0.668650</td>\n",
       "    </tr>\n",
       "    <tr>\n",
       "      <th>4</th>\n",
       "      <td>DAVANAGERE</td>\n",
       "      <td>0.106020</td>\n",
       "      <td>307234.370105</td>\n",
       "      <td>205010.374046</td>\n",
       "      <td>0.537816</td>\n",
       "      <td>0.537816</td>\n",
       "      <td>0.553544</td>\n",
       "      <td>0.446456</td>\n",
       "      <td>289534.686947</td>\n",
       "      <td>195735.266704</td>\n",
       "      <td>...</td>\n",
       "      <td>0.507914</td>\n",
       "      <td>0.492086</td>\n",
       "      <td>1538.032682</td>\n",
       "      <td>1146.862588</td>\n",
       "      <td>0.537816</td>\n",
       "      <td>0.537816</td>\n",
       "      <td>0.001988</td>\n",
       "      <td>0.998012</td>\n",
       "      <td>0.790058</td>\n",
       "      <td>0.790058</td>\n",
       "    </tr>\n",
       "  </tbody>\n",
       "</table>\n",
       "<p>5 rows × 22 columns</p>\n",
       "</div>"
      ],
      "text/plain": [
       "       District  Initial Stability  Maize_Production_226 (TotalNPK_315 +20%)  \\\n",
       "0     BENGALURU           0.313061                              72303.019039   \n",
       "1  BENGALURU(R)           0.742141                              59835.351903   \n",
       "2    RAMANAGARA           0.600687                              23558.780060   \n",
       "3   CHITRADURGA           0.419056                             111001.722216   \n",
       "4    DAVANAGERE           0.106020                             307234.370105   \n",
       "\n",
       "   Maize_Production_226 (TotalNPK_315 -20%)  \\\n",
       "0                              48389.473335   \n",
       "1                              40077.695244   \n",
       "2                              15893.314016   \n",
       "3                              74188.608786   \n",
       "4                             205010.374046   \n",
       "\n",
       "   Normalized Maize_Production_226 (TotalNPK_315 +20%)  \\\n",
       "0                                           0.098721     \n",
       "1                                           0.075418     \n",
       "2                                           0.007616     \n",
       "3                                           0.171050     \n",
       "4                                           0.537816     \n",
       "\n",
       "   Normalized Maize_Production_226 (TotalNPK_315 -20%)  \\\n",
       "0                                           0.098721     \n",
       "1                                           0.075418     \n",
       "2                                           0.007616     \n",
       "3                                           0.171050     \n",
       "4                                           0.537816     \n",
       "\n",
       "   Impact Score Maize_Production_226 (TotalNPK_315 +20%)  \\\n",
       "0                                           0.129392       \n",
       "1                                           0.106882       \n",
       "2                                           0.041388       \n",
       "3                                           0.199260       \n",
       "4                                           0.553544       \n",
       "\n",
       "   Impact Score Maize_Production_226 (TotalNPK_315 -20%)  \\\n",
       "0                                           0.870608       \n",
       "1                                           0.893118       \n",
       "2                                           0.958612       \n",
       "3                                           0.800740       \n",
       "4                                           0.446456       \n",
       "\n",
       "   Rice_Production_223 (TotalNPK_315 +20%)  \\\n",
       "0                             73964.709483   \n",
       "1                             62524.538934   \n",
       "2                             29237.624526   \n",
       "3                            109474.140361   \n",
       "4                            289534.686947   \n",
       "\n",
       "   Rice_Production_223 (TotalNPK_315 -20%)  ...  \\\n",
       "0                             52021.948395  ...   \n",
       "1                             44395.168029  ...   \n",
       "2                             22203.891757  ...   \n",
       "3                             75694.902314  ...   \n",
       "4                            195735.266704  ...   \n",
       "\n",
       "   Impact Score Rice_Production_223 (TotalNPK_315 +20%)  \\\n",
       "0                                           0.118718      \n",
       "1                                           0.098063      \n",
       "2                                           0.037966      \n",
       "3                                           0.182827      \n",
       "4                                           0.507914      \n",
       "\n",
       "   Impact Score Rice_Production_223 (TotalNPK_315 -20%)  \\\n",
       "0                                           0.881282      \n",
       "1                                           0.901937      \n",
       "2                                           0.962034      \n",
       "3                                           0.817173      \n",
       "4                                           0.492086      \n",
       "\n",
       "   Jowar_Yield_278 (TotalNPK_315 +20%)  Jowar_Yield_278 (TotalNPK_315 -20%)  \\\n",
       "0                           639.044946                           547.537431   \n",
       "1                           591.336202                           515.731601   \n",
       "2                           452.520360                           423.187707   \n",
       "3                           787.129310                           646.260340   \n",
       "4                          1538.032682                          1146.862588   \n",
       "\n",
       "   Normalized Jowar_Yield_278 (TotalNPK_315 +20%)  \\\n",
       "0                                        0.098721   \n",
       "1                                        0.075418   \n",
       "2                                        0.007616   \n",
       "3                                        0.171050   \n",
       "4                                        0.537816   \n",
       "\n",
       "   Normalized Jowar_Yield_278 (TotalNPK_315 -20%)  \\\n",
       "0                                        0.098721   \n",
       "1                                        0.075418   \n",
       "2                                        0.007616   \n",
       "3                                        0.171050   \n",
       "4                                        0.537816   \n",
       "\n",
       "   Impact Score Jowar_Yield_278 (TotalNPK_315 +20%)  \\\n",
       "0                                          0.000365   \n",
       "1                                          0.000279   \n",
       "2                                          0.000028   \n",
       "3                                          0.000632   \n",
       "4                                          0.001988   \n",
       "\n",
       "   Impact Score Jowar_Yield_278 (TotalNPK_315 -20%)  \\\n",
       "0                                          0.999635   \n",
       "1                                          0.999721   \n",
       "2                                          0.999972   \n",
       "3                                          0.999368   \n",
       "4                                          0.998012   \n",
       "\n",
       "   New Stability(NPK + 20%)_Maize_Rice_Jowar  \\\n",
       "0                                   0.959044   \n",
       "1                                   0.976505   \n",
       "2                                   0.822250   \n",
       "3                                   0.668650   \n",
       "4                                   0.790058   \n",
       "\n",
       "   New Stability(NPK - 20%)_Maize_Rice_Jowar  \n",
       "0                                   0.959044  \n",
       "1                                   0.976505  \n",
       "2                                   0.822250  \n",
       "3                                   0.668650  \n",
       "4                                   0.790058  \n",
       "\n",
       "[5 rows x 22 columns]"
      ]
     },
     "execution_count": 325,
     "metadata": {},
     "output_type": "execute_result"
    }
   ],
   "source": [
    "base_column = \"TotalNPK_315\"\n",
    "capability_vector = [\"Maize_Production_226\", \"Rice_Production_223\",\"Jowar_Yield_278\"]\n",
    "change_percentage = 20\n",
    "dim = 3\n",
    "\n",
    "new_data_3d, handle_increase, handle_decrease,result_df = calc_and_vis_impact_stability(G, existing_data.copy(), adjacency_file, base_column, capability_vector, change_percentage, dim)\n",
    "new_data_3d.head()"
   ]
  },
  {
   "cell_type": "code",
   "execution_count": null,
   "metadata": {},
   "outputs": [
    {
     "name": "stdout",
     "output_type": "stream",
     "text": [
      "2.564730341506419 562.38192631683\n",
      "2.353363480056113 8136.426218911565\n",
      "0.009814190872938423 364.522399314813\n"
     ]
    },
    {
     "data": {
      "application/vnd.plotly.v1+json": {
       "config": {
        "plotlyServerURL": "https://plot.ly"
       },
       "data": [
        {
         "hovertemplate": "%{text}<br>Impact: %{y:.2f}<br>Stability: %{x:.2f}",
         "marker": {
          "color": "red",
          "size": 7,
          "symbol": "star"
         },
         "mode": "markers",
         "name": "Maize_Production_226 +10%",
         "text": [
          "BENGALURU",
          "BENGALURU(R)",
          "RAMANAGARA",
          "CHITRADURGA",
          "DAVANAGERE",
          "KOLAR",
          "CHIKKABALLAPURA",
          "SHIVAMOGGA",
          "TUMAKURU",
          "CHIKKAMAGALURU",
          "DAKSHINA KANNADA",
          "UDUPI",
          "HASSAN",
          "KODAGU",
          "MANDYA",
          "MYSURU",
          "CHAMARAJANAGAR",
          "BELAGAVI",
          "VIJAYAPURA",
          "BAGALKOT",
          "DHARAWAD",
          "GADAG",
          "HAVERI",
          "UTTARA KANNADA",
          "BALLARI",
          "BIDAR",
          "KALABURAGI",
          "YADGIRI",
          "RAICHUR",
          "KOPPAL"
         ],
         "type": "scatter",
         "x": [
          0.9590442729122614,
          0.9765052391752486,
          0.8222502261381796,
          0.6686503866852199,
          0.7900581835459942,
          1,
          0.9972504351838052,
          0.9678123842563559,
          0.9888021812136775,
          0.850936415487983,
          0.8095920216384357,
          0.763945679617166,
          0.8601165048161653,
          0.9462974084736767,
          0.8588396049480361,
          0.910524168379611,
          0.8665083822377129,
          0,
          0.6325317294369196,
          0.9749632202667028,
          0.7634273694337912,
          0.48885270350099763,
          0.9683541813306025,
          0.6144347726001684,
          0.6106021055075405,
          0.7942327017204209,
          0.9903543889006119,
          0.8909298300237721,
          0.7762892089664342,
          0.9102825362300663
         ],
         "y": [
          0.12939196266158168,
          0.10688246470228896,
          0.041387660346281545,
          0.1992597551424872,
          0.5535440281329875,
          0.12316865046350547,
          0.15743576325416406,
          0.31441881345064515,
          0.21183973622859922,
          0.37695198798381757,
          0.10315403391219144,
          0.034030816283555344,
          0.38010809631284187,
          0.22739246019504222,
          0.3363615454776127,
          0.34445185133511236,
          0.13213133133448499,
          1,
          0.3011887185009837,
          0.4711295937384596,
          0.2075778786786668,
          0.12922526679913346,
          0.3610492027062323,
          0.08497307184781061,
          0.6851504115360617,
          0.13688216341426676,
          0.29991627341762744,
          0.5076748833159149,
          0.6512889253440263,
          0.40856308003279757
         ]
        },
        {
         "hovertemplate": "%{text}<br>Impact: %{y:.2f}<br>Stability: %{x:.2f}",
         "marker": {
          "color": "blue",
          "size": 7,
          "symbol": "circle"
         },
         "mode": "markers",
         "name": "Rice_Production_223 +10%",
         "text": [
          "BENGALURU",
          "BENGALURU(R)",
          "RAMANAGARA",
          "CHITRADURGA",
          "DAVANAGERE",
          "KOLAR",
          "CHIKKABALLAPURA",
          "SHIVAMOGGA",
          "TUMAKURU",
          "CHIKKAMAGALURU",
          "DAKSHINA KANNADA",
          "UDUPI",
          "HASSAN",
          "KODAGU",
          "MANDYA",
          "MYSURU",
          "CHAMARAJANAGAR",
          "BELAGAVI",
          "VIJAYAPURA",
          "BAGALKOT",
          "DHARAWAD",
          "GADAG",
          "HAVERI",
          "UTTARA KANNADA",
          "BALLARI",
          "BIDAR",
          "KALABURAGI",
          "YADGIRI",
          "RAICHUR",
          "KOPPAL"
         ],
         "type": "scatter",
         "x": [
          0.9590442729122614,
          0.9765052391752486,
          0.8222502261381796,
          0.6686503866852199,
          0.7900581835459942,
          1,
          0.9972504351838052,
          0.9678123842563559,
          0.9888021812136775,
          0.850936415487983,
          0.8095920216384357,
          0.763945679617166,
          0.8601165048161653,
          0.9462974084736767,
          0.8588396049480361,
          0.910524168379611,
          0.8665083822377129,
          0,
          0.6325317294369196,
          0.9749632202667028,
          0.7634273694337912,
          0.48885270350099763,
          0.9683541813306025,
          0.6144347726001684,
          0.6106021055075405,
          0.7942327017204209,
          0.9903543889006119,
          0.8909298300237721,
          0.7762892089664342,
          0.9102825362300663
         ],
         "y": [
          0.11871762275227479,
          0.09806319776477966,
          0.037966010075910855,
          0.18282740793933133,
          0.5079140870809499,
          0.11300719175104187,
          0.14445025245158077,
          0.28849587445768216,
          0.1943706363203951,
          0.34587550882185714,
          0.09464203776314813,
          0.031215464856596178,
          0.3487715131153399,
          0.20864161522436922,
          0.30863024233613656,
          0.31605380263773997,
          0.12123123211263909,
          0.9175763282301165,
          0.2763561099809545,
          0.43229166510748035,
          0.19046001080437233,
          0.11856466477902755,
          0.33128331817406403,
          0.07795942148097455,
          0.6286744069597039,
          0.12559053435018736,
          0.27518853078516625,
          0.4658251514423989,
          0.5976035439940656,
          0.3748814391486557
         ]
        },
        {
         "hovertemplate": "%{text}<br>Impact: %{y:.2f}<br>Stability: %{x:.2f}",
         "marker": {
          "color": "green",
          "size": 7,
          "symbol": "circle"
         },
         "mode": "markers",
         "name": "Jowar_Yield_278 +10%",
         "text": [
          "BENGALURU",
          "BENGALURU(R)",
          "RAMANAGARA",
          "CHITRADURGA",
          "DAVANAGERE",
          "KOLAR",
          "CHIKKABALLAPURA",
          "SHIVAMOGGA",
          "TUMAKURU",
          "CHIKKAMAGALURU",
          "DAKSHINA KANNADA",
          "UDUPI",
          "HASSAN",
          "KODAGU",
          "MANDYA",
          "MYSURU",
          "CHAMARAJANAGAR",
          "BELAGAVI",
          "VIJAYAPURA",
          "BAGALKOT",
          "DHARAWAD",
          "GADAG",
          "HAVERI",
          "UTTARA KANNADA",
          "BALLARI",
          "BIDAR",
          "KALABURAGI",
          "YADGIRI",
          "RAICHUR",
          "KOPPAL"
         ],
         "type": "scatter",
         "x": [
          0.9590442729122614,
          0.9765052391752486,
          0.8222502261381796,
          0.6686503866852199,
          0.7900581835459942,
          1,
          0.9972504351838052,
          0.9678123842563559,
          0.9888021812136775,
          0.850936415487983,
          0.8095920216384357,
          0.763945679617166,
          0.8601165048161653,
          0.9462974084736767,
          0.8588396049480361,
          0.910524168379611,
          0.8665083822377129,
          0,
          0.6325317294369196,
          0.9749632202667028,
          0.7634273694337912,
          0.48885270350099763,
          0.9683541813306025,
          0.6144347726001684,
          0.6106021055075405,
          0.7942327017204209,
          0.9903543889006119,
          0.8909298300237721,
          0.7762892089664342,
          0.9102825362300663
         ],
         "y": [
          0.00036490873027472383,
          0.0002787739402535785,
          0.00002815168155714629,
          0.0006322646546701561,
          0.0019879679900807416,
          0.0003410946189877134,
          0.0004722210692618196,
          0.0010729320264766878,
          0.0006804031796289021,
          0.0013122213197124288,
          0.00026450673608073463,
          0,
          0.001324298476150842,
          0.0007399171952470695,
          0.0011568980313627682,
          0.0011878563760358857,
          0.00037539119176088336,
          0.0036963753237314687,
          0.001022305777392426,
          0.0016726011163227521,
          0.0006640947659171723,
          0.0003642708522938235,
          0.00125136776033437,
          0.00019493551096368052,
          0.002491572656002953,
          0.0003935707142165916,
          0.0010174366421382042,
          0.0018124452323358526,
          0.002361998375482373,
          0.0014331842474908298
         ]
        }
       ],
       "layout": {
        "hovermode": "closest",
        "shapes": [
         {
          "line": {
           "color": "black",
           "dash": "dash"
          },
          "name": "Average Stability",
          "type": "line",
          "x0": 0.8150796080875853,
          "x1": 0.8150796080875853,
          "y0": 0,
          "y1": 1
         },
         {
          "line": {
           "color": "black",
           "dash": "dash"
          },
          "name": "Average Impact",
          "type": "line",
          "x0": 0,
          "x1": 1,
          "y0": 0.300551014218306,
          "y1": 0.300551014218306
         }
        ],
        "template": {
         "data": {
          "bar": [
           {
            "error_x": {
             "color": "#2a3f5f"
            },
            "error_y": {
             "color": "#2a3f5f"
            },
            "marker": {
             "line": {
              "color": "#E5ECF6",
              "width": 0.5
             },
             "pattern": {
              "fillmode": "overlay",
              "size": 10,
              "solidity": 0.2
             }
            },
            "type": "bar"
           }
          ],
          "barpolar": [
           {
            "marker": {
             "line": {
              "color": "#E5ECF6",
              "width": 0.5
             },
             "pattern": {
              "fillmode": "overlay",
              "size": 10,
              "solidity": 0.2
             }
            },
            "type": "barpolar"
           }
          ],
          "carpet": [
           {
            "aaxis": {
             "endlinecolor": "#2a3f5f",
             "gridcolor": "white",
             "linecolor": "white",
             "minorgridcolor": "white",
             "startlinecolor": "#2a3f5f"
            },
            "baxis": {
             "endlinecolor": "#2a3f5f",
             "gridcolor": "white",
             "linecolor": "white",
             "minorgridcolor": "white",
             "startlinecolor": "#2a3f5f"
            },
            "type": "carpet"
           }
          ],
          "choropleth": [
           {
            "colorbar": {
             "outlinewidth": 0,
             "ticks": ""
            },
            "type": "choropleth"
           }
          ],
          "contour": [
           {
            "colorbar": {
             "outlinewidth": 0,
             "ticks": ""
            },
            "colorscale": [
             [
              0,
              "#0d0887"
             ],
             [
              0.1111111111111111,
              "#46039f"
             ],
             [
              0.2222222222222222,
              "#7201a8"
             ],
             [
              0.3333333333333333,
              "#9c179e"
             ],
             [
              0.4444444444444444,
              "#bd3786"
             ],
             [
              0.5555555555555556,
              "#d8576b"
             ],
             [
              0.6666666666666666,
              "#ed7953"
             ],
             [
              0.7777777777777778,
              "#fb9f3a"
             ],
             [
              0.8888888888888888,
              "#fdca26"
             ],
             [
              1,
              "#f0f921"
             ]
            ],
            "type": "contour"
           }
          ],
          "contourcarpet": [
           {
            "colorbar": {
             "outlinewidth": 0,
             "ticks": ""
            },
            "type": "contourcarpet"
           }
          ],
          "heatmap": [
           {
            "colorbar": {
             "outlinewidth": 0,
             "ticks": ""
            },
            "colorscale": [
             [
              0,
              "#0d0887"
             ],
             [
              0.1111111111111111,
              "#46039f"
             ],
             [
              0.2222222222222222,
              "#7201a8"
             ],
             [
              0.3333333333333333,
              "#9c179e"
             ],
             [
              0.4444444444444444,
              "#bd3786"
             ],
             [
              0.5555555555555556,
              "#d8576b"
             ],
             [
              0.6666666666666666,
              "#ed7953"
             ],
             [
              0.7777777777777778,
              "#fb9f3a"
             ],
             [
              0.8888888888888888,
              "#fdca26"
             ],
             [
              1,
              "#f0f921"
             ]
            ],
            "type": "heatmap"
           }
          ],
          "heatmapgl": [
           {
            "colorbar": {
             "outlinewidth": 0,
             "ticks": ""
            },
            "colorscale": [
             [
              0,
              "#0d0887"
             ],
             [
              0.1111111111111111,
              "#46039f"
             ],
             [
              0.2222222222222222,
              "#7201a8"
             ],
             [
              0.3333333333333333,
              "#9c179e"
             ],
             [
              0.4444444444444444,
              "#bd3786"
             ],
             [
              0.5555555555555556,
              "#d8576b"
             ],
             [
              0.6666666666666666,
              "#ed7953"
             ],
             [
              0.7777777777777778,
              "#fb9f3a"
             ],
             [
              0.8888888888888888,
              "#fdca26"
             ],
             [
              1,
              "#f0f921"
             ]
            ],
            "type": "heatmapgl"
           }
          ],
          "histogram": [
           {
            "marker": {
             "pattern": {
              "fillmode": "overlay",
              "size": 10,
              "solidity": 0.2
             }
            },
            "type": "histogram"
           }
          ],
          "histogram2d": [
           {
            "colorbar": {
             "outlinewidth": 0,
             "ticks": ""
            },
            "colorscale": [
             [
              0,
              "#0d0887"
             ],
             [
              0.1111111111111111,
              "#46039f"
             ],
             [
              0.2222222222222222,
              "#7201a8"
             ],
             [
              0.3333333333333333,
              "#9c179e"
             ],
             [
              0.4444444444444444,
              "#bd3786"
             ],
             [
              0.5555555555555556,
              "#d8576b"
             ],
             [
              0.6666666666666666,
              "#ed7953"
             ],
             [
              0.7777777777777778,
              "#fb9f3a"
             ],
             [
              0.8888888888888888,
              "#fdca26"
             ],
             [
              1,
              "#f0f921"
             ]
            ],
            "type": "histogram2d"
           }
          ],
          "histogram2dcontour": [
           {
            "colorbar": {
             "outlinewidth": 0,
             "ticks": ""
            },
            "colorscale": [
             [
              0,
              "#0d0887"
             ],
             [
              0.1111111111111111,
              "#46039f"
             ],
             [
              0.2222222222222222,
              "#7201a8"
             ],
             [
              0.3333333333333333,
              "#9c179e"
             ],
             [
              0.4444444444444444,
              "#bd3786"
             ],
             [
              0.5555555555555556,
              "#d8576b"
             ],
             [
              0.6666666666666666,
              "#ed7953"
             ],
             [
              0.7777777777777778,
              "#fb9f3a"
             ],
             [
              0.8888888888888888,
              "#fdca26"
             ],
             [
              1,
              "#f0f921"
             ]
            ],
            "type": "histogram2dcontour"
           }
          ],
          "mesh3d": [
           {
            "colorbar": {
             "outlinewidth": 0,
             "ticks": ""
            },
            "type": "mesh3d"
           }
          ],
          "parcoords": [
           {
            "line": {
             "colorbar": {
              "outlinewidth": 0,
              "ticks": ""
             }
            },
            "type": "parcoords"
           }
          ],
          "pie": [
           {
            "automargin": true,
            "type": "pie"
           }
          ],
          "scatter": [
           {
            "fillpattern": {
             "fillmode": "overlay",
             "size": 10,
             "solidity": 0.2
            },
            "type": "scatter"
           }
          ],
          "scatter3d": [
           {
            "line": {
             "colorbar": {
              "outlinewidth": 0,
              "ticks": ""
             }
            },
            "marker": {
             "colorbar": {
              "outlinewidth": 0,
              "ticks": ""
             }
            },
            "type": "scatter3d"
           }
          ],
          "scattercarpet": [
           {
            "marker": {
             "colorbar": {
              "outlinewidth": 0,
              "ticks": ""
             }
            },
            "type": "scattercarpet"
           }
          ],
          "scattergeo": [
           {
            "marker": {
             "colorbar": {
              "outlinewidth": 0,
              "ticks": ""
             }
            },
            "type": "scattergeo"
           }
          ],
          "scattergl": [
           {
            "marker": {
             "colorbar": {
              "outlinewidth": 0,
              "ticks": ""
             }
            },
            "type": "scattergl"
           }
          ],
          "scattermapbox": [
           {
            "marker": {
             "colorbar": {
              "outlinewidth": 0,
              "ticks": ""
             }
            },
            "type": "scattermapbox"
           }
          ],
          "scatterpolar": [
           {
            "marker": {
             "colorbar": {
              "outlinewidth": 0,
              "ticks": ""
             }
            },
            "type": "scatterpolar"
           }
          ],
          "scatterpolargl": [
           {
            "marker": {
             "colorbar": {
              "outlinewidth": 0,
              "ticks": ""
             }
            },
            "type": "scatterpolargl"
           }
          ],
          "scatterternary": [
           {
            "marker": {
             "colorbar": {
              "outlinewidth": 0,
              "ticks": ""
             }
            },
            "type": "scatterternary"
           }
          ],
          "surface": [
           {
            "colorbar": {
             "outlinewidth": 0,
             "ticks": ""
            },
            "colorscale": [
             [
              0,
              "#0d0887"
             ],
             [
              0.1111111111111111,
              "#46039f"
             ],
             [
              0.2222222222222222,
              "#7201a8"
             ],
             [
              0.3333333333333333,
              "#9c179e"
             ],
             [
              0.4444444444444444,
              "#bd3786"
             ],
             [
              0.5555555555555556,
              "#d8576b"
             ],
             [
              0.6666666666666666,
              "#ed7953"
             ],
             [
              0.7777777777777778,
              "#fb9f3a"
             ],
             [
              0.8888888888888888,
              "#fdca26"
             ],
             [
              1,
              "#f0f921"
             ]
            ],
            "type": "surface"
           }
          ],
          "table": [
           {
            "cells": {
             "fill": {
              "color": "#EBF0F8"
             },
             "line": {
              "color": "white"
             }
            },
            "header": {
             "fill": {
              "color": "#C8D4E3"
             },
             "line": {
              "color": "white"
             }
            },
            "type": "table"
           }
          ]
         },
         "layout": {
          "annotationdefaults": {
           "arrowcolor": "#2a3f5f",
           "arrowhead": 0,
           "arrowwidth": 1
          },
          "autotypenumbers": "strict",
          "coloraxis": {
           "colorbar": {
            "outlinewidth": 0,
            "ticks": ""
           }
          },
          "colorscale": {
           "diverging": [
            [
             0,
             "#8e0152"
            ],
            [
             0.1,
             "#c51b7d"
            ],
            [
             0.2,
             "#de77ae"
            ],
            [
             0.3,
             "#f1b6da"
            ],
            [
             0.4,
             "#fde0ef"
            ],
            [
             0.5,
             "#f7f7f7"
            ],
            [
             0.6,
             "#e6f5d0"
            ],
            [
             0.7,
             "#b8e186"
            ],
            [
             0.8,
             "#7fbc41"
            ],
            [
             0.9,
             "#4d9221"
            ],
            [
             1,
             "#276419"
            ]
           ],
           "sequential": [
            [
             0,
             "#0d0887"
            ],
            [
             0.1111111111111111,
             "#46039f"
            ],
            [
             0.2222222222222222,
             "#7201a8"
            ],
            [
             0.3333333333333333,
             "#9c179e"
            ],
            [
             0.4444444444444444,
             "#bd3786"
            ],
            [
             0.5555555555555556,
             "#d8576b"
            ],
            [
             0.6666666666666666,
             "#ed7953"
            ],
            [
             0.7777777777777778,
             "#fb9f3a"
            ],
            [
             0.8888888888888888,
             "#fdca26"
            ],
            [
             1,
             "#f0f921"
            ]
           ],
           "sequentialminus": [
            [
             0,
             "#0d0887"
            ],
            [
             0.1111111111111111,
             "#46039f"
            ],
            [
             0.2222222222222222,
             "#7201a8"
            ],
            [
             0.3333333333333333,
             "#9c179e"
            ],
            [
             0.4444444444444444,
             "#bd3786"
            ],
            [
             0.5555555555555556,
             "#d8576b"
            ],
            [
             0.6666666666666666,
             "#ed7953"
            ],
            [
             0.7777777777777778,
             "#fb9f3a"
            ],
            [
             0.8888888888888888,
             "#fdca26"
            ],
            [
             1,
             "#f0f921"
            ]
           ]
          },
          "colorway": [
           "#636efa",
           "#EF553B",
           "#00cc96",
           "#ab63fa",
           "#FFA15A",
           "#19d3f3",
           "#FF6692",
           "#B6E880",
           "#FF97FF",
           "#FECB52"
          ],
          "font": {
           "color": "#2a3f5f"
          },
          "geo": {
           "bgcolor": "white",
           "lakecolor": "white",
           "landcolor": "#E5ECF6",
           "showlakes": true,
           "showland": true,
           "subunitcolor": "white"
          },
          "hoverlabel": {
           "align": "left"
          },
          "hovermode": "closest",
          "mapbox": {
           "style": "light"
          },
          "paper_bgcolor": "white",
          "plot_bgcolor": "#E5ECF6",
          "polar": {
           "angularaxis": {
            "gridcolor": "white",
            "linecolor": "white",
            "ticks": ""
           },
           "bgcolor": "#E5ECF6",
           "radialaxis": {
            "gridcolor": "white",
            "linecolor": "white",
            "ticks": ""
           }
          },
          "scene": {
           "xaxis": {
            "backgroundcolor": "#E5ECF6",
            "gridcolor": "white",
            "gridwidth": 2,
            "linecolor": "white",
            "showbackground": true,
            "ticks": "",
            "zerolinecolor": "white"
           },
           "yaxis": {
            "backgroundcolor": "#E5ECF6",
            "gridcolor": "white",
            "gridwidth": 2,
            "linecolor": "white",
            "showbackground": true,
            "ticks": "",
            "zerolinecolor": "white"
           },
           "zaxis": {
            "backgroundcolor": "#E5ECF6",
            "gridcolor": "white",
            "gridwidth": 2,
            "linecolor": "white",
            "showbackground": true,
            "ticks": "",
            "zerolinecolor": "white"
           }
          },
          "shapedefaults": {
           "line": {
            "color": "#2a3f5f"
           }
          },
          "ternary": {
           "aaxis": {
            "gridcolor": "white",
            "linecolor": "white",
            "ticks": ""
           },
           "baxis": {
            "gridcolor": "white",
            "linecolor": "white",
            "ticks": ""
           },
           "bgcolor": "#E5ECF6",
           "caxis": {
            "gridcolor": "white",
            "linecolor": "white",
            "ticks": ""
           }
          },
          "title": {
           "x": 0.05
          },
          "xaxis": {
           "automargin": true,
           "gridcolor": "white",
           "linecolor": "white",
           "ticks": "",
           "title": {
            "standoff": 15
           },
           "zerolinecolor": "white",
           "zerolinewidth": 2
          },
          "yaxis": {
           "automargin": true,
           "gridcolor": "white",
           "linecolor": "white",
           "ticks": "",
           "title": {
            "standoff": 15
           },
           "zerolinecolor": "white",
           "zerolinewidth": 2
          }
         }
        },
        "title": {
         "text": "Impact vs Stability (+10%)"
        },
        "xaxis": {
         "title": {
          "text": "Stability (TotalNPK_315 +10%)"
         }
        },
        "yaxis": {
         "title": {
          "text": "Normalized Impact"
         }
        }
       }
      }
     },
     "metadata": {},
     "output_type": "display_data"
    },
    {
     "data": {
      "application/vnd.plotly.v1+json": {
       "config": {
        "plotlyServerURL": "https://plot.ly"
       },
       "data": [
        {
         "hovertemplate": "%{text}<br>Impact: %{y:.2f}<br>Stability: %{x:.2f}",
         "marker": {
          "color": "red",
          "size": 7,
          "symbol": "star"
         },
         "mode": "markers",
         "name": "Maize_Production_226 -10%",
         "text": [
          "BENGALURU",
          "BENGALURU(R)",
          "RAMANAGARA",
          "CHITRADURGA",
          "DAVANAGERE",
          "KOLAR",
          "CHIKKABALLAPURA",
          "SHIVAMOGGA",
          "TUMAKURU",
          "CHIKKAMAGALURU",
          "DAKSHINA KANNADA",
          "UDUPI",
          "HASSAN",
          "KODAGU",
          "MANDYA",
          "MYSURU",
          "CHAMARAJANAGAR",
          "BELAGAVI",
          "VIJAYAPURA",
          "BAGALKOT",
          "DHARAWAD",
          "GADAG",
          "HAVERI",
          "UTTARA KANNADA",
          "BALLARI",
          "BIDAR",
          "KALABURAGI",
          "YADGIRI",
          "RAICHUR",
          "KOPPAL"
         ],
         "type": "scatter",
         "x": [
          0.9590442729122614,
          0.9765052391752486,
          0.8222502261381797,
          0.6686503866852201,
          0.7900581835459942,
          1,
          0.9972504351838052,
          0.9678123842563559,
          0.9888021812136775,
          0.8509364154879832,
          0.8095920216384356,
          0.7639456796171661,
          0.8601165048161653,
          0.9462974084736766,
          0.8588396049480361,
          0.9105241683796111,
          0.866508382237713,
          0,
          0.6325317294369197,
          0.9749632202667027,
          0.7634273694337913,
          0.48885270350099774,
          0.9683541813306024,
          0.6144347726001685,
          0.6106021055075407,
          0.7942327017204209,
          0.9903543889006118,
          0.8909298300237721,
          0.7762892089664342,
          0.9102825362300663
         ],
         "y": [
          0.8706080373384181,
          0.8931175352977111,
          0.9586123396537183,
          0.800740244857512,
          0.44645597186701164,
          0.8768313495364948,
          0.8425642367458352,
          0.6855811865493552,
          0.7881602637714004,
          0.623048012016182,
          0.8968459660878086,
          0.9659691837164445,
          0.6198919036871576,
          0.7726075398049572,
          0.6636384545223862,
          0.6555481486648866,
          0.8678686686655147,
          0,
          0.6988112814990157,
          0.5288704062615391,
          0.792422121321333,
          0.8707747332008666,
          0.6389507972937666,
          0.9150269281521892,
          0.3148495884639378,
          0.8631178365857332,
          0.7000837265823723,
          0.492325116684085,
          0.34871107465597073,
          0.5914369199672019
         ]
        },
        {
         "hovertemplate": "%{text}<br>Impact: %{y:.2f}<br>Stability: %{x:.2f}",
         "marker": {
          "color": "blue",
          "size": 7,
          "symbol": "circle"
         },
         "mode": "markers",
         "name": "Rice_Production_223 -10%",
         "text": [
          "BENGALURU",
          "BENGALURU(R)",
          "RAMANAGARA",
          "CHITRADURGA",
          "DAVANAGERE",
          "KOLAR",
          "CHIKKABALLAPURA",
          "SHIVAMOGGA",
          "TUMAKURU",
          "CHIKKAMAGALURU",
          "DAKSHINA KANNADA",
          "UDUPI",
          "HASSAN",
          "KODAGU",
          "MANDYA",
          "MYSURU",
          "CHAMARAJANAGAR",
          "BELAGAVI",
          "VIJAYAPURA",
          "BAGALKOT",
          "DHARAWAD",
          "GADAG",
          "HAVERI",
          "UTTARA KANNADA",
          "BALLARI",
          "BIDAR",
          "KALABURAGI",
          "YADGIRI",
          "RAICHUR",
          "KOPPAL"
         ],
         "type": "scatter",
         "x": [
          0.9590442729122614,
          0.9765052391752486,
          0.8222502261381797,
          0.6686503866852201,
          0.7900581835459942,
          1,
          0.9972504351838052,
          0.9678123842563559,
          0.9888021812136775,
          0.8509364154879832,
          0.8095920216384356,
          0.7639456796171661,
          0.8601165048161653,
          0.9462974084736766,
          0.8588396049480361,
          0.9105241683796111,
          0.866508382237713,
          0,
          0.6325317294369197,
          0.9749632202667027,
          0.7634273694337913,
          0.48885270350099774,
          0.9683541813306024,
          0.6144347726001685,
          0.6106021055075407,
          0.7942327017204209,
          0.9903543889006118,
          0.8909298300237721,
          0.7762892089664342,
          0.9102825362300663
         ],
         "y": [
          0.8812823772477246,
          0.9019368022352204,
          0.9620339899240891,
          0.8171725920606687,
          0.4920859129190484,
          0.8869928082489581,
          0.8555497475484187,
          0.7115041255423171,
          0.8056293636796049,
          0.6541244911781422,
          0.9053579622368518,
          0.9687845351434037,
          0.6512284868846601,
          0.7913583847756305,
          0.6913697576638629,
          0.68394619736226,
          0.8787687678873608,
          0.0824236717698828,
          0.7236438900190459,
          0.5677083348925194,
          0.8095399891956278,
          0.8814353352209722,
          0.6687166818259359,
          0.9220405785190253,
          0.371325593040296,
          0.8744094656498126,
          0.7248114692148333,
          0.5341748485576008,
          0.40239645600593327,
          0.6251185608513435
         ]
        },
        {
         "hovertemplate": "%{text}<br>Impact: %{y:.2f}<br>Stability: %{x:.2f}",
         "marker": {
          "color": "green",
          "size": 7,
          "symbol": "circle"
         },
         "mode": "markers",
         "name": "Jowar_Yield_278 -10%",
         "text": [
          "BENGALURU",
          "BENGALURU(R)",
          "RAMANAGARA",
          "CHITRADURGA",
          "DAVANAGERE",
          "KOLAR",
          "CHIKKABALLAPURA",
          "SHIVAMOGGA",
          "TUMAKURU",
          "CHIKKAMAGALURU",
          "DAKSHINA KANNADA",
          "UDUPI",
          "HASSAN",
          "KODAGU",
          "MANDYA",
          "MYSURU",
          "CHAMARAJANAGAR",
          "BELAGAVI",
          "VIJAYAPURA",
          "BAGALKOT",
          "DHARAWAD",
          "GADAG",
          "HAVERI",
          "UTTARA KANNADA",
          "BALLARI",
          "BIDAR",
          "KALABURAGI",
          "YADGIRI",
          "RAICHUR",
          "KOPPAL"
         ],
         "type": "scatter",
         "x": [
          0.9590442729122614,
          0.9765052391752486,
          0.8222502261381797,
          0.6686503866852201,
          0.7900581835459942,
          1,
          0.9972504351838052,
          0.9678123842563559,
          0.9888021812136775,
          0.8509364154879832,
          0.8095920216384356,
          0.7639456796171661,
          0.8601165048161653,
          0.9462974084736766,
          0.8588396049480361,
          0.9105241683796111,
          0.866508382237713,
          0,
          0.6325317294369197,
          0.9749632202667027,
          0.7634273694337913,
          0.48885270350099774,
          0.9683541813306024,
          0.6144347726001685,
          0.6106021055075407,
          0.7942327017204209,
          0.9903543889006118,
          0.8909298300237721,
          0.7762892089664342,
          0.9102825362300663
         ],
         "y": [
          0.9996350912697252,
          0.9997212260597464,
          0.9999718483184428,
          0.9993677353453297,
          0.9980120320099192,
          0.9996589053810122,
          0.9995277789307382,
          0.9989270679735233,
          0.9993195968203711,
          0.9986877786802875,
          0.9997354932639192,
          1,
          0.9986757015238491,
          0.9992600828047529,
          0.9988431019686372,
          0.998812143623964,
          0.9996246088082391,
          0.9963036246762684,
          0.9989776942226075,
          0.9983273988836772,
          0.9993359052340828,
          0.999635729147706,
          0.9987486322396655,
          0.9998050644890362,
          0.997508427343997,
          0.9996064292857832,
          0.9989825633578617,
          0.9981875547676641,
          0.9976380016245175,
          0.998566815752509
         ]
        }
       ],
       "layout": {
        "hovermode": "closest",
        "shapes": [
         {
          "line": {
           "color": "black",
           "dash": "dash"
          },
          "name": "Average Stability",
          "type": "line",
          "x0": 0.8150796080875854,
          "x1": 0.8150796080875854,
          "y0": 0,
          "y1": 1
         },
         {
          "line": {
           "color": "black",
           "dash": "dash"
          },
          "name": "Average Impact",
          "type": "line",
          "x0": 0,
          "x1": 1,
          "y0": 0.6994489857816936,
          "y1": 0.6994489857816936
         }
        ],
        "template": {
         "data": {
          "bar": [
           {
            "error_x": {
             "color": "#2a3f5f"
            },
            "error_y": {
             "color": "#2a3f5f"
            },
            "marker": {
             "line": {
              "color": "#E5ECF6",
              "width": 0.5
             },
             "pattern": {
              "fillmode": "overlay",
              "size": 10,
              "solidity": 0.2
             }
            },
            "type": "bar"
           }
          ],
          "barpolar": [
           {
            "marker": {
             "line": {
              "color": "#E5ECF6",
              "width": 0.5
             },
             "pattern": {
              "fillmode": "overlay",
              "size": 10,
              "solidity": 0.2
             }
            },
            "type": "barpolar"
           }
          ],
          "carpet": [
           {
            "aaxis": {
             "endlinecolor": "#2a3f5f",
             "gridcolor": "white",
             "linecolor": "white",
             "minorgridcolor": "white",
             "startlinecolor": "#2a3f5f"
            },
            "baxis": {
             "endlinecolor": "#2a3f5f",
             "gridcolor": "white",
             "linecolor": "white",
             "minorgridcolor": "white",
             "startlinecolor": "#2a3f5f"
            },
            "type": "carpet"
           }
          ],
          "choropleth": [
           {
            "colorbar": {
             "outlinewidth": 0,
             "ticks": ""
            },
            "type": "choropleth"
           }
          ],
          "contour": [
           {
            "colorbar": {
             "outlinewidth": 0,
             "ticks": ""
            },
            "colorscale": [
             [
              0,
              "#0d0887"
             ],
             [
              0.1111111111111111,
              "#46039f"
             ],
             [
              0.2222222222222222,
              "#7201a8"
             ],
             [
              0.3333333333333333,
              "#9c179e"
             ],
             [
              0.4444444444444444,
              "#bd3786"
             ],
             [
              0.5555555555555556,
              "#d8576b"
             ],
             [
              0.6666666666666666,
              "#ed7953"
             ],
             [
              0.7777777777777778,
              "#fb9f3a"
             ],
             [
              0.8888888888888888,
              "#fdca26"
             ],
             [
              1,
              "#f0f921"
             ]
            ],
            "type": "contour"
           }
          ],
          "contourcarpet": [
           {
            "colorbar": {
             "outlinewidth": 0,
             "ticks": ""
            },
            "type": "contourcarpet"
           }
          ],
          "heatmap": [
           {
            "colorbar": {
             "outlinewidth": 0,
             "ticks": ""
            },
            "colorscale": [
             [
              0,
              "#0d0887"
             ],
             [
              0.1111111111111111,
              "#46039f"
             ],
             [
              0.2222222222222222,
              "#7201a8"
             ],
             [
              0.3333333333333333,
              "#9c179e"
             ],
             [
              0.4444444444444444,
              "#bd3786"
             ],
             [
              0.5555555555555556,
              "#d8576b"
             ],
             [
              0.6666666666666666,
              "#ed7953"
             ],
             [
              0.7777777777777778,
              "#fb9f3a"
             ],
             [
              0.8888888888888888,
              "#fdca26"
             ],
             [
              1,
              "#f0f921"
             ]
            ],
            "type": "heatmap"
           }
          ],
          "heatmapgl": [
           {
            "colorbar": {
             "outlinewidth": 0,
             "ticks": ""
            },
            "colorscale": [
             [
              0,
              "#0d0887"
             ],
             [
              0.1111111111111111,
              "#46039f"
             ],
             [
              0.2222222222222222,
              "#7201a8"
             ],
             [
              0.3333333333333333,
              "#9c179e"
             ],
             [
              0.4444444444444444,
              "#bd3786"
             ],
             [
              0.5555555555555556,
              "#d8576b"
             ],
             [
              0.6666666666666666,
              "#ed7953"
             ],
             [
              0.7777777777777778,
              "#fb9f3a"
             ],
             [
              0.8888888888888888,
              "#fdca26"
             ],
             [
              1,
              "#f0f921"
             ]
            ],
            "type": "heatmapgl"
           }
          ],
          "histogram": [
           {
            "marker": {
             "pattern": {
              "fillmode": "overlay",
              "size": 10,
              "solidity": 0.2
             }
            },
            "type": "histogram"
           }
          ],
          "histogram2d": [
           {
            "colorbar": {
             "outlinewidth": 0,
             "ticks": ""
            },
            "colorscale": [
             [
              0,
              "#0d0887"
             ],
             [
              0.1111111111111111,
              "#46039f"
             ],
             [
              0.2222222222222222,
              "#7201a8"
             ],
             [
              0.3333333333333333,
              "#9c179e"
             ],
             [
              0.4444444444444444,
              "#bd3786"
             ],
             [
              0.5555555555555556,
              "#d8576b"
             ],
             [
              0.6666666666666666,
              "#ed7953"
             ],
             [
              0.7777777777777778,
              "#fb9f3a"
             ],
             [
              0.8888888888888888,
              "#fdca26"
             ],
             [
              1,
              "#f0f921"
             ]
            ],
            "type": "histogram2d"
           }
          ],
          "histogram2dcontour": [
           {
            "colorbar": {
             "outlinewidth": 0,
             "ticks": ""
            },
            "colorscale": [
             [
              0,
              "#0d0887"
             ],
             [
              0.1111111111111111,
              "#46039f"
             ],
             [
              0.2222222222222222,
              "#7201a8"
             ],
             [
              0.3333333333333333,
              "#9c179e"
             ],
             [
              0.4444444444444444,
              "#bd3786"
             ],
             [
              0.5555555555555556,
              "#d8576b"
             ],
             [
              0.6666666666666666,
              "#ed7953"
             ],
             [
              0.7777777777777778,
              "#fb9f3a"
             ],
             [
              0.8888888888888888,
              "#fdca26"
             ],
             [
              1,
              "#f0f921"
             ]
            ],
            "type": "histogram2dcontour"
           }
          ],
          "mesh3d": [
           {
            "colorbar": {
             "outlinewidth": 0,
             "ticks": ""
            },
            "type": "mesh3d"
           }
          ],
          "parcoords": [
           {
            "line": {
             "colorbar": {
              "outlinewidth": 0,
              "ticks": ""
             }
            },
            "type": "parcoords"
           }
          ],
          "pie": [
           {
            "automargin": true,
            "type": "pie"
           }
          ],
          "scatter": [
           {
            "fillpattern": {
             "fillmode": "overlay",
             "size": 10,
             "solidity": 0.2
            },
            "type": "scatter"
           }
          ],
          "scatter3d": [
           {
            "line": {
             "colorbar": {
              "outlinewidth": 0,
              "ticks": ""
             }
            },
            "marker": {
             "colorbar": {
              "outlinewidth": 0,
              "ticks": ""
             }
            },
            "type": "scatter3d"
           }
          ],
          "scattercarpet": [
           {
            "marker": {
             "colorbar": {
              "outlinewidth": 0,
              "ticks": ""
             }
            },
            "type": "scattercarpet"
           }
          ],
          "scattergeo": [
           {
            "marker": {
             "colorbar": {
              "outlinewidth": 0,
              "ticks": ""
             }
            },
            "type": "scattergeo"
           }
          ],
          "scattergl": [
           {
            "marker": {
             "colorbar": {
              "outlinewidth": 0,
              "ticks": ""
             }
            },
            "type": "scattergl"
           }
          ],
          "scattermapbox": [
           {
            "marker": {
             "colorbar": {
              "outlinewidth": 0,
              "ticks": ""
             }
            },
            "type": "scattermapbox"
           }
          ],
          "scatterpolar": [
           {
            "marker": {
             "colorbar": {
              "outlinewidth": 0,
              "ticks": ""
             }
            },
            "type": "scatterpolar"
           }
          ],
          "scatterpolargl": [
           {
            "marker": {
             "colorbar": {
              "outlinewidth": 0,
              "ticks": ""
             }
            },
            "type": "scatterpolargl"
           }
          ],
          "scatterternary": [
           {
            "marker": {
             "colorbar": {
              "outlinewidth": 0,
              "ticks": ""
             }
            },
            "type": "scatterternary"
           }
          ],
          "surface": [
           {
            "colorbar": {
             "outlinewidth": 0,
             "ticks": ""
            },
            "colorscale": [
             [
              0,
              "#0d0887"
             ],
             [
              0.1111111111111111,
              "#46039f"
             ],
             [
              0.2222222222222222,
              "#7201a8"
             ],
             [
              0.3333333333333333,
              "#9c179e"
             ],
             [
              0.4444444444444444,
              "#bd3786"
             ],
             [
              0.5555555555555556,
              "#d8576b"
             ],
             [
              0.6666666666666666,
              "#ed7953"
             ],
             [
              0.7777777777777778,
              "#fb9f3a"
             ],
             [
              0.8888888888888888,
              "#fdca26"
             ],
             [
              1,
              "#f0f921"
             ]
            ],
            "type": "surface"
           }
          ],
          "table": [
           {
            "cells": {
             "fill": {
              "color": "#EBF0F8"
             },
             "line": {
              "color": "white"
             }
            },
            "header": {
             "fill": {
              "color": "#C8D4E3"
             },
             "line": {
              "color": "white"
             }
            },
            "type": "table"
           }
          ]
         },
         "layout": {
          "annotationdefaults": {
           "arrowcolor": "#2a3f5f",
           "arrowhead": 0,
           "arrowwidth": 1
          },
          "autotypenumbers": "strict",
          "coloraxis": {
           "colorbar": {
            "outlinewidth": 0,
            "ticks": ""
           }
          },
          "colorscale": {
           "diverging": [
            [
             0,
             "#8e0152"
            ],
            [
             0.1,
             "#c51b7d"
            ],
            [
             0.2,
             "#de77ae"
            ],
            [
             0.3,
             "#f1b6da"
            ],
            [
             0.4,
             "#fde0ef"
            ],
            [
             0.5,
             "#f7f7f7"
            ],
            [
             0.6,
             "#e6f5d0"
            ],
            [
             0.7,
             "#b8e186"
            ],
            [
             0.8,
             "#7fbc41"
            ],
            [
             0.9,
             "#4d9221"
            ],
            [
             1,
             "#276419"
            ]
           ],
           "sequential": [
            [
             0,
             "#0d0887"
            ],
            [
             0.1111111111111111,
             "#46039f"
            ],
            [
             0.2222222222222222,
             "#7201a8"
            ],
            [
             0.3333333333333333,
             "#9c179e"
            ],
            [
             0.4444444444444444,
             "#bd3786"
            ],
            [
             0.5555555555555556,
             "#d8576b"
            ],
            [
             0.6666666666666666,
             "#ed7953"
            ],
            [
             0.7777777777777778,
             "#fb9f3a"
            ],
            [
             0.8888888888888888,
             "#fdca26"
            ],
            [
             1,
             "#f0f921"
            ]
           ],
           "sequentialminus": [
            [
             0,
             "#0d0887"
            ],
            [
             0.1111111111111111,
             "#46039f"
            ],
            [
             0.2222222222222222,
             "#7201a8"
            ],
            [
             0.3333333333333333,
             "#9c179e"
            ],
            [
             0.4444444444444444,
             "#bd3786"
            ],
            [
             0.5555555555555556,
             "#d8576b"
            ],
            [
             0.6666666666666666,
             "#ed7953"
            ],
            [
             0.7777777777777778,
             "#fb9f3a"
            ],
            [
             0.8888888888888888,
             "#fdca26"
            ],
            [
             1,
             "#f0f921"
            ]
           ]
          },
          "colorway": [
           "#636efa",
           "#EF553B",
           "#00cc96",
           "#ab63fa",
           "#FFA15A",
           "#19d3f3",
           "#FF6692",
           "#B6E880",
           "#FF97FF",
           "#FECB52"
          ],
          "font": {
           "color": "#2a3f5f"
          },
          "geo": {
           "bgcolor": "white",
           "lakecolor": "white",
           "landcolor": "#E5ECF6",
           "showlakes": true,
           "showland": true,
           "subunitcolor": "white"
          },
          "hoverlabel": {
           "align": "left"
          },
          "hovermode": "closest",
          "mapbox": {
           "style": "light"
          },
          "paper_bgcolor": "white",
          "plot_bgcolor": "#E5ECF6",
          "polar": {
           "angularaxis": {
            "gridcolor": "white",
            "linecolor": "white",
            "ticks": ""
           },
           "bgcolor": "#E5ECF6",
           "radialaxis": {
            "gridcolor": "white",
            "linecolor": "white",
            "ticks": ""
           }
          },
          "scene": {
           "xaxis": {
            "backgroundcolor": "#E5ECF6",
            "gridcolor": "white",
            "gridwidth": 2,
            "linecolor": "white",
            "showbackground": true,
            "ticks": "",
            "zerolinecolor": "white"
           },
           "yaxis": {
            "backgroundcolor": "#E5ECF6",
            "gridcolor": "white",
            "gridwidth": 2,
            "linecolor": "white",
            "showbackground": true,
            "ticks": "",
            "zerolinecolor": "white"
           },
           "zaxis": {
            "backgroundcolor": "#E5ECF6",
            "gridcolor": "white",
            "gridwidth": 2,
            "linecolor": "white",
            "showbackground": true,
            "ticks": "",
            "zerolinecolor": "white"
           }
          },
          "shapedefaults": {
           "line": {
            "color": "#2a3f5f"
           }
          },
          "ternary": {
           "aaxis": {
            "gridcolor": "white",
            "linecolor": "white",
            "ticks": ""
           },
           "baxis": {
            "gridcolor": "white",
            "linecolor": "white",
            "ticks": ""
           },
           "bgcolor": "#E5ECF6",
           "caxis": {
            "gridcolor": "white",
            "linecolor": "white",
            "ticks": ""
           }
          },
          "title": {
           "x": 0.05
          },
          "xaxis": {
           "automargin": true,
           "gridcolor": "white",
           "linecolor": "white",
           "ticks": "",
           "title": {
            "standoff": 15
           },
           "zerolinecolor": "white",
           "zerolinewidth": 2
          },
          "yaxis": {
           "automargin": true,
           "gridcolor": "white",
           "linecolor": "white",
           "ticks": "",
           "title": {
            "standoff": 15
           },
           "zerolinecolor": "white",
           "zerolinewidth": 2
          }
         }
        },
        "title": {
         "text": "Impact vs Stability (-10%)"
        },
        "xaxis": {
         "title": {
          "text": "Stability (TotalNPK_315 -10%)"
         }
        },
        "yaxis": {
         "title": {
          "text": "Normalized Impact"
         }
        }
       }
      }
     },
     "metadata": {},
     "output_type": "display_data"
    },
    {
     "data": {
      "text/html": [
       "<div>\n",
       "<style scoped>\n",
       "    .dataframe tbody tr th:only-of-type {\n",
       "        vertical-align: middle;\n",
       "    }\n",
       "\n",
       "    .dataframe tbody tr th {\n",
       "        vertical-align: top;\n",
       "    }\n",
       "\n",
       "    .dataframe thead th {\n",
       "        text-align: right;\n",
       "    }\n",
       "</style>\n",
       "<table border=\"1\" class=\"dataframe\">\n",
       "  <thead>\n",
       "    <tr style=\"text-align: right;\">\n",
       "      <th></th>\n",
       "      <th>District</th>\n",
       "      <th>Initial Stability</th>\n",
       "      <th>Maize_Production_226 (TotalNPK_315 +10%)</th>\n",
       "      <th>Maize_Production_226 (TotalNPK_315 -10%)</th>\n",
       "      <th>Normalized Maize_Production_226 (TotalNPK_315 +10%)</th>\n",
       "      <th>Normalized Maize_Production_226 (TotalNPK_315 -10%)</th>\n",
       "      <th>Impact Score Maize_Production_226 (TotalNPK_315 +10%)</th>\n",
       "      <th>Impact Score Maize_Production_226 (TotalNPK_315 -10%)</th>\n",
       "      <th>Rice_Production_223 (TotalNPK_315 +10%)</th>\n",
       "      <th>Rice_Production_223 (TotalNPK_315 -10%)</th>\n",
       "      <th>...</th>\n",
       "      <th>Impact Score Rice_Production_223 (TotalNPK_315 +10%)</th>\n",
       "      <th>Impact Score Rice_Production_223 (TotalNPK_315 -10%)</th>\n",
       "      <th>Jowar_Yield_278 (TotalNPK_315 +10%)</th>\n",
       "      <th>Jowar_Yield_278 (TotalNPK_315 -10%)</th>\n",
       "      <th>Normalized Jowar_Yield_278 (TotalNPK_315 +10%)</th>\n",
       "      <th>Normalized Jowar_Yield_278 (TotalNPK_315 -10%)</th>\n",
       "      <th>Impact Score Jowar_Yield_278 (TotalNPK_315 +10%)</th>\n",
       "      <th>Impact Score Jowar_Yield_278 (TotalNPK_315 -10%)</th>\n",
       "      <th>New Stability(NPK + 10%)_Maize_Rice_Jowar</th>\n",
       "      <th>New Stability(NPK - 10%)_Maize_Rice_Jowar</th>\n",
       "    </tr>\n",
       "  </thead>\n",
       "  <tbody>\n",
       "    <tr>\n",
       "      <th>0</th>\n",
       "      <td>BENGALURU</td>\n",
       "      <td>0.313061</td>\n",
       "      <td>66324.632613</td>\n",
       "      <td>54367.859761</td>\n",
       "      <td>0.098721</td>\n",
       "      <td>0.098721</td>\n",
       "      <td>0.129392</td>\n",
       "      <td>0.870608</td>\n",
       "      <td>68479.019211</td>\n",
       "      <td>57507.638667</td>\n",
       "      <td>...</td>\n",
       "      <td>0.118718</td>\n",
       "      <td>0.881282</td>\n",
       "      <td>616.168067</td>\n",
       "      <td>570.414310</td>\n",
       "      <td>0.098721</td>\n",
       "      <td>0.098721</td>\n",
       "      <td>0.000365</td>\n",
       "      <td>0.999635</td>\n",
       "      <td>0.959044</td>\n",
       "      <td>0.959044</td>\n",
       "    </tr>\n",
       "    <tr>\n",
       "      <th>1</th>\n",
       "      <td>BENGALURU(R)</td>\n",
       "      <td>0.742141</td>\n",
       "      <td>54895.937738</td>\n",
       "      <td>45017.109409</td>\n",
       "      <td>0.075418</td>\n",
       "      <td>0.075418</td>\n",
       "      <td>0.106882</td>\n",
       "      <td>0.893118</td>\n",
       "      <td>57992.196208</td>\n",
       "      <td>48927.510755</td>\n",
       "      <td>...</td>\n",
       "      <td>0.098063</td>\n",
       "      <td>0.901937</td>\n",
       "      <td>572.435052</td>\n",
       "      <td>534.632751</td>\n",
       "      <td>0.075418</td>\n",
       "      <td>0.075418</td>\n",
       "      <td>0.000279</td>\n",
       "      <td>0.999721</td>\n",
       "      <td>0.976505</td>\n",
       "      <td>0.976505</td>\n",
       "    </tr>\n",
       "    <tr>\n",
       "      <th>2</th>\n",
       "      <td>RAMANAGARA</td>\n",
       "      <td>0.600687</td>\n",
       "      <td>21642.413549</td>\n",
       "      <td>17809.680527</td>\n",
       "      <td>0.007616</td>\n",
       "      <td>0.007616</td>\n",
       "      <td>0.041388</td>\n",
       "      <td>0.958612</td>\n",
       "      <td>27479.191334</td>\n",
       "      <td>23962.324950</td>\n",
       "      <td>...</td>\n",
       "      <td>0.037966</td>\n",
       "      <td>0.962034</td>\n",
       "      <td>445.187197</td>\n",
       "      <td>430.520870</td>\n",
       "      <td>0.007616</td>\n",
       "      <td>0.007616</td>\n",
       "      <td>0.000028</td>\n",
       "      <td>0.999972</td>\n",
       "      <td>0.822250</td>\n",
       "      <td>0.822250</td>\n",
       "    </tr>\n",
       "    <tr>\n",
       "      <th>3</th>\n",
       "      <td>CHITRADURGA</td>\n",
       "      <td>0.419056</td>\n",
       "      <td>101798.443858</td>\n",
       "      <td>83391.887143</td>\n",
       "      <td>0.171050</td>\n",
       "      <td>0.171050</td>\n",
       "      <td>0.199260</td>\n",
       "      <td>0.800740</td>\n",
       "      <td>101029.330849</td>\n",
       "      <td>84139.711825</td>\n",
       "      <td>...</td>\n",
       "      <td>0.182827</td>\n",
       "      <td>0.817173</td>\n",
       "      <td>751.912067</td>\n",
       "      <td>681.477582</td>\n",
       "      <td>0.171050</td>\n",
       "      <td>0.171050</td>\n",
       "      <td>0.000632</td>\n",
       "      <td>0.999368</td>\n",
       "      <td>0.668650</td>\n",
       "      <td>0.668650</td>\n",
       "    </tr>\n",
       "    <tr>\n",
       "      <th>4</th>\n",
       "      <td>DAVANAGERE</td>\n",
       "      <td>0.106020</td>\n",
       "      <td>281678.371090</td>\n",
       "      <td>230566.373060</td>\n",
       "      <td>0.537816</td>\n",
       "      <td>0.537816</td>\n",
       "      <td>0.553544</td>\n",
       "      <td>0.446456</td>\n",
       "      <td>266084.831886</td>\n",
       "      <td>219185.121765</td>\n",
       "      <td>...</td>\n",
       "      <td>0.507914</td>\n",
       "      <td>0.492086</td>\n",
       "      <td>1440.240158</td>\n",
       "      <td>1244.655111</td>\n",
       "      <td>0.537816</td>\n",
       "      <td>0.537816</td>\n",
       "      <td>0.001988</td>\n",
       "      <td>0.998012</td>\n",
       "      <td>0.790058</td>\n",
       "      <td>0.790058</td>\n",
       "    </tr>\n",
       "  </tbody>\n",
       "</table>\n",
       "<p>5 rows × 22 columns</p>\n",
       "</div>"
      ],
      "text/plain": [
       "       District  Initial Stability  Maize_Production_226 (TotalNPK_315 +10%)  \\\n",
       "0     BENGALURU           0.313061                              66324.632613   \n",
       "1  BENGALURU(R)           0.742141                              54895.937738   \n",
       "2    RAMANAGARA           0.600687                              21642.413549   \n",
       "3   CHITRADURGA           0.419056                             101798.443858   \n",
       "4    DAVANAGERE           0.106020                             281678.371090   \n",
       "\n",
       "   Maize_Production_226 (TotalNPK_315 -10%)  \\\n",
       "0                              54367.859761   \n",
       "1                              45017.109409   \n",
       "2                              17809.680527   \n",
       "3                              83391.887143   \n",
       "4                             230566.373060   \n",
       "\n",
       "   Normalized Maize_Production_226 (TotalNPK_315 +10%)  \\\n",
       "0                                           0.098721     \n",
       "1                                           0.075418     \n",
       "2                                           0.007616     \n",
       "3                                           0.171050     \n",
       "4                                           0.537816     \n",
       "\n",
       "   Normalized Maize_Production_226 (TotalNPK_315 -10%)  \\\n",
       "0                                           0.098721     \n",
       "1                                           0.075418     \n",
       "2                                           0.007616     \n",
       "3                                           0.171050     \n",
       "4                                           0.537816     \n",
       "\n",
       "   Impact Score Maize_Production_226 (TotalNPK_315 +10%)  \\\n",
       "0                                           0.129392       \n",
       "1                                           0.106882       \n",
       "2                                           0.041388       \n",
       "3                                           0.199260       \n",
       "4                                           0.553544       \n",
       "\n",
       "   Impact Score Maize_Production_226 (TotalNPK_315 -10%)  \\\n",
       "0                                           0.870608       \n",
       "1                                           0.893118       \n",
       "2                                           0.958612       \n",
       "3                                           0.800740       \n",
       "4                                           0.446456       \n",
       "\n",
       "   Rice_Production_223 (TotalNPK_315 +10%)  \\\n",
       "0                             68479.019211   \n",
       "1                             57992.196208   \n",
       "2                             27479.191334   \n",
       "3                            101029.330849   \n",
       "4                            266084.831886   \n",
       "\n",
       "   Rice_Production_223 (TotalNPK_315 -10%)  ...  \\\n",
       "0                             57507.638667  ...   \n",
       "1                             48927.510755  ...   \n",
       "2                             23962.324950  ...   \n",
       "3                             84139.711825  ...   \n",
       "4                            219185.121765  ...   \n",
       "\n",
       "   Impact Score Rice_Production_223 (TotalNPK_315 +10%)  \\\n",
       "0                                           0.118718      \n",
       "1                                           0.098063      \n",
       "2                                           0.037966      \n",
       "3                                           0.182827      \n",
       "4                                           0.507914      \n",
       "\n",
       "   Impact Score Rice_Production_223 (TotalNPK_315 -10%)  \\\n",
       "0                                           0.881282      \n",
       "1                                           0.901937      \n",
       "2                                           0.962034      \n",
       "3                                           0.817173      \n",
       "4                                           0.492086      \n",
       "\n",
       "   Jowar_Yield_278 (TotalNPK_315 +10%)  Jowar_Yield_278 (TotalNPK_315 -10%)  \\\n",
       "0                           616.168067                           570.414310   \n",
       "1                           572.435052                           534.632751   \n",
       "2                           445.187197                           430.520870   \n",
       "3                           751.912067                           681.477582   \n",
       "4                          1440.240158                          1244.655111   \n",
       "\n",
       "   Normalized Jowar_Yield_278 (TotalNPK_315 +10%)  \\\n",
       "0                                        0.098721   \n",
       "1                                        0.075418   \n",
       "2                                        0.007616   \n",
       "3                                        0.171050   \n",
       "4                                        0.537816   \n",
       "\n",
       "   Normalized Jowar_Yield_278 (TotalNPK_315 -10%)  \\\n",
       "0                                        0.098721   \n",
       "1                                        0.075418   \n",
       "2                                        0.007616   \n",
       "3                                        0.171050   \n",
       "4                                        0.537816   \n",
       "\n",
       "   Impact Score Jowar_Yield_278 (TotalNPK_315 +10%)  \\\n",
       "0                                          0.000365   \n",
       "1                                          0.000279   \n",
       "2                                          0.000028   \n",
       "3                                          0.000632   \n",
       "4                                          0.001988   \n",
       "\n",
       "   Impact Score Jowar_Yield_278 (TotalNPK_315 -10%)  \\\n",
       "0                                          0.999635   \n",
       "1                                          0.999721   \n",
       "2                                          0.999972   \n",
       "3                                          0.999368   \n",
       "4                                          0.998012   \n",
       "\n",
       "   New Stability(NPK + 10%)_Maize_Rice_Jowar  \\\n",
       "0                                   0.959044   \n",
       "1                                   0.976505   \n",
       "2                                   0.822250   \n",
       "3                                   0.668650   \n",
       "4                                   0.790058   \n",
       "\n",
       "   New Stability(NPK - 10%)_Maize_Rice_Jowar  \n",
       "0                                   0.959044  \n",
       "1                                   0.976505  \n",
       "2                                   0.822250  \n",
       "3                                   0.668650  \n",
       "4                                   0.790058  \n",
       "\n",
       "[5 rows x 22 columns]"
      ]
     },
     "execution_count": 326,
     "metadata": {},
     "output_type": "execute_result"
    }
   ],
   "source": [
    "base_column = \"TotalNPK_315\"\n",
    "capability_vector = [\"Maize_Production_226\", \"Rice_Production_223\",\"Jowar_Yield_278\"]\n",
    "change_percentage = 10\n",
    "dim = 3\n",
    "\n",
    "new_data_3d, handle_increase, handle_decrease, result_df = calc_and_vis_impact_stability(G, existing_data.copy(), adjacency_file, base_column, capability_vector, change_percentage, dim)\n",
    "new_data_3d.head()"
   ]
  },
  {
   "cell_type": "code",
   "execution_count": null,
   "metadata": {},
   "outputs": [
    {
     "data": {
      "text/html": [
       "\n",
       "  <div id=\"aadb5642-8e0e-4934-b0d0-fb37531b1767\" data-root-id=\"p2867\" style=\"display: contents;\"></div>\n"
      ]
     },
     "metadata": {},
     "output_type": "display_data"
    },
    {
     "data": {
      "application/javascript": "(function(root) {\n  function embed_document(root) {\n  const docs_json = {\"3c253c8f-0616-45c8-b3a3-b361f77d42e7\":{\"version\":\"3.3.3\",\"title\":\"Bokeh Application\",\"roots\":[{\"type\":\"object\",\"name\":\"Figure\",\"id\":\"p2867\",\"attributes\":{\"sizing_mode\":\"stretch_width\",\"x_range\":{\"type\":\"object\",\"name\":\"FactorRange\",\"id\":\"p2877\",\"attributes\":{\"factors\":[\"BENGALURU\",\"BENGALURU(R)\",\"RAMANAGARA\",\"CHITRADURGA\",\"DAVANAGERE\",\"KOLAR\",\"CHIKKABALLAPURA\",\"SHIVAMOGGA\",\"TUMAKURU\",\"CHIKKAMAGALURU\",\"DAKSHINA KANNADA\",\"UDUPI\",\"HASSAN\",\"KODAGU\",\"MANDYA\",\"MYSURU\",\"CHAMARAJANAGAR\",\"BELAGAVI\",\"VIJAYAPURA\",\"BAGALKOT\",\"DHARAWAD\",\"GADAG\",\"HAVERI\",\"UTTARA KANNADA\",\"BALLARI\",\"BIDAR\",\"KALABURAGI\",\"YADGIRI\",\"RAICHUR\",\"KOPPAL\"]}},\"y_range\":{\"type\":\"object\",\"name\":\"DataRange1d\",\"id\":\"p2869\"},\"x_scale\":{\"type\":\"object\",\"name\":\"CategoricalScale\",\"id\":\"p2878\"},\"y_scale\":{\"type\":\"object\",\"name\":\"LinearScale\",\"id\":\"p2879\"},\"title\":{\"type\":\"object\",\"name\":\"Title\",\"id\":\"p2870\",\"attributes\":{\"text\":\"Rice_Production_223 vs District\"}},\"renderers\":[{\"type\":\"object\",\"name\":\"GlyphRenderer\",\"id\":\"p2899\",\"attributes\":{\"data_source\":{\"type\":\"object\",\"name\":\"ColumnDataSource\",\"id\":\"p2890\",\"attributes\":{\"selected\":{\"type\":\"object\",\"name\":\"Selection\",\"id\":\"p2891\",\"attributes\":{\"indices\":[],\"line_indices\":[]}},\"selection_policy\":{\"type\":\"object\",\"name\":\"UnionRenderers\",\"id\":\"p2892\"},\"data\":{\"type\":\"map\",\"entries\":[[\"x\",[\"BENGALURU\",\"BENGALURU(R)\",\"RAMANAGARA\",\"CHITRADURGA\",\"DAVANAGERE\",\"KOLAR\",\"CHIKKABALLAPURA\",\"SHIVAMOGGA\",\"TUMAKURU\",\"CHIKKAMAGALURU\",\"DAKSHINA KANNADA\",\"UDUPI\",\"HASSAN\",\"KODAGU\",\"MANDYA\",\"MYSURU\",\"CHAMARAJANAGAR\",\"BELAGAVI\",\"VIJAYAPURA\",\"BAGALKOT\",\"DHARAWAD\",\"GADAG\",\"HAVERI\",\"UTTARA KANNADA\",\"BALLARI\",\"BIDAR\",\"KALABURAGI\",\"YADGIRI\",\"RAICHUR\",\"KOPPAL\"]],[\"y\",{\"type\":\"ndarray\",\"array\":{\"type\":\"bytes\",\"data\":\"MA0AADIJAABgLwAA1hEAACF4BwBgAwAAigoAAM7fBQC6ZQAAxa8BAOwFAgCsGwIAWTECAB9RAQAPwwMAs2cFACCzAACQtQIAqgAAAFUAAADFhAAAWhwAAO7pAQCVVQIAR0oGAPQHAADQHgAAk20DADaDBwAxtwMA\"},\"shape\":[30],\"dtype\":\"int32\",\"order\":\"little\"}]]}}},\"view\":{\"type\":\"object\",\"name\":\"CDSView\",\"id\":\"p2900\",\"attributes\":{\"filter\":{\"type\":\"object\",\"name\":\"AllIndices\",\"id\":\"p2901\"}}},\"glyph\":{\"type\":\"object\",\"name\":\"VBar\",\"id\":\"p2896\",\"attributes\":{\"x\":{\"type\":\"field\",\"field\":\"x\"},\"width\":{\"type\":\"value\",\"value\":0.8},\"top\":{\"type\":\"field\",\"field\":\"y\"},\"line_color\":{\"type\":\"value\",\"value\":\"#1f77b4\"},\"fill_color\":{\"type\":\"value\",\"value\":\"#1f77b4\"},\"hatch_color\":{\"type\":\"value\",\"value\":\"#1f77b4\"}}},\"nonselection_glyph\":{\"type\":\"object\",\"name\":\"VBar\",\"id\":\"p2897\",\"attributes\":{\"x\":{\"type\":\"field\",\"field\":\"x\"},\"width\":{\"type\":\"value\",\"value\":0.8},\"top\":{\"type\":\"field\",\"field\":\"y\"},\"line_color\":{\"type\":\"value\",\"value\":\"#1f77b4\"},\"line_alpha\":{\"type\":\"value\",\"value\":0.1},\"fill_color\":{\"type\":\"value\",\"value\":\"#1f77b4\"},\"fill_alpha\":{\"type\":\"value\",\"value\":0.1},\"hatch_color\":{\"type\":\"value\",\"value\":\"#1f77b4\"},\"hatch_alpha\":{\"type\":\"value\",\"value\":0.1}}},\"muted_glyph\":{\"type\":\"object\",\"name\":\"VBar\",\"id\":\"p2898\",\"attributes\":{\"x\":{\"type\":\"field\",\"field\":\"x\"},\"width\":{\"type\":\"value\",\"value\":0.8},\"top\":{\"type\":\"field\",\"field\":\"y\"},\"line_color\":{\"type\":\"value\",\"value\":\"#1f77b4\"},\"line_alpha\":{\"type\":\"value\",\"value\":0.2},\"fill_color\":{\"type\":\"value\",\"value\":\"#1f77b4\"},\"fill_alpha\":{\"type\":\"value\",\"value\":0.2},\"hatch_color\":{\"type\":\"value\",\"value\":\"#1f77b4\"},\"hatch_alpha\":{\"type\":\"value\",\"value\":0.2}}}}}],\"toolbar\":{\"type\":\"object\",\"name\":\"Toolbar\",\"id\":\"p2876\",\"attributes\":{\"tools\":[{\"type\":\"object\",\"name\":\"HoverTool\",\"id\":\"p2904\",\"attributes\":{\"renderers\":\"auto\",\"tooltips\":[[\"District\",\"@x\"],[\"Rice_Production_223\",\"@y\"]]}}]}},\"toolbar_location\":null,\"left\":[{\"type\":\"object\",\"name\":\"LinearAxis\",\"id\":\"p2885\",\"attributes\":{\"ticker\":{\"type\":\"object\",\"name\":\"BasicTicker\",\"id\":\"p2886\",\"attributes\":{\"mantissas\":[1,2,5]}},\"formatter\":{\"type\":\"object\",\"name\":\"BasicTickFormatter\",\"id\":\"p2887\"},\"axis_label\":\"Rice_Production_223\",\"major_label_policy\":{\"type\":\"object\",\"name\":\"AllLabels\",\"id\":\"p2888\"}}}],\"below\":[{\"type\":\"object\",\"name\":\"CategoricalAxis\",\"id\":\"p2880\",\"attributes\":{\"ticker\":{\"type\":\"object\",\"name\":\"CategoricalTicker\",\"id\":\"p2881\"},\"formatter\":{\"type\":\"object\",\"name\":\"CategoricalTickFormatter\",\"id\":\"p2882\"},\"major_label_orientation\":\"vertical\",\"major_label_policy\":{\"type\":\"object\",\"name\":\"AllLabels\",\"id\":\"p2883\"}}}],\"center\":[{\"type\":\"object\",\"name\":\"Grid\",\"id\":\"p2884\",\"attributes\":{\"axis\":{\"id\":\"p2880\"}}},{\"type\":\"object\",\"name\":\"Grid\",\"id\":\"p2889\",\"attributes\":{\"dimension\":1,\"axis\":{\"id\":\"p2885\"}}},{\"type\":\"object\",\"name\":\"Legend\",\"id\":\"p2902\",\"attributes\":{\"click_policy\":\"hide\",\"items\":[{\"type\":\"object\",\"name\":\"LegendItem\",\"id\":\"p2903\",\"attributes\":{\"label\":{\"type\":\"value\",\"value\":\"Rice_Production_223\"},\"renderers\":[{\"id\":\"p2899\"}]}}]}}]}}]}};\n  const render_items = [{\"docid\":\"3c253c8f-0616-45c8-b3a3-b361f77d42e7\",\"roots\":{\"p2867\":\"aadb5642-8e0e-4934-b0d0-fb37531b1767\"},\"root_ids\":[\"p2867\"]}];\n  root.Bokeh.embed.embed_items_notebook(docs_json, render_items);\n  }\n  if (root.Bokeh !== undefined) {\n    embed_document(root);\n  } else {\n    let attempts = 0;\n    const timer = setInterval(function(root) {\n      if (root.Bokeh !== undefined) {\n        clearInterval(timer);\n        embed_document(root);\n      } else {\n        attempts++;\n        if (attempts > 100) {\n          clearInterval(timer);\n          console.log(\"Bokeh: ERROR: Unable to run BokehJS code because BokehJS library is missing\");\n        }\n      }\n    }, 10, root)\n  }\n})(window);",
      "application/vnd.bokehjs_exec.v0+json": ""
     },
     "metadata": {
      "application/vnd.bokehjs_exec.v0+json": {
       "id": "p2867"
      }
     },
     "output_type": "display_data"
    },
    {
     "data": {
      "text/html": [
       "\n",
       "  <div id=\"ca68f1e8-ece8-48d8-a2d2-6bca0bf679dc\" data-root-id=\"p2906\" style=\"display: contents;\"></div>\n"
      ]
     },
     "metadata": {},
     "output_type": "display_data"
    },
    {
     "data": {
      "application/javascript": "(function(root) {\n  function embed_document(root) {\n  const docs_json = {\"422b4636-18bb-42e0-94b7-bc23fe9d3946\":{\"version\":\"3.3.3\",\"title\":\"Bokeh Application\",\"roots\":[{\"type\":\"object\",\"name\":\"Figure\",\"id\":\"p2906\",\"attributes\":{\"sizing_mode\":\"stretch_width\",\"x_range\":{\"type\":\"object\",\"name\":\"FactorRange\",\"id\":\"p2916\",\"attributes\":{\"factors\":[\"BENGALURU\",\"BENGALURU(R)\",\"RAMANAGARA\",\"CHITRADURGA\",\"DAVANAGERE\",\"KOLAR\",\"CHIKKABALLAPURA\",\"SHIVAMOGGA\",\"TUMAKURU\",\"CHIKKAMAGALURU\",\"DAKSHINA KANNADA\",\"UDUPI\",\"HASSAN\",\"KODAGU\",\"MANDYA\",\"MYSURU\",\"CHAMARAJANAGAR\",\"BELAGAVI\",\"VIJAYAPURA\",\"BAGALKOT\",\"DHARAWAD\",\"GADAG\",\"HAVERI\",\"UTTARA KANNADA\",\"BALLARI\",\"BIDAR\",\"KALABURAGI\",\"YADGIRI\",\"RAICHUR\",\"KOPPAL\"]}},\"y_range\":{\"type\":\"object\",\"name\":\"DataRange1d\",\"id\":\"p2908\"},\"x_scale\":{\"type\":\"object\",\"name\":\"CategoricalScale\",\"id\":\"p2917\"},\"y_scale\":{\"type\":\"object\",\"name\":\"LinearScale\",\"id\":\"p2918\"},\"title\":{\"type\":\"object\",\"name\":\"Title\",\"id\":\"p2909\",\"attributes\":{\"text\":\"Jowar_Yield_278 vs District\"}},\"renderers\":[{\"type\":\"object\",\"name\":\"GlyphRenderer\",\"id\":\"p2938\",\"attributes\":{\"data_source\":{\"type\":\"object\",\"name\":\"ColumnDataSource\",\"id\":\"p2929\",\"attributes\":{\"selected\":{\"type\":\"object\",\"name\":\"Selection\",\"id\":\"p2930\",\"attributes\":{\"indices\":[],\"line_indices\":[]}},\"selection_policy\":{\"type\":\"object\",\"name\":\"UnionRenderers\",\"id\":\"p2931\"},\"data\":{\"type\":\"map\",\"entries\":[[\"x\",[\"BENGALURU\",\"BENGALURU(R)\",\"RAMANAGARA\",\"CHITRADURGA\",\"DAVANAGERE\",\"KOLAR\",\"CHIKKABALLAPURA\",\"SHIVAMOGGA\",\"TUMAKURU\",\"CHIKKAMAGALURU\",\"DAKSHINA KANNADA\",\"UDUPI\",\"HASSAN\",\"KODAGU\",\"MANDYA\",\"MYSURU\",\"CHAMARAJANAGAR\",\"BELAGAVI\",\"VIJAYAPURA\",\"BAGALKOT\",\"DHARAWAD\",\"GADAG\",\"HAVERI\",\"UTTARA KANNADA\",\"BALLARI\",\"BIDAR\",\"KALABURAGI\",\"YADGIRI\",\"RAICHUR\",\"KOPPAL\"]],[\"y\",{\"type\":\"ndarray\",\"array\":{\"type\":\"bytes\",\"data\":\"AwYAAAAAAAAAAAAA2AMAAHcIAAAAAAAAAAAAAMIIAABCBQAAgQMAAAAAAAAAAAAAlQMAAAAAAADKAwAAUAQAAHMBAACwBAAAzgMAAMYDAAA4BAAAAQQAALcEAAAAAAAADwcAACIEAAB6BAAArQQAAE8FAAAgBQAA\"},\"shape\":[30],\"dtype\":\"int32\",\"order\":\"little\"}]]}}},\"view\":{\"type\":\"object\",\"name\":\"CDSView\",\"id\":\"p2939\",\"attributes\":{\"filter\":{\"type\":\"object\",\"name\":\"AllIndices\",\"id\":\"p2940\"}}},\"glyph\":{\"type\":\"object\",\"name\":\"VBar\",\"id\":\"p2935\",\"attributes\":{\"x\":{\"type\":\"field\",\"field\":\"x\"},\"width\":{\"type\":\"value\",\"value\":0.8},\"top\":{\"type\":\"field\",\"field\":\"y\"},\"line_color\":{\"type\":\"value\",\"value\":\"#aec7e8\"},\"fill_color\":{\"type\":\"value\",\"value\":\"#aec7e8\"},\"hatch_color\":{\"type\":\"value\",\"value\":\"#aec7e8\"}}},\"nonselection_glyph\":{\"type\":\"object\",\"name\":\"VBar\",\"id\":\"p2936\",\"attributes\":{\"x\":{\"type\":\"field\",\"field\":\"x\"},\"width\":{\"type\":\"value\",\"value\":0.8},\"top\":{\"type\":\"field\",\"field\":\"y\"},\"line_color\":{\"type\":\"value\",\"value\":\"#aec7e8\"},\"line_alpha\":{\"type\":\"value\",\"value\":0.1},\"fill_color\":{\"type\":\"value\",\"value\":\"#aec7e8\"},\"fill_alpha\":{\"type\":\"value\",\"value\":0.1},\"hatch_color\":{\"type\":\"value\",\"value\":\"#aec7e8\"},\"hatch_alpha\":{\"type\":\"value\",\"value\":0.1}}},\"muted_glyph\":{\"type\":\"object\",\"name\":\"VBar\",\"id\":\"p2937\",\"attributes\":{\"x\":{\"type\":\"field\",\"field\":\"x\"},\"width\":{\"type\":\"value\",\"value\":0.8},\"top\":{\"type\":\"field\",\"field\":\"y\"},\"line_color\":{\"type\":\"value\",\"value\":\"#aec7e8\"},\"line_alpha\":{\"type\":\"value\",\"value\":0.2},\"fill_color\":{\"type\":\"value\",\"value\":\"#aec7e8\"},\"fill_alpha\":{\"type\":\"value\",\"value\":0.2},\"hatch_color\":{\"type\":\"value\",\"value\":\"#aec7e8\"},\"hatch_alpha\":{\"type\":\"value\",\"value\":0.2}}}}}],\"toolbar\":{\"type\":\"object\",\"name\":\"Toolbar\",\"id\":\"p2915\",\"attributes\":{\"tools\":[{\"type\":\"object\",\"name\":\"HoverTool\",\"id\":\"p2943\",\"attributes\":{\"renderers\":\"auto\",\"tooltips\":[[\"District\",\"@x\"],[\"Jowar_Yield_278\",\"@y\"]]}}]}},\"toolbar_location\":null,\"left\":[{\"type\":\"object\",\"name\":\"LinearAxis\",\"id\":\"p2924\",\"attributes\":{\"ticker\":{\"type\":\"object\",\"name\":\"BasicTicker\",\"id\":\"p2925\",\"attributes\":{\"mantissas\":[1,2,5]}},\"formatter\":{\"type\":\"object\",\"name\":\"BasicTickFormatter\",\"id\":\"p2926\"},\"axis_label\":\"Jowar_Yield_278\",\"major_label_policy\":{\"type\":\"object\",\"name\":\"AllLabels\",\"id\":\"p2927\"}}}],\"below\":[{\"type\":\"object\",\"name\":\"CategoricalAxis\",\"id\":\"p2919\",\"attributes\":{\"ticker\":{\"type\":\"object\",\"name\":\"CategoricalTicker\",\"id\":\"p2920\"},\"formatter\":{\"type\":\"object\",\"name\":\"CategoricalTickFormatter\",\"id\":\"p2921\"},\"major_label_orientation\":\"vertical\",\"major_label_policy\":{\"type\":\"object\",\"name\":\"AllLabels\",\"id\":\"p2922\"}}}],\"center\":[{\"type\":\"object\",\"name\":\"Grid\",\"id\":\"p2923\",\"attributes\":{\"axis\":{\"id\":\"p2919\"}}},{\"type\":\"object\",\"name\":\"Grid\",\"id\":\"p2928\",\"attributes\":{\"dimension\":1,\"axis\":{\"id\":\"p2924\"}}},{\"type\":\"object\",\"name\":\"Legend\",\"id\":\"p2941\",\"attributes\":{\"click_policy\":\"hide\",\"items\":[{\"type\":\"object\",\"name\":\"LegendItem\",\"id\":\"p2942\",\"attributes\":{\"label\":{\"type\":\"value\",\"value\":\"Jowar_Yield_278\"},\"renderers\":[{\"id\":\"p2938\"}]}}]}}]}}]}};\n  const render_items = [{\"docid\":\"422b4636-18bb-42e0-94b7-bc23fe9d3946\",\"roots\":{\"p2906\":\"ca68f1e8-ece8-48d8-a2d2-6bca0bf679dc\"},\"root_ids\":[\"p2906\"]}];\n  root.Bokeh.embed.embed_items_notebook(docs_json, render_items);\n  }\n  if (root.Bokeh !== undefined) {\n    embed_document(root);\n  } else {\n    let attempts = 0;\n    const timer = setInterval(function(root) {\n      if (root.Bokeh !== undefined) {\n        clearInterval(timer);\n        embed_document(root);\n      } else {\n        attempts++;\n        if (attempts > 100) {\n          clearInterval(timer);\n          console.log(\"Bokeh: ERROR: Unable to run BokehJS code because BokehJS library is missing\");\n        }\n      }\n    }, 10, root)\n  }\n})(window);",
      "application/vnd.bokehjs_exec.v0+json": ""
     },
     "metadata": {
      "application/vnd.bokehjs_exec.v0+json": {
       "id": "p2906"
      }
     },
     "output_type": "display_data"
    },
    {
     "data": {
      "text/html": [
       "\n",
       "  <div id=\"f5d1aef4-c4e1-4b2c-a05e-f874aefa9450\" data-root-id=\"p2945\" style=\"display: contents;\"></div>\n"
      ]
     },
     "metadata": {},
     "output_type": "display_data"
    },
    {
     "data": {
      "application/javascript": "(function(root) {\n  function embed_document(root) {\n  const docs_json = {\"84bf9fb6-7834-43eb-bc4a-cf9fa5bd7c1e\":{\"version\":\"3.3.3\",\"title\":\"Bokeh Application\",\"roots\":[{\"type\":\"object\",\"name\":\"Figure\",\"id\":\"p2945\",\"attributes\":{\"sizing_mode\":\"stretch_width\",\"x_range\":{\"type\":\"object\",\"name\":\"FactorRange\",\"id\":\"p2955\",\"attributes\":{\"factors\":[\"BENGALURU\",\"BENGALURU(R)\",\"RAMANAGARA\",\"CHITRADURGA\",\"DAVANAGERE\",\"KOLAR\",\"CHIKKABALLAPURA\",\"SHIVAMOGGA\",\"TUMAKURU\",\"CHIKKAMAGALURU\",\"DAKSHINA KANNADA\",\"UDUPI\",\"HASSAN\",\"KODAGU\",\"MANDYA\",\"MYSURU\",\"CHAMARAJANAGAR\",\"BELAGAVI\",\"VIJAYAPURA\",\"BAGALKOT\",\"DHARAWAD\",\"GADAG\",\"HAVERI\",\"UTTARA KANNADA\",\"BALLARI\",\"BIDAR\",\"KALABURAGI\",\"YADGIRI\",\"RAICHUR\",\"KOPPAL\"]}},\"y_range\":{\"type\":\"object\",\"name\":\"DataRange1d\",\"id\":\"p2947\"},\"x_scale\":{\"type\":\"object\",\"name\":\"CategoricalScale\",\"id\":\"p2956\"},\"y_scale\":{\"type\":\"object\",\"name\":\"LinearScale\",\"id\":\"p2957\"},\"title\":{\"type\":\"object\",\"name\":\"Title\",\"id\":\"p2948\",\"attributes\":{\"text\":\"Maize_Production_226 vs District\"}},\"renderers\":[{\"type\":\"object\",\"name\":\"GlyphRenderer\",\"id\":\"p2977\",\"attributes\":{\"data_source\":{\"type\":\"object\",\"name\":\"ColumnDataSource\",\"id\":\"p2968\",\"attributes\":{\"selected\":{\"type\":\"object\",\"name\":\"Selection\",\"id\":\"p2969\",\"attributes\":{\"indices\":[],\"line_indices\":[]}},\"selection_policy\":{\"type\":\"object\",\"name\":\"UnionRenderers\",\"id\":\"p2970\"},\"data\":{\"type\":\"map\",\"entries\":[[\"x\",[\"BENGALURU\",\"BENGALURU(R)\",\"RAMANAGARA\",\"CHITRADURGA\",\"DAVANAGERE\",\"KOLAR\",\"CHIKKABALLAPURA\",\"SHIVAMOGGA\",\"TUMAKURU\",\"CHIKKAMAGALURU\",\"DAKSHINA KANNADA\",\"UDUPI\",\"HASSAN\",\"KODAGU\",\"MANDYA\",\"MYSURU\",\"CHAMARAJANAGAR\",\"BELAGAVI\",\"VIJAYAPURA\",\"BAGALKOT\",\"DHARAWAD\",\"GADAG\",\"HAVERI\",\"UTTARA KANNADA\",\"BALLARI\",\"BIDAR\",\"KALABURAGI\",\"YADGIRI\",\"RAICHUR\",\"KOPPAL\"]],[\"y\",{\"type\":\"ndarray\",\"array\":{\"type\":\"bytes\",\"data\":\"PwsAAFemAADSKAAAZyYEAIgOCQDfBgAAE5wBAOR0AwA0BQEAqe8AAAAAAABtAAAAcRgFAAFGAAC7SwAAwhcCAK5BAgD2zAgAF3QDADPXAwAKYgEA7BwCAC9PBgAYXgAA2iwDAOcKAAAdOQAAcQoAANMCAAAs5wIA\"},\"shape\":[30],\"dtype\":\"int32\",\"order\":\"little\"}]]}}},\"view\":{\"type\":\"object\",\"name\":\"CDSView\",\"id\":\"p2978\",\"attributes\":{\"filter\":{\"type\":\"object\",\"name\":\"AllIndices\",\"id\":\"p2979\"}}},\"glyph\":{\"type\":\"object\",\"name\":\"VBar\",\"id\":\"p2974\",\"attributes\":{\"x\":{\"type\":\"field\",\"field\":\"x\"},\"width\":{\"type\":\"value\",\"value\":0.8},\"top\":{\"type\":\"field\",\"field\":\"y\"},\"line_color\":{\"type\":\"value\",\"value\":\"#ff7f0e\"},\"fill_color\":{\"type\":\"value\",\"value\":\"#ff7f0e\"},\"hatch_color\":{\"type\":\"value\",\"value\":\"#ff7f0e\"}}},\"nonselection_glyph\":{\"type\":\"object\",\"name\":\"VBar\",\"id\":\"p2975\",\"attributes\":{\"x\":{\"type\":\"field\",\"field\":\"x\"},\"width\":{\"type\":\"value\",\"value\":0.8},\"top\":{\"type\":\"field\",\"field\":\"y\"},\"line_color\":{\"type\":\"value\",\"value\":\"#ff7f0e\"},\"line_alpha\":{\"type\":\"value\",\"value\":0.1},\"fill_color\":{\"type\":\"value\",\"value\":\"#ff7f0e\"},\"fill_alpha\":{\"type\":\"value\",\"value\":0.1},\"hatch_color\":{\"type\":\"value\",\"value\":\"#ff7f0e\"},\"hatch_alpha\":{\"type\":\"value\",\"value\":0.1}}},\"muted_glyph\":{\"type\":\"object\",\"name\":\"VBar\",\"id\":\"p2976\",\"attributes\":{\"x\":{\"type\":\"field\",\"field\":\"x\"},\"width\":{\"type\":\"value\",\"value\":0.8},\"top\":{\"type\":\"field\",\"field\":\"y\"},\"line_color\":{\"type\":\"value\",\"value\":\"#ff7f0e\"},\"line_alpha\":{\"type\":\"value\",\"value\":0.2},\"fill_color\":{\"type\":\"value\",\"value\":\"#ff7f0e\"},\"fill_alpha\":{\"type\":\"value\",\"value\":0.2},\"hatch_color\":{\"type\":\"value\",\"value\":\"#ff7f0e\"},\"hatch_alpha\":{\"type\":\"value\",\"value\":0.2}}}}}],\"toolbar\":{\"type\":\"object\",\"name\":\"Toolbar\",\"id\":\"p2954\",\"attributes\":{\"tools\":[{\"type\":\"object\",\"name\":\"HoverTool\",\"id\":\"p2982\",\"attributes\":{\"renderers\":\"auto\",\"tooltips\":[[\"District\",\"@x\"],[\"Maize_Production_226\",\"@y\"]]}}]}},\"toolbar_location\":null,\"left\":[{\"type\":\"object\",\"name\":\"LinearAxis\",\"id\":\"p2963\",\"attributes\":{\"ticker\":{\"type\":\"object\",\"name\":\"BasicTicker\",\"id\":\"p2964\",\"attributes\":{\"mantissas\":[1,2,5]}},\"formatter\":{\"type\":\"object\",\"name\":\"BasicTickFormatter\",\"id\":\"p2965\"},\"axis_label\":\"Maize_Production_226\",\"major_label_policy\":{\"type\":\"object\",\"name\":\"AllLabels\",\"id\":\"p2966\"}}}],\"below\":[{\"type\":\"object\",\"name\":\"CategoricalAxis\",\"id\":\"p2958\",\"attributes\":{\"ticker\":{\"type\":\"object\",\"name\":\"CategoricalTicker\",\"id\":\"p2959\"},\"formatter\":{\"type\":\"object\",\"name\":\"CategoricalTickFormatter\",\"id\":\"p2960\"},\"major_label_orientation\":\"vertical\",\"major_label_policy\":{\"type\":\"object\",\"name\":\"AllLabels\",\"id\":\"p2961\"}}}],\"center\":[{\"type\":\"object\",\"name\":\"Grid\",\"id\":\"p2962\",\"attributes\":{\"axis\":{\"id\":\"p2958\"}}},{\"type\":\"object\",\"name\":\"Grid\",\"id\":\"p2967\",\"attributes\":{\"dimension\":1,\"axis\":{\"id\":\"p2963\"}}},{\"type\":\"object\",\"name\":\"Legend\",\"id\":\"p2980\",\"attributes\":{\"click_policy\":\"hide\",\"items\":[{\"type\":\"object\",\"name\":\"LegendItem\",\"id\":\"p2981\",\"attributes\":{\"label\":{\"type\":\"value\",\"value\":\"Maize_Production_226\"},\"renderers\":[{\"id\":\"p2977\"}]}}]}}]}}]}};\n  const render_items = [{\"docid\":\"84bf9fb6-7834-43eb-bc4a-cf9fa5bd7c1e\",\"roots\":{\"p2945\":\"f5d1aef4-c4e1-4b2c-a05e-f874aefa9450\"},\"root_ids\":[\"p2945\"]}];\n  root.Bokeh.embed.embed_items_notebook(docs_json, render_items);\n  }\n  if (root.Bokeh !== undefined) {\n    embed_document(root);\n  } else {\n    let attempts = 0;\n    const timer = setInterval(function(root) {\n      if (root.Bokeh !== undefined) {\n        clearInterval(timer);\n        embed_document(root);\n      } else {\n        attempts++;\n        if (attempts > 100) {\n          clearInterval(timer);\n          console.log(\"Bokeh: ERROR: Unable to run BokehJS code because BokehJS library is missing\");\n        }\n      }\n    }, 10, root)\n  }\n})(window);",
      "application/vnd.bokehjs_exec.v0+json": ""
     },
     "metadata": {
      "application/vnd.bokehjs_exec.v0+json": {
       "id": "p2945"
      }
     },
     "output_type": "display_data"
    },
    {
     "data": {
      "text/html": [
       "\n",
       "  <div id=\"dcd76a12-c347-4ad7-b43a-9ee3160dcee6\" data-root-id=\"p2984\" style=\"display: contents;\"></div>\n"
      ]
     },
     "metadata": {},
     "output_type": "display_data"
    },
    {
     "data": {
      "application/javascript": "(function(root) {\n  function embed_document(root) {\n  const docs_json = {\"1a2d9a04-102e-4bd3-96cb-8bf2a362fe6d\":{\"version\":\"3.3.3\",\"title\":\"Bokeh Application\",\"roots\":[{\"type\":\"object\",\"name\":\"Figure\",\"id\":\"p2984\",\"attributes\":{\"sizing_mode\":\"stretch_width\",\"x_range\":{\"type\":\"object\",\"name\":\"FactorRange\",\"id\":\"p2994\",\"attributes\":{\"factors\":[\"BENGALURU\",\"BENGALURU(R)\",\"RAMANAGARA\",\"CHITRADURGA\",\"DAVANAGERE\",\"KOLAR\",\"CHIKKABALLAPURA\",\"SHIVAMOGGA\",\"TUMAKURU\",\"CHIKKAMAGALURU\",\"DAKSHINA KANNADA\",\"UDUPI\",\"HASSAN\",\"KODAGU\",\"MANDYA\",\"MYSURU\",\"CHAMARAJANAGAR\",\"BELAGAVI\",\"VIJAYAPURA\",\"BAGALKOT\",\"DHARAWAD\",\"GADAG\",\"HAVERI\",\"UTTARA KANNADA\",\"BALLARI\",\"BIDAR\",\"KALABURAGI\",\"YADGIRI\",\"RAICHUR\",\"KOPPAL\"]}},\"y_range\":{\"type\":\"object\",\"name\":\"DataRange1d\",\"id\":\"p2986\"},\"x_scale\":{\"type\":\"object\",\"name\":\"CategoricalScale\",\"id\":\"p2995\"},\"y_scale\":{\"type\":\"object\",\"name\":\"LinearScale\",\"id\":\"p2996\"},\"title\":{\"type\":\"object\",\"name\":\"Title\",\"id\":\"p2987\",\"attributes\":{\"text\":\"SowingSeedsDistributed_Jowar_318 vs District\"}},\"renderers\":[{\"type\":\"object\",\"name\":\"GlyphRenderer\",\"id\":\"p3016\",\"attributes\":{\"data_source\":{\"type\":\"object\",\"name\":\"ColumnDataSource\",\"id\":\"p3007\",\"attributes\":{\"selected\":{\"type\":\"object\",\"name\":\"Selection\",\"id\":\"p3008\",\"attributes\":{\"indices\":[],\"line_indices\":[]}},\"selection_policy\":{\"type\":\"object\",\"name\":\"UnionRenderers\",\"id\":\"p3009\"},\"data\":{\"type\":\"map\",\"entries\":[[\"x\",[\"BENGALURU\",\"BENGALURU(R)\",\"RAMANAGARA\",\"CHITRADURGA\",\"DAVANAGERE\",\"KOLAR\",\"CHIKKABALLAPURA\",\"SHIVAMOGGA\",\"TUMAKURU\",\"CHIKKAMAGALURU\",\"DAKSHINA KANNADA\",\"UDUPI\",\"HASSAN\",\"KODAGU\",\"MANDYA\",\"MYSURU\",\"CHAMARAJANAGAR\",\"BELAGAVI\",\"VIJAYAPURA\",\"BAGALKOT\",\"DHARAWAD\",\"GADAG\",\"HAVERI\",\"UTTARA KANNADA\",\"BALLARI\",\"BIDAR\",\"KALABURAGI\",\"YADGIRI\",\"RAICHUR\",\"KOPPAL\"]],[\"y\",{\"type\":\"ndarray\",\"array\":{\"type\":\"bytes\",\"data\":\"AAAAAAAAAAAAAAAAAAAAAAAAAAAAAAAAAAAAAABwcEDNzMzMzMRgQAAAAAAAAAAAAAAAAAAAAAAAAAAAAAD4PwAAAAAAAAAA4XoUrkeBikAAAAAAAAAAAAAAAAAAAAAAH4XrUbjeOEAAAAAAAAAAAAAAAAAAAAAAw/UoXI/CMUAAAAAAACBZQMP1KFyPu6FAzczMzMxzlECamZmZmdGJQAAAAAAAAAhAAAAAAABwgEDsUbgehRSRQAAAAAAAAAAArkfhehS+bkAzMzMzM2tuQAAAAAAAAIpAUrgehevJY0DhehSuR7lrQAAAAAAAGIhA\"},\"shape\":[30],\"dtype\":\"float64\",\"order\":\"little\"}]]}}},\"view\":{\"type\":\"object\",\"name\":\"CDSView\",\"id\":\"p3017\",\"attributes\":{\"filter\":{\"type\":\"object\",\"name\":\"AllIndices\",\"id\":\"p3018\"}}},\"glyph\":{\"type\":\"object\",\"name\":\"VBar\",\"id\":\"p3013\",\"attributes\":{\"x\":{\"type\":\"field\",\"field\":\"x\"},\"width\":{\"type\":\"value\",\"value\":0.8},\"top\":{\"type\":\"field\",\"field\":\"y\"},\"line_color\":{\"type\":\"value\",\"value\":\"#ffbb78\"},\"fill_color\":{\"type\":\"value\",\"value\":\"#ffbb78\"},\"hatch_color\":{\"type\":\"value\",\"value\":\"#ffbb78\"}}},\"nonselection_glyph\":{\"type\":\"object\",\"name\":\"VBar\",\"id\":\"p3014\",\"attributes\":{\"x\":{\"type\":\"field\",\"field\":\"x\"},\"width\":{\"type\":\"value\",\"value\":0.8},\"top\":{\"type\":\"field\",\"field\":\"y\"},\"line_color\":{\"type\":\"value\",\"value\":\"#ffbb78\"},\"line_alpha\":{\"type\":\"value\",\"value\":0.1},\"fill_color\":{\"type\":\"value\",\"value\":\"#ffbb78\"},\"fill_alpha\":{\"type\":\"value\",\"value\":0.1},\"hatch_color\":{\"type\":\"value\",\"value\":\"#ffbb78\"},\"hatch_alpha\":{\"type\":\"value\",\"value\":0.1}}},\"muted_glyph\":{\"type\":\"object\",\"name\":\"VBar\",\"id\":\"p3015\",\"attributes\":{\"x\":{\"type\":\"field\",\"field\":\"x\"},\"width\":{\"type\":\"value\",\"value\":0.8},\"top\":{\"type\":\"field\",\"field\":\"y\"},\"line_color\":{\"type\":\"value\",\"value\":\"#ffbb78\"},\"line_alpha\":{\"type\":\"value\",\"value\":0.2},\"fill_color\":{\"type\":\"value\",\"value\":\"#ffbb78\"},\"fill_alpha\":{\"type\":\"value\",\"value\":0.2},\"hatch_color\":{\"type\":\"value\",\"value\":\"#ffbb78\"},\"hatch_alpha\":{\"type\":\"value\",\"value\":0.2}}}}}],\"toolbar\":{\"type\":\"object\",\"name\":\"Toolbar\",\"id\":\"p2993\",\"attributes\":{\"tools\":[{\"type\":\"object\",\"name\":\"HoverTool\",\"id\":\"p3021\",\"attributes\":{\"renderers\":\"auto\",\"tooltips\":[[\"District\",\"@x\"],[\"SowingSeedsDistributed_Jowar_318\",\"@y\"]]}}]}},\"toolbar_location\":null,\"left\":[{\"type\":\"object\",\"name\":\"LinearAxis\",\"id\":\"p3002\",\"attributes\":{\"ticker\":{\"type\":\"object\",\"name\":\"BasicTicker\",\"id\":\"p3003\",\"attributes\":{\"mantissas\":[1,2,5]}},\"formatter\":{\"type\":\"object\",\"name\":\"BasicTickFormatter\",\"id\":\"p3004\"},\"axis_label\":\"SowingSeedsDistributed_Jowar_318\",\"major_label_policy\":{\"type\":\"object\",\"name\":\"AllLabels\",\"id\":\"p3005\"}}}],\"below\":[{\"type\":\"object\",\"name\":\"CategoricalAxis\",\"id\":\"p2997\",\"attributes\":{\"ticker\":{\"type\":\"object\",\"name\":\"CategoricalTicker\",\"id\":\"p2998\"},\"formatter\":{\"type\":\"object\",\"name\":\"CategoricalTickFormatter\",\"id\":\"p2999\"},\"major_label_orientation\":\"vertical\",\"major_label_policy\":{\"type\":\"object\",\"name\":\"AllLabels\",\"id\":\"p3000\"}}}],\"center\":[{\"type\":\"object\",\"name\":\"Grid\",\"id\":\"p3001\",\"attributes\":{\"axis\":{\"id\":\"p2997\"}}},{\"type\":\"object\",\"name\":\"Grid\",\"id\":\"p3006\",\"attributes\":{\"dimension\":1,\"axis\":{\"id\":\"p3002\"}}},{\"type\":\"object\",\"name\":\"Legend\",\"id\":\"p3019\",\"attributes\":{\"click_policy\":\"hide\",\"items\":[{\"type\":\"object\",\"name\":\"LegendItem\",\"id\":\"p3020\",\"attributes\":{\"label\":{\"type\":\"value\",\"value\":\"SowingSeedsDistributed_Jowar_318\"},\"renderers\":[{\"id\":\"p3016\"}]}}]}}]}}]}};\n  const render_items = [{\"docid\":\"1a2d9a04-102e-4bd3-96cb-8bf2a362fe6d\",\"roots\":{\"p2984\":\"dcd76a12-c347-4ad7-b43a-9ee3160dcee6\"},\"root_ids\":[\"p2984\"]}];\n  root.Bokeh.embed.embed_items_notebook(docs_json, render_items);\n  }\n  if (root.Bokeh !== undefined) {\n    embed_document(root);\n  } else {\n    let attempts = 0;\n    const timer = setInterval(function(root) {\n      if (root.Bokeh !== undefined) {\n        clearInterval(timer);\n        embed_document(root);\n      } else {\n        attempts++;\n        if (attempts > 100) {\n          clearInterval(timer);\n          console.log(\"Bokeh: ERROR: Unable to run BokehJS code because BokehJS library is missing\");\n        }\n      }\n    }, 10, root)\n  }\n})(window);",
      "application/vnd.bokehjs_exec.v0+json": ""
     },
     "metadata": {
      "application/vnd.bokehjs_exec.v0+json": {
       "id": "p2984"
      }
     },
     "output_type": "display_data"
    },
    {
     "data": {
      "text/html": [
       "\n",
       "  <div id=\"e5f36b7e-c4bc-479a-a4c0-3eb84acb7368\" data-root-id=\"p3023\" style=\"display: contents;\"></div>\n"
      ]
     },
     "metadata": {},
     "output_type": "display_data"
    },
    {
     "data": {
      "application/javascript": "(function(root) {\n  function embed_document(root) {\n  const docs_json = {\"922993d3-ed06-46db-836c-225487e78f9e\":{\"version\":\"3.3.3\",\"title\":\"Bokeh Application\",\"roots\":[{\"type\":\"object\",\"name\":\"Figure\",\"id\":\"p3023\",\"attributes\":{\"sizing_mode\":\"stretch_width\",\"x_range\":{\"type\":\"object\",\"name\":\"FactorRange\",\"id\":\"p3033\",\"attributes\":{\"factors\":[\"BENGALURU\",\"BENGALURU(R)\",\"RAMANAGARA\",\"CHITRADURGA\",\"DAVANAGERE\",\"KOLAR\",\"CHIKKABALLAPURA\",\"SHIVAMOGGA\",\"TUMAKURU\",\"CHIKKAMAGALURU\",\"DAKSHINA KANNADA\",\"UDUPI\",\"HASSAN\",\"KODAGU\",\"MANDYA\",\"MYSURU\",\"CHAMARAJANAGAR\",\"BELAGAVI\",\"VIJAYAPURA\",\"BAGALKOT\",\"DHARAWAD\",\"GADAG\",\"HAVERI\",\"UTTARA KANNADA\",\"BALLARI\",\"BIDAR\",\"KALABURAGI\",\"YADGIRI\",\"RAICHUR\",\"KOPPAL\"]}},\"y_range\":{\"type\":\"object\",\"name\":\"DataRange1d\",\"id\":\"p3025\"},\"x_scale\":{\"type\":\"object\",\"name\":\"CategoricalScale\",\"id\":\"p3034\"},\"y_scale\":{\"type\":\"object\",\"name\":\"LinearScale\",\"id\":\"p3035\"},\"title\":{\"type\":\"object\",\"name\":\"Title\",\"id\":\"p3026\",\"attributes\":{\"text\":\"SowingSeedsDistributed_Maize_320 vs District\"}},\"renderers\":[{\"type\":\"object\",\"name\":\"GlyphRenderer\",\"id\":\"p3055\",\"attributes\":{\"data_source\":{\"type\":\"object\",\"name\":\"ColumnDataSource\",\"id\":\"p3046\",\"attributes\":{\"selected\":{\"type\":\"object\",\"name\":\"Selection\",\"id\":\"p3047\",\"attributes\":{\"indices\":[],\"line_indices\":[]}},\"selection_policy\":{\"type\":\"object\",\"name\":\"UnionRenderers\",\"id\":\"p3048\"},\"data\":{\"type\":\"map\",\"entries\":[[\"x\",[\"BENGALURU\",\"BENGALURU(R)\",\"RAMANAGARA\",\"CHITRADURGA\",\"DAVANAGERE\",\"KOLAR\",\"CHIKKABALLAPURA\",\"SHIVAMOGGA\",\"TUMAKURU\",\"CHIKKAMAGALURU\",\"DAKSHINA KANNADA\",\"UDUPI\",\"HASSAN\",\"KODAGU\",\"MANDYA\",\"MYSURU\",\"CHAMARAJANAGAR\",\"BELAGAVI\",\"VIJAYAPURA\",\"BAGALKOT\",\"DHARAWAD\",\"GADAG\",\"HAVERI\",\"UTTARA KANNADA\",\"BALLARI\",\"BIDAR\",\"KALABURAGI\",\"YADGIRI\",\"RAICHUR\",\"KOPPAL\"]],[\"y\",{\"type\":\"ndarray\",\"array\":{\"type\":\"bytes\",\"data\":\"zczMzMzMEUCPwvUoXNdgQGZmZmZmQnBAAAAAAACMs0CamZmZmey3QAAAAAAAwElAzczMzEykq0DXo3A9CsytQGZmZmZmn5lArkfhepTXpkAAAAAAAAAAAAAAAAAAAAAA16NwPapuwUCF61G4Hs1uQArXo3A90IhAH4XrUbiVmEAzMzMzMw2gQNejcD3KNcdA7FG4HoX1pEBmZmZmJi62QDMzMzOzTqNAAAAAAAAPsEDNzMzMzB7GQM3MzMzM9JZA9ihcjwJWtkDNzMzMzIw4QAAAAAAAoGRAAAAAAAAAAAAzMzMzM7MsQAAAAAAArLRA\"},\"shape\":[30],\"dtype\":\"float64\",\"order\":\"little\"}]]}}},\"view\":{\"type\":\"object\",\"name\":\"CDSView\",\"id\":\"p3056\",\"attributes\":{\"filter\":{\"type\":\"object\",\"name\":\"AllIndices\",\"id\":\"p3057\"}}},\"glyph\":{\"type\":\"object\",\"name\":\"VBar\",\"id\":\"p3052\",\"attributes\":{\"x\":{\"type\":\"field\",\"field\":\"x\"},\"width\":{\"type\":\"value\",\"value\":0.8},\"top\":{\"type\":\"field\",\"field\":\"y\"},\"line_color\":{\"type\":\"value\",\"value\":\"#2ca02c\"},\"fill_color\":{\"type\":\"value\",\"value\":\"#2ca02c\"},\"hatch_color\":{\"type\":\"value\",\"value\":\"#2ca02c\"}}},\"nonselection_glyph\":{\"type\":\"object\",\"name\":\"VBar\",\"id\":\"p3053\",\"attributes\":{\"x\":{\"type\":\"field\",\"field\":\"x\"},\"width\":{\"type\":\"value\",\"value\":0.8},\"top\":{\"type\":\"field\",\"field\":\"y\"},\"line_color\":{\"type\":\"value\",\"value\":\"#2ca02c\"},\"line_alpha\":{\"type\":\"value\",\"value\":0.1},\"fill_color\":{\"type\":\"value\",\"value\":\"#2ca02c\"},\"fill_alpha\":{\"type\":\"value\",\"value\":0.1},\"hatch_color\":{\"type\":\"value\",\"value\":\"#2ca02c\"},\"hatch_alpha\":{\"type\":\"value\",\"value\":0.1}}},\"muted_glyph\":{\"type\":\"object\",\"name\":\"VBar\",\"id\":\"p3054\",\"attributes\":{\"x\":{\"type\":\"field\",\"field\":\"x\"},\"width\":{\"type\":\"value\",\"value\":0.8},\"top\":{\"type\":\"field\",\"field\":\"y\"},\"line_color\":{\"type\":\"value\",\"value\":\"#2ca02c\"},\"line_alpha\":{\"type\":\"value\",\"value\":0.2},\"fill_color\":{\"type\":\"value\",\"value\":\"#2ca02c\"},\"fill_alpha\":{\"type\":\"value\",\"value\":0.2},\"hatch_color\":{\"type\":\"value\",\"value\":\"#2ca02c\"},\"hatch_alpha\":{\"type\":\"value\",\"value\":0.2}}}}}],\"toolbar\":{\"type\":\"object\",\"name\":\"Toolbar\",\"id\":\"p3032\",\"attributes\":{\"tools\":[{\"type\":\"object\",\"name\":\"HoverTool\",\"id\":\"p3060\",\"attributes\":{\"renderers\":\"auto\",\"tooltips\":[[\"District\",\"@x\"],[\"SowingSeedsDistributed_Maize_320\",\"@y\"]]}}]}},\"toolbar_location\":null,\"left\":[{\"type\":\"object\",\"name\":\"LinearAxis\",\"id\":\"p3041\",\"attributes\":{\"ticker\":{\"type\":\"object\",\"name\":\"BasicTicker\",\"id\":\"p3042\",\"attributes\":{\"mantissas\":[1,2,5]}},\"formatter\":{\"type\":\"object\",\"name\":\"BasicTickFormatter\",\"id\":\"p3043\"},\"axis_label\":\"SowingSeedsDistributed_Maize_320\",\"major_label_policy\":{\"type\":\"object\",\"name\":\"AllLabels\",\"id\":\"p3044\"}}}],\"below\":[{\"type\":\"object\",\"name\":\"CategoricalAxis\",\"id\":\"p3036\",\"attributes\":{\"ticker\":{\"type\":\"object\",\"name\":\"CategoricalTicker\",\"id\":\"p3037\"},\"formatter\":{\"type\":\"object\",\"name\":\"CategoricalTickFormatter\",\"id\":\"p3038\"},\"major_label_orientation\":\"vertical\",\"major_label_policy\":{\"type\":\"object\",\"name\":\"AllLabels\",\"id\":\"p3039\"}}}],\"center\":[{\"type\":\"object\",\"name\":\"Grid\",\"id\":\"p3040\",\"attributes\":{\"axis\":{\"id\":\"p3036\"}}},{\"type\":\"object\",\"name\":\"Grid\",\"id\":\"p3045\",\"attributes\":{\"dimension\":1,\"axis\":{\"id\":\"p3041\"}}},{\"type\":\"object\",\"name\":\"Legend\",\"id\":\"p3058\",\"attributes\":{\"click_policy\":\"hide\",\"items\":[{\"type\":\"object\",\"name\":\"LegendItem\",\"id\":\"p3059\",\"attributes\":{\"label\":{\"type\":\"value\",\"value\":\"SowingSeedsDistributed_Maize_320\"},\"renderers\":[{\"id\":\"p3055\"}]}}]}}]}}]}};\n  const render_items = [{\"docid\":\"922993d3-ed06-46db-836c-225487e78f9e\",\"roots\":{\"p3023\":\"e5f36b7e-c4bc-479a-a4c0-3eb84acb7368\"},\"root_ids\":[\"p3023\"]}];\n  root.Bokeh.embed.embed_items_notebook(docs_json, render_items);\n  }\n  if (root.Bokeh !== undefined) {\n    embed_document(root);\n  } else {\n    let attempts = 0;\n    const timer = setInterval(function(root) {\n      if (root.Bokeh !== undefined) {\n        clearInterval(timer);\n        embed_document(root);\n      } else {\n        attempts++;\n        if (attempts > 100) {\n          clearInterval(timer);\n          console.log(\"Bokeh: ERROR: Unable to run BokehJS code because BokehJS library is missing\");\n        }\n      }\n    }, 10, root)\n  }\n})(window);",
      "application/vnd.bokehjs_exec.v0+json": ""
     },
     "metadata": {
      "application/vnd.bokehjs_exec.v0+json": {
       "id": "p3023"
      }
     },
     "output_type": "display_data"
    }
   ],
   "source": [
    "# List of districts in the dataset\n",
    "districts = df['District'].tolist()\n",
    "\n",
    "# List of columns to visualize\n",
    "columns_to_visualize = ['Rice_Production_223', 'Jowar_Yield_278', 'Maize_Production_226', 'SowingSeedsDistributed_Jowar_318', 'SowingSeedsDistributed_Maize_320']\n",
    "\n",
    "colors = Category20[len(columns_to_visualize)]\n",
    "\n",
    "# Create a figure for each column\n",
    "for column, color in zip(columns_to_visualize, colors):\n",
    "    # Create a new plot\n",
    "    plot = figure(title=f'{column} vs District', x_range=districts, sizing_mode='stretch_width', toolbar_location=None, tools='')\n",
    "\n",
    "    # Plot the data\n",
    "    source = ColumnDataSource(data=dict(x=districts, y=df[column]))\n",
    "    plot.vbar(x='x', top='y', width=0.8, color=color, legend_label=column, source=source)\n",
    "\n",
    "    # Add hover tooltips\n",
    "    hover = HoverTool()\n",
    "    hover.tooltips = [('District', '@x'), (column, '@y')]\n",
    "    plot.add_tools(hover)\n",
    "\n",
    "    # Styling\n",
    "    plot.xaxis.major_label_orientation = \"vertical\"\n",
    "    plot.yaxis.axis_label = column\n",
    "    plot.legend.location = 'top_right'\n",
    "    plot.legend.click_policy = 'hide'\n",
    "\n",
    "    # Show the plot\n",
    "    show(plot)\n"
   ]
  },
  {
   "cell_type": "code",
   "execution_count": null,
   "metadata": {},
   "outputs": [
    {
     "data": {
      "text/html": [
       "\n",
       "  <div id=\"da5f0fd8-a827-4a47-beab-72dd1b3cb420\" data-root-id=\"p3063\" style=\"display: contents;\"></div>\n"
      ]
     },
     "metadata": {},
     "output_type": "display_data"
    },
    {
     "data": {
      "application/javascript": "(function(root) {\n  function embed_document(root) {\n  const docs_json = {\"20e1009d-9002-4dc7-906d-0b3297ab877a\":{\"version\":\"3.3.3\",\"title\":\"Bokeh Application\",\"roots\":[{\"type\":\"object\",\"name\":\"Figure\",\"id\":\"p3063\",\"attributes\":{\"x_range\":{\"type\":\"object\",\"name\":\"FactorRange\",\"id\":\"p3062\",\"attributes\":{\"factors\":[\"BENGALURU\",\"BENGALURU(R)\",\"RAMANAGARA\",\"CHITRADURGA\",\"DAVANAGERE\",\"KOLAR\",\"CHIKKABALLAPURA\",\"SHIVAMOGGA\",\"TUMAKURU\",\"CHIKKAMAGALURU\",\"DAKSHINA KANNADA\",\"UDUPI\",\"HASSAN\",\"KODAGU\",\"MANDYA\",\"MYSURU\",\"CHAMARAJANAGAR\",\"BELAGAVI\",\"VIJAYAPURA\",\"BAGALKOT\",\"DHARAWAD\",\"GADAG\",\"HAVERI\",\"UTTARA KANNADA\",\"BALLARI\",\"BIDAR\",\"KALABURAGI\",\"YADGIRI\",\"RAICHUR\",\"KOPPAL\"]}},\"y_range\":{\"type\":\"object\",\"name\":\"DataRange1d\",\"id\":\"p3065\"},\"x_scale\":{\"type\":\"object\",\"name\":\"CategoricalScale\",\"id\":\"p3073\"},\"y_scale\":{\"type\":\"object\",\"name\":\"LinearScale\",\"id\":\"p3074\"},\"title\":{\"type\":\"object\",\"name\":\"Title\",\"id\":\"p3066\",\"attributes\":{\"text\":\"Production Comparison by Crop and District\"}},\"renderers\":[{\"type\":\"object\",\"name\":\"GlyphRenderer\",\"id\":\"p3100\",\"attributes\":{\"name\":\"Rice_Production_223\",\"data_source\":{\"type\":\"object\",\"name\":\"ColumnDataSource\",\"id\":\"p3085\",\"attributes\":{\"selected\":{\"type\":\"object\",\"name\":\"Selection\",\"id\":\"p3086\",\"attributes\":{\"indices\":[],\"line_indices\":[]}},\"selection_policy\":{\"type\":\"object\",\"name\":\"UnionRenderers\",\"id\":\"p3087\"},\"data\":{\"type\":\"map\",\"entries\":[[\"index\",{\"type\":\"ndarray\",\"array\":{\"type\":\"bytes\",\"data\":\"AAAAAAEAAAACAAAAAwAAAAQAAAAFAAAABgAAAAcAAAAIAAAACQAAAAoAAAALAAAADAAAAA0AAAAOAAAADwAAABAAAAARAAAAEgAAABMAAAAUAAAAFQAAABYAAAAXAAAAGAAAABkAAAAaAAAAGwAAABwAAAAdAAAA\"},\"shape\":[30],\"dtype\":\"int32\",\"order\":\"little\"}],[\"District\",{\"type\":\"ndarray\",\"array\":[\"BENGALURU\",\"BENGALURU(R)\",\"RAMANAGARA\",\"CHITRADURGA\",\"DAVANAGERE\",\"KOLAR\",\"CHIKKABALLAPURA\",\"SHIVAMOGGA\",\"TUMAKURU\",\"CHIKKAMAGALURU\",\"DAKSHINA KANNADA\",\"UDUPI\",\"HASSAN\",\"KODAGU\",\"MANDYA\",\"MYSURU\",\"CHAMARAJANAGAR\",\"BELAGAVI\",\"VIJAYAPURA\",\"BAGALKOT\",\"DHARAWAD\",\"GADAG\",\"HAVERI\",\"UTTARA KANNADA\",\"BALLARI\",\"BIDAR\",\"KALABURAGI\",\"YADGIRI\",\"RAICHUR\",\"KOPPAL\"],\"shape\":[30],\"dtype\":\"object\",\"order\":\"little\"}],[\"Nitrogen_312\",{\"type\":\"ndarray\",\"array\":{\"type\":\"bytes\",\"data\":\"zzQAAFsmAADiEwAAl08AAJLUAADlKwAAPjgAAJFsAAAlUwAAfnQAAPkaAAApCwAAkoMAAG1EAACqlwAALX0AACEsAAADhwEAgXEAAPaxAAAEUQAAozQAABWUAADGIQAAMxABAFIuAABGZQAAnsQAALgDAQBpnwAA\"},\"shape\":[30],\"dtype\":\"int32\",\"order\":\"little\"}],[\"Phosphorus_313\",{\"type\":\"ndarray\",\"array\":{\"type\":\"bytes\",\"data\":\"9xwAAE0eAAA5BgAAwy4AAEKEAACiHgAAECkAABdEAAAlMAAAo0oAAIARAACEBQAAsVUAAPgtAABHMwAANUwAAAAbAADyrwAAtkgAAB5bAADoMwAANx0AACBUAADrDgAA/ZoAAAQrAACEXgAAnXwAAHmZAABAWAAA\"},\"shape\":[30],\"dtype\":\"int32\",\"order\":\"little\"}],[\"Potassium_314\",{\"type\":\"ndarray\",\"array\":{\"type\":\"bytes\",\"data\":\"SAkAAJMGAAAVAwAA0g0AAGgsAAAnDAAAdw0AAHksAAC6EQAA9UkAACMcAABXBwAADTIAAI4tAACdIQAA2ygAANoVAAAjiAAAnRkAADg+AAAZDQAAFwkAALQVAAAjCwAAkTYAAPwGAAAlDwAAwiMAAMMsAACnJwAA\"},\"shape\":[30],\"dtype\":\"int32\",\"order\":\"little\"}],[\"TotalNPK_315\",{\"type\":\"ndarray\",\"array\":{\"type\":\"bytes\",\"data\":\"DlsAADtLAAAwHQAALIwAADyFAQCuVgAAxW4AACHdAAAElQAAFwkBAJxIAAAEGAAATwsBAPOfAACO7AAAPvIAAPtcAAAYvwIA1NMAAExLAQAFkgAA8FoAAOn9AADUOwAAweEBAFJgAADv0gAA/WQBAPPJAQBQHwEA\"},\"shape\":[30],\"dtype\":\"int32\",\"order\":\"little\"}],[\"Rice_Production_223\",{\"type\":\"ndarray\",\"array\":{\"type\":\"bytes\",\"data\":\"MA0AADIJAABgLwAA1hEAACF4BwBgAwAAigoAAM7fBQC6ZQAAxa8BAOwFAgCsGwIAWTECAB9RAQAPwwMAs2cFACCzAACQtQIAqgAAAFUAAADFhAAAWhwAAO7pAQCVVQIAR0oGAPQHAADQHgAAk20DADaDBwAxtwMA\"},\"shape\":[30],\"dtype\":\"int32\",\"order\":\"little\"}],[\"Jowar_Production_224\",{\"type\":\"ndarray\",\"array\":{\"type\":\"bytes\",\"data\":\"UwMAAAAAAAAAAAAA9TMAACBaAAAAAAAAAAAAAPQCAABcCgAAeCMAAAAAAAAAAAAA1QMAAAAAAACoBAAAnxcAAFMTAACTKAIAiwsCACt7AQDmpAAAYe8AAMGOAAAAAAAAVgkBAB2cAACT+QMAvrgAAA+DAQBasQAA\"},\"shape\":[30],\"dtype\":\"int32\",\"order\":\"little\"}],[\"Bajra_Production_225\",{\"type\":\"ndarray\",\"array\":{\"type\":\"bytes\",\"data\":\"AAAAAAAAAAADAAAAPQQAABoDAAAAAAAAAAAAAAIAAAAiAQAAAAAAAAAAAAAAAAAAAAAAAAAAAAAeAAAAAAAAAKgBAABeFgAACYoAAFRPAAAFAAAAjwMAAAAAAAAAAAAAdC0AAB0QAADWWAAA8DwAAA5zAAAtOAEA\"},\"shape\":[30],\"dtype\":\"int32\",\"order\":\"little\"}],[\"Maize_Production_226\",{\"type\":\"ndarray\",\"array\":{\"type\":\"bytes\",\"data\":\"PwsAAFemAADSKAAAZyYEAIgOCQDfBgAAE5wBAOR0AwA0BQEAqe8AAAAAAABtAAAAcRgFAAFGAAC7SwAAwhcCAK5BAgD2zAgAF3QDADPXAwAKYgEA7BwCAC9PBgAYXgAA2iwDAOcKAAAdOQAAcQoAANMCAAAs5wIA\"},\"shape\":[30],\"dtype\":\"int32\",\"order\":\"little\"}],[\"Ragi_Production_227\",{\"type\":\"ndarray\",\"array\":{\"type\":\"bytes\",\"data\":\"R/IAAJw5AQDmFAIAiGwBAFZJAAB0AwEAm+AAACsEAAATGwUAKM4AAAAAAAAAAAAA+2ACAAAAAAAiiQEAYkwBAHVpAAC4BAAAAAAAAAAAAAAMAAAACwAAAMcAAAALAAAAbgoAAAAAAAAAAAAAAAAAAAAAAAAAAAAA\"},\"shape\":[30],\"dtype\":\"int32\",\"order\":\"little\"}],[\"Wheat_Production_228\",{\"type\":\"ndarray\",\"array\":{\"type\":\"bytes\",\"data\":\"AAAAAAAAAAAAAAAAdwEAAJUCAAAAAAAAAAAAAAAAAAAAAAAAAAAAAAAAAAAAAAAAAAAAAAAAAAAAAAAAAAAAAAAAAAB3DAEAVeEAAJ2iAAB3fwAAvEsAACICAAAAAAAA3wAAAAcaAABUZAAAagQAAPMCAADGFgAA\"},\"shape\":[30],\"dtype\":\"int32\",\"order\":\"little\"}],[\"TotalCerealsandMinorMillets_Production_230\",{\"type\":\"ndarray\",\"array\":{\"type\":\"bytes\",\"data\":\"IQ4BADDpAQAgbQIA8e4FAGExEQDhDQEAW4cCANNbCQDKlQYAr5gDAOwFAgAZHAIAQ68JACCXAQCynAUAduMIAFZzAwCf1g4AqusGAKREBgCqCwMAFHgDAIrQCAC4swIA4bsKACTZAADsDgUAMHIEABl/CQBWoggA\"},\"shape\":[30],\"dtype\":\"int32\",\"order\":\"little\"}],[\"Rice_Yield_277\",{\"type\":\"ndarray\",\"array\":{\"type\":\"bytes\",\"data\":\"TA4AAPAOAACMCQAARQkAALoOAABUCgAAoQ0AAPoMAABECwAARAsAAGoKAAB3CwAASwwAAHYLAAAcDwAA3g0AAKYNAAAuDAAA+A0AAPgNAADCBgAAmg4AACsLAAAuCQAARg4AAA8EAAC8BQAAQAsAAHQMAABQDQAA\"},\"shape\":[30],\"dtype\":\"int32\",\"order\":\"little\"}],[\"Jowar_Yield_278\",{\"type\":\"ndarray\",\"array\":{\"type\":\"bytes\",\"data\":\"AwYAAAAAAAAAAAAA2AMAAHcIAAAAAAAAAAAAAMIIAABCBQAAgQMAAAAAAAAAAAAAlQMAAAAAAADKAwAAUAQAAHMBAACwBAAAzgMAAMYDAAA4BAAAAQQAALcEAAAAAAAADwcAACIEAAB6BAAArQQAAE8FAAAgBQAA\"},\"shape\":[30],\"dtype\":\"int32\",\"order\":\"little\"}],[\"Bajra_Yield_279\",{\"type\":\"ndarray\",\"array\":{\"type\":\"bytes\",\"data\":\"AAAAAAAAAADzAwAAoQIAADsFAAAAAAAAAAAAAL0DAACKAwAAAAAAAAAAAAAAAAAAAAAAAAAAAACGAwAAAAAAALYEAACLAgAA+gIAAMsDAADzAwAAjAEAAAAAAAAAAAAAEwMAAI4EAAD6BQAA+AMAAJ4CAABnBgAA\"},\"shape\":[30],\"dtype\":\"int32\",\"order\":\"little\"}],[\"Maize_Yield_280\",{\"type\":\"ndarray\",\"array\":{\"type\":\"bytes\",\"data\":\"0AwAAAcMAAC9DwAALQwAAGcNAACsDQAAkgYAAPYOAADACQAAsgoAAAAAAADxDgAAdRAAAO8UAADBEQAAGg8AAIMRAAAiDwAAGQ4AADQPAAAZCwAASQoAAHkLAAC9DwAAvQkAAL4HAAD2CgAA/gwAAGgJAAA8DAAA\"},\"shape\":[30],\"dtype\":\"int32\",\"order\":\"little\"}],[\"Ragi_Yield_281\",{\"type\":\"ndarray\",\"array\":{\"type\":\"bytes\",\"data\":\"pwoAAC4JAAAPCAAAtgYAAGgGAAA0BQAABwUAAKEHAAC+BwAA6wQAAAAAAAAAAAAAnggAAAAAAAD4BgAArggAAB8HAABiBAAAAAAAAAAAAACWBAAAlgQAAKMDAAAHBQAAewMAAAAAAAAAAAAAAAAAAAAAAAAAAAAA\"},\"shape\":[30],\"dtype\":\"int32\",\"order\":\"little\"}],[\"Wheat_Yield_282\",{\"type\":\"ndarray\",\"array\":{\"type\":\"bytes\",\"data\":\"AAAAAAAAAAAAAAAAzAUAAEQHAAAAAAAAAAAAAAAAAAAAAAAAAAAAAAAAAAAAAAAAAAAAAAAAAAAAAAAAAAAAAAAAAAAKBgAAawQAAF4HAAChBAAAwgQAAIsDAAAAAAAAfQMAAFAGAAB3BwAATQQAALsEAADGAwAA\"},\"shape\":[30],\"dtype\":\"int32\",\"order\":\"little\"}],[\"TotalCerealsandMillets_Yield_284\",{\"type\":\"ndarray\",\"array\":{\"type\":\"bytes\",\"data\":\"vgoAAA8KAABuCAAAHwkAAHUNAABRBQAA+wUAAJ8NAAALCAAA+wcAAGoKAAB3CwAAlgwAAG4MAABvCwAAtgwAANYLAAAFCgAA8wUAALUHAACVBgAAsgYAAGcKAAC8CQAA1QoAAHMEAADdBAAAcggAAO4IAADbCQAA\"},\"shape\":[30],\"dtype\":\"int32\",\"order\":\"little\"}],[\"Groundnut_Production_241\",{\"type\":\"ndarray\",\"array\":{\"type\":\"bytes\",\"data\":\"RwAAAM4AAADeEgAA3wsBANBAAACyFgAA3BsAAPgAAADKmgAARQ8AAAAAAAAnDgAACQIAAC0AAAD9AwAAeggAAKMiAABqmgAAiGsAAGRjAAC6UgAAZHoAAIVHAADxDgAANbMAAAUBAAAqDAAAy3oAAE5pAAAedQAA\"},\"shape\":[30],\"dtype\":\"int32\",\"order\":\"little\"}],[\"Sunflower_Production_242\",{\"type\":\"ndarray\",\"array\":{\"type\":\"bytes\",\"data\":\"AgAAAAoAAAABAAAAdhYAAKwRAAAAAAAAZgAAAFoHAABNAwAAxwUAAAAAAAAAAAAAuQIAAAAAAAAIAAAA+gIAAFQJAACkKwAAWlQAAAhUAACsBQAAhkkAAKkUAAAoAAAAUjEAAOsCAACgWQAAMQgAAPYtAABEgwAA\"},\"shape\":[30],\"dtype\":\"int32\",\"order\":\"little\"}],[\"Safflower_Production_243\",{\"type\":\"ndarray\",\"array\":{\"type\":\"bytes\",\"data\":\"AAAAAAAAAAAAAAAAqgMAAAEAAAAAAAAAAAAAAAkAAAAAAAAAAAAAAAAAAAAAAAAAAAAAAAAAAAAAAAAAEgAAAAAAAAC7CAAACAQAAGgBAAB5DgAAOAgAAPECAAAAAAAAJAAAAH8cAAAMCQAANwEAANMDAADCFQAA\"},\"shape\":[30],\"dtype\":\"int32\",\"order\":\"little\"}],[\"Castor_Production_244\",{\"type\":\"ndarray\",\"array\":{\"type\":\"bytes\",\"data\":\"HwAAAI8AAAB1AwAAOQIAAHwAAAAjAAAALQAAAAEAAACcBgAAkgAAAAAAAAAAAAAAsgQAAAAAAACZAQAA3gIAAH4AAAAyAAAAAAAAAAAAAAAAAAAAAgAAAAgAAAAAAAAAJwAAAAcAAAAwAAAAHwAAAB8BAACwAgAA\"},\"shape\":[30],\"dtype\":\"int32\",\"order\":\"little\"}],[\"Sesamum_Production_245\",{\"type\":\"ndarray\",\"array\":{\"type\":\"bytes\",\"data\":\"BwAAAAQAAAAJAgAAbwkAABoAAABmAAAAAAAAAAUAAAAbAAAAjAsAAMEAAAATAAAANwcAAAAAAABvAwAAawkAANIAAACKAAAAIAAAAFgAAAC6AAAA6AAAAGUAAAAAAAAAJwIAAFkCAAAhCwAAIgAAAK0AAACIHAAA\"},\"shape\":[30],\"dtype\":\"int32\",\"order\":\"little\"}],[\"Linseed_Production_246\",{\"type\":\"ndarray\",\"array\":{\"type\":\"bytes\",\"data\":\"AAAAAAAAAAAAAAAAAAAAAAAAAAAAAAAAAAAAAAAAAAAKAAAAAQAAAAAAAAAAAAAAAAAAAAAAAAAAAAAABAAAAAEAAAANAQAApAAAAJUBAAAVAAAAJQAAABkAAAAAAAAAAAAAADEAAABuAAAAAAAAACwAAAD8AQAA\"},\"shape\":[30],\"dtype\":\"int32\",\"order\":\"little\"}],[\"Soyabean_Production_247\",{\"type\":\"ndarray\",\"array\":{\"type\":\"bytes\",\"data\":\"AAAAAAAAAAAAAAAAAAAAAAAAAAAAAAAAAAAAAAAAAAAAAAAAAAAAAAAAAAAAAAAAAAAAAAAAAAAAAAAAAAAAAAAAAACL9gAAAAAAABQKAADVhgAAAAAAALEPAAADAAAAAAAAAHMJAQByMwAAAAAAAAAAAAAAAAAA\"},\"shape\":[30],\"dtype\":\"int32\",\"order\":\"little\"}],[\"Nigerseed_Production_248\",{\"type\":\"ndarray\",\"array\":{\"type\":\"bytes\",\"data\":\"GAAAADgAAABfAAAACAAAADEAAAATAAAAAgAAAAEAAABlAAAAdQAAAAAAAAAAAAAAAwIAAAAAAAAbAQAA9wEAACEAAABLAAAAMAAAABQAAABQAAAAVwAAADEAAAAAAAAAIgAAAIQBAABgAAAAAAAAAAAAAAAOAQAA\"},\"shape\":[30],\"dtype\":\"int32\",\"order\":\"little\"}],[\"TotalOilSeeds_Production_249\",{\"type\":\"ndarray\",\"array\":{\"type\":\"bytes\",\"data\":\"ogAAAN8BAAAOGQAAsTEBAE9TAABqFwAArRwAAGIIAABbpQAApCEAAMEAAAA6DgAA1hIAAC0AAAAoCgAAyhkAAGktAACdxwEA3sQAAOnEAADW7gAAjc0AAIdvAAAcDwAAG+cAAAIuAQB+rgAAd4QAAA+dAABmMAEA\"},\"shape\":[30],\"dtype\":\"int32\",\"order\":\"little\"}],[\"Groundnut_Yield_295\",{\"type\":\"ndarray\",\"array\":{\"type\":\"bytes\",\"data\":\"egMAANoCAABiBQAAVQIAAO8DAADRAQAAmwEAAPkCAADSAQAAUAMAAAAAAABHCAAAogIAAJsCAACSAwAAagMAALkCAABPBAAAtgIAAOIDAAA1AwAA9wIAAEcEAAB7BwAAcQMAABwDAAAgAwAA+wIAAF0DAACEAwAA\"},\"shape\":[30],\"dtype\":\"int32\",\"order\":\"little\"}],[\"Sunflower_Yield_296\",{\"type\":\"ndarray\",\"array\":{\"type\":\"bytes\",\"data\":\"DgIAAA4CAACUAQAAlAEAAOQDAAAAAAAAhQUAADEJAABbAgAA3wEAAAAAAAAAAAAAKAMAAAAAAAC+AgAAfQQAABMBAAD5AgAAggEAACMCAADdAQAA1wEAALoEAABbAwAA/wEAAI0BAAA5AgAA5wEAAJcBAADUAgAA\"},\"shape\":[30],\"dtype\":\"int32\",\"order\":\"little\"}],[\"Safflower_Yield_297\",{\"type\":\"ndarray\",\"array\":{\"type\":\"bytes\",\"data\":\"AAAAAAAAAAAAAAAADAIAAHEDAAAAAAAAAAAAAHEDAAAAAAAAAAAAAAAAAAAAAAAAAAAAAAAAAAAAAAAArgQAAAAAAAAFAwAAnQEAAKoBAADUAgAADAQAAJgEAAAAAAAAQQEAAGEEAAD5AgAASgIAAHYDAABRBQAA\"},\"shape\":[30],\"dtype\":\"int32\",\"order\":\"little\"}],[\"Castor_Yield_298\",{\"type\":\"ndarray\",\"array\":{\"type\":\"bytes\",\"data\":\"hQIAAIUCAACjAwAAmgMAAIUCAACFAgAAhQIAAIUCAABXAgAAhQIAAAAAAAAAAAAAwwMAAAAAAACFAgAArgIAANMAAACFAgAAAAAAAAAAAAAAAAAAhQIAAIUCAAAAAAAAhQIAAIUCAACFAgAAhQIAAOEAAACyAgAA\"},\"shape\":[30],\"dtype\":\"int32\",\"order\":\"little\"}],[\"Linseed_Yield_299\",{\"type\":\"ndarray\",\"array\":{\"type\":\"bytes\",\"data\":\"AAAAAAAAAAAAAAAAAAAAAAAAAAAAAAAAAAAAAFkBAABZAQAAWQEAAAAAAAAAAAAAAAAAAAAAAAAAAAAAWQEAAFkBAABxAQAAyAAAAPEAAABZAQAAWQEAAFkBAAAAAAAAAAAAAFkBAABZAQAAAAAAACwDAACuAgAA\"},\"shape\":[30],\"dtype\":\"int32\",\"order\":\"little\"}],[\"Soyabean_Yield_300\",{\"type\":\"ndarray\",\"array\":{\"type\":\"bytes\",\"data\":\"AAAAAAAAAAAAAAAAAAAAAAAAAAAAAAAAAAAAAAAAAAAAAAAAAAAAAAAAAAAAAAAAAAAAAAAAAAAAAAAAAAAAAAAAAAB+AwAAAAAAADwEAABwBAAAAAAAAEsDAAD8AgAAAAAAAFQCAAB/AgAAAAAAAAAAAAAAAAAA\"},\"shape\":[30],\"dtype\":\"int32\",\"order\":\"little\"}],[\"Sesamum_Yield_301\",{\"type\":\"ndarray\",\"array\":{\"type\":\"bytes\",\"data\":\"MwIAADMCAACQAQAA+AIAANsCAAAzAgAAAAAAADMCAABpAAAABwIAADMCAAAzAgAAGgIAAAAAAAAZAQAAOQIAAAwBAACOAwAAcQAAAO4BAAAzAgAAnAIAAPUCAAAAAAAA0AEAADQBAAClAgAAAwEAAH8AAAD7AgAA\"},\"shape\":[30],\"dtype\":\"int32\",\"order\":\"little\"}],[\"Nigerseed_Yield_302\",{\"type\":\"ndarray\",\"array\":{\"type\":\"bytes\",\"data\":\"EgEAABIBAAClAAAAEgEAABIBAAASAQAAEgEAABIBAACqAAAAVAEAAAAAAAAAAAAAFgEAAAAAAAArAQAAEgEAABIBAAA7AQAAEgEAABIBAAASAQAAEgEAABIBAAAAAAAAEgEAAF4BAADmAAAAAAAAAAAAAAAOAQAA\"},\"shape\":[30],\"dtype\":\"int32\",\"order\":\"little\"}],[\"TotalOilSeeds_Yield_303\",{\"type\":\"ndarray\",\"array\":{\"type\":\"bytes\",\"data\":\"0gEAANUBAADAAwAARQIAAOIDAADPAQAAnwEAAEYHAADVAQAAaAIAADQCAAAoCAAARwIAAJsCAADAAQAAhQIAAPwBAACiAwAA+wEAAM8CAACsAwAAcgIAACYEAABgBwAA9AIAAGYCAABkAgAA3gIAAHQCAAArAwAA\"},\"shape\":[30],\"dtype\":\"int32\",\"order\":\"little\"}],[\"SowingSeedsDistributed_Paddy_316\",{\"type\":\"ndarray\",\"array\":{\"type\":\"bytes\",\"data\":\"PQrXo3B9M0Bcj8L1KNw2QIXrUbgeiZNAAAAAAADojkAAAAAAAOKGQAAAAAAAGpRAAAAAAACgk0AfhetReFXOQIXrUbhe5LdAAAAAAABjn0AAAAAAAM6MQAAAAAAAPKNAj8L1KJy2s0DNzMzMTIKkQLgehetxvtJAexSuR3EY2kBmZmZm5sOzQGZmZmZmBl5AAAAAAAAAAAAAAAAAAAAAAAAAAAAA9IVAAAAAAAAAAADNzMzMzCK1QKRwPQrXy75AAAAAAECUukAAAAAAAAA+QAAAAAAAwE9AMzMzMzP8o0BSuB6Fa1zFQAAAAAAAi6JA\"},\"shape\":[30],\"dtype\":\"float64\",\"order\":\"little\"}],[\"SowingSeedsDistributed_Wheat_317\",{\"type\":\"ndarray\",\"array\":{\"type\":\"bytes\",\"data\":\"AAAAAAAAAAAAAAAAAAAAAAAAAAAAAAAAAAAAAADAXUAAAAAAAAAAAAAAAAAAAAAAAAAAAAAAAAAAAAAAAAAAAAAAAAAAAAAAAAAAAAAAAAAAAAAAAAAAAAAAAAAAAAAAAAAAAAAAAAAAAAAAAAAAAAAAAAAAAAAAAAAAAAAAAAAAAAAAAAAAAM3MzMzM9aRAZmZmZmYjokCamZmZmX+qQM3MzMzMdH1AAAAAAABAaEAAAAAAAIBKQAAAAAAAAAAAAAAAAAAANkAAAAAAAKBdQAAAAAAAAAAAAAAAAAAAAAAAAAAAAAAAAAAAAAAAAAAA\"},\"shape\":[30],\"dtype\":\"float64\",\"order\":\"little\"}],[\"SowingSeedsDistributed_Jowar_318\",{\"type\":\"ndarray\",\"array\":{\"type\":\"bytes\",\"data\":\"AAAAAAAAAAAAAAAAAAAAAAAAAAAAAAAAAAAAAABwcEDNzMzMzMRgQAAAAAAAAAAAAAAAAAAAAAAAAAAAAAD4PwAAAAAAAAAA4XoUrkeBikAAAAAAAAAAAAAAAAAAAAAAH4XrUbjeOEAAAAAAAAAAAAAAAAAAAAAAw/UoXI/CMUAAAAAAACBZQMP1KFyPu6FAzczMzMxzlECamZmZmdGJQAAAAAAAAAhAAAAAAABwgEDsUbgehRSRQAAAAAAAAAAArkfhehS+bkAzMzMzM2tuQAAAAAAAAIpAUrgehevJY0DhehSuR7lrQAAAAAAAGIhA\"},\"shape\":[30],\"dtype\":\"float64\",\"order\":\"little\"}],[\"SowingSeedsDistributed_Ragi_319\",{\"type\":\"ndarray\",\"array\":{\"type\":\"bytes\",\"data\":\"XI/C9ShMUEDD9Shcj6JjQArXo3A9H55AAAAAAACYrUDXo3A9CkGJQM3MzMxMhqtAmpmZmZnomkAAAAAAALBZQDMzMzOzNKNAMzMzMzNKnUAAAAAAAAAAAAAAAAAAAAAAhetRuJ4ppUAAAAAAAAAAAHE9CtejwZNAZmZmZmaSeEDNzMzMzO6PQAAAAAAAAAAAAAAAAAAAAAAAAAAAAAAAAAAAAAAAAAAAAAAAAAAAAAAAAAAAAAAAAAAAAAAAAAAAMzMzMzPzb0AAAAAAAAAAAAAAAAAAAAAAAAAAAAAAAAAAAAAAAAAAAAAAAAAAAAAA\"},\"shape\":[30],\"dtype\":\"float64\",\"order\":\"little\"}],[\"SowingSeedsDistributed_Maize_320\",{\"type\":\"ndarray\",\"array\":{\"type\":\"bytes\",\"data\":\"zczMzMzMEUCPwvUoXNdgQGZmZmZmQnBAAAAAAACMs0CamZmZmey3QAAAAAAAwElAzczMzEykq0DXo3A9CsytQGZmZmZmn5lArkfhepTXpkAAAAAAAAAAAAAAAAAAAAAA16NwPapuwUCF61G4Hs1uQArXo3A90IhAH4XrUbiVmEAzMzMzMw2gQNejcD3KNcdA7FG4HoX1pEBmZmZmJi62QDMzMzOzTqNAAAAAAAAPsEDNzMzMzB7GQM3MzMzM9JZA9ihcjwJWtkDNzMzMzIw4QAAAAAAAoGRAAAAAAAAAAAAzMzMzM7MsQAAAAAAArLRA\"},\"shape\":[30],\"dtype\":\"float64\",\"order\":\"little\"}],[\"SowingSeedsDistributed_Bajra_321\",{\"type\":\"ndarray\",\"array\":{\"type\":\"bytes\",\"data\":\"AAAAAAAAAAAAAAAAAAAAAAAAAAAAAAAAAAAAAACAUEA9CtejcD0nQAAAAAAAAAAAAAAAAAAAAAAAAAAAAAAAAM3MzMzMzABAAAAAAAAAAAAAAAAAAAAAAAAAAAAAAAAAAAAAAAAAAAAAAAAAAAAAAAAAAAAAAAAAAAAAAAAAAAAAAAAAAAAAAFK4HoXreWlAexSuR+ESaUAAAAAAAAR5QAAAAAAAAAAAAAAAAAAAUEAAAAAAAAAAAAAAAAAAAAAAuB6F61EAnEDNzMzMzAwxQAAAAAAAIGJAZmZmZmZGQ0CPwvUoXGt1QAAAAAAAjJRA\"},\"shape\":[30],\"dtype\":\"float64\",\"order\":\"little\"}],[\"SowingSeedsDistributed_Safflower_323\",{\"type\":\"ndarray\",\"array\":{\"type\":\"bytes\",\"data\":\"AAAAAAAAAAAAAAAAAAAAAAAAAAAAAAAAAAAAAAAAAAAAAAAAAAAAAAAAAAAAAAAAAAAAAAAAAAAAAAAAAAAAAAAAAAAAAAAAAAAAAAAAAAAAAAAAAAAAAAAAAAAAAAAAAAAAAAAAAAAAAAAAAAAAAAAAAAAAAAAAAAAAAAAAAAAAAAAAAAAAAKRwPQrXozdAAAAAAAAAAAAAAAAAAAAAAAAAAAAAAPg/AAAAAAAAEEAAAAAAAAAAAAAAAAAAAAAAAAAAAAAAAACkcD0K12M5QAAAAAAAAAAAAAAAAAAAAAAAAAAAAAAAAAAAAAAAAAAA\"},\"shape\":[30],\"dtype\":\"float64\",\"order\":\"little\"}],[\"SowingSeedsDistributed_Groundnut_328\",{\"type\":\"ndarray\",\"array\":{\"type\":\"bytes\",\"data\":\"AAAAAACAIEDNzMzMzEwlQJqZmZmZOWtAAAAAAMBI30AAAAAAsEPoQAAAAAAAj6dAZmZmZuaIuUAAAAAAAAA+QM3MzMyMXd5AMzMzMzM1l0AAAAAAAAAAAGZmZmZmlntAMzMzMzMz8z8AAAAAAAAAAAAAAAAA4GBAzczMzMzMeUDNzMzMzCOqQAAAAAAAtphAAAAAAEA7yUCamZmZGT3NQJqZmZmZZ5dAAAAAAABvt0AAAAAAAECsQDMzMzMzy4FAAAAAAMAHvEAAAAAAAAAAAAAAAAAA0qlAAAAAAAAAAAAAAAAAAOHEQAAAAAAAQqBA\"},\"shape\":[30],\"dtype\":\"float64\",\"order\":\"little\"}],[\"SowingSeedsDistributed_Sunflower_329\",{\"type\":\"ndarray\",\"array\":{\"type\":\"bytes\",\"data\":\"AAAAAAAAAAAAAAAAAAAAAAAAAAAAAAAAAAAAAADAdUDNzMzMzHiDQAAAAAAAAAAAAAAAAAAAAAAAAAAAAAAAAAAAAAAAAD5Aw/UoXI/iU0AAAAAAAAAAAAAAAAAAAAAAH4XrUbgeHUAAAAAAAAAAAAAAAAAAAAAArkfhehSuKkBcj8L1KOx+QOxRuB6FG2tAzczMzMysYUB7FK5H4dp3QFK4HoXrUSFAAAAAAABIhEB7FK5H4XocQAAAAAAAAAAAw/UoXI+CVkCkcD0K1yM+QAAAAAAAIGBASOF6FK7HM0CamZmZmfVxQAAAAAAAsHZA\"},\"shape\":[30],\"dtype\":\"float64\",\"order\":\"little\"}],[\"SowingSeedsDistributed_Soyabean_330\",{\"type\":\"ndarray\",\"array\":{\"type\":\"bytes\",\"data\":\"AAAAAAAAAAAAAAAAAAAAAAAAAAAAAAAAAAAAAAAAAAAAAAAAAAAAAAAAAAAAAAAAAAAAAAAAAAAAAAAAAAAAAAAAAAAAAAAAAAAAAAAAAAAAAAAAAAAAAAAAAAAAAAAAAAAAAAAAAAAAAAAAAAAAAAAAAAAAAAAAAAAAAAAAAAAAAAAAAAAAAAAAAADA8+NAAAAAAAAAAABmZmZm5makQJqZmZm5tsxAAAAAAAAAAACamZmZGQ7BQAAAAAAAAAAAAAAAAAAAAACamZmZedjsQAAAAAAAQMBAAAAAAAAAAAAAAAAAAAAAAAAAAAAAAAAA\"},\"shape\":[30],\"dtype\":\"float64\",\"order\":\"little\"}],[\"RRB_AgricultureLoan_448\",{\"type\":\"ndarray\",\"array\":{\"type\":\"bytes\",\"data\":\"hetRuB70qkAfhetR+JXEQB+F61H4YMNAH4XrUZDT+UC4HoXrUbXzQPYoXI8uI/FAFK5H4crR50DNzMzMyNrwQNejcD1uh/lAw/UoXO8c4ED2KFyPgsm+QNejcD1Ky7pAUrgehftK7EC4HoXrEdK/QD0K16NIKORAzczMzPB78UBxPQrXQ/rQQBSuR+E4nAJBMzMzM7Nn/UAAAAAAWGD4QFK4HoW/O/BASOF6FKaP8UDD9Shcmyb2QK5H4XoUrbxAH4XrUYaxBEF7FK5Hka/dQGZmZmbi8f5AzczMzHxQ40DsUbgehQj+QBSuR+FSeOxA\"},\"shape\":[30],\"dtype\":\"float64\",\"order\":\"little\"}],[\"DCCBank_AgricultureLoan_466\",{\"type\":\"ndarray\",\"array\":{\"type\":\"bytes\",\"data\":\"cT0K16PejEAAAAAAQJzDQDMzMzMDYdRAmpmZmWne0EDsUbgepaLXQB+F61F4j7ZAMzMzM7N1wUAK16NwzWfeQFyPwvWwDuRAZmZmZmb95UAUrkfhQp7xQOxRuB7V0tNASOF6FE4/6EAzMzMz647kQArXo3AdyOlAw/UoXB9H20ApXI/C1cfGQAAAAAB2IABBUrgehWth90BxPQrXt+j8QFK4HoXrE8NArkfhevQ2wUBI4XoUjhrEQEjhehR2Se5AzczMzHxh5kAK16Nw2aH3QOxRuB4FadRAH4XrUXjdxkApXI/CRX/YQB+F61F43cZA\"},\"shape\":[30],\"dtype\":\"float64\",\"order\":\"little\"}],[\"KSCARD_PLDBank_AgricultureLoan_472\",{\"type\":\"ndarray\",\"array\":{\"type\":\"bytes\",\"data\":\"CtejcD1GikBxPQrXo1OSQPYoXI/C3XlAhetRuB6pikDNzMzMzOeQQK5H4XoUzJpA9ihcj8KMnEDhehSuR9GcQJqZmZmZKJxAH4XrUbiplEDsUbgehR6ZQAAAAAAAeIhAZmZmZmZ+nUAK16NwPayCQIXrUbgeuJ1A9ihcj8IDnkBcj8L1KK6AQArXo3C9w6VA9ihcj0JkpECkcD0K10GjQFyPwvWoOKFAPQrXo3DamkAUrkfhevWgQD0K16Pw36FACtejcD2ulUAUrkfhemSYQHsUrkfh7ZFAPQrXo3D7gUAAAAAAAKSAQFyPwvUoIZdA\"},\"shape\":[30],\"dtype\":\"float64\",\"order\":\"little\"}],[\"Normalized_Rice_Production_223\",{\"type\":\"ndarray\",\"array\":{\"type\":\"bytes\",\"data\":\"plsc30liez+jFJ1BSeFyPxf7pSdRDZk/7Fh7wpOkgj+hv+KWydDvP4DWEqGD7Vk/rHDR2A2+dT9BcS9mNgXpPyCOeNuA/6o/AhFhCS24zD89giNpJzrRP/VgwN9589E/Y5Bfciqs0j+Mj9DTQmvGPxjfBsN7BeA/32JYnIcF5z8y+tm4qc23P5MGXsC1Etc/lOmpn/qhJj8AAAAAAAAAADoQ3ufDobE/x2Hzpr7XjT8GocIYpUvQP8SxAiPn4NM/cD6l0NDK6j8MAYPf5jtwPx8PT4teO5A/D+6FpZcy3T/////////vPz2uBhLapd8/\"},\"shape\":[30],\"dtype\":\"float64\",\"order\":\"little\"}],[\"Initial Stability_Rice_Production_223\",{\"type\":\"ndarray\",\"array\":{\"type\":\"bytes\",\"data\":\"k+eN9A3j7z+dmngqCpHvP2z3aubgkuw/LvVHwlXY3j98YXdaaVfbPyuCf1ag3+8/ZIlYUJaK7z+yVAPI9DDkP3tDSF8i1+w/jH9H8Wju6j8VV4XTFynvP5p8ObSKSew/gp+xX0P77j8o1UDclfLnP1KOF8QOiuc/vh+5HX524T9WGec+O7PlPyAqK1uJ/OY/3RYBy+lG5D+wkoEylgjkP3pj0H54ruo/TAYTWi635T+O7JPorRvoP5KayIQuw+4/7vGs7Rj34z+JjWTZnJ7vP5bQS7TLmOs/qoQ+iSA97D9KadWEYePWP9/rzOme/e4/\"},\"shape\":[30],\"dtype\":\"float64\",\"order\":\"little\"}],[\"Normalized_Jowar_Yield_278\",{\"type\":\"ndarray\",\"array\":{\"type\":\"bytes\",\"data\":\"bUXQcFL35T8AAAAAAAAAAAAAAAAAAAAA4yBwNdYW3D9idb5+9e3uPwAAAAAAAAAAAAAAAAAAAAAAAAAAAADwP9yfxIMfNuM/7k/iwQ+b2T8AAAAAAAAAAAAAAAAAAAAAy4hJfjct2j8AAAAAAAAAAOJFjjGHsNs/EXbbn8SD3z89V8LNWy7FP+ipGBSoIOE/dIQ8V8LN2z9PB+ALTJPbP6L+xb1h1N4/QiKqd3RC3T+oIBHVOzrhPwAAAAAAAAAAnHUd34/K6T97podunDPeP4qDwNVYW+A/cVL35bEV4T+Kxf+gn2XjP+0VoCPkueI/\"},\"shape\":[30],\"dtype\":\"float64\",\"order\":\"little\"}],[\"Initial Stability_Jowar_Yield_278\",{\"type\":\"ndarray\",\"array\":{\"type\":\"bytes\",\"data\":\"JnVfHlsR1D/ynkgCtsPnP5gT13+97+M/vqMT6l/c5z9aGtMKl3HlP4aTui+Preg/DCBpKaCY6T+a5RkVSmLYP2TSmWO1eOQ/Yr11wTox7T/phPoX94bpPwK2wweezOQ/PFfCzVsu7T8wgKSlgGLmP0gBFIJg0+w/QWTpQrtM6D8noYlQim3rP8LNWy5Va+o/AppEeq8m7T8cpU0s/gftP5u3XKrW1Ow/SQK2wwee7D8VzE0W6W7tP0Cvx3zESt8/56IM3ile6T+0T4Nhdb7uP270h0JyAe8/qYZ9pZZ37z9vDnSXHHbuPw9+2MzfrO8/\"},\"shape\":[30],\"dtype\":\"float64\",\"order\":\"little\"}],[\"Initial Stability\",{\"type\":\"ndarray\",\"array\":{\"type\":\"bytes\",\"data\":\"1klOFDEJ1D/WatB1n7/nP7oVWtDUOOM/oPApBs/R2j9QOEstICS7P0MKScEVOeg/Js//lHOY6D9Wkt2Iv97RP2BvXdDWsuM/d+KzVXv35T/CwZKmOGvnP/iUkxajeeM/yXVowMps4D8qmU85DmPhPwsr2nTn4+Q/AP9+z9QW3z+wGMb8za7jPzBzP5+s7sk/itzOkdWM4z+qA/gooJjjP8BpxGEUruM/1oQuYnp84j/t/qTii2XiP6zSJvgpZNY/8w5vIyHi4T+7nz69dYruP8Hs3uXGXOo/2tXfx29W6j9awTa7+6fSPzA9Qu+Mku0/\"},\"shape\":[30],\"dtype\":\"float64\",\"order\":\"little\"}],[\"Normalized_Maize_Production_226\",{\"type\":\"ndarray\",\"array\":{\"type\":\"bytes\",\"data\":\"ROqq4iTecz+ZXmhYyl2yP8jXB+9VB5I/r0gH8YJT3T8AAAAAAADwP6b82jYGR2g/jyoBTuG/xj86YgwLHm3YP2DSxUw217w/qEZiXkZ2uj8AAAAAAAAAAMLpzXMGEig/KzNyB/IA4j+WuoQt+OqeP1pbVIA4uaA/+KKAL+mTzT9+2xN1ZeTPPxZi5YFSGO8/i6fjZnVn2D/Z8/C40SPbP93EUQ6qi8M/p1/WH+XczT8xX3zD4UrmP2M9sQlXx6Q/G0YC3Qxw1j8vCPwdrkJzPxMznbl+OZk/NhNAljdycj8eHbk/HPVTP5gCEOCng9Q/\"},\"shape\":[30],\"dtype\":\"float64\",\"order\":\"little\"}]]}}},\"view\":{\"type\":\"object\",\"name\":\"CDSView\",\"id\":\"p3101\",\"attributes\":{\"filter\":{\"type\":\"object\",\"name\":\"AllIndices\",\"id\":\"p3102\"}}},\"glyph\":{\"type\":\"object\",\"name\":\"VBar\",\"id\":\"p3097\",\"attributes\":{\"x\":{\"type\":\"field\",\"field\":\"District\"},\"width\":{\"type\":\"value\",\"value\":0.9},\"bottom\":{\"type\":\"expr\",\"expr\":{\"type\":\"object\",\"name\":\"Stack\",\"id\":\"p3088\",\"attributes\":{\"fields\":[]}}},\"top\":{\"type\":\"expr\",\"expr\":{\"type\":\"object\",\"name\":\"Stack\",\"id\":\"p3089\",\"attributes\":{\"fields\":[\"Rice_Production_223\"]}}},\"line_color\":{\"type\":\"value\",\"value\":\"#1f77b4\"},\"fill_color\":{\"type\":\"value\",\"value\":\"#1f77b4\"},\"hatch_color\":{\"type\":\"value\",\"value\":\"#1f77b4\"}}},\"nonselection_glyph\":{\"type\":\"object\",\"name\":\"VBar\",\"id\":\"p3098\",\"attributes\":{\"x\":{\"type\":\"field\",\"field\":\"District\"},\"width\":{\"type\":\"value\",\"value\":0.9},\"bottom\":{\"type\":\"expr\",\"expr\":{\"id\":\"p3088\"}},\"top\":{\"type\":\"expr\",\"expr\":{\"id\":\"p3089\"}},\"line_color\":{\"type\":\"value\",\"value\":\"#1f77b4\"},\"line_alpha\":{\"type\":\"value\",\"value\":0.1},\"fill_color\":{\"type\":\"value\",\"value\":\"#1f77b4\"},\"fill_alpha\":{\"type\":\"value\",\"value\":0.1},\"hatch_color\":{\"type\":\"value\",\"value\":\"#1f77b4\"},\"hatch_alpha\":{\"type\":\"value\",\"value\":0.1}}},\"muted_glyph\":{\"type\":\"object\",\"name\":\"VBar\",\"id\":\"p3099\",\"attributes\":{\"x\":{\"type\":\"field\",\"field\":\"District\"},\"width\":{\"type\":\"value\",\"value\":0.9},\"bottom\":{\"type\":\"expr\",\"expr\":{\"id\":\"p3088\"}},\"top\":{\"type\":\"expr\",\"expr\":{\"id\":\"p3089\"}},\"line_color\":{\"type\":\"value\",\"value\":\"#1f77b4\"},\"line_alpha\":{\"type\":\"value\",\"value\":0.2},\"fill_color\":{\"type\":\"value\",\"value\":\"#1f77b4\"},\"fill_alpha\":{\"type\":\"value\",\"value\":0.2},\"hatch_color\":{\"type\":\"value\",\"value\":\"#1f77b4\"},\"hatch_alpha\":{\"type\":\"value\",\"value\":0.2}}}}},{\"type\":\"object\",\"name\":\"GlyphRenderer\",\"id\":\"p3111\",\"attributes\":{\"name\":\"Jowar_Yield_278\",\"data_source\":{\"id\":\"p3085\"},\"view\":{\"type\":\"object\",\"name\":\"CDSView\",\"id\":\"p3112\",\"attributes\":{\"filter\":{\"type\":\"object\",\"name\":\"AllIndices\",\"id\":\"p3113\"}}},\"glyph\":{\"type\":\"object\",\"name\":\"VBar\",\"id\":\"p3108\",\"attributes\":{\"x\":{\"type\":\"field\",\"field\":\"District\"},\"width\":{\"type\":\"value\",\"value\":0.9},\"bottom\":{\"type\":\"expr\",\"expr\":{\"type\":\"object\",\"name\":\"Stack\",\"id\":\"p3090\",\"attributes\":{\"fields\":[\"Rice_Production_223\"]}}},\"top\":{\"type\":\"expr\",\"expr\":{\"type\":\"object\",\"name\":\"Stack\",\"id\":\"p3091\",\"attributes\":{\"fields\":[\"Rice_Production_223\",\"Jowar_Yield_278\"]}}},\"line_color\":{\"type\":\"value\",\"value\":\"#aec7e8\"},\"fill_color\":{\"type\":\"value\",\"value\":\"#aec7e8\"},\"hatch_color\":{\"type\":\"value\",\"value\":\"#aec7e8\"}}},\"nonselection_glyph\":{\"type\":\"object\",\"name\":\"VBar\",\"id\":\"p3109\",\"attributes\":{\"x\":{\"type\":\"field\",\"field\":\"District\"},\"width\":{\"type\":\"value\",\"value\":0.9},\"bottom\":{\"type\":\"expr\",\"expr\":{\"id\":\"p3090\"}},\"top\":{\"type\":\"expr\",\"expr\":{\"id\":\"p3091\"}},\"line_color\":{\"type\":\"value\",\"value\":\"#aec7e8\"},\"line_alpha\":{\"type\":\"value\",\"value\":0.1},\"fill_color\":{\"type\":\"value\",\"value\":\"#aec7e8\"},\"fill_alpha\":{\"type\":\"value\",\"value\":0.1},\"hatch_color\":{\"type\":\"value\",\"value\":\"#aec7e8\"},\"hatch_alpha\":{\"type\":\"value\",\"value\":0.1}}},\"muted_glyph\":{\"type\":\"object\",\"name\":\"VBar\",\"id\":\"p3110\",\"attributes\":{\"x\":{\"type\":\"field\",\"field\":\"District\"},\"width\":{\"type\":\"value\",\"value\":0.9},\"bottom\":{\"type\":\"expr\",\"expr\":{\"id\":\"p3090\"}},\"top\":{\"type\":\"expr\",\"expr\":{\"id\":\"p3091\"}},\"line_color\":{\"type\":\"value\",\"value\":\"#aec7e8\"},\"line_alpha\":{\"type\":\"value\",\"value\":0.2},\"fill_color\":{\"type\":\"value\",\"value\":\"#aec7e8\"},\"fill_alpha\":{\"type\":\"value\",\"value\":0.2},\"hatch_color\":{\"type\":\"value\",\"value\":\"#aec7e8\"},\"hatch_alpha\":{\"type\":\"value\",\"value\":0.2}}}}},{\"type\":\"object\",\"name\":\"GlyphRenderer\",\"id\":\"p3121\",\"attributes\":{\"name\":\"Maize_Production_226\",\"data_source\":{\"id\":\"p3085\"},\"view\":{\"type\":\"object\",\"name\":\"CDSView\",\"id\":\"p3122\",\"attributes\":{\"filter\":{\"type\":\"object\",\"name\":\"AllIndices\",\"id\":\"p3123\"}}},\"glyph\":{\"type\":\"object\",\"name\":\"VBar\",\"id\":\"p3118\",\"attributes\":{\"x\":{\"type\":\"field\",\"field\":\"District\"},\"width\":{\"type\":\"value\",\"value\":0.9},\"bottom\":{\"type\":\"expr\",\"expr\":{\"type\":\"object\",\"name\":\"Stack\",\"id\":\"p3092\",\"attributes\":{\"fields\":[\"Rice_Production_223\",\"Jowar_Yield_278\"]}}},\"top\":{\"type\":\"expr\",\"expr\":{\"type\":\"object\",\"name\":\"Stack\",\"id\":\"p3093\",\"attributes\":{\"fields\":[\"Rice_Production_223\",\"Jowar_Yield_278\",\"Maize_Production_226\"]}}},\"line_color\":{\"type\":\"value\",\"value\":\"#ff7f0e\"},\"fill_color\":{\"type\":\"value\",\"value\":\"#ff7f0e\"},\"hatch_color\":{\"type\":\"value\",\"value\":\"#ff7f0e\"}}},\"nonselection_glyph\":{\"type\":\"object\",\"name\":\"VBar\",\"id\":\"p3119\",\"attributes\":{\"x\":{\"type\":\"field\",\"field\":\"District\"},\"width\":{\"type\":\"value\",\"value\":0.9},\"bottom\":{\"type\":\"expr\",\"expr\":{\"id\":\"p3092\"}},\"top\":{\"type\":\"expr\",\"expr\":{\"id\":\"p3093\"}},\"line_color\":{\"type\":\"value\",\"value\":\"#ff7f0e\"},\"line_alpha\":{\"type\":\"value\",\"value\":0.1},\"fill_color\":{\"type\":\"value\",\"value\":\"#ff7f0e\"},\"fill_alpha\":{\"type\":\"value\",\"value\":0.1},\"hatch_color\":{\"type\":\"value\",\"value\":\"#ff7f0e\"},\"hatch_alpha\":{\"type\":\"value\",\"value\":0.1}}},\"muted_glyph\":{\"type\":\"object\",\"name\":\"VBar\",\"id\":\"p3120\",\"attributes\":{\"x\":{\"type\":\"field\",\"field\":\"District\"},\"width\":{\"type\":\"value\",\"value\":0.9},\"bottom\":{\"type\":\"expr\",\"expr\":{\"id\":\"p3092\"}},\"top\":{\"type\":\"expr\",\"expr\":{\"id\":\"p3093\"}},\"line_color\":{\"type\":\"value\",\"value\":\"#ff7f0e\"},\"line_alpha\":{\"type\":\"value\",\"value\":0.2},\"fill_color\":{\"type\":\"value\",\"value\":\"#ff7f0e\"},\"fill_alpha\":{\"type\":\"value\",\"value\":0.2},\"hatch_color\":{\"type\":\"value\",\"value\":\"#ff7f0e\"},\"hatch_alpha\":{\"type\":\"value\",\"value\":0.2}}}}}],\"toolbar\":{\"type\":\"object\",\"name\":\"Toolbar\",\"id\":\"p3072\",\"attributes\":{\"tools\":[{\"type\":\"object\",\"name\":\"HoverTool\",\"id\":\"p3125\",\"attributes\":{\"renderers\":\"auto\",\"tooltips\":[[\"District\",\"@District\"],[\"Rice_Production_223\",\"@Rice_Production_223\"],[\"Jowar_Yield_278\",\"@Jowar_Yield_278\"],[\"Maize_Production_226\",\"@Maize_Production_226\"]]}}]}},\"toolbar_location\":null,\"left\":[{\"type\":\"object\",\"name\":\"LinearAxis\",\"id\":\"p3080\",\"attributes\":{\"ticker\":{\"type\":\"object\",\"name\":\"BasicTicker\",\"id\":\"p3081\",\"attributes\":{\"mantissas\":[1,2,5]}},\"formatter\":{\"type\":\"object\",\"name\":\"BasicTickFormatter\",\"id\":\"p3082\"},\"axis_label\":\"Production\",\"major_label_policy\":{\"type\":\"object\",\"name\":\"AllLabels\",\"id\":\"p3083\"}}}],\"below\":[{\"type\":\"object\",\"name\":\"CategoricalAxis\",\"id\":\"p3075\",\"attributes\":{\"ticker\":{\"type\":\"object\",\"name\":\"CategoricalTicker\",\"id\":\"p3076\"},\"formatter\":{\"type\":\"object\",\"name\":\"CategoricalTickFormatter\",\"id\":\"p3077\"},\"major_label_orientation\":\"vertical\",\"major_label_policy\":{\"type\":\"object\",\"name\":\"AllLabels\",\"id\":\"p3078\"}}}],\"center\":[{\"type\":\"object\",\"name\":\"Grid\",\"id\":\"p3079\",\"attributes\":{\"axis\":{\"id\":\"p3075\"}}},{\"type\":\"object\",\"name\":\"Grid\",\"id\":\"p3084\",\"attributes\":{\"dimension\":1,\"axis\":{\"id\":\"p3080\"}}},{\"type\":\"object\",\"name\":\"Legend\",\"id\":\"p3103\",\"attributes\":{\"location\":\"top_left\",\"click_policy\":\"hide\",\"items\":[{\"type\":\"object\",\"name\":\"LegendItem\",\"id\":\"p3104\",\"attributes\":{\"label\":{\"type\":\"value\",\"value\":\"Rice_Production_223\"},\"renderers\":[{\"id\":\"p3100\"}]}},{\"type\":\"object\",\"name\":\"LegendItem\",\"id\":\"p3114\",\"attributes\":{\"label\":{\"type\":\"value\",\"value\":\"Jowar_Yield_278\"},\"renderers\":[{\"id\":\"p3111\"}]}},{\"type\":\"object\",\"name\":\"LegendItem\",\"id\":\"p3124\",\"attributes\":{\"label\":{\"type\":\"value\",\"value\":\"Maize_Production_226\"},\"renderers\":[{\"id\":\"p3121\"}]}}]}}]}}]}};\n  const render_items = [{\"docid\":\"20e1009d-9002-4dc7-906d-0b3297ab877a\",\"roots\":{\"p3063\":\"da5f0fd8-a827-4a47-beab-72dd1b3cb420\"},\"root_ids\":[\"p3063\"]}];\n  root.Bokeh.embed.embed_items_notebook(docs_json, render_items);\n  }\n  if (root.Bokeh !== undefined) {\n    embed_document(root);\n  } else {\n    let attempts = 0;\n    const timer = setInterval(function(root) {\n      if (root.Bokeh !== undefined) {\n        clearInterval(timer);\n        embed_document(root);\n      } else {\n        attempts++;\n        if (attempts > 100) {\n          clearInterval(timer);\n          console.log(\"Bokeh: ERROR: Unable to run BokehJS code because BokehJS library is missing\");\n        }\n      }\n    }, 10, root)\n  }\n})(window);",
      "application/vnd.bokehjs_exec.v0+json": ""
     },
     "metadata": {
      "application/vnd.bokehjs_exec.v0+json": {
       "id": "p3063"
      }
     },
     "output_type": "display_data"
    }
   ],
   "source": [
    "from bokeh.models import FactorRange\n",
    "from bokeh.transform import factor_cmap\n",
    "\n",
    "# Assuming df is your DataFrame\n",
    "\n",
    "# List of crops\n",
    "crops = ['Rice_Production_223', 'Jowar_Yield_278', 'Maize_Production_226']\n",
    "\n",
    "# Create a new plot\n",
    "plot = figure(title='Production Comparison by Crop and District', x_range=FactorRange(*districts),toolbar_location=None, tools='')\n",
    "\n",
    "# Plot the data\n",
    "source = ColumnDataSource(df)\n",
    "plot.vbar_stack(crops, x='District', width=0.9, color=Category20[len(crops)], source=source, legend_label=crops)\n",
    "\n",
    "# Add hover tooltips\n",
    "hover = HoverTool()\n",
    "hover.tooltips = [('District', '@District')] + [(crop, f'@{crop}') for crop in crops]\n",
    "plot.add_tools(hover)\n",
    "\n",
    "# Styling\n",
    "plot.xaxis.major_label_orientation = \"vertical\"\n",
    "plot.yaxis.axis_label = \"Production\"\n",
    "plot.legend.location = 'top_left'\n",
    "plot.legend.click_policy = 'hide'\n",
    "\n",
    "# Show the plot\n",
    "show(plot)\n"
   ]
  }
 ],
 "metadata": {
  "kernelspec": {
   "display_name": "Python 3",
   "language": "python",
   "name": "python3"
  },
  "language_info": {
   "codemirror_mode": {
    "name": "ipython",
    "version": 3
   },
   "file_extension": ".py",
   "mimetype": "text/x-python",
   "name": "python",
   "nbconvert_exporter": "python",
   "pygments_lexer": "ipython3",
   "version": "3.9.13"
  }
 },
 "nbformat": 4,
 "nbformat_minor": 2
}
