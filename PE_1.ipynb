{
 "cells": [
  {
   "cell_type": "code",
   "execution_count": 2,
   "metadata": {},
   "outputs": [
    {
     "data": {
      "text/html": [
       "    <style>\n",
       "        .bk-notebook-logo {\n",
       "            display: block;\n",
       "            width: 20px;\n",
       "            height: 20px;\n",
       "            background-image: url(data:image/png;base64,iVBORw0KGgoAAAANSUhEUgAAABQAAAAUCAYAAACNiR0NAAAABHNCSVQICAgIfAhkiAAAAAlwSFlzAAALEgAACxIB0t1+/AAAABx0RVh0U29mdHdhcmUAQWRvYmUgRmlyZXdvcmtzIENTNui8sowAAAOkSURBVDiNjZRtaJVlGMd/1/08zzln5zjP1LWcU9N0NkN8m2CYjpgQYQXqSs0I84OLIC0hkEKoPtiH3gmKoiJDU7QpLgoLjLIQCpEsNJ1vqUOdO7ppbuec5+V+rj4ctwzd8IIbbi6u+8f1539dt3A78eXC7QizUF7gyV1fD1Yqg4JWz84yffhm0qkFqBogB9rM8tZdtwVsPUhWhGcFJngGeWrPzHm5oaMmkfEg1usvLFyc8jLRqDOMru7AyC8saQr7GG7f5fvDeH7Ej8CM66nIF+8yngt6HWaKh7k49Soy9nXurCi1o3qUbS3zWfrYeQDTB/Qj6kX6Ybhw4B+bOYoLKCC9H3Nu/leUTZ1JdRWkkn2ldcCamzrcf47KKXdAJllSlxAOkRgyHsGC/zRday5Qld9DyoM4/q/rUoy/CXh3jzOu3bHUVZeU+DEn8FInkPBFlu3+nW3Nw0mk6vCDiWg8CeJaxEwuHS3+z5RgY+YBR6V1Z1nxSOfoaPa4LASWxxdNp+VWTk7+4vzaou8v8PN+xo+KY2xsw6une2frhw05CTYOmQvsEhjhWjn0bmXPjpE1+kplmmkP3suftwTubK9Vq22qKmrBhpY4jvd5afdRA3wGjFAgcnTK2s4hY0/GPNIb0nErGMCRxWOOX64Z8RAC4oCXdklmEvcL8o0BfkNK4lUg9HTl+oPlQxdNo3Mg4Nv175e/1LDGzZen30MEjRUtmXSfiTVu1kK8W4txyV6BMKlbgk3lMwYCiusNy9fVfvvwMxv8Ynl6vxoByANLTWplvuj/nF9m2+PDtt1eiHPBr1oIfhCChQMBw6Aw0UulqTKZdfVvfG7VcfIqLG9bcldL/+pdWTLxLUy8Qq38heUIjh4XlzZxzQm19lLFlr8vdQ97rjZVOLf8nclzckbcD4wxXMidpX30sFd37Fv/GtwwhzhxGVAprjbg0gCAEeIgwCZyTV2Z1REEW8O4py0wsjeloKoMr6iCY6dP92H6Vw/oTyICIthibxjm/DfN9lVz8IqtqKYLUXfoKVMVQVVJOElGjrnnUt9T9wbgp8AyYKaGlqingHZU/uG2NTZSVqwHQTWkx9hxjkpWDaCg6Ckj5qebgBVbT3V3NNXMSiWSDdGV3hrtzla7J+duwPOToIg42ChPQOQjspnSlp1V+Gjdged7+8UN5CRAV7a5EdFNwCjEaBR27b3W890TE7g24NAP/mMDXRWrGoFPQI9ls/MWO2dWFAar/xcOIImbbpA3zgAAAABJRU5ErkJggg==);\n",
       "        }\n",
       "    </style>\n",
       "    <div>\n",
       "        <a href=\"https://bokeh.org\" target=\"_blank\" class=\"bk-notebook-logo\"></a>\n",
       "        <span id=\"b5f2d487-ca0e-47e8-96e8-a4091cb78500\">Loading BokehJS ...</span>\n",
       "    </div>\n"
      ]
     },
     "metadata": {},
     "output_type": "display_data"
    },
    {
     "data": {
      "application/javascript": "(function(root) {\n  function now() {\n    return new Date();\n  }\n\n  const force = true;\n\n  if (typeof root._bokeh_onload_callbacks === \"undefined\" || force === true) {\n    root._bokeh_onload_callbacks = [];\n    root._bokeh_is_loading = undefined;\n  }\n\nconst JS_MIME_TYPE = 'application/javascript';\n  const HTML_MIME_TYPE = 'text/html';\n  const EXEC_MIME_TYPE = 'application/vnd.bokehjs_exec.v0+json';\n  const CLASS_NAME = 'output_bokeh rendered_html';\n\n  /**\n   * Render data to the DOM node\n   */\n  function render(props, node) {\n    const script = document.createElement(\"script\");\n    node.appendChild(script);\n  }\n\n  /**\n   * Handle when an output is cleared or removed\n   */\n  function handleClearOutput(event, handle) {\n    function drop(id) {\n      const view = Bokeh.index.get_by_id(id)\n      if (view != null) {\n        view.model.document.clear()\n        Bokeh.index.delete(view)\n      }\n    }\n\n    const cell = handle.cell;\n\n    const id = cell.output_area._bokeh_element_id;\n    const server_id = cell.output_area._bokeh_server_id;\n\n    // Clean up Bokeh references\n    if (id != null) {\n      drop(id)\n    }\n\n    if (server_id !== undefined) {\n      // Clean up Bokeh references\n      const cmd_clean = \"from bokeh.io.state import curstate; print(curstate().uuid_to_server['\" + server_id + \"'].get_sessions()[0].document.roots[0]._id)\";\n      cell.notebook.kernel.execute(cmd_clean, {\n        iopub: {\n          output: function(msg) {\n            const id = msg.content.text.trim()\n            drop(id)\n          }\n        }\n      });\n      // Destroy server and session\n      const cmd_destroy = \"import bokeh.io.notebook as ion; ion.destroy_server('\" + server_id + \"')\";\n      cell.notebook.kernel.execute(cmd_destroy);\n    }\n  }\n\n  /**\n   * Handle when a new output is added\n   */\n  function handleAddOutput(event, handle) {\n    const output_area = handle.output_area;\n    const output = handle.output;\n\n    // limit handleAddOutput to display_data with EXEC_MIME_TYPE content only\n    if ((output.output_type != \"display_data\") || (!Object.prototype.hasOwnProperty.call(output.data, EXEC_MIME_TYPE))) {\n      return\n    }\n\n    const toinsert = output_area.element.find(\".\" + CLASS_NAME.split(' ')[0]);\n\n    if (output.metadata[EXEC_MIME_TYPE][\"id\"] !== undefined) {\n      toinsert[toinsert.length - 1].firstChild.textContent = output.data[JS_MIME_TYPE];\n      // store reference to embed id on output_area\n      output_area._bokeh_element_id = output.metadata[EXEC_MIME_TYPE][\"id\"];\n    }\n    if (output.metadata[EXEC_MIME_TYPE][\"server_id\"] !== undefined) {\n      const bk_div = document.createElement(\"div\");\n      bk_div.innerHTML = output.data[HTML_MIME_TYPE];\n      const script_attrs = bk_div.children[0].attributes;\n      for (let i = 0; i < script_attrs.length; i++) {\n        toinsert[toinsert.length - 1].firstChild.setAttribute(script_attrs[i].name, script_attrs[i].value);\n        toinsert[toinsert.length - 1].firstChild.textContent = bk_div.children[0].textContent\n      }\n      // store reference to server id on output_area\n      output_area._bokeh_server_id = output.metadata[EXEC_MIME_TYPE][\"server_id\"];\n    }\n  }\n\n  function register_renderer(events, OutputArea) {\n\n    function append_mime(data, metadata, element) {\n      // create a DOM node to render to\n      const toinsert = this.create_output_subarea(\n        metadata,\n        CLASS_NAME,\n        EXEC_MIME_TYPE\n      );\n      this.keyboard_manager.register_events(toinsert);\n      // Render to node\n      const props = {data: data, metadata: metadata[EXEC_MIME_TYPE]};\n      render(props, toinsert[toinsert.length - 1]);\n      element.append(toinsert);\n      return toinsert\n    }\n\n    /* Handle when an output is cleared or removed */\n    events.on('clear_output.CodeCell', handleClearOutput);\n    events.on('delete.Cell', handleClearOutput);\n\n    /* Handle when a new output is added */\n    events.on('output_added.OutputArea', handleAddOutput);\n\n    /**\n     * Register the mime type and append_mime function with output_area\n     */\n    OutputArea.prototype.register_mime_type(EXEC_MIME_TYPE, append_mime, {\n      /* Is output safe? */\n      safe: true,\n      /* Index of renderer in `output_area.display_order` */\n      index: 0\n    });\n  }\n\n  // register the mime type if in Jupyter Notebook environment and previously unregistered\n  if (root.Jupyter !== undefined) {\n    const events = require('base/js/events');\n    const OutputArea = require('notebook/js/outputarea').OutputArea;\n\n    if (OutputArea.prototype.mime_types().indexOf(EXEC_MIME_TYPE) == -1) {\n      register_renderer(events, OutputArea);\n    }\n  }\n  if (typeof (root._bokeh_timeout) === \"undefined\" || force === true) {\n    root._bokeh_timeout = Date.now() + 5000;\n    root._bokeh_failed_load = false;\n  }\n\n  const NB_LOAD_WARNING = {'data': {'text/html':\n     \"<div style='background-color: #fdd'>\\n\"+\n     \"<p>\\n\"+\n     \"BokehJS does not appear to have successfully loaded. If loading BokehJS from CDN, this \\n\"+\n     \"may be due to a slow or bad network connection. Possible fixes:\\n\"+\n     \"</p>\\n\"+\n     \"<ul>\\n\"+\n     \"<li>re-rerun `output_notebook()` to attempt to load from CDN again, or</li>\\n\"+\n     \"<li>use INLINE resources instead, as so:</li>\\n\"+\n     \"</ul>\\n\"+\n     \"<code>\\n\"+\n     \"from bokeh.resources import INLINE\\n\"+\n     \"output_notebook(resources=INLINE)\\n\"+\n     \"</code>\\n\"+\n     \"</div>\"}};\n\n  function display_loaded() {\n    const el = document.getElementById(\"b5f2d487-ca0e-47e8-96e8-a4091cb78500\");\n    if (el != null) {\n      el.textContent = \"BokehJS is loading...\";\n    }\n    if (root.Bokeh !== undefined) {\n      if (el != null) {\n        el.textContent = \"BokehJS \" + root.Bokeh.version + \" successfully loaded.\";\n      }\n    } else if (Date.now() < root._bokeh_timeout) {\n      setTimeout(display_loaded, 100)\n    }\n  }\n\n  function run_callbacks() {\n    try {\n      root._bokeh_onload_callbacks.forEach(function(callback) {\n        if (callback != null)\n          callback();\n      });\n    } finally {\n      delete root._bokeh_onload_callbacks\n    }\n    console.debug(\"Bokeh: all callbacks have finished\");\n  }\n\n  function load_libs(css_urls, js_urls, callback) {\n    if (css_urls == null) css_urls = [];\n    if (js_urls == null) js_urls = [];\n\n    root._bokeh_onload_callbacks.push(callback);\n    if (root._bokeh_is_loading > 0) {\n      console.debug(\"Bokeh: BokehJS is being loaded, scheduling callback at\", now());\n      return null;\n    }\n    if (js_urls == null || js_urls.length === 0) {\n      run_callbacks();\n      return null;\n    }\n    console.debug(\"Bokeh: BokehJS not loaded, scheduling load and callback at\", now());\n    root._bokeh_is_loading = css_urls.length + js_urls.length;\n\n    function on_load() {\n      root._bokeh_is_loading--;\n      if (root._bokeh_is_loading === 0) {\n        console.debug(\"Bokeh: all BokehJS libraries/stylesheets loaded\");\n        run_callbacks()\n      }\n    }\n\n    function on_error(url) {\n      console.error(\"failed to load \" + url);\n    }\n\n    for (let i = 0; i < css_urls.length; i++) {\n      const url = css_urls[i];\n      const element = document.createElement(\"link\");\n      element.onload = on_load;\n      element.onerror = on_error.bind(null, url);\n      element.rel = \"stylesheet\";\n      element.type = \"text/css\";\n      element.href = url;\n      console.debug(\"Bokeh: injecting link tag for BokehJS stylesheet: \", url);\n      document.body.appendChild(element);\n    }\n\n    for (let i = 0; i < js_urls.length; i++) {\n      const url = js_urls[i];\n      const element = document.createElement('script');\n      element.onload = on_load;\n      element.onerror = on_error.bind(null, url);\n      element.async = false;\n      element.src = url;\n      console.debug(\"Bokeh: injecting script tag for BokehJS library: \", url);\n      document.head.appendChild(element);\n    }\n  };\n\n  function inject_raw_css(css) {\n    const element = document.createElement(\"style\");\n    element.appendChild(document.createTextNode(css));\n    document.body.appendChild(element);\n  }\n\n  const js_urls = [\"https://cdn.bokeh.org/bokeh/release/bokeh-3.3.3.min.js\", \"https://cdn.bokeh.org/bokeh/release/bokeh-gl-3.3.3.min.js\", \"https://cdn.bokeh.org/bokeh/release/bokeh-widgets-3.3.3.min.js\", \"https://cdn.bokeh.org/bokeh/release/bokeh-tables-3.3.3.min.js\", \"https://cdn.bokeh.org/bokeh/release/bokeh-mathjax-3.3.3.min.js\"];\n  const css_urls = [];\n\n  const inline_js = [    function(Bokeh) {\n      Bokeh.set_log_level(\"info\");\n    },\nfunction(Bokeh) {\n    }\n  ];\n\n  function run_inline_js() {\n    if (root.Bokeh !== undefined || force === true) {\n          for (let i = 0; i < inline_js.length; i++) {\n      inline_js[i].call(root, root.Bokeh);\n    }\nif (force === true) {\n        display_loaded();\n      }} else if (Date.now() < root._bokeh_timeout) {\n      setTimeout(run_inline_js, 100);\n    } else if (!root._bokeh_failed_load) {\n      console.log(\"Bokeh: BokehJS failed to load within specified timeout.\");\n      root._bokeh_failed_load = true;\n    } else if (force !== true) {\n      const cell = $(document.getElementById(\"b5f2d487-ca0e-47e8-96e8-a4091cb78500\")).parents('.cell').data().cell;\n      cell.output_area.append_execute_result(NB_LOAD_WARNING)\n    }\n  }\n\n  if (root._bokeh_is_loading === 0) {\n    console.debug(\"Bokeh: BokehJS loaded, going straight to plotting\");\n    run_inline_js();\n  } else {\n    load_libs(css_urls, js_urls, function() {\n      console.debug(\"Bokeh: BokehJS plotting callback run at\", now());\n      run_inline_js();\n    });\n  }\n}(window));",
      "application/vnd.bokehjs_load.v0+json": ""
     },
     "metadata": {},
     "output_type": "display_data"
    }
   ],
   "source": [
    "import pandas as pd\n",
    "import numpy as np\n",
    "import networkx as nx\n",
    "from collections import defaultdict\n",
    "import math\n",
    "import statsmodels.api as sm\n",
    "import seaborn as sns\n",
    "import matplotlib.pyplot as plt\n",
    "from sklearn.preprocessing import MinMaxScaler\n",
    "%matplotlib notebook\n",
    "from bokeh.plotting import figure, show, output_notebook\n",
    "from bokeh.models import HoverTool, ColumnDataSource\n",
    "from bokeh.palettes import Category20\n",
    "output_notebook()"
   ]
  },
  {
   "cell_type": "code",
   "execution_count": 3,
   "metadata": {},
   "outputs": [],
   "source": [
    "def init_graph(G,node_adj_frame):\n",
    "    G.add_nodes_from([i for i in range(len(node_adj_frame))])\n",
    "    labels = {}\n",
    "    labels = node_adj_frame.columns\n",
    "    for i in range(len(node_adj_frame)):\n",
    "        snode = node_adj_frame[labels[0]][i]-1\n",
    "        temp = node_adj_frame[labels[2]][i]\n",
    "        if ',' in str(temp):\n",
    "            sedge_arr = temp.split(',')\n",
    "            for j in range(0, len(sedge_arr)):\n",
    "                k = int(sedge_arr[j])\n",
    "                G.add_edge(snode, k-1)\n",
    "        elif np.isnan(temp):\n",
    "            print(\"ERROR: Not found in the adjacency excel sheet\")\n",
    "        else:\n",
    "            G.add_edge(snode, int(temp)-1)\n",
    "    return"
   ]
  },
  {
   "cell_type": "code",
   "execution_count": 4,
   "metadata": {},
   "outputs": [],
   "source": [
    "def init_graph_attr(G, AdjFile, df, columns):\n",
    "    node_adj_frame = pd.read_excel(AdjFile)\n",
    "    node_list = node_adj_frame[\"District_Name\"].tolist()\n",
    "    node_list.insert(80, \"\")\n",
    "    nodeAttr = {}\n",
    "    init_graph(G, node_adj_frame)\n",
    "    \n",
    "    capability_vector = list(zip(*(df[col] for col in columns)))\n",
    "    node_attri_dict = dict(zip(df[\"District\"], capability_vector))\n",
    "    node_attri_dict = dict((k, v) for k, v in node_attri_dict.items())\n",
    "\n",
    "    for i in range(len(node_adj_frame)):\n",
    "        temp = {}\n",
    "        temp[\"capabilityvector\"] = node_attri_dict[node_list[i]]\n",
    "        temp[\"nodeStress\"] = 0\n",
    "        temp[\"name\"] = node_list[i]\n",
    "        nodeAttr[i] = temp\n",
    "\n",
    "    nx.set_node_attributes(G, nodeAttr)"
   ]
  },
  {
   "cell_type": "code",
   "execution_count": 5,
   "metadata": {
    "tags": []
   },
   "outputs": [],
   "source": [
    "G = nx.Graph()\n",
    "df = pd.read_excel('Agriculture/Agriculture_KAG_2016_17.xlsx')\n",
    "adjacency_file = 'Karnataka_District_Adjacency_File.xlsx'\n",
    "\n",
    "# existing_data = pd.DataFrame(df['District'])\n",
    "\n",
    "existing_data = pd.read_csv('result.csv')"
   ]
  },
  {
   "cell_type": "code",
   "execution_count": 6,
   "metadata": {},
   "outputs": [],
   "source": [
    "def addList(l1,l2):\n",
    "    for i in range(len(l1)):\n",
    "        l1[i] = l1[i] + l2[i]\n",
    "    return l1\n",
    "\n",
    "def divList(l1,k):\n",
    "    for i in range(len(l1)):\n",
    "        l1[i] = l1[i]/k\n",
    "    return l1\n",
    "def l2_normalization(l1,l2):\n",
    "    k = 0\n",
    "    for i in range(len(l1)):\n",
    "        k+= (l1[i] - l2[i])**2\n",
    "    return math.sqrt(k)"
   ]
  },
  {
   "cell_type": "code",
   "execution_count": 7,
   "metadata": {},
   "outputs": [],
   "source": [
    "def get_node_stress(G,dim):\n",
    "    taluka_stress_dict = {}\n",
    "    for n in G.nodes():\n",
    "        centroid = [0]*dim\n",
    "        neighList = list(G.neighbors(n))\n",
    "        for nei in neighList:\n",
    "            try:\n",
    "                centroid = addList(centroid,list(G.nodes[nei][\"capabilityvector\"]))\n",
    "            except(KeyError):\n",
    "                pass\n",
    "        try:\n",
    "            G.nodes[n][\"nodeStress\"] = l2_normalization(divList(centroid,len(neighList)),list(G.nodes[n][\"capabilityvector\"]))\n",
    "        except(KeyError):\n",
    "            pass\n",
    "        try:\n",
    "            taluka_stress_dict[G.nodes[n][\"name\"]]=G.nodes[n][\"nodeStress\"]\n",
    "        except(KeyError):\n",
    "            pass\n",
    "    return taluka_stress_dict"
   ]
  },
  {
   "cell_type": "code",
   "execution_count": 8,
   "metadata": {},
   "outputs": [],
   "source": [
    "def get_node_stability(G,dim):\n",
    "    taluka_stress_dict = {}\n",
    "    for n in G.nodes():\n",
    "        centroid = [0]*dim\n",
    "        neighList = list(G.neighbors(n))\n",
    "        for nei in neighList:\n",
    "            try:\n",
    "                centroid = addList(centroid,list(G.nodes[nei][\"capabilityvector\"]))\n",
    "            except(KeyError):\n",
    "                pass\n",
    "        try:\n",
    "            G.nodes[n][\"nodeStress\"] = 1 - l2_normalization(divList(centroid,len(neighList)),list(G.nodes[n][\"capabilityvector\"]))\n",
    "        except(KeyError):\n",
    "            pass\n",
    "        try:\n",
    "            taluka_stress_dict[G.nodes[n][\"name\"]]=G.nodes[n][\"nodeStress\"]\n",
    "        except(KeyError):\n",
    "            pass\n",
    "    return taluka_stress_dict"
   ]
  },
  {
   "cell_type": "code",
   "execution_count": 9,
   "metadata": {},
   "outputs": [],
   "source": [
    "columns = [\"Rice_Production_223\"]\n",
    "dim = len(columns)\n",
    "init_graph_attr(G, \"Karnataka_District_Adjacency_File.xlsx\", df, columns)\n",
    "\n",
    "# initialstress = get_node_stress(G,dim)\n",
    "# df[\"Initial Stress\"] = df[\"District\"].map(initialstress)"
   ]
  },
  {
   "cell_type": "code",
   "execution_count": 10,
   "metadata": {},
   "outputs": [],
   "source": [
    "# df[\"Initial Stress\"]"
   ]
  },
  {
   "cell_type": "code",
   "execution_count": 11,
   "metadata": {},
   "outputs": [],
   "source": [
    "def calculate_impact_score(df, base_column, capability_vector, intervention):\n",
    "    # Perform simple linear regression\n",
    "    X = sm.add_constant(df[base_column])\n",
    "    y = df[capability_vector]\n",
    "    model = sm.OLS(y, X).fit()\n",
    "\n",
    "    # Get coefficients and intercept\n",
    "    m, c = model.params[base_column], model.params['const']\n",
    "    print(c)\n",
    "    # Predicted change in capability_vector for base_column + change_percentage% and base_column - change_percentage%\n",
    "    base_column_increase = (1 + intervention/100) * df[base_column]\n",
    "    base_column_decrease = (1 - intervention/100) * df[base_column]\n",
    "\n",
    "    rp_new_plus = m * base_column_increase + c \n",
    "    rp_new_minus = m * base_column_decrease + c \n",
    "\n",
    "    vector_plus = rp_new_plus - m * df[base_column] - c  \n",
    "    vector_minus = rp_new_minus - m * df[base_column] - c\n",
    "\n",
    "    # Generate normalized values using MinMaxScaler\n",
    "    scaler = MinMaxScaler()\n",
    "\n",
    "    normalized_vector_plus = scaler.fit_transform(vector_plus.values.reshape(-1, 1))\n",
    "    normalized_vector_minus = scaler.fit_transform(vector_minus.values.reshape(-1, 1))\n",
    "\n",
    "    # Create new DataFrame with appropriate column names\n",
    "    result_df = pd.DataFrame({\n",
    "        f'{capability_vector} ({base_column} +{intervention}%)': rp_new_plus,\n",
    "        f'{capability_vector} ({base_column} -{intervention}%)': rp_new_minus,\n",
    "        f'Normalized {capability_vector} ({base_column} +{intervention}%)': normalized_vector_plus.flatten(),\n",
    "        f'Normalized {capability_vector} ({base_column} -{intervention}%)': normalized_vector_minus.flatten()\n",
    "    })\n",
    "\n",
    "    return result_df"
   ]
  },
  {
   "cell_type": "code",
   "execution_count": 12,
   "metadata": {},
   "outputs": [
    {
     "name": "stdout",
     "output_type": "stream",
     "text": [
      "364.522399314813\n"
     ]
    },
    {
     "data": {
      "text/html": [
       "<div>\n",
       "<style scoped>\n",
       "    .dataframe tbody tr th:only-of-type {\n",
       "        vertical-align: middle;\n",
       "    }\n",
       "\n",
       "    .dataframe tbody tr th {\n",
       "        vertical-align: top;\n",
       "    }\n",
       "\n",
       "    .dataframe thead th {\n",
       "        text-align: right;\n",
       "    }\n",
       "</style>\n",
       "<table border=\"1\" class=\"dataframe\">\n",
       "  <thead>\n",
       "    <tr style=\"text-align: right;\">\n",
       "      <th></th>\n",
       "      <th>Jowar_Yield_278 (TotalNPK_315 +20%)</th>\n",
       "      <th>Jowar_Yield_278 (TotalNPK_315 -20%)</th>\n",
       "      <th>Normalized Jowar_Yield_278 (TotalNPK_315 +20%)</th>\n",
       "      <th>Normalized Jowar_Yield_278 (TotalNPK_315 -20%)</th>\n",
       "    </tr>\n",
       "  </thead>\n",
       "  <tbody>\n",
       "    <tr>\n",
       "      <th>0</th>\n",
       "      <td>639.044946</td>\n",
       "      <td>547.537431</td>\n",
       "      <td>0.098721</td>\n",
       "      <td>0.901279</td>\n",
       "    </tr>\n",
       "    <tr>\n",
       "      <th>1</th>\n",
       "      <td>591.336202</td>\n",
       "      <td>515.731601</td>\n",
       "      <td>0.075418</td>\n",
       "      <td>0.924582</td>\n",
       "    </tr>\n",
       "    <tr>\n",
       "      <th>2</th>\n",
       "      <td>452.520360</td>\n",
       "      <td>423.187707</td>\n",
       "      <td>0.007616</td>\n",
       "      <td>0.992384</td>\n",
       "    </tr>\n",
       "    <tr>\n",
       "      <th>3</th>\n",
       "      <td>787.129310</td>\n",
       "      <td>646.260340</td>\n",
       "      <td>0.171050</td>\n",
       "      <td>0.828950</td>\n",
       "    </tr>\n",
       "    <tr>\n",
       "      <th>4</th>\n",
       "      <td>1538.032682</td>\n",
       "      <td>1146.862588</td>\n",
       "      <td>0.537816</td>\n",
       "      <td>0.462184</td>\n",
       "    </tr>\n",
       "  </tbody>\n",
       "</table>\n",
       "</div>"
      ],
      "text/plain": [
       "   Jowar_Yield_278 (TotalNPK_315 +20%)  Jowar_Yield_278 (TotalNPK_315 -20%)  \\\n",
       "0                           639.044946                           547.537431   \n",
       "1                           591.336202                           515.731601   \n",
       "2                           452.520360                           423.187707   \n",
       "3                           787.129310                           646.260340   \n",
       "4                          1538.032682                          1146.862588   \n",
       "\n",
       "   Normalized Jowar_Yield_278 (TotalNPK_315 +20%)  \\\n",
       "0                                        0.098721   \n",
       "1                                        0.075418   \n",
       "2                                        0.007616   \n",
       "3                                        0.171050   \n",
       "4                                        0.537816   \n",
       "\n",
       "   Normalized Jowar_Yield_278 (TotalNPK_315 -20%)  \n",
       "0                                        0.901279  \n",
       "1                                        0.924582  \n",
       "2                                        0.992384  \n",
       "3                                        0.828950  \n",
       "4                                        0.462184  "
      ]
     },
     "execution_count": 12,
     "metadata": {},
     "output_type": "execute_result"
    }
   ],
   "source": [
    "base_Column = \"TotalNPK_315\"\n",
    "CapabilityVector = \"Jowar_Yield_278\"\n",
    "change_percentage = 20\n",
    "\n",
    "result_df = calculate_impact_score(df, base_Column, CapabilityVector, change_percentage)\n",
    "\n",
    "result_df.head()"
   ]
  },
  {
   "cell_type": "code",
   "execution_count": 13,
   "metadata": {},
   "outputs": [],
   "source": [
    "def merge_columns_into_dataframe(result_df):\n",
    "    for column in result_df.columns:\n",
    "        if column not in existing_data.columns:\n",
    "            existing_data[column] = result_df[column]\n",
    "    return existing_data\n",
    "\n",
    "# merge_columns_into_dataframe(result_df)\n",
    "# existing_data.head()"
   ]
  },
  {
   "cell_type": "code",
   "execution_count": 14,
   "metadata": {},
   "outputs": [
    {
     "data": {
      "text/html": [
       "<div>\n",
       "<style scoped>\n",
       "    .dataframe tbody tr th:only-of-type {\n",
       "        vertical-align: middle;\n",
       "    }\n",
       "\n",
       "    .dataframe tbody tr th {\n",
       "        vertical-align: top;\n",
       "    }\n",
       "\n",
       "    .dataframe thead th {\n",
       "        text-align: right;\n",
       "    }\n",
       "</style>\n",
       "<table border=\"1\" class=\"dataframe\">\n",
       "  <thead>\n",
       "    <tr style=\"text-align: right;\">\n",
       "      <th></th>\n",
       "      <th>Jowar_Yield_278 (TotalNPK_315 +20%)</th>\n",
       "      <th>Jowar_Yield_278 (TotalNPK_315 -20%)</th>\n",
       "      <th>Normalized Jowar_Yield_278 (TotalNPK_315 +20%)</th>\n",
       "      <th>Normalized Jowar_Yield_278 (TotalNPK_315 -20%)</th>\n",
       "    </tr>\n",
       "  </thead>\n",
       "  <tbody>\n",
       "    <tr>\n",
       "      <th>0</th>\n",
       "      <td>639.044946</td>\n",
       "      <td>547.537431</td>\n",
       "      <td>0.098721</td>\n",
       "      <td>0.901279</td>\n",
       "    </tr>\n",
       "    <tr>\n",
       "      <th>1</th>\n",
       "      <td>591.336202</td>\n",
       "      <td>515.731601</td>\n",
       "      <td>0.075418</td>\n",
       "      <td>0.924582</td>\n",
       "    </tr>\n",
       "    <tr>\n",
       "      <th>2</th>\n",
       "      <td>452.520360</td>\n",
       "      <td>423.187707</td>\n",
       "      <td>0.007616</td>\n",
       "      <td>0.992384</td>\n",
       "    </tr>\n",
       "    <tr>\n",
       "      <th>3</th>\n",
       "      <td>787.129310</td>\n",
       "      <td>646.260340</td>\n",
       "      <td>0.171050</td>\n",
       "      <td>0.828950</td>\n",
       "    </tr>\n",
       "    <tr>\n",
       "      <th>4</th>\n",
       "      <td>1538.032682</td>\n",
       "      <td>1146.862588</td>\n",
       "      <td>0.537816</td>\n",
       "      <td>0.462184</td>\n",
       "    </tr>\n",
       "  </tbody>\n",
       "</table>\n",
       "</div>"
      ],
      "text/plain": [
       "   Jowar_Yield_278 (TotalNPK_315 +20%)  Jowar_Yield_278 (TotalNPK_315 -20%)  \\\n",
       "0                           639.044946                           547.537431   \n",
       "1                           591.336202                           515.731601   \n",
       "2                           452.520360                           423.187707   \n",
       "3                           787.129310                           646.260340   \n",
       "4                          1538.032682                          1146.862588   \n",
       "\n",
       "   Normalized Jowar_Yield_278 (TotalNPK_315 +20%)  \\\n",
       "0                                        0.098721   \n",
       "1                                        0.075418   \n",
       "2                                        0.007616   \n",
       "3                                        0.171050   \n",
       "4                                        0.537816   \n",
       "\n",
       "   Normalized Jowar_Yield_278 (TotalNPK_315 -20%)  \n",
       "0                                        0.901279  \n",
       "1                                        0.924582  \n",
       "2                                        0.992384  \n",
       "3                                        0.828950  \n",
       "4                                        0.462184  "
      ]
     },
     "execution_count": 14,
     "metadata": {},
     "output_type": "execute_result"
    }
   ],
   "source": [
    "result_df.head()"
   ]
  },
  {
   "cell_type": "code",
   "execution_count": 15,
   "metadata": {},
   "outputs": [
    {
     "data": {
      "text/html": [
       "<div>\n",
       "<style scoped>\n",
       "    .dataframe tbody tr th:only-of-type {\n",
       "        vertical-align: middle;\n",
       "    }\n",
       "\n",
       "    .dataframe tbody tr th {\n",
       "        vertical-align: top;\n",
       "    }\n",
       "\n",
       "    .dataframe thead th {\n",
       "        text-align: right;\n",
       "    }\n",
       "</style>\n",
       "<table border=\"1\" class=\"dataframe\">\n",
       "  <thead>\n",
       "    <tr style=\"text-align: right;\">\n",
       "      <th></th>\n",
       "      <th>District</th>\n",
       "      <th>Rice_Production_223 (TotalNPK_315 +20%)</th>\n",
       "      <th>Rice_Production_223 (TotalNPK_315 -20%)</th>\n",
       "      <th>Normalized Rice_Production_223 (TotalNPK_315 +20%)</th>\n",
       "      <th>Normalized Rice_Production_223 (TotalNPK_315 -20%)</th>\n",
       "      <th>New Stability(NPK + 20%)</th>\n",
       "      <th>New Stability(NPK - 20%)</th>\n",
       "    </tr>\n",
       "  </thead>\n",
       "  <tbody>\n",
       "    <tr>\n",
       "      <th>0</th>\n",
       "      <td>BENGALURU</td>\n",
       "      <td>73964.709483</td>\n",
       "      <td>52021.948395</td>\n",
       "      <td>0.098721</td>\n",
       "      <td>0.098721</td>\n",
       "      <td>0.959717</td>\n",
       "      <td>0.959717</td>\n",
       "    </tr>\n",
       "    <tr>\n",
       "      <th>1</th>\n",
       "      <td>BENGALURU(R)</td>\n",
       "      <td>62524.538934</td>\n",
       "      <td>44395.168029</td>\n",
       "      <td>0.075418</td>\n",
       "      <td>0.075418</td>\n",
       "      <td>0.973330</td>\n",
       "      <td>0.973330</td>\n",
       "    </tr>\n",
       "    <tr>\n",
       "      <th>2</th>\n",
       "      <td>RAMANAGARA</td>\n",
       "      <td>29237.624526</td>\n",
       "      <td>22203.891757</td>\n",
       "      <td>0.007616</td>\n",
       "      <td>0.007616</td>\n",
       "      <td>0.853066</td>\n",
       "      <td>0.853066</td>\n",
       "    </tr>\n",
       "    <tr>\n",
       "      <th>3</th>\n",
       "      <td>CHITRADURGA</td>\n",
       "      <td>109474.140361</td>\n",
       "      <td>75694.902314</td>\n",
       "      <td>0.171050</td>\n",
       "      <td>0.171050</td>\n",
       "      <td>0.733313</td>\n",
       "      <td>0.733313</td>\n",
       "    </tr>\n",
       "    <tr>\n",
       "      <th>4</th>\n",
       "      <td>DAVANAGERE</td>\n",
       "      <td>289534.686947</td>\n",
       "      <td>195735.266704</td>\n",
       "      <td>0.537816</td>\n",
       "      <td>0.537816</td>\n",
       "      <td>0.827968</td>\n",
       "      <td>0.827968</td>\n",
       "    </tr>\n",
       "  </tbody>\n",
       "</table>\n",
       "</div>"
      ],
      "text/plain": [
       "       District  Rice_Production_223 (TotalNPK_315 +20%)  \\\n",
       "0     BENGALURU                             73964.709483   \n",
       "1  BENGALURU(R)                             62524.538934   \n",
       "2    RAMANAGARA                             29237.624526   \n",
       "3   CHITRADURGA                            109474.140361   \n",
       "4    DAVANAGERE                            289534.686947   \n",
       "\n",
       "   Rice_Production_223 (TotalNPK_315 -20%)  \\\n",
       "0                             52021.948395   \n",
       "1                             44395.168029   \n",
       "2                             22203.891757   \n",
       "3                             75694.902314   \n",
       "4                            195735.266704   \n",
       "\n",
       "   Normalized Rice_Production_223 (TotalNPK_315 +20%)  \\\n",
       "0                                           0.098721    \n",
       "1                                           0.075418    \n",
       "2                                           0.007616    \n",
       "3                                           0.171050    \n",
       "4                                           0.537816    \n",
       "\n",
       "   Normalized Rice_Production_223 (TotalNPK_315 -20%)  \\\n",
       "0                                           0.098721    \n",
       "1                                           0.075418    \n",
       "2                                           0.007616    \n",
       "3                                           0.171050    \n",
       "4                                           0.537816    \n",
       "\n",
       "   New Stability(NPK + 20%)  New Stability(NPK - 20%)  \n",
       "0                  0.959717                  0.959717  \n",
       "1                  0.973330                  0.973330  \n",
       "2                  0.853066                  0.853066  \n",
       "3                  0.733313                  0.733313  \n",
       "4                  0.827968                  0.827968  "
      ]
     },
     "execution_count": 15,
     "metadata": {},
     "output_type": "execute_result"
    }
   ],
   "source": [
    "def calculate_and_map_stability(G, existing_data, adjacency_file, columns_to_pass, change_percentage, dim):\n",
    "    # Initialize the graph attributes\n",
    "    init_graph_attr(G, adjacency_file, existing_data, columns_to_pass)\n",
    "\n",
    "    # Calculate node stress for the given change percentage\n",
    "    NPK_stability = get_node_stability(G, dim)\n",
    "\n",
    "    # Create a new column in the result DataFrame\n",
    "    stability_column_name = f\"New Stability(NPK {'+' if change_percentage >= 0 else '-'} {abs(change_percentage)}%)\"\n",
    "    stability_column = existing_data[\"District\"].map(NPK_stability)\n",
    "\n",
    "    return stability_column, stability_column_name\n",
    "\n",
    "# Example Usage:\n",
    "columns_to_pass_minus20 = [\"Normalized Rice_Production_223 (TotalNPK_315 -20%)\"]\n",
    "columns_to_pass_plus20 = [\"Normalized Rice_Production_223 (TotalNPK_315 +20%)\"]\n",
    "\n",
    "# # Calculate and get stress column for NPK -20%\n",
    "# stability_column_minus20, stability_column_name_minus20 = calculate_and_map_stability(G, existing_data.copy(), adjacency_file, columns_to_pass_minus20, -20, dim)\n",
    "\n",
    "# # Calculate and get stress column for NPK +20%\n",
    "# stability_column_plus20, stability_column_name_plus20 = calculate_and_map_stability(G, existing_data.copy(), adjacency_file, columns_to_pass_plus20, 20, dim)\n",
    "\n",
    "# # Add stress columns to the result DataFrame\n",
    "# existing_data[stability_column_name_plus20] = stability_column_plus20\n",
    "\n",
    "# existing_data[stability_column_name_minus20] = stability_column_minus20\n",
    "\n",
    "# Display the resulting DataFrame\n",
    "existing_data.head()"
   ]
  },
  {
   "cell_type": "code",
   "execution_count": 20,
   "metadata": {},
   "outputs": [
    {
     "data": {
      "text/html": [
       "\n",
       "  <div id=\"f3b0e2f1-07dc-4622-9352-24fb27f7d367\" data-root-id=\"p1215\" style=\"display: contents;\"></div>\n"
      ]
     },
     "metadata": {},
     "output_type": "display_data"
    },
    {
     "data": {
      "application/javascript": "(function(root) {\n  function embed_document(root) {\n  const docs_json = {\"576899a8-8c82-4eff-9f2b-3f12d7cfd186\":{\"version\":\"3.3.3\",\"title\":\"Bokeh Application\",\"roots\":[{\"type\":\"object\",\"name\":\"Figure\",\"id\":\"p1215\",\"attributes\":{\"x_range\":{\"type\":\"object\",\"name\":\"DataRange1d\",\"id\":\"p1216\"},\"y_range\":{\"type\":\"object\",\"name\":\"DataRange1d\",\"id\":\"p1217\"},\"x_scale\":{\"type\":\"object\",\"name\":\"LinearScale\",\"id\":\"p1225\"},\"y_scale\":{\"type\":\"object\",\"name\":\"LinearScale\",\"id\":\"p1226\"},\"title\":{\"type\":\"object\",\"name\":\"Title\",\"id\":\"p1218\",\"attributes\":{\"text\":\"Impact vs Stability (Rice_Production_223 - TotalNPK_315 20%)\"}},\"renderers\":[{\"type\":\"object\",\"name\":\"GlyphRenderer\",\"id\":\"p1253\",\"attributes\":{\"data_source\":{\"type\":\"object\",\"name\":\"ColumnDataSource\",\"id\":\"p1212\",\"attributes\":{\"selected\":{\"type\":\"object\",\"name\":\"Selection\",\"id\":\"p1213\",\"attributes\":{\"indices\":[],\"line_indices\":[]}},\"selection_policy\":{\"type\":\"object\",\"name\":\"UnionRenderers\",\"id\":\"p1214\"},\"data\":{\"type\":\"map\",\"entries\":[[\"index\",{\"type\":\"ndarray\",\"array\":{\"type\":\"bytes\",\"data\":\"AAAAAAEAAAACAAAAAwAAAAQAAAAFAAAABgAAAAcAAAAIAAAACQAAAAoAAAALAAAADAAAAA0AAAAOAAAADwAAABAAAAARAAAAEgAAABMAAAAUAAAAFQAAABYAAAAXAAAAGAAAABkAAAAaAAAAGwAAABwAAAAdAAAA\"},\"shape\":[30],\"dtype\":\"int32\",\"order\":\"little\"}],[\"District\",{\"type\":\"ndarray\",\"array\":[\"BENGALURU\",\"BENGALURU(R)\",\"RAMANAGARA\",\"CHITRADURGA\",\"DAVANAGERE\",\"KOLAR\",\"CHIKKABALLAPURA\",\"SHIVAMOGGA\",\"TUMAKURU\",\"CHIKKAMAGALURU\",\"DAKSHINA KANNADA\",\"UDUPI\",\"HASSAN\",\"KODAGU\",\"MANDYA\",\"MYSURU\",\"CHAMARAJANAGAR\",\"BELAGAVI\",\"VIJAYAPURA\",\"BAGALKOT\",\"DHARAWAD\",\"GADAG\",\"HAVERI\",\"UTTARA KANNADA\",\"BALLARI\",\"BIDAR\",\"KALABURAGI\",\"YADGIRI\",\"RAICHUR\",\"KOPPAL\"],\"shape\":[30],\"dtype\":\"object\",\"order\":\"little\"}],[\"Rice_Production_223 (TotalNPK_315 +20%)\",{\"type\":\"ndarray\",\"array\":{\"type\":\"bytes\",\"data\":\"ruMKWssO8kCgFPI+kYfuQPbwPfhnjdxAYBXrPiK6+kB1Bm+/+qsRQZKmmp8cSfFAct3H65mJ9UCjJCVSEoIEQfvv2CG8SfxAnmIl8j9jCEHdG4aKs5rtQBkvtnCm5thAoKzDXWCVCEES+rDEwzf+QHqkkUWT3gVBzGUnpRFfBkF2ql1Zz2XyQIWi6mFhhR9BXpxtFPKvA0HQsrioBDsOQQZybY9bwvtALyt60H8J8kAOz0fQrGYHQXLFRqirF+lA80Rj7xfBFUGKNPopuPzyQCbLDXK8mwNBJcjAErk/EEEzI7I6MbQUQcnI9npPWQpB\"},\"shape\":[30],\"dtype\":\"float64\",\"order\":\"little\"}],[\"Rice_Production_223 (TotalNPK_315 -20%)\",{\"type\":\"ndarray\",\"array\":{\"type\":\"bytes\",\"data\":\"fndAWb5m6UBWAH5gZa3lQHwwjRL5rtVA4Vzgb+568kCY2jUiuuQHQQQmALYqX+hA2BnncHwK7kAkKnWzmgH8QEmZKQdVhfNAD2llxOuWAEGAWos9fA/lQOhZ3WLNP9NAu+/Otla4AEECoLlzr870QEV/sKJG0v1AB4HNzJl9/kDg1a6tw9rpQKyqwtL2LRVBdHSAtm/p+kAxSXKTGXwEQaWajKUUK/NAKiwq965f6UC1YqNbE93/QI7LC/x2DeJA7C0mYjZWDUGlOCoZ+qPqQH5dq4h9zvpALTL4Ow3/BUHqADpxre8LQddXRsqg5QFB\"},\"shape\":[30],\"dtype\":\"float64\",\"order\":\"little\"}],[\"Normalized Rice_Production_223 (TotalNPK_315 +20%)\",{\"type\":\"ndarray\",\"array\":{\"type\":\"bytes\",\"data\":\"lkgSYMJFuT/7VvZHm06zP+T98cH6MX8/MHPfnfbkxT9Vi9LgyDXhP2iRdzGKn7c/e+9wXzFawD9CvtHIt5PSP7xd6+K0j8c/A+KTFlu41j+M4BHhplGyPwAAAAAAAAAAd8EkIOPt1j+ZYD3cSp/JP5EtKJ/kB9Q/t0LnRx2R1D+VRRJ6nP+5PwAAAAAAAPA/29uXz1Gz0T9dIAKruPXcPytVtFUi/8Y/REj3J3M6uT8zTXYcoKrVP8pmqvNVAKs/dzy70eKR5T8ozxM57kG7P/R2hsS8ndE/O0oOzpJh3z/PsR5huHLkPzLWcZqE0Ng/\"},\"shape\":[30],\"dtype\":\"float64\",\"order\":\"little\"}],[\"Normalized Rice_Production_223 (TotalNPK_315 -20%)\",{\"type\":\"ndarray\",\"array\":{\"type\":\"bytes\",\"data\":\"lkgSYMJFuT/7VvZHm06zP+T98cH6MX8/MHPfnfbkxT9Ui9LgyDXhP2GRdzGKn7c/d+9wXzFawD9AvtHIt5PSP7xd6+K0j8c/AOKTFlu41j+M4BHhplGyPwAAAAAAAAAAdMEkIOPt1j+ZYD3cSp/JP48tKJ/kB9Q/tULnRx2R1D+VRRJ6nP+5PwAAAAAAAPA/2duXz1Gz0T9bIAKruPXcPytVtFUi/8Y/REj3J3M6uT8xTXYcoKrVP8pmqvNVAKs/dzy70eKR5T8ozxM57kG7P/J2hsS8ndE/OEoOzpJh3z/NsR5huHLkPzDWcZqE0Ng/\"},\"shape\":[30],\"dtype\":\"float64\",\"order\":\"little\"}],[\"New Stability(NPK + 20%)\",{\"type\":\"ndarray\",\"array\":{\"type\":\"bytes\",\"data\":\"RZfj6v+17j+Rje8whSXvPzYIzf9QTOs/vTjTCUx35z94ETTqtX7qP5LXj+yTu+8/SqDGSgSq7z/ylecTAO7uP7YZDBwPdO8/o+Dx5IcD7D+ZUYdnePvqP1gTPBXv1+k/Zk0Npyk+7D9uQ1dclmTuP6gduuABNuw/vGSK5RuA7T+oFOmW/GbsP+Ab9qvnIss/0LM2zpyQ5j/QxRPwqxvvP8fnz6Cf1Ok/xFVPtvT64j8DZjTvdfHuP9JtaqoHHeY/pnHpH40E5j9rPt9kX5nqP4AMnAX5fe8/oM6yfPYC7T/0KVYsxSbqPzpx4tGQfu0/\"},\"shape\":[30],\"dtype\":\"float64\",\"order\":\"little\"}],[\"New Stability(NPK - 20%)\",{\"type\":\"ndarray\",\"array\":{\"type\":\"bytes\",\"data\":\"RZfj6v+17j+Rje8whSXvPzYIzf9QTOs/vTjTCUx35z94ETTqtX7qP5LXj+yTu+8/S6DGSgSq7z/ylecTAO7uP7cZDBwPdO8/pODx5IcD7D+aUYdnePvqP1gTPBXv1+k/Z00Npyk+7D9vQ1dclmTuP6kduuABNuw/vGSK5RuA7T+pFOmW/GbsP+Ab9qvnIss/0LM2zpyQ5j/PxRPwqxvvP8jnz6Cf1Ok/xFVPtvT64j8EZjTvdfHuP9JtaqoHHeY/pHHpH40E5j9sPt9kX5nqP38MnAX5fe8/oM6yfPYC7T/0KVYsxSbqPzpx4tGQfu0/\"},\"shape\":[30],\"dtype\":\"float64\",\"order\":\"little\"}]]}}},\"view\":{\"type\":\"object\",\"name\":\"CDSView\",\"id\":\"p1254\",\"attributes\":{\"filter\":{\"type\":\"object\",\"name\":\"AllIndices\",\"id\":\"p1255\"}}},\"glyph\":{\"type\":\"object\",\"name\":\"Scatter\",\"id\":\"p1250\",\"attributes\":{\"x\":{\"type\":\"field\",\"field\":\"New Stability(NPK + 20%)\"},\"y\":{\"type\":\"field\",\"field\":\"Normalized Rice_Production_223 (TotalNPK_315 +20%)\"},\"size\":{\"type\":\"value\",\"value\":8},\"line_color\":{\"type\":\"value\",\"value\":\"#1f77b4\"},\"fill_color\":{\"type\":\"value\",\"value\":\"#1f77b4\"}}},\"nonselection_glyph\":{\"type\":\"object\",\"name\":\"Scatter\",\"id\":\"p1251\",\"attributes\":{\"x\":{\"type\":\"field\",\"field\":\"New Stability(NPK + 20%)\"},\"y\":{\"type\":\"field\",\"field\":\"Normalized Rice_Production_223 (TotalNPK_315 +20%)\"},\"size\":{\"type\":\"value\",\"value\":8},\"line_color\":{\"type\":\"value\",\"value\":\"#1f77b4\"},\"line_alpha\":{\"type\":\"value\",\"value\":0.1},\"fill_color\":{\"type\":\"value\",\"value\":\"#1f77b4\"},\"fill_alpha\":{\"type\":\"value\",\"value\":0.1},\"hatch_alpha\":{\"type\":\"value\",\"value\":0.1}}},\"muted_glyph\":{\"type\":\"object\",\"name\":\"Scatter\",\"id\":\"p1252\",\"attributes\":{\"x\":{\"type\":\"field\",\"field\":\"New Stability(NPK + 20%)\"},\"y\":{\"type\":\"field\",\"field\":\"Normalized Rice_Production_223 (TotalNPK_315 +20%)\"},\"size\":{\"type\":\"value\",\"value\":8},\"line_color\":{\"type\":\"value\",\"value\":\"#1f77b4\"},\"line_alpha\":{\"type\":\"value\",\"value\":0.2},\"fill_color\":{\"type\":\"value\",\"value\":\"#1f77b4\"},\"fill_alpha\":{\"type\":\"value\",\"value\":0.2},\"hatch_alpha\":{\"type\":\"value\",\"value\":0.2}}}}}],\"toolbar\":{\"type\":\"object\",\"name\":\"Toolbar\",\"id\":\"p1224\",\"attributes\":{\"tools\":[{\"type\":\"object\",\"name\":\"PanTool\",\"id\":\"p1237\"},{\"type\":\"object\",\"name\":\"BoxZoomTool\",\"id\":\"p1238\",\"attributes\":{\"overlay\":{\"type\":\"object\",\"name\":\"BoxAnnotation\",\"id\":\"p1239\",\"attributes\":{\"syncable\":false,\"level\":\"overlay\",\"visible\":false,\"left\":{\"type\":\"number\",\"value\":\"nan\"},\"right\":{\"type\":\"number\",\"value\":\"nan\"},\"top\":{\"type\":\"number\",\"value\":\"nan\"},\"bottom\":{\"type\":\"number\",\"value\":\"nan\"},\"left_units\":\"canvas\",\"right_units\":\"canvas\",\"top_units\":\"canvas\",\"bottom_units\":\"canvas\",\"line_color\":\"black\",\"line_alpha\":1.0,\"line_width\":2,\"line_dash\":[4,4],\"fill_color\":\"lightgrey\",\"fill_alpha\":0.5}}}},{\"type\":\"object\",\"name\":\"WheelZoomTool\",\"id\":\"p1244\",\"attributes\":{\"renderers\":\"auto\"}},{\"type\":\"object\",\"name\":\"ResetTool\",\"id\":\"p1245\"},{\"type\":\"object\",\"name\":\"SaveTool\",\"id\":\"p1246\"},{\"type\":\"object\",\"name\":\"HoverTool\",\"id\":\"p1260\",\"attributes\":{\"renderers\":\"auto\",\"tooltips\":[[\"District\",\"@District\"]]}}]}},\"left\":[{\"type\":\"object\",\"name\":\"LinearAxis\",\"id\":\"p1232\",\"attributes\":{\"ticker\":{\"type\":\"object\",\"name\":\"BasicTicker\",\"id\":\"p1233\",\"attributes\":{\"mantissas\":[1,2,5]}},\"formatter\":{\"type\":\"object\",\"name\":\"BasicTickFormatter\",\"id\":\"p1234\"},\"axis_label\":\"Impact (Rice_Production_223)\",\"major_label_policy\":{\"type\":\"object\",\"name\":\"AllLabels\",\"id\":\"p1235\"}}}],\"below\":[{\"type\":\"object\",\"name\":\"LinearAxis\",\"id\":\"p1227\",\"attributes\":{\"ticker\":{\"type\":\"object\",\"name\":\"BasicTicker\",\"id\":\"p1228\",\"attributes\":{\"mantissas\":[1,2,5]}},\"formatter\":{\"type\":\"object\",\"name\":\"BasicTickFormatter\",\"id\":\"p1229\"},\"axis_label\":\"Stability (TotalNPK_315 20%)\",\"major_label_policy\":{\"type\":\"object\",\"name\":\"AllLabels\",\"id\":\"p1230\"}}}],\"center\":[{\"type\":\"object\",\"name\":\"Grid\",\"id\":\"p1231\",\"attributes\":{\"axis\":{\"id\":\"p1227\"}}},{\"type\":\"object\",\"name\":\"Grid\",\"id\":\"p1236\",\"attributes\":{\"dimension\":1,\"axis\":{\"id\":\"p1232\"}}},{\"type\":\"object\",\"name\":\"Span\",\"id\":\"p1256\",\"attributes\":{\"location\":0.2759096277888989,\"line_color\":\"red\",\"line_width\":2}},{\"type\":\"object\",\"name\":\"Span\",\"id\":\"p1257\",\"attributes\":{\"location\":0.8474754309008296,\"dimension\":\"height\",\"line_color\":\"blue\",\"line_width\":2}},{\"type\":\"object\",\"name\":\"Label\",\"id\":\"p1258\",\"attributes\":{\"text\":\"Avg New Stability(NPK + 20%)\",\"text_color\":\"red\",\"text_font_size\":\"10pt\",\"text_align\":\"center\",\"x\":0.8474754309008296,\"y\":{\"type\":\"number\",\"value\":\"nan\"}}},{\"type\":\"object\",\"name\":\"Label\",\"id\":\"p1259\",\"attributes\":{\"text\":\"Avg Normalized Rice_Production_223\",\"text_color\":\"blue\",\"text_font_size\":\"10pt\",\"text_align\":\"center\",\"x\":{\"type\":\"number\",\"value\":\"nan\"},\"y\":0.2759096277888989}}]}}]}};\n  const render_items = [{\"docid\":\"576899a8-8c82-4eff-9f2b-3f12d7cfd186\",\"roots\":{\"p1215\":\"f3b0e2f1-07dc-4622-9352-24fb27f7d367\"},\"root_ids\":[\"p1215\"],\"notebook_comms_target\":\"p1261\"}];\n  root.Bokeh.embed.embed_items_notebook(docs_json, render_items);\n  }\n  if (root.Bokeh !== undefined) {\n    embed_document(root);\n  } else {\n    let attempts = 0;\n    const timer = setInterval(function(root) {\n      if (root.Bokeh !== undefined) {\n        clearInterval(timer);\n        embed_document(root);\n      } else {\n        attempts++;\n        if (attempts > 100) {\n          clearInterval(timer);\n          console.log(\"Bokeh: ERROR: Unable to run BokehJS code because BokehJS library is missing\");\n        }\n      }\n    }, 10, root)\n  }\n})(window);",
      "application/vnd.bokehjs_exec.v0+json": ""
     },
     "metadata": {
      "application/vnd.bokehjs_exec.v0+json": {
       "id": "p1215"
      }
     },
     "output_type": "display_data"
    },
    {
     "data": {
      "text/html": [
       "<div>\n",
       "<style scoped>\n",
       "    .dataframe tbody tr th:only-of-type {\n",
       "        vertical-align: middle;\n",
       "    }\n",
       "\n",
       "    .dataframe tbody tr th {\n",
       "        vertical-align: top;\n",
       "    }\n",
       "\n",
       "    .dataframe thead th {\n",
       "        text-align: right;\n",
       "    }\n",
       "</style>\n",
       "<table border=\"1\" class=\"dataframe\">\n",
       "  <thead>\n",
       "    <tr style=\"text-align: right;\">\n",
       "      <th></th>\n",
       "      <th>District</th>\n",
       "      <th>Rice_Production_223 (TotalNPK_315 +20%)</th>\n",
       "      <th>Rice_Production_223 (TotalNPK_315 -20%)</th>\n",
       "      <th>Normalized Rice_Production_223 (TotalNPK_315 +20%)</th>\n",
       "      <th>Normalized Rice_Production_223 (TotalNPK_315 -20%)</th>\n",
       "      <th>New Stability(NPK + 20%)</th>\n",
       "      <th>New Stability(NPK - 20%)</th>\n",
       "    </tr>\n",
       "  </thead>\n",
       "  <tbody>\n",
       "    <tr>\n",
       "      <th>0</th>\n",
       "      <td>BENGALURU</td>\n",
       "      <td>73964.709483</td>\n",
       "      <td>52021.948395</td>\n",
       "      <td>0.098721</td>\n",
       "      <td>0.098721</td>\n",
       "      <td>0.959717</td>\n",
       "      <td>0.959717</td>\n",
       "    </tr>\n",
       "    <tr>\n",
       "      <th>1</th>\n",
       "      <td>BENGALURU(R)</td>\n",
       "      <td>62524.538934</td>\n",
       "      <td>44395.168029</td>\n",
       "      <td>0.075418</td>\n",
       "      <td>0.075418</td>\n",
       "      <td>0.973330</td>\n",
       "      <td>0.973330</td>\n",
       "    </tr>\n",
       "    <tr>\n",
       "      <th>2</th>\n",
       "      <td>RAMANAGARA</td>\n",
       "      <td>29237.624526</td>\n",
       "      <td>22203.891757</td>\n",
       "      <td>0.007616</td>\n",
       "      <td>0.007616</td>\n",
       "      <td>0.853066</td>\n",
       "      <td>0.853066</td>\n",
       "    </tr>\n",
       "    <tr>\n",
       "      <th>3</th>\n",
       "      <td>CHITRADURGA</td>\n",
       "      <td>109474.140361</td>\n",
       "      <td>75694.902314</td>\n",
       "      <td>0.171050</td>\n",
       "      <td>0.171050</td>\n",
       "      <td>0.733313</td>\n",
       "      <td>0.733313</td>\n",
       "    </tr>\n",
       "    <tr>\n",
       "      <th>4</th>\n",
       "      <td>DAVANAGERE</td>\n",
       "      <td>289534.686947</td>\n",
       "      <td>195735.266704</td>\n",
       "      <td>0.537816</td>\n",
       "      <td>0.537816</td>\n",
       "      <td>0.827968</td>\n",
       "      <td>0.827968</td>\n",
       "    </tr>\n",
       "  </tbody>\n",
       "</table>\n",
       "</div>"
      ],
      "text/plain": [
       "       District  Rice_Production_223 (TotalNPK_315 +20%)  \\\n",
       "0     BENGALURU                             73964.709483   \n",
       "1  BENGALURU(R)                             62524.538934   \n",
       "2    RAMANAGARA                             29237.624526   \n",
       "3   CHITRADURGA                            109474.140361   \n",
       "4    DAVANAGERE                            289534.686947   \n",
       "\n",
       "   Rice_Production_223 (TotalNPK_315 -20%)  \\\n",
       "0                             52021.948395   \n",
       "1                             44395.168029   \n",
       "2                             22203.891757   \n",
       "3                             75694.902314   \n",
       "4                            195735.266704   \n",
       "\n",
       "   Normalized Rice_Production_223 (TotalNPK_315 +20%)  \\\n",
       "0                                           0.098721    \n",
       "1                                           0.075418    \n",
       "2                                           0.007616    \n",
       "3                                           0.171050    \n",
       "4                                           0.537816    \n",
       "\n",
       "   Normalized Rice_Production_223 (TotalNPK_315 -20%)  \\\n",
       "0                                           0.098721    \n",
       "1                                           0.075418    \n",
       "2                                           0.007616    \n",
       "3                                           0.171050    \n",
       "4                                           0.537816    \n",
       "\n",
       "   New Stability(NPK + 20%)  New Stability(NPK - 20%)  \n",
       "0                  0.959717                  0.959717  \n",
       "1                  0.973330                  0.973330  \n",
       "2                  0.853066                  0.853066  \n",
       "3                  0.733313                  0.733313  \n",
       "4                  0.827968                  0.827968  "
      ]
     },
     "execution_count": 20,
     "metadata": {},
     "output_type": "execute_result"
    }
   ],
   "source": [
    "from bokeh.models import Span, Label\n",
    "\n",
    "def calculate_and_visualize_impact_stability(G, existing_data, adjacency_file, base_column, capability_vector, intervention, dim):\n",
    "    # Calculate Impact Score\n",
    "    X = sm.add_constant(df[base_column])\n",
    "    y = df[capability_vector]\n",
    "    model = sm.OLS(y, X).fit()\n",
    "    \n",
    "    m, c = model.params[base_column], model.params['const']\n",
    "\n",
    "    base_column_increase = (1 + intervention/100) * df[base_column]\n",
    "    base_column_decrease = (1 - intervention/100) * df[base_column]\n",
    "\n",
    "    change_vector_increase = m * base_column_increase + c\n",
    "    change_vector_decrease = m * base_column_decrease + c\n",
    "\n",
    "    scaler = MinMaxScaler()\n",
    "    normalized_change_increase_vector = scaler.fit_transform(change_vector_increase.values.reshape(-1, 1))\n",
    "    normalized_change_decrease_vector = scaler.fit_transform(change_vector_decrease.values.reshape(-1, 1))\n",
    "\n",
    "    result_df = pd.DataFrame({\n",
    "        f'{capability_vector} ({base_column} +{change_percentage}%)': change_vector_increase,\n",
    "        f'{capability_vector} ({base_column} -{change_percentage}%)': change_vector_decrease,\n",
    "        f'Normalized {capability_vector} ({base_column} +{change_percentage}%)': normalized_change_increase_vector.flatten(),\n",
    "        f'Normalized {capability_vector} ({base_column} -{change_percentage}%)': normalized_change_decrease_vector.flatten()\n",
    "    })\n",
    "\n",
    "    # Merge Columns\n",
    "    for column in result_df.columns:\n",
    "        if column not in existing_data.columns:\n",
    "            existing_data[column] = result_df[column]\n",
    "\n",
    "    # Calculate Stability and add to DataFrame\n",
    "    columns_to_pass = [f\"Normalized {capability_vector} ({base_column} {'+' if change_percentage >= 0 else '-'}{abs(change_percentage)}%)\"]\n",
    "    stability_column, stability_column_name = calculate_and_map_stability(G, existing_data.copy(), adjacency_file, columns_to_pass, change_percentage, dim)\n",
    "\n",
    "    existing_data[stability_column_name] = stability_column\n",
    "\n",
    "    # Calculate Stability for the opposite change_percentage and add to DataFrame\n",
    "    opposite_change_percentage = -change_percentage\n",
    "    columns_to_pass_opposite = [f\"Normalized {capability_vector} ({base_column} {'+' if opposite_change_percentage >= 0 else '-'}{abs(opposite_change_percentage)}%)\"]\n",
    "    stability_column_opposite, stability_column_name_opposite = calculate_and_map_stability(G, existing_data.copy(), adjacency_file, columns_to_pass_opposite, opposite_change_percentage, dim)\n",
    "\n",
    "    existing_data[stability_column_name_opposite] = stability_column_opposite\n",
    "\n",
    "    # Visualize with Bokeh\n",
    "    source = ColumnDataSource(existing_data)\n",
    "    plot = figure(title=f'Impact vs Stability ({capability_vector} - {base_column} {change_percentage}%)',\n",
    "                  y_axis_label=f'Impact ({capability_vector})',\n",
    "                  x_axis_label=f'Stability ({base_column} {change_percentage}%)',\n",
    "                  tools='pan,box_zoom,wheel_zoom,reset,save')\n",
    "\n",
    "    # Plot scatter points\n",
    "    plot.scatter(y=f'Normalized {capability_vector} ({base_column} +{change_percentage}%)',\n",
    "                x=stability_column_name,\n",
    "                size=8,\n",
    "                source=source)\n",
    "\n",
    "    # Calculate average values from the ColumnDataSource\n",
    "    avg_x = source.data[stability_column_name].mean()\n",
    "    avg_y = source.data[f'Normalized {capability_vector} ({base_column} +{change_percentage}%)'].mean()\n",
    "\n",
    "    # Create Span glyphs for average lines\n",
    "    hline = Span(location=avg_y, dimension='width', line_color='red', line_width=2)\n",
    "    vline = Span(location=avg_x, dimension='height', line_color='blue', line_width=2)\n",
    "\n",
    "    # Add average lines to the plot\n",
    "    plot.add_layout(hline)\n",
    "    plot.add_layout(vline)\n",
    "\n",
    "    # Add labels for average lines\n",
    "    plot.add_layout(Label(x=avg_x, y=plot.y_range.end, text=f'Avg {stability_column_name}', text_color='red', text_font_size='10pt', text_align='center'))\n",
    "    plot.add_layout(Label(x=plot.x_range.end, y=avg_y, text=f'Avg Normalized {capability_vector}', text_color='blue', text_font_size='10pt', text_align='center'))\n",
    "\n",
    "    # Add tooltips\n",
    "    hover = HoverTool()\n",
    "    hover.tooltips = [(\"District\", \"@District\")]\n",
    "    plot.add_tools(hover)\n",
    "\n",
    "    # Display the Bokeh plot in the Jupyter Notebook output cell\n",
    "    show(plot, notebook_handle=True)\n",
    "    return existing_data\n",
    "\n",
    "base_Column = \"TotalNPK_315\"\n",
    "CapabilityVector = \"Rice_Production_223\"\n",
    "change_percentage = 20\n",
    "dim = 1\n",
    "\n",
    "existing_data = calculate_and_visualize_impact_stability(G, existing_data.copy(), adjacency_file, base_Column, CapabilityVector, change_percentage, dim)\n",
    "\n",
    "# Display the resulting DataFrame\n",
    "existing_data.head()"
   ]
  },
  {
   "cell_type": "code",
   "execution_count": 21,
   "metadata": {},
   "outputs": [],
   "source": [
    "# Save the resulting DataFrame to a new CSV file if needed\n",
    "existing_data.to_csv('result.csv', index=False)"
   ]
  },
  {
   "cell_type": "code",
   "execution_count": 22,
   "metadata": {},
   "outputs": [
    {
     "data": {
      "text/html": [
       "\n",
       "  <div id=\"e1e2502e-cee6-4191-9754-203d0dc412b9\" data-root-id=\"p1272\" style=\"display: contents;\"></div>\n"
      ]
     },
     "metadata": {},
     "output_type": "display_data"
    },
    {
     "data": {
      "application/javascript": "(function(root) {\n  function embed_document(root) {\n  const docs_json = {\"8bf552d6-fc46-4a97-84e0-10483174a642\":{\"version\":\"3.3.3\",\"title\":\"Bokeh Application\",\"roots\":[{\"type\":\"object\",\"name\":\"Figure\",\"id\":\"p1272\",\"attributes\":{\"x_range\":{\"type\":\"object\",\"name\":\"DataRange1d\",\"id\":\"p1273\"},\"y_range\":{\"type\":\"object\",\"name\":\"DataRange1d\",\"id\":\"p1274\"},\"x_scale\":{\"type\":\"object\",\"name\":\"LinearScale\",\"id\":\"p1282\"},\"y_scale\":{\"type\":\"object\",\"name\":\"LinearScale\",\"id\":\"p1283\"},\"title\":{\"type\":\"object\",\"name\":\"Title\",\"id\":\"p1275\",\"attributes\":{\"text\":\"Impact vs Stability (Rice_Production_223 - TotalNPK_315 20%)\"}},\"renderers\":[{\"type\":\"object\",\"name\":\"GlyphRenderer\",\"id\":\"p1310\",\"attributes\":{\"data_source\":{\"type\":\"object\",\"name\":\"ColumnDataSource\",\"id\":\"p1269\",\"attributes\":{\"selected\":{\"type\":\"object\",\"name\":\"Selection\",\"id\":\"p1270\",\"attributes\":{\"indices\":[],\"line_indices\":[]}},\"selection_policy\":{\"type\":\"object\",\"name\":\"UnionRenderers\",\"id\":\"p1271\"},\"data\":{\"type\":\"map\",\"entries\":[[\"index\",{\"type\":\"ndarray\",\"array\":{\"type\":\"bytes\",\"data\":\"AAAAAAEAAAACAAAAAwAAAAQAAAAFAAAABgAAAAcAAAAIAAAACQAAAAoAAAALAAAADAAAAA0AAAAOAAAADwAAABAAAAARAAAAEgAAABMAAAAUAAAAFQAAABYAAAAXAAAAGAAAABkAAAAaAAAAGwAAABwAAAAdAAAA\"},\"shape\":[30],\"dtype\":\"int32\",\"order\":\"little\"}],[\"District\",{\"type\":\"ndarray\",\"array\":[\"BENGALURU\",\"BENGALURU(R)\",\"RAMANAGARA\",\"CHITRADURGA\",\"DAVANAGERE\",\"KOLAR\",\"CHIKKABALLAPURA\",\"SHIVAMOGGA\",\"TUMAKURU\",\"CHIKKAMAGALURU\",\"DAKSHINA KANNADA\",\"UDUPI\",\"HASSAN\",\"KODAGU\",\"MANDYA\",\"MYSURU\",\"CHAMARAJANAGAR\",\"BELAGAVI\",\"VIJAYAPURA\",\"BAGALKOT\",\"DHARAWAD\",\"GADAG\",\"HAVERI\",\"UTTARA KANNADA\",\"BALLARI\",\"BIDAR\",\"KALABURAGI\",\"YADGIRI\",\"RAICHUR\",\"KOPPAL\"],\"shape\":[30],\"dtype\":\"object\",\"order\":\"little\"}],[\"Rice_Production_223 (TotalNPK_315 +20%)\",{\"type\":\"ndarray\",\"array\":{\"type\":\"bytes\",\"data\":\"ruMKWssO8kCgFPI+kYfuQPbwPfhnjdxAYBXrPiK6+kB1Bm+/+qsRQZKmmp8cSfFAct3H65mJ9UCjJCVSEoIEQfvv2CG8SfxAnmIl8j9jCEHdG4aKs5rtQBkvtnCm5thAoKzDXWCVCEES+rDEwzf+QHqkkUWT3gVBzGUnpRFfBkF2ql1Zz2XyQIWi6mFhhR9BXpxtFPKvA0HQsrioBDsOQQZybY9bwvtALyt60H8J8kAOz0fQrGYHQXLFRqirF+lA80Rj7xfBFUGKNPopuPzyQCbLDXK8mwNBJcjAErk/EEEzI7I6MbQUQcnI9npPWQpB\"},\"shape\":[30],\"dtype\":\"float64\",\"order\":\"little\"}],[\"Rice_Production_223 (TotalNPK_315 -20%)\",{\"type\":\"ndarray\",\"array\":{\"type\":\"bytes\",\"data\":\"fndAWb5m6UBWAH5gZa3lQHwwjRL5rtVA4Vzgb+568kCY2jUiuuQHQQQmALYqX+hA2BnncHwK7kAkKnWzmgH8QEmZKQdVhfNAD2llxOuWAEGAWos9fA/lQOhZ3WLNP9NAu+/Otla4AEECoLlzr870QEV/sKJG0v1AB4HNzJl9/kDg1a6tw9rpQKyqwtL2LRVBdHSAtm/p+kAxSXKTGXwEQaWajKUUK/NAKiwq965f6UC1YqNbE93/QI7LC/x2DeJA7C0mYjZWDUGlOCoZ+qPqQH5dq4h9zvpALTL4Ow3/BUHqADpxre8LQddXRsqg5QFB\"},\"shape\":[30],\"dtype\":\"float64\",\"order\":\"little\"}],[\"Normalized Rice_Production_223 (TotalNPK_315 +20%)\",{\"type\":\"ndarray\",\"array\":{\"type\":\"bytes\",\"data\":\"lkgSYMJFuT/7VvZHm06zP+T98cH6MX8/MHPfnfbkxT9Vi9LgyDXhP2iRdzGKn7c/e+9wXzFawD9CvtHIt5PSP7xd6+K0j8c/A+KTFlu41j+M4BHhplGyPwAAAAAAAAAAd8EkIOPt1j+ZYD3cSp/JP5EtKJ/kB9Q/t0LnRx2R1D+VRRJ6nP+5PwAAAAAAAPA/29uXz1Gz0T9dIAKruPXcPytVtFUi/8Y/REj3J3M6uT8zTXYcoKrVP8pmqvNVAKs/dzy70eKR5T8ozxM57kG7P/R2hsS8ndE/O0oOzpJh3z/PsR5huHLkPzLWcZqE0Ng/\"},\"shape\":[30],\"dtype\":\"float64\",\"order\":\"little\"}],[\"Normalized Rice_Production_223 (TotalNPK_315 -20%)\",{\"type\":\"ndarray\",\"array\":{\"type\":\"bytes\",\"data\":\"lkgSYMJFuT/7VvZHm06zP+T98cH6MX8/MHPfnfbkxT9Ui9LgyDXhP2GRdzGKn7c/d+9wXzFawD9AvtHIt5PSP7xd6+K0j8c/AOKTFlu41j+M4BHhplGyPwAAAAAAAAAAdMEkIOPt1j+ZYD3cSp/JP48tKJ/kB9Q/tULnRx2R1D+VRRJ6nP+5PwAAAAAAAPA/2duXz1Gz0T9bIAKruPXcPytVtFUi/8Y/REj3J3M6uT8xTXYcoKrVP8pmqvNVAKs/dzy70eKR5T8ozxM57kG7P/J2hsS8ndE/OEoOzpJh3z/NsR5huHLkPzDWcZqE0Ng/\"},\"shape\":[30],\"dtype\":\"float64\",\"order\":\"little\"}],[\"New Stability(NPK + 20%)\",{\"type\":\"ndarray\",\"array\":{\"type\":\"bytes\",\"data\":\"RZfj6v+17j+Rje8whSXvPzYIzf9QTOs/vTjTCUx35z94ETTqtX7qP5LXj+yTu+8/SqDGSgSq7z/ylecTAO7uP7YZDBwPdO8/o+Dx5IcD7D+ZUYdnePvqP1gTPBXv1+k/Zk0Npyk+7D9uQ1dclmTuP6gduuABNuw/vGSK5RuA7T+oFOmW/GbsP+Ab9qvnIss/0LM2zpyQ5j/QxRPwqxvvP8fnz6Cf1Ok/xFVPtvT64j8DZjTvdfHuP9JtaqoHHeY/pnHpH40E5j9rPt9kX5nqP4AMnAX5fe8/oM6yfPYC7T/0KVYsxSbqPzpx4tGQfu0/\"},\"shape\":[30],\"dtype\":\"float64\",\"order\":\"little\"}],[\"New Stability(NPK - 20%)\",{\"type\":\"ndarray\",\"array\":{\"type\":\"bytes\",\"data\":\"RZfj6v+17j+Rje8whSXvPzYIzf9QTOs/vTjTCUx35z94ETTqtX7qP5LXj+yTu+8/S6DGSgSq7z/ylecTAO7uP7cZDBwPdO8/pODx5IcD7D+aUYdnePvqP1gTPBXv1+k/Z00Npyk+7D9vQ1dclmTuP6kduuABNuw/vGSK5RuA7T+pFOmW/GbsP+Ab9qvnIss/0LM2zpyQ5j/PxRPwqxvvP8jnz6Cf1Ok/xFVPtvT64j8EZjTvdfHuP9JtaqoHHeY/pHHpH40E5j9sPt9kX5nqP38MnAX5fe8/oM6yfPYC7T/0KVYsxSbqPzpx4tGQfu0/\"},\"shape\":[30],\"dtype\":\"float64\",\"order\":\"little\"}]]}}},\"view\":{\"type\":\"object\",\"name\":\"CDSView\",\"id\":\"p1311\",\"attributes\":{\"filter\":{\"type\":\"object\",\"name\":\"AllIndices\",\"id\":\"p1312\"}}},\"glyph\":{\"type\":\"object\",\"name\":\"Scatter\",\"id\":\"p1307\",\"attributes\":{\"x\":{\"type\":\"field\",\"field\":\"New Stability(NPK + 20%)\"},\"y\":{\"type\":\"field\",\"field\":\"Normalized Rice_Production_223 (TotalNPK_315 +20%)\"},\"size\":{\"type\":\"value\",\"value\":8},\"line_color\":{\"type\":\"value\",\"value\":\"#1f77b4\"},\"fill_color\":{\"type\":\"value\",\"value\":\"#1f77b4\"}}},\"nonselection_glyph\":{\"type\":\"object\",\"name\":\"Scatter\",\"id\":\"p1308\",\"attributes\":{\"x\":{\"type\":\"field\",\"field\":\"New Stability(NPK + 20%)\"},\"y\":{\"type\":\"field\",\"field\":\"Normalized Rice_Production_223 (TotalNPK_315 +20%)\"},\"size\":{\"type\":\"value\",\"value\":8},\"line_color\":{\"type\":\"value\",\"value\":\"#1f77b4\"},\"line_alpha\":{\"type\":\"value\",\"value\":0.1},\"fill_color\":{\"type\":\"value\",\"value\":\"#1f77b4\"},\"fill_alpha\":{\"type\":\"value\",\"value\":0.1},\"hatch_alpha\":{\"type\":\"value\",\"value\":0.1}}},\"muted_glyph\":{\"type\":\"object\",\"name\":\"Scatter\",\"id\":\"p1309\",\"attributes\":{\"x\":{\"type\":\"field\",\"field\":\"New Stability(NPK + 20%)\"},\"y\":{\"type\":\"field\",\"field\":\"Normalized Rice_Production_223 (TotalNPK_315 +20%)\"},\"size\":{\"type\":\"value\",\"value\":8},\"line_color\":{\"type\":\"value\",\"value\":\"#1f77b4\"},\"line_alpha\":{\"type\":\"value\",\"value\":0.2},\"fill_color\":{\"type\":\"value\",\"value\":\"#1f77b4\"},\"fill_alpha\":{\"type\":\"value\",\"value\":0.2},\"hatch_alpha\":{\"type\":\"value\",\"value\":0.2}}}}}],\"toolbar\":{\"type\":\"object\",\"name\":\"Toolbar\",\"id\":\"p1281\",\"attributes\":{\"tools\":[{\"type\":\"object\",\"name\":\"PanTool\",\"id\":\"p1294\"},{\"type\":\"object\",\"name\":\"BoxZoomTool\",\"id\":\"p1295\",\"attributes\":{\"overlay\":{\"type\":\"object\",\"name\":\"BoxAnnotation\",\"id\":\"p1296\",\"attributes\":{\"syncable\":false,\"level\":\"overlay\",\"visible\":false,\"left\":{\"type\":\"number\",\"value\":\"nan\"},\"right\":{\"type\":\"number\",\"value\":\"nan\"},\"top\":{\"type\":\"number\",\"value\":\"nan\"},\"bottom\":{\"type\":\"number\",\"value\":\"nan\"},\"left_units\":\"canvas\",\"right_units\":\"canvas\",\"top_units\":\"canvas\",\"bottom_units\":\"canvas\",\"line_color\":\"black\",\"line_alpha\":1.0,\"line_width\":2,\"line_dash\":[4,4],\"fill_color\":\"lightgrey\",\"fill_alpha\":0.5}}}},{\"type\":\"object\",\"name\":\"WheelZoomTool\",\"id\":\"p1301\",\"attributes\":{\"renderers\":\"auto\"}},{\"type\":\"object\",\"name\":\"ResetTool\",\"id\":\"p1302\"},{\"type\":\"object\",\"name\":\"SaveTool\",\"id\":\"p1303\"},{\"type\":\"object\",\"name\":\"HoverTool\",\"id\":\"p1317\",\"attributes\":{\"renderers\":\"auto\",\"tooltips\":[[\"District\",\"@District\"]]}}]}},\"left\":[{\"type\":\"object\",\"name\":\"LinearAxis\",\"id\":\"p1289\",\"attributes\":{\"ticker\":{\"type\":\"object\",\"name\":\"BasicTicker\",\"id\":\"p1290\",\"attributes\":{\"mantissas\":[1,2,5]}},\"formatter\":{\"type\":\"object\",\"name\":\"BasicTickFormatter\",\"id\":\"p1291\"},\"axis_label\":\"Impact (Rice_Production_223)\",\"major_label_policy\":{\"type\":\"object\",\"name\":\"AllLabels\",\"id\":\"p1292\"}}}],\"below\":[{\"type\":\"object\",\"name\":\"LinearAxis\",\"id\":\"p1284\",\"attributes\":{\"ticker\":{\"type\":\"object\",\"name\":\"BasicTicker\",\"id\":\"p1285\",\"attributes\":{\"mantissas\":[1,2,5]}},\"formatter\":{\"type\":\"object\",\"name\":\"BasicTickFormatter\",\"id\":\"p1286\"},\"axis_label\":\"Stability (TotalNPK_315 20%)\",\"major_label_policy\":{\"type\":\"object\",\"name\":\"AllLabels\",\"id\":\"p1287\"}}}],\"center\":[{\"type\":\"object\",\"name\":\"Grid\",\"id\":\"p1288\",\"attributes\":{\"axis\":{\"id\":\"p1284\"}}},{\"type\":\"object\",\"name\":\"Grid\",\"id\":\"p1293\",\"attributes\":{\"dimension\":1,\"axis\":{\"id\":\"p1289\"}}},{\"type\":\"object\",\"name\":\"Span\",\"id\":\"p1313\",\"attributes\":{\"location\":0.2759096277888989,\"line_color\":\"red\",\"line_width\":2}},{\"type\":\"object\",\"name\":\"Span\",\"id\":\"p1314\",\"attributes\":{\"location\":0.8474754309008296,\"dimension\":\"height\",\"line_color\":\"blue\",\"line_width\":2}},{\"type\":\"object\",\"name\":\"Label\",\"id\":\"p1315\",\"attributes\":{\"text\":\"Avg New Stability(NPK + 20%)\",\"text_color\":\"red\",\"text_font_size\":\"10pt\",\"text_align\":\"center\",\"x\":0.8474754309008296,\"y\":{\"type\":\"number\",\"value\":\"nan\"}}},{\"type\":\"object\",\"name\":\"Label\",\"id\":\"p1316\",\"attributes\":{\"text\":\"Avg Normalized Rice_Production_223\",\"text_color\":\"blue\",\"text_font_size\":\"10pt\",\"text_align\":\"center\",\"x\":{\"type\":\"number\",\"value\":\"nan\"},\"y\":0.2759096277888989}}]}}]}};\n  const render_items = [{\"docid\":\"8bf552d6-fc46-4a97-84e0-10483174a642\",\"roots\":{\"p1272\":\"e1e2502e-cee6-4191-9754-203d0dc412b9\"},\"root_ids\":[\"p1272\"],\"notebook_comms_target\":\"p1318\"}];\n  root.Bokeh.embed.embed_items_notebook(docs_json, render_items);\n  }\n  if (root.Bokeh !== undefined) {\n    embed_document(root);\n  } else {\n    let attempts = 0;\n    const timer = setInterval(function(root) {\n      if (root.Bokeh !== undefined) {\n        clearInterval(timer);\n        embed_document(root);\n      } else {\n        attempts++;\n        if (attempts > 100) {\n          clearInterval(timer);\n          console.log(\"Bokeh: ERROR: Unable to run BokehJS code because BokehJS library is missing\");\n        }\n      }\n    }, 10, root)\n  }\n})(window);",
      "application/vnd.bokehjs_exec.v0+json": ""
     },
     "metadata": {
      "application/vnd.bokehjs_exec.v0+json": {
       "id": "p1272"
      }
     },
     "output_type": "display_data"
    },
    {
     "data": {
      "text/html": [
       "<div>\n",
       "<style scoped>\n",
       "    .dataframe tbody tr th:only-of-type {\n",
       "        vertical-align: middle;\n",
       "    }\n",
       "\n",
       "    .dataframe tbody tr th {\n",
       "        vertical-align: top;\n",
       "    }\n",
       "\n",
       "    .dataframe thead th {\n",
       "        text-align: right;\n",
       "    }\n",
       "</style>\n",
       "<table border=\"1\" class=\"dataframe\">\n",
       "  <thead>\n",
       "    <tr style=\"text-align: right;\">\n",
       "      <th></th>\n",
       "      <th>District</th>\n",
       "      <th>Rice_Production_223 (TotalNPK_315 +20%)</th>\n",
       "      <th>Rice_Production_223 (TotalNPK_315 -20%)</th>\n",
       "      <th>Normalized Rice_Production_223 (TotalNPK_315 +20%)</th>\n",
       "      <th>Normalized Rice_Production_223 (TotalNPK_315 -20%)</th>\n",
       "      <th>New Stability(NPK + 20%)</th>\n",
       "      <th>New Stability(NPK - 20%)</th>\n",
       "    </tr>\n",
       "  </thead>\n",
       "  <tbody>\n",
       "    <tr>\n",
       "      <th>0</th>\n",
       "      <td>BENGALURU</td>\n",
       "      <td>73964.709483</td>\n",
       "      <td>52021.948395</td>\n",
       "      <td>0.098721</td>\n",
       "      <td>0.098721</td>\n",
       "      <td>0.959717</td>\n",
       "      <td>0.959717</td>\n",
       "    </tr>\n",
       "    <tr>\n",
       "      <th>1</th>\n",
       "      <td>BENGALURU(R)</td>\n",
       "      <td>62524.538934</td>\n",
       "      <td>44395.168029</td>\n",
       "      <td>0.075418</td>\n",
       "      <td>0.075418</td>\n",
       "      <td>0.973330</td>\n",
       "      <td>0.973330</td>\n",
       "    </tr>\n",
       "    <tr>\n",
       "      <th>2</th>\n",
       "      <td>RAMANAGARA</td>\n",
       "      <td>29237.624526</td>\n",
       "      <td>22203.891757</td>\n",
       "      <td>0.007616</td>\n",
       "      <td>0.007616</td>\n",
       "      <td>0.853066</td>\n",
       "      <td>0.853066</td>\n",
       "    </tr>\n",
       "    <tr>\n",
       "      <th>3</th>\n",
       "      <td>CHITRADURGA</td>\n",
       "      <td>109474.140361</td>\n",
       "      <td>75694.902314</td>\n",
       "      <td>0.171050</td>\n",
       "      <td>0.171050</td>\n",
       "      <td>0.733313</td>\n",
       "      <td>0.733313</td>\n",
       "    </tr>\n",
       "    <tr>\n",
       "      <th>4</th>\n",
       "      <td>DAVANAGERE</td>\n",
       "      <td>289534.686947</td>\n",
       "      <td>195735.266704</td>\n",
       "      <td>0.537816</td>\n",
       "      <td>0.537816</td>\n",
       "      <td>0.827968</td>\n",
       "      <td>0.827968</td>\n",
       "    </tr>\n",
       "  </tbody>\n",
       "</table>\n",
       "</div>"
      ],
      "text/plain": [
       "       District  Rice_Production_223 (TotalNPK_315 +20%)  \\\n",
       "0     BENGALURU                             73964.709483   \n",
       "1  BENGALURU(R)                             62524.538934   \n",
       "2    RAMANAGARA                             29237.624526   \n",
       "3   CHITRADURGA                            109474.140361   \n",
       "4    DAVANAGERE                            289534.686947   \n",
       "\n",
       "   Rice_Production_223 (TotalNPK_315 -20%)  \\\n",
       "0                             52021.948395   \n",
       "1                             44395.168029   \n",
       "2                             22203.891757   \n",
       "3                             75694.902314   \n",
       "4                            195735.266704   \n",
       "\n",
       "   Normalized Rice_Production_223 (TotalNPK_315 +20%)  \\\n",
       "0                                           0.098721    \n",
       "1                                           0.075418    \n",
       "2                                           0.007616    \n",
       "3                                           0.171050    \n",
       "4                                           0.537816    \n",
       "\n",
       "   Normalized Rice_Production_223 (TotalNPK_315 -20%)  \\\n",
       "0                                           0.098721    \n",
       "1                                           0.075418    \n",
       "2                                           0.007616    \n",
       "3                                           0.171050    \n",
       "4                                           0.537816    \n",
       "\n",
       "   New Stability(NPK + 20%)  New Stability(NPK - 20%)  \n",
       "0                  0.959717                  0.959717  \n",
       "1                  0.973330                  0.973330  \n",
       "2                  0.853066                  0.853066  \n",
       "3                  0.733313                  0.733313  \n",
       "4                  0.827968                  0.827968  "
      ]
     },
     "execution_count": 22,
     "metadata": {},
     "output_type": "execute_result"
    }
   ],
   "source": [
    "base_Column = \"TotalNPK_315\"\n",
    "CapabilityVector = \"Rice_Production_223\"\n",
    "change_percentage = 20\n",
    "dim = 1\n",
    "\n",
    "existing_data = calculate_and_visualize_impact_stability(G, existing_data.copy(), adjacency_file, base_Column, CapabilityVector, change_percentage, dim)\n",
    "\n",
    "# Display the resulting DataFrame\n",
    "existing_data.head()"
   ]
  },
  {
   "cell_type": "code",
   "execution_count": 23,
   "metadata": {},
   "outputs": [
    {
     "data": {
      "text/html": [
       "\n",
       "  <div id=\"bb04db91-9b2c-4f22-b775-e0bdca18394d\" data-root-id=\"p1326\" style=\"display: contents;\"></div>\n"
      ]
     },
     "metadata": {},
     "output_type": "display_data"
    },
    {
     "data": {
      "application/javascript": "(function(root) {\n  function embed_document(root) {\n  const docs_json = {\"f9fd6bf8-9b38-4d5e-a704-1933b0b15991\":{\"version\":\"3.3.3\",\"title\":\"Bokeh Application\",\"roots\":[{\"type\":\"object\",\"name\":\"Figure\",\"id\":\"p1326\",\"attributes\":{\"sizing_mode\":\"stretch_width\",\"x_range\":{\"type\":\"object\",\"name\":\"FactorRange\",\"id\":\"p1336\",\"attributes\":{\"factors\":[\"BENGALURU\",\"BENGALURU(R)\",\"RAMANAGARA\",\"CHITRADURGA\",\"DAVANAGERE\",\"KOLAR\",\"CHIKKABALLAPURA\",\"SHIVAMOGGA\",\"TUMAKURU\",\"CHIKKAMAGALURU\",\"DAKSHINA KANNADA\",\"UDUPI\",\"HASSAN\",\"KODAGU\",\"MANDYA\",\"MYSURU\",\"CHAMARAJANAGAR\",\"BELAGAVI\",\"VIJAYAPURA\",\"BAGALKOT\",\"DHARAWAD\",\"GADAG\",\"HAVERI\",\"UTTARA KANNADA\",\"BALLARI\",\"BIDAR\",\"KALABURAGI\",\"YADGIRI\",\"RAICHUR\",\"KOPPAL\"]}},\"y_range\":{\"type\":\"object\",\"name\":\"DataRange1d\",\"id\":\"p1328\"},\"x_scale\":{\"type\":\"object\",\"name\":\"CategoricalScale\",\"id\":\"p1337\"},\"y_scale\":{\"type\":\"object\",\"name\":\"LinearScale\",\"id\":\"p1338\"},\"title\":{\"type\":\"object\",\"name\":\"Title\",\"id\":\"p1329\",\"attributes\":{\"text\":\"Rice_Production_223 vs District\"}},\"renderers\":[{\"type\":\"object\",\"name\":\"GlyphRenderer\",\"id\":\"p1358\",\"attributes\":{\"data_source\":{\"type\":\"object\",\"name\":\"ColumnDataSource\",\"id\":\"p1349\",\"attributes\":{\"selected\":{\"type\":\"object\",\"name\":\"Selection\",\"id\":\"p1350\",\"attributes\":{\"indices\":[],\"line_indices\":[]}},\"selection_policy\":{\"type\":\"object\",\"name\":\"UnionRenderers\",\"id\":\"p1351\"},\"data\":{\"type\":\"map\",\"entries\":[[\"x\",[\"BENGALURU\",\"BENGALURU(R)\",\"RAMANAGARA\",\"CHITRADURGA\",\"DAVANAGERE\",\"KOLAR\",\"CHIKKABALLAPURA\",\"SHIVAMOGGA\",\"TUMAKURU\",\"CHIKKAMAGALURU\",\"DAKSHINA KANNADA\",\"UDUPI\",\"HASSAN\",\"KODAGU\",\"MANDYA\",\"MYSURU\",\"CHAMARAJANAGAR\",\"BELAGAVI\",\"VIJAYAPURA\",\"BAGALKOT\",\"DHARAWAD\",\"GADAG\",\"HAVERI\",\"UTTARA KANNADA\",\"BALLARI\",\"BIDAR\",\"KALABURAGI\",\"YADGIRI\",\"RAICHUR\",\"KOPPAL\"]],[\"y\",{\"type\":\"ndarray\",\"array\":{\"type\":\"bytes\",\"data\":\"MA0AADIJAABgLwAA1hEAACF4BwBgAwAAigoAAM7fBQC6ZQAAxa8BAOwFAgCsGwIAWTECAB9RAQAPwwMAs2cFACCzAACQtQIAqgAAAFUAAADFhAAAWhwAAO7pAQCVVQIAR0oGAPQHAADQHgAAk20DADaDBwAxtwMA\"},\"shape\":[30],\"dtype\":\"int32\",\"order\":\"little\"}]]}}},\"view\":{\"type\":\"object\",\"name\":\"CDSView\",\"id\":\"p1359\",\"attributes\":{\"filter\":{\"type\":\"object\",\"name\":\"AllIndices\",\"id\":\"p1360\"}}},\"glyph\":{\"type\":\"object\",\"name\":\"VBar\",\"id\":\"p1355\",\"attributes\":{\"x\":{\"type\":\"field\",\"field\":\"x\"},\"width\":{\"type\":\"value\",\"value\":0.8},\"top\":{\"type\":\"field\",\"field\":\"y\"},\"line_color\":{\"type\":\"value\",\"value\":\"#1f77b4\"},\"fill_color\":{\"type\":\"value\",\"value\":\"#1f77b4\"},\"hatch_color\":{\"type\":\"value\",\"value\":\"#1f77b4\"}}},\"nonselection_glyph\":{\"type\":\"object\",\"name\":\"VBar\",\"id\":\"p1356\",\"attributes\":{\"x\":{\"type\":\"field\",\"field\":\"x\"},\"width\":{\"type\":\"value\",\"value\":0.8},\"top\":{\"type\":\"field\",\"field\":\"y\"},\"line_color\":{\"type\":\"value\",\"value\":\"#1f77b4\"},\"line_alpha\":{\"type\":\"value\",\"value\":0.1},\"fill_color\":{\"type\":\"value\",\"value\":\"#1f77b4\"},\"fill_alpha\":{\"type\":\"value\",\"value\":0.1},\"hatch_color\":{\"type\":\"value\",\"value\":\"#1f77b4\"},\"hatch_alpha\":{\"type\":\"value\",\"value\":0.1}}},\"muted_glyph\":{\"type\":\"object\",\"name\":\"VBar\",\"id\":\"p1357\",\"attributes\":{\"x\":{\"type\":\"field\",\"field\":\"x\"},\"width\":{\"type\":\"value\",\"value\":0.8},\"top\":{\"type\":\"field\",\"field\":\"y\"},\"line_color\":{\"type\":\"value\",\"value\":\"#1f77b4\"},\"line_alpha\":{\"type\":\"value\",\"value\":0.2},\"fill_color\":{\"type\":\"value\",\"value\":\"#1f77b4\"},\"fill_alpha\":{\"type\":\"value\",\"value\":0.2},\"hatch_color\":{\"type\":\"value\",\"value\":\"#1f77b4\"},\"hatch_alpha\":{\"type\":\"value\",\"value\":0.2}}}}}],\"toolbar\":{\"type\":\"object\",\"name\":\"Toolbar\",\"id\":\"p1335\",\"attributes\":{\"tools\":[{\"type\":\"object\",\"name\":\"HoverTool\",\"id\":\"p1363\",\"attributes\":{\"renderers\":\"auto\",\"tooltips\":[[\"District\",\"@x\"],[\"Rice_Production_223\",\"@y\"]]}}]}},\"toolbar_location\":null,\"left\":[{\"type\":\"object\",\"name\":\"LinearAxis\",\"id\":\"p1344\",\"attributes\":{\"ticker\":{\"type\":\"object\",\"name\":\"BasicTicker\",\"id\":\"p1345\",\"attributes\":{\"mantissas\":[1,2,5]}},\"formatter\":{\"type\":\"object\",\"name\":\"BasicTickFormatter\",\"id\":\"p1346\"},\"axis_label\":\"Rice_Production_223\",\"major_label_policy\":{\"type\":\"object\",\"name\":\"AllLabels\",\"id\":\"p1347\"}}}],\"below\":[{\"type\":\"object\",\"name\":\"CategoricalAxis\",\"id\":\"p1339\",\"attributes\":{\"ticker\":{\"type\":\"object\",\"name\":\"CategoricalTicker\",\"id\":\"p1340\"},\"formatter\":{\"type\":\"object\",\"name\":\"CategoricalTickFormatter\",\"id\":\"p1341\"},\"major_label_orientation\":\"vertical\",\"major_label_policy\":{\"type\":\"object\",\"name\":\"AllLabels\",\"id\":\"p1342\"}}}],\"center\":[{\"type\":\"object\",\"name\":\"Grid\",\"id\":\"p1343\",\"attributes\":{\"axis\":{\"id\":\"p1339\"}}},{\"type\":\"object\",\"name\":\"Grid\",\"id\":\"p1348\",\"attributes\":{\"dimension\":1,\"axis\":{\"id\":\"p1344\"}}},{\"type\":\"object\",\"name\":\"Legend\",\"id\":\"p1361\",\"attributes\":{\"click_policy\":\"hide\",\"items\":[{\"type\":\"object\",\"name\":\"LegendItem\",\"id\":\"p1362\",\"attributes\":{\"label\":{\"type\":\"value\",\"value\":\"Rice_Production_223\"},\"renderers\":[{\"id\":\"p1358\"}]}}]}}]}}]}};\n  const render_items = [{\"docid\":\"f9fd6bf8-9b38-4d5e-a704-1933b0b15991\",\"roots\":{\"p1326\":\"bb04db91-9b2c-4f22-b775-e0bdca18394d\"},\"root_ids\":[\"p1326\"]}];\n  root.Bokeh.embed.embed_items_notebook(docs_json, render_items);\n  }\n  if (root.Bokeh !== undefined) {\n    embed_document(root);\n  } else {\n    let attempts = 0;\n    const timer = setInterval(function(root) {\n      if (root.Bokeh !== undefined) {\n        clearInterval(timer);\n        embed_document(root);\n      } else {\n        attempts++;\n        if (attempts > 100) {\n          clearInterval(timer);\n          console.log(\"Bokeh: ERROR: Unable to run BokehJS code because BokehJS library is missing\");\n        }\n      }\n    }, 10, root)\n  }\n})(window);",
      "application/vnd.bokehjs_exec.v0+json": ""
     },
     "metadata": {
      "application/vnd.bokehjs_exec.v0+json": {
       "id": "p1326"
      }
     },
     "output_type": "display_data"
    },
    {
     "data": {
      "text/html": [
       "\n",
       "  <div id=\"a8372d65-986d-4391-909b-e34136eff72e\" data-root-id=\"p1365\" style=\"display: contents;\"></div>\n"
      ]
     },
     "metadata": {},
     "output_type": "display_data"
    },
    {
     "data": {
      "application/javascript": "(function(root) {\n  function embed_document(root) {\n  const docs_json = {\"e4790c3d-393d-4317-b1be-e9918b7e2015\":{\"version\":\"3.3.3\",\"title\":\"Bokeh Application\",\"roots\":[{\"type\":\"object\",\"name\":\"Figure\",\"id\":\"p1365\",\"attributes\":{\"sizing_mode\":\"stretch_width\",\"x_range\":{\"type\":\"object\",\"name\":\"FactorRange\",\"id\":\"p1375\",\"attributes\":{\"factors\":[\"BENGALURU\",\"BENGALURU(R)\",\"RAMANAGARA\",\"CHITRADURGA\",\"DAVANAGERE\",\"KOLAR\",\"CHIKKABALLAPURA\",\"SHIVAMOGGA\",\"TUMAKURU\",\"CHIKKAMAGALURU\",\"DAKSHINA KANNADA\",\"UDUPI\",\"HASSAN\",\"KODAGU\",\"MANDYA\",\"MYSURU\",\"CHAMARAJANAGAR\",\"BELAGAVI\",\"VIJAYAPURA\",\"BAGALKOT\",\"DHARAWAD\",\"GADAG\",\"HAVERI\",\"UTTARA KANNADA\",\"BALLARI\",\"BIDAR\",\"KALABURAGI\",\"YADGIRI\",\"RAICHUR\",\"KOPPAL\"]}},\"y_range\":{\"type\":\"object\",\"name\":\"DataRange1d\",\"id\":\"p1367\"},\"x_scale\":{\"type\":\"object\",\"name\":\"CategoricalScale\",\"id\":\"p1376\"},\"y_scale\":{\"type\":\"object\",\"name\":\"LinearScale\",\"id\":\"p1377\"},\"title\":{\"type\":\"object\",\"name\":\"Title\",\"id\":\"p1368\",\"attributes\":{\"text\":\"Jowar_Yield_278 vs District\"}},\"renderers\":[{\"type\":\"object\",\"name\":\"GlyphRenderer\",\"id\":\"p1397\",\"attributes\":{\"data_source\":{\"type\":\"object\",\"name\":\"ColumnDataSource\",\"id\":\"p1388\",\"attributes\":{\"selected\":{\"type\":\"object\",\"name\":\"Selection\",\"id\":\"p1389\",\"attributes\":{\"indices\":[],\"line_indices\":[]}},\"selection_policy\":{\"type\":\"object\",\"name\":\"UnionRenderers\",\"id\":\"p1390\"},\"data\":{\"type\":\"map\",\"entries\":[[\"x\",[\"BENGALURU\",\"BENGALURU(R)\",\"RAMANAGARA\",\"CHITRADURGA\",\"DAVANAGERE\",\"KOLAR\",\"CHIKKABALLAPURA\",\"SHIVAMOGGA\",\"TUMAKURU\",\"CHIKKAMAGALURU\",\"DAKSHINA KANNADA\",\"UDUPI\",\"HASSAN\",\"KODAGU\",\"MANDYA\",\"MYSURU\",\"CHAMARAJANAGAR\",\"BELAGAVI\",\"VIJAYAPURA\",\"BAGALKOT\",\"DHARAWAD\",\"GADAG\",\"HAVERI\",\"UTTARA KANNADA\",\"BALLARI\",\"BIDAR\",\"KALABURAGI\",\"YADGIRI\",\"RAICHUR\",\"KOPPAL\"]],[\"y\",{\"type\":\"ndarray\",\"array\":{\"type\":\"bytes\",\"data\":\"AwYAAAAAAAAAAAAA2AMAAHcIAAAAAAAAAAAAAMIIAABCBQAAgQMAAAAAAAAAAAAAlQMAAAAAAADKAwAAUAQAAHMBAACwBAAAzgMAAMYDAAA4BAAAAQQAALcEAAAAAAAADwcAACIEAAB6BAAArQQAAE8FAAAgBQAA\"},\"shape\":[30],\"dtype\":\"int32\",\"order\":\"little\"}]]}}},\"view\":{\"type\":\"object\",\"name\":\"CDSView\",\"id\":\"p1398\",\"attributes\":{\"filter\":{\"type\":\"object\",\"name\":\"AllIndices\",\"id\":\"p1399\"}}},\"glyph\":{\"type\":\"object\",\"name\":\"VBar\",\"id\":\"p1394\",\"attributes\":{\"x\":{\"type\":\"field\",\"field\":\"x\"},\"width\":{\"type\":\"value\",\"value\":0.8},\"top\":{\"type\":\"field\",\"field\":\"y\"},\"line_color\":{\"type\":\"value\",\"value\":\"#aec7e8\"},\"fill_color\":{\"type\":\"value\",\"value\":\"#aec7e8\"},\"hatch_color\":{\"type\":\"value\",\"value\":\"#aec7e8\"}}},\"nonselection_glyph\":{\"type\":\"object\",\"name\":\"VBar\",\"id\":\"p1395\",\"attributes\":{\"x\":{\"type\":\"field\",\"field\":\"x\"},\"width\":{\"type\":\"value\",\"value\":0.8},\"top\":{\"type\":\"field\",\"field\":\"y\"},\"line_color\":{\"type\":\"value\",\"value\":\"#aec7e8\"},\"line_alpha\":{\"type\":\"value\",\"value\":0.1},\"fill_color\":{\"type\":\"value\",\"value\":\"#aec7e8\"},\"fill_alpha\":{\"type\":\"value\",\"value\":0.1},\"hatch_color\":{\"type\":\"value\",\"value\":\"#aec7e8\"},\"hatch_alpha\":{\"type\":\"value\",\"value\":0.1}}},\"muted_glyph\":{\"type\":\"object\",\"name\":\"VBar\",\"id\":\"p1396\",\"attributes\":{\"x\":{\"type\":\"field\",\"field\":\"x\"},\"width\":{\"type\":\"value\",\"value\":0.8},\"top\":{\"type\":\"field\",\"field\":\"y\"},\"line_color\":{\"type\":\"value\",\"value\":\"#aec7e8\"},\"line_alpha\":{\"type\":\"value\",\"value\":0.2},\"fill_color\":{\"type\":\"value\",\"value\":\"#aec7e8\"},\"fill_alpha\":{\"type\":\"value\",\"value\":0.2},\"hatch_color\":{\"type\":\"value\",\"value\":\"#aec7e8\"},\"hatch_alpha\":{\"type\":\"value\",\"value\":0.2}}}}}],\"toolbar\":{\"type\":\"object\",\"name\":\"Toolbar\",\"id\":\"p1374\",\"attributes\":{\"tools\":[{\"type\":\"object\",\"name\":\"HoverTool\",\"id\":\"p1402\",\"attributes\":{\"renderers\":\"auto\",\"tooltips\":[[\"District\",\"@x\"],[\"Jowar_Yield_278\",\"@y\"]]}}]}},\"toolbar_location\":null,\"left\":[{\"type\":\"object\",\"name\":\"LinearAxis\",\"id\":\"p1383\",\"attributes\":{\"ticker\":{\"type\":\"object\",\"name\":\"BasicTicker\",\"id\":\"p1384\",\"attributes\":{\"mantissas\":[1,2,5]}},\"formatter\":{\"type\":\"object\",\"name\":\"BasicTickFormatter\",\"id\":\"p1385\"},\"axis_label\":\"Jowar_Yield_278\",\"major_label_policy\":{\"type\":\"object\",\"name\":\"AllLabels\",\"id\":\"p1386\"}}}],\"below\":[{\"type\":\"object\",\"name\":\"CategoricalAxis\",\"id\":\"p1378\",\"attributes\":{\"ticker\":{\"type\":\"object\",\"name\":\"CategoricalTicker\",\"id\":\"p1379\"},\"formatter\":{\"type\":\"object\",\"name\":\"CategoricalTickFormatter\",\"id\":\"p1380\"},\"major_label_orientation\":\"vertical\",\"major_label_policy\":{\"type\":\"object\",\"name\":\"AllLabels\",\"id\":\"p1381\"}}}],\"center\":[{\"type\":\"object\",\"name\":\"Grid\",\"id\":\"p1382\",\"attributes\":{\"axis\":{\"id\":\"p1378\"}}},{\"type\":\"object\",\"name\":\"Grid\",\"id\":\"p1387\",\"attributes\":{\"dimension\":1,\"axis\":{\"id\":\"p1383\"}}},{\"type\":\"object\",\"name\":\"Legend\",\"id\":\"p1400\",\"attributes\":{\"click_policy\":\"hide\",\"items\":[{\"type\":\"object\",\"name\":\"LegendItem\",\"id\":\"p1401\",\"attributes\":{\"label\":{\"type\":\"value\",\"value\":\"Jowar_Yield_278\"},\"renderers\":[{\"id\":\"p1397\"}]}}]}}]}}]}};\n  const render_items = [{\"docid\":\"e4790c3d-393d-4317-b1be-e9918b7e2015\",\"roots\":{\"p1365\":\"a8372d65-986d-4391-909b-e34136eff72e\"},\"root_ids\":[\"p1365\"]}];\n  root.Bokeh.embed.embed_items_notebook(docs_json, render_items);\n  }\n  if (root.Bokeh !== undefined) {\n    embed_document(root);\n  } else {\n    let attempts = 0;\n    const timer = setInterval(function(root) {\n      if (root.Bokeh !== undefined) {\n        clearInterval(timer);\n        embed_document(root);\n      } else {\n        attempts++;\n        if (attempts > 100) {\n          clearInterval(timer);\n          console.log(\"Bokeh: ERROR: Unable to run BokehJS code because BokehJS library is missing\");\n        }\n      }\n    }, 10, root)\n  }\n})(window);",
      "application/vnd.bokehjs_exec.v0+json": ""
     },
     "metadata": {
      "application/vnd.bokehjs_exec.v0+json": {
       "id": "p1365"
      }
     },
     "output_type": "display_data"
    },
    {
     "data": {
      "text/html": [
       "\n",
       "  <div id=\"c4616e4d-e821-4cf9-9eca-60e56d5d7d7b\" data-root-id=\"p1404\" style=\"display: contents;\"></div>\n"
      ]
     },
     "metadata": {},
     "output_type": "display_data"
    },
    {
     "data": {
      "application/javascript": "(function(root) {\n  function embed_document(root) {\n  const docs_json = {\"c094cd47-d1e6-4f87-b1f0-de91b98f2a87\":{\"version\":\"3.3.3\",\"title\":\"Bokeh Application\",\"roots\":[{\"type\":\"object\",\"name\":\"Figure\",\"id\":\"p1404\",\"attributes\":{\"sizing_mode\":\"stretch_width\",\"x_range\":{\"type\":\"object\",\"name\":\"FactorRange\",\"id\":\"p1414\",\"attributes\":{\"factors\":[\"BENGALURU\",\"BENGALURU(R)\",\"RAMANAGARA\",\"CHITRADURGA\",\"DAVANAGERE\",\"KOLAR\",\"CHIKKABALLAPURA\",\"SHIVAMOGGA\",\"TUMAKURU\",\"CHIKKAMAGALURU\",\"DAKSHINA KANNADA\",\"UDUPI\",\"HASSAN\",\"KODAGU\",\"MANDYA\",\"MYSURU\",\"CHAMARAJANAGAR\",\"BELAGAVI\",\"VIJAYAPURA\",\"BAGALKOT\",\"DHARAWAD\",\"GADAG\",\"HAVERI\",\"UTTARA KANNADA\",\"BALLARI\",\"BIDAR\",\"KALABURAGI\",\"YADGIRI\",\"RAICHUR\",\"KOPPAL\"]}},\"y_range\":{\"type\":\"object\",\"name\":\"DataRange1d\",\"id\":\"p1406\"},\"x_scale\":{\"type\":\"object\",\"name\":\"CategoricalScale\",\"id\":\"p1415\"},\"y_scale\":{\"type\":\"object\",\"name\":\"LinearScale\",\"id\":\"p1416\"},\"title\":{\"type\":\"object\",\"name\":\"Title\",\"id\":\"p1407\",\"attributes\":{\"text\":\"Maize_Production_226 vs District\"}},\"renderers\":[{\"type\":\"object\",\"name\":\"GlyphRenderer\",\"id\":\"p1436\",\"attributes\":{\"data_source\":{\"type\":\"object\",\"name\":\"ColumnDataSource\",\"id\":\"p1427\",\"attributes\":{\"selected\":{\"type\":\"object\",\"name\":\"Selection\",\"id\":\"p1428\",\"attributes\":{\"indices\":[],\"line_indices\":[]}},\"selection_policy\":{\"type\":\"object\",\"name\":\"UnionRenderers\",\"id\":\"p1429\"},\"data\":{\"type\":\"map\",\"entries\":[[\"x\",[\"BENGALURU\",\"BENGALURU(R)\",\"RAMANAGARA\",\"CHITRADURGA\",\"DAVANAGERE\",\"KOLAR\",\"CHIKKABALLAPURA\",\"SHIVAMOGGA\",\"TUMAKURU\",\"CHIKKAMAGALURU\",\"DAKSHINA KANNADA\",\"UDUPI\",\"HASSAN\",\"KODAGU\",\"MANDYA\",\"MYSURU\",\"CHAMARAJANAGAR\",\"BELAGAVI\",\"VIJAYAPURA\",\"BAGALKOT\",\"DHARAWAD\",\"GADAG\",\"HAVERI\",\"UTTARA KANNADA\",\"BALLARI\",\"BIDAR\",\"KALABURAGI\",\"YADGIRI\",\"RAICHUR\",\"KOPPAL\"]],[\"y\",{\"type\":\"ndarray\",\"array\":{\"type\":\"bytes\",\"data\":\"PwsAAFemAADSKAAAZyYEAIgOCQDfBgAAE5wBAOR0AwA0BQEAqe8AAAAAAABtAAAAcRgFAAFGAAC7SwAAwhcCAK5BAgD2zAgAF3QDADPXAwAKYgEA7BwCAC9PBgAYXgAA2iwDAOcKAAAdOQAAcQoAANMCAAAs5wIA\"},\"shape\":[30],\"dtype\":\"int32\",\"order\":\"little\"}]]}}},\"view\":{\"type\":\"object\",\"name\":\"CDSView\",\"id\":\"p1437\",\"attributes\":{\"filter\":{\"type\":\"object\",\"name\":\"AllIndices\",\"id\":\"p1438\"}}},\"glyph\":{\"type\":\"object\",\"name\":\"VBar\",\"id\":\"p1433\",\"attributes\":{\"x\":{\"type\":\"field\",\"field\":\"x\"},\"width\":{\"type\":\"value\",\"value\":0.8},\"top\":{\"type\":\"field\",\"field\":\"y\"},\"line_color\":{\"type\":\"value\",\"value\":\"#ff7f0e\"},\"fill_color\":{\"type\":\"value\",\"value\":\"#ff7f0e\"},\"hatch_color\":{\"type\":\"value\",\"value\":\"#ff7f0e\"}}},\"nonselection_glyph\":{\"type\":\"object\",\"name\":\"VBar\",\"id\":\"p1434\",\"attributes\":{\"x\":{\"type\":\"field\",\"field\":\"x\"},\"width\":{\"type\":\"value\",\"value\":0.8},\"top\":{\"type\":\"field\",\"field\":\"y\"},\"line_color\":{\"type\":\"value\",\"value\":\"#ff7f0e\"},\"line_alpha\":{\"type\":\"value\",\"value\":0.1},\"fill_color\":{\"type\":\"value\",\"value\":\"#ff7f0e\"},\"fill_alpha\":{\"type\":\"value\",\"value\":0.1},\"hatch_color\":{\"type\":\"value\",\"value\":\"#ff7f0e\"},\"hatch_alpha\":{\"type\":\"value\",\"value\":0.1}}},\"muted_glyph\":{\"type\":\"object\",\"name\":\"VBar\",\"id\":\"p1435\",\"attributes\":{\"x\":{\"type\":\"field\",\"field\":\"x\"},\"width\":{\"type\":\"value\",\"value\":0.8},\"top\":{\"type\":\"field\",\"field\":\"y\"},\"line_color\":{\"type\":\"value\",\"value\":\"#ff7f0e\"},\"line_alpha\":{\"type\":\"value\",\"value\":0.2},\"fill_color\":{\"type\":\"value\",\"value\":\"#ff7f0e\"},\"fill_alpha\":{\"type\":\"value\",\"value\":0.2},\"hatch_color\":{\"type\":\"value\",\"value\":\"#ff7f0e\"},\"hatch_alpha\":{\"type\":\"value\",\"value\":0.2}}}}}],\"toolbar\":{\"type\":\"object\",\"name\":\"Toolbar\",\"id\":\"p1413\",\"attributes\":{\"tools\":[{\"type\":\"object\",\"name\":\"HoverTool\",\"id\":\"p1441\",\"attributes\":{\"renderers\":\"auto\",\"tooltips\":[[\"District\",\"@x\"],[\"Maize_Production_226\",\"@y\"]]}}]}},\"toolbar_location\":null,\"left\":[{\"type\":\"object\",\"name\":\"LinearAxis\",\"id\":\"p1422\",\"attributes\":{\"ticker\":{\"type\":\"object\",\"name\":\"BasicTicker\",\"id\":\"p1423\",\"attributes\":{\"mantissas\":[1,2,5]}},\"formatter\":{\"type\":\"object\",\"name\":\"BasicTickFormatter\",\"id\":\"p1424\"},\"axis_label\":\"Maize_Production_226\",\"major_label_policy\":{\"type\":\"object\",\"name\":\"AllLabels\",\"id\":\"p1425\"}}}],\"below\":[{\"type\":\"object\",\"name\":\"CategoricalAxis\",\"id\":\"p1417\",\"attributes\":{\"ticker\":{\"type\":\"object\",\"name\":\"CategoricalTicker\",\"id\":\"p1418\"},\"formatter\":{\"type\":\"object\",\"name\":\"CategoricalTickFormatter\",\"id\":\"p1419\"},\"major_label_orientation\":\"vertical\",\"major_label_policy\":{\"type\":\"object\",\"name\":\"AllLabels\",\"id\":\"p1420\"}}}],\"center\":[{\"type\":\"object\",\"name\":\"Grid\",\"id\":\"p1421\",\"attributes\":{\"axis\":{\"id\":\"p1417\"}}},{\"type\":\"object\",\"name\":\"Grid\",\"id\":\"p1426\",\"attributes\":{\"dimension\":1,\"axis\":{\"id\":\"p1422\"}}},{\"type\":\"object\",\"name\":\"Legend\",\"id\":\"p1439\",\"attributes\":{\"click_policy\":\"hide\",\"items\":[{\"type\":\"object\",\"name\":\"LegendItem\",\"id\":\"p1440\",\"attributes\":{\"label\":{\"type\":\"value\",\"value\":\"Maize_Production_226\"},\"renderers\":[{\"id\":\"p1436\"}]}}]}}]}}]}};\n  const render_items = [{\"docid\":\"c094cd47-d1e6-4f87-b1f0-de91b98f2a87\",\"roots\":{\"p1404\":\"c4616e4d-e821-4cf9-9eca-60e56d5d7d7b\"},\"root_ids\":[\"p1404\"]}];\n  root.Bokeh.embed.embed_items_notebook(docs_json, render_items);\n  }\n  if (root.Bokeh !== undefined) {\n    embed_document(root);\n  } else {\n    let attempts = 0;\n    const timer = setInterval(function(root) {\n      if (root.Bokeh !== undefined) {\n        clearInterval(timer);\n        embed_document(root);\n      } else {\n        attempts++;\n        if (attempts > 100) {\n          clearInterval(timer);\n          console.log(\"Bokeh: ERROR: Unable to run BokehJS code because BokehJS library is missing\");\n        }\n      }\n    }, 10, root)\n  }\n})(window);",
      "application/vnd.bokehjs_exec.v0+json": ""
     },
     "metadata": {
      "application/vnd.bokehjs_exec.v0+json": {
       "id": "p1404"
      }
     },
     "output_type": "display_data"
    },
    {
     "data": {
      "text/html": [
       "\n",
       "  <div id=\"e7614c82-c4cb-4fd3-9d85-22cba6bef96d\" data-root-id=\"p1443\" style=\"display: contents;\"></div>\n"
      ]
     },
     "metadata": {},
     "output_type": "display_data"
    },
    {
     "data": {
      "application/javascript": "(function(root) {\n  function embed_document(root) {\n  const docs_json = {\"8977afe7-7f91-4dc7-a3e3-426a667a961e\":{\"version\":\"3.3.3\",\"title\":\"Bokeh Application\",\"roots\":[{\"type\":\"object\",\"name\":\"Figure\",\"id\":\"p1443\",\"attributes\":{\"sizing_mode\":\"stretch_width\",\"x_range\":{\"type\":\"object\",\"name\":\"FactorRange\",\"id\":\"p1453\",\"attributes\":{\"factors\":[\"BENGALURU\",\"BENGALURU(R)\",\"RAMANAGARA\",\"CHITRADURGA\",\"DAVANAGERE\",\"KOLAR\",\"CHIKKABALLAPURA\",\"SHIVAMOGGA\",\"TUMAKURU\",\"CHIKKAMAGALURU\",\"DAKSHINA KANNADA\",\"UDUPI\",\"HASSAN\",\"KODAGU\",\"MANDYA\",\"MYSURU\",\"CHAMARAJANAGAR\",\"BELAGAVI\",\"VIJAYAPURA\",\"BAGALKOT\",\"DHARAWAD\",\"GADAG\",\"HAVERI\",\"UTTARA KANNADA\",\"BALLARI\",\"BIDAR\",\"KALABURAGI\",\"YADGIRI\",\"RAICHUR\",\"KOPPAL\"]}},\"y_range\":{\"type\":\"object\",\"name\":\"DataRange1d\",\"id\":\"p1445\"},\"x_scale\":{\"type\":\"object\",\"name\":\"CategoricalScale\",\"id\":\"p1454\"},\"y_scale\":{\"type\":\"object\",\"name\":\"LinearScale\",\"id\":\"p1455\"},\"title\":{\"type\":\"object\",\"name\":\"Title\",\"id\":\"p1446\",\"attributes\":{\"text\":\"SowingSeedsDistributed_Jowar_318 vs District\"}},\"renderers\":[{\"type\":\"object\",\"name\":\"GlyphRenderer\",\"id\":\"p1475\",\"attributes\":{\"data_source\":{\"type\":\"object\",\"name\":\"ColumnDataSource\",\"id\":\"p1466\",\"attributes\":{\"selected\":{\"type\":\"object\",\"name\":\"Selection\",\"id\":\"p1467\",\"attributes\":{\"indices\":[],\"line_indices\":[]}},\"selection_policy\":{\"type\":\"object\",\"name\":\"UnionRenderers\",\"id\":\"p1468\"},\"data\":{\"type\":\"map\",\"entries\":[[\"x\",[\"BENGALURU\",\"BENGALURU(R)\",\"RAMANAGARA\",\"CHITRADURGA\",\"DAVANAGERE\",\"KOLAR\",\"CHIKKABALLAPURA\",\"SHIVAMOGGA\",\"TUMAKURU\",\"CHIKKAMAGALURU\",\"DAKSHINA KANNADA\",\"UDUPI\",\"HASSAN\",\"KODAGU\",\"MANDYA\",\"MYSURU\",\"CHAMARAJANAGAR\",\"BELAGAVI\",\"VIJAYAPURA\",\"BAGALKOT\",\"DHARAWAD\",\"GADAG\",\"HAVERI\",\"UTTARA KANNADA\",\"BALLARI\",\"BIDAR\",\"KALABURAGI\",\"YADGIRI\",\"RAICHUR\",\"KOPPAL\"]],[\"y\",{\"type\":\"ndarray\",\"array\":{\"type\":\"bytes\",\"data\":\"AAAAAAAAAAAAAAAAAAAAAAAAAAAAAAAAAAAAAABwcEDNzMzMzMRgQAAAAAAAAAAAAAAAAAAAAAAAAAAAAAD4PwAAAAAAAAAA4XoUrkeBikAAAAAAAAAAAAAAAAAAAAAAH4XrUbjeOEAAAAAAAAAAAAAAAAAAAAAAw/UoXI/CMUAAAAAAACBZQMP1KFyPu6FAzczMzMxzlECamZmZmdGJQAAAAAAAAAhAAAAAAABwgEDsUbgehRSRQAAAAAAAAAAArkfhehS+bkAzMzMzM2tuQAAAAAAAAIpAUrgehevJY0DhehSuR7lrQAAAAAAAGIhA\"},\"shape\":[30],\"dtype\":\"float64\",\"order\":\"little\"}]]}}},\"view\":{\"type\":\"object\",\"name\":\"CDSView\",\"id\":\"p1476\",\"attributes\":{\"filter\":{\"type\":\"object\",\"name\":\"AllIndices\",\"id\":\"p1477\"}}},\"glyph\":{\"type\":\"object\",\"name\":\"VBar\",\"id\":\"p1472\",\"attributes\":{\"x\":{\"type\":\"field\",\"field\":\"x\"},\"width\":{\"type\":\"value\",\"value\":0.8},\"top\":{\"type\":\"field\",\"field\":\"y\"},\"line_color\":{\"type\":\"value\",\"value\":\"#ffbb78\"},\"fill_color\":{\"type\":\"value\",\"value\":\"#ffbb78\"},\"hatch_color\":{\"type\":\"value\",\"value\":\"#ffbb78\"}}},\"nonselection_glyph\":{\"type\":\"object\",\"name\":\"VBar\",\"id\":\"p1473\",\"attributes\":{\"x\":{\"type\":\"field\",\"field\":\"x\"},\"width\":{\"type\":\"value\",\"value\":0.8},\"top\":{\"type\":\"field\",\"field\":\"y\"},\"line_color\":{\"type\":\"value\",\"value\":\"#ffbb78\"},\"line_alpha\":{\"type\":\"value\",\"value\":0.1},\"fill_color\":{\"type\":\"value\",\"value\":\"#ffbb78\"},\"fill_alpha\":{\"type\":\"value\",\"value\":0.1},\"hatch_color\":{\"type\":\"value\",\"value\":\"#ffbb78\"},\"hatch_alpha\":{\"type\":\"value\",\"value\":0.1}}},\"muted_glyph\":{\"type\":\"object\",\"name\":\"VBar\",\"id\":\"p1474\",\"attributes\":{\"x\":{\"type\":\"field\",\"field\":\"x\"},\"width\":{\"type\":\"value\",\"value\":0.8},\"top\":{\"type\":\"field\",\"field\":\"y\"},\"line_color\":{\"type\":\"value\",\"value\":\"#ffbb78\"},\"line_alpha\":{\"type\":\"value\",\"value\":0.2},\"fill_color\":{\"type\":\"value\",\"value\":\"#ffbb78\"},\"fill_alpha\":{\"type\":\"value\",\"value\":0.2},\"hatch_color\":{\"type\":\"value\",\"value\":\"#ffbb78\"},\"hatch_alpha\":{\"type\":\"value\",\"value\":0.2}}}}}],\"toolbar\":{\"type\":\"object\",\"name\":\"Toolbar\",\"id\":\"p1452\",\"attributes\":{\"tools\":[{\"type\":\"object\",\"name\":\"HoverTool\",\"id\":\"p1480\",\"attributes\":{\"renderers\":\"auto\",\"tooltips\":[[\"District\",\"@x\"],[\"SowingSeedsDistributed_Jowar_318\",\"@y\"]]}}]}},\"toolbar_location\":null,\"left\":[{\"type\":\"object\",\"name\":\"LinearAxis\",\"id\":\"p1461\",\"attributes\":{\"ticker\":{\"type\":\"object\",\"name\":\"BasicTicker\",\"id\":\"p1462\",\"attributes\":{\"mantissas\":[1,2,5]}},\"formatter\":{\"type\":\"object\",\"name\":\"BasicTickFormatter\",\"id\":\"p1463\"},\"axis_label\":\"SowingSeedsDistributed_Jowar_318\",\"major_label_policy\":{\"type\":\"object\",\"name\":\"AllLabels\",\"id\":\"p1464\"}}}],\"below\":[{\"type\":\"object\",\"name\":\"CategoricalAxis\",\"id\":\"p1456\",\"attributes\":{\"ticker\":{\"type\":\"object\",\"name\":\"CategoricalTicker\",\"id\":\"p1457\"},\"formatter\":{\"type\":\"object\",\"name\":\"CategoricalTickFormatter\",\"id\":\"p1458\"},\"major_label_orientation\":\"vertical\",\"major_label_policy\":{\"type\":\"object\",\"name\":\"AllLabels\",\"id\":\"p1459\"}}}],\"center\":[{\"type\":\"object\",\"name\":\"Grid\",\"id\":\"p1460\",\"attributes\":{\"axis\":{\"id\":\"p1456\"}}},{\"type\":\"object\",\"name\":\"Grid\",\"id\":\"p1465\",\"attributes\":{\"dimension\":1,\"axis\":{\"id\":\"p1461\"}}},{\"type\":\"object\",\"name\":\"Legend\",\"id\":\"p1478\",\"attributes\":{\"click_policy\":\"hide\",\"items\":[{\"type\":\"object\",\"name\":\"LegendItem\",\"id\":\"p1479\",\"attributes\":{\"label\":{\"type\":\"value\",\"value\":\"SowingSeedsDistributed_Jowar_318\"},\"renderers\":[{\"id\":\"p1475\"}]}}]}}]}}]}};\n  const render_items = [{\"docid\":\"8977afe7-7f91-4dc7-a3e3-426a667a961e\",\"roots\":{\"p1443\":\"e7614c82-c4cb-4fd3-9d85-22cba6bef96d\"},\"root_ids\":[\"p1443\"]}];\n  root.Bokeh.embed.embed_items_notebook(docs_json, render_items);\n  }\n  if (root.Bokeh !== undefined) {\n    embed_document(root);\n  } else {\n    let attempts = 0;\n    const timer = setInterval(function(root) {\n      if (root.Bokeh !== undefined) {\n        clearInterval(timer);\n        embed_document(root);\n      } else {\n        attempts++;\n        if (attempts > 100) {\n          clearInterval(timer);\n          console.log(\"Bokeh: ERROR: Unable to run BokehJS code because BokehJS library is missing\");\n        }\n      }\n    }, 10, root)\n  }\n})(window);",
      "application/vnd.bokehjs_exec.v0+json": ""
     },
     "metadata": {
      "application/vnd.bokehjs_exec.v0+json": {
       "id": "p1443"
      }
     },
     "output_type": "display_data"
    },
    {
     "data": {
      "text/html": [
       "\n",
       "  <div id=\"e4f9a13b-df6f-4b02-afd6-0cc9045e7697\" data-root-id=\"p1482\" style=\"display: contents;\"></div>\n"
      ]
     },
     "metadata": {},
     "output_type": "display_data"
    },
    {
     "data": {
      "application/javascript": "(function(root) {\n  function embed_document(root) {\n  const docs_json = {\"50a9e412-7d76-4f92-88d8-bec51fc0892c\":{\"version\":\"3.3.3\",\"title\":\"Bokeh Application\",\"roots\":[{\"type\":\"object\",\"name\":\"Figure\",\"id\":\"p1482\",\"attributes\":{\"sizing_mode\":\"stretch_width\",\"x_range\":{\"type\":\"object\",\"name\":\"FactorRange\",\"id\":\"p1492\",\"attributes\":{\"factors\":[\"BENGALURU\",\"BENGALURU(R)\",\"RAMANAGARA\",\"CHITRADURGA\",\"DAVANAGERE\",\"KOLAR\",\"CHIKKABALLAPURA\",\"SHIVAMOGGA\",\"TUMAKURU\",\"CHIKKAMAGALURU\",\"DAKSHINA KANNADA\",\"UDUPI\",\"HASSAN\",\"KODAGU\",\"MANDYA\",\"MYSURU\",\"CHAMARAJANAGAR\",\"BELAGAVI\",\"VIJAYAPURA\",\"BAGALKOT\",\"DHARAWAD\",\"GADAG\",\"HAVERI\",\"UTTARA KANNADA\",\"BALLARI\",\"BIDAR\",\"KALABURAGI\",\"YADGIRI\",\"RAICHUR\",\"KOPPAL\"]}},\"y_range\":{\"type\":\"object\",\"name\":\"DataRange1d\",\"id\":\"p1484\"},\"x_scale\":{\"type\":\"object\",\"name\":\"CategoricalScale\",\"id\":\"p1493\"},\"y_scale\":{\"type\":\"object\",\"name\":\"LinearScale\",\"id\":\"p1494\"},\"title\":{\"type\":\"object\",\"name\":\"Title\",\"id\":\"p1485\",\"attributes\":{\"text\":\"SowingSeedsDistributed_Maize_320 vs District\"}},\"renderers\":[{\"type\":\"object\",\"name\":\"GlyphRenderer\",\"id\":\"p1514\",\"attributes\":{\"data_source\":{\"type\":\"object\",\"name\":\"ColumnDataSource\",\"id\":\"p1505\",\"attributes\":{\"selected\":{\"type\":\"object\",\"name\":\"Selection\",\"id\":\"p1506\",\"attributes\":{\"indices\":[],\"line_indices\":[]}},\"selection_policy\":{\"type\":\"object\",\"name\":\"UnionRenderers\",\"id\":\"p1507\"},\"data\":{\"type\":\"map\",\"entries\":[[\"x\",[\"BENGALURU\",\"BENGALURU(R)\",\"RAMANAGARA\",\"CHITRADURGA\",\"DAVANAGERE\",\"KOLAR\",\"CHIKKABALLAPURA\",\"SHIVAMOGGA\",\"TUMAKURU\",\"CHIKKAMAGALURU\",\"DAKSHINA KANNADA\",\"UDUPI\",\"HASSAN\",\"KODAGU\",\"MANDYA\",\"MYSURU\",\"CHAMARAJANAGAR\",\"BELAGAVI\",\"VIJAYAPURA\",\"BAGALKOT\",\"DHARAWAD\",\"GADAG\",\"HAVERI\",\"UTTARA KANNADA\",\"BALLARI\",\"BIDAR\",\"KALABURAGI\",\"YADGIRI\",\"RAICHUR\",\"KOPPAL\"]],[\"y\",{\"type\":\"ndarray\",\"array\":{\"type\":\"bytes\",\"data\":\"zczMzMzMEUCPwvUoXNdgQGZmZmZmQnBAAAAAAACMs0CamZmZmey3QAAAAAAAwElAzczMzEykq0DXo3A9CsytQGZmZmZmn5lArkfhepTXpkAAAAAAAAAAAAAAAAAAAAAA16NwPapuwUCF61G4Hs1uQArXo3A90IhAH4XrUbiVmEAzMzMzMw2gQNejcD3KNcdA7FG4HoX1pEBmZmZmJi62QDMzMzOzTqNAAAAAAAAPsEDNzMzMzB7GQM3MzMzM9JZA9ihcjwJWtkDNzMzMzIw4QAAAAAAAoGRAAAAAAAAAAAAzMzMzM7MsQAAAAAAArLRA\"},\"shape\":[30],\"dtype\":\"float64\",\"order\":\"little\"}]]}}},\"view\":{\"type\":\"object\",\"name\":\"CDSView\",\"id\":\"p1515\",\"attributes\":{\"filter\":{\"type\":\"object\",\"name\":\"AllIndices\",\"id\":\"p1516\"}}},\"glyph\":{\"type\":\"object\",\"name\":\"VBar\",\"id\":\"p1511\",\"attributes\":{\"x\":{\"type\":\"field\",\"field\":\"x\"},\"width\":{\"type\":\"value\",\"value\":0.8},\"top\":{\"type\":\"field\",\"field\":\"y\"},\"line_color\":{\"type\":\"value\",\"value\":\"#2ca02c\"},\"fill_color\":{\"type\":\"value\",\"value\":\"#2ca02c\"},\"hatch_color\":{\"type\":\"value\",\"value\":\"#2ca02c\"}}},\"nonselection_glyph\":{\"type\":\"object\",\"name\":\"VBar\",\"id\":\"p1512\",\"attributes\":{\"x\":{\"type\":\"field\",\"field\":\"x\"},\"width\":{\"type\":\"value\",\"value\":0.8},\"top\":{\"type\":\"field\",\"field\":\"y\"},\"line_color\":{\"type\":\"value\",\"value\":\"#2ca02c\"},\"line_alpha\":{\"type\":\"value\",\"value\":0.1},\"fill_color\":{\"type\":\"value\",\"value\":\"#2ca02c\"},\"fill_alpha\":{\"type\":\"value\",\"value\":0.1},\"hatch_color\":{\"type\":\"value\",\"value\":\"#2ca02c\"},\"hatch_alpha\":{\"type\":\"value\",\"value\":0.1}}},\"muted_glyph\":{\"type\":\"object\",\"name\":\"VBar\",\"id\":\"p1513\",\"attributes\":{\"x\":{\"type\":\"field\",\"field\":\"x\"},\"width\":{\"type\":\"value\",\"value\":0.8},\"top\":{\"type\":\"field\",\"field\":\"y\"},\"line_color\":{\"type\":\"value\",\"value\":\"#2ca02c\"},\"line_alpha\":{\"type\":\"value\",\"value\":0.2},\"fill_color\":{\"type\":\"value\",\"value\":\"#2ca02c\"},\"fill_alpha\":{\"type\":\"value\",\"value\":0.2},\"hatch_color\":{\"type\":\"value\",\"value\":\"#2ca02c\"},\"hatch_alpha\":{\"type\":\"value\",\"value\":0.2}}}}}],\"toolbar\":{\"type\":\"object\",\"name\":\"Toolbar\",\"id\":\"p1491\",\"attributes\":{\"tools\":[{\"type\":\"object\",\"name\":\"HoverTool\",\"id\":\"p1519\",\"attributes\":{\"renderers\":\"auto\",\"tooltips\":[[\"District\",\"@x\"],[\"SowingSeedsDistributed_Maize_320\",\"@y\"]]}}]}},\"toolbar_location\":null,\"left\":[{\"type\":\"object\",\"name\":\"LinearAxis\",\"id\":\"p1500\",\"attributes\":{\"ticker\":{\"type\":\"object\",\"name\":\"BasicTicker\",\"id\":\"p1501\",\"attributes\":{\"mantissas\":[1,2,5]}},\"formatter\":{\"type\":\"object\",\"name\":\"BasicTickFormatter\",\"id\":\"p1502\"},\"axis_label\":\"SowingSeedsDistributed_Maize_320\",\"major_label_policy\":{\"type\":\"object\",\"name\":\"AllLabels\",\"id\":\"p1503\"}}}],\"below\":[{\"type\":\"object\",\"name\":\"CategoricalAxis\",\"id\":\"p1495\",\"attributes\":{\"ticker\":{\"type\":\"object\",\"name\":\"CategoricalTicker\",\"id\":\"p1496\"},\"formatter\":{\"type\":\"object\",\"name\":\"CategoricalTickFormatter\",\"id\":\"p1497\"},\"major_label_orientation\":\"vertical\",\"major_label_policy\":{\"type\":\"object\",\"name\":\"AllLabels\",\"id\":\"p1498\"}}}],\"center\":[{\"type\":\"object\",\"name\":\"Grid\",\"id\":\"p1499\",\"attributes\":{\"axis\":{\"id\":\"p1495\"}}},{\"type\":\"object\",\"name\":\"Grid\",\"id\":\"p1504\",\"attributes\":{\"dimension\":1,\"axis\":{\"id\":\"p1500\"}}},{\"type\":\"object\",\"name\":\"Legend\",\"id\":\"p1517\",\"attributes\":{\"click_policy\":\"hide\",\"items\":[{\"type\":\"object\",\"name\":\"LegendItem\",\"id\":\"p1518\",\"attributes\":{\"label\":{\"type\":\"value\",\"value\":\"SowingSeedsDistributed_Maize_320\"},\"renderers\":[{\"id\":\"p1514\"}]}}]}}]}}]}};\n  const render_items = [{\"docid\":\"50a9e412-7d76-4f92-88d8-bec51fc0892c\",\"roots\":{\"p1482\":\"e4f9a13b-df6f-4b02-afd6-0cc9045e7697\"},\"root_ids\":[\"p1482\"]}];\n  root.Bokeh.embed.embed_items_notebook(docs_json, render_items);\n  }\n  if (root.Bokeh !== undefined) {\n    embed_document(root);\n  } else {\n    let attempts = 0;\n    const timer = setInterval(function(root) {\n      if (root.Bokeh !== undefined) {\n        clearInterval(timer);\n        embed_document(root);\n      } else {\n        attempts++;\n        if (attempts > 100) {\n          clearInterval(timer);\n          console.log(\"Bokeh: ERROR: Unable to run BokehJS code because BokehJS library is missing\");\n        }\n      }\n    }, 10, root)\n  }\n})(window);",
      "application/vnd.bokehjs_exec.v0+json": ""
     },
     "metadata": {
      "application/vnd.bokehjs_exec.v0+json": {
       "id": "p1482"
      }
     },
     "output_type": "display_data"
    }
   ],
   "source": [
    "# List of districts in the dataset\n",
    "districts = df['District'].tolist()\n",
    "\n",
    "# List of columns to visualize\n",
    "columns_to_visualize = ['Rice_Production_223', 'Jowar_Yield_278', 'Maize_Production_226', 'SowingSeedsDistributed_Jowar_318', 'SowingSeedsDistributed_Maize_320']\n",
    "\n",
    "colors = Category20[len(columns_to_visualize)]\n",
    "\n",
    "# Create a figure for each column\n",
    "for column, color in zip(columns_to_visualize, colors):\n",
    "    # Create a new plot\n",
    "    plot = figure(title=f'{column} vs District', x_range=districts, sizing_mode='stretch_width', toolbar_location=None, tools='')\n",
    "\n",
    "    # Plot the data\n",
    "    source = ColumnDataSource(data=dict(x=districts, y=df[column]))\n",
    "    plot.vbar(x='x', top='y', width=0.8, color=color, legend_label=column, source=source)\n",
    "\n",
    "    # Add hover tooltips\n",
    "    hover = HoverTool()\n",
    "    hover.tooltips = [('District', '@x'), (column, '@y')]\n",
    "    plot.add_tools(hover)\n",
    "\n",
    "    # Styling\n",
    "    plot.xaxis.major_label_orientation = \"vertical\"\n",
    "    plot.yaxis.axis_label = column\n",
    "    plot.legend.location = 'top_right'\n",
    "    plot.legend.click_policy = 'hide'\n",
    "\n",
    "    # Show the plot\n",
    "    show(plot)\n"
   ]
  },
  {
   "cell_type": "code",
   "execution_count": 24,
   "metadata": {},
   "outputs": [
    {
     "data": {
      "text/html": [
       "\n",
       "  <div id=\"c5639f34-b166-4a99-830c-bec4f4456fec\" data-root-id=\"p1522\" style=\"display: contents;\"></div>\n"
      ]
     },
     "metadata": {},
     "output_type": "display_data"
    },
    {
     "data": {
      "application/javascript": "(function(root) {\n  function embed_document(root) {\n  const docs_json = {\"82b89a68-e295-4fae-8487-9c3c41e43874\":{\"version\":\"3.3.3\",\"title\":\"Bokeh Application\",\"roots\":[{\"type\":\"object\",\"name\":\"Figure\",\"id\":\"p1522\",\"attributes\":{\"x_range\":{\"type\":\"object\",\"name\":\"FactorRange\",\"id\":\"p1521\",\"attributes\":{\"factors\":[\"BENGALURU\",\"BENGALURU(R)\",\"RAMANAGARA\",\"CHITRADURGA\",\"DAVANAGERE\",\"KOLAR\",\"CHIKKABALLAPURA\",\"SHIVAMOGGA\",\"TUMAKURU\",\"CHIKKAMAGALURU\",\"DAKSHINA KANNADA\",\"UDUPI\",\"HASSAN\",\"KODAGU\",\"MANDYA\",\"MYSURU\",\"CHAMARAJANAGAR\",\"BELAGAVI\",\"VIJAYAPURA\",\"BAGALKOT\",\"DHARAWAD\",\"GADAG\",\"HAVERI\",\"UTTARA KANNADA\",\"BALLARI\",\"BIDAR\",\"KALABURAGI\",\"YADGIRI\",\"RAICHUR\",\"KOPPAL\"]}},\"y_range\":{\"type\":\"object\",\"name\":\"DataRange1d\",\"id\":\"p1524\"},\"x_scale\":{\"type\":\"object\",\"name\":\"CategoricalScale\",\"id\":\"p1532\"},\"y_scale\":{\"type\":\"object\",\"name\":\"LinearScale\",\"id\":\"p1533\"},\"title\":{\"type\":\"object\",\"name\":\"Title\",\"id\":\"p1525\",\"attributes\":{\"text\":\"Production Comparison by Crop and District\"}},\"renderers\":[{\"type\":\"object\",\"name\":\"GlyphRenderer\",\"id\":\"p1559\",\"attributes\":{\"name\":\"Rice_Production_223\",\"data_source\":{\"type\":\"object\",\"name\":\"ColumnDataSource\",\"id\":\"p1544\",\"attributes\":{\"selected\":{\"type\":\"object\",\"name\":\"Selection\",\"id\":\"p1545\",\"attributes\":{\"indices\":[],\"line_indices\":[]}},\"selection_policy\":{\"type\":\"object\",\"name\":\"UnionRenderers\",\"id\":\"p1546\"},\"data\":{\"type\":\"map\",\"entries\":[[\"index\",{\"type\":\"ndarray\",\"array\":{\"type\":\"bytes\",\"data\":\"AAAAAAEAAAACAAAAAwAAAAQAAAAFAAAABgAAAAcAAAAIAAAACQAAAAoAAAALAAAADAAAAA0AAAAOAAAADwAAABAAAAARAAAAEgAAABMAAAAUAAAAFQAAABYAAAAXAAAAGAAAABkAAAAaAAAAGwAAABwAAAAdAAAA\"},\"shape\":[30],\"dtype\":\"int32\",\"order\":\"little\"}],[\"District\",{\"type\":\"ndarray\",\"array\":[\"BENGALURU\",\"BENGALURU(R)\",\"RAMANAGARA\",\"CHITRADURGA\",\"DAVANAGERE\",\"KOLAR\",\"CHIKKABALLAPURA\",\"SHIVAMOGGA\",\"TUMAKURU\",\"CHIKKAMAGALURU\",\"DAKSHINA KANNADA\",\"UDUPI\",\"HASSAN\",\"KODAGU\",\"MANDYA\",\"MYSURU\",\"CHAMARAJANAGAR\",\"BELAGAVI\",\"VIJAYAPURA\",\"BAGALKOT\",\"DHARAWAD\",\"GADAG\",\"HAVERI\",\"UTTARA KANNADA\",\"BALLARI\",\"BIDAR\",\"KALABURAGI\",\"YADGIRI\",\"RAICHUR\",\"KOPPAL\"],\"shape\":[30],\"dtype\":\"object\",\"order\":\"little\"}],[\"Nitrogen_312\",{\"type\":\"ndarray\",\"array\":{\"type\":\"bytes\",\"data\":\"zzQAAFsmAADiEwAAl08AAJLUAADlKwAAPjgAAJFsAAAlUwAAfnQAAPkaAAApCwAAkoMAAG1EAACqlwAALX0AACEsAAADhwEAgXEAAPaxAAAEUQAAozQAABWUAADGIQAAMxABAFIuAABGZQAAnsQAALgDAQBpnwAA\"},\"shape\":[30],\"dtype\":\"int32\",\"order\":\"little\"}],[\"Phosphorus_313\",{\"type\":\"ndarray\",\"array\":{\"type\":\"bytes\",\"data\":\"9xwAAE0eAAA5BgAAwy4AAEKEAACiHgAAECkAABdEAAAlMAAAo0oAAIARAACEBQAAsVUAAPgtAABHMwAANUwAAAAbAADyrwAAtkgAAB5bAADoMwAANx0AACBUAADrDgAA/ZoAAAQrAACEXgAAnXwAAHmZAABAWAAA\"},\"shape\":[30],\"dtype\":\"int32\",\"order\":\"little\"}],[\"Potassium_314\",{\"type\":\"ndarray\",\"array\":{\"type\":\"bytes\",\"data\":\"SAkAAJMGAAAVAwAA0g0AAGgsAAAnDAAAdw0AAHksAAC6EQAA9UkAACMcAABXBwAADTIAAI4tAACdIQAA2ygAANoVAAAjiAAAnRkAADg+AAAZDQAAFwkAALQVAAAjCwAAkTYAAPwGAAAlDwAAwiMAAMMsAACnJwAA\"},\"shape\":[30],\"dtype\":\"int32\",\"order\":\"little\"}],[\"TotalNPK_315\",{\"type\":\"ndarray\",\"array\":{\"type\":\"bytes\",\"data\":\"DlsAADtLAAAwHQAALIwAADyFAQCuVgAAxW4AACHdAAAElQAAFwkBAJxIAAAEGAAATwsBAPOfAACO7AAAPvIAAPtcAAAYvwIA1NMAAExLAQAFkgAA8FoAAOn9AADUOwAAweEBAFJgAADv0gAA/WQBAPPJAQBQHwEA\"},\"shape\":[30],\"dtype\":\"int32\",\"order\":\"little\"}],[\"Rice_Production_223\",{\"type\":\"ndarray\",\"array\":{\"type\":\"bytes\",\"data\":\"MA0AADIJAABgLwAA1hEAACF4BwBgAwAAigoAAM7fBQC6ZQAAxa8BAOwFAgCsGwIAWTECAB9RAQAPwwMAs2cFACCzAACQtQIAqgAAAFUAAADFhAAAWhwAAO7pAQCVVQIAR0oGAPQHAADQHgAAk20DADaDBwAxtwMA\"},\"shape\":[30],\"dtype\":\"int32\",\"order\":\"little\"}],[\"Jowar_Production_224\",{\"type\":\"ndarray\",\"array\":{\"type\":\"bytes\",\"data\":\"UwMAAAAAAAAAAAAA9TMAACBaAAAAAAAAAAAAAPQCAABcCgAAeCMAAAAAAAAAAAAA1QMAAAAAAACoBAAAnxcAAFMTAACTKAIAiwsCACt7AQDmpAAAYe8AAMGOAAAAAAAAVgkBAB2cAACT+QMAvrgAAA+DAQBasQAA\"},\"shape\":[30],\"dtype\":\"int32\",\"order\":\"little\"}],[\"Bajra_Production_225\",{\"type\":\"ndarray\",\"array\":{\"type\":\"bytes\",\"data\":\"AAAAAAAAAAADAAAAPQQAABoDAAAAAAAAAAAAAAIAAAAiAQAAAAAAAAAAAAAAAAAAAAAAAAAAAAAeAAAAAAAAAKgBAABeFgAACYoAAFRPAAAFAAAAjwMAAAAAAAAAAAAAdC0AAB0QAADWWAAA8DwAAA5zAAAtOAEA\"},\"shape\":[30],\"dtype\":\"int32\",\"order\":\"little\"}],[\"Maize_Production_226\",{\"type\":\"ndarray\",\"array\":{\"type\":\"bytes\",\"data\":\"PwsAAFemAADSKAAAZyYEAIgOCQDfBgAAE5wBAOR0AwA0BQEAqe8AAAAAAABtAAAAcRgFAAFGAAC7SwAAwhcCAK5BAgD2zAgAF3QDADPXAwAKYgEA7BwCAC9PBgAYXgAA2iwDAOcKAAAdOQAAcQoAANMCAAAs5wIA\"},\"shape\":[30],\"dtype\":\"int32\",\"order\":\"little\"}],[\"Ragi_Production_227\",{\"type\":\"ndarray\",\"array\":{\"type\":\"bytes\",\"data\":\"R/IAAJw5AQDmFAIAiGwBAFZJAAB0AwEAm+AAACsEAAATGwUAKM4AAAAAAAAAAAAA+2ACAAAAAAAiiQEAYkwBAHVpAAC4BAAAAAAAAAAAAAAMAAAACwAAAMcAAAALAAAAbgoAAAAAAAAAAAAAAAAAAAAAAAAAAAAA\"},\"shape\":[30],\"dtype\":\"int32\",\"order\":\"little\"}],[\"Wheat_Production_228\",{\"type\":\"ndarray\",\"array\":{\"type\":\"bytes\",\"data\":\"AAAAAAAAAAAAAAAAdwEAAJUCAAAAAAAAAAAAAAAAAAAAAAAAAAAAAAAAAAAAAAAAAAAAAAAAAAAAAAAAAAAAAAAAAAB3DAEAVeEAAJ2iAAB3fwAAvEsAACICAAAAAAAA3wAAAAcaAABUZAAAagQAAPMCAADGFgAA\"},\"shape\":[30],\"dtype\":\"int32\",\"order\":\"little\"}],[\"TotalCerealsandMinorMillets_Production_230\",{\"type\":\"ndarray\",\"array\":{\"type\":\"bytes\",\"data\":\"IQ4BADDpAQAgbQIA8e4FAGExEQDhDQEAW4cCANNbCQDKlQYAr5gDAOwFAgAZHAIAQ68JACCXAQCynAUAduMIAFZzAwCf1g4AqusGAKREBgCqCwMAFHgDAIrQCAC4swIA4bsKACTZAADsDgUAMHIEABl/CQBWoggA\"},\"shape\":[30],\"dtype\":\"int32\",\"order\":\"little\"}],[\"Rice_Yield_277\",{\"type\":\"ndarray\",\"array\":{\"type\":\"bytes\",\"data\":\"TA4AAPAOAACMCQAARQkAALoOAABUCgAAoQ0AAPoMAABECwAARAsAAGoKAAB3CwAASwwAAHYLAAAcDwAA3g0AAKYNAAAuDAAA+A0AAPgNAADCBgAAmg4AACsLAAAuCQAARg4AAA8EAAC8BQAAQAsAAHQMAABQDQAA\"},\"shape\":[30],\"dtype\":\"int32\",\"order\":\"little\"}],[\"Jowar_Yield_278\",{\"type\":\"ndarray\",\"array\":{\"type\":\"bytes\",\"data\":\"AwYAAAAAAAAAAAAA2AMAAHcIAAAAAAAAAAAAAMIIAABCBQAAgQMAAAAAAAAAAAAAlQMAAAAAAADKAwAAUAQAAHMBAACwBAAAzgMAAMYDAAA4BAAAAQQAALcEAAAAAAAADwcAACIEAAB6BAAArQQAAE8FAAAgBQAA\"},\"shape\":[30],\"dtype\":\"int32\",\"order\":\"little\"}],[\"Bajra_Yield_279\",{\"type\":\"ndarray\",\"array\":{\"type\":\"bytes\",\"data\":\"AAAAAAAAAADzAwAAoQIAADsFAAAAAAAAAAAAAL0DAACKAwAAAAAAAAAAAAAAAAAAAAAAAAAAAACGAwAAAAAAALYEAACLAgAA+gIAAMsDAADzAwAAjAEAAAAAAAAAAAAAEwMAAI4EAAD6BQAA+AMAAJ4CAABnBgAA\"},\"shape\":[30],\"dtype\":\"int32\",\"order\":\"little\"}],[\"Maize_Yield_280\",{\"type\":\"ndarray\",\"array\":{\"type\":\"bytes\",\"data\":\"0AwAAAcMAAC9DwAALQwAAGcNAACsDQAAkgYAAPYOAADACQAAsgoAAAAAAADxDgAAdRAAAO8UAADBEQAAGg8AAIMRAAAiDwAAGQ4AADQPAAAZCwAASQoAAHkLAAC9DwAAvQkAAL4HAAD2CgAA/gwAAGgJAAA8DAAA\"},\"shape\":[30],\"dtype\":\"int32\",\"order\":\"little\"}],[\"Ragi_Yield_281\",{\"type\":\"ndarray\",\"array\":{\"type\":\"bytes\",\"data\":\"pwoAAC4JAAAPCAAAtgYAAGgGAAA0BQAABwUAAKEHAAC+BwAA6wQAAAAAAAAAAAAAnggAAAAAAAD4BgAArggAAB8HAABiBAAAAAAAAAAAAACWBAAAlgQAAKMDAAAHBQAAewMAAAAAAAAAAAAAAAAAAAAAAAAAAAAA\"},\"shape\":[30],\"dtype\":\"int32\",\"order\":\"little\"}],[\"Wheat_Yield_282\",{\"type\":\"ndarray\",\"array\":{\"type\":\"bytes\",\"data\":\"AAAAAAAAAAAAAAAAzAUAAEQHAAAAAAAAAAAAAAAAAAAAAAAAAAAAAAAAAAAAAAAAAAAAAAAAAAAAAAAAAAAAAAAAAAAKBgAAawQAAF4HAAChBAAAwgQAAIsDAAAAAAAAfQMAAFAGAAB3BwAATQQAALsEAADGAwAA\"},\"shape\":[30],\"dtype\":\"int32\",\"order\":\"little\"}],[\"TotalCerealsandMillets_Yield_284\",{\"type\":\"ndarray\",\"array\":{\"type\":\"bytes\",\"data\":\"vgoAAA8KAABuCAAAHwkAAHUNAABRBQAA+wUAAJ8NAAALCAAA+wcAAGoKAAB3CwAAlgwAAG4MAABvCwAAtgwAANYLAAAFCgAA8wUAALUHAACVBgAAsgYAAGcKAAC8CQAA1QoAAHMEAADdBAAAcggAAO4IAADbCQAA\"},\"shape\":[30],\"dtype\":\"int32\",\"order\":\"little\"}],[\"Groundnut_Production_241\",{\"type\":\"ndarray\",\"array\":{\"type\":\"bytes\",\"data\":\"RwAAAM4AAADeEgAA3wsBANBAAACyFgAA3BsAAPgAAADKmgAARQ8AAAAAAAAnDgAACQIAAC0AAAD9AwAAeggAAKMiAABqmgAAiGsAAGRjAAC6UgAAZHoAAIVHAADxDgAANbMAAAUBAAAqDAAAy3oAAE5pAAAedQAA\"},\"shape\":[30],\"dtype\":\"int32\",\"order\":\"little\"}],[\"Sunflower_Production_242\",{\"type\":\"ndarray\",\"array\":{\"type\":\"bytes\",\"data\":\"AgAAAAoAAAABAAAAdhYAAKwRAAAAAAAAZgAAAFoHAABNAwAAxwUAAAAAAAAAAAAAuQIAAAAAAAAIAAAA+gIAAFQJAACkKwAAWlQAAAhUAACsBQAAhkkAAKkUAAAoAAAAUjEAAOsCAACgWQAAMQgAAPYtAABEgwAA\"},\"shape\":[30],\"dtype\":\"int32\",\"order\":\"little\"}],[\"Safflower_Production_243\",{\"type\":\"ndarray\",\"array\":{\"type\":\"bytes\",\"data\":\"AAAAAAAAAAAAAAAAqgMAAAEAAAAAAAAAAAAAAAkAAAAAAAAAAAAAAAAAAAAAAAAAAAAAAAAAAAAAAAAAEgAAAAAAAAC7CAAACAQAAGgBAAB5DgAAOAgAAPECAAAAAAAAJAAAAH8cAAAMCQAANwEAANMDAADCFQAA\"},\"shape\":[30],\"dtype\":\"int32\",\"order\":\"little\"}],[\"Castor_Production_244\",{\"type\":\"ndarray\",\"array\":{\"type\":\"bytes\",\"data\":\"HwAAAI8AAAB1AwAAOQIAAHwAAAAjAAAALQAAAAEAAACcBgAAkgAAAAAAAAAAAAAAsgQAAAAAAACZAQAA3gIAAH4AAAAyAAAAAAAAAAAAAAAAAAAAAgAAAAgAAAAAAAAAJwAAAAcAAAAwAAAAHwAAAB8BAACwAgAA\"},\"shape\":[30],\"dtype\":\"int32\",\"order\":\"little\"}],[\"Sesamum_Production_245\",{\"type\":\"ndarray\",\"array\":{\"type\":\"bytes\",\"data\":\"BwAAAAQAAAAJAgAAbwkAABoAAABmAAAAAAAAAAUAAAAbAAAAjAsAAMEAAAATAAAANwcAAAAAAABvAwAAawkAANIAAACKAAAAIAAAAFgAAAC6AAAA6AAAAGUAAAAAAAAAJwIAAFkCAAAhCwAAIgAAAK0AAACIHAAA\"},\"shape\":[30],\"dtype\":\"int32\",\"order\":\"little\"}],[\"Linseed_Production_246\",{\"type\":\"ndarray\",\"array\":{\"type\":\"bytes\",\"data\":\"AAAAAAAAAAAAAAAAAAAAAAAAAAAAAAAAAAAAAAAAAAAKAAAAAQAAAAAAAAAAAAAAAAAAAAAAAAAAAAAABAAAAAEAAAANAQAApAAAAJUBAAAVAAAAJQAAABkAAAAAAAAAAAAAADEAAABuAAAAAAAAACwAAAD8AQAA\"},\"shape\":[30],\"dtype\":\"int32\",\"order\":\"little\"}],[\"Soyabean_Production_247\",{\"type\":\"ndarray\",\"array\":{\"type\":\"bytes\",\"data\":\"AAAAAAAAAAAAAAAAAAAAAAAAAAAAAAAAAAAAAAAAAAAAAAAAAAAAAAAAAAAAAAAAAAAAAAAAAAAAAAAAAAAAAAAAAACL9gAAAAAAABQKAADVhgAAAAAAALEPAAADAAAAAAAAAHMJAQByMwAAAAAAAAAAAAAAAAAA\"},\"shape\":[30],\"dtype\":\"int32\",\"order\":\"little\"}],[\"Nigerseed_Production_248\",{\"type\":\"ndarray\",\"array\":{\"type\":\"bytes\",\"data\":\"GAAAADgAAABfAAAACAAAADEAAAATAAAAAgAAAAEAAABlAAAAdQAAAAAAAAAAAAAAAwIAAAAAAAAbAQAA9wEAACEAAABLAAAAMAAAABQAAABQAAAAVwAAADEAAAAAAAAAIgAAAIQBAABgAAAAAAAAAAAAAAAOAQAA\"},\"shape\":[30],\"dtype\":\"int32\",\"order\":\"little\"}],[\"TotalOilSeeds_Production_249\",{\"type\":\"ndarray\",\"array\":{\"type\":\"bytes\",\"data\":\"ogAAAN8BAAAOGQAAsTEBAE9TAABqFwAArRwAAGIIAABbpQAApCEAAMEAAAA6DgAA1hIAAC0AAAAoCgAAyhkAAGktAACdxwEA3sQAAOnEAADW7gAAjc0AAIdvAAAcDwAAG+cAAAIuAQB+rgAAd4QAAA+dAABmMAEA\"},\"shape\":[30],\"dtype\":\"int32\",\"order\":\"little\"}],[\"Groundnut_Yield_295\",{\"type\":\"ndarray\",\"array\":{\"type\":\"bytes\",\"data\":\"egMAANoCAABiBQAAVQIAAO8DAADRAQAAmwEAAPkCAADSAQAAUAMAAAAAAABHCAAAogIAAJsCAACSAwAAagMAALkCAABPBAAAtgIAAOIDAAA1AwAA9wIAAEcEAAB7BwAAcQMAABwDAAAgAwAA+wIAAF0DAACEAwAA\"},\"shape\":[30],\"dtype\":\"int32\",\"order\":\"little\"}],[\"Sunflower_Yield_296\",{\"type\":\"ndarray\",\"array\":{\"type\":\"bytes\",\"data\":\"DgIAAA4CAACUAQAAlAEAAOQDAAAAAAAAhQUAADEJAABbAgAA3wEAAAAAAAAAAAAAKAMAAAAAAAC+AgAAfQQAABMBAAD5AgAAggEAACMCAADdAQAA1wEAALoEAABbAwAA/wEAAI0BAAA5AgAA5wEAAJcBAADUAgAA\"},\"shape\":[30],\"dtype\":\"int32\",\"order\":\"little\"}],[\"Safflower_Yield_297\",{\"type\":\"ndarray\",\"array\":{\"type\":\"bytes\",\"data\":\"AAAAAAAAAAAAAAAADAIAAHEDAAAAAAAAAAAAAHEDAAAAAAAAAAAAAAAAAAAAAAAAAAAAAAAAAAAAAAAArgQAAAAAAAAFAwAAnQEAAKoBAADUAgAADAQAAJgEAAAAAAAAQQEAAGEEAAD5AgAASgIAAHYDAABRBQAA\"},\"shape\":[30],\"dtype\":\"int32\",\"order\":\"little\"}],[\"Castor_Yield_298\",{\"type\":\"ndarray\",\"array\":{\"type\":\"bytes\",\"data\":\"hQIAAIUCAACjAwAAmgMAAIUCAACFAgAAhQIAAIUCAABXAgAAhQIAAAAAAAAAAAAAwwMAAAAAAACFAgAArgIAANMAAACFAgAAAAAAAAAAAAAAAAAAhQIAAIUCAAAAAAAAhQIAAIUCAACFAgAAhQIAAOEAAACyAgAA\"},\"shape\":[30],\"dtype\":\"int32\",\"order\":\"little\"}],[\"Linseed_Yield_299\",{\"type\":\"ndarray\",\"array\":{\"type\":\"bytes\",\"data\":\"AAAAAAAAAAAAAAAAAAAAAAAAAAAAAAAAAAAAAFkBAABZAQAAWQEAAAAAAAAAAAAAAAAAAAAAAAAAAAAAWQEAAFkBAABxAQAAyAAAAPEAAABZAQAAWQEAAFkBAAAAAAAAAAAAAFkBAABZAQAAAAAAACwDAACuAgAA\"},\"shape\":[30],\"dtype\":\"int32\",\"order\":\"little\"}],[\"Soyabean_Yield_300\",{\"type\":\"ndarray\",\"array\":{\"type\":\"bytes\",\"data\":\"AAAAAAAAAAAAAAAAAAAAAAAAAAAAAAAAAAAAAAAAAAAAAAAAAAAAAAAAAAAAAAAAAAAAAAAAAAAAAAAAAAAAAAAAAAB+AwAAAAAAADwEAABwBAAAAAAAAEsDAAD8AgAAAAAAAFQCAAB/AgAAAAAAAAAAAAAAAAAA\"},\"shape\":[30],\"dtype\":\"int32\",\"order\":\"little\"}],[\"Sesamum_Yield_301\",{\"type\":\"ndarray\",\"array\":{\"type\":\"bytes\",\"data\":\"MwIAADMCAACQAQAA+AIAANsCAAAzAgAAAAAAADMCAABpAAAABwIAADMCAAAzAgAAGgIAAAAAAAAZAQAAOQIAAAwBAACOAwAAcQAAAO4BAAAzAgAAnAIAAPUCAAAAAAAA0AEAADQBAAClAgAAAwEAAH8AAAD7AgAA\"},\"shape\":[30],\"dtype\":\"int32\",\"order\":\"little\"}],[\"Nigerseed_Yield_302\",{\"type\":\"ndarray\",\"array\":{\"type\":\"bytes\",\"data\":\"EgEAABIBAAClAAAAEgEAABIBAAASAQAAEgEAABIBAACqAAAAVAEAAAAAAAAAAAAAFgEAAAAAAAArAQAAEgEAABIBAAA7AQAAEgEAABIBAAASAQAAEgEAABIBAAAAAAAAEgEAAF4BAADmAAAAAAAAAAAAAAAOAQAA\"},\"shape\":[30],\"dtype\":\"int32\",\"order\":\"little\"}],[\"TotalOilSeeds_Yield_303\",{\"type\":\"ndarray\",\"array\":{\"type\":\"bytes\",\"data\":\"0gEAANUBAADAAwAARQIAAOIDAADPAQAAnwEAAEYHAADVAQAAaAIAADQCAAAoCAAARwIAAJsCAADAAQAAhQIAAPwBAACiAwAA+wEAAM8CAACsAwAAcgIAACYEAABgBwAA9AIAAGYCAABkAgAA3gIAAHQCAAArAwAA\"},\"shape\":[30],\"dtype\":\"int32\",\"order\":\"little\"}],[\"SowingSeedsDistributed_Paddy_316\",{\"type\":\"ndarray\",\"array\":{\"type\":\"bytes\",\"data\":\"PQrXo3B9M0Bcj8L1KNw2QIXrUbgeiZNAAAAAAADojkAAAAAAAOKGQAAAAAAAGpRAAAAAAACgk0AfhetReFXOQIXrUbhe5LdAAAAAAABjn0AAAAAAAM6MQAAAAAAAPKNAj8L1KJy2s0DNzMzMTIKkQLgehetxvtJAexSuR3EY2kBmZmZm5sOzQGZmZmZmBl5AAAAAAAAAAAAAAAAAAAAAAAAAAAAA9IVAAAAAAAAAAADNzMzMzCK1QKRwPQrXy75AAAAAAECUukAAAAAAAAA+QAAAAAAAwE9AMzMzMzP8o0BSuB6Fa1zFQAAAAAAAi6JA\"},\"shape\":[30],\"dtype\":\"float64\",\"order\":\"little\"}],[\"SowingSeedsDistributed_Wheat_317\",{\"type\":\"ndarray\",\"array\":{\"type\":\"bytes\",\"data\":\"AAAAAAAAAAAAAAAAAAAAAAAAAAAAAAAAAAAAAADAXUAAAAAAAAAAAAAAAAAAAAAAAAAAAAAAAAAAAAAAAAAAAAAAAAAAAAAAAAAAAAAAAAAAAAAAAAAAAAAAAAAAAAAAAAAAAAAAAAAAAAAAAAAAAAAAAAAAAAAAAAAAAAAAAAAAAAAAAAAAAM3MzMzM9aRAZmZmZmYjokCamZmZmX+qQM3MzMzMdH1AAAAAAABAaEAAAAAAAIBKQAAAAAAAAAAAAAAAAAAANkAAAAAAAKBdQAAAAAAAAAAAAAAAAAAAAAAAAAAAAAAAAAAAAAAAAAAA\"},\"shape\":[30],\"dtype\":\"float64\",\"order\":\"little\"}],[\"SowingSeedsDistributed_Jowar_318\",{\"type\":\"ndarray\",\"array\":{\"type\":\"bytes\",\"data\":\"AAAAAAAAAAAAAAAAAAAAAAAAAAAAAAAAAAAAAABwcEDNzMzMzMRgQAAAAAAAAAAAAAAAAAAAAAAAAAAAAAD4PwAAAAAAAAAA4XoUrkeBikAAAAAAAAAAAAAAAAAAAAAAH4XrUbjeOEAAAAAAAAAAAAAAAAAAAAAAw/UoXI/CMUAAAAAAACBZQMP1KFyPu6FAzczMzMxzlECamZmZmdGJQAAAAAAAAAhAAAAAAABwgEDsUbgehRSRQAAAAAAAAAAArkfhehS+bkAzMzMzM2tuQAAAAAAAAIpAUrgehevJY0DhehSuR7lrQAAAAAAAGIhA\"},\"shape\":[30],\"dtype\":\"float64\",\"order\":\"little\"}],[\"SowingSeedsDistributed_Ragi_319\",{\"type\":\"ndarray\",\"array\":{\"type\":\"bytes\",\"data\":\"XI/C9ShMUEDD9Shcj6JjQArXo3A9H55AAAAAAACYrUDXo3A9CkGJQM3MzMxMhqtAmpmZmZnomkAAAAAAALBZQDMzMzOzNKNAMzMzMzNKnUAAAAAAAAAAAAAAAAAAAAAAhetRuJ4ppUAAAAAAAAAAAHE9CtejwZNAZmZmZmaSeEDNzMzMzO6PQAAAAAAAAAAAAAAAAAAAAAAAAAAAAAAAAAAAAAAAAAAAAAAAAAAAAAAAAAAAAAAAAAAAAAAAAAAAMzMzMzPzb0AAAAAAAAAAAAAAAAAAAAAAAAAAAAAAAAAAAAAAAAAAAAAAAAAAAAAA\"},\"shape\":[30],\"dtype\":\"float64\",\"order\":\"little\"}],[\"SowingSeedsDistributed_Maize_320\",{\"type\":\"ndarray\",\"array\":{\"type\":\"bytes\",\"data\":\"zczMzMzMEUCPwvUoXNdgQGZmZmZmQnBAAAAAAACMs0CamZmZmey3QAAAAAAAwElAzczMzEykq0DXo3A9CsytQGZmZmZmn5lArkfhepTXpkAAAAAAAAAAAAAAAAAAAAAA16NwPapuwUCF61G4Hs1uQArXo3A90IhAH4XrUbiVmEAzMzMzMw2gQNejcD3KNcdA7FG4HoX1pEBmZmZmJi62QDMzMzOzTqNAAAAAAAAPsEDNzMzMzB7GQM3MzMzM9JZA9ihcjwJWtkDNzMzMzIw4QAAAAAAAoGRAAAAAAAAAAAAzMzMzM7MsQAAAAAAArLRA\"},\"shape\":[30],\"dtype\":\"float64\",\"order\":\"little\"}],[\"SowingSeedsDistributed_Bajra_321\",{\"type\":\"ndarray\",\"array\":{\"type\":\"bytes\",\"data\":\"AAAAAAAAAAAAAAAAAAAAAAAAAAAAAAAAAAAAAACAUEA9CtejcD0nQAAAAAAAAAAAAAAAAAAAAAAAAAAAAAAAAM3MzMzMzABAAAAAAAAAAAAAAAAAAAAAAAAAAAAAAAAAAAAAAAAAAAAAAAAAAAAAAAAAAAAAAAAAAAAAAAAAAAAAAAAAAAAAAFK4HoXreWlAexSuR+ESaUAAAAAAAAR5QAAAAAAAAAAAAAAAAAAAUEAAAAAAAAAAAAAAAAAAAAAAuB6F61EAnEDNzMzMzAwxQAAAAAAAIGJAZmZmZmZGQ0CPwvUoXGt1QAAAAAAAjJRA\"},\"shape\":[30],\"dtype\":\"float64\",\"order\":\"little\"}],[\"SowingSeedsDistributed_Safflower_323\",{\"type\":\"ndarray\",\"array\":{\"type\":\"bytes\",\"data\":\"AAAAAAAAAAAAAAAAAAAAAAAAAAAAAAAAAAAAAAAAAAAAAAAAAAAAAAAAAAAAAAAAAAAAAAAAAAAAAAAAAAAAAAAAAAAAAAAAAAAAAAAAAAAAAAAAAAAAAAAAAAAAAAAAAAAAAAAAAAAAAAAAAAAAAAAAAAAAAAAAAAAAAAAAAAAAAAAAAAAAAKRwPQrXozdAAAAAAAAAAAAAAAAAAAAAAAAAAAAAAPg/AAAAAAAAEEAAAAAAAAAAAAAAAAAAAAAAAAAAAAAAAACkcD0K12M5QAAAAAAAAAAAAAAAAAAAAAAAAAAAAAAAAAAAAAAAAAAA\"},\"shape\":[30],\"dtype\":\"float64\",\"order\":\"little\"}],[\"SowingSeedsDistributed_Groundnut_328\",{\"type\":\"ndarray\",\"array\":{\"type\":\"bytes\",\"data\":\"AAAAAACAIEDNzMzMzEwlQJqZmZmZOWtAAAAAAMBI30AAAAAAsEPoQAAAAAAAj6dAZmZmZuaIuUAAAAAAAAA+QM3MzMyMXd5AMzMzMzM1l0AAAAAAAAAAAGZmZmZmlntAMzMzMzMz8z8AAAAAAAAAAAAAAAAA4GBAzczMzMzMeUDNzMzMzCOqQAAAAAAAtphAAAAAAEA7yUCamZmZGT3NQJqZmZmZZ5dAAAAAAABvt0AAAAAAAECsQDMzMzMzy4FAAAAAAMAHvEAAAAAAAAAAAAAAAAAA0qlAAAAAAAAAAAAAAAAAAOHEQAAAAAAAQqBA\"},\"shape\":[30],\"dtype\":\"float64\",\"order\":\"little\"}],[\"SowingSeedsDistributed_Sunflower_329\",{\"type\":\"ndarray\",\"array\":{\"type\":\"bytes\",\"data\":\"AAAAAAAAAAAAAAAAAAAAAAAAAAAAAAAAAAAAAADAdUDNzMzMzHiDQAAAAAAAAAAAAAAAAAAAAAAAAAAAAAAAAAAAAAAAAD5Aw/UoXI/iU0AAAAAAAAAAAAAAAAAAAAAAH4XrUbgeHUAAAAAAAAAAAAAAAAAAAAAArkfhehSuKkBcj8L1KOx+QOxRuB6FG2tAzczMzMysYUB7FK5H4dp3QFK4HoXrUSFAAAAAAABIhEB7FK5H4XocQAAAAAAAAAAAw/UoXI+CVkCkcD0K1yM+QAAAAAAAIGBASOF6FK7HM0CamZmZmfVxQAAAAAAAsHZA\"},\"shape\":[30],\"dtype\":\"float64\",\"order\":\"little\"}],[\"SowingSeedsDistributed_Soyabean_330\",{\"type\":\"ndarray\",\"array\":{\"type\":\"bytes\",\"data\":\"AAAAAAAAAAAAAAAAAAAAAAAAAAAAAAAAAAAAAAAAAAAAAAAAAAAAAAAAAAAAAAAAAAAAAAAAAAAAAAAAAAAAAAAAAAAAAAAAAAAAAAAAAAAAAAAAAAAAAAAAAAAAAAAAAAAAAAAAAAAAAAAAAAAAAAAAAAAAAAAAAAAAAAAAAAAAAAAAAAAAAAAAAADA8+NAAAAAAAAAAABmZmZm5makQJqZmZm5tsxAAAAAAAAAAACamZmZGQ7BQAAAAAAAAAAAAAAAAAAAAACamZmZedjsQAAAAAAAQMBAAAAAAAAAAAAAAAAAAAAAAAAAAAAAAAAA\"},\"shape\":[30],\"dtype\":\"float64\",\"order\":\"little\"}],[\"RRB_AgricultureLoan_448\",{\"type\":\"ndarray\",\"array\":{\"type\":\"bytes\",\"data\":\"hetRuB70qkAfhetR+JXEQB+F61H4YMNAH4XrUZDT+UC4HoXrUbXzQPYoXI8uI/FAFK5H4crR50DNzMzMyNrwQNejcD1uh/lAw/UoXO8c4ED2KFyPgsm+QNejcD1Ky7pAUrgehftK7EC4HoXrEdK/QD0K16NIKORAzczMzPB78UBxPQrXQ/rQQBSuR+E4nAJBMzMzM7Nn/UAAAAAAWGD4QFK4HoW/O/BASOF6FKaP8UDD9Shcmyb2QK5H4XoUrbxAH4XrUYaxBEF7FK5Hka/dQGZmZmbi8f5AzczMzHxQ40DsUbgehQj+QBSuR+FSeOxA\"},\"shape\":[30],\"dtype\":\"float64\",\"order\":\"little\"}],[\"DCCBank_AgricultureLoan_466\",{\"type\":\"ndarray\",\"array\":{\"type\":\"bytes\",\"data\":\"cT0K16PejEAAAAAAQJzDQDMzMzMDYdRAmpmZmWne0EDsUbgepaLXQB+F61F4j7ZAMzMzM7N1wUAK16NwzWfeQFyPwvWwDuRAZmZmZmb95UAUrkfhQp7xQOxRuB7V0tNASOF6FE4/6EAzMzMz647kQArXo3AdyOlAw/UoXB9H20ApXI/C1cfGQAAAAAB2IABBUrgehWth90BxPQrXt+j8QFK4HoXrE8NArkfhevQ2wUBI4XoUjhrEQEjhehR2Se5AzczMzHxh5kAK16Nw2aH3QOxRuB4FadRAH4XrUXjdxkApXI/CRX/YQB+F61F43cZA\"},\"shape\":[30],\"dtype\":\"float64\",\"order\":\"little\"}],[\"KSCARD_PLDBank_AgricultureLoan_472\",{\"type\":\"ndarray\",\"array\":{\"type\":\"bytes\",\"data\":\"CtejcD1GikBxPQrXo1OSQPYoXI/C3XlAhetRuB6pikDNzMzMzOeQQK5H4XoUzJpA9ihcj8KMnEDhehSuR9GcQJqZmZmZKJxAH4XrUbiplEDsUbgehR6ZQAAAAAAAeIhAZmZmZmZ+nUAK16NwPayCQIXrUbgeuJ1A9ihcj8IDnkBcj8L1KK6AQArXo3C9w6VA9ihcj0JkpECkcD0K10GjQFyPwvWoOKFAPQrXo3DamkAUrkfhevWgQD0K16Pw36FACtejcD2ulUAUrkfhemSYQHsUrkfh7ZFAPQrXo3D7gUAAAAAAAKSAQFyPwvUoIZdA\"},\"shape\":[30],\"dtype\":\"float64\",\"order\":\"little\"}]]}}},\"view\":{\"type\":\"object\",\"name\":\"CDSView\",\"id\":\"p1560\",\"attributes\":{\"filter\":{\"type\":\"object\",\"name\":\"AllIndices\",\"id\":\"p1561\"}}},\"glyph\":{\"type\":\"object\",\"name\":\"VBar\",\"id\":\"p1556\",\"attributes\":{\"x\":{\"type\":\"field\",\"field\":\"District\"},\"width\":{\"type\":\"value\",\"value\":0.9},\"bottom\":{\"type\":\"expr\",\"expr\":{\"type\":\"object\",\"name\":\"Stack\",\"id\":\"p1547\",\"attributes\":{\"fields\":[]}}},\"top\":{\"type\":\"expr\",\"expr\":{\"type\":\"object\",\"name\":\"Stack\",\"id\":\"p1548\",\"attributes\":{\"fields\":[\"Rice_Production_223\"]}}},\"line_color\":{\"type\":\"value\",\"value\":\"#1f77b4\"},\"fill_color\":{\"type\":\"value\",\"value\":\"#1f77b4\"},\"hatch_color\":{\"type\":\"value\",\"value\":\"#1f77b4\"}}},\"nonselection_glyph\":{\"type\":\"object\",\"name\":\"VBar\",\"id\":\"p1557\",\"attributes\":{\"x\":{\"type\":\"field\",\"field\":\"District\"},\"width\":{\"type\":\"value\",\"value\":0.9},\"bottom\":{\"type\":\"expr\",\"expr\":{\"id\":\"p1547\"}},\"top\":{\"type\":\"expr\",\"expr\":{\"id\":\"p1548\"}},\"line_color\":{\"type\":\"value\",\"value\":\"#1f77b4\"},\"line_alpha\":{\"type\":\"value\",\"value\":0.1},\"fill_color\":{\"type\":\"value\",\"value\":\"#1f77b4\"},\"fill_alpha\":{\"type\":\"value\",\"value\":0.1},\"hatch_color\":{\"type\":\"value\",\"value\":\"#1f77b4\"},\"hatch_alpha\":{\"type\":\"value\",\"value\":0.1}}},\"muted_glyph\":{\"type\":\"object\",\"name\":\"VBar\",\"id\":\"p1558\",\"attributes\":{\"x\":{\"type\":\"field\",\"field\":\"District\"},\"width\":{\"type\":\"value\",\"value\":0.9},\"bottom\":{\"type\":\"expr\",\"expr\":{\"id\":\"p1547\"}},\"top\":{\"type\":\"expr\",\"expr\":{\"id\":\"p1548\"}},\"line_color\":{\"type\":\"value\",\"value\":\"#1f77b4\"},\"line_alpha\":{\"type\":\"value\",\"value\":0.2},\"fill_color\":{\"type\":\"value\",\"value\":\"#1f77b4\"},\"fill_alpha\":{\"type\":\"value\",\"value\":0.2},\"hatch_color\":{\"type\":\"value\",\"value\":\"#1f77b4\"},\"hatch_alpha\":{\"type\":\"value\",\"value\":0.2}}}}},{\"type\":\"object\",\"name\":\"GlyphRenderer\",\"id\":\"p1570\",\"attributes\":{\"name\":\"Jowar_Yield_278\",\"data_source\":{\"id\":\"p1544\"},\"view\":{\"type\":\"object\",\"name\":\"CDSView\",\"id\":\"p1571\",\"attributes\":{\"filter\":{\"type\":\"object\",\"name\":\"AllIndices\",\"id\":\"p1572\"}}},\"glyph\":{\"type\":\"object\",\"name\":\"VBar\",\"id\":\"p1567\",\"attributes\":{\"x\":{\"type\":\"field\",\"field\":\"District\"},\"width\":{\"type\":\"value\",\"value\":0.9},\"bottom\":{\"type\":\"expr\",\"expr\":{\"type\":\"object\",\"name\":\"Stack\",\"id\":\"p1549\",\"attributes\":{\"fields\":[\"Rice_Production_223\"]}}},\"top\":{\"type\":\"expr\",\"expr\":{\"type\":\"object\",\"name\":\"Stack\",\"id\":\"p1550\",\"attributes\":{\"fields\":[\"Rice_Production_223\",\"Jowar_Yield_278\"]}}},\"line_color\":{\"type\":\"value\",\"value\":\"#aec7e8\"},\"fill_color\":{\"type\":\"value\",\"value\":\"#aec7e8\"},\"hatch_color\":{\"type\":\"value\",\"value\":\"#aec7e8\"}}},\"nonselection_glyph\":{\"type\":\"object\",\"name\":\"VBar\",\"id\":\"p1568\",\"attributes\":{\"x\":{\"type\":\"field\",\"field\":\"District\"},\"width\":{\"type\":\"value\",\"value\":0.9},\"bottom\":{\"type\":\"expr\",\"expr\":{\"id\":\"p1549\"}},\"top\":{\"type\":\"expr\",\"expr\":{\"id\":\"p1550\"}},\"line_color\":{\"type\":\"value\",\"value\":\"#aec7e8\"},\"line_alpha\":{\"type\":\"value\",\"value\":0.1},\"fill_color\":{\"type\":\"value\",\"value\":\"#aec7e8\"},\"fill_alpha\":{\"type\":\"value\",\"value\":0.1},\"hatch_color\":{\"type\":\"value\",\"value\":\"#aec7e8\"},\"hatch_alpha\":{\"type\":\"value\",\"value\":0.1}}},\"muted_glyph\":{\"type\":\"object\",\"name\":\"VBar\",\"id\":\"p1569\",\"attributes\":{\"x\":{\"type\":\"field\",\"field\":\"District\"},\"width\":{\"type\":\"value\",\"value\":0.9},\"bottom\":{\"type\":\"expr\",\"expr\":{\"id\":\"p1549\"}},\"top\":{\"type\":\"expr\",\"expr\":{\"id\":\"p1550\"}},\"line_color\":{\"type\":\"value\",\"value\":\"#aec7e8\"},\"line_alpha\":{\"type\":\"value\",\"value\":0.2},\"fill_color\":{\"type\":\"value\",\"value\":\"#aec7e8\"},\"fill_alpha\":{\"type\":\"value\",\"value\":0.2},\"hatch_color\":{\"type\":\"value\",\"value\":\"#aec7e8\"},\"hatch_alpha\":{\"type\":\"value\",\"value\":0.2}}}}},{\"type\":\"object\",\"name\":\"GlyphRenderer\",\"id\":\"p1580\",\"attributes\":{\"name\":\"Maize_Production_226\",\"data_source\":{\"id\":\"p1544\"},\"view\":{\"type\":\"object\",\"name\":\"CDSView\",\"id\":\"p1581\",\"attributes\":{\"filter\":{\"type\":\"object\",\"name\":\"AllIndices\",\"id\":\"p1582\"}}},\"glyph\":{\"type\":\"object\",\"name\":\"VBar\",\"id\":\"p1577\",\"attributes\":{\"x\":{\"type\":\"field\",\"field\":\"District\"},\"width\":{\"type\":\"value\",\"value\":0.9},\"bottom\":{\"type\":\"expr\",\"expr\":{\"type\":\"object\",\"name\":\"Stack\",\"id\":\"p1551\",\"attributes\":{\"fields\":[\"Rice_Production_223\",\"Jowar_Yield_278\"]}}},\"top\":{\"type\":\"expr\",\"expr\":{\"type\":\"object\",\"name\":\"Stack\",\"id\":\"p1552\",\"attributes\":{\"fields\":[\"Rice_Production_223\",\"Jowar_Yield_278\",\"Maize_Production_226\"]}}},\"line_color\":{\"type\":\"value\",\"value\":\"#ff7f0e\"},\"fill_color\":{\"type\":\"value\",\"value\":\"#ff7f0e\"},\"hatch_color\":{\"type\":\"value\",\"value\":\"#ff7f0e\"}}},\"nonselection_glyph\":{\"type\":\"object\",\"name\":\"VBar\",\"id\":\"p1578\",\"attributes\":{\"x\":{\"type\":\"field\",\"field\":\"District\"},\"width\":{\"type\":\"value\",\"value\":0.9},\"bottom\":{\"type\":\"expr\",\"expr\":{\"id\":\"p1551\"}},\"top\":{\"type\":\"expr\",\"expr\":{\"id\":\"p1552\"}},\"line_color\":{\"type\":\"value\",\"value\":\"#ff7f0e\"},\"line_alpha\":{\"type\":\"value\",\"value\":0.1},\"fill_color\":{\"type\":\"value\",\"value\":\"#ff7f0e\"},\"fill_alpha\":{\"type\":\"value\",\"value\":0.1},\"hatch_color\":{\"type\":\"value\",\"value\":\"#ff7f0e\"},\"hatch_alpha\":{\"type\":\"value\",\"value\":0.1}}},\"muted_glyph\":{\"type\":\"object\",\"name\":\"VBar\",\"id\":\"p1579\",\"attributes\":{\"x\":{\"type\":\"field\",\"field\":\"District\"},\"width\":{\"type\":\"value\",\"value\":0.9},\"bottom\":{\"type\":\"expr\",\"expr\":{\"id\":\"p1551\"}},\"top\":{\"type\":\"expr\",\"expr\":{\"id\":\"p1552\"}},\"line_color\":{\"type\":\"value\",\"value\":\"#ff7f0e\"},\"line_alpha\":{\"type\":\"value\",\"value\":0.2},\"fill_color\":{\"type\":\"value\",\"value\":\"#ff7f0e\"},\"fill_alpha\":{\"type\":\"value\",\"value\":0.2},\"hatch_color\":{\"type\":\"value\",\"value\":\"#ff7f0e\"},\"hatch_alpha\":{\"type\":\"value\",\"value\":0.2}}}}}],\"toolbar\":{\"type\":\"object\",\"name\":\"Toolbar\",\"id\":\"p1531\",\"attributes\":{\"tools\":[{\"type\":\"object\",\"name\":\"HoverTool\",\"id\":\"p1584\",\"attributes\":{\"renderers\":\"auto\",\"tooltips\":[[\"District\",\"@District\"],[\"Rice_Production_223\",\"@Rice_Production_223\"],[\"Jowar_Yield_278\",\"@Jowar_Yield_278\"],[\"Maize_Production_226\",\"@Maize_Production_226\"]]}}]}},\"toolbar_location\":null,\"left\":[{\"type\":\"object\",\"name\":\"LinearAxis\",\"id\":\"p1539\",\"attributes\":{\"ticker\":{\"type\":\"object\",\"name\":\"BasicTicker\",\"id\":\"p1540\",\"attributes\":{\"mantissas\":[1,2,5]}},\"formatter\":{\"type\":\"object\",\"name\":\"BasicTickFormatter\",\"id\":\"p1541\"},\"axis_label\":\"Production\",\"major_label_policy\":{\"type\":\"object\",\"name\":\"AllLabels\",\"id\":\"p1542\"}}}],\"below\":[{\"type\":\"object\",\"name\":\"CategoricalAxis\",\"id\":\"p1534\",\"attributes\":{\"ticker\":{\"type\":\"object\",\"name\":\"CategoricalTicker\",\"id\":\"p1535\"},\"formatter\":{\"type\":\"object\",\"name\":\"CategoricalTickFormatter\",\"id\":\"p1536\"},\"major_label_orientation\":\"vertical\",\"major_label_policy\":{\"type\":\"object\",\"name\":\"AllLabels\",\"id\":\"p1537\"}}}],\"center\":[{\"type\":\"object\",\"name\":\"Grid\",\"id\":\"p1538\",\"attributes\":{\"axis\":{\"id\":\"p1534\"}}},{\"type\":\"object\",\"name\":\"Grid\",\"id\":\"p1543\",\"attributes\":{\"dimension\":1,\"axis\":{\"id\":\"p1539\"}}},{\"type\":\"object\",\"name\":\"Legend\",\"id\":\"p1562\",\"attributes\":{\"location\":\"top_left\",\"click_policy\":\"hide\",\"items\":[{\"type\":\"object\",\"name\":\"LegendItem\",\"id\":\"p1563\",\"attributes\":{\"label\":{\"type\":\"value\",\"value\":\"Rice_Production_223\"},\"renderers\":[{\"id\":\"p1559\"}]}},{\"type\":\"object\",\"name\":\"LegendItem\",\"id\":\"p1573\",\"attributes\":{\"label\":{\"type\":\"value\",\"value\":\"Jowar_Yield_278\"},\"renderers\":[{\"id\":\"p1570\"}]}},{\"type\":\"object\",\"name\":\"LegendItem\",\"id\":\"p1583\",\"attributes\":{\"label\":{\"type\":\"value\",\"value\":\"Maize_Production_226\"},\"renderers\":[{\"id\":\"p1580\"}]}}]}}]}}]}};\n  const render_items = [{\"docid\":\"82b89a68-e295-4fae-8487-9c3c41e43874\",\"roots\":{\"p1522\":\"c5639f34-b166-4a99-830c-bec4f4456fec\"},\"root_ids\":[\"p1522\"]}];\n  root.Bokeh.embed.embed_items_notebook(docs_json, render_items);\n  }\n  if (root.Bokeh !== undefined) {\n    embed_document(root);\n  } else {\n    let attempts = 0;\n    const timer = setInterval(function(root) {\n      if (root.Bokeh !== undefined) {\n        clearInterval(timer);\n        embed_document(root);\n      } else {\n        attempts++;\n        if (attempts > 100) {\n          clearInterval(timer);\n          console.log(\"Bokeh: ERROR: Unable to run BokehJS code because BokehJS library is missing\");\n        }\n      }\n    }, 10, root)\n  }\n})(window);",
      "application/vnd.bokehjs_exec.v0+json": ""
     },
     "metadata": {
      "application/vnd.bokehjs_exec.v0+json": {
       "id": "p1522"
      }
     },
     "output_type": "display_data"
    }
   ],
   "source": [
    "from bokeh.models import FactorRange\n",
    "from bokeh.transform import factor_cmap\n",
    "\n",
    "# Assuming df is your DataFrame\n",
    "\n",
    "# List of crops\n",
    "crops = ['Rice_Production_223', 'Jowar_Yield_278', 'Maize_Production_226']\n",
    "\n",
    "# Create a new plot\n",
    "plot = figure(title='Production Comparison by Crop and District', x_range=FactorRange(*districts),toolbar_location=None, tools='')\n",
    "\n",
    "# Plot the data\n",
    "source = ColumnDataSource(df)\n",
    "plot.vbar_stack(crops, x='District', width=0.9, color=Category20[len(crops)], source=source, legend_label=crops)\n",
    "\n",
    "# Add hover tooltips\n",
    "hover = HoverTool()\n",
    "hover.tooltips = [('District', '@District')] + [(crop, f'@{crop}') for crop in crops]\n",
    "plot.add_tools(hover)\n",
    "\n",
    "# Styling\n",
    "plot.xaxis.major_label_orientation = \"vertical\"\n",
    "plot.yaxis.axis_label = \"Production\"\n",
    "plot.legend.location = 'top_left'\n",
    "plot.legend.click_policy = 'hide'\n",
    "\n",
    "# Show the plot\n",
    "show(plot)\n"
   ]
  }
 ],
 "metadata": {
  "kernelspec": {
   "display_name": "Python 3",
   "language": "python",
   "name": "python3"
  },
  "language_info": {
   "codemirror_mode": {
    "name": "ipython",
    "version": 3
   },
   "file_extension": ".py",
   "mimetype": "text/x-python",
   "name": "python",
   "nbconvert_exporter": "python",
   "pygments_lexer": "ipython3",
   "version": "3.9.13"
  }
 },
 "nbformat": 4,
 "nbformat_minor": 2
}
