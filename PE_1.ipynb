{
 "cells": [
  {
   "cell_type": "code",
   "execution_count": 1,
   "metadata": {},
   "outputs": [
    {
     "data": {
      "text/html": [
       "    <style>\n",
       "        .bk-notebook-logo {\n",
       "            display: block;\n",
       "            width: 20px;\n",
       "            height: 20px;\n",
       "            background-image: url(data:image/png;base64,iVBORw0KGgoAAAANSUhEUgAAABQAAAAUCAYAAACNiR0NAAAABHNCSVQICAgIfAhkiAAAAAlwSFlzAAALEgAACxIB0t1+/AAAABx0RVh0U29mdHdhcmUAQWRvYmUgRmlyZXdvcmtzIENTNui8sowAAAOkSURBVDiNjZRtaJVlGMd/1/08zzln5zjP1LWcU9N0NkN8m2CYjpgQYQXqSs0I84OLIC0hkEKoPtiH3gmKoiJDU7QpLgoLjLIQCpEsNJ1vqUOdO7ppbuec5+V+rj4ctwzd8IIbbi6u+8f1539dt3A78eXC7QizUF7gyV1fD1Yqg4JWz84yffhm0qkFqBogB9rM8tZdtwVsPUhWhGcFJngGeWrPzHm5oaMmkfEg1usvLFyc8jLRqDOMru7AyC8saQr7GG7f5fvDeH7Ej8CM66nIF+8yngt6HWaKh7k49Soy9nXurCi1o3qUbS3zWfrYeQDTB/Qj6kX6Ybhw4B+bOYoLKCC9H3Nu/leUTZ1JdRWkkn2ldcCamzrcf47KKXdAJllSlxAOkRgyHsGC/zRday5Qld9DyoM4/q/rUoy/CXh3jzOu3bHUVZeU+DEn8FInkPBFlu3+nW3Nw0mk6vCDiWg8CeJaxEwuHS3+z5RgY+YBR6V1Z1nxSOfoaPa4LASWxxdNp+VWTk7+4vzaou8v8PN+xo+KY2xsw6une2frhw05CTYOmQvsEhjhWjn0bmXPjpE1+kplmmkP3suftwTubK9Vq22qKmrBhpY4jvd5afdRA3wGjFAgcnTK2s4hY0/GPNIb0nErGMCRxWOOX64Z8RAC4oCXdklmEvcL8o0BfkNK4lUg9HTl+oPlQxdNo3Mg4Nv175e/1LDGzZen30MEjRUtmXSfiTVu1kK8W4txyV6BMKlbgk3lMwYCiusNy9fVfvvwMxv8Ynl6vxoByANLTWplvuj/nF9m2+PDtt1eiHPBr1oIfhCChQMBw6Aw0UulqTKZdfVvfG7VcfIqLG9bcldL/+pdWTLxLUy8Qq38heUIjh4XlzZxzQm19lLFlr8vdQ97rjZVOLf8nclzckbcD4wxXMidpX30sFd37Fv/GtwwhzhxGVAprjbg0gCAEeIgwCZyTV2Z1REEW8O4py0wsjeloKoMr6iCY6dP92H6Vw/oTyICIthibxjm/DfN9lVz8IqtqKYLUXfoKVMVQVVJOElGjrnnUt9T9wbgp8AyYKaGlqingHZU/uG2NTZSVqwHQTWkx9hxjkpWDaCg6Ckj5qebgBVbT3V3NNXMSiWSDdGV3hrtzla7J+duwPOToIg42ChPQOQjspnSlp1V+Gjdged7+8UN5CRAV7a5EdFNwCjEaBR27b3W890TE7g24NAP/mMDXRWrGoFPQI9ls/MWO2dWFAar/xcOIImbbpA3zgAAAABJRU5ErkJggg==);\n",
       "        }\n",
       "    </style>\n",
       "    <div>\n",
       "        <a href=\"https://bokeh.org\" target=\"_blank\" class=\"bk-notebook-logo\"></a>\n",
       "        <span id=\"db049f7c-5e47-4400-b99f-74fe61e24b5c\">Loading BokehJS ...</span>\n",
       "    </div>\n"
      ]
     },
     "metadata": {},
     "output_type": "display_data"
    },
    {
     "data": {
      "application/javascript": "(function(root) {\n  function now() {\n    return new Date();\n  }\n\n  const force = true;\n\n  if (typeof root._bokeh_onload_callbacks === \"undefined\" || force === true) {\n    root._bokeh_onload_callbacks = [];\n    root._bokeh_is_loading = undefined;\n  }\n\nconst JS_MIME_TYPE = 'application/javascript';\n  const HTML_MIME_TYPE = 'text/html';\n  const EXEC_MIME_TYPE = 'application/vnd.bokehjs_exec.v0+json';\n  const CLASS_NAME = 'output_bokeh rendered_html';\n\n  /**\n   * Render data to the DOM node\n   */\n  function render(props, node) {\n    const script = document.createElement(\"script\");\n    node.appendChild(script);\n  }\n\n  /**\n   * Handle when an output is cleared or removed\n   */\n  function handleClearOutput(event, handle) {\n    function drop(id) {\n      const view = Bokeh.index.get_by_id(id)\n      if (view != null) {\n        view.model.document.clear()\n        Bokeh.index.delete(view)\n      }\n    }\n\n    const cell = handle.cell;\n\n    const id = cell.output_area._bokeh_element_id;\n    const server_id = cell.output_area._bokeh_server_id;\n\n    // Clean up Bokeh references\n    if (id != null) {\n      drop(id)\n    }\n\n    if (server_id !== undefined) {\n      // Clean up Bokeh references\n      const cmd_clean = \"from bokeh.io.state import curstate; print(curstate().uuid_to_server['\" + server_id + \"'].get_sessions()[0].document.roots[0]._id)\";\n      cell.notebook.kernel.execute(cmd_clean, {\n        iopub: {\n          output: function(msg) {\n            const id = msg.content.text.trim()\n            drop(id)\n          }\n        }\n      });\n      // Destroy server and session\n      const cmd_destroy = \"import bokeh.io.notebook as ion; ion.destroy_server('\" + server_id + \"')\";\n      cell.notebook.kernel.execute(cmd_destroy);\n    }\n  }\n\n  /**\n   * Handle when a new output is added\n   */\n  function handleAddOutput(event, handle) {\n    const output_area = handle.output_area;\n    const output = handle.output;\n\n    // limit handleAddOutput to display_data with EXEC_MIME_TYPE content only\n    if ((output.output_type != \"display_data\") || (!Object.prototype.hasOwnProperty.call(output.data, EXEC_MIME_TYPE))) {\n      return\n    }\n\n    const toinsert = output_area.element.find(\".\" + CLASS_NAME.split(' ')[0]);\n\n    if (output.metadata[EXEC_MIME_TYPE][\"id\"] !== undefined) {\n      toinsert[toinsert.length - 1].firstChild.textContent = output.data[JS_MIME_TYPE];\n      // store reference to embed id on output_area\n      output_area._bokeh_element_id = output.metadata[EXEC_MIME_TYPE][\"id\"];\n    }\n    if (output.metadata[EXEC_MIME_TYPE][\"server_id\"] !== undefined) {\n      const bk_div = document.createElement(\"div\");\n      bk_div.innerHTML = output.data[HTML_MIME_TYPE];\n      const script_attrs = bk_div.children[0].attributes;\n      for (let i = 0; i < script_attrs.length; i++) {\n        toinsert[toinsert.length - 1].firstChild.setAttribute(script_attrs[i].name, script_attrs[i].value);\n        toinsert[toinsert.length - 1].firstChild.textContent = bk_div.children[0].textContent\n      }\n      // store reference to server id on output_area\n      output_area._bokeh_server_id = output.metadata[EXEC_MIME_TYPE][\"server_id\"];\n    }\n  }\n\n  function register_renderer(events, OutputArea) {\n\n    function append_mime(data, metadata, element) {\n      // create a DOM node to render to\n      const toinsert = this.create_output_subarea(\n        metadata,\n        CLASS_NAME,\n        EXEC_MIME_TYPE\n      );\n      this.keyboard_manager.register_events(toinsert);\n      // Render to node\n      const props = {data: data, metadata: metadata[EXEC_MIME_TYPE]};\n      render(props, toinsert[toinsert.length - 1]);\n      element.append(toinsert);\n      return toinsert\n    }\n\n    /* Handle when an output is cleared or removed */\n    events.on('clear_output.CodeCell', handleClearOutput);\n    events.on('delete.Cell', handleClearOutput);\n\n    /* Handle when a new output is added */\n    events.on('output_added.OutputArea', handleAddOutput);\n\n    /**\n     * Register the mime type and append_mime function with output_area\n     */\n    OutputArea.prototype.register_mime_type(EXEC_MIME_TYPE, append_mime, {\n      /* Is output safe? */\n      safe: true,\n      /* Index of renderer in `output_area.display_order` */\n      index: 0\n    });\n  }\n\n  // register the mime type if in Jupyter Notebook environment and previously unregistered\n  if (root.Jupyter !== undefined) {\n    const events = require('base/js/events');\n    const OutputArea = require('notebook/js/outputarea').OutputArea;\n\n    if (OutputArea.prototype.mime_types().indexOf(EXEC_MIME_TYPE) == -1) {\n      register_renderer(events, OutputArea);\n    }\n  }\n  if (typeof (root._bokeh_timeout) === \"undefined\" || force === true) {\n    root._bokeh_timeout = Date.now() + 5000;\n    root._bokeh_failed_load = false;\n  }\n\n  const NB_LOAD_WARNING = {'data': {'text/html':\n     \"<div style='background-color: #fdd'>\\n\"+\n     \"<p>\\n\"+\n     \"BokehJS does not appear to have successfully loaded. If loading BokehJS from CDN, this \\n\"+\n     \"may be due to a slow or bad network connection. Possible fixes:\\n\"+\n     \"</p>\\n\"+\n     \"<ul>\\n\"+\n     \"<li>re-rerun `output_notebook()` to attempt to load from CDN again, or</li>\\n\"+\n     \"<li>use INLINE resources instead, as so:</li>\\n\"+\n     \"</ul>\\n\"+\n     \"<code>\\n\"+\n     \"from bokeh.resources import INLINE\\n\"+\n     \"output_notebook(resources=INLINE)\\n\"+\n     \"</code>\\n\"+\n     \"</div>\"}};\n\n  function display_loaded() {\n    const el = document.getElementById(\"db049f7c-5e47-4400-b99f-74fe61e24b5c\");\n    if (el != null) {\n      el.textContent = \"BokehJS is loading...\";\n    }\n    if (root.Bokeh !== undefined) {\n      if (el != null) {\n        el.textContent = \"BokehJS \" + root.Bokeh.version + \" successfully loaded.\";\n      }\n    } else if (Date.now() < root._bokeh_timeout) {\n      setTimeout(display_loaded, 100)\n    }\n  }\n\n  function run_callbacks() {\n    try {\n      root._bokeh_onload_callbacks.forEach(function(callback) {\n        if (callback != null)\n          callback();\n      });\n    } finally {\n      delete root._bokeh_onload_callbacks\n    }\n    console.debug(\"Bokeh: all callbacks have finished\");\n  }\n\n  function load_libs(css_urls, js_urls, callback) {\n    if (css_urls == null) css_urls = [];\n    if (js_urls == null) js_urls = [];\n\n    root._bokeh_onload_callbacks.push(callback);\n    if (root._bokeh_is_loading > 0) {\n      console.debug(\"Bokeh: BokehJS is being loaded, scheduling callback at\", now());\n      return null;\n    }\n    if (js_urls == null || js_urls.length === 0) {\n      run_callbacks();\n      return null;\n    }\n    console.debug(\"Bokeh: BokehJS not loaded, scheduling load and callback at\", now());\n    root._bokeh_is_loading = css_urls.length + js_urls.length;\n\n    function on_load() {\n      root._bokeh_is_loading--;\n      if (root._bokeh_is_loading === 0) {\n        console.debug(\"Bokeh: all BokehJS libraries/stylesheets loaded\");\n        run_callbacks()\n      }\n    }\n\n    function on_error(url) {\n      console.error(\"failed to load \" + url);\n    }\n\n    for (let i = 0; i < css_urls.length; i++) {\n      const url = css_urls[i];\n      const element = document.createElement(\"link\");\n      element.onload = on_load;\n      element.onerror = on_error.bind(null, url);\n      element.rel = \"stylesheet\";\n      element.type = \"text/css\";\n      element.href = url;\n      console.debug(\"Bokeh: injecting link tag for BokehJS stylesheet: \", url);\n      document.body.appendChild(element);\n    }\n\n    for (let i = 0; i < js_urls.length; i++) {\n      const url = js_urls[i];\n      const element = document.createElement('script');\n      element.onload = on_load;\n      element.onerror = on_error.bind(null, url);\n      element.async = false;\n      element.src = url;\n      console.debug(\"Bokeh: injecting script tag for BokehJS library: \", url);\n      document.head.appendChild(element);\n    }\n  };\n\n  function inject_raw_css(css) {\n    const element = document.createElement(\"style\");\n    element.appendChild(document.createTextNode(css));\n    document.body.appendChild(element);\n  }\n\n  const js_urls = [\"https://cdn.bokeh.org/bokeh/release/bokeh-3.3.3.min.js\", \"https://cdn.bokeh.org/bokeh/release/bokeh-gl-3.3.3.min.js\", \"https://cdn.bokeh.org/bokeh/release/bokeh-widgets-3.3.3.min.js\", \"https://cdn.bokeh.org/bokeh/release/bokeh-tables-3.3.3.min.js\", \"https://cdn.bokeh.org/bokeh/release/bokeh-mathjax-3.3.3.min.js\"];\n  const css_urls = [];\n\n  const inline_js = [    function(Bokeh) {\n      Bokeh.set_log_level(\"info\");\n    },\nfunction(Bokeh) {\n    }\n  ];\n\n  function run_inline_js() {\n    if (root.Bokeh !== undefined || force === true) {\n          for (let i = 0; i < inline_js.length; i++) {\n      inline_js[i].call(root, root.Bokeh);\n    }\nif (force === true) {\n        display_loaded();\n      }} else if (Date.now() < root._bokeh_timeout) {\n      setTimeout(run_inline_js, 100);\n    } else if (!root._bokeh_failed_load) {\n      console.log(\"Bokeh: BokehJS failed to load within specified timeout.\");\n      root._bokeh_failed_load = true;\n    } else if (force !== true) {\n      const cell = $(document.getElementById(\"db049f7c-5e47-4400-b99f-74fe61e24b5c\")).parents('.cell').data().cell;\n      cell.output_area.append_execute_result(NB_LOAD_WARNING)\n    }\n  }\n\n  if (root._bokeh_is_loading === 0) {\n    console.debug(\"Bokeh: BokehJS loaded, going straight to plotting\");\n    run_inline_js();\n  } else {\n    load_libs(css_urls, js_urls, function() {\n      console.debug(\"Bokeh: BokehJS plotting callback run at\", now());\n      run_inline_js();\n    });\n  }\n}(window));",
      "application/vnd.bokehjs_load.v0+json": ""
     },
     "metadata": {},
     "output_type": "display_data"
    }
   ],
   "source": [
    "import pandas as pd\n",
    "import numpy as np\n",
    "import networkx as nx\n",
    "from collections import defaultdict\n",
    "import math\n",
    "import statsmodels.api as sm\n",
    "import seaborn as sns\n",
    "import matplotlib.pyplot as plt\n",
    "from sklearn.preprocessing import MinMaxScaler\n",
    "%matplotlib notebook\n",
    "from bokeh.plotting import figure, show, output_notebook\n",
    "from bokeh.models import HoverTool, ColumnDataSource\n",
    "from bokeh.palettes import Category20\n",
    "output_notebook()"
   ]
  },
  {
   "cell_type": "code",
   "execution_count": 2,
   "metadata": {},
   "outputs": [],
   "source": [
    "def init_graph(G,node_adj_frame):\n",
    "    G.add_nodes_from([i for i in range(len(node_adj_frame))])\n",
    "    labels = {}\n",
    "    labels = node_adj_frame.columns\n",
    "    for i in range(len(node_adj_frame)):\n",
    "        snode = node_adj_frame[labels[0]][i]-1\n",
    "        temp = node_adj_frame[labels[2]][i]\n",
    "        if ',' in str(temp):\n",
    "            sedge_arr = temp.split(',')\n",
    "            for j in range(0, len(sedge_arr)):\n",
    "                k = int(sedge_arr[j])\n",
    "                G.add_edge(snode, k-1)\n",
    "        elif np.isnan(temp):\n",
    "            print(\"ERROR: Not found in the adjacency excel sheet\")\n",
    "        else:\n",
    "            G.add_edge(snode, int(temp)-1)\n",
    "    return"
   ]
  },
  {
   "cell_type": "code",
   "execution_count": 3,
   "metadata": {},
   "outputs": [],
   "source": [
    "def init_graph_attr(G, AdjFile, df, columns):\n",
    "    node_adj_frame = pd.read_excel(AdjFile)\n",
    "    node_list = node_adj_frame[\"District_Name\"].tolist()\n",
    "    node_list.insert(80, \"\")\n",
    "    nodeAttr = {}\n",
    "    init_graph(G, node_adj_frame)\n",
    "    \n",
    "    capability_vector = list(zip(*(df[col] for col in columns)))\n",
    "    node_attri_dict = dict(zip(df[\"District\"], capability_vector))\n",
    "    node_attri_dict = dict((k, v) for k, v in node_attri_dict.items())\n",
    "\n",
    "    for i in range(len(node_adj_frame)):\n",
    "        temp = {}\n",
    "        temp[\"capabilityvector\"] = node_attri_dict[node_list[i]]\n",
    "        temp[\"nodeStress\"] = 0\n",
    "        temp[\"name\"] = node_list[i]\n",
    "        nodeAttr[i] = temp\n",
    "\n",
    "    nx.set_node_attributes(G, nodeAttr)"
   ]
  },
  {
   "cell_type": "code",
   "execution_count": 4,
   "metadata": {
    "tags": []
   },
   "outputs": [],
   "source": [
    "G = nx.Graph()\n",
    "df = pd.read_excel('KAG 2016-17/Agriculture/Agriculture_KAG_2016_17.xlsx')\n",
    "adjacency_file = 'Karnataka_District_Adjacency_File.xlsx'\n",
    "\n",
    "# existing_data = pd.DataFrame(df['District'])\n",
    "\n",
    "existing_data = pd.read_csv('result.csv')\n"
   ]
  },
  {
   "cell_type": "code",
   "execution_count": 5,
   "metadata": {},
   "outputs": [],
   "source": [
    "existing_data = pd.DataFrame(existing_data['District'])"
   ]
  },
  {
   "cell_type": "code",
   "execution_count": 6,
   "metadata": {},
   "outputs": [],
   "source": [
    "def addList(l1,l2):\n",
    "    for i in range(len(l1)):\n",
    "        l1[i] = l1[i] + l2[i]\n",
    "    return l1\n",
    "\n",
    "def divList(l1,k):\n",
    "    for i in range(len(l1)):\n",
    "        l1[i] = l1[i]/k\n",
    "    return l1\n",
    "def l2_normalization(l1,l2):\n",
    "    k = 0\n",
    "    for i in range(len(l1)):\n",
    "        k+= (l1[i] - l2[i])**2\n",
    "    return math.sqrt(k)"
   ]
  },
  {
   "cell_type": "code",
   "execution_count": 7,
   "metadata": {},
   "outputs": [],
   "source": [
    "def get_node_stress(G,dim):\n",
    "    taluka_stress_dict = {}\n",
    "    for n in G.nodes():\n",
    "        centroid = [0]*dim\n",
    "        neighList = list(G.neighbors(n))\n",
    "        for nei in neighList:\n",
    "            try:\n",
    "                centroid = addList(centroid,list(G.nodes[nei][\"capabilityvector\"]))\n",
    "            except(KeyError):\n",
    "                pass\n",
    "        try:\n",
    "            G.nodes[n][\"nodeStress\"] = l2_normalization(divList(centroid,len(neighList)),list(G.nodes[n][\"capabilityvector\"]))\n",
    "        except(KeyError):\n",
    "            pass\n",
    "        try:\n",
    "            taluka_stress_dict[G.nodes[n][\"name\"]]=G.nodes[n][\"nodeStress\"]\n",
    "        except(KeyError):\n",
    "            pass\n",
    "    return taluka_stress_dict"
   ]
  },
  {
   "cell_type": "code",
   "execution_count": 8,
   "metadata": {},
   "outputs": [],
   "source": [
    "def get_node_stability(G,dim):\n",
    "    taluka_stress_dict = {}\n",
    "    for n in G.nodes():\n",
    "        centroid = [0]*dim\n",
    "        neighList = list(G.neighbors(n))\n",
    "        for nei in neighList:\n",
    "            try:\n",
    "                centroid = addList(centroid,list(G.nodes[nei][\"capabilityvector\"]))\n",
    "            except(KeyError):\n",
    "                pass\n",
    "        try:\n",
    "            G.nodes[n][\"nodeStress\"] = 1 - l2_normalization(divList(centroid,len(neighList)),list(G.nodes[n][\"capabilityvector\"]))\n",
    "        except(KeyError):\n",
    "            pass\n",
    "        try:\n",
    "            taluka_stress_dict[G.nodes[n][\"name\"]]=G.nodes[n][\"nodeStress\"]\n",
    "        except(KeyError):\n",
    "            pass\n",
    "    return taluka_stress_dict"
   ]
  },
  {
   "cell_type": "code",
   "execution_count": 9,
   "metadata": {},
   "outputs": [],
   "source": [
    "columns = [\"Rice_Production_223\"]\n",
    "dim = len(columns)\n",
    "init_graph_attr(G, \"KAG 2016-17/Karnataka_District_Adjacency_File.xlsx\", df, columns)\n",
    "\n",
    "# initialstress = get_node_stress(G,dim)\n",
    "# df[\"Initial Stress\"] = df[\"District\"].map(initialstress)"
   ]
  },
  {
   "cell_type": "code",
   "execution_count": 10,
   "metadata": {},
   "outputs": [],
   "source": [
    "# df[\"Initial Stress\"]"
   ]
  },
  {
   "cell_type": "code",
   "execution_count": 11,
   "metadata": {},
   "outputs": [],
   "source": [
    "# def calculate_impact_score(df, base_column, capability_vector, intervention):\n",
    "#     # Perform simple linear regression\n",
    "#     X = sm.add_constant(df[base_column])\n",
    "#     y = df[capability_vector]\n",
    "#     model = sm.OLS(y, X).fit()\n",
    "\n",
    "#     # Get coefficients and intercept\n",
    "#     m, c = model.params[base_column], model.params['const']\n",
    "#     print(c)\n",
    "#     # Predicted change in capability_vector for base_column + change_percentage% and base_column - change_percentage%\n",
    "#     base_column_increase = (1 + intervention/100) * df[base_column]\n",
    "#     base_column_decrease = (1 - intervention/100) * df[base_column]\n",
    "\n",
    "#     rp_new_plus = m * base_column_increase + c \n",
    "#     rp_new_minus = m * base_column_decrease + c \n",
    "\n",
    "#     vector_plus = rp_new_plus - m * df[base_column] - c  \n",
    "#     vector_minus = rp_new_minus - m * df[base_column] - c\n",
    "\n",
    "#     # Generate normalized values using MinMaxScaler\n",
    "#     scaler = MinMaxScaler()\n",
    "\n",
    "#     normalized_vector_plus = scaler.fit_transform(vector_plus.values.reshape(-1, 1))\n",
    "#     normalized_vector_minus = scaler.fit_transform(vector_minus.values.reshape(-1, 1))\n",
    "\n",
    "#     # Create new DataFrame with appropriate column names\n",
    "#     result_df = pd.DataFrame({\n",
    "#         f'{capability_vector} ({base_column} +{intervention}%)': rp_new_plus,\n",
    "#         f'{capability_vector} ({base_column} -{intervention}%)': rp_new_minus,\n",
    "#         f'Normalized {capability_vector} ({base_column} +{intervention}%)': normalized_vector_plus.flatten(),\n",
    "#         f'Normalized {capability_vector} ({base_column} -{intervention}%)': normalized_vector_minus.flatten()\n",
    "#     })\n",
    "\n",
    "#     return result_df"
   ]
  },
  {
   "cell_type": "code",
   "execution_count": 12,
   "metadata": {},
   "outputs": [],
   "source": [
    "# base_Column = \"TotalNPK_315\"\n",
    "# CapabilityVector = \"Jowar_Yield_278\"\n",
    "# change_percentage = 20\n",
    "\n",
    "# result_df = calculate_impact_score(df, base_Column, CapabilityVector, change_percentage)\n",
    "\n",
    "# result_df.head()"
   ]
  },
  {
   "cell_type": "code",
   "execution_count": 13,
   "metadata": {},
   "outputs": [],
   "source": [
    "# def merge_columns_into_dataframe(result_df, existing_data):\n",
    "#     for column in result_df.columns:\n",
    "#         existing_data[column] = result_df[column]\n",
    "#     return existing_data\n",
    "\n",
    "# # Assuming existing_data is already defined\n",
    "# existing_data = merge_columns_into_dataframe(result_df, existing_data)\n",
    "# existing_data.head()"
   ]
  },
  {
   "cell_type": "code",
   "execution_count": 14,
   "metadata": {},
   "outputs": [],
   "source": [
    "# result_df.head()"
   ]
  },
  {
   "cell_type": "code",
   "execution_count": 15,
   "metadata": {},
   "outputs": [
    {
     "data": {
      "text/html": [
       "<div>\n",
       "<style scoped>\n",
       "    .dataframe tbody tr th:only-of-type {\n",
       "        vertical-align: middle;\n",
       "    }\n",
       "\n",
       "    .dataframe tbody tr th {\n",
       "        vertical-align: top;\n",
       "    }\n",
       "\n",
       "    .dataframe thead th {\n",
       "        text-align: right;\n",
       "    }\n",
       "</style>\n",
       "<table border=\"1\" class=\"dataframe\">\n",
       "  <thead>\n",
       "    <tr style=\"text-align: right;\">\n",
       "      <th></th>\n",
       "      <th>District</th>\n",
       "    </tr>\n",
       "  </thead>\n",
       "  <tbody>\n",
       "    <tr>\n",
       "      <th>0</th>\n",
       "      <td>BENGALURU</td>\n",
       "    </tr>\n",
       "    <tr>\n",
       "      <th>1</th>\n",
       "      <td>BENGALURU(R)</td>\n",
       "    </tr>\n",
       "    <tr>\n",
       "      <th>2</th>\n",
       "      <td>RAMANAGARA</td>\n",
       "    </tr>\n",
       "    <tr>\n",
       "      <th>3</th>\n",
       "      <td>CHITRADURGA</td>\n",
       "    </tr>\n",
       "    <tr>\n",
       "      <th>4</th>\n",
       "      <td>DAVANAGERE</td>\n",
       "    </tr>\n",
       "  </tbody>\n",
       "</table>\n",
       "</div>"
      ],
      "text/plain": [
       "       District\n",
       "0     BENGALURU\n",
       "1  BENGALURU(R)\n",
       "2    RAMANAGARA\n",
       "3   CHITRADURGA\n",
       "4    DAVANAGERE"
      ]
     },
     "execution_count": 15,
     "metadata": {},
     "output_type": "execute_result"
    }
   ],
   "source": [
    "existing_data.head()"
   ]
  },
  {
   "cell_type": "code",
   "execution_count": 16,
   "metadata": {},
   "outputs": [],
   "source": [
    "dim = 1"
   ]
  },
  {
   "cell_type": "code",
   "execution_count": 17,
   "metadata": {},
   "outputs": [],
   "source": [
    "def calculate_and_map_stability(G, existing_data, adjacency_file, columns_to_pass, change_percentage, dim):\n",
    "    # Initialize the graph attributes\n",
    "    init_graph_attr(G, adjacency_file, existing_data, columns_to_pass)\n",
    "\n",
    "    # Calculate node stress for the given change percentage\n",
    "    NPK_stability = get_node_stability(G, dim)\n",
    "\n",
    "    # Create a new column in the result DataFrame\n",
    "    stability_column_name = f\"New Stability(NPK {'+' if change_percentage >= 0 else '-'} {abs(change_percentage)}%)\"\n",
    "    stability_column = existing_data[\"District\"].map(NPK_stability)\n",
    "\n",
    "    return stability_column, stability_column_name\n",
    "\n",
    "# Example Usage:\n",
    "# columns_to_pass_minus20 = [\"Normalized Rice_Production_223 (TotalNPK_315 -20%)\"]\n",
    "# columns_to_pass_plus20 = [\"Normalized Rice_Production_223 (TotalNPK_315 +20%)\"]\n",
    "\n",
    "# # Calculate and get stress column for NPK -20%\n",
    "# stability_column_minus20, stability_column_name_minus20 = calculate_and_map_stability(G, existing_data.copy(), adjacency_file, columns_to_pass_minus20, -20, dim)\n",
    "\n",
    "# # Calculate and get stress column for NPK +20%\n",
    "# stability_column_plus20, stability_column_name_plus20 = calculate_and_map_stability(G, existing_data.copy(), adjacency_file, columns_to_pass_plus20, 20, dim)\n",
    "\n",
    "# # Add stress columns to the result DataFrame\n",
    "# existing_data[stability_column_name_plus20] = stability_column_plus20\n",
    "\n",
    "# # existing_data[stability_column_name_minus20] = stability_column_minus20\n",
    "\n",
    "# # Display the resulting DataFrame\n",
    "# existing_data.head()"
   ]
  },
  {
   "cell_type": "markdown",
   "metadata": {},
   "source": [
    "## 1D Capability Vector"
   ]
  },
  {
   "cell_type": "code",
   "execution_count": 18,
   "metadata": {},
   "outputs": [],
   "source": [
    "# from bokeh.models import Span, Label\n",
    "# from bokeh.plotting import figure, show, output_notebook\n",
    "# from bokeh.models.sources import ColumnDataSource\n",
    "# from bokeh.models.tools import HoverTool\n",
    "# import statsmodels.api as sm\n",
    "# from sklearn.preprocessing import MinMaxScaler\n",
    "# import plotly.express as px\n",
    "\n",
    "# # Define the function to calculate and visualize impact stability\n",
    "# def calc_and_vis_impact_stability_1D(G, existing_data, adjacency_file, base_column, capability_vector, intervention, dim):\n",
    "#     # Calculate Impact Score\n",
    "#     X = sm.add_constant(df[base_column])\n",
    "#     y = df[capability_vector]\n",
    "#     model = sm.OLS(y, X).fit()\n",
    "    \n",
    "#     m, c = model.params[base_column], model.params['const']\n",
    "\n",
    "#     base_column_increase = (1 + intervention/100) * df[base_column]\n",
    "#     base_column_decrease = (1 - intervention/100) * df[base_column]\n",
    "\n",
    "#     new_vector_increase = m * base_column_increase + c\n",
    "#     new_vector_decrease = m * base_column_decrease + c\n",
    "    \n",
    "#     vector_plus = new_vector_increase - m * df[base_column] - c  \n",
    "#     vector_minus = new_vector_decrease - m * df[base_column] - c\n",
    "\n",
    "#     scaler = MinMaxScaler()\n",
    "#     normalized_change_increase_vector = scaler.fit_transform(vector_plus.values.reshape(-1, 1))\n",
    "    \n",
    "#     scaler2 = MinMaxScaler()\n",
    "#     normalized_change_decrease_vector = scaler2.fit_transform(vector_minus.values.reshape(-1, 1))\n",
    "    \n",
    "    \n",
    "#     scaler3 = MinMaxScaler()\n",
    "#     normalized_new_increase_vector = scaler3.fit_transform(new_vector_increase.values.reshape(-1, 1))\n",
    "    \n",
    "#     scaler4 = MinMaxScaler()\n",
    "#     normalized_new_decrease_vector = scaler4.fit_transform(new_vector_decrease.values.reshape(-1, 1))\n",
    "\n",
    "#     result_df = pd.DataFrame({\n",
    "#         f'{capability_vector} ({base_column} +{intervention}%)': new_vector_increase,\n",
    "#         f'{capability_vector} ({base_column} -{intervention}%)': new_vector_decrease,\n",
    "#         f'Normalized {capability_vector} ({base_column} +{intervention}%)': normalized_new_increase_vector.flatten(),\n",
    "#         f'Normalized {capability_vector} ({base_column} -{intervention}%)': normalized_new_decrease_vector.flatten(),\n",
    "#         f'Impact Score {capability_vector} ({base_column} +{intervention}%)': normalized_change_increase_vector.flatten(),\n",
    "#         f'Impact Score {capability_vector} ({base_column} -{intervention}%)': normalized_change_decrease_vector.flatten(),\n",
    "#     })\n",
    "    \n",
    "#     # Merge Columns\n",
    "#     for column in result_df.columns:\n",
    "#         existing_data[column] = result_df[column]\n",
    "\n",
    "#     # Calculate Stability and add to DataFrame\n",
    "#     columns_to_pass = [f\"Normalized {capability_vector} ({base_column} {'+' if intervention >= 0 else '-'}{abs(intervention)}%)\"]\n",
    "#     stability_column, stability_column_name = calculate_and_map_stability(G, existing_data.copy(), adjacency_file, columns_to_pass, intervention, dim)\n",
    "\n",
    "#     existing_data[stability_column_name] = stability_column\n",
    "\n",
    "#     # Calculate Stability for the opposite intervention and add to DataFrame\n",
    "#     opposite_intervention = -intervention\n",
    "#     columns_to_pass_opposite = [f\"Normalized {capability_vector} ({base_column} {'+' if opposite_intervention >= 0 else '-'}{abs(opposite_intervention)}%)\"]\n",
    "#     stability_column_opposite, stability_column_name_opposite = calculate_and_map_stability(G, existing_data.copy(), adjacency_file, columns_to_pass_opposite, opposite_intervention, dim)\n",
    "\n",
    "#     existing_data[stability_column_name_opposite] = stability_column_opposite\n",
    "\n",
    "#     columns_to_pass = [f\"Normalized {capability_vector} ({base_column} {'+' if intervention >= 0 else '-'}{abs(intervention)}%)\"]\n",
    "#     stability_column, stability_column_name = calculate_and_map_stability(G, existing_data.copy(), adjacency_file, columns_to_pass, intervention, dim)\n",
    "\n",
    "#     existing_data[stability_column_name] = stability_column\n",
    "\n",
    "#     # Calculate Stability for the opposite intervention and add to DataFrame\n",
    "#     opposite_intervention = -intervention\n",
    "#     columns_to_pass_opposite = [f\"Normalized {capability_vector} ({base_column} {'+' if opposite_intervention >= 0 else '-'}{abs(opposite_intervention)}%)\"]\n",
    "#     stability_column_opposite, stability_column_name_opposite = calculate_and_map_stability(G, existing_data.copy(), adjacency_file, columns_to_pass_opposite, opposite_intervention, dim)\n",
    "\n",
    "#     existing_data[stability_column_name_opposite] = stability_column_opposite\n",
    "\n",
    "#     # Visualize with Plotly for +intervention\n",
    "#     fig_increase = px.scatter(existing_data,\n",
    "#                               x=stability_column_name,\n",
    "#                               y=f'Normalized {capability_vector} ({base_column} +{intervention}%)',\n",
    "#                               title=f'Impact vs Stability ({capability_vector} - {base_column} +{intervention}%)',\n",
    "#                               labels={'x': f'Stability ({base_column} +{intervention}%)', 'y': f'Impact ({capability_vector})'},\n",
    "#                               size_max=8,\n",
    "#                               width=800,\n",
    "#                               height=500)\n",
    "    \n",
    "#     fig_increase.update_traces(hoverlabel=dict(bgcolor='grey', font=dict(color='white')))\n",
    "\n",
    "#     # Calculate average values from the DataFrame for +intervention\n",
    "#     avg_x_increase = existing_data[stability_column_name].mean()\n",
    "#     avg_y_increase = existing_data[f'Normalized {capability_vector} ({base_column} +{intervention}%)'].mean()\n",
    "\n",
    "#     # Add average lines for +intervention\n",
    "#     fig_increase.add_shape(\n",
    "#         type='line',\n",
    "#         x0=avg_x_increase,\n",
    "#         x1=avg_x_increase,\n",
    "#         y0=fig_increase.data[0].y.min(),\n",
    "#         y1=fig_increase.data[0].y.max(),\n",
    "#         line=dict(color='red', width=2)\n",
    "#     )\n",
    "#     fig_increase.add_shape(\n",
    "#         type='line',\n",
    "#         x0=fig_increase.data[0].x.min(),\n",
    "#         x1=fig_increase.data[0].x.max(),\n",
    "#         y0=avg_y_increase,\n",
    "#         y1=avg_y_increase,\n",
    "#         line=dict(color='blue', width=2)\n",
    "#     )\n",
    "\n",
    "#     # Add labels for average lines for +intervention\n",
    "#     fig_increase.add_annotation(\n",
    "#         x=avg_x_increase,\n",
    "#         y=fig_increase.data[0].y.max(),\n",
    "#         text=f'Avg {stability_column_name}',\n",
    "#         showarrow=True,\n",
    "#         arrowhead=4,\n",
    "#         arrowcolor='red',\n",
    "#         ax=0,\n",
    "#         ay=-40,\n",
    "#         font=dict(color='red')\n",
    "#     )\n",
    "#     fig_increase.add_annotation(\n",
    "#         x=fig_increase.data[0].x.max(),\n",
    "#         y=avg_y_increase,\n",
    "#         text=f'Avg Normalized {capability_vector}',\n",
    "#         showarrow=True,\n",
    "#         arrowhead=4,\n",
    "#         arrowcolor='blue',\n",
    "#         ax=-40,\n",
    "#         ay=0,\n",
    "#         font=dict(color='blue')\n",
    "#     )\n",
    "\n",
    "#     # Add tooltips for +intervention\n",
    "#     fig_increase.update_traces(hoverinfo='text+name',\n",
    "#                                hovertext=[\"District: \" + str(d) +\n",
    "#                                           f\"<br>Impact ({capability_vector}): {y} <br>Stability ({base_column} +{intervention}%): {x}\"\n",
    "#                                           for x, y, d in zip(fig_increase.data[0].x, fig_increase.data[0].y, existing_data['District'])])\n",
    "\n",
    "#     # Visualize with Plotly for -intervention\n",
    "#     fig_decrease = px.scatter(existing_data,\n",
    "#                               x=stability_column_name_opposite,\n",
    "#                               y=f'Normalized {capability_vector} ({base_column} -{intervention}%)',\n",
    "#                               title=f'Impact vs Stability ({capability_vector} - {base_column} -{intervention}%)',\n",
    "#                               labels={'x': f'Stability ({base_column} -{intervention}%)', 'y': f'Impact ({capability_vector})'},\n",
    "#                               size_max=8,\n",
    "#                               width=800,\n",
    "#                               height=500)\n",
    "\n",
    "#     # Calculate average values from the DataFrame for -intervention\n",
    "#     avg_x_decrease = existing_data[stability_column_name_opposite].mean()\n",
    "#     avg_y_decrease = existing_data[f'Normalized {capability_vector} ({base_column} -{intervention}%)'].mean()\n",
    "\n",
    "#     # Add average lines for -intervention\n",
    "#     fig_decrease.add_shape(\n",
    "#         type='line',\n",
    "#         x0=avg_x_decrease,\n",
    "#         x1=avg_x_decrease,\n",
    "#         y0=fig_decrease.data[0].y.min(),\n",
    "#         y1=fig_decrease.data[0].y.max(),\n",
    "#         line=dict(color='red', width=2)\n",
    "#     )\n",
    "#     fig_decrease.add_shape(\n",
    "#         type='line',\n",
    "#         x0=fig_decrease.data[0].x.min(),\n",
    "#         x1=fig_decrease.data[0].x.max(),\n",
    "#         y0=avg_y_decrease,\n",
    "#         y1=avg_y_decrease,\n",
    "#         line=dict(color='blue', width=2)\n",
    "#     )\n",
    "\n",
    "#     # Add labels for average lines for -intervention\n",
    "#     fig_decrease.add_annotation(\n",
    "#         x=avg_x_decrease,\n",
    "#         y=fig_decrease.data[0].y.max(),\n",
    "#         text=f'Avg {stability_column_name_opposite}',\n",
    "#         showarrow=True,\n",
    "#         arrowhead=4,\n",
    "#         arrowcolor='red',\n",
    "#         ax=0,\n",
    "#         ay=-40,\n",
    "#         font=dict(color='red')\n",
    "#     )\n",
    "#     fig_decrease.add_annotation(\n",
    "#         x=fig_decrease.data[0].x.max(),\n",
    "#         y=avg_y_decrease,\n",
    "#         text=f'Avg Normalized {capability_vector}',\n",
    "#         showarrow=True,\n",
    "#         arrowhead=4,\n",
    "#         arrowcolor='blue',\n",
    "#         ax=-40,\n",
    "#         ay=0,\n",
    "#         font=dict(color='blue')\n",
    "#     )\n",
    "\n",
    "#     # Add tooltips for -intervention\n",
    "#     fig_decrease.update_traces(hoverinfo='text+name',\n",
    "#                                hovertext=[\"District: \" + str(d) +\n",
    "#                                           f\"<br>Impact ({capability_vector}): {y} <br>Stability ({base_column} -{intervention}%): {x}\"\n",
    "#                                           for x, y, d in zip(fig_decrease.data[0].x, fig_decrease.data[0].y, existing_data['District'])])\n",
    "\n",
    "#     # Show the plots\n",
    "#     fig_increase.show()\n",
    "#     fig_decrease.show()\n",
    "\n",
    "#     return existing_data\n",
    "\n",
    "# base_Column = \"TotalNPK_315\"\n",
    "# CapabilityVector = \"Rice_Production_223\"\n",
    "# change_percentage = 20\n",
    "# dim = 1\n",
    "\n",
    "# # Call the function and get the handles for the two plots\n",
    "# new_data = calc_and_vis_impact_stability_1D(G, existing_data.copy(), adjacency_file, base_Column, CapabilityVector, change_percentage, dim)\n",
    "\n",
    "# # Display the resulting DataFrame\n",
    "# new_data.head()\n"
   ]
  },
  {
   "cell_type": "code",
   "execution_count": 19,
   "metadata": {},
   "outputs": [],
   "source": [
    "\n",
    "# base_Column = \"TotalNPK_315\"\n",
    "# CapabilityVector = \"Maize_Production_226\"\n",
    "# change_percentage = 20\n",
    "# dim = 1\n",
    "\n",
    "# # Call the function and get the handles for the two plots\n",
    "# new_data = calc_and_vis_impact_stability_1D(G, existing_data.copy(), adjacency_file, base_Column, CapabilityVector, change_percentage, dim)\n",
    "\n",
    "# # Display the resulting DataFrame\n",
    "# new_data.head()"
   ]
  },
  {
   "cell_type": "code",
   "execution_count": 20,
   "metadata": {},
   "outputs": [],
   "source": [
    "# Save the resulting DataFrame to a new CSV file if needed\n",
    "# existing_data.to_csv('result.csv', index=False)"
   ]
  },
  {
   "cell_type": "code",
   "execution_count": 21,
   "metadata": {},
   "outputs": [],
   "source": [
    "# from bokeh.models import Span, Label\n",
    "# from bokeh.plotting import figure, show, output_notebook\n",
    "# from bokeh.models.sources import ColumnDataSource\n",
    "# from bokeh.models.tools import HoverTool\n",
    "# import statsmodels.api as sm\n",
    "# import pandas as pd\n",
    "# import plotly.express as px\n",
    "# import plotly.graph_objects as go\n",
    "\n",
    "# def calc_and_vis_impact_stability_2D(G, existing_data, adjacency_file, base_column, capability_vector, intervention, dim):\n",
    "#     # Calculate min and max values for changes made by each column in capability_vector\n",
    "#     min_value_increase = float('inf')\n",
    "#     max_value_increase = float('-inf')\n",
    "#     min_value_decrease = float('inf')\n",
    "#     max_value_decrease = float('-inf')\n",
    "#     col_pass_plus = []\n",
    "#     col_pass_minus = []\n",
    "    \n",
    "#     for cap_col in capability_vector:\n",
    "#         # Calculate Impact Score\n",
    "#         X = sm.add_constant(df[base_column])\n",
    "#         y = df[cap_col]\n",
    "#         model = sm.OLS(y, X).fit()\n",
    "\n",
    "#         m, c = model.params[base_column], model.params['const']\n",
    "\n",
    "#         base_column_increase = (1 + intervention/100) * df[base_column]\n",
    "#         base_column_decrease = (1 - intervention/100) * df[base_column]\n",
    "\n",
    "#         change_vector_increase = m * base_column_increase + c\n",
    "#         change_vector_decrease = m * base_column_decrease + c\n",
    "        \n",
    "#         vector_plus = change_vector_increase - m * df[base_column] - c  \n",
    "#         vector_minus = change_vector_decrease - m * df[base_column] - c\n",
    "\n",
    "#         # Update min and max values for each column's changes\n",
    "#         min_value_increase = min(min_value_increase, vector_plus.min())\n",
    "#         max_value_increase = max(max_value_increase, vector_plus.max())\n",
    "\n",
    "#         min_value_decrease = min(min_value_decrease, vector_minus.min())\n",
    "#         max_value_decrease = max(max_value_decrease, vector_minus.max())\n",
    "\n",
    "#     for cap_col in capability_vector:\n",
    "#         # Calculate Impact Score\n",
    "#         X = sm.add_constant(df[base_column])\n",
    "#         y = df[cap_col]\n",
    "#         model = sm.OLS(y, X).fit()\n",
    "\n",
    "#         m, c = model.params[base_column], model.params['const']\n",
    "\n",
    "#         base_column_increase = (1 + intervention/100) * df[base_column]\n",
    "#         base_column_decrease = (1 - intervention/100) * df[base_column]\n",
    "\n",
    "#         new_vector_increase = m * base_column_increase + c\n",
    "#         new_vector_decrease = m * base_column_decrease + c\n",
    "        \n",
    "#         vector_plus = change_vector_increase - m * df[base_column] - c  \n",
    "#         vector_minus = change_vector_decrease - m * df[base_column] - c\n",
    "\n",
    "#         # Normalize changes manually using the calculated min and max values\n",
    "#         scaler3 = MinMaxScaler()\n",
    "#         normalized_new_increase_vector = scaler3.fit_transform(new_vector_increase.values.reshape(-1, 1))\n",
    "    \n",
    "#         scaler4 = MinMaxScaler()\n",
    "#         normalized_new_decrease_vector = scaler4.fit_transform(new_vector_decrease.values.reshape(-1, 1))\n",
    "        \n",
    "#         normalized_change_increase_vector = (vector_plus - min_value_increase) / (max_value_increase - min_value_increase)\n",
    "#         normalized_change_decrease_vector = (vector_minus - min_value_decrease) / (max_value_decrease - min_value_decrease)\n",
    "\n",
    "#         result_df = pd.DataFrame({\n",
    "#             f'{cap_col} ({base_column} +{intervention}%)': change_vector_increase,\n",
    "#             f'{cap_col} ({base_column} -{intervention}%)': change_vector_decrease,\n",
    "#             f'Normalized {capability_vector} ({base_column} +{intervention}%)': normalized_new_increase_vector.flatten(),\n",
    "#             f'Normalized {capability_vector} ({base_column} -{intervention}%)': normalized_new_decrease_vector.flatten(),\n",
    "#             f'Impact Score {cap_col} ({base_column} +{intervention}%)': normalized_change_increase_vector,\n",
    "#             f'Impact Score {cap_col} ({base_column} -{intervention}%)': normalized_change_decrease_vector,\n",
    "#         })\n",
    "\n",
    "#         # Merge Columns\n",
    "#         for column in result_df.columns:\n",
    "#             if column in result_df.columns:\n",
    "#                 existing_data[column] = result_df[column]\n",
    "\n",
    "#         # Calculate Stability and add to DataFrame\n",
    "#         columns_to_pass = f\"Normalized {cap_col} ({base_column} {'+' if intervention >= 0 else '-'}{abs(intervention)}%)\"\n",
    "#         col_pass_plus.append(columns_to_pass)\n",
    "\n",
    "#         # Calculate Stability for the opposite intervention and add to DataFrame\n",
    "#         opposite_intervention = -intervention\n",
    "#         columns_to_pass_opposite = f\"Normalized {cap_col} ({base_column} {'+' if opposite_intervention >= 0 else '-'}{abs(opposite_intervention)}%)\"\n",
    "#         col_pass_minus.append(columns_to_pass_opposite)\n",
    "        \n",
    "#     stability_column, stability_column_name = calculate_and_map_stability(G, existing_data.copy(), adjacency_file, col_pass_plus, intervention, dim)\n",
    "\n",
    "#     existing_data[stability_column_name] = stability_column\n",
    "\n",
    "#     stability_column_opposite, stability_column_name_opposite = calculate_and_map_stability(G, existing_data.copy(), adjacency_file, col_pass_minus, opposite_intervention, dim)\n",
    "\n",
    "#     existing_data[stability_column_name_opposite] = stability_column_opposite\n",
    "        \n",
    "\n",
    "# # Visualize with Plotly for +intervention\n",
    "#     fig_increase = go.Figure()\n",
    "#     color_palette = ['red', 'blue', 'green', 'orange', 'purple']  # Add more colors if needed\n",
    "\n",
    "#     for i, cap_col in enumerate(capability_vector):\n",
    "#         # Scatter plot for +intervention\n",
    "#         scatter_increase = go.Scatter(\n",
    "#             x=existing_data[f\"{stability_column_name}\"],\n",
    "#             y=existing_data[f\"Normalized {cap_col} ({base_column} {'+' if intervention >= 0 else '-'}{abs(intervention)}%)\"],\n",
    "#             mode='markers',\n",
    "#             marker=dict(size=8, color=color_palette[i]),\n",
    "#             name=f'{cap_col} +{intervention}%',\n",
    "#             text=existing_data['District'],\n",
    "#             hovertemplate='%{text}' + '<br>Impact: %{y:.2f}' + '<br>Stability: %{x:.2f}'\n",
    "#         )\n",
    "\n",
    "#         fig_increase.add_trace(scatter_increase)\n",
    "\n",
    "#     # Update layout for +intervention plot\n",
    "#     fig_increase.update_layout(\n",
    "#         title=f'Impact vs Stability (+{intervention}%)',\n",
    "#         xaxis=dict(title=f'Stability ({base_column} +{intervention}%)'),\n",
    "#         yaxis=dict(title='Normalized Impact'),\n",
    "#         hovermode='closest'\n",
    "#     )\n",
    "\n",
    "#     # Visualize with Plotly for -intervention\n",
    "#     fig_decrease = go.Figure()\n",
    "\n",
    "#     for i, cap_col in enumerate(capability_vector):\n",
    "#         # Scatter plot for -intervention\n",
    "#         scatter_decrease = go.Scatter(\n",
    "#             x=existing_data[stability_column_name_opposite],\n",
    "#             y=existing_data[f\"Normalized {cap_col} ({base_column} {'+' if intervention >= 0 else '-'}{abs(intervention)}%)\"],\n",
    "#             mode='markers',\n",
    "#             marker=dict(size=8, color=color_palette[i]),\n",
    "#             name=f'{cap_col} -{intervention}%',\n",
    "#             text=existing_data['District'],\n",
    "#             hovertemplate='%{text}' + '<br>Impact: %{y:.2f}' + '<br>Stability: %{x:.2f}'\n",
    "#         )\n",
    "\n",
    "#         fig_decrease.add_trace(scatter_decrease)\n",
    "\n",
    "#     # Update layout for -intervention plot\n",
    "#     fig_decrease.update_layout(\n",
    "#         title=f'Impact vs Stability (-{intervention}%)',\n",
    "#         xaxis=dict(title=f'Stability ({base_column} -{intervention}%)'),\n",
    "#         yaxis=dict(title='Normalized Impact'),\n",
    "#         hovermode='closest'\n",
    "#     )\n",
    "\n",
    "#     # Show plots\n",
    "#     fig_increase.show()\n",
    "#     fig_decrease.show()\n",
    "\n",
    "#     return existing_data, fig_increase, fig_decrease\n",
    "\n",
    "# # Assuming df is your DataFrame\n",
    "# base_column = \"TotalNPK_315\"\n",
    "# capability_vector = [\"Rice_Production_223\", \"Jowar_Yield_278\"]\n",
    "# change_percentage = 20\n",
    "# dim = 1\n",
    "\n",
    "# # Call the function and get the handles for the two plots\n",
    "# new_data, handle_increase, handle_decrease = calc_and_vis_impact_stability_2D(G, existing_data.copy(), adjacency_file, base_column, capability_vector, change_percentage, dim)\n",
    "\n",
    "# # Display the resulting DataFrame\n",
    "# new_data.head()\n"
   ]
  },
  {
   "cell_type": "code",
   "execution_count": 22,
   "metadata": {},
   "outputs": [],
   "source": [
    "# new_data.head()"
   ]
  },
  {
   "cell_type": "code",
   "execution_count": 23,
   "metadata": {},
   "outputs": [],
   "source": [
    "# new_data.to_csv('test.csv', index=False)"
   ]
  },
  {
   "cell_type": "markdown",
   "metadata": {},
   "source": [
    "## 2D Capability vector"
   ]
  },
  {
   "cell_type": "markdown",
   "metadata": {},
   "source": []
  },
  {
   "cell_type": "code",
   "execution_count": 33,
   "metadata": {},
   "outputs": [],
   "source": [
    "res_df = pd.DataFrame()"
   ]
  },
  {
   "cell_type": "code",
   "execution_count": 43,
   "metadata": {},
   "outputs": [
    {
     "name": "stdout",
     "output_type": "stream",
     "text": [
      "2.353363480056113 8136.426218911565\n",
      "0.009814190872938423 364.522399314813\n"
     ]
    },
    {
     "data": {
      "application/vnd.plotly.v1+json": {
       "config": {
        "plotlyServerURL": "https://plot.ly"
       },
       "data": [
        {
         "hovertemplate": "%{text}<br>Impact: %{y:.2f}<br>Stability: %{x:.2f}",
         "marker": {
          "color": "red",
          "size": 7,
          "symbol": "star"
         },
         "mode": "markers",
         "name": "Rice_Production_223 +20%",
         "text": [
          "BENGALURU",
          "BENGALURU(R)",
          "RAMANAGARA",
          "CHITRADURGA",
          "DAVANAGERE",
          "KOLAR",
          "CHIKKABALLAPURA",
          "SHIVAMOGGA",
          "TUMAKURU",
          "CHIKKAMAGALURU",
          "DAKSHINA KANNADA",
          "UDUPI",
          "HASSAN",
          "KODAGU",
          "MANDYA",
          "MYSURU",
          "CHAMARAJANAGAR",
          "BELAGAVI",
          "VIJAYAPURA",
          "BAGALKOT",
          "DHARAWAD",
          "GADAG",
          "HAVERI",
          "UTTARA KANNADA",
          "BALLARI",
          "BIDAR",
          "KALABURAGI",
          "YADGIRI",
          "RAICHUR",
          "KOPPAL"
         ],
         "type": "scatter",
         "x": [
          0.9590442729122611,
          0.9765052391752486,
          0.8222502261381794,
          0.66865038668522,
          0.790058183545994,
          1,
          0.9972504351838051,
          0.9678123842563559,
          0.9888021812136775,
          0.850936415487983,
          0.8095920216384356,
          0.763945679617166,
          0.8601165048161651,
          0.9462974084736766,
          0.8588396049480361,
          0.9105241683796109,
          0.8665083822377128,
          0,
          0.6325317294369195,
          0.9749632202667028,
          0.7634273694337912,
          0.4888527035009977,
          0.9683541813306024,
          0.6144347726001683,
          0.6106021055075406,
          0.7942327017204207,
          0.9903543889006119,
          0.890929830023772,
          0.7762892089664342,
          0.9102825362300662
         ],
         "y": [
          0.129381740896984,
          0.10687197865482269,
          0.04137640532765514,
          0.19925035369208044,
          0.553538786316174,
          0.12315835563131607,
          0.15742587075040002,
          0.31441076407687263,
          0.2118304824791093,
          0.37694467280886057,
          0.10314350408940905,
          0.034019474888597745,
          0.38010081819359215,
          0.2273833890492918,
          0.33635375373233883,
          0.3444441545777077,
          0.13212114173267522,
          1,
          0.30118051379334115,
          0.47112338429797224,
          0.20756857489092406,
          0.1292150430773678,
          0.3610417008174843,
          0.08496232856327919,
          0.6851467149030886,
          0.13687202959173425,
          0.29990805377027147,
          0.5076691029518096,
          0.6512848311450706,
          0.4085561360020612
         ]
        },
        {
         "hovertemplate": "%{text}<br>Impact: %{y:.2f}<br>Stability: %{x:.2f}",
         "marker": {
          "color": "blue",
          "size": 7,
          "symbol": "circle"
         },
         "mode": "markers",
         "name": "Jowar_Yield_278 +20%",
         "text": [
          "BENGALURU",
          "BENGALURU(R)",
          "RAMANAGARA",
          "CHITRADURGA",
          "DAVANAGERE",
          "KOLAR",
          "CHIKKABALLAPURA",
          "SHIVAMOGGA",
          "TUMAKURU",
          "CHIKKAMAGALURU",
          "DAKSHINA KANNADA",
          "UDUPI",
          "HASSAN",
          "KODAGU",
          "MANDYA",
          "MYSURU",
          "CHAMARAJANAGAR",
          "BELAGAVI",
          "VIJAYAPURA",
          "BAGALKOT",
          "DHARAWAD",
          "GADAG",
          "HAVERI",
          "UTTARA KANNADA",
          "BALLARI",
          "BIDAR",
          "KALABURAGI",
          "YADGIRI",
          "RAICHUR",
          "KOPPAL"
         ],
         "type": "scatter",
         "x": [
          0.9590442729122611,
          0.9765052391752486,
          0.8222502261381794,
          0.66865038668522,
          0.790058183545994,
          1,
          0.9972504351838051,
          0.9678123842563559,
          0.9888021812136775,
          0.850936415487983,
          0.8095920216384356,
          0.763945679617166,
          0.8601165048161651,
          0.9462974084736766,
          0.8588396049480361,
          0.9105241683796109,
          0.8665083822377128,
          0,
          0.6325317294369195,
          0.9749632202667028,
          0.7634273694337912,
          0.4888527035009977,
          0.9683541813306024,
          0.6144347726001683,
          0.6106021055075406,
          0.7942327017204207,
          0.9903543889006119,
          0.890929830023772,
          0.7762892089664342,
          0.9102825362300662
         ],
         "y": [
          0.0003976876027072174,
          0.0003038155319365064,
          0.000030680479313854114,
          0.0006890594659189969,
          0.0021665423670151496,
          0.00037173432715471204,
          0.0005146395506656909,
          0.001169310926477619,
          0.0007415221586429883,
          0.0014300950006453737,
          0.00028826673917246024,
          0,
          0.0014432570189612884,
          0.0008063821749567926,
          0.0012608193953676525,
          0.0012945586535859114,
          0.0004091116784638114,
          0.00402841181709786,
          0.0011141370433610893,
          0.0018228468464841238,
          0.0007237487994030138,
          0.0003969924256834908,
          0.0013637751125817415,
          0.000212446098451216,
          0.002715384627248246,
          0.00042892422364005284,
          0.0011088305254132991,
          0.0019752528226527166,
          0.0025741710011616737,
          0.001561923736911624
         ]
        }
       ],
       "layout": {
        "hovermode": "closest",
        "shapes": [
         {
          "line": {
           "color": "black",
           "dash": "dash"
          },
          "name": "Average Stability",
          "type": "line",
          "x0": 0.8150796080875853,
          "x1": 0.8150796080875853,
          "y0": 0,
          "y1": 1
         },
         {
          "line": {
           "color": "black",
           "dash": "dash"
          },
          "name": "Average Impact",
          "type": "line",
          "x0": 0,
          "x1": 1,
          "y0": 0.3005428020234097,
          "y1": 0.3005428020234097
         }
        ],
        "template": {
         "data": {
          "bar": [
           {
            "error_x": {
             "color": "#2a3f5f"
            },
            "error_y": {
             "color": "#2a3f5f"
            },
            "marker": {
             "line": {
              "color": "#E5ECF6",
              "width": 0.5
             },
             "pattern": {
              "fillmode": "overlay",
              "size": 10,
              "solidity": 0.2
             }
            },
            "type": "bar"
           }
          ],
          "barpolar": [
           {
            "marker": {
             "line": {
              "color": "#E5ECF6",
              "width": 0.5
             },
             "pattern": {
              "fillmode": "overlay",
              "size": 10,
              "solidity": 0.2
             }
            },
            "type": "barpolar"
           }
          ],
          "carpet": [
           {
            "aaxis": {
             "endlinecolor": "#2a3f5f",
             "gridcolor": "white",
             "linecolor": "white",
             "minorgridcolor": "white",
             "startlinecolor": "#2a3f5f"
            },
            "baxis": {
             "endlinecolor": "#2a3f5f",
             "gridcolor": "white",
             "linecolor": "white",
             "minorgridcolor": "white",
             "startlinecolor": "#2a3f5f"
            },
            "type": "carpet"
           }
          ],
          "choropleth": [
           {
            "colorbar": {
             "outlinewidth": 0,
             "ticks": ""
            },
            "type": "choropleth"
           }
          ],
          "contour": [
           {
            "colorbar": {
             "outlinewidth": 0,
             "ticks": ""
            },
            "colorscale": [
             [
              0,
              "#0d0887"
             ],
             [
              0.1111111111111111,
              "#46039f"
             ],
             [
              0.2222222222222222,
              "#7201a8"
             ],
             [
              0.3333333333333333,
              "#9c179e"
             ],
             [
              0.4444444444444444,
              "#bd3786"
             ],
             [
              0.5555555555555556,
              "#d8576b"
             ],
             [
              0.6666666666666666,
              "#ed7953"
             ],
             [
              0.7777777777777778,
              "#fb9f3a"
             ],
             [
              0.8888888888888888,
              "#fdca26"
             ],
             [
              1,
              "#f0f921"
             ]
            ],
            "type": "contour"
           }
          ],
          "contourcarpet": [
           {
            "colorbar": {
             "outlinewidth": 0,
             "ticks": ""
            },
            "type": "contourcarpet"
           }
          ],
          "heatmap": [
           {
            "colorbar": {
             "outlinewidth": 0,
             "ticks": ""
            },
            "colorscale": [
             [
              0,
              "#0d0887"
             ],
             [
              0.1111111111111111,
              "#46039f"
             ],
             [
              0.2222222222222222,
              "#7201a8"
             ],
             [
              0.3333333333333333,
              "#9c179e"
             ],
             [
              0.4444444444444444,
              "#bd3786"
             ],
             [
              0.5555555555555556,
              "#d8576b"
             ],
             [
              0.6666666666666666,
              "#ed7953"
             ],
             [
              0.7777777777777778,
              "#fb9f3a"
             ],
             [
              0.8888888888888888,
              "#fdca26"
             ],
             [
              1,
              "#f0f921"
             ]
            ],
            "type": "heatmap"
           }
          ],
          "heatmapgl": [
           {
            "colorbar": {
             "outlinewidth": 0,
             "ticks": ""
            },
            "colorscale": [
             [
              0,
              "#0d0887"
             ],
             [
              0.1111111111111111,
              "#46039f"
             ],
             [
              0.2222222222222222,
              "#7201a8"
             ],
             [
              0.3333333333333333,
              "#9c179e"
             ],
             [
              0.4444444444444444,
              "#bd3786"
             ],
             [
              0.5555555555555556,
              "#d8576b"
             ],
             [
              0.6666666666666666,
              "#ed7953"
             ],
             [
              0.7777777777777778,
              "#fb9f3a"
             ],
             [
              0.8888888888888888,
              "#fdca26"
             ],
             [
              1,
              "#f0f921"
             ]
            ],
            "type": "heatmapgl"
           }
          ],
          "histogram": [
           {
            "marker": {
             "pattern": {
              "fillmode": "overlay",
              "size": 10,
              "solidity": 0.2
             }
            },
            "type": "histogram"
           }
          ],
          "histogram2d": [
           {
            "colorbar": {
             "outlinewidth": 0,
             "ticks": ""
            },
            "colorscale": [
             [
              0,
              "#0d0887"
             ],
             [
              0.1111111111111111,
              "#46039f"
             ],
             [
              0.2222222222222222,
              "#7201a8"
             ],
             [
              0.3333333333333333,
              "#9c179e"
             ],
             [
              0.4444444444444444,
              "#bd3786"
             ],
             [
              0.5555555555555556,
              "#d8576b"
             ],
             [
              0.6666666666666666,
              "#ed7953"
             ],
             [
              0.7777777777777778,
              "#fb9f3a"
             ],
             [
              0.8888888888888888,
              "#fdca26"
             ],
             [
              1,
              "#f0f921"
             ]
            ],
            "type": "histogram2d"
           }
          ],
          "histogram2dcontour": [
           {
            "colorbar": {
             "outlinewidth": 0,
             "ticks": ""
            },
            "colorscale": [
             [
              0,
              "#0d0887"
             ],
             [
              0.1111111111111111,
              "#46039f"
             ],
             [
              0.2222222222222222,
              "#7201a8"
             ],
             [
              0.3333333333333333,
              "#9c179e"
             ],
             [
              0.4444444444444444,
              "#bd3786"
             ],
             [
              0.5555555555555556,
              "#d8576b"
             ],
             [
              0.6666666666666666,
              "#ed7953"
             ],
             [
              0.7777777777777778,
              "#fb9f3a"
             ],
             [
              0.8888888888888888,
              "#fdca26"
             ],
             [
              1,
              "#f0f921"
             ]
            ],
            "type": "histogram2dcontour"
           }
          ],
          "mesh3d": [
           {
            "colorbar": {
             "outlinewidth": 0,
             "ticks": ""
            },
            "type": "mesh3d"
           }
          ],
          "parcoords": [
           {
            "line": {
             "colorbar": {
              "outlinewidth": 0,
              "ticks": ""
             }
            },
            "type": "parcoords"
           }
          ],
          "pie": [
           {
            "automargin": true,
            "type": "pie"
           }
          ],
          "scatter": [
           {
            "fillpattern": {
             "fillmode": "overlay",
             "size": 10,
             "solidity": 0.2
            },
            "type": "scatter"
           }
          ],
          "scatter3d": [
           {
            "line": {
             "colorbar": {
              "outlinewidth": 0,
              "ticks": ""
             }
            },
            "marker": {
             "colorbar": {
              "outlinewidth": 0,
              "ticks": ""
             }
            },
            "type": "scatter3d"
           }
          ],
          "scattercarpet": [
           {
            "marker": {
             "colorbar": {
              "outlinewidth": 0,
              "ticks": ""
             }
            },
            "type": "scattercarpet"
           }
          ],
          "scattergeo": [
           {
            "marker": {
             "colorbar": {
              "outlinewidth": 0,
              "ticks": ""
             }
            },
            "type": "scattergeo"
           }
          ],
          "scattergl": [
           {
            "marker": {
             "colorbar": {
              "outlinewidth": 0,
              "ticks": ""
             }
            },
            "type": "scattergl"
           }
          ],
          "scattermapbox": [
           {
            "marker": {
             "colorbar": {
              "outlinewidth": 0,
              "ticks": ""
             }
            },
            "type": "scattermapbox"
           }
          ],
          "scatterpolar": [
           {
            "marker": {
             "colorbar": {
              "outlinewidth": 0,
              "ticks": ""
             }
            },
            "type": "scatterpolar"
           }
          ],
          "scatterpolargl": [
           {
            "marker": {
             "colorbar": {
              "outlinewidth": 0,
              "ticks": ""
             }
            },
            "type": "scatterpolargl"
           }
          ],
          "scatterternary": [
           {
            "marker": {
             "colorbar": {
              "outlinewidth": 0,
              "ticks": ""
             }
            },
            "type": "scatterternary"
           }
          ],
          "surface": [
           {
            "colorbar": {
             "outlinewidth": 0,
             "ticks": ""
            },
            "colorscale": [
             [
              0,
              "#0d0887"
             ],
             [
              0.1111111111111111,
              "#46039f"
             ],
             [
              0.2222222222222222,
              "#7201a8"
             ],
             [
              0.3333333333333333,
              "#9c179e"
             ],
             [
              0.4444444444444444,
              "#bd3786"
             ],
             [
              0.5555555555555556,
              "#d8576b"
             ],
             [
              0.6666666666666666,
              "#ed7953"
             ],
             [
              0.7777777777777778,
              "#fb9f3a"
             ],
             [
              0.8888888888888888,
              "#fdca26"
             ],
             [
              1,
              "#f0f921"
             ]
            ],
            "type": "surface"
           }
          ],
          "table": [
           {
            "cells": {
             "fill": {
              "color": "#EBF0F8"
             },
             "line": {
              "color": "white"
             }
            },
            "header": {
             "fill": {
              "color": "#C8D4E3"
             },
             "line": {
              "color": "white"
             }
            },
            "type": "table"
           }
          ]
         },
         "layout": {
          "annotationdefaults": {
           "arrowcolor": "#2a3f5f",
           "arrowhead": 0,
           "arrowwidth": 1
          },
          "autotypenumbers": "strict",
          "coloraxis": {
           "colorbar": {
            "outlinewidth": 0,
            "ticks": ""
           }
          },
          "colorscale": {
           "diverging": [
            [
             0,
             "#8e0152"
            ],
            [
             0.1,
             "#c51b7d"
            ],
            [
             0.2,
             "#de77ae"
            ],
            [
             0.3,
             "#f1b6da"
            ],
            [
             0.4,
             "#fde0ef"
            ],
            [
             0.5,
             "#f7f7f7"
            ],
            [
             0.6,
             "#e6f5d0"
            ],
            [
             0.7,
             "#b8e186"
            ],
            [
             0.8,
             "#7fbc41"
            ],
            [
             0.9,
             "#4d9221"
            ],
            [
             1,
             "#276419"
            ]
           ],
           "sequential": [
            [
             0,
             "#0d0887"
            ],
            [
             0.1111111111111111,
             "#46039f"
            ],
            [
             0.2222222222222222,
             "#7201a8"
            ],
            [
             0.3333333333333333,
             "#9c179e"
            ],
            [
             0.4444444444444444,
             "#bd3786"
            ],
            [
             0.5555555555555556,
             "#d8576b"
            ],
            [
             0.6666666666666666,
             "#ed7953"
            ],
            [
             0.7777777777777778,
             "#fb9f3a"
            ],
            [
             0.8888888888888888,
             "#fdca26"
            ],
            [
             1,
             "#f0f921"
            ]
           ],
           "sequentialminus": [
            [
             0,
             "#0d0887"
            ],
            [
             0.1111111111111111,
             "#46039f"
            ],
            [
             0.2222222222222222,
             "#7201a8"
            ],
            [
             0.3333333333333333,
             "#9c179e"
            ],
            [
             0.4444444444444444,
             "#bd3786"
            ],
            [
             0.5555555555555556,
             "#d8576b"
            ],
            [
             0.6666666666666666,
             "#ed7953"
            ],
            [
             0.7777777777777778,
             "#fb9f3a"
            ],
            [
             0.8888888888888888,
             "#fdca26"
            ],
            [
             1,
             "#f0f921"
            ]
           ]
          },
          "colorway": [
           "#636efa",
           "#EF553B",
           "#00cc96",
           "#ab63fa",
           "#FFA15A",
           "#19d3f3",
           "#FF6692",
           "#B6E880",
           "#FF97FF",
           "#FECB52"
          ],
          "font": {
           "color": "#2a3f5f"
          },
          "geo": {
           "bgcolor": "white",
           "lakecolor": "white",
           "landcolor": "#E5ECF6",
           "showlakes": true,
           "showland": true,
           "subunitcolor": "white"
          },
          "hoverlabel": {
           "align": "left"
          },
          "hovermode": "closest",
          "mapbox": {
           "style": "light"
          },
          "paper_bgcolor": "white",
          "plot_bgcolor": "#E5ECF6",
          "polar": {
           "angularaxis": {
            "gridcolor": "white",
            "linecolor": "white",
            "ticks": ""
           },
           "bgcolor": "#E5ECF6",
           "radialaxis": {
            "gridcolor": "white",
            "linecolor": "white",
            "ticks": ""
           }
          },
          "scene": {
           "xaxis": {
            "backgroundcolor": "#E5ECF6",
            "gridcolor": "white",
            "gridwidth": 2,
            "linecolor": "white",
            "showbackground": true,
            "ticks": "",
            "zerolinecolor": "white"
           },
           "yaxis": {
            "backgroundcolor": "#E5ECF6",
            "gridcolor": "white",
            "gridwidth": 2,
            "linecolor": "white",
            "showbackground": true,
            "ticks": "",
            "zerolinecolor": "white"
           },
           "zaxis": {
            "backgroundcolor": "#E5ECF6",
            "gridcolor": "white",
            "gridwidth": 2,
            "linecolor": "white",
            "showbackground": true,
            "ticks": "",
            "zerolinecolor": "white"
           }
          },
          "shapedefaults": {
           "line": {
            "color": "#2a3f5f"
           }
          },
          "ternary": {
           "aaxis": {
            "gridcolor": "white",
            "linecolor": "white",
            "ticks": ""
           },
           "baxis": {
            "gridcolor": "white",
            "linecolor": "white",
            "ticks": ""
           },
           "bgcolor": "#E5ECF6",
           "caxis": {
            "gridcolor": "white",
            "linecolor": "white",
            "ticks": ""
           }
          },
          "title": {
           "x": 0.05
          },
          "xaxis": {
           "automargin": true,
           "gridcolor": "white",
           "linecolor": "white",
           "ticks": "",
           "title": {
            "standoff": 15
           },
           "zerolinecolor": "white",
           "zerolinewidth": 2
          },
          "yaxis": {
           "automargin": true,
           "gridcolor": "white",
           "linecolor": "white",
           "ticks": "",
           "title": {
            "standoff": 15
           },
           "zerolinecolor": "white",
           "zerolinewidth": 2
          }
         }
        },
        "title": {
         "text": "Impact vs Stability (+20%)"
        },
        "xaxis": {
         "title": {
          "text": "Stability (TotalNPK_315 +20%)"
         }
        },
        "yaxis": {
         "title": {
          "text": "Normalized Impact"
         }
        }
       }
      }
     },
     "metadata": {},
     "output_type": "display_data"
    },
    {
     "data": {
      "application/vnd.plotly.v1+json": {
       "config": {
        "plotlyServerURL": "https://plot.ly"
       },
       "data": [
        {
         "hovertemplate": "%{text}<br>Impact: %{y:.2f}<br>Stability: %{x:.2f}",
         "marker": {
          "color": "red",
          "size": 7,
          "symbol": "star"
         },
         "mode": "markers",
         "name": "Rice_Production_223 -20%",
         "text": [
          "BENGALURU",
          "BENGALURU(R)",
          "RAMANAGARA",
          "CHITRADURGA",
          "DAVANAGERE",
          "KOLAR",
          "CHIKKABALLAPURA",
          "SHIVAMOGGA",
          "TUMAKURU",
          "CHIKKAMAGALURU",
          "DAKSHINA KANNADA",
          "UDUPI",
          "HASSAN",
          "KODAGU",
          "MANDYA",
          "MYSURU",
          "CHAMARAJANAGAR",
          "BELAGAVI",
          "VIJAYAPURA",
          "BAGALKOT",
          "DHARAWAD",
          "GADAG",
          "HAVERI",
          "UTTARA KANNADA",
          "BALLARI",
          "BIDAR",
          "KALABURAGI",
          "YADGIRI",
          "RAICHUR",
          "KOPPAL"
         ],
         "type": "scatter",
         "x": [
          0.9590442729122614,
          0.9765052391752488,
          0.8222502261381797,
          0.6686503866852203,
          0.7900581835459943,
          1,
          0.9972504351838053,
          0.9678123842563559,
          0.9888021812136776,
          0.8509364154879833,
          0.8095920216384358,
          0.7639456796171662,
          0.8601165048161654,
          0.9462974084736768,
          0.8588396049480362,
          0.9105241683796111,
          0.8665083822377131,
          0,
          0.6325317294369197,
          0.9749632202667032,
          0.7634273694337914,
          0.4888527035009977,
          0.9683541813306024,
          0.6144347726001685,
          0.6106021055075408,
          0.7942327017204209,
          0.9903543889006119,
          0.8909298300237721,
          0.7762892089664344,
          0.9102825362300664
         ],
         "y": [
          0.870618259103016,
          0.8931280213451773,
          0.9586235946723448,
          0.8007496463079196,
          0.4464612136838255,
          0.876841644368684,
          0.8425741292496,
          0.6855892359231271,
          0.7881695175208908,
          0.623055327191139,
          0.8968564959105909,
          0.9659805251114022,
          0.6198991818064075,
          0.7726166109507081,
          0.6636462462676606,
          0.6555558454222926,
          0.8678788582673248,
          0,
          0.6988194862066588,
          0.5288766157020274,
          0.7924314251090759,
          0.8707849569226321,
          0.6389582991825158,
          0.9150376714367207,
          0.31485328509691124,
          0.8631279704082657,
          0.7000919462297284,
          0.49233089704819005,
          0.34871516885492854,
          0.5914438639979387
         ]
        },
        {
         "hovertemplate": "%{text}<br>Impact: %{y:.2f}<br>Stability: %{x:.2f}",
         "marker": {
          "color": "blue",
          "size": 7,
          "symbol": "circle"
         },
         "mode": "markers",
         "name": "Jowar_Yield_278 -20%",
         "text": [
          "BENGALURU",
          "BENGALURU(R)",
          "RAMANAGARA",
          "CHITRADURGA",
          "DAVANAGERE",
          "KOLAR",
          "CHIKKABALLAPURA",
          "SHIVAMOGGA",
          "TUMAKURU",
          "CHIKKAMAGALURU",
          "DAKSHINA KANNADA",
          "UDUPI",
          "HASSAN",
          "KODAGU",
          "MANDYA",
          "MYSURU",
          "CHAMARAJANAGAR",
          "BELAGAVI",
          "VIJAYAPURA",
          "BAGALKOT",
          "DHARAWAD",
          "GADAG",
          "HAVERI",
          "UTTARA KANNADA",
          "BALLARI",
          "BIDAR",
          "KALABURAGI",
          "YADGIRI",
          "RAICHUR",
          "KOPPAL"
         ],
         "type": "scatter",
         "x": [
          0.9590442729122614,
          0.9765052391752488,
          0.8222502261381797,
          0.6686503866852203,
          0.7900581835459943,
          1,
          0.9972504351838053,
          0.9678123842563559,
          0.9888021812136776,
          0.8509364154879833,
          0.8095920216384358,
          0.7639456796171662,
          0.8601165048161654,
          0.9462974084736768,
          0.8588396049480362,
          0.9105241683796111,
          0.8665083822377131,
          0,
          0.6325317294369197,
          0.9749632202667032,
          0.7634273694337914,
          0.4888527035009977,
          0.9683541813306024,
          0.6144347726001685,
          0.6106021055075408,
          0.7942327017204209,
          0.9903543889006119,
          0.8909298300237721,
          0.7762892089664344,
          0.9102825362300664
         ],
         "y": [
          0.9996023123972927,
          0.9996961844680635,
          0.999969319520686,
          0.999310940534081,
          0.9978334576329848,
          0.9996282656728451,
          0.9994853604493343,
          0.9988306890735222,
          0.9992584778413569,
          0.9985699049993545,
          0.9997117332608274,
          1,
          0.9985567429810387,
          0.9991936178250431,
          0.9987391806046323,
          0.9987054413464139,
          0.9995908883215362,
          0.995971588182902,
          0.9988858629566388,
          0.9981771531535157,
          0.9992762512005969,
          0.9996030075743164,
          0.9986362248874183,
          0.9997875539015486,
          0.9972846153727517,
          0.9995710757763598,
          0.9988911694745866,
          0.9980247471773472,
          0.9974258289988382,
          0.9984380762630883
         ]
        }
       ],
       "layout": {
        "hovermode": "closest",
        "shapes": [
         {
          "line": {
           "color": "black",
           "dash": "dash"
          },
          "name": "Average Stability",
          "type": "line",
          "x0": 0.8150796080875854,
          "x1": 0.8150796080875854,
          "y0": 0,
          "y1": 1
         },
         {
          "line": {
           "color": "black",
           "dash": "dash"
          },
          "name": "Average Impact",
          "type": "line",
          "x0": 0,
          "x1": 1,
          "y0": 0.6994571979765901,
          "y1": 0.6994571979765901
         }
        ],
        "template": {
         "data": {
          "bar": [
           {
            "error_x": {
             "color": "#2a3f5f"
            },
            "error_y": {
             "color": "#2a3f5f"
            },
            "marker": {
             "line": {
              "color": "#E5ECF6",
              "width": 0.5
             },
             "pattern": {
              "fillmode": "overlay",
              "size": 10,
              "solidity": 0.2
             }
            },
            "type": "bar"
           }
          ],
          "barpolar": [
           {
            "marker": {
             "line": {
              "color": "#E5ECF6",
              "width": 0.5
             },
             "pattern": {
              "fillmode": "overlay",
              "size": 10,
              "solidity": 0.2
             }
            },
            "type": "barpolar"
           }
          ],
          "carpet": [
           {
            "aaxis": {
             "endlinecolor": "#2a3f5f",
             "gridcolor": "white",
             "linecolor": "white",
             "minorgridcolor": "white",
             "startlinecolor": "#2a3f5f"
            },
            "baxis": {
             "endlinecolor": "#2a3f5f",
             "gridcolor": "white",
             "linecolor": "white",
             "minorgridcolor": "white",
             "startlinecolor": "#2a3f5f"
            },
            "type": "carpet"
           }
          ],
          "choropleth": [
           {
            "colorbar": {
             "outlinewidth": 0,
             "ticks": ""
            },
            "type": "choropleth"
           }
          ],
          "contour": [
           {
            "colorbar": {
             "outlinewidth": 0,
             "ticks": ""
            },
            "colorscale": [
             [
              0,
              "#0d0887"
             ],
             [
              0.1111111111111111,
              "#46039f"
             ],
             [
              0.2222222222222222,
              "#7201a8"
             ],
             [
              0.3333333333333333,
              "#9c179e"
             ],
             [
              0.4444444444444444,
              "#bd3786"
             ],
             [
              0.5555555555555556,
              "#d8576b"
             ],
             [
              0.6666666666666666,
              "#ed7953"
             ],
             [
              0.7777777777777778,
              "#fb9f3a"
             ],
             [
              0.8888888888888888,
              "#fdca26"
             ],
             [
              1,
              "#f0f921"
             ]
            ],
            "type": "contour"
           }
          ],
          "contourcarpet": [
           {
            "colorbar": {
             "outlinewidth": 0,
             "ticks": ""
            },
            "type": "contourcarpet"
           }
          ],
          "heatmap": [
           {
            "colorbar": {
             "outlinewidth": 0,
             "ticks": ""
            },
            "colorscale": [
             [
              0,
              "#0d0887"
             ],
             [
              0.1111111111111111,
              "#46039f"
             ],
             [
              0.2222222222222222,
              "#7201a8"
             ],
             [
              0.3333333333333333,
              "#9c179e"
             ],
             [
              0.4444444444444444,
              "#bd3786"
             ],
             [
              0.5555555555555556,
              "#d8576b"
             ],
             [
              0.6666666666666666,
              "#ed7953"
             ],
             [
              0.7777777777777778,
              "#fb9f3a"
             ],
             [
              0.8888888888888888,
              "#fdca26"
             ],
             [
              1,
              "#f0f921"
             ]
            ],
            "type": "heatmap"
           }
          ],
          "heatmapgl": [
           {
            "colorbar": {
             "outlinewidth": 0,
             "ticks": ""
            },
            "colorscale": [
             [
              0,
              "#0d0887"
             ],
             [
              0.1111111111111111,
              "#46039f"
             ],
             [
              0.2222222222222222,
              "#7201a8"
             ],
             [
              0.3333333333333333,
              "#9c179e"
             ],
             [
              0.4444444444444444,
              "#bd3786"
             ],
             [
              0.5555555555555556,
              "#d8576b"
             ],
             [
              0.6666666666666666,
              "#ed7953"
             ],
             [
              0.7777777777777778,
              "#fb9f3a"
             ],
             [
              0.8888888888888888,
              "#fdca26"
             ],
             [
              1,
              "#f0f921"
             ]
            ],
            "type": "heatmapgl"
           }
          ],
          "histogram": [
           {
            "marker": {
             "pattern": {
              "fillmode": "overlay",
              "size": 10,
              "solidity": 0.2
             }
            },
            "type": "histogram"
           }
          ],
          "histogram2d": [
           {
            "colorbar": {
             "outlinewidth": 0,
             "ticks": ""
            },
            "colorscale": [
             [
              0,
              "#0d0887"
             ],
             [
              0.1111111111111111,
              "#46039f"
             ],
             [
              0.2222222222222222,
              "#7201a8"
             ],
             [
              0.3333333333333333,
              "#9c179e"
             ],
             [
              0.4444444444444444,
              "#bd3786"
             ],
             [
              0.5555555555555556,
              "#d8576b"
             ],
             [
              0.6666666666666666,
              "#ed7953"
             ],
             [
              0.7777777777777778,
              "#fb9f3a"
             ],
             [
              0.8888888888888888,
              "#fdca26"
             ],
             [
              1,
              "#f0f921"
             ]
            ],
            "type": "histogram2d"
           }
          ],
          "histogram2dcontour": [
           {
            "colorbar": {
             "outlinewidth": 0,
             "ticks": ""
            },
            "colorscale": [
             [
              0,
              "#0d0887"
             ],
             [
              0.1111111111111111,
              "#46039f"
             ],
             [
              0.2222222222222222,
              "#7201a8"
             ],
             [
              0.3333333333333333,
              "#9c179e"
             ],
             [
              0.4444444444444444,
              "#bd3786"
             ],
             [
              0.5555555555555556,
              "#d8576b"
             ],
             [
              0.6666666666666666,
              "#ed7953"
             ],
             [
              0.7777777777777778,
              "#fb9f3a"
             ],
             [
              0.8888888888888888,
              "#fdca26"
             ],
             [
              1,
              "#f0f921"
             ]
            ],
            "type": "histogram2dcontour"
           }
          ],
          "mesh3d": [
           {
            "colorbar": {
             "outlinewidth": 0,
             "ticks": ""
            },
            "type": "mesh3d"
           }
          ],
          "parcoords": [
           {
            "line": {
             "colorbar": {
              "outlinewidth": 0,
              "ticks": ""
             }
            },
            "type": "parcoords"
           }
          ],
          "pie": [
           {
            "automargin": true,
            "type": "pie"
           }
          ],
          "scatter": [
           {
            "fillpattern": {
             "fillmode": "overlay",
             "size": 10,
             "solidity": 0.2
            },
            "type": "scatter"
           }
          ],
          "scatter3d": [
           {
            "line": {
             "colorbar": {
              "outlinewidth": 0,
              "ticks": ""
             }
            },
            "marker": {
             "colorbar": {
              "outlinewidth": 0,
              "ticks": ""
             }
            },
            "type": "scatter3d"
           }
          ],
          "scattercarpet": [
           {
            "marker": {
             "colorbar": {
              "outlinewidth": 0,
              "ticks": ""
             }
            },
            "type": "scattercarpet"
           }
          ],
          "scattergeo": [
           {
            "marker": {
             "colorbar": {
              "outlinewidth": 0,
              "ticks": ""
             }
            },
            "type": "scattergeo"
           }
          ],
          "scattergl": [
           {
            "marker": {
             "colorbar": {
              "outlinewidth": 0,
              "ticks": ""
             }
            },
            "type": "scattergl"
           }
          ],
          "scattermapbox": [
           {
            "marker": {
             "colorbar": {
              "outlinewidth": 0,
              "ticks": ""
             }
            },
            "type": "scattermapbox"
           }
          ],
          "scatterpolar": [
           {
            "marker": {
             "colorbar": {
              "outlinewidth": 0,
              "ticks": ""
             }
            },
            "type": "scatterpolar"
           }
          ],
          "scatterpolargl": [
           {
            "marker": {
             "colorbar": {
              "outlinewidth": 0,
              "ticks": ""
             }
            },
            "type": "scatterpolargl"
           }
          ],
          "scatterternary": [
           {
            "marker": {
             "colorbar": {
              "outlinewidth": 0,
              "ticks": ""
             }
            },
            "type": "scatterternary"
           }
          ],
          "surface": [
           {
            "colorbar": {
             "outlinewidth": 0,
             "ticks": ""
            },
            "colorscale": [
             [
              0,
              "#0d0887"
             ],
             [
              0.1111111111111111,
              "#46039f"
             ],
             [
              0.2222222222222222,
              "#7201a8"
             ],
             [
              0.3333333333333333,
              "#9c179e"
             ],
             [
              0.4444444444444444,
              "#bd3786"
             ],
             [
              0.5555555555555556,
              "#d8576b"
             ],
             [
              0.6666666666666666,
              "#ed7953"
             ],
             [
              0.7777777777777778,
              "#fb9f3a"
             ],
             [
              0.8888888888888888,
              "#fdca26"
             ],
             [
              1,
              "#f0f921"
             ]
            ],
            "type": "surface"
           }
          ],
          "table": [
           {
            "cells": {
             "fill": {
              "color": "#EBF0F8"
             },
             "line": {
              "color": "white"
             }
            },
            "header": {
             "fill": {
              "color": "#C8D4E3"
             },
             "line": {
              "color": "white"
             }
            },
            "type": "table"
           }
          ]
         },
         "layout": {
          "annotationdefaults": {
           "arrowcolor": "#2a3f5f",
           "arrowhead": 0,
           "arrowwidth": 1
          },
          "autotypenumbers": "strict",
          "coloraxis": {
           "colorbar": {
            "outlinewidth": 0,
            "ticks": ""
           }
          },
          "colorscale": {
           "diverging": [
            [
             0,
             "#8e0152"
            ],
            [
             0.1,
             "#c51b7d"
            ],
            [
             0.2,
             "#de77ae"
            ],
            [
             0.3,
             "#f1b6da"
            ],
            [
             0.4,
             "#fde0ef"
            ],
            [
             0.5,
             "#f7f7f7"
            ],
            [
             0.6,
             "#e6f5d0"
            ],
            [
             0.7,
             "#b8e186"
            ],
            [
             0.8,
             "#7fbc41"
            ],
            [
             0.9,
             "#4d9221"
            ],
            [
             1,
             "#276419"
            ]
           ],
           "sequential": [
            [
             0,
             "#0d0887"
            ],
            [
             0.1111111111111111,
             "#46039f"
            ],
            [
             0.2222222222222222,
             "#7201a8"
            ],
            [
             0.3333333333333333,
             "#9c179e"
            ],
            [
             0.4444444444444444,
             "#bd3786"
            ],
            [
             0.5555555555555556,
             "#d8576b"
            ],
            [
             0.6666666666666666,
             "#ed7953"
            ],
            [
             0.7777777777777778,
             "#fb9f3a"
            ],
            [
             0.8888888888888888,
             "#fdca26"
            ],
            [
             1,
             "#f0f921"
            ]
           ],
           "sequentialminus": [
            [
             0,
             "#0d0887"
            ],
            [
             0.1111111111111111,
             "#46039f"
            ],
            [
             0.2222222222222222,
             "#7201a8"
            ],
            [
             0.3333333333333333,
             "#9c179e"
            ],
            [
             0.4444444444444444,
             "#bd3786"
            ],
            [
             0.5555555555555556,
             "#d8576b"
            ],
            [
             0.6666666666666666,
             "#ed7953"
            ],
            [
             0.7777777777777778,
             "#fb9f3a"
            ],
            [
             0.8888888888888888,
             "#fdca26"
            ],
            [
             1,
             "#f0f921"
            ]
           ]
          },
          "colorway": [
           "#636efa",
           "#EF553B",
           "#00cc96",
           "#ab63fa",
           "#FFA15A",
           "#19d3f3",
           "#FF6692",
           "#B6E880",
           "#FF97FF",
           "#FECB52"
          ],
          "font": {
           "color": "#2a3f5f"
          },
          "geo": {
           "bgcolor": "white",
           "lakecolor": "white",
           "landcolor": "#E5ECF6",
           "showlakes": true,
           "showland": true,
           "subunitcolor": "white"
          },
          "hoverlabel": {
           "align": "left"
          },
          "hovermode": "closest",
          "mapbox": {
           "style": "light"
          },
          "paper_bgcolor": "white",
          "plot_bgcolor": "#E5ECF6",
          "polar": {
           "angularaxis": {
            "gridcolor": "white",
            "linecolor": "white",
            "ticks": ""
           },
           "bgcolor": "#E5ECF6",
           "radialaxis": {
            "gridcolor": "white",
            "linecolor": "white",
            "ticks": ""
           }
          },
          "scene": {
           "xaxis": {
            "backgroundcolor": "#E5ECF6",
            "gridcolor": "white",
            "gridwidth": 2,
            "linecolor": "white",
            "showbackground": true,
            "ticks": "",
            "zerolinecolor": "white"
           },
           "yaxis": {
            "backgroundcolor": "#E5ECF6",
            "gridcolor": "white",
            "gridwidth": 2,
            "linecolor": "white",
            "showbackground": true,
            "ticks": "",
            "zerolinecolor": "white"
           },
           "zaxis": {
            "backgroundcolor": "#E5ECF6",
            "gridcolor": "white",
            "gridwidth": 2,
            "linecolor": "white",
            "showbackground": true,
            "ticks": "",
            "zerolinecolor": "white"
           }
          },
          "shapedefaults": {
           "line": {
            "color": "#2a3f5f"
           }
          },
          "ternary": {
           "aaxis": {
            "gridcolor": "white",
            "linecolor": "white",
            "ticks": ""
           },
           "baxis": {
            "gridcolor": "white",
            "linecolor": "white",
            "ticks": ""
           },
           "bgcolor": "#E5ECF6",
           "caxis": {
            "gridcolor": "white",
            "linecolor": "white",
            "ticks": ""
           }
          },
          "title": {
           "x": 0.05
          },
          "xaxis": {
           "automargin": true,
           "gridcolor": "white",
           "linecolor": "white",
           "ticks": "",
           "title": {
            "standoff": 15
           },
           "zerolinecolor": "white",
           "zerolinewidth": 2
          },
          "yaxis": {
           "automargin": true,
           "gridcolor": "white",
           "linecolor": "white",
           "ticks": "",
           "title": {
            "standoff": 15
           },
           "zerolinecolor": "white",
           "zerolinewidth": 2
          }
         }
        },
        "title": {
         "text": "Impact vs Stability (-20%)"
        },
        "xaxis": {
         "title": {
          "text": "Stability (TotalNPK_315 -20%)"
         }
        },
        "yaxis": {
         "title": {
          "text": "Normalized Impact"
         }
        }
       }
      }
     },
     "metadata": {},
     "output_type": "display_data"
    },
    {
     "data": {
      "text/html": [
       "<div>\n",
       "<style scoped>\n",
       "    .dataframe tbody tr th:only-of-type {\n",
       "        vertical-align: middle;\n",
       "    }\n",
       "\n",
       "    .dataframe tbody tr th {\n",
       "        vertical-align: top;\n",
       "    }\n",
       "\n",
       "    .dataframe thead th {\n",
       "        text-align: right;\n",
       "    }\n",
       "</style>\n",
       "<table border=\"1\" class=\"dataframe\">\n",
       "  <thead>\n",
       "    <tr style=\"text-align: right;\">\n",
       "      <th></th>\n",
       "      <th>District</th>\n",
       "      <th>Rice_Production_223 (TotalNPK_315 +20%)</th>\n",
       "      <th>Rice_Production_223 (TotalNPK_315 -20%)</th>\n",
       "      <th>Normalized Rice_Production_223 (TotalNPK_315 +20%)</th>\n",
       "      <th>Normalized Rice_Production_223 (TotalNPK_315 -20%)</th>\n",
       "      <th>Impact Score Rice_Production_223 (TotalNPK_315 +20%)</th>\n",
       "      <th>Impact Score Rice_Production_223 (TotalNPK_315 -20%)</th>\n",
       "      <th>Jowar_Yield_278 (TotalNPK_315 +20%)</th>\n",
       "      <th>Jowar_Yield_278 (TotalNPK_315 -20%)</th>\n",
       "      <th>Normalized Jowar_Yield_278 (TotalNPK_315 +20%)</th>\n",
       "      <th>Normalized Jowar_Yield_278 (TotalNPK_315 -20%)</th>\n",
       "      <th>Impact Score Jowar_Yield_278 (TotalNPK_315 +20%)</th>\n",
       "      <th>Impact Score Jowar_Yield_278 (TotalNPK_315 -20%)</th>\n",
       "      <th>New Stability(NPK + 20%)_Rice_Jowar</th>\n",
       "      <th>New Stability(NPK - 20%)_Rice_Jowar</th>\n",
       "    </tr>\n",
       "  </thead>\n",
       "  <tbody>\n",
       "    <tr>\n",
       "      <th>0</th>\n",
       "      <td>BENGALURU</td>\n",
       "      <td>73964.709483</td>\n",
       "      <td>52021.948395</td>\n",
       "      <td>0.098721</td>\n",
       "      <td>0.098721</td>\n",
       "      <td>0.129382</td>\n",
       "      <td>0.870618</td>\n",
       "      <td>639.044946</td>\n",
       "      <td>547.537431</td>\n",
       "      <td>0.098721</td>\n",
       "      <td>0.098721</td>\n",
       "      <td>0.000398</td>\n",
       "      <td>0.999602</td>\n",
       "      <td>0.959044</td>\n",
       "      <td>0.959044</td>\n",
       "    </tr>\n",
       "    <tr>\n",
       "      <th>1</th>\n",
       "      <td>BENGALURU(R)</td>\n",
       "      <td>62524.538934</td>\n",
       "      <td>44395.168029</td>\n",
       "      <td>0.075418</td>\n",
       "      <td>0.075418</td>\n",
       "      <td>0.106872</td>\n",
       "      <td>0.893128</td>\n",
       "      <td>591.336202</td>\n",
       "      <td>515.731601</td>\n",
       "      <td>0.075418</td>\n",
       "      <td>0.075418</td>\n",
       "      <td>0.000304</td>\n",
       "      <td>0.999696</td>\n",
       "      <td>0.976505</td>\n",
       "      <td>0.976505</td>\n",
       "    </tr>\n",
       "    <tr>\n",
       "      <th>2</th>\n",
       "      <td>RAMANAGARA</td>\n",
       "      <td>29237.624526</td>\n",
       "      <td>22203.891757</td>\n",
       "      <td>0.007616</td>\n",
       "      <td>0.007616</td>\n",
       "      <td>0.041376</td>\n",
       "      <td>0.958624</td>\n",
       "      <td>452.520360</td>\n",
       "      <td>423.187707</td>\n",
       "      <td>0.007616</td>\n",
       "      <td>0.007616</td>\n",
       "      <td>0.000031</td>\n",
       "      <td>0.999969</td>\n",
       "      <td>0.822250</td>\n",
       "      <td>0.822250</td>\n",
       "    </tr>\n",
       "    <tr>\n",
       "      <th>3</th>\n",
       "      <td>CHITRADURGA</td>\n",
       "      <td>109474.140361</td>\n",
       "      <td>75694.902314</td>\n",
       "      <td>0.171050</td>\n",
       "      <td>0.171050</td>\n",
       "      <td>0.199250</td>\n",
       "      <td>0.800750</td>\n",
       "      <td>787.129310</td>\n",
       "      <td>646.260340</td>\n",
       "      <td>0.171050</td>\n",
       "      <td>0.171050</td>\n",
       "      <td>0.000689</td>\n",
       "      <td>0.999311</td>\n",
       "      <td>0.668650</td>\n",
       "      <td>0.668650</td>\n",
       "    </tr>\n",
       "    <tr>\n",
       "      <th>4</th>\n",
       "      <td>DAVANAGERE</td>\n",
       "      <td>289534.686947</td>\n",
       "      <td>195735.266704</td>\n",
       "      <td>0.537816</td>\n",
       "      <td>0.537816</td>\n",
       "      <td>0.553539</td>\n",
       "      <td>0.446461</td>\n",
       "      <td>1538.032682</td>\n",
       "      <td>1146.862588</td>\n",
       "      <td>0.537816</td>\n",
       "      <td>0.537816</td>\n",
       "      <td>0.002167</td>\n",
       "      <td>0.997833</td>\n",
       "      <td>0.790058</td>\n",
       "      <td>0.790058</td>\n",
       "    </tr>\n",
       "  </tbody>\n",
       "</table>\n",
       "</div>"
      ],
      "text/plain": [
       "       District  Rice_Production_223 (TotalNPK_315 +20%)  \\\n",
       "0     BENGALURU                             73964.709483   \n",
       "1  BENGALURU(R)                             62524.538934   \n",
       "2    RAMANAGARA                             29237.624526   \n",
       "3   CHITRADURGA                            109474.140361   \n",
       "4    DAVANAGERE                            289534.686947   \n",
       "\n",
       "   Rice_Production_223 (TotalNPK_315 -20%)  \\\n",
       "0                             52021.948395   \n",
       "1                             44395.168029   \n",
       "2                             22203.891757   \n",
       "3                             75694.902314   \n",
       "4                            195735.266704   \n",
       "\n",
       "   Normalized Rice_Production_223 (TotalNPK_315 +20%)  \\\n",
       "0                                           0.098721    \n",
       "1                                           0.075418    \n",
       "2                                           0.007616    \n",
       "3                                           0.171050    \n",
       "4                                           0.537816    \n",
       "\n",
       "   Normalized Rice_Production_223 (TotalNPK_315 -20%)  \\\n",
       "0                                           0.098721    \n",
       "1                                           0.075418    \n",
       "2                                           0.007616    \n",
       "3                                           0.171050    \n",
       "4                                           0.537816    \n",
       "\n",
       "   Impact Score Rice_Production_223 (TotalNPK_315 +20%)  \\\n",
       "0                                           0.129382      \n",
       "1                                           0.106872      \n",
       "2                                           0.041376      \n",
       "3                                           0.199250      \n",
       "4                                           0.553539      \n",
       "\n",
       "   Impact Score Rice_Production_223 (TotalNPK_315 -20%)  \\\n",
       "0                                           0.870618      \n",
       "1                                           0.893128      \n",
       "2                                           0.958624      \n",
       "3                                           0.800750      \n",
       "4                                           0.446461      \n",
       "\n",
       "   Jowar_Yield_278 (TotalNPK_315 +20%)  Jowar_Yield_278 (TotalNPK_315 -20%)  \\\n",
       "0                           639.044946                           547.537431   \n",
       "1                           591.336202                           515.731601   \n",
       "2                           452.520360                           423.187707   \n",
       "3                           787.129310                           646.260340   \n",
       "4                          1538.032682                          1146.862588   \n",
       "\n",
       "   Normalized Jowar_Yield_278 (TotalNPK_315 +20%)  \\\n",
       "0                                        0.098721   \n",
       "1                                        0.075418   \n",
       "2                                        0.007616   \n",
       "3                                        0.171050   \n",
       "4                                        0.537816   \n",
       "\n",
       "   Normalized Jowar_Yield_278 (TotalNPK_315 -20%)  \\\n",
       "0                                        0.098721   \n",
       "1                                        0.075418   \n",
       "2                                        0.007616   \n",
       "3                                        0.171050   \n",
       "4                                        0.537816   \n",
       "\n",
       "   Impact Score Jowar_Yield_278 (TotalNPK_315 +20%)  \\\n",
       "0                                          0.000398   \n",
       "1                                          0.000304   \n",
       "2                                          0.000031   \n",
       "3                                          0.000689   \n",
       "4                                          0.002167   \n",
       "\n",
       "   Impact Score Jowar_Yield_278 (TotalNPK_315 -20%)  \\\n",
       "0                                          0.999602   \n",
       "1                                          0.999696   \n",
       "2                                          0.999969   \n",
       "3                                          0.999311   \n",
       "4                                          0.997833   \n",
       "\n",
       "   New Stability(NPK + 20%)_Rice_Jowar  New Stability(NPK - 20%)_Rice_Jowar  \n",
       "0                             0.959044                             0.959044  \n",
       "1                             0.976505                             0.976505  \n",
       "2                             0.822250                             0.822250  \n",
       "3                             0.668650                             0.668650  \n",
       "4                             0.790058                             0.790058  "
      ]
     },
     "execution_count": 43,
     "metadata": {},
     "output_type": "execute_result"
    }
   ],
   "source": [
    "import statsmodels.api as sm\n",
    "import pandas as pd\n",
    "import plotly.express as px\n",
    "import plotly.graph_objects as go\n",
    "\n",
    "def calc_and_vis_impact_stability(G, existing_data, adjacency_file, base_column, capability_vector, intervention, dim):\n",
    "    # Calculate min and max values for changes made by each column in capability_vector\n",
    "    min_value_increase = float('inf')\n",
    "    max_value_increase = float('-inf')\n",
    "    min_value_decrease = float('inf')\n",
    "    max_value_decrease = float('-inf')\n",
    "\n",
    "    for cap_col in capability_vector:\n",
    "        # Calculate Impact Score\n",
    "        X = sm.add_constant(df[base_column])\n",
    "        y = df[cap_col]\n",
    "        model = sm.OLS(y, X).fit()\n",
    "\n",
    "        m, c = model.params[base_column], model.params['const']\n",
    "\n",
    "        base_column_increase = (1 + intervention/100) * df[base_column]\n",
    "        base_column_decrease = (1 - intervention/100) * df[base_column]\n",
    "\n",
    "        change_vector_increase = m * base_column_increase + c\n",
    "        change_vector_decrease = m * base_column_decrease + c\n",
    "        \n",
    "        vector_plus = change_vector_increase - m * df[base_column] - c  \n",
    "        vector_minus = change_vector_decrease - m * df[base_column] - c\n",
    "\n",
    "        # Update min and max values for each column's changes\n",
    "        min_value_increase = min(min_value_increase, vector_plus.min())\n",
    "        max_value_increase = max(max_value_increase, vector_plus.max())\n",
    "\n",
    "        min_value_decrease = min(min_value_decrease, vector_minus.min())\n",
    "        max_value_decrease = max(max_value_decrease, vector_minus.max())\n",
    "\n",
    "    # Normalize changes manually using the calculated min and max values\n",
    "    col_pass_plus = []\n",
    "    col_pass_minus = []\n",
    "    for cap_col in capability_vector:\n",
    "        # Calculate Impact Score\n",
    "        X = sm.add_constant(df[base_column])\n",
    "        y = df[cap_col]\n",
    "        model = sm.OLS(y, X).fit()\n",
    "\n",
    "        m, c = model.params[base_column], model.params['const']\n",
    "        print(m,c)\n",
    "        base_column_increase = (1 + intervention/100) * df[base_column]\n",
    "        base_column_decrease = (1 - intervention/100) * df[base_column]\n",
    "\n",
    "        new_vector_increase = m * base_column_increase + c\n",
    "        new_vector_decrease = m * base_column_decrease + c\n",
    "        \n",
    "        vector_plus = new_vector_increase - m * df[base_column] - c  \n",
    "        vector_minus = new_vector_decrease - m * df[base_column] - c\n",
    "\n",
    "\n",
    "        # Normalize changes manually using the calculated min and max values\n",
    "        normalized_change_increase_vector = (vector_plus - min_value_increase) / (max_value_increase - min_value_increase)\n",
    "        normalized_change_decrease_vector = (vector_minus - min_value_decrease) / (max_value_decrease - min_value_decrease)\n",
    "        \n",
    "        \n",
    "        # scaler = MinMaxScaler()\n",
    "        # normalized_new_increase_vector = scaler.fit_transform(new_vector_increase.values.reshape(-1, 1))      \n",
    "        # normalized_new_decrease_vector = scaler.fit_transform(new_vector_decrease.values.reshape(-1, 1))  \n",
    "        \n",
    "        # For new_vector_increase\n",
    "        new_vector_increase_val = new_vector_increase.to_numpy().reshape(-1, 1)\n",
    "        normalized_new_increase_vector = (new_vector_increase_val - new_vector_increase_val.min()) / (new_vector_increase_val.max() - new_vector_increase_val.min())\n",
    "\n",
    "        # For new_vector_decrease\n",
    "        new_vector_decrease_val = new_vector_decrease.to_numpy().reshape(-1, 1)\n",
    "        normalized_new_decrease_vector = (new_vector_decrease_val - new_vector_decrease_val.min()) / (new_vector_decrease_val.max() - new_vector_decrease_val.min())\n",
    "        \n",
    "        result_df = pd.DataFrame({\n",
    "            f'{cap_col} ({base_column} +{intervention}%)': new_vector_increase,\n",
    "            f'{cap_col} ({base_column} -{intervention}%)': new_vector_decrease,\n",
    "            f'Normalized {cap_col} ({base_column} +{intervention}%)': normalized_new_increase_vector.flatten(),\n",
    "            f'Normalized {cap_col} ({base_column} -{intervention}%)': normalized_new_decrease_vector.flatten(),\n",
    "            f'Impact Score {cap_col} ({base_column} +{intervention}%)': normalized_change_increase_vector,\n",
    "            f'Impact Score {cap_col} ({base_column} -{intervention}%)': normalized_change_decrease_vector,\n",
    "        })\n",
    "\n",
    "        result_df_1 = pd.DataFrame({\n",
    "            f'{cap_col} ({base_column} +{intervention}%)': new_vector_increase,\n",
    "            # f'{cap_col} ({base_column} -{intervention}%)': new_vector_decrease,\n",
    "            f'Normalized {cap_col} ({base_column} +{intervention}%)': normalized_new_increase_vector.flatten(),\n",
    "            # f'Normalized {cap_col} ({base_column} -{intervention}%)': normalized_new_decrease_vector.flatten(),\n",
    "            # f'Impact Score {cap_col} ({base_column} +{intervention}%)': normalized_change_increase_vector,\n",
    "            # f'Impact Score {cap_col} ({base_column} -{intervention}%)': normalized_change_decrease_vector,\n",
    "        })\n",
    "\n",
    "        # Merge Columns\n",
    "        for column in result_df.columns:\n",
    "            existing_data[column] = result_df[column]\n",
    "            \n",
    "        for column in result_df_1.columns:\n",
    "            res_df[column] = result_df_1[column]\n",
    "        # Calculate Stability and add to DataFrame\n",
    "        columns_to_pass = f\"Normalized {cap_col} ({base_column} {'+' if intervention >= 0 else '-'}{abs(intervention)}%)\"\n",
    "        col_pass_plus.append(columns_to_pass)\n",
    "        \n",
    "        # Calculate Stability for the opposite intervention and add to DataFrame\n",
    "        opposite_intervention = -intervention\n",
    "        columns_to_pass_opposite = f\"Normalized {cap_col} ({base_column} {'+' if opposite_intervention >= 0 else '-'}{abs(opposite_intervention)}%)\"\n",
    "        col_pass_minus.append(columns_to_pass_opposite)\n",
    "\n",
    "    \n",
    "    # Normalize stability values\n",
    "    stability_column, stability_column_name = calculate_and_map_stability(G, existing_data.copy(), adjacency_file, col_pass_plus, intervention, dim)\n",
    "\n",
    "    normalized_stability_vector = (stability_column - stability_column.min()) / (stability_column.max() - stability_column.min())\n",
    "        \n",
    "    capability_first_words = [col.split('_')[0] for col in capability_vector]\n",
    "    stability_column_name_modified = stability_column_name + \"_\" + \"_\".join(capability_first_words)\n",
    "    existing_data[stability_column_name_modified] = normalized_stability_vector\n",
    "    \n",
    "    stability_column_opposite, stability_column_name_opposite = calculate_and_map_stability(G, existing_data.copy(), adjacency_file, col_pass_minus, opposite_intervention, dim)\n",
    "        \n",
    "    # Normalize stability values for the opposite intervention\n",
    "    normalized_stability_vector_opposite = (stability_column_opposite - stability_column_opposite.min()) / (stability_column_opposite.max() - stability_column_opposite.min())    \n",
    "    stability_column_name_opposite_modified = stability_column_name_opposite + \"_\" + \"_\".join(capability_first_words)\n",
    "    existing_data[stability_column_name_opposite_modified] = normalized_stability_vector_opposite\n",
    "    \n",
    "    # Visualize with Plotly for +intervention\n",
    "    fig_increase = go.Figure()\n",
    "    color_palette = ['red', 'blue', 'green', 'orange', 'purple']  # Add more colors if needed\n",
    "\n",
    "    for i, cap_col in enumerate(capability_vector):\n",
    "        symbol = 'star' if i == 0 else 'circle'  # Use 'star' for the first point, 'circle' for others\n",
    "        scatter_increase = go.Scatter(\n",
    "            x=existing_data[stability_column_name_modified],\n",
    "            y=existing_data[f\"Impact Score {cap_col} ({base_column} +{abs(intervention)}%)\"],\n",
    "            mode='markers',\n",
    "            marker=dict(size=7, symbol=symbol, color=color_palette[i]),  # Adjust the size and add symbol parameter\n",
    "            name=f'{cap_col} +{intervention}%',\n",
    "            text=existing_data['District'],\n",
    "            hovertemplate='%{text}' + '<br>Impact: %{y:.2f}' + '<br>Stability: %{x:.2f}'\n",
    "        )\n",
    "        fig_increase.add_trace(scatter_increase)\n",
    "\n",
    "    # Add average lines\n",
    "    avg_stability_increase = existing_data[stability_column_name_modified].mean()\n",
    "    avg_impact_increase = existing_data[f\"Impact Score {capability_vector[0]} ({base_column} {'+' if intervention >= 0 else '-'}{abs(intervention)}%)\"].mean()\n",
    "\n",
    "    fig_increase.add_shape(\n",
    "        go.layout.Shape(\n",
    "            type=\"line\",\n",
    "            x0=avg_stability_increase,\n",
    "            x1=avg_stability_increase,\n",
    "            y0=0,\n",
    "            y1=1,\n",
    "            line=dict(color=\"black\", dash=\"dash\"),\n",
    "            name=\"Average Stability\"\n",
    "        )\n",
    "    )\n",
    "    fig_increase.add_shape(\n",
    "        go.layout.Shape(\n",
    "            type=\"line\",\n",
    "            x0=0,\n",
    "            x1=1,\n",
    "            y0=avg_impact_increase,\n",
    "            y1=avg_impact_increase,\n",
    "            line=dict(color=\"black\", dash=\"dash\"),\n",
    "            name=\"Average Impact\"\n",
    "        )\n",
    "    )\n",
    "\n",
    "    # Update layout for +intervention plot\n",
    "    fig_increase.update_layout(\n",
    "        title=f'Impact vs Stability (+{intervention}%)',\n",
    "        xaxis=dict(title=f'Stability ({base_column} +{intervention}%)'),\n",
    "        yaxis=dict(title='Normalized Impact'),\n",
    "        hovermode='closest'\n",
    "    )\n",
    "\n",
    "    # Visualize with Plotly for -intervention\n",
    "    fig_decrease = go.Figure()\n",
    "\n",
    "    for i, cap_col in enumerate(capability_vector):\n",
    "        # Scatter plot for -intervention\n",
    "        symbol = 'star' if i == 0 else 'circle'\n",
    "        scatter_decrease = go.Scatter(\n",
    "            x=existing_data[stability_column_name_opposite_modified],\n",
    "            y=existing_data[f\"Impact Score {cap_col} ({base_column} {'+' if intervention <= 0 else '-'}{abs(intervention)}%)\"],\n",
    "            mode='markers',\n",
    "            marker=dict(size=7,symbol=symbol, color=color_palette[i]),\n",
    "            name=f'{cap_col} -{intervention}%',\n",
    "            text=existing_data['District'],\n",
    "            hovertemplate='%{text}' + '<br>Impact: %{y:.2f}' + '<br>Stability: %{x:.2f}'\n",
    "        )\n",
    "\n",
    "        fig_decrease.add_trace(scatter_decrease)\n",
    "\n",
    "    # Add average lines for -intervention\n",
    "    avg_stability_decrease = existing_data[stability_column_name_opposite_modified].mean()\n",
    "    avg_impact_decrease = existing_data[f\"Impact Score {capability_vector[0]} ({base_column} {'+' if intervention <= 0 else '-'}{abs(intervention)}%)\"].mean()\n",
    "\n",
    "    fig_decrease.add_shape(\n",
    "        go.layout.Shape(\n",
    "            type=\"line\",\n",
    "            x0=avg_stability_decrease,\n",
    "            x1=avg_stability_decrease,\n",
    "            y0=0,\n",
    "            y1=1,\n",
    "            line=dict(color=\"black\", dash=\"dash\"),\n",
    "            name=\"Average Stability\"\n",
    "        )\n",
    "    )\n",
    "    fig_decrease.add_shape(\n",
    "        go.layout.Shape(\n",
    "            type=\"line\",\n",
    "            x0=0,\n",
    "            x1=1,\n",
    "            y0=avg_impact_decrease,\n",
    "            y1=avg_impact_decrease,\n",
    "            line=dict(color=\"black\", dash=\"dash\"),\n",
    "            name=\"Average Impact\"\n",
    "        )\n",
    "    )\n",
    "\n",
    "    # Update layout for -intervention plot\n",
    "    fig_decrease.update_layout(\n",
    "        title=f'Impact vs Stability (-{intervention}%)',\n",
    "        xaxis=dict(title=f'Stability ({base_column} -{intervention}%)'),\n",
    "        yaxis=dict(title='Normalized Impact'),\n",
    "        hovermode='closest'\n",
    "    )\n",
    "\n",
    "    # Show plots\n",
    "    fig_increase.show()\n",
    "    fig_decrease.show()\n",
    "\n",
    "    return existing_data, fig_increase, fig_decrease, result_df\n",
    "\n",
    "base_column = \"TotalNPK_315\"\n",
    "capability_vector = [\"Rice_Production_223\", \"Jowar_Yield_278\"]\n",
    "change_percentage = 20\n",
    "dim = 2\n",
    "\n",
    "new_data, handle_increase, handle_decrease,result_df = calc_and_vis_impact_stability(G, existing_data.copy(), adjacency_file, base_column, capability_vector, change_percentage, dim)\n",
    "new_data.head()"
   ]
  },
  {
   "cell_type": "code",
   "execution_count": 25,
   "metadata": {},
   "outputs": [],
   "source": [
    "# import statsmodels.api as sm\n",
    "# import pandas as pd\n",
    "# import plotly.express as px\n",
    "# import plotly.graph_objects as go\n",
    "\n",
    "# def calc_and_vis_impact_stability(G, existing_data, adjacency_file, base_column, capability_vector, intervention, dim):\n",
    "#     # Calculate min and max values for changes made by each column in capability_vector\n",
    "#     min_value_increase = float('inf')\n",
    "#     max_value_increase = float('-inf')\n",
    "#     min_value_decrease = float('inf')\n",
    "#     max_value_decrease = float('-inf')\n",
    "\n",
    "#     for cap_col in capability_vector:\n",
    "#         # Calculate Impact Score\n",
    "#         X = sm.add_constant(df[base_column])\n",
    "#         y = df[cap_col]\n",
    "#         model = sm.OLS(y, X).fit()\n",
    "\n",
    "#         m, c = model.params[base_column], model.params['const']\n",
    "\n",
    "#         base_column_increase = (1 + intervention/100) * df[base_column]\n",
    "#         base_column_decrease = (1 - intervention/100) * df[base_column]\n",
    "\n",
    "#         change_vector_increase = m * base_column_increase + c\n",
    "#         change_vector_decrease = m * base_column_decrease + c\n",
    "        \n",
    "#         vector_plus = change_vector_increase - m * df[base_column] - c  \n",
    "#         vector_minus = change_vector_decrease - m * df[base_column] - c\n",
    "\n",
    "#         # Update min and max values for each column's changes\n",
    "#         min_value_increase = min(min_value_increase, vector_plus.min())\n",
    "#         max_value_increase = max(max_value_increase, vector_plus.max())\n",
    "\n",
    "#         min_value_decrease = min(min_value_decrease, vector_minus.min())\n",
    "#         max_value_decrease = max(max_value_decrease, vector_minus.max())\n",
    "\n",
    "#     # Normalize changes manually using the calculated min and max values\n",
    "#     col_pass_plus = []\n",
    "#     col_pass_minus = []\n",
    "#     for cap_col in capability_vector:\n",
    "#         # Calculate Impact Score\n",
    "#         X = sm.add_constant(df[base_column])\n",
    "#         y = df[cap_col]\n",
    "#         model = sm.OLS(y, X).fit()\n",
    "\n",
    "#         m, c = model.params[base_column], model.params['const']\n",
    "\n",
    "#         base_column_increase = (1 + intervention/100) * df[base_column]\n",
    "#         base_column_decrease = (1 - intervention/100) * df[base_column]\n",
    "\n",
    "#         new_vector_increase = m * base_column_increase + c\n",
    "#         new_vector_decrease = m * base_column_decrease + c\n",
    "        \n",
    "#         vector_plus = new_vector_increase - m * df[base_column] - c  \n",
    "#         vector_minus = new_vector_decrease - m * df[base_column] - c\n",
    "\n",
    "#         # Normalize changes manually using the calculated min and max values\n",
    "#         normalized_change_increase_vector = (vector_plus - min_value_increase) / (max_value_increase - min_value_increase)\n",
    "#         normalized_change_decrease_vector = (vector_minus - min_value_decrease) / (max_value_decrease - min_value_decrease)\n",
    "\n",
    "#         scaler = MinMaxScaler()\n",
    "#         normalized_new_increase_vector = scaler.fit_transform(new_vector_increase.values.reshape(-1, 1))\n",
    "#         normalized_new_decrease_vector = scaler.fit_transform(new_vector_decrease.values.reshape(-1, 1))\n",
    "        \n",
    "#         result_df = pd.DataFrame({\n",
    "#             f'{cap_col} ({base_column} +{intervention}%)': new_vector_increase,\n",
    "#             f'{cap_col} ({base_column} -{intervention}%)': new_vector_decrease,\n",
    "#             f'Normalized {cap_col} ({base_column} +{intervention}%)': normalized_new_increase_vector,\n",
    "#             f'Normalized {cap_col} ({base_column} -{intervention}%)': normalized_new_decrease_vector,\n",
    "#             f'Impact Score {cap_col} ({base_column} +{intervention}%)': normalized_change_increase_vector,\n",
    "#             f'Impact Score {cap_col} ({base_column} -{intervention}%)': normalized_change_decrease_vector,\n",
    "\n",
    "#         })\n",
    "\n",
    "#         # Merge Columns\n",
    "#         for column in result_df.columns:\n",
    "#             if column in result_df.columns:\n",
    "#                 existing_data[column] = result_df[column]\n",
    "\n",
    "#         # Calculate Stability and add to DataFrame\n",
    "#         columns_to_pass = f\"Normalized {cap_col} ({base_column} {'+' if intervention >= 0 else '-'}{abs(intervention)}%)\"\n",
    "#         col_pass_plus.append(columns_to_pass)\n",
    "        \n",
    "#         # Calculate Stability for the opposite intervention and add to DataFrame\n",
    "#         opposite_intervention = -intervention\n",
    "#         columns_to_pass_opposite = f\"Normalized {cap_col} ({base_column} {'+' if opposite_intervention >= 0 else '-'}{abs(opposite_intervention)}%)\"\n",
    "#         col_pass_minus.append(columns_to_pass_opposite)\n",
    "        \n",
    "#     # Normalize stability values\n",
    "#     stability_column, stability_column_name = calculate_and_map_stability(G, existing_data.copy(), adjacency_file, col_pass_plus, intervention, dim)\n",
    "\n",
    "#     normalized_stability_vector = (stability_column - stability_column.min()) / (stability_column.max() - stability_column.min())\n",
    "        \n",
    "#     capability_first_words = [col.split('_')[0] for col in capability_vector]\n",
    "#     stability_column_name_modified = stability_column_name + \"_\" + \"_\".join(capability_first_words)\n",
    "#     existing_data[stability_column_name_modified] = normalized_stability_vector\n",
    "    \n",
    "#     stability_column_opposite, stability_column_name_opposite = calculate_and_map_stability(G, existing_data.copy(), adjacency_file, col_pass_minus, opposite_intervention, dim)\n",
    "        \n",
    "#     # Normalize stability values for the opposite intervention\n",
    "#     normalized_stability_vector_opposite = (stability_column_opposite - stability_column_opposite.min()) / (stability_column_opposite.max() - stability_column_opposite.min())    \n",
    "#     stability_column_name_opposite_modified = stability_column_name_opposite + \"_\" + \"_\".join(capability_first_words)\n",
    "#     existing_data[stability_column_name_opposite_modified] = normalized_stability_vector_opposite\n",
    "    \n",
    "#     # Visualize with Plotly for +intervention\n",
    "#     fig_increase = go.Figure()\n",
    "#     color_palette = ['red', 'blue', 'green', 'orange', 'purple']  # Add more colors if needed\n",
    "\n",
    "#     for i, cap_col in enumerate(capability_vector):\n",
    "#         symbol = 'star' if i == 0 else 'circle'  # Use 'star' for the first point, 'circle' for others\n",
    "#         scatter_increase = go.Scatter(\n",
    "#             x=existing_data[stability_column_name_modified],\n",
    "#             y=existing_data[f\"Normalized {cap_col} ({base_column} {'+' if intervention >= 0 else '-'}{abs(intervention)}%)\"],\n",
    "#             mode='markers',\n",
    "#             marker=dict(size=7, symbol=symbol, color=color_palette[i]),  # Adjust the size and add symbol parameter\n",
    "#             name=f'{cap_col} +{intervention}%',\n",
    "#             text=existing_data['District'],\n",
    "#             hovertemplate='%{text}' + '<br>Impact: %{y:.2f}' + '<br>Stability: %{x:.2f}'\n",
    "#         )\n",
    "#         fig_increase.add_trace(scatter_increase)\n",
    "\n",
    "#     # Add average lines\n",
    "#     avg_stability_increase = existing_data[stability_column_name_modified].mean()\n",
    "#     avg_impact_increase = existing_data[f\"Normalized {capability_vector[0]} ({base_column} {'+' if intervention >= 0 else '-'}{abs(intervention)}%)\"].mean()\n",
    "\n",
    "#     fig_increase.add_shape(\n",
    "#         go.layout.Shape(\n",
    "#             type=\"line\",\n",
    "#             x0=avg_stability_increase,\n",
    "#             x1=avg_stability_increase,\n",
    "#             y0=0,\n",
    "#             y1=1,\n",
    "#             line=dict(color=\"black\", dash=\"dash\"),\n",
    "#             name=\"Average Stability\"\n",
    "#         )\n",
    "#     )\n",
    "#     fig_increase.add_shape(\n",
    "#         go.layout.Shape(\n",
    "#             type=\"line\",\n",
    "#             x0=0,\n",
    "#             x1=1,\n",
    "#             y0=avg_impact_increase,\n",
    "#             y1=avg_impact_increase,\n",
    "#             line=dict(color=\"black\", dash=\"dash\"),\n",
    "#             name=\"Average Impact\"\n",
    "#         )\n",
    "#     )\n",
    "\n",
    "#     # Update layout for +intervention plot\n",
    "#     fig_increase.update_layout(\n",
    "#         title=f'Impact vs Stability (+{intervention}%)',\n",
    "#         xaxis=dict(title=f'Stability ({base_column} +{intervention}%)'),\n",
    "#         yaxis=dict(title='Normalized Impact'),\n",
    "#         hovermode='closest'\n",
    "#     )\n",
    "\n",
    "#     # Visualize with Plotly for -intervention\n",
    "#     fig_decrease = go.Figure()\n",
    "\n",
    "#     for i, cap_col in enumerate(capability_vector):\n",
    "#         # Scatter plot for -intervention\n",
    "#         symbol = 'star' if i == 0 else 'circle'\n",
    "#         scatter_decrease = go.Scatter(\n",
    "#             x=existing_data[stability_column_name_opposite_modified],\n",
    "#             y=existing_data[f\"Normalized {cap_col} ({base_column} {'+' if intervention >= 0 else '-'}{abs(intervention)}%)\"],\n",
    "#             mode='markers',\n",
    "#             marker=dict(size=7,symbol=symbol, color=color_palette[i]),\n",
    "#             name=f'{cap_col} -{intervention}%',\n",
    "#             text=existing_data['District'],\n",
    "#             hovertemplate='%{text}' + '<br>Impact: %{y:.2f}' + '<br>Stability: %{x:.2f}'\n",
    "#         )\n",
    "\n",
    "#         fig_decrease.add_trace(scatter_decrease)\n",
    "\n",
    "#     # Add average lines for -intervention\n",
    "#     avg_stability_decrease = existing_data[stability_column_name_opposite_modified].mean()\n",
    "#     avg_impact_decrease = existing_data[f\"Normalized {capability_vector[0]} ({base_column} {'+' if intervention >= 0 else '-'}{abs(intervention)}%)\"].mean()\n",
    "\n",
    "#     fig_decrease.add_shape(\n",
    "#         go.layout.Shape(\n",
    "#             type=\"line\",\n",
    "#             x0=avg_stability_decrease,\n",
    "#             x1=avg_stability_decrease,\n",
    "#             y0=0,\n",
    "#             y1=1,\n",
    "#             line=dict(color=\"black\", dash=\"dash\"),\n",
    "#             name=\"Average Stability\"\n",
    "#         )\n",
    "#     )\n",
    "#     fig_decrease.add_shape(\n",
    "#         go.layout.Shape(\n",
    "#             type=\"line\",\n",
    "#             x0=0,\n",
    "#             x1=1,\n",
    "#             y0=avg_impact_decrease,\n",
    "#             y1=avg_impact_decrease,\n",
    "#             line=dict(color=\"black\", dash=\"dash\"),\n",
    "#             name=\"Average Impact\"\n",
    "#         )\n",
    "#     )\n",
    "\n",
    "#     # Update layout for -intervention plot\n",
    "#     fig_decrease.update_layout(\n",
    "#         title=f'Impact vs Stability (-{intervention}%)',\n",
    "#         xaxis=dict(title=f'Stability ({base_column} -{intervention}%)'),\n",
    "#         yaxis=dict(title='Normalized Impact'),\n",
    "#         hovermode='closest'\n",
    "#     )\n",
    "\n",
    "#     # Show plots\n",
    "#     fig_increase.show()\n",
    "#     fig_decrease.show()\n",
    "\n",
    "#     return existing_data, fig_increase, fig_decrease\n",
    "\n",
    "# base_column = \"TotalNPK_315\"\n",
    "# capability_vector = [\"Rice_Production_223\", \"Jowar_Yield_278\"]\n",
    "# change_percentage = 20\n",
    "# dim = 2\n",
    "\n",
    "# new_data, handle_increase, handle_decrease = calc_and_vis_impact_stability(G, existing_data.copy(), adjacency_file, base_column, capability_vector, change_percentage, dim)\n",
    "# new_data.head()"
   ]
  },
  {
   "cell_type": "code",
   "execution_count": 41,
   "metadata": {},
   "outputs": [
    {
     "data": {
      "text/html": [
       "<div>\n",
       "<style scoped>\n",
       "    .dataframe tbody tr th:only-of-type {\n",
       "        vertical-align: middle;\n",
       "    }\n",
       "\n",
       "    .dataframe tbody tr th {\n",
       "        vertical-align: top;\n",
       "    }\n",
       "\n",
       "    .dataframe thead th {\n",
       "        text-align: right;\n",
       "    }\n",
       "</style>\n",
       "<table border=\"1\" class=\"dataframe\">\n",
       "  <thead>\n",
       "    <tr style=\"text-align: right;\">\n",
       "      <th></th>\n",
       "      <th>District</th>\n",
       "      <th>Rice_Production_223 (TotalNPK_315 +20%)</th>\n",
       "      <th>Rice_Production_223 (TotalNPK_315 -20%)</th>\n",
       "      <th>Normalized Rice_Production_223 (TotalNPK_315 +20%)</th>\n",
       "      <th>Normalized Rice_Production_223 (TotalNPK_315 -20%)</th>\n",
       "      <th>Impact Score Rice_Production_223 (TotalNPK_315 +20%)</th>\n",
       "      <th>Impact Score Rice_Production_223 (TotalNPK_315 -20%)</th>\n",
       "      <th>Jowar_Yield_278 (TotalNPK_315 +20%)</th>\n",
       "      <th>Jowar_Yield_278 (TotalNPK_315 -20%)</th>\n",
       "      <th>Normalized Jowar_Yield_278 (TotalNPK_315 +20%)</th>\n",
       "      <th>Normalized Jowar_Yield_278 (TotalNPK_315 -20%)</th>\n",
       "      <th>Impact Score Jowar_Yield_278 (TotalNPK_315 +20%)</th>\n",
       "      <th>Impact Score Jowar_Yield_278 (TotalNPK_315 -20%)</th>\n",
       "      <th>New Stability(NPK + 20%)_Rice_Jowar</th>\n",
       "      <th>New Stability(NPK - 20%)_Rice_Jowar</th>\n",
       "    </tr>\n",
       "  </thead>\n",
       "  <tbody>\n",
       "    <tr>\n",
       "      <th>0</th>\n",
       "      <td>BENGALURU</td>\n",
       "      <td>73964.709483</td>\n",
       "      <td>52021.948395</td>\n",
       "      <td>0.098721</td>\n",
       "      <td>0.098721</td>\n",
       "      <td>0.129382</td>\n",
       "      <td>0.870618</td>\n",
       "      <td>639.044946</td>\n",
       "      <td>547.537431</td>\n",
       "      <td>0.098721</td>\n",
       "      <td>0.098721</td>\n",
       "      <td>0.000398</td>\n",
       "      <td>0.999602</td>\n",
       "      <td>0.959044</td>\n",
       "      <td>0.959044</td>\n",
       "    </tr>\n",
       "    <tr>\n",
       "      <th>1</th>\n",
       "      <td>BENGALURU(R)</td>\n",
       "      <td>62524.538934</td>\n",
       "      <td>44395.168029</td>\n",
       "      <td>0.075418</td>\n",
       "      <td>0.075418</td>\n",
       "      <td>0.106872</td>\n",
       "      <td>0.893128</td>\n",
       "      <td>591.336202</td>\n",
       "      <td>515.731601</td>\n",
       "      <td>0.075418</td>\n",
       "      <td>0.075418</td>\n",
       "      <td>0.000304</td>\n",
       "      <td>0.999696</td>\n",
       "      <td>0.976505</td>\n",
       "      <td>0.976505</td>\n",
       "    </tr>\n",
       "    <tr>\n",
       "      <th>2</th>\n",
       "      <td>RAMANAGARA</td>\n",
       "      <td>29237.624526</td>\n",
       "      <td>22203.891757</td>\n",
       "      <td>0.007616</td>\n",
       "      <td>0.007616</td>\n",
       "      <td>0.041376</td>\n",
       "      <td>0.958624</td>\n",
       "      <td>452.520360</td>\n",
       "      <td>423.187707</td>\n",
       "      <td>0.007616</td>\n",
       "      <td>0.007616</td>\n",
       "      <td>0.000031</td>\n",
       "      <td>0.999969</td>\n",
       "      <td>0.822250</td>\n",
       "      <td>0.822250</td>\n",
       "    </tr>\n",
       "    <tr>\n",
       "      <th>3</th>\n",
       "      <td>CHITRADURGA</td>\n",
       "      <td>109474.140361</td>\n",
       "      <td>75694.902314</td>\n",
       "      <td>0.171050</td>\n",
       "      <td>0.171050</td>\n",
       "      <td>0.199250</td>\n",
       "      <td>0.800750</td>\n",
       "      <td>787.129310</td>\n",
       "      <td>646.260340</td>\n",
       "      <td>0.171050</td>\n",
       "      <td>0.171050</td>\n",
       "      <td>0.000689</td>\n",
       "      <td>0.999311</td>\n",
       "      <td>0.668650</td>\n",
       "      <td>0.668650</td>\n",
       "    </tr>\n",
       "    <tr>\n",
       "      <th>4</th>\n",
       "      <td>DAVANAGERE</td>\n",
       "      <td>289534.686947</td>\n",
       "      <td>195735.266704</td>\n",
       "      <td>0.537816</td>\n",
       "      <td>0.537816</td>\n",
       "      <td>0.553539</td>\n",
       "      <td>0.446461</td>\n",
       "      <td>1538.032682</td>\n",
       "      <td>1146.862588</td>\n",
       "      <td>0.537816</td>\n",
       "      <td>0.537816</td>\n",
       "      <td>0.002167</td>\n",
       "      <td>0.997833</td>\n",
       "      <td>0.790058</td>\n",
       "      <td>0.790058</td>\n",
       "    </tr>\n",
       "    <tr>\n",
       "      <th>5</th>\n",
       "      <td>KOLAR</td>\n",
       "      <td>70801.788966</td>\n",
       "      <td>49913.334717</td>\n",
       "      <td>0.092278</td>\n",
       "      <td>0.092278</td>\n",
       "      <td>0.123158</td>\n",
       "      <td>0.876842</td>\n",
       "      <td>625.854674</td>\n",
       "      <td>538.743916</td>\n",
       "      <td>0.092278</td>\n",
       "      <td>0.092278</td>\n",
       "      <td>0.000372</td>\n",
       "      <td>0.999628</td>\n",
       "      <td>1.000000</td>\n",
       "      <td>1.000000</td>\n",
       "    </tr>\n",
       "    <tr>\n",
       "      <th>6</th>\n",
       "      <td>CHIKKABALLAPURA</td>\n",
       "      <td>88217.620064</td>\n",
       "      <td>61523.888782</td>\n",
       "      <td>0.127752</td>\n",
       "      <td>0.127752</td>\n",
       "      <td>0.157426</td>\n",
       "      <td>0.842574</td>\n",
       "      <td>698.483612</td>\n",
       "      <td>587.163208</td>\n",
       "      <td>0.127752</td>\n",
       "      <td>0.127752</td>\n",
       "      <td>0.000515</td>\n",
       "      <td>0.999485</td>\n",
       "      <td>0.997250</td>\n",
       "      <td>0.997250</td>\n",
       "    </tr>\n",
       "    <tr>\n",
       "      <th>7</th>\n",
       "      <td>SHIVAMOGGA</td>\n",
       "      <td>168002.290110</td>\n",
       "      <td>114713.668813</td>\n",
       "      <td>0.290266</td>\n",
       "      <td>0.290266</td>\n",
       "      <td>0.314411</td>\n",
       "      <td>0.685589</td>\n",
       "      <td>1031.208237</td>\n",
       "      <td>808.979624</td>\n",
       "      <td>0.290266</td>\n",
       "      <td>0.290266</td>\n",
       "      <td>0.001169</td>\n",
       "      <td>0.998831</td>\n",
       "      <td>0.967812</td>\n",
       "      <td>0.967812</td>\n",
       "    </tr>\n",
       "    <tr>\n",
       "      <th>8</th>\n",
       "      <td>TUMAKURU</td>\n",
       "      <td>115867.758264</td>\n",
       "      <td>79957.314249</td>\n",
       "      <td>0.184073</td>\n",
       "      <td>0.184073</td>\n",
       "      <td>0.211830</td>\n",
       "      <td>0.788170</td>\n",
       "      <td>813.792503</td>\n",
       "      <td>664.035802</td>\n",
       "      <td>0.184073</td>\n",
       "      <td>0.184073</td>\n",
       "      <td>0.000742</td>\n",
       "      <td>0.999258</td>\n",
       "      <td>0.988802</td>\n",
       "      <td>0.988802</td>\n",
       "    </tr>\n",
       "    <tr>\n",
       "      <th>9</th>\n",
       "      <td>CHIKKAMAGALURU</td>\n",
       "      <td>199783.993235</td>\n",
       "      <td>135901.470897</td>\n",
       "      <td>0.355002</td>\n",
       "      <td>0.355002</td>\n",
       "      <td>0.376945</td>\n",
       "      <td>0.623055</td>\n",
       "      <td>1163.746922</td>\n",
       "      <td>897.338747</td>\n",
       "      <td>0.355002</td>\n",
       "      <td>0.355002</td>\n",
       "      <td>0.001430</td>\n",
       "      <td>0.998570</td>\n",
       "      <td>0.850936</td>\n",
       "      <td>0.850936</td>\n",
       "    </tr>\n",
       "    <tr>\n",
       "      <th>10</th>\n",
       "      <td>DAKSHINA KANNADA</td>\n",
       "      <td>60629.610660</td>\n",
       "      <td>43131.882513</td>\n",
       "      <td>0.071558</td>\n",
       "      <td>0.071558</td>\n",
       "      <td>0.103144</td>\n",
       "      <td>0.896856</td>\n",
       "      <td>583.433815</td>\n",
       "      <td>510.463343</td>\n",
       "      <td>0.071558</td>\n",
       "      <td>0.071558</td>\n",
       "      <td>0.000288</td>\n",
       "      <td>0.999712</td>\n",
       "      <td>0.809592</td>\n",
       "      <td>0.809592</td>\n",
       "    </tr>\n",
       "    <tr>\n",
       "      <th>11</th>\n",
       "      <td>UDUPI</td>\n",
       "      <td>25498.600629</td>\n",
       "      <td>19711.209159</td>\n",
       "      <td>0.000000</td>\n",
       "      <td>0.000000</td>\n",
       "      <td>0.034019</td>\n",
       "      <td>0.965981</td>\n",
       "      <td>436.927574</td>\n",
       "      <td>412.792516</td>\n",
       "      <td>0.000000</td>\n",
       "      <td>0.000000</td>\n",
       "      <td>0.000000</td>\n",
       "      <td>1.000000</td>\n",
       "      <td>0.763946</td>\n",
       "      <td>0.763946</td>\n",
       "    </tr>\n",
       "    <tr>\n",
       "      <th>12</th>\n",
       "      <td>HASSAN</td>\n",
       "      <td>201388.045783</td>\n",
       "      <td>136970.839262</td>\n",
       "      <td>0.358269</td>\n",
       "      <td>0.358269</td>\n",
       "      <td>0.380101</td>\n",
       "      <td>0.619899</td>\n",
       "      <td>1170.436274</td>\n",
       "      <td>901.798316</td>\n",
       "      <td>0.358269</td>\n",
       "      <td>0.358269</td>\n",
       "      <td>0.001443</td>\n",
       "      <td>0.998557</td>\n",
       "      <td>0.860117</td>\n",
       "      <td>0.860117</td>\n",
       "    </tr>\n",
       "    <tr>\n",
       "      <th>13</th>\n",
       "      <td>KODAGU</td>\n",
       "      <td>123772.235520</td>\n",
       "      <td>85226.965753</td>\n",
       "      <td>0.200174</td>\n",
       "      <td>0.200174</td>\n",
       "      <td>0.227383</td>\n",
       "      <td>0.772617</td>\n",
       "      <td>846.756408</td>\n",
       "      <td>686.011738</td>\n",
       "      <td>0.200174</td>\n",
       "      <td>0.200174</td>\n",
       "      <td>0.000806</td>\n",
       "      <td>0.999194</td>\n",
       "      <td>0.946297</td>\n",
       "      <td>0.946297</td>\n",
       "    </tr>\n",
       "    <tr>\n",
       "      <th>14</th>\n",
       "      <td>MANDYA</td>\n",
       "      <td>179154.408969</td>\n",
       "      <td>122148.414719</td>\n",
       "      <td>0.312982</td>\n",
       "      <td>0.312982</td>\n",
       "      <td>0.336354</td>\n",
       "      <td>0.663646</td>\n",
       "      <td>1077.715724</td>\n",
       "      <td>839.984616</td>\n",
       "      <td>0.312982</td>\n",
       "      <td>0.312982</td>\n",
       "      <td>0.001261</td>\n",
       "      <td>0.998739</td>\n",
       "      <td>0.858840</td>\n",
       "      <td>0.858840</td>\n",
       "    </tr>\n",
       "    <tr>\n",
       "      <th>15</th>\n",
       "      <td>MYSURU</td>\n",
       "      <td>183266.205642</td>\n",
       "      <td>124889.612501</td>\n",
       "      <td>0.321357</td>\n",
       "      <td>0.321357</td>\n",
       "      <td>0.344444</td>\n",
       "      <td>0.655556</td>\n",
       "      <td>1094.863079</td>\n",
       "      <td>851.416186</td>\n",
       "      <td>0.321357</td>\n",
       "      <td>0.321357</td>\n",
       "      <td>0.001295</td>\n",
       "      <td>0.998705</td>\n",
       "      <td>0.910524</td>\n",
       "      <td>0.910524</td>\n",
       "    </tr>\n",
       "    <tr>\n",
       "      <th>16</th>\n",
       "      <td>CHAMARAJANAGAR</td>\n",
       "      <td>75356.959318</td>\n",
       "      <td>52950.114952</td>\n",
       "      <td>0.101557</td>\n",
       "      <td>0.101557</td>\n",
       "      <td>0.132121</td>\n",
       "      <td>0.867879</td>\n",
       "      <td>644.851022</td>\n",
       "      <td>551.408148</td>\n",
       "      <td>0.101557</td>\n",
       "      <td>0.101557</td>\n",
       "      <td>0.000409</td>\n",
       "      <td>0.999591</td>\n",
       "      <td>0.866508</td>\n",
       "      <td>0.866508</td>\n",
       "    </tr>\n",
       "    <tr>\n",
       "      <th>17</th>\n",
       "      <td>BELAGAVI</td>\n",
       "      <td>516440.345622</td>\n",
       "      <td>347005.705821</td>\n",
       "      <td>1.000000</td>\n",
       "      <td>1.000000</td>\n",
       "      <td>1.000000</td>\n",
       "      <td>0.000000</td>\n",
       "      <td>2484.293412</td>\n",
       "      <td>1777.703074</td>\n",
       "      <td>1.000000</td>\n",
       "      <td>1.000000</td>\n",
       "      <td>0.004028</td>\n",
       "      <td>0.995972</td>\n",
       "      <td>0.000000</td>\n",
       "      <td>0.000000</td>\n",
       "    </tr>\n",
       "    <tr>\n",
       "      <th>18</th>\n",
       "      <td>VIJAYAPURA</td>\n",
       "      <td>161278.259975</td>\n",
       "      <td>110230.982056</td>\n",
       "      <td>0.276570</td>\n",
       "      <td>0.276570</td>\n",
       "      <td>0.301181</td>\n",
       "      <td>0.698819</td>\n",
       "      <td>1003.167131</td>\n",
       "      <td>790.285553</td>\n",
       "      <td>0.276570</td>\n",
       "      <td>0.276570</td>\n",
       "      <td>0.001114</td>\n",
       "      <td>0.998886</td>\n",
       "      <td>0.632532</td>\n",
       "      <td>0.632532</td>\n",
       "    </tr>\n",
       "    <tr>\n",
       "      <th>19</th>\n",
       "      <td>BAGALKOT</td>\n",
       "      <td>247648.582384</td>\n",
       "      <td>167811.196995</td>\n",
       "      <td>0.452498</td>\n",
       "      <td>0.452498</td>\n",
       "      <td>0.471123</td>\n",
       "      <td>0.528877</td>\n",
       "      <td>1363.355787</td>\n",
       "      <td>1030.411324</td>\n",
       "      <td>0.452498</td>\n",
       "      <td>0.452498</td>\n",
       "      <td>0.001823</td>\n",
       "      <td>0.998177</td>\n",
       "      <td>0.974963</td>\n",
       "      <td>0.974963</td>\n",
       "    </tr>\n",
       "    <tr>\n",
       "      <th>20</th>\n",
       "      <td>DHARAWAD</td>\n",
       "      <td>113701.722516</td>\n",
       "      <td>78513.290417</td>\n",
       "      <td>0.179661</td>\n",
       "      <td>0.179661</td>\n",
       "      <td>0.207569</td>\n",
       "      <td>0.792431</td>\n",
       "      <td>804.759522</td>\n",
       "      <td>658.013815</td>\n",
       "      <td>0.179661</td>\n",
       "      <td>0.179661</td>\n",
       "      <td>0.000724</td>\n",
       "      <td>0.999276</td>\n",
       "      <td>0.763427</td>\n",
       "      <td>0.763427</td>\n",
       "    </tr>\n",
       "    <tr>\n",
       "      <th>21</th>\n",
       "      <td>GADAG</td>\n",
       "      <td>73879.988398</td>\n",
       "      <td>51965.467671</td>\n",
       "      <td>0.098548</td>\n",
       "      <td>0.098548</td>\n",
       "      <td>0.129215</td>\n",
       "      <td>0.870785</td>\n",
       "      <td>638.691636</td>\n",
       "      <td>547.301890</td>\n",
       "      <td>0.098548</td>\n",
       "      <td>0.098548</td>\n",
       "      <td>0.000397</td>\n",
       "      <td>0.999603</td>\n",
       "      <td>0.488853</td>\n",
       "      <td>0.488853</td>\n",
       "    </tr>\n",
       "    <tr>\n",
       "      <th>22</th>\n",
       "      <td>HAVERI</td>\n",
       "      <td>191701.601699</td>\n",
       "      <td>130513.209873</td>\n",
       "      <td>0.338539</td>\n",
       "      <td>0.338539</td>\n",
       "      <td>0.361042</td>\n",
       "      <td>0.638958</td>\n",
       "      <td>1130.041064</td>\n",
       "      <td>874.868176</td>\n",
       "      <td>0.338539</td>\n",
       "      <td>0.338539</td>\n",
       "      <td>0.001364</td>\n",
       "      <td>0.998636</td>\n",
       "      <td>0.968354</td>\n",
       "      <td>0.968354</td>\n",
       "    </tr>\n",
       "    <tr>\n",
       "      <th>23</th>\n",
       "      <td>UTTARA KANNADA</td>\n",
       "      <td>51389.364292</td>\n",
       "      <td>36971.718267</td>\n",
       "      <td>0.052737</td>\n",
       "      <td>0.052737</td>\n",
       "      <td>0.084962</td>\n",
       "      <td>0.915038</td>\n",
       "      <td>544.899376</td>\n",
       "      <td>484.773717</td>\n",
       "      <td>0.052737</td>\n",
       "      <td>0.052737</td>\n",
       "      <td>0.000212</td>\n",
       "      <td>0.999788</td>\n",
       "      <td>0.614435</td>\n",
       "      <td>0.614435</td>\n",
       "    </tr>\n",
       "    <tr>\n",
       "      <th>24</th>\n",
       "      <td>BALLARI</td>\n",
       "      <td>356421.983777</td>\n",
       "      <td>240326.797924</td>\n",
       "      <td>0.674058</td>\n",
       "      <td>0.674058</td>\n",
       "      <td>0.685147</td>\n",
       "      <td>0.314853</td>\n",
       "      <td>1816.971615</td>\n",
       "      <td>1332.821876</td>\n",
       "      <td>0.674058</td>\n",
       "      <td>0.674058</td>\n",
       "      <td>0.002715</td>\n",
       "      <td>0.997285</td>\n",
       "      <td>0.610602</td>\n",
       "      <td>0.610602</td>\n",
       "    </tr>\n",
       "    <tr>\n",
       "      <th>25</th>\n",
       "      <td>BIDAR</td>\n",
       "      <td>77771.510248</td>\n",
       "      <td>54559.815572</td>\n",
       "      <td>0.106475</td>\n",
       "      <td>0.106475</td>\n",
       "      <td>0.136872</td>\n",
       "      <td>0.863128</td>\n",
       "      <td>654.920382</td>\n",
       "      <td>558.121054</td>\n",
       "      <td>0.106475</td>\n",
       "      <td>0.106475</td>\n",
       "      <td>0.000429</td>\n",
       "      <td>0.999571</td>\n",
       "      <td>0.794233</td>\n",
       "      <td>0.794233</td>\n",
       "    </tr>\n",
       "    <tr>\n",
       "      <th>26</th>\n",
       "      <td>KALABURAGI</td>\n",
       "      <td>160631.555690</td>\n",
       "      <td>109799.845867</td>\n",
       "      <td>0.275253</td>\n",
       "      <td>0.275253</td>\n",
       "      <td>0.299908</td>\n",
       "      <td>0.700092</td>\n",
       "      <td>1000.470191</td>\n",
       "      <td>788.487594</td>\n",
       "      <td>0.275253</td>\n",
       "      <td>0.275253</td>\n",
       "      <td>0.001109</td>\n",
       "      <td>0.998891</td>\n",
       "      <td>0.990354</td>\n",
       "      <td>0.990354</td>\n",
       "    </tr>\n",
       "    <tr>\n",
       "      <th>27</th>\n",
       "      <td>YADGIRI</td>\n",
       "      <td>266222.268314</td>\n",
       "      <td>180193.654282</td>\n",
       "      <td>0.490330</td>\n",
       "      <td>0.490330</td>\n",
       "      <td>0.507669</td>\n",
       "      <td>0.492331</td>\n",
       "      <td>1440.813307</td>\n",
       "      <td>1082.049671</td>\n",
       "      <td>0.490330</td>\n",
       "      <td>0.490330</td>\n",
       "      <td>0.001975</td>\n",
       "      <td>0.998025</td>\n",
       "      <td>0.890930</td>\n",
       "      <td>0.890930</td>\n",
       "    </tr>\n",
       "    <tr>\n",
       "      <th>28</th>\n",
       "      <td>RAICHUR</td>\n",
       "      <td>339212.307320</td>\n",
       "      <td>228853.680286</td>\n",
       "      <td>0.639004</td>\n",
       "      <td>0.639004</td>\n",
       "      <td>0.651285</td>\n",
       "      <td>0.348715</td>\n",
       "      <td>1745.202400</td>\n",
       "      <td>1284.975733</td>\n",
       "      <td>0.639004</td>\n",
       "      <td>0.639004</td>\n",
       "      <td>0.002574</td>\n",
       "      <td>0.997426</td>\n",
       "      <td>0.776289</td>\n",
       "      <td>0.776289</td>\n",
       "    </tr>\n",
       "    <tr>\n",
       "      <th>29</th>\n",
       "      <td>KOPPAL</td>\n",
       "      <td>215849.935041</td>\n",
       "      <td>146612.098767</td>\n",
       "      <td>0.387727</td>\n",
       "      <td>0.387727</td>\n",
       "      <td>0.408556</td>\n",
       "      <td>0.591444</td>\n",
       "      <td>1230.746440</td>\n",
       "      <td>942.005093</td>\n",
       "      <td>0.387727</td>\n",
       "      <td>0.387727</td>\n",
       "      <td>0.001562</td>\n",
       "      <td>0.998438</td>\n",
       "      <td>0.910283</td>\n",
       "      <td>0.910283</td>\n",
       "    </tr>\n",
       "  </tbody>\n",
       "</table>\n",
       "</div>"
      ],
      "text/plain": [
       "            District  Rice_Production_223 (TotalNPK_315 +20%)  \\\n",
       "0          BENGALURU                             73964.709483   \n",
       "1       BENGALURU(R)                             62524.538934   \n",
       "2         RAMANAGARA                             29237.624526   \n",
       "3        CHITRADURGA                            109474.140361   \n",
       "4         DAVANAGERE                            289534.686947   \n",
       "5              KOLAR                             70801.788966   \n",
       "6    CHIKKABALLAPURA                             88217.620064   \n",
       "7         SHIVAMOGGA                            168002.290110   \n",
       "8           TUMAKURU                            115867.758264   \n",
       "9     CHIKKAMAGALURU                            199783.993235   \n",
       "10  DAKSHINA KANNADA                             60629.610660   \n",
       "11             UDUPI                             25498.600629   \n",
       "12            HASSAN                            201388.045783   \n",
       "13            KODAGU                            123772.235520   \n",
       "14            MANDYA                            179154.408969   \n",
       "15            MYSURU                            183266.205642   \n",
       "16    CHAMARAJANAGAR                             75356.959318   \n",
       "17          BELAGAVI                            516440.345622   \n",
       "18        VIJAYAPURA                            161278.259975   \n",
       "19          BAGALKOT                            247648.582384   \n",
       "20          DHARAWAD                            113701.722516   \n",
       "21             GADAG                             73879.988398   \n",
       "22            HAVERI                            191701.601699   \n",
       "23    UTTARA KANNADA                             51389.364292   \n",
       "24           BALLARI                            356421.983777   \n",
       "25             BIDAR                             77771.510248   \n",
       "26        KALABURAGI                            160631.555690   \n",
       "27           YADGIRI                            266222.268314   \n",
       "28           RAICHUR                            339212.307320   \n",
       "29            KOPPAL                            215849.935041   \n",
       "\n",
       "    Rice_Production_223 (TotalNPK_315 -20%)  \\\n",
       "0                              52021.948395   \n",
       "1                              44395.168029   \n",
       "2                              22203.891757   \n",
       "3                              75694.902314   \n",
       "4                             195735.266704   \n",
       "5                              49913.334717   \n",
       "6                              61523.888782   \n",
       "7                             114713.668813   \n",
       "8                              79957.314249   \n",
       "9                             135901.470897   \n",
       "10                             43131.882513   \n",
       "11                             19711.209159   \n",
       "12                            136970.839262   \n",
       "13                             85226.965753   \n",
       "14                            122148.414719   \n",
       "15                            124889.612501   \n",
       "16                             52950.114952   \n",
       "17                            347005.705821   \n",
       "18                            110230.982056   \n",
       "19                            167811.196995   \n",
       "20                             78513.290417   \n",
       "21                             51965.467671   \n",
       "22                            130513.209873   \n",
       "23                             36971.718267   \n",
       "24                            240326.797924   \n",
       "25                             54559.815572   \n",
       "26                            109799.845867   \n",
       "27                            180193.654282   \n",
       "28                            228853.680286   \n",
       "29                            146612.098767   \n",
       "\n",
       "    Normalized Rice_Production_223 (TotalNPK_315 +20%)  \\\n",
       "0                                            0.098721    \n",
       "1                                            0.075418    \n",
       "2                                            0.007616    \n",
       "3                                            0.171050    \n",
       "4                                            0.537816    \n",
       "5                                            0.092278    \n",
       "6                                            0.127752    \n",
       "7                                            0.290266    \n",
       "8                                            0.184073    \n",
       "9                                            0.355002    \n",
       "10                                           0.071558    \n",
       "11                                           0.000000    \n",
       "12                                           0.358269    \n",
       "13                                           0.200174    \n",
       "14                                           0.312982    \n",
       "15                                           0.321357    \n",
       "16                                           0.101557    \n",
       "17                                           1.000000    \n",
       "18                                           0.276570    \n",
       "19                                           0.452498    \n",
       "20                                           0.179661    \n",
       "21                                           0.098548    \n",
       "22                                           0.338539    \n",
       "23                                           0.052737    \n",
       "24                                           0.674058    \n",
       "25                                           0.106475    \n",
       "26                                           0.275253    \n",
       "27                                           0.490330    \n",
       "28                                           0.639004    \n",
       "29                                           0.387727    \n",
       "\n",
       "    Normalized Rice_Production_223 (TotalNPK_315 -20%)  \\\n",
       "0                                            0.098721    \n",
       "1                                            0.075418    \n",
       "2                                            0.007616    \n",
       "3                                            0.171050    \n",
       "4                                            0.537816    \n",
       "5                                            0.092278    \n",
       "6                                            0.127752    \n",
       "7                                            0.290266    \n",
       "8                                            0.184073    \n",
       "9                                            0.355002    \n",
       "10                                           0.071558    \n",
       "11                                           0.000000    \n",
       "12                                           0.358269    \n",
       "13                                           0.200174    \n",
       "14                                           0.312982    \n",
       "15                                           0.321357    \n",
       "16                                           0.101557    \n",
       "17                                           1.000000    \n",
       "18                                           0.276570    \n",
       "19                                           0.452498    \n",
       "20                                           0.179661    \n",
       "21                                           0.098548    \n",
       "22                                           0.338539    \n",
       "23                                           0.052737    \n",
       "24                                           0.674058    \n",
       "25                                           0.106475    \n",
       "26                                           0.275253    \n",
       "27                                           0.490330    \n",
       "28                                           0.639004    \n",
       "29                                           0.387727    \n",
       "\n",
       "    Impact Score Rice_Production_223 (TotalNPK_315 +20%)  \\\n",
       "0                                            0.129382      \n",
       "1                                            0.106872      \n",
       "2                                            0.041376      \n",
       "3                                            0.199250      \n",
       "4                                            0.553539      \n",
       "5                                            0.123158      \n",
       "6                                            0.157426      \n",
       "7                                            0.314411      \n",
       "8                                            0.211830      \n",
       "9                                            0.376945      \n",
       "10                                           0.103144      \n",
       "11                                           0.034019      \n",
       "12                                           0.380101      \n",
       "13                                           0.227383      \n",
       "14                                           0.336354      \n",
       "15                                           0.344444      \n",
       "16                                           0.132121      \n",
       "17                                           1.000000      \n",
       "18                                           0.301181      \n",
       "19                                           0.471123      \n",
       "20                                           0.207569      \n",
       "21                                           0.129215      \n",
       "22                                           0.361042      \n",
       "23                                           0.084962      \n",
       "24                                           0.685147      \n",
       "25                                           0.136872      \n",
       "26                                           0.299908      \n",
       "27                                           0.507669      \n",
       "28                                           0.651285      \n",
       "29                                           0.408556      \n",
       "\n",
       "    Impact Score Rice_Production_223 (TotalNPK_315 -20%)  \\\n",
       "0                                            0.870618      \n",
       "1                                            0.893128      \n",
       "2                                            0.958624      \n",
       "3                                            0.800750      \n",
       "4                                            0.446461      \n",
       "5                                            0.876842      \n",
       "6                                            0.842574      \n",
       "7                                            0.685589      \n",
       "8                                            0.788170      \n",
       "9                                            0.623055      \n",
       "10                                           0.896856      \n",
       "11                                           0.965981      \n",
       "12                                           0.619899      \n",
       "13                                           0.772617      \n",
       "14                                           0.663646      \n",
       "15                                           0.655556      \n",
       "16                                           0.867879      \n",
       "17                                           0.000000      \n",
       "18                                           0.698819      \n",
       "19                                           0.528877      \n",
       "20                                           0.792431      \n",
       "21                                           0.870785      \n",
       "22                                           0.638958      \n",
       "23                                           0.915038      \n",
       "24                                           0.314853      \n",
       "25                                           0.863128      \n",
       "26                                           0.700092      \n",
       "27                                           0.492331      \n",
       "28                                           0.348715      \n",
       "29                                           0.591444      \n",
       "\n",
       "    Jowar_Yield_278 (TotalNPK_315 +20%)  Jowar_Yield_278 (TotalNPK_315 -20%)  \\\n",
       "0                            639.044946                           547.537431   \n",
       "1                            591.336202                           515.731601   \n",
       "2                            452.520360                           423.187707   \n",
       "3                            787.129310                           646.260340   \n",
       "4                           1538.032682                          1146.862588   \n",
       "5                            625.854674                           538.743916   \n",
       "6                            698.483612                           587.163208   \n",
       "7                           1031.208237                           808.979624   \n",
       "8                            813.792503                           664.035802   \n",
       "9                           1163.746922                           897.338747   \n",
       "10                           583.433815                           510.463343   \n",
       "11                           436.927574                           412.792516   \n",
       "12                          1170.436274                           901.798316   \n",
       "13                           846.756408                           686.011738   \n",
       "14                          1077.715724                           839.984616   \n",
       "15                          1094.863079                           851.416186   \n",
       "16                           644.851022                           551.408148   \n",
       "17                          2484.293412                          1777.703074   \n",
       "18                          1003.167131                           790.285553   \n",
       "19                          1363.355787                          1030.411324   \n",
       "20                           804.759522                           658.013815   \n",
       "21                           638.691636                           547.301890   \n",
       "22                          1130.041064                           874.868176   \n",
       "23                           544.899376                           484.773717   \n",
       "24                          1816.971615                          1332.821876   \n",
       "25                           654.920382                           558.121054   \n",
       "26                          1000.470191                           788.487594   \n",
       "27                          1440.813307                          1082.049671   \n",
       "28                          1745.202400                          1284.975733   \n",
       "29                          1230.746440                           942.005093   \n",
       "\n",
       "    Normalized Jowar_Yield_278 (TotalNPK_315 +20%)  \\\n",
       "0                                         0.098721   \n",
       "1                                         0.075418   \n",
       "2                                         0.007616   \n",
       "3                                         0.171050   \n",
       "4                                         0.537816   \n",
       "5                                         0.092278   \n",
       "6                                         0.127752   \n",
       "7                                         0.290266   \n",
       "8                                         0.184073   \n",
       "9                                         0.355002   \n",
       "10                                        0.071558   \n",
       "11                                        0.000000   \n",
       "12                                        0.358269   \n",
       "13                                        0.200174   \n",
       "14                                        0.312982   \n",
       "15                                        0.321357   \n",
       "16                                        0.101557   \n",
       "17                                        1.000000   \n",
       "18                                        0.276570   \n",
       "19                                        0.452498   \n",
       "20                                        0.179661   \n",
       "21                                        0.098548   \n",
       "22                                        0.338539   \n",
       "23                                        0.052737   \n",
       "24                                        0.674058   \n",
       "25                                        0.106475   \n",
       "26                                        0.275253   \n",
       "27                                        0.490330   \n",
       "28                                        0.639004   \n",
       "29                                        0.387727   \n",
       "\n",
       "    Normalized Jowar_Yield_278 (TotalNPK_315 -20%)  \\\n",
       "0                                         0.098721   \n",
       "1                                         0.075418   \n",
       "2                                         0.007616   \n",
       "3                                         0.171050   \n",
       "4                                         0.537816   \n",
       "5                                         0.092278   \n",
       "6                                         0.127752   \n",
       "7                                         0.290266   \n",
       "8                                         0.184073   \n",
       "9                                         0.355002   \n",
       "10                                        0.071558   \n",
       "11                                        0.000000   \n",
       "12                                        0.358269   \n",
       "13                                        0.200174   \n",
       "14                                        0.312982   \n",
       "15                                        0.321357   \n",
       "16                                        0.101557   \n",
       "17                                        1.000000   \n",
       "18                                        0.276570   \n",
       "19                                        0.452498   \n",
       "20                                        0.179661   \n",
       "21                                        0.098548   \n",
       "22                                        0.338539   \n",
       "23                                        0.052737   \n",
       "24                                        0.674058   \n",
       "25                                        0.106475   \n",
       "26                                        0.275253   \n",
       "27                                        0.490330   \n",
       "28                                        0.639004   \n",
       "29                                        0.387727   \n",
       "\n",
       "    Impact Score Jowar_Yield_278 (TotalNPK_315 +20%)  \\\n",
       "0                                           0.000398   \n",
       "1                                           0.000304   \n",
       "2                                           0.000031   \n",
       "3                                           0.000689   \n",
       "4                                           0.002167   \n",
       "5                                           0.000372   \n",
       "6                                           0.000515   \n",
       "7                                           0.001169   \n",
       "8                                           0.000742   \n",
       "9                                           0.001430   \n",
       "10                                          0.000288   \n",
       "11                                          0.000000   \n",
       "12                                          0.001443   \n",
       "13                                          0.000806   \n",
       "14                                          0.001261   \n",
       "15                                          0.001295   \n",
       "16                                          0.000409   \n",
       "17                                          0.004028   \n",
       "18                                          0.001114   \n",
       "19                                          0.001823   \n",
       "20                                          0.000724   \n",
       "21                                          0.000397   \n",
       "22                                          0.001364   \n",
       "23                                          0.000212   \n",
       "24                                          0.002715   \n",
       "25                                          0.000429   \n",
       "26                                          0.001109   \n",
       "27                                          0.001975   \n",
       "28                                          0.002574   \n",
       "29                                          0.001562   \n",
       "\n",
       "    Impact Score Jowar_Yield_278 (TotalNPK_315 -20%)  \\\n",
       "0                                           0.999602   \n",
       "1                                           0.999696   \n",
       "2                                           0.999969   \n",
       "3                                           0.999311   \n",
       "4                                           0.997833   \n",
       "5                                           0.999628   \n",
       "6                                           0.999485   \n",
       "7                                           0.998831   \n",
       "8                                           0.999258   \n",
       "9                                           0.998570   \n",
       "10                                          0.999712   \n",
       "11                                          1.000000   \n",
       "12                                          0.998557   \n",
       "13                                          0.999194   \n",
       "14                                          0.998739   \n",
       "15                                          0.998705   \n",
       "16                                          0.999591   \n",
       "17                                          0.995972   \n",
       "18                                          0.998886   \n",
       "19                                          0.998177   \n",
       "20                                          0.999276   \n",
       "21                                          0.999603   \n",
       "22                                          0.998636   \n",
       "23                                          0.999788   \n",
       "24                                          0.997285   \n",
       "25                                          0.999571   \n",
       "26                                          0.998891   \n",
       "27                                          0.998025   \n",
       "28                                          0.997426   \n",
       "29                                          0.998438   \n",
       "\n",
       "    New Stability(NPK + 20%)_Rice_Jowar  New Stability(NPK - 20%)_Rice_Jowar  \n",
       "0                              0.959044                             0.959044  \n",
       "1                              0.976505                             0.976505  \n",
       "2                              0.822250                             0.822250  \n",
       "3                              0.668650                             0.668650  \n",
       "4                              0.790058                             0.790058  \n",
       "5                              1.000000                             1.000000  \n",
       "6                              0.997250                             0.997250  \n",
       "7                              0.967812                             0.967812  \n",
       "8                              0.988802                             0.988802  \n",
       "9                              0.850936                             0.850936  \n",
       "10                             0.809592                             0.809592  \n",
       "11                             0.763946                             0.763946  \n",
       "12                             0.860117                             0.860117  \n",
       "13                             0.946297                             0.946297  \n",
       "14                             0.858840                             0.858840  \n",
       "15                             0.910524                             0.910524  \n",
       "16                             0.866508                             0.866508  \n",
       "17                             0.000000                             0.000000  \n",
       "18                             0.632532                             0.632532  \n",
       "19                             0.974963                             0.974963  \n",
       "20                             0.763427                             0.763427  \n",
       "21                             0.488853                             0.488853  \n",
       "22                             0.968354                             0.968354  \n",
       "23                             0.614435                             0.614435  \n",
       "24                             0.610602                             0.610602  \n",
       "25                             0.794233                             0.794233  \n",
       "26                             0.990354                             0.990354  \n",
       "27                             0.890930                             0.890930  \n",
       "28                             0.776289                             0.776289  \n",
       "29                             0.910283                             0.910283  "
      ]
     },
     "execution_count": 41,
     "metadata": {},
     "output_type": "execute_result"
    }
   ],
   "source": [
    "new_data"
   ]
  },
  {
   "cell_type": "code",
   "execution_count": 35,
   "metadata": {},
   "outputs": [
    {
     "data": {
      "text/html": [
       "<div>\n",
       "<style scoped>\n",
       "    .dataframe tbody tr th:only-of-type {\n",
       "        vertical-align: middle;\n",
       "    }\n",
       "\n",
       "    .dataframe tbody tr th {\n",
       "        vertical-align: top;\n",
       "    }\n",
       "\n",
       "    .dataframe thead th {\n",
       "        text-align: right;\n",
       "    }\n",
       "</style>\n",
       "<table border=\"1\" class=\"dataframe\">\n",
       "  <thead>\n",
       "    <tr style=\"text-align: right;\">\n",
       "      <th></th>\n",
       "      <th>Rice_Production_223 (TotalNPK_315 +20%)</th>\n",
       "      <th>Normalized Rice_Production_223 (TotalNPK_315 +20%)</th>\n",
       "      <th>Jowar_Yield_278 (TotalNPK_315 +20%)</th>\n",
       "      <th>Normalized Jowar_Yield_278 (TotalNPK_315 +20%)</th>\n",
       "    </tr>\n",
       "  </thead>\n",
       "  <tbody>\n",
       "    <tr>\n",
       "      <th>0</th>\n",
       "      <td>73964.709483</td>\n",
       "      <td>0.098721</td>\n",
       "      <td>639.044946</td>\n",
       "      <td>0.098721</td>\n",
       "    </tr>\n",
       "    <tr>\n",
       "      <th>1</th>\n",
       "      <td>62524.538934</td>\n",
       "      <td>0.075418</td>\n",
       "      <td>591.336202</td>\n",
       "      <td>0.075418</td>\n",
       "    </tr>\n",
       "    <tr>\n",
       "      <th>2</th>\n",
       "      <td>29237.624526</td>\n",
       "      <td>0.007616</td>\n",
       "      <td>452.520360</td>\n",
       "      <td>0.007616</td>\n",
       "    </tr>\n",
       "    <tr>\n",
       "      <th>3</th>\n",
       "      <td>109474.140361</td>\n",
       "      <td>0.171050</td>\n",
       "      <td>787.129310</td>\n",
       "      <td>0.171050</td>\n",
       "    </tr>\n",
       "    <tr>\n",
       "      <th>4</th>\n",
       "      <td>289534.686947</td>\n",
       "      <td>0.537816</td>\n",
       "      <td>1538.032682</td>\n",
       "      <td>0.537816</td>\n",
       "    </tr>\n",
       "  </tbody>\n",
       "</table>\n",
       "</div>"
      ],
      "text/plain": [
       "   Rice_Production_223 (TotalNPK_315 +20%)  \\\n",
       "0                             73964.709483   \n",
       "1                             62524.538934   \n",
       "2                             29237.624526   \n",
       "3                            109474.140361   \n",
       "4                            289534.686947   \n",
       "\n",
       "   Normalized Rice_Production_223 (TotalNPK_315 +20%)  \\\n",
       "0                                           0.098721    \n",
       "1                                           0.075418    \n",
       "2                                           0.007616    \n",
       "3                                           0.171050    \n",
       "4                                           0.537816    \n",
       "\n",
       "   Jowar_Yield_278 (TotalNPK_315 +20%)  \\\n",
       "0                           639.044946   \n",
       "1                           591.336202   \n",
       "2                           452.520360   \n",
       "3                           787.129310   \n",
       "4                          1538.032682   \n",
       "\n",
       "   Normalized Jowar_Yield_278 (TotalNPK_315 +20%)  \n",
       "0                                        0.098721  \n",
       "1                                        0.075418  \n",
       "2                                        0.007616  \n",
       "3                                        0.171050  \n",
       "4                                        0.537816  "
      ]
     },
     "execution_count": 35,
     "metadata": {},
     "output_type": "execute_result"
    }
   ],
   "source": [
    "res_df.head()"
   ]
  },
  {
   "cell_type": "code",
   "execution_count": 37,
   "metadata": {},
   "outputs": [
    {
     "name": "stdout",
     "output_type": "stream",
     "text": [
      "25498.600629373545 516440.3456216234\n"
     ]
    }
   ],
   "source": [
    "print(res_df['Rice_Production_223 (TotalNPK_315 +20%)'].min(), res_df['Rice_Production_223 (TotalNPK_315 +20%)'].max())"
   ]
  },
  {
   "cell_type": "code",
   "execution_count": 38,
   "metadata": {},
   "outputs": [
    {
     "name": "stdout",
     "output_type": "stream",
     "text": [
      "436.9275738990035 2484.293411637132\n"
     ]
    }
   ],
   "source": [
    "print(res_df['Jowar_Yield_278 (TotalNPK_315 +20%)'].min(), res_df['Jowar_Yield_278 (TotalNPK_315 +20%)'].max())"
   ]
  },
  {
   "cell_type": "code",
   "execution_count": 39,
   "metadata": {},
   "outputs": [
    {
     "data": {
      "text/html": [
       "<div>\n",
       "<style scoped>\n",
       "    .dataframe tbody tr th:only-of-type {\n",
       "        vertical-align: middle;\n",
       "    }\n",
       "\n",
       "    .dataframe tbody tr th {\n",
       "        vertical-align: top;\n",
       "    }\n",
       "\n",
       "    .dataframe thead th {\n",
       "        text-align: right;\n",
       "    }\n",
       "</style>\n",
       "<table border=\"1\" class=\"dataframe\">\n",
       "  <thead>\n",
       "    <tr style=\"text-align: right;\">\n",
       "      <th></th>\n",
       "      <th>Rice_Production_223 (TotalNPK_315 +20%)</th>\n",
       "      <th>Normalized Rice_Production_223 (TotalNPK_315 +20%)</th>\n",
       "      <th>Jowar_Yield_278 (TotalNPK_315 +20%)</th>\n",
       "      <th>Normalized Jowar_Yield_278 (TotalNPK_315 +20%)</th>\n",
       "    </tr>\n",
       "  </thead>\n",
       "  <tbody>\n",
       "    <tr>\n",
       "      <th>0</th>\n",
       "      <td>73964.709483</td>\n",
       "      <td>0.098721</td>\n",
       "      <td>639.044946</td>\n",
       "      <td>0.098721</td>\n",
       "    </tr>\n",
       "    <tr>\n",
       "      <th>1</th>\n",
       "      <td>62524.538934</td>\n",
       "      <td>0.075418</td>\n",
       "      <td>591.336202</td>\n",
       "      <td>0.075418</td>\n",
       "    </tr>\n",
       "    <tr>\n",
       "      <th>2</th>\n",
       "      <td>29237.624526</td>\n",
       "      <td>0.007616</td>\n",
       "      <td>452.520360</td>\n",
       "      <td>0.007616</td>\n",
       "    </tr>\n",
       "    <tr>\n",
       "      <th>3</th>\n",
       "      <td>109474.140361</td>\n",
       "      <td>0.171050</td>\n",
       "      <td>787.129310</td>\n",
       "      <td>0.171050</td>\n",
       "    </tr>\n",
       "    <tr>\n",
       "      <th>4</th>\n",
       "      <td>289534.686947</td>\n",
       "      <td>0.537816</td>\n",
       "      <td>1538.032682</td>\n",
       "      <td>0.537816</td>\n",
       "    </tr>\n",
       "    <tr>\n",
       "      <th>5</th>\n",
       "      <td>70801.788966</td>\n",
       "      <td>0.092278</td>\n",
       "      <td>625.854674</td>\n",
       "      <td>0.092278</td>\n",
       "    </tr>\n",
       "    <tr>\n",
       "      <th>6</th>\n",
       "      <td>88217.620064</td>\n",
       "      <td>0.127752</td>\n",
       "      <td>698.483612</td>\n",
       "      <td>0.127752</td>\n",
       "    </tr>\n",
       "    <tr>\n",
       "      <th>7</th>\n",
       "      <td>168002.290110</td>\n",
       "      <td>0.290266</td>\n",
       "      <td>1031.208237</td>\n",
       "      <td>0.290266</td>\n",
       "    </tr>\n",
       "    <tr>\n",
       "      <th>8</th>\n",
       "      <td>115867.758264</td>\n",
       "      <td>0.184073</td>\n",
       "      <td>813.792503</td>\n",
       "      <td>0.184073</td>\n",
       "    </tr>\n",
       "    <tr>\n",
       "      <th>9</th>\n",
       "      <td>199783.993235</td>\n",
       "      <td>0.355002</td>\n",
       "      <td>1163.746922</td>\n",
       "      <td>0.355002</td>\n",
       "    </tr>\n",
       "    <tr>\n",
       "      <th>10</th>\n",
       "      <td>60629.610660</td>\n",
       "      <td>0.071558</td>\n",
       "      <td>583.433815</td>\n",
       "      <td>0.071558</td>\n",
       "    </tr>\n",
       "    <tr>\n",
       "      <th>11</th>\n",
       "      <td>25498.600629</td>\n",
       "      <td>0.000000</td>\n",
       "      <td>436.927574</td>\n",
       "      <td>0.000000</td>\n",
       "    </tr>\n",
       "    <tr>\n",
       "      <th>12</th>\n",
       "      <td>201388.045783</td>\n",
       "      <td>0.358269</td>\n",
       "      <td>1170.436274</td>\n",
       "      <td>0.358269</td>\n",
       "    </tr>\n",
       "    <tr>\n",
       "      <th>13</th>\n",
       "      <td>123772.235520</td>\n",
       "      <td>0.200174</td>\n",
       "      <td>846.756408</td>\n",
       "      <td>0.200174</td>\n",
       "    </tr>\n",
       "    <tr>\n",
       "      <th>14</th>\n",
       "      <td>179154.408969</td>\n",
       "      <td>0.312982</td>\n",
       "      <td>1077.715724</td>\n",
       "      <td>0.312982</td>\n",
       "    </tr>\n",
       "    <tr>\n",
       "      <th>15</th>\n",
       "      <td>183266.205642</td>\n",
       "      <td>0.321357</td>\n",
       "      <td>1094.863079</td>\n",
       "      <td>0.321357</td>\n",
       "    </tr>\n",
       "    <tr>\n",
       "      <th>16</th>\n",
       "      <td>75356.959318</td>\n",
       "      <td>0.101557</td>\n",
       "      <td>644.851022</td>\n",
       "      <td>0.101557</td>\n",
       "    </tr>\n",
       "    <tr>\n",
       "      <th>17</th>\n",
       "      <td>516440.345622</td>\n",
       "      <td>1.000000</td>\n",
       "      <td>2484.293412</td>\n",
       "      <td>1.000000</td>\n",
       "    </tr>\n",
       "    <tr>\n",
       "      <th>18</th>\n",
       "      <td>161278.259975</td>\n",
       "      <td>0.276570</td>\n",
       "      <td>1003.167131</td>\n",
       "      <td>0.276570</td>\n",
       "    </tr>\n",
       "    <tr>\n",
       "      <th>19</th>\n",
       "      <td>247648.582384</td>\n",
       "      <td>0.452498</td>\n",
       "      <td>1363.355787</td>\n",
       "      <td>0.452498</td>\n",
       "    </tr>\n",
       "    <tr>\n",
       "      <th>20</th>\n",
       "      <td>113701.722516</td>\n",
       "      <td>0.179661</td>\n",
       "      <td>804.759522</td>\n",
       "      <td>0.179661</td>\n",
       "    </tr>\n",
       "    <tr>\n",
       "      <th>21</th>\n",
       "      <td>73879.988398</td>\n",
       "      <td>0.098548</td>\n",
       "      <td>638.691636</td>\n",
       "      <td>0.098548</td>\n",
       "    </tr>\n",
       "    <tr>\n",
       "      <th>22</th>\n",
       "      <td>191701.601699</td>\n",
       "      <td>0.338539</td>\n",
       "      <td>1130.041064</td>\n",
       "      <td>0.338539</td>\n",
       "    </tr>\n",
       "    <tr>\n",
       "      <th>23</th>\n",
       "      <td>51389.364292</td>\n",
       "      <td>0.052737</td>\n",
       "      <td>544.899376</td>\n",
       "      <td>0.052737</td>\n",
       "    </tr>\n",
       "    <tr>\n",
       "      <th>24</th>\n",
       "      <td>356421.983777</td>\n",
       "      <td>0.674058</td>\n",
       "      <td>1816.971615</td>\n",
       "      <td>0.674058</td>\n",
       "    </tr>\n",
       "    <tr>\n",
       "      <th>25</th>\n",
       "      <td>77771.510248</td>\n",
       "      <td>0.106475</td>\n",
       "      <td>654.920382</td>\n",
       "      <td>0.106475</td>\n",
       "    </tr>\n",
       "    <tr>\n",
       "      <th>26</th>\n",
       "      <td>160631.555690</td>\n",
       "      <td>0.275253</td>\n",
       "      <td>1000.470191</td>\n",
       "      <td>0.275253</td>\n",
       "    </tr>\n",
       "    <tr>\n",
       "      <th>27</th>\n",
       "      <td>266222.268314</td>\n",
       "      <td>0.490330</td>\n",
       "      <td>1440.813307</td>\n",
       "      <td>0.490330</td>\n",
       "    </tr>\n",
       "    <tr>\n",
       "      <th>28</th>\n",
       "      <td>339212.307320</td>\n",
       "      <td>0.639004</td>\n",
       "      <td>1745.202400</td>\n",
       "      <td>0.639004</td>\n",
       "    </tr>\n",
       "    <tr>\n",
       "      <th>29</th>\n",
       "      <td>215849.935041</td>\n",
       "      <td>0.387727</td>\n",
       "      <td>1230.746440</td>\n",
       "      <td>0.387727</td>\n",
       "    </tr>\n",
       "  </tbody>\n",
       "</table>\n",
       "</div>"
      ],
      "text/plain": [
       "    Rice_Production_223 (TotalNPK_315 +20%)  \\\n",
       "0                              73964.709483   \n",
       "1                              62524.538934   \n",
       "2                              29237.624526   \n",
       "3                             109474.140361   \n",
       "4                             289534.686947   \n",
       "5                              70801.788966   \n",
       "6                              88217.620064   \n",
       "7                             168002.290110   \n",
       "8                             115867.758264   \n",
       "9                             199783.993235   \n",
       "10                             60629.610660   \n",
       "11                             25498.600629   \n",
       "12                            201388.045783   \n",
       "13                            123772.235520   \n",
       "14                            179154.408969   \n",
       "15                            183266.205642   \n",
       "16                             75356.959318   \n",
       "17                            516440.345622   \n",
       "18                            161278.259975   \n",
       "19                            247648.582384   \n",
       "20                            113701.722516   \n",
       "21                             73879.988398   \n",
       "22                            191701.601699   \n",
       "23                             51389.364292   \n",
       "24                            356421.983777   \n",
       "25                             77771.510248   \n",
       "26                            160631.555690   \n",
       "27                            266222.268314   \n",
       "28                            339212.307320   \n",
       "29                            215849.935041   \n",
       "\n",
       "    Normalized Rice_Production_223 (TotalNPK_315 +20%)  \\\n",
       "0                                            0.098721    \n",
       "1                                            0.075418    \n",
       "2                                            0.007616    \n",
       "3                                            0.171050    \n",
       "4                                            0.537816    \n",
       "5                                            0.092278    \n",
       "6                                            0.127752    \n",
       "7                                            0.290266    \n",
       "8                                            0.184073    \n",
       "9                                            0.355002    \n",
       "10                                           0.071558    \n",
       "11                                           0.000000    \n",
       "12                                           0.358269    \n",
       "13                                           0.200174    \n",
       "14                                           0.312982    \n",
       "15                                           0.321357    \n",
       "16                                           0.101557    \n",
       "17                                           1.000000    \n",
       "18                                           0.276570    \n",
       "19                                           0.452498    \n",
       "20                                           0.179661    \n",
       "21                                           0.098548    \n",
       "22                                           0.338539    \n",
       "23                                           0.052737    \n",
       "24                                           0.674058    \n",
       "25                                           0.106475    \n",
       "26                                           0.275253    \n",
       "27                                           0.490330    \n",
       "28                                           0.639004    \n",
       "29                                           0.387727    \n",
       "\n",
       "    Jowar_Yield_278 (TotalNPK_315 +20%)  \\\n",
       "0                            639.044946   \n",
       "1                            591.336202   \n",
       "2                            452.520360   \n",
       "3                            787.129310   \n",
       "4                           1538.032682   \n",
       "5                            625.854674   \n",
       "6                            698.483612   \n",
       "7                           1031.208237   \n",
       "8                            813.792503   \n",
       "9                           1163.746922   \n",
       "10                           583.433815   \n",
       "11                           436.927574   \n",
       "12                          1170.436274   \n",
       "13                           846.756408   \n",
       "14                          1077.715724   \n",
       "15                          1094.863079   \n",
       "16                           644.851022   \n",
       "17                          2484.293412   \n",
       "18                          1003.167131   \n",
       "19                          1363.355787   \n",
       "20                           804.759522   \n",
       "21                           638.691636   \n",
       "22                          1130.041064   \n",
       "23                           544.899376   \n",
       "24                          1816.971615   \n",
       "25                           654.920382   \n",
       "26                          1000.470191   \n",
       "27                          1440.813307   \n",
       "28                          1745.202400   \n",
       "29                          1230.746440   \n",
       "\n",
       "    Normalized Jowar_Yield_278 (TotalNPK_315 +20%)  \n",
       "0                                         0.098721  \n",
       "1                                         0.075418  \n",
       "2                                         0.007616  \n",
       "3                                         0.171050  \n",
       "4                                         0.537816  \n",
       "5                                         0.092278  \n",
       "6                                         0.127752  \n",
       "7                                         0.290266  \n",
       "8                                         0.184073  \n",
       "9                                         0.355002  \n",
       "10                                        0.071558  \n",
       "11                                        0.000000  \n",
       "12                                        0.358269  \n",
       "13                                        0.200174  \n",
       "14                                        0.312982  \n",
       "15                                        0.321357  \n",
       "16                                        0.101557  \n",
       "17                                        1.000000  \n",
       "18                                        0.276570  \n",
       "19                                        0.452498  \n",
       "20                                        0.179661  \n",
       "21                                        0.098548  \n",
       "22                                        0.338539  \n",
       "23                                        0.052737  \n",
       "24                                        0.674058  \n",
       "25                                        0.106475  \n",
       "26                                        0.275253  \n",
       "27                                        0.490330  \n",
       "28                                        0.639004  \n",
       "29                                        0.387727  "
      ]
     },
     "execution_count": 39,
     "metadata": {},
     "output_type": "execute_result"
    }
   ],
   "source": [
    "res_df"
   ]
  },
  {
   "cell_type": "code",
   "execution_count": null,
   "metadata": {},
   "outputs": [],
   "source": []
  },
  {
   "cell_type": "code",
   "execution_count": 26,
   "metadata": {},
   "outputs": [
    {
     "data": {
      "text/html": [
       "<div>\n",
       "<style scoped>\n",
       "    .dataframe tbody tr th:only-of-type {\n",
       "        vertical-align: middle;\n",
       "    }\n",
       "\n",
       "    .dataframe tbody tr th {\n",
       "        vertical-align: top;\n",
       "    }\n",
       "\n",
       "    .dataframe thead th {\n",
       "        text-align: right;\n",
       "    }\n",
       "</style>\n",
       "<table border=\"1\" class=\"dataframe\">\n",
       "  <thead>\n",
       "    <tr style=\"text-align: right;\">\n",
       "      <th></th>\n",
       "      <th>District</th>\n",
       "      <th>Rice_Production_223 (TotalNPK_315 +20%)</th>\n",
       "      <th>Rice_Production_223 (TotalNPK_315 -20%)</th>\n",
       "      <th>Normalized Rice_Production_223 (TotalNPK_315 +20%)</th>\n",
       "      <th>Normalized Rice_Production_223 (TotalNPK_315 -20%)</th>\n",
       "      <th>Impact Score Rice_Production_223 (TotalNPK_315 +20%)</th>\n",
       "      <th>Impact Score Rice_Production_223 (TotalNPK_315 -20%)</th>\n",
       "      <th>Jowar_Yield_278 (TotalNPK_315 +20%)</th>\n",
       "      <th>Jowar_Yield_278 (TotalNPK_315 -20%)</th>\n",
       "      <th>Normalized Jowar_Yield_278 (TotalNPK_315 +20%)</th>\n",
       "      <th>Normalized Jowar_Yield_278 (TotalNPK_315 -20%)</th>\n",
       "      <th>Impact Score Jowar_Yield_278 (TotalNPK_315 +20%)</th>\n",
       "      <th>Impact Score Jowar_Yield_278 (TotalNPK_315 -20%)</th>\n",
       "      <th>New Stability(NPK + 20%)_Rice_Jowar</th>\n",
       "      <th>New Stability(NPK - 20%)_Rice_Jowar</th>\n",
       "    </tr>\n",
       "  </thead>\n",
       "  <tbody>\n",
       "    <tr>\n",
       "      <th>0</th>\n",
       "      <td>BENGALURU</td>\n",
       "      <td>73964.709483</td>\n",
       "      <td>52021.948395</td>\n",
       "      <td>0.098721</td>\n",
       "      <td>0.098721</td>\n",
       "      <td>0.129382</td>\n",
       "      <td>0.870618</td>\n",
       "      <td>639.044946</td>\n",
       "      <td>547.537431</td>\n",
       "      <td>0.098721</td>\n",
       "      <td>0.098721</td>\n",
       "      <td>0.000398</td>\n",
       "      <td>0.999602</td>\n",
       "      <td>0.959044</td>\n",
       "      <td>0.959044</td>\n",
       "    </tr>\n",
       "    <tr>\n",
       "      <th>1</th>\n",
       "      <td>BENGALURU(R)</td>\n",
       "      <td>62524.538934</td>\n",
       "      <td>44395.168029</td>\n",
       "      <td>0.075418</td>\n",
       "      <td>0.075418</td>\n",
       "      <td>0.106872</td>\n",
       "      <td>0.893128</td>\n",
       "      <td>591.336202</td>\n",
       "      <td>515.731601</td>\n",
       "      <td>0.075418</td>\n",
       "      <td>0.075418</td>\n",
       "      <td>0.000304</td>\n",
       "      <td>0.999696</td>\n",
       "      <td>0.976505</td>\n",
       "      <td>0.976505</td>\n",
       "    </tr>\n",
       "    <tr>\n",
       "      <th>2</th>\n",
       "      <td>RAMANAGARA</td>\n",
       "      <td>29237.624526</td>\n",
       "      <td>22203.891757</td>\n",
       "      <td>0.007616</td>\n",
       "      <td>0.007616</td>\n",
       "      <td>0.041376</td>\n",
       "      <td>0.958624</td>\n",
       "      <td>452.520360</td>\n",
       "      <td>423.187707</td>\n",
       "      <td>0.007616</td>\n",
       "      <td>0.007616</td>\n",
       "      <td>0.000031</td>\n",
       "      <td>0.999969</td>\n",
       "      <td>0.822250</td>\n",
       "      <td>0.822250</td>\n",
       "    </tr>\n",
       "    <tr>\n",
       "      <th>3</th>\n",
       "      <td>CHITRADURGA</td>\n",
       "      <td>109474.140361</td>\n",
       "      <td>75694.902314</td>\n",
       "      <td>0.171050</td>\n",
       "      <td>0.171050</td>\n",
       "      <td>0.199250</td>\n",
       "      <td>0.800750</td>\n",
       "      <td>787.129310</td>\n",
       "      <td>646.260340</td>\n",
       "      <td>0.171050</td>\n",
       "      <td>0.171050</td>\n",
       "      <td>0.000689</td>\n",
       "      <td>0.999311</td>\n",
       "      <td>0.668650</td>\n",
       "      <td>0.668650</td>\n",
       "    </tr>\n",
       "    <tr>\n",
       "      <th>4</th>\n",
       "      <td>DAVANAGERE</td>\n",
       "      <td>289534.686947</td>\n",
       "      <td>195735.266704</td>\n",
       "      <td>0.537816</td>\n",
       "      <td>0.537816</td>\n",
       "      <td>0.553539</td>\n",
       "      <td>0.446461</td>\n",
       "      <td>1538.032682</td>\n",
       "      <td>1146.862588</td>\n",
       "      <td>0.537816</td>\n",
       "      <td>0.537816</td>\n",
       "      <td>0.002167</td>\n",
       "      <td>0.997833</td>\n",
       "      <td>0.790058</td>\n",
       "      <td>0.790058</td>\n",
       "    </tr>\n",
       "  </tbody>\n",
       "</table>\n",
       "</div>"
      ],
      "text/plain": [
       "       District  Rice_Production_223 (TotalNPK_315 +20%)  \\\n",
       "0     BENGALURU                             73964.709483   \n",
       "1  BENGALURU(R)                             62524.538934   \n",
       "2    RAMANAGARA                             29237.624526   \n",
       "3   CHITRADURGA                            109474.140361   \n",
       "4    DAVANAGERE                            289534.686947   \n",
       "\n",
       "   Rice_Production_223 (TotalNPK_315 -20%)  \\\n",
       "0                             52021.948395   \n",
       "1                             44395.168029   \n",
       "2                             22203.891757   \n",
       "3                             75694.902314   \n",
       "4                            195735.266704   \n",
       "\n",
       "   Normalized Rice_Production_223 (TotalNPK_315 +20%)  \\\n",
       "0                                           0.098721    \n",
       "1                                           0.075418    \n",
       "2                                           0.007616    \n",
       "3                                           0.171050    \n",
       "4                                           0.537816    \n",
       "\n",
       "   Normalized Rice_Production_223 (TotalNPK_315 -20%)  \\\n",
       "0                                           0.098721    \n",
       "1                                           0.075418    \n",
       "2                                           0.007616    \n",
       "3                                           0.171050    \n",
       "4                                           0.537816    \n",
       "\n",
       "   Impact Score Rice_Production_223 (TotalNPK_315 +20%)  \\\n",
       "0                                           0.129382      \n",
       "1                                           0.106872      \n",
       "2                                           0.041376      \n",
       "3                                           0.199250      \n",
       "4                                           0.553539      \n",
       "\n",
       "   Impact Score Rice_Production_223 (TotalNPK_315 -20%)  \\\n",
       "0                                           0.870618      \n",
       "1                                           0.893128      \n",
       "2                                           0.958624      \n",
       "3                                           0.800750      \n",
       "4                                           0.446461      \n",
       "\n",
       "   Jowar_Yield_278 (TotalNPK_315 +20%)  Jowar_Yield_278 (TotalNPK_315 -20%)  \\\n",
       "0                           639.044946                           547.537431   \n",
       "1                           591.336202                           515.731601   \n",
       "2                           452.520360                           423.187707   \n",
       "3                           787.129310                           646.260340   \n",
       "4                          1538.032682                          1146.862588   \n",
       "\n",
       "   Normalized Jowar_Yield_278 (TotalNPK_315 +20%)  \\\n",
       "0                                        0.098721   \n",
       "1                                        0.075418   \n",
       "2                                        0.007616   \n",
       "3                                        0.171050   \n",
       "4                                        0.537816   \n",
       "\n",
       "   Normalized Jowar_Yield_278 (TotalNPK_315 -20%)  \\\n",
       "0                                        0.098721   \n",
       "1                                        0.075418   \n",
       "2                                        0.007616   \n",
       "3                                        0.171050   \n",
       "4                                        0.537816   \n",
       "\n",
       "   Impact Score Jowar_Yield_278 (TotalNPK_315 +20%)  \\\n",
       "0                                          0.000398   \n",
       "1                                          0.000304   \n",
       "2                                          0.000031   \n",
       "3                                          0.000689   \n",
       "4                                          0.002167   \n",
       "\n",
       "   Impact Score Jowar_Yield_278 (TotalNPK_315 -20%)  \\\n",
       "0                                          0.999602   \n",
       "1                                          0.999696   \n",
       "2                                          0.999969   \n",
       "3                                          0.999311   \n",
       "4                                          0.997833   \n",
       "\n",
       "   New Stability(NPK + 20%)_Rice_Jowar  New Stability(NPK - 20%)_Rice_Jowar  \n",
       "0                             0.959044                             0.959044  \n",
       "1                             0.976505                             0.976505  \n",
       "2                             0.822250                             0.822250  \n",
       "3                             0.668650                             0.668650  \n",
       "4                             0.790058                             0.790058  "
      ]
     },
     "execution_count": 26,
     "metadata": {},
     "output_type": "execute_result"
    }
   ],
   "source": [
    "new_data.head()"
   ]
  },
  {
   "cell_type": "code",
   "execution_count": 45,
   "metadata": {},
   "outputs": [
    {
     "name": "stdout",
     "output_type": "stream",
     "text": [
      "2.564730341506419 562.38192631683\n",
      "2.353363480056113 8136.426218911565\n"
     ]
    },
    {
     "data": {
      "application/vnd.plotly.v1+json": {
       "config": {
        "plotlyServerURL": "https://plot.ly"
       },
       "data": [
        {
         "hovertemplate": "%{text}<br>Impact: %{y:.2f}<br>Stability: %{x:.2f}",
         "marker": {
          "color": "red",
          "size": 7,
          "symbol": "star"
         },
         "mode": "markers",
         "name": "Maize_Production_226 +20%",
         "text": [
          "BENGALURU",
          "BENGALURU(R)",
          "RAMANAGARA",
          "CHITRADURGA",
          "DAVANAGERE",
          "KOLAR",
          "CHIKKABALLAPURA",
          "SHIVAMOGGA",
          "TUMAKURU",
          "CHIKKAMAGALURU",
          "DAKSHINA KANNADA",
          "UDUPI",
          "HASSAN",
          "KODAGU",
          "MANDYA",
          "MYSURU",
          "CHAMARAJANAGAR",
          "BELAGAVI",
          "VIJAYAPURA",
          "BAGALKOT",
          "DHARAWAD",
          "GADAG",
          "HAVERI",
          "UTTARA KANNADA",
          "BALLARI",
          "BIDAR",
          "KALABURAGI",
          "YADGIRI",
          "RAICHUR",
          "KOPPAL"
         ],
         "type": "scatter",
         "x": [
          0.9590442729122612,
          0.9765052391752487,
          0.8222502261381797,
          0.66865038668522,
          0.7900581835459942,
          1,
          0.9972504351838052,
          0.9678123842563557,
          0.9888021812136774,
          0.8509364154879832,
          0.8095920216384357,
          0.7639456796171661,
          0.8601165048161653,
          0.9462974084736766,
          0.8588396049480362,
          0.910524168379611,
          0.8665083822377129,
          0,
          0.6325317294369197,
          0.9749632202667028,
          0.7634273694337913,
          0.4888527035009979,
          0.9683541813306024,
          0.6144347726001684,
          0.6106021055075407,
          0.7942327017204209,
          0.9903543889006117,
          0.890929830023772,
          0.7762892089664342,
          0.9102825362300663
         ],
         "y": [
          0.10133986892188875,
          0.0781050864261496,
          0.010499956513219555,
          0.17345889017625202,
          0.5391586512052173,
          0.09491603372188191,
          0.1302872762919199,
          0.2923285192120948,
          0.18644421418769472,
          0.35687659183787807,
          0.07425652087328828,
          0.0029060656160685076,
          0.36013439397502456,
          0.2024980666205691,
          0.31497827385926125,
          0.32332925961927067,
          0.10416750352332033,
          1,
          0.27867213384493705,
          0.4540887193422684,
          0.1820450341891186,
          0.10116780190760294,
          0.3404613986750032,
          0.055489745181839474,
          0.6750055589839348,
          0.10907141343046853,
          0.2773586889692211,
          0.491811544440881,
          0.6400530128153258,
          0.3895062333136274
         ]
        },
        {
         "hovertemplate": "%{text}<br>Impact: %{y:.2f}<br>Stability: %{x:.2f}",
         "marker": {
          "color": "blue",
          "size": 7,
          "symbol": "circle"
         },
         "mode": "markers",
         "name": "Rice_Production_223 +20%",
         "text": [
          "BENGALURU",
          "BENGALURU(R)",
          "RAMANAGARA",
          "CHITRADURGA",
          "DAVANAGERE",
          "KOLAR",
          "CHIKKABALLAPURA",
          "SHIVAMOGGA",
          "TUMAKURU",
          "CHIKKAMAGALURU",
          "DAKSHINA KANNADA",
          "UDUPI",
          "HASSAN",
          "KODAGU",
          "MANDYA",
          "MYSURU",
          "CHAMARAJANAGAR",
          "BELAGAVI",
          "VIJAYAPURA",
          "BAGALKOT",
          "DHARAWAD",
          "GADAG",
          "HAVERI",
          "UTTARA KANNADA",
          "BALLARI",
          "BIDAR",
          "KALABURAGI",
          "YADGIRI",
          "RAICHUR",
          "KOPPAL"
         ],
         "type": "scatter",
         "x": [
          0.9590442729122612,
          0.9765052391752487,
          0.8222502261381797,
          0.66865038668522,
          0.7900581835459942,
          1,
          0.9972504351838052,
          0.9678123842563557,
          0.9888021812136774,
          0.8509364154879832,
          0.8095920216384357,
          0.7639456796171661,
          0.8601165048161653,
          0.9462974084736766,
          0.8588396049480362,
          0.910524168379611,
          0.8665083822377129,
          0,
          0.6325317294369197,
          0.9749632202667028,
          0.7634273694337913,
          0.4888527035009979,
          0.9683541813306024,
          0.6144347726001684,
          0.6106021055075407,
          0.7942327017204209,
          0.9903543889006117,
          0.890929830023772,
          0.7762892089664342,
          0.9102825362300663
         ],
         "y": [
          0.09032158825979428,
          0.06900165153677677,
          0.00696805633702175,
          0.1564970719317818,
          0.49205845565421924,
          0.08442715993844653,
          0.11688335588286747,
          0.2655703102888634,
          0.16841223775279202,
          0.3247987891535484,
          0.06547025742639782,
          0,
          0.3277881063736604,
          0.18314304567373146,
          0.2863534330040436,
          0.29401618982179617,
          0.09291618929767313,
          0.9149205331217609,
          0.2530393872235698,
          0.4139993834558004,
          0.16437560692915462,
          0.09016370178690095,
          0.30973641963953313,
          0.04825010611617479,
          0.6167098260034343,
          0.0974159537751306,
          0.2518341871471513,
          0.4486133611964289,
          0.5846378204763869,
          0.35473932729653695
         ]
        }
       ],
       "layout": {
        "hovermode": "closest",
        "shapes": [
         {
          "line": {
           "color": "black",
           "dash": "dash"
          },
          "name": "Average Stability",
          "type": "line",
          "x0": 0.8150796080875854,
          "x1": 0.8150796080875854,
          "y0": 0,
          "y1": 1
         },
         {
          "line": {
           "color": "black",
           "dash": "dash"
          },
          "name": "Average Impact",
          "type": "line",
          "x0": 0,
          "x1": 1,
          "y0": 0.27801388192250764,
          "y1": 0.27801388192250764
         }
        ],
        "template": {
         "data": {
          "bar": [
           {
            "error_x": {
             "color": "#2a3f5f"
            },
            "error_y": {
             "color": "#2a3f5f"
            },
            "marker": {
             "line": {
              "color": "#E5ECF6",
              "width": 0.5
             },
             "pattern": {
              "fillmode": "overlay",
              "size": 10,
              "solidity": 0.2
             }
            },
            "type": "bar"
           }
          ],
          "barpolar": [
           {
            "marker": {
             "line": {
              "color": "#E5ECF6",
              "width": 0.5
             },
             "pattern": {
              "fillmode": "overlay",
              "size": 10,
              "solidity": 0.2
             }
            },
            "type": "barpolar"
           }
          ],
          "carpet": [
           {
            "aaxis": {
             "endlinecolor": "#2a3f5f",
             "gridcolor": "white",
             "linecolor": "white",
             "minorgridcolor": "white",
             "startlinecolor": "#2a3f5f"
            },
            "baxis": {
             "endlinecolor": "#2a3f5f",
             "gridcolor": "white",
             "linecolor": "white",
             "minorgridcolor": "white",
             "startlinecolor": "#2a3f5f"
            },
            "type": "carpet"
           }
          ],
          "choropleth": [
           {
            "colorbar": {
             "outlinewidth": 0,
             "ticks": ""
            },
            "type": "choropleth"
           }
          ],
          "contour": [
           {
            "colorbar": {
             "outlinewidth": 0,
             "ticks": ""
            },
            "colorscale": [
             [
              0,
              "#0d0887"
             ],
             [
              0.1111111111111111,
              "#46039f"
             ],
             [
              0.2222222222222222,
              "#7201a8"
             ],
             [
              0.3333333333333333,
              "#9c179e"
             ],
             [
              0.4444444444444444,
              "#bd3786"
             ],
             [
              0.5555555555555556,
              "#d8576b"
             ],
             [
              0.6666666666666666,
              "#ed7953"
             ],
             [
              0.7777777777777778,
              "#fb9f3a"
             ],
             [
              0.8888888888888888,
              "#fdca26"
             ],
             [
              1,
              "#f0f921"
             ]
            ],
            "type": "contour"
           }
          ],
          "contourcarpet": [
           {
            "colorbar": {
             "outlinewidth": 0,
             "ticks": ""
            },
            "type": "contourcarpet"
           }
          ],
          "heatmap": [
           {
            "colorbar": {
             "outlinewidth": 0,
             "ticks": ""
            },
            "colorscale": [
             [
              0,
              "#0d0887"
             ],
             [
              0.1111111111111111,
              "#46039f"
             ],
             [
              0.2222222222222222,
              "#7201a8"
             ],
             [
              0.3333333333333333,
              "#9c179e"
             ],
             [
              0.4444444444444444,
              "#bd3786"
             ],
             [
              0.5555555555555556,
              "#d8576b"
             ],
             [
              0.6666666666666666,
              "#ed7953"
             ],
             [
              0.7777777777777778,
              "#fb9f3a"
             ],
             [
              0.8888888888888888,
              "#fdca26"
             ],
             [
              1,
              "#f0f921"
             ]
            ],
            "type": "heatmap"
           }
          ],
          "heatmapgl": [
           {
            "colorbar": {
             "outlinewidth": 0,
             "ticks": ""
            },
            "colorscale": [
             [
              0,
              "#0d0887"
             ],
             [
              0.1111111111111111,
              "#46039f"
             ],
             [
              0.2222222222222222,
              "#7201a8"
             ],
             [
              0.3333333333333333,
              "#9c179e"
             ],
             [
              0.4444444444444444,
              "#bd3786"
             ],
             [
              0.5555555555555556,
              "#d8576b"
             ],
             [
              0.6666666666666666,
              "#ed7953"
             ],
             [
              0.7777777777777778,
              "#fb9f3a"
             ],
             [
              0.8888888888888888,
              "#fdca26"
             ],
             [
              1,
              "#f0f921"
             ]
            ],
            "type": "heatmapgl"
           }
          ],
          "histogram": [
           {
            "marker": {
             "pattern": {
              "fillmode": "overlay",
              "size": 10,
              "solidity": 0.2
             }
            },
            "type": "histogram"
           }
          ],
          "histogram2d": [
           {
            "colorbar": {
             "outlinewidth": 0,
             "ticks": ""
            },
            "colorscale": [
             [
              0,
              "#0d0887"
             ],
             [
              0.1111111111111111,
              "#46039f"
             ],
             [
              0.2222222222222222,
              "#7201a8"
             ],
             [
              0.3333333333333333,
              "#9c179e"
             ],
             [
              0.4444444444444444,
              "#bd3786"
             ],
             [
              0.5555555555555556,
              "#d8576b"
             ],
             [
              0.6666666666666666,
              "#ed7953"
             ],
             [
              0.7777777777777778,
              "#fb9f3a"
             ],
             [
              0.8888888888888888,
              "#fdca26"
             ],
             [
              1,
              "#f0f921"
             ]
            ],
            "type": "histogram2d"
           }
          ],
          "histogram2dcontour": [
           {
            "colorbar": {
             "outlinewidth": 0,
             "ticks": ""
            },
            "colorscale": [
             [
              0,
              "#0d0887"
             ],
             [
              0.1111111111111111,
              "#46039f"
             ],
             [
              0.2222222222222222,
              "#7201a8"
             ],
             [
              0.3333333333333333,
              "#9c179e"
             ],
             [
              0.4444444444444444,
              "#bd3786"
             ],
             [
              0.5555555555555556,
              "#d8576b"
             ],
             [
              0.6666666666666666,
              "#ed7953"
             ],
             [
              0.7777777777777778,
              "#fb9f3a"
             ],
             [
              0.8888888888888888,
              "#fdca26"
             ],
             [
              1,
              "#f0f921"
             ]
            ],
            "type": "histogram2dcontour"
           }
          ],
          "mesh3d": [
           {
            "colorbar": {
             "outlinewidth": 0,
             "ticks": ""
            },
            "type": "mesh3d"
           }
          ],
          "parcoords": [
           {
            "line": {
             "colorbar": {
              "outlinewidth": 0,
              "ticks": ""
             }
            },
            "type": "parcoords"
           }
          ],
          "pie": [
           {
            "automargin": true,
            "type": "pie"
           }
          ],
          "scatter": [
           {
            "fillpattern": {
             "fillmode": "overlay",
             "size": 10,
             "solidity": 0.2
            },
            "type": "scatter"
           }
          ],
          "scatter3d": [
           {
            "line": {
             "colorbar": {
              "outlinewidth": 0,
              "ticks": ""
             }
            },
            "marker": {
             "colorbar": {
              "outlinewidth": 0,
              "ticks": ""
             }
            },
            "type": "scatter3d"
           }
          ],
          "scattercarpet": [
           {
            "marker": {
             "colorbar": {
              "outlinewidth": 0,
              "ticks": ""
             }
            },
            "type": "scattercarpet"
           }
          ],
          "scattergeo": [
           {
            "marker": {
             "colorbar": {
              "outlinewidth": 0,
              "ticks": ""
             }
            },
            "type": "scattergeo"
           }
          ],
          "scattergl": [
           {
            "marker": {
             "colorbar": {
              "outlinewidth": 0,
              "ticks": ""
             }
            },
            "type": "scattergl"
           }
          ],
          "scattermapbox": [
           {
            "marker": {
             "colorbar": {
              "outlinewidth": 0,
              "ticks": ""
             }
            },
            "type": "scattermapbox"
           }
          ],
          "scatterpolar": [
           {
            "marker": {
             "colorbar": {
              "outlinewidth": 0,
              "ticks": ""
             }
            },
            "type": "scatterpolar"
           }
          ],
          "scatterpolargl": [
           {
            "marker": {
             "colorbar": {
              "outlinewidth": 0,
              "ticks": ""
             }
            },
            "type": "scatterpolargl"
           }
          ],
          "scatterternary": [
           {
            "marker": {
             "colorbar": {
              "outlinewidth": 0,
              "ticks": ""
             }
            },
            "type": "scatterternary"
           }
          ],
          "surface": [
           {
            "colorbar": {
             "outlinewidth": 0,
             "ticks": ""
            },
            "colorscale": [
             [
              0,
              "#0d0887"
             ],
             [
              0.1111111111111111,
              "#46039f"
             ],
             [
              0.2222222222222222,
              "#7201a8"
             ],
             [
              0.3333333333333333,
              "#9c179e"
             ],
             [
              0.4444444444444444,
              "#bd3786"
             ],
             [
              0.5555555555555556,
              "#d8576b"
             ],
             [
              0.6666666666666666,
              "#ed7953"
             ],
             [
              0.7777777777777778,
              "#fb9f3a"
             ],
             [
              0.8888888888888888,
              "#fdca26"
             ],
             [
              1,
              "#f0f921"
             ]
            ],
            "type": "surface"
           }
          ],
          "table": [
           {
            "cells": {
             "fill": {
              "color": "#EBF0F8"
             },
             "line": {
              "color": "white"
             }
            },
            "header": {
             "fill": {
              "color": "#C8D4E3"
             },
             "line": {
              "color": "white"
             }
            },
            "type": "table"
           }
          ]
         },
         "layout": {
          "annotationdefaults": {
           "arrowcolor": "#2a3f5f",
           "arrowhead": 0,
           "arrowwidth": 1
          },
          "autotypenumbers": "strict",
          "coloraxis": {
           "colorbar": {
            "outlinewidth": 0,
            "ticks": ""
           }
          },
          "colorscale": {
           "diverging": [
            [
             0,
             "#8e0152"
            ],
            [
             0.1,
             "#c51b7d"
            ],
            [
             0.2,
             "#de77ae"
            ],
            [
             0.3,
             "#f1b6da"
            ],
            [
             0.4,
             "#fde0ef"
            ],
            [
             0.5,
             "#f7f7f7"
            ],
            [
             0.6,
             "#e6f5d0"
            ],
            [
             0.7,
             "#b8e186"
            ],
            [
             0.8,
             "#7fbc41"
            ],
            [
             0.9,
             "#4d9221"
            ],
            [
             1,
             "#276419"
            ]
           ],
           "sequential": [
            [
             0,
             "#0d0887"
            ],
            [
             0.1111111111111111,
             "#46039f"
            ],
            [
             0.2222222222222222,
             "#7201a8"
            ],
            [
             0.3333333333333333,
             "#9c179e"
            ],
            [
             0.4444444444444444,
             "#bd3786"
            ],
            [
             0.5555555555555556,
             "#d8576b"
            ],
            [
             0.6666666666666666,
             "#ed7953"
            ],
            [
             0.7777777777777778,
             "#fb9f3a"
            ],
            [
             0.8888888888888888,
             "#fdca26"
            ],
            [
             1,
             "#f0f921"
            ]
           ],
           "sequentialminus": [
            [
             0,
             "#0d0887"
            ],
            [
             0.1111111111111111,
             "#46039f"
            ],
            [
             0.2222222222222222,
             "#7201a8"
            ],
            [
             0.3333333333333333,
             "#9c179e"
            ],
            [
             0.4444444444444444,
             "#bd3786"
            ],
            [
             0.5555555555555556,
             "#d8576b"
            ],
            [
             0.6666666666666666,
             "#ed7953"
            ],
            [
             0.7777777777777778,
             "#fb9f3a"
            ],
            [
             0.8888888888888888,
             "#fdca26"
            ],
            [
             1,
             "#f0f921"
            ]
           ]
          },
          "colorway": [
           "#636efa",
           "#EF553B",
           "#00cc96",
           "#ab63fa",
           "#FFA15A",
           "#19d3f3",
           "#FF6692",
           "#B6E880",
           "#FF97FF",
           "#FECB52"
          ],
          "font": {
           "color": "#2a3f5f"
          },
          "geo": {
           "bgcolor": "white",
           "lakecolor": "white",
           "landcolor": "#E5ECF6",
           "showlakes": true,
           "showland": true,
           "subunitcolor": "white"
          },
          "hoverlabel": {
           "align": "left"
          },
          "hovermode": "closest",
          "mapbox": {
           "style": "light"
          },
          "paper_bgcolor": "white",
          "plot_bgcolor": "#E5ECF6",
          "polar": {
           "angularaxis": {
            "gridcolor": "white",
            "linecolor": "white",
            "ticks": ""
           },
           "bgcolor": "#E5ECF6",
           "radialaxis": {
            "gridcolor": "white",
            "linecolor": "white",
            "ticks": ""
           }
          },
          "scene": {
           "xaxis": {
            "backgroundcolor": "#E5ECF6",
            "gridcolor": "white",
            "gridwidth": 2,
            "linecolor": "white",
            "showbackground": true,
            "ticks": "",
            "zerolinecolor": "white"
           },
           "yaxis": {
            "backgroundcolor": "#E5ECF6",
            "gridcolor": "white",
            "gridwidth": 2,
            "linecolor": "white",
            "showbackground": true,
            "ticks": "",
            "zerolinecolor": "white"
           },
           "zaxis": {
            "backgroundcolor": "#E5ECF6",
            "gridcolor": "white",
            "gridwidth": 2,
            "linecolor": "white",
            "showbackground": true,
            "ticks": "",
            "zerolinecolor": "white"
           }
          },
          "shapedefaults": {
           "line": {
            "color": "#2a3f5f"
           }
          },
          "ternary": {
           "aaxis": {
            "gridcolor": "white",
            "linecolor": "white",
            "ticks": ""
           },
           "baxis": {
            "gridcolor": "white",
            "linecolor": "white",
            "ticks": ""
           },
           "bgcolor": "#E5ECF6",
           "caxis": {
            "gridcolor": "white",
            "linecolor": "white",
            "ticks": ""
           }
          },
          "title": {
           "x": 0.05
          },
          "xaxis": {
           "automargin": true,
           "gridcolor": "white",
           "linecolor": "white",
           "ticks": "",
           "title": {
            "standoff": 15
           },
           "zerolinecolor": "white",
           "zerolinewidth": 2
          },
          "yaxis": {
           "automargin": true,
           "gridcolor": "white",
           "linecolor": "white",
           "ticks": "",
           "title": {
            "standoff": 15
           },
           "zerolinecolor": "white",
           "zerolinewidth": 2
          }
         }
        },
        "title": {
         "text": "Impact vs Stability (+20%)"
        },
        "xaxis": {
         "title": {
          "text": "Stability (TotalNPK_315 +20%)"
         }
        },
        "yaxis": {
         "title": {
          "text": "Normalized Impact"
         }
        }
       }
      }
     },
     "metadata": {},
     "output_type": "display_data"
    },
    {
     "data": {
      "application/vnd.plotly.v1+json": {
       "config": {
        "plotlyServerURL": "https://plot.ly"
       },
       "data": [
        {
         "hovertemplate": "%{text}<br>Impact: %{y:.2f}<br>Stability: %{x:.2f}",
         "marker": {
          "color": "red",
          "size": 7,
          "symbol": "star"
         },
         "mode": "markers",
         "name": "Maize_Production_226 -20%",
         "text": [
          "BENGALURU",
          "BENGALURU(R)",
          "RAMANAGARA",
          "CHITRADURGA",
          "DAVANAGERE",
          "KOLAR",
          "CHIKKABALLAPURA",
          "SHIVAMOGGA",
          "TUMAKURU",
          "CHIKKAMAGALURU",
          "DAKSHINA KANNADA",
          "UDUPI",
          "HASSAN",
          "KODAGU",
          "MANDYA",
          "MYSURU",
          "CHAMARAJANAGAR",
          "BELAGAVI",
          "VIJAYAPURA",
          "BAGALKOT",
          "DHARAWAD",
          "GADAG",
          "HAVERI",
          "UTTARA KANNADA",
          "BALLARI",
          "BIDAR",
          "KALABURAGI",
          "YADGIRI",
          "RAICHUR",
          "KOPPAL"
         ],
         "type": "scatter",
         "x": [
          0.9590442729122615,
          0.9765052391752488,
          0.8222502261381797,
          0.66865038668522,
          0.7900581835459941,
          1,
          0.9972504351838052,
          0.967812384256356,
          0.9888021812136775,
          0.8509364154879833,
          0.8095920216384358,
          0.7639456796171662,
          0.8601165048161654,
          0.9462974084736768,
          0.8588396049480362,
          0.9105241683796111,
          0.866508382237713,
          0,
          0.6325317294369196,
          0.9749632202667031,
          0.7634273694337913,
          0.4888527035009977,
          0.9683541813306027,
          0.6144347726001685,
          0.6106021055075405,
          0.7942327017204209,
          0.9903543889006121,
          0.8909298300237722,
          0.7762892089664343,
          0.9102825362300663
         ],
         "y": [
          0.8986601310781112,
          0.9218949135738504,
          0.9895000434867803,
          0.8265411098237476,
          0.4608413487947825,
          0.905083966278118,
          0.86971272370808,
          0.7076714807879056,
          0.8135557858123051,
          0.6431234081621215,
          0.9257434791267117,
          0.9970939343839315,
          0.639865606024975,
          0.7975019333794306,
          0.6850217261407379,
          0.676670740380729,
          0.8958324964766795,
          0,
          0.7213278661550628,
          0.5459112806577308,
          0.8179549658108813,
          0.8988321980923969,
          0.6595386013249961,
          0.9445102548181605,
          0.32499444101606434,
          0.8909285865695314,
          0.7226413110307788,
          0.5081884555591188,
          0.35994698718467294,
          0.6104937666863719
         ]
        },
        {
         "hovertemplate": "%{text}<br>Impact: %{y:.2f}<br>Stability: %{x:.2f}",
         "marker": {
          "color": "blue",
          "size": 7,
          "symbol": "circle"
         },
         "mode": "markers",
         "name": "Rice_Production_223 -20%",
         "text": [
          "BENGALURU",
          "BENGALURU(R)",
          "RAMANAGARA",
          "CHITRADURGA",
          "DAVANAGERE",
          "KOLAR",
          "CHIKKABALLAPURA",
          "SHIVAMOGGA",
          "TUMAKURU",
          "CHIKKAMAGALURU",
          "DAKSHINA KANNADA",
          "UDUPI",
          "HASSAN",
          "KODAGU",
          "MANDYA",
          "MYSURU",
          "CHAMARAJANAGAR",
          "BELAGAVI",
          "VIJAYAPURA",
          "BAGALKOT",
          "DHARAWAD",
          "GADAG",
          "HAVERI",
          "UTTARA KANNADA",
          "BALLARI",
          "BIDAR",
          "KALABURAGI",
          "YADGIRI",
          "RAICHUR",
          "KOPPAL"
         ],
         "type": "scatter",
         "x": [
          0.9590442729122615,
          0.9765052391752488,
          0.8222502261381797,
          0.66865038668522,
          0.7900581835459941,
          1,
          0.9972504351838052,
          0.967812384256356,
          0.9888021812136775,
          0.8509364154879833,
          0.8095920216384358,
          0.7639456796171662,
          0.8601165048161654,
          0.9462974084736768,
          0.8588396049480362,
          0.9105241683796111,
          0.866508382237713,
          0,
          0.6325317294369196,
          0.9749632202667031,
          0.7634273694337913,
          0.4888527035009977,
          0.9683541813306027,
          0.6144347726001685,
          0.6106021055075405,
          0.7942327017204209,
          0.9903543889006121,
          0.8909298300237722,
          0.7762892089664343,
          0.9102825362300663
         ],
         "y": [
          0.9096784117402058,
          0.9309983484632233,
          0.9930319436629783,
          0.8435029280682181,
          0.5079415443457801,
          0.9155728400615535,
          0.8831166441171325,
          0.7344296897111362,
          0.8315877622472081,
          0.6752012108464511,
          0.9345297425736021,
          1,
          0.672211893626339,
          0.8168569543262684,
          0.7136465669959557,
          0.705983810178204,
          0.9070838107023268,
          0.08507946687823846,
          0.74696061277643,
          0.586000616544199,
          0.8356243930708452,
          0.909836298213099,
          0.6902635803604669,
          0.9517498938838251,
          0.3832901739965654,
          0.9025840462248693,
          0.7481658128528484,
          0.5513866388035705,
          0.41536217952361204,
          0.6452606727034628
         ]
        }
       ],
       "layout": {
        "hovermode": "closest",
        "shapes": [
         {
          "line": {
           "color": "black",
           "dash": "dash"
          },
          "name": "Average Stability",
          "type": "line",
          "x0": 0.8150796080875853,
          "x1": 0.8150796080875853,
          "y0": 0,
          "y1": 1
         },
         {
          "line": {
           "color": "black",
           "dash": "dash"
          },
          "name": "Average Impact",
          "type": "line",
          "x0": 0,
          "x1": 1,
          "y0": 0.7219861180774921,
          "y1": 0.7219861180774921
         }
        ],
        "template": {
         "data": {
          "bar": [
           {
            "error_x": {
             "color": "#2a3f5f"
            },
            "error_y": {
             "color": "#2a3f5f"
            },
            "marker": {
             "line": {
              "color": "#E5ECF6",
              "width": 0.5
             },
             "pattern": {
              "fillmode": "overlay",
              "size": 10,
              "solidity": 0.2
             }
            },
            "type": "bar"
           }
          ],
          "barpolar": [
           {
            "marker": {
             "line": {
              "color": "#E5ECF6",
              "width": 0.5
             },
             "pattern": {
              "fillmode": "overlay",
              "size": 10,
              "solidity": 0.2
             }
            },
            "type": "barpolar"
           }
          ],
          "carpet": [
           {
            "aaxis": {
             "endlinecolor": "#2a3f5f",
             "gridcolor": "white",
             "linecolor": "white",
             "minorgridcolor": "white",
             "startlinecolor": "#2a3f5f"
            },
            "baxis": {
             "endlinecolor": "#2a3f5f",
             "gridcolor": "white",
             "linecolor": "white",
             "minorgridcolor": "white",
             "startlinecolor": "#2a3f5f"
            },
            "type": "carpet"
           }
          ],
          "choropleth": [
           {
            "colorbar": {
             "outlinewidth": 0,
             "ticks": ""
            },
            "type": "choropleth"
           }
          ],
          "contour": [
           {
            "colorbar": {
             "outlinewidth": 0,
             "ticks": ""
            },
            "colorscale": [
             [
              0,
              "#0d0887"
             ],
             [
              0.1111111111111111,
              "#46039f"
             ],
             [
              0.2222222222222222,
              "#7201a8"
             ],
             [
              0.3333333333333333,
              "#9c179e"
             ],
             [
              0.4444444444444444,
              "#bd3786"
             ],
             [
              0.5555555555555556,
              "#d8576b"
             ],
             [
              0.6666666666666666,
              "#ed7953"
             ],
             [
              0.7777777777777778,
              "#fb9f3a"
             ],
             [
              0.8888888888888888,
              "#fdca26"
             ],
             [
              1,
              "#f0f921"
             ]
            ],
            "type": "contour"
           }
          ],
          "contourcarpet": [
           {
            "colorbar": {
             "outlinewidth": 0,
             "ticks": ""
            },
            "type": "contourcarpet"
           }
          ],
          "heatmap": [
           {
            "colorbar": {
             "outlinewidth": 0,
             "ticks": ""
            },
            "colorscale": [
             [
              0,
              "#0d0887"
             ],
             [
              0.1111111111111111,
              "#46039f"
             ],
             [
              0.2222222222222222,
              "#7201a8"
             ],
             [
              0.3333333333333333,
              "#9c179e"
             ],
             [
              0.4444444444444444,
              "#bd3786"
             ],
             [
              0.5555555555555556,
              "#d8576b"
             ],
             [
              0.6666666666666666,
              "#ed7953"
             ],
             [
              0.7777777777777778,
              "#fb9f3a"
             ],
             [
              0.8888888888888888,
              "#fdca26"
             ],
             [
              1,
              "#f0f921"
             ]
            ],
            "type": "heatmap"
           }
          ],
          "heatmapgl": [
           {
            "colorbar": {
             "outlinewidth": 0,
             "ticks": ""
            },
            "colorscale": [
             [
              0,
              "#0d0887"
             ],
             [
              0.1111111111111111,
              "#46039f"
             ],
             [
              0.2222222222222222,
              "#7201a8"
             ],
             [
              0.3333333333333333,
              "#9c179e"
             ],
             [
              0.4444444444444444,
              "#bd3786"
             ],
             [
              0.5555555555555556,
              "#d8576b"
             ],
             [
              0.6666666666666666,
              "#ed7953"
             ],
             [
              0.7777777777777778,
              "#fb9f3a"
             ],
             [
              0.8888888888888888,
              "#fdca26"
             ],
             [
              1,
              "#f0f921"
             ]
            ],
            "type": "heatmapgl"
           }
          ],
          "histogram": [
           {
            "marker": {
             "pattern": {
              "fillmode": "overlay",
              "size": 10,
              "solidity": 0.2
             }
            },
            "type": "histogram"
           }
          ],
          "histogram2d": [
           {
            "colorbar": {
             "outlinewidth": 0,
             "ticks": ""
            },
            "colorscale": [
             [
              0,
              "#0d0887"
             ],
             [
              0.1111111111111111,
              "#46039f"
             ],
             [
              0.2222222222222222,
              "#7201a8"
             ],
             [
              0.3333333333333333,
              "#9c179e"
             ],
             [
              0.4444444444444444,
              "#bd3786"
             ],
             [
              0.5555555555555556,
              "#d8576b"
             ],
             [
              0.6666666666666666,
              "#ed7953"
             ],
             [
              0.7777777777777778,
              "#fb9f3a"
             ],
             [
              0.8888888888888888,
              "#fdca26"
             ],
             [
              1,
              "#f0f921"
             ]
            ],
            "type": "histogram2d"
           }
          ],
          "histogram2dcontour": [
           {
            "colorbar": {
             "outlinewidth": 0,
             "ticks": ""
            },
            "colorscale": [
             [
              0,
              "#0d0887"
             ],
             [
              0.1111111111111111,
              "#46039f"
             ],
             [
              0.2222222222222222,
              "#7201a8"
             ],
             [
              0.3333333333333333,
              "#9c179e"
             ],
             [
              0.4444444444444444,
              "#bd3786"
             ],
             [
              0.5555555555555556,
              "#d8576b"
             ],
             [
              0.6666666666666666,
              "#ed7953"
             ],
             [
              0.7777777777777778,
              "#fb9f3a"
             ],
             [
              0.8888888888888888,
              "#fdca26"
             ],
             [
              1,
              "#f0f921"
             ]
            ],
            "type": "histogram2dcontour"
           }
          ],
          "mesh3d": [
           {
            "colorbar": {
             "outlinewidth": 0,
             "ticks": ""
            },
            "type": "mesh3d"
           }
          ],
          "parcoords": [
           {
            "line": {
             "colorbar": {
              "outlinewidth": 0,
              "ticks": ""
             }
            },
            "type": "parcoords"
           }
          ],
          "pie": [
           {
            "automargin": true,
            "type": "pie"
           }
          ],
          "scatter": [
           {
            "fillpattern": {
             "fillmode": "overlay",
             "size": 10,
             "solidity": 0.2
            },
            "type": "scatter"
           }
          ],
          "scatter3d": [
           {
            "line": {
             "colorbar": {
              "outlinewidth": 0,
              "ticks": ""
             }
            },
            "marker": {
             "colorbar": {
              "outlinewidth": 0,
              "ticks": ""
             }
            },
            "type": "scatter3d"
           }
          ],
          "scattercarpet": [
           {
            "marker": {
             "colorbar": {
              "outlinewidth": 0,
              "ticks": ""
             }
            },
            "type": "scattercarpet"
           }
          ],
          "scattergeo": [
           {
            "marker": {
             "colorbar": {
              "outlinewidth": 0,
              "ticks": ""
             }
            },
            "type": "scattergeo"
           }
          ],
          "scattergl": [
           {
            "marker": {
             "colorbar": {
              "outlinewidth": 0,
              "ticks": ""
             }
            },
            "type": "scattergl"
           }
          ],
          "scattermapbox": [
           {
            "marker": {
             "colorbar": {
              "outlinewidth": 0,
              "ticks": ""
             }
            },
            "type": "scattermapbox"
           }
          ],
          "scatterpolar": [
           {
            "marker": {
             "colorbar": {
              "outlinewidth": 0,
              "ticks": ""
             }
            },
            "type": "scatterpolar"
           }
          ],
          "scatterpolargl": [
           {
            "marker": {
             "colorbar": {
              "outlinewidth": 0,
              "ticks": ""
             }
            },
            "type": "scatterpolargl"
           }
          ],
          "scatterternary": [
           {
            "marker": {
             "colorbar": {
              "outlinewidth": 0,
              "ticks": ""
             }
            },
            "type": "scatterternary"
           }
          ],
          "surface": [
           {
            "colorbar": {
             "outlinewidth": 0,
             "ticks": ""
            },
            "colorscale": [
             [
              0,
              "#0d0887"
             ],
             [
              0.1111111111111111,
              "#46039f"
             ],
             [
              0.2222222222222222,
              "#7201a8"
             ],
             [
              0.3333333333333333,
              "#9c179e"
             ],
             [
              0.4444444444444444,
              "#bd3786"
             ],
             [
              0.5555555555555556,
              "#d8576b"
             ],
             [
              0.6666666666666666,
              "#ed7953"
             ],
             [
              0.7777777777777778,
              "#fb9f3a"
             ],
             [
              0.8888888888888888,
              "#fdca26"
             ],
             [
              1,
              "#f0f921"
             ]
            ],
            "type": "surface"
           }
          ],
          "table": [
           {
            "cells": {
             "fill": {
              "color": "#EBF0F8"
             },
             "line": {
              "color": "white"
             }
            },
            "header": {
             "fill": {
              "color": "#C8D4E3"
             },
             "line": {
              "color": "white"
             }
            },
            "type": "table"
           }
          ]
         },
         "layout": {
          "annotationdefaults": {
           "arrowcolor": "#2a3f5f",
           "arrowhead": 0,
           "arrowwidth": 1
          },
          "autotypenumbers": "strict",
          "coloraxis": {
           "colorbar": {
            "outlinewidth": 0,
            "ticks": ""
           }
          },
          "colorscale": {
           "diverging": [
            [
             0,
             "#8e0152"
            ],
            [
             0.1,
             "#c51b7d"
            ],
            [
             0.2,
             "#de77ae"
            ],
            [
             0.3,
             "#f1b6da"
            ],
            [
             0.4,
             "#fde0ef"
            ],
            [
             0.5,
             "#f7f7f7"
            ],
            [
             0.6,
             "#e6f5d0"
            ],
            [
             0.7,
             "#b8e186"
            ],
            [
             0.8,
             "#7fbc41"
            ],
            [
             0.9,
             "#4d9221"
            ],
            [
             1,
             "#276419"
            ]
           ],
           "sequential": [
            [
             0,
             "#0d0887"
            ],
            [
             0.1111111111111111,
             "#46039f"
            ],
            [
             0.2222222222222222,
             "#7201a8"
            ],
            [
             0.3333333333333333,
             "#9c179e"
            ],
            [
             0.4444444444444444,
             "#bd3786"
            ],
            [
             0.5555555555555556,
             "#d8576b"
            ],
            [
             0.6666666666666666,
             "#ed7953"
            ],
            [
             0.7777777777777778,
             "#fb9f3a"
            ],
            [
             0.8888888888888888,
             "#fdca26"
            ],
            [
             1,
             "#f0f921"
            ]
           ],
           "sequentialminus": [
            [
             0,
             "#0d0887"
            ],
            [
             0.1111111111111111,
             "#46039f"
            ],
            [
             0.2222222222222222,
             "#7201a8"
            ],
            [
             0.3333333333333333,
             "#9c179e"
            ],
            [
             0.4444444444444444,
             "#bd3786"
            ],
            [
             0.5555555555555556,
             "#d8576b"
            ],
            [
             0.6666666666666666,
             "#ed7953"
            ],
            [
             0.7777777777777778,
             "#fb9f3a"
            ],
            [
             0.8888888888888888,
             "#fdca26"
            ],
            [
             1,
             "#f0f921"
            ]
           ]
          },
          "colorway": [
           "#636efa",
           "#EF553B",
           "#00cc96",
           "#ab63fa",
           "#FFA15A",
           "#19d3f3",
           "#FF6692",
           "#B6E880",
           "#FF97FF",
           "#FECB52"
          ],
          "font": {
           "color": "#2a3f5f"
          },
          "geo": {
           "bgcolor": "white",
           "lakecolor": "white",
           "landcolor": "#E5ECF6",
           "showlakes": true,
           "showland": true,
           "subunitcolor": "white"
          },
          "hoverlabel": {
           "align": "left"
          },
          "hovermode": "closest",
          "mapbox": {
           "style": "light"
          },
          "paper_bgcolor": "white",
          "plot_bgcolor": "#E5ECF6",
          "polar": {
           "angularaxis": {
            "gridcolor": "white",
            "linecolor": "white",
            "ticks": ""
           },
           "bgcolor": "#E5ECF6",
           "radialaxis": {
            "gridcolor": "white",
            "linecolor": "white",
            "ticks": ""
           }
          },
          "scene": {
           "xaxis": {
            "backgroundcolor": "#E5ECF6",
            "gridcolor": "white",
            "gridwidth": 2,
            "linecolor": "white",
            "showbackground": true,
            "ticks": "",
            "zerolinecolor": "white"
           },
           "yaxis": {
            "backgroundcolor": "#E5ECF6",
            "gridcolor": "white",
            "gridwidth": 2,
            "linecolor": "white",
            "showbackground": true,
            "ticks": "",
            "zerolinecolor": "white"
           },
           "zaxis": {
            "backgroundcolor": "#E5ECF6",
            "gridcolor": "white",
            "gridwidth": 2,
            "linecolor": "white",
            "showbackground": true,
            "ticks": "",
            "zerolinecolor": "white"
           }
          },
          "shapedefaults": {
           "line": {
            "color": "#2a3f5f"
           }
          },
          "ternary": {
           "aaxis": {
            "gridcolor": "white",
            "linecolor": "white",
            "ticks": ""
           },
           "baxis": {
            "gridcolor": "white",
            "linecolor": "white",
            "ticks": ""
           },
           "bgcolor": "#E5ECF6",
           "caxis": {
            "gridcolor": "white",
            "linecolor": "white",
            "ticks": ""
           }
          },
          "title": {
           "x": 0.05
          },
          "xaxis": {
           "automargin": true,
           "gridcolor": "white",
           "linecolor": "white",
           "ticks": "",
           "title": {
            "standoff": 15
           },
           "zerolinecolor": "white",
           "zerolinewidth": 2
          },
          "yaxis": {
           "automargin": true,
           "gridcolor": "white",
           "linecolor": "white",
           "ticks": "",
           "title": {
            "standoff": 15
           },
           "zerolinecolor": "white",
           "zerolinewidth": 2
          }
         }
        },
        "title": {
         "text": "Impact vs Stability (-20%)"
        },
        "xaxis": {
         "title": {
          "text": "Stability (TotalNPK_315 -20%)"
         }
        },
        "yaxis": {
         "title": {
          "text": "Normalized Impact"
         }
        }
       }
      }
     },
     "metadata": {},
     "output_type": "display_data"
    },
    {
     "data": {
      "text/html": [
       "<div>\n",
       "<style scoped>\n",
       "    .dataframe tbody tr th:only-of-type {\n",
       "        vertical-align: middle;\n",
       "    }\n",
       "\n",
       "    .dataframe tbody tr th {\n",
       "        vertical-align: top;\n",
       "    }\n",
       "\n",
       "    .dataframe thead th {\n",
       "        text-align: right;\n",
       "    }\n",
       "</style>\n",
       "<table border=\"1\" class=\"dataframe\">\n",
       "  <thead>\n",
       "    <tr style=\"text-align: right;\">\n",
       "      <th></th>\n",
       "      <th>District</th>\n",
       "      <th>Maize_Production_226 (TotalNPK_315 +20%)</th>\n",
       "      <th>Maize_Production_226 (TotalNPK_315 -20%)</th>\n",
       "      <th>Normalized Maize_Production_226 (TotalNPK_315 +20%)</th>\n",
       "      <th>Normalized Maize_Production_226 (TotalNPK_315 -20%)</th>\n",
       "      <th>Impact Score Maize_Production_226 (TotalNPK_315 +20%)</th>\n",
       "      <th>Impact Score Maize_Production_226 (TotalNPK_315 -20%)</th>\n",
       "      <th>Rice_Production_223 (TotalNPK_315 +20%)</th>\n",
       "      <th>Rice_Production_223 (TotalNPK_315 -20%)</th>\n",
       "      <th>Normalized Rice_Production_223 (TotalNPK_315 +20%)</th>\n",
       "      <th>Normalized Rice_Production_223 (TotalNPK_315 -20%)</th>\n",
       "      <th>Impact Score Rice_Production_223 (TotalNPK_315 +20%)</th>\n",
       "      <th>Impact Score Rice_Production_223 (TotalNPK_315 -20%)</th>\n",
       "      <th>New Stability(NPK + 20%)_Maize_Rice</th>\n",
       "      <th>New Stability(NPK - 20%)_Maize_Rice</th>\n",
       "    </tr>\n",
       "  </thead>\n",
       "  <tbody>\n",
       "    <tr>\n",
       "      <th>0</th>\n",
       "      <td>BENGALURU</td>\n",
       "      <td>72303.019039</td>\n",
       "      <td>48389.473335</td>\n",
       "      <td>0.098721</td>\n",
       "      <td>0.098721</td>\n",
       "      <td>0.101340</td>\n",
       "      <td>0.898660</td>\n",
       "      <td>73964.709483</td>\n",
       "      <td>52021.948395</td>\n",
       "      <td>0.098721</td>\n",
       "      <td>0.098721</td>\n",
       "      <td>0.090322</td>\n",
       "      <td>0.909678</td>\n",
       "      <td>0.959044</td>\n",
       "      <td>0.959044</td>\n",
       "    </tr>\n",
       "    <tr>\n",
       "      <th>1</th>\n",
       "      <td>BENGALURU(R)</td>\n",
       "      <td>59835.351903</td>\n",
       "      <td>40077.695244</td>\n",
       "      <td>0.075418</td>\n",
       "      <td>0.075418</td>\n",
       "      <td>0.078105</td>\n",
       "      <td>0.921895</td>\n",
       "      <td>62524.538934</td>\n",
       "      <td>44395.168029</td>\n",
       "      <td>0.075418</td>\n",
       "      <td>0.075418</td>\n",
       "      <td>0.069002</td>\n",
       "      <td>0.930998</td>\n",
       "      <td>0.976505</td>\n",
       "      <td>0.976505</td>\n",
       "    </tr>\n",
       "    <tr>\n",
       "      <th>2</th>\n",
       "      <td>RAMANAGARA</td>\n",
       "      <td>23558.780060</td>\n",
       "      <td>15893.314016</td>\n",
       "      <td>0.007616</td>\n",
       "      <td>0.007616</td>\n",
       "      <td>0.010500</td>\n",
       "      <td>0.989500</td>\n",
       "      <td>29237.624526</td>\n",
       "      <td>22203.891757</td>\n",
       "      <td>0.007616</td>\n",
       "      <td>0.007616</td>\n",
       "      <td>0.006968</td>\n",
       "      <td>0.993032</td>\n",
       "      <td>0.822250</td>\n",
       "      <td>0.822250</td>\n",
       "    </tr>\n",
       "    <tr>\n",
       "      <th>3</th>\n",
       "      <td>CHITRADURGA</td>\n",
       "      <td>111001.722216</td>\n",
       "      <td>74188.608786</td>\n",
       "      <td>0.171050</td>\n",
       "      <td>0.171050</td>\n",
       "      <td>0.173459</td>\n",
       "      <td>0.826541</td>\n",
       "      <td>109474.140361</td>\n",
       "      <td>75694.902314</td>\n",
       "      <td>0.171050</td>\n",
       "      <td>0.171050</td>\n",
       "      <td>0.156497</td>\n",
       "      <td>0.843503</td>\n",
       "      <td>0.668650</td>\n",
       "      <td>0.668650</td>\n",
       "    </tr>\n",
       "    <tr>\n",
       "      <th>4</th>\n",
       "      <td>DAVANAGERE</td>\n",
       "      <td>307234.370105</td>\n",
       "      <td>205010.374046</td>\n",
       "      <td>0.537816</td>\n",
       "      <td>0.537816</td>\n",
       "      <td>0.539159</td>\n",
       "      <td>0.460841</td>\n",
       "      <td>289534.686947</td>\n",
       "      <td>195735.266704</td>\n",
       "      <td>0.537816</td>\n",
       "      <td>0.537816</td>\n",
       "      <td>0.492058</td>\n",
       "      <td>0.507942</td>\n",
       "      <td>0.790058</td>\n",
       "      <td>0.790058</td>\n",
       "    </tr>\n",
       "  </tbody>\n",
       "</table>\n",
       "</div>"
      ],
      "text/plain": [
       "       District  Maize_Production_226 (TotalNPK_315 +20%)  \\\n",
       "0     BENGALURU                              72303.019039   \n",
       "1  BENGALURU(R)                              59835.351903   \n",
       "2    RAMANAGARA                              23558.780060   \n",
       "3   CHITRADURGA                             111001.722216   \n",
       "4    DAVANAGERE                             307234.370105   \n",
       "\n",
       "   Maize_Production_226 (TotalNPK_315 -20%)  \\\n",
       "0                              48389.473335   \n",
       "1                              40077.695244   \n",
       "2                              15893.314016   \n",
       "3                              74188.608786   \n",
       "4                             205010.374046   \n",
       "\n",
       "   Normalized Maize_Production_226 (TotalNPK_315 +20%)  \\\n",
       "0                                           0.098721     \n",
       "1                                           0.075418     \n",
       "2                                           0.007616     \n",
       "3                                           0.171050     \n",
       "4                                           0.537816     \n",
       "\n",
       "   Normalized Maize_Production_226 (TotalNPK_315 -20%)  \\\n",
       "0                                           0.098721     \n",
       "1                                           0.075418     \n",
       "2                                           0.007616     \n",
       "3                                           0.171050     \n",
       "4                                           0.537816     \n",
       "\n",
       "   Impact Score Maize_Production_226 (TotalNPK_315 +20%)  \\\n",
       "0                                           0.101340       \n",
       "1                                           0.078105       \n",
       "2                                           0.010500       \n",
       "3                                           0.173459       \n",
       "4                                           0.539159       \n",
       "\n",
       "   Impact Score Maize_Production_226 (TotalNPK_315 -20%)  \\\n",
       "0                                           0.898660       \n",
       "1                                           0.921895       \n",
       "2                                           0.989500       \n",
       "3                                           0.826541       \n",
       "4                                           0.460841       \n",
       "\n",
       "   Rice_Production_223 (TotalNPK_315 +20%)  \\\n",
       "0                             73964.709483   \n",
       "1                             62524.538934   \n",
       "2                             29237.624526   \n",
       "3                            109474.140361   \n",
       "4                            289534.686947   \n",
       "\n",
       "   Rice_Production_223 (TotalNPK_315 -20%)  \\\n",
       "0                             52021.948395   \n",
       "1                             44395.168029   \n",
       "2                             22203.891757   \n",
       "3                             75694.902314   \n",
       "4                            195735.266704   \n",
       "\n",
       "   Normalized Rice_Production_223 (TotalNPK_315 +20%)  \\\n",
       "0                                           0.098721    \n",
       "1                                           0.075418    \n",
       "2                                           0.007616    \n",
       "3                                           0.171050    \n",
       "4                                           0.537816    \n",
       "\n",
       "   Normalized Rice_Production_223 (TotalNPK_315 -20%)  \\\n",
       "0                                           0.098721    \n",
       "1                                           0.075418    \n",
       "2                                           0.007616    \n",
       "3                                           0.171050    \n",
       "4                                           0.537816    \n",
       "\n",
       "   Impact Score Rice_Production_223 (TotalNPK_315 +20%)  \\\n",
       "0                                           0.090322      \n",
       "1                                           0.069002      \n",
       "2                                           0.006968      \n",
       "3                                           0.156497      \n",
       "4                                           0.492058      \n",
       "\n",
       "   Impact Score Rice_Production_223 (TotalNPK_315 -20%)  \\\n",
       "0                                           0.909678      \n",
       "1                                           0.930998      \n",
       "2                                           0.993032      \n",
       "3                                           0.843503      \n",
       "4                                           0.507942      \n",
       "\n",
       "   New Stability(NPK + 20%)_Maize_Rice  New Stability(NPK - 20%)_Maize_Rice  \n",
       "0                             0.959044                             0.959044  \n",
       "1                             0.976505                             0.976505  \n",
       "2                             0.822250                             0.822250  \n",
       "3                             0.668650                             0.668650  \n",
       "4                             0.790058                             0.790058  "
      ]
     },
     "execution_count": 45,
     "metadata": {},
     "output_type": "execute_result"
    }
   ],
   "source": [
    "base_column = \"TotalNPK_315\"\n",
    "capability_vector = [\"Maize_Production_226\", \"Rice_Production_223\"]\n",
    "change_percentage = 20\n",
    "dim = 1\n",
    "\n",
    "new_data, handle_increase, handle_decrease,result_df = calc_and_vis_impact_stability(G, existing_data.copy(), adjacency_file, base_column, capability_vector, change_percentage, dim)\n",
    "new_data.head()"
   ]
  },
  {
   "cell_type": "code",
   "execution_count": null,
   "metadata": {},
   "outputs": [
    {
     "data": {
      "application/vnd.plotly.v1+json": {
       "config": {
        "plotlyServerURL": "https://plot.ly"
       },
       "data": [
        {
         "hovertemplate": "%{text}<br>Impact: %{y:.2f}<br>Stability: %{x:.2f}",
         "marker": {
          "color": "red",
          "size": 7,
          "symbol": "star"
         },
         "mode": "markers",
         "name": "Maize_Production_226 +10%",
         "text": [
          "BENGALURU",
          "BENGALURU(R)",
          "RAMANAGARA",
          "CHITRADURGA",
          "DAVANAGERE",
          "KOLAR",
          "CHIKKABALLAPURA",
          "SHIVAMOGGA",
          "TUMAKURU",
          "CHIKKAMAGALURU",
          "DAKSHINA KANNADA",
          "UDUPI",
          "HASSAN",
          "KODAGU",
          "MANDYA",
          "MYSURU",
          "CHAMARAJANAGAR",
          "BELAGAVI",
          "VIJAYAPURA",
          "BAGALKOT",
          "DHARAWAD",
          "GADAG",
          "HAVERI",
          "UTTARA KANNADA",
          "BALLARI",
          "BIDAR",
          "KALABURAGI",
          "YADGIRI",
          "RAICHUR",
          "KOPPAL"
         ],
         "type": "scatter",
         "x": [
          0.9590442729122614,
          0.9765052391752488,
          0.8222502261381797,
          0.6686503866852201,
          0.7900581835459943,
          1,
          0.9972504351838054,
          0.9678123842563559,
          0.9888021812136775,
          0.8509364154879833,
          0.8095920216384358,
          0.7639456796171662,
          0.8601165048161653,
          0.9462974084736768,
          0.8588396049480362,
          0.9105241683796111,
          0.866508382237713,
          0,
          0.6325317294369197,
          0.9749632202667032,
          0.7634273694337914,
          0.4888527035009979,
          0.9683541813306026,
          0.6144347726001685,
          0.6106021055075406,
          0.7942327017204209,
          0.9903543889006119,
          0.8909298300237721,
          0.7762892089664344,
          0.9102825362300664
         ],
         "y": [
          0.10133986892188879,
          0.07810508642614966,
          0.010499956513219565,
          0.17345889017625202,
          0.5391586512052177,
          0.09491603372188222,
          0.13028727629191997,
          0.2923285192120949,
          0.18644421418769475,
          0.3568765918378785,
          0.0742565208732885,
          0.002906065616068521,
          0.36013439397502467,
          0.20249806662056913,
          0.3149782738592617,
          0.32332925961927084,
          0.10416750352332038,
          1,
          0.2786721338449369,
          0.45408871934226874,
          0.18204503418911894,
          0.10116780190760315,
          0.34046139867500336,
          0.05548974518183963,
          0.6750055589839357,
          0.10907141343046867,
          0.2773586889692216,
          0.4918115444408813,
          0.6400530128153255,
          0.3895062333136281
         ]
        },
        {
         "hovertemplate": "%{text}<br>Impact: %{y:.2f}<br>Stability: %{x:.2f}",
         "marker": {
          "color": "blue",
          "size": 7,
          "symbol": "circle"
         },
         "mode": "markers",
         "name": "Rice_Production_223 +10%",
         "text": [
          "BENGALURU",
          "BENGALURU(R)",
          "RAMANAGARA",
          "CHITRADURGA",
          "DAVANAGERE",
          "KOLAR",
          "CHIKKABALLAPURA",
          "SHIVAMOGGA",
          "TUMAKURU",
          "CHIKKAMAGALURU",
          "DAKSHINA KANNADA",
          "UDUPI",
          "HASSAN",
          "KODAGU",
          "MANDYA",
          "MYSURU",
          "CHAMARAJANAGAR",
          "BELAGAVI",
          "VIJAYAPURA",
          "BAGALKOT",
          "DHARAWAD",
          "GADAG",
          "HAVERI",
          "UTTARA KANNADA",
          "BALLARI",
          "BIDAR",
          "KALABURAGI",
          "YADGIRI",
          "RAICHUR",
          "KOPPAL"
         ],
         "type": "scatter",
         "x": [
          0.9590442729122614,
          0.9765052391752488,
          0.8222502261381797,
          0.6686503866852201,
          0.7900581835459943,
          1,
          0.9972504351838054,
          0.9678123842563559,
          0.9888021812136775,
          0.8509364154879833,
          0.8095920216384358,
          0.7639456796171662,
          0.8601165048161653,
          0.9462974084736768,
          0.8588396049480362,
          0.9105241683796111,
          0.866508382237713,
          0,
          0.6325317294369197,
          0.9749632202667032,
          0.7634273694337914,
          0.4888527035009979,
          0.9683541813306026,
          0.6144347726001685,
          0.6106021055075406,
          0.7942327017204209,
          0.9903543889006119,
          0.8909298300237721,
          0.7762892089664344,
          0.9102825362300664
         ],
         "y": [
          0.09032158825979418,
          0.06900165153677684,
          0.006968056337021767,
          0.15649707193178192,
          0.49205845565421896,
          0.0844271599384465,
          0.11688335588286727,
          0.26557031028886335,
          0.16841223775279193,
          0.3247987891535486,
          0.06547025742639798,
          0,
          0.32778810637366096,
          0.1831430456737314,
          0.2863534330040438,
          0.2940161898217964,
          0.09291618929767327,
          0.9149205331217608,
          0.25303938722357033,
          0.4139993834558012,
          0.16437560692915487,
          0.090163701786901,
          0.3097364196395337,
          0.04825010611617487,
          0.6167098260034355,
          0.09741595377513057,
          0.2518341871471515,
          0.44861336119642936,
          0.584637820476387,
          0.3547393272965372
         ]
        }
       ],
       "layout": {
        "hovermode": "closest",
        "shapes": [
         {
          "line": {
           "color": "black",
           "dash": "dash"
          },
          "name": "Average Stability",
          "type": "line",
          "x0": 0.8150796080875853,
          "x1": 0.8150796080875853,
          "y0": 0,
          "y1": 1
         },
         {
          "line": {
           "color": "black",
           "dash": "dash"
          },
          "name": "Average Impact",
          "type": "line",
          "x0": 0,
          "x1": 1,
          "y0": 0.2780138819225078,
          "y1": 0.2780138819225078
         }
        ],
        "template": {
         "data": {
          "bar": [
           {
            "error_x": {
             "color": "#2a3f5f"
            },
            "error_y": {
             "color": "#2a3f5f"
            },
            "marker": {
             "line": {
              "color": "#E5ECF6",
              "width": 0.5
             },
             "pattern": {
              "fillmode": "overlay",
              "size": 10,
              "solidity": 0.2
             }
            },
            "type": "bar"
           }
          ],
          "barpolar": [
           {
            "marker": {
             "line": {
              "color": "#E5ECF6",
              "width": 0.5
             },
             "pattern": {
              "fillmode": "overlay",
              "size": 10,
              "solidity": 0.2
             }
            },
            "type": "barpolar"
           }
          ],
          "carpet": [
           {
            "aaxis": {
             "endlinecolor": "#2a3f5f",
             "gridcolor": "white",
             "linecolor": "white",
             "minorgridcolor": "white",
             "startlinecolor": "#2a3f5f"
            },
            "baxis": {
             "endlinecolor": "#2a3f5f",
             "gridcolor": "white",
             "linecolor": "white",
             "minorgridcolor": "white",
             "startlinecolor": "#2a3f5f"
            },
            "type": "carpet"
           }
          ],
          "choropleth": [
           {
            "colorbar": {
             "outlinewidth": 0,
             "ticks": ""
            },
            "type": "choropleth"
           }
          ],
          "contour": [
           {
            "colorbar": {
             "outlinewidth": 0,
             "ticks": ""
            },
            "colorscale": [
             [
              0,
              "#0d0887"
             ],
             [
              0.1111111111111111,
              "#46039f"
             ],
             [
              0.2222222222222222,
              "#7201a8"
             ],
             [
              0.3333333333333333,
              "#9c179e"
             ],
             [
              0.4444444444444444,
              "#bd3786"
             ],
             [
              0.5555555555555556,
              "#d8576b"
             ],
             [
              0.6666666666666666,
              "#ed7953"
             ],
             [
              0.7777777777777778,
              "#fb9f3a"
             ],
             [
              0.8888888888888888,
              "#fdca26"
             ],
             [
              1,
              "#f0f921"
             ]
            ],
            "type": "contour"
           }
          ],
          "contourcarpet": [
           {
            "colorbar": {
             "outlinewidth": 0,
             "ticks": ""
            },
            "type": "contourcarpet"
           }
          ],
          "heatmap": [
           {
            "colorbar": {
             "outlinewidth": 0,
             "ticks": ""
            },
            "colorscale": [
             [
              0,
              "#0d0887"
             ],
             [
              0.1111111111111111,
              "#46039f"
             ],
             [
              0.2222222222222222,
              "#7201a8"
             ],
             [
              0.3333333333333333,
              "#9c179e"
             ],
             [
              0.4444444444444444,
              "#bd3786"
             ],
             [
              0.5555555555555556,
              "#d8576b"
             ],
             [
              0.6666666666666666,
              "#ed7953"
             ],
             [
              0.7777777777777778,
              "#fb9f3a"
             ],
             [
              0.8888888888888888,
              "#fdca26"
             ],
             [
              1,
              "#f0f921"
             ]
            ],
            "type": "heatmap"
           }
          ],
          "heatmapgl": [
           {
            "colorbar": {
             "outlinewidth": 0,
             "ticks": ""
            },
            "colorscale": [
             [
              0,
              "#0d0887"
             ],
             [
              0.1111111111111111,
              "#46039f"
             ],
             [
              0.2222222222222222,
              "#7201a8"
             ],
             [
              0.3333333333333333,
              "#9c179e"
             ],
             [
              0.4444444444444444,
              "#bd3786"
             ],
             [
              0.5555555555555556,
              "#d8576b"
             ],
             [
              0.6666666666666666,
              "#ed7953"
             ],
             [
              0.7777777777777778,
              "#fb9f3a"
             ],
             [
              0.8888888888888888,
              "#fdca26"
             ],
             [
              1,
              "#f0f921"
             ]
            ],
            "type": "heatmapgl"
           }
          ],
          "histogram": [
           {
            "marker": {
             "pattern": {
              "fillmode": "overlay",
              "size": 10,
              "solidity": 0.2
             }
            },
            "type": "histogram"
           }
          ],
          "histogram2d": [
           {
            "colorbar": {
             "outlinewidth": 0,
             "ticks": ""
            },
            "colorscale": [
             [
              0,
              "#0d0887"
             ],
             [
              0.1111111111111111,
              "#46039f"
             ],
             [
              0.2222222222222222,
              "#7201a8"
             ],
             [
              0.3333333333333333,
              "#9c179e"
             ],
             [
              0.4444444444444444,
              "#bd3786"
             ],
             [
              0.5555555555555556,
              "#d8576b"
             ],
             [
              0.6666666666666666,
              "#ed7953"
             ],
             [
              0.7777777777777778,
              "#fb9f3a"
             ],
             [
              0.8888888888888888,
              "#fdca26"
             ],
             [
              1,
              "#f0f921"
             ]
            ],
            "type": "histogram2d"
           }
          ],
          "histogram2dcontour": [
           {
            "colorbar": {
             "outlinewidth": 0,
             "ticks": ""
            },
            "colorscale": [
             [
              0,
              "#0d0887"
             ],
             [
              0.1111111111111111,
              "#46039f"
             ],
             [
              0.2222222222222222,
              "#7201a8"
             ],
             [
              0.3333333333333333,
              "#9c179e"
             ],
             [
              0.4444444444444444,
              "#bd3786"
             ],
             [
              0.5555555555555556,
              "#d8576b"
             ],
             [
              0.6666666666666666,
              "#ed7953"
             ],
             [
              0.7777777777777778,
              "#fb9f3a"
             ],
             [
              0.8888888888888888,
              "#fdca26"
             ],
             [
              1,
              "#f0f921"
             ]
            ],
            "type": "histogram2dcontour"
           }
          ],
          "mesh3d": [
           {
            "colorbar": {
             "outlinewidth": 0,
             "ticks": ""
            },
            "type": "mesh3d"
           }
          ],
          "parcoords": [
           {
            "line": {
             "colorbar": {
              "outlinewidth": 0,
              "ticks": ""
             }
            },
            "type": "parcoords"
           }
          ],
          "pie": [
           {
            "automargin": true,
            "type": "pie"
           }
          ],
          "scatter": [
           {
            "fillpattern": {
             "fillmode": "overlay",
             "size": 10,
             "solidity": 0.2
            },
            "type": "scatter"
           }
          ],
          "scatter3d": [
           {
            "line": {
             "colorbar": {
              "outlinewidth": 0,
              "ticks": ""
             }
            },
            "marker": {
             "colorbar": {
              "outlinewidth": 0,
              "ticks": ""
             }
            },
            "type": "scatter3d"
           }
          ],
          "scattercarpet": [
           {
            "marker": {
             "colorbar": {
              "outlinewidth": 0,
              "ticks": ""
             }
            },
            "type": "scattercarpet"
           }
          ],
          "scattergeo": [
           {
            "marker": {
             "colorbar": {
              "outlinewidth": 0,
              "ticks": ""
             }
            },
            "type": "scattergeo"
           }
          ],
          "scattergl": [
           {
            "marker": {
             "colorbar": {
              "outlinewidth": 0,
              "ticks": ""
             }
            },
            "type": "scattergl"
           }
          ],
          "scattermapbox": [
           {
            "marker": {
             "colorbar": {
              "outlinewidth": 0,
              "ticks": ""
             }
            },
            "type": "scattermapbox"
           }
          ],
          "scatterpolar": [
           {
            "marker": {
             "colorbar": {
              "outlinewidth": 0,
              "ticks": ""
             }
            },
            "type": "scatterpolar"
           }
          ],
          "scatterpolargl": [
           {
            "marker": {
             "colorbar": {
              "outlinewidth": 0,
              "ticks": ""
             }
            },
            "type": "scatterpolargl"
           }
          ],
          "scatterternary": [
           {
            "marker": {
             "colorbar": {
              "outlinewidth": 0,
              "ticks": ""
             }
            },
            "type": "scatterternary"
           }
          ],
          "surface": [
           {
            "colorbar": {
             "outlinewidth": 0,
             "ticks": ""
            },
            "colorscale": [
             [
              0,
              "#0d0887"
             ],
             [
              0.1111111111111111,
              "#46039f"
             ],
             [
              0.2222222222222222,
              "#7201a8"
             ],
             [
              0.3333333333333333,
              "#9c179e"
             ],
             [
              0.4444444444444444,
              "#bd3786"
             ],
             [
              0.5555555555555556,
              "#d8576b"
             ],
             [
              0.6666666666666666,
              "#ed7953"
             ],
             [
              0.7777777777777778,
              "#fb9f3a"
             ],
             [
              0.8888888888888888,
              "#fdca26"
             ],
             [
              1,
              "#f0f921"
             ]
            ],
            "type": "surface"
           }
          ],
          "table": [
           {
            "cells": {
             "fill": {
              "color": "#EBF0F8"
             },
             "line": {
              "color": "white"
             }
            },
            "header": {
             "fill": {
              "color": "#C8D4E3"
             },
             "line": {
              "color": "white"
             }
            },
            "type": "table"
           }
          ]
         },
         "layout": {
          "annotationdefaults": {
           "arrowcolor": "#2a3f5f",
           "arrowhead": 0,
           "arrowwidth": 1
          },
          "autotypenumbers": "strict",
          "coloraxis": {
           "colorbar": {
            "outlinewidth": 0,
            "ticks": ""
           }
          },
          "colorscale": {
           "diverging": [
            [
             0,
             "#8e0152"
            ],
            [
             0.1,
             "#c51b7d"
            ],
            [
             0.2,
             "#de77ae"
            ],
            [
             0.3,
             "#f1b6da"
            ],
            [
             0.4,
             "#fde0ef"
            ],
            [
             0.5,
             "#f7f7f7"
            ],
            [
             0.6,
             "#e6f5d0"
            ],
            [
             0.7,
             "#b8e186"
            ],
            [
             0.8,
             "#7fbc41"
            ],
            [
             0.9,
             "#4d9221"
            ],
            [
             1,
             "#276419"
            ]
           ],
           "sequential": [
            [
             0,
             "#0d0887"
            ],
            [
             0.1111111111111111,
             "#46039f"
            ],
            [
             0.2222222222222222,
             "#7201a8"
            ],
            [
             0.3333333333333333,
             "#9c179e"
            ],
            [
             0.4444444444444444,
             "#bd3786"
            ],
            [
             0.5555555555555556,
             "#d8576b"
            ],
            [
             0.6666666666666666,
             "#ed7953"
            ],
            [
             0.7777777777777778,
             "#fb9f3a"
            ],
            [
             0.8888888888888888,
             "#fdca26"
            ],
            [
             1,
             "#f0f921"
            ]
           ],
           "sequentialminus": [
            [
             0,
             "#0d0887"
            ],
            [
             0.1111111111111111,
             "#46039f"
            ],
            [
             0.2222222222222222,
             "#7201a8"
            ],
            [
             0.3333333333333333,
             "#9c179e"
            ],
            [
             0.4444444444444444,
             "#bd3786"
            ],
            [
             0.5555555555555556,
             "#d8576b"
            ],
            [
             0.6666666666666666,
             "#ed7953"
            ],
            [
             0.7777777777777778,
             "#fb9f3a"
            ],
            [
             0.8888888888888888,
             "#fdca26"
            ],
            [
             1,
             "#f0f921"
            ]
           ]
          },
          "colorway": [
           "#636efa",
           "#EF553B",
           "#00cc96",
           "#ab63fa",
           "#FFA15A",
           "#19d3f3",
           "#FF6692",
           "#B6E880",
           "#FF97FF",
           "#FECB52"
          ],
          "font": {
           "color": "#2a3f5f"
          },
          "geo": {
           "bgcolor": "white",
           "lakecolor": "white",
           "landcolor": "#E5ECF6",
           "showlakes": true,
           "showland": true,
           "subunitcolor": "white"
          },
          "hoverlabel": {
           "align": "left"
          },
          "hovermode": "closest",
          "mapbox": {
           "style": "light"
          },
          "paper_bgcolor": "white",
          "plot_bgcolor": "#E5ECF6",
          "polar": {
           "angularaxis": {
            "gridcolor": "white",
            "linecolor": "white",
            "ticks": ""
           },
           "bgcolor": "#E5ECF6",
           "radialaxis": {
            "gridcolor": "white",
            "linecolor": "white",
            "ticks": ""
           }
          },
          "scene": {
           "xaxis": {
            "backgroundcolor": "#E5ECF6",
            "gridcolor": "white",
            "gridwidth": 2,
            "linecolor": "white",
            "showbackground": true,
            "ticks": "",
            "zerolinecolor": "white"
           },
           "yaxis": {
            "backgroundcolor": "#E5ECF6",
            "gridcolor": "white",
            "gridwidth": 2,
            "linecolor": "white",
            "showbackground": true,
            "ticks": "",
            "zerolinecolor": "white"
           },
           "zaxis": {
            "backgroundcolor": "#E5ECF6",
            "gridcolor": "white",
            "gridwidth": 2,
            "linecolor": "white",
            "showbackground": true,
            "ticks": "",
            "zerolinecolor": "white"
           }
          },
          "shapedefaults": {
           "line": {
            "color": "#2a3f5f"
           }
          },
          "ternary": {
           "aaxis": {
            "gridcolor": "white",
            "linecolor": "white",
            "ticks": ""
           },
           "baxis": {
            "gridcolor": "white",
            "linecolor": "white",
            "ticks": ""
           },
           "bgcolor": "#E5ECF6",
           "caxis": {
            "gridcolor": "white",
            "linecolor": "white",
            "ticks": ""
           }
          },
          "title": {
           "x": 0.05
          },
          "xaxis": {
           "automargin": true,
           "gridcolor": "white",
           "linecolor": "white",
           "ticks": "",
           "title": {
            "standoff": 15
           },
           "zerolinecolor": "white",
           "zerolinewidth": 2
          },
          "yaxis": {
           "automargin": true,
           "gridcolor": "white",
           "linecolor": "white",
           "ticks": "",
           "title": {
            "standoff": 15
           },
           "zerolinecolor": "white",
           "zerolinewidth": 2
          }
         }
        },
        "title": {
         "text": "Impact vs Stability (+10%)"
        },
        "xaxis": {
         "title": {
          "text": "Stability (TotalNPK_315 +10%)"
         }
        },
        "yaxis": {
         "title": {
          "text": "Normalized Impact"
         }
        }
       }
      }
     },
     "metadata": {},
     "output_type": "display_data"
    },
    {
     "data": {
      "application/vnd.plotly.v1+json": {
       "config": {
        "plotlyServerURL": "https://plot.ly"
       },
       "data": [
        {
         "hovertemplate": "%{text}<br>Impact: %{y:.2f}<br>Stability: %{x:.2f}",
         "marker": {
          "color": "red",
          "size": 7,
          "symbol": "star"
         },
         "mode": "markers",
         "name": "Maize_Production_226 -10%",
         "text": [
          "BENGALURU",
          "BENGALURU(R)",
          "RAMANAGARA",
          "CHITRADURGA",
          "DAVANAGERE",
          "KOLAR",
          "CHIKKABALLAPURA",
          "SHIVAMOGGA",
          "TUMAKURU",
          "CHIKKAMAGALURU",
          "DAKSHINA KANNADA",
          "UDUPI",
          "HASSAN",
          "KODAGU",
          "MANDYA",
          "MYSURU",
          "CHAMARAJANAGAR",
          "BELAGAVI",
          "VIJAYAPURA",
          "BAGALKOT",
          "DHARAWAD",
          "GADAG",
          "HAVERI",
          "UTTARA KANNADA",
          "BALLARI",
          "BIDAR",
          "KALABURAGI",
          "YADGIRI",
          "RAICHUR",
          "KOPPAL"
         ],
         "type": "scatter",
         "x": [
          0.9590442729122614,
          0.9765052391752488,
          0.8222502261381798,
          0.6686503866852203,
          0.7900581835459943,
          1,
          0.9972504351838054,
          0.9678123842563559,
          0.9888021812136775,
          0.8509364154879833,
          0.8095920216384358,
          0.7639456796171662,
          0.8601165048161654,
          0.9462974084736768,
          0.8588396049480362,
          0.9105241683796111,
          0.866508382237713,
          0,
          0.6325317294369198,
          0.974963220266703,
          0.7634273694337915,
          0.4888527035009979,
          0.9683541813306026,
          0.6144347726001685,
          0.6106021055075408,
          0.794232701720421,
          0.9903543889006119,
          0.8909298300237722,
          0.7762892089664344,
          0.9102825362300664
         ],
         "y": [
          0.898660131078111,
          0.9218949135738506,
          0.9895000434867803,
          0.8265411098237473,
          0.46084134879478156,
          0.905083966278118,
          0.8697127237080795,
          0.7076714807879055,
          0.8135557858123049,
          0.6431234081621211,
          0.9257434791267117,
          0.9970939343839313,
          0.6398656060249749,
          0.7975019333794304,
          0.6850217261407374,
          0.6766707403807283,
          0.8958324964766794,
          0,
          0.7213278661550626,
          0.54591128065773,
          0.817954965810881,
          0.898832198092397,
          0.6595386013249956,
          0.9445102548181603,
          0.3249944410160639,
          0.8909285865695313,
          0.7226413110307782,
          0.5081884555591186,
          0.35994698718467155,
          0.6104937666863715
         ]
        },
        {
         "hovertemplate": "%{text}<br>Impact: %{y:.2f}<br>Stability: %{x:.2f}",
         "marker": {
          "color": "blue",
          "size": 7,
          "symbol": "circle"
         },
         "mode": "markers",
         "name": "Rice_Production_223 -10%",
         "text": [
          "BENGALURU",
          "BENGALURU(R)",
          "RAMANAGARA",
          "CHITRADURGA",
          "DAVANAGERE",
          "KOLAR",
          "CHIKKABALLAPURA",
          "SHIVAMOGGA",
          "TUMAKURU",
          "CHIKKAMAGALURU",
          "DAKSHINA KANNADA",
          "UDUPI",
          "HASSAN",
          "KODAGU",
          "MANDYA",
          "MYSURU",
          "CHAMARAJANAGAR",
          "BELAGAVI",
          "VIJAYAPURA",
          "BAGALKOT",
          "DHARAWAD",
          "GADAG",
          "HAVERI",
          "UTTARA KANNADA",
          "BALLARI",
          "BIDAR",
          "KALABURAGI",
          "YADGIRI",
          "RAICHUR",
          "KOPPAL"
         ],
         "type": "scatter",
         "x": [
          0.9590442729122614,
          0.9765052391752488,
          0.8222502261381798,
          0.6686503866852203,
          0.7900581835459943,
          1,
          0.9972504351838054,
          0.9678123842563559,
          0.9888021812136775,
          0.8509364154879833,
          0.8095920216384358,
          0.7639456796171662,
          0.8601165048161654,
          0.9462974084736768,
          0.8588396049480362,
          0.9105241683796111,
          0.866508382237713,
          0,
          0.6325317294369198,
          0.974963220266703,
          0.7634273694337915,
          0.4888527035009979,
          0.9683541813306026,
          0.6144347726001685,
          0.6106021055075408,
          0.794232701720421,
          0.9903543889006119,
          0.8909298300237722,
          0.7762892089664344,
          0.9102825362300664
         ],
         "y": [
          0.9096784117402054,
          0.9309983484632234,
          0.9930319436629783,
          0.8435029280682182,
          0.5079415443457793,
          0.9155728400615535,
          0.8831166441171323,
          0.734429689711136,
          0.8315877622472082,
          0.6752012108464508,
          0.9345297425736021,
          1,
          0.672211893626339,
          0.8168569543262684,
          0.7136465669959556,
          0.7059838101782037,
          0.9070838107023267,
          0.08507946687823839,
          0.7469606127764302,
          0.5860006165441985,
          0.8356243930708452,
          0.9098362982130989,
          0.6902635803604664,
          0.951749893883825,
          0.38329017399656445,
          0.9025840462248694,
          0.7481658128528481,
          0.5513866388035704,
          0.41536217952361176,
          0.6452606727034621
         ]
        }
       ],
       "layout": {
        "hovermode": "closest",
        "shapes": [
         {
          "line": {
           "color": "black",
           "dash": "dash"
          },
          "name": "Average Stability",
          "type": "line",
          "x0": 0.8150796080875854,
          "x1": 0.8150796080875854,
          "y0": 0,
          "y1": 1
         },
         {
          "line": {
           "color": "black",
           "dash": "dash"
          },
          "name": "Average Impact",
          "type": "line",
          "x0": 0,
          "x1": 1,
          "y0": 0.7219861180774918,
          "y1": 0.7219861180774918
         }
        ],
        "template": {
         "data": {
          "bar": [
           {
            "error_x": {
             "color": "#2a3f5f"
            },
            "error_y": {
             "color": "#2a3f5f"
            },
            "marker": {
             "line": {
              "color": "#E5ECF6",
              "width": 0.5
             },
             "pattern": {
              "fillmode": "overlay",
              "size": 10,
              "solidity": 0.2
             }
            },
            "type": "bar"
           }
          ],
          "barpolar": [
           {
            "marker": {
             "line": {
              "color": "#E5ECF6",
              "width": 0.5
             },
             "pattern": {
              "fillmode": "overlay",
              "size": 10,
              "solidity": 0.2
             }
            },
            "type": "barpolar"
           }
          ],
          "carpet": [
           {
            "aaxis": {
             "endlinecolor": "#2a3f5f",
             "gridcolor": "white",
             "linecolor": "white",
             "minorgridcolor": "white",
             "startlinecolor": "#2a3f5f"
            },
            "baxis": {
             "endlinecolor": "#2a3f5f",
             "gridcolor": "white",
             "linecolor": "white",
             "minorgridcolor": "white",
             "startlinecolor": "#2a3f5f"
            },
            "type": "carpet"
           }
          ],
          "choropleth": [
           {
            "colorbar": {
             "outlinewidth": 0,
             "ticks": ""
            },
            "type": "choropleth"
           }
          ],
          "contour": [
           {
            "colorbar": {
             "outlinewidth": 0,
             "ticks": ""
            },
            "colorscale": [
             [
              0,
              "#0d0887"
             ],
             [
              0.1111111111111111,
              "#46039f"
             ],
             [
              0.2222222222222222,
              "#7201a8"
             ],
             [
              0.3333333333333333,
              "#9c179e"
             ],
             [
              0.4444444444444444,
              "#bd3786"
             ],
             [
              0.5555555555555556,
              "#d8576b"
             ],
             [
              0.6666666666666666,
              "#ed7953"
             ],
             [
              0.7777777777777778,
              "#fb9f3a"
             ],
             [
              0.8888888888888888,
              "#fdca26"
             ],
             [
              1,
              "#f0f921"
             ]
            ],
            "type": "contour"
           }
          ],
          "contourcarpet": [
           {
            "colorbar": {
             "outlinewidth": 0,
             "ticks": ""
            },
            "type": "contourcarpet"
           }
          ],
          "heatmap": [
           {
            "colorbar": {
             "outlinewidth": 0,
             "ticks": ""
            },
            "colorscale": [
             [
              0,
              "#0d0887"
             ],
             [
              0.1111111111111111,
              "#46039f"
             ],
             [
              0.2222222222222222,
              "#7201a8"
             ],
             [
              0.3333333333333333,
              "#9c179e"
             ],
             [
              0.4444444444444444,
              "#bd3786"
             ],
             [
              0.5555555555555556,
              "#d8576b"
             ],
             [
              0.6666666666666666,
              "#ed7953"
             ],
             [
              0.7777777777777778,
              "#fb9f3a"
             ],
             [
              0.8888888888888888,
              "#fdca26"
             ],
             [
              1,
              "#f0f921"
             ]
            ],
            "type": "heatmap"
           }
          ],
          "heatmapgl": [
           {
            "colorbar": {
             "outlinewidth": 0,
             "ticks": ""
            },
            "colorscale": [
             [
              0,
              "#0d0887"
             ],
             [
              0.1111111111111111,
              "#46039f"
             ],
             [
              0.2222222222222222,
              "#7201a8"
             ],
             [
              0.3333333333333333,
              "#9c179e"
             ],
             [
              0.4444444444444444,
              "#bd3786"
             ],
             [
              0.5555555555555556,
              "#d8576b"
             ],
             [
              0.6666666666666666,
              "#ed7953"
             ],
             [
              0.7777777777777778,
              "#fb9f3a"
             ],
             [
              0.8888888888888888,
              "#fdca26"
             ],
             [
              1,
              "#f0f921"
             ]
            ],
            "type": "heatmapgl"
           }
          ],
          "histogram": [
           {
            "marker": {
             "pattern": {
              "fillmode": "overlay",
              "size": 10,
              "solidity": 0.2
             }
            },
            "type": "histogram"
           }
          ],
          "histogram2d": [
           {
            "colorbar": {
             "outlinewidth": 0,
             "ticks": ""
            },
            "colorscale": [
             [
              0,
              "#0d0887"
             ],
             [
              0.1111111111111111,
              "#46039f"
             ],
             [
              0.2222222222222222,
              "#7201a8"
             ],
             [
              0.3333333333333333,
              "#9c179e"
             ],
             [
              0.4444444444444444,
              "#bd3786"
             ],
             [
              0.5555555555555556,
              "#d8576b"
             ],
             [
              0.6666666666666666,
              "#ed7953"
             ],
             [
              0.7777777777777778,
              "#fb9f3a"
             ],
             [
              0.8888888888888888,
              "#fdca26"
             ],
             [
              1,
              "#f0f921"
             ]
            ],
            "type": "histogram2d"
           }
          ],
          "histogram2dcontour": [
           {
            "colorbar": {
             "outlinewidth": 0,
             "ticks": ""
            },
            "colorscale": [
             [
              0,
              "#0d0887"
             ],
             [
              0.1111111111111111,
              "#46039f"
             ],
             [
              0.2222222222222222,
              "#7201a8"
             ],
             [
              0.3333333333333333,
              "#9c179e"
             ],
             [
              0.4444444444444444,
              "#bd3786"
             ],
             [
              0.5555555555555556,
              "#d8576b"
             ],
             [
              0.6666666666666666,
              "#ed7953"
             ],
             [
              0.7777777777777778,
              "#fb9f3a"
             ],
             [
              0.8888888888888888,
              "#fdca26"
             ],
             [
              1,
              "#f0f921"
             ]
            ],
            "type": "histogram2dcontour"
           }
          ],
          "mesh3d": [
           {
            "colorbar": {
             "outlinewidth": 0,
             "ticks": ""
            },
            "type": "mesh3d"
           }
          ],
          "parcoords": [
           {
            "line": {
             "colorbar": {
              "outlinewidth": 0,
              "ticks": ""
             }
            },
            "type": "parcoords"
           }
          ],
          "pie": [
           {
            "automargin": true,
            "type": "pie"
           }
          ],
          "scatter": [
           {
            "fillpattern": {
             "fillmode": "overlay",
             "size": 10,
             "solidity": 0.2
            },
            "type": "scatter"
           }
          ],
          "scatter3d": [
           {
            "line": {
             "colorbar": {
              "outlinewidth": 0,
              "ticks": ""
             }
            },
            "marker": {
             "colorbar": {
              "outlinewidth": 0,
              "ticks": ""
             }
            },
            "type": "scatter3d"
           }
          ],
          "scattercarpet": [
           {
            "marker": {
             "colorbar": {
              "outlinewidth": 0,
              "ticks": ""
             }
            },
            "type": "scattercarpet"
           }
          ],
          "scattergeo": [
           {
            "marker": {
             "colorbar": {
              "outlinewidth": 0,
              "ticks": ""
             }
            },
            "type": "scattergeo"
           }
          ],
          "scattergl": [
           {
            "marker": {
             "colorbar": {
              "outlinewidth": 0,
              "ticks": ""
             }
            },
            "type": "scattergl"
           }
          ],
          "scattermapbox": [
           {
            "marker": {
             "colorbar": {
              "outlinewidth": 0,
              "ticks": ""
             }
            },
            "type": "scattermapbox"
           }
          ],
          "scatterpolar": [
           {
            "marker": {
             "colorbar": {
              "outlinewidth": 0,
              "ticks": ""
             }
            },
            "type": "scatterpolar"
           }
          ],
          "scatterpolargl": [
           {
            "marker": {
             "colorbar": {
              "outlinewidth": 0,
              "ticks": ""
             }
            },
            "type": "scatterpolargl"
           }
          ],
          "scatterternary": [
           {
            "marker": {
             "colorbar": {
              "outlinewidth": 0,
              "ticks": ""
             }
            },
            "type": "scatterternary"
           }
          ],
          "surface": [
           {
            "colorbar": {
             "outlinewidth": 0,
             "ticks": ""
            },
            "colorscale": [
             [
              0,
              "#0d0887"
             ],
             [
              0.1111111111111111,
              "#46039f"
             ],
             [
              0.2222222222222222,
              "#7201a8"
             ],
             [
              0.3333333333333333,
              "#9c179e"
             ],
             [
              0.4444444444444444,
              "#bd3786"
             ],
             [
              0.5555555555555556,
              "#d8576b"
             ],
             [
              0.6666666666666666,
              "#ed7953"
             ],
             [
              0.7777777777777778,
              "#fb9f3a"
             ],
             [
              0.8888888888888888,
              "#fdca26"
             ],
             [
              1,
              "#f0f921"
             ]
            ],
            "type": "surface"
           }
          ],
          "table": [
           {
            "cells": {
             "fill": {
              "color": "#EBF0F8"
             },
             "line": {
              "color": "white"
             }
            },
            "header": {
             "fill": {
              "color": "#C8D4E3"
             },
             "line": {
              "color": "white"
             }
            },
            "type": "table"
           }
          ]
         },
         "layout": {
          "annotationdefaults": {
           "arrowcolor": "#2a3f5f",
           "arrowhead": 0,
           "arrowwidth": 1
          },
          "autotypenumbers": "strict",
          "coloraxis": {
           "colorbar": {
            "outlinewidth": 0,
            "ticks": ""
           }
          },
          "colorscale": {
           "diverging": [
            [
             0,
             "#8e0152"
            ],
            [
             0.1,
             "#c51b7d"
            ],
            [
             0.2,
             "#de77ae"
            ],
            [
             0.3,
             "#f1b6da"
            ],
            [
             0.4,
             "#fde0ef"
            ],
            [
             0.5,
             "#f7f7f7"
            ],
            [
             0.6,
             "#e6f5d0"
            ],
            [
             0.7,
             "#b8e186"
            ],
            [
             0.8,
             "#7fbc41"
            ],
            [
             0.9,
             "#4d9221"
            ],
            [
             1,
             "#276419"
            ]
           ],
           "sequential": [
            [
             0,
             "#0d0887"
            ],
            [
             0.1111111111111111,
             "#46039f"
            ],
            [
             0.2222222222222222,
             "#7201a8"
            ],
            [
             0.3333333333333333,
             "#9c179e"
            ],
            [
             0.4444444444444444,
             "#bd3786"
            ],
            [
             0.5555555555555556,
             "#d8576b"
            ],
            [
             0.6666666666666666,
             "#ed7953"
            ],
            [
             0.7777777777777778,
             "#fb9f3a"
            ],
            [
             0.8888888888888888,
             "#fdca26"
            ],
            [
             1,
             "#f0f921"
            ]
           ],
           "sequentialminus": [
            [
             0,
             "#0d0887"
            ],
            [
             0.1111111111111111,
             "#46039f"
            ],
            [
             0.2222222222222222,
             "#7201a8"
            ],
            [
             0.3333333333333333,
             "#9c179e"
            ],
            [
             0.4444444444444444,
             "#bd3786"
            ],
            [
             0.5555555555555556,
             "#d8576b"
            ],
            [
             0.6666666666666666,
             "#ed7953"
            ],
            [
             0.7777777777777778,
             "#fb9f3a"
            ],
            [
             0.8888888888888888,
             "#fdca26"
            ],
            [
             1,
             "#f0f921"
            ]
           ]
          },
          "colorway": [
           "#636efa",
           "#EF553B",
           "#00cc96",
           "#ab63fa",
           "#FFA15A",
           "#19d3f3",
           "#FF6692",
           "#B6E880",
           "#FF97FF",
           "#FECB52"
          ],
          "font": {
           "color": "#2a3f5f"
          },
          "geo": {
           "bgcolor": "white",
           "lakecolor": "white",
           "landcolor": "#E5ECF6",
           "showlakes": true,
           "showland": true,
           "subunitcolor": "white"
          },
          "hoverlabel": {
           "align": "left"
          },
          "hovermode": "closest",
          "mapbox": {
           "style": "light"
          },
          "paper_bgcolor": "white",
          "plot_bgcolor": "#E5ECF6",
          "polar": {
           "angularaxis": {
            "gridcolor": "white",
            "linecolor": "white",
            "ticks": ""
           },
           "bgcolor": "#E5ECF6",
           "radialaxis": {
            "gridcolor": "white",
            "linecolor": "white",
            "ticks": ""
           }
          },
          "scene": {
           "xaxis": {
            "backgroundcolor": "#E5ECF6",
            "gridcolor": "white",
            "gridwidth": 2,
            "linecolor": "white",
            "showbackground": true,
            "ticks": "",
            "zerolinecolor": "white"
           },
           "yaxis": {
            "backgroundcolor": "#E5ECF6",
            "gridcolor": "white",
            "gridwidth": 2,
            "linecolor": "white",
            "showbackground": true,
            "ticks": "",
            "zerolinecolor": "white"
           },
           "zaxis": {
            "backgroundcolor": "#E5ECF6",
            "gridcolor": "white",
            "gridwidth": 2,
            "linecolor": "white",
            "showbackground": true,
            "ticks": "",
            "zerolinecolor": "white"
           }
          },
          "shapedefaults": {
           "line": {
            "color": "#2a3f5f"
           }
          },
          "ternary": {
           "aaxis": {
            "gridcolor": "white",
            "linecolor": "white",
            "ticks": ""
           },
           "baxis": {
            "gridcolor": "white",
            "linecolor": "white",
            "ticks": ""
           },
           "bgcolor": "#E5ECF6",
           "caxis": {
            "gridcolor": "white",
            "linecolor": "white",
            "ticks": ""
           }
          },
          "title": {
           "x": 0.05
          },
          "xaxis": {
           "automargin": true,
           "gridcolor": "white",
           "linecolor": "white",
           "ticks": "",
           "title": {
            "standoff": 15
           },
           "zerolinecolor": "white",
           "zerolinewidth": 2
          },
          "yaxis": {
           "automargin": true,
           "gridcolor": "white",
           "linecolor": "white",
           "ticks": "",
           "title": {
            "standoff": 15
           },
           "zerolinecolor": "white",
           "zerolinewidth": 2
          }
         }
        },
        "title": {
         "text": "Impact vs Stability (-10%)"
        },
        "xaxis": {
         "title": {
          "text": "Stability (TotalNPK_315 -10%)"
         }
        },
        "yaxis": {
         "title": {
          "text": "Normalized Impact"
         }
        }
       }
      }
     },
     "metadata": {},
     "output_type": "display_data"
    },
    {
     "data": {
      "text/html": [
       "<div>\n",
       "<style scoped>\n",
       "    .dataframe tbody tr th:only-of-type {\n",
       "        vertical-align: middle;\n",
       "    }\n",
       "\n",
       "    .dataframe tbody tr th {\n",
       "        vertical-align: top;\n",
       "    }\n",
       "\n",
       "    .dataframe thead th {\n",
       "        text-align: right;\n",
       "    }\n",
       "</style>\n",
       "<table border=\"1\" class=\"dataframe\">\n",
       "  <thead>\n",
       "    <tr style=\"text-align: right;\">\n",
       "      <th></th>\n",
       "      <th>District</th>\n",
       "      <th>Maize_Production_226 (TotalNPK_315 +10%)</th>\n",
       "      <th>Maize_Production_226 (TotalNPK_315 -10%)</th>\n",
       "      <th>Normalized Maize_Production_226 (TotalNPK_315 +10%)</th>\n",
       "      <th>Normalized Maize_Production_226 (TotalNPK_315 -10%)</th>\n",
       "      <th>Impact Score Maize_Production_226 (TotalNPK_315 +10%)</th>\n",
       "      <th>Impact Score Maize_Production_226 (TotalNPK_315 -10%)</th>\n",
       "      <th>Rice_Production_223 (TotalNPK_315 +10%)</th>\n",
       "      <th>Rice_Production_223 (TotalNPK_315 -10%)</th>\n",
       "      <th>Normalized Rice_Production_223 (TotalNPK_315 +10%)</th>\n",
       "      <th>Normalized Rice_Production_223 (TotalNPK_315 -10%)</th>\n",
       "      <th>Impact Score Rice_Production_223 (TotalNPK_315 +10%)</th>\n",
       "      <th>Impact Score Rice_Production_223 (TotalNPK_315 -10%)</th>\n",
       "      <th>New Stability(NPK + 10%)_Maize_Rice</th>\n",
       "      <th>New Stability(NPK - 10%)_Maize_Rice</th>\n",
       "    </tr>\n",
       "  </thead>\n",
       "  <tbody>\n",
       "    <tr>\n",
       "      <th>0</th>\n",
       "      <td>BENGALURU</td>\n",
       "      <td>66324.632613</td>\n",
       "      <td>54367.859761</td>\n",
       "      <td>0.098721</td>\n",
       "      <td>0.098721</td>\n",
       "      <td>0.101340</td>\n",
       "      <td>0.898660</td>\n",
       "      <td>68479.019211</td>\n",
       "      <td>57507.638667</td>\n",
       "      <td>0.098721</td>\n",
       "      <td>0.098721</td>\n",
       "      <td>0.090322</td>\n",
       "      <td>0.909678</td>\n",
       "      <td>0.959044</td>\n",
       "      <td>0.959044</td>\n",
       "    </tr>\n",
       "    <tr>\n",
       "      <th>1</th>\n",
       "      <td>BENGALURU(R)</td>\n",
       "      <td>54895.937738</td>\n",
       "      <td>45017.109409</td>\n",
       "      <td>0.075418</td>\n",
       "      <td>0.075418</td>\n",
       "      <td>0.078105</td>\n",
       "      <td>0.921895</td>\n",
       "      <td>57992.196208</td>\n",
       "      <td>48927.510755</td>\n",
       "      <td>0.075418</td>\n",
       "      <td>0.075418</td>\n",
       "      <td>0.069002</td>\n",
       "      <td>0.930998</td>\n",
       "      <td>0.976505</td>\n",
       "      <td>0.976505</td>\n",
       "    </tr>\n",
       "    <tr>\n",
       "      <th>2</th>\n",
       "      <td>RAMANAGARA</td>\n",
       "      <td>21642.413549</td>\n",
       "      <td>17809.680527</td>\n",
       "      <td>0.007616</td>\n",
       "      <td>0.007616</td>\n",
       "      <td>0.010500</td>\n",
       "      <td>0.989500</td>\n",
       "      <td>27479.191334</td>\n",
       "      <td>23962.324950</td>\n",
       "      <td>0.007616</td>\n",
       "      <td>0.007616</td>\n",
       "      <td>0.006968</td>\n",
       "      <td>0.993032</td>\n",
       "      <td>0.822250</td>\n",
       "      <td>0.822250</td>\n",
       "    </tr>\n",
       "    <tr>\n",
       "      <th>3</th>\n",
       "      <td>CHITRADURGA</td>\n",
       "      <td>101798.443858</td>\n",
       "      <td>83391.887143</td>\n",
       "      <td>0.171050</td>\n",
       "      <td>0.171050</td>\n",
       "      <td>0.173459</td>\n",
       "      <td>0.826541</td>\n",
       "      <td>101029.330849</td>\n",
       "      <td>84139.711825</td>\n",
       "      <td>0.171050</td>\n",
       "      <td>0.171050</td>\n",
       "      <td>0.156497</td>\n",
       "      <td>0.843503</td>\n",
       "      <td>0.668650</td>\n",
       "      <td>0.668650</td>\n",
       "    </tr>\n",
       "    <tr>\n",
       "      <th>4</th>\n",
       "      <td>DAVANAGERE</td>\n",
       "      <td>281678.371090</td>\n",
       "      <td>230566.373060</td>\n",
       "      <td>0.537816</td>\n",
       "      <td>0.537816</td>\n",
       "      <td>0.539159</td>\n",
       "      <td>0.460841</td>\n",
       "      <td>266084.831886</td>\n",
       "      <td>219185.121765</td>\n",
       "      <td>0.537816</td>\n",
       "      <td>0.537816</td>\n",
       "      <td>0.492058</td>\n",
       "      <td>0.507942</td>\n",
       "      <td>0.790058</td>\n",
       "      <td>0.790058</td>\n",
       "    </tr>\n",
       "  </tbody>\n",
       "</table>\n",
       "</div>"
      ],
      "text/plain": [
       "       District  Maize_Production_226 (TotalNPK_315 +10%)  \\\n",
       "0     BENGALURU                              66324.632613   \n",
       "1  BENGALURU(R)                              54895.937738   \n",
       "2    RAMANAGARA                              21642.413549   \n",
       "3   CHITRADURGA                             101798.443858   \n",
       "4    DAVANAGERE                             281678.371090   \n",
       "\n",
       "   Maize_Production_226 (TotalNPK_315 -10%)  \\\n",
       "0                              54367.859761   \n",
       "1                              45017.109409   \n",
       "2                              17809.680527   \n",
       "3                              83391.887143   \n",
       "4                             230566.373060   \n",
       "\n",
       "   Normalized Maize_Production_226 (TotalNPK_315 +10%)  \\\n",
       "0                                           0.098721     \n",
       "1                                           0.075418     \n",
       "2                                           0.007616     \n",
       "3                                           0.171050     \n",
       "4                                           0.537816     \n",
       "\n",
       "   Normalized Maize_Production_226 (TotalNPK_315 -10%)  \\\n",
       "0                                           0.098721     \n",
       "1                                           0.075418     \n",
       "2                                           0.007616     \n",
       "3                                           0.171050     \n",
       "4                                           0.537816     \n",
       "\n",
       "   Impact Score Maize_Production_226 (TotalNPK_315 +10%)  \\\n",
       "0                                           0.101340       \n",
       "1                                           0.078105       \n",
       "2                                           0.010500       \n",
       "3                                           0.173459       \n",
       "4                                           0.539159       \n",
       "\n",
       "   Impact Score Maize_Production_226 (TotalNPK_315 -10%)  \\\n",
       "0                                           0.898660       \n",
       "1                                           0.921895       \n",
       "2                                           0.989500       \n",
       "3                                           0.826541       \n",
       "4                                           0.460841       \n",
       "\n",
       "   Rice_Production_223 (TotalNPK_315 +10%)  \\\n",
       "0                             68479.019211   \n",
       "1                             57992.196208   \n",
       "2                             27479.191334   \n",
       "3                            101029.330849   \n",
       "4                            266084.831886   \n",
       "\n",
       "   Rice_Production_223 (TotalNPK_315 -10%)  \\\n",
       "0                             57507.638667   \n",
       "1                             48927.510755   \n",
       "2                             23962.324950   \n",
       "3                             84139.711825   \n",
       "4                            219185.121765   \n",
       "\n",
       "   Normalized Rice_Production_223 (TotalNPK_315 +10%)  \\\n",
       "0                                           0.098721    \n",
       "1                                           0.075418    \n",
       "2                                           0.007616    \n",
       "3                                           0.171050    \n",
       "4                                           0.537816    \n",
       "\n",
       "   Normalized Rice_Production_223 (TotalNPK_315 -10%)  \\\n",
       "0                                           0.098721    \n",
       "1                                           0.075418    \n",
       "2                                           0.007616    \n",
       "3                                           0.171050    \n",
       "4                                           0.537816    \n",
       "\n",
       "   Impact Score Rice_Production_223 (TotalNPK_315 +10%)  \\\n",
       "0                                           0.090322      \n",
       "1                                           0.069002      \n",
       "2                                           0.006968      \n",
       "3                                           0.156497      \n",
       "4                                           0.492058      \n",
       "\n",
       "   Impact Score Rice_Production_223 (TotalNPK_315 -10%)  \\\n",
       "0                                           0.909678      \n",
       "1                                           0.930998      \n",
       "2                                           0.993032      \n",
       "3                                           0.843503      \n",
       "4                                           0.507942      \n",
       "\n",
       "   New Stability(NPK + 10%)_Maize_Rice  New Stability(NPK - 10%)_Maize_Rice  \n",
       "0                             0.959044                             0.959044  \n",
       "1                             0.976505                             0.976505  \n",
       "2                             0.822250                             0.822250  \n",
       "3                             0.668650                             0.668650  \n",
       "4                             0.790058                             0.790058  "
      ]
     },
     "execution_count": 28,
     "metadata": {},
     "output_type": "execute_result"
    }
   ],
   "source": [
    "base_column = \"TotalNPK_315\"\n",
    "capability_vector = [\"Maize_Production_226\", \"Rice_Production_223\"]\n",
    "change_percentage = 10\n",
    "dim = 2\n",
    "\n",
    "new_data, handle_increase, handle_decrease = calc_and_vis_impact_stability(G, existing_data.copy(), adjacency_file, base_column, capability_vector, change_percentage, dim)\n",
    "new_data.head()"
   ]
  },
  {
   "cell_type": "code",
   "execution_count": 48,
   "metadata": {},
   "outputs": [
    {
     "name": "stdout",
     "output_type": "stream",
     "text": [
      "2.564730341506419 562.38192631683\n",
      "2.353363480056113 8136.426218911565\n",
      "0.009814190872938423 364.522399314813\n"
     ]
    },
    {
     "data": {
      "application/vnd.plotly.v1+json": {
       "config": {
        "plotlyServerURL": "https://plot.ly"
       },
       "data": [
        {
         "hovertemplate": "%{text}<br>Impact: %{y:.2f}<br>Stability: %{x:.2f}",
         "marker": {
          "color": "red",
          "size": 7,
          "symbol": "star"
         },
         "mode": "markers",
         "name": "Maize_Production_226 +20%",
         "text": [
          "BENGALURU",
          "BENGALURU(R)",
          "RAMANAGARA",
          "CHITRADURGA",
          "DAVANAGERE",
          "KOLAR",
          "CHIKKABALLAPURA",
          "SHIVAMOGGA",
          "TUMAKURU",
          "CHIKKAMAGALURU",
          "DAKSHINA KANNADA",
          "UDUPI",
          "HASSAN",
          "KODAGU",
          "MANDYA",
          "MYSURU",
          "CHAMARAJANAGAR",
          "BELAGAVI",
          "VIJAYAPURA",
          "BAGALKOT",
          "DHARAWAD",
          "GADAG",
          "HAVERI",
          "UTTARA KANNADA",
          "BALLARI",
          "BIDAR",
          "KALABURAGI",
          "YADGIRI",
          "RAICHUR",
          "KOPPAL"
         ],
         "type": "scatter",
         "x": [
          0.9590442729122614,
          0.9765052391752486,
          0.8222502261381797,
          0.6686503866852201,
          0.7900581835459942,
          1,
          0.9972504351838053,
          0.9678123842563559,
          0.9888021812136775,
          0.850936415487983,
          0.8095920216384356,
          0.7639456796171662,
          0.8601165048161652,
          0.9462974084736767,
          0.8588396049480362,
          0.910524168379611,
          0.8665083822377129,
          0,
          0.6325317294369196,
          0.974963220266703,
          0.7634273694337913,
          0.4888527035009978,
          0.9683541813306025,
          0.6144347726001684,
          0.6106021055075407,
          0.7942327017204209,
          0.9903543889006119,
          0.8909298300237722,
          0.7762892089664343,
          0.9102825362300663
         ],
         "y": [
          0.12939196266158162,
          0.10688246470228889,
          0.04138766034628153,
          0.19925975514248717,
          0.5535440281329872,
          0.12316865046350518,
          0.15743576325416403,
          0.314418813450645,
          0.2118397362285992,
          0.37695198798381707,
          0.10315403391219122,
          0.03403081628355533,
          0.38010809631284176,
          0.22739246019504222,
          0.3363615454776123,
          0.34445185133511225,
          0.13213133133448493,
          1,
          0.3011887185009839,
          0.4711295937384592,
          0.20757787867866648,
          0.12922526679913324,
          0.3610492027062322,
          0.08497307184781046,
          0.6851504115360607,
          0.13688216341426662,
          0.299916273417627,
          0.5076748833159145,
          0.6512889253440266,
          0.40856308003279684
         ]
        },
        {
         "hovertemplate": "%{text}<br>Impact: %{y:.2f}<br>Stability: %{x:.2f}",
         "marker": {
          "color": "blue",
          "size": 7,
          "symbol": "circle"
         },
         "mode": "markers",
         "name": "Rice_Production_223 +20%",
         "text": [
          "BENGALURU",
          "BENGALURU(R)",
          "RAMANAGARA",
          "CHITRADURGA",
          "DAVANAGERE",
          "KOLAR",
          "CHIKKABALLAPURA",
          "SHIVAMOGGA",
          "TUMAKURU",
          "CHIKKAMAGALURU",
          "DAKSHINA KANNADA",
          "UDUPI",
          "HASSAN",
          "KODAGU",
          "MANDYA",
          "MYSURU",
          "CHAMARAJANAGAR",
          "BELAGAVI",
          "VIJAYAPURA",
          "BAGALKOT",
          "DHARAWAD",
          "GADAG",
          "HAVERI",
          "UTTARA KANNADA",
          "BALLARI",
          "BIDAR",
          "KALABURAGI",
          "YADGIRI",
          "RAICHUR",
          "KOPPAL"
         ],
         "type": "scatter",
         "x": [
          0.9590442729122614,
          0.9765052391752486,
          0.8222502261381797,
          0.6686503866852201,
          0.7900581835459942,
          1,
          0.9972504351838053,
          0.9678123842563559,
          0.9888021812136775,
          0.850936415487983,
          0.8095920216384356,
          0.7639456796171662,
          0.8601165048161652,
          0.9462974084736767,
          0.8588396049480362,
          0.910524168379611,
          0.8665083822377129,
          0,
          0.6325317294369196,
          0.974963220266703,
          0.7634273694337913,
          0.4888527035009978,
          0.9683541813306025,
          0.6144347726001684,
          0.6106021055075407,
          0.7942327017204209,
          0.9903543889006119,
          0.8909298300237722,
          0.7762892089664343,
          0.9102825362300663
         ],
         "y": [
          0.11871762275227489,
          0.09806319776477959,
          0.037966010075910835,
          0.18282740793933122,
          0.5079140870809501,
          0.11300719175104189,
          0.14445025245158097,
          0.2884958744576822,
          0.19437063632039517,
          0.34587550882185697,
          0.09464203776314797,
          0.03121546485659617,
          0.3487715131153394,
          0.20864161522436928,
          0.30863024233613634,
          0.31605380263773974,
          0.12123123211263895,
          0.9175763282301166,
          0.27635610998095395,
          0.4322916651074795,
          0.19046001080437208,
          0.1185646647790275,
          0.33128331817406353,
          0.07795942148097447,
          0.6286744069597026,
          0.12559053435018738,
          0.27518853078516603,
          0.4658251514423984,
          0.5976035439940655,
          0.37488143914865546
         ]
        },
        {
         "hovertemplate": "%{text}<br>Impact: %{y:.2f}<br>Stability: %{x:.2f}",
         "marker": {
          "color": "green",
          "size": 7,
          "symbol": "circle"
         },
         "mode": "markers",
         "name": "Jowar_Yield_278 +20%",
         "text": [
          "BENGALURU",
          "BENGALURU(R)",
          "RAMANAGARA",
          "CHITRADURGA",
          "DAVANAGERE",
          "KOLAR",
          "CHIKKABALLAPURA",
          "SHIVAMOGGA",
          "TUMAKURU",
          "CHIKKAMAGALURU",
          "DAKSHINA KANNADA",
          "UDUPI",
          "HASSAN",
          "KODAGU",
          "MANDYA",
          "MYSURU",
          "CHAMARAJANAGAR",
          "BELAGAVI",
          "VIJAYAPURA",
          "BAGALKOT",
          "DHARAWAD",
          "GADAG",
          "HAVERI",
          "UTTARA KANNADA",
          "BALLARI",
          "BIDAR",
          "KALABURAGI",
          "YADGIRI",
          "RAICHUR",
          "KOPPAL"
         ],
         "type": "scatter",
         "x": [
          0.9590442729122614,
          0.9765052391752486,
          0.8222502261381797,
          0.6686503866852201,
          0.7900581835459942,
          1,
          0.9972504351838053,
          0.9678123842563559,
          0.9888021812136775,
          0.850936415487983,
          0.8095920216384356,
          0.7639456796171662,
          0.8601165048161652,
          0.9462974084736767,
          0.8588396049480362,
          0.910524168379611,
          0.8665083822377129,
          0,
          0.6325317294369196,
          0.974963220266703,
          0.7634273694337913,
          0.4888527035009978,
          0.9683541813306025,
          0.6144347726001684,
          0.6106021055075407,
          0.7942327017204209,
          0.9903543889006119,
          0.8909298300237722,
          0.7762892089664343,
          0.9102825362300663
         ],
         "y": [
          0.0003649087302747259,
          0.00027877394025357927,
          0.000028151681557146304,
          0.0006322646546701583,
          0.0019879679900807463,
          0.0003410946189877136,
          0.00047222106926182164,
          0.0010729320264766895,
          0.0006804031796289031,
          0.001312221319712428,
          0.00026450673608073474,
          0,
          0.0013242984761508427,
          0.0007399171952470691,
          0.0011568980313627663,
          0.001187856376035884,
          0.0003753911917608841,
          0.0036963753237314657,
          0.0010223057773924265,
          0.0016726011163227493,
          0.0006640947659171726,
          0.0003642708522938249,
          0.0012513677603343681,
          0.00019493551096368063,
          0.002491572656002949,
          0.0003935707142165931,
          0.001017436642138206,
          0.0018124452323358534,
          0.002361998375482372,
          0.0014331842474908305
         ]
        }
       ],
       "layout": {
        "hovermode": "closest",
        "shapes": [
         {
          "line": {
           "color": "black",
           "dash": "dash"
          },
          "name": "Average Stability",
          "type": "line",
          "x0": 0.8150796080875854,
          "x1": 0.8150796080875854,
          "y0": 0,
          "y1": 1
         },
         {
          "line": {
           "color": "black",
           "dash": "dash"
          },
          "name": "Average Impact",
          "type": "line",
          "x0": 0,
          "x1": 1,
          "y0": 0.3005510142183059,
          "y1": 0.3005510142183059
         }
        ],
        "template": {
         "data": {
          "bar": [
           {
            "error_x": {
             "color": "#2a3f5f"
            },
            "error_y": {
             "color": "#2a3f5f"
            },
            "marker": {
             "line": {
              "color": "#E5ECF6",
              "width": 0.5
             },
             "pattern": {
              "fillmode": "overlay",
              "size": 10,
              "solidity": 0.2
             }
            },
            "type": "bar"
           }
          ],
          "barpolar": [
           {
            "marker": {
             "line": {
              "color": "#E5ECF6",
              "width": 0.5
             },
             "pattern": {
              "fillmode": "overlay",
              "size": 10,
              "solidity": 0.2
             }
            },
            "type": "barpolar"
           }
          ],
          "carpet": [
           {
            "aaxis": {
             "endlinecolor": "#2a3f5f",
             "gridcolor": "white",
             "linecolor": "white",
             "minorgridcolor": "white",
             "startlinecolor": "#2a3f5f"
            },
            "baxis": {
             "endlinecolor": "#2a3f5f",
             "gridcolor": "white",
             "linecolor": "white",
             "minorgridcolor": "white",
             "startlinecolor": "#2a3f5f"
            },
            "type": "carpet"
           }
          ],
          "choropleth": [
           {
            "colorbar": {
             "outlinewidth": 0,
             "ticks": ""
            },
            "type": "choropleth"
           }
          ],
          "contour": [
           {
            "colorbar": {
             "outlinewidth": 0,
             "ticks": ""
            },
            "colorscale": [
             [
              0,
              "#0d0887"
             ],
             [
              0.1111111111111111,
              "#46039f"
             ],
             [
              0.2222222222222222,
              "#7201a8"
             ],
             [
              0.3333333333333333,
              "#9c179e"
             ],
             [
              0.4444444444444444,
              "#bd3786"
             ],
             [
              0.5555555555555556,
              "#d8576b"
             ],
             [
              0.6666666666666666,
              "#ed7953"
             ],
             [
              0.7777777777777778,
              "#fb9f3a"
             ],
             [
              0.8888888888888888,
              "#fdca26"
             ],
             [
              1,
              "#f0f921"
             ]
            ],
            "type": "contour"
           }
          ],
          "contourcarpet": [
           {
            "colorbar": {
             "outlinewidth": 0,
             "ticks": ""
            },
            "type": "contourcarpet"
           }
          ],
          "heatmap": [
           {
            "colorbar": {
             "outlinewidth": 0,
             "ticks": ""
            },
            "colorscale": [
             [
              0,
              "#0d0887"
             ],
             [
              0.1111111111111111,
              "#46039f"
             ],
             [
              0.2222222222222222,
              "#7201a8"
             ],
             [
              0.3333333333333333,
              "#9c179e"
             ],
             [
              0.4444444444444444,
              "#bd3786"
             ],
             [
              0.5555555555555556,
              "#d8576b"
             ],
             [
              0.6666666666666666,
              "#ed7953"
             ],
             [
              0.7777777777777778,
              "#fb9f3a"
             ],
             [
              0.8888888888888888,
              "#fdca26"
             ],
             [
              1,
              "#f0f921"
             ]
            ],
            "type": "heatmap"
           }
          ],
          "heatmapgl": [
           {
            "colorbar": {
             "outlinewidth": 0,
             "ticks": ""
            },
            "colorscale": [
             [
              0,
              "#0d0887"
             ],
             [
              0.1111111111111111,
              "#46039f"
             ],
             [
              0.2222222222222222,
              "#7201a8"
             ],
             [
              0.3333333333333333,
              "#9c179e"
             ],
             [
              0.4444444444444444,
              "#bd3786"
             ],
             [
              0.5555555555555556,
              "#d8576b"
             ],
             [
              0.6666666666666666,
              "#ed7953"
             ],
             [
              0.7777777777777778,
              "#fb9f3a"
             ],
             [
              0.8888888888888888,
              "#fdca26"
             ],
             [
              1,
              "#f0f921"
             ]
            ],
            "type": "heatmapgl"
           }
          ],
          "histogram": [
           {
            "marker": {
             "pattern": {
              "fillmode": "overlay",
              "size": 10,
              "solidity": 0.2
             }
            },
            "type": "histogram"
           }
          ],
          "histogram2d": [
           {
            "colorbar": {
             "outlinewidth": 0,
             "ticks": ""
            },
            "colorscale": [
             [
              0,
              "#0d0887"
             ],
             [
              0.1111111111111111,
              "#46039f"
             ],
             [
              0.2222222222222222,
              "#7201a8"
             ],
             [
              0.3333333333333333,
              "#9c179e"
             ],
             [
              0.4444444444444444,
              "#bd3786"
             ],
             [
              0.5555555555555556,
              "#d8576b"
             ],
             [
              0.6666666666666666,
              "#ed7953"
             ],
             [
              0.7777777777777778,
              "#fb9f3a"
             ],
             [
              0.8888888888888888,
              "#fdca26"
             ],
             [
              1,
              "#f0f921"
             ]
            ],
            "type": "histogram2d"
           }
          ],
          "histogram2dcontour": [
           {
            "colorbar": {
             "outlinewidth": 0,
             "ticks": ""
            },
            "colorscale": [
             [
              0,
              "#0d0887"
             ],
             [
              0.1111111111111111,
              "#46039f"
             ],
             [
              0.2222222222222222,
              "#7201a8"
             ],
             [
              0.3333333333333333,
              "#9c179e"
             ],
             [
              0.4444444444444444,
              "#bd3786"
             ],
             [
              0.5555555555555556,
              "#d8576b"
             ],
             [
              0.6666666666666666,
              "#ed7953"
             ],
             [
              0.7777777777777778,
              "#fb9f3a"
             ],
             [
              0.8888888888888888,
              "#fdca26"
             ],
             [
              1,
              "#f0f921"
             ]
            ],
            "type": "histogram2dcontour"
           }
          ],
          "mesh3d": [
           {
            "colorbar": {
             "outlinewidth": 0,
             "ticks": ""
            },
            "type": "mesh3d"
           }
          ],
          "parcoords": [
           {
            "line": {
             "colorbar": {
              "outlinewidth": 0,
              "ticks": ""
             }
            },
            "type": "parcoords"
           }
          ],
          "pie": [
           {
            "automargin": true,
            "type": "pie"
           }
          ],
          "scatter": [
           {
            "fillpattern": {
             "fillmode": "overlay",
             "size": 10,
             "solidity": 0.2
            },
            "type": "scatter"
           }
          ],
          "scatter3d": [
           {
            "line": {
             "colorbar": {
              "outlinewidth": 0,
              "ticks": ""
             }
            },
            "marker": {
             "colorbar": {
              "outlinewidth": 0,
              "ticks": ""
             }
            },
            "type": "scatter3d"
           }
          ],
          "scattercarpet": [
           {
            "marker": {
             "colorbar": {
              "outlinewidth": 0,
              "ticks": ""
             }
            },
            "type": "scattercarpet"
           }
          ],
          "scattergeo": [
           {
            "marker": {
             "colorbar": {
              "outlinewidth": 0,
              "ticks": ""
             }
            },
            "type": "scattergeo"
           }
          ],
          "scattergl": [
           {
            "marker": {
             "colorbar": {
              "outlinewidth": 0,
              "ticks": ""
             }
            },
            "type": "scattergl"
           }
          ],
          "scattermapbox": [
           {
            "marker": {
             "colorbar": {
              "outlinewidth": 0,
              "ticks": ""
             }
            },
            "type": "scattermapbox"
           }
          ],
          "scatterpolar": [
           {
            "marker": {
             "colorbar": {
              "outlinewidth": 0,
              "ticks": ""
             }
            },
            "type": "scatterpolar"
           }
          ],
          "scatterpolargl": [
           {
            "marker": {
             "colorbar": {
              "outlinewidth": 0,
              "ticks": ""
             }
            },
            "type": "scatterpolargl"
           }
          ],
          "scatterternary": [
           {
            "marker": {
             "colorbar": {
              "outlinewidth": 0,
              "ticks": ""
             }
            },
            "type": "scatterternary"
           }
          ],
          "surface": [
           {
            "colorbar": {
             "outlinewidth": 0,
             "ticks": ""
            },
            "colorscale": [
             [
              0,
              "#0d0887"
             ],
             [
              0.1111111111111111,
              "#46039f"
             ],
             [
              0.2222222222222222,
              "#7201a8"
             ],
             [
              0.3333333333333333,
              "#9c179e"
             ],
             [
              0.4444444444444444,
              "#bd3786"
             ],
             [
              0.5555555555555556,
              "#d8576b"
             ],
             [
              0.6666666666666666,
              "#ed7953"
             ],
             [
              0.7777777777777778,
              "#fb9f3a"
             ],
             [
              0.8888888888888888,
              "#fdca26"
             ],
             [
              1,
              "#f0f921"
             ]
            ],
            "type": "surface"
           }
          ],
          "table": [
           {
            "cells": {
             "fill": {
              "color": "#EBF0F8"
             },
             "line": {
              "color": "white"
             }
            },
            "header": {
             "fill": {
              "color": "#C8D4E3"
             },
             "line": {
              "color": "white"
             }
            },
            "type": "table"
           }
          ]
         },
         "layout": {
          "annotationdefaults": {
           "arrowcolor": "#2a3f5f",
           "arrowhead": 0,
           "arrowwidth": 1
          },
          "autotypenumbers": "strict",
          "coloraxis": {
           "colorbar": {
            "outlinewidth": 0,
            "ticks": ""
           }
          },
          "colorscale": {
           "diverging": [
            [
             0,
             "#8e0152"
            ],
            [
             0.1,
             "#c51b7d"
            ],
            [
             0.2,
             "#de77ae"
            ],
            [
             0.3,
             "#f1b6da"
            ],
            [
             0.4,
             "#fde0ef"
            ],
            [
             0.5,
             "#f7f7f7"
            ],
            [
             0.6,
             "#e6f5d0"
            ],
            [
             0.7,
             "#b8e186"
            ],
            [
             0.8,
             "#7fbc41"
            ],
            [
             0.9,
             "#4d9221"
            ],
            [
             1,
             "#276419"
            ]
           ],
           "sequential": [
            [
             0,
             "#0d0887"
            ],
            [
             0.1111111111111111,
             "#46039f"
            ],
            [
             0.2222222222222222,
             "#7201a8"
            ],
            [
             0.3333333333333333,
             "#9c179e"
            ],
            [
             0.4444444444444444,
             "#bd3786"
            ],
            [
             0.5555555555555556,
             "#d8576b"
            ],
            [
             0.6666666666666666,
             "#ed7953"
            ],
            [
             0.7777777777777778,
             "#fb9f3a"
            ],
            [
             0.8888888888888888,
             "#fdca26"
            ],
            [
             1,
             "#f0f921"
            ]
           ],
           "sequentialminus": [
            [
             0,
             "#0d0887"
            ],
            [
             0.1111111111111111,
             "#46039f"
            ],
            [
             0.2222222222222222,
             "#7201a8"
            ],
            [
             0.3333333333333333,
             "#9c179e"
            ],
            [
             0.4444444444444444,
             "#bd3786"
            ],
            [
             0.5555555555555556,
             "#d8576b"
            ],
            [
             0.6666666666666666,
             "#ed7953"
            ],
            [
             0.7777777777777778,
             "#fb9f3a"
            ],
            [
             0.8888888888888888,
             "#fdca26"
            ],
            [
             1,
             "#f0f921"
            ]
           ]
          },
          "colorway": [
           "#636efa",
           "#EF553B",
           "#00cc96",
           "#ab63fa",
           "#FFA15A",
           "#19d3f3",
           "#FF6692",
           "#B6E880",
           "#FF97FF",
           "#FECB52"
          ],
          "font": {
           "color": "#2a3f5f"
          },
          "geo": {
           "bgcolor": "white",
           "lakecolor": "white",
           "landcolor": "#E5ECF6",
           "showlakes": true,
           "showland": true,
           "subunitcolor": "white"
          },
          "hoverlabel": {
           "align": "left"
          },
          "hovermode": "closest",
          "mapbox": {
           "style": "light"
          },
          "paper_bgcolor": "white",
          "plot_bgcolor": "#E5ECF6",
          "polar": {
           "angularaxis": {
            "gridcolor": "white",
            "linecolor": "white",
            "ticks": ""
           },
           "bgcolor": "#E5ECF6",
           "radialaxis": {
            "gridcolor": "white",
            "linecolor": "white",
            "ticks": ""
           }
          },
          "scene": {
           "xaxis": {
            "backgroundcolor": "#E5ECF6",
            "gridcolor": "white",
            "gridwidth": 2,
            "linecolor": "white",
            "showbackground": true,
            "ticks": "",
            "zerolinecolor": "white"
           },
           "yaxis": {
            "backgroundcolor": "#E5ECF6",
            "gridcolor": "white",
            "gridwidth": 2,
            "linecolor": "white",
            "showbackground": true,
            "ticks": "",
            "zerolinecolor": "white"
           },
           "zaxis": {
            "backgroundcolor": "#E5ECF6",
            "gridcolor": "white",
            "gridwidth": 2,
            "linecolor": "white",
            "showbackground": true,
            "ticks": "",
            "zerolinecolor": "white"
           }
          },
          "shapedefaults": {
           "line": {
            "color": "#2a3f5f"
           }
          },
          "ternary": {
           "aaxis": {
            "gridcolor": "white",
            "linecolor": "white",
            "ticks": ""
           },
           "baxis": {
            "gridcolor": "white",
            "linecolor": "white",
            "ticks": ""
           },
           "bgcolor": "#E5ECF6",
           "caxis": {
            "gridcolor": "white",
            "linecolor": "white",
            "ticks": ""
           }
          },
          "title": {
           "x": 0.05
          },
          "xaxis": {
           "automargin": true,
           "gridcolor": "white",
           "linecolor": "white",
           "ticks": "",
           "title": {
            "standoff": 15
           },
           "zerolinecolor": "white",
           "zerolinewidth": 2
          },
          "yaxis": {
           "automargin": true,
           "gridcolor": "white",
           "linecolor": "white",
           "ticks": "",
           "title": {
            "standoff": 15
           },
           "zerolinecolor": "white",
           "zerolinewidth": 2
          }
         }
        },
        "title": {
         "text": "Impact vs Stability (+20%)"
        },
        "xaxis": {
         "title": {
          "text": "Stability (TotalNPK_315 +20%)"
         }
        },
        "yaxis": {
         "title": {
          "text": "Normalized Impact"
         }
        }
       }
      }
     },
     "metadata": {},
     "output_type": "display_data"
    },
    {
     "data": {
      "application/vnd.plotly.v1+json": {
       "config": {
        "plotlyServerURL": "https://plot.ly"
       },
       "data": [
        {
         "hovertemplate": "%{text}<br>Impact: %{y:.2f}<br>Stability: %{x:.2f}",
         "marker": {
          "color": "red",
          "size": 7,
          "symbol": "star"
         },
         "mode": "markers",
         "name": "Maize_Production_226 -20%",
         "text": [
          "BENGALURU",
          "BENGALURU(R)",
          "RAMANAGARA",
          "CHITRADURGA",
          "DAVANAGERE",
          "KOLAR",
          "CHIKKABALLAPURA",
          "SHIVAMOGGA",
          "TUMAKURU",
          "CHIKKAMAGALURU",
          "DAKSHINA KANNADA",
          "UDUPI",
          "HASSAN",
          "KODAGU",
          "MANDYA",
          "MYSURU",
          "CHAMARAJANAGAR",
          "BELAGAVI",
          "VIJAYAPURA",
          "BAGALKOT",
          "DHARAWAD",
          "GADAG",
          "HAVERI",
          "UTTARA KANNADA",
          "BALLARI",
          "BIDAR",
          "KALABURAGI",
          "YADGIRI",
          "RAICHUR",
          "KOPPAL"
         ],
         "type": "scatter",
         "x": [
          0.9590442729122615,
          0.9765052391752487,
          0.8222502261381796,
          0.66865038668522,
          0.7900581835459943,
          1,
          0.9972504351838053,
          0.9678123842563559,
          0.9888021812136775,
          0.8509364154879833,
          0.8095920216384358,
          0.7639456796171662,
          0.8601165048161653,
          0.9462974084736768,
          0.8588396049480362,
          0.910524168379611,
          0.8665083822377131,
          0,
          0.6325317294369197,
          0.974963220266703,
          0.7634273694337913,
          0.48885270350099774,
          0.9683541813306025,
          0.6144347726001685,
          0.6106021055075406,
          0.7942327017204209,
          0.9903543889006119,
          0.8909298300237722,
          0.7762892089664344,
          0.9102825362300664
         ],
         "y": [
          0.8706080373384182,
          0.8931175352977111,
          0.9586123396537184,
          0.8007402448575124,
          0.4464559718670125,
          0.8768313495364948,
          0.8425642367458358,
          0.6855811865493553,
          0.7881602637714006,
          0.6230480120161824,
          0.8968459660878088,
          0.9659691837164446,
          0.6198919036871577,
          0.7726075398049576,
          0.6636384545223867,
          0.6555481486648874,
          0.8678686686655149,
          0,
          0.698811281499016,
          0.5288704062615399,
          0.7924221213213335,
          0.8707747332008666,
          0.638950797293767,
          0.9150269281521894,
          0.31484958846393823,
          0.8631178365857333,
          0.7000837265823728,
          0.49232511668408524,
          0.3487110746559721,
          0.5914369199672024
         ]
        },
        {
         "hovertemplate": "%{text}<br>Impact: %{y:.2f}<br>Stability: %{x:.2f}",
         "marker": {
          "color": "blue",
          "size": 7,
          "symbol": "circle"
         },
         "mode": "markers",
         "name": "Rice_Production_223 -20%",
         "text": [
          "BENGALURU",
          "BENGALURU(R)",
          "RAMANAGARA",
          "CHITRADURGA",
          "DAVANAGERE",
          "KOLAR",
          "CHIKKABALLAPURA",
          "SHIVAMOGGA",
          "TUMAKURU",
          "CHIKKAMAGALURU",
          "DAKSHINA KANNADA",
          "UDUPI",
          "HASSAN",
          "KODAGU",
          "MANDYA",
          "MYSURU",
          "CHAMARAJANAGAR",
          "BELAGAVI",
          "VIJAYAPURA",
          "BAGALKOT",
          "DHARAWAD",
          "GADAG",
          "HAVERI",
          "UTTARA KANNADA",
          "BALLARI",
          "BIDAR",
          "KALABURAGI",
          "YADGIRI",
          "RAICHUR",
          "KOPPAL"
         ],
         "type": "scatter",
         "x": [
          0.9590442729122615,
          0.9765052391752487,
          0.8222502261381796,
          0.66865038668522,
          0.7900581835459943,
          1,
          0.9972504351838053,
          0.9678123842563559,
          0.9888021812136775,
          0.8509364154879833,
          0.8095920216384358,
          0.7639456796171662,
          0.8601165048161653,
          0.9462974084736768,
          0.8588396049480362,
          0.910524168379611,
          0.8665083822377131,
          0,
          0.6325317294369197,
          0.974963220266703,
          0.7634273694337913,
          0.48885270350099774,
          0.9683541813306025,
          0.6144347726001685,
          0.6106021055075406,
          0.7942327017204209,
          0.9903543889006119,
          0.8909298300237722,
          0.7762892089664344,
          0.9102825362300664
         ],
         "y": [
          0.8812823772477251,
          0.9019368022352204,
          0.9620339899240892,
          0.8171725920606686,
          0.49208591291904924,
          0.886992808248958,
          0.855549747548419,
          0.7115041255423173,
          0.8056293636796048,
          0.6541244911781425,
          0.9053579622368519,
          0.9687845351434038,
          0.6512284868846601,
          0.7913583847756306,
          0.691369757663863,
          0.6839461973622604,
          0.8787687678873609,
          0.08242367176988287,
          0.7236438900190458,
          0.5677083348925198,
          0.8095399891956278,
          0.8814353352209723,
          0.6687166818259364,
          0.9220405785190254,
          0.37132559304029694,
          0.8744094656498125,
          0.7248114692148335,
          0.5341748485576009,
          0.4023964560059335,
          0.6251185608513442
         ]
        },
        {
         "hovertemplate": "%{text}<br>Impact: %{y:.2f}<br>Stability: %{x:.2f}",
         "marker": {
          "color": "green",
          "size": 7,
          "symbol": "circle"
         },
         "mode": "markers",
         "name": "Jowar_Yield_278 -20%",
         "text": [
          "BENGALURU",
          "BENGALURU(R)",
          "RAMANAGARA",
          "CHITRADURGA",
          "DAVANAGERE",
          "KOLAR",
          "CHIKKABALLAPURA",
          "SHIVAMOGGA",
          "TUMAKURU",
          "CHIKKAMAGALURU",
          "DAKSHINA KANNADA",
          "UDUPI",
          "HASSAN",
          "KODAGU",
          "MANDYA",
          "MYSURU",
          "CHAMARAJANAGAR",
          "BELAGAVI",
          "VIJAYAPURA",
          "BAGALKOT",
          "DHARAWAD",
          "GADAG",
          "HAVERI",
          "UTTARA KANNADA",
          "BALLARI",
          "BIDAR",
          "KALABURAGI",
          "YADGIRI",
          "RAICHUR",
          "KOPPAL"
         ],
         "type": "scatter",
         "x": [
          0.9590442729122615,
          0.9765052391752487,
          0.8222502261381796,
          0.66865038668522,
          0.7900581835459943,
          1,
          0.9972504351838053,
          0.9678123842563559,
          0.9888021812136775,
          0.8509364154879833,
          0.8095920216384358,
          0.7639456796171662,
          0.8601165048161653,
          0.9462974084736768,
          0.8588396049480362,
          0.910524168379611,
          0.8665083822377131,
          0,
          0.6325317294369197,
          0.974963220266703,
          0.7634273694337913,
          0.48885270350099774,
          0.9683541813306025,
          0.6144347726001685,
          0.6106021055075406,
          0.7942327017204209,
          0.9903543889006119,
          0.8909298300237722,
          0.7762892089664344,
          0.9102825362300664
         ],
         "y": [
          0.9996350912697252,
          0.9997212260597464,
          0.9999718483184428,
          0.9993677353453297,
          0.9980120320099192,
          0.9996589053810122,
          0.9995277789307382,
          0.9989270679735233,
          0.9993195968203711,
          0.9986877786802875,
          0.9997354932639192,
          1,
          0.9986757015238491,
          0.9992600828047529,
          0.9988431019686372,
          0.998812143623964,
          0.9996246088082391,
          0.9963036246762684,
          0.9989776942226075,
          0.9983273988836772,
          0.9993359052340828,
          0.999635729147706,
          0.9987486322396657,
          0.9998050644890362,
          0.997508427343997,
          0.9996064292857832,
          0.9989825633578617,
          0.9981875547676641,
          0.9976380016245175,
          0.998566815752509
         ]
        }
       ],
       "layout": {
        "hovermode": "closest",
        "shapes": [
         {
          "line": {
           "color": "black",
           "dash": "dash"
          },
          "name": "Average Stability",
          "type": "line",
          "x0": 0.8150796080875853,
          "x1": 0.8150796080875853,
          "y0": 0,
          "y1": 1
         },
         {
          "line": {
           "color": "black",
           "dash": "dash"
          },
          "name": "Average Impact",
          "type": "line",
          "x0": 0,
          "x1": 1,
          "y0": 0.6994489857816938,
          "y1": 0.6994489857816938
         }
        ],
        "template": {
         "data": {
          "bar": [
           {
            "error_x": {
             "color": "#2a3f5f"
            },
            "error_y": {
             "color": "#2a3f5f"
            },
            "marker": {
             "line": {
              "color": "#E5ECF6",
              "width": 0.5
             },
             "pattern": {
              "fillmode": "overlay",
              "size": 10,
              "solidity": 0.2
             }
            },
            "type": "bar"
           }
          ],
          "barpolar": [
           {
            "marker": {
             "line": {
              "color": "#E5ECF6",
              "width": 0.5
             },
             "pattern": {
              "fillmode": "overlay",
              "size": 10,
              "solidity": 0.2
             }
            },
            "type": "barpolar"
           }
          ],
          "carpet": [
           {
            "aaxis": {
             "endlinecolor": "#2a3f5f",
             "gridcolor": "white",
             "linecolor": "white",
             "minorgridcolor": "white",
             "startlinecolor": "#2a3f5f"
            },
            "baxis": {
             "endlinecolor": "#2a3f5f",
             "gridcolor": "white",
             "linecolor": "white",
             "minorgridcolor": "white",
             "startlinecolor": "#2a3f5f"
            },
            "type": "carpet"
           }
          ],
          "choropleth": [
           {
            "colorbar": {
             "outlinewidth": 0,
             "ticks": ""
            },
            "type": "choropleth"
           }
          ],
          "contour": [
           {
            "colorbar": {
             "outlinewidth": 0,
             "ticks": ""
            },
            "colorscale": [
             [
              0,
              "#0d0887"
             ],
             [
              0.1111111111111111,
              "#46039f"
             ],
             [
              0.2222222222222222,
              "#7201a8"
             ],
             [
              0.3333333333333333,
              "#9c179e"
             ],
             [
              0.4444444444444444,
              "#bd3786"
             ],
             [
              0.5555555555555556,
              "#d8576b"
             ],
             [
              0.6666666666666666,
              "#ed7953"
             ],
             [
              0.7777777777777778,
              "#fb9f3a"
             ],
             [
              0.8888888888888888,
              "#fdca26"
             ],
             [
              1,
              "#f0f921"
             ]
            ],
            "type": "contour"
           }
          ],
          "contourcarpet": [
           {
            "colorbar": {
             "outlinewidth": 0,
             "ticks": ""
            },
            "type": "contourcarpet"
           }
          ],
          "heatmap": [
           {
            "colorbar": {
             "outlinewidth": 0,
             "ticks": ""
            },
            "colorscale": [
             [
              0,
              "#0d0887"
             ],
             [
              0.1111111111111111,
              "#46039f"
             ],
             [
              0.2222222222222222,
              "#7201a8"
             ],
             [
              0.3333333333333333,
              "#9c179e"
             ],
             [
              0.4444444444444444,
              "#bd3786"
             ],
             [
              0.5555555555555556,
              "#d8576b"
             ],
             [
              0.6666666666666666,
              "#ed7953"
             ],
             [
              0.7777777777777778,
              "#fb9f3a"
             ],
             [
              0.8888888888888888,
              "#fdca26"
             ],
             [
              1,
              "#f0f921"
             ]
            ],
            "type": "heatmap"
           }
          ],
          "heatmapgl": [
           {
            "colorbar": {
             "outlinewidth": 0,
             "ticks": ""
            },
            "colorscale": [
             [
              0,
              "#0d0887"
             ],
             [
              0.1111111111111111,
              "#46039f"
             ],
             [
              0.2222222222222222,
              "#7201a8"
             ],
             [
              0.3333333333333333,
              "#9c179e"
             ],
             [
              0.4444444444444444,
              "#bd3786"
             ],
             [
              0.5555555555555556,
              "#d8576b"
             ],
             [
              0.6666666666666666,
              "#ed7953"
             ],
             [
              0.7777777777777778,
              "#fb9f3a"
             ],
             [
              0.8888888888888888,
              "#fdca26"
             ],
             [
              1,
              "#f0f921"
             ]
            ],
            "type": "heatmapgl"
           }
          ],
          "histogram": [
           {
            "marker": {
             "pattern": {
              "fillmode": "overlay",
              "size": 10,
              "solidity": 0.2
             }
            },
            "type": "histogram"
           }
          ],
          "histogram2d": [
           {
            "colorbar": {
             "outlinewidth": 0,
             "ticks": ""
            },
            "colorscale": [
             [
              0,
              "#0d0887"
             ],
             [
              0.1111111111111111,
              "#46039f"
             ],
             [
              0.2222222222222222,
              "#7201a8"
             ],
             [
              0.3333333333333333,
              "#9c179e"
             ],
             [
              0.4444444444444444,
              "#bd3786"
             ],
             [
              0.5555555555555556,
              "#d8576b"
             ],
             [
              0.6666666666666666,
              "#ed7953"
             ],
             [
              0.7777777777777778,
              "#fb9f3a"
             ],
             [
              0.8888888888888888,
              "#fdca26"
             ],
             [
              1,
              "#f0f921"
             ]
            ],
            "type": "histogram2d"
           }
          ],
          "histogram2dcontour": [
           {
            "colorbar": {
             "outlinewidth": 0,
             "ticks": ""
            },
            "colorscale": [
             [
              0,
              "#0d0887"
             ],
             [
              0.1111111111111111,
              "#46039f"
             ],
             [
              0.2222222222222222,
              "#7201a8"
             ],
             [
              0.3333333333333333,
              "#9c179e"
             ],
             [
              0.4444444444444444,
              "#bd3786"
             ],
             [
              0.5555555555555556,
              "#d8576b"
             ],
             [
              0.6666666666666666,
              "#ed7953"
             ],
             [
              0.7777777777777778,
              "#fb9f3a"
             ],
             [
              0.8888888888888888,
              "#fdca26"
             ],
             [
              1,
              "#f0f921"
             ]
            ],
            "type": "histogram2dcontour"
           }
          ],
          "mesh3d": [
           {
            "colorbar": {
             "outlinewidth": 0,
             "ticks": ""
            },
            "type": "mesh3d"
           }
          ],
          "parcoords": [
           {
            "line": {
             "colorbar": {
              "outlinewidth": 0,
              "ticks": ""
             }
            },
            "type": "parcoords"
           }
          ],
          "pie": [
           {
            "automargin": true,
            "type": "pie"
           }
          ],
          "scatter": [
           {
            "fillpattern": {
             "fillmode": "overlay",
             "size": 10,
             "solidity": 0.2
            },
            "type": "scatter"
           }
          ],
          "scatter3d": [
           {
            "line": {
             "colorbar": {
              "outlinewidth": 0,
              "ticks": ""
             }
            },
            "marker": {
             "colorbar": {
              "outlinewidth": 0,
              "ticks": ""
             }
            },
            "type": "scatter3d"
           }
          ],
          "scattercarpet": [
           {
            "marker": {
             "colorbar": {
              "outlinewidth": 0,
              "ticks": ""
             }
            },
            "type": "scattercarpet"
           }
          ],
          "scattergeo": [
           {
            "marker": {
             "colorbar": {
              "outlinewidth": 0,
              "ticks": ""
             }
            },
            "type": "scattergeo"
           }
          ],
          "scattergl": [
           {
            "marker": {
             "colorbar": {
              "outlinewidth": 0,
              "ticks": ""
             }
            },
            "type": "scattergl"
           }
          ],
          "scattermapbox": [
           {
            "marker": {
             "colorbar": {
              "outlinewidth": 0,
              "ticks": ""
             }
            },
            "type": "scattermapbox"
           }
          ],
          "scatterpolar": [
           {
            "marker": {
             "colorbar": {
              "outlinewidth": 0,
              "ticks": ""
             }
            },
            "type": "scatterpolar"
           }
          ],
          "scatterpolargl": [
           {
            "marker": {
             "colorbar": {
              "outlinewidth": 0,
              "ticks": ""
             }
            },
            "type": "scatterpolargl"
           }
          ],
          "scatterternary": [
           {
            "marker": {
             "colorbar": {
              "outlinewidth": 0,
              "ticks": ""
             }
            },
            "type": "scatterternary"
           }
          ],
          "surface": [
           {
            "colorbar": {
             "outlinewidth": 0,
             "ticks": ""
            },
            "colorscale": [
             [
              0,
              "#0d0887"
             ],
             [
              0.1111111111111111,
              "#46039f"
             ],
             [
              0.2222222222222222,
              "#7201a8"
             ],
             [
              0.3333333333333333,
              "#9c179e"
             ],
             [
              0.4444444444444444,
              "#bd3786"
             ],
             [
              0.5555555555555556,
              "#d8576b"
             ],
             [
              0.6666666666666666,
              "#ed7953"
             ],
             [
              0.7777777777777778,
              "#fb9f3a"
             ],
             [
              0.8888888888888888,
              "#fdca26"
             ],
             [
              1,
              "#f0f921"
             ]
            ],
            "type": "surface"
           }
          ],
          "table": [
           {
            "cells": {
             "fill": {
              "color": "#EBF0F8"
             },
             "line": {
              "color": "white"
             }
            },
            "header": {
             "fill": {
              "color": "#C8D4E3"
             },
             "line": {
              "color": "white"
             }
            },
            "type": "table"
           }
          ]
         },
         "layout": {
          "annotationdefaults": {
           "arrowcolor": "#2a3f5f",
           "arrowhead": 0,
           "arrowwidth": 1
          },
          "autotypenumbers": "strict",
          "coloraxis": {
           "colorbar": {
            "outlinewidth": 0,
            "ticks": ""
           }
          },
          "colorscale": {
           "diverging": [
            [
             0,
             "#8e0152"
            ],
            [
             0.1,
             "#c51b7d"
            ],
            [
             0.2,
             "#de77ae"
            ],
            [
             0.3,
             "#f1b6da"
            ],
            [
             0.4,
             "#fde0ef"
            ],
            [
             0.5,
             "#f7f7f7"
            ],
            [
             0.6,
             "#e6f5d0"
            ],
            [
             0.7,
             "#b8e186"
            ],
            [
             0.8,
             "#7fbc41"
            ],
            [
             0.9,
             "#4d9221"
            ],
            [
             1,
             "#276419"
            ]
           ],
           "sequential": [
            [
             0,
             "#0d0887"
            ],
            [
             0.1111111111111111,
             "#46039f"
            ],
            [
             0.2222222222222222,
             "#7201a8"
            ],
            [
             0.3333333333333333,
             "#9c179e"
            ],
            [
             0.4444444444444444,
             "#bd3786"
            ],
            [
             0.5555555555555556,
             "#d8576b"
            ],
            [
             0.6666666666666666,
             "#ed7953"
            ],
            [
             0.7777777777777778,
             "#fb9f3a"
            ],
            [
             0.8888888888888888,
             "#fdca26"
            ],
            [
             1,
             "#f0f921"
            ]
           ],
           "sequentialminus": [
            [
             0,
             "#0d0887"
            ],
            [
             0.1111111111111111,
             "#46039f"
            ],
            [
             0.2222222222222222,
             "#7201a8"
            ],
            [
             0.3333333333333333,
             "#9c179e"
            ],
            [
             0.4444444444444444,
             "#bd3786"
            ],
            [
             0.5555555555555556,
             "#d8576b"
            ],
            [
             0.6666666666666666,
             "#ed7953"
            ],
            [
             0.7777777777777778,
             "#fb9f3a"
            ],
            [
             0.8888888888888888,
             "#fdca26"
            ],
            [
             1,
             "#f0f921"
            ]
           ]
          },
          "colorway": [
           "#636efa",
           "#EF553B",
           "#00cc96",
           "#ab63fa",
           "#FFA15A",
           "#19d3f3",
           "#FF6692",
           "#B6E880",
           "#FF97FF",
           "#FECB52"
          ],
          "font": {
           "color": "#2a3f5f"
          },
          "geo": {
           "bgcolor": "white",
           "lakecolor": "white",
           "landcolor": "#E5ECF6",
           "showlakes": true,
           "showland": true,
           "subunitcolor": "white"
          },
          "hoverlabel": {
           "align": "left"
          },
          "hovermode": "closest",
          "mapbox": {
           "style": "light"
          },
          "paper_bgcolor": "white",
          "plot_bgcolor": "#E5ECF6",
          "polar": {
           "angularaxis": {
            "gridcolor": "white",
            "linecolor": "white",
            "ticks": ""
           },
           "bgcolor": "#E5ECF6",
           "radialaxis": {
            "gridcolor": "white",
            "linecolor": "white",
            "ticks": ""
           }
          },
          "scene": {
           "xaxis": {
            "backgroundcolor": "#E5ECF6",
            "gridcolor": "white",
            "gridwidth": 2,
            "linecolor": "white",
            "showbackground": true,
            "ticks": "",
            "zerolinecolor": "white"
           },
           "yaxis": {
            "backgroundcolor": "#E5ECF6",
            "gridcolor": "white",
            "gridwidth": 2,
            "linecolor": "white",
            "showbackground": true,
            "ticks": "",
            "zerolinecolor": "white"
           },
           "zaxis": {
            "backgroundcolor": "#E5ECF6",
            "gridcolor": "white",
            "gridwidth": 2,
            "linecolor": "white",
            "showbackground": true,
            "ticks": "",
            "zerolinecolor": "white"
           }
          },
          "shapedefaults": {
           "line": {
            "color": "#2a3f5f"
           }
          },
          "ternary": {
           "aaxis": {
            "gridcolor": "white",
            "linecolor": "white",
            "ticks": ""
           },
           "baxis": {
            "gridcolor": "white",
            "linecolor": "white",
            "ticks": ""
           },
           "bgcolor": "#E5ECF6",
           "caxis": {
            "gridcolor": "white",
            "linecolor": "white",
            "ticks": ""
           }
          },
          "title": {
           "x": 0.05
          },
          "xaxis": {
           "automargin": true,
           "gridcolor": "white",
           "linecolor": "white",
           "ticks": "",
           "title": {
            "standoff": 15
           },
           "zerolinecolor": "white",
           "zerolinewidth": 2
          },
          "yaxis": {
           "automargin": true,
           "gridcolor": "white",
           "linecolor": "white",
           "ticks": "",
           "title": {
            "standoff": 15
           },
           "zerolinecolor": "white",
           "zerolinewidth": 2
          }
         }
        },
        "title": {
         "text": "Impact vs Stability (-20%)"
        },
        "xaxis": {
         "title": {
          "text": "Stability (TotalNPK_315 -20%)"
         }
        },
        "yaxis": {
         "title": {
          "text": "Normalized Impact"
         }
        }
       }
      }
     },
     "metadata": {},
     "output_type": "display_data"
    },
    {
     "data": {
      "text/html": [
       "<div>\n",
       "<style scoped>\n",
       "    .dataframe tbody tr th:only-of-type {\n",
       "        vertical-align: middle;\n",
       "    }\n",
       "\n",
       "    .dataframe tbody tr th {\n",
       "        vertical-align: top;\n",
       "    }\n",
       "\n",
       "    .dataframe thead th {\n",
       "        text-align: right;\n",
       "    }\n",
       "</style>\n",
       "<table border=\"1\" class=\"dataframe\">\n",
       "  <thead>\n",
       "    <tr style=\"text-align: right;\">\n",
       "      <th></th>\n",
       "      <th>District</th>\n",
       "      <th>Maize_Production_226 (TotalNPK_315 +20%)</th>\n",
       "      <th>Maize_Production_226 (TotalNPK_315 -20%)</th>\n",
       "      <th>Normalized Maize_Production_226 (TotalNPK_315 +20%)</th>\n",
       "      <th>Normalized Maize_Production_226 (TotalNPK_315 -20%)</th>\n",
       "      <th>Impact Score Maize_Production_226 (TotalNPK_315 +20%)</th>\n",
       "      <th>Impact Score Maize_Production_226 (TotalNPK_315 -20%)</th>\n",
       "      <th>Rice_Production_223 (TotalNPK_315 +20%)</th>\n",
       "      <th>Rice_Production_223 (TotalNPK_315 -20%)</th>\n",
       "      <th>Normalized Rice_Production_223 (TotalNPK_315 +20%)</th>\n",
       "      <th>...</th>\n",
       "      <th>Impact Score Rice_Production_223 (TotalNPK_315 +20%)</th>\n",
       "      <th>Impact Score Rice_Production_223 (TotalNPK_315 -20%)</th>\n",
       "      <th>Jowar_Yield_278 (TotalNPK_315 +20%)</th>\n",
       "      <th>Jowar_Yield_278 (TotalNPK_315 -20%)</th>\n",
       "      <th>Normalized Jowar_Yield_278 (TotalNPK_315 +20%)</th>\n",
       "      <th>Normalized Jowar_Yield_278 (TotalNPK_315 -20%)</th>\n",
       "      <th>Impact Score Jowar_Yield_278 (TotalNPK_315 +20%)</th>\n",
       "      <th>Impact Score Jowar_Yield_278 (TotalNPK_315 -20%)</th>\n",
       "      <th>New Stability(NPK + 20%)_Maize_Rice_Jowar</th>\n",
       "      <th>New Stability(NPK - 20%)_Maize_Rice_Jowar</th>\n",
       "    </tr>\n",
       "  </thead>\n",
       "  <tbody>\n",
       "    <tr>\n",
       "      <th>0</th>\n",
       "      <td>BENGALURU</td>\n",
       "      <td>72303.019039</td>\n",
       "      <td>48389.473335</td>\n",
       "      <td>0.098721</td>\n",
       "      <td>0.098721</td>\n",
       "      <td>0.129392</td>\n",
       "      <td>0.870608</td>\n",
       "      <td>73964.709483</td>\n",
       "      <td>52021.948395</td>\n",
       "      <td>0.098721</td>\n",
       "      <td>...</td>\n",
       "      <td>0.118718</td>\n",
       "      <td>0.881282</td>\n",
       "      <td>639.044946</td>\n",
       "      <td>547.537431</td>\n",
       "      <td>0.098721</td>\n",
       "      <td>0.098721</td>\n",
       "      <td>0.000365</td>\n",
       "      <td>0.999635</td>\n",
       "      <td>0.959044</td>\n",
       "      <td>0.959044</td>\n",
       "    </tr>\n",
       "    <tr>\n",
       "      <th>1</th>\n",
       "      <td>BENGALURU(R)</td>\n",
       "      <td>59835.351903</td>\n",
       "      <td>40077.695244</td>\n",
       "      <td>0.075418</td>\n",
       "      <td>0.075418</td>\n",
       "      <td>0.106882</td>\n",
       "      <td>0.893118</td>\n",
       "      <td>62524.538934</td>\n",
       "      <td>44395.168029</td>\n",
       "      <td>0.075418</td>\n",
       "      <td>...</td>\n",
       "      <td>0.098063</td>\n",
       "      <td>0.901937</td>\n",
       "      <td>591.336202</td>\n",
       "      <td>515.731601</td>\n",
       "      <td>0.075418</td>\n",
       "      <td>0.075418</td>\n",
       "      <td>0.000279</td>\n",
       "      <td>0.999721</td>\n",
       "      <td>0.976505</td>\n",
       "      <td>0.976505</td>\n",
       "    </tr>\n",
       "    <tr>\n",
       "      <th>2</th>\n",
       "      <td>RAMANAGARA</td>\n",
       "      <td>23558.780060</td>\n",
       "      <td>15893.314016</td>\n",
       "      <td>0.007616</td>\n",
       "      <td>0.007616</td>\n",
       "      <td>0.041388</td>\n",
       "      <td>0.958612</td>\n",
       "      <td>29237.624526</td>\n",
       "      <td>22203.891757</td>\n",
       "      <td>0.007616</td>\n",
       "      <td>...</td>\n",
       "      <td>0.037966</td>\n",
       "      <td>0.962034</td>\n",
       "      <td>452.520360</td>\n",
       "      <td>423.187707</td>\n",
       "      <td>0.007616</td>\n",
       "      <td>0.007616</td>\n",
       "      <td>0.000028</td>\n",
       "      <td>0.999972</td>\n",
       "      <td>0.822250</td>\n",
       "      <td>0.822250</td>\n",
       "    </tr>\n",
       "    <tr>\n",
       "      <th>3</th>\n",
       "      <td>CHITRADURGA</td>\n",
       "      <td>111001.722216</td>\n",
       "      <td>74188.608786</td>\n",
       "      <td>0.171050</td>\n",
       "      <td>0.171050</td>\n",
       "      <td>0.199260</td>\n",
       "      <td>0.800740</td>\n",
       "      <td>109474.140361</td>\n",
       "      <td>75694.902314</td>\n",
       "      <td>0.171050</td>\n",
       "      <td>...</td>\n",
       "      <td>0.182827</td>\n",
       "      <td>0.817173</td>\n",
       "      <td>787.129310</td>\n",
       "      <td>646.260340</td>\n",
       "      <td>0.171050</td>\n",
       "      <td>0.171050</td>\n",
       "      <td>0.000632</td>\n",
       "      <td>0.999368</td>\n",
       "      <td>0.668650</td>\n",
       "      <td>0.668650</td>\n",
       "    </tr>\n",
       "    <tr>\n",
       "      <th>4</th>\n",
       "      <td>DAVANAGERE</td>\n",
       "      <td>307234.370105</td>\n",
       "      <td>205010.374046</td>\n",
       "      <td>0.537816</td>\n",
       "      <td>0.537816</td>\n",
       "      <td>0.553544</td>\n",
       "      <td>0.446456</td>\n",
       "      <td>289534.686947</td>\n",
       "      <td>195735.266704</td>\n",
       "      <td>0.537816</td>\n",
       "      <td>...</td>\n",
       "      <td>0.507914</td>\n",
       "      <td>0.492086</td>\n",
       "      <td>1538.032682</td>\n",
       "      <td>1146.862588</td>\n",
       "      <td>0.537816</td>\n",
       "      <td>0.537816</td>\n",
       "      <td>0.001988</td>\n",
       "      <td>0.998012</td>\n",
       "      <td>0.790058</td>\n",
       "      <td>0.790058</td>\n",
       "    </tr>\n",
       "  </tbody>\n",
       "</table>\n",
       "<p>5 rows × 21 columns</p>\n",
       "</div>"
      ],
      "text/plain": [
       "       District  Maize_Production_226 (TotalNPK_315 +20%)  \\\n",
       "0     BENGALURU                              72303.019039   \n",
       "1  BENGALURU(R)                              59835.351903   \n",
       "2    RAMANAGARA                              23558.780060   \n",
       "3   CHITRADURGA                             111001.722216   \n",
       "4    DAVANAGERE                             307234.370105   \n",
       "\n",
       "   Maize_Production_226 (TotalNPK_315 -20%)  \\\n",
       "0                              48389.473335   \n",
       "1                              40077.695244   \n",
       "2                              15893.314016   \n",
       "3                              74188.608786   \n",
       "4                             205010.374046   \n",
       "\n",
       "   Normalized Maize_Production_226 (TotalNPK_315 +20%)  \\\n",
       "0                                           0.098721     \n",
       "1                                           0.075418     \n",
       "2                                           0.007616     \n",
       "3                                           0.171050     \n",
       "4                                           0.537816     \n",
       "\n",
       "   Normalized Maize_Production_226 (TotalNPK_315 -20%)  \\\n",
       "0                                           0.098721     \n",
       "1                                           0.075418     \n",
       "2                                           0.007616     \n",
       "3                                           0.171050     \n",
       "4                                           0.537816     \n",
       "\n",
       "   Impact Score Maize_Production_226 (TotalNPK_315 +20%)  \\\n",
       "0                                           0.129392       \n",
       "1                                           0.106882       \n",
       "2                                           0.041388       \n",
       "3                                           0.199260       \n",
       "4                                           0.553544       \n",
       "\n",
       "   Impact Score Maize_Production_226 (TotalNPK_315 -20%)  \\\n",
       "0                                           0.870608       \n",
       "1                                           0.893118       \n",
       "2                                           0.958612       \n",
       "3                                           0.800740       \n",
       "4                                           0.446456       \n",
       "\n",
       "   Rice_Production_223 (TotalNPK_315 +20%)  \\\n",
       "0                             73964.709483   \n",
       "1                             62524.538934   \n",
       "2                             29237.624526   \n",
       "3                            109474.140361   \n",
       "4                            289534.686947   \n",
       "\n",
       "   Rice_Production_223 (TotalNPK_315 -20%)  \\\n",
       "0                             52021.948395   \n",
       "1                             44395.168029   \n",
       "2                             22203.891757   \n",
       "3                             75694.902314   \n",
       "4                            195735.266704   \n",
       "\n",
       "   Normalized Rice_Production_223 (TotalNPK_315 +20%)  ...  \\\n",
       "0                                           0.098721   ...   \n",
       "1                                           0.075418   ...   \n",
       "2                                           0.007616   ...   \n",
       "3                                           0.171050   ...   \n",
       "4                                           0.537816   ...   \n",
       "\n",
       "   Impact Score Rice_Production_223 (TotalNPK_315 +20%)  \\\n",
       "0                                           0.118718      \n",
       "1                                           0.098063      \n",
       "2                                           0.037966      \n",
       "3                                           0.182827      \n",
       "4                                           0.507914      \n",
       "\n",
       "   Impact Score Rice_Production_223 (TotalNPK_315 -20%)  \\\n",
       "0                                           0.881282      \n",
       "1                                           0.901937      \n",
       "2                                           0.962034      \n",
       "3                                           0.817173      \n",
       "4                                           0.492086      \n",
       "\n",
       "   Jowar_Yield_278 (TotalNPK_315 +20%)  Jowar_Yield_278 (TotalNPK_315 -20%)  \\\n",
       "0                           639.044946                           547.537431   \n",
       "1                           591.336202                           515.731601   \n",
       "2                           452.520360                           423.187707   \n",
       "3                           787.129310                           646.260340   \n",
       "4                          1538.032682                          1146.862588   \n",
       "\n",
       "   Normalized Jowar_Yield_278 (TotalNPK_315 +20%)  \\\n",
       "0                                        0.098721   \n",
       "1                                        0.075418   \n",
       "2                                        0.007616   \n",
       "3                                        0.171050   \n",
       "4                                        0.537816   \n",
       "\n",
       "   Normalized Jowar_Yield_278 (TotalNPK_315 -20%)  \\\n",
       "0                                        0.098721   \n",
       "1                                        0.075418   \n",
       "2                                        0.007616   \n",
       "3                                        0.171050   \n",
       "4                                        0.537816   \n",
       "\n",
       "   Impact Score Jowar_Yield_278 (TotalNPK_315 +20%)  \\\n",
       "0                                          0.000365   \n",
       "1                                          0.000279   \n",
       "2                                          0.000028   \n",
       "3                                          0.000632   \n",
       "4                                          0.001988   \n",
       "\n",
       "   Impact Score Jowar_Yield_278 (TotalNPK_315 -20%)  \\\n",
       "0                                          0.999635   \n",
       "1                                          0.999721   \n",
       "2                                          0.999972   \n",
       "3                                          0.999368   \n",
       "4                                          0.998012   \n",
       "\n",
       "   New Stability(NPK + 20%)_Maize_Rice_Jowar  \\\n",
       "0                                   0.959044   \n",
       "1                                   0.976505   \n",
       "2                                   0.822250   \n",
       "3                                   0.668650   \n",
       "4                                   0.790058   \n",
       "\n",
       "   New Stability(NPK - 20%)_Maize_Rice_Jowar  \n",
       "0                                   0.959044  \n",
       "1                                   0.976505  \n",
       "2                                   0.822250  \n",
       "3                                   0.668650  \n",
       "4                                   0.790058  \n",
       "\n",
       "[5 rows x 21 columns]"
      ]
     },
     "execution_count": 48,
     "metadata": {},
     "output_type": "execute_result"
    }
   ],
   "source": [
    "base_column = \"TotalNPK_315\"\n",
    "capability_vector = [\"Maize_Production_226\", \"Rice_Production_223\",\"Jowar_Yield_278\"]\n",
    "change_percentage = 20\n",
    "dim = 3\n",
    "\n",
    "new_data_3d, handle_increase, handle_decrease,result_df = calc_and_vis_impact_stability(G, existing_data.copy(), adjacency_file, base_column, capability_vector, change_percentage, dim)\n",
    "new_data_3d.head()"
   ]
  },
  {
   "cell_type": "code",
   "execution_count": null,
   "metadata": {},
   "outputs": [
    {
     "data": {
      "text/html": [
       "\n",
       "  <div id=\"ba18e5a2-bd66-45bb-ac61-ffeaf3431daf\" data-root-id=\"p1001\" style=\"display: contents;\"></div>\n"
      ]
     },
     "metadata": {},
     "output_type": "display_data"
    },
    {
     "data": {
      "application/javascript": "(function(root) {\n  function embed_document(root) {\n  const docs_json = {\"9fc43b1a-631a-4498-a901-4ccf7eec004e\":{\"version\":\"3.3.3\",\"title\":\"Bokeh Application\",\"roots\":[{\"type\":\"object\",\"name\":\"Figure\",\"id\":\"p1001\",\"attributes\":{\"sizing_mode\":\"stretch_width\",\"x_range\":{\"type\":\"object\",\"name\":\"FactorRange\",\"id\":\"p1011\",\"attributes\":{\"factors\":[\"BENGALURU\",\"BENGALURU(R)\",\"RAMANAGARA\",\"CHITRADURGA\",\"DAVANAGERE\",\"KOLAR\",\"CHIKKABALLAPURA\",\"SHIVAMOGGA\",\"TUMAKURU\",\"CHIKKAMAGALURU\",\"DAKSHINA KANNADA\",\"UDUPI\",\"HASSAN\",\"KODAGU\",\"MANDYA\",\"MYSURU\",\"CHAMARAJANAGAR\",\"BELAGAVI\",\"VIJAYAPURA\",\"BAGALKOT\",\"DHARAWAD\",\"GADAG\",\"HAVERI\",\"UTTARA KANNADA\",\"BALLARI\",\"BIDAR\",\"KALABURAGI\",\"YADGIRI\",\"RAICHUR\",\"KOPPAL\"]}},\"y_range\":{\"type\":\"object\",\"name\":\"DataRange1d\",\"id\":\"p1003\"},\"x_scale\":{\"type\":\"object\",\"name\":\"CategoricalScale\",\"id\":\"p1012\"},\"y_scale\":{\"type\":\"object\",\"name\":\"LinearScale\",\"id\":\"p1013\"},\"title\":{\"type\":\"object\",\"name\":\"Title\",\"id\":\"p1004\",\"attributes\":{\"text\":\"Rice_Production_223 vs District\"}},\"renderers\":[{\"type\":\"object\",\"name\":\"GlyphRenderer\",\"id\":\"p1033\",\"attributes\":{\"data_source\":{\"type\":\"object\",\"name\":\"ColumnDataSource\",\"id\":\"p1024\",\"attributes\":{\"selected\":{\"type\":\"object\",\"name\":\"Selection\",\"id\":\"p1025\",\"attributes\":{\"indices\":[],\"line_indices\":[]}},\"selection_policy\":{\"type\":\"object\",\"name\":\"UnionRenderers\",\"id\":\"p1026\"},\"data\":{\"type\":\"map\",\"entries\":[[\"x\",[\"BENGALURU\",\"BENGALURU(R)\",\"RAMANAGARA\",\"CHITRADURGA\",\"DAVANAGERE\",\"KOLAR\",\"CHIKKABALLAPURA\",\"SHIVAMOGGA\",\"TUMAKURU\",\"CHIKKAMAGALURU\",\"DAKSHINA KANNADA\",\"UDUPI\",\"HASSAN\",\"KODAGU\",\"MANDYA\",\"MYSURU\",\"CHAMARAJANAGAR\",\"BELAGAVI\",\"VIJAYAPURA\",\"BAGALKOT\",\"DHARAWAD\",\"GADAG\",\"HAVERI\",\"UTTARA KANNADA\",\"BALLARI\",\"BIDAR\",\"KALABURAGI\",\"YADGIRI\",\"RAICHUR\",\"KOPPAL\"]],[\"y\",{\"type\":\"ndarray\",\"array\":{\"type\":\"bytes\",\"data\":\"MA0AADIJAABgLwAA1hEAACF4BwBgAwAAigoAAM7fBQC6ZQAAxa8BAOwFAgCsGwIAWTECAB9RAQAPwwMAs2cFACCzAACQtQIAqgAAAFUAAADFhAAAWhwAAO7pAQCVVQIAR0oGAPQHAADQHgAAk20DADaDBwAxtwMA\"},\"shape\":[30],\"dtype\":\"int32\",\"order\":\"little\"}]]}}},\"view\":{\"type\":\"object\",\"name\":\"CDSView\",\"id\":\"p1034\",\"attributes\":{\"filter\":{\"type\":\"object\",\"name\":\"AllIndices\",\"id\":\"p1035\"}}},\"glyph\":{\"type\":\"object\",\"name\":\"VBar\",\"id\":\"p1030\",\"attributes\":{\"x\":{\"type\":\"field\",\"field\":\"x\"},\"width\":{\"type\":\"value\",\"value\":0.8},\"top\":{\"type\":\"field\",\"field\":\"y\"},\"line_color\":{\"type\":\"value\",\"value\":\"#1f77b4\"},\"fill_color\":{\"type\":\"value\",\"value\":\"#1f77b4\"},\"hatch_color\":{\"type\":\"value\",\"value\":\"#1f77b4\"}}},\"nonselection_glyph\":{\"type\":\"object\",\"name\":\"VBar\",\"id\":\"p1031\",\"attributes\":{\"x\":{\"type\":\"field\",\"field\":\"x\"},\"width\":{\"type\":\"value\",\"value\":0.8},\"top\":{\"type\":\"field\",\"field\":\"y\"},\"line_color\":{\"type\":\"value\",\"value\":\"#1f77b4\"},\"line_alpha\":{\"type\":\"value\",\"value\":0.1},\"fill_color\":{\"type\":\"value\",\"value\":\"#1f77b4\"},\"fill_alpha\":{\"type\":\"value\",\"value\":0.1},\"hatch_color\":{\"type\":\"value\",\"value\":\"#1f77b4\"},\"hatch_alpha\":{\"type\":\"value\",\"value\":0.1}}},\"muted_glyph\":{\"type\":\"object\",\"name\":\"VBar\",\"id\":\"p1032\",\"attributes\":{\"x\":{\"type\":\"field\",\"field\":\"x\"},\"width\":{\"type\":\"value\",\"value\":0.8},\"top\":{\"type\":\"field\",\"field\":\"y\"},\"line_color\":{\"type\":\"value\",\"value\":\"#1f77b4\"},\"line_alpha\":{\"type\":\"value\",\"value\":0.2},\"fill_color\":{\"type\":\"value\",\"value\":\"#1f77b4\"},\"fill_alpha\":{\"type\":\"value\",\"value\":0.2},\"hatch_color\":{\"type\":\"value\",\"value\":\"#1f77b4\"},\"hatch_alpha\":{\"type\":\"value\",\"value\":0.2}}}}}],\"toolbar\":{\"type\":\"object\",\"name\":\"Toolbar\",\"id\":\"p1010\",\"attributes\":{\"tools\":[{\"type\":\"object\",\"name\":\"HoverTool\",\"id\":\"p1038\",\"attributes\":{\"renderers\":\"auto\",\"tooltips\":[[\"District\",\"@x\"],[\"Rice_Production_223\",\"@y\"]]}}]}},\"toolbar_location\":null,\"left\":[{\"type\":\"object\",\"name\":\"LinearAxis\",\"id\":\"p1019\",\"attributes\":{\"ticker\":{\"type\":\"object\",\"name\":\"BasicTicker\",\"id\":\"p1020\",\"attributes\":{\"mantissas\":[1,2,5]}},\"formatter\":{\"type\":\"object\",\"name\":\"BasicTickFormatter\",\"id\":\"p1021\"},\"axis_label\":\"Rice_Production_223\",\"major_label_policy\":{\"type\":\"object\",\"name\":\"AllLabels\",\"id\":\"p1022\"}}}],\"below\":[{\"type\":\"object\",\"name\":\"CategoricalAxis\",\"id\":\"p1014\",\"attributes\":{\"ticker\":{\"type\":\"object\",\"name\":\"CategoricalTicker\",\"id\":\"p1015\"},\"formatter\":{\"type\":\"object\",\"name\":\"CategoricalTickFormatter\",\"id\":\"p1016\"},\"major_label_orientation\":\"vertical\",\"major_label_policy\":{\"type\":\"object\",\"name\":\"AllLabels\",\"id\":\"p1017\"}}}],\"center\":[{\"type\":\"object\",\"name\":\"Grid\",\"id\":\"p1018\",\"attributes\":{\"axis\":{\"id\":\"p1014\"}}},{\"type\":\"object\",\"name\":\"Grid\",\"id\":\"p1023\",\"attributes\":{\"dimension\":1,\"axis\":{\"id\":\"p1019\"}}},{\"type\":\"object\",\"name\":\"Legend\",\"id\":\"p1036\",\"attributes\":{\"click_policy\":\"hide\",\"items\":[{\"type\":\"object\",\"name\":\"LegendItem\",\"id\":\"p1037\",\"attributes\":{\"label\":{\"type\":\"value\",\"value\":\"Rice_Production_223\"},\"renderers\":[{\"id\":\"p1033\"}]}}]}}]}}]}};\n  const render_items = [{\"docid\":\"9fc43b1a-631a-4498-a901-4ccf7eec004e\",\"roots\":{\"p1001\":\"ba18e5a2-bd66-45bb-ac61-ffeaf3431daf\"},\"root_ids\":[\"p1001\"]}];\n  root.Bokeh.embed.embed_items_notebook(docs_json, render_items);\n  }\n  if (root.Bokeh !== undefined) {\n    embed_document(root);\n  } else {\n    let attempts = 0;\n    const timer = setInterval(function(root) {\n      if (root.Bokeh !== undefined) {\n        clearInterval(timer);\n        embed_document(root);\n      } else {\n        attempts++;\n        if (attempts > 100) {\n          clearInterval(timer);\n          console.log(\"Bokeh: ERROR: Unable to run BokehJS code because BokehJS library is missing\");\n        }\n      }\n    }, 10, root)\n  }\n})(window);",
      "application/vnd.bokehjs_exec.v0+json": ""
     },
     "metadata": {
      "application/vnd.bokehjs_exec.v0+json": {
       "id": "p1001"
      }
     },
     "output_type": "display_data"
    },
    {
     "data": {
      "text/html": [
       "\n",
       "  <div id=\"d1be4ab3-21b9-4731-8bc5-800ca5f0d30e\" data-root-id=\"p1040\" style=\"display: contents;\"></div>\n"
      ]
     },
     "metadata": {},
     "output_type": "display_data"
    },
    {
     "data": {
      "application/javascript": "(function(root) {\n  function embed_document(root) {\n  const docs_json = {\"7bb7b239-99aa-454b-97b3-0bab746b6bdc\":{\"version\":\"3.3.3\",\"title\":\"Bokeh Application\",\"roots\":[{\"type\":\"object\",\"name\":\"Figure\",\"id\":\"p1040\",\"attributes\":{\"sizing_mode\":\"stretch_width\",\"x_range\":{\"type\":\"object\",\"name\":\"FactorRange\",\"id\":\"p1050\",\"attributes\":{\"factors\":[\"BENGALURU\",\"BENGALURU(R)\",\"RAMANAGARA\",\"CHITRADURGA\",\"DAVANAGERE\",\"KOLAR\",\"CHIKKABALLAPURA\",\"SHIVAMOGGA\",\"TUMAKURU\",\"CHIKKAMAGALURU\",\"DAKSHINA KANNADA\",\"UDUPI\",\"HASSAN\",\"KODAGU\",\"MANDYA\",\"MYSURU\",\"CHAMARAJANAGAR\",\"BELAGAVI\",\"VIJAYAPURA\",\"BAGALKOT\",\"DHARAWAD\",\"GADAG\",\"HAVERI\",\"UTTARA KANNADA\",\"BALLARI\",\"BIDAR\",\"KALABURAGI\",\"YADGIRI\",\"RAICHUR\",\"KOPPAL\"]}},\"y_range\":{\"type\":\"object\",\"name\":\"DataRange1d\",\"id\":\"p1042\"},\"x_scale\":{\"type\":\"object\",\"name\":\"CategoricalScale\",\"id\":\"p1051\"},\"y_scale\":{\"type\":\"object\",\"name\":\"LinearScale\",\"id\":\"p1052\"},\"title\":{\"type\":\"object\",\"name\":\"Title\",\"id\":\"p1043\",\"attributes\":{\"text\":\"Jowar_Yield_278 vs District\"}},\"renderers\":[{\"type\":\"object\",\"name\":\"GlyphRenderer\",\"id\":\"p1072\",\"attributes\":{\"data_source\":{\"type\":\"object\",\"name\":\"ColumnDataSource\",\"id\":\"p1063\",\"attributes\":{\"selected\":{\"type\":\"object\",\"name\":\"Selection\",\"id\":\"p1064\",\"attributes\":{\"indices\":[],\"line_indices\":[]}},\"selection_policy\":{\"type\":\"object\",\"name\":\"UnionRenderers\",\"id\":\"p1065\"},\"data\":{\"type\":\"map\",\"entries\":[[\"x\",[\"BENGALURU\",\"BENGALURU(R)\",\"RAMANAGARA\",\"CHITRADURGA\",\"DAVANAGERE\",\"KOLAR\",\"CHIKKABALLAPURA\",\"SHIVAMOGGA\",\"TUMAKURU\",\"CHIKKAMAGALURU\",\"DAKSHINA KANNADA\",\"UDUPI\",\"HASSAN\",\"KODAGU\",\"MANDYA\",\"MYSURU\",\"CHAMARAJANAGAR\",\"BELAGAVI\",\"VIJAYAPURA\",\"BAGALKOT\",\"DHARAWAD\",\"GADAG\",\"HAVERI\",\"UTTARA KANNADA\",\"BALLARI\",\"BIDAR\",\"KALABURAGI\",\"YADGIRI\",\"RAICHUR\",\"KOPPAL\"]],[\"y\",{\"type\":\"ndarray\",\"array\":{\"type\":\"bytes\",\"data\":\"AwYAAAAAAAAAAAAA2AMAAHcIAAAAAAAAAAAAAMIIAABCBQAAgQMAAAAAAAAAAAAAlQMAAAAAAADKAwAAUAQAAHMBAACwBAAAzgMAAMYDAAA4BAAAAQQAALcEAAAAAAAADwcAACIEAAB6BAAArQQAAE8FAAAgBQAA\"},\"shape\":[30],\"dtype\":\"int32\",\"order\":\"little\"}]]}}},\"view\":{\"type\":\"object\",\"name\":\"CDSView\",\"id\":\"p1073\",\"attributes\":{\"filter\":{\"type\":\"object\",\"name\":\"AllIndices\",\"id\":\"p1074\"}}},\"glyph\":{\"type\":\"object\",\"name\":\"VBar\",\"id\":\"p1069\",\"attributes\":{\"x\":{\"type\":\"field\",\"field\":\"x\"},\"width\":{\"type\":\"value\",\"value\":0.8},\"top\":{\"type\":\"field\",\"field\":\"y\"},\"line_color\":{\"type\":\"value\",\"value\":\"#aec7e8\"},\"fill_color\":{\"type\":\"value\",\"value\":\"#aec7e8\"},\"hatch_color\":{\"type\":\"value\",\"value\":\"#aec7e8\"}}},\"nonselection_glyph\":{\"type\":\"object\",\"name\":\"VBar\",\"id\":\"p1070\",\"attributes\":{\"x\":{\"type\":\"field\",\"field\":\"x\"},\"width\":{\"type\":\"value\",\"value\":0.8},\"top\":{\"type\":\"field\",\"field\":\"y\"},\"line_color\":{\"type\":\"value\",\"value\":\"#aec7e8\"},\"line_alpha\":{\"type\":\"value\",\"value\":0.1},\"fill_color\":{\"type\":\"value\",\"value\":\"#aec7e8\"},\"fill_alpha\":{\"type\":\"value\",\"value\":0.1},\"hatch_color\":{\"type\":\"value\",\"value\":\"#aec7e8\"},\"hatch_alpha\":{\"type\":\"value\",\"value\":0.1}}},\"muted_glyph\":{\"type\":\"object\",\"name\":\"VBar\",\"id\":\"p1071\",\"attributes\":{\"x\":{\"type\":\"field\",\"field\":\"x\"},\"width\":{\"type\":\"value\",\"value\":0.8},\"top\":{\"type\":\"field\",\"field\":\"y\"},\"line_color\":{\"type\":\"value\",\"value\":\"#aec7e8\"},\"line_alpha\":{\"type\":\"value\",\"value\":0.2},\"fill_color\":{\"type\":\"value\",\"value\":\"#aec7e8\"},\"fill_alpha\":{\"type\":\"value\",\"value\":0.2},\"hatch_color\":{\"type\":\"value\",\"value\":\"#aec7e8\"},\"hatch_alpha\":{\"type\":\"value\",\"value\":0.2}}}}}],\"toolbar\":{\"type\":\"object\",\"name\":\"Toolbar\",\"id\":\"p1049\",\"attributes\":{\"tools\":[{\"type\":\"object\",\"name\":\"HoverTool\",\"id\":\"p1077\",\"attributes\":{\"renderers\":\"auto\",\"tooltips\":[[\"District\",\"@x\"],[\"Jowar_Yield_278\",\"@y\"]]}}]}},\"toolbar_location\":null,\"left\":[{\"type\":\"object\",\"name\":\"LinearAxis\",\"id\":\"p1058\",\"attributes\":{\"ticker\":{\"type\":\"object\",\"name\":\"BasicTicker\",\"id\":\"p1059\",\"attributes\":{\"mantissas\":[1,2,5]}},\"formatter\":{\"type\":\"object\",\"name\":\"BasicTickFormatter\",\"id\":\"p1060\"},\"axis_label\":\"Jowar_Yield_278\",\"major_label_policy\":{\"type\":\"object\",\"name\":\"AllLabels\",\"id\":\"p1061\"}}}],\"below\":[{\"type\":\"object\",\"name\":\"CategoricalAxis\",\"id\":\"p1053\",\"attributes\":{\"ticker\":{\"type\":\"object\",\"name\":\"CategoricalTicker\",\"id\":\"p1054\"},\"formatter\":{\"type\":\"object\",\"name\":\"CategoricalTickFormatter\",\"id\":\"p1055\"},\"major_label_orientation\":\"vertical\",\"major_label_policy\":{\"type\":\"object\",\"name\":\"AllLabels\",\"id\":\"p1056\"}}}],\"center\":[{\"type\":\"object\",\"name\":\"Grid\",\"id\":\"p1057\",\"attributes\":{\"axis\":{\"id\":\"p1053\"}}},{\"type\":\"object\",\"name\":\"Grid\",\"id\":\"p1062\",\"attributes\":{\"dimension\":1,\"axis\":{\"id\":\"p1058\"}}},{\"type\":\"object\",\"name\":\"Legend\",\"id\":\"p1075\",\"attributes\":{\"click_policy\":\"hide\",\"items\":[{\"type\":\"object\",\"name\":\"LegendItem\",\"id\":\"p1076\",\"attributes\":{\"label\":{\"type\":\"value\",\"value\":\"Jowar_Yield_278\"},\"renderers\":[{\"id\":\"p1072\"}]}}]}}]}}]}};\n  const render_items = [{\"docid\":\"7bb7b239-99aa-454b-97b3-0bab746b6bdc\",\"roots\":{\"p1040\":\"d1be4ab3-21b9-4731-8bc5-800ca5f0d30e\"},\"root_ids\":[\"p1040\"]}];\n  root.Bokeh.embed.embed_items_notebook(docs_json, render_items);\n  }\n  if (root.Bokeh !== undefined) {\n    embed_document(root);\n  } else {\n    let attempts = 0;\n    const timer = setInterval(function(root) {\n      if (root.Bokeh !== undefined) {\n        clearInterval(timer);\n        embed_document(root);\n      } else {\n        attempts++;\n        if (attempts > 100) {\n          clearInterval(timer);\n          console.log(\"Bokeh: ERROR: Unable to run BokehJS code because BokehJS library is missing\");\n        }\n      }\n    }, 10, root)\n  }\n})(window);",
      "application/vnd.bokehjs_exec.v0+json": ""
     },
     "metadata": {
      "application/vnd.bokehjs_exec.v0+json": {
       "id": "p1040"
      }
     },
     "output_type": "display_data"
    },
    {
     "data": {
      "text/html": [
       "\n",
       "  <div id=\"e94fa552-b536-430c-a129-fd44f7d9ada4\" data-root-id=\"p1079\" style=\"display: contents;\"></div>\n"
      ]
     },
     "metadata": {},
     "output_type": "display_data"
    },
    {
     "data": {
      "application/javascript": "(function(root) {\n  function embed_document(root) {\n  const docs_json = {\"41b1b945-4872-429c-897a-9eda7f27fbc1\":{\"version\":\"3.3.3\",\"title\":\"Bokeh Application\",\"roots\":[{\"type\":\"object\",\"name\":\"Figure\",\"id\":\"p1079\",\"attributes\":{\"sizing_mode\":\"stretch_width\",\"x_range\":{\"type\":\"object\",\"name\":\"FactorRange\",\"id\":\"p1089\",\"attributes\":{\"factors\":[\"BENGALURU\",\"BENGALURU(R)\",\"RAMANAGARA\",\"CHITRADURGA\",\"DAVANAGERE\",\"KOLAR\",\"CHIKKABALLAPURA\",\"SHIVAMOGGA\",\"TUMAKURU\",\"CHIKKAMAGALURU\",\"DAKSHINA KANNADA\",\"UDUPI\",\"HASSAN\",\"KODAGU\",\"MANDYA\",\"MYSURU\",\"CHAMARAJANAGAR\",\"BELAGAVI\",\"VIJAYAPURA\",\"BAGALKOT\",\"DHARAWAD\",\"GADAG\",\"HAVERI\",\"UTTARA KANNADA\",\"BALLARI\",\"BIDAR\",\"KALABURAGI\",\"YADGIRI\",\"RAICHUR\",\"KOPPAL\"]}},\"y_range\":{\"type\":\"object\",\"name\":\"DataRange1d\",\"id\":\"p1081\"},\"x_scale\":{\"type\":\"object\",\"name\":\"CategoricalScale\",\"id\":\"p1090\"},\"y_scale\":{\"type\":\"object\",\"name\":\"LinearScale\",\"id\":\"p1091\"},\"title\":{\"type\":\"object\",\"name\":\"Title\",\"id\":\"p1082\",\"attributes\":{\"text\":\"Maize_Production_226 vs District\"}},\"renderers\":[{\"type\":\"object\",\"name\":\"GlyphRenderer\",\"id\":\"p1111\",\"attributes\":{\"data_source\":{\"type\":\"object\",\"name\":\"ColumnDataSource\",\"id\":\"p1102\",\"attributes\":{\"selected\":{\"type\":\"object\",\"name\":\"Selection\",\"id\":\"p1103\",\"attributes\":{\"indices\":[],\"line_indices\":[]}},\"selection_policy\":{\"type\":\"object\",\"name\":\"UnionRenderers\",\"id\":\"p1104\"},\"data\":{\"type\":\"map\",\"entries\":[[\"x\",[\"BENGALURU\",\"BENGALURU(R)\",\"RAMANAGARA\",\"CHITRADURGA\",\"DAVANAGERE\",\"KOLAR\",\"CHIKKABALLAPURA\",\"SHIVAMOGGA\",\"TUMAKURU\",\"CHIKKAMAGALURU\",\"DAKSHINA KANNADA\",\"UDUPI\",\"HASSAN\",\"KODAGU\",\"MANDYA\",\"MYSURU\",\"CHAMARAJANAGAR\",\"BELAGAVI\",\"VIJAYAPURA\",\"BAGALKOT\",\"DHARAWAD\",\"GADAG\",\"HAVERI\",\"UTTARA KANNADA\",\"BALLARI\",\"BIDAR\",\"KALABURAGI\",\"YADGIRI\",\"RAICHUR\",\"KOPPAL\"]],[\"y\",{\"type\":\"ndarray\",\"array\":{\"type\":\"bytes\",\"data\":\"PwsAAFemAADSKAAAZyYEAIgOCQDfBgAAE5wBAOR0AwA0BQEAqe8AAAAAAABtAAAAcRgFAAFGAAC7SwAAwhcCAK5BAgD2zAgAF3QDADPXAwAKYgEA7BwCAC9PBgAYXgAA2iwDAOcKAAAdOQAAcQoAANMCAAAs5wIA\"},\"shape\":[30],\"dtype\":\"int32\",\"order\":\"little\"}]]}}},\"view\":{\"type\":\"object\",\"name\":\"CDSView\",\"id\":\"p1112\",\"attributes\":{\"filter\":{\"type\":\"object\",\"name\":\"AllIndices\",\"id\":\"p1113\"}}},\"glyph\":{\"type\":\"object\",\"name\":\"VBar\",\"id\":\"p1108\",\"attributes\":{\"x\":{\"type\":\"field\",\"field\":\"x\"},\"width\":{\"type\":\"value\",\"value\":0.8},\"top\":{\"type\":\"field\",\"field\":\"y\"},\"line_color\":{\"type\":\"value\",\"value\":\"#ff7f0e\"},\"fill_color\":{\"type\":\"value\",\"value\":\"#ff7f0e\"},\"hatch_color\":{\"type\":\"value\",\"value\":\"#ff7f0e\"}}},\"nonselection_glyph\":{\"type\":\"object\",\"name\":\"VBar\",\"id\":\"p1109\",\"attributes\":{\"x\":{\"type\":\"field\",\"field\":\"x\"},\"width\":{\"type\":\"value\",\"value\":0.8},\"top\":{\"type\":\"field\",\"field\":\"y\"},\"line_color\":{\"type\":\"value\",\"value\":\"#ff7f0e\"},\"line_alpha\":{\"type\":\"value\",\"value\":0.1},\"fill_color\":{\"type\":\"value\",\"value\":\"#ff7f0e\"},\"fill_alpha\":{\"type\":\"value\",\"value\":0.1},\"hatch_color\":{\"type\":\"value\",\"value\":\"#ff7f0e\"},\"hatch_alpha\":{\"type\":\"value\",\"value\":0.1}}},\"muted_glyph\":{\"type\":\"object\",\"name\":\"VBar\",\"id\":\"p1110\",\"attributes\":{\"x\":{\"type\":\"field\",\"field\":\"x\"},\"width\":{\"type\":\"value\",\"value\":0.8},\"top\":{\"type\":\"field\",\"field\":\"y\"},\"line_color\":{\"type\":\"value\",\"value\":\"#ff7f0e\"},\"line_alpha\":{\"type\":\"value\",\"value\":0.2},\"fill_color\":{\"type\":\"value\",\"value\":\"#ff7f0e\"},\"fill_alpha\":{\"type\":\"value\",\"value\":0.2},\"hatch_color\":{\"type\":\"value\",\"value\":\"#ff7f0e\"},\"hatch_alpha\":{\"type\":\"value\",\"value\":0.2}}}}}],\"toolbar\":{\"type\":\"object\",\"name\":\"Toolbar\",\"id\":\"p1088\",\"attributes\":{\"tools\":[{\"type\":\"object\",\"name\":\"HoverTool\",\"id\":\"p1116\",\"attributes\":{\"renderers\":\"auto\",\"tooltips\":[[\"District\",\"@x\"],[\"Maize_Production_226\",\"@y\"]]}}]}},\"toolbar_location\":null,\"left\":[{\"type\":\"object\",\"name\":\"LinearAxis\",\"id\":\"p1097\",\"attributes\":{\"ticker\":{\"type\":\"object\",\"name\":\"BasicTicker\",\"id\":\"p1098\",\"attributes\":{\"mantissas\":[1,2,5]}},\"formatter\":{\"type\":\"object\",\"name\":\"BasicTickFormatter\",\"id\":\"p1099\"},\"axis_label\":\"Maize_Production_226\",\"major_label_policy\":{\"type\":\"object\",\"name\":\"AllLabels\",\"id\":\"p1100\"}}}],\"below\":[{\"type\":\"object\",\"name\":\"CategoricalAxis\",\"id\":\"p1092\",\"attributes\":{\"ticker\":{\"type\":\"object\",\"name\":\"CategoricalTicker\",\"id\":\"p1093\"},\"formatter\":{\"type\":\"object\",\"name\":\"CategoricalTickFormatter\",\"id\":\"p1094\"},\"major_label_orientation\":\"vertical\",\"major_label_policy\":{\"type\":\"object\",\"name\":\"AllLabels\",\"id\":\"p1095\"}}}],\"center\":[{\"type\":\"object\",\"name\":\"Grid\",\"id\":\"p1096\",\"attributes\":{\"axis\":{\"id\":\"p1092\"}}},{\"type\":\"object\",\"name\":\"Grid\",\"id\":\"p1101\",\"attributes\":{\"dimension\":1,\"axis\":{\"id\":\"p1097\"}}},{\"type\":\"object\",\"name\":\"Legend\",\"id\":\"p1114\",\"attributes\":{\"click_policy\":\"hide\",\"items\":[{\"type\":\"object\",\"name\":\"LegendItem\",\"id\":\"p1115\",\"attributes\":{\"label\":{\"type\":\"value\",\"value\":\"Maize_Production_226\"},\"renderers\":[{\"id\":\"p1111\"}]}}]}}]}}]}};\n  const render_items = [{\"docid\":\"41b1b945-4872-429c-897a-9eda7f27fbc1\",\"roots\":{\"p1079\":\"e94fa552-b536-430c-a129-fd44f7d9ada4\"},\"root_ids\":[\"p1079\"]}];\n  root.Bokeh.embed.embed_items_notebook(docs_json, render_items);\n  }\n  if (root.Bokeh !== undefined) {\n    embed_document(root);\n  } else {\n    let attempts = 0;\n    const timer = setInterval(function(root) {\n      if (root.Bokeh !== undefined) {\n        clearInterval(timer);\n        embed_document(root);\n      } else {\n        attempts++;\n        if (attempts > 100) {\n          clearInterval(timer);\n          console.log(\"Bokeh: ERROR: Unable to run BokehJS code because BokehJS library is missing\");\n        }\n      }\n    }, 10, root)\n  }\n})(window);",
      "application/vnd.bokehjs_exec.v0+json": ""
     },
     "metadata": {
      "application/vnd.bokehjs_exec.v0+json": {
       "id": "p1079"
      }
     },
     "output_type": "display_data"
    },
    {
     "data": {
      "text/html": [
       "\n",
       "  <div id=\"d588c621-7337-4ee6-b5c2-9817e7341798\" data-root-id=\"p1118\" style=\"display: contents;\"></div>\n"
      ]
     },
     "metadata": {},
     "output_type": "display_data"
    },
    {
     "data": {
      "application/javascript": "(function(root) {\n  function embed_document(root) {\n  const docs_json = {\"af435304-1979-4106-9d52-2f070beb95a7\":{\"version\":\"3.3.3\",\"title\":\"Bokeh Application\",\"roots\":[{\"type\":\"object\",\"name\":\"Figure\",\"id\":\"p1118\",\"attributes\":{\"sizing_mode\":\"stretch_width\",\"x_range\":{\"type\":\"object\",\"name\":\"FactorRange\",\"id\":\"p1128\",\"attributes\":{\"factors\":[\"BENGALURU\",\"BENGALURU(R)\",\"RAMANAGARA\",\"CHITRADURGA\",\"DAVANAGERE\",\"KOLAR\",\"CHIKKABALLAPURA\",\"SHIVAMOGGA\",\"TUMAKURU\",\"CHIKKAMAGALURU\",\"DAKSHINA KANNADA\",\"UDUPI\",\"HASSAN\",\"KODAGU\",\"MANDYA\",\"MYSURU\",\"CHAMARAJANAGAR\",\"BELAGAVI\",\"VIJAYAPURA\",\"BAGALKOT\",\"DHARAWAD\",\"GADAG\",\"HAVERI\",\"UTTARA KANNADA\",\"BALLARI\",\"BIDAR\",\"KALABURAGI\",\"YADGIRI\",\"RAICHUR\",\"KOPPAL\"]}},\"y_range\":{\"type\":\"object\",\"name\":\"DataRange1d\",\"id\":\"p1120\"},\"x_scale\":{\"type\":\"object\",\"name\":\"CategoricalScale\",\"id\":\"p1129\"},\"y_scale\":{\"type\":\"object\",\"name\":\"LinearScale\",\"id\":\"p1130\"},\"title\":{\"type\":\"object\",\"name\":\"Title\",\"id\":\"p1121\",\"attributes\":{\"text\":\"SowingSeedsDistributed_Jowar_318 vs District\"}},\"renderers\":[{\"type\":\"object\",\"name\":\"GlyphRenderer\",\"id\":\"p1150\",\"attributes\":{\"data_source\":{\"type\":\"object\",\"name\":\"ColumnDataSource\",\"id\":\"p1141\",\"attributes\":{\"selected\":{\"type\":\"object\",\"name\":\"Selection\",\"id\":\"p1142\",\"attributes\":{\"indices\":[],\"line_indices\":[]}},\"selection_policy\":{\"type\":\"object\",\"name\":\"UnionRenderers\",\"id\":\"p1143\"},\"data\":{\"type\":\"map\",\"entries\":[[\"x\",[\"BENGALURU\",\"BENGALURU(R)\",\"RAMANAGARA\",\"CHITRADURGA\",\"DAVANAGERE\",\"KOLAR\",\"CHIKKABALLAPURA\",\"SHIVAMOGGA\",\"TUMAKURU\",\"CHIKKAMAGALURU\",\"DAKSHINA KANNADA\",\"UDUPI\",\"HASSAN\",\"KODAGU\",\"MANDYA\",\"MYSURU\",\"CHAMARAJANAGAR\",\"BELAGAVI\",\"VIJAYAPURA\",\"BAGALKOT\",\"DHARAWAD\",\"GADAG\",\"HAVERI\",\"UTTARA KANNADA\",\"BALLARI\",\"BIDAR\",\"KALABURAGI\",\"YADGIRI\",\"RAICHUR\",\"KOPPAL\"]],[\"y\",{\"type\":\"ndarray\",\"array\":{\"type\":\"bytes\",\"data\":\"AAAAAAAAAAAAAAAAAAAAAAAAAAAAAAAAAAAAAABwcEDNzMzMzMRgQAAAAAAAAAAAAAAAAAAAAAAAAAAAAAD4PwAAAAAAAAAA4XoUrkeBikAAAAAAAAAAAAAAAAAAAAAAH4XrUbjeOEAAAAAAAAAAAAAAAAAAAAAAw/UoXI/CMUAAAAAAACBZQMP1KFyPu6FAzczMzMxzlECamZmZmdGJQAAAAAAAAAhAAAAAAABwgEDsUbgehRSRQAAAAAAAAAAArkfhehS+bkAzMzMzM2tuQAAAAAAAAIpAUrgehevJY0DhehSuR7lrQAAAAAAAGIhA\"},\"shape\":[30],\"dtype\":\"float64\",\"order\":\"little\"}]]}}},\"view\":{\"type\":\"object\",\"name\":\"CDSView\",\"id\":\"p1151\",\"attributes\":{\"filter\":{\"type\":\"object\",\"name\":\"AllIndices\",\"id\":\"p1152\"}}},\"glyph\":{\"type\":\"object\",\"name\":\"VBar\",\"id\":\"p1147\",\"attributes\":{\"x\":{\"type\":\"field\",\"field\":\"x\"},\"width\":{\"type\":\"value\",\"value\":0.8},\"top\":{\"type\":\"field\",\"field\":\"y\"},\"line_color\":{\"type\":\"value\",\"value\":\"#ffbb78\"},\"fill_color\":{\"type\":\"value\",\"value\":\"#ffbb78\"},\"hatch_color\":{\"type\":\"value\",\"value\":\"#ffbb78\"}}},\"nonselection_glyph\":{\"type\":\"object\",\"name\":\"VBar\",\"id\":\"p1148\",\"attributes\":{\"x\":{\"type\":\"field\",\"field\":\"x\"},\"width\":{\"type\":\"value\",\"value\":0.8},\"top\":{\"type\":\"field\",\"field\":\"y\"},\"line_color\":{\"type\":\"value\",\"value\":\"#ffbb78\"},\"line_alpha\":{\"type\":\"value\",\"value\":0.1},\"fill_color\":{\"type\":\"value\",\"value\":\"#ffbb78\"},\"fill_alpha\":{\"type\":\"value\",\"value\":0.1},\"hatch_color\":{\"type\":\"value\",\"value\":\"#ffbb78\"},\"hatch_alpha\":{\"type\":\"value\",\"value\":0.1}}},\"muted_glyph\":{\"type\":\"object\",\"name\":\"VBar\",\"id\":\"p1149\",\"attributes\":{\"x\":{\"type\":\"field\",\"field\":\"x\"},\"width\":{\"type\":\"value\",\"value\":0.8},\"top\":{\"type\":\"field\",\"field\":\"y\"},\"line_color\":{\"type\":\"value\",\"value\":\"#ffbb78\"},\"line_alpha\":{\"type\":\"value\",\"value\":0.2},\"fill_color\":{\"type\":\"value\",\"value\":\"#ffbb78\"},\"fill_alpha\":{\"type\":\"value\",\"value\":0.2},\"hatch_color\":{\"type\":\"value\",\"value\":\"#ffbb78\"},\"hatch_alpha\":{\"type\":\"value\",\"value\":0.2}}}}}],\"toolbar\":{\"type\":\"object\",\"name\":\"Toolbar\",\"id\":\"p1127\",\"attributes\":{\"tools\":[{\"type\":\"object\",\"name\":\"HoverTool\",\"id\":\"p1155\",\"attributes\":{\"renderers\":\"auto\",\"tooltips\":[[\"District\",\"@x\"],[\"SowingSeedsDistributed_Jowar_318\",\"@y\"]]}}]}},\"toolbar_location\":null,\"left\":[{\"type\":\"object\",\"name\":\"LinearAxis\",\"id\":\"p1136\",\"attributes\":{\"ticker\":{\"type\":\"object\",\"name\":\"BasicTicker\",\"id\":\"p1137\",\"attributes\":{\"mantissas\":[1,2,5]}},\"formatter\":{\"type\":\"object\",\"name\":\"BasicTickFormatter\",\"id\":\"p1138\"},\"axis_label\":\"SowingSeedsDistributed_Jowar_318\",\"major_label_policy\":{\"type\":\"object\",\"name\":\"AllLabels\",\"id\":\"p1139\"}}}],\"below\":[{\"type\":\"object\",\"name\":\"CategoricalAxis\",\"id\":\"p1131\",\"attributes\":{\"ticker\":{\"type\":\"object\",\"name\":\"CategoricalTicker\",\"id\":\"p1132\"},\"formatter\":{\"type\":\"object\",\"name\":\"CategoricalTickFormatter\",\"id\":\"p1133\"},\"major_label_orientation\":\"vertical\",\"major_label_policy\":{\"type\":\"object\",\"name\":\"AllLabels\",\"id\":\"p1134\"}}}],\"center\":[{\"type\":\"object\",\"name\":\"Grid\",\"id\":\"p1135\",\"attributes\":{\"axis\":{\"id\":\"p1131\"}}},{\"type\":\"object\",\"name\":\"Grid\",\"id\":\"p1140\",\"attributes\":{\"dimension\":1,\"axis\":{\"id\":\"p1136\"}}},{\"type\":\"object\",\"name\":\"Legend\",\"id\":\"p1153\",\"attributes\":{\"click_policy\":\"hide\",\"items\":[{\"type\":\"object\",\"name\":\"LegendItem\",\"id\":\"p1154\",\"attributes\":{\"label\":{\"type\":\"value\",\"value\":\"SowingSeedsDistributed_Jowar_318\"},\"renderers\":[{\"id\":\"p1150\"}]}}]}}]}}]}};\n  const render_items = [{\"docid\":\"af435304-1979-4106-9d52-2f070beb95a7\",\"roots\":{\"p1118\":\"d588c621-7337-4ee6-b5c2-9817e7341798\"},\"root_ids\":[\"p1118\"]}];\n  root.Bokeh.embed.embed_items_notebook(docs_json, render_items);\n  }\n  if (root.Bokeh !== undefined) {\n    embed_document(root);\n  } else {\n    let attempts = 0;\n    const timer = setInterval(function(root) {\n      if (root.Bokeh !== undefined) {\n        clearInterval(timer);\n        embed_document(root);\n      } else {\n        attempts++;\n        if (attempts > 100) {\n          clearInterval(timer);\n          console.log(\"Bokeh: ERROR: Unable to run BokehJS code because BokehJS library is missing\");\n        }\n      }\n    }, 10, root)\n  }\n})(window);",
      "application/vnd.bokehjs_exec.v0+json": ""
     },
     "metadata": {
      "application/vnd.bokehjs_exec.v0+json": {
       "id": "p1118"
      }
     },
     "output_type": "display_data"
    },
    {
     "data": {
      "text/html": [
       "\n",
       "  <div id=\"a00369a9-11a6-43bc-b8ef-e6acb97795bf\" data-root-id=\"p1157\" style=\"display: contents;\"></div>\n"
      ]
     },
     "metadata": {},
     "output_type": "display_data"
    },
    {
     "data": {
      "application/javascript": "(function(root) {\n  function embed_document(root) {\n  const docs_json = {\"4e2176a6-b11a-4d65-8242-cfbcfa6051c0\":{\"version\":\"3.3.3\",\"title\":\"Bokeh Application\",\"roots\":[{\"type\":\"object\",\"name\":\"Figure\",\"id\":\"p1157\",\"attributes\":{\"sizing_mode\":\"stretch_width\",\"x_range\":{\"type\":\"object\",\"name\":\"FactorRange\",\"id\":\"p1167\",\"attributes\":{\"factors\":[\"BENGALURU\",\"BENGALURU(R)\",\"RAMANAGARA\",\"CHITRADURGA\",\"DAVANAGERE\",\"KOLAR\",\"CHIKKABALLAPURA\",\"SHIVAMOGGA\",\"TUMAKURU\",\"CHIKKAMAGALURU\",\"DAKSHINA KANNADA\",\"UDUPI\",\"HASSAN\",\"KODAGU\",\"MANDYA\",\"MYSURU\",\"CHAMARAJANAGAR\",\"BELAGAVI\",\"VIJAYAPURA\",\"BAGALKOT\",\"DHARAWAD\",\"GADAG\",\"HAVERI\",\"UTTARA KANNADA\",\"BALLARI\",\"BIDAR\",\"KALABURAGI\",\"YADGIRI\",\"RAICHUR\",\"KOPPAL\"]}},\"y_range\":{\"type\":\"object\",\"name\":\"DataRange1d\",\"id\":\"p1159\"},\"x_scale\":{\"type\":\"object\",\"name\":\"CategoricalScale\",\"id\":\"p1168\"},\"y_scale\":{\"type\":\"object\",\"name\":\"LinearScale\",\"id\":\"p1169\"},\"title\":{\"type\":\"object\",\"name\":\"Title\",\"id\":\"p1160\",\"attributes\":{\"text\":\"SowingSeedsDistributed_Maize_320 vs District\"}},\"renderers\":[{\"type\":\"object\",\"name\":\"GlyphRenderer\",\"id\":\"p1189\",\"attributes\":{\"data_source\":{\"type\":\"object\",\"name\":\"ColumnDataSource\",\"id\":\"p1180\",\"attributes\":{\"selected\":{\"type\":\"object\",\"name\":\"Selection\",\"id\":\"p1181\",\"attributes\":{\"indices\":[],\"line_indices\":[]}},\"selection_policy\":{\"type\":\"object\",\"name\":\"UnionRenderers\",\"id\":\"p1182\"},\"data\":{\"type\":\"map\",\"entries\":[[\"x\",[\"BENGALURU\",\"BENGALURU(R)\",\"RAMANAGARA\",\"CHITRADURGA\",\"DAVANAGERE\",\"KOLAR\",\"CHIKKABALLAPURA\",\"SHIVAMOGGA\",\"TUMAKURU\",\"CHIKKAMAGALURU\",\"DAKSHINA KANNADA\",\"UDUPI\",\"HASSAN\",\"KODAGU\",\"MANDYA\",\"MYSURU\",\"CHAMARAJANAGAR\",\"BELAGAVI\",\"VIJAYAPURA\",\"BAGALKOT\",\"DHARAWAD\",\"GADAG\",\"HAVERI\",\"UTTARA KANNADA\",\"BALLARI\",\"BIDAR\",\"KALABURAGI\",\"YADGIRI\",\"RAICHUR\",\"KOPPAL\"]],[\"y\",{\"type\":\"ndarray\",\"array\":{\"type\":\"bytes\",\"data\":\"zczMzMzMEUCPwvUoXNdgQGZmZmZmQnBAAAAAAACMs0CamZmZmey3QAAAAAAAwElAzczMzEykq0DXo3A9CsytQGZmZmZmn5lArkfhepTXpkAAAAAAAAAAAAAAAAAAAAAA16NwPapuwUCF61G4Hs1uQArXo3A90IhAH4XrUbiVmEAzMzMzMw2gQNejcD3KNcdA7FG4HoX1pEBmZmZmJi62QDMzMzOzTqNAAAAAAAAPsEDNzMzMzB7GQM3MzMzM9JZA9ihcjwJWtkDNzMzMzIw4QAAAAAAAoGRAAAAAAAAAAAAzMzMzM7MsQAAAAAAArLRA\"},\"shape\":[30],\"dtype\":\"float64\",\"order\":\"little\"}]]}}},\"view\":{\"type\":\"object\",\"name\":\"CDSView\",\"id\":\"p1190\",\"attributes\":{\"filter\":{\"type\":\"object\",\"name\":\"AllIndices\",\"id\":\"p1191\"}}},\"glyph\":{\"type\":\"object\",\"name\":\"VBar\",\"id\":\"p1186\",\"attributes\":{\"x\":{\"type\":\"field\",\"field\":\"x\"},\"width\":{\"type\":\"value\",\"value\":0.8},\"top\":{\"type\":\"field\",\"field\":\"y\"},\"line_color\":{\"type\":\"value\",\"value\":\"#2ca02c\"},\"fill_color\":{\"type\":\"value\",\"value\":\"#2ca02c\"},\"hatch_color\":{\"type\":\"value\",\"value\":\"#2ca02c\"}}},\"nonselection_glyph\":{\"type\":\"object\",\"name\":\"VBar\",\"id\":\"p1187\",\"attributes\":{\"x\":{\"type\":\"field\",\"field\":\"x\"},\"width\":{\"type\":\"value\",\"value\":0.8},\"top\":{\"type\":\"field\",\"field\":\"y\"},\"line_color\":{\"type\":\"value\",\"value\":\"#2ca02c\"},\"line_alpha\":{\"type\":\"value\",\"value\":0.1},\"fill_color\":{\"type\":\"value\",\"value\":\"#2ca02c\"},\"fill_alpha\":{\"type\":\"value\",\"value\":0.1},\"hatch_color\":{\"type\":\"value\",\"value\":\"#2ca02c\"},\"hatch_alpha\":{\"type\":\"value\",\"value\":0.1}}},\"muted_glyph\":{\"type\":\"object\",\"name\":\"VBar\",\"id\":\"p1188\",\"attributes\":{\"x\":{\"type\":\"field\",\"field\":\"x\"},\"width\":{\"type\":\"value\",\"value\":0.8},\"top\":{\"type\":\"field\",\"field\":\"y\"},\"line_color\":{\"type\":\"value\",\"value\":\"#2ca02c\"},\"line_alpha\":{\"type\":\"value\",\"value\":0.2},\"fill_color\":{\"type\":\"value\",\"value\":\"#2ca02c\"},\"fill_alpha\":{\"type\":\"value\",\"value\":0.2},\"hatch_color\":{\"type\":\"value\",\"value\":\"#2ca02c\"},\"hatch_alpha\":{\"type\":\"value\",\"value\":0.2}}}}}],\"toolbar\":{\"type\":\"object\",\"name\":\"Toolbar\",\"id\":\"p1166\",\"attributes\":{\"tools\":[{\"type\":\"object\",\"name\":\"HoverTool\",\"id\":\"p1194\",\"attributes\":{\"renderers\":\"auto\",\"tooltips\":[[\"District\",\"@x\"],[\"SowingSeedsDistributed_Maize_320\",\"@y\"]]}}]}},\"toolbar_location\":null,\"left\":[{\"type\":\"object\",\"name\":\"LinearAxis\",\"id\":\"p1175\",\"attributes\":{\"ticker\":{\"type\":\"object\",\"name\":\"BasicTicker\",\"id\":\"p1176\",\"attributes\":{\"mantissas\":[1,2,5]}},\"formatter\":{\"type\":\"object\",\"name\":\"BasicTickFormatter\",\"id\":\"p1177\"},\"axis_label\":\"SowingSeedsDistributed_Maize_320\",\"major_label_policy\":{\"type\":\"object\",\"name\":\"AllLabels\",\"id\":\"p1178\"}}}],\"below\":[{\"type\":\"object\",\"name\":\"CategoricalAxis\",\"id\":\"p1170\",\"attributes\":{\"ticker\":{\"type\":\"object\",\"name\":\"CategoricalTicker\",\"id\":\"p1171\"},\"formatter\":{\"type\":\"object\",\"name\":\"CategoricalTickFormatter\",\"id\":\"p1172\"},\"major_label_orientation\":\"vertical\",\"major_label_policy\":{\"type\":\"object\",\"name\":\"AllLabels\",\"id\":\"p1173\"}}}],\"center\":[{\"type\":\"object\",\"name\":\"Grid\",\"id\":\"p1174\",\"attributes\":{\"axis\":{\"id\":\"p1170\"}}},{\"type\":\"object\",\"name\":\"Grid\",\"id\":\"p1179\",\"attributes\":{\"dimension\":1,\"axis\":{\"id\":\"p1175\"}}},{\"type\":\"object\",\"name\":\"Legend\",\"id\":\"p1192\",\"attributes\":{\"click_policy\":\"hide\",\"items\":[{\"type\":\"object\",\"name\":\"LegendItem\",\"id\":\"p1193\",\"attributes\":{\"label\":{\"type\":\"value\",\"value\":\"SowingSeedsDistributed_Maize_320\"},\"renderers\":[{\"id\":\"p1189\"}]}}]}}]}}]}};\n  const render_items = [{\"docid\":\"4e2176a6-b11a-4d65-8242-cfbcfa6051c0\",\"roots\":{\"p1157\":\"a00369a9-11a6-43bc-b8ef-e6acb97795bf\"},\"root_ids\":[\"p1157\"]}];\n  root.Bokeh.embed.embed_items_notebook(docs_json, render_items);\n  }\n  if (root.Bokeh !== undefined) {\n    embed_document(root);\n  } else {\n    let attempts = 0;\n    const timer = setInterval(function(root) {\n      if (root.Bokeh !== undefined) {\n        clearInterval(timer);\n        embed_document(root);\n      } else {\n        attempts++;\n        if (attempts > 100) {\n          clearInterval(timer);\n          console.log(\"Bokeh: ERROR: Unable to run BokehJS code because BokehJS library is missing\");\n        }\n      }\n    }, 10, root)\n  }\n})(window);",
      "application/vnd.bokehjs_exec.v0+json": ""
     },
     "metadata": {
      "application/vnd.bokehjs_exec.v0+json": {
       "id": "p1157"
      }
     },
     "output_type": "display_data"
    }
   ],
   "source": [
    "# List of districts in the dataset\n",
    "districts = df['District'].tolist()\n",
    "\n",
    "# List of columns to visualize\n",
    "columns_to_visualize = ['Rice_Production_223', 'Jowar_Yield_278', 'Maize_Production_226', 'SowingSeedsDistributed_Jowar_318', 'SowingSeedsDistributed_Maize_320']\n",
    "\n",
    "colors = Category20[len(columns_to_visualize)]\n",
    "\n",
    "# Create a figure for each column\n",
    "for column, color in zip(columns_to_visualize, colors):\n",
    "    # Create a new plot\n",
    "    plot = figure(title=f'{column} vs District', x_range=districts, sizing_mode='stretch_width', toolbar_location=None, tools='')\n",
    "\n",
    "    # Plot the data\n",
    "    source = ColumnDataSource(data=dict(x=districts, y=df[column]))\n",
    "    plot.vbar(x='x', top='y', width=0.8, color=color, legend_label=column, source=source)\n",
    "\n",
    "    # Add hover tooltips\n",
    "    hover = HoverTool()\n",
    "    hover.tooltips = [('District', '@x'), (column, '@y')]\n",
    "    plot.add_tools(hover)\n",
    "\n",
    "    # Styling\n",
    "    plot.xaxis.major_label_orientation = \"vertical\"\n",
    "    plot.yaxis.axis_label = column\n",
    "    plot.legend.location = 'top_right'\n",
    "    plot.legend.click_policy = 'hide'\n",
    "\n",
    "    # Show the plot\n",
    "    show(plot)\n"
   ]
  },
  {
   "cell_type": "code",
   "execution_count": null,
   "metadata": {},
   "outputs": [
    {
     "data": {
      "text/html": [
       "\n",
       "  <div id=\"d3e2e73c-d489-4abb-9402-541eb269497f\" data-root-id=\"p1197\" style=\"display: contents;\"></div>\n"
      ]
     },
     "metadata": {},
     "output_type": "display_data"
    },
    {
     "data": {
      "application/javascript": "(function(root) {\n  function embed_document(root) {\n  const docs_json = {\"8c4bbe7d-2ace-46f6-9dbc-ae97cb649985\":{\"version\":\"3.3.3\",\"title\":\"Bokeh Application\",\"roots\":[{\"type\":\"object\",\"name\":\"Figure\",\"id\":\"p1197\",\"attributes\":{\"x_range\":{\"type\":\"object\",\"name\":\"FactorRange\",\"id\":\"p1196\",\"attributes\":{\"factors\":[\"BENGALURU\",\"BENGALURU(R)\",\"RAMANAGARA\",\"CHITRADURGA\",\"DAVANAGERE\",\"KOLAR\",\"CHIKKABALLAPURA\",\"SHIVAMOGGA\",\"TUMAKURU\",\"CHIKKAMAGALURU\",\"DAKSHINA KANNADA\",\"UDUPI\",\"HASSAN\",\"KODAGU\",\"MANDYA\",\"MYSURU\",\"CHAMARAJANAGAR\",\"BELAGAVI\",\"VIJAYAPURA\",\"BAGALKOT\",\"DHARAWAD\",\"GADAG\",\"HAVERI\",\"UTTARA KANNADA\",\"BALLARI\",\"BIDAR\",\"KALABURAGI\",\"YADGIRI\",\"RAICHUR\",\"KOPPAL\"]}},\"y_range\":{\"type\":\"object\",\"name\":\"DataRange1d\",\"id\":\"p1199\"},\"x_scale\":{\"type\":\"object\",\"name\":\"CategoricalScale\",\"id\":\"p1207\"},\"y_scale\":{\"type\":\"object\",\"name\":\"LinearScale\",\"id\":\"p1208\"},\"title\":{\"type\":\"object\",\"name\":\"Title\",\"id\":\"p1200\",\"attributes\":{\"text\":\"Production Comparison by Crop and District\"}},\"renderers\":[{\"type\":\"object\",\"name\":\"GlyphRenderer\",\"id\":\"p1234\",\"attributes\":{\"name\":\"Rice_Production_223\",\"data_source\":{\"type\":\"object\",\"name\":\"ColumnDataSource\",\"id\":\"p1219\",\"attributes\":{\"selected\":{\"type\":\"object\",\"name\":\"Selection\",\"id\":\"p1220\",\"attributes\":{\"indices\":[],\"line_indices\":[]}},\"selection_policy\":{\"type\":\"object\",\"name\":\"UnionRenderers\",\"id\":\"p1221\"},\"data\":{\"type\":\"map\",\"entries\":[[\"index\",{\"type\":\"ndarray\",\"array\":{\"type\":\"bytes\",\"data\":\"AAAAAAEAAAACAAAAAwAAAAQAAAAFAAAABgAAAAcAAAAIAAAACQAAAAoAAAALAAAADAAAAA0AAAAOAAAADwAAABAAAAARAAAAEgAAABMAAAAUAAAAFQAAABYAAAAXAAAAGAAAABkAAAAaAAAAGwAAABwAAAAdAAAA\"},\"shape\":[30],\"dtype\":\"int32\",\"order\":\"little\"}],[\"District\",{\"type\":\"ndarray\",\"array\":[\"BENGALURU\",\"BENGALURU(R)\",\"RAMANAGARA\",\"CHITRADURGA\",\"DAVANAGERE\",\"KOLAR\",\"CHIKKABALLAPURA\",\"SHIVAMOGGA\",\"TUMAKURU\",\"CHIKKAMAGALURU\",\"DAKSHINA KANNADA\",\"UDUPI\",\"HASSAN\",\"KODAGU\",\"MANDYA\",\"MYSURU\",\"CHAMARAJANAGAR\",\"BELAGAVI\",\"VIJAYAPURA\",\"BAGALKOT\",\"DHARAWAD\",\"GADAG\",\"HAVERI\",\"UTTARA KANNADA\",\"BALLARI\",\"BIDAR\",\"KALABURAGI\",\"YADGIRI\",\"RAICHUR\",\"KOPPAL\"],\"shape\":[30],\"dtype\":\"object\",\"order\":\"little\"}],[\"Nitrogen_312\",{\"type\":\"ndarray\",\"array\":{\"type\":\"bytes\",\"data\":\"zzQAAFsmAADiEwAAl08AAJLUAADlKwAAPjgAAJFsAAAlUwAAfnQAAPkaAAApCwAAkoMAAG1EAACqlwAALX0AACEsAAADhwEAgXEAAPaxAAAEUQAAozQAABWUAADGIQAAMxABAFIuAABGZQAAnsQAALgDAQBpnwAA\"},\"shape\":[30],\"dtype\":\"int32\",\"order\":\"little\"}],[\"Phosphorus_313\",{\"type\":\"ndarray\",\"array\":{\"type\":\"bytes\",\"data\":\"9xwAAE0eAAA5BgAAwy4AAEKEAACiHgAAECkAABdEAAAlMAAAo0oAAIARAACEBQAAsVUAAPgtAABHMwAANUwAAAAbAADyrwAAtkgAAB5bAADoMwAANx0AACBUAADrDgAA/ZoAAAQrAACEXgAAnXwAAHmZAABAWAAA\"},\"shape\":[30],\"dtype\":\"int32\",\"order\":\"little\"}],[\"Potassium_314\",{\"type\":\"ndarray\",\"array\":{\"type\":\"bytes\",\"data\":\"SAkAAJMGAAAVAwAA0g0AAGgsAAAnDAAAdw0AAHksAAC6EQAA9UkAACMcAABXBwAADTIAAI4tAACdIQAA2ygAANoVAAAjiAAAnRkAADg+AAAZDQAAFwkAALQVAAAjCwAAkTYAAPwGAAAlDwAAwiMAAMMsAACnJwAA\"},\"shape\":[30],\"dtype\":\"int32\",\"order\":\"little\"}],[\"TotalNPK_315\",{\"type\":\"ndarray\",\"array\":{\"type\":\"bytes\",\"data\":\"DlsAADtLAAAwHQAALIwAADyFAQCuVgAAxW4AACHdAAAElQAAFwkBAJxIAAAEGAAATwsBAPOfAACO7AAAPvIAAPtcAAAYvwIA1NMAAExLAQAFkgAA8FoAAOn9AADUOwAAweEBAFJgAADv0gAA/WQBAPPJAQBQHwEA\"},\"shape\":[30],\"dtype\":\"int32\",\"order\":\"little\"}],[\"Rice_Production_223\",{\"type\":\"ndarray\",\"array\":{\"type\":\"bytes\",\"data\":\"MA0AADIJAABgLwAA1hEAACF4BwBgAwAAigoAAM7fBQC6ZQAAxa8BAOwFAgCsGwIAWTECAB9RAQAPwwMAs2cFACCzAACQtQIAqgAAAFUAAADFhAAAWhwAAO7pAQCVVQIAR0oGAPQHAADQHgAAk20DADaDBwAxtwMA\"},\"shape\":[30],\"dtype\":\"int32\",\"order\":\"little\"}],[\"Jowar_Production_224\",{\"type\":\"ndarray\",\"array\":{\"type\":\"bytes\",\"data\":\"UwMAAAAAAAAAAAAA9TMAACBaAAAAAAAAAAAAAPQCAABcCgAAeCMAAAAAAAAAAAAA1QMAAAAAAACoBAAAnxcAAFMTAACTKAIAiwsCACt7AQDmpAAAYe8AAMGOAAAAAAAAVgkBAB2cAACT+QMAvrgAAA+DAQBasQAA\"},\"shape\":[30],\"dtype\":\"int32\",\"order\":\"little\"}],[\"Bajra_Production_225\",{\"type\":\"ndarray\",\"array\":{\"type\":\"bytes\",\"data\":\"AAAAAAAAAAADAAAAPQQAABoDAAAAAAAAAAAAAAIAAAAiAQAAAAAAAAAAAAAAAAAAAAAAAAAAAAAeAAAAAAAAAKgBAABeFgAACYoAAFRPAAAFAAAAjwMAAAAAAAAAAAAAdC0AAB0QAADWWAAA8DwAAA5zAAAtOAEA\"},\"shape\":[30],\"dtype\":\"int32\",\"order\":\"little\"}],[\"Maize_Production_226\",{\"type\":\"ndarray\",\"array\":{\"type\":\"bytes\",\"data\":\"PwsAAFemAADSKAAAZyYEAIgOCQDfBgAAE5wBAOR0AwA0BQEAqe8AAAAAAABtAAAAcRgFAAFGAAC7SwAAwhcCAK5BAgD2zAgAF3QDADPXAwAKYgEA7BwCAC9PBgAYXgAA2iwDAOcKAAAdOQAAcQoAANMCAAAs5wIA\"},\"shape\":[30],\"dtype\":\"int32\",\"order\":\"little\"}],[\"Ragi_Production_227\",{\"type\":\"ndarray\",\"array\":{\"type\":\"bytes\",\"data\":\"R/IAAJw5AQDmFAIAiGwBAFZJAAB0AwEAm+AAACsEAAATGwUAKM4AAAAAAAAAAAAA+2ACAAAAAAAiiQEAYkwBAHVpAAC4BAAAAAAAAAAAAAAMAAAACwAAAMcAAAALAAAAbgoAAAAAAAAAAAAAAAAAAAAAAAAAAAAA\"},\"shape\":[30],\"dtype\":\"int32\",\"order\":\"little\"}],[\"Wheat_Production_228\",{\"type\":\"ndarray\",\"array\":{\"type\":\"bytes\",\"data\":\"AAAAAAAAAAAAAAAAdwEAAJUCAAAAAAAAAAAAAAAAAAAAAAAAAAAAAAAAAAAAAAAAAAAAAAAAAAAAAAAAAAAAAAAAAAB3DAEAVeEAAJ2iAAB3fwAAvEsAACICAAAAAAAA3wAAAAcaAABUZAAAagQAAPMCAADGFgAA\"},\"shape\":[30],\"dtype\":\"int32\",\"order\":\"little\"}],[\"TotalCerealsandMinorMillets_Production_230\",{\"type\":\"ndarray\",\"array\":{\"type\":\"bytes\",\"data\":\"IQ4BADDpAQAgbQIA8e4FAGExEQDhDQEAW4cCANNbCQDKlQYAr5gDAOwFAgAZHAIAQ68JACCXAQCynAUAduMIAFZzAwCf1g4AqusGAKREBgCqCwMAFHgDAIrQCAC4swIA4bsKACTZAADsDgUAMHIEABl/CQBWoggA\"},\"shape\":[30],\"dtype\":\"int32\",\"order\":\"little\"}],[\"Rice_Yield_277\",{\"type\":\"ndarray\",\"array\":{\"type\":\"bytes\",\"data\":\"TA4AAPAOAACMCQAARQkAALoOAABUCgAAoQ0AAPoMAABECwAARAsAAGoKAAB3CwAASwwAAHYLAAAcDwAA3g0AAKYNAAAuDAAA+A0AAPgNAADCBgAAmg4AACsLAAAuCQAARg4AAA8EAAC8BQAAQAsAAHQMAABQDQAA\"},\"shape\":[30],\"dtype\":\"int32\",\"order\":\"little\"}],[\"Jowar_Yield_278\",{\"type\":\"ndarray\",\"array\":{\"type\":\"bytes\",\"data\":\"AwYAAAAAAAAAAAAA2AMAAHcIAAAAAAAAAAAAAMIIAABCBQAAgQMAAAAAAAAAAAAAlQMAAAAAAADKAwAAUAQAAHMBAACwBAAAzgMAAMYDAAA4BAAAAQQAALcEAAAAAAAADwcAACIEAAB6BAAArQQAAE8FAAAgBQAA\"},\"shape\":[30],\"dtype\":\"int32\",\"order\":\"little\"}],[\"Bajra_Yield_279\",{\"type\":\"ndarray\",\"array\":{\"type\":\"bytes\",\"data\":\"AAAAAAAAAADzAwAAoQIAADsFAAAAAAAAAAAAAL0DAACKAwAAAAAAAAAAAAAAAAAAAAAAAAAAAACGAwAAAAAAALYEAACLAgAA+gIAAMsDAADzAwAAjAEAAAAAAAAAAAAAEwMAAI4EAAD6BQAA+AMAAJ4CAABnBgAA\"},\"shape\":[30],\"dtype\":\"int32\",\"order\":\"little\"}],[\"Maize_Yield_280\",{\"type\":\"ndarray\",\"array\":{\"type\":\"bytes\",\"data\":\"0AwAAAcMAAC9DwAALQwAAGcNAACsDQAAkgYAAPYOAADACQAAsgoAAAAAAADxDgAAdRAAAO8UAADBEQAAGg8AAIMRAAAiDwAAGQ4AADQPAAAZCwAASQoAAHkLAAC9DwAAvQkAAL4HAAD2CgAA/gwAAGgJAAA8DAAA\"},\"shape\":[30],\"dtype\":\"int32\",\"order\":\"little\"}],[\"Ragi_Yield_281\",{\"type\":\"ndarray\",\"array\":{\"type\":\"bytes\",\"data\":\"pwoAAC4JAAAPCAAAtgYAAGgGAAA0BQAABwUAAKEHAAC+BwAA6wQAAAAAAAAAAAAAnggAAAAAAAD4BgAArggAAB8HAABiBAAAAAAAAAAAAACWBAAAlgQAAKMDAAAHBQAAewMAAAAAAAAAAAAAAAAAAAAAAAAAAAAA\"},\"shape\":[30],\"dtype\":\"int32\",\"order\":\"little\"}],[\"Wheat_Yield_282\",{\"type\":\"ndarray\",\"array\":{\"type\":\"bytes\",\"data\":\"AAAAAAAAAAAAAAAAzAUAAEQHAAAAAAAAAAAAAAAAAAAAAAAAAAAAAAAAAAAAAAAAAAAAAAAAAAAAAAAAAAAAAAAAAAAKBgAAawQAAF4HAAChBAAAwgQAAIsDAAAAAAAAfQMAAFAGAAB3BwAATQQAALsEAADGAwAA\"},\"shape\":[30],\"dtype\":\"int32\",\"order\":\"little\"}],[\"TotalCerealsandMillets_Yield_284\",{\"type\":\"ndarray\",\"array\":{\"type\":\"bytes\",\"data\":\"vgoAAA8KAABuCAAAHwkAAHUNAABRBQAA+wUAAJ8NAAALCAAA+wcAAGoKAAB3CwAAlgwAAG4MAABvCwAAtgwAANYLAAAFCgAA8wUAALUHAACVBgAAsgYAAGcKAAC8CQAA1QoAAHMEAADdBAAAcggAAO4IAADbCQAA\"},\"shape\":[30],\"dtype\":\"int32\",\"order\":\"little\"}],[\"Groundnut_Production_241\",{\"type\":\"ndarray\",\"array\":{\"type\":\"bytes\",\"data\":\"RwAAAM4AAADeEgAA3wsBANBAAACyFgAA3BsAAPgAAADKmgAARQ8AAAAAAAAnDgAACQIAAC0AAAD9AwAAeggAAKMiAABqmgAAiGsAAGRjAAC6UgAAZHoAAIVHAADxDgAANbMAAAUBAAAqDAAAy3oAAE5pAAAedQAA\"},\"shape\":[30],\"dtype\":\"int32\",\"order\":\"little\"}],[\"Sunflower_Production_242\",{\"type\":\"ndarray\",\"array\":{\"type\":\"bytes\",\"data\":\"AgAAAAoAAAABAAAAdhYAAKwRAAAAAAAAZgAAAFoHAABNAwAAxwUAAAAAAAAAAAAAuQIAAAAAAAAIAAAA+gIAAFQJAACkKwAAWlQAAAhUAACsBQAAhkkAAKkUAAAoAAAAUjEAAOsCAACgWQAAMQgAAPYtAABEgwAA\"},\"shape\":[30],\"dtype\":\"int32\",\"order\":\"little\"}],[\"Safflower_Production_243\",{\"type\":\"ndarray\",\"array\":{\"type\":\"bytes\",\"data\":\"AAAAAAAAAAAAAAAAqgMAAAEAAAAAAAAAAAAAAAkAAAAAAAAAAAAAAAAAAAAAAAAAAAAAAAAAAAAAAAAAEgAAAAAAAAC7CAAACAQAAGgBAAB5DgAAOAgAAPECAAAAAAAAJAAAAH8cAAAMCQAANwEAANMDAADCFQAA\"},\"shape\":[30],\"dtype\":\"int32\",\"order\":\"little\"}],[\"Castor_Production_244\",{\"type\":\"ndarray\",\"array\":{\"type\":\"bytes\",\"data\":\"HwAAAI8AAAB1AwAAOQIAAHwAAAAjAAAALQAAAAEAAACcBgAAkgAAAAAAAAAAAAAAsgQAAAAAAACZAQAA3gIAAH4AAAAyAAAAAAAAAAAAAAAAAAAAAgAAAAgAAAAAAAAAJwAAAAcAAAAwAAAAHwAAAB8BAACwAgAA\"},\"shape\":[30],\"dtype\":\"int32\",\"order\":\"little\"}],[\"Sesamum_Production_245\",{\"type\":\"ndarray\",\"array\":{\"type\":\"bytes\",\"data\":\"BwAAAAQAAAAJAgAAbwkAABoAAABmAAAAAAAAAAUAAAAbAAAAjAsAAMEAAAATAAAANwcAAAAAAABvAwAAawkAANIAAACKAAAAIAAAAFgAAAC6AAAA6AAAAGUAAAAAAAAAJwIAAFkCAAAhCwAAIgAAAK0AAACIHAAA\"},\"shape\":[30],\"dtype\":\"int32\",\"order\":\"little\"}],[\"Linseed_Production_246\",{\"type\":\"ndarray\",\"array\":{\"type\":\"bytes\",\"data\":\"AAAAAAAAAAAAAAAAAAAAAAAAAAAAAAAAAAAAAAAAAAAKAAAAAQAAAAAAAAAAAAAAAAAAAAAAAAAAAAAABAAAAAEAAAANAQAApAAAAJUBAAAVAAAAJQAAABkAAAAAAAAAAAAAADEAAABuAAAAAAAAACwAAAD8AQAA\"},\"shape\":[30],\"dtype\":\"int32\",\"order\":\"little\"}],[\"Soyabean_Production_247\",{\"type\":\"ndarray\",\"array\":{\"type\":\"bytes\",\"data\":\"AAAAAAAAAAAAAAAAAAAAAAAAAAAAAAAAAAAAAAAAAAAAAAAAAAAAAAAAAAAAAAAAAAAAAAAAAAAAAAAAAAAAAAAAAACL9gAAAAAAABQKAADVhgAAAAAAALEPAAADAAAAAAAAAHMJAQByMwAAAAAAAAAAAAAAAAAA\"},\"shape\":[30],\"dtype\":\"int32\",\"order\":\"little\"}],[\"Nigerseed_Production_248\",{\"type\":\"ndarray\",\"array\":{\"type\":\"bytes\",\"data\":\"GAAAADgAAABfAAAACAAAADEAAAATAAAAAgAAAAEAAABlAAAAdQAAAAAAAAAAAAAAAwIAAAAAAAAbAQAA9wEAACEAAABLAAAAMAAAABQAAABQAAAAVwAAADEAAAAAAAAAIgAAAIQBAABgAAAAAAAAAAAAAAAOAQAA\"},\"shape\":[30],\"dtype\":\"int32\",\"order\":\"little\"}],[\"TotalOilSeeds_Production_249\",{\"type\":\"ndarray\",\"array\":{\"type\":\"bytes\",\"data\":\"ogAAAN8BAAAOGQAAsTEBAE9TAABqFwAArRwAAGIIAABbpQAApCEAAMEAAAA6DgAA1hIAAC0AAAAoCgAAyhkAAGktAACdxwEA3sQAAOnEAADW7gAAjc0AAIdvAAAcDwAAG+cAAAIuAQB+rgAAd4QAAA+dAABmMAEA\"},\"shape\":[30],\"dtype\":\"int32\",\"order\":\"little\"}],[\"Groundnut_Yield_295\",{\"type\":\"ndarray\",\"array\":{\"type\":\"bytes\",\"data\":\"egMAANoCAABiBQAAVQIAAO8DAADRAQAAmwEAAPkCAADSAQAAUAMAAAAAAABHCAAAogIAAJsCAACSAwAAagMAALkCAABPBAAAtgIAAOIDAAA1AwAA9wIAAEcEAAB7BwAAcQMAABwDAAAgAwAA+wIAAF0DAACEAwAA\"},\"shape\":[30],\"dtype\":\"int32\",\"order\":\"little\"}],[\"Sunflower_Yield_296\",{\"type\":\"ndarray\",\"array\":{\"type\":\"bytes\",\"data\":\"DgIAAA4CAACUAQAAlAEAAOQDAAAAAAAAhQUAADEJAABbAgAA3wEAAAAAAAAAAAAAKAMAAAAAAAC+AgAAfQQAABMBAAD5AgAAggEAACMCAADdAQAA1wEAALoEAABbAwAA/wEAAI0BAAA5AgAA5wEAAJcBAADUAgAA\"},\"shape\":[30],\"dtype\":\"int32\",\"order\":\"little\"}],[\"Safflower_Yield_297\",{\"type\":\"ndarray\",\"array\":{\"type\":\"bytes\",\"data\":\"AAAAAAAAAAAAAAAADAIAAHEDAAAAAAAAAAAAAHEDAAAAAAAAAAAAAAAAAAAAAAAAAAAAAAAAAAAAAAAArgQAAAAAAAAFAwAAnQEAAKoBAADUAgAADAQAAJgEAAAAAAAAQQEAAGEEAAD5AgAASgIAAHYDAABRBQAA\"},\"shape\":[30],\"dtype\":\"int32\",\"order\":\"little\"}],[\"Castor_Yield_298\",{\"type\":\"ndarray\",\"array\":{\"type\":\"bytes\",\"data\":\"hQIAAIUCAACjAwAAmgMAAIUCAACFAgAAhQIAAIUCAABXAgAAhQIAAAAAAAAAAAAAwwMAAAAAAACFAgAArgIAANMAAACFAgAAAAAAAAAAAAAAAAAAhQIAAIUCAAAAAAAAhQIAAIUCAACFAgAAhQIAAOEAAACyAgAA\"},\"shape\":[30],\"dtype\":\"int32\",\"order\":\"little\"}],[\"Linseed_Yield_299\",{\"type\":\"ndarray\",\"array\":{\"type\":\"bytes\",\"data\":\"AAAAAAAAAAAAAAAAAAAAAAAAAAAAAAAAAAAAAFkBAABZAQAAWQEAAAAAAAAAAAAAAAAAAAAAAAAAAAAAWQEAAFkBAABxAQAAyAAAAPEAAABZAQAAWQEAAFkBAAAAAAAAAAAAAFkBAABZAQAAAAAAACwDAACuAgAA\"},\"shape\":[30],\"dtype\":\"int32\",\"order\":\"little\"}],[\"Soyabean_Yield_300\",{\"type\":\"ndarray\",\"array\":{\"type\":\"bytes\",\"data\":\"AAAAAAAAAAAAAAAAAAAAAAAAAAAAAAAAAAAAAAAAAAAAAAAAAAAAAAAAAAAAAAAAAAAAAAAAAAAAAAAAAAAAAAAAAAB+AwAAAAAAADwEAABwBAAAAAAAAEsDAAD8AgAAAAAAAFQCAAB/AgAAAAAAAAAAAAAAAAAA\"},\"shape\":[30],\"dtype\":\"int32\",\"order\":\"little\"}],[\"Sesamum_Yield_301\",{\"type\":\"ndarray\",\"array\":{\"type\":\"bytes\",\"data\":\"MwIAADMCAACQAQAA+AIAANsCAAAzAgAAAAAAADMCAABpAAAABwIAADMCAAAzAgAAGgIAAAAAAAAZAQAAOQIAAAwBAACOAwAAcQAAAO4BAAAzAgAAnAIAAPUCAAAAAAAA0AEAADQBAAClAgAAAwEAAH8AAAD7AgAA\"},\"shape\":[30],\"dtype\":\"int32\",\"order\":\"little\"}],[\"Nigerseed_Yield_302\",{\"type\":\"ndarray\",\"array\":{\"type\":\"bytes\",\"data\":\"EgEAABIBAAClAAAAEgEAABIBAAASAQAAEgEAABIBAACqAAAAVAEAAAAAAAAAAAAAFgEAAAAAAAArAQAAEgEAABIBAAA7AQAAEgEAABIBAAASAQAAEgEAABIBAAAAAAAAEgEAAF4BAADmAAAAAAAAAAAAAAAOAQAA\"},\"shape\":[30],\"dtype\":\"int32\",\"order\":\"little\"}],[\"TotalOilSeeds_Yield_303\",{\"type\":\"ndarray\",\"array\":{\"type\":\"bytes\",\"data\":\"0gEAANUBAADAAwAARQIAAOIDAADPAQAAnwEAAEYHAADVAQAAaAIAADQCAAAoCAAARwIAAJsCAADAAQAAhQIAAPwBAACiAwAA+wEAAM8CAACsAwAAcgIAACYEAABgBwAA9AIAAGYCAABkAgAA3gIAAHQCAAArAwAA\"},\"shape\":[30],\"dtype\":\"int32\",\"order\":\"little\"}],[\"SowingSeedsDistributed_Paddy_316\",{\"type\":\"ndarray\",\"array\":{\"type\":\"bytes\",\"data\":\"PQrXo3B9M0Bcj8L1KNw2QIXrUbgeiZNAAAAAAADojkAAAAAAAOKGQAAAAAAAGpRAAAAAAACgk0AfhetReFXOQIXrUbhe5LdAAAAAAABjn0AAAAAAAM6MQAAAAAAAPKNAj8L1KJy2s0DNzMzMTIKkQLgehetxvtJAexSuR3EY2kBmZmZm5sOzQGZmZmZmBl5AAAAAAAAAAAAAAAAAAAAAAAAAAAAA9IVAAAAAAAAAAADNzMzMzCK1QKRwPQrXy75AAAAAAECUukAAAAAAAAA+QAAAAAAAwE9AMzMzMzP8o0BSuB6Fa1zFQAAAAAAAi6JA\"},\"shape\":[30],\"dtype\":\"float64\",\"order\":\"little\"}],[\"SowingSeedsDistributed_Wheat_317\",{\"type\":\"ndarray\",\"array\":{\"type\":\"bytes\",\"data\":\"AAAAAAAAAAAAAAAAAAAAAAAAAAAAAAAAAAAAAADAXUAAAAAAAAAAAAAAAAAAAAAAAAAAAAAAAAAAAAAAAAAAAAAAAAAAAAAAAAAAAAAAAAAAAAAAAAAAAAAAAAAAAAAAAAAAAAAAAAAAAAAAAAAAAAAAAAAAAAAAAAAAAAAAAAAAAAAAAAAAAM3MzMzM9aRAZmZmZmYjokCamZmZmX+qQM3MzMzMdH1AAAAAAABAaEAAAAAAAIBKQAAAAAAAAAAAAAAAAAAANkAAAAAAAKBdQAAAAAAAAAAAAAAAAAAAAAAAAAAAAAAAAAAAAAAAAAAA\"},\"shape\":[30],\"dtype\":\"float64\",\"order\":\"little\"}],[\"SowingSeedsDistributed_Jowar_318\",{\"type\":\"ndarray\",\"array\":{\"type\":\"bytes\",\"data\":\"AAAAAAAAAAAAAAAAAAAAAAAAAAAAAAAAAAAAAABwcEDNzMzMzMRgQAAAAAAAAAAAAAAAAAAAAAAAAAAAAAD4PwAAAAAAAAAA4XoUrkeBikAAAAAAAAAAAAAAAAAAAAAAH4XrUbjeOEAAAAAAAAAAAAAAAAAAAAAAw/UoXI/CMUAAAAAAACBZQMP1KFyPu6FAzczMzMxzlECamZmZmdGJQAAAAAAAAAhAAAAAAABwgEDsUbgehRSRQAAAAAAAAAAArkfhehS+bkAzMzMzM2tuQAAAAAAAAIpAUrgehevJY0DhehSuR7lrQAAAAAAAGIhA\"},\"shape\":[30],\"dtype\":\"float64\",\"order\":\"little\"}],[\"SowingSeedsDistributed_Ragi_319\",{\"type\":\"ndarray\",\"array\":{\"type\":\"bytes\",\"data\":\"XI/C9ShMUEDD9Shcj6JjQArXo3A9H55AAAAAAACYrUDXo3A9CkGJQM3MzMxMhqtAmpmZmZnomkAAAAAAALBZQDMzMzOzNKNAMzMzMzNKnUAAAAAAAAAAAAAAAAAAAAAAhetRuJ4ppUAAAAAAAAAAAHE9CtejwZNAZmZmZmaSeEDNzMzMzO6PQAAAAAAAAAAAAAAAAAAAAAAAAAAAAAAAAAAAAAAAAAAAAAAAAAAAAAAAAAAAAAAAAAAAAAAAAAAAMzMzMzPzb0AAAAAAAAAAAAAAAAAAAAAAAAAAAAAAAAAAAAAAAAAAAAAAAAAAAAAA\"},\"shape\":[30],\"dtype\":\"float64\",\"order\":\"little\"}],[\"SowingSeedsDistributed_Maize_320\",{\"type\":\"ndarray\",\"array\":{\"type\":\"bytes\",\"data\":\"zczMzMzMEUCPwvUoXNdgQGZmZmZmQnBAAAAAAACMs0CamZmZmey3QAAAAAAAwElAzczMzEykq0DXo3A9CsytQGZmZmZmn5lArkfhepTXpkAAAAAAAAAAAAAAAAAAAAAA16NwPapuwUCF61G4Hs1uQArXo3A90IhAH4XrUbiVmEAzMzMzMw2gQNejcD3KNcdA7FG4HoX1pEBmZmZmJi62QDMzMzOzTqNAAAAAAAAPsEDNzMzMzB7GQM3MzMzM9JZA9ihcjwJWtkDNzMzMzIw4QAAAAAAAoGRAAAAAAAAAAAAzMzMzM7MsQAAAAAAArLRA\"},\"shape\":[30],\"dtype\":\"float64\",\"order\":\"little\"}],[\"SowingSeedsDistributed_Bajra_321\",{\"type\":\"ndarray\",\"array\":{\"type\":\"bytes\",\"data\":\"AAAAAAAAAAAAAAAAAAAAAAAAAAAAAAAAAAAAAACAUEA9CtejcD0nQAAAAAAAAAAAAAAAAAAAAAAAAAAAAAAAAM3MzMzMzABAAAAAAAAAAAAAAAAAAAAAAAAAAAAAAAAAAAAAAAAAAAAAAAAAAAAAAAAAAAAAAAAAAAAAAAAAAAAAAAAAAAAAAFK4HoXreWlAexSuR+ESaUAAAAAAAAR5QAAAAAAAAAAAAAAAAAAAUEAAAAAAAAAAAAAAAAAAAAAAuB6F61EAnEDNzMzMzAwxQAAAAAAAIGJAZmZmZmZGQ0CPwvUoXGt1QAAAAAAAjJRA\"},\"shape\":[30],\"dtype\":\"float64\",\"order\":\"little\"}],[\"SowingSeedsDistributed_Safflower_323\",{\"type\":\"ndarray\",\"array\":{\"type\":\"bytes\",\"data\":\"AAAAAAAAAAAAAAAAAAAAAAAAAAAAAAAAAAAAAAAAAAAAAAAAAAAAAAAAAAAAAAAAAAAAAAAAAAAAAAAAAAAAAAAAAAAAAAAAAAAAAAAAAAAAAAAAAAAAAAAAAAAAAAAAAAAAAAAAAAAAAAAAAAAAAAAAAAAAAAAAAAAAAAAAAAAAAAAAAAAAAKRwPQrXozdAAAAAAAAAAAAAAAAAAAAAAAAAAAAAAPg/AAAAAAAAEEAAAAAAAAAAAAAAAAAAAAAAAAAAAAAAAACkcD0K12M5QAAAAAAAAAAAAAAAAAAAAAAAAAAAAAAAAAAAAAAAAAAA\"},\"shape\":[30],\"dtype\":\"float64\",\"order\":\"little\"}],[\"SowingSeedsDistributed_Groundnut_328\",{\"type\":\"ndarray\",\"array\":{\"type\":\"bytes\",\"data\":\"AAAAAACAIEDNzMzMzEwlQJqZmZmZOWtAAAAAAMBI30AAAAAAsEPoQAAAAAAAj6dAZmZmZuaIuUAAAAAAAAA+QM3MzMyMXd5AMzMzMzM1l0AAAAAAAAAAAGZmZmZmlntAMzMzMzMz8z8AAAAAAAAAAAAAAAAA4GBAzczMzMzMeUDNzMzMzCOqQAAAAAAAtphAAAAAAEA7yUCamZmZGT3NQJqZmZmZZ5dAAAAAAABvt0AAAAAAAECsQDMzMzMzy4FAAAAAAMAHvEAAAAAAAAAAAAAAAAAA0qlAAAAAAAAAAAAAAAAAAOHEQAAAAAAAQqBA\"},\"shape\":[30],\"dtype\":\"float64\",\"order\":\"little\"}],[\"SowingSeedsDistributed_Sunflower_329\",{\"type\":\"ndarray\",\"array\":{\"type\":\"bytes\",\"data\":\"AAAAAAAAAAAAAAAAAAAAAAAAAAAAAAAAAAAAAADAdUDNzMzMzHiDQAAAAAAAAAAAAAAAAAAAAAAAAAAAAAAAAAAAAAAAAD5Aw/UoXI/iU0AAAAAAAAAAAAAAAAAAAAAAH4XrUbgeHUAAAAAAAAAAAAAAAAAAAAAArkfhehSuKkBcj8L1KOx+QOxRuB6FG2tAzczMzMysYUB7FK5H4dp3QFK4HoXrUSFAAAAAAABIhEB7FK5H4XocQAAAAAAAAAAAw/UoXI+CVkCkcD0K1yM+QAAAAAAAIGBASOF6FK7HM0CamZmZmfVxQAAAAAAAsHZA\"},\"shape\":[30],\"dtype\":\"float64\",\"order\":\"little\"}],[\"SowingSeedsDistributed_Soyabean_330\",{\"type\":\"ndarray\",\"array\":{\"type\":\"bytes\",\"data\":\"AAAAAAAAAAAAAAAAAAAAAAAAAAAAAAAAAAAAAAAAAAAAAAAAAAAAAAAAAAAAAAAAAAAAAAAAAAAAAAAAAAAAAAAAAAAAAAAAAAAAAAAAAAAAAAAAAAAAAAAAAAAAAAAAAAAAAAAAAAAAAAAAAAAAAAAAAAAAAAAAAAAAAAAAAAAAAAAAAAAAAAAAAADA8+NAAAAAAAAAAABmZmZm5makQJqZmZm5tsxAAAAAAAAAAACamZmZGQ7BQAAAAAAAAAAAAAAAAAAAAACamZmZedjsQAAAAAAAQMBAAAAAAAAAAAAAAAAAAAAAAAAAAAAAAAAA\"},\"shape\":[30],\"dtype\":\"float64\",\"order\":\"little\"}],[\"RRB_AgricultureLoan_448\",{\"type\":\"ndarray\",\"array\":{\"type\":\"bytes\",\"data\":\"hetRuB70qkAfhetR+JXEQB+F61H4YMNAH4XrUZDT+UC4HoXrUbXzQPYoXI8uI/FAFK5H4crR50DNzMzMyNrwQNejcD1uh/lAw/UoXO8c4ED2KFyPgsm+QNejcD1Ky7pAUrgehftK7EC4HoXrEdK/QD0K16NIKORAzczMzPB78UBxPQrXQ/rQQBSuR+E4nAJBMzMzM7Nn/UAAAAAAWGD4QFK4HoW/O/BASOF6FKaP8UDD9Shcmyb2QK5H4XoUrbxAH4XrUYaxBEF7FK5Hka/dQGZmZmbi8f5AzczMzHxQ40DsUbgehQj+QBSuR+FSeOxA\"},\"shape\":[30],\"dtype\":\"float64\",\"order\":\"little\"}],[\"DCCBank_AgricultureLoan_466\",{\"type\":\"ndarray\",\"array\":{\"type\":\"bytes\",\"data\":\"cT0K16PejEAAAAAAQJzDQDMzMzMDYdRAmpmZmWne0EDsUbgepaLXQB+F61F4j7ZAMzMzM7N1wUAK16NwzWfeQFyPwvWwDuRAZmZmZmb95UAUrkfhQp7xQOxRuB7V0tNASOF6FE4/6EAzMzMz647kQArXo3AdyOlAw/UoXB9H20ApXI/C1cfGQAAAAAB2IABBUrgehWth90BxPQrXt+j8QFK4HoXrE8NArkfhevQ2wUBI4XoUjhrEQEjhehR2Se5AzczMzHxh5kAK16Nw2aH3QOxRuB4FadRAH4XrUXjdxkApXI/CRX/YQB+F61F43cZA\"},\"shape\":[30],\"dtype\":\"float64\",\"order\":\"little\"}],[\"KSCARD_PLDBank_AgricultureLoan_472\",{\"type\":\"ndarray\",\"array\":{\"type\":\"bytes\",\"data\":\"CtejcD1GikBxPQrXo1OSQPYoXI/C3XlAhetRuB6pikDNzMzMzOeQQK5H4XoUzJpA9ihcj8KMnEDhehSuR9GcQJqZmZmZKJxAH4XrUbiplEDsUbgehR6ZQAAAAAAAeIhAZmZmZmZ+nUAK16NwPayCQIXrUbgeuJ1A9ihcj8IDnkBcj8L1KK6AQArXo3C9w6VA9ihcj0JkpECkcD0K10GjQFyPwvWoOKFAPQrXo3DamkAUrkfhevWgQD0K16Pw36FACtejcD2ulUAUrkfhemSYQHsUrkfh7ZFAPQrXo3D7gUAAAAAAAKSAQFyPwvUoIZdA\"},\"shape\":[30],\"dtype\":\"float64\",\"order\":\"little\"}]]}}},\"view\":{\"type\":\"object\",\"name\":\"CDSView\",\"id\":\"p1235\",\"attributes\":{\"filter\":{\"type\":\"object\",\"name\":\"AllIndices\",\"id\":\"p1236\"}}},\"glyph\":{\"type\":\"object\",\"name\":\"VBar\",\"id\":\"p1231\",\"attributes\":{\"x\":{\"type\":\"field\",\"field\":\"District\"},\"width\":{\"type\":\"value\",\"value\":0.9},\"bottom\":{\"type\":\"expr\",\"expr\":{\"type\":\"object\",\"name\":\"Stack\",\"id\":\"p1222\",\"attributes\":{\"fields\":[]}}},\"top\":{\"type\":\"expr\",\"expr\":{\"type\":\"object\",\"name\":\"Stack\",\"id\":\"p1223\",\"attributes\":{\"fields\":[\"Rice_Production_223\"]}}},\"line_color\":{\"type\":\"value\",\"value\":\"#1f77b4\"},\"fill_color\":{\"type\":\"value\",\"value\":\"#1f77b4\"},\"hatch_color\":{\"type\":\"value\",\"value\":\"#1f77b4\"}}},\"nonselection_glyph\":{\"type\":\"object\",\"name\":\"VBar\",\"id\":\"p1232\",\"attributes\":{\"x\":{\"type\":\"field\",\"field\":\"District\"},\"width\":{\"type\":\"value\",\"value\":0.9},\"bottom\":{\"type\":\"expr\",\"expr\":{\"id\":\"p1222\"}},\"top\":{\"type\":\"expr\",\"expr\":{\"id\":\"p1223\"}},\"line_color\":{\"type\":\"value\",\"value\":\"#1f77b4\"},\"line_alpha\":{\"type\":\"value\",\"value\":0.1},\"fill_color\":{\"type\":\"value\",\"value\":\"#1f77b4\"},\"fill_alpha\":{\"type\":\"value\",\"value\":0.1},\"hatch_color\":{\"type\":\"value\",\"value\":\"#1f77b4\"},\"hatch_alpha\":{\"type\":\"value\",\"value\":0.1}}},\"muted_glyph\":{\"type\":\"object\",\"name\":\"VBar\",\"id\":\"p1233\",\"attributes\":{\"x\":{\"type\":\"field\",\"field\":\"District\"},\"width\":{\"type\":\"value\",\"value\":0.9},\"bottom\":{\"type\":\"expr\",\"expr\":{\"id\":\"p1222\"}},\"top\":{\"type\":\"expr\",\"expr\":{\"id\":\"p1223\"}},\"line_color\":{\"type\":\"value\",\"value\":\"#1f77b4\"},\"line_alpha\":{\"type\":\"value\",\"value\":0.2},\"fill_color\":{\"type\":\"value\",\"value\":\"#1f77b4\"},\"fill_alpha\":{\"type\":\"value\",\"value\":0.2},\"hatch_color\":{\"type\":\"value\",\"value\":\"#1f77b4\"},\"hatch_alpha\":{\"type\":\"value\",\"value\":0.2}}}}},{\"type\":\"object\",\"name\":\"GlyphRenderer\",\"id\":\"p1245\",\"attributes\":{\"name\":\"Jowar_Yield_278\",\"data_source\":{\"id\":\"p1219\"},\"view\":{\"type\":\"object\",\"name\":\"CDSView\",\"id\":\"p1246\",\"attributes\":{\"filter\":{\"type\":\"object\",\"name\":\"AllIndices\",\"id\":\"p1247\"}}},\"glyph\":{\"type\":\"object\",\"name\":\"VBar\",\"id\":\"p1242\",\"attributes\":{\"x\":{\"type\":\"field\",\"field\":\"District\"},\"width\":{\"type\":\"value\",\"value\":0.9},\"bottom\":{\"type\":\"expr\",\"expr\":{\"type\":\"object\",\"name\":\"Stack\",\"id\":\"p1224\",\"attributes\":{\"fields\":[\"Rice_Production_223\"]}}},\"top\":{\"type\":\"expr\",\"expr\":{\"type\":\"object\",\"name\":\"Stack\",\"id\":\"p1225\",\"attributes\":{\"fields\":[\"Rice_Production_223\",\"Jowar_Yield_278\"]}}},\"line_color\":{\"type\":\"value\",\"value\":\"#aec7e8\"},\"fill_color\":{\"type\":\"value\",\"value\":\"#aec7e8\"},\"hatch_color\":{\"type\":\"value\",\"value\":\"#aec7e8\"}}},\"nonselection_glyph\":{\"type\":\"object\",\"name\":\"VBar\",\"id\":\"p1243\",\"attributes\":{\"x\":{\"type\":\"field\",\"field\":\"District\"},\"width\":{\"type\":\"value\",\"value\":0.9},\"bottom\":{\"type\":\"expr\",\"expr\":{\"id\":\"p1224\"}},\"top\":{\"type\":\"expr\",\"expr\":{\"id\":\"p1225\"}},\"line_color\":{\"type\":\"value\",\"value\":\"#aec7e8\"},\"line_alpha\":{\"type\":\"value\",\"value\":0.1},\"fill_color\":{\"type\":\"value\",\"value\":\"#aec7e8\"},\"fill_alpha\":{\"type\":\"value\",\"value\":0.1},\"hatch_color\":{\"type\":\"value\",\"value\":\"#aec7e8\"},\"hatch_alpha\":{\"type\":\"value\",\"value\":0.1}}},\"muted_glyph\":{\"type\":\"object\",\"name\":\"VBar\",\"id\":\"p1244\",\"attributes\":{\"x\":{\"type\":\"field\",\"field\":\"District\"},\"width\":{\"type\":\"value\",\"value\":0.9},\"bottom\":{\"type\":\"expr\",\"expr\":{\"id\":\"p1224\"}},\"top\":{\"type\":\"expr\",\"expr\":{\"id\":\"p1225\"}},\"line_color\":{\"type\":\"value\",\"value\":\"#aec7e8\"},\"line_alpha\":{\"type\":\"value\",\"value\":0.2},\"fill_color\":{\"type\":\"value\",\"value\":\"#aec7e8\"},\"fill_alpha\":{\"type\":\"value\",\"value\":0.2},\"hatch_color\":{\"type\":\"value\",\"value\":\"#aec7e8\"},\"hatch_alpha\":{\"type\":\"value\",\"value\":0.2}}}}},{\"type\":\"object\",\"name\":\"GlyphRenderer\",\"id\":\"p1255\",\"attributes\":{\"name\":\"Maize_Production_226\",\"data_source\":{\"id\":\"p1219\"},\"view\":{\"type\":\"object\",\"name\":\"CDSView\",\"id\":\"p1256\",\"attributes\":{\"filter\":{\"type\":\"object\",\"name\":\"AllIndices\",\"id\":\"p1257\"}}},\"glyph\":{\"type\":\"object\",\"name\":\"VBar\",\"id\":\"p1252\",\"attributes\":{\"x\":{\"type\":\"field\",\"field\":\"District\"},\"width\":{\"type\":\"value\",\"value\":0.9},\"bottom\":{\"type\":\"expr\",\"expr\":{\"type\":\"object\",\"name\":\"Stack\",\"id\":\"p1226\",\"attributes\":{\"fields\":[\"Rice_Production_223\",\"Jowar_Yield_278\"]}}},\"top\":{\"type\":\"expr\",\"expr\":{\"type\":\"object\",\"name\":\"Stack\",\"id\":\"p1227\",\"attributes\":{\"fields\":[\"Rice_Production_223\",\"Jowar_Yield_278\",\"Maize_Production_226\"]}}},\"line_color\":{\"type\":\"value\",\"value\":\"#ff7f0e\"},\"fill_color\":{\"type\":\"value\",\"value\":\"#ff7f0e\"},\"hatch_color\":{\"type\":\"value\",\"value\":\"#ff7f0e\"}}},\"nonselection_glyph\":{\"type\":\"object\",\"name\":\"VBar\",\"id\":\"p1253\",\"attributes\":{\"x\":{\"type\":\"field\",\"field\":\"District\"},\"width\":{\"type\":\"value\",\"value\":0.9},\"bottom\":{\"type\":\"expr\",\"expr\":{\"id\":\"p1226\"}},\"top\":{\"type\":\"expr\",\"expr\":{\"id\":\"p1227\"}},\"line_color\":{\"type\":\"value\",\"value\":\"#ff7f0e\"},\"line_alpha\":{\"type\":\"value\",\"value\":0.1},\"fill_color\":{\"type\":\"value\",\"value\":\"#ff7f0e\"},\"fill_alpha\":{\"type\":\"value\",\"value\":0.1},\"hatch_color\":{\"type\":\"value\",\"value\":\"#ff7f0e\"},\"hatch_alpha\":{\"type\":\"value\",\"value\":0.1}}},\"muted_glyph\":{\"type\":\"object\",\"name\":\"VBar\",\"id\":\"p1254\",\"attributes\":{\"x\":{\"type\":\"field\",\"field\":\"District\"},\"width\":{\"type\":\"value\",\"value\":0.9},\"bottom\":{\"type\":\"expr\",\"expr\":{\"id\":\"p1226\"}},\"top\":{\"type\":\"expr\",\"expr\":{\"id\":\"p1227\"}},\"line_color\":{\"type\":\"value\",\"value\":\"#ff7f0e\"},\"line_alpha\":{\"type\":\"value\",\"value\":0.2},\"fill_color\":{\"type\":\"value\",\"value\":\"#ff7f0e\"},\"fill_alpha\":{\"type\":\"value\",\"value\":0.2},\"hatch_color\":{\"type\":\"value\",\"value\":\"#ff7f0e\"},\"hatch_alpha\":{\"type\":\"value\",\"value\":0.2}}}}}],\"toolbar\":{\"type\":\"object\",\"name\":\"Toolbar\",\"id\":\"p1206\",\"attributes\":{\"tools\":[{\"type\":\"object\",\"name\":\"HoverTool\",\"id\":\"p1259\",\"attributes\":{\"renderers\":\"auto\",\"tooltips\":[[\"District\",\"@District\"],[\"Rice_Production_223\",\"@Rice_Production_223\"],[\"Jowar_Yield_278\",\"@Jowar_Yield_278\"],[\"Maize_Production_226\",\"@Maize_Production_226\"]]}}]}},\"toolbar_location\":null,\"left\":[{\"type\":\"object\",\"name\":\"LinearAxis\",\"id\":\"p1214\",\"attributes\":{\"ticker\":{\"type\":\"object\",\"name\":\"BasicTicker\",\"id\":\"p1215\",\"attributes\":{\"mantissas\":[1,2,5]}},\"formatter\":{\"type\":\"object\",\"name\":\"BasicTickFormatter\",\"id\":\"p1216\"},\"axis_label\":\"Production\",\"major_label_policy\":{\"type\":\"object\",\"name\":\"AllLabels\",\"id\":\"p1217\"}}}],\"below\":[{\"type\":\"object\",\"name\":\"CategoricalAxis\",\"id\":\"p1209\",\"attributes\":{\"ticker\":{\"type\":\"object\",\"name\":\"CategoricalTicker\",\"id\":\"p1210\"},\"formatter\":{\"type\":\"object\",\"name\":\"CategoricalTickFormatter\",\"id\":\"p1211\"},\"major_label_orientation\":\"vertical\",\"major_label_policy\":{\"type\":\"object\",\"name\":\"AllLabels\",\"id\":\"p1212\"}}}],\"center\":[{\"type\":\"object\",\"name\":\"Grid\",\"id\":\"p1213\",\"attributes\":{\"axis\":{\"id\":\"p1209\"}}},{\"type\":\"object\",\"name\":\"Grid\",\"id\":\"p1218\",\"attributes\":{\"dimension\":1,\"axis\":{\"id\":\"p1214\"}}},{\"type\":\"object\",\"name\":\"Legend\",\"id\":\"p1237\",\"attributes\":{\"location\":\"top_left\",\"click_policy\":\"hide\",\"items\":[{\"type\":\"object\",\"name\":\"LegendItem\",\"id\":\"p1238\",\"attributes\":{\"label\":{\"type\":\"value\",\"value\":\"Rice_Production_223\"},\"renderers\":[{\"id\":\"p1234\"}]}},{\"type\":\"object\",\"name\":\"LegendItem\",\"id\":\"p1248\",\"attributes\":{\"label\":{\"type\":\"value\",\"value\":\"Jowar_Yield_278\"},\"renderers\":[{\"id\":\"p1245\"}]}},{\"type\":\"object\",\"name\":\"LegendItem\",\"id\":\"p1258\",\"attributes\":{\"label\":{\"type\":\"value\",\"value\":\"Maize_Production_226\"},\"renderers\":[{\"id\":\"p1255\"}]}}]}}]}}]}};\n  const render_items = [{\"docid\":\"8c4bbe7d-2ace-46f6-9dbc-ae97cb649985\",\"roots\":{\"p1197\":\"d3e2e73c-d489-4abb-9402-541eb269497f\"},\"root_ids\":[\"p1197\"]}];\n  root.Bokeh.embed.embed_items_notebook(docs_json, render_items);\n  }\n  if (root.Bokeh !== undefined) {\n    embed_document(root);\n  } else {\n    let attempts = 0;\n    const timer = setInterval(function(root) {\n      if (root.Bokeh !== undefined) {\n        clearInterval(timer);\n        embed_document(root);\n      } else {\n        attempts++;\n        if (attempts > 100) {\n          clearInterval(timer);\n          console.log(\"Bokeh: ERROR: Unable to run BokehJS code because BokehJS library is missing\");\n        }\n      }\n    }, 10, root)\n  }\n})(window);",
      "application/vnd.bokehjs_exec.v0+json": ""
     },
     "metadata": {
      "application/vnd.bokehjs_exec.v0+json": {
       "id": "p1197"
      }
     },
     "output_type": "display_data"
    }
   ],
   "source": [
    "from bokeh.models import FactorRange\n",
    "from bokeh.transform import factor_cmap\n",
    "\n",
    "# Assuming df is your DataFrame\n",
    "\n",
    "# List of crops\n",
    "crops = ['Rice_Production_223', 'Jowar_Yield_278', 'Maize_Production_226']\n",
    "\n",
    "# Create a new plot\n",
    "plot = figure(title='Production Comparison by Crop and District', x_range=FactorRange(*districts),toolbar_location=None, tools='')\n",
    "\n",
    "# Plot the data\n",
    "source = ColumnDataSource(df)\n",
    "plot.vbar_stack(crops, x='District', width=0.9, color=Category20[len(crops)], source=source, legend_label=crops)\n",
    "\n",
    "# Add hover tooltips\n",
    "hover = HoverTool()\n",
    "hover.tooltips = [('District', '@District')] + [(crop, f'@{crop}') for crop in crops]\n",
    "plot.add_tools(hover)\n",
    "\n",
    "# Styling\n",
    "plot.xaxis.major_label_orientation = \"vertical\"\n",
    "plot.yaxis.axis_label = \"Production\"\n",
    "plot.legend.location = 'top_left'\n",
    "plot.legend.click_policy = 'hide'\n",
    "\n",
    "# Show the plot\n",
    "show(plot)\n"
   ]
  }
 ],
 "metadata": {
  "kernelspec": {
   "display_name": "Python 3",
   "language": "python",
   "name": "python3"
  },
  "language_info": {
   "codemirror_mode": {
    "name": "ipython",
    "version": 3
   },
   "file_extension": ".py",
   "mimetype": "text/x-python",
   "name": "python",
   "nbconvert_exporter": "python",
   "pygments_lexer": "ipython3",
   "version": "3.9.13"
  }
 },
 "nbformat": 4,
 "nbformat_minor": 2
}
