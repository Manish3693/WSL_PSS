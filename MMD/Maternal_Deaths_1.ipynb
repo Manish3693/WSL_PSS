{
  "cells": [
    {
      "cell_type": "code",
      "execution_count": 1,
      "metadata": {
        "id": "AhbLaMjed0N-"
      },
      "outputs": [
        {
          "data": {
            "text/html": [
              "    <style>\n",
              "        .bk-notebook-logo {\n",
              "            display: block;\n",
              "            width: 20px;\n",
              "            height: 20px;\n",
              "            background-image: url(data:image/png;base64,iVBORw0KGgoAAAANSUhEUgAAABQAAAAUCAYAAACNiR0NAAAABHNCSVQICAgIfAhkiAAAAAlwSFlzAAALEgAACxIB0t1+/AAAABx0RVh0U29mdHdhcmUAQWRvYmUgRmlyZXdvcmtzIENTNui8sowAAAOkSURBVDiNjZRtaJVlGMd/1/08zzln5zjP1LWcU9N0NkN8m2CYjpgQYQXqSs0I84OLIC0hkEKoPtiH3gmKoiJDU7QpLgoLjLIQCpEsNJ1vqUOdO7ppbuec5+V+rj4ctwzd8IIbbi6u+8f1539dt3A78eXC7QizUF7gyV1fD1Yqg4JWz84yffhm0qkFqBogB9rM8tZdtwVsPUhWhGcFJngGeWrPzHm5oaMmkfEg1usvLFyc8jLRqDOMru7AyC8saQr7GG7f5fvDeH7Ej8CM66nIF+8yngt6HWaKh7k49Soy9nXurCi1o3qUbS3zWfrYeQDTB/Qj6kX6Ybhw4B+bOYoLKCC9H3Nu/leUTZ1JdRWkkn2ldcCamzrcf47KKXdAJllSlxAOkRgyHsGC/zRday5Qld9DyoM4/q/rUoy/CXh3jzOu3bHUVZeU+DEn8FInkPBFlu3+nW3Nw0mk6vCDiWg8CeJaxEwuHS3+z5RgY+YBR6V1Z1nxSOfoaPa4LASWxxdNp+VWTk7+4vzaou8v8PN+xo+KY2xsw6une2frhw05CTYOmQvsEhjhWjn0bmXPjpE1+kplmmkP3suftwTubK9Vq22qKmrBhpY4jvd5afdRA3wGjFAgcnTK2s4hY0/GPNIb0nErGMCRxWOOX64Z8RAC4oCXdklmEvcL8o0BfkNK4lUg9HTl+oPlQxdNo3Mg4Nv175e/1LDGzZen30MEjRUtmXSfiTVu1kK8W4txyV6BMKlbgk3lMwYCiusNy9fVfvvwMxv8Ynl6vxoByANLTWplvuj/nF9m2+PDtt1eiHPBr1oIfhCChQMBw6Aw0UulqTKZdfVvfG7VcfIqLG9bcldL/+pdWTLxLUy8Qq38heUIjh4XlzZxzQm19lLFlr8vdQ97rjZVOLf8nclzckbcD4wxXMidpX30sFd37Fv/GtwwhzhxGVAprjbg0gCAEeIgwCZyTV2Z1REEW8O4py0wsjeloKoMr6iCY6dP92H6Vw/oTyICIthibxjm/DfN9lVz8IqtqKYLUXfoKVMVQVVJOElGjrnnUt9T9wbgp8AyYKaGlqingHZU/uG2NTZSVqwHQTWkx9hxjkpWDaCg6Ckj5qebgBVbT3V3NNXMSiWSDdGV3hrtzla7J+duwPOToIg42ChPQOQjspnSlp1V+Gjdged7+8UN5CRAV7a5EdFNwCjEaBR27b3W890TE7g24NAP/mMDXRWrGoFPQI9ls/MWO2dWFAar/xcOIImbbpA3zgAAAABJRU5ErkJggg==);\n",
              "        }\n",
              "    </style>\n",
              "    <div>\n",
              "        <a href=\"https://bokeh.org\" target=\"_blank\" class=\"bk-notebook-logo\"></a>\n",
              "        <span id=\"b84d8323-057e-4798-93bb-baf5f3cbf052\">Loading BokehJS ...</span>\n",
              "    </div>\n"
            ]
          },
          "metadata": {},
          "output_type": "display_data"
        },
        {
          "data": {
            "application/javascript": "(function(root) {\n  function now() {\n    return new Date();\n  }\n\n  const force = true;\n\n  if (typeof root._bokeh_onload_callbacks === \"undefined\" || force === true) {\n    root._bokeh_onload_callbacks = [];\n    root._bokeh_is_loading = undefined;\n  }\n\nconst JS_MIME_TYPE = 'application/javascript';\n  const HTML_MIME_TYPE = 'text/html';\n  const EXEC_MIME_TYPE = 'application/vnd.bokehjs_exec.v0+json';\n  const CLASS_NAME = 'output_bokeh rendered_html';\n\n  /**\n   * Render data to the DOM node\n   */\n  function render(props, node) {\n    const script = document.createElement(\"script\");\n    node.appendChild(script);\n  }\n\n  /**\n   * Handle when an output is cleared or removed\n   */\n  function handleClearOutput(event, handle) {\n    function drop(id) {\n      const view = Bokeh.index.get_by_id(id)\n      if (view != null) {\n        view.model.document.clear()\n        Bokeh.index.delete(view)\n      }\n    }\n\n    const cell = handle.cell;\n\n    const id = cell.output_area._bokeh_element_id;\n    const server_id = cell.output_area._bokeh_server_id;\n\n    // Clean up Bokeh references\n    if (id != null) {\n      drop(id)\n    }\n\n    if (server_id !== undefined) {\n      // Clean up Bokeh references\n      const cmd_clean = \"from bokeh.io.state import curstate; print(curstate().uuid_to_server['\" + server_id + \"'].get_sessions()[0].document.roots[0]._id)\";\n      cell.notebook.kernel.execute(cmd_clean, {\n        iopub: {\n          output: function(msg) {\n            const id = msg.content.text.trim()\n            drop(id)\n          }\n        }\n      });\n      // Destroy server and session\n      const cmd_destroy = \"import bokeh.io.notebook as ion; ion.destroy_server('\" + server_id + \"')\";\n      cell.notebook.kernel.execute(cmd_destroy);\n    }\n  }\n\n  /**\n   * Handle when a new output is added\n   */\n  function handleAddOutput(event, handle) {\n    const output_area = handle.output_area;\n    const output = handle.output;\n\n    // limit handleAddOutput to display_data with EXEC_MIME_TYPE content only\n    if ((output.output_type != \"display_data\") || (!Object.prototype.hasOwnProperty.call(output.data, EXEC_MIME_TYPE))) {\n      return\n    }\n\n    const toinsert = output_area.element.find(\".\" + CLASS_NAME.split(' ')[0]);\n\n    if (output.metadata[EXEC_MIME_TYPE][\"id\"] !== undefined) {\n      toinsert[toinsert.length - 1].firstChild.textContent = output.data[JS_MIME_TYPE];\n      // store reference to embed id on output_area\n      output_area._bokeh_element_id = output.metadata[EXEC_MIME_TYPE][\"id\"];\n    }\n    if (output.metadata[EXEC_MIME_TYPE][\"server_id\"] !== undefined) {\n      const bk_div = document.createElement(\"div\");\n      bk_div.innerHTML = output.data[HTML_MIME_TYPE];\n      const script_attrs = bk_div.children[0].attributes;\n      for (let i = 0; i < script_attrs.length; i++) {\n        toinsert[toinsert.length - 1].firstChild.setAttribute(script_attrs[i].name, script_attrs[i].value);\n        toinsert[toinsert.length - 1].firstChild.textContent = bk_div.children[0].textContent\n      }\n      // store reference to server id on output_area\n      output_area._bokeh_server_id = output.metadata[EXEC_MIME_TYPE][\"server_id\"];\n    }\n  }\n\n  function register_renderer(events, OutputArea) {\n\n    function append_mime(data, metadata, element) {\n      // create a DOM node to render to\n      const toinsert = this.create_output_subarea(\n        metadata,\n        CLASS_NAME,\n        EXEC_MIME_TYPE\n      );\n      this.keyboard_manager.register_events(toinsert);\n      // Render to node\n      const props = {data: data, metadata: metadata[EXEC_MIME_TYPE]};\n      render(props, toinsert[toinsert.length - 1]);\n      element.append(toinsert);\n      return toinsert\n    }\n\n    /* Handle when an output is cleared or removed */\n    events.on('clear_output.CodeCell', handleClearOutput);\n    events.on('delete.Cell', handleClearOutput);\n\n    /* Handle when a new output is added */\n    events.on('output_added.OutputArea', handleAddOutput);\n\n    /**\n     * Register the mime type and append_mime function with output_area\n     */\n    OutputArea.prototype.register_mime_type(EXEC_MIME_TYPE, append_mime, {\n      /* Is output safe? */\n      safe: true,\n      /* Index of renderer in `output_area.display_order` */\n      index: 0\n    });\n  }\n\n  // register the mime type if in Jupyter Notebook environment and previously unregistered\n  if (root.Jupyter !== undefined) {\n    const events = require('base/js/events');\n    const OutputArea = require('notebook/js/outputarea').OutputArea;\n\n    if (OutputArea.prototype.mime_types().indexOf(EXEC_MIME_TYPE) == -1) {\n      register_renderer(events, OutputArea);\n    }\n  }\n  if (typeof (root._bokeh_timeout) === \"undefined\" || force === true) {\n    root._bokeh_timeout = Date.now() + 5000;\n    root._bokeh_failed_load = false;\n  }\n\n  const NB_LOAD_WARNING = {'data': {'text/html':\n     \"<div style='background-color: #fdd'>\\n\"+\n     \"<p>\\n\"+\n     \"BokehJS does not appear to have successfully loaded. If loading BokehJS from CDN, this \\n\"+\n     \"may be due to a slow or bad network connection. Possible fixes:\\n\"+\n     \"</p>\\n\"+\n     \"<ul>\\n\"+\n     \"<li>re-rerun `output_notebook()` to attempt to load from CDN again, or</li>\\n\"+\n     \"<li>use INLINE resources instead, as so:</li>\\n\"+\n     \"</ul>\\n\"+\n     \"<code>\\n\"+\n     \"from bokeh.resources import INLINE\\n\"+\n     \"output_notebook(resources=INLINE)\\n\"+\n     \"</code>\\n\"+\n     \"</div>\"}};\n\n  function display_loaded() {\n    const el = document.getElementById(\"b84d8323-057e-4798-93bb-baf5f3cbf052\");\n    if (el != null) {\n      el.textContent = \"BokehJS is loading...\";\n    }\n    if (root.Bokeh !== undefined) {\n      if (el != null) {\n        el.textContent = \"BokehJS \" + root.Bokeh.version + \" successfully loaded.\";\n      }\n    } else if (Date.now() < root._bokeh_timeout) {\n      setTimeout(display_loaded, 100)\n    }\n  }\n\n  function run_callbacks() {\n    try {\n      root._bokeh_onload_callbacks.forEach(function(callback) {\n        if (callback != null)\n          callback();\n      });\n    } finally {\n      delete root._bokeh_onload_callbacks\n    }\n    console.debug(\"Bokeh: all callbacks have finished\");\n  }\n\n  function load_libs(css_urls, js_urls, callback) {\n    if (css_urls == null) css_urls = [];\n    if (js_urls == null) js_urls = [];\n\n    root._bokeh_onload_callbacks.push(callback);\n    if (root._bokeh_is_loading > 0) {\n      console.debug(\"Bokeh: BokehJS is being loaded, scheduling callback at\", now());\n      return null;\n    }\n    if (js_urls == null || js_urls.length === 0) {\n      run_callbacks();\n      return null;\n    }\n    console.debug(\"Bokeh: BokehJS not loaded, scheduling load and callback at\", now());\n    root._bokeh_is_loading = css_urls.length + js_urls.length;\n\n    function on_load() {\n      root._bokeh_is_loading--;\n      if (root._bokeh_is_loading === 0) {\n        console.debug(\"Bokeh: all BokehJS libraries/stylesheets loaded\");\n        run_callbacks()\n      }\n    }\n\n    function on_error(url) {\n      console.error(\"failed to load \" + url);\n    }\n\n    for (let i = 0; i < css_urls.length; i++) {\n      const url = css_urls[i];\n      const element = document.createElement(\"link\");\n      element.onload = on_load;\n      element.onerror = on_error.bind(null, url);\n      element.rel = \"stylesheet\";\n      element.type = \"text/css\";\n      element.href = url;\n      console.debug(\"Bokeh: injecting link tag for BokehJS stylesheet: \", url);\n      document.body.appendChild(element);\n    }\n\n    for (let i = 0; i < js_urls.length; i++) {\n      const url = js_urls[i];\n      const element = document.createElement('script');\n      element.onload = on_load;\n      element.onerror = on_error.bind(null, url);\n      element.async = false;\n      element.src = url;\n      console.debug(\"Bokeh: injecting script tag for BokehJS library: \", url);\n      document.head.appendChild(element);\n    }\n  };\n\n  function inject_raw_css(css) {\n    const element = document.createElement(\"style\");\n    element.appendChild(document.createTextNode(css));\n    document.body.appendChild(element);\n  }\n\n  const js_urls = [\"https://cdn.bokeh.org/bokeh/release/bokeh-3.3.3.min.js\", \"https://cdn.bokeh.org/bokeh/release/bokeh-gl-3.3.3.min.js\", \"https://cdn.bokeh.org/bokeh/release/bokeh-widgets-3.3.3.min.js\", \"https://cdn.bokeh.org/bokeh/release/bokeh-tables-3.3.3.min.js\", \"https://cdn.bokeh.org/bokeh/release/bokeh-mathjax-3.3.3.min.js\"];\n  const css_urls = [];\n\n  const inline_js = [    function(Bokeh) {\n      Bokeh.set_log_level(\"info\");\n    },\nfunction(Bokeh) {\n    }\n  ];\n\n  function run_inline_js() {\n    if (root.Bokeh !== undefined || force === true) {\n          for (let i = 0; i < inline_js.length; i++) {\n      inline_js[i].call(root, root.Bokeh);\n    }\nif (force === true) {\n        display_loaded();\n      }} else if (Date.now() < root._bokeh_timeout) {\n      setTimeout(run_inline_js, 100);\n    } else if (!root._bokeh_failed_load) {\n      console.log(\"Bokeh: BokehJS failed to load within specified timeout.\");\n      root._bokeh_failed_load = true;\n    } else if (force !== true) {\n      const cell = $(document.getElementById(\"b84d8323-057e-4798-93bb-baf5f3cbf052\")).parents('.cell').data().cell;\n      cell.output_area.append_execute_result(NB_LOAD_WARNING)\n    }\n  }\n\n  if (root._bokeh_is_loading === 0) {\n    console.debug(\"Bokeh: BokehJS loaded, going straight to plotting\");\n    run_inline_js();\n  } else {\n    load_libs(css_urls, js_urls, function() {\n      console.debug(\"Bokeh: BokehJS plotting callback run at\", now());\n      run_inline_js();\n    });\n  }\n}(window));",
            "application/vnd.bokehjs_load.v0+json": ""
          },
          "metadata": {},
          "output_type": "display_data"
        }
      ],
      "source": [
        "import pandas as pd\n",
        "import statsmodels.api as sm\n",
        "import matplotlib.pyplot as plt\n",
        "import seaborn as sns\n",
        "import numpy as np\n",
        "import networkx as nx\n",
        "from collections import defaultdict\n",
        "import math\n",
        "from sklearn.preprocessing import MinMaxScaler\n",
        "%matplotlib notebook\n",
        "from bokeh.plotting import figure, show, output_notebook\n",
        "from bokeh.models import HoverTool, ColumnDataSource\n",
        "from bokeh.palettes import Category20\n",
        "output_notebook()"
      ]
    },
    {
      "cell_type": "code",
      "execution_count": 2,
      "metadata": {
        "id": "9YyYkR1Nd22Q"
      },
      "outputs": [],
      "source": [
        "df=pd.read_excel(\"mmdCaseFile.xlsx\")"
      ]
    },
    {
      "cell_type": "code",
      "execution_count": 3,
      "metadata": {
        "colab": {
          "base_uri": "https://localhost:8080/",
          "height": 1000
        },
        "id": "_PQ_bxzeeAU_",
        "outputId": "ec5ca7ae-36eb-4e8e-a57d-1bae67ebd426"
      },
      "outputs": [
        {
          "data": {
            "text/html": [
              "<div>\n",
              "<style scoped>\n",
              "    .dataframe tbody tr th:only-of-type {\n",
              "        vertical-align: middle;\n",
              "    }\n",
              "\n",
              "    .dataframe tbody tr th {\n",
              "        vertical-align: top;\n",
              "    }\n",
              "\n",
              "    .dataframe thead th {\n",
              "        text-align: right;\n",
              "    }\n",
              "</style>\n",
              "<table border=\"1\" class=\"dataframe\">\n",
              "  <thead>\n",
              "    <tr style=\"text-align: right;\">\n",
              "      <th></th>\n",
              "      <th>District</th>\n",
              "      <th>KGISDist 1</th>\n",
              "      <th>NFHS_%BirthsDeliveredInAHealthFacility</th>\n",
              "      <th>NFHS_%BirthsDeliveredByCaesareanSection</th>\n",
              "      <th>Identified_Leprosy_Patients_Female_700</th>\n",
              "      <th>Death_TB_Patients_Female_712</th>\n",
              "      <th>MaternalMortalityDeath_721</th>\n",
              "    </tr>\n",
              "  </thead>\n",
              "  <tbody>\n",
              "    <tr>\n",
              "      <th>0</th>\n",
              "      <td>BAGALKOT</td>\n",
              "      <td>Bagalkot</td>\n",
              "      <td>91.9</td>\n",
              "      <td>14.4</td>\n",
              "      <td>15</td>\n",
              "      <td>9</td>\n",
              "      <td>19</td>\n",
              "    </tr>\n",
              "    <tr>\n",
              "      <th>1</th>\n",
              "      <td>BALLARI</td>\n",
              "      <td>Ballari</td>\n",
              "      <td>86.2</td>\n",
              "      <td>22.5</td>\n",
              "      <td>72</td>\n",
              "      <td>26</td>\n",
              "      <td>17</td>\n",
              "    </tr>\n",
              "    <tr>\n",
              "      <th>2</th>\n",
              "      <td>BELAGAVI</td>\n",
              "      <td>Belagavi</td>\n",
              "      <td>97.1</td>\n",
              "      <td>16.4</td>\n",
              "      <td>90</td>\n",
              "      <td>96</td>\n",
              "      <td>52</td>\n",
              "    </tr>\n",
              "    <tr>\n",
              "      <th>3</th>\n",
              "      <td>BENGALURU</td>\n",
              "      <td>Bengaluru (Urban)</td>\n",
              "      <td>96.2</td>\n",
              "      <td>27.5</td>\n",
              "      <td>92</td>\n",
              "      <td>91</td>\n",
              "      <td>19</td>\n",
              "    </tr>\n",
              "    <tr>\n",
              "      <th>4</th>\n",
              "      <td>BENGALURU(R)</td>\n",
              "      <td>Bengaluru (Rural)</td>\n",
              "      <td>98.5</td>\n",
              "      <td>30.5</td>\n",
              "      <td>4</td>\n",
              "      <td>20</td>\n",
              "      <td>8</td>\n",
              "    </tr>\n",
              "    <tr>\n",
              "      <th>5</th>\n",
              "      <td>BIDAR</td>\n",
              "      <td>Bidar</td>\n",
              "      <td>98.0</td>\n",
              "      <td>18.5</td>\n",
              "      <td>90</td>\n",
              "      <td>11</td>\n",
              "      <td>17</td>\n",
              "    </tr>\n",
              "    <tr>\n",
              "      <th>6</th>\n",
              "      <td>CHAMARAJANAGAR</td>\n",
              "      <td>Chamarajanagara</td>\n",
              "      <td>96.0</td>\n",
              "      <td>18.1</td>\n",
              "      <td>45</td>\n",
              "      <td>6</td>\n",
              "      <td>3</td>\n",
              "    </tr>\n",
              "    <tr>\n",
              "      <th>7</th>\n",
              "      <td>CHIKKABALLAPURA</td>\n",
              "      <td>Chikkaballapura</td>\n",
              "      <td>91.6</td>\n",
              "      <td>25.1</td>\n",
              "      <td>31</td>\n",
              "      <td>21</td>\n",
              "      <td>12</td>\n",
              "    </tr>\n",
              "    <tr>\n",
              "      <th>8</th>\n",
              "      <td>CHIKKAMAGALURU</td>\n",
              "      <td>Chikkamagaluru</td>\n",
              "      <td>96.2</td>\n",
              "      <td>40.3</td>\n",
              "      <td>3</td>\n",
              "      <td>8</td>\n",
              "      <td>8</td>\n",
              "    </tr>\n",
              "    <tr>\n",
              "      <th>9</th>\n",
              "      <td>CHITRADURGA</td>\n",
              "      <td>Chitradurga</td>\n",
              "      <td>95.6</td>\n",
              "      <td>28.1</td>\n",
              "      <td>22</td>\n",
              "      <td>15</td>\n",
              "      <td>15</td>\n",
              "    </tr>\n",
              "    <tr>\n",
              "      <th>10</th>\n",
              "      <td>DAKSHINA KANNADA</td>\n",
              "      <td>Dakshina Kannada</td>\n",
              "      <td>97.1</td>\n",
              "      <td>29.0</td>\n",
              "      <td>6</td>\n",
              "      <td>27</td>\n",
              "      <td>8</td>\n",
              "    </tr>\n",
              "    <tr>\n",
              "      <th>11</th>\n",
              "      <td>DAVANAGERE</td>\n",
              "      <td>Davanagere</td>\n",
              "      <td>97.7</td>\n",
              "      <td>27.7</td>\n",
              "      <td>25</td>\n",
              "      <td>10</td>\n",
              "      <td>23</td>\n",
              "    </tr>\n",
              "    <tr>\n",
              "      <th>12</th>\n",
              "      <td>DHARAWAD</td>\n",
              "      <td>Dharwad</td>\n",
              "      <td>95.3</td>\n",
              "      <td>22.4</td>\n",
              "      <td>57</td>\n",
              "      <td>27</td>\n",
              "      <td>68</td>\n",
              "    </tr>\n",
              "    <tr>\n",
              "      <th>13</th>\n",
              "      <td>GADAG</td>\n",
              "      <td>Gadag</td>\n",
              "      <td>92.9</td>\n",
              "      <td>29.0</td>\n",
              "      <td>28</td>\n",
              "      <td>34</td>\n",
              "      <td>7</td>\n",
              "    </tr>\n",
              "    <tr>\n",
              "      <th>14</th>\n",
              "      <td>HASSAN</td>\n",
              "      <td>Hassan</td>\n",
              "      <td>98.3</td>\n",
              "      <td>33.1</td>\n",
              "      <td>2</td>\n",
              "      <td>14</td>\n",
              "      <td>22</td>\n",
              "    </tr>\n",
              "    <tr>\n",
              "      <th>15</th>\n",
              "      <td>HAVERI</td>\n",
              "      <td>Haveri</td>\n",
              "      <td>96.9</td>\n",
              "      <td>18.6</td>\n",
              "      <td>24</td>\n",
              "      <td>21</td>\n",
              "      <td>14</td>\n",
              "    </tr>\n",
              "    <tr>\n",
              "      <th>16</th>\n",
              "      <td>KALABURAGI</td>\n",
              "      <td>Kalburgi</td>\n",
              "      <td>91.3</td>\n",
              "      <td>8.4</td>\n",
              "      <td>43</td>\n",
              "      <td>12</td>\n",
              "      <td>52</td>\n",
              "    </tr>\n",
              "    <tr>\n",
              "      <th>17</th>\n",
              "      <td>KODAGU</td>\n",
              "      <td>Kodagu</td>\n",
              "      <td>97.7</td>\n",
              "      <td>24.7</td>\n",
              "      <td>1</td>\n",
              "      <td>1</td>\n",
              "      <td>6</td>\n",
              "    </tr>\n",
              "    <tr>\n",
              "      <th>18</th>\n",
              "      <td>KOLAR</td>\n",
              "      <td>Kolara</td>\n",
              "      <td>96.5</td>\n",
              "      <td>31.8</td>\n",
              "      <td>19</td>\n",
              "      <td>29</td>\n",
              "      <td>17</td>\n",
              "    </tr>\n",
              "    <tr>\n",
              "      <th>19</th>\n",
              "      <td>KOPPAL</td>\n",
              "      <td>Koppal</td>\n",
              "      <td>84.8</td>\n",
              "      <td>10.0</td>\n",
              "      <td>41</td>\n",
              "      <td>12</td>\n",
              "      <td>18</td>\n",
              "    </tr>\n",
              "    <tr>\n",
              "      <th>20</th>\n",
              "      <td>MANDYA</td>\n",
              "      <td>Mandya</td>\n",
              "      <td>99.0</td>\n",
              "      <td>33.1</td>\n",
              "      <td>12</td>\n",
              "      <td>6</td>\n",
              "      <td>9</td>\n",
              "    </tr>\n",
              "    <tr>\n",
              "      <th>21</th>\n",
              "      <td>MYSURU</td>\n",
              "      <td>Mysuru</td>\n",
              "      <td>94.7</td>\n",
              "      <td>33.3</td>\n",
              "      <td>26</td>\n",
              "      <td>5</td>\n",
              "      <td>20</td>\n",
              "    </tr>\n",
              "    <tr>\n",
              "      <th>22</th>\n",
              "      <td>RAICHUR</td>\n",
              "      <td>Raichur</td>\n",
              "      <td>79.7</td>\n",
              "      <td>11.6</td>\n",
              "      <td>71</td>\n",
              "      <td>56</td>\n",
              "      <td>50</td>\n",
              "    </tr>\n",
              "    <tr>\n",
              "      <th>23</th>\n",
              "      <td>RAMANAGARA</td>\n",
              "      <td>Ramanagara</td>\n",
              "      <td>99.3</td>\n",
              "      <td>27.3</td>\n",
              "      <td>18</td>\n",
              "      <td>21</td>\n",
              "      <td>4</td>\n",
              "    </tr>\n",
              "    <tr>\n",
              "      <th>24</th>\n",
              "      <td>SHIVAMOGGA</td>\n",
              "      <td>Shivamogga</td>\n",
              "      <td>97.9</td>\n",
              "      <td>31.3</td>\n",
              "      <td>13</td>\n",
              "      <td>8</td>\n",
              "      <td>27</td>\n",
              "    </tr>\n",
              "    <tr>\n",
              "      <th>25</th>\n",
              "      <td>TUMAKURU</td>\n",
              "      <td>Tumakuru</td>\n",
              "      <td>96.4</td>\n",
              "      <td>33.4</td>\n",
              "      <td>32</td>\n",
              "      <td>68</td>\n",
              "      <td>23</td>\n",
              "    </tr>\n",
              "    <tr>\n",
              "      <th>26</th>\n",
              "      <td>UDUPI</td>\n",
              "      <td>Udupi</td>\n",
              "      <td>97.9</td>\n",
              "      <td>47.2</td>\n",
              "      <td>21</td>\n",
              "      <td>5</td>\n",
              "      <td>7</td>\n",
              "    </tr>\n",
              "    <tr>\n",
              "      <th>27</th>\n",
              "      <td>UTTARA KANNADA</td>\n",
              "      <td>Uttara Kannada</td>\n",
              "      <td>94.8</td>\n",
              "      <td>17.8</td>\n",
              "      <td>48</td>\n",
              "      <td>18</td>\n",
              "      <td>4</td>\n",
              "    </tr>\n",
              "    <tr>\n",
              "      <th>28</th>\n",
              "      <td>VIJAYAPURA</td>\n",
              "      <td>Vijayapura</td>\n",
              "      <td>90.7</td>\n",
              "      <td>19.4</td>\n",
              "      <td>40</td>\n",
              "      <td>31</td>\n",
              "      <td>21</td>\n",
              "    </tr>\n",
              "    <tr>\n",
              "      <th>29</th>\n",
              "      <td>YADGIRI</td>\n",
              "      <td>Yadgir</td>\n",
              "      <td>90.5</td>\n",
              "      <td>8.5</td>\n",
              "      <td>27</td>\n",
              "      <td>20</td>\n",
              "      <td>16</td>\n",
              "    </tr>\n",
              "    <tr>\n",
              "      <th>30</th>\n",
              "      <td>Vijayanagara</td>\n",
              "      <td>Vijayanagara</td>\n",
              "      <td>86.2</td>\n",
              "      <td>22.5</td>\n",
              "      <td>72</td>\n",
              "      <td>27</td>\n",
              "      <td>16</td>\n",
              "    </tr>\n",
              "  </tbody>\n",
              "</table>\n",
              "</div>"
            ],
            "text/plain": [
              "            District         KGISDist 1  \\\n",
              "0           BAGALKOT           Bagalkot   \n",
              "1            BALLARI            Ballari   \n",
              "2           BELAGAVI           Belagavi   \n",
              "3          BENGALURU  Bengaluru (Urban)   \n",
              "4       BENGALURU(R)  Bengaluru (Rural)   \n",
              "5              BIDAR              Bidar   \n",
              "6     CHAMARAJANAGAR    Chamarajanagara   \n",
              "7    CHIKKABALLAPURA    Chikkaballapura   \n",
              "8     CHIKKAMAGALURU     Chikkamagaluru   \n",
              "9        CHITRADURGA        Chitradurga   \n",
              "10  DAKSHINA KANNADA   Dakshina Kannada   \n",
              "11        DAVANAGERE         Davanagere   \n",
              "12          DHARAWAD            Dharwad   \n",
              "13             GADAG              Gadag   \n",
              "14            HASSAN             Hassan   \n",
              "15            HAVERI             Haveri   \n",
              "16        KALABURAGI           Kalburgi   \n",
              "17            KODAGU             Kodagu   \n",
              "18             KOLAR             Kolara   \n",
              "19            KOPPAL             Koppal   \n",
              "20            MANDYA             Mandya   \n",
              "21            MYSURU             Mysuru   \n",
              "22           RAICHUR            Raichur   \n",
              "23        RAMANAGARA         Ramanagara   \n",
              "24        SHIVAMOGGA         Shivamogga   \n",
              "25          TUMAKURU           Tumakuru   \n",
              "26             UDUPI              Udupi   \n",
              "27    UTTARA KANNADA     Uttara Kannada   \n",
              "28        VIJAYAPURA         Vijayapura   \n",
              "29           YADGIRI             Yadgir   \n",
              "30      Vijayanagara       Vijayanagara   \n",
              "\n",
              "    NFHS_%BirthsDeliveredInAHealthFacility  \\\n",
              "0                                     91.9   \n",
              "1                                     86.2   \n",
              "2                                     97.1   \n",
              "3                                     96.2   \n",
              "4                                     98.5   \n",
              "5                                     98.0   \n",
              "6                                     96.0   \n",
              "7                                     91.6   \n",
              "8                                     96.2   \n",
              "9                                     95.6   \n",
              "10                                    97.1   \n",
              "11                                    97.7   \n",
              "12                                    95.3   \n",
              "13                                    92.9   \n",
              "14                                    98.3   \n",
              "15                                    96.9   \n",
              "16                                    91.3   \n",
              "17                                    97.7   \n",
              "18                                    96.5   \n",
              "19                                    84.8   \n",
              "20                                    99.0   \n",
              "21                                    94.7   \n",
              "22                                    79.7   \n",
              "23                                    99.3   \n",
              "24                                    97.9   \n",
              "25                                    96.4   \n",
              "26                                    97.9   \n",
              "27                                    94.8   \n",
              "28                                    90.7   \n",
              "29                                    90.5   \n",
              "30                                    86.2   \n",
              "\n",
              "    NFHS_%BirthsDeliveredByCaesareanSection  \\\n",
              "0                                      14.4   \n",
              "1                                      22.5   \n",
              "2                                      16.4   \n",
              "3                                      27.5   \n",
              "4                                      30.5   \n",
              "5                                      18.5   \n",
              "6                                      18.1   \n",
              "7                                      25.1   \n",
              "8                                      40.3   \n",
              "9                                      28.1   \n",
              "10                                     29.0   \n",
              "11                                     27.7   \n",
              "12                                     22.4   \n",
              "13                                     29.0   \n",
              "14                                     33.1   \n",
              "15                                     18.6   \n",
              "16                                      8.4   \n",
              "17                                     24.7   \n",
              "18                                     31.8   \n",
              "19                                     10.0   \n",
              "20                                     33.1   \n",
              "21                                     33.3   \n",
              "22                                     11.6   \n",
              "23                                     27.3   \n",
              "24                                     31.3   \n",
              "25                                     33.4   \n",
              "26                                     47.2   \n",
              "27                                     17.8   \n",
              "28                                     19.4   \n",
              "29                                      8.5   \n",
              "30                                     22.5   \n",
              "\n",
              "    Identified_Leprosy_Patients_Female_700  Death_TB_Patients_Female_712  \\\n",
              "0                                       15                             9   \n",
              "1                                       72                            26   \n",
              "2                                       90                            96   \n",
              "3                                       92                            91   \n",
              "4                                        4                            20   \n",
              "5                                       90                            11   \n",
              "6                                       45                             6   \n",
              "7                                       31                            21   \n",
              "8                                        3                             8   \n",
              "9                                       22                            15   \n",
              "10                                       6                            27   \n",
              "11                                      25                            10   \n",
              "12                                      57                            27   \n",
              "13                                      28                            34   \n",
              "14                                       2                            14   \n",
              "15                                      24                            21   \n",
              "16                                      43                            12   \n",
              "17                                       1                             1   \n",
              "18                                      19                            29   \n",
              "19                                      41                            12   \n",
              "20                                      12                             6   \n",
              "21                                      26                             5   \n",
              "22                                      71                            56   \n",
              "23                                      18                            21   \n",
              "24                                      13                             8   \n",
              "25                                      32                            68   \n",
              "26                                      21                             5   \n",
              "27                                      48                            18   \n",
              "28                                      40                            31   \n",
              "29                                      27                            20   \n",
              "30                                      72                            27   \n",
              "\n",
              "    MaternalMortalityDeath_721  \n",
              "0                           19  \n",
              "1                           17  \n",
              "2                           52  \n",
              "3                           19  \n",
              "4                            8  \n",
              "5                           17  \n",
              "6                            3  \n",
              "7                           12  \n",
              "8                            8  \n",
              "9                           15  \n",
              "10                           8  \n",
              "11                          23  \n",
              "12                          68  \n",
              "13                           7  \n",
              "14                          22  \n",
              "15                          14  \n",
              "16                          52  \n",
              "17                           6  \n",
              "18                          17  \n",
              "19                          18  \n",
              "20                           9  \n",
              "21                          20  \n",
              "22                          50  \n",
              "23                           4  \n",
              "24                          27  \n",
              "25                          23  \n",
              "26                           7  \n",
              "27                           4  \n",
              "28                          21  \n",
              "29                          16  \n",
              "30                          16  "
            ]
          },
          "execution_count": 3,
          "metadata": {},
          "output_type": "execute_result"
        }
      ],
      "source": [
        "df"
      ]
    },
    {
      "cell_type": "code",
      "execution_count": 4,
      "metadata": {},
      "outputs": [],
      "source": [
        "df1=pd.read_csv(\"Agriculture_KAG_2016_17.csv\")"
      ]
    },
    {
      "cell_type": "code",
      "execution_count": 5,
      "metadata": {},
      "outputs": [
        {
          "data": {
            "text/plain": [
              "Index(['District', 'Nitrogen', 'Phosphorus', 'Potassium', 'TotalNPK',\n",
              "       'Rice_Production', 'Jowar_Production', 'Bajra_Production',\n",
              "       'Maize_Production', 'Ragi_Production', 'Wheat_Production',\n",
              "       'TotalCerealsandMinorMillets_Production', 'Rice_Yield', 'Jowar_Yield',\n",
              "       'Bajra_Yield', 'Maize_Yield', 'Ragi_Yield', 'Wheat_Yield',\n",
              "       'TotalCerealsandMillets_Yield', 'Groundnut_Production',\n",
              "       'Sunflower_Production', 'Safflower_Production', 'Castor_Production',\n",
              "       'Sesamum_Production', 'Linseed_Production', 'Soyabean_Production',\n",
              "       'Nigerseed_Production', 'TotalOilSeeds_Production', 'Groundnut_Yield',\n",
              "       'Sunflower_Yield', 'Safflower_Yield', 'Castor_Yield', 'Linseed_Yield',\n",
              "       'Soyabean_Yield', 'Sesamum_Yield', 'Nigerseed_Yield',\n",
              "       'TotalOilSeeds_Yield', 'SowingSeedsDistributed_Paddy',\n",
              "       'SowingSeedsDistributed_Wheat', 'SowingSeedsDistributed_Jowar',\n",
              "       'SowingSeedsDistributed_Ragi', 'SowingSeedsDistributed_Maize',\n",
              "       'SowingSeedsDistributed_Bajra', 'SowingSeedsDistributed_Safflower',\n",
              "       'SowingSeedsDistributed_Groundnut', 'SowingSeedsDistributed_Sunflower',\n",
              "       'SowingSeedsDistributed_Soyabean', 'RRB_AgricultureLoan',\n",
              "       'DCCBank_AgricultureLoan', 'KSCARD_PLDBank_AgricultureLoan'],\n",
              "      dtype='object')"
            ]
          },
          "execution_count": 5,
          "metadata": {},
          "output_type": "execute_result"
        }
      ],
      "source": [
        "df1.columns"
      ]
    },
    {
      "cell_type": "code",
      "execution_count": 6,
      "metadata": {
        "colab": {
          "base_uri": "https://localhost:8080/"
        },
        "id": "stnwkH31eA4l",
        "outputId": "30a78ddb-fa76-457a-e282-14709150a5eb"
      },
      "outputs": [
        {
          "data": {
            "text/plain": [
              "Index(['District', 'KGISDist 1', 'NFHS_%BirthsDeliveredInAHealthFacility',\n",
              "       'NFHS_%BirthsDeliveredByCaesareanSection',\n",
              "       'Identified_Leprosy_Patients_Female_700',\n",
              "       'Death_TB_Patients_Female_712', 'MaternalMortalityDeath_721'],\n",
              "      dtype='object')"
            ]
          },
          "execution_count": 6,
          "metadata": {},
          "output_type": "execute_result"
        }
      ],
      "source": [
        "df.columns"
      ]
    },
    {
      "cell_type": "code",
      "execution_count": 7,
      "metadata": {
        "colab": {
          "base_uri": "https://localhost:8080/"
        },
        "id": "Q2yBAa5MeTNS",
        "outputId": "35dd40bc-c1dd-46f6-ce29-4bd4249369fd"
      },
      "outputs": [
        {
          "data": {
            "text/plain": [
              "Index(['NFHS_%BirthsDeliveredInAHealthFacility',\n",
              "       'NFHS_%BirthsDeliveredByCaesareanSection',\n",
              "       'Identified_Leprosy_Patients_Female_700',\n",
              "       'Death_TB_Patients_Female_712'],\n",
              "      dtype='object')"
            ]
          },
          "execution_count": 7,
          "metadata": {},
          "output_type": "execute_result"
        }
      ],
      "source": [
        "x_col=df.columns[2:-1]\n",
        "x_col"
      ]
    },
    {
      "cell_type": "code",
      "execution_count": 8,
      "metadata": {
        "colab": {
          "base_uri": "https://localhost:8080/",
          "height": 1000
        },
        "id": "3IUZ7VtW7FBW",
        "outputId": "4ab2ed0c-4ef4-4678-9967-86793d50e1b4"
      },
      "outputs": [
        {
          "data": {
            "text/html": [
              "<div>\n",
              "<style scoped>\n",
              "    .dataframe tbody tr th:only-of-type {\n",
              "        vertical-align: middle;\n",
              "    }\n",
              "\n",
              "    .dataframe tbody tr th {\n",
              "        vertical-align: top;\n",
              "    }\n",
              "\n",
              "    .dataframe thead th {\n",
              "        text-align: right;\n",
              "    }\n",
              "</style>\n",
              "<table border=\"1\" class=\"dataframe\">\n",
              "  <thead>\n",
              "    <tr style=\"text-align: right;\">\n",
              "      <th></th>\n",
              "      <th>NFHS_%BirthsDeliveredInAHealthFacility</th>\n",
              "      <th>NFHS_%BirthsDeliveredByCaesareanSection</th>\n",
              "      <th>Identified_Leprosy_Patients_Female_700</th>\n",
              "      <th>Death_TB_Patients_Female_712</th>\n",
              "    </tr>\n",
              "  </thead>\n",
              "  <tbody>\n",
              "    <tr>\n",
              "      <th>0</th>\n",
              "      <td>91.9</td>\n",
              "      <td>14.4</td>\n",
              "      <td>15</td>\n",
              "      <td>9</td>\n",
              "    </tr>\n",
              "    <tr>\n",
              "      <th>1</th>\n",
              "      <td>86.2</td>\n",
              "      <td>22.5</td>\n",
              "      <td>72</td>\n",
              "      <td>26</td>\n",
              "    </tr>\n",
              "    <tr>\n",
              "      <th>2</th>\n",
              "      <td>97.1</td>\n",
              "      <td>16.4</td>\n",
              "      <td>90</td>\n",
              "      <td>96</td>\n",
              "    </tr>\n",
              "    <tr>\n",
              "      <th>3</th>\n",
              "      <td>96.2</td>\n",
              "      <td>27.5</td>\n",
              "      <td>92</td>\n",
              "      <td>91</td>\n",
              "    </tr>\n",
              "    <tr>\n",
              "      <th>4</th>\n",
              "      <td>98.5</td>\n",
              "      <td>30.5</td>\n",
              "      <td>4</td>\n",
              "      <td>20</td>\n",
              "    </tr>\n",
              "  </tbody>\n",
              "</table>\n",
              "</div>"
            ],
            "text/plain": [
              "   NFHS_%BirthsDeliveredInAHealthFacility  \\\n",
              "0                                    91.9   \n",
              "1                                    86.2   \n",
              "2                                    97.1   \n",
              "3                                    96.2   \n",
              "4                                    98.5   \n",
              "\n",
              "   NFHS_%BirthsDeliveredByCaesareanSection  \\\n",
              "0                                     14.4   \n",
              "1                                     22.5   \n",
              "2                                     16.4   \n",
              "3                                     27.5   \n",
              "4                                     30.5   \n",
              "\n",
              "   Identified_Leprosy_Patients_Female_700  Death_TB_Patients_Female_712  \n",
              "0                                      15                             9  \n",
              "1                                      72                            26  \n",
              "2                                      90                            96  \n",
              "3                                      92                            91  \n",
              "4                                       4                            20  "
            ]
          },
          "execution_count": 8,
          "metadata": {},
          "output_type": "execute_result"
        }
      ],
      "source": [
        "x=df[x_col]\n",
        "x.head()"
      ]
    },
    {
      "cell_type": "code",
      "execution_count": 9,
      "metadata": {
        "colab": {
          "base_uri": "https://localhost:8080/"
        },
        "id": "QfQFoQgme6xW",
        "outputId": "aeea2f9a-835b-4faf-bf1f-2c97f28ef478"
      },
      "outputs": [
        {
          "data": {
            "text/plain": [
              "0    19\n",
              "1    17\n",
              "2    52\n",
              "3    19\n",
              "4     8\n",
              "Name: MaternalMortalityDeath_721, dtype: int64"
            ]
          },
          "execution_count": 9,
          "metadata": {},
          "output_type": "execute_result"
        }
      ],
      "source": [
        "y=df['MaternalMortalityDeath_721']\n",
        "y.head()"
      ]
    },
    {
      "cell_type": "code",
      "execution_count": 10,
      "metadata": {
        "colab": {
          "base_uri": "https://localhost:8080/",
          "height": 1000
        },
        "id": "tqTsJiMs7ZXY",
        "outputId": "dea9df14-6e9d-4b96-921a-dd210a986523"
      },
      "outputs": [
        {
          "data": {
            "text/html": [
              "<div>\n",
              "<style scoped>\n",
              "    .dataframe tbody tr th:only-of-type {\n",
              "        vertical-align: middle;\n",
              "    }\n",
              "\n",
              "    .dataframe tbody tr th {\n",
              "        vertical-align: top;\n",
              "    }\n",
              "\n",
              "    .dataframe thead th {\n",
              "        text-align: right;\n",
              "    }\n",
              "</style>\n",
              "<table border=\"1\" class=\"dataframe\">\n",
              "  <thead>\n",
              "    <tr style=\"text-align: right;\">\n",
              "      <th></th>\n",
              "      <th>const</th>\n",
              "      <th>NFHS_%BirthsDeliveredInAHealthFacility</th>\n",
              "      <th>NFHS_%BirthsDeliveredByCaesareanSection</th>\n",
              "      <th>Identified_Leprosy_Patients_Female_700</th>\n",
              "      <th>Death_TB_Patients_Female_712</th>\n",
              "    </tr>\n",
              "  </thead>\n",
              "  <tbody>\n",
              "    <tr>\n",
              "      <th>0</th>\n",
              "      <td>1.0</td>\n",
              "      <td>91.9</td>\n",
              "      <td>14.4</td>\n",
              "      <td>15</td>\n",
              "      <td>9</td>\n",
              "    </tr>\n",
              "    <tr>\n",
              "      <th>1</th>\n",
              "      <td>1.0</td>\n",
              "      <td>86.2</td>\n",
              "      <td>22.5</td>\n",
              "      <td>72</td>\n",
              "      <td>26</td>\n",
              "    </tr>\n",
              "    <tr>\n",
              "      <th>2</th>\n",
              "      <td>1.0</td>\n",
              "      <td>97.1</td>\n",
              "      <td>16.4</td>\n",
              "      <td>90</td>\n",
              "      <td>96</td>\n",
              "    </tr>\n",
              "    <tr>\n",
              "      <th>3</th>\n",
              "      <td>1.0</td>\n",
              "      <td>96.2</td>\n",
              "      <td>27.5</td>\n",
              "      <td>92</td>\n",
              "      <td>91</td>\n",
              "    </tr>\n",
              "    <tr>\n",
              "      <th>4</th>\n",
              "      <td>1.0</td>\n",
              "      <td>98.5</td>\n",
              "      <td>30.5</td>\n",
              "      <td>4</td>\n",
              "      <td>20</td>\n",
              "    </tr>\n",
              "  </tbody>\n",
              "</table>\n",
              "</div>"
            ],
            "text/plain": [
              "   const  NFHS_%BirthsDeliveredInAHealthFacility  \\\n",
              "0    1.0                                    91.9   \n",
              "1    1.0                                    86.2   \n",
              "2    1.0                                    97.1   \n",
              "3    1.0                                    96.2   \n",
              "4    1.0                                    98.5   \n",
              "\n",
              "   NFHS_%BirthsDeliveredByCaesareanSection  \\\n",
              "0                                     14.4   \n",
              "1                                     22.5   \n",
              "2                                     16.4   \n",
              "3                                     27.5   \n",
              "4                                     30.5   \n",
              "\n",
              "   Identified_Leprosy_Patients_Female_700  Death_TB_Patients_Female_712  \n",
              "0                                      15                             9  \n",
              "1                                      72                            26  \n",
              "2                                      90                            96  \n",
              "3                                      92                            91  \n",
              "4                                       4                            20  "
            ]
          },
          "execution_count": 10,
          "metadata": {},
          "output_type": "execute_result"
        }
      ],
      "source": [
        "x=sm.add_constant(x)\n",
        "x.head()"
      ]
    },
    {
      "cell_type": "code",
      "execution_count": 11,
      "metadata": {
        "colab": {
          "base_uri": "https://localhost:8080/",
          "height": 541
        },
        "id": "DKhbE_hZiPpl",
        "outputId": "d07c75f1-1777-4c3a-fe7c-a8ffa36b3cc9"
      },
      "outputs": [
        {
          "data": {
            "text/html": [
              "<table class=\"simpletable\">\n",
              "<caption>OLS Regression Results</caption>\n",
              "<tr>\n",
              "  <th>Dep. Variable:</th>    <td>MaternalMortalityDeath_721</td> <th>  R-squared:         </th> <td>   0.280</td>\n",
              "</tr>\n",
              "<tr>\n",
              "  <th>Model:</th>                        <td>OLS</td>            <th>  Adj. R-squared:    </th> <td>   0.169</td>\n",
              "</tr>\n",
              "<tr>\n",
              "  <th>Method:</th>                  <td>Least Squares</td>       <th>  F-statistic:       </th> <td>   2.528</td>\n",
              "</tr>\n",
              "<tr>\n",
              "  <th>Date:</th>                  <td>Wed, 27 Mar 2024</td>      <th>  Prob (F-statistic):</th>  <td>0.0648</td> \n",
              "</tr>\n",
              "<tr>\n",
              "  <th>Time:</th>                      <td>13:17:47</td>          <th>  Log-Likelihood:    </th> <td> -123.74</td>\n",
              "</tr>\n",
              "<tr>\n",
              "  <th>No. Observations:</th>           <td>    31</td>           <th>  AIC:               </th> <td>   257.5</td>\n",
              "</tr>\n",
              "<tr>\n",
              "  <th>Df Residuals:</th>               <td>    26</td>           <th>  BIC:               </th> <td>   264.7</td>\n",
              "</tr>\n",
              "<tr>\n",
              "  <th>Df Model:</th>                   <td>     4</td>           <th>                     </th>     <td> </td>   \n",
              "</tr>\n",
              "<tr>\n",
              "  <th>Covariance Type:</th>           <td>nonrobust</td>         <th>                     </th>     <td> </td>   \n",
              "</tr>\n",
              "</table>\n",
              "<table class=\"simpletable\">\n",
              "<tr>\n",
              "                     <td></td>                        <th>coef</th>     <th>std err</th>      <th>t</th>      <th>P>|t|</th>  <th>[0.025</th>    <th>0.975]</th>  \n",
              "</tr>\n",
              "<tr>\n",
              "  <th>const</th>                                   <td>   34.9275</td> <td>   62.363</td> <td>    0.560</td> <td> 0.580</td> <td>  -93.262</td> <td>  163.117</td>\n",
              "</tr>\n",
              "<tr>\n",
              "  <th>NFHS_%BirthsDeliveredInAHealthFacility</th>  <td>   -0.1334</td> <td>    0.688</td> <td>   -0.194</td> <td> 0.848</td> <td>   -1.547</td> <td>    1.280</td>\n",
              "</tr>\n",
              "<tr>\n",
              "  <th>NFHS_%BirthsDeliveredByCaesareanSection</th> <td>   -0.4251</td> <td>    0.366</td> <td>   -1.160</td> <td> 0.257</td> <td>   -1.178</td> <td>    0.328</td>\n",
              "</tr>\n",
              "<tr>\n",
              "  <th>Identified_Leprosy_Patients_Female_700</th>  <td>    0.0897</td> <td>    0.139</td> <td>    0.643</td> <td> 0.526</td> <td>   -0.197</td> <td>    0.376</td>\n",
              "</tr>\n",
              "<tr>\n",
              "  <th>Death_TB_Patients_Female_712</th>            <td>    0.1788</td> <td>    0.142</td> <td>    1.256</td> <td> 0.220</td> <td>   -0.114</td> <td>    0.471</td>\n",
              "</tr>\n",
              "</table>\n",
              "<table class=\"simpletable\">\n",
              "<tr>\n",
              "  <th>Omnibus:</th>       <td>17.025</td> <th>  Durbin-Watson:     </th> <td>   2.282</td>\n",
              "</tr>\n",
              "<tr>\n",
              "  <th>Prob(Omnibus):</th> <td> 0.000</td> <th>  Jarque-Bera (JB):  </th> <td>  20.649</td>\n",
              "</tr>\n",
              "<tr>\n",
              "  <th>Skew:</th>          <td> 1.467</td> <th>  Prob(JB):          </th> <td>3.28e-05</td>\n",
              "</tr>\n",
              "<tr>\n",
              "  <th>Kurtosis:</th>      <td> 5.716</td> <th>  Cond. No.          </th> <td>2.60e+03</td>\n",
              "</tr>\n",
              "</table><br/><br/>Notes:<br/>[1] Standard Errors assume that the covariance matrix of the errors is correctly specified.<br/>[2] The condition number is large, 2.6e+03. This might indicate that there are<br/>strong multicollinearity or other numerical problems."
            ],
            "text/latex": [
              "\\begin{center}\n",
              "\\begin{tabular}{lclc}\n",
              "\\toprule\n",
              "\\textbf{Dep. Variable:}                             & MaternalMortalityDeath\\_721 & \\textbf{  R-squared:         } &     0.280   \\\\\n",
              "\\textbf{Model:}                                     &             OLS             & \\textbf{  Adj. R-squared:    } &     0.169   \\\\\n",
              "\\textbf{Method:}                                    &        Least Squares        & \\textbf{  F-statistic:       } &     2.528   \\\\\n",
              "\\textbf{Date:}                                      &       Wed, 27 Mar 2024      & \\textbf{  Prob (F-statistic):} &   0.0648    \\\\\n",
              "\\textbf{Time:}                                      &           13:17:47          & \\textbf{  Log-Likelihood:    } &   -123.74   \\\\\n",
              "\\textbf{No. Observations:}                          &                31           & \\textbf{  AIC:               } &     257.5   \\\\\n",
              "\\textbf{Df Residuals:}                              &                26           & \\textbf{  BIC:               } &     264.7   \\\\\n",
              "\\textbf{Df Model:}                                  &                 4           & \\textbf{                     } &             \\\\\n",
              "\\textbf{Covariance Type:}                           &          nonrobust          & \\textbf{                     } &             \\\\\n",
              "\\bottomrule\n",
              "\\end{tabular}\n",
              "\\begin{tabular}{lcccccc}\n",
              "                                                    & \\textbf{coef} & \\textbf{std err} & \\textbf{t} & \\textbf{P$> |$t$|$} & \\textbf{[0.025} & \\textbf{0.975]}  \\\\\n",
              "\\midrule\n",
              "\\textbf{const}                                      &      34.9275  &       62.363     &     0.560  &         0.580        &      -93.262    &      163.117     \\\\\n",
              "\\textbf{NFHS\\_\\%BirthsDeliveredInAHealthFacility}   &      -0.1334  &        0.688     &    -0.194  &         0.848        &       -1.547    &        1.280     \\\\\n",
              "\\textbf{NFHS\\_\\%BirthsDeliveredByCaesareanSection}  &      -0.4251  &        0.366     &    -1.160  &         0.257        &       -1.178    &        0.328     \\\\\n",
              "\\textbf{Identified\\_Leprosy\\_Patients\\_Female\\_700} &       0.0897  &        0.139     &     0.643  &         0.526        &       -0.197    &        0.376     \\\\\n",
              "\\textbf{Death\\_TB\\_Patients\\_Female\\_712}           &       0.1788  &        0.142     &     1.256  &         0.220        &       -0.114    &        0.471     \\\\\n",
              "\\bottomrule\n",
              "\\end{tabular}\n",
              "\\begin{tabular}{lclc}\n",
              "\\textbf{Omnibus:}       & 17.025 & \\textbf{  Durbin-Watson:     } &    2.282  \\\\\n",
              "\\textbf{Prob(Omnibus):} &  0.000 & \\textbf{  Jarque-Bera (JB):  } &   20.649  \\\\\n",
              "\\textbf{Skew:}          &  1.467 & \\textbf{  Prob(JB):          } & 3.28e-05  \\\\\n",
              "\\textbf{Kurtosis:}      &  5.716 & \\textbf{  Cond. No.          } & 2.60e+03  \\\\\n",
              "\\bottomrule\n",
              "\\end{tabular}\n",
              "%\\caption{OLS Regression Results}\n",
              "\\end{center}\n",
              "\n",
              "Notes: \\newline\n",
              " [1] Standard Errors assume that the covariance matrix of the errors is correctly specified. \\newline\n",
              " [2] The condition number is large, 2.6e+03. This might indicate that there are \\newline\n",
              " strong multicollinearity or other numerical problems."
            ],
            "text/plain": [
              "<class 'statsmodels.iolib.summary.Summary'>\n",
              "\"\"\"\n",
              "                                OLS Regression Results                                \n",
              "======================================================================================\n",
              "Dep. Variable:     MaternalMortalityDeath_721   R-squared:                       0.280\n",
              "Model:                                    OLS   Adj. R-squared:                  0.169\n",
              "Method:                         Least Squares   F-statistic:                     2.528\n",
              "Date:                        Wed, 27 Mar 2024   Prob (F-statistic):             0.0648\n",
              "Time:                                13:17:47   Log-Likelihood:                -123.74\n",
              "No. Observations:                          31   AIC:                             257.5\n",
              "Df Residuals:                              26   BIC:                             264.7\n",
              "Df Model:                                   4                                         \n",
              "Covariance Type:                    nonrobust                                         \n",
              "===========================================================================================================\n",
              "                                              coef    std err          t      P>|t|      [0.025      0.975]\n",
              "-----------------------------------------------------------------------------------------------------------\n",
              "const                                      34.9275     62.363      0.560      0.580     -93.262     163.117\n",
              "NFHS_%BirthsDeliveredInAHealthFacility     -0.1334      0.688     -0.194      0.848      -1.547       1.280\n",
              "NFHS_%BirthsDeliveredByCaesareanSection    -0.4251      0.366     -1.160      0.257      -1.178       0.328\n",
              "Identified_Leprosy_Patients_Female_700      0.0897      0.139      0.643      0.526      -0.197       0.376\n",
              "Death_TB_Patients_Female_712                0.1788      0.142      1.256      0.220      -0.114       0.471\n",
              "==============================================================================\n",
              "Omnibus:                       17.025   Durbin-Watson:                   2.282\n",
              "Prob(Omnibus):                  0.000   Jarque-Bera (JB):               20.649\n",
              "Skew:                           1.467   Prob(JB):                     3.28e-05\n",
              "Kurtosis:                       5.716   Cond. No.                     2.60e+03\n",
              "==============================================================================\n",
              "\n",
              "Notes:\n",
              "[1] Standard Errors assume that the covariance matrix of the errors is correctly specified.\n",
              "[2] The condition number is large, 2.6e+03. This might indicate that there are\n",
              "strong multicollinearity or other numerical problems.\n",
              "\"\"\""
            ]
          },
          "execution_count": 11,
          "metadata": {},
          "output_type": "execute_result"
        }
      ],
      "source": [
        "model=sm.OLS(y,x).fit()\n",
        "model.summary()"
      ]
    },
    {
      "cell_type": "code",
      "execution_count": 12,
      "metadata": {
        "colab": {
          "base_uri": "https://localhost:8080/"
        },
        "id": "nm26nITdjRxl",
        "outputId": "5037ee98-bd5f-46a6-ba2c-f41baf95031f"
      },
      "outputs": [
        {
          "data": {
            "text/plain": [
              "19.419354838709676"
            ]
          },
          "execution_count": 12,
          "metadata": {},
          "output_type": "execute_result"
        }
      ],
      "source": [
        "y.mean()"
      ]
    },
    {
      "cell_type": "code",
      "execution_count": 13,
      "metadata": {
        "id": "k76NxJbMLcTD"
      },
      "outputs": [],
      "source": [
        "# target=10"
      ]
    },
    {
      "cell_type": "code",
      "execution_count": 14,
      "metadata": {
        "colab": {
          "base_uri": "https://localhost:8080/"
        },
        "id": "AnJqVybAkXyT",
        "outputId": "9ed58447-5609-4ef4-f161-731c85ef58ce"
      },
      "outputs": [],
      "source": [
        "coef=model.params.values[1:]\n",
        "# coef"
      ]
    },
    {
      "cell_type": "code",
      "execution_count": 15,
      "metadata": {
        "colab": {
          "base_uri": "https://localhost:8080/"
        },
        "id": "rJh41MAQ31A1",
        "outputId": "d4f6b1c4-2e4b-481d-a046-b5d0bdb3209e"
      },
      "outputs": [],
      "source": [
        "# target=5\n",
        "# target"
      ]
    },
    {
      "cell_type": "code",
      "execution_count": 16,
      "metadata": {
        "id": "_MvRrWQu3N0E"
      },
      "outputs": [],
      "source": [
        "x.drop('const',axis=1,inplace=True)"
      ]
    },
    {
      "cell_type": "code",
      "execution_count": 17,
      "metadata": {
        "colab": {
          "base_uri": "https://localhost:8080/",
          "height": 1000
        },
        "id": "MUBNwOL83lEV",
        "outputId": "2d5e0e1a-ab9d-458f-a19f-a567217057ff"
      },
      "outputs": [
        {
          "data": {
            "text/html": [
              "<div>\n",
              "<style scoped>\n",
              "    .dataframe tbody tr th:only-of-type {\n",
              "        vertical-align: middle;\n",
              "    }\n",
              "\n",
              "    .dataframe tbody tr th {\n",
              "        vertical-align: top;\n",
              "    }\n",
              "\n",
              "    .dataframe thead th {\n",
              "        text-align: right;\n",
              "    }\n",
              "</style>\n",
              "<table border=\"1\" class=\"dataframe\">\n",
              "  <thead>\n",
              "    <tr style=\"text-align: right;\">\n",
              "      <th></th>\n",
              "      <th>NFHS_%BirthsDeliveredInAHealthFacility</th>\n",
              "      <th>NFHS_%BirthsDeliveredByCaesareanSection</th>\n",
              "      <th>Identified_Leprosy_Patients_Female_700</th>\n",
              "      <th>Death_TB_Patients_Female_712</th>\n",
              "    </tr>\n",
              "  </thead>\n",
              "  <tbody>\n",
              "    <tr>\n",
              "      <th>0</th>\n",
              "      <td>91.9</td>\n",
              "      <td>14.4</td>\n",
              "      <td>15</td>\n",
              "      <td>9</td>\n",
              "    </tr>\n",
              "    <tr>\n",
              "      <th>1</th>\n",
              "      <td>86.2</td>\n",
              "      <td>22.5</td>\n",
              "      <td>72</td>\n",
              "      <td>26</td>\n",
              "    </tr>\n",
              "    <tr>\n",
              "      <th>2</th>\n",
              "      <td>97.1</td>\n",
              "      <td>16.4</td>\n",
              "      <td>90</td>\n",
              "      <td>96</td>\n",
              "    </tr>\n",
              "    <tr>\n",
              "      <th>3</th>\n",
              "      <td>96.2</td>\n",
              "      <td>27.5</td>\n",
              "      <td>92</td>\n",
              "      <td>91</td>\n",
              "    </tr>\n",
              "    <tr>\n",
              "      <th>4</th>\n",
              "      <td>98.5</td>\n",
              "      <td>30.5</td>\n",
              "      <td>4</td>\n",
              "      <td>20</td>\n",
              "    </tr>\n",
              "  </tbody>\n",
              "</table>\n",
              "</div>"
            ],
            "text/plain": [
              "   NFHS_%BirthsDeliveredInAHealthFacility  \\\n",
              "0                                    91.9   \n",
              "1                                    86.2   \n",
              "2                                    97.1   \n",
              "3                                    96.2   \n",
              "4                                    98.5   \n",
              "\n",
              "   NFHS_%BirthsDeliveredByCaesareanSection  \\\n",
              "0                                     14.4   \n",
              "1                                     22.5   \n",
              "2                                     16.4   \n",
              "3                                     27.5   \n",
              "4                                     30.5   \n",
              "\n",
              "   Identified_Leprosy_Patients_Female_700  Death_TB_Patients_Female_712  \n",
              "0                                      15                             9  \n",
              "1                                      72                            26  \n",
              "2                                      90                            96  \n",
              "3                                      92                            91  \n",
              "4                                       4                            20  "
            ]
          },
          "execution_count": 17,
          "metadata": {},
          "output_type": "execute_result"
        }
      ],
      "source": [
        "x.head()"
      ]
    },
    {
      "cell_type": "code",
      "execution_count": 18,
      "metadata": {
        "id": "XaVxjVtX8I9M"
      },
      "outputs": [],
      "source": [
        "import numpy as np\n",
        "import pandas as pd\n",
        "from itertools import product\n",
        "\n",
        "arr = np.arange(0, 1.1, 0.1)\n",
        "\n",
        "# Generate all possible combinations of elements in arr\n",
        "combinations = product(arr, repeat=4)\n",
        "\n",
        "# Create a DataFrame with the combinations\n",
        "alpha_df = pd.DataFrame(combinations, columns=['Sensitivity (Health Facility)', 'Sensitivity (Caesarean)', 'Sensitivity (Leprosy Female)', 'Sensitivity (TB Female)'])"
      ]
    },
    {
      "cell_type": "code",
      "execution_count": 19,
      "metadata": {
        "colab": {
          "base_uri": "https://localhost:8080/",
          "height": 423
        },
        "id": "J2X9R_i5SEJl",
        "outputId": "4f0a41c3-0d75-4da5-f510-63393bc76b6b"
      },
      "outputs": [
        {
          "data": {
            "text/html": [
              "<div>\n",
              "<style scoped>\n",
              "    .dataframe tbody tr th:only-of-type {\n",
              "        vertical-align: middle;\n",
              "    }\n",
              "\n",
              "    .dataframe tbody tr th {\n",
              "        vertical-align: top;\n",
              "    }\n",
              "\n",
              "    .dataframe thead th {\n",
              "        text-align: right;\n",
              "    }\n",
              "</style>\n",
              "<table border=\"1\" class=\"dataframe\">\n",
              "  <thead>\n",
              "    <tr style=\"text-align: right;\">\n",
              "      <th></th>\n",
              "      <th>Sensitivity (Health Facility)</th>\n",
              "      <th>Sensitivity (Caesarean)</th>\n",
              "      <th>Sensitivity (Leprosy Female)</th>\n",
              "      <th>Sensitivity (TB Female)</th>\n",
              "    </tr>\n",
              "  </thead>\n",
              "  <tbody>\n",
              "    <tr>\n",
              "      <th>0</th>\n",
              "      <td>0.0</td>\n",
              "      <td>0.0</td>\n",
              "      <td>0.0</td>\n",
              "      <td>0.0</td>\n",
              "    </tr>\n",
              "    <tr>\n",
              "      <th>1</th>\n",
              "      <td>0.0</td>\n",
              "      <td>0.0</td>\n",
              "      <td>0.0</td>\n",
              "      <td>0.1</td>\n",
              "    </tr>\n",
              "    <tr>\n",
              "      <th>2</th>\n",
              "      <td>0.0</td>\n",
              "      <td>0.0</td>\n",
              "      <td>0.0</td>\n",
              "      <td>0.2</td>\n",
              "    </tr>\n",
              "    <tr>\n",
              "      <th>3</th>\n",
              "      <td>0.0</td>\n",
              "      <td>0.0</td>\n",
              "      <td>0.0</td>\n",
              "      <td>0.3</td>\n",
              "    </tr>\n",
              "    <tr>\n",
              "      <th>4</th>\n",
              "      <td>0.0</td>\n",
              "      <td>0.0</td>\n",
              "      <td>0.0</td>\n",
              "      <td>0.4</td>\n",
              "    </tr>\n",
              "  </tbody>\n",
              "</table>\n",
              "</div>"
            ],
            "text/plain": [
              "   Sensitivity (Health Facility)  Sensitivity (Caesarean)  \\\n",
              "0                            0.0                      0.0   \n",
              "1                            0.0                      0.0   \n",
              "2                            0.0                      0.0   \n",
              "3                            0.0                      0.0   \n",
              "4                            0.0                      0.0   \n",
              "\n",
              "   Sensitivity (Leprosy Female)  Sensitivity (TB Female)  \n",
              "0                           0.0                      0.0  \n",
              "1                           0.0                      0.1  \n",
              "2                           0.0                      0.2  \n",
              "3                           0.0                      0.3  \n",
              "4                           0.0                      0.4  "
            ]
          },
          "execution_count": 19,
          "metadata": {},
          "output_type": "execute_result"
        }
      ],
      "source": [
        "alpha_df.head()"
      ]
    },
    {
      "cell_type": "code",
      "execution_count": 20,
      "metadata": {
        "id": "NYrDuElfE83A"
      },
      "outputs": [],
      "source": [
        "import pandas as pd\n",
        "import numpy as np\n",
        "\n",
        "# Assuming x, y, target, coef, and alpha_df are defined elsewhere\n",
        "\n",
        "x_new_all_comb = pd.DataFrame()\n",
        "target=5\n",
        "\n",
        "def computing_new_x(alpha_x):\n",
        "\n",
        "    temp_df = (x - np.array(alpha_x) * (y.mean() - target) / coef)\n",
        "    alpha = pd.DataFrame(np.tile(alpha_x, (len(temp_df), 1)),columns=alpha_x.index)  # Repeat alpha_x to match the length of temp_df\n",
        "    temp_df = pd.concat([temp_df, alpha], axis=1)\n",
        "    return temp_df\n",
        "\n",
        "for index, row in alpha_df.iterrows():\n",
        "    x_new_all_comb = pd.concat([x_new_all_comb, computing_new_x(row)], ignore_index=True)\n",
        "# Now x_new_all_comb should contain the concatenated data"
      ]
    },
    {
      "cell_type": "code",
      "execution_count": 21,
      "metadata": {
        "colab": {
          "base_uri": "https://localhost:8080/",
          "height": 478
        },
        "id": "t1KMgHvlCkZM",
        "outputId": "4c3b1a36-6ff7-4b45-aeb8-da7c5d5934c7"
      },
      "outputs": [
        {
          "data": {
            "text/html": [
              "<div>\n",
              "<style scoped>\n",
              "    .dataframe tbody tr th:only-of-type {\n",
              "        vertical-align: middle;\n",
              "    }\n",
              "\n",
              "    .dataframe tbody tr th {\n",
              "        vertical-align: top;\n",
              "    }\n",
              "\n",
              "    .dataframe thead th {\n",
              "        text-align: right;\n",
              "    }\n",
              "</style>\n",
              "<table border=\"1\" class=\"dataframe\">\n",
              "  <thead>\n",
              "    <tr style=\"text-align: right;\">\n",
              "      <th></th>\n",
              "      <th>NFHS_%BirthsDeliveredInAHealthFacility</th>\n",
              "      <th>NFHS_%BirthsDeliveredByCaesareanSection</th>\n",
              "      <th>Identified_Leprosy_Patients_Female_700</th>\n",
              "      <th>Death_TB_Patients_Female_712</th>\n",
              "      <th>Sensitivity (Health Facility)</th>\n",
              "      <th>Sensitivity (Caesarean)</th>\n",
              "      <th>Sensitivity (Leprosy Female)</th>\n",
              "      <th>Sensitivity (TB Female)</th>\n",
              "    </tr>\n",
              "  </thead>\n",
              "  <tbody>\n",
              "    <tr>\n",
              "      <th>0</th>\n",
              "      <td>91.900000</td>\n",
              "      <td>14.400000</td>\n",
              "      <td>15.000000</td>\n",
              "      <td>9.000000</td>\n",
              "      <td>0.0</td>\n",
              "      <td>0.0</td>\n",
              "      <td>0.0</td>\n",
              "      <td>0.0</td>\n",
              "    </tr>\n",
              "    <tr>\n",
              "      <th>1</th>\n",
              "      <td>86.200000</td>\n",
              "      <td>22.500000</td>\n",
              "      <td>72.000000</td>\n",
              "      <td>26.000000</td>\n",
              "      <td>0.0</td>\n",
              "      <td>0.0</td>\n",
              "      <td>0.0</td>\n",
              "      <td>0.0</td>\n",
              "    </tr>\n",
              "    <tr>\n",
              "      <th>2</th>\n",
              "      <td>97.100000</td>\n",
              "      <td>16.400000</td>\n",
              "      <td>90.000000</td>\n",
              "      <td>96.000000</td>\n",
              "      <td>0.0</td>\n",
              "      <td>0.0</td>\n",
              "      <td>0.0</td>\n",
              "      <td>0.0</td>\n",
              "    </tr>\n",
              "    <tr>\n",
              "      <th>3</th>\n",
              "      <td>96.200000</td>\n",
              "      <td>27.500000</td>\n",
              "      <td>92.000000</td>\n",
              "      <td>91.000000</td>\n",
              "      <td>0.0</td>\n",
              "      <td>0.0</td>\n",
              "      <td>0.0</td>\n",
              "      <td>0.0</td>\n",
              "    </tr>\n",
              "    <tr>\n",
              "      <th>4</th>\n",
              "      <td>98.500000</td>\n",
              "      <td>30.500000</td>\n",
              "      <td>4.000000</td>\n",
              "      <td>20.000000</td>\n",
              "      <td>0.0</td>\n",
              "      <td>0.0</td>\n",
              "      <td>0.0</td>\n",
              "      <td>0.0</td>\n",
              "    </tr>\n",
              "    <tr>\n",
              "      <th>...</th>\n",
              "      <td>...</td>\n",
              "      <td>...</td>\n",
              "      <td>...</td>\n",
              "      <td>...</td>\n",
              "      <td>...</td>\n",
              "      <td>...</td>\n",
              "      <td>...</td>\n",
              "      <td>...</td>\n",
              "    </tr>\n",
              "    <tr>\n",
              "      <th>453866</th>\n",
              "      <td>206.006562</td>\n",
              "      <td>81.123372</td>\n",
              "      <td>-139.719049</td>\n",
              "      <td>-75.644059</td>\n",
              "      <td>1.0</td>\n",
              "      <td>1.0</td>\n",
              "      <td>1.0</td>\n",
              "      <td>1.0</td>\n",
              "    </tr>\n",
              "    <tr>\n",
              "      <th>453867</th>\n",
              "      <td>202.906562</td>\n",
              "      <td>51.723372</td>\n",
              "      <td>-112.719049</td>\n",
              "      <td>-62.644059</td>\n",
              "      <td>1.0</td>\n",
              "      <td>1.0</td>\n",
              "      <td>1.0</td>\n",
              "      <td>1.0</td>\n",
              "    </tr>\n",
              "    <tr>\n",
              "      <th>453868</th>\n",
              "      <td>198.806562</td>\n",
              "      <td>53.323372</td>\n",
              "      <td>-120.719049</td>\n",
              "      <td>-49.644059</td>\n",
              "      <td>1.0</td>\n",
              "      <td>1.0</td>\n",
              "      <td>1.0</td>\n",
              "      <td>1.0</td>\n",
              "    </tr>\n",
              "    <tr>\n",
              "      <th>453869</th>\n",
              "      <td>198.606562</td>\n",
              "      <td>42.423372</td>\n",
              "      <td>-133.719049</td>\n",
              "      <td>-60.644059</td>\n",
              "      <td>1.0</td>\n",
              "      <td>1.0</td>\n",
              "      <td>1.0</td>\n",
              "      <td>1.0</td>\n",
              "    </tr>\n",
              "    <tr>\n",
              "      <th>453870</th>\n",
              "      <td>194.306562</td>\n",
              "      <td>56.423372</td>\n",
              "      <td>-88.719049</td>\n",
              "      <td>-53.644059</td>\n",
              "      <td>1.0</td>\n",
              "      <td>1.0</td>\n",
              "      <td>1.0</td>\n",
              "      <td>1.0</td>\n",
              "    </tr>\n",
              "  </tbody>\n",
              "</table>\n",
              "<p>453871 rows × 8 columns</p>\n",
              "</div>"
            ],
            "text/plain": [
              "        NFHS_%BirthsDeliveredInAHealthFacility  \\\n",
              "0                                    91.900000   \n",
              "1                                    86.200000   \n",
              "2                                    97.100000   \n",
              "3                                    96.200000   \n",
              "4                                    98.500000   \n",
              "...                                        ...   \n",
              "453866                              206.006562   \n",
              "453867                              202.906562   \n",
              "453868                              198.806562   \n",
              "453869                              198.606562   \n",
              "453870                              194.306562   \n",
              "\n",
              "        NFHS_%BirthsDeliveredByCaesareanSection  \\\n",
              "0                                     14.400000   \n",
              "1                                     22.500000   \n",
              "2                                     16.400000   \n",
              "3                                     27.500000   \n",
              "4                                     30.500000   \n",
              "...                                         ...   \n",
              "453866                                81.123372   \n",
              "453867                                51.723372   \n",
              "453868                                53.323372   \n",
              "453869                                42.423372   \n",
              "453870                                56.423372   \n",
              "\n",
              "        Identified_Leprosy_Patients_Female_700  Death_TB_Patients_Female_712  \\\n",
              "0                                    15.000000                      9.000000   \n",
              "1                                    72.000000                     26.000000   \n",
              "2                                    90.000000                     96.000000   \n",
              "3                                    92.000000                     91.000000   \n",
              "4                                     4.000000                     20.000000   \n",
              "...                                        ...                           ...   \n",
              "453866                             -139.719049                    -75.644059   \n",
              "453867                             -112.719049                    -62.644059   \n",
              "453868                             -120.719049                    -49.644059   \n",
              "453869                             -133.719049                    -60.644059   \n",
              "453870                              -88.719049                    -53.644059   \n",
              "\n",
              "        Sensitivity (Health Facility)  Sensitivity (Caesarean)  \\\n",
              "0                                 0.0                      0.0   \n",
              "1                                 0.0                      0.0   \n",
              "2                                 0.0                      0.0   \n",
              "3                                 0.0                      0.0   \n",
              "4                                 0.0                      0.0   \n",
              "...                               ...                      ...   \n",
              "453866                            1.0                      1.0   \n",
              "453867                            1.0                      1.0   \n",
              "453868                            1.0                      1.0   \n",
              "453869                            1.0                      1.0   \n",
              "453870                            1.0                      1.0   \n",
              "\n",
              "        Sensitivity (Leprosy Female)  Sensitivity (TB Female)  \n",
              "0                                0.0                      0.0  \n",
              "1                                0.0                      0.0  \n",
              "2                                0.0                      0.0  \n",
              "3                                0.0                      0.0  \n",
              "4                                0.0                      0.0  \n",
              "...                              ...                      ...  \n",
              "453866                           1.0                      1.0  \n",
              "453867                           1.0                      1.0  \n",
              "453868                           1.0                      1.0  \n",
              "453869                           1.0                      1.0  \n",
              "453870                           1.0                      1.0  \n",
              "\n",
              "[453871 rows x 8 columns]"
            ]
          },
          "execution_count": 21,
          "metadata": {},
          "output_type": "execute_result"
        }
      ],
      "source": [
        "x_new_all_comb"
      ]
    },
    {
      "cell_type": "code",
      "execution_count": 22,
      "metadata": {
        "colab": {
          "base_uri": "https://localhost:8080/",
          "height": 478
        },
        "id": "1FTDA1LuoYPj",
        "outputId": "f481869c-f783-4ea6-efad-ab50e583980d"
      },
      "outputs": [
        {
          "data": {
            "text/html": [
              "<div>\n",
              "<style scoped>\n",
              "    .dataframe tbody tr th:only-of-type {\n",
              "        vertical-align: middle;\n",
              "    }\n",
              "\n",
              "    .dataframe tbody tr th {\n",
              "        vertical-align: top;\n",
              "    }\n",
              "\n",
              "    .dataframe thead th {\n",
              "        text-align: right;\n",
              "    }\n",
              "</style>\n",
              "<table border=\"1\" class=\"dataframe\">\n",
              "  <thead>\n",
              "    <tr style=\"text-align: right;\">\n",
              "      <th></th>\n",
              "      <th>NFHS_%BirthsDeliveredInAHealthFacility</th>\n",
              "      <th>NFHS_%BirthsDeliveredByCaesareanSection</th>\n",
              "      <th>Identified_Leprosy_Patients_Female_700</th>\n",
              "      <th>Death_TB_Patients_Female_712</th>\n",
              "      <th>Sensitivity (Health Facility)</th>\n",
              "      <th>Sensitivity (Caesarean)</th>\n",
              "      <th>Sensitivity (Leprosy Female)</th>\n",
              "      <th>Sensitivity (TB Female)</th>\n",
              "    </tr>\n",
              "  </thead>\n",
              "  <tbody>\n",
              "    <tr>\n",
              "      <th>0</th>\n",
              "      <td>91.9</td>\n",
              "      <td>14.400000</td>\n",
              "      <td>15.0</td>\n",
              "      <td>9.0</td>\n",
              "      <td>0.0</td>\n",
              "      <td>0.0</td>\n",
              "      <td>0.0</td>\n",
              "      <td>0.0</td>\n",
              "    </tr>\n",
              "    <tr>\n",
              "      <th>1</th>\n",
              "      <td>86.2</td>\n",
              "      <td>22.500000</td>\n",
              "      <td>72.0</td>\n",
              "      <td>26.0</td>\n",
              "      <td>0.0</td>\n",
              "      <td>0.0</td>\n",
              "      <td>0.0</td>\n",
              "      <td>0.0</td>\n",
              "    </tr>\n",
              "    <tr>\n",
              "      <th>2</th>\n",
              "      <td>97.1</td>\n",
              "      <td>16.400000</td>\n",
              "      <td>90.0</td>\n",
              "      <td>96.0</td>\n",
              "      <td>0.0</td>\n",
              "      <td>0.0</td>\n",
              "      <td>0.0</td>\n",
              "      <td>0.0</td>\n",
              "    </tr>\n",
              "    <tr>\n",
              "      <th>3</th>\n",
              "      <td>96.2</td>\n",
              "      <td>27.500000</td>\n",
              "      <td>92.0</td>\n",
              "      <td>91.0</td>\n",
              "      <td>0.0</td>\n",
              "      <td>0.0</td>\n",
              "      <td>0.0</td>\n",
              "      <td>0.0</td>\n",
              "    </tr>\n",
              "    <tr>\n",
              "      <th>4</th>\n",
              "      <td>98.5</td>\n",
              "      <td>30.500000</td>\n",
              "      <td>4.0</td>\n",
              "      <td>20.0</td>\n",
              "      <td>0.0</td>\n",
              "      <td>0.0</td>\n",
              "      <td>0.0</td>\n",
              "      <td>0.0</td>\n",
              "    </tr>\n",
              "    <tr>\n",
              "      <th>...</th>\n",
              "      <td>...</td>\n",
              "      <td>...</td>\n",
              "      <td>...</td>\n",
              "      <td>...</td>\n",
              "      <td>...</td>\n",
              "      <td>...</td>\n",
              "      <td>...</td>\n",
              "      <td>...</td>\n",
              "    </tr>\n",
              "    <tr>\n",
              "      <th>453866</th>\n",
              "      <td>100.0</td>\n",
              "      <td>81.123372</td>\n",
              "      <td>0.0</td>\n",
              "      <td>0.0</td>\n",
              "      <td>1.0</td>\n",
              "      <td>1.0</td>\n",
              "      <td>1.0</td>\n",
              "      <td>1.0</td>\n",
              "    </tr>\n",
              "    <tr>\n",
              "      <th>453867</th>\n",
              "      <td>100.0</td>\n",
              "      <td>51.723372</td>\n",
              "      <td>0.0</td>\n",
              "      <td>0.0</td>\n",
              "      <td>1.0</td>\n",
              "      <td>1.0</td>\n",
              "      <td>1.0</td>\n",
              "      <td>1.0</td>\n",
              "    </tr>\n",
              "    <tr>\n",
              "      <th>453868</th>\n",
              "      <td>100.0</td>\n",
              "      <td>53.323372</td>\n",
              "      <td>0.0</td>\n",
              "      <td>0.0</td>\n",
              "      <td>1.0</td>\n",
              "      <td>1.0</td>\n",
              "      <td>1.0</td>\n",
              "      <td>1.0</td>\n",
              "    </tr>\n",
              "    <tr>\n",
              "      <th>453869</th>\n",
              "      <td>100.0</td>\n",
              "      <td>42.423372</td>\n",
              "      <td>0.0</td>\n",
              "      <td>0.0</td>\n",
              "      <td>1.0</td>\n",
              "      <td>1.0</td>\n",
              "      <td>1.0</td>\n",
              "      <td>1.0</td>\n",
              "    </tr>\n",
              "    <tr>\n",
              "      <th>453870</th>\n",
              "      <td>100.0</td>\n",
              "      <td>56.423372</td>\n",
              "      <td>0.0</td>\n",
              "      <td>0.0</td>\n",
              "      <td>1.0</td>\n",
              "      <td>1.0</td>\n",
              "      <td>1.0</td>\n",
              "      <td>1.0</td>\n",
              "    </tr>\n",
              "  </tbody>\n",
              "</table>\n",
              "<p>453871 rows × 8 columns</p>\n",
              "</div>"
            ],
            "text/plain": [
              "        NFHS_%BirthsDeliveredInAHealthFacility  \\\n",
              "0                                         91.9   \n",
              "1                                         86.2   \n",
              "2                                         97.1   \n",
              "3                                         96.2   \n",
              "4                                         98.5   \n",
              "...                                        ...   \n",
              "453866                                   100.0   \n",
              "453867                                   100.0   \n",
              "453868                                   100.0   \n",
              "453869                                   100.0   \n",
              "453870                                   100.0   \n",
              "\n",
              "        NFHS_%BirthsDeliveredByCaesareanSection  \\\n",
              "0                                     14.400000   \n",
              "1                                     22.500000   \n",
              "2                                     16.400000   \n",
              "3                                     27.500000   \n",
              "4                                     30.500000   \n",
              "...                                         ...   \n",
              "453866                                81.123372   \n",
              "453867                                51.723372   \n",
              "453868                                53.323372   \n",
              "453869                                42.423372   \n",
              "453870                                56.423372   \n",
              "\n",
              "        Identified_Leprosy_Patients_Female_700  Death_TB_Patients_Female_712  \\\n",
              "0                                         15.0                           9.0   \n",
              "1                                         72.0                          26.0   \n",
              "2                                         90.0                          96.0   \n",
              "3                                         92.0                          91.0   \n",
              "4                                          4.0                          20.0   \n",
              "...                                        ...                           ...   \n",
              "453866                                     0.0                           0.0   \n",
              "453867                                     0.0                           0.0   \n",
              "453868                                     0.0                           0.0   \n",
              "453869                                     0.0                           0.0   \n",
              "453870                                     0.0                           0.0   \n",
              "\n",
              "        Sensitivity (Health Facility)  Sensitivity (Caesarean)  \\\n",
              "0                                 0.0                      0.0   \n",
              "1                                 0.0                      0.0   \n",
              "2                                 0.0                      0.0   \n",
              "3                                 0.0                      0.0   \n",
              "4                                 0.0                      0.0   \n",
              "...                               ...                      ...   \n",
              "453866                            1.0                      1.0   \n",
              "453867                            1.0                      1.0   \n",
              "453868                            1.0                      1.0   \n",
              "453869                            1.0                      1.0   \n",
              "453870                            1.0                      1.0   \n",
              "\n",
              "        Sensitivity (Leprosy Female)  Sensitivity (TB Female)  \n",
              "0                                0.0                      0.0  \n",
              "1                                0.0                      0.0  \n",
              "2                                0.0                      0.0  \n",
              "3                                0.0                      0.0  \n",
              "4                                0.0                      0.0  \n",
              "...                              ...                      ...  \n",
              "453866                           1.0                      1.0  \n",
              "453867                           1.0                      1.0  \n",
              "453868                           1.0                      1.0  \n",
              "453869                           1.0                      1.0  \n",
              "453870                           1.0                      1.0  \n",
              "\n",
              "[453871 rows x 8 columns]"
            ]
          },
          "execution_count": 22,
          "metadata": {},
          "output_type": "execute_result"
        }
      ],
      "source": [
        "def clip(col):\n",
        "\n",
        "  if col.name not in ['Identified_Leprosy_Patients_Female_700','Death_TB_Patients_Female_712']:\n",
        "      return np.clip(col,0,100)\n",
        "  else:\n",
        "      return np.maximum(col,0)\n",
        "\n",
        "x_new_all_comb=x_new_all_comb.apply(clip)\n",
        "x_new_all_comb"
      ]
    },
    {
      "cell_type": "code",
      "execution_count": 23,
      "metadata": {
        "colab": {
          "base_uri": "https://localhost:8080/",
          "height": 478
        },
        "id": "fRnSuc5YHBiF",
        "outputId": "0febd8f0-9aac-45a8-fa63-2694ae3b4c9e"
      },
      "outputs": [
        {
          "data": {
            "text/html": [
              "<div>\n",
              "<style scoped>\n",
              "    .dataframe tbody tr th:only-of-type {\n",
              "        vertical-align: middle;\n",
              "    }\n",
              "\n",
              "    .dataframe tbody tr th {\n",
              "        vertical-align: top;\n",
              "    }\n",
              "\n",
              "    .dataframe thead th {\n",
              "        text-align: right;\n",
              "    }\n",
              "</style>\n",
              "<table border=\"1\" class=\"dataframe\">\n",
              "  <thead>\n",
              "    <tr style=\"text-align: right;\">\n",
              "      <th></th>\n",
              "      <th>const</th>\n",
              "      <th>NFHS_%BirthsDeliveredInAHealthFacility</th>\n",
              "      <th>NFHS_%BirthsDeliveredByCaesareanSection</th>\n",
              "      <th>Identified_Leprosy_Patients_Female_700</th>\n",
              "      <th>Death_TB_Patients_Female_712</th>\n",
              "      <th>Sensitivity (Health Facility)</th>\n",
              "      <th>Sensitivity (Caesarean)</th>\n",
              "      <th>Sensitivity (Leprosy Female)</th>\n",
              "      <th>Sensitivity (TB Female)</th>\n",
              "    </tr>\n",
              "  </thead>\n",
              "  <tbody>\n",
              "    <tr>\n",
              "      <th>0</th>\n",
              "      <td>1.0</td>\n",
              "      <td>91.9</td>\n",
              "      <td>14.400000</td>\n",
              "      <td>15.0</td>\n",
              "      <td>9.0</td>\n",
              "      <td>0.0</td>\n",
              "      <td>0.0</td>\n",
              "      <td>0.0</td>\n",
              "      <td>0.0</td>\n",
              "    </tr>\n",
              "    <tr>\n",
              "      <th>1</th>\n",
              "      <td>1.0</td>\n",
              "      <td>86.2</td>\n",
              "      <td>22.500000</td>\n",
              "      <td>72.0</td>\n",
              "      <td>26.0</td>\n",
              "      <td>0.0</td>\n",
              "      <td>0.0</td>\n",
              "      <td>0.0</td>\n",
              "      <td>0.0</td>\n",
              "    </tr>\n",
              "    <tr>\n",
              "      <th>2</th>\n",
              "      <td>1.0</td>\n",
              "      <td>97.1</td>\n",
              "      <td>16.400000</td>\n",
              "      <td>90.0</td>\n",
              "      <td>96.0</td>\n",
              "      <td>0.0</td>\n",
              "      <td>0.0</td>\n",
              "      <td>0.0</td>\n",
              "      <td>0.0</td>\n",
              "    </tr>\n",
              "    <tr>\n",
              "      <th>3</th>\n",
              "      <td>1.0</td>\n",
              "      <td>96.2</td>\n",
              "      <td>27.500000</td>\n",
              "      <td>92.0</td>\n",
              "      <td>91.0</td>\n",
              "      <td>0.0</td>\n",
              "      <td>0.0</td>\n",
              "      <td>0.0</td>\n",
              "      <td>0.0</td>\n",
              "    </tr>\n",
              "    <tr>\n",
              "      <th>4</th>\n",
              "      <td>1.0</td>\n",
              "      <td>98.5</td>\n",
              "      <td>30.500000</td>\n",
              "      <td>4.0</td>\n",
              "      <td>20.0</td>\n",
              "      <td>0.0</td>\n",
              "      <td>0.0</td>\n",
              "      <td>0.0</td>\n",
              "      <td>0.0</td>\n",
              "    </tr>\n",
              "    <tr>\n",
              "      <th>...</th>\n",
              "      <td>...</td>\n",
              "      <td>...</td>\n",
              "      <td>...</td>\n",
              "      <td>...</td>\n",
              "      <td>...</td>\n",
              "      <td>...</td>\n",
              "      <td>...</td>\n",
              "      <td>...</td>\n",
              "      <td>...</td>\n",
              "    </tr>\n",
              "    <tr>\n",
              "      <th>453866</th>\n",
              "      <td>1.0</td>\n",
              "      <td>100.0</td>\n",
              "      <td>81.123372</td>\n",
              "      <td>0.0</td>\n",
              "      <td>0.0</td>\n",
              "      <td>1.0</td>\n",
              "      <td>1.0</td>\n",
              "      <td>1.0</td>\n",
              "      <td>1.0</td>\n",
              "    </tr>\n",
              "    <tr>\n",
              "      <th>453867</th>\n",
              "      <td>1.0</td>\n",
              "      <td>100.0</td>\n",
              "      <td>51.723372</td>\n",
              "      <td>0.0</td>\n",
              "      <td>0.0</td>\n",
              "      <td>1.0</td>\n",
              "      <td>1.0</td>\n",
              "      <td>1.0</td>\n",
              "      <td>1.0</td>\n",
              "    </tr>\n",
              "    <tr>\n",
              "      <th>453868</th>\n",
              "      <td>1.0</td>\n",
              "      <td>100.0</td>\n",
              "      <td>53.323372</td>\n",
              "      <td>0.0</td>\n",
              "      <td>0.0</td>\n",
              "      <td>1.0</td>\n",
              "      <td>1.0</td>\n",
              "      <td>1.0</td>\n",
              "      <td>1.0</td>\n",
              "    </tr>\n",
              "    <tr>\n",
              "      <th>453869</th>\n",
              "      <td>1.0</td>\n",
              "      <td>100.0</td>\n",
              "      <td>42.423372</td>\n",
              "      <td>0.0</td>\n",
              "      <td>0.0</td>\n",
              "      <td>1.0</td>\n",
              "      <td>1.0</td>\n",
              "      <td>1.0</td>\n",
              "      <td>1.0</td>\n",
              "    </tr>\n",
              "    <tr>\n",
              "      <th>453870</th>\n",
              "      <td>1.0</td>\n",
              "      <td>100.0</td>\n",
              "      <td>56.423372</td>\n",
              "      <td>0.0</td>\n",
              "      <td>0.0</td>\n",
              "      <td>1.0</td>\n",
              "      <td>1.0</td>\n",
              "      <td>1.0</td>\n",
              "      <td>1.0</td>\n",
              "    </tr>\n",
              "  </tbody>\n",
              "</table>\n",
              "<p>453871 rows × 9 columns</p>\n",
              "</div>"
            ],
            "text/plain": [
              "        const  NFHS_%BirthsDeliveredInAHealthFacility  \\\n",
              "0         1.0                                    91.9   \n",
              "1         1.0                                    86.2   \n",
              "2         1.0                                    97.1   \n",
              "3         1.0                                    96.2   \n",
              "4         1.0                                    98.5   \n",
              "...       ...                                     ...   \n",
              "453866    1.0                                   100.0   \n",
              "453867    1.0                                   100.0   \n",
              "453868    1.0                                   100.0   \n",
              "453869    1.0                                   100.0   \n",
              "453870    1.0                                   100.0   \n",
              "\n",
              "        NFHS_%BirthsDeliveredByCaesareanSection  \\\n",
              "0                                     14.400000   \n",
              "1                                     22.500000   \n",
              "2                                     16.400000   \n",
              "3                                     27.500000   \n",
              "4                                     30.500000   \n",
              "...                                         ...   \n",
              "453866                                81.123372   \n",
              "453867                                51.723372   \n",
              "453868                                53.323372   \n",
              "453869                                42.423372   \n",
              "453870                                56.423372   \n",
              "\n",
              "        Identified_Leprosy_Patients_Female_700  Death_TB_Patients_Female_712  \\\n",
              "0                                         15.0                           9.0   \n",
              "1                                         72.0                          26.0   \n",
              "2                                         90.0                          96.0   \n",
              "3                                         92.0                          91.0   \n",
              "4                                          4.0                          20.0   \n",
              "...                                        ...                           ...   \n",
              "453866                                     0.0                           0.0   \n",
              "453867                                     0.0                           0.0   \n",
              "453868                                     0.0                           0.0   \n",
              "453869                                     0.0                           0.0   \n",
              "453870                                     0.0                           0.0   \n",
              "\n",
              "        Sensitivity (Health Facility)  Sensitivity (Caesarean)  \\\n",
              "0                                 0.0                      0.0   \n",
              "1                                 0.0                      0.0   \n",
              "2                                 0.0                      0.0   \n",
              "3                                 0.0                      0.0   \n",
              "4                                 0.0                      0.0   \n",
              "...                               ...                      ...   \n",
              "453866                            1.0                      1.0   \n",
              "453867                            1.0                      1.0   \n",
              "453868                            1.0                      1.0   \n",
              "453869                            1.0                      1.0   \n",
              "453870                            1.0                      1.0   \n",
              "\n",
              "        Sensitivity (Leprosy Female)  Sensitivity (TB Female)  \n",
              "0                                0.0                      0.0  \n",
              "1                                0.0                      0.0  \n",
              "2                                0.0                      0.0  \n",
              "3                                0.0                      0.0  \n",
              "4                                0.0                      0.0  \n",
              "...                              ...                      ...  \n",
              "453866                           1.0                      1.0  \n",
              "453867                           1.0                      1.0  \n",
              "453868                           1.0                      1.0  \n",
              "453869                           1.0                      1.0  \n",
              "453870                           1.0                      1.0  \n",
              "\n",
              "[453871 rows x 9 columns]"
            ]
          },
          "execution_count": 23,
          "metadata": {},
          "output_type": "execute_result"
        }
      ],
      "source": [
        "x_new_all_comb=sm.add_constant(x_new_all_comb)\n",
        "x_new_all_comb"
      ]
    },
    {
      "cell_type": "code",
      "execution_count": 24,
      "metadata": {
        "colab": {
          "base_uri": "https://localhost:8080/"
        },
        "id": "oNdA_418mD67",
        "outputId": "32f0e579-86fb-4358-b8f8-68e76cf8bda7"
      },
      "outputs": [
        {
          "data": {
            "text/plain": [
              "0         19.503934\n",
              "1         24.974801\n",
              "2         40.244886\n",
              "3         34.932223\n",
              "4         12.760140\n",
              "            ...    \n",
              "453866   -12.892653\n",
              "453867    -0.395987\n",
              "453868    -1.076078\n",
              "453869     3.557040\n",
              "453870    -2.393753\n",
              "Length: 453871, dtype: float64"
            ]
          },
          "execution_count": 24,
          "metadata": {},
          "output_type": "execute_result"
        }
      ],
      "source": [
        "y_new_all_comb=sm.add_constant(x_new_all_comb.iloc[:,:5]).dot(model.params.values)\n",
        "y_new_all_comb"
      ]
    },
    {
      "cell_type": "code",
      "execution_count": 25,
      "metadata": {
        "colab": {
          "base_uri": "https://localhost:8080/"
        },
        "id": "__7OW6Ep5fNF",
        "outputId": "79d36221-4875-417d-bf4b-2555f69ce374"
      },
      "outputs": [
        {
          "data": {
            "text/plain": [
              "0         19.503934\n",
              "1         24.974801\n",
              "2         40.244886\n",
              "3         34.932223\n",
              "4         12.760140\n",
              "            ...    \n",
              "453866     0.000000\n",
              "453867     0.000000\n",
              "453868     0.000000\n",
              "453869     3.557040\n",
              "453870     0.000000\n",
              "Length: 453871, dtype: float64"
            ]
          },
          "execution_count": 25,
          "metadata": {},
          "output_type": "execute_result"
        }
      ],
      "source": [
        "y_new_all_comb=np.maximum(y_new_all_comb,0)\n",
        "y_new_all_comb"
      ]
    },
    {
      "cell_type": "code",
      "execution_count": 26,
      "metadata": {},
      "outputs": [],
      "source": [
        "def init_graph(G,node_adj_frame):\n",
        "    G.add_nodes_from([i for i in range(len(node_adj_frame))])\n",
        "    labels = {}\n",
        "    labels = node_adj_frame.columns\n",
        "    for i in range(len(node_adj_frame)):\n",
        "        snode = node_adj_frame[labels[0]][i]-1\n",
        "        temp = node_adj_frame[labels[2]][i]\n",
        "        if ',' in str(temp):\n",
        "            sedge_arr = temp.split(',')\n",
        "            for j in range(0, len(sedge_arr)):\n",
        "                k = int(sedge_arr[j])\n",
        "                G.add_edge(snode, k-1)\n",
        "        elif np.isnan(temp):\n",
        "            print(\"ERROR: Not found in the adjacency excel sheet\")\n",
        "        else:\n",
        "            G.add_edge(snode, int(temp)-1)\n",
        "    return\n",
        "\n",
        "def init_graph_attr(G, AdjFile, values):\n",
        "    node_adj_frame = pd.read_excel(AdjFile)\n",
        "    node_list = node_adj_frame[\"District_Name\"].tolist()\n",
        "    node_list.insert(80, \"\")\n",
        "    nodeAttr = {}\n",
        "    init_graph(G, node_adj_frame)\n",
        "    \n",
        "    values = values.fillna(0)\n",
        "    capability_vector = list(zip(*[values]))\n",
        "    \n",
        "    node_attri_dict = dict(zip(node_list[:31], capability_vector))\n",
        "    node_attri_dict = dict((k, v) for k, v in node_attri_dict.items())\n",
        "\n",
        "    for i in range(len(node_adj_frame)):\n",
        "        temp = {}\n",
        "        temp[\"capabilityvector\"] = node_attri_dict[node_list[i]]\n",
        "        temp[\"nodeStress\"] = 0\n",
        "        temp[\"name\"] = node_list[i]\n",
        "        nodeAttr[i] = temp\n",
        "\n",
        "    nx.set_node_attributes(G, nodeAttr)\n",
        "\n",
        "def addList(l1,l2):\n",
        "    for i in range(len(l1)):\n",
        "        l1[i] = l1[i] + l2[i]\n",
        "    return l1\n",
        "def divList(l1,k):\n",
        "    for i in range(len(l1)):\n",
        "        l1[i] = l1[i]/k\n",
        "    return l1\n",
        "\n",
        "def l2_normalization(l1,l2):\n",
        "    k = 0\n",
        "    for i in range(len(l1)):\n",
        "        k+= (l1[i] - l2[i])**2\n",
        "    return math.sqrt(k)\n",
        "\n",
        "def get_node_stability(G,dim):\n",
        "    taluka_stress_dict = {}\n",
        "    for n in G.nodes():\n",
        "        centroid = [0]*dim\n",
        "        neighList = list(G.neighbors(n))\n",
        "        for nei in neighList:\n",
        "            try:\n",
        "                centroid = addList(centroid,list(G.nodes[nei][\"capabilityvector\"]))\n",
        "            except(KeyError):\n",
        "                pass\n",
        "        try:\n",
        "            G.nodes[n][\"nodeStress\"] = 1 - l2_normalization(divList(centroid,len(neighList)),list(G.nodes[n][\"capabilityvector\"]))\n",
        "        except(KeyError):\n",
        "            pass\n",
        "        try:\n",
        "            taluka_stress_dict[G.nodes[n][\"name\"]]=G.nodes[n][\"nodeStress\"]\n",
        "        except(KeyError):\n",
        "            pass\n",
        "    return taluka_stress_dict"
      ]
    },
    {
      "cell_type": "code",
      "execution_count": 27,
      "metadata": {
        "id": "GbR8KHOYIYjd"
      },
      "outputs": [],
      "source": [
        "x_new_all_comb['Maternal Deaths']=y_new_all_comb"
      ]
    },
    {
      "cell_type": "code",
      "execution_count": 28,
      "metadata": {
        "colab": {
          "base_uri": "https://localhost:8080/",
          "height": 478
        },
        "id": "nxGEnDY6IjDX",
        "outputId": "187ae66c-40c1-4f6b-957b-1a71ebfcda83"
      },
      "outputs": [
        {
          "data": {
            "text/html": [
              "<div>\n",
              "<style scoped>\n",
              "    .dataframe tbody tr th:only-of-type {\n",
              "        vertical-align: middle;\n",
              "    }\n",
              "\n",
              "    .dataframe tbody tr th {\n",
              "        vertical-align: top;\n",
              "    }\n",
              "\n",
              "    .dataframe thead th {\n",
              "        text-align: right;\n",
              "    }\n",
              "</style>\n",
              "<table border=\"1\" class=\"dataframe\">\n",
              "  <thead>\n",
              "    <tr style=\"text-align: right;\">\n",
              "      <th></th>\n",
              "      <th>NFHS_%BirthsDeliveredInAHealthFacility</th>\n",
              "      <th>NFHS_%BirthsDeliveredByCaesareanSection</th>\n",
              "      <th>Identified_Leprosy_Patients_Female_700</th>\n",
              "      <th>Death_TB_Patients_Female_712</th>\n",
              "      <th>Sensitivity (Health Facility)</th>\n",
              "      <th>Sensitivity (Caesarean)</th>\n",
              "      <th>Sensitivity (Leprosy Female)</th>\n",
              "      <th>Sensitivity (TB Female)</th>\n",
              "      <th>Maternal Deaths</th>\n",
              "    </tr>\n",
              "  </thead>\n",
              "  <tbody>\n",
              "    <tr>\n",
              "      <th>0</th>\n",
              "      <td>91.9</td>\n",
              "      <td>14.400000</td>\n",
              "      <td>15.0</td>\n",
              "      <td>9.0</td>\n",
              "      <td>0.0</td>\n",
              "      <td>0.0</td>\n",
              "      <td>0.0</td>\n",
              "      <td>0.0</td>\n",
              "      <td>19.503934</td>\n",
              "    </tr>\n",
              "    <tr>\n",
              "      <th>1</th>\n",
              "      <td>86.2</td>\n",
              "      <td>22.500000</td>\n",
              "      <td>72.0</td>\n",
              "      <td>26.0</td>\n",
              "      <td>0.0</td>\n",
              "      <td>0.0</td>\n",
              "      <td>0.0</td>\n",
              "      <td>0.0</td>\n",
              "      <td>24.974801</td>\n",
              "    </tr>\n",
              "    <tr>\n",
              "      <th>2</th>\n",
              "      <td>97.1</td>\n",
              "      <td>16.400000</td>\n",
              "      <td>90.0</td>\n",
              "      <td>96.0</td>\n",
              "      <td>0.0</td>\n",
              "      <td>0.0</td>\n",
              "      <td>0.0</td>\n",
              "      <td>0.0</td>\n",
              "      <td>40.244886</td>\n",
              "    </tr>\n",
              "    <tr>\n",
              "      <th>3</th>\n",
              "      <td>96.2</td>\n",
              "      <td>27.500000</td>\n",
              "      <td>92.0</td>\n",
              "      <td>91.0</td>\n",
              "      <td>0.0</td>\n",
              "      <td>0.0</td>\n",
              "      <td>0.0</td>\n",
              "      <td>0.0</td>\n",
              "      <td>34.932223</td>\n",
              "    </tr>\n",
              "    <tr>\n",
              "      <th>4</th>\n",
              "      <td>98.5</td>\n",
              "      <td>30.500000</td>\n",
              "      <td>4.0</td>\n",
              "      <td>20.0</td>\n",
              "      <td>0.0</td>\n",
              "      <td>0.0</td>\n",
              "      <td>0.0</td>\n",
              "      <td>0.0</td>\n",
              "      <td>12.760140</td>\n",
              "    </tr>\n",
              "    <tr>\n",
              "      <th>...</th>\n",
              "      <td>...</td>\n",
              "      <td>...</td>\n",
              "      <td>...</td>\n",
              "      <td>...</td>\n",
              "      <td>...</td>\n",
              "      <td>...</td>\n",
              "      <td>...</td>\n",
              "      <td>...</td>\n",
              "      <td>...</td>\n",
              "    </tr>\n",
              "    <tr>\n",
              "      <th>453866</th>\n",
              "      <td>100.0</td>\n",
              "      <td>81.123372</td>\n",
              "      <td>0.0</td>\n",
              "      <td>0.0</td>\n",
              "      <td>1.0</td>\n",
              "      <td>1.0</td>\n",
              "      <td>1.0</td>\n",
              "      <td>1.0</td>\n",
              "      <td>0.000000</td>\n",
              "    </tr>\n",
              "    <tr>\n",
              "      <th>453867</th>\n",
              "      <td>100.0</td>\n",
              "      <td>51.723372</td>\n",
              "      <td>0.0</td>\n",
              "      <td>0.0</td>\n",
              "      <td>1.0</td>\n",
              "      <td>1.0</td>\n",
              "      <td>1.0</td>\n",
              "      <td>1.0</td>\n",
              "      <td>0.000000</td>\n",
              "    </tr>\n",
              "    <tr>\n",
              "      <th>453868</th>\n",
              "      <td>100.0</td>\n",
              "      <td>53.323372</td>\n",
              "      <td>0.0</td>\n",
              "      <td>0.0</td>\n",
              "      <td>1.0</td>\n",
              "      <td>1.0</td>\n",
              "      <td>1.0</td>\n",
              "      <td>1.0</td>\n",
              "      <td>0.000000</td>\n",
              "    </tr>\n",
              "    <tr>\n",
              "      <th>453869</th>\n",
              "      <td>100.0</td>\n",
              "      <td>42.423372</td>\n",
              "      <td>0.0</td>\n",
              "      <td>0.0</td>\n",
              "      <td>1.0</td>\n",
              "      <td>1.0</td>\n",
              "      <td>1.0</td>\n",
              "      <td>1.0</td>\n",
              "      <td>3.557040</td>\n",
              "    </tr>\n",
              "    <tr>\n",
              "      <th>453870</th>\n",
              "      <td>100.0</td>\n",
              "      <td>56.423372</td>\n",
              "      <td>0.0</td>\n",
              "      <td>0.0</td>\n",
              "      <td>1.0</td>\n",
              "      <td>1.0</td>\n",
              "      <td>1.0</td>\n",
              "      <td>1.0</td>\n",
              "      <td>0.000000</td>\n",
              "    </tr>\n",
              "  </tbody>\n",
              "</table>\n",
              "<p>453871 rows × 9 columns</p>\n",
              "</div>"
            ],
            "text/plain": [
              "        NFHS_%BirthsDeliveredInAHealthFacility  \\\n",
              "0                                         91.9   \n",
              "1                                         86.2   \n",
              "2                                         97.1   \n",
              "3                                         96.2   \n",
              "4                                         98.5   \n",
              "...                                        ...   \n",
              "453866                                   100.0   \n",
              "453867                                   100.0   \n",
              "453868                                   100.0   \n",
              "453869                                   100.0   \n",
              "453870                                   100.0   \n",
              "\n",
              "        NFHS_%BirthsDeliveredByCaesareanSection  \\\n",
              "0                                     14.400000   \n",
              "1                                     22.500000   \n",
              "2                                     16.400000   \n",
              "3                                     27.500000   \n",
              "4                                     30.500000   \n",
              "...                                         ...   \n",
              "453866                                81.123372   \n",
              "453867                                51.723372   \n",
              "453868                                53.323372   \n",
              "453869                                42.423372   \n",
              "453870                                56.423372   \n",
              "\n",
              "        Identified_Leprosy_Patients_Female_700  Death_TB_Patients_Female_712  \\\n",
              "0                                         15.0                           9.0   \n",
              "1                                         72.0                          26.0   \n",
              "2                                         90.0                          96.0   \n",
              "3                                         92.0                          91.0   \n",
              "4                                          4.0                          20.0   \n",
              "...                                        ...                           ...   \n",
              "453866                                     0.0                           0.0   \n",
              "453867                                     0.0                           0.0   \n",
              "453868                                     0.0                           0.0   \n",
              "453869                                     0.0                           0.0   \n",
              "453870                                     0.0                           0.0   \n",
              "\n",
              "        Sensitivity (Health Facility)  Sensitivity (Caesarean)  \\\n",
              "0                                 0.0                      0.0   \n",
              "1                                 0.0                      0.0   \n",
              "2                                 0.0                      0.0   \n",
              "3                                 0.0                      0.0   \n",
              "4                                 0.0                      0.0   \n",
              "...                               ...                      ...   \n",
              "453866                            1.0                      1.0   \n",
              "453867                            1.0                      1.0   \n",
              "453868                            1.0                      1.0   \n",
              "453869                            1.0                      1.0   \n",
              "453870                            1.0                      1.0   \n",
              "\n",
              "        Sensitivity (Leprosy Female)  Sensitivity (TB Female)  Maternal Deaths  \n",
              "0                                0.0                      0.0        19.503934  \n",
              "1                                0.0                      0.0        24.974801  \n",
              "2                                0.0                      0.0        40.244886  \n",
              "3                                0.0                      0.0        34.932223  \n",
              "4                                0.0                      0.0        12.760140  \n",
              "...                              ...                      ...              ...  \n",
              "453866                           1.0                      1.0         0.000000  \n",
              "453867                           1.0                      1.0         0.000000  \n",
              "453868                           1.0                      1.0         0.000000  \n",
              "453869                           1.0                      1.0         3.557040  \n",
              "453870                           1.0                      1.0         0.000000  \n",
              "\n",
              "[453871 rows x 9 columns]"
            ]
          },
          "execution_count": 28,
          "metadata": {},
          "output_type": "execute_result"
        }
      ],
      "source": [
        "x_new_all_comb.drop(\"const\",axis=1,inplace=True)\n",
        "x_new_all_comb"
      ]
    },
    {
      "cell_type": "code",
      "execution_count": 29,
      "metadata": {},
      "outputs": [
        {
          "data": {
            "text/plain": [
              "6.755508720066722"
            ]
          },
          "execution_count": 29,
          "metadata": {},
          "output_type": "execute_result"
        }
      ],
      "source": [
        "x_new_all_comb['Maternal Deaths'].mean()"
      ]
    },
    {
      "cell_type": "code",
      "execution_count": 30,
      "metadata": {},
      "outputs": [],
      "source": [
        "dim = 1\n",
        "G = nx.Graph()\n",
        "adjacency_file = \"Karnataka_District_Adjacency_File - Copy.xlsx\"\n",
        "\n",
        "column = df[\"MaternalMortalityDeath_721\"]\n",
        "column_values = column.values.reshape(-1, 1)\n",
        "scaler = MinMaxScaler()\n",
        "normalized_column_values = scaler.fit_transform(column_values)\n",
        "\n",
        "column_to_pass = pd.Series(normalized_column_values.flatten(), name=\"MaternalMortalityDeath_721\")\n",
        "init_graph_attr(G,adjacency_file , column_to_pass )\n",
        "\n",
        "initialstability= get_node_stability(G,dim)\n",
        "df[\"Initial Stability\"] = df[\"District\"].map(initialstability)"
      ]
    },
    {
      "cell_type": "code",
      "execution_count": 31,
      "metadata": {},
      "outputs": [
        {
          "data": {
            "text/html": [
              "<div>\n",
              "<style scoped>\n",
              "    .dataframe tbody tr th:only-of-type {\n",
              "        vertical-align: middle;\n",
              "    }\n",
              "\n",
              "    .dataframe tbody tr th {\n",
              "        vertical-align: top;\n",
              "    }\n",
              "\n",
              "    .dataframe thead th {\n",
              "        text-align: right;\n",
              "    }\n",
              "</style>\n",
              "<table border=\"1\" class=\"dataframe\">\n",
              "  <thead>\n",
              "    <tr style=\"text-align: right;\">\n",
              "      <th></th>\n",
              "      <th>District</th>\n",
              "      <th>KGISDist 1</th>\n",
              "      <th>NFHS_%BirthsDeliveredInAHealthFacility</th>\n",
              "      <th>NFHS_%BirthsDeliveredByCaesareanSection</th>\n",
              "      <th>Identified_Leprosy_Patients_Female_700</th>\n",
              "      <th>Death_TB_Patients_Female_712</th>\n",
              "      <th>MaternalMortalityDeath_721</th>\n",
              "      <th>Initial Stability</th>\n",
              "    </tr>\n",
              "  </thead>\n",
              "  <tbody>\n",
              "    <tr>\n",
              "      <th>0</th>\n",
              "      <td>BAGALKOT</td>\n",
              "      <td>Bagalkot</td>\n",
              "      <td>91.9</td>\n",
              "      <td>14.4</td>\n",
              "      <td>15</td>\n",
              "      <td>9</td>\n",
              "      <td>19</td>\n",
              "      <td>0.969231</td>\n",
              "    </tr>\n",
              "    <tr>\n",
              "      <th>1</th>\n",
              "      <td>BALLARI</td>\n",
              "      <td>Ballari</td>\n",
              "      <td>86.2</td>\n",
              "      <td>22.5</td>\n",
              "      <td>72</td>\n",
              "      <td>26</td>\n",
              "      <td>17</td>\n",
              "      <td>0.914286</td>\n",
              "    </tr>\n",
              "    <tr>\n",
              "      <th>2</th>\n",
              "      <td>BELAGAVI</td>\n",
              "      <td>Belagavi</td>\n",
              "      <td>97.1</td>\n",
              "      <td>16.4</td>\n",
              "      <td>90</td>\n",
              "      <td>96</td>\n",
              "      <td>52</td>\n",
              "      <td>0.883077</td>\n",
              "    </tr>\n",
              "    <tr>\n",
              "      <th>3</th>\n",
              "      <td>BENGALURU</td>\n",
              "      <td>Bengaluru (Urban)</td>\n",
              "      <td>96.2</td>\n",
              "      <td>27.5</td>\n",
              "      <td>92</td>\n",
              "      <td>91</td>\n",
              "      <td>19</td>\n",
              "      <td>0.851282</td>\n",
              "    </tr>\n",
              "    <tr>\n",
              "      <th>4</th>\n",
              "      <td>BENGALURU(R)</td>\n",
              "      <td>Bengaluru (Rural)</td>\n",
              "      <td>98.5</td>\n",
              "      <td>30.5</td>\n",
              "      <td>4</td>\n",
              "      <td>20</td>\n",
              "      <td>8</td>\n",
              "      <td>0.956923</td>\n",
              "    </tr>\n",
              "  </tbody>\n",
              "</table>\n",
              "</div>"
            ],
            "text/plain": [
              "       District         KGISDist 1  NFHS_%BirthsDeliveredInAHealthFacility  \\\n",
              "0      BAGALKOT           Bagalkot                                    91.9   \n",
              "1       BALLARI            Ballari                                    86.2   \n",
              "2      BELAGAVI           Belagavi                                    97.1   \n",
              "3     BENGALURU  Bengaluru (Urban)                                    96.2   \n",
              "4  BENGALURU(R)  Bengaluru (Rural)                                    98.5   \n",
              "\n",
              "   NFHS_%BirthsDeliveredByCaesareanSection  \\\n",
              "0                                     14.4   \n",
              "1                                     22.5   \n",
              "2                                     16.4   \n",
              "3                                     27.5   \n",
              "4                                     30.5   \n",
              "\n",
              "   Identified_Leprosy_Patients_Female_700  Death_TB_Patients_Female_712  \\\n",
              "0                                      15                             9   \n",
              "1                                      72                            26   \n",
              "2                                      90                            96   \n",
              "3                                      92                            91   \n",
              "4                                       4                            20   \n",
              "\n",
              "   MaternalMortalityDeath_721  Initial Stability  \n",
              "0                          19           0.969231  \n",
              "1                          17           0.914286  \n",
              "2                          52           0.883077  \n",
              "3                          19           0.851282  \n",
              "4                           8           0.956923  "
            ]
          },
          "execution_count": 31,
          "metadata": {},
          "output_type": "execute_result"
        }
      ],
      "source": [
        "df.head()"
      ]
    },
    {
      "cell_type": "code",
      "execution_count": 32,
      "metadata": {},
      "outputs": [],
      "source": [
        "df.to_excel(\"mmdCaseFile_1.xlsx\",index=False)"
      ]
    },
    {
      "cell_type": "code",
      "execution_count": 33,
      "metadata": {},
      "outputs": [],
      "source": [
        "def calculate_and_map_stability(G, df, adjacency_file, column_values, dim):\n",
        "    G = nx.Graph()\n",
        "    scaler = MinMaxScaler()\n",
        "    \n",
        "    normalized_column_values = scaler.fit_transform(column_values.reshape(-1, 1))\n",
        "    column_to_pass = pd.Series(normalized_column_values.flatten(), name=\"Column\")\n",
        "\n",
        "    init_graph_attr(G, adjacency_file, column_to_pass)\n",
        "    taluka_stress_dict = get_node_stability(G, dim)\n",
        "\n",
        "    stability_column_name = \"New Stability\"\n",
        "    stability_column = df[\"District\"].map(taluka_stress_dict)\n",
        "\n",
        "    return stability_column, stability_column_name\n",
        "\n",
        "Cap_Vector = \"Maternal Deaths\"\n",
        "\n",
        "column_values = x_new_all_comb[Cap_Vector].iloc[0:31].values  # Replace with your actual data\n",
        "result_column, result_column_name = calculate_and_map_stability(G, df, adjacency_file, column_values, dim)\n",
        "\n",
        "df[result_column_name] = result_column"
      ]
    },
    {
      "cell_type": "code",
      "execution_count": 34,
      "metadata": {},
      "outputs": [],
      "source": [
        "def calculate_and_map_stability(G, df, adjacency_file, column_values, dim):\n",
        "    G = nx.Graph()\n",
        "\n",
        "    scaler = MinMaxScaler()\n",
        "    normalized_column_values = scaler.fit_transform(column_values.reshape(-1, 1))\n",
        "\n",
        "    column_to_pass = pd.Series(normalized_column_values.flatten(), name=\"Column\")\n",
        "\n",
        "    init_graph_attr(G, adjacency_file, column_to_pass)\n",
        "\n",
        "    taluka_stress_dict = get_node_stability(G, dim)\n",
        "    stability_column = df[\"District\"].map(taluka_stress_dict)\n",
        "\n",
        "    return stability_column\n",
        "\n",
        "x_new_all_comb[\"New Stability\"] = np.nan\n",
        "Cap_Vector = \"Maternal Deaths\"\n",
        "\n",
        "chunk_size = 31\n",
        "for i in range(0, len(x_new_all_comb), chunk_size):\n",
        "\n",
        "    chunk_values = x_new_all_comb[Cap_Vector].iloc[i:i + chunk_size].values\n",
        "\n",
        "    result_column = calculate_and_map_stability(G, df, adjacency_file, chunk_values, dim)\n",
        "    \n",
        "    x_new_all_comb[\"New Stability\"].iloc[i:i + chunk_size] = result_column\n",
        "\n",
        "x_new_all_comb[\"New Stability\"] = pd.to_numeric(x_new_all_comb[\"New Stability\"])"
      ]
    },
    {
      "cell_type": "code",
      "execution_count": 35,
      "metadata": {},
      "outputs": [
        {
          "data": {
            "text/html": [
              "<div>\n",
              "<style scoped>\n",
              "    .dataframe tbody tr th:only-of-type {\n",
              "        vertical-align: middle;\n",
              "    }\n",
              "\n",
              "    .dataframe tbody tr th {\n",
              "        vertical-align: top;\n",
              "    }\n",
              "\n",
              "    .dataframe thead th {\n",
              "        text-align: right;\n",
              "    }\n",
              "</style>\n",
              "<table border=\"1\" class=\"dataframe\">\n",
              "  <thead>\n",
              "    <tr style=\"text-align: right;\">\n",
              "      <th></th>\n",
              "      <th>NFHS_%BirthsDeliveredInAHealthFacility</th>\n",
              "      <th>NFHS_%BirthsDeliveredByCaesareanSection</th>\n",
              "      <th>Identified_Leprosy_Patients_Female_700</th>\n",
              "      <th>Death_TB_Patients_Female_712</th>\n",
              "      <th>Sensitivity (Health Facility)</th>\n",
              "      <th>Sensitivity (Caesarean)</th>\n",
              "      <th>Sensitivity (Leprosy Female)</th>\n",
              "      <th>Sensitivity (TB Female)</th>\n",
              "      <th>Maternal Deaths</th>\n",
              "      <th>New Stability</th>\n",
              "    </tr>\n",
              "  </thead>\n",
              "  <tbody>\n",
              "    <tr>\n",
              "      <th>0</th>\n",
              "      <td>91.9</td>\n",
              "      <td>14.400000</td>\n",
              "      <td>15.0</td>\n",
              "      <td>9.0</td>\n",
              "      <td>0.0</td>\n",
              "      <td>0.0</td>\n",
              "      <td>0.0</td>\n",
              "      <td>0.0</td>\n",
              "      <td>19.503934</td>\n",
              "      <td>0.783901</td>\n",
              "    </tr>\n",
              "    <tr>\n",
              "      <th>1</th>\n",
              "      <td>86.2</td>\n",
              "      <td>22.500000</td>\n",
              "      <td>72.0</td>\n",
              "      <td>26.0</td>\n",
              "      <td>0.0</td>\n",
              "      <td>0.0</td>\n",
              "      <td>0.0</td>\n",
              "      <td>0.0</td>\n",
              "      <td>24.974801</td>\n",
              "      <td>0.636298</td>\n",
              "    </tr>\n",
              "    <tr>\n",
              "      <th>2</th>\n",
              "      <td>97.1</td>\n",
              "      <td>16.400000</td>\n",
              "      <td>90.0</td>\n",
              "      <td>96.0</td>\n",
              "      <td>0.0</td>\n",
              "      <td>0.0</td>\n",
              "      <td>0.0</td>\n",
              "      <td>0.0</td>\n",
              "      <td>40.244886</td>\n",
              "      <td>0.893940</td>\n",
              "    </tr>\n",
              "    <tr>\n",
              "      <th>3</th>\n",
              "      <td>96.2</td>\n",
              "      <td>27.500000</td>\n",
              "      <td>92.0</td>\n",
              "      <td>91.0</td>\n",
              "      <td>0.0</td>\n",
              "      <td>0.0</td>\n",
              "      <td>0.0</td>\n",
              "      <td>0.0</td>\n",
              "      <td>34.932223</td>\n",
              "      <td>0.712639</td>\n",
              "    </tr>\n",
              "    <tr>\n",
              "      <th>4</th>\n",
              "      <td>98.5</td>\n",
              "      <td>30.500000</td>\n",
              "      <td>4.0</td>\n",
              "      <td>20.0</td>\n",
              "      <td>0.0</td>\n",
              "      <td>0.0</td>\n",
              "      <td>0.0</td>\n",
              "      <td>0.0</td>\n",
              "      <td>12.760140</td>\n",
              "      <td>0.916513</td>\n",
              "    </tr>\n",
              "    <tr>\n",
              "      <th>...</th>\n",
              "      <td>...</td>\n",
              "      <td>...</td>\n",
              "      <td>...</td>\n",
              "      <td>...</td>\n",
              "      <td>...</td>\n",
              "      <td>...</td>\n",
              "      <td>...</td>\n",
              "      <td>...</td>\n",
              "      <td>...</td>\n",
              "      <td>...</td>\n",
              "    </tr>\n",
              "    <tr>\n",
              "      <th>453866</th>\n",
              "      <td>100.0</td>\n",
              "      <td>81.123372</td>\n",
              "      <td>0.0</td>\n",
              "      <td>0.0</td>\n",
              "      <td>1.0</td>\n",
              "      <td>1.0</td>\n",
              "      <td>1.0</td>\n",
              "      <td>1.0</td>\n",
              "      <td>0.000000</td>\n",
              "      <td>1.000000</td>\n",
              "    </tr>\n",
              "    <tr>\n",
              "      <th>453867</th>\n",
              "      <td>100.0</td>\n",
              "      <td>51.723372</td>\n",
              "      <td>0.0</td>\n",
              "      <td>0.0</td>\n",
              "      <td>1.0</td>\n",
              "      <td>1.0</td>\n",
              "      <td>1.0</td>\n",
              "      <td>1.0</td>\n",
              "      <td>0.000000</td>\n",
              "      <td>0.875575</td>\n",
              "    </tr>\n",
              "    <tr>\n",
              "      <th>453868</th>\n",
              "      <td>100.0</td>\n",
              "      <td>53.323372</td>\n",
              "      <td>0.0</td>\n",
              "      <td>0.0</td>\n",
              "      <td>1.0</td>\n",
              "      <td>1.0</td>\n",
              "      <td>1.0</td>\n",
              "      <td>1.0</td>\n",
              "      <td>0.000000</td>\n",
              "      <td>0.837788</td>\n",
              "    </tr>\n",
              "    <tr>\n",
              "      <th>453869</th>\n",
              "      <td>100.0</td>\n",
              "      <td>42.423372</td>\n",
              "      <td>0.0</td>\n",
              "      <td>0.0</td>\n",
              "      <td>1.0</td>\n",
              "      <td>1.0</td>\n",
              "      <td>1.0</td>\n",
              "      <td>1.0</td>\n",
              "      <td>3.557040</td>\n",
              "      <td>1.000000</td>\n",
              "    </tr>\n",
              "    <tr>\n",
              "      <th>453870</th>\n",
              "      <td>100.0</td>\n",
              "      <td>56.423372</td>\n",
              "      <td>0.0</td>\n",
              "      <td>0.0</td>\n",
              "      <td>1.0</td>\n",
              "      <td>1.0</td>\n",
              "      <td>1.0</td>\n",
              "      <td>1.0</td>\n",
              "      <td>0.000000</td>\n",
              "      <td>0.731614</td>\n",
              "    </tr>\n",
              "  </tbody>\n",
              "</table>\n",
              "<p>453871 rows × 10 columns</p>\n",
              "</div>"
            ],
            "text/plain": [
              "        NFHS_%BirthsDeliveredInAHealthFacility  \\\n",
              "0                                         91.9   \n",
              "1                                         86.2   \n",
              "2                                         97.1   \n",
              "3                                         96.2   \n",
              "4                                         98.5   \n",
              "...                                        ...   \n",
              "453866                                   100.0   \n",
              "453867                                   100.0   \n",
              "453868                                   100.0   \n",
              "453869                                   100.0   \n",
              "453870                                   100.0   \n",
              "\n",
              "        NFHS_%BirthsDeliveredByCaesareanSection  \\\n",
              "0                                     14.400000   \n",
              "1                                     22.500000   \n",
              "2                                     16.400000   \n",
              "3                                     27.500000   \n",
              "4                                     30.500000   \n",
              "...                                         ...   \n",
              "453866                                81.123372   \n",
              "453867                                51.723372   \n",
              "453868                                53.323372   \n",
              "453869                                42.423372   \n",
              "453870                                56.423372   \n",
              "\n",
              "        Identified_Leprosy_Patients_Female_700  Death_TB_Patients_Female_712  \\\n",
              "0                                         15.0                           9.0   \n",
              "1                                         72.0                          26.0   \n",
              "2                                         90.0                          96.0   \n",
              "3                                         92.0                          91.0   \n",
              "4                                          4.0                          20.0   \n",
              "...                                        ...                           ...   \n",
              "453866                                     0.0                           0.0   \n",
              "453867                                     0.0                           0.0   \n",
              "453868                                     0.0                           0.0   \n",
              "453869                                     0.0                           0.0   \n",
              "453870                                     0.0                           0.0   \n",
              "\n",
              "        Sensitivity (Health Facility)  Sensitivity (Caesarean)  \\\n",
              "0                                 0.0                      0.0   \n",
              "1                                 0.0                      0.0   \n",
              "2                                 0.0                      0.0   \n",
              "3                                 0.0                      0.0   \n",
              "4                                 0.0                      0.0   \n",
              "...                               ...                      ...   \n",
              "453866                            1.0                      1.0   \n",
              "453867                            1.0                      1.0   \n",
              "453868                            1.0                      1.0   \n",
              "453869                            1.0                      1.0   \n",
              "453870                            1.0                      1.0   \n",
              "\n",
              "        Sensitivity (Leprosy Female)  Sensitivity (TB Female)  \\\n",
              "0                                0.0                      0.0   \n",
              "1                                0.0                      0.0   \n",
              "2                                0.0                      0.0   \n",
              "3                                0.0                      0.0   \n",
              "4                                0.0                      0.0   \n",
              "...                              ...                      ...   \n",
              "453866                           1.0                      1.0   \n",
              "453867                           1.0                      1.0   \n",
              "453868                           1.0                      1.0   \n",
              "453869                           1.0                      1.0   \n",
              "453870                           1.0                      1.0   \n",
              "\n",
              "        Maternal Deaths  New Stability  \n",
              "0             19.503934       0.783901  \n",
              "1             24.974801       0.636298  \n",
              "2             40.244886       0.893940  \n",
              "3             34.932223       0.712639  \n",
              "4             12.760140       0.916513  \n",
              "...                 ...            ...  \n",
              "453866         0.000000       1.000000  \n",
              "453867         0.000000       0.875575  \n",
              "453868         0.000000       0.837788  \n",
              "453869         3.557040       1.000000  \n",
              "453870         0.000000       0.731614  \n",
              "\n",
              "[453871 rows x 10 columns]"
            ]
          },
          "execution_count": 35,
          "metadata": {},
          "output_type": "execute_result"
        }
      ],
      "source": [
        "x_new_all_comb"
      ]
    },
    {
      "cell_type": "code",
      "execution_count": 36,
      "metadata": {},
      "outputs": [],
      "source": [
        "# x_new_all_comb.to_excel(\"x_col_new_all_comb_10.xlsx\", index =False)"
      ]
    },
    {
      "cell_type": "code",
      "execution_count": 37,
      "metadata": {},
      "outputs": [],
      "source": [
        "# x_new_all_comb = pd.read_excel('x_col_new_all_comb_10.xlsx')\n",
        "# x_new_all_comb = x_new_all_comb.dropna()\n",
        "# x_new_all_comb"
      ]
    },
    {
      "cell_type": "code",
      "execution_count": 38,
      "metadata": {},
      "outputs": [],
      "source": [
        "# x_new_all_comb.to_excel(\"x_col_new_all_comb_10.xlsx\", index =False)"
      ]
    },
    {
      "cell_type": "code",
      "execution_count": 39,
      "metadata": {},
      "outputs": [],
      "source": [
        "district_column = pd.DataFrame({\n",
        "    \"KGISDist 1\": df[\"KGISDist 1\"].tolist() * (len(x_new_all_comb) // len(df)),\n",
        "    \"District\": df[\"District\"].tolist() * (len(x_new_all_comb) // len(df)),\n",
        "    \"Target Maternal Deaths\": [target] * len(x_new_all_comb)\n",
        "})\n",
        "\n",
        "district_column = pd.concat([district_column, district_column.head(len(x_new_all_comb) % len(df))])\n",
        "\n",
        "district_column.reset_index(drop=True, inplace=True)\n",
        "\n",
        "x_new_all_comb[\"KGISDist 1\"] = district_column[\"KGISDist 1\"]\n",
        "x_new_all_comb[\"District\"] = district_column[\"District\"]\n",
        "x_new_all_comb[\"Target Maternal Deaths\"] = district_column[\"Target Maternal Deaths\"]\n",
        "\n",
        "x_new_all_comb.drop(columns=[\"KGISDist 1\", \"District\", \"Target Maternal Deaths\"], inplace=True)\n",
        "\n",
        "\n",
        "x_new_all_comb.insert(0, \"District\", district_column[\"District\"])\n",
        "x_new_all_comb.insert(1, \"KGISDist 1\", district_column[\"KGISDist 1\"])\n",
        "x_new_all_comb.insert(11, \"Target Maternal Deaths\", district_column[\"Target Maternal Deaths\"])"
      ]
    },
    {
      "cell_type": "code",
      "execution_count": 40,
      "metadata": {},
      "outputs": [
        {
          "data": {
            "text/html": [
              "<div>\n",
              "<style scoped>\n",
              "    .dataframe tbody tr th:only-of-type {\n",
              "        vertical-align: middle;\n",
              "    }\n",
              "\n",
              "    .dataframe tbody tr th {\n",
              "        vertical-align: top;\n",
              "    }\n",
              "\n",
              "    .dataframe thead th {\n",
              "        text-align: right;\n",
              "    }\n",
              "</style>\n",
              "<table border=\"1\" class=\"dataframe\">\n",
              "  <thead>\n",
              "    <tr style=\"text-align: right;\">\n",
              "      <th></th>\n",
              "      <th>District</th>\n",
              "      <th>KGISDist 1</th>\n",
              "      <th>NFHS_%BirthsDeliveredInAHealthFacility</th>\n",
              "      <th>NFHS_%BirthsDeliveredByCaesareanSection</th>\n",
              "      <th>Identified_Leprosy_Patients_Female_700</th>\n",
              "      <th>Death_TB_Patients_Female_712</th>\n",
              "      <th>Sensitivity (Health Facility)</th>\n",
              "      <th>Sensitivity (Caesarean)</th>\n",
              "      <th>Sensitivity (Leprosy Female)</th>\n",
              "      <th>Sensitivity (TB Female)</th>\n",
              "      <th>Maternal Deaths</th>\n",
              "      <th>Target Maternal Deaths</th>\n",
              "      <th>New Stability</th>\n",
              "    </tr>\n",
              "  </thead>\n",
              "  <tbody>\n",
              "    <tr>\n",
              "      <th>0</th>\n",
              "      <td>BAGALKOT</td>\n",
              "      <td>Bagalkot</td>\n",
              "      <td>91.9</td>\n",
              "      <td>14.400000</td>\n",
              "      <td>15.0</td>\n",
              "      <td>9.0</td>\n",
              "      <td>0.0</td>\n",
              "      <td>0.0</td>\n",
              "      <td>0.0</td>\n",
              "      <td>0.0</td>\n",
              "      <td>19.503934</td>\n",
              "      <td>5</td>\n",
              "      <td>0.783901</td>\n",
              "    </tr>\n",
              "    <tr>\n",
              "      <th>1</th>\n",
              "      <td>BALLARI</td>\n",
              "      <td>Ballari</td>\n",
              "      <td>86.2</td>\n",
              "      <td>22.500000</td>\n",
              "      <td>72.0</td>\n",
              "      <td>26.0</td>\n",
              "      <td>0.0</td>\n",
              "      <td>0.0</td>\n",
              "      <td>0.0</td>\n",
              "      <td>0.0</td>\n",
              "      <td>24.974801</td>\n",
              "      <td>5</td>\n",
              "      <td>0.636298</td>\n",
              "    </tr>\n",
              "    <tr>\n",
              "      <th>2</th>\n",
              "      <td>BELAGAVI</td>\n",
              "      <td>Belagavi</td>\n",
              "      <td>97.1</td>\n",
              "      <td>16.400000</td>\n",
              "      <td>90.0</td>\n",
              "      <td>96.0</td>\n",
              "      <td>0.0</td>\n",
              "      <td>0.0</td>\n",
              "      <td>0.0</td>\n",
              "      <td>0.0</td>\n",
              "      <td>40.244886</td>\n",
              "      <td>5</td>\n",
              "      <td>0.893940</td>\n",
              "    </tr>\n",
              "    <tr>\n",
              "      <th>3</th>\n",
              "      <td>BENGALURU</td>\n",
              "      <td>Bengaluru (Urban)</td>\n",
              "      <td>96.2</td>\n",
              "      <td>27.500000</td>\n",
              "      <td>92.0</td>\n",
              "      <td>91.0</td>\n",
              "      <td>0.0</td>\n",
              "      <td>0.0</td>\n",
              "      <td>0.0</td>\n",
              "      <td>0.0</td>\n",
              "      <td>34.932223</td>\n",
              "      <td>5</td>\n",
              "      <td>0.712639</td>\n",
              "    </tr>\n",
              "    <tr>\n",
              "      <th>4</th>\n",
              "      <td>BENGALURU(R)</td>\n",
              "      <td>Bengaluru (Rural)</td>\n",
              "      <td>98.5</td>\n",
              "      <td>30.500000</td>\n",
              "      <td>4.0</td>\n",
              "      <td>20.0</td>\n",
              "      <td>0.0</td>\n",
              "      <td>0.0</td>\n",
              "      <td>0.0</td>\n",
              "      <td>0.0</td>\n",
              "      <td>12.760140</td>\n",
              "      <td>5</td>\n",
              "      <td>0.916513</td>\n",
              "    </tr>\n",
              "    <tr>\n",
              "      <th>...</th>\n",
              "      <td>...</td>\n",
              "      <td>...</td>\n",
              "      <td>...</td>\n",
              "      <td>...</td>\n",
              "      <td>...</td>\n",
              "      <td>...</td>\n",
              "      <td>...</td>\n",
              "      <td>...</td>\n",
              "      <td>...</td>\n",
              "      <td>...</td>\n",
              "      <td>...</td>\n",
              "      <td>...</td>\n",
              "      <td>...</td>\n",
              "    </tr>\n",
              "    <tr>\n",
              "      <th>453866</th>\n",
              "      <td>UDUPI</td>\n",
              "      <td>Udupi</td>\n",
              "      <td>100.0</td>\n",
              "      <td>81.123372</td>\n",
              "      <td>0.0</td>\n",
              "      <td>0.0</td>\n",
              "      <td>1.0</td>\n",
              "      <td>1.0</td>\n",
              "      <td>1.0</td>\n",
              "      <td>1.0</td>\n",
              "      <td>0.000000</td>\n",
              "      <td>5</td>\n",
              "      <td>1.000000</td>\n",
              "    </tr>\n",
              "    <tr>\n",
              "      <th>453867</th>\n",
              "      <td>UTTARA KANNADA</td>\n",
              "      <td>Uttara Kannada</td>\n",
              "      <td>100.0</td>\n",
              "      <td>51.723372</td>\n",
              "      <td>0.0</td>\n",
              "      <td>0.0</td>\n",
              "      <td>1.0</td>\n",
              "      <td>1.0</td>\n",
              "      <td>1.0</td>\n",
              "      <td>1.0</td>\n",
              "      <td>0.000000</td>\n",
              "      <td>5</td>\n",
              "      <td>0.875575</td>\n",
              "    </tr>\n",
              "    <tr>\n",
              "      <th>453868</th>\n",
              "      <td>VIJAYAPURA</td>\n",
              "      <td>Vijayapura</td>\n",
              "      <td>100.0</td>\n",
              "      <td>53.323372</td>\n",
              "      <td>0.0</td>\n",
              "      <td>0.0</td>\n",
              "      <td>1.0</td>\n",
              "      <td>1.0</td>\n",
              "      <td>1.0</td>\n",
              "      <td>1.0</td>\n",
              "      <td>0.000000</td>\n",
              "      <td>5</td>\n",
              "      <td>0.837788</td>\n",
              "    </tr>\n",
              "    <tr>\n",
              "      <th>453869</th>\n",
              "      <td>YADGIRI</td>\n",
              "      <td>Yadgir</td>\n",
              "      <td>100.0</td>\n",
              "      <td>42.423372</td>\n",
              "      <td>0.0</td>\n",
              "      <td>0.0</td>\n",
              "      <td>1.0</td>\n",
              "      <td>1.0</td>\n",
              "      <td>1.0</td>\n",
              "      <td>1.0</td>\n",
              "      <td>3.557040</td>\n",
              "      <td>5</td>\n",
              "      <td>1.000000</td>\n",
              "    </tr>\n",
              "    <tr>\n",
              "      <th>453870</th>\n",
              "      <td>Vijayanagara</td>\n",
              "      <td>Vijayanagara</td>\n",
              "      <td>100.0</td>\n",
              "      <td>56.423372</td>\n",
              "      <td>0.0</td>\n",
              "      <td>0.0</td>\n",
              "      <td>1.0</td>\n",
              "      <td>1.0</td>\n",
              "      <td>1.0</td>\n",
              "      <td>1.0</td>\n",
              "      <td>0.000000</td>\n",
              "      <td>5</td>\n",
              "      <td>0.731614</td>\n",
              "    </tr>\n",
              "  </tbody>\n",
              "</table>\n",
              "<p>453871 rows × 13 columns</p>\n",
              "</div>"
            ],
            "text/plain": [
              "              District         KGISDist 1  \\\n",
              "0             BAGALKOT           Bagalkot   \n",
              "1              BALLARI            Ballari   \n",
              "2             BELAGAVI           Belagavi   \n",
              "3            BENGALURU  Bengaluru (Urban)   \n",
              "4         BENGALURU(R)  Bengaluru (Rural)   \n",
              "...                ...                ...   \n",
              "453866           UDUPI              Udupi   \n",
              "453867  UTTARA KANNADA     Uttara Kannada   \n",
              "453868      VIJAYAPURA         Vijayapura   \n",
              "453869         YADGIRI             Yadgir   \n",
              "453870    Vijayanagara       Vijayanagara   \n",
              "\n",
              "        NFHS_%BirthsDeliveredInAHealthFacility  \\\n",
              "0                                         91.9   \n",
              "1                                         86.2   \n",
              "2                                         97.1   \n",
              "3                                         96.2   \n",
              "4                                         98.5   \n",
              "...                                        ...   \n",
              "453866                                   100.0   \n",
              "453867                                   100.0   \n",
              "453868                                   100.0   \n",
              "453869                                   100.0   \n",
              "453870                                   100.0   \n",
              "\n",
              "        NFHS_%BirthsDeliveredByCaesareanSection  \\\n",
              "0                                     14.400000   \n",
              "1                                     22.500000   \n",
              "2                                     16.400000   \n",
              "3                                     27.500000   \n",
              "4                                     30.500000   \n",
              "...                                         ...   \n",
              "453866                                81.123372   \n",
              "453867                                51.723372   \n",
              "453868                                53.323372   \n",
              "453869                                42.423372   \n",
              "453870                                56.423372   \n",
              "\n",
              "        Identified_Leprosy_Patients_Female_700  Death_TB_Patients_Female_712  \\\n",
              "0                                         15.0                           9.0   \n",
              "1                                         72.0                          26.0   \n",
              "2                                         90.0                          96.0   \n",
              "3                                         92.0                          91.0   \n",
              "4                                          4.0                          20.0   \n",
              "...                                        ...                           ...   \n",
              "453866                                     0.0                           0.0   \n",
              "453867                                     0.0                           0.0   \n",
              "453868                                     0.0                           0.0   \n",
              "453869                                     0.0                           0.0   \n",
              "453870                                     0.0                           0.0   \n",
              "\n",
              "        Sensitivity (Health Facility)  Sensitivity (Caesarean)  \\\n",
              "0                                 0.0                      0.0   \n",
              "1                                 0.0                      0.0   \n",
              "2                                 0.0                      0.0   \n",
              "3                                 0.0                      0.0   \n",
              "4                                 0.0                      0.0   \n",
              "...                               ...                      ...   \n",
              "453866                            1.0                      1.0   \n",
              "453867                            1.0                      1.0   \n",
              "453868                            1.0                      1.0   \n",
              "453869                            1.0                      1.0   \n",
              "453870                            1.0                      1.0   \n",
              "\n",
              "        Sensitivity (Leprosy Female)  Sensitivity (TB Female)  \\\n",
              "0                                0.0                      0.0   \n",
              "1                                0.0                      0.0   \n",
              "2                                0.0                      0.0   \n",
              "3                                0.0                      0.0   \n",
              "4                                0.0                      0.0   \n",
              "...                              ...                      ...   \n",
              "453866                           1.0                      1.0   \n",
              "453867                           1.0                      1.0   \n",
              "453868                           1.0                      1.0   \n",
              "453869                           1.0                      1.0   \n",
              "453870                           1.0                      1.0   \n",
              "\n",
              "        Maternal Deaths  Target Maternal Deaths  New Stability  \n",
              "0             19.503934                       5       0.783901  \n",
              "1             24.974801                       5       0.636298  \n",
              "2             40.244886                       5       0.893940  \n",
              "3             34.932223                       5       0.712639  \n",
              "4             12.760140                       5       0.916513  \n",
              "...                 ...                     ...            ...  \n",
              "453866         0.000000                       5       1.000000  \n",
              "453867         0.000000                       5       0.875575  \n",
              "453868         0.000000                       5       0.837788  \n",
              "453869         3.557040                       5       1.000000  \n",
              "453870         0.000000                       5       0.731614  \n",
              "\n",
              "[453871 rows x 13 columns]"
            ]
          },
          "execution_count": 40,
          "metadata": {},
          "output_type": "execute_result"
        }
      ],
      "source": [
        "x_new_all_comb"
      ]
    },
    {
      "cell_type": "code",
      "execution_count": 41,
      "metadata": {},
      "outputs": [],
      "source": [
        "# x_new_all_comb.to_excel(\"x_col_new_all_comb_5.xlsx\", index =False)"
      ]
    },
    {
      "cell_type": "code",
      "execution_count": 42,
      "metadata": {},
      "outputs": [],
      "source": [
        "x_new_all_comb = pd.read_csv('x_col_new_all_comb_10_c.csv')\n",
        "df = x_new_all_comb "
      ]
    },
    {
      "cell_type": "code",
      "execution_count": 43,
      "metadata": {},
      "outputs": [],
      "source": [
        "# df1 = pd.read_excel('mmdCaseFile.xlsx')"
      ]
    },
    {
      "cell_type": "code",
      "execution_count": 44,
      "metadata": {},
      "outputs": [],
      "source": [
        "# import numpy as np\n",
        "\n",
        "# df['Impact'] = df['Maternal Deaths'] - np.tile(df1['MaternalMortalityDeath_721'].values, len(df) // 31 + 1)[:len(df)]\n",
        "\n",
        "# for i in range(0, len(df), 31):\n",
        "#     df.loc[i:i+30, 'Impact'] = (df.loc[i:i+30, 'Impact'].max() - df.loc[i:i+30, 'Impact']) / (df.loc[i:i+30, 'Impact'].max() - df.loc[i:i+30, 'Impact'].min())\n"
      ]
    },
    {
      "cell_type": "code",
      "execution_count": 45,
      "metadata": {},
      "outputs": [],
      "source": [
        "# x_new_all_comb.to_csv('x_col_new_all_comb_15_c.csv',index=False)"
      ]
    },
    {
      "cell_type": "code",
      "execution_count": 46,
      "metadata": {
        "colab": {
          "base_uri": "https://localhost:8080/"
        },
        "id": "kVqHG1cymYj4",
        "outputId": "3c0904eb-9b92-4097-959f-d81c15f04846"
      },
      "outputs": [],
      "source": [
        "# x_new_all_comb['Maternal Deaths'].mean()"
      ]
    },
    {
      "cell_type": "code",
      "execution_count": 47,
      "metadata": {},
      "outputs": [],
      "source": [
        "# import pandas as pd\n",
        "# import plotly.express as px\n",
        "# import ipywidgets as widgets\n",
        "# from ipywidgets import interact\n",
        "# from IPython.display import clear_output\n",
        "\n",
        "# # Function to update the plot based on alpha values\n",
        "# def update_plot(alpha1, alpha2, alpha3, alpha4):\n",
        "#     # Filter the dataset based on the selected alpha values\n",
        "#     filtered_df = df[(df['Sensitivity (Health Facility)'] == alpha1) &\n",
        "#                      (df['Sensitivity (Caesarean)'] == alpha2) &\n",
        "#                      (df['Sensitivity (Leprosy Female)'] == alpha3) &\n",
        "#                      (df['Sensitivity (TB Female)'] == alpha4)]\n",
        "\n",
        "#     fig = px.scatter(filtered_df, x='New Stability', y='Impact', title='Stability vs Impact',\n",
        "#                      labels={'Impact': 'Impact', 'New Stability': 'Stability'},\n",
        "#                      text='KGISDist 1', opacity=1,\n",
        "#                      color='KGISDist 1', color_discrete_sequence=['darkblue']\n",
        "#                      )   # Include district names in labels\n",
        "\n",
        "#     # Customize the layout to make text labels visible\n",
        "#     fig.update_traces(textposition='top center', showlegend=False)\n",
        "#     fig.update_layout(annotations=[\n",
        "#         dict(\n",
        "#             x=0.5,\n",
        "#             y=-0.25,\n",
        "#             showarrow=False,\n",
        "#             text=f'Alpha 1: {alpha1}, Alpha 2: {alpha2}, Alpha 3: {alpha3}, Alpha 4: {alpha4}',\n",
        "#             xref=\"paper\",\n",
        "#             yref=\"paper\"\n",
        "#         )])\n",
        "\n",
        "#     # Add average lines\n",
        "#     avg_stability = filtered_df['New Stability'].mean()\n",
        "#     avg_impact = filtered_df['Impact'].mean()\n",
        "    \n",
        "#     fig.add_shape(\n",
        "#         type='line',\n",
        "#         x0=avg_stability, y0=0, x1=avg_stability, y1=1,\n",
        "#         line=dict(color='red', width=2),\n",
        "#         yref='paper'\n",
        "#     )\n",
        "\n",
        "#     fig.add_shape(\n",
        "#         type='line',\n",
        "#         x0=0, y0=avg_impact, x1=1, y1=avg_impact,\n",
        "#         line=dict(color='red', width=2),\n",
        "#         xref='paper'\n",
        "#     )\n",
        "\n",
        "#     # Clear the output cell to remove the old plot\n",
        "#     clear_output(wait=True)\n",
        "#     # Display the new plot\n",
        "#     display(fig)\n",
        "\n",
        "# # Create sliders for alphas\n",
        "# alpha1_slider = widgets.FloatSlider(value=0.5, min=0, max=1, step=0.1, description='Alpha 1:')\n",
        "# alpha2_slider = widgets.FloatSlider(value=0.5, min=0, max=1, step=0.1, description='Alpha 2:')\n",
        "# alpha3_slider = widgets.FloatSlider(value=0.5, min=0, max=1, step=0.1, description='Alpha 3:')\n",
        "# alpha4_slider = widgets.FloatSlider(value=0.5, min=0, max=1, step=0.1, description='Alpha 4:')\n",
        "\n",
        "# # Create interactive plot\n",
        "# interactive_plot = interact(update_plot, alpha1=alpha1_slider, alpha2=alpha2_slider, alpha3=alpha3_slider, alpha4=alpha4_slider)\n"
      ]
    },
    {
      "cell_type": "code",
      "execution_count": 48,
      "metadata": {},
      "outputs": [],
      "source": [
        "# import pandas as pd\n",
        "# import plotly.express as px\n",
        "# import ipywidgets as widgets\n",
        "# from ipywidgets import interact\n",
        "# from IPython.display import clear_output\n",
        "\n",
        "# # Function to update the plot based on alpha values\n",
        "# def update_plot(alpha1, alpha2, alpha3, alpha4):\n",
        "#     # Filter the dataset based on the selected alpha values\n",
        "#     filtered_df = df[(df['Sensitivity (Health Facility)'] == alpha1) &\n",
        "#                      (df['Sensitivity (Caesarean)'] == alpha2) &\n",
        "#                      (df['Sensitivity (Leprosy Female)'] == alpha3) &\n",
        "#                      (df['Sensitivity (TB Female)'] == alpha4)]\n",
        "\n",
        "#     fig = px.scatter(filtered_df, x='New Stability', y='Impact', title='Stability vs Impact',\n",
        "#                      labels={'Impact': 'Impact', 'New Stability': 'Stability'},\n",
        "#                      text='KGISDist 1', opacity=1,\n",
        "#                      color='KGISDist 1', color_discrete_sequence=['darkblue']\n",
        "#                      )   # Include district names in labels\n",
        "\n",
        "#     # Customize the layout to make text labels visible\n",
        "#     fig.update_traces(textposition='top center', showlegend=False)\n",
        "#     fig.update_layout(annotations=[\n",
        "#         dict(\n",
        "#             x=0.5,\n",
        "#             y=-0.25,\n",
        "#             showarrow=False,\n",
        "#             text=f'Alpha 1: {alpha1}, Alpha 2: {alpha2}, Alpha 3: {alpha3}, Alpha 4: {alpha4}',\n",
        "#             xref=\"paper\",\n",
        "#             yref=\"paper\"\n",
        "#         )])\n",
        "\n",
        "#     # Add average lines\n",
        "#     avg_stability = filtered_df['New Stability'].mean()\n",
        "#     avg_impact = filtered_df['Impact'].mean()\n",
        "    \n",
        "#     fig.add_shape(\n",
        "#         type='line',\n",
        "#         x0=avg_stability, y0=0, x1=avg_stability, y1=1,\n",
        "#         line=dict(color='red', width=2),\n",
        "#         yref='paper'\n",
        "#     )\n",
        "\n",
        "#     fig.add_shape(\n",
        "#         type='line',\n",
        "#         x0=0, y0=avg_impact, x1=1, y1=avg_impact,\n",
        "#         line=dict(color='red', width=2),\n",
        "#         xref='paper'\n",
        "#     )\n",
        "\n",
        "#     # Clear the output cell to remove the old plot\n",
        "#     clear_output(wait=True)\n",
        "#     # Display the new plot\n",
        "#     display(fig)\n",
        "\n",
        "# # Create dropdowns for alphas\n",
        "# alpha1_dropdown = widgets.Dropdown(options=[0.1, 0.2, 0.3, 0.4, 0.5, 0.6, 0.7, 0.8, 0.9, 1.0], value=0.5, description='Alpha 1:')\n",
        "# alpha2_dropdown = widgets.Dropdown(options=[0.1, 0.2, 0.3, 0.4, 0.5, 0.6, 0.7, 0.8, 0.9, 1.0], value=0.5, description='Alpha 2:')\n",
        "# alpha3_dropdown = widgets.Dropdown(options=[0.1, 0.2, 0.3, 0.4, 0.5, 0.6, 0.7, 0.8, 0.9, 1.0], value=0.5, description='Alpha 3:')\n",
        "# alpha4_dropdown = widgets.Dropdown(options=[0.1, 0.2, 0.3, 0.4, 0.5, 0.6, 0.7, 0.8, 0.9, 1.0], value=0.5, description='Alpha 4:')\n",
        "\n",
        "# # Create interactive plot\n",
        "# interactive_plot = interact(update_plot, alpha1=alpha1_dropdown, alpha2=alpha2_dropdown, alpha3=alpha3_dropdown, alpha4=alpha4_dropdown)\n"
      ]
    },
    {
      "cell_type": "code",
      "execution_count": 56,
      "metadata": {},
      "outputs": [],
      "source": [
        "abbreviation_mapping = {\n",
        "    'BENGALURU': 'BLR',\n",
        "    'BENGALURU(R)': 'BLR(R)',\n",
        "    'RAMANAGARA': 'RGA',\n",
        "    'CHITRADURGA': 'CDA',\n",
        "    'DAVANAGERE': 'DVG',\n",
        "    'KOLAR': 'KLR',\n",
        "    'CHIKKABALLAPURA': 'CKA',\n",
        "    'SHIVAMOGGA': 'SMG',\n",
        "    'TUMAKURU': 'TKR',\n",
        "    'CHIKKAMAGALURU': 'CMG',\n",
        "    'DAKSHINA KANNADA': 'DKA',\n",
        "    'UDUPI': 'UPI',\n",
        "    'HASSAN': 'HSN',\n",
        "    'KODAGU': 'KDG',\n",
        "    'MANDYA': 'MDY',\n",
        "    'MYSURU': 'MYS',\n",
        "    'CHAMARAJANAGAR': 'CNR',\n",
        "    'BELAGAVI': 'BLG',\n",
        "    'VIJAYAPURA': 'VJP',\n",
        "    'BAGALKOT': 'BKT',\n",
        "    'DHARAWAD': 'DWD',\n",
        "    'GADAG': 'GDG',\n",
        "    'HAVERI': 'HVR',\n",
        "    'UTTARA KANNADA': 'UTK',\n",
        "    'BALLARI': 'BLL',\n",
        "    'BIDAR': 'BDR',\n",
        "    'KALABURAGI': 'KLB',\n",
        "    'YADGIRI': 'YDR',\n",
        "    'RAICHUR': 'RCR',\n",
        "    'KOPPAL': 'KPL',\n",
        "    'Vijayanagara': 'VJY'\n",
        "}\n",
        "\n",
        "df['Abbreviation'] = df['District'].map(abbreviation_mapping)"
      ]
    },
    {
      "cell_type": "code",
      "execution_count": 50,
      "metadata": {},
      "outputs": [
        {
          "data": {
            "text/html": [
              "<div>\n",
              "<style scoped>\n",
              "    .dataframe tbody tr th:only-of-type {\n",
              "        vertical-align: middle;\n",
              "    }\n",
              "\n",
              "    .dataframe tbody tr th {\n",
              "        vertical-align: top;\n",
              "    }\n",
              "\n",
              "    .dataframe thead th {\n",
              "        text-align: right;\n",
              "    }\n",
              "</style>\n",
              "<table border=\"1\" class=\"dataframe\">\n",
              "  <thead>\n",
              "    <tr style=\"text-align: right;\">\n",
              "      <th></th>\n",
              "      <th>District</th>\n",
              "      <th>KGISDist 1</th>\n",
              "      <th>NFHS_%BirthsDeliveredInAHealthFacility</th>\n",
              "      <th>NFHS_%BirthsDeliveredByCaesareanSection</th>\n",
              "      <th>Identified_Leprosy_Patients_Female_700</th>\n",
              "      <th>Death_TB_Patients_Female_712</th>\n",
              "      <th>Sensitivity (Health Facility)</th>\n",
              "      <th>Sensitivity (Caesarean)</th>\n",
              "      <th>Sensitivity (Leprosy Female)</th>\n",
              "      <th>Sensitivity (TB Female)</th>\n",
              "      <th>Maternal Deaths</th>\n",
              "      <th>Target Maternal Deaths</th>\n",
              "      <th>New Stability</th>\n",
              "      <th>Impact</th>\n",
              "      <th>Abbreviation</th>\n",
              "    </tr>\n",
              "  </thead>\n",
              "  <tbody>\n",
              "    <tr>\n",
              "      <th>0</th>\n",
              "      <td>BAGALKOT</td>\n",
              "      <td>Bagalkot</td>\n",
              "      <td>91.9</td>\n",
              "      <td>14.400000</td>\n",
              "      <td>15.0</td>\n",
              "      <td>9.0</td>\n",
              "      <td>0.0</td>\n",
              "      <td>0.0</td>\n",
              "      <td>0.0</td>\n",
              "      <td>0.0</td>\n",
              "      <td>19.503934</td>\n",
              "      <td>10</td>\n",
              "      <td>0.783901</td>\n",
              "      <td>0.278875</td>\n",
              "      <td>BKT</td>\n",
              "    </tr>\n",
              "    <tr>\n",
              "      <th>1</th>\n",
              "      <td>BALLARI</td>\n",
              "      <td>Ballari</td>\n",
              "      <td>86.2</td>\n",
              "      <td>22.500000</td>\n",
              "      <td>72.0</td>\n",
              "      <td>26.0</td>\n",
              "      <td>0.0</td>\n",
              "      <td>0.0</td>\n",
              "      <td>0.0</td>\n",
              "      <td>0.0</td>\n",
              "      <td>24.974801</td>\n",
              "      <td>10</td>\n",
              "      <td>0.636298</td>\n",
              "      <td>0.161418</td>\n",
              "      <td>BLL</td>\n",
              "    </tr>\n",
              "    <tr>\n",
              "      <th>2</th>\n",
              "      <td>BELAGAVI</td>\n",
              "      <td>Belagavi</td>\n",
              "      <td>97.1</td>\n",
              "      <td>16.400000</td>\n",
              "      <td>90.0</td>\n",
              "      <td>96.0</td>\n",
              "      <td>0.0</td>\n",
              "      <td>0.0</td>\n",
              "      <td>0.0</td>\n",
              "      <td>0.0</td>\n",
              "      <td>40.244886</td>\n",
              "      <td>10</td>\n",
              "      <td>0.893940</td>\n",
              "      <td>0.471611</td>\n",
              "      <td>BLG</td>\n",
              "    </tr>\n",
              "    <tr>\n",
              "      <th>3</th>\n",
              "      <td>BENGALURU</td>\n",
              "      <td>Bengaluru (Urban)</td>\n",
              "      <td>96.2</td>\n",
              "      <td>27.500000</td>\n",
              "      <td>92.0</td>\n",
              "      <td>91.0</td>\n",
              "      <td>0.0</td>\n",
              "      <td>0.0</td>\n",
              "      <td>0.0</td>\n",
              "      <td>0.0</td>\n",
              "      <td>34.932223</td>\n",
              "      <td>10</td>\n",
              "      <td>0.712639</td>\n",
              "      <td>0.036312</td>\n",
              "      <td>BLR</td>\n",
              "    </tr>\n",
              "    <tr>\n",
              "      <th>4</th>\n",
              "      <td>BENGALURU(R)</td>\n",
              "      <td>Bengaluru (Rural)</td>\n",
              "      <td>98.5</td>\n",
              "      <td>30.500000</td>\n",
              "      <td>4.0</td>\n",
              "      <td>20.0</td>\n",
              "      <td>0.0</td>\n",
              "      <td>0.0</td>\n",
              "      <td>0.0</td>\n",
              "      <td>0.0</td>\n",
              "      <td>12.760140</td>\n",
              "      <td>10</td>\n",
              "      <td>0.916513</td>\n",
              "      <td>0.211959</td>\n",
              "      <td>BLR(R)</td>\n",
              "    </tr>\n",
              "    <tr>\n",
              "      <th>...</th>\n",
              "      <td>...</td>\n",
              "      <td>...</td>\n",
              "      <td>...</td>\n",
              "      <td>...</td>\n",
              "      <td>...</td>\n",
              "      <td>...</td>\n",
              "      <td>...</td>\n",
              "      <td>...</td>\n",
              "      <td>...</td>\n",
              "      <td>...</td>\n",
              "      <td>...</td>\n",
              "      <td>...</td>\n",
              "      <td>...</td>\n",
              "      <td>...</td>\n",
              "      <td>...</td>\n",
              "    </tr>\n",
              "    <tr>\n",
              "      <th>453866</th>\n",
              "      <td>UDUPI</td>\n",
              "      <td>Udupi</td>\n",
              "      <td>100.0</td>\n",
              "      <td>69.360234</td>\n",
              "      <td>0.0</td>\n",
              "      <td>0.0</td>\n",
              "      <td>1.0</td>\n",
              "      <td>1.0</td>\n",
              "      <td>1.0</td>\n",
              "      <td>1.0</td>\n",
              "      <td>0.000000</td>\n",
              "      <td>10</td>\n",
              "      <td>0.986303</td>\n",
              "      <td>0.126841</td>\n",
              "      <td>UPI</td>\n",
              "    </tr>\n",
              "    <tr>\n",
              "      <th>453867</th>\n",
              "      <td>UTTARA KANNADA</td>\n",
              "      <td>Uttara Kannada</td>\n",
              "      <td>100.0</td>\n",
              "      <td>39.960234</td>\n",
              "      <td>0.0</td>\n",
              "      <td>0.0</td>\n",
              "      <td>1.0</td>\n",
              "      <td>1.0</td>\n",
              "      <td>1.0</td>\n",
              "      <td>1.0</td>\n",
              "      <td>4.604013</td>\n",
              "      <td>10</td>\n",
              "      <td>0.867572</td>\n",
              "      <td>0.013056</td>\n",
              "      <td>UTK</td>\n",
              "    </tr>\n",
              "    <tr>\n",
              "      <th>453868</th>\n",
              "      <td>VIJAYAPURA</td>\n",
              "      <td>Vijayapura</td>\n",
              "      <td>100.0</td>\n",
              "      <td>41.560234</td>\n",
              "      <td>0.0</td>\n",
              "      <td>0.0</td>\n",
              "      <td>1.0</td>\n",
              "      <td>1.0</td>\n",
              "      <td>1.0</td>\n",
              "      <td>1.0</td>\n",
              "      <td>3.923922</td>\n",
              "      <td>10</td>\n",
              "      <td>0.720064</td>\n",
              "      <td>0.277618</td>\n",
              "      <td>VJP</td>\n",
              "    </tr>\n",
              "    <tr>\n",
              "      <th>453869</th>\n",
              "      <td>YADGIRI</td>\n",
              "      <td>Yadgir</td>\n",
              "      <td>100.0</td>\n",
              "      <td>30.660234</td>\n",
              "      <td>0.0</td>\n",
              "      <td>0.0</td>\n",
              "      <td>1.0</td>\n",
              "      <td>1.0</td>\n",
              "      <td>1.0</td>\n",
              "      <td>1.0</td>\n",
              "      <td>8.557040</td>\n",
              "      <td>10</td>\n",
              "      <td>0.745377</td>\n",
              "      <td>0.133469</td>\n",
              "      <td>YDR</td>\n",
              "    </tr>\n",
              "    <tr>\n",
              "      <th>453870</th>\n",
              "      <td>Vijayanagara</td>\n",
              "      <td>Vijayanagara</td>\n",
              "      <td>100.0</td>\n",
              "      <td>44.660234</td>\n",
              "      <td>0.0</td>\n",
              "      <td>0.0</td>\n",
              "      <td>1.0</td>\n",
              "      <td>1.0</td>\n",
              "      <td>1.0</td>\n",
              "      <td>1.0</td>\n",
              "      <td>2.606247</td>\n",
              "      <td>10</td>\n",
              "      <td>0.895902</td>\n",
              "      <td>0.222516</td>\n",
              "      <td>VJY</td>\n",
              "    </tr>\n",
              "  </tbody>\n",
              "</table>\n",
              "<p>453871 rows × 15 columns</p>\n",
              "</div>"
            ],
            "text/plain": [
              "              District         KGISDist 1  \\\n",
              "0             BAGALKOT           Bagalkot   \n",
              "1              BALLARI            Ballari   \n",
              "2             BELAGAVI           Belagavi   \n",
              "3            BENGALURU  Bengaluru (Urban)   \n",
              "4         BENGALURU(R)  Bengaluru (Rural)   \n",
              "...                ...                ...   \n",
              "453866           UDUPI              Udupi   \n",
              "453867  UTTARA KANNADA     Uttara Kannada   \n",
              "453868      VIJAYAPURA         Vijayapura   \n",
              "453869         YADGIRI             Yadgir   \n",
              "453870    Vijayanagara       Vijayanagara   \n",
              "\n",
              "        NFHS_%BirthsDeliveredInAHealthFacility  \\\n",
              "0                                         91.9   \n",
              "1                                         86.2   \n",
              "2                                         97.1   \n",
              "3                                         96.2   \n",
              "4                                         98.5   \n",
              "...                                        ...   \n",
              "453866                                   100.0   \n",
              "453867                                   100.0   \n",
              "453868                                   100.0   \n",
              "453869                                   100.0   \n",
              "453870                                   100.0   \n",
              "\n",
              "        NFHS_%BirthsDeliveredByCaesareanSection  \\\n",
              "0                                     14.400000   \n",
              "1                                     22.500000   \n",
              "2                                     16.400000   \n",
              "3                                     27.500000   \n",
              "4                                     30.500000   \n",
              "...                                         ...   \n",
              "453866                                69.360234   \n",
              "453867                                39.960234   \n",
              "453868                                41.560234   \n",
              "453869                                30.660234   \n",
              "453870                                44.660234   \n",
              "\n",
              "        Identified_Leprosy_Patients_Female_700  Death_TB_Patients_Female_712  \\\n",
              "0                                         15.0                           9.0   \n",
              "1                                         72.0                          26.0   \n",
              "2                                         90.0                          96.0   \n",
              "3                                         92.0                          91.0   \n",
              "4                                          4.0                          20.0   \n",
              "...                                        ...                           ...   \n",
              "453866                                     0.0                           0.0   \n",
              "453867                                     0.0                           0.0   \n",
              "453868                                     0.0                           0.0   \n",
              "453869                                     0.0                           0.0   \n",
              "453870                                     0.0                           0.0   \n",
              "\n",
              "        Sensitivity (Health Facility)  Sensitivity (Caesarean)  \\\n",
              "0                                 0.0                      0.0   \n",
              "1                                 0.0                      0.0   \n",
              "2                                 0.0                      0.0   \n",
              "3                                 0.0                      0.0   \n",
              "4                                 0.0                      0.0   \n",
              "...                               ...                      ...   \n",
              "453866                            1.0                      1.0   \n",
              "453867                            1.0                      1.0   \n",
              "453868                            1.0                      1.0   \n",
              "453869                            1.0                      1.0   \n",
              "453870                            1.0                      1.0   \n",
              "\n",
              "        Sensitivity (Leprosy Female)  Sensitivity (TB Female)  \\\n",
              "0                                0.0                      0.0   \n",
              "1                                0.0                      0.0   \n",
              "2                                0.0                      0.0   \n",
              "3                                0.0                      0.0   \n",
              "4                                0.0                      0.0   \n",
              "...                              ...                      ...   \n",
              "453866                           1.0                      1.0   \n",
              "453867                           1.0                      1.0   \n",
              "453868                           1.0                      1.0   \n",
              "453869                           1.0                      1.0   \n",
              "453870                           1.0                      1.0   \n",
              "\n",
              "        Maternal Deaths  Target Maternal Deaths  New Stability    Impact  \\\n",
              "0             19.503934                      10       0.783901  0.278875   \n",
              "1             24.974801                      10       0.636298  0.161418   \n",
              "2             40.244886                      10       0.893940  0.471611   \n",
              "3             34.932223                      10       0.712639  0.036312   \n",
              "4             12.760140                      10       0.916513  0.211959   \n",
              "...                 ...                     ...            ...       ...   \n",
              "453866         0.000000                      10       0.986303  0.126841   \n",
              "453867         4.604013                      10       0.867572  0.013056   \n",
              "453868         3.923922                      10       0.720064  0.277618   \n",
              "453869         8.557040                      10       0.745377  0.133469   \n",
              "453870         2.606247                      10       0.895902  0.222516   \n",
              "\n",
              "       Abbreviation  \n",
              "0               BKT  \n",
              "1               BLL  \n",
              "2               BLG  \n",
              "3               BLR  \n",
              "4            BLR(R)  \n",
              "...             ...  \n",
              "453866          UPI  \n",
              "453867          UTK  \n",
              "453868          VJP  \n",
              "453869          YDR  \n",
              "453870          VJY  \n",
              "\n",
              "[453871 rows x 15 columns]"
            ]
          },
          "execution_count": 50,
          "metadata": {},
          "output_type": "execute_result"
        }
      ],
      "source": [
        "df"
      ]
    },
    {
      "cell_type": "code",
      "execution_count": 51,
      "metadata": {},
      "outputs": [],
      "source": [
        "legend_labels = [{'Abbreviation': abb, 'Full Form': full_form} \n",
        "                    for abb, full_form in zip(df['Abbreviation'].unique(), df['KGISDist 1'].unique())]"
      ]
    },
    {
      "cell_type": "code",
      "execution_count": 52,
      "metadata": {},
      "outputs": [
        {
          "data": {
            "text/plain": [
              "[{'Abbreviation': 'BKT', 'Full Form': 'Bagalkot'},\n",
              " {'Abbreviation': 'BLL', 'Full Form': 'Ballari'},\n",
              " {'Abbreviation': 'BLG', 'Full Form': 'Belagavi'},\n",
              " {'Abbreviation': 'BLR', 'Full Form': 'Bengaluru (Urban)'},\n",
              " {'Abbreviation': 'BLR(R)', 'Full Form': 'Bengaluru (Rural)'},\n",
              " {'Abbreviation': 'BDR', 'Full Form': 'Bidar'},\n",
              " {'Abbreviation': 'CNR', 'Full Form': 'Chamarajanagara'},\n",
              " {'Abbreviation': 'CKA', 'Full Form': 'Chikkaballapura'},\n",
              " {'Abbreviation': 'CMG', 'Full Form': 'Chikkamagaluru'},\n",
              " {'Abbreviation': 'CDA', 'Full Form': 'Chitradurga'},\n",
              " {'Abbreviation': 'DKA', 'Full Form': 'Dakshina Kannada'},\n",
              " {'Abbreviation': 'DVG', 'Full Form': 'Davanagere'},\n",
              " {'Abbreviation': 'DWD', 'Full Form': 'Dharwad'},\n",
              " {'Abbreviation': 'GDG', 'Full Form': 'Gadag'},\n",
              " {'Abbreviation': 'HSN', 'Full Form': 'Hassan'},\n",
              " {'Abbreviation': 'HVR', 'Full Form': 'Haveri'},\n",
              " {'Abbreviation': 'KLB', 'Full Form': 'Kalburgi'},\n",
              " {'Abbreviation': 'KDG', 'Full Form': 'Kodagu'},\n",
              " {'Abbreviation': 'KLR', 'Full Form': 'Kolara'},\n",
              " {'Abbreviation': 'KPL', 'Full Form': 'Koppal'},\n",
              " {'Abbreviation': 'MDY', 'Full Form': 'Mandya'},\n",
              " {'Abbreviation': 'MYS', 'Full Form': 'Mysuru'},\n",
              " {'Abbreviation': 'RCR', 'Full Form': 'Raichur'},\n",
              " {'Abbreviation': 'RGA', 'Full Form': 'Ramanagara'},\n",
              " {'Abbreviation': 'SMG', 'Full Form': 'Shivamogga'},\n",
              " {'Abbreviation': 'TKR', 'Full Form': 'Tumakuru'},\n",
              " {'Abbreviation': 'UPI', 'Full Form': 'Udupi'},\n",
              " {'Abbreviation': 'UTK', 'Full Form': 'Uttara Kannada'},\n",
              " {'Abbreviation': 'VJP', 'Full Form': 'Vijayapura'},\n",
              " {'Abbreviation': 'YDR', 'Full Form': 'Yadgir'},\n",
              " {'Abbreviation': 'VJY', 'Full Form': 'Vijayanagara'}]"
            ]
          },
          "execution_count": 52,
          "metadata": {},
          "output_type": "execute_result"
        }
      ],
      "source": [
        "legend_labels"
      ]
    },
    {
      "cell_type": "code",
      "execution_count": 53,
      "metadata": {},
      "outputs": [
        {
          "data": {
            "application/vnd.jupyter.widget-view+json": {
              "model_id": "9ff5095a2756410a8bbebe405ff6ed30",
              "version_major": 2,
              "version_minor": 0
            },
            "text/plain": [
              "interactive(children=(FloatSlider(value=0.5, description='αHF:', max=1.0), FloatSlider(value=0.5, description=…"
            ]
          },
          "metadata": {},
          "output_type": "display_data"
        },
        {
          "data": {
            "application/vnd.plotly.v1+json": {
              "config": {
                "plotlyServerURL": "https://plot.ly"
              },
              "data": [
                {
                  "hovertemplate": "Stability=%{x}<br>Impact=%{y}<br>Abbreviation=%{text}<extra></extra>",
                  "legendgroup": "",
                  "marker": {
                    "color": "darkblue",
                    "opacity": 1,
                    "symbol": "circle"
                  },
                  "mode": "markers+text",
                  "name": "",
                  "orientation": "v",
                  "showlegend": false,
                  "text": [
                    "BKT",
                    "BLL",
                    "BLG",
                    "BLR",
                    "BLR(R)",
                    "BDR",
                    "CNR",
                    "CKA",
                    "CMG",
                    "CDA",
                    "DKA",
                    "DVG",
                    "DWD",
                    "GDG",
                    "HSN",
                    "HVR",
                    "KLB",
                    "KDG",
                    "KLR",
                    "KPL",
                    "MDY",
                    "MYS",
                    "RCR",
                    "RGA",
                    "SMG",
                    "TKR",
                    "UPI",
                    "UTK",
                    "VJP",
                    "YDR",
                    "VJY"
                  ],
                  "textfont": {
                    "size": 11
                  },
                  "textposition": "top center",
                  "type": "scatter",
                  "x": [
                    0.7864861343396456,
                    0.7071727690115106,
                    0.964047747208461,
                    0.8069704666954363,
                    0.9010803158542612,
                    0.6062157046462053,
                    0.96871692800161,
                    0.920822035368368,
                    0.9248727380594776,
                    0.3791352391033997,
                    0.9498584843312596,
                    0.7433392141406698,
                    0.7857183237614815,
                    0.7352535952429962,
                    0.8706349272903643,
                    0.4520300378047667,
                    0.6983451596802555,
                    0.9513214460453492,
                    0.8946426200650084,
                    0.7764938513694941,
                    0.674757097470467,
                    0.9419749416447998,
                    0.9633835338071176,
                    0.2794067958365305,
                    0.9448789512242796,
                    0.5563431802239003,
                    0.9934843858977594,
                    0.8986215622750944,
                    0.8554321483854446,
                    0.8103857584130966,
                    0.9508443669310632
                  ],
                  "xaxis": "x",
                  "y": [
                    0.2175880757727489,
                    0.2129573415224853,
                    0.4895086376823996,
                    0.0737469525138305,
                    0.1548996603124433,
                    0.16295929460637,
                    0,
                    0.1806093464619207,
                    0.2139516198443908,
                    0.2450861800562979,
                    0.1435043262901699,
                    0.3631755548255505,
                    1,
                    0.1095461109662277,
                    0.3827109707886338,
                    0.1691039963263582,
                    0.6768207360472818,
                    0.0875549113725573,
                    0.2917959587861884,
                    0.1742998355618976,
                    0.1866488616342047,
                    0.3538296848123812,
                    0.5621490985747459,
                    0.0740590105817581,
                    0.446580435420478,
                    0.2873739335867847,
                    0.198869919140204,
                    0.0131585275560051,
                    0.2672383149200682,
                    0.1345205684126156,
                    0.1960961725369334
                  ],
                  "yaxis": "y"
                },
                {
                  "marker": {
                    "color": "darkblue"
                  },
                  "mode": "markers",
                  "name": "BKT: Bagalkot",
                  "type": "scatter",
                  "x": [
                    null
                  ],
                  "y": [
                    null
                  ]
                },
                {
                  "marker": {
                    "color": "darkblue"
                  },
                  "mode": "markers",
                  "name": "BLL: Ballari",
                  "type": "scatter",
                  "x": [
                    null
                  ],
                  "y": [
                    null
                  ]
                },
                {
                  "marker": {
                    "color": "darkblue"
                  },
                  "mode": "markers",
                  "name": "BLG: Belagavi",
                  "type": "scatter",
                  "x": [
                    null
                  ],
                  "y": [
                    null
                  ]
                },
                {
                  "marker": {
                    "color": "darkblue"
                  },
                  "mode": "markers",
                  "name": "BLR: Bengaluru (Urban)",
                  "type": "scatter",
                  "x": [
                    null
                  ],
                  "y": [
                    null
                  ]
                },
                {
                  "marker": {
                    "color": "darkblue"
                  },
                  "mode": "markers",
                  "name": "BLR(R): Bengaluru (Rural)",
                  "type": "scatter",
                  "x": [
                    null
                  ],
                  "y": [
                    null
                  ]
                },
                {
                  "marker": {
                    "color": "darkblue"
                  },
                  "mode": "markers",
                  "name": "BDR: Bidar",
                  "type": "scatter",
                  "x": [
                    null
                  ],
                  "y": [
                    null
                  ]
                },
                {
                  "marker": {
                    "color": "darkblue"
                  },
                  "mode": "markers",
                  "name": "CNR: Chamarajanagara",
                  "type": "scatter",
                  "x": [
                    null
                  ],
                  "y": [
                    null
                  ]
                },
                {
                  "marker": {
                    "color": "darkblue"
                  },
                  "mode": "markers",
                  "name": "CKA: Chikkaballapura",
                  "type": "scatter",
                  "x": [
                    null
                  ],
                  "y": [
                    null
                  ]
                },
                {
                  "marker": {
                    "color": "darkblue"
                  },
                  "mode": "markers",
                  "name": "CMG: Chikkamagaluru",
                  "type": "scatter",
                  "x": [
                    null
                  ],
                  "y": [
                    null
                  ]
                },
                {
                  "marker": {
                    "color": "darkblue"
                  },
                  "mode": "markers",
                  "name": "CDA: Chitradurga",
                  "type": "scatter",
                  "x": [
                    null
                  ],
                  "y": [
                    null
                  ]
                },
                {
                  "marker": {
                    "color": "darkblue"
                  },
                  "mode": "markers",
                  "name": "DKA: Dakshina Kannada",
                  "type": "scatter",
                  "x": [
                    null
                  ],
                  "y": [
                    null
                  ]
                },
                {
                  "marker": {
                    "color": "darkblue"
                  },
                  "mode": "markers",
                  "name": "DVG: Davanagere",
                  "type": "scatter",
                  "x": [
                    null
                  ],
                  "y": [
                    null
                  ]
                },
                {
                  "marker": {
                    "color": "darkblue"
                  },
                  "mode": "markers",
                  "name": "DWD: Dharwad",
                  "type": "scatter",
                  "x": [
                    null
                  ],
                  "y": [
                    null
                  ]
                },
                {
                  "marker": {
                    "color": "darkblue"
                  },
                  "mode": "markers",
                  "name": "GDG: Gadag",
                  "type": "scatter",
                  "x": [
                    null
                  ],
                  "y": [
                    null
                  ]
                },
                {
                  "marker": {
                    "color": "darkblue"
                  },
                  "mode": "markers",
                  "name": "HSN: Hassan",
                  "type": "scatter",
                  "x": [
                    null
                  ],
                  "y": [
                    null
                  ]
                },
                {
                  "marker": {
                    "color": "darkblue"
                  },
                  "mode": "markers",
                  "name": "HVR: Haveri",
                  "type": "scatter",
                  "x": [
                    null
                  ],
                  "y": [
                    null
                  ]
                },
                {
                  "marker": {
                    "color": "darkblue"
                  },
                  "mode": "markers",
                  "name": "KLB: Kalburgi",
                  "type": "scatter",
                  "x": [
                    null
                  ],
                  "y": [
                    null
                  ]
                },
                {
                  "marker": {
                    "color": "darkblue"
                  },
                  "mode": "markers",
                  "name": "KDG: Kodagu",
                  "type": "scatter",
                  "x": [
                    null
                  ],
                  "y": [
                    null
                  ]
                },
                {
                  "marker": {
                    "color": "darkblue"
                  },
                  "mode": "markers",
                  "name": "KLR: Kolara",
                  "type": "scatter",
                  "x": [
                    null
                  ],
                  "y": [
                    null
                  ]
                },
                {
                  "marker": {
                    "color": "darkblue"
                  },
                  "mode": "markers",
                  "name": "KPL: Koppal",
                  "type": "scatter",
                  "x": [
                    null
                  ],
                  "y": [
                    null
                  ]
                },
                {
                  "marker": {
                    "color": "darkblue"
                  },
                  "mode": "markers",
                  "name": "MDY: Mandya",
                  "type": "scatter",
                  "x": [
                    null
                  ],
                  "y": [
                    null
                  ]
                },
                {
                  "marker": {
                    "color": "darkblue"
                  },
                  "mode": "markers",
                  "name": "MYS: Mysuru",
                  "type": "scatter",
                  "x": [
                    null
                  ],
                  "y": [
                    null
                  ]
                },
                {
                  "marker": {
                    "color": "darkblue"
                  },
                  "mode": "markers",
                  "name": "RCR: Raichur",
                  "type": "scatter",
                  "x": [
                    null
                  ],
                  "y": [
                    null
                  ]
                },
                {
                  "marker": {
                    "color": "darkblue"
                  },
                  "mode": "markers",
                  "name": "RGA: Ramanagara",
                  "type": "scatter",
                  "x": [
                    null
                  ],
                  "y": [
                    null
                  ]
                },
                {
                  "marker": {
                    "color": "darkblue"
                  },
                  "mode": "markers",
                  "name": "SMG: Shivamogga",
                  "type": "scatter",
                  "x": [
                    null
                  ],
                  "y": [
                    null
                  ]
                },
                {
                  "marker": {
                    "color": "darkblue"
                  },
                  "mode": "markers",
                  "name": "TKR: Tumakuru",
                  "type": "scatter",
                  "x": [
                    null
                  ],
                  "y": [
                    null
                  ]
                },
                {
                  "marker": {
                    "color": "darkblue"
                  },
                  "mode": "markers",
                  "name": "UPI: Udupi",
                  "type": "scatter",
                  "x": [
                    null
                  ],
                  "y": [
                    null
                  ]
                },
                {
                  "marker": {
                    "color": "darkblue"
                  },
                  "mode": "markers",
                  "name": "UTK: Uttara Kannada",
                  "type": "scatter",
                  "x": [
                    null
                  ],
                  "y": [
                    null
                  ]
                },
                {
                  "marker": {
                    "color": "darkblue"
                  },
                  "mode": "markers",
                  "name": "VJP: Vijayapura",
                  "type": "scatter",
                  "x": [
                    null
                  ],
                  "y": [
                    null
                  ]
                },
                {
                  "marker": {
                    "color": "darkblue"
                  },
                  "mode": "markers",
                  "name": "YDR: Yadgir",
                  "type": "scatter",
                  "x": [
                    null
                  ],
                  "y": [
                    null
                  ]
                },
                {
                  "marker": {
                    "color": "darkblue"
                  },
                  "mode": "markers",
                  "name": "VJY: Vijayanagara",
                  "type": "scatter",
                  "x": [
                    null
                  ],
                  "y": [
                    null
                  ]
                },
                {
                  "mode": "text",
                  "showlegend": false,
                  "text": [
                    "Avg Stability: 0.80"
                  ],
                  "textfont": {
                    "size": 10.7
                  },
                  "type": "scatter",
                  "x": [
                    0.7965377567783732
                  ],
                  "y": [
                    -0.07
                  ]
                },
                {
                  "mode": "text",
                  "showlegend": false,
                  "text": [
                    "Avg Impact: 0.26"
                  ],
                  "textfont": {
                    "size": 10.7
                  },
                  "type": "scatter",
                  "x": [
                    0.3
                  ],
                  "y": [
                    0.22033367861012684
                  ]
                }
              ],
              "layout": {
                "annotations": [
                  {
                    "font": {
                      "size": 13
                    },
                    "showarrow": false,
                    "text": "α<sub>HF</sub>: 0.70, α<sub>CS</sub>: 0.50, α<sub>LP</sub>: 0.50, α<sub>TB</sub>: 0.50",
                    "x": 0.5,
                    "xref": "paper",
                    "y": -0.25,
                    "yref": "paper"
                  }
                ],
                "legend": {
                  "title": {
                    "font": {
                      "size": 12
                    },
                    "text": "Districts"
                  },
                  "tracegroupgap": 0
                },
                "shapes": [
                  {
                    "line": {
                      "color": "red",
                      "dash": "dash",
                      "width": 1.5
                    },
                    "type": "line",
                    "x0": 0.7965377567783732,
                    "x1": 0.7965377567783732,
                    "y0": 0,
                    "y1": 1,
                    "yref": "paper"
                  },
                  {
                    "line": {
                      "color": "red",
                      "dash": "dash",
                      "width": 1.5
                    },
                    "type": "line",
                    "x0": 0,
                    "x1": 1,
                    "xref": "paper",
                    "y0": 0.26033367861012685,
                    "y1": 0.26033367861012685
                  }
                ],
                "template": {
                  "data": {
                    "bar": [
                      {
                        "error_x": {
                          "color": "#2a3f5f"
                        },
                        "error_y": {
                          "color": "#2a3f5f"
                        },
                        "marker": {
                          "line": {
                            "color": "#E5ECF6",
                            "width": 0.5
                          },
                          "pattern": {
                            "fillmode": "overlay",
                            "size": 10,
                            "solidity": 0.2
                          }
                        },
                        "type": "bar"
                      }
                    ],
                    "barpolar": [
                      {
                        "marker": {
                          "line": {
                            "color": "#E5ECF6",
                            "width": 0.5
                          },
                          "pattern": {
                            "fillmode": "overlay",
                            "size": 10,
                            "solidity": 0.2
                          }
                        },
                        "type": "barpolar"
                      }
                    ],
                    "carpet": [
                      {
                        "aaxis": {
                          "endlinecolor": "#2a3f5f",
                          "gridcolor": "white",
                          "linecolor": "white",
                          "minorgridcolor": "white",
                          "startlinecolor": "#2a3f5f"
                        },
                        "baxis": {
                          "endlinecolor": "#2a3f5f",
                          "gridcolor": "white",
                          "linecolor": "white",
                          "minorgridcolor": "white",
                          "startlinecolor": "#2a3f5f"
                        },
                        "type": "carpet"
                      }
                    ],
                    "choropleth": [
                      {
                        "colorbar": {
                          "outlinewidth": 0,
                          "ticks": ""
                        },
                        "type": "choropleth"
                      }
                    ],
                    "contour": [
                      {
                        "colorbar": {
                          "outlinewidth": 0,
                          "ticks": ""
                        },
                        "colorscale": [
                          [
                            0,
                            "#0d0887"
                          ],
                          [
                            0.1111111111111111,
                            "#46039f"
                          ],
                          [
                            0.2222222222222222,
                            "#7201a8"
                          ],
                          [
                            0.3333333333333333,
                            "#9c179e"
                          ],
                          [
                            0.4444444444444444,
                            "#bd3786"
                          ],
                          [
                            0.5555555555555556,
                            "#d8576b"
                          ],
                          [
                            0.6666666666666666,
                            "#ed7953"
                          ],
                          [
                            0.7777777777777778,
                            "#fb9f3a"
                          ],
                          [
                            0.8888888888888888,
                            "#fdca26"
                          ],
                          [
                            1,
                            "#f0f921"
                          ]
                        ],
                        "type": "contour"
                      }
                    ],
                    "contourcarpet": [
                      {
                        "colorbar": {
                          "outlinewidth": 0,
                          "ticks": ""
                        },
                        "type": "contourcarpet"
                      }
                    ],
                    "heatmap": [
                      {
                        "colorbar": {
                          "outlinewidth": 0,
                          "ticks": ""
                        },
                        "colorscale": [
                          [
                            0,
                            "#0d0887"
                          ],
                          [
                            0.1111111111111111,
                            "#46039f"
                          ],
                          [
                            0.2222222222222222,
                            "#7201a8"
                          ],
                          [
                            0.3333333333333333,
                            "#9c179e"
                          ],
                          [
                            0.4444444444444444,
                            "#bd3786"
                          ],
                          [
                            0.5555555555555556,
                            "#d8576b"
                          ],
                          [
                            0.6666666666666666,
                            "#ed7953"
                          ],
                          [
                            0.7777777777777778,
                            "#fb9f3a"
                          ],
                          [
                            0.8888888888888888,
                            "#fdca26"
                          ],
                          [
                            1,
                            "#f0f921"
                          ]
                        ],
                        "type": "heatmap"
                      }
                    ],
                    "heatmapgl": [
                      {
                        "colorbar": {
                          "outlinewidth": 0,
                          "ticks": ""
                        },
                        "colorscale": [
                          [
                            0,
                            "#0d0887"
                          ],
                          [
                            0.1111111111111111,
                            "#46039f"
                          ],
                          [
                            0.2222222222222222,
                            "#7201a8"
                          ],
                          [
                            0.3333333333333333,
                            "#9c179e"
                          ],
                          [
                            0.4444444444444444,
                            "#bd3786"
                          ],
                          [
                            0.5555555555555556,
                            "#d8576b"
                          ],
                          [
                            0.6666666666666666,
                            "#ed7953"
                          ],
                          [
                            0.7777777777777778,
                            "#fb9f3a"
                          ],
                          [
                            0.8888888888888888,
                            "#fdca26"
                          ],
                          [
                            1,
                            "#f0f921"
                          ]
                        ],
                        "type": "heatmapgl"
                      }
                    ],
                    "histogram": [
                      {
                        "marker": {
                          "pattern": {
                            "fillmode": "overlay",
                            "size": 10,
                            "solidity": 0.2
                          }
                        },
                        "type": "histogram"
                      }
                    ],
                    "histogram2d": [
                      {
                        "colorbar": {
                          "outlinewidth": 0,
                          "ticks": ""
                        },
                        "colorscale": [
                          [
                            0,
                            "#0d0887"
                          ],
                          [
                            0.1111111111111111,
                            "#46039f"
                          ],
                          [
                            0.2222222222222222,
                            "#7201a8"
                          ],
                          [
                            0.3333333333333333,
                            "#9c179e"
                          ],
                          [
                            0.4444444444444444,
                            "#bd3786"
                          ],
                          [
                            0.5555555555555556,
                            "#d8576b"
                          ],
                          [
                            0.6666666666666666,
                            "#ed7953"
                          ],
                          [
                            0.7777777777777778,
                            "#fb9f3a"
                          ],
                          [
                            0.8888888888888888,
                            "#fdca26"
                          ],
                          [
                            1,
                            "#f0f921"
                          ]
                        ],
                        "type": "histogram2d"
                      }
                    ],
                    "histogram2dcontour": [
                      {
                        "colorbar": {
                          "outlinewidth": 0,
                          "ticks": ""
                        },
                        "colorscale": [
                          [
                            0,
                            "#0d0887"
                          ],
                          [
                            0.1111111111111111,
                            "#46039f"
                          ],
                          [
                            0.2222222222222222,
                            "#7201a8"
                          ],
                          [
                            0.3333333333333333,
                            "#9c179e"
                          ],
                          [
                            0.4444444444444444,
                            "#bd3786"
                          ],
                          [
                            0.5555555555555556,
                            "#d8576b"
                          ],
                          [
                            0.6666666666666666,
                            "#ed7953"
                          ],
                          [
                            0.7777777777777778,
                            "#fb9f3a"
                          ],
                          [
                            0.8888888888888888,
                            "#fdca26"
                          ],
                          [
                            1,
                            "#f0f921"
                          ]
                        ],
                        "type": "histogram2dcontour"
                      }
                    ],
                    "mesh3d": [
                      {
                        "colorbar": {
                          "outlinewidth": 0,
                          "ticks": ""
                        },
                        "type": "mesh3d"
                      }
                    ],
                    "parcoords": [
                      {
                        "line": {
                          "colorbar": {
                            "outlinewidth": 0,
                            "ticks": ""
                          }
                        },
                        "type": "parcoords"
                      }
                    ],
                    "pie": [
                      {
                        "automargin": true,
                        "type": "pie"
                      }
                    ],
                    "scatter": [
                      {
                        "fillpattern": {
                          "fillmode": "overlay",
                          "size": 10,
                          "solidity": 0.2
                        },
                        "type": "scatter"
                      }
                    ],
                    "scatter3d": [
                      {
                        "line": {
                          "colorbar": {
                            "outlinewidth": 0,
                            "ticks": ""
                          }
                        },
                        "marker": {
                          "colorbar": {
                            "outlinewidth": 0,
                            "ticks": ""
                          }
                        },
                        "type": "scatter3d"
                      }
                    ],
                    "scattercarpet": [
                      {
                        "marker": {
                          "colorbar": {
                            "outlinewidth": 0,
                            "ticks": ""
                          }
                        },
                        "type": "scattercarpet"
                      }
                    ],
                    "scattergeo": [
                      {
                        "marker": {
                          "colorbar": {
                            "outlinewidth": 0,
                            "ticks": ""
                          }
                        },
                        "type": "scattergeo"
                      }
                    ],
                    "scattergl": [
                      {
                        "marker": {
                          "colorbar": {
                            "outlinewidth": 0,
                            "ticks": ""
                          }
                        },
                        "type": "scattergl"
                      }
                    ],
                    "scattermapbox": [
                      {
                        "marker": {
                          "colorbar": {
                            "outlinewidth": 0,
                            "ticks": ""
                          }
                        },
                        "type": "scattermapbox"
                      }
                    ],
                    "scatterpolar": [
                      {
                        "marker": {
                          "colorbar": {
                            "outlinewidth": 0,
                            "ticks": ""
                          }
                        },
                        "type": "scatterpolar"
                      }
                    ],
                    "scatterpolargl": [
                      {
                        "marker": {
                          "colorbar": {
                            "outlinewidth": 0,
                            "ticks": ""
                          }
                        },
                        "type": "scatterpolargl"
                      }
                    ],
                    "scatterternary": [
                      {
                        "marker": {
                          "colorbar": {
                            "outlinewidth": 0,
                            "ticks": ""
                          }
                        },
                        "type": "scatterternary"
                      }
                    ],
                    "surface": [
                      {
                        "colorbar": {
                          "outlinewidth": 0,
                          "ticks": ""
                        },
                        "colorscale": [
                          [
                            0,
                            "#0d0887"
                          ],
                          [
                            0.1111111111111111,
                            "#46039f"
                          ],
                          [
                            0.2222222222222222,
                            "#7201a8"
                          ],
                          [
                            0.3333333333333333,
                            "#9c179e"
                          ],
                          [
                            0.4444444444444444,
                            "#bd3786"
                          ],
                          [
                            0.5555555555555556,
                            "#d8576b"
                          ],
                          [
                            0.6666666666666666,
                            "#ed7953"
                          ],
                          [
                            0.7777777777777778,
                            "#fb9f3a"
                          ],
                          [
                            0.8888888888888888,
                            "#fdca26"
                          ],
                          [
                            1,
                            "#f0f921"
                          ]
                        ],
                        "type": "surface"
                      }
                    ],
                    "table": [
                      {
                        "cells": {
                          "fill": {
                            "color": "#EBF0F8"
                          },
                          "line": {
                            "color": "white"
                          }
                        },
                        "header": {
                          "fill": {
                            "color": "#C8D4E3"
                          },
                          "line": {
                            "color": "white"
                          }
                        },
                        "type": "table"
                      }
                    ]
                  },
                  "layout": {
                    "annotationdefaults": {
                      "arrowcolor": "#2a3f5f",
                      "arrowhead": 0,
                      "arrowwidth": 1
                    },
                    "autotypenumbers": "strict",
                    "coloraxis": {
                      "colorbar": {
                        "outlinewidth": 0,
                        "ticks": ""
                      }
                    },
                    "colorscale": {
                      "diverging": [
                        [
                          0,
                          "#8e0152"
                        ],
                        [
                          0.1,
                          "#c51b7d"
                        ],
                        [
                          0.2,
                          "#de77ae"
                        ],
                        [
                          0.3,
                          "#f1b6da"
                        ],
                        [
                          0.4,
                          "#fde0ef"
                        ],
                        [
                          0.5,
                          "#f7f7f7"
                        ],
                        [
                          0.6,
                          "#e6f5d0"
                        ],
                        [
                          0.7,
                          "#b8e186"
                        ],
                        [
                          0.8,
                          "#7fbc41"
                        ],
                        [
                          0.9,
                          "#4d9221"
                        ],
                        [
                          1,
                          "#276419"
                        ]
                      ],
                      "sequential": [
                        [
                          0,
                          "#0d0887"
                        ],
                        [
                          0.1111111111111111,
                          "#46039f"
                        ],
                        [
                          0.2222222222222222,
                          "#7201a8"
                        ],
                        [
                          0.3333333333333333,
                          "#9c179e"
                        ],
                        [
                          0.4444444444444444,
                          "#bd3786"
                        ],
                        [
                          0.5555555555555556,
                          "#d8576b"
                        ],
                        [
                          0.6666666666666666,
                          "#ed7953"
                        ],
                        [
                          0.7777777777777778,
                          "#fb9f3a"
                        ],
                        [
                          0.8888888888888888,
                          "#fdca26"
                        ],
                        [
                          1,
                          "#f0f921"
                        ]
                      ],
                      "sequentialminus": [
                        [
                          0,
                          "#0d0887"
                        ],
                        [
                          0.1111111111111111,
                          "#46039f"
                        ],
                        [
                          0.2222222222222222,
                          "#7201a8"
                        ],
                        [
                          0.3333333333333333,
                          "#9c179e"
                        ],
                        [
                          0.4444444444444444,
                          "#bd3786"
                        ],
                        [
                          0.5555555555555556,
                          "#d8576b"
                        ],
                        [
                          0.6666666666666666,
                          "#ed7953"
                        ],
                        [
                          0.7777777777777778,
                          "#fb9f3a"
                        ],
                        [
                          0.8888888888888888,
                          "#fdca26"
                        ],
                        [
                          1,
                          "#f0f921"
                        ]
                      ]
                    },
                    "colorway": [
                      "#636efa",
                      "#EF553B",
                      "#00cc96",
                      "#ab63fa",
                      "#FFA15A",
                      "#19d3f3",
                      "#FF6692",
                      "#B6E880",
                      "#FF97FF",
                      "#FECB52"
                    ],
                    "font": {
                      "color": "#2a3f5f"
                    },
                    "geo": {
                      "bgcolor": "white",
                      "lakecolor": "white",
                      "landcolor": "#E5ECF6",
                      "showlakes": true,
                      "showland": true,
                      "subunitcolor": "white"
                    },
                    "hoverlabel": {
                      "align": "left"
                    },
                    "hovermode": "closest",
                    "mapbox": {
                      "style": "light"
                    },
                    "paper_bgcolor": "white",
                    "plot_bgcolor": "#E5ECF6",
                    "polar": {
                      "angularaxis": {
                        "gridcolor": "white",
                        "linecolor": "white",
                        "ticks": ""
                      },
                      "bgcolor": "#E5ECF6",
                      "radialaxis": {
                        "gridcolor": "white",
                        "linecolor": "white",
                        "ticks": ""
                      }
                    },
                    "scene": {
                      "xaxis": {
                        "backgroundcolor": "#E5ECF6",
                        "gridcolor": "white",
                        "gridwidth": 2,
                        "linecolor": "white",
                        "showbackground": true,
                        "ticks": "",
                        "zerolinecolor": "white"
                      },
                      "yaxis": {
                        "backgroundcolor": "#E5ECF6",
                        "gridcolor": "white",
                        "gridwidth": 2,
                        "linecolor": "white",
                        "showbackground": true,
                        "ticks": "",
                        "zerolinecolor": "white"
                      },
                      "zaxis": {
                        "backgroundcolor": "#E5ECF6",
                        "gridcolor": "white",
                        "gridwidth": 2,
                        "linecolor": "white",
                        "showbackground": true,
                        "ticks": "",
                        "zerolinecolor": "white"
                      }
                    },
                    "shapedefaults": {
                      "line": {
                        "color": "#2a3f5f"
                      }
                    },
                    "ternary": {
                      "aaxis": {
                        "gridcolor": "white",
                        "linecolor": "white",
                        "ticks": ""
                      },
                      "baxis": {
                        "gridcolor": "white",
                        "linecolor": "white",
                        "ticks": ""
                      },
                      "bgcolor": "#E5ECF6",
                      "caxis": {
                        "gridcolor": "white",
                        "linecolor": "white",
                        "ticks": ""
                      }
                    },
                    "title": {
                      "x": 0.05
                    },
                    "xaxis": {
                      "automargin": true,
                      "gridcolor": "white",
                      "linecolor": "white",
                      "ticks": "",
                      "title": {
                        "standoff": 15
                      },
                      "zerolinecolor": "white",
                      "zerolinewidth": 2
                    },
                    "yaxis": {
                      "automargin": true,
                      "gridcolor": "white",
                      "linecolor": "white",
                      "ticks": "",
                      "title": {
                        "standoff": 15
                      },
                      "zerolinecolor": "white",
                      "zerolinewidth": 2
                    }
                  }
                },
                "title": {
                  "text": "Impact vs Stability"
                },
                "xaxis": {
                  "anchor": "y",
                  "domain": [
                    0,
                    1
                  ],
                  "title": {
                    "text": "Stability"
                  }
                },
                "yaxis": {
                  "anchor": "x",
                  "domain": [
                    0,
                    1
                  ],
                  "title": {
                    "text": "Impact"
                  }
                }
              }
            }
          },
          "metadata": {},
          "output_type": "display_data"
        },
        {
          "data": {
            "application/vnd.jupyter.widget-view+json": {
              "model_id": "7b5c5188ac7647e5b53c4f3407705b33",
              "version_major": 2,
              "version_minor": 0
            },
            "text/plain": [
              "HBox(children=(Button(description='Update Plot', style=ButtonStyle()), FloatSlider(value=0.5, description='αHF…"
            ]
          },
          "metadata": {},
          "output_type": "display_data"
        }
      ],
      "source": [
        "import pandas as pd\n",
        "import plotly.express as px\n",
        "import ipywidgets as widgets\n",
        "from ipywidgets import interact\n",
        "from IPython.display import clear_output\n",
        "import plotly.graph_objects as go\n",
        "\n",
        "def update_plot(alpha1, alpha2, alpha3, alpha4):\n",
        "    \n",
        "    filtered_df = df[(df['Sensitivity (Health Facility)'] == alpha1) &\n",
        "                     (df['Sensitivity (Caesarean)'] == alpha2) &\n",
        "                     (df['Sensitivity (Leprosy Female)'] == alpha3) &\n",
        "                     (df['Sensitivity (TB Female)'] == alpha4)]\n",
        "\n",
        "    fig = px.scatter(filtered_df, x= 'New Stability', y='Impact', title='Impact vs Stability',\n",
        "                     labels={'Impact': 'Impact', 'New Stability': 'Stability'},\n",
        "                     text='Abbreviation', opacity=1,color_discrete_sequence=['darkblue'])\n",
        "\n",
        "    fig.update_traces(textposition='top center', textfont=dict(size=11))\n",
        "\n",
        "    fig.update_layout(\n",
        "        annotations=[\n",
        "            dict(\n",
        "                x=0.5,\n",
        "                y=-0.25,\n",
        "                showarrow=False,\n",
        "                text=f'α<sub>HF</sub>: {alpha1:.2f}, α<sub>CS</sub>: {alpha2:.2f}, α<sub>LP</sub>: {alpha3:.2f}, α<sub>TB</sub>: {alpha4:.2f}',\n",
        "                xref=\"paper\",\n",
        "                yref=\"paper\",\n",
        "                font=dict(size=13)\n",
        "            )\n",
        "        ],\n",
        "        legend_title_text='Districts',\n",
        "        legend_title=dict(font=dict(size=12)),\n",
        "    )\n",
        "\n",
        "    legend_labels = [{'Abbreviation': abb, 'Full Form': full_form} \n",
        "                     for abb, full_form in zip(filtered_df['Abbreviation'].unique(), filtered_df['KGISDist 1'].unique())]\n",
        "\n",
        "    for label in legend_labels:\n",
        "        fig.add_trace(go.Scatter(\n",
        "            x=[None],\n",
        "            y=[None],\n",
        "            mode='markers',\n",
        "            marker=dict(color='darkblue'),\n",
        "            name=f\"{label['Abbreviation']}: {label['Full Form']}\"\n",
        "        ))\n",
        "\n",
        "    avg_stability = filtered_df['New Stability'].mean()\n",
        "    avg_impact = filtered_df['Impact'].mean()\n",
        "\n",
        "    fig.add_shape(\n",
        "        type='line',\n",
        "        x0=avg_stability, y0=0, x1=avg_stability, y1=1,\n",
        "        line=dict(color='red', width=1.5, dash='dash'),\n",
        "        yref='paper'\n",
        "    )\n",
        "\n",
        "    fig.add_shape(\n",
        "        type='line',\n",
        "        x0=0, y0=avg_impact, x1=1, y1=avg_impact,\n",
        "        line=dict(color='red', width=1.5, dash='dash'),\n",
        "        xref='paper'\n",
        "    )\n",
        "\n",
        "    fig.add_trace(go.Scatter(\n",
        "        x=[avg_stability],\n",
        "        y=[-0.07],\n",
        "        text=[f'Avg Stability: {avg_stability:.2f}'],\n",
        "        mode=\"text\",\n",
        "        showlegend=False,\n",
        "        textfont=dict(size=10.7)\n",
        "    ))\n",
        "\n",
        "    fig.add_trace(go.Scatter(\n",
        "        x=[0.3],\n",
        "        y=[avg_impact-0.04],\n",
        "        text=[f'Avg Impact: {avg_impact:.2f}'],\n",
        "        mode=\"text\",\n",
        "        showlegend=False,\n",
        "        textfont=dict(size=10.7)\n",
        "    ))\n",
        "\n",
        "    clear_output()\n",
        "\n",
        "    display(fig)\n",
        "    \n",
        "alpha1_slider = widgets.FloatSlider(value=0.5, min=0, max=1, step=0.1, description='αHF:')\n",
        "alpha2_slider = widgets.FloatSlider(value=0.5, min=0, max=1, step=0.1, description='αCS:')\n",
        "alpha3_slider = widgets.FloatSlider(value=0.5, min=0, max=1, step=0.1, description='αLP:')\n",
        "alpha4_slider = widgets.FloatSlider(value=0.5, min=0, max=1, step=0.1, description='αTB:')\n",
        "\n",
        "interactive_plot = interact(update_plot, alpha1=alpha1_slider, alpha2=alpha2_slider, alpha3=alpha3_slider, alpha4=alpha4_slider, __manual=True)\n",
        "update_button = widgets.Button(description=\"Update Plot\")\n",
        "update_button.on_click(lambda _: update_plot(alpha1_slider.value, alpha2_slider.value, alpha3_slider.value, alpha4_slider.value))\n",
        "widgets.HBox([update_button, alpha1_slider, alpha2_slider, alpha3_slider, alpha4_slider])\n"
      ]
    },
    {
      "cell_type": "code",
      "execution_count": 54,
      "metadata": {},
      "outputs": [],
      "source": [
        "# import pandas as pd\n",
        "# import plotly.express as px\n",
        "# import ipywidgets as widgets\n",
        "# from ipywidgets import interact\n",
        "# from IPython.display import clear_output\n",
        "\n",
        "# # Function to update the plot based on alpha values\n",
        "# def update_plot(alpha1, alpha2, alpha3, alpha4):\n",
        "#     # Filter the dataset based on the selected alpha values\n",
        "#     filtered_df = df[(df['Sensitivity (Health Facility)'] == alpha1) &\n",
        "#                      (df['Sensitivity (Caesarean)'] == alpha2) &\n",
        "#                      (df['Sensitivity (Leprosy Female)'] == alpha3) &\n",
        "#                      (df['Sensitivity (TB Female)'] == alpha4)]\n",
        "\n",
        "#     fig = px.scatter(filtered_df, x='New Stability', y='Impact', title='Stability vs Impact',\n",
        "#                      labels={'Impact': 'Impact', 'New Stability': 'Stability'},\n",
        "#                      text='KGISDist 1', opacity=1,\n",
        "#                      color='KGISDist 1', color_discrete_sequence=['darkblue']\n",
        "#                      )   # Include district names in labels\n",
        "\n",
        "#     # Customize the layout to make text labels visible\n",
        "#     fig.update_traces(textposition='top center', showlegend=False)\n",
        "#     fig.update_layout(annotations=[\n",
        "#         dict(\n",
        "#             x=0.5,\n",
        "#             y=-0.25,\n",
        "#             showarrow=False,\n",
        "#             text=f'Alpha 1: {alpha1}, Alpha 2: {alpha2}, Alpha 3: {alpha3}, Alpha 4: {alpha4}',\n",
        "#             xref=\"paper\",\n",
        "#             yref=\"paper\"\n",
        "#         )])\n",
        "\n",
        "#     # Add average lines\n",
        "#     avg_stability = filtered_df['New Stability'].mean()\n",
        "#     avg_impact = filtered_df['Impact'].mean()\n",
        "\n",
        "#     fig.add_shape(\n",
        "#         type='line',\n",
        "#         x0=avg_stability, y0=0, x1=avg_stability, y1=1,\n",
        "#         line=dict(color='red', width=2),\n",
        "#         yref='paper'\n",
        "#     )\n",
        "\n",
        "#     fig.add_shape(\n",
        "#         type='line',\n",
        "#         x0=0, y0=avg_impact, x1=1, y1=avg_impact,\n",
        "#         line=dict(color='red', width=2),\n",
        "#         xref='paper'\n",
        "#     )\n",
        "\n",
        "#     # Add text annotations\n",
        "#     fig.add_trace(go.Scatter(\n",
        "#         x=[avg_stability],\n",
        "#         y=[0],\n",
        "#         text=[f'Avg Stability: {avg_stability:.2f}'],\n",
        "#         mode=\"text\",\n",
        "#     ))\n",
        "\n",
        "#     fig.add_trace(go.Scatter(\n",
        "#         x=[0.1],\n",
        "#         y=[avg_impact-0.07],\n",
        "#         text=[f'Avg Impact: {avg_impact:.2f}'],\n",
        "#         mode=\"text\",\n",
        "#     ))\n",
        "\n",
        "#     # Clear the output cell to remove the old plot\n",
        "#     clear_output()\n",
        "#     # Display the new plot\n",
        "#     display(fig)\n",
        "\n",
        "# # Create sliders for alphas\n",
        "# alpha1_slider = widgets.FloatSlider(value=0.5, min=0, max=1, step=0.1, description='Alpha 1:')\n",
        "# alpha2_slider = widgets.FloatSlider(value=0.5, min=0, max=1, step=0.1, description='Alpha 2:')\n",
        "# alpha3_slider = widgets.FloatSlider(value=0.5, min=0, max=1, step=0.1, description='Alpha 3:')\n",
        "# alpha4_slider = widgets.FloatSlider(value=0.5, min=0, max=1, step=0.1, description='Alpha 4:')\n",
        "\n",
        "# # Create button to update plot\n",
        "# update_button = widgets.Button(description=\"Update Plot\")\n",
        "# update_button.on_click(lambda _: update_plot(alpha1_slider.value, alpha2_slider.value, alpha3_slider.value, alpha4_slider.value))\n",
        "\n",
        "# # Organize sliders and button in a vertical box\n",
        "# controls_box = widgets.VBox([alpha1_slider, alpha2_slider, alpha3_slider, alpha4_slider, update_button])\n",
        "\n",
        "# # Display the initial plot\n",
        "# update_plot(alpha1_slider.value, alpha2_slider.value, alpha3_slider.value, alpha4_slider.value)\n",
        "\n",
        "# # Display the sliders and button below the plot\n",
        "# widgets.VBox([controls_box])\n"
      ]
    },
    {
      "cell_type": "code",
      "execution_count": 55,
      "metadata": {},
      "outputs": [],
      "source": [
        "# import pandas as pd\n",
        "\n",
        "# def convert_xlsx_to_csv(xlsx_file, csv_file):\n",
        "#     # Read the Excel file into a pandas DataFrame\n",
        "#     df = pd.read_excel(xlsx_file)\n",
        "\n",
        "#     # Save the DataFrame to a CSV file\n",
        "#     df.to_csv(csv_file, index=False)\n",
        "\n",
        "# # Replace 'input_file.xlsx' with the path to your Excel file and 'output_file.csv' with the desired CSV file name\n",
        "# xlsx_file_path = 'x_col_new_all_comb_5.xlsx'\n",
        "# csv_file_path = 'x_col_new_all_comb_5_c.csv'\n",
        "\n",
        "# convert_xlsx_to_csv(xlsx_file_path, csv_file_path)"
      ]
    }
  ],
  "metadata": {
    "colab": {
      "provenance": []
    },
    "kernelspec": {
      "display_name": "Python 3",
      "name": "python3"
    },
    "language_info": {
      "codemirror_mode": {
        "name": "ipython",
        "version": 3
      },
      "file_extension": ".py",
      "mimetype": "text/x-python",
      "name": "python",
      "nbconvert_exporter": "python",
      "pygments_lexer": "ipython3",
      "version": "3.9.13"
    }
  },
  "nbformat": 4,
  "nbformat_minor": 0
}
