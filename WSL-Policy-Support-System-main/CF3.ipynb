{
 "cells": [
  {
   "cell_type": "code",
   "execution_count": 3,
   "metadata": {},
   "outputs": [],
   "source": [
    "import pandas as pd\n",
    "from sklearn import linear_model\n",
    "import matplotlib.pyplot as plt\n",
    "import numpy as np\n",
    "import statsmodels.api as sm\n",
    "from sklearn.model_selection import train_test_split\n",
    "from statsmodels.stats.outliers_influence import summary_table"
   ]
  },
  {
   "cell_type": "code",
   "execution_count": 51,
   "metadata": {},
   "outputs": [],
   "source": [
    "imr_filtered_list = [\"Mothers who haven't had at least 4 antenatal care visits(%)\", \"People living in Kutchha Houses (%)\", \"Households with Not even one household member has completed six years of schooling\", \"Children age 9-35 months who didn't receive vitamin A dose(%)\"]\n",
    "mmr_filtered_list = [\"Received Health Insurance (%)\", \"MPI(%)\", \"Deprivation % - Households with no sanitation facility\", \"No of Pregnant women age 15-49 years who are anaemic(%)\", \"Deprivation % - Households that have inadequate housing material in either floor, roofor wall\", \"Deprivation % - Households with adult between 15-49 whose BMI is below normal or children under 5 years who are stunted or wasted\", \"Deprivation % - Households with with any woman has not received at least 4 antenatal care visits for the most recent birth or has not received assistance from trained skilled medical personnel during the most recent childbirth.\"]\n",
    "paw_filtered_list = [\"Total children age 6-23 months receiving an adequate diet (%)\", \"Children with diarrhoea  who received oral rehydration salts (ORS)(%)\", \"Children under 5 years who are underweight (weight-for-age) (%)\", \"Medical officer-MBBS - Deficit\", \"Health Assistant (male/female) - Deficit\", \"Deprivation % - Households with adult between 15-49 whose BMI is below normal or children under 5 years who are stunted or wasted\", \"Deprivation % - Households with with any woman has not received at least 4 antenatal care visits for the most recent birth or has not received assistance from trained skilled medical personnel during the most recent childbirth.\", \"Deprivation % - Households with Not even one household member has completed six years of schooling.\", \"Deprivation % - Households with Any school age children not attending school (6-14)\", \"Deprivation % - Households that have inadequate housing material in either floor, roofor wall\", \"Deprivation % - Households that cook using solid fuel\", \"Deprivation % - Households with no sanitation facility\", \"Children age 6 to 59 months who are stunted (height-for-age) (%)\", \"Children age 6 to 59 months who are severely wasted (weight-for-height) (%)\", \"Children under age 6 months exclusively breastfed(%)\", \"Children age 9-35 months who received a vitamin A dose(%)\", \"Children age 12-23 months fully vaccinated based(%)\", \"Gap in CHC Labtech\", \"Gap in PHC Doctor\", \"Gap in PHC Labtech\", \"Gap in PHC Pharmacist\", \"Gap in PHC Staff Nurse\", \"Gap in number of Subcentre\" ]\n",
    "file_list = ['PIA_Normalized_IMR.xlsx', 'PIA_Normalized_MMR.xlsx', 'Pregnant Anaemic Women PIA.xlsx']\n",
    "X_list = ['Infant Mortality Rate', 'Maternal Mortality Rate', '%Pregnant women age 15-49 years who are anaemic ']"
   ]
  },
  {
   "cell_type": "code",
   "execution_count": 50,
   "metadata": {},
   "outputs": [],
   "source": [
    "df = pd.read_excel('PIA_Normalized_IMR.xlsx')"
   ]
  },
  {
   "cell_type": "code",
   "execution_count": 53,
   "metadata": {},
   "outputs": [],
   "source": [
    "reg2 = sm.OLS(df[X_list[0]], sm.add_constant(df[[\"Mothers who haven't had at least 4 antenatal care visits(%)\", \"People living in Kutchha Houses (%)\", \"Households with Not even one household member has completed six years of schooling\", \"Children age 9-35 months who didn't receive vitamin A dose(%)\"]])).fit()"
   ]
  },
  {
   "cell_type": "code",
   "execution_count": 41,
   "metadata": {},
   "outputs": [],
   "source": [
    "to_excel = []\n",
    "arr = ['b0(intercept)', 'IMR f1 slope', 'IMR f1 p-value', 'IMR f2 slope', 'IMR f2 p-value', 'IMR f3 slope', 'IMR f3 p-value', 'IMR f4 slope', 'IMR f4 p-value']\n",
    "to_excel.append(arr)\n",
    "temp_arr = []\n",
    "b0 = reg2.summary2().tables[1]['Coef.']['const']\n",
    "temp_arr.append(b0)\n",
    "\n",
    "b1 = reg2.summary2().tables[1]['Coef.'][\"Mothers who haven't had at least 4 antenatal care visits(%)\"]\n",
    "temp_arr.append(b1)\n",
    "b1_p_value = reg2.summary2().tables[1]['P>|t|'][\"Mothers who haven't had at least 4 antenatal care visits(%)\"]\n",
    "temp_arr.append(b1_p_value)\n",
    "\n",
    "b2 = reg2.summary2().tables[1]['Coef.'][\"People living in Kutchha Houses (%)\"]\n",
    "temp_arr.append(b2)\n",
    "b2_p_value = reg2.summary2().tables[1]['P>|t|'][\"People living in Kutchha Houses (%)\"]\n",
    "temp_arr.append(b2_p_value)\n",
    "\n",
    "b3 = reg2.summary2().tables[1]['Coef.'][\"Households with Not even one household member has completed six years of schooling\"]\n",
    "temp_arr.append(b3)\n",
    "b3_p_value = reg2.summary2().tables[1]['P>|t|'][\"Households with Not even one household member has completed six years of schooling\"]\n",
    "temp_arr.append(b3_p_value)\n",
    "\n",
    "b4 = reg2.summary2().tables[1]['Coef.'][\"Children age 9-35 months who didn't receive vitamin A dose(%)\"]\n",
    "temp_arr.append(b4)\n",
    "b4_p_value = reg2.summary2().tables[1]['P>|t|'][\"Children age 9-35 months who didn't receive vitamin A dose(%)\"]\n",
    "temp_arr.append(b4_p_value)\n",
    "\n",
    "\n",
    "to_excel.append(temp_arr)"
   ]
  },
  {
   "cell_type": "code",
   "execution_count": 42,
   "metadata": {},
   "outputs": [
    {
     "data": {
      "text/plain": [
       "[['b0(intercept)',\n",
       "  'IMR f1 slope',\n",
       "  'IMR f1 p-value',\n",
       "  'IMR f2 slope',\n",
       "  'IMR f2 p-value',\n",
       "  'IMR f3 slope',\n",
       "  'IMR f3 p-value',\n",
       "  'IMR f4 slope',\n",
       "  'IMR f4 p-value'],\n",
       " [5.877543212194372,\n",
       "  0.1807415520796729,\n",
       "  0.2160166080441362,\n",
       "  0.004307801155510064,\n",
       "  0.9652868237061614,\n",
       "  1.069271273915448,\n",
       "  0.0009750958063034776,\n",
       "  0.04909048099512635,\n",
       "  0.6891733518736055]]"
      ]
     },
     "execution_count": 42,
     "metadata": {},
     "output_type": "execute_result"
    }
   ],
   "source": [
    "to_excel"
   ]
  },
  {
   "cell_type": "code",
   "execution_count": 48,
   "metadata": {},
   "outputs": [],
   "source": [
    "factors = to_excel[:1]\n",
    "data = to_excel[1]\n",
    "df2 = pd.DataFrame(to_excel[1:], columns=to_excel[0])\n",
    "df2.to_excel(\"IMR_CaseFile3.xlsx\")"
   ]
  }
 ],
 "metadata": {
  "kernelspec": {
   "display_name": "Python 3",
   "language": "python",
   "name": "python3"
  },
  "language_info": {
   "codemirror_mode": {
    "name": "ipython",
    "version": 3
   },
   "file_extension": ".py",
   "mimetype": "text/x-python",
   "name": "python",
   "nbconvert_exporter": "python",
   "pygments_lexer": "ipython3",
   "version": "3.10.12"
  },
  "orig_nbformat": 4
 },
 "nbformat": 4,
 "nbformat_minor": 2
}
