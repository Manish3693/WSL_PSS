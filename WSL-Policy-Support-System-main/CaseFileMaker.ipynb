{
 "cells": [
  {
   "cell_type": "code",
   "execution_count": 6,
   "id": "d463f273",
   "metadata": {},
   "outputs": [],
   "source": [
    "import pandas as pd\n",
    "from sklearn import linear_model\n",
    "import matplotlib.pyplot as plt\n",
    "import numpy as np\n",
    "from sklearn.model_selection import train_test_split"
   ]
  },
  {
   "cell_type": "code",
   "execution_count": 15,
   "id": "e6b4c5d2",
   "metadata": {},
   "outputs": [
    {
     "data": {
      "text/plain": [
       "'Normalized IMR'"
      ]
     },
     "execution_count": 15,
     "metadata": {},
     "output_type": "execute_result"
    }
   ],
   "source": [
    "df = pd.read_excel('PIA_Normalized_IMR.xlsx')\n",
    "column_names = df.columns.tolist()\n",
    "filtered_list = [s for s in column_names if s.split()[0] == 'Normalized']\n",
    "dict = {}\n",
    "for i in range(len(filtered_list)):\n",
    "    dict[i] = filtered_list[i]\n",
    "dict.pop(0)"
   ]
  },
  {
   "cell_type": "code",
   "execution_count": 16,
   "id": "80f93b16",
   "metadata": {},
   "outputs": [],
   "source": [
    "X = pd.Series(df['Normalized IMR'])\n",
    "X = X.to_frame()\n",
    "to_excel_arr = [['Slope', 'Intercept', 'p-value', 'R-squared']]\n",
    "for i in range(len(dict)):\n",
    "    Y = pd.Series(df[dict[i+1]])\n",
    "    Y = Y.to_frame()\n",
    "    #split the data into test and train\n",
    "    X_train, X_test, Y_train, Y_test = train_test_split(X, Y, test_size = 0.3)\n",
    "    reg = linear_model.LinearRegression()\n",
    "    reg.fit(X_train, Y_train)\n",
    "    arr = [reg.coef_, reg.intercept_, 0, reg.score(X_test, Y_test)]\n",
    "    to_excel_arr.append(arr)"
   ]
  },
  {
   "cell_type": "code",
   "execution_count": 17,
   "id": "46981c5a",
   "metadata": {},
   "outputs": [],
   "source": [
    "output = pd.DataFrame(to_excel_arr[1:], columns=to_excel_arr[0])\n",
    "output.to_excel(\"CaseFile2.xlsx\", index=False)"
   ]
  },
  {
   "cell_type": "code",
   "execution_count": 27,
   "id": "d4f32c18",
   "metadata": {},
   "outputs": [],
   "source": [
    "df_2 = pd.DataFrame.from_dict(dict, orient='index')\n",
    "df_2.to_excel(\"CaseFile1.xlsx\", index=True)"
   ]
  }
 ],
 "metadata": {
  "kernelspec": {
   "display_name": "Python 3 (ipykernel)",
   "language": "python",
   "name": "python3"
  },
  "language_info": {
   "codemirror_mode": {
    "name": "ipython",
    "version": 3
   },
   "file_extension": ".py",
   "mimetype": "text/x-python",
   "name": "python",
   "nbconvert_exporter": "python",
   "pygments_lexer": "ipython3",
   "version": "3.10.12"
  }
 },
 "nbformat": 4,
 "nbformat_minor": 5
}
