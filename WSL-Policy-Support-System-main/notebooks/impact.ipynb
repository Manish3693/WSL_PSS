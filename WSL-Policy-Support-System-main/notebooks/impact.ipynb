{
 "cells": [
  {
   "cell_type": "code",
   "execution_count": 6,
   "metadata": {},
   "outputs": [],
   "source": [
    "import pandas as pd\n",
    "import numpy as np\n",
    "import networkx as nx\n",
    "from collections import defaultdict\n",
    "import math"
   ]
  },
  {
   "cell_type": "code",
   "execution_count": 7,
   "metadata": {},
   "outputs": [],
   "source": [
    "df = pd.read_excel('../input_files/PIA_Normalized_IMR.xlsx')"
   ]
  },
  {
   "cell_type": "code",
   "execution_count": 8,
   "metadata": {},
   "outputs": [],
   "source": [
    "df2 = pd.read_excel('../input_files/3d_new_impact.xlsx')"
   ]
  },
  {
   "cell_type": "code",
   "execution_count": 9,
   "metadata": {},
   "outputs": [],
   "source": [
    "temp_list = ['-2', '-1', '+1', '+2']"
   ]
  },
  {
   "cell_type": "code",
   "execution_count": 10,
   "metadata": {},
   "outputs": [],
   "source": [
    "def calculate_impact(df, imr, mmr, paw, i):\n",
    "    imr_head = 'IMR HI ' + i + '0% | Predicted Change'\n",
    "    mmr_head = 'MMR HI ' + i + '0% | Predicted Change'\n",
    "    paw_head = 'PAW HI ' + i + '0% | Predicted Change'\n",
    "    \n",
    "    imr_max = max(df[imr_head])\n",
    "    imr_min = min(df[imr_head])\n",
    "    \n",
    "    mmr_max = max(df[mmr_head])\n",
    "    mmr_min = min(df[mmr_head])\n",
    "    \n",
    "    paw_max = max(df[paw_head])\n",
    "    paw_min = min(df[paw_head])\n",
    "    \n",
    "    net_max = max(imr_max, mmr_max, paw_max)\n",
    "    net_min = min(imr_min, mmr_min, paw_min)\n",
    "\n",
    "    for j in range(len(df)):\n",
    "        if df[imr_head][j] > 0 :\n",
    "            impact_imr = df[imr_head][j]/net_max\n",
    "            imr.append(impact_imr)\n",
    "        else:\n",
    "            impact_imr = df[imr_head][j]/net_min\n",
    "            imr.append(impact_imr)\n",
    "        \n",
    "        if df[mmr_head][j] > 0 :\n",
    "            impact_mmr = df[mmr_head][j]/net_max\n",
    "            mmr.append(impact_mmr)\n",
    "        else:\n",
    "            impact_mmr = df[mmr_head][j]/net_min\n",
    "            mmr.append(impact_mmr)\n",
    "        \n",
    "        if df[paw_head][j] > 0 :\n",
    "            impact_paw = df[paw_head][j]/net_max\n",
    "            paw.append(impact_paw)\n",
    "        else:\n",
    "            impact_paw = df[paw_head][j]/net_min\n",
    "            paw.append(impact_paw)\n",
    "        "
   ]
  },
  {
   "cell_type": "code",
   "execution_count": 11,
   "metadata": {},
   "outputs": [],
   "source": [
    "df_impact = pd.DataFrame()\n",
    "df_impact['Taluka'] = df2['Taluka']\n",
    "df_impact['District'] = df2['District_GIS']"
   ]
  },
  {
   "cell_type": "code",
   "execution_count": 12,
   "metadata": {},
   "outputs": [],
   "source": [
    "for i in temp_list:\n",
    "    imr = []\n",
    "    mmr = []\n",
    "    paw = []\n",
    "    imr_head = 'IMR HI ' + i + '0% | Impact'\n",
    "    mmr_head = 'MMR HI ' + i + '0% | Impact'\n",
    "    paw_head = 'PAW HI ' + i + '0% | Impact'\n",
    "    dict = calculate_impact(df2, imr, mmr, paw, i)\n",
    "    df_impact[imr_head] = imr\n",
    "    df_impact[mmr_head] = mmr\n",
    "    df_impact[paw_head] = paw"
   ]
  },
  {
   "cell_type": "code",
   "execution_count": 13,
   "metadata": {},
   "outputs": [
    {
     "name": "stderr",
     "output_type": "stream",
     "text": [
      "C:\\Users\\manis\\AppData\\Local\\Temp\\ipykernel_20572\\155124714.py:3: SettingWithCopyWarning: \n",
      "A value is trying to be set on a copy of a slice from a DataFrame\n",
      "\n",
      "See the caveats in the documentation: https://pandas.pydata.org/pandas-docs/stable/user_guide/indexing.html#returning-a-view-versus-a-copy\n",
      "  df_impact['Taluka'][i] = df_impact['Taluka'][i].lower()\n"
     ]
    }
   ],
   "source": [
    "df_impact = df_impact.drop(226)\n",
    "for i in range(len(df_impact)):\n",
    "    df_impact['Taluka'][i] = df_impact['Taluka'][i].lower()"
   ]
  },
  {
   "cell_type": "code",
   "execution_count": 14,
   "metadata": {},
   "outputs": [],
   "source": [
    "df_impact.to_excel('3d_Impact_scaled.xlsx')"
   ]
  }
 ],
 "metadata": {
  "kernelspec": {
   "display_name": "Python 3",
   "language": "python",
   "name": "python3"
  },
  "language_info": {
   "codemirror_mode": {
    "name": "ipython",
    "version": 3
   },
   "file_extension": ".py",
   "mimetype": "text/x-python",
   "name": "python",
   "nbconvert_exporter": "python",
   "pygments_lexer": "ipython3",
   "version": "3.9.13"
  },
  "orig_nbformat": 4
 },
 "nbformat": 4,
 "nbformat_minor": 2
}
